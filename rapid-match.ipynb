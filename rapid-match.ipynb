{
 "metadata": {
  "language_info": {
   "codemirror_mode": {
    "name": "ipython",
    "version": 3
   },
   "file_extension": ".py",
   "mimetype": "text/x-python",
   "name": "python",
   "nbconvert_exporter": "python",
   "pygments_lexer": "ipython3",
   "version": "3.8.5-final"
  },
  "orig_nbformat": 2,
  "kernelspec": {
   "name": "python3",
   "display_name": "Python 3.8.5 64-bit",
   "metadata": {
    "interpreter": {
     "hash": "31f2aee4e71d21fbe5cf8b01ff0e069b9275f58929596ceb00d14d90e3e16cd6"
    }
   }
  }
 },
 "nbformat": 4,
 "nbformat_minor": 2,
 "cells": [
  {
   "cell_type": "code",
   "execution_count": 4,
   "metadata": {},
   "outputs": [],
   "source": [
    "from fuzzywuzzy import fuzz as fw_fuzz, process as fw_process\n",
    "from rapidfuzz import fuzz as rapid_fuzz, process as rapid_process\n",
    "import Levenshtein\n",
    "import pandas as pd\n",
    "import numpy as np\n",
    "from timeit import default_timer as timer\n",
    "from functools import wraps\n",
    "import ipywidgets as widgets\n",
    "import requests"
   ]
  },
  {
   "cell_type": "code",
   "execution_count": 5,
   "metadata": {},
   "outputs": [],
   "source": [
    "def print_timing(f):\n",
    "    @wraps(f)\n",
    "    def inner(*args, **kwargs):\n",
    "        t0 = timer()\n",
    "        try:\n",
    "            return f(*args, **kwargs)\n",
    "        finally:\n",
    "            print(f\"\\n{f.__name__} finished in {1e3*(timer()-t0):.1f} ms\")\n",
    "    return inner"
   ]
  },
  {
   "cell_type": "code",
   "execution_count": 6,
   "metadata": {},
   "outputs": [],
   "source": [
    "all_companies_content = requests.get(\"https://www.sec.gov/Archives/edgar/cik-lookup-data.txt\").content.decode(\"latin1\")\n",
    "all_companies_array = all_companies_content.split(\"\\n\")\n",
    "\n",
    "# remove records that can't be converted to dictionary (has : in companyname)\n",
    "l=len(all_companies_array)-1\n",
    "for i in reversed(all_companies_array):\n",
    "    semicol = i.count(\":\")\n",
    "    if semicol != 2:\n",
    "        # print(all_companies_array[l],\"has\",semicol,\"delimiters! Deleting...\")\n",
    "        del all_companies_array[l]\n",
    "    l=l-1\n",
    "\n",
    "all_companies_arra = [i[:-1] for i in all_companies_array] #remove trailing :\n",
    "all_companies_cik_dict=dict(item.split(\":\") for item in all_companies_arra)"
   ]
  },
  {
   "cell_type": "code",
   "execution_count": 7,
   "metadata": {},
   "outputs": [
    {
     "output_type": "display_data",
     "data": {
      "text/plain": "interactive(children=(Text(value='', description='input_text'), Output()), _dom_classes=('widget-interact',))",
      "application/vnd.jupyter.widget-view+json": {
       "version_major": 2,
       "version_minor": 0,
       "model_id": "2646e5b515aa47de91e6b81035122276"
      }
     },
     "metadata": {}
    },
    {
     "output_type": "execute_result",
     "data": {
      "text/plain": [
       "<function __main__.interact_companyName(input_text)>"
      ]
     },
     "metadata": {},
     "execution_count": 7
    }
   ],
   "source": [
    "@print_timing\n",
    "def rapid_companyName(input_text):\n",
    "    if not input_text: return\n",
    "    for company, match_score, _ in rapid_process.extract(input_text, all_companies_arra, limit=10):\n",
    "        print(f\"{company:60}{match_score:3.2f}\")\n",
    "\n",
    "widgets.interact(rapid_companyName, input_text=\"\")"
   ]
  },
  {
   "cell_type": "code",
   "execution_count": 10,
   "metadata": {},
   "outputs": [
    {
     "output_type": "display_data",
     "data": {
      "text/plain": "interactive(children=(Text(value='', description='input_text'), Output()), _dom_classes=('widget-interact',))",
      "application/vnd.jupyter.widget-view+json": {
       "version_major": 2,
       "version_minor": 0,
       "model_id": "41adfb5116274ea7a60af1e7245e8f01"
      }
     },
     "metadata": {}
    },
    {
     "output_type": "execute_result",
     "data": {
      "text/plain": [
       "<function __main__.fuzzywozzy_companyName(input_text)>"
      ]
     },
     "metadata": {},
     "execution_count": 10
    }
   ],
   "source": [
    "@print_timing\n",
    "def fuzzywozzy_companyName(input_text):\n",
    "    if not input_text: return\n",
    "    for company, match_score in fw_process.extract(input_text, all_companies_arra, limit=10):\n",
    "        print(f\"{company:60}{match_score:3.2f}\")\n",
    "\n",
    "widgets.interact(fuzzywozzy_companyName, input_text=\"\")"
   ]
  },
  {
   "cell_type": "code",
   "execution_count": null,
   "metadata": {},
   "outputs": [],
   "source": []
  }
 ]
}
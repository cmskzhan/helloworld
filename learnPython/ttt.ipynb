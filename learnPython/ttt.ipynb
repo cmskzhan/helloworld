{
 "cells": [
  {
   "cell_type": "code",
   "execution_count": 8,
   "metadata": {},
   "outputs": [
    {
     "data": {
      "text/plain": [
       "array([[ 0,  0,  0,  0],\n",
       "       [ 1,  1,  1,  1],\n",
       "       [ 2,  2,  2,  2],\n",
       "       [ 3,  3,  3,  3],\n",
       "       [ 4,  4,  4,  4],\n",
       "       [ 5,  5,  5,  5],\n",
       "       [ 6,  6,  6,  6],\n",
       "       [ 7,  7,  7,  7],\n",
       "       [ 8,  8,  8,  8],\n",
       "       [ 9,  9,  9,  9],\n",
       "       [10, 10, 10, 10],\n",
       "       [11, 11, 11, 11],\n",
       "       [12, 12, 12, 12],\n",
       "       [13, 13, 13, 13],\n",
       "       [14, 14, 14, 14],\n",
       "       [15, 15, 15, 15],\n",
       "       [16, 16, 16, 16],\n",
       "       [17, 17, 17, 17],\n",
       "       [18, 18, 18, 18],\n",
       "       [19, 19, 19, 19],\n",
       "       [20, 20, 20, 20],\n",
       "       [21, 21, 21, 21],\n",
       "       [22, 22, 22, 22],\n",
       "       [23, 23, 23, 23],\n",
       "       [24, 24, 24, 24],\n",
       "       [25, 25, 25, 25],\n",
       "       [26, 26, 26, 26],\n",
       "       [27, 27, 27, 27],\n",
       "       [28, 28, 28, 28],\n",
       "       [29, 29, 29, 29]])"
      ]
     },
     "execution_count": 8,
     "metadata": {},
     "output_type": "execute_result"
    }
   ],
   "source": [
    "import numpy as np\n",
    "\n",
    "a = list(range(50))\n",
    "b = np.tile(a, (4,1)).transpose()\n",
    "b"
   ]
  },
  {
   "cell_type": "code",
   "execution_count": 20,
   "metadata": {},
   "outputs": [
    {
     "data": {
      "text/plain": [
       "array([[19, 19, 19, 19],\n",
       "       [19, 19, 19, 19],\n",
       "       [19, 19, 19, 19],\n",
       "       [19, 19, 19, 19],\n",
       "       [19, 19, 19, 19],\n",
       "       [19, 19, 19, 19],\n",
       "       [19, 19, 19, 19],\n",
       "       [19, 19, 19, 19],\n",
       "       [19, 19, 19, 19],\n",
       "       [19, 19, 19, 19],\n",
       "       [19, 19, 19, 19],\n",
       "       [19, 19, 19, 19],\n",
       "       [19, 19, 19, 19],\n",
       "       [19, 19, 19, 19],\n",
       "       [19, 19, 19, 19],\n",
       "       [19, 19, 19, 19],\n",
       "       [19, 19, 19, 19],\n",
       "       [19, 19, 19, 19],\n",
       "       [19, 19, 19, 19],\n",
       "       [19, 19, 19, 19],\n",
       "       [20, 20, 20, 20],\n",
       "       [21, 21, 21, 21],\n",
       "       [22, 22, 22, 22],\n",
       "       [23, 23, 23, 23],\n",
       "       [24, 24, 24, 24],\n",
       "       [25, 25, 25, 25],\n",
       "       [26, 26, 26, 26],\n",
       "       [27, 27, 27, 27],\n",
       "       [28, 28, 28, 28],\n",
       "       [29, 29, 29, 29]])"
      ]
     },
     "execution_count": 20,
     "metadata": {},
     "output_type": "execute_result"
    }
   ],
   "source": [
    "b[b<20] = 19\n",
    "b"
   ]
  },
  {
   "cell_type": "code",
   "execution_count": 21,
   "metadata": {},
   "outputs": [
    {
     "data": {
      "image/png": "[encoded data removed]",
      "text/plain": [
       "<Figure size 432x288 with 1 Axes>"
      ]
     },
     "metadata": {
      "needs_background": "light"
     },
     "output_type": "display_data"
    }
   ],
   "source": [
    "import matplotlib.pyplot as plt\n",
    "plt.figure()\n",
    "plt.imshow(b, origin='lower')\n",
    "plt.show()"
   ]
  },
  {
   "cell_type": "code",
   "execution_count": 18,
   "metadata": {},
   "outputs": [
    {
     "data": {
      "text/plain": [
       "[('thread-896645-1-3.html', '[50P]'),\n",
       " ('thread-896641-1-3.html', '[50P]'),\n",
       " ('thread-896640-1-3.html', '[50P]'),\n",
       " ('thread-896638-1-3.html', '[50P]'),\n",
       " ('thread-896637-1-3.html', '[50P]'),\n",
       " ('thread-896184-1-3.html',\n",
       "  '[俄罗斯美女] EternalDesire - Sonya Blaze - Summer Time [49P]'),\n",
       " ('thread-896169-1-3.html',\n",
       "  '[乌克兰美女] IStripper - Any Moloko - Afternoon Sweetie [49P]'),\n",
       " ('thread-896117-1-3.html',\n",
       "  '[乌克兰美女] MetArtX - Emily Swan - Appear to Me 1 [49P]'),\n",
       " ('thread-895221-1-3.html',\n",
       "  '[乌克兰美女] MPLStudios - Clarice - This Time Forever [49P]'),\n",
       " ('thread-893749-1-3.html', '[乌克兰女神] MetArt - Mila Azul - Role [49P]'),\n",
       " ('thread-892658-1-3.html',\n",
       "  '[委内瑞拉正妹与黑巨屌] Blacked - Ariana Van X, Agatha Vega - Invitation [49P]'),\n",
       " ('thread-892081-1-3.html',\n",
       "  '[委内瑞拉正妹与洋巨屌] Private - Agatha Vega - Fucked in Paradise [49P]'),\n",
       " ('thread-891667-1-3.html',\n",
       "  '[乌克兰美女] Watch4Beauty - Nancy A - Hidden Waterfall [49P]'),\n",
       " ('thread-890754-1-3.html',\n",
       "  '[乌克兰美女] MetArt - Clarice - Interview With Clarice [49P]'),\n",
       " ('thread-890734-1-3.html', '[俄罗斯正妹] RylskyArt - Siya - Storiya [49P]'),\n",
       " ('thread-889229-1-3.html', '[俄罗斯美女] MetArt - Georgia - Revival [49P]'),\n",
       " ('thread-887898-1-3.html', '[乌克兰美女] MetArt - Nancy A - Turn Me On [49P]'),\n",
       " ('thread-886258-1-3.html',\n",
       "  '[乌克兰美女] MPLStudios - Avery - Frisky Business [49P]'),\n",
       " ('thread-885834-1-3.html', '[乌克兰美女] FemJoy - Stefani P - Blossom [49P]'),\n",
       " ('thread-885598-1-3.html', '[50P]'),\n",
       " ('thread-885597-1-3.html', '[50P]'),\n",
       " ('thread-885595-1-3.html', '[50P]'),\n",
       " ('thread-885593-1-3.html', '[50P]'),\n",
       " ('thread-885591-1-3.html', '[50P]'),\n",
       " ('thread-884467-1-3.html', '[50P]'),\n",
       " ('thread-884466-1-3.html', '[50P]'),\n",
       " ('thread-884463-1-3.html', '[50P]'),\n",
       " ('thread-884462-1-3.html', '[50P]'),\n",
       " ('thread-884460-1-3.html', '[50P]'),\n",
       " ('thread-884335-1-3.html', '[乌克兰美女] MetArtX - Oxana Chic - Wet Job 1 [49P]')]"
      ]
     },
     "execution_count": 18,
     "metadata": {},
     "output_type": "execute_result"
    }
   ],
   "source": [
    "import requests\n",
    "import re\n",
    "\n",
    "forum_url = \"https://www.sehuatang.org/forum-49-3.html\"\n",
    "\n",
    "response = requests.get(forum_url)\n",
    "threads_url = re.findall(r\"\\<a\\shref=\\\"(?P<id>thread\\-\\d{6}-\\d-\\d\\.html)\\\"\\sonclick\\=\\\".*?(?P<content>\\[.*?)\\<\\/a\\>\", response.text, re.MULTILINE)\n",
    "threads_url"
   ]
  },
  {
   "cell_type": "code",
   "execution_count": 16,
   "metadata": {},
   "outputs": [
    {
     "name": "stdout",
     "output_type": "stream",
     "text": [
      "['https://www.sehuatang.org/thread-911693-1-2.html', 'https://www.sehuatang.org/thread-909509-1-2.html', 'https://www.sehuatang.org/thread-909171-1-2.html', 'https://www.sehuatang.org/thread-908543-1-2.html', 'https://www.sehuatang.org/thread-907072-1-2.html', 'https://www.sehuatang.org/thread-905994-1-2.html', 'https://www.sehuatang.org/thread-905970-1-2.html', 'https://www.sehuatang.org/thread-905020-1-2.html', 'https://www.sehuatang.org/thread-903737-1-2.html', 'https://www.sehuatang.org/thread-903381-1-2.html', 'https://www.sehuatang.org/thread-902798-1-2.html', 'https://www.sehuatang.org/thread-902769-1-2.html', 'https://www.sehuatang.org/thread-902766-1-2.html', 'https://www.sehuatang.org/thread-902755-1-2.html', 'https://www.sehuatang.org/thread-902753-1-2.html', 'https://www.sehuatang.org/thread-902441-1-2.html', 'https://www.sehuatang.org/thread-901783-1-2.html', 'https://www.sehuatang.org/thread-901782-1-2.html', 'https://www.sehuatang.org/thread-901781-1-2.html', 'https://www.sehuatang.org/thread-901664-1-2.html', 'https://www.sehuatang.org/thread-901563-1-2.html', 'https://www.sehuatang.org/thread-900347-1-2.html', 'https://www.sehuatang.org/thread-900319-1-2.html', 'https://www.sehuatang.org/thread-900303-1-2.html', 'https://www.sehuatang.org/thread-897856-1-2.html', 'https://www.sehuatang.org/thread-897837-1-2.html', 'https://www.sehuatang.org/thread-897835-1-2.html', 'https://www.sehuatang.org/thread-897818-1-2.html', 'https://www.sehuatang.org/thread-897815-1-2.html', 'https://www.sehuatang.org/thread-897631-1-2.html']\n"
     ]
    }
   ],
   "source": [
    "baseurl=\"https://www.sehuatang.org/\"\n",
    "htmlpages = []\n",
    "for i in threads_url:\n",
    "    htmlpages.append(baseurl+i[0])\n",
    "\n",
    "print(htmlpages)\n",
    "    "
   ]
  },
  {
   "cell_type": "code",
   "execution_count": 8,
   "metadata": {},
   "outputs": [
    {
     "data": {
      "text/plain": [
       "{'clientId': '102660536',\n",
       " 'accountId': 'QX2B3',\n",
       " 'timezoneOffset': 0,\n",
       " 'lightstreamerEndpoint': 'https://apd.marketdatasystems.com',\n",
       " 'oauthToken': {'access_token': 'af32d1b4-82b8-4c39-8e83-dee5426d93e9',\n",
       "  'refresh_token': '26d241c5-2518-421e-8fe4-5a139cb7a44e',\n",
       "  'scope': 'profile',\n",
       "  'token_type': 'Bearer',\n",
       "  'expires_in': '60'}}"
      ]
     },
     "execution_count": 8,
     "metadata": {},
     "output_type": "execute_result"
    }
   ],
   "source": [
    "import requests\n",
    "header = {'Content-Type': 'application/json; charset=UTF-8',\n",
    "        'X-IG-API-KEY': '99ff57ab7cfa0a7739b2fdb36f5cb2fc9183cf28',\n",
    "        'Version': '3',\n",
    "        'Accept': 'application/json; charset=UTF-8'}\n",
    "\n",
    "body = {\n",
    "    \"identifier\": \"shanghailondon2000\",\n",
    "    \"password\": \"Maya4pro-\"\n",
    "}\n",
    "url = 'https://api.ig.com/gateway/deal/session'\n",
    "response = requests.post(url, headers=header, json=body)\n",
    "a = response.json()\n",
    "a"
   ]
  },
  {
   "cell_type": "code",
   "execution_count": 9,
   "metadata": {},
   "outputs": [
    {
     "data": {
      "text/plain": [
       "'{\"errorCode\":\"error.public-api.failure.stockbroking-not-supported\"}'"
      ]
     },
     "execution_count": 9,
     "metadata": {},
     "output_type": "execute_result"
    }
   ],
   "source": [
    "header = {'Content-Type': 'application/json; charset=UTF-8',\n",
    "        'Accept': 'application/json; charset=UTF-8', \n",
    "        'X-IG-API-KEY': '99ff57ab7cfa0a7739b2fdb36f5cb2fc9183cf28',\n",
    "        'Version': '1',\n",
    "        'IG-ACCOUNT-ID': 'QX2B3',\n",
    "        'Authorization': 'Bearer '+a['oauthToken']['access_token']}\n",
    "\n",
    "url = 'https://api.ig.com/gateway/deal/accounts'\n",
    "response = requests.get(url, headers=header)\n",
    "b = response.text\n",
    "b"
   ]
  },
  {
   "cell_type": "code",
   "execution_count": 6,
   "metadata": {},
   "outputs": [
    {
     "name": "stdout",
     "output_type": "stream",
     "text": [
      "0:00:00.000150\n"
     ]
    },
    {
     "name": "stdout",
     "output_type": "stream",
     "text": [
      "starting async 3 sleep 😴\n",
      "starting async 6 sleep 😴\n",
      "finished async 3 sleep ⏰\n",
      "finished async 6 sleep ⏰\n",
      "[3, 6]\n"
     ]
    }
   ],
   "source": [
    "import asyncio\n",
    "import click\n",
    "import time\n",
    "from datetime import datetime\n",
    "\n",
    "async def sleep_and_print(seconds):\n",
    "    print(f\"starting async {seconds} sleep 😴\")\n",
    "    await asyncio.sleep(seconds)\n",
    "    print(f\"finished async {seconds} sleep ⏰\")\n",
    "    return seconds\n",
    "\n",
    "\n",
    "async def main():\n",
    "    # using arguments\n",
    "    results = await asyncio.gather(sleep_and_print(3), sleep_and_print(6))\n",
    "    print(results)\n",
    "\n",
    "\n",
    "start = datetime.now()\n",
    "loop = asyncio.get_event_loop()  # simply use asyncio.run(async_function()) in python script\n",
    "loop.create_task(main())\n",
    "click.secho(f\"{datetime.now()-start}\", bold=True, bg=\"blue\", fg=\"white\")\n"
   ]
  },
  {
   "cell_type": "code",
   "execution_count": 65,
   "metadata": {},
   "outputs": [
    {
     "name": "stdout",
     "output_type": "stream",
     "text": [
      "/mnt/f/github/helloworld/LearnPandas ['Ch01', 'Ch02', 'Ch03', 'Ch04', 'Ch05', 'Ch06', 'Ch07', 'Ch08', 'Ch09', 'Ch10', 'data'] ['kai-Pandas-notes.ipynb']\n",
      "/mnt/f/github/helloworld/LearnPandas/Ch01 ['.ipynb_checkpoints'] ['Ch01 Using pandas.ipynb']\n",
      "/mnt/f/github/helloworld/LearnPandas/Ch01/.ipynb_checkpoints [] ['Ch01 Using pandas-checkpoint.ipynb']\n",
      "/mnt/f/github/helloworld/LearnPandas/Ch02 ['.ipynb_checkpoints'] ['Ch02 Series and Dataframes Solution.ipynb', 'Ch02 Series and DataFrames.ipynb']\n",
      "/mnt/f/github/helloworld/LearnPandas/Ch02/.ipynb_checkpoints [] ['Ch02 Series and Dataframes Solution-checkpoint.ipynb', 'Ch02 Series and DataFrames-checkpoint.ipynb']\n",
      "/mnt/f/github/helloworld/LearnPandas/Ch03 ['.ipynb_checkpoints'] ['Ch03 Data input and validation.ipynb']\n",
      "/mnt/f/github/helloworld/LearnPandas/Ch03/.ipynb_checkpoints [] ['Ch03 Data input and validation-checkpoint.ipynb']\n",
      "/mnt/f/github/helloworld/LearnPandas/Ch04 ['.ipynb_checkpoints'] ['Ch04 Basic Analysis Solution.ipynb', 'Ch04 Basic Analysis.ipynb']\n",
      "/mnt/f/github/helloworld/LearnPandas/Ch04/.ipynb_checkpoints [] ['Ch04 Basic Analysis Solution-checkpoint.ipynb', 'Ch04 Basic Analysis-checkpoint.ipynb']\n",
      "/mnt/f/github/helloworld/LearnPandas/Ch05 ['.ipynb_checkpoints'] ['Ch05 Basic Plotting Solution.ipynb', 'Ch05 Basic plotting.ipynb']\n",
      "/mnt/f/github/helloworld/LearnPandas/Ch05/.ipynb_checkpoints [] ['Ch05 Basic Plotting Solution-checkpoint.ipynb', 'Ch05 Basic plotting-checkpoint.ipynb']\n",
      "/mnt/f/github/helloworld/LearnPandas/Ch06 ['.ipynb_checkpoints'] ['Ch06 Indexing Solution.ipynb', 'Ch06 Indexing.ipynb']\n",
      "/mnt/f/github/helloworld/LearnPandas/Ch06/.ipynb_checkpoints [] ['Ch06 Indexing Solution-checkpoint.ipynb', 'Ch06 Indexing-checkpoint.ipynb']\n",
      "/mnt/f/github/helloworld/LearnPandas/Ch07 ['.ipynb_checkpoints'] ['Ch07 Groupby Solution.ipynb', 'Ch07 Groupby.ipynb']\n",
      "/mnt/f/github/helloworld/LearnPandas/Ch07/.ipynb_checkpoints [] ['Ch07 Groupby Solution-checkpoint.ipynb', 'Ch07 Groupby-checkpoint.ipynb']\n",
      "/mnt/f/github/helloworld/LearnPandas/Ch08 ['.ipynb_checkpoints'] ['Ch08 Solution.ipynb', 'Ch08 stack() and unstack().ipynb']\n",
      "/mnt/f/github/helloworld/LearnPandas/Ch08/.ipynb_checkpoints [] ['Ch08 Solution-checkpoint.ipynb', 'Ch08 stack() and unstack()-checkpoint.ipynb']\n",
      "/mnt/f/github/helloworld/LearnPandas/Ch09 ['.ipynb_checkpoints'] ['Ch09 Data visualizations.ipynb']\n",
      "/mnt/f/github/helloworld/LearnPandas/Ch09/.ipynb_checkpoints [] ['Ch09 Data visualizations-checkpoint.ipynb']\n",
      "/mnt/f/github/helloworld/LearnPandas/Ch10 [] ['Ch10 Solution.ipynb']\n",
      "/mnt/f/github/helloworld/LearnPandas/data [] ['edgarDB.py', 'olympics.csv', 'selenium-test.py', 'Summer Olympic medallists 1896 to 2008 - IOC COUNTRY CODES.csv']\n"
     ]
    }
   ],
   "source": [
    "recursive_list1 = os.walk(folder2)\n",
    "for (dirpath, dirnames, filenames) in recursive_list1:\n",
    "    print(dirpath, dirnames, filenames)"
   ]
  },
  {
   "cell_type": "code",
   "execution_count": 38,
   "metadata": {},
   "outputs": [
    {
     "data": {
      "text/plain": [
       "'/mnt/f/github/helloworld/LearnNumpy/.+?/'"
      ]
     },
     "execution_count": 38,
     "metadata": {},
     "output_type": "execute_result"
    }
   ],
   "source": [
    "input_str = '/mnt/f/github/helloworld/LearnNumpy/C*'\n",
    "str = '/mnt/4thdd/download/18plus/thread*'\n",
    "str = '/mnt/f/github/helloworld/LearnNumpy/Ch 01/01_01/aijf.jpg'\n",
    "rep_str = '/mnt/newfolder'\n",
    "\n",
    "pattern = re.sub(\"\\*\",\".+?/\",input_str)\n",
    "pattern"
   ]
  },
  {
   "cell_type": "code",
   "execution_count": 45,
   "metadata": {},
   "outputs": [
    {
     "data": {
      "text/plain": [
       "<re.Match object; span=(0, 41), match='/mnt/f/github/helloworld/LearnNumpy/Ch 0/'>"
      ]
     },
     "execution_count": 45,
     "metadata": {},
     "output_type": "execute_result"
    }
   ],
   "source": [
    "m = re.match('/mnt/f/github/helloworld/LearnNumpy/.+?/', l1[4])\n",
    "m"
   ]
  },
  {
   "cell_type": "code",
   "execution_count": 43,
   "metadata": {},
   "outputs": [
    {
     "data": {
      "text/plain": [
       "<re.Match object; span=(0, 41), match='/mnt/f/github/helloworld/LearnNumpy/Ch 0/'>"
      ]
     },
     "execution_count": 43,
     "metadata": {},
     "output_type": "execute_result"
    }
   ],
   "source": [
    "m = re.match(pattern, l1[4])\n",
    "m"
   ]
  },
  {
   "cell_type": "code",
   "execution_count": 28,
   "metadata": {},
   "outputs": [
    {
     "data": {
      "text/plain": [
       "'/mnt/f/github/helloworld/LearnNumpy/Ch 0/00_03/Finish/UMQAV.ipynb'"
      ]
     },
     "execution_count": 28,
     "metadata": {},
     "output_type": "execute_result"
    }
   ],
   "source": [
    "l1[4]"
   ]
  },
  {
   "cell_type": "code",
   "execution_count": 25,
   "metadata": {},
   "outputs": [
    {
     "data": {
      "text/html": [
       "<div>\n",
       "<style scoped>\n",
       "    .dataframe tbody tr th:only-of-type {\n",
       "        vertical-align: middle;\n",
       "    }\n",
       "\n",
       "    .dataframe tbody tr th {\n",
       "        vertical-align: top;\n",
       "    }\n",
       "\n",
       "    .dataframe thead th {\n",
       "        text-align: right;\n",
       "    }\n",
       "</style>\n",
       "<table border=\"1\" class=\"dataframe\">\n",
       "  <thead>\n",
       "    <tr style=\"text-align: right;\">\n",
       "      <th></th>\n",
       "      <th>Date</th>\n",
       "      <th>Time</th>\n",
       "      <th>Activity</th>\n",
       "      <th>Market</th>\n",
       "      <th>Direction</th>\n",
       "      <th>Quantity</th>\n",
       "      <th>Price</th>\n",
       "      <th>Currency</th>\n",
       "      <th>Consideration</th>\n",
       "      <th>Commission</th>\n",
       "      <th>Charges</th>\n",
       "      <th>Cost/Proceeds</th>\n",
       "      <th>Conversion rate</th>\n",
       "      <th>Order type</th>\n",
       "      <th>Venue ID</th>\n",
       "      <th>Settled?</th>\n",
       "      <th>Settlement date</th>\n",
       "      <th>Order ID</th>\n",
       "    </tr>\n",
       "  </thead>\n",
       "  <tbody>\n",
       "    <tr>\n",
       "      <th>4</th>\n",
       "      <td>22-08-2022</td>\n",
       "      <td>17:07:32</td>\n",
       "      <td>TRADE</td>\n",
       "      <td>Mosaic Co</td>\n",
       "      <td>SELL</td>\n",
       "      <td>-25</td>\n",
       "      <td>5528.0</td>\n",
       "      <td>USD</td>\n",
       "      <td>1382.0</td>\n",
       "      <td>0.0</td>\n",
       "      <td>-0.03</td>\n",
       "      <td>1169.62</td>\n",
       "      <td>0.846345</td>\n",
       "      <td>LIMIT</td>\n",
       "      <td>XOFF</td>\n",
       "      <td>Y</td>\n",
       "      <td>24-08-2022</td>\n",
       "      <td>07CLE:1516317~17116</td>\n",
       "    </tr>\n",
       "    <tr>\n",
       "      <th>5</th>\n",
       "      <td>22-08-2022</td>\n",
       "      <td>15:40:20</td>\n",
       "      <td>TRADE</td>\n",
       "      <td>Mosaic Co</td>\n",
       "      <td>SELL</td>\n",
       "      <td>-25</td>\n",
       "      <td>5428.0</td>\n",
       "      <td>USD</td>\n",
       "      <td>1357.0</td>\n",
       "      <td>0.0</td>\n",
       "      <td>-0.03</td>\n",
       "      <td>1145.72</td>\n",
       "      <td>0.844322</td>\n",
       "      <td>LIMIT</td>\n",
       "      <td>XOFF</td>\n",
       "      <td>Y</td>\n",
       "      <td>24-08-2022</td>\n",
       "      <td>07CLE:1516320~13221</td>\n",
       "    </tr>\n",
       "    <tr>\n",
       "      <th>9</th>\n",
       "      <td>06-07-2022</td>\n",
       "      <td>15:43:40</td>\n",
       "      <td>TRADE</td>\n",
       "      <td>Mosaic Co</td>\n",
       "      <td>BUY</td>\n",
       "      <td>25</td>\n",
       "      <td>4280.0</td>\n",
       "      <td>USD</td>\n",
       "      <td>-1070.0</td>\n",
       "      <td>0.0</td>\n",
       "      <td>0.00</td>\n",
       "      <td>-904.22</td>\n",
       "      <td>0.845070</td>\n",
       "      <td>LIMIT</td>\n",
       "      <td>XOFF</td>\n",
       "      <td>Y</td>\n",
       "      <td>08-07-2022</td>\n",
       "      <td>07CLE:1491045~9950</td>\n",
       "    </tr>\n",
       "    <tr>\n",
       "      <th>12</th>\n",
       "      <td>09-06-2022</td>\n",
       "      <td>17:06:02</td>\n",
       "      <td>TRADE</td>\n",
       "      <td>Mosaic Co</td>\n",
       "      <td>BUY</td>\n",
       "      <td>50</td>\n",
       "      <td>5388.0</td>\n",
       "      <td>USD</td>\n",
       "      <td>-2694.0</td>\n",
       "      <td>0.0</td>\n",
       "      <td>0.00</td>\n",
       "      <td>-2163.35</td>\n",
       "      <td>0.803024</td>\n",
       "      <td>LIMIT</td>\n",
       "      <td>XOFF</td>\n",
       "      <td>Y</td>\n",
       "      <td>13-06-2022</td>\n",
       "      <td>07CLE:1476674~12141</td>\n",
       "    </tr>\n",
       "  </tbody>\n",
       "</table>\n",
       "</div>"
      ],
      "text/plain": [
       "          Date      Time Activity     Market Direction  Quantity   Price  \\\n",
       "4   22-08-2022  17:07:32    TRADE  Mosaic Co      SELL       -25  5528.0   \n",
       "5   22-08-2022  15:40:20    TRADE  Mosaic Co      SELL       -25  5428.0   \n",
       "9   06-07-2022  15:43:40    TRADE  Mosaic Co       BUY        25  4280.0   \n",
       "12  09-06-2022  17:06:02    TRADE  Mosaic Co       BUY        50  5388.0   \n",
       "\n",
       "   Currency  Consideration  Commission  Charges  Cost/Proceeds  \\\n",
       "4       USD         1382.0         0.0    -0.03        1169.62   \n",
       "5       USD         1357.0         0.0    -0.03        1145.72   \n",
       "9       USD        -1070.0         0.0     0.00        -904.22   \n",
       "12      USD        -2694.0         0.0     0.00       -2163.35   \n",
       "\n",
       "    Conversion rate Order type Venue ID Settled? Settlement date  \\\n",
       "4          0.846345      LIMIT     XOFF        Y      24-08-2022   \n",
       "5          0.844322      LIMIT     XOFF        Y      24-08-2022   \n",
       "9          0.845070      LIMIT     XOFF        Y      08-07-2022   \n",
       "12         0.803024      LIMIT     XOFF        Y      13-06-2022   \n",
       "\n",
       "               Order ID  \n",
       "4   07CLE:1516317~17116  \n",
       "5   07CLE:1516320~13221  \n",
       "9    07CLE:1491045~9950  \n",
       "12  07CLE:1476674~12141  "
      ]
     },
     "execution_count": 25,
     "metadata": {},
     "output_type": "execute_result"
    }
   ],
   "source": [
    "df_in = df_trade_history[df_trade_history['Market'] == 'Mosaic Co']\n",
    "df_in"
   ]
  },
  {
   "cell_type": "code",
   "execution_count": 57,
   "metadata": {},
   "outputs": [
    {
     "data": {
      "text/plain": [
       "2    -138200.03\n",
       "3    -135700.03\n",
       "7     107000.00\n",
       "10    269400.00\n",
       "dtype: float64"
      ]
     },
     "execution_count": 57,
     "metadata": {},
     "output_type": "execute_result"
    }
   ],
   "source": [
    "position = df_in['Quantity'].sum()\n",
    "commission = df_in['Commission'].sum()\n",
    "charges = df_in['Charges'].sum()\n"
   ]
  },
  {
   "cell_type": "code",
   "execution_count": 134,
   "metadata": {},
   "outputs": [
    {
     "data": {
      "text/plain": [
       "Symbols\n",
       "ME       3.33\n",
       "FDS    448.86\n",
       "Name: 2022-09-14 00:00:00, dtype: float64"
      ]
     },
     "execution_count": 134,
     "metadata": {},
     "output_type": "execute_result"
    }
   ],
   "source": [
    "import pandas_datareader.data as web\n",
    "import pandas as pd\n",
    "# last business day\n",
    "last_business_day = (pd.to_datetime('today') - pd.offsets.BDay(1)).strftime('%Y-%m-%d')\n",
    "last_business_day\n",
    "MSCI = web.DataReader(['ME', 'FDS'], 'stooq',  \"2022-01-01\", last_business_day)\n",
    "MSCI.iloc[0]['Close']\n",
    "\n"
   ]
  },
  {
   "cell_type": "code",
   "execution_count": 24,
   "metadata": {},
   "outputs": [
    {
     "data": {
      "text/html": [
       "<div>\n",
       "<style scoped>\n",
       "    .dataframe tbody tr th:only-of-type {\n",
       "        vertical-align: middle;\n",
       "    }\n",
       "\n",
       "    .dataframe tbody tr th {\n",
       "        vertical-align: top;\n",
       "    }\n",
       "\n",
       "    .dataframe thead tr th {\n",
       "        text-align: left;\n",
       "    }\n",
       "\n",
       "    .dataframe thead tr:last-of-type th {\n",
       "        text-align: right;\n",
       "    }\n",
       "</style>\n",
       "<table border=\"1\" class=\"dataframe\">\n",
       "  <thead>\n",
       "    <tr>\n",
       "      <th>Attributes</th>\n",
       "      <th colspan=\"2\" halign=\"left\">Adj Close</th>\n",
       "      <th colspan=\"2\" halign=\"left\">Close</th>\n",
       "      <th colspan=\"2\" halign=\"left\">High</th>\n",
       "      <th colspan=\"2\" halign=\"left\">Low</th>\n",
       "      <th colspan=\"2\" halign=\"left\">Open</th>\n",
       "      <th colspan=\"2\" halign=\"left\">Volume</th>\n",
       "    </tr>\n",
       "    <tr>\n",
       "      <th>Symbols</th>\n",
       "      <th>MSCI</th>\n",
       "      <th>FDS</th>\n",
       "      <th>MSCI</th>\n",
       "      <th>FDS</th>\n",
       "      <th>MSCI</th>\n",
       "      <th>FDS</th>\n",
       "      <th>MSCI</th>\n",
       "      <th>FDS</th>\n",
       "      <th>MSCI</th>\n",
       "      <th>FDS</th>\n",
       "      <th>MSCI</th>\n",
       "      <th>FDS</th>\n",
       "    </tr>\n",
       "    <tr>\n",
       "      <th>Date</th>\n",
       "      <th></th>\n",
       "      <th></th>\n",
       "      <th></th>\n",
       "      <th></th>\n",
       "      <th></th>\n",
       "      <th></th>\n",
       "      <th></th>\n",
       "      <th></th>\n",
       "      <th></th>\n",
       "      <th></th>\n",
       "      <th></th>\n",
       "      <th></th>\n",
       "    </tr>\n",
       "  </thead>\n",
       "  <tbody>\n",
       "    <tr>\n",
       "      <th>2022-09-14</th>\n",
       "      <td>469.109985</td>\n",
       "      <td>448.859985</td>\n",
       "      <td>469.109985</td>\n",
       "      <td>448.859985</td>\n",
       "      <td>475.929993</td>\n",
       "      <td>453.700012</td>\n",
       "      <td>461.73999</td>\n",
       "      <td>445.380005</td>\n",
       "      <td>475.119995</td>\n",
       "      <td>446.549988</td>\n",
       "      <td>331600</td>\n",
       "      <td>317600</td>\n",
       "    </tr>\n",
       "  </tbody>\n",
       "</table>\n",
       "</div>"
      ],
      "text/plain": [
       "Attributes   Adj Close                   Close                    High  \\\n",
       "Symbols           MSCI         FDS        MSCI         FDS        MSCI   \n",
       "Date                                                                     \n",
       "2022-09-14  469.109985  448.859985  469.109985  448.859985  475.929993   \n",
       "\n",
       "Attributes                    Low                    Open              Volume  \\\n",
       "Symbols            FDS       MSCI         FDS        MSCI         FDS    MSCI   \n",
       "Date                                                                            \n",
       "2022-09-14  453.700012  461.73999  445.380005  475.119995  446.549988  331600   \n",
       "\n",
       "Attributes          \n",
       "Symbols        FDS  \n",
       "Date                \n",
       "2022-09-14  317600  "
      ]
     },
     "execution_count": 24,
     "metadata": {},
     "output_type": "execute_result"
    }
   ],
   "source": [
    "FDS = web.DataReader(['MSCI', 'FDS'], 'yahoo',  last_business_day)\n",
    "FDS"
   ]
  },
  {
   "cell_type": "code",
   "execution_count": 59,
   "metadata": {},
   "outputs": [
    {
     "data": {
      "text/plain": [
       "4099.9976"
      ]
     },
     "execution_count": 59,
     "metadata": {},
     "output_type": "execute_result"
    }
   ],
   "source": [
    "DollarCost = (df_in['Quantity'] * df_in['Price']).sum() + df_in['Charges'].sum()\n",
    "df_in['Quantity'] * df_in['Price'] + df_in['Charges']\n",
    "\n",
    "DollarCost_per_share = DollarCost / position\n",
    "GBPCost = ((df_in['Quantity'] * df_in['Price'] + df_in['Charges']) * df_in['Conversion rate'] - df_in['Commission']).sum()\n",
    "GBPCost_per_share = GBPCost / position\n",
    "DollarCost_per_share"
   ]
  },
  {
   "cell_type": "code",
   "execution_count": null,
   "metadata": {},
   "outputs": [],
   "source": [
    "# don't run this cell, it's just for reference\n",
    "all_pdf_tickers = pd.DataFrame()\n",
    "count = 0\n",
    "for i in mapping_lines:\n",
    "    m = re.search(pattern, i)\n",
    "    if m:\n",
    "        all_pdf_tickers = all_pdf_tickers.append(m.groupdict(), ignore_index=True)\n",
    "    else:\n",
    "        count += 1\n",
    "        print(f\"failed to match: {i}, which is at mapping_lines {count}\")\n",
    "\n",
    "print(len(all_pdf_tickers), count)\n"
   ]
  },
  {
   "cell_type": "code",
   "execution_count": null,
   "metadata": {},
   "outputs": [],
   "source": [
    "with open('/home/kaizhang/Downloads/Stockbroking Share List.pdf', 'rb') as f:\n",
    "    pdf = PyPDF2.PdfFileReader(f)\n",
    "    page = pdf.getPage(0)\n",
    "    page_content = page.extractText()\n",
    "    print(page_content)\n",
    "\n",
    "# regex match word after \"/\"\n",
    "import re\n",
    "# pattern = r\"\\/\\s?P<symbol>\\w+.\\w+\" # match / word.word\n",
    "pattern = r\"\\/\\s\\w+.\\w+\" # match / word.word\n",
    "re.search(pattern, mapping_lines[80])"
   ]
  },
  {
   "cell_type": "code",
   "execution_count": 34,
   "metadata": {},
   "outputs": [
    {
     "data": {
      "text/plain": [
       "{'name': 'Windar Photonics PLC',\n",
       " 'ticker': 'WPHO.L',\n",
       " 'symbol': 'WPHO',\n",
       " 'region': 'LN',\n",
       " 'ISA': 'Y',\n",
       " 'SIPP': 'Y'}"
      ]
     },
     "execution_count": 34,
     "metadata": {},
     "output_type": "execute_result"
    }
   ],
   "source": [
    "m.groupdict()"
   ]
  },
  {
   "cell_type": "code",
   "execution_count": 25,
   "metadata": {},
   "outputs": [
    {
     "data": {
      "text/html": [
       "<div>\n",
       "<style scoped>\n",
       "    .dataframe tbody tr th:only-of-type {\n",
       "        vertical-align: middle;\n",
       "    }\n",
       "\n",
       "    .dataframe tbody tr th {\n",
       "        vertical-align: top;\n",
       "    }\n",
       "\n",
       "    .dataframe thead th {\n",
       "        text-align: right;\n",
       "    }\n",
       "</style>\n",
       "<table border=\"1\" class=\"dataframe\">\n",
       "  <thead>\n",
       "    <tr style=\"text-align: right;\">\n",
       "      <th></th>\n",
       "      <th>name</th>\n",
       "      <th>ticker</th>\n",
       "      <th>symbol</th>\n",
       "      <th>region</th>\n",
       "      <th>ISA</th>\n",
       "      <th>SIPP</th>\n",
       "    </tr>\n",
       "  </thead>\n",
       "  <tbody>\n",
       "    <tr>\n",
       "      <th>0</th>\n",
       "      <td>AMP Limited</td>\n",
       "      <td>AMP.AX</td>\n",
       "      <td>AMP</td>\n",
       "      <td>AU</td>\n",
       "      <td>Y</td>\n",
       "      <td>Y</td>\n",
       "    </tr>\n",
       "  </tbody>\n",
       "</table>\n",
       "</div>"
      ],
      "text/plain": [
       "          name  ticker symbol region ISA SIPP\n",
       "0  AMP Limited  AMP.AX    AMP     AU   Y    Y"
      ]
     },
     "execution_count": 25,
     "metadata": {},
     "output_type": "execute_result"
    }
   ],
   "source": [
    "# create a dataframe from dict\n",
    "import pandas as pd\n",
    "df = pd.DataFrame(m.groupdict(), index=[0])\n",
    "df"
   ]
  },
  {
   "cell_type": "code",
   "execution_count": 64,
   "metadata": {},
   "outputs": [
    {
     "name": "stderr",
     "output_type": "stream",
     "text": [
      "<ipython-input-64-0f4d69810f3d>:4: FutureWarning: The default value of regex will change from True to False in a future version.\n",
      "  aa[\"CompanyName\"] = aa[\"CompanyName\"].str.replace('\\.', '')\n",
      "<ipython-input-64-0f4d69810f3d>:5: FutureWarning: The default value of regex will change from True to False in a future version.\n",
      "  aa[\"CompanyName\"] = aa[\"CompanyName\"].str.replace('\\,', '')\n"
     ]
    },
    {
     "data": {
      "text/html": [
       "<div>\n",
       "<style scoped>\n",
       "    .dataframe tbody tr th:only-of-type {\n",
       "        vertical-align: middle;\n",
       "    }\n",
       "\n",
       "    .dataframe tbody tr th {\n",
       "        vertical-align: top;\n",
       "    }\n",
       "\n",
       "    .dataframe thead th {\n",
       "        text-align: right;\n",
       "    }\n",
       "</style>\n",
       "<table border=\"1\" class=\"dataframe\">\n",
       "  <thead>\n",
       "    <tr style=\"text-align: right;\">\n",
       "      <th></th>\n",
       "      <th>cik_str</th>\n",
       "      <th>ticker</th>\n",
       "      <th>title</th>\n",
       "      <th>CompanyName</th>\n",
       "    </tr>\n",
       "  </thead>\n",
       "  <tbody>\n",
       "    <tr>\n",
       "      <th>0</th>\n",
       "      <td>320193</td>\n",
       "      <td>AAPL</td>\n",
       "      <td>Apple Inc.</td>\n",
       "      <td>apple inc</td>\n",
       "    </tr>\n",
       "    <tr>\n",
       "      <th>1</th>\n",
       "      <td>789019</td>\n",
       "      <td>MSFT</td>\n",
       "      <td>MICROSOFT CORP</td>\n",
       "      <td>microsoft corp</td>\n",
       "    </tr>\n",
       "    <tr>\n",
       "      <th>2</th>\n",
       "      <td>1318605</td>\n",
       "      <td>TSLA</td>\n",
       "      <td>Tesla, Inc.</td>\n",
       "      <td>tesla inc</td>\n",
       "    </tr>\n",
       "    <tr>\n",
       "      <th>3</th>\n",
       "      <td>1067983</td>\n",
       "      <td>BRK-B</td>\n",
       "      <td>BERKSHIRE HATHAWAY INC</td>\n",
       "      <td>berkshire hathaway inc</td>\n",
       "    </tr>\n",
       "    <tr>\n",
       "      <th>4</th>\n",
       "      <td>731766</td>\n",
       "      <td>UNH</td>\n",
       "      <td>UNITEDHEALTH GROUP INC</td>\n",
       "      <td>unitedhealth group inc</td>\n",
       "    </tr>\n",
       "    <tr>\n",
       "      <th>...</th>\n",
       "      <td>...</td>\n",
       "      <td>...</td>\n",
       "      <td>...</td>\n",
       "      <td>...</td>\n",
       "    </tr>\n",
       "    <tr>\n",
       "      <th>12037</th>\n",
       "      <td>1769624</td>\n",
       "      <td>AGBAW</td>\n",
       "      <td>AGBA Acquisition Ltd</td>\n",
       "      <td>agba acquisition ltd</td>\n",
       "    </tr>\n",
       "    <tr>\n",
       "      <th>12038</th>\n",
       "      <td>1769624</td>\n",
       "      <td>AGBAR</td>\n",
       "      <td>AGBA Acquisition Ltd</td>\n",
       "      <td>agba acquisition ltd</td>\n",
       "    </tr>\n",
       "    <tr>\n",
       "      <th>12039</th>\n",
       "      <td>1790665</td>\n",
       "      <td>GNRSW</td>\n",
       "      <td>Greenrose Holding Co Inc.</td>\n",
       "      <td>greenrose holding co inc</td>\n",
       "    </tr>\n",
       "    <tr>\n",
       "      <th>12040</th>\n",
       "      <td>1790665</td>\n",
       "      <td>GNRSU</td>\n",
       "      <td>Greenrose Holding Co Inc.</td>\n",
       "      <td>greenrose holding co inc</td>\n",
       "    </tr>\n",
       "    <tr>\n",
       "      <th>12041</th>\n",
       "      <td>1809750</td>\n",
       "      <td>EDBLW</td>\n",
       "      <td>Edible Garden AG Inc</td>\n",
       "      <td>edible garden ag inc</td>\n",
       "    </tr>\n",
       "  </tbody>\n",
       "</table>\n",
       "<p>12042 rows × 4 columns</p>\n",
       "</div>"
      ],
      "text/plain": [
       "       cik_str ticker                      title               CompanyName\n",
       "0       320193   AAPL                 Apple Inc.                 apple inc\n",
       "1       789019   MSFT             MICROSOFT CORP            microsoft corp\n",
       "2      1318605   TSLA                Tesla, Inc.                 tesla inc\n",
       "3      1067983  BRK-B     BERKSHIRE HATHAWAY INC    berkshire hathaway inc\n",
       "4       731766    UNH     UNITEDHEALTH GROUP INC    unitedhealth group inc\n",
       "...        ...    ...                        ...                       ...\n",
       "12037  1769624  AGBAW       AGBA Acquisition Ltd      agba acquisition ltd\n",
       "12038  1769624  AGBAR       AGBA Acquisition Ltd      agba acquisition ltd\n",
       "12039  1790665  GNRSW  Greenrose Holding Co Inc.  greenrose holding co inc\n",
       "12040  1790665  GNRSU  Greenrose Holding Co Inc.  greenrose holding co inc\n",
       "12041  1809750  EDBLW       Edible Garden AG Inc      edible garden ag inc\n",
       "\n",
       "[12042 rows x 4 columns]"
      ]
     },
     "execution_count": 64,
     "metadata": {},
     "output_type": "execute_result"
    }
   ],
   "source": [
    "import pandas as pd\n",
    "aa = pd.read_json(r\"https://www.sec.gov/files/company_tickers.json\", orient='index', )\n",
    "aa[\"CompanyName\"] = aa['title'].str.lower()\n",
    "aa[\"CompanyName\"] = aa[\"CompanyName\"].str.replace('\\.', '')\n",
    "aa[\"CompanyName\"] = aa[\"CompanyName\"].str.replace('\\,', '')\n",
    "aa"
   ]
  },
  {
   "cell_type": "code",
   "execution_count": 59,
   "metadata": {},
   "outputs": [
    {
     "data": {
      "text/html": [
       "<div>\n",
       "<style scoped>\n",
       "    .dataframe tbody tr th:only-of-type {\n",
       "        vertical-align: middle;\n",
       "    }\n",
       "\n",
       "    .dataframe tbody tr th {\n",
       "        vertical-align: top;\n",
       "    }\n",
       "\n",
       "    .dataframe thead th {\n",
       "        text-align: right;\n",
       "    }\n",
       "</style>\n",
       "<table border=\"1\" class=\"dataframe\">\n",
       "  <thead>\n",
       "    <tr style=\"text-align: right;\">\n",
       "      <th></th>\n",
       "      <th>Market</th>\n",
       "      <th>Ticker</th>\n",
       "    </tr>\n",
       "  </thead>\n",
       "  <tbody>\n",
       "    <tr>\n",
       "      <th>0</th>\n",
       "      <td>Lumentum Holdings Inc</td>\n",
       "      <td>LITE</td>\n",
       "    </tr>\n",
       "    <tr>\n",
       "      <th>1</th>\n",
       "      <td>Tronox Ltd</td>\n",
       "      <td>NaN</td>\n",
       "    </tr>\n",
       "    <tr>\n",
       "      <th>2</th>\n",
       "      <td>International Seaways Inc</td>\n",
       "      <td>INSW</td>\n",
       "    </tr>\n",
       "    <tr>\n",
       "      <th>3</th>\n",
       "      <td>Raytheon Technologies Corp (All Sessions)</td>\n",
       "      <td>RTX</td>\n",
       "    </tr>\n",
       "    <tr>\n",
       "      <th>4</th>\n",
       "      <td>Mosaic Co</td>\n",
       "      <td>MOS</td>\n",
       "    </tr>\n",
       "    <tr>\n",
       "      <th>...</th>\n",
       "      <td>...</td>\n",
       "      <td>...</td>\n",
       "    </tr>\n",
       "    <tr>\n",
       "      <th>143</th>\n",
       "      <td>MSCI Inc</td>\n",
       "      <td>MSCI</td>\n",
       "    </tr>\n",
       "    <tr>\n",
       "      <th>144</th>\n",
       "      <td>Xilinx Inc</td>\n",
       "      <td>NaN</td>\n",
       "    </tr>\n",
       "    <tr>\n",
       "      <th>145</th>\n",
       "      <td>iShares MSCI China A ETF</td>\n",
       "      <td>NaN</td>\n",
       "    </tr>\n",
       "    <tr>\n",
       "      <th>146</th>\n",
       "      <td>Zscaler Inc</td>\n",
       "      <td>ZS</td>\n",
       "    </tr>\n",
       "    <tr>\n",
       "      <th>147</th>\n",
       "      <td>HSBC ETFs Public Limited Company - HSBC MSCI E...</td>\n",
       "      <td>NaN</td>\n",
       "    </tr>\n",
       "  </tbody>\n",
       "</table>\n",
       "<p>148 rows × 2 columns</p>\n",
       "</div>"
      ],
      "text/plain": [
       "                                                Market Ticker\n",
       "0                                Lumentum Holdings Inc   LITE\n",
       "1                                           Tronox Ltd    NaN\n",
       "2                            International Seaways Inc   INSW\n",
       "3            Raytheon Technologies Corp (All Sessions)    RTX\n",
       "4                                            Mosaic Co    MOS\n",
       "..                                                 ...    ...\n",
       "143                                           MSCI Inc   MSCI\n",
       "144                                         Xilinx Inc    NaN\n",
       "145                           iShares MSCI China A ETF    NaN\n",
       "146                                        Zscaler Inc     ZS\n",
       "147  HSBC ETFs Public Limited Company - HSBC MSCI E...    NaN\n",
       "\n",
       "[148 rows x 2 columns]"
      ]
     },
     "execution_count": 59,
     "metadata": {},
     "output_type": "execute_result"
    }
   ],
   "source": [
    "df_trade_history = pd.read_csv(\"/mnt/f/Downloads/TradeHistory.csv\")\n",
    "company_list = df_trade_history['Market'].unique()\n",
    "company_name_to_ticker = {}\n",
    "\n",
    "for i in list(map(lambda x: re.sub(r\"\\s\\(.*\\)\",\"\",x), company_list)): # remove (*) from company name\n",
    "            if i.lower() in aa['CompanyName'].values: # if no_ticker_list matchs lower case company name matches                \n",
    "                company_name_to_ticker[i] = aa[aa['CompanyName'] == i.lower()]['ticker'].values[0]\n",
    "       \n",
    "df_trade_history['Ticker'] = np.nan\n",
    "for k, v in company_name_to_ticker.items():\n",
    "    # replace k with company list value\n",
    "    for i in company_list:\n",
    "        # if k is a substring of i\n",
    "        if k in i:\n",
    "            df_trade_history.loc[df_trade_history['Market'] == i, 'Ticker'] = v\n",
    "df_trade_history[['Market', 'Ticker']]\n",
    "\n"
   ]
  },
  {
   "cell_type": "code",
   "execution_count": 24,
   "metadata": {},
   "outputs": [
    {
     "name": "stdout",
     "output_type": "stream",
     "text": [
      "No!  Tronox Ltd is not in the sec list, but [] is close match\n",
      "No!  Kopin Corporation is not in the sec list, but [] is close match\n",
      "No!  MP Materials Corp is not in the sec list, but ['mp materials corp / de'] is close match\n",
      "No!  Blackstone Group LP is not in the sec list, but [] is close match\n",
      "No!  PayPoint PLC is not in the sec list, but [] is close match\n",
      "No!  Quidel Corp is not in the sec list, but [] is close match\n",
      "No!  Energy Transfer Equity LP is not in the sec list, but [] is close match\n",
      "No!  VG Acquisition Corporation is not in the sec list, but [] is close match\n",
      "No!  Schroders PLC is not in the sec list, but [] is close match\n",
      "No!  Infrastructure and Energy Alternatives Inc is not in the sec list, but ['infrastructure & energy alternatives inc'] is close match\n",
      "No!  Tesla Motors Inc is not in the sec list, but [] is close match\n",
      "No!  Xilinx Inc is not in the sec list, but [] is close match\n",
      "No!  IG Group Holdings PLC is not in the sec list, but [] is close match\n",
      "No!  HSBC ETFs Public Limited Company - HSBC MSCI Emerging Markets UCITS ETF is not in the sec list, but [] is close match\n",
      "No!  iShares MSCI China A ETF is not in the sec list, but [] is close match\n",
      "{'Lumentum Holdings Inc': 'LITE', 'International Seaways Inc': 'INSW', 'Raytheon Technologies Corp': 'RTX', 'Mosaic Co': 'MOS', 'Barrick Gold Corp': 'GOLD', 'Intuitive Surgical Inc': 'ISRG', 'Gilead Sciences Inc': 'GILD', 'Southwest Airlines Co': 'LUV', 'Morgan Stanley': 'MS', '23ANDME Holding Co': 'ME', '3M Co': 'MMM', 'Invesco Ltd': 'IVZ', 'Veeva Systems Inc': 'VEEV', 'Lam Research Corp': 'LRCX', 'Skillz Inc': 'SKLZ', 'MSCI Inc': 'MSCI', 'Okta Inc': 'OKTA', 'Akamai Technologies Inc': 'AKAM', 'ANSYS Inc': 'ANSS', 'Blackberry Ltd': 'BB', 'BlackLine Inc': 'BL', 'Sierra Wireless Inc': 'SWIR', 'FactSet Research Systems Inc': 'FDS', 'SmileDirectClub Inc': 'SDC', 'Activision Blizzard Inc': 'ATVI', 'Twilio Inc': 'TWLO', 'Abbott Laboratories': 'ABT', 'Zscaler Inc': 'ZS', 'Zoom Video Communications Inc': 'ZM'}\n"
     ]
    }
   ],
   "source": [
    "\n",
    "from difflib import get_close_matches\n",
    "import re\n",
    "company_name_to_ticker = {}\n",
    "for i in list(map(lambda x: re.sub(r\"\\s\\(.*\\)\",\"\",x), company_list)): # remove (*) from company name\n",
    "    if i.lower() in aa['CompanyName'].values:\n",
    "        ticker = aa[aa['CompanyName'] == i.lower()]['ticker'].values[0]\n",
    "        company_name_to_ticker[i] = ticker\n",
    "        # print(f\"{i} has ticker {ticker}\")\n",
    "    else:\n",
    "        #print(f\"No!   {i} is not in the sec list\")\n",
    "        close_match = get_close_matches(i.lower(), aa['CompanyName'].values, n=1, cutoff=0.87179487)\n",
    "        print(f\"No!  {i} is not in the sec list, but {close_match} is close match\")\n",
    "print(company_name_to_ticker)\n",
    "# write dict to json file in pretty format\n",
    "import json\n",
    "with open('company_name_to_ticker.json', 'w') as f:\n",
    "    json.dump(company_name_to_ticker, f, indent=4)"
   ]
  },
  {
   "cell_type": "code",
   "execution_count": 23,
   "metadata": {},
   "outputs": [
    {
     "name": "stdout",
     "output_type": "stream",
     "text": [
      "score for: MP Materials Corp vs. mp materials corp / de = 0.8717948717948718\n"
     ]
    }
   ],
   "source": [
    "# test difflib close match score\n",
    "import difflib\n",
    "my_str = \"MP Materials Corp\"\n",
    "str_list = ['mp materials corp / de']\n",
    "\n",
    "for word in str_list:\n",
    "    print(\"score for: \" + my_str + \" vs. \" + word + \" = \" + str(difflib.SequenceMatcher(None, my_str.lower(), word).ratio()))\n"
   ]
  },
  {
   "cell_type": "code",
   "execution_count": null,
   "metadata": {},
   "outputs": [],
   "source": [
    "import pandas as pd\n",
    "import PyPDF2\n",
    "import re\n",
    "\n",
    "# pdf_path = '/mnt/f/Downloads/Stockbroking Share List.pdf'\n",
    "def get_pdf_tickers(pdf_path: str) -> pd.DataFrame:\n",
    "    ''' read pdf extract ticker symbols and region info into DataFrame '''\n",
    "    # get alltext from pdf\n",
    "    alltext = \"\"\n",
    "    with open(pdf_path, 'rb') as f:\n",
    "        pdf = PyPDF2.PdfFileReader(f)\n",
    "        pagenumber = pdf.getNumPages()\n",
    "        for i in range(pagenumber):\n",
    "            page = pdf.getPage(i)\n",
    "            page_content = page.extractText()\n",
    "            alltext += page_content\n",
    "\n",
    "    # put each line into a list, iterate through the list \n",
    "    mapping_lines = []\n",
    "    for i in re.split(r'\\n', alltext):    \n",
    "        if i.endswith('Y'): # if string end with Y\n",
    "            mapping_lines.append(i)\n",
    "    print(f\"Total usable lines found  in IG pdf: {len(mapping_lines)}\")\n",
    "\n",
    "    # extract fields from each line in dict form and add to df\n",
    "    pattern = r\"(?P<name>^.*)\\s(?P<ticker>\\w+.\\w+)\\s\\/\\s(?P<symbol>\\w+)\\s(?P<region>\\w+).*\\s(?P<ISA>\\w)\\s(?P<SIPP>\\w)$\"\n",
    "    all_pdf_tickers2 = pd.DataFrame()\n",
    "    for i in mapping_lines:\n",
    "        m = re.search(pattern, i)\n",
    "        if m:\n",
    "            # all_pdf_tickers = all_pdf_tickers.append(m.groupdict(), ignore_index=True) also works but futureWarning\n",
    "            all_pdf_tickers2 = pd.concat([all_pdf_tickers2, pd.DataFrame.from_dict(m.groupdict(), orient='index').T], ignore_index=True)\n",
    "    print(f\"Total extracted records found in IG pdf: {len(all_pdf_tickers2)}\")\n",
    "    return all_pdf_tickers2\n",
    "\n",
    "all_pdf_tickers = get_pdf_tickers('/mnt/f/Downloads/Stockbroking Share List.pdf')\n",
    "all_pdf_tickers"
   ]
  },
  {
   "cell_type": "code",
   "execution_count": 27,
   "metadata": {},
   "outputs": [],
   "source": [
    "# test add ticker function\n",
    "import pandas as pd\n",
    "import numpy as np\n",
    "import json\n",
    "import re\n",
    "import sys\n",
    "\n",
    "def add_ticker_to_json(new_dict: dict, output_json_file: str):\n",
    "    # # add dict to json file\n",
    "    # with open(output_json_file, 'r') as f:\n",
    "    #     data = json.load(f)\n",
    "    # data.update(new_dict)\n",
    "    # with open(output_json_file, 'w') as f:\n",
    "    #     json.dump(data, f, indent=4)\n",
    "    with open(output_json_file, 'r+') as f:\n",
    "        existing_dict = json.load(f)\n",
    "        existing_dict.update(new_dict)\n",
    "        f.seek(0)\n",
    "        json.dump(existing_dict, f, indent=4)\n",
    "    \n",
    "def load_ticker_from_json(json_file: str, df_in: pd.DataFrame) -> pd.DataFrame:\n",
    "    with open(json_file) as f: \n",
    "        ticker_dict = json.load(f)\n",
    "    for k, v in ticker_dict.items():\n",
    "        df_in.loc[df_in['Market'] == k, 'Ticker'] = v\n",
    "    return df_in\n",
    "\n",
    "def sec_ticker_mapping(df_unknown_symbol: pd.DataFrame) -> dict:\n",
    "    # find unknown ticker through sec site    \n",
    "    sec_site_mapping = pd.read_json(r'https://www.sec.gov/files/company_tickers.json', orient='index')\n",
    "    sec_site_mapping['Company Name'] = sec_site_mapping['title'].str.lower()\n",
    "    sec_site_mapping['Company Name'] = sec_site_mapping['Company Name'].str.replace('\\.', '', regex=True)\n",
    "    sec_site_mapping['Company Name'] = sec_site_mapping['Company Name'].str.replace('\\,', '', regex=True)\n",
    "    no_tikcer_company_list = df_unknown_symbol['Market'].unique()\n",
    "    company_name_to_ticker = {}\n",
    "    for i in list(map(lambda x: re.sub(r\"\\s\\(.*\\)\",\"\",x), no_tikcer_company_list)): # remove (*) from company name\n",
    "        if i.lower() in sec_site_mapping['Company Name'].values: # if no_ticker_list matchs lower case company name matches                \n",
    "            company_name_to_ticker[i] = sec_site_mapping[sec_site_mapping['Company Name'] == i.lower()]['ticker'].values[0]\n",
    "    \n",
    "    company_name__with_brackets_to_ticker = {}\n",
    "    for k, v in company_name_to_ticker.items():\n",
    "        # replace k with company list value, otherwise (All Sessions) will not match\n",
    "        for i in no_tikcer_company_list:\n",
    "            if k in i: # if k is a substring of i\n",
    "                company_name__with_brackets_to_ticker[i] = v\n",
    "    \n",
    "    return {**company_name_to_ticker, **company_name__with_brackets_to_ticker}\n",
    "\n",
    "\n",
    "def add_ticker(df_in: pd.DataFrame) -> pd.DataFrame:\n",
    "    ''' find ticker through \n",
    "    1. json file\n",
    "    2. sec site\n",
    "    3. ig pdf\n",
    "    4. close match\n",
    "    5. if not found, return empty string and throw up err\n",
    "    6. for new ticker found through 2,3,4, add to json file'''\n",
    "\n",
    "    reference_data_json_file = sys.path[0] + '/company_name_to_ticker.json'\n",
    "    if 'Ticker' not in df_in.columns:\n",
    "        df_in['Ticker'] = np.nan #create a new column for ticker\n",
    "        \n",
    "    else:\n",
    "        print(\"csv already has ticker in it, no need to add ticker\")\n",
    "        return df_in\n",
    "    \n",
    "\n",
    "    # 1. load known ticker from json to dataframe\n",
    "    df_in = load_ticker_from_json(reference_data_json_file, df_in)\n",
    "    # check if all ticker are found\n",
    "    df_unknown_symbol = df_in[df_in['Ticker'].isna()]\n",
    "    if len(df_unknown_symbol) == 0:\n",
    "        return df_in\n",
    "        \n",
    "    # 2. add ticker from sec site to df\n",
    "    sec_tickers = sec_ticker_mapping(df_unknown_symbol)\n",
    "    for k, v in sec_tickers.items():\n",
    "        df_in.loc[df_in['Market'] == k, 'Ticker'] = v\n",
    "    \n",
    "    # also add ticker to json file\n",
    "    add_ticker_to_json(sec_tickers, reference_data_json_file)\n",
    "\n",
    "    # check if all ticker are found\n",
    "    df_unknown_symbol = df_in[df_in['Ticker'].isna()]\n",
    "    if len(df_unknown_symbol) == 0:\n",
    "        return df_in\n",
    "\n",
    "    # 3. add ticker from ig pdf to df\n",
    "    print(df_unknown_symbol[['Date','Market', 'Ticker']])    \n",
    "    return df_in"
   ]
  },
  {
   "cell_type": "code",
   "execution_count": 28,
   "metadata": {},
   "outputs": [
    {
     "name": "stdout",
     "output_type": "stream",
     "text": [
      "                                                Market Ticker\n",
      "1                                           Tronox Ltd    NaN\n",
      "7                                    Kopin Corporation    NaN\n",
      "8                                    MP Materials Corp    NaN\n",
      "10                                 Blackstone Group LP    NaN\n",
      "11                                          Tronox Ltd    NaN\n",
      "13                                        PayPoint PLC    NaN\n",
      "14                                         Quidel Corp    NaN\n",
      "15                                         Quidel Corp    NaN\n",
      "16                                          Tronox Ltd    NaN\n",
      "17                           Energy Transfer Equity LP    NaN\n",
      "19                                   Kopin Corporation    NaN\n",
      "21                                 Blackstone Group LP    NaN\n",
      "24                                 Blackstone Group LP    NaN\n",
      "30                                   MP Materials Corp    NaN\n",
      "43                                   Kopin Corporation    NaN\n",
      "48                                   Kopin Corporation    NaN\n",
      "52                    VG Acquisition Corporation (Ord)    NaN\n",
      "53                    VG Acquisition Corporation (Ord)    NaN\n",
      "54                    VG Acquisition Corporation (Ord)    NaN\n",
      "56                           Energy Transfer Equity LP    NaN\n",
      "57                                       Schroders PLC    NaN\n",
      "58                                   MP Materials Corp    NaN\n",
      "62                                         Quidel Corp    NaN\n",
      "63          Infrastructure and Energy Alternatives Inc    NaN\n",
      "64                                   Kopin Corporation    NaN\n",
      "67          Infrastructure and Energy Alternatives Inc    NaN\n",
      "68                           Energy Transfer Equity LP    NaN\n",
      "71                           Energy Transfer Equity LP    NaN\n",
      "72                                         Quidel Corp    NaN\n",
      "92                           Energy Transfer Equity LP    NaN\n",
      "97                     Tesla Motors Inc (All Sessions)    NaN\n",
      "98                     Tesla Motors Inc (All Sessions)    NaN\n",
      "103                          Energy Transfer Equity LP    NaN\n",
      "107                          Energy Transfer Equity LP    NaN\n",
      "108                          Energy Transfer Equity LP    NaN\n",
      "114                          Energy Transfer Equity LP    NaN\n",
      "115                                         Xilinx Inc    NaN\n",
      "127                                       PayPoint PLC    NaN\n",
      "128                              IG Group Holdings PLC    NaN\n",
      "130                              IG Group Holdings PLC    NaN\n",
      "131  HSBC ETFs Public Limited Company - HSBC MSCI E...    NaN\n",
      "132                                       PayPoint PLC    NaN\n",
      "133                                       PayPoint PLC    NaN\n",
      "134                           iShares MSCI China A ETF    NaN\n",
      "144                                         Xilinx Inc    NaN\n",
      "145                           iShares MSCI China A ETF    NaN\n",
      "147  HSBC ETFs Public Limited Company - HSBC MSCI E...    NaN\n"
     ]
    },
    {
     "data": {
      "text/html": [
       "<div>\n",
       "<style scoped>\n",
       "    .dataframe tbody tr th:only-of-type {\n",
       "        vertical-align: middle;\n",
       "    }\n",
       "\n",
       "    .dataframe tbody tr th {\n",
       "        vertical-align: top;\n",
       "    }\n",
       "\n",
       "    .dataframe thead th {\n",
       "        text-align: right;\n",
       "    }\n",
       "</style>\n",
       "<table border=\"1\" class=\"dataframe\">\n",
       "  <thead>\n",
       "    <tr style=\"text-align: right;\">\n",
       "      <th></th>\n",
       "      <th>Market</th>\n",
       "      <th>Ticker</th>\n",
       "    </tr>\n",
       "  </thead>\n",
       "  <tbody>\n",
       "    <tr>\n",
       "      <th>0</th>\n",
       "      <td>Lumentum Holdings Inc</td>\n",
       "      <td>LITE</td>\n",
       "    </tr>\n",
       "    <tr>\n",
       "      <th>1</th>\n",
       "      <td>Tronox Ltd</td>\n",
       "      <td>NaN</td>\n",
       "    </tr>\n",
       "    <tr>\n",
       "      <th>2</th>\n",
       "      <td>International Seaways Inc</td>\n",
       "      <td>INSW</td>\n",
       "    </tr>\n",
       "    <tr>\n",
       "      <th>3</th>\n",
       "      <td>Raytheon Technologies Corp (All Sessions)</td>\n",
       "      <td>RTX</td>\n",
       "    </tr>\n",
       "    <tr>\n",
       "      <th>4</th>\n",
       "      <td>Mosaic Co</td>\n",
       "      <td>MOS</td>\n",
       "    </tr>\n",
       "    <tr>\n",
       "      <th>...</th>\n",
       "      <td>...</td>\n",
       "      <td>...</td>\n",
       "    </tr>\n",
       "    <tr>\n",
       "      <th>143</th>\n",
       "      <td>MSCI Inc</td>\n",
       "      <td>MSCI</td>\n",
       "    </tr>\n",
       "    <tr>\n",
       "      <th>144</th>\n",
       "      <td>Xilinx Inc</td>\n",
       "      <td>NaN</td>\n",
       "    </tr>\n",
       "    <tr>\n",
       "      <th>145</th>\n",
       "      <td>iShares MSCI China A ETF</td>\n",
       "      <td>NaN</td>\n",
       "    </tr>\n",
       "    <tr>\n",
       "      <th>146</th>\n",
       "      <td>Zscaler Inc</td>\n",
       "      <td>ZS</td>\n",
       "    </tr>\n",
       "    <tr>\n",
       "      <th>147</th>\n",
       "      <td>HSBC ETFs Public Limited Company - HSBC MSCI E...</td>\n",
       "      <td>NaN</td>\n",
       "    </tr>\n",
       "  </tbody>\n",
       "</table>\n",
       "<p>148 rows × 2 columns</p>\n",
       "</div>"
      ],
      "text/plain": [
       "                                                Market Ticker\n",
       "0                                Lumentum Holdings Inc   LITE\n",
       "1                                           Tronox Ltd    NaN\n",
       "2                            International Seaways Inc   INSW\n",
       "3            Raytheon Technologies Corp (All Sessions)    RTX\n",
       "4                                            Mosaic Co    MOS\n",
       "..                                                 ...    ...\n",
       "143                                           MSCI Inc   MSCI\n",
       "144                                         Xilinx Inc    NaN\n",
       "145                           iShares MSCI China A ETF    NaN\n",
       "146                                        Zscaler Inc     ZS\n",
       "147  HSBC ETFs Public Limited Company - HSBC MSCI E...    NaN\n",
       "\n",
       "[148 rows x 2 columns]"
      ]
     },
     "execution_count": 28,
     "metadata": {},
     "output_type": "execute_result"
    }
   ],
   "source": [
    "# with open('/mnt/f/Downloads/TradeHistory.csv', 'r') as f:\n",
    "with open('/home/kaizhang/Downloads/TradeHistory.csv') as f:\n",
    "    df = pd.read_csv(f)\n",
    "df_result = add_ticker(df)\n",
    "df_result[['Market', 'Ticker']]"
   ]
  },
  {
   "cell_type": "code",
   "execution_count": null,
   "metadata": {},
   "outputs": [],
   "source": []
  }
 ],
 "metadata": {
  "kernelspec": {
   "display_name": "Python 3.10.4 64-bit",
   "language": "python",
   "name": "python3"
  },
  "language_info": {
   "codemirror_mode": {
    "name": "ipython",
    "version": 3
   },
   "file_extension": ".py",
   "mimetype": "text/x-python",
   "name": "python",
   "nbconvert_exporter": "python",
   "pygments_lexer": "ipython3",
   "version": "3.8.10"
  },
  "orig_nbformat": 4,
  "vscode": {
   "interpreter": {
    "hash": "916dbcbb3f70747c44a77c7bcd40155683ae19c65e1c03b4aa3499c5328201f1"
   }
  }
 },
 "nbformat": 4,
 "nbformat_minor": 2
}

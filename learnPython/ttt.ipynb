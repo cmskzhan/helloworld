{
 "cells": [
  {
   "cell_type": "code",
   "execution_count": 8,
   "metadata": {},
   "outputs": [
    {
     "data": {
      "text/plain": [
       "array([[ 0,  0,  0,  0],\n",
       "       [ 1,  1,  1,  1],\n",
       "       [ 2,  2,  2,  2],\n",
       "       [ 3,  3,  3,  3],\n",
       "       [ 4,  4,  4,  4],\n",
       "       [ 5,  5,  5,  5],\n",
       "       [ 6,  6,  6,  6],\n",
       "       [ 7,  7,  7,  7],\n",
       "       [ 8,  8,  8,  8],\n",
       "       [ 9,  9,  9,  9],\n",
       "       [10, 10, 10, 10],\n",
       "       [11, 11, 11, 11],\n",
       "       [12, 12, 12, 12],\n",
       "       [13, 13, 13, 13],\n",
       "       [14, 14, 14, 14],\n",
       "       [15, 15, 15, 15],\n",
       "       [16, 16, 16, 16],\n",
       "       [17, 17, 17, 17],\n",
       "       [18, 18, 18, 18],\n",
       "       [19, 19, 19, 19],\n",
       "       [20, 20, 20, 20],\n",
       "       [21, 21, 21, 21],\n",
       "       [22, 22, 22, 22],\n",
       "       [23, 23, 23, 23],\n",
       "       [24, 24, 24, 24],\n",
       "       [25, 25, 25, 25],\n",
       "       [26, 26, 26, 26],\n",
       "       [27, 27, 27, 27],\n",
       "       [28, 28, 28, 28],\n",
       "       [29, 29, 29, 29]])"
      ]
     },
     "execution_count": 8,
     "metadata": {},
     "output_type": "execute_result"
    }
   ],
   "source": [
    "import numpy as np\n",
    "\n",
    "a = list(range(50))\n",
    "b = np.tile(a, (4,1)).transpose()\n",
    "b"
   ]
  },
  {
   "cell_type": "code",
   "execution_count": 20,
   "metadata": {},
   "outputs": [
    {
     "data": {
      "text/plain": [
       "array([[19, 19, 19, 19],\n",
       "       [19, 19, 19, 19],\n",
       "       [19, 19, 19, 19],\n",
       "       [19, 19, 19, 19],\n",
       "       [19, 19, 19, 19],\n",
       "       [19, 19, 19, 19],\n",
       "       [19, 19, 19, 19],\n",
       "       [19, 19, 19, 19],\n",
       "       [19, 19, 19, 19],\n",
       "       [19, 19, 19, 19],\n",
       "       [19, 19, 19, 19],\n",
       "       [19, 19, 19, 19],\n",
       "       [19, 19, 19, 19],\n",
       "       [19, 19, 19, 19],\n",
       "       [19, 19, 19, 19],\n",
       "       [19, 19, 19, 19],\n",
       "       [19, 19, 19, 19],\n",
       "       [19, 19, 19, 19],\n",
       "       [19, 19, 19, 19],\n",
       "       [19, 19, 19, 19],\n",
       "       [20, 20, 20, 20],\n",
       "       [21, 21, 21, 21],\n",
       "       [22, 22, 22, 22],\n",
       "       [23, 23, 23, 23],\n",
       "       [24, 24, 24, 24],\n",
       "       [25, 25, 25, 25],\n",
       "       [26, 26, 26, 26],\n",
       "       [27, 27, 27, 27],\n",
       "       [28, 28, 28, 28],\n",
       "       [29, 29, 29, 29]])"
      ]
     },
     "execution_count": 20,
     "metadata": {},
     "output_type": "execute_result"
    }
   ],
   "source": [
    "b[b<20] = 19\n",
    "b"
   ]
  },
  {
   "cell_type": "code",
   "execution_count": 21,
   "metadata": {},
   "outputs": [
    {
     "data": {
      "image/png": "[encoded data removed]",
      "text/plain": [
       "<Figure size 432x288 with 1 Axes>"
      ]
     },
     "metadata": {
      "needs_background": "light"
     },
     "output_type": "display_data"
    }
   ],
   "source": [
    "import matplotlib.pyplot as plt\n",
    "plt.figure()\n",
    "plt.imshow(b, origin='lower')\n",
    "plt.show()"
   ]
  },
  {
   "cell_type": "code",
   "execution_count": 18,
   "metadata": {},
   "outputs": [
    {
     "data": {
      "text/plain": [
       "[('thread-896645-1-3.html', '[50P]'),\n",
       " ('thread-896641-1-3.html', '[50P]'),\n",
       " ('thread-896640-1-3.html', '[50P]'),\n",
       " ('thread-896638-1-3.html', '[50P]'),\n",
       " ('thread-896637-1-3.html', '[50P]'),\n",
       " ('thread-896184-1-3.html',\n",
       "  '[俄罗斯美女] EternalDesire - Sonya Blaze - Summer Time [49P]'),\n",
       " ('thread-896169-1-3.html',\n",
       "  '[乌克兰美女] IStripper - Any Moloko - Afternoon Sweetie [49P]'),\n",
       " ('thread-896117-1-3.html',\n",
       "  '[乌克兰美女] MetArtX - Emily Swan - Appear to Me 1 [49P]'),\n",
       " ('thread-895221-1-3.html',\n",
       "  '[乌克兰美女] MPLStudios - Clarice - This Time Forever [49P]'),\n",
       " ('thread-893749-1-3.html', '[乌克兰女神] MetArt - Mila Azul - Role [49P]'),\n",
       " ('thread-892658-1-3.html',\n",
       "  '[委内瑞拉正妹与黑巨屌] Blacked - Ariana Van X, Agatha Vega - Invitation [49P]'),\n",
       " ('thread-892081-1-3.html',\n",
       "  '[委内瑞拉正妹与洋巨屌] Private - Agatha Vega - Fucked in Paradise [49P]'),\n",
       " ('thread-891667-1-3.html',\n",
       "  '[乌克兰美女] Watch4Beauty - Nancy A - Hidden Waterfall [49P]'),\n",
       " ('thread-890754-1-3.html',\n",
       "  '[乌克兰美女] MetArt - Clarice - Interview With Clarice [49P]'),\n",
       " ('thread-890734-1-3.html', '[俄罗斯正妹] RylskyArt - Siya - Storiya [49P]'),\n",
       " ('thread-889229-1-3.html', '[俄罗斯美女] MetArt - Georgia - Revival [49P]'),\n",
       " ('thread-887898-1-3.html', '[乌克兰美女] MetArt - Nancy A - Turn Me On [49P]'),\n",
       " ('thread-886258-1-3.html',\n",
       "  '[乌克兰美女] MPLStudios - Avery - Frisky Business [49P]'),\n",
       " ('thread-885834-1-3.html', '[乌克兰美女] FemJoy - Stefani P - Blossom [49P]'),\n",
       " ('thread-885598-1-3.html', '[50P]'),\n",
       " ('thread-885597-1-3.html', '[50P]'),\n",
       " ('thread-885595-1-3.html', '[50P]'),\n",
       " ('thread-885593-1-3.html', '[50P]'),\n",
       " ('thread-885591-1-3.html', '[50P]'),\n",
       " ('thread-884467-1-3.html', '[50P]'),\n",
       " ('thread-884466-1-3.html', '[50P]'),\n",
       " ('thread-884463-1-3.html', '[50P]'),\n",
       " ('thread-884462-1-3.html', '[50P]'),\n",
       " ('thread-884460-1-3.html', '[50P]'),\n",
       " ('thread-884335-1-3.html', '[乌克兰美女] MetArtX - Oxana Chic - Wet Job 1 [49P]')]"
      ]
     },
     "execution_count": 18,
     "metadata": {},
     "output_type": "execute_result"
    }
   ],
   "source": [
    "import requests\n",
    "import re\n",
    "\n",
    "forum_url = \"https://www.sehuatang.org/forum-49-3.html\"\n",
    "\n",
    "response = requests.get(forum_url)\n",
    "threads_url = re.findall(r\"\\<a\\shref=\\\"(?P<id>thread\\-\\d{6}-\\d-\\d\\.html)\\\"\\sonclick\\=\\\".*?(?P<content>\\[.*?)\\<\\/a\\>\", response.text, re.MULTILINE)\n",
    "threads_url"
   ]
  },
  {
   "cell_type": "code",
   "execution_count": 16,
   "metadata": {},
   "outputs": [
    {
     "name": "stdout",
     "output_type": "stream",
     "text": [
      "['https://www.sehuatang.org/thread-911693-1-2.html', 'https://www.sehuatang.org/thread-909509-1-2.html', 'https://www.sehuatang.org/thread-909171-1-2.html', 'https://www.sehuatang.org/thread-908543-1-2.html', 'https://www.sehuatang.org/thread-907072-1-2.html', 'https://www.sehuatang.org/thread-905994-1-2.html', 'https://www.sehuatang.org/thread-905970-1-2.html', 'https://www.sehuatang.org/thread-905020-1-2.html', 'https://www.sehuatang.org/thread-903737-1-2.html', 'https://www.sehuatang.org/thread-903381-1-2.html', 'https://www.sehuatang.org/thread-902798-1-2.html', 'https://www.sehuatang.org/thread-902769-1-2.html', 'https://www.sehuatang.org/thread-902766-1-2.html', 'https://www.sehuatang.org/thread-902755-1-2.html', 'https://www.sehuatang.org/thread-902753-1-2.html', 'https://www.sehuatang.org/thread-902441-1-2.html', 'https://www.sehuatang.org/thread-901783-1-2.html', 'https://www.sehuatang.org/thread-901782-1-2.html', 'https://www.sehuatang.org/thread-901781-1-2.html', 'https://www.sehuatang.org/thread-901664-1-2.html', 'https://www.sehuatang.org/thread-901563-1-2.html', 'https://www.sehuatang.org/thread-900347-1-2.html', 'https://www.sehuatang.org/thread-900319-1-2.html', 'https://www.sehuatang.org/thread-900303-1-2.html', 'https://www.sehuatang.org/thread-897856-1-2.html', 'https://www.sehuatang.org/thread-897837-1-2.html', 'https://www.sehuatang.org/thread-897835-1-2.html', 'https://www.sehuatang.org/thread-897818-1-2.html', 'https://www.sehuatang.org/thread-897815-1-2.html', 'https://www.sehuatang.org/thread-897631-1-2.html']\n"
     ]
    }
   ],
   "source": [
    "baseurl=\"https://www.sehuatang.org/\"\n",
    "htmlpages = []\n",
    "for i in threads_url:\n",
    "    htmlpages.append(baseurl+i[0])\n",
    "\n",
    "print(htmlpages)\n",
    "    "
   ]
  },
  {
   "cell_type": "code",
   "execution_count": 8,
   "metadata": {},
   "outputs": [
    {
     "data": {
      "text/plain": [
       "{'clientId': '102660536',\n",
       " 'accountId': 'QX2B3',\n",
       " 'timezoneOffset': 0,\n",
       " 'lightstreamerEndpoint': 'https://apd.marketdatasystems.com',\n",
       " 'oauthToken': {'access_token': 'af32d1b4-82b8-4c39-8e83-dee5426d93e9',\n",
       "  'refresh_token': '26d241c5-2518-421e-8fe4-5a139cb7a44e',\n",
       "  'scope': 'profile',\n",
       "  'token_type': 'Bearer',\n",
       "  'expires_in': '60'}}"
      ]
     },
     "execution_count": 8,
     "metadata": {},
     "output_type": "execute_result"
    }
   ],
   "source": [
    "import requests\n",
    "header = {'Content-Type': 'application/json; charset=UTF-8',\n",
    "        'X-IG-API-KEY': '99ff57ab7cfa0a7739b2fdb36f5cb2fc9183cf28',\n",
    "        'Version': '3',\n",
    "        'Accept': 'application/json; charset=UTF-8'}\n",
    "\n",
    "body = {\n",
    "    \"identifier\": \"shanghailondon2000\",\n",
    "    \"password\": \"Maya4pro-\"\n",
    "}\n",
    "url = 'https://api.ig.com/gateway/deal/session'\n",
    "response = requests.post(url, headers=header, json=body)\n",
    "a = response.json()\n",
    "a"
   ]
  },
  {
   "cell_type": "code",
   "execution_count": 9,
   "metadata": {},
   "outputs": [
    {
     "data": {
      "text/plain": [
       "'{\"errorCode\":\"error.public-api.failure.stockbroking-not-supported\"}'"
      ]
     },
     "execution_count": 9,
     "metadata": {},
     "output_type": "execute_result"
    }
   ],
   "source": [
    "header = {'Content-Type': 'application/json; charset=UTF-8',\n",
    "        'Accept': 'application/json; charset=UTF-8', \n",
    "        'X-IG-API-KEY': '99ff57ab7cfa0a7739b2fdb36f5cb2fc9183cf28',\n",
    "        'Version': '1',\n",
    "        'IG-ACCOUNT-ID': 'QX2B3',\n",
    "        'Authorization': 'Bearer '+a['oauthToken']['access_token']}\n",
    "\n",
    "url = 'https://api.ig.com/gateway/deal/accounts'\n",
    "response = requests.get(url, headers=header)\n",
    "b = response.text\n",
    "b"
   ]
  },
  {
   "cell_type": "code",
   "execution_count": 6,
   "metadata": {},
   "outputs": [
    {
     "name": "stdout",
     "output_type": "stream",
     "text": [
      "0:00:00.000150\n"
     ]
    },
    {
     "name": "stdout",
     "output_type": "stream",
     "text": [
      "starting async 3 sleep 😴\n",
      "starting async 6 sleep 😴\n",
      "finished async 3 sleep ⏰\n",
      "finished async 6 sleep ⏰\n",
      "[3, 6]\n"
     ]
    }
   ],
   "source": [
    "import asyncio\n",
    "import click\n",
    "import time\n",
    "from datetime import datetime\n",
    "\n",
    "async def sleep_and_print(seconds):\n",
    "    print(f\"starting async {seconds} sleep 😴\")\n",
    "    await asyncio.sleep(seconds)\n",
    "    print(f\"finished async {seconds} sleep ⏰\")\n",
    "    return seconds\n",
    "\n",
    "\n",
    "async def main():\n",
    "    # using arguments\n",
    "    results = await asyncio.gather(sleep_and_print(3), sleep_and_print(6))\n",
    "    print(results)\n",
    "\n",
    "\n",
    "start = datetime.now()\n",
    "loop = asyncio.get_event_loop()  # simply use asyncio.run(async_function()) in python script\n",
    "loop.create_task(main())\n",
    "click.secho(f\"{datetime.now()-start}\", bold=True, bg=\"blue\", fg=\"white\")\n"
   ]
  },
  {
   "cell_type": "code",
   "execution_count": 65,
   "metadata": {},
   "outputs": [
    {
     "name": "stdout",
     "output_type": "stream",
     "text": [
      "/mnt/f/github/helloworld/LearnPandas ['Ch01', 'Ch02', 'Ch03', 'Ch04', 'Ch05', 'Ch06', 'Ch07', 'Ch08', 'Ch09', 'Ch10', 'data'] ['kai-Pandas-notes.ipynb']\n",
      "/mnt/f/github/helloworld/LearnPandas/Ch01 ['.ipynb_checkpoints'] ['Ch01 Using pandas.ipynb']\n",
      "/mnt/f/github/helloworld/LearnPandas/Ch01/.ipynb_checkpoints [] ['Ch01 Using pandas-checkpoint.ipynb']\n",
      "/mnt/f/github/helloworld/LearnPandas/Ch02 ['.ipynb_checkpoints'] ['Ch02 Series and Dataframes Solution.ipynb', 'Ch02 Series and DataFrames.ipynb']\n",
      "/mnt/f/github/helloworld/LearnPandas/Ch02/.ipynb_checkpoints [] ['Ch02 Series and Dataframes Solution-checkpoint.ipynb', 'Ch02 Series and DataFrames-checkpoint.ipynb']\n",
      "/mnt/f/github/helloworld/LearnPandas/Ch03 ['.ipynb_checkpoints'] ['Ch03 Data input and validation.ipynb']\n",
      "/mnt/f/github/helloworld/LearnPandas/Ch03/.ipynb_checkpoints [] ['Ch03 Data input and validation-checkpoint.ipynb']\n",
      "/mnt/f/github/helloworld/LearnPandas/Ch04 ['.ipynb_checkpoints'] ['Ch04 Basic Analysis Solution.ipynb', 'Ch04 Basic Analysis.ipynb']\n",
      "/mnt/f/github/helloworld/LearnPandas/Ch04/.ipynb_checkpoints [] ['Ch04 Basic Analysis Solution-checkpoint.ipynb', 'Ch04 Basic Analysis-checkpoint.ipynb']\n",
      "/mnt/f/github/helloworld/LearnPandas/Ch05 ['.ipynb_checkpoints'] ['Ch05 Basic Plotting Solution.ipynb', 'Ch05 Basic plotting.ipynb']\n",
      "/mnt/f/github/helloworld/LearnPandas/Ch05/.ipynb_checkpoints [] ['Ch05 Basic Plotting Solution-checkpoint.ipynb', 'Ch05 Basic plotting-checkpoint.ipynb']\n",
      "/mnt/f/github/helloworld/LearnPandas/Ch06 ['.ipynb_checkpoints'] ['Ch06 Indexing Solution.ipynb', 'Ch06 Indexing.ipynb']\n",
      "/mnt/f/github/helloworld/LearnPandas/Ch06/.ipynb_checkpoints [] ['Ch06 Indexing Solution-checkpoint.ipynb', 'Ch06 Indexing-checkpoint.ipynb']\n",
      "/mnt/f/github/helloworld/LearnPandas/Ch07 ['.ipynb_checkpoints'] ['Ch07 Groupby Solution.ipynb', 'Ch07 Groupby.ipynb']\n",
      "/mnt/f/github/helloworld/LearnPandas/Ch07/.ipynb_checkpoints [] ['Ch07 Groupby Solution-checkpoint.ipynb', 'Ch07 Groupby-checkpoint.ipynb']\n",
      "/mnt/f/github/helloworld/LearnPandas/Ch08 ['.ipynb_checkpoints'] ['Ch08 Solution.ipynb', 'Ch08 stack() and unstack().ipynb']\n",
      "/mnt/f/github/helloworld/LearnPandas/Ch08/.ipynb_checkpoints [] ['Ch08 Solution-checkpoint.ipynb', 'Ch08 stack() and unstack()-checkpoint.ipynb']\n",
      "/mnt/f/github/helloworld/LearnPandas/Ch09 ['.ipynb_checkpoints'] ['Ch09 Data visualizations.ipynb']\n",
      "/mnt/f/github/helloworld/LearnPandas/Ch09/.ipynb_checkpoints [] ['Ch09 Data visualizations-checkpoint.ipynb']\n",
      "/mnt/f/github/helloworld/LearnPandas/Ch10 [] ['Ch10 Solution.ipynb']\n",
      "/mnt/f/github/helloworld/LearnPandas/data [] ['edgarDB.py', 'olympics.csv', 'selenium-test.py', 'Summer Olympic medallists 1896 to 2008 - IOC COUNTRY CODES.csv']\n"
     ]
    }
   ],
   "source": [
    "recursive_list1 = os.walk(folder2)\n",
    "for (dirpath, dirnames, filenames) in recursive_list1:\n",
    "    print(dirpath, dirnames, filenames)"
   ]
  },
  {
   "cell_type": "code",
   "execution_count": 38,
   "metadata": {},
   "outputs": [
    {
     "data": {
      "text/plain": [
       "'/mnt/f/github/helloworld/LearnNumpy/.+?/'"
      ]
     },
     "execution_count": 38,
     "metadata": {},
     "output_type": "execute_result"
    }
   ],
   "source": [
    "input_str = '/mnt/f/github/helloworld/LearnNumpy/C*'\n",
    "str = '/mnt/4thdd/download/18plus/thread*'\n",
    "str = '/mnt/f/github/helloworld/LearnNumpy/Ch 01/01_01/aijf.jpg'\n",
    "rep_str = '/mnt/newfolder'\n",
    "\n",
    "pattern = re.sub(\"\\*\",\".+?/\",input_str)\n",
    "pattern"
   ]
  },
  {
   "cell_type": "code",
   "execution_count": 45,
   "metadata": {},
   "outputs": [
    {
     "data": {
      "text/plain": [
       "<re.Match object; span=(0, 41), match='/mnt/f/github/helloworld/LearnNumpy/Ch 0/'>"
      ]
     },
     "execution_count": 45,
     "metadata": {},
     "output_type": "execute_result"
    }
   ],
   "source": [
    "m = re.match('/mnt/f/github/helloworld/LearnNumpy/.+?/', l1[4])\n",
    "m"
   ]
  },
  {
   "cell_type": "code",
   "execution_count": 43,
   "metadata": {},
   "outputs": [
    {
     "data": {
      "text/plain": [
       "<re.Match object; span=(0, 41), match='/mnt/f/github/helloworld/LearnNumpy/Ch 0/'>"
      ]
     },
     "execution_count": 43,
     "metadata": {},
     "output_type": "execute_result"
    }
   ],
   "source": [
    "m = re.match(pattern, l1[4])\n",
    "m"
   ]
  },
  {
   "cell_type": "code",
   "execution_count": 28,
   "metadata": {},
   "outputs": [
    {
     "data": {
      "text/plain": [
       "'/mnt/f/github/helloworld/LearnNumpy/Ch 0/00_03/Finish/UMQAV.ipynb'"
      ]
     },
     "execution_count": 28,
     "metadata": {},
     "output_type": "execute_result"
    }
   ],
   "source": [
    "l1[4]"
   ]
  },
  {
   "cell_type": "code",
   "execution_count": 57,
   "metadata": {},
   "outputs": [
    {
     "data": {
      "text/plain": [
       "2    -138200.03\n",
       "3    -135700.03\n",
       "7     107000.00\n",
       "10    269400.00\n",
       "dtype: float64"
      ]
     },
     "execution_count": 57,
     "metadata": {},
     "output_type": "execute_result"
    }
   ],
   "source": [
    "position = df_in['Quantity'].sum()\n",
    "commission = df_in['Commission'].sum()\n",
    "charges = df_in['Charges'].sum()\n"
   ]
  },
  {
   "cell_type": "code",
   "execution_count": 85,
   "metadata": {},
   "outputs": [
    {
     "data": {
      "text/html": [
       "<div>\n",
       "<style scoped>\n",
       "    .dataframe tbody tr th:only-of-type {\n",
       "        vertical-align: middle;\n",
       "    }\n",
       "\n",
       "    .dataframe tbody tr th {\n",
       "        vertical-align: top;\n",
       "    }\n",
       "\n",
       "    .dataframe thead tr th {\n",
       "        text-align: left;\n",
       "    }\n",
       "</style>\n",
       "<table border=\"1\" class=\"dataframe\">\n",
       "  <thead>\n",
       "    <tr>\n",
       "      <th>Attributes</th>\n",
       "      <th>Close</th>\n",
       "      <th>High</th>\n",
       "      <th>Low</th>\n",
       "      <th>Open</th>\n",
       "      <th>Volume</th>\n",
       "    </tr>\n",
       "    <tr>\n",
       "      <th>Symbols</th>\n",
       "      <th>FDS</th>\n",
       "      <th>FDS</th>\n",
       "      <th>FDS</th>\n",
       "      <th>FDS</th>\n",
       "      <th>FDS</th>\n",
       "    </tr>\n",
       "  </thead>\n",
       "  <tbody>\n",
       "    <tr>\n",
       "      <th>2022-01-03</th>\n",
       "      <td>472.958</td>\n",
       "      <td>483.3530</td>\n",
       "      <td>467.492</td>\n",
       "      <td>480.755</td>\n",
       "      <td>2.925759e+05</td>\n",
       "    </tr>\n",
       "    <tr>\n",
       "      <th>2022-01-04</th>\n",
       "      <td>469.413</td>\n",
       "      <td>476.2640</td>\n",
       "      <td>467.393</td>\n",
       "      <td>475.547</td>\n",
       "      <td>3.662432e+05</td>\n",
       "    </tr>\n",
       "    <tr>\n",
       "      <th>2022-01-05</th>\n",
       "      <td>448.386</td>\n",
       "      <td>470.8680</td>\n",
       "      <td>447.510</td>\n",
       "      <td>469.693</td>\n",
       "      <td>3.763463e+05</td>\n",
       "    </tr>\n",
       "    <tr>\n",
       "      <th>2022-01-06</th>\n",
       "      <td>446.534</td>\n",
       "      <td>449.1920</td>\n",
       "      <td>440.779</td>\n",
       "      <td>447.102</td>\n",
       "      <td>3.901002e+05</td>\n",
       "    </tr>\n",
       "    <tr>\n",
       "      <th>2022-01-07</th>\n",
       "      <td>439.027</td>\n",
       "      <td>447.1020</td>\n",
       "      <td>438.758</td>\n",
       "      <td>446.305</td>\n",
       "      <td>2.653281e+05</td>\n",
       "    </tr>\n",
       "    <tr>\n",
       "      <th>...</th>\n",
       "      <td>...</td>\n",
       "      <td>...</td>\n",
       "      <td>...</td>\n",
       "      <td>...</td>\n",
       "      <td>...</td>\n",
       "    </tr>\n",
       "    <tr>\n",
       "      <th>2022-09-16</th>\n",
       "      <td>446.020</td>\n",
       "      <td>447.0200</td>\n",
       "      <td>438.440</td>\n",
       "      <td>443.110</td>\n",
       "      <td>4.440130e+05</td>\n",
       "    </tr>\n",
       "    <tr>\n",
       "      <th>2022-09-19</th>\n",
       "      <td>446.460</td>\n",
       "      <td>446.6700</td>\n",
       "      <td>439.900</td>\n",
       "      <td>442.660</td>\n",
       "      <td>2.612010e+05</td>\n",
       "    </tr>\n",
       "    <tr>\n",
       "      <th>2022-09-20</th>\n",
       "      <td>441.640</td>\n",
       "      <td>445.3700</td>\n",
       "      <td>437.660</td>\n",
       "      <td>443.510</td>\n",
       "      <td>2.293460e+05</td>\n",
       "    </tr>\n",
       "    <tr>\n",
       "      <th>2022-09-21</th>\n",
       "      <td>430.450</td>\n",
       "      <td>446.7850</td>\n",
       "      <td>430.220</td>\n",
       "      <td>442.790</td>\n",
       "      <td>3.349610e+05</td>\n",
       "    </tr>\n",
       "    <tr>\n",
       "      <th>2022-09-22</th>\n",
       "      <td>394.750</td>\n",
       "      <td>417.7195</td>\n",
       "      <td>386.810</td>\n",
       "      <td>413.010</td>\n",
       "      <td>1.215550e+06</td>\n",
       "    </tr>\n",
       "  </tbody>\n",
       "</table>\n",
       "<p>182 rows × 5 columns</p>\n",
       "</div>"
      ],
      "text/plain": [
       "Attributes    Close      High      Low     Open        Volume\n",
       "Symbols         FDS       FDS      FDS      FDS           FDS\n",
       "2022-01-03  472.958  483.3530  467.492  480.755  2.925759e+05\n",
       "2022-01-04  469.413  476.2640  467.393  475.547  3.662432e+05\n",
       "2022-01-05  448.386  470.8680  447.510  469.693  3.763463e+05\n",
       "2022-01-06  446.534  449.1920  440.779  447.102  3.901002e+05\n",
       "2022-01-07  439.027  447.1020  438.758  446.305  2.653281e+05\n",
       "...             ...       ...      ...      ...           ...\n",
       "2022-09-16  446.020  447.0200  438.440  443.110  4.440130e+05\n",
       "2022-09-19  446.460  446.6700  439.900  442.660  2.612010e+05\n",
       "2022-09-20  441.640  445.3700  437.660  443.510  2.293460e+05\n",
       "2022-09-21  430.450  446.7850  430.220  442.790  3.349610e+05\n",
       "2022-09-22  394.750  417.7195  386.810  413.010  1.215550e+06\n",
       "\n",
       "[182 rows x 5 columns]"
      ]
     },
     "execution_count": 85,
     "metadata": {},
     "output_type": "execute_result"
    }
   ],
   "source": [
    "import pandas_datareader.data as web\n",
    "import pandas as pd\n",
    "# last business day\n",
    "last_business_day = (pd.to_datetime('today') - pd.offsets.BDay(1)).strftime('%Y-%m-%d')\n",
    "last_business_day\n",
    "MSCI = web.DataReader(['MS-PL', 'FDS'], 'stooq',  \"2022-01-01\", last_business_day)\n",
    "# MSCI.iloc[0]['Close']\n",
    "MSCI\n"
   ]
  },
  {
   "cell_type": "code",
   "execution_count": 24,
   "metadata": {},
   "outputs": [
    {
     "data": {
      "text/html": [
       "<div>\n",
       "<style scoped>\n",
       "    .dataframe tbody tr th:only-of-type {\n",
       "        vertical-align: middle;\n",
       "    }\n",
       "\n",
       "    .dataframe tbody tr th {\n",
       "        vertical-align: top;\n",
       "    }\n",
       "\n",
       "    .dataframe thead tr th {\n",
       "        text-align: left;\n",
       "    }\n",
       "\n",
       "    .dataframe thead tr:last-of-type th {\n",
       "        text-align: right;\n",
       "    }\n",
       "</style>\n",
       "<table border=\"1\" class=\"dataframe\">\n",
       "  <thead>\n",
       "    <tr>\n",
       "      <th>Attributes</th>\n",
       "      <th colspan=\"2\" halign=\"left\">Adj Close</th>\n",
       "      <th colspan=\"2\" halign=\"left\">Close</th>\n",
       "      <th colspan=\"2\" halign=\"left\">High</th>\n",
       "      <th colspan=\"2\" halign=\"left\">Low</th>\n",
       "      <th colspan=\"2\" halign=\"left\">Open</th>\n",
       "      <th colspan=\"2\" halign=\"left\">Volume</th>\n",
       "    </tr>\n",
       "    <tr>\n",
       "      <th>Symbols</th>\n",
       "      <th>MSCI</th>\n",
       "      <th>FDS</th>\n",
       "      <th>MSCI</th>\n",
       "      <th>FDS</th>\n",
       "      <th>MSCI</th>\n",
       "      <th>FDS</th>\n",
       "      <th>MSCI</th>\n",
       "      <th>FDS</th>\n",
       "      <th>MSCI</th>\n",
       "      <th>FDS</th>\n",
       "      <th>MSCI</th>\n",
       "      <th>FDS</th>\n",
       "    </tr>\n",
       "    <tr>\n",
       "      <th>Date</th>\n",
       "      <th></th>\n",
       "      <th></th>\n",
       "      <th></th>\n",
       "      <th></th>\n",
       "      <th></th>\n",
       "      <th></th>\n",
       "      <th></th>\n",
       "      <th></th>\n",
       "      <th></th>\n",
       "      <th></th>\n",
       "      <th></th>\n",
       "      <th></th>\n",
       "    </tr>\n",
       "  </thead>\n",
       "  <tbody>\n",
       "    <tr>\n",
       "      <th>2022-09-14</th>\n",
       "      <td>469.109985</td>\n",
       "      <td>448.859985</td>\n",
       "      <td>469.109985</td>\n",
       "      <td>448.859985</td>\n",
       "      <td>475.929993</td>\n",
       "      <td>453.700012</td>\n",
       "      <td>461.73999</td>\n",
       "      <td>445.380005</td>\n",
       "      <td>475.119995</td>\n",
       "      <td>446.549988</td>\n",
       "      <td>331600</td>\n",
       "      <td>317600</td>\n",
       "    </tr>\n",
       "  </tbody>\n",
       "</table>\n",
       "</div>"
      ],
      "text/plain": [
       "Attributes   Adj Close                   Close                    High  \\\n",
       "Symbols           MSCI         FDS        MSCI         FDS        MSCI   \n",
       "Date                                                                     \n",
       "2022-09-14  469.109985  448.859985  469.109985  448.859985  475.929993   \n",
       "\n",
       "Attributes                    Low                    Open              Volume  \\\n",
       "Symbols            FDS       MSCI         FDS        MSCI         FDS    MSCI   \n",
       "Date                                                                            \n",
       "2022-09-14  453.700012  461.73999  445.380005  475.119995  446.549988  331600   \n",
       "\n",
       "Attributes          \n",
       "Symbols        FDS  \n",
       "Date                \n",
       "2022-09-14  317600  "
      ]
     },
     "execution_count": 24,
     "metadata": {},
     "output_type": "execute_result"
    }
   ],
   "source": [
    "FDS = web.DataReader(['MSCI', 'FDS'], 'yahoo',  last_business_day)\n",
    "FDS"
   ]
  },
  {
   "cell_type": "code",
   "execution_count": 59,
   "metadata": {},
   "outputs": [
    {
     "data": {
      "text/plain": [
       "4099.9976"
      ]
     },
     "execution_count": 59,
     "metadata": {},
     "output_type": "execute_result"
    }
   ],
   "source": [
    "DollarCost = (df_in['Quantity'] * df_in['Price']).sum() + df_in['Charges'].sum()\n",
    "df_in['Quantity'] * df_in['Price'] + df_in['Charges']\n",
    "\n",
    "DollarCost_per_share = DollarCost / position\n",
    "GBPCost = ((df_in['Quantity'] * df_in['Price'] + df_in['Charges']) * df_in['Conversion rate'] - df_in['Commission']).sum()\n",
    "GBPCost_per_share = GBPCost / position\n",
    "DollarCost_per_share"
   ]
  },
  {
   "cell_type": "code",
   "execution_count": null,
   "metadata": {},
   "outputs": [],
   "source": [
    "# don't run this cell, it's just for reference\n",
    "all_pdf_tickers = pd.DataFrame()\n",
    "count = 0\n",
    "for i in mapping_lines:\n",
    "    m = re.search(pattern, i)\n",
    "    if m:\n",
    "        all_pdf_tickers = all_pdf_tickers.append(m.groupdict(), ignore_index=True)\n",
    "    else:\n",
    "        count += 1\n",
    "        print(f\"failed to match: {i}, which is at mapping_lines {count}\")\n",
    "\n",
    "print(len(all_pdf_tickers), count)\n"
   ]
  },
  {
   "cell_type": "code",
   "execution_count": null,
   "metadata": {},
   "outputs": [],
   "source": [
    "with open('/home/kaizhang/Downloads/Stockbroking Share List.pdf', 'rb') as f:\n",
    "    pdf = PyPDF2.PdfFileReader(f)\n",
    "    page = pdf.getPage(0)\n",
    "    page_content = page.extractText()\n",
    "    print(page_content)\n",
    "\n",
    "# regex match word after \"/\"\n",
    "import re\n",
    "# pattern = r\"\\/\\s?P<symbol>\\w+.\\w+\" # match / word.word\n",
    "pattern = r\"\\/\\s\\w+.\\w+\" # match / word.word\n",
    "re.search(pattern, mapping_lines[80])"
   ]
  },
  {
   "cell_type": "code",
   "execution_count": 34,
   "metadata": {},
   "outputs": [
    {
     "data": {
      "text/plain": [
       "{'name': 'Windar Photonics PLC',\n",
       " 'ticker': 'WPHO.L',\n",
       " 'symbol': 'WPHO',\n",
       " 'region': 'LN',\n",
       " 'ISA': 'Y',\n",
       " 'SIPP': 'Y'}"
      ]
     },
     "execution_count": 34,
     "metadata": {},
     "output_type": "execute_result"
    }
   ],
   "source": [
    "m.groupdict()"
   ]
  },
  {
   "cell_type": "code",
   "execution_count": 25,
   "metadata": {},
   "outputs": [
    {
     "data": {
      "text/html": [
       "<div>\n",
       "<style scoped>\n",
       "    .dataframe tbody tr th:only-of-type {\n",
       "        vertical-align: middle;\n",
       "    }\n",
       "\n",
       "    .dataframe tbody tr th {\n",
       "        vertical-align: top;\n",
       "    }\n",
       "\n",
       "    .dataframe thead th {\n",
       "        text-align: right;\n",
       "    }\n",
       "</style>\n",
       "<table border=\"1\" class=\"dataframe\">\n",
       "  <thead>\n",
       "    <tr style=\"text-align: right;\">\n",
       "      <th></th>\n",
       "      <th>name</th>\n",
       "      <th>ticker</th>\n",
       "      <th>symbol</th>\n",
       "      <th>region</th>\n",
       "      <th>ISA</th>\n",
       "      <th>SIPP</th>\n",
       "    </tr>\n",
       "  </thead>\n",
       "  <tbody>\n",
       "    <tr>\n",
       "      <th>0</th>\n",
       "      <td>AMP Limited</td>\n",
       "      <td>AMP.AX</td>\n",
       "      <td>AMP</td>\n",
       "      <td>AU</td>\n",
       "      <td>Y</td>\n",
       "      <td>Y</td>\n",
       "    </tr>\n",
       "  </tbody>\n",
       "</table>\n",
       "</div>"
      ],
      "text/plain": [
       "          name  ticker symbol region ISA SIPP\n",
       "0  AMP Limited  AMP.AX    AMP     AU   Y    Y"
      ]
     },
     "execution_count": 25,
     "metadata": {},
     "output_type": "execute_result"
    }
   ],
   "source": [
    "# create a dataframe from dict\n",
    "import pandas as pd\n",
    "df = pd.DataFrame(m.groupdict(), index=[0])\n",
    "df"
   ]
  },
  {
   "cell_type": "code",
   "execution_count": 64,
   "metadata": {},
   "outputs": [
    {
     "name": "stderr",
     "output_type": "stream",
     "text": [
      "<ipython-input-64-0f4d69810f3d>:4: FutureWarning: The default value of regex will change from True to False in a future version.\n",
      "  aa[\"CompanyName\"] = aa[\"CompanyName\"].str.replace('\\.', '')\n",
      "<ipython-input-64-0f4d69810f3d>:5: FutureWarning: The default value of regex will change from True to False in a future version.\n",
      "  aa[\"CompanyName\"] = aa[\"CompanyName\"].str.replace('\\,', '')\n"
     ]
    },
    {
     "data": {
      "text/html": [
       "<div>\n",
       "<style scoped>\n",
       "    .dataframe tbody tr th:only-of-type {\n",
       "        vertical-align: middle;\n",
       "    }\n",
       "\n",
       "    .dataframe tbody tr th {\n",
       "        vertical-align: top;\n",
       "    }\n",
       "\n",
       "    .dataframe thead th {\n",
       "        text-align: right;\n",
       "    }\n",
       "</style>\n",
       "<table border=\"1\" class=\"dataframe\">\n",
       "  <thead>\n",
       "    <tr style=\"text-align: right;\">\n",
       "      <th></th>\n",
       "      <th>cik_str</th>\n",
       "      <th>ticker</th>\n",
       "      <th>title</th>\n",
       "      <th>CompanyName</th>\n",
       "    </tr>\n",
       "  </thead>\n",
       "  <tbody>\n",
       "    <tr>\n",
       "      <th>0</th>\n",
       "      <td>320193</td>\n",
       "      <td>AAPL</td>\n",
       "      <td>Apple Inc.</td>\n",
       "      <td>apple inc</td>\n",
       "    </tr>\n",
       "    <tr>\n",
       "      <th>1</th>\n",
       "      <td>789019</td>\n",
       "      <td>MSFT</td>\n",
       "      <td>MICROSOFT CORP</td>\n",
       "      <td>microsoft corp</td>\n",
       "    </tr>\n",
       "    <tr>\n",
       "      <th>2</th>\n",
       "      <td>1318605</td>\n",
       "      <td>TSLA</td>\n",
       "      <td>Tesla, Inc.</td>\n",
       "      <td>tesla inc</td>\n",
       "    </tr>\n",
       "    <tr>\n",
       "      <th>3</th>\n",
       "      <td>1067983</td>\n",
       "      <td>BRK-B</td>\n",
       "      <td>BERKSHIRE HATHAWAY INC</td>\n",
       "      <td>berkshire hathaway inc</td>\n",
       "    </tr>\n",
       "    <tr>\n",
       "      <th>4</th>\n",
       "      <td>731766</td>\n",
       "      <td>UNH</td>\n",
       "      <td>UNITEDHEALTH GROUP INC</td>\n",
       "      <td>unitedhealth group inc</td>\n",
       "    </tr>\n",
       "    <tr>\n",
       "      <th>...</th>\n",
       "      <td>...</td>\n",
       "      <td>...</td>\n",
       "      <td>...</td>\n",
       "      <td>...</td>\n",
       "    </tr>\n",
       "    <tr>\n",
       "      <th>12037</th>\n",
       "      <td>1769624</td>\n",
       "      <td>AGBAW</td>\n",
       "      <td>AGBA Acquisition Ltd</td>\n",
       "      <td>agba acquisition ltd</td>\n",
       "    </tr>\n",
       "    <tr>\n",
       "      <th>12038</th>\n",
       "      <td>1769624</td>\n",
       "      <td>AGBAR</td>\n",
       "      <td>AGBA Acquisition Ltd</td>\n",
       "      <td>agba acquisition ltd</td>\n",
       "    </tr>\n",
       "    <tr>\n",
       "      <th>12039</th>\n",
       "      <td>1790665</td>\n",
       "      <td>GNRSW</td>\n",
       "      <td>Greenrose Holding Co Inc.</td>\n",
       "      <td>greenrose holding co inc</td>\n",
       "    </tr>\n",
       "    <tr>\n",
       "      <th>12040</th>\n",
       "      <td>1790665</td>\n",
       "      <td>GNRSU</td>\n",
       "      <td>Greenrose Holding Co Inc.</td>\n",
       "      <td>greenrose holding co inc</td>\n",
       "    </tr>\n",
       "    <tr>\n",
       "      <th>12041</th>\n",
       "      <td>1809750</td>\n",
       "      <td>EDBLW</td>\n",
       "      <td>Edible Garden AG Inc</td>\n",
       "      <td>edible garden ag inc</td>\n",
       "    </tr>\n",
       "  </tbody>\n",
       "</table>\n",
       "<p>12042 rows × 4 columns</p>\n",
       "</div>"
      ],
      "text/plain": [
       "       cik_str ticker                      title               CompanyName\n",
       "0       320193   AAPL                 Apple Inc.                 apple inc\n",
       "1       789019   MSFT             MICROSOFT CORP            microsoft corp\n",
       "2      1318605   TSLA                Tesla, Inc.                 tesla inc\n",
       "3      1067983  BRK-B     BERKSHIRE HATHAWAY INC    berkshire hathaway inc\n",
       "4       731766    UNH     UNITEDHEALTH GROUP INC    unitedhealth group inc\n",
       "...        ...    ...                        ...                       ...\n",
       "12037  1769624  AGBAW       AGBA Acquisition Ltd      agba acquisition ltd\n",
       "12038  1769624  AGBAR       AGBA Acquisition Ltd      agba acquisition ltd\n",
       "12039  1790665  GNRSW  Greenrose Holding Co Inc.  greenrose holding co inc\n",
       "12040  1790665  GNRSU  Greenrose Holding Co Inc.  greenrose holding co inc\n",
       "12041  1809750  EDBLW       Edible Garden AG Inc      edible garden ag inc\n",
       "\n",
       "[12042 rows x 4 columns]"
      ]
     },
     "execution_count": 64,
     "metadata": {},
     "output_type": "execute_result"
    }
   ],
   "source": [
    "import pandas as pd\n",
    "aa = pd.read_json(r\"https://www.sec.gov/files/company_tickers.json\", orient='index', )\n",
    "aa[\"CompanyName\"] = aa['title'].str.lower()\n",
    "aa[\"CompanyName\"] = aa[\"CompanyName\"].str.replace('\\.', '')\n",
    "aa[\"CompanyName\"] = aa[\"CompanyName\"].str.replace('\\,', '')\n",
    "aa"
   ]
  },
  {
   "cell_type": "code",
   "execution_count": 59,
   "metadata": {},
   "outputs": [
    {
     "data": {
      "text/html": [
       "<div>\n",
       "<style scoped>\n",
       "    .dataframe tbody tr th:only-of-type {\n",
       "        vertical-align: middle;\n",
       "    }\n",
       "\n",
       "    .dataframe tbody tr th {\n",
       "        vertical-align: top;\n",
       "    }\n",
       "\n",
       "    .dataframe thead th {\n",
       "        text-align: right;\n",
       "    }\n",
       "</style>\n",
       "<table border=\"1\" class=\"dataframe\">\n",
       "  <thead>\n",
       "    <tr style=\"text-align: right;\">\n",
       "      <th></th>\n",
       "      <th>Market</th>\n",
       "      <th>Ticker</th>\n",
       "    </tr>\n",
       "  </thead>\n",
       "  <tbody>\n",
       "    <tr>\n",
       "      <th>0</th>\n",
       "      <td>Lumentum Holdings Inc</td>\n",
       "      <td>LITE</td>\n",
       "    </tr>\n",
       "    <tr>\n",
       "      <th>1</th>\n",
       "      <td>Tronox Ltd</td>\n",
       "      <td>NaN</td>\n",
       "    </tr>\n",
       "    <tr>\n",
       "      <th>2</th>\n",
       "      <td>International Seaways Inc</td>\n",
       "      <td>INSW</td>\n",
       "    </tr>\n",
       "    <tr>\n",
       "      <th>3</th>\n",
       "      <td>Raytheon Technologies Corp (All Sessions)</td>\n",
       "      <td>RTX</td>\n",
       "    </tr>\n",
       "    <tr>\n",
       "      <th>4</th>\n",
       "      <td>Mosaic Co</td>\n",
       "      <td>MOS</td>\n",
       "    </tr>\n",
       "    <tr>\n",
       "      <th>...</th>\n",
       "      <td>...</td>\n",
       "      <td>...</td>\n",
       "    </tr>\n",
       "    <tr>\n",
       "      <th>143</th>\n",
       "      <td>MSCI Inc</td>\n",
       "      <td>MSCI</td>\n",
       "    </tr>\n",
       "    <tr>\n",
       "      <th>144</th>\n",
       "      <td>Xilinx Inc</td>\n",
       "      <td>NaN</td>\n",
       "    </tr>\n",
       "    <tr>\n",
       "      <th>145</th>\n",
       "      <td>iShares MSCI China A ETF</td>\n",
       "      <td>NaN</td>\n",
       "    </tr>\n",
       "    <tr>\n",
       "      <th>146</th>\n",
       "      <td>Zscaler Inc</td>\n",
       "      <td>ZS</td>\n",
       "    </tr>\n",
       "    <tr>\n",
       "      <th>147</th>\n",
       "      <td>HSBC ETFs Public Limited Company - HSBC MSCI E...</td>\n",
       "      <td>NaN</td>\n",
       "    </tr>\n",
       "  </tbody>\n",
       "</table>\n",
       "<p>148 rows × 2 columns</p>\n",
       "</div>"
      ],
      "text/plain": [
       "                                                Market Ticker\n",
       "0                                Lumentum Holdings Inc   LITE\n",
       "1                                           Tronox Ltd    NaN\n",
       "2                            International Seaways Inc   INSW\n",
       "3            Raytheon Technologies Corp (All Sessions)    RTX\n",
       "4                                            Mosaic Co    MOS\n",
       "..                                                 ...    ...\n",
       "143                                           MSCI Inc   MSCI\n",
       "144                                         Xilinx Inc    NaN\n",
       "145                           iShares MSCI China A ETF    NaN\n",
       "146                                        Zscaler Inc     ZS\n",
       "147  HSBC ETFs Public Limited Company - HSBC MSCI E...    NaN\n",
       "\n",
       "[148 rows x 2 columns]"
      ]
     },
     "execution_count": 59,
     "metadata": {},
     "output_type": "execute_result"
    }
   ],
   "source": [
    "df_trade_history = pd.read_csv(\"/mnt/f/Downloads/TradeHistory.csv\")\n",
    "company_list = df_trade_history['Market'].unique()\n",
    "company_name_to_ticker = {}\n",
    "\n",
    "for i in list(map(lambda x: re.sub(r\"\\s\\(.*\\)\",\"\",x), company_list)): # remove (*) from company name\n",
    "            if i.lower() in aa['CompanyName'].values: # if no_ticker_list matchs lower case company name matches                \n",
    "                company_name_to_ticker[i] = aa[aa['CompanyName'] == i.lower()]['ticker'].values[0]\n",
    "       \n",
    "df_trade_history['Ticker'] = np.nan\n",
    "for k, v in company_name_to_ticker.items():\n",
    "    # replace k with company list value\n",
    "    for i in company_list:\n",
    "        # if k is a substring of i\n",
    "        if k in i:\n",
    "            df_trade_history.loc[df_trade_history['Market'] == i, 'Ticker'] = v\n",
    "df_trade_history[['Market', 'Ticker']]\n",
    "\n"
   ]
  },
  {
   "cell_type": "code",
   "execution_count": 17,
   "metadata": {},
   "outputs": [
    {
     "ename": "NameError",
     "evalue": "name 'company_list' is not defined",
     "output_type": "error",
     "traceback": [
      "\u001b[0;31m---------------------------------------------------------------------------\u001b[0m",
      "\u001b[0;31mNameError\u001b[0m                                 Traceback (most recent call last)",
      "\u001b[0;32m<ipython-input-17-883375d8435f>\u001b[0m in \u001b[0;36m<module>\u001b[0;34m\u001b[0m\n\u001b[1;32m      2\u001b[0m \u001b[0;32mimport\u001b[0m \u001b[0mre\u001b[0m\u001b[0;34m\u001b[0m\u001b[0;34m\u001b[0m\u001b[0m\n\u001b[1;32m      3\u001b[0m \u001b[0mcompany_name_to_ticker\u001b[0m \u001b[0;34m=\u001b[0m \u001b[0;34m{\u001b[0m\u001b[0;34m}\u001b[0m\u001b[0;34m\u001b[0m\u001b[0;34m\u001b[0m\u001b[0m\n\u001b[0;32m----> 4\u001b[0;31m \u001b[0;32mfor\u001b[0m \u001b[0mi\u001b[0m \u001b[0;32min\u001b[0m \u001b[0mlist\u001b[0m\u001b[0;34m(\u001b[0m\u001b[0mmap\u001b[0m\u001b[0;34m(\u001b[0m\u001b[0;32mlambda\u001b[0m \u001b[0mx\u001b[0m\u001b[0;34m:\u001b[0m \u001b[0mre\u001b[0m\u001b[0;34m.\u001b[0m\u001b[0msub\u001b[0m\u001b[0;34m(\u001b[0m\u001b[0;34mr\"\\s\\(.*\\)\"\u001b[0m\u001b[0;34m,\u001b[0m\u001b[0;34m\"\"\u001b[0m\u001b[0;34m,\u001b[0m\u001b[0mx\u001b[0m\u001b[0;34m)\u001b[0m\u001b[0;34m,\u001b[0m \u001b[0mcompany_list\u001b[0m\u001b[0;34m)\u001b[0m\u001b[0;34m)\u001b[0m\u001b[0;34m:\u001b[0m \u001b[0;31m# remove (*) from company name\u001b[0m\u001b[0;34m\u001b[0m\u001b[0;34m\u001b[0m\u001b[0m\n\u001b[0m\u001b[1;32m      5\u001b[0m     \u001b[0;32mif\u001b[0m \u001b[0mi\u001b[0m\u001b[0;34m.\u001b[0m\u001b[0mlower\u001b[0m\u001b[0;34m(\u001b[0m\u001b[0;34m)\u001b[0m \u001b[0;32min\u001b[0m \u001b[0maa\u001b[0m\u001b[0;34m[\u001b[0m\u001b[0;34m'CompanyName'\u001b[0m\u001b[0;34m]\u001b[0m\u001b[0;34m.\u001b[0m\u001b[0mvalues\u001b[0m\u001b[0;34m:\u001b[0m\u001b[0;34m\u001b[0m\u001b[0;34m\u001b[0m\u001b[0m\n\u001b[1;32m      6\u001b[0m         \u001b[0mticker\u001b[0m \u001b[0;34m=\u001b[0m \u001b[0maa\u001b[0m\u001b[0;34m[\u001b[0m\u001b[0maa\u001b[0m\u001b[0;34m[\u001b[0m\u001b[0;34m'CompanyName'\u001b[0m\u001b[0;34m]\u001b[0m \u001b[0;34m==\u001b[0m \u001b[0mi\u001b[0m\u001b[0;34m.\u001b[0m\u001b[0mlower\u001b[0m\u001b[0;34m(\u001b[0m\u001b[0;34m)\u001b[0m\u001b[0;34m]\u001b[0m\u001b[0;34m[\u001b[0m\u001b[0;34m'ticker'\u001b[0m\u001b[0;34m]\u001b[0m\u001b[0;34m.\u001b[0m\u001b[0mvalues\u001b[0m\u001b[0;34m[\u001b[0m\u001b[0;36m0\u001b[0m\u001b[0;34m]\u001b[0m\u001b[0;34m\u001b[0m\u001b[0;34m\u001b[0m\u001b[0m\n",
      "\u001b[0;31mNameError\u001b[0m: name 'company_list' is not defined"
     ]
    }
   ],
   "source": [
    "\n",
    "from difflib import get_close_matches\n",
    "import re\n",
    "company_name_to_ticker = {}\n",
    "for i in list(map(lambda x: re.sub(r\"\\s\\(.*\\)\",\"\",x), company_list)): # remove (*) from company name\n",
    "    if i.lower() in aa['CompanyName'].values:\n",
    "        ticker = aa[aa['CompanyName'] == i.lower()]['ticker'].values[0]\n",
    "        company_name_to_ticker[i] = ticker\n",
    "        # print(f\"{i} has ticker {ticker}\")\n",
    "    else:\n",
    "        #print(f\"No!   {i} is not in the sec list\")\n",
    "        close_match = get_close_matches(i.lower(), aa['CompanyName'].values, n=1, cutoff=0.87179487)\n",
    "        print(f\"No!  {i} is not in the sec list, but {close_match} is close match\")\n",
    "print(company_name_to_ticker)\n",
    "# write dict to json file in pretty format\n",
    "import json\n",
    "with open('company_name_to_ticker.json', 'w') as f:\n",
    "    json.dump(company_name_to_ticker, f, indent=4)"
   ]
  },
  {
   "cell_type": "code",
   "execution_count": 23,
   "metadata": {},
   "outputs": [
    {
     "name": "stdout",
     "output_type": "stream",
     "text": [
      "score for: MP Materials Corp vs. mp materials corp / de = 0.8717948717948718\n"
     ]
    }
   ],
   "source": [
    "# test difflib close match score\n",
    "import difflib\n",
    "my_str = \"MP Materials Corp\"\n",
    "str_list = ['mp materials corp / de']\n",
    "\n",
    "for word in str_list:\n",
    "    print(\"score for: \" + my_str + \" vs. \" + word + \" = \" + str(difflib.SequenceMatcher(None, my_str.lower(), word).ratio()))\n"
   ]
  },
  {
   "cell_type": "code",
   "execution_count": 6,
   "metadata": {},
   "outputs": [
    {
     "name": "stdout",
     "output_type": "stream",
     "text": [
      "Total usable lines found  in IG pdf: 13531\n",
      "Total extracted records found in IG pdf: 11752\n"
     ]
    },
    {
     "data": {
      "text/html": [
       "<div>\n",
       "<style scoped>\n",
       "    .dataframe tbody tr th:only-of-type {\n",
       "        vertical-align: middle;\n",
       "    }\n",
       "\n",
       "    .dataframe tbody tr th {\n",
       "        vertical-align: top;\n",
       "    }\n",
       "\n",
       "    .dataframe thead th {\n",
       "        text-align: right;\n",
       "    }\n",
       "</style>\n",
       "<table border=\"1\" class=\"dataframe\">\n",
       "  <thead>\n",
       "    <tr style=\"text-align: right;\">\n",
       "      <th></th>\n",
       "      <th>name</th>\n",
       "      <th>ticker</th>\n",
       "      <th>symbol</th>\n",
       "      <th>region</th>\n",
       "      <th>ISA</th>\n",
       "      <th>SIPP</th>\n",
       "    </tr>\n",
       "  </thead>\n",
       "  <tbody>\n",
       "    <tr>\n",
       "      <th>0</th>\n",
       "      <td>1414 Degrees Limited</td>\n",
       "      <td>14D.AX</td>\n",
       "      <td>14D</td>\n",
       "      <td>AU</td>\n",
       "      <td>Y</td>\n",
       "      <td>Y</td>\n",
       "    </tr>\n",
       "    <tr>\n",
       "      <th>1</th>\n",
       "      <td>1st Group Limited</td>\n",
       "      <td>1ST.AX</td>\n",
       "      <td>1ST</td>\n",
       "      <td>AU</td>\n",
       "      <td>Y</td>\n",
       "      <td>Y</td>\n",
       "    </tr>\n",
       "    <tr>\n",
       "      <th>2</th>\n",
       "      <td>29Metals Limited</td>\n",
       "      <td>29M.AX</td>\n",
       "      <td>29M</td>\n",
       "      <td>AU</td>\n",
       "      <td>Y</td>\n",
       "      <td>Y</td>\n",
       "    </tr>\n",
       "    <tr>\n",
       "      <th>3</th>\n",
       "      <td>333D Limited</td>\n",
       "      <td>T3D.AX</td>\n",
       "      <td>T3D</td>\n",
       "      <td>AU</td>\n",
       "      <td>Y</td>\n",
       "      <td>Y</td>\n",
       "    </tr>\n",
       "    <tr>\n",
       "      <th>4</th>\n",
       "      <td>360 Capital Enhanced Income Fund †</td>\n",
       "      <td>TCF.AX</td>\n",
       "      <td>TCF</td>\n",
       "      <td>AU</td>\n",
       "      <td>Y</td>\n",
       "      <td>Y</td>\n",
       "    </tr>\n",
       "    <tr>\n",
       "      <th>...</th>\n",
       "      <td>...</td>\n",
       "      <td>...</td>\n",
       "      <td>...</td>\n",
       "      <td>...</td>\n",
       "      <td>...</td>\n",
       "      <td>...</td>\n",
       "    </tr>\n",
       "    <tr>\n",
       "      <th>11747</th>\n",
       "      <td>uCloudlink Group Inc</td>\n",
       "      <td>UCL.O</td>\n",
       "      <td>UCL</td>\n",
       "      <td>US</td>\n",
       "      <td>Y</td>\n",
       "      <td>Y</td>\n",
       "    </tr>\n",
       "    <tr>\n",
       "      <th>11748</th>\n",
       "      <td>uniQure NV</td>\n",
       "      <td>QURE.O</td>\n",
       "      <td>QURE</td>\n",
       "      <td>US</td>\n",
       "      <td>Y</td>\n",
       "      <td>Y</td>\n",
       "    </tr>\n",
       "    <tr>\n",
       "      <th>11749</th>\n",
       "      <td>urban-gro Inc</td>\n",
       "      <td>UGRO.O</td>\n",
       "      <td>UGRO</td>\n",
       "      <td>US</td>\n",
       "      <td>Y</td>\n",
       "      <td>Y</td>\n",
       "    </tr>\n",
       "    <tr>\n",
       "      <th>11750</th>\n",
       "      <td>vTv Therapeutics Inc</td>\n",
       "      <td>VTVT.O</td>\n",
       "      <td>VTVT</td>\n",
       "      <td>US</td>\n",
       "      <td>Y</td>\n",
       "      <td>Y</td>\n",
       "    </tr>\n",
       "    <tr>\n",
       "      <th>11751</th>\n",
       "      <td>voxeljet AG</td>\n",
       "      <td>VJET.O</td>\n",
       "      <td>VJET</td>\n",
       "      <td>US</td>\n",
       "      <td>Y</td>\n",
       "      <td>Y</td>\n",
       "    </tr>\n",
       "  </tbody>\n",
       "</table>\n",
       "<p>10798 rows × 6 columns</p>\n",
       "</div>"
      ],
      "text/plain": [
       "                                     name  ticker symbol region ISA SIPP\n",
       "0                    1414 Degrees Limited  14D.AX    14D     AU   Y    Y\n",
       "1                       1st Group Limited  1ST.AX    1ST     AU   Y    Y\n",
       "2                        29Metals Limited  29M.AX    29M     AU   Y    Y\n",
       "3                            333D Limited  T3D.AX    T3D     AU   Y    Y\n",
       "4      360 Capital Enhanced Income Fund †  TCF.AX    TCF     AU   Y    Y\n",
       "...                                   ...     ...    ...    ...  ..  ...\n",
       "11747                uCloudlink Group Inc   UCL.O    UCL     US   Y    Y\n",
       "11748                          uniQure NV  QURE.O   QURE     US   Y    Y\n",
       "11749                       urban-gro Inc  UGRO.O   UGRO     US   Y    Y\n",
       "11750                vTv Therapeutics Inc  VTVT.O   VTVT     US   Y    Y\n",
       "11751                         voxeljet AG  VJET.O   VJET     US   Y    Y\n",
       "\n",
       "[10798 rows x 6 columns]"
      ]
     },
     "execution_count": 6,
     "metadata": {},
     "output_type": "execute_result"
    }
   ],
   "source": [
    "import pandas as pd\n",
    "import PyPDF2\n",
    "import re\n",
    "\n",
    "# pdf_path = '/mnt/f/Downloads/Stockbroking Share List.pdf'\n",
    "def pdf_to_dataframe(pdf_path: str) -> pd.DataFrame:\n",
    "    ''' read pdf extract ticker symbols and region info into DataFrame '''\n",
    "    # get alltext from pdf\n",
    "    alltext = \"\"\n",
    "    with open(pdf_path, 'rb') as f:\n",
    "        pdf = PyPDF2.PdfFileReader(f)\n",
    "        pagenumber = pdf.getNumPages()\n",
    "        for i in range(pagenumber):\n",
    "            page = pdf.getPage(i)\n",
    "            page_content = page.extractText()\n",
    "            alltext += page_content\n",
    "\n",
    "    # put each line into a list, iterate through the list \n",
    "    mapping_lines = []\n",
    "    for i in re.split(r'\\n', alltext):    \n",
    "        if i.endswith('Y'): # if string end with Y\n",
    "            mapping_lines.append(i)\n",
    "    print(f\"Total usable lines found  in IG pdf: {len(mapping_lines)}\")\n",
    "\n",
    "    # extract fields from each line in dict form and add to df\n",
    "    pattern = r\"(?P<name>^.*)\\s(?P<ticker>\\w+.\\w+)\\s\\/\\s(?P<symbol>\\w+)\\s(?P<region>\\w+).*\\s(?P<ISA>\\w)\\s(?P<SIPP>\\w)$\"\n",
    "    all_pdf_tickers2 = pd.DataFrame()\n",
    "    for i in mapping_lines:\n",
    "        m = re.search(pattern, i)\n",
    "        if m:\n",
    "            # all_pdf_tickers = all_pdf_tickers.append(m.groupdict(), ignore_index=True) also works but futureWarning\n",
    "            all_pdf_tickers2 = pd.concat([all_pdf_tickers2, pd.DataFrame.from_dict(m.groupdict(), orient='index').T], ignore_index=True)\n",
    "    print(f\"Total extracted records found in IG pdf: {len(all_pdf_tickers2)}\")\n",
    "    return all_pdf_tickers2\n",
    "\n",
    "all_pdf_tickers = pdf_to_dataframe('/mnt/f/Downloads/Stockbroking Share List.pdf')\n",
    "all_pdf_tickers[all_pdf_tickers['ISA'] == 'Y']"
   ]
  },
  {
   "cell_type": "code",
   "execution_count": null,
   "metadata": {},
   "outputs": [],
   "source": [
    "import pandas as pd\n",
    "import PyPDF2\n",
    "import re\n",
    "from datetime import datetime\n",
    "import tqdm\n",
    "\n",
    "\n",
    "def pdf_to_dict(pdf_path: str) ->dict:\n",
    "    start = datetime.now()\n",
    "    alltext = \"\"\n",
    "    with open(pdf_path, 'rb') as f:\n",
    "        pdf = PyPDF2.PdfFileReader(f)\n",
    "        pagenumber = pdf.getNumPages()\n",
    "        for i in tqdm.tqdm(range(pagenumber)):\n",
    "            page = pdf.getPage(i)\n",
    "            page_content = page.extractText()\n",
    "            alltext += page_content\n",
    "    \n",
    "    print(f\"Total time to read {pagenumber} pages pdf: {datetime.now() - start}\")\n",
    "\n",
    "    mapping_lines = []\n",
    "    for i in re.split(r'\\n', alltext):\n",
    "        if i.endswith('Y') or i.endswith('N'): # if line ends with Y or N\n",
    "            mapping_lines.append(i)\n",
    "    \n",
    "    pattern = r\"(?P<name>^.*)\\s(?P<ticker>\\w+.\\w+)\\s\\/\\s(?P<symbol>\\w+)\\s(?P<region>\\w+).*\\s(?P<ISA>\\w)\\s(?P<SIPP>\\w)$\"\n",
    "    all_pdf_tickers2 = pd.DataFrame()\n",
    "    print(f\"Start extracting records from {len(mapping_lines)} lines ...\")\n",
    "    for i in tqdm.tqdm(mapping_lines):\n",
    "        m = re.search(pattern, i)\n",
    "        if m:\n",
    "            # all_pdf_tickers = all_pdf_tickers.append(m.groupdict(), ignore_index=True) also works but futureWarning\n",
    "            all_pdf_tickers2 = pd.concat([all_pdf_tickers2, pd.DataFrame.from_dict(m.groupdict(), orient='index').T], ignore_index=True)\n",
    "    print(f\"Total extracted records found in IG pdf: {len(all_pdf_tickers2)} and time taken: {datetime.now() - start}\")\n",
    "    # filter to US stocks only\n",
    "    all_USA_tickers = all_pdf_tickers2[all_pdf_tickers2['region'] == 'US']\n",
    "    us_tickers = dict(zip(all_USA_tickers['name'], all_USA_tickers['symbol']))\n",
    "    non_USA_tickers = all_pdf_tickers2[all_pdf_tickers2['region'] != 'US']\n",
    "    non_us_tickers = dict(zip(non_USA_tickers['name'], non_USA_tickers['ticker']))\n",
    "\n",
    "    return {**non_us_tickers, **us_tickers}\n",
    "\n",
    "all_pdf_tickers_dict = pdf_to_dict('/mnt/f/Downloads/Stockbroking Share List.pdf')\n",
    "all_pdf_tickers_dict"
   ]
  },
  {
   "cell_type": "code",
   "execution_count": 19,
   "metadata": {},
   "outputs": [],
   "source": [
    "def match_tickers(all_pdf_tickers: pd.DataFrame, df_unknown_symbols: pd.DataFrame) -> pd.DataFrame:\n",
    "    ''' match ticker symbols from pdf to df_unknown_symbols '''\n",
    "    for i in df_unknown_symbols['Market'].unique():\n",
    "        if i in all_pdf_tickers['name'].values:\n",
    "            df_unknown_symbols.loc[df_unknown_symbols['Market'] == i, 'Ticker'] = all_pdf_tickers[all_pdf_tickers['name'] == i]['ticker'].values[0]\n",
    "    return df_unknown_symbols"
   ]
  },
  {
   "cell_type": "code",
   "execution_count": 132,
   "metadata": {},
   "outputs": [],
   "source": [
    "# test add ticker function\n",
    "import pandas as pd\n",
    "import numpy as np\n",
    "import json\n",
    "import re\n",
    "import sys\n",
    "\n",
    "def add_ticker_to_json(new_dict: dict, output_json_file: str):\n",
    "    # # add dict to json file\n",
    "    # with open(output_json_file, 'r') as f:\n",
    "    #     data = json.load(f)\n",
    "    # data.update(new_dict)\n",
    "    # with open(output_json_file, 'w') as f:\n",
    "    #     json.dump(data, f, indent=4)\n",
    "    with open(output_json_file, 'r+') as f:\n",
    "        existing_dict = json.load(f)\n",
    "        existing_dict.update(new_dict)\n",
    "        f.seek(0)\n",
    "        json.dump(existing_dict, f, indent=4)\n",
    "    \n",
    "def load_ticker_from_json(json_file: str, df_in: pd.DataFrame) -> pd.DataFrame:\n",
    "    with open(json_file) as f: \n",
    "        ticker_dict = json.load(f)\n",
    "    for k, v in ticker_dict.items():\n",
    "        df_in.loc[df_in['Market'] == k, 'Ticker'] = v\n",
    "    return df_in\n",
    "\n",
    "def sec_ticker_mapping(df_unknown_symbol: pd.DataFrame) -> dict:\n",
    "    # find unknown ticker through sec site    \n",
    "    sec_site_mapping = pd.read_json(r'https://www.sec.gov/files/company_tickers.json', orient='index')\n",
    "    sec_site_mapping['Company Name'] = sec_site_mapping['title'].str.lower()\n",
    "    sec_site_mapping['Company Name'] = sec_site_mapping['Company Name'].str.replace('\\.', '', regex=True)\n",
    "    sec_site_mapping['Company Name'] = sec_site_mapping['Company Name'].str.replace('\\,', '', regex=True)\n",
    "    no_tikcer_company_list = df_unknown_symbol['Market'].unique()\n",
    "    company_name_to_ticker = {}\n",
    "    for i in list(map(lambda x: re.sub(r\"\\s\\(.*\\)\",\"\",x), no_tikcer_company_list)): # remove (*) from company name\n",
    "        if i.lower() in sec_site_mapping['Company Name'].values: # if no_ticker_list matchs lower case company name matches                \n",
    "            company_name_to_ticker[i] = sec_site_mapping[sec_site_mapping['Company Name'] == i.lower()]['ticker'].values[0]\n",
    "    \n",
    "    company_name__with_brackets_to_ticker = {}\n",
    "    for k, v in company_name_to_ticker.items():\n",
    "        # replace k with company list value, otherwise (All Sessions) will not match\n",
    "        for i in no_tikcer_company_list:\n",
    "            if k in i: # if k is a substring of i\n",
    "                company_name__with_brackets_to_ticker[i] = v\n",
    "    \n",
    "    return {**company_name_to_ticker, **company_name__with_brackets_to_ticker}\n"
   ]
  },
  {
   "cell_type": "code",
   "execution_count": null,
   "metadata": {},
   "outputs": [],
   "source": [
    "def add_ticker(df_in: pd.DataFrame) -> pd.DataFrame:\n",
    "    ''' find ticker through \n",
    "    1. json file\n",
    "    2. sec site\n",
    "    3. ig pdf\n",
    "    4. close match\n",
    "    5. if not found, return empty string and throw up err\n",
    "    6. for new ticker found through 2,3,4, add to json file'''\n",
    "\n",
    "    reference_data_json_file = sys.path[0] + '/company_name_to_ticker.json'\n",
    "    if 'Ticker' not in df_in.columns:\n",
    "        df_in['Ticker'] = np.nan #create a new column for ticker\n",
    "        \n",
    "    else:\n",
    "        print(\"csv already has ticker in it, no need to add ticker\")\n",
    "        return df_in\n",
    "    \n",
    "\n",
    "    # 1. load known ticker from json to dataframe\n",
    "    df_in = load_ticker_from_json(reference_data_json_file, df_in)\n",
    "    # check if all ticker are found\n",
    "    df_unknown_symbol = df_in[df_in['Ticker'].isna()]\n",
    "    if len(df_unknown_symbol) == 0:\n",
    "        return df_in\n",
    "        \n",
    "    # 2. add ticker from sec site to df\n",
    "    sec_tickers = sec_ticker_mapping(df_unknown_symbol)\n",
    "    for k, v in sec_tickers.items():\n",
    "        df_in.loc[df_in['Market'] == k, 'Ticker'] = v\n",
    "    \n",
    "    # also add ticker to json file\n",
    "    add_ticker_to_json(sec_tickers, reference_data_json_file)\n",
    "\n",
    "    # check if all ticker are found\n",
    "    df_unknown_symbol = df_in[df_in['Ticker'].isna()]\n",
    "    if len(df_unknown_symbol) == 0:\n",
    "        return df_in\n",
    "    else:\n",
    "        print(df_unknown_symbol['Market'].unique())\n",
    "\n",
    "    # 3. add ticker from ig pdf to df\n",
    "    all_pdf_tickers = pdf_to_dict('/mnt/f/Downloads/Stockbroking Share List.pdf')\n",
    "    df_unknown_symbol['Ticker'] = df_unknown_symbol['Market'].map(all_pdf_tickers)    \n",
    "\n",
    "    print(df_unknown_symbol[df_unknown_symbol['Ticker'].isna()]['Market'].unique())\n",
    "    return df_in"
   ]
  },
  {
   "cell_type": "code",
   "execution_count": null,
   "metadata": {},
   "outputs": [],
   "source": [
    "import csv\n",
    "import requests\n",
    "\n",
    "# replace the \"demo\" apikey below with your own key from https://www.alphavantage.co/support/#api-key\n",
    "CSV_URL = 'https://www.alphavantage.co/query?function=LISTING_STATUS&apikey=MZJ6C7FDAMDRTCNS'\n",
    "\n",
    "with requests.Session() as s:\n",
    "    download = s.get(CSV_URL)\n",
    "    decoded_content = download.content.decode('utf-8')\n",
    "    cr = csv.reader(decoded_content.splitlines(), delimiter=',')\n",
    "    my_list = list(cr)\n",
    "    for row in my_list:\n",
    "        print(row)"
   ]
  },
  {
   "cell_type": "code",
   "execution_count": 42,
   "metadata": {},
   "outputs": [
    {
     "name": "stderr",
     "output_type": "stream",
     "text": [
      "<ipython-input-42-4e99ea108f5d>:3: SettingWithCopyWarning: \n",
      "A value is trying to be set on a copy of a slice from a DataFrame.\n",
      "Try using .loc[row_indexer,col_indexer] = value instead\n",
      "\n",
      "See the caveats in the documentation: https://pandas.pydata.org/pandas-docs/stable/user_guide/indexing.html#returning-a-view-versus-a-copy\n",
      "  df['Ticker'] = df['Market'].apply(lambda x: all_pdf_tickers_dict.get(x))\n"
     ]
    },
    {
     "data": {
      "text/plain": [
       "array(['Tronox Ltd', 'Blackstone Group LP', 'Quidel Corp',\n",
       "       'VG Acquisition Corporation (Ord)',\n",
       "       'Tesla Motors Inc (All Sessions)',\n",
       "       'HSBC ETFs Public Limited Company - HSBC MSCI Emerging Markets UCITS ETF',\n",
       "       'iShares MSCI China A ETF'], dtype=object)"
      ]
     },
     "execution_count": 42,
     "metadata": {},
     "output_type": "execute_result"
    }
   ],
   "source": [
    "df = df_in[df_in['Ticker'].isna()]\n",
    "#df['Ticker'] = df['Market'].map(all_pdf_tickers_dict)\n",
    "df['Ticker'] = df['Market'].apply(lambda x: all_pdf_tickers_dict.get(x))\n",
    "df[df['Ticker'].isna()]['Market'].unique()"
   ]
  },
  {
   "cell_type": "code",
   "execution_count": 5,
   "metadata": {},
   "outputs": [
    {
     "name": "stdout",
     "output_type": "stream",
     "text": [
      "Total usable lines found  in IG pdf: 13531\n",
      "Total extracted records found in IG pdf: 11752\n",
      "['Tronox Ltd' 'Blackstone Group LP' 'Quidel Corp'\n",
      " 'VG Acquisition Corporation (Ord)' 'Tesla Motors Inc (All Sessions)'\n",
      " 'HSBC ETFs Public Limited Company - HSBC MSCI Emerging Markets UCITS ETF'\n",
      " 'iShares MSCI China A ETF']\n"
     ]
    },
    {
     "data": {
      "text/html": [
       "<div>\n",
       "<style scoped>\n",
       "    .dataframe tbody tr th:only-of-type {\n",
       "        vertical-align: middle;\n",
       "    }\n",
       "\n",
       "    .dataframe tbody tr th {\n",
       "        vertical-align: top;\n",
       "    }\n",
       "\n",
       "    .dataframe thead th {\n",
       "        text-align: right;\n",
       "    }\n",
       "</style>\n",
       "<table border=\"1\" class=\"dataframe\">\n",
       "  <thead>\n",
       "    <tr style=\"text-align: right;\">\n",
       "      <th></th>\n",
       "      <th>Market</th>\n",
       "      <th>Ticker</th>\n",
       "    </tr>\n",
       "  </thead>\n",
       "  <tbody>\n",
       "    <tr>\n",
       "      <th>0</th>\n",
       "      <td>Schroders PLC</td>\n",
       "      <td>NaN</td>\n",
       "    </tr>\n",
       "    <tr>\n",
       "      <th>1</th>\n",
       "      <td>Schroders PLC</td>\n",
       "      <td>NaN</td>\n",
       "    </tr>\n",
       "    <tr>\n",
       "      <th>2</th>\n",
       "      <td>Schroders PLC</td>\n",
       "      <td>NaN</td>\n",
       "    </tr>\n",
       "    <tr>\n",
       "      <th>3</th>\n",
       "      <td>International Seaways Inc</td>\n",
       "      <td>INSW</td>\n",
       "    </tr>\n",
       "    <tr>\n",
       "      <th>4</th>\n",
       "      <td>Lumentum Holdings Inc</td>\n",
       "      <td>LITE</td>\n",
       "    </tr>\n",
       "    <tr>\n",
       "      <th>...</th>\n",
       "      <td>...</td>\n",
       "      <td>...</td>\n",
       "    </tr>\n",
       "    <tr>\n",
       "      <th>147</th>\n",
       "      <td>MSCI Inc</td>\n",
       "      <td>MSCI</td>\n",
       "    </tr>\n",
       "    <tr>\n",
       "      <th>148</th>\n",
       "      <td>Xilinx Inc</td>\n",
       "      <td>NaN</td>\n",
       "    </tr>\n",
       "    <tr>\n",
       "      <th>149</th>\n",
       "      <td>iShares MSCI China A ETF</td>\n",
       "      <td>NaN</td>\n",
       "    </tr>\n",
       "    <tr>\n",
       "      <th>150</th>\n",
       "      <td>Zscaler Inc</td>\n",
       "      <td>ZS</td>\n",
       "    </tr>\n",
       "    <tr>\n",
       "      <th>151</th>\n",
       "      <td>HSBC ETFs Public Limited Company - HSBC MSCI E...</td>\n",
       "      <td>NaN</td>\n",
       "    </tr>\n",
       "  </tbody>\n",
       "</table>\n",
       "<p>152 rows × 2 columns</p>\n",
       "</div>"
      ],
      "text/plain": [
       "                                                Market Ticker\n",
       "0                                        Schroders PLC    NaN\n",
       "1                                        Schroders PLC    NaN\n",
       "2                                        Schroders PLC    NaN\n",
       "3                            International Seaways Inc   INSW\n",
       "4                                Lumentum Holdings Inc   LITE\n",
       "..                                                 ...    ...\n",
       "147                                           MSCI Inc   MSCI\n",
       "148                                         Xilinx Inc    NaN\n",
       "149                           iShares MSCI China A ETF    NaN\n",
       "150                                        Zscaler Inc     ZS\n",
       "151  HSBC ETFs Public Limited Company - HSBC MSCI E...    NaN\n",
       "\n",
       "[152 rows x 2 columns]"
      ]
     },
     "execution_count": 5,
     "metadata": {},
     "output_type": "execute_result"
    }
   ],
   "source": [
    "with open('/mnt/f/Downloads/TradeHistory.csv', 'r') as f:\n",
    "# with open('/home/kaizhang/Downloads/TradeHistory.csv') as f:\n",
    "    df = pd.read_csv(f)\n",
    "df_result = add_ticker(df)\n",
    "df_result[['Market', 'Ticker']]"
   ]
  },
  {
   "cell_type": "code",
   "execution_count": 6,
   "metadata": {},
   "outputs": [
    {
     "name": "stdout",
     "output_type": "stream",
     "text": [
      "Total usable lines found  in IG pdf: 13531\n",
      "Total extracted records found in IG pdf: 11752\n"
     ]
    },
    {
     "data": {
      "text/plain": [
       "array(['Tronox Ltd', 'Raytheon Technologies Corp (All Sessions)',\n",
       "       'Mosaic Co', 'Blackstone Group LP', 'Quidel Corp',\n",
       "       'Barrick Gold Corp (US)', 'Gilead Sciences Inc (All Sessions)',\n",
       "       'Southwest Airlines Co', '23ANDME Holding Co',\n",
       "       '3M Co (All Sessions)', 'Invesco Ltd', 'Lam Research Corp',\n",
       "       'VG Acquisition Corporation (Ord)', 'Blackberry Ltd (US)',\n",
       "       'Tesla Motors Inc (All Sessions)',\n",
       "       'HSBC ETFs Public Limited Company - HSBC MSCI Emerging Markets UCITS ETF',\n",
       "       'iShares MSCI China A ETF'], dtype=object)"
      ]
     },
     "execution_count": 6,
     "metadata": {},
     "output_type": "execute_result"
    }
   ],
   "source": [
    "with open('/mnt/f/Downloads/TradeHistory.csv', 'r') as f:\n",
    "# with open('/home/kaizhang/Downloads/TradeHistory.csv') as f:\n",
    "    df = pd.read_csv(f)\n",
    "\n",
    "all_pdf_tickers = get_pdf_tickers('/mnt/f/Downloads/Stockbroking Share List.pdf')\n",
    "df = match_tickers(all_pdf_tickers, df)\n",
    "df[df['Ticker'].isna()]['Market'].unique()"
   ]
  },
  {
   "cell_type": "code",
   "execution_count": 16,
   "metadata": {},
   "outputs": [
    {
     "data": {
      "text/html": [
       "<div>\n",
       "<style scoped>\n",
       "    .dataframe tbody tr th:only-of-type {\n",
       "        vertical-align: middle;\n",
       "    }\n",
       "\n",
       "    .dataframe tbody tr th {\n",
       "        vertical-align: top;\n",
       "    }\n",
       "\n",
       "    .dataframe thead th {\n",
       "        text-align: right;\n",
       "    }\n",
       "</style>\n",
       "<table border=\"1\" class=\"dataframe\">\n",
       "  <thead>\n",
       "    <tr style=\"text-align: right;\">\n",
       "      <th></th>\n",
       "      <th>High</th>\n",
       "      <th>Low</th>\n",
       "      <th>Open</th>\n",
       "      <th>Close</th>\n",
       "      <th>Volume</th>\n",
       "      <th>Adj Close</th>\n",
       "    </tr>\n",
       "    <tr>\n",
       "      <th>Date</th>\n",
       "      <th></th>\n",
       "      <th></th>\n",
       "      <th></th>\n",
       "      <th></th>\n",
       "      <th></th>\n",
       "      <th></th>\n",
       "    </tr>\n",
       "  </thead>\n",
       "  <tbody>\n",
       "    <tr>\n",
       "      <th>2022-09-22</th>\n",
       "      <td>154.470001</td>\n",
       "      <td>150.910004</td>\n",
       "      <td>152.380005</td>\n",
       "      <td>152.740005</td>\n",
       "      <td>86580200</td>\n",
       "      <td>152.740005</td>\n",
       "    </tr>\n",
       "  </tbody>\n",
       "</table>\n",
       "</div>"
      ],
      "text/plain": [
       "                  High         Low        Open       Close    Volume  \\\n",
       "Date                                                                   \n",
       "2022-09-22  154.470001  150.910004  152.380005  152.740005  86580200   \n",
       "\n",
       "             Adj Close  \n",
       "Date                    \n",
       "2022-09-22  152.740005  "
      ]
     },
     "execution_count": 16,
     "metadata": {},
     "output_type": "execute_result"
    }
   ],
   "source": [
    "import pandas_datareader.data as web\n",
    "import pandas as pd\n",
    "last_business_day = (pd.to_datetime('today') - pd.offsets.BDay(1)).strftime('%Y-%m-%d')\n",
    "df = web.DataReader('AAPL', 'yahoo', last_business_day)\n",
    "df"
   ]
  },
  {
   "cell_type": "code",
   "execution_count": 112,
   "metadata": {},
   "outputs": [],
   "source": [
    "def get_sec_tickers() -> dict:\n",
    "    # get json from sec site and convert to dict    \n",
    "    sec_site_mapping = pd.read_json(r'https://www.sec.gov/files/company_tickers.json', orient='index')\n",
    "    sec_site_mapping['title'] = sec_site_mapping['title'].str.replace('\\.', '', regex=True)\n",
    "    sec_site_mapping['title'] = sec_site_mapping['title'].str.replace('\\,', '', regex=True)\n",
    "    return dict(zip(sec_site_mapping['title'], sec_site_mapping['ticker']))    "
   ]
  },
  {
   "cell_type": "code",
   "execution_count": 124,
   "metadata": {},
   "outputs": [],
   "source": [
    "def match_tickers_dict(ticker_dict: dict, df_in: pd.DataFrame) -> pd.DataFrame:\n",
    "    ''' match ticker from dict to df_in and return df_in with ticker column'''\n",
    "    df_in['TPname'] = df_in['Market'].str.replace(r'\\(.*\\)', '').str.strip()\n",
    "    df_in['Ticker'] = df_in['TPname'].map(ticker_dict)\n",
    "    return df_in"
   ]
  },
  {
   "cell_type": "code",
   "execution_count": 129,
   "metadata": {},
   "outputs": [
    {
     "name": "stdout",
     "output_type": "stream",
     "text": [
      "34\n"
     ]
    },
    {
     "name": "stderr",
     "output_type": "stream",
     "text": [
      "<ipython-input-124-69b9d14169de>:3: FutureWarning: The default value of regex will change from True to False in a future version.\n",
      "  df_in['TPname'] = df_in['Market'].str.replace(r'\\(.*\\)', '').str.strip()\n"
     ]
    },
    {
     "data": {
      "text/plain": [
       "array(['Schroders PLC', 'Tronox Ltd',\n",
       "       'Raytheon Technologies Corp (All Sessions)', 'Mosaic Co',\n",
       "       'Kopin Corporation', 'MP Materials Corp', 'Blackstone Group LP',\n",
       "       'PayPoint PLC', 'Quidel Corp', 'Energy Transfer Equity LP',\n",
       "       'Barrick Gold Corp (US)', 'Intuitive Surgical Inc',\n",
       "       'Gilead Sciences Inc (All Sessions)', 'Southwest Airlines Co',\n",
       "       'Morgan Stanley', '23ANDME Holding Co', '3M Co (All Sessions)',\n",
       "       'Veeva Systems Inc', 'Lam Research Corp',\n",
       "       'VG Acquisition Corporation (Ord)', 'Akamai Technologies Inc',\n",
       "       'ANSYS Inc', 'Infrastructure and Energy Alternatives Inc',\n",
       "       'Blackberry Ltd (US)', 'BlackLine Inc', 'Sierra Wireless Inc',\n",
       "       'FactSet Research Systems Inc', 'Tesla Motors Inc (All Sessions)',\n",
       "       'Twilio Inc', 'Abbott Laboratories', 'Xilinx Inc',\n",
       "       'IG Group Holdings PLC',\n",
       "       'HSBC ETFs Public Limited Company - HSBC MSCI Emerging Markets UCITS ETF',\n",
       "       'iShares MSCI China A ETF'], dtype=object)"
      ]
     },
     "execution_count": 129,
     "metadata": {},
     "output_type": "execute_result"
    }
   ],
   "source": [
    "with open('/mnt/f/Downloads/TradeHistory.csv', 'r') as f:\n",
    "    df = pd.read_csv(f)\n",
    "df['Ticker'] = np.nan\n",
    "# df = match_tickers_dict(all_pdf_tickers_dict, df)\n",
    "df = match_tickers_dict(get_sec_tickers(), df)\n",
    "\n",
    "z = df[df['Ticker'].isna()]['Market'].unique()\n",
    "print(len(z))\n",
    "z"
   ]
  },
  {
   "cell_type": "code",
   "execution_count": 110,
   "metadata": {},
   "outputs": [
    {
     "data": {
      "text/plain": [
       "{'Gilead Sciences Inc': 'GILD', 'abc': 'abc'}"
      ]
     },
     "execution_count": 110,
     "metadata": {},
     "output_type": "execute_result"
    }
   ],
   "source": [
    "a = {\"Gilead Sciences Inc (All Sessions)\": \"GILD\", \"abc (All Sessions)\": \"abc\"}\n",
    "{re.sub(r\"\\s\\(.*\\)\",\"\",x): a[x] for x in a.keys()}"
   ]
  },
  {
   "cell_type": "code",
   "execution_count": null,
   "metadata": {},
   "outputs": [],
   "source": [
    "def add_ticker(df_in: pd.DataFrame) -> pd.DataFrame:\n",
    "    '''\n",
    "    1. check dataframe against json file and add ticker into it\n",
    "    2. if there is unknown symbol in dataframe \n",
    "        2.1 download sec tickers (static)\n",
    "        2.2 if there is any matching\n",
    "            2.2.1 add dict into dataframe\n",
    "            2.2.2 add dict into json file\n",
    "    3. if there is unknow symbol in dataframe\n",
    "        3.1 read from pdf (static)\n",
    "        3.2 if there is any matching\n",
    "            3.2.1 add dict into dataframe\n",
    "            3.2.2 add dict into json file\n",
    "    4. if there is unknow symbol in dataframe\n",
    "        4.1 use doclib close_match from sec ticker (threshold is the key)\n",
    "        4.2 if there is any matching\n",
    "            4.1.1 add dict into dataframe\n",
    "            4.1.2 add dict into json file\n",
    "    5. if there is unknow symbol in dataframe\n",
    "        5.1 use doclib close_match from pdf ticker (threshold is the key)\n",
    "            5.1.1 add dict into dataframe\n",
    "            5.1.2 add dict into json file \n",
    "    function 1: 1         load_ticker_from_json(json_file, df_in) -> df_in\n",
    "    function 2: 2.1       get_sec_tickers -> dict\n",
    "    function 3: 3.1       pdf_to_dict(pdf_file) -> dict\n",
    "    function 4: 2.2.1, 3.2.1, 4.1.1, 5.1.1 match_tickers_dict(ticker_dict, df_in) -> df_in\n",
    "    function 5: 2.2.2, 3.2.2, 4.1.2, 5.1.2 add_ticker_to_json(dict, json_file)\n",
    "    function 6:          close_matched_tickers(list, dict, threshold) -> dict\n",
    "    '''\n",
    "    \n",
    "    reference_data_json_file = sys.path[0] + '/company_name_to_ticker.json'\n",
    "    if 'Ticker' not in df_in.columns:\n",
    "        df_in['Ticker'] = np.nan #create a new column for ticker\n",
    "        \n",
    "    else:\n",
    "        print(\"csv already has ticker in it, no need to add ticker\")\n",
    "        return df_in\n",
    "    \n",
    "\n",
    "    # 1. load known ticker from json to dataframe\n",
    "    df_in = load_ticker_from_json(reference_data_json_file, df_in)\n",
    "    # check if all ticker are found\n",
    "    df_unknown_symbol = df_in[df_in['Ticker'].isna()]\n",
    "    if len(df_unknown_symbol) == 0:\n",
    "        return df_in\n",
    "    else:\n",
    "        unknown_entries = len(df_unknown_symbol)\n",
    "    \n",
    "    # 2.1 get sec tickers\n",
    "    sec_tickers = get_sec_tickers()\n",
    "    # 2.2 match sec tickers to dataframe\n",
    "    df_in = match_tickers_dict(sec_tickers, df_in)\n",
    "    # check if all ticker are found\n",
    "    df_unknown_symbol = df_in[df_in['Ticker'].isna()]\n",
    "    if len(df_unknown_symbol) == 0:\n",
    "        return df_in\n",
    "    elif unknown_entries == len(df_unknown_symbol):\n",
    "        print(\"no new ticker found from sec\")\n",
    "    else:\n",
    "        unknown_entries = len(df_unknown_symbol)\n",
    "        current_tickers_in_df = dict(zip(df_in['Market'], df_in['Ticker']))\n",
    "        add_ticker_to_json(current_tickers_in_df, reference_data_json_file)\n",
    "    \n",
    "    # 3.1 get pdf tickers\n",
    "    pdf_tickers = pdf_to_dict(sys.path[0] + '/pdf_tickers.pdf')\n",
    "    # 3.2 match pdf tickers to dataframe\n",
    "    df_in = match_tickers_dict(pdf_tickers, df_in)\n",
    "    # check if all ticker are found\n",
    "    df_unknown_symbol = df_in[df_in['Ticker'].isna()]\n",
    "    if len(df_unknown_symbol) == 0:\n",
    "        return df_in\n",
    "    elif unknown_entries == len(df_unknown_symbol):\n",
    "        print(\"no new ticker found from pdf\")\n",
    "    else:\n",
    "        unknown_entries = len(df_unknown_symbol)\n",
    "        current_tickers_in_df = dict(zip(df_in['Market'], df_in['Ticker']))\n",
    "        add_ticker_to_json(current_tickers_in_df, reference_data_json_file)\n",
    "        \n",
    "\n",
    "\n",
    "\n",
    "\n"
   ]
  },
  {
   "cell_type": "code",
   "execution_count": 10,
   "metadata": {},
   "outputs": [
    {
     "ename": "NameError",
     "evalue": "name 'pd' is not defined",
     "output_type": "error",
     "traceback": [
      "\u001b[0;31m---------------------------------------------------------------------------\u001b[0m",
      "\u001b[0;31mNameError\u001b[0m                                 Traceback (most recent call last)",
      "\u001b[0;32m<ipython-input-10-1eb8545f3031>\u001b[0m in \u001b[0;36m<module>\u001b[0;34m\u001b[0m\n\u001b[1;32m      1\u001b[0m \u001b[0;32mwith\u001b[0m \u001b[0mopen\u001b[0m\u001b[0;34m(\u001b[0m\u001b[0;34m'/mnt/f/Downloads/TradeHistory.csv'\u001b[0m\u001b[0;34m,\u001b[0m \u001b[0;34m'r'\u001b[0m\u001b[0;34m)\u001b[0m \u001b[0;32mas\u001b[0m \u001b[0mf\u001b[0m\u001b[0;34m:\u001b[0m\u001b[0;34m\u001b[0m\u001b[0;34m\u001b[0m\u001b[0m\n\u001b[0;32m----> 2\u001b[0;31m     \u001b[0mdf_in\u001b[0m \u001b[0;34m=\u001b[0m \u001b[0mpd\u001b[0m\u001b[0;34m.\u001b[0m\u001b[0mread_csv\u001b[0m\u001b[0;34m(\u001b[0m\u001b[0mf\u001b[0m\u001b[0;34m)\u001b[0m\u001b[0;34m\u001b[0m\u001b[0;34m\u001b[0m\u001b[0m\n\u001b[0m\u001b[1;32m      3\u001b[0m \u001b[0;34m\u001b[0m\u001b[0m\n\u001b[1;32m      4\u001b[0m \u001b[0;34m\u001b[0m\u001b[0m\n\u001b[1;32m      5\u001b[0m \u001b[0mreference_data_json_file\u001b[0m \u001b[0;34m=\u001b[0m \u001b[0msys\u001b[0m\u001b[0;34m.\u001b[0m\u001b[0mpath\u001b[0m\u001b[0;34m[\u001b[0m\u001b[0;36m0\u001b[0m\u001b[0;34m]\u001b[0m \u001b[0;34m+\u001b[0m \u001b[0;34m'/company_name_to_ticker.json'\u001b[0m\u001b[0;34m\u001b[0m\u001b[0;34m\u001b[0m\u001b[0m\n",
      "\u001b[0;31mNameError\u001b[0m: name 'pd' is not defined"
     ]
    }
   ],
   "source": [
    "with open('/mnt/f/Downloads/TradeHistory.csv', 'r') as f:\n",
    "    df_in = pd.read_csv(f)\n",
    "\n",
    "\n",
    "reference_data_json_file = sys.path[0] + '/company_name_to_ticker.json'\n",
    "df_in = load_ticker_from_json(reference_data_json_file, df_in)\n",
    "print(f\"{len(df_in[df_in['Ticker'].notna()])} tickers added to dataframe\")\n",
    "\n",
    "# 2.1 get sec tickers\n",
    "sec_tickers = get_sec_tickers()\n",
    "# 2.2 match sec tickers to dataframe\n",
    "df_in = match_tickers_dict(sec_tickers, df_in)\n",
    "\n",
    "known_tickers = df_in[df_in['Ticker'].notna()]\n",
    "known_tickers_dict = dict(zip(known_tickers['Market'], known_tickers['Ticker']))\n",
    "add_ticker_to_json(known_tickers_dict, reference_data_json_file)\n",
    "\n",
    "# 3.1 get pdf tickers\n",
    "pdf_tickers = pdf_to_dict('/mnt/f/Downloads/Stockbroking Share List.pdf')\n",
    "\n",
    "# 3.2 match pdf tickers to dataframe\n",
    "df_in = match_tickers_dict(pdf_tickers, df_in)\n",
    "\n",
    "known_tickers = df_in[df_in['Ticker'].notna()]\n",
    "known_tickers_dict = dict(zip(known_tickers['Market'], known_tickers['Ticker']))\n",
    "add_ticker_to_json(known_tickers_dict, reference_data_json_file)\n",
    "\n",
    "df_in[df_in['Ticker'].isna()]['Market'].unique()"
   ]
  },
  {
   "cell_type": "code",
   "execution_count": 3,
   "metadata": {},
   "outputs": [],
   "source": [
    "# unresolved = ['Tronox Ltd', 'Raytheon Technologies Corp (All Sessions)', 'Mosaic Co', 'Blackstone Group LP', 'Quidel Corp', \n",
    "# 'Barrick Gold Corp (US)', 'Southwest Airlines Co', '23ANDME Holding Co', '3M Co (All Sessions)', 'Invesco Ltd', 'Lam Research Corp', \n",
    "# 'Blackberry Ltd (US)', 'Tesla Motors Inc (All Sessions)', 'HSBC ETFs Public Limited Company - HSBC MSCI Emerging Markets UCITS ETF', 'iShares MSCI China A ETF']\n",
    "# unresolved_tpname = ['Tronox Ltd', 'Raytheon Technologies Corp', 'Mosaic Co',\n",
    "#  'Blackstone Group LP', 'Quidel Corp', 'Barrick Gold Corp',\n",
    "#  'Southwest Airlines Co', '23ANDME Holding Co', '3M Co', 'Invesco Ltd',\n",
    "#  'Lam Research Corp', 'Blackberry Ltd', 'Tesla Motors Inc',\n",
    "#  'HSBC ETFs Public Limited Company - HSBC MSCI Emerging Markets UCITS ETF',\n",
    "#  'iShares MSCI China A ETF']\n",
    "unresolved = ['Schroders PLC']\n",
    "unresolved_tpname = ['Quidel Corp', '3M Co', 'Invesco Ltd', 'Tesla Motors Inc']"
   ]
  },
  {
   "cell_type": "code",
   "execution_count": 4,
   "metadata": {},
   "outputs": [
    {
     "ename": "NameError",
     "evalue": "name 'all_pdf_tickers' is not defined",
     "output_type": "error",
     "traceback": [
      "\u001b[0;31m---------------------------------------------------------------------------\u001b[0m",
      "\u001b[0;31mNameError\u001b[0m                                 Traceback (most recent call last)",
      "\u001b[0;32m<ipython-input-4-1d15602cc118>\u001b[0m in \u001b[0;36m<module>\u001b[0;34m\u001b[0m\n\u001b[1;32m      2\u001b[0m \u001b[0mpossible_resolute\u001b[0m \u001b[0;34m=\u001b[0m \u001b[0;34m{\u001b[0m\u001b[0;34m}\u001b[0m\u001b[0;34m\u001b[0m\u001b[0;34m\u001b[0m\u001b[0m\n\u001b[1;32m      3\u001b[0m \u001b[0;32mfor\u001b[0m \u001b[0mi\u001b[0m \u001b[0;32min\u001b[0m \u001b[0munresolved\u001b[0m\u001b[0;34m:\u001b[0m\u001b[0;34m\u001b[0m\u001b[0;34m\u001b[0m\u001b[0m\n\u001b[0;32m----> 4\u001b[0;31m     \u001b[0;32mif\u001b[0m \u001b[0mget_close_matches\u001b[0m\u001b[0;34m(\u001b[0m\u001b[0mi\u001b[0m\u001b[0;34m,\u001b[0m \u001b[0mall_pdf_tickers\u001b[0m\u001b[0;34m[\u001b[0m\u001b[0;34m'name'\u001b[0m\u001b[0;34m]\u001b[0m\u001b[0;34m)\u001b[0m \u001b[0;34m!=\u001b[0m \u001b[0;34m[\u001b[0m\u001b[0;34m]\u001b[0m\u001b[0;34m:\u001b[0m\u001b[0;34m\u001b[0m\u001b[0;34m\u001b[0m\u001b[0m\n\u001b[0m\u001b[1;32m      5\u001b[0m         \u001b[0mpossible_resolute\u001b[0m\u001b[0;34m[\u001b[0m\u001b[0mi\u001b[0m\u001b[0;34m]\u001b[0m \u001b[0;34m=\u001b[0m \u001b[0mget_close_matches\u001b[0m\u001b[0;34m(\u001b[0m\u001b[0mi\u001b[0m\u001b[0;34m,\u001b[0m \u001b[0mall_pdf_tickers\u001b[0m\u001b[0;34m[\u001b[0m\u001b[0;34m'name'\u001b[0m\u001b[0;34m]\u001b[0m\u001b[0;34m)\u001b[0m\u001b[0;34m[\u001b[0m\u001b[0;36m0\u001b[0m\u001b[0;34m]\u001b[0m\u001b[0;34m\u001b[0m\u001b[0;34m\u001b[0m\u001b[0m\n\u001b[1;32m      6\u001b[0m \u001b[0;34m\u001b[0m\u001b[0m\n",
      "\u001b[0;31mNameError\u001b[0m: name 'all_pdf_tickers' is not defined"
     ]
    }
   ],
   "source": [
    "from difflib import get_close_matches, SequenceMatcher\n",
    "possible_resolute = {}\n",
    "for i in unresolved:\n",
    "    if get_close_matches(i, all_pdf_tickers['name']) != []:\n",
    "        possible_resolute[i] = get_close_matches(i, all_pdf_tickers['name'])[0]\n",
    "\n",
    "for k,v in possible_resolute.items():\n",
    "    print(f\"score for {k} -> {v} is {SequenceMatcher(None, k, v).ratio()}\")\n"
   ]
  },
  {
   "cell_type": "code",
   "execution_count": 64,
   "metadata": {},
   "outputs": [
    {
     "name": "stdout",
     "output_type": "stream",
     "text": [
      "score for Quidel Corp -> QuidelOrtho Corp is 0.8148148148148148\n",
      "score for Invesco Ltd -> Invesco Ltd is 1.0\n"
     ]
    }
   ],
   "source": [
    "sec_tickers = get_sec_tickers()\n",
    "sec_keys = list(sec_tickers.keys())\n",
    "possible_resolute = {}\n",
    "for i in unresolved:\n",
    "    if len(get_close_matches(i, sec_keys)) > 0:\n",
    "        possible_resolute[i] = get_close_matches(i, sec_keys)[0] #n=1 cutoff=0.8\n",
    "        \n",
    "for k,v in possible_resolute.items():\n",
    "    print(f\"score for {k} -> {v} is {SequenceMatcher(None, k, v).ratio()}\")"
   ]
  },
  {
   "cell_type": "code",
   "execution_count": 88,
   "metadata": {},
   "outputs": [
    {
     "data": {
      "text/plain": [
       "['3M CO', 'SLM Corp']"
      ]
     },
     "execution_count": 88,
     "metadata": {},
     "output_type": "execute_result"
    }
   ],
   "source": [
    "# get_close_matches('3M Co', all_pdf_tickers['name'])\n",
    "get_close_matches('3M Co', sec_tickers.keys())"
   ]
  },
  {
   "cell_type": "code",
   "execution_count": 9,
   "metadata": {},
   "outputs": [
    {
     "name": "stdout",
     "output_type": "stream",
     "text": [
      "score for: MP Materials Corp vs. mp materials corp / de = 0.8717948717948718\n"
     ]
    }
   ],
   "source": [
    "import difflib\n",
    "my_str = \"MP Materials Corp\"\n",
    "str_list = ['mp materials corp / de']\n",
    "\n",
    "for word in str_list:\n",
    "    print(\"score for: \" + my_str + \" vs. \" + word + \" = \" + str(difflib.SequenceMatcher(None, my_str.lower(), word).ratio()))"
   ]
  },
  {
   "cell_type": "code",
   "execution_count": 46,
   "metadata": {},
   "outputs": [],
   "source": [
    "from difflib import get_close_matches\n",
    "def close_matched_tickers(unknown_ticker_list: list, tickers_dict: dict, cutoff_ratio = 0.801) -> dict:\n",
    "    \"\"\"\n",
    "    compare company name without tickers against a ticker dictionary find close word match ratio above 0.8 by default\n",
    "    \"\"\"\n",
    "    possible_resolute = {}\n",
    "    ticker_keys = list(tickers_dict.keys())\n",
    "    for i in unknown_ticker_list:\n",
    "        closely_matched_name = get_close_matches(i, ticker_keys, cutoff=cutoff_ratio)\n",
    "        if len(closely_matched_name) > 0:\n",
    "            possible_resolute[i] = tickers_dict[closely_matched_name[0]]\n",
    "    return possible_resolute"
   ]
  },
  {
   "cell_type": "code",
   "execution_count": 81,
   "metadata": {},
   "outputs": [
    {
     "data": {
      "text/html": [
       "<div>\n",
       "<style scoped>\n",
       "    .dataframe tbody tr th:only-of-type {\n",
       "        vertical-align: middle;\n",
       "    }\n",
       "\n",
       "    .dataframe tbody tr th {\n",
       "        vertical-align: top;\n",
       "    }\n",
       "\n",
       "    .dataframe thead th {\n",
       "        text-align: right;\n",
       "    }\n",
       "</style>\n",
       "<table border=\"1\" class=\"dataframe\">\n",
       "  <thead>\n",
       "    <tr style=\"text-align: right;\">\n",
       "      <th></th>\n",
       "      <th>Ticker</th>\n",
       "      <th>Market</th>\n",
       "      <th>Direction</th>\n",
       "    </tr>\n",
       "  </thead>\n",
       "  <tbody>\n",
       "    <tr>\n",
       "      <th>0</th>\n",
       "      <td>SDRt.L</td>\n",
       "      <td>Schroders PLC</td>\n",
       "      <td>BUY</td>\n",
       "    </tr>\n",
       "    <tr>\n",
       "      <th>1</th>\n",
       "      <td>SDRt.L</td>\n",
       "      <td>Schroders PLC</td>\n",
       "      <td>SELL</td>\n",
       "    </tr>\n",
       "    <tr>\n",
       "      <th>2</th>\n",
       "      <td>SDRt.L</td>\n",
       "      <td>Schroders PLC</td>\n",
       "      <td>BUY</td>\n",
       "    </tr>\n",
       "    <tr>\n",
       "      <th>3</th>\n",
       "      <td>INSW</td>\n",
       "      <td>International Seaways Inc</td>\n",
       "      <td>SELL</td>\n",
       "    </tr>\n",
       "    <tr>\n",
       "      <th>4</th>\n",
       "      <td>LITE</td>\n",
       "      <td>Lumentum Holdings Inc</td>\n",
       "      <td>BUY</td>\n",
       "    </tr>\n",
       "    <tr>\n",
       "      <th>...</th>\n",
       "      <td>...</td>\n",
       "      <td>...</td>\n",
       "      <td>...</td>\n",
       "    </tr>\n",
       "    <tr>\n",
       "      <th>147</th>\n",
       "      <td>MSCI</td>\n",
       "      <td>MSCI Inc</td>\n",
       "      <td>BUY</td>\n",
       "    </tr>\n",
       "    <tr>\n",
       "      <th>148</th>\n",
       "      <td>XLNX</td>\n",
       "      <td>Xilinx Inc</td>\n",
       "      <td>BUY</td>\n",
       "    </tr>\n",
       "    <tr>\n",
       "      <th>149</th>\n",
       "      <td>IASH.L</td>\n",
       "      <td>iShares MSCI China A ETF</td>\n",
       "      <td>BUY</td>\n",
       "    </tr>\n",
       "    <tr>\n",
       "      <th>150</th>\n",
       "      <td>ZS</td>\n",
       "      <td>Zscaler Inc</td>\n",
       "      <td>BUY</td>\n",
       "    </tr>\n",
       "    <tr>\n",
       "      <th>151</th>\n",
       "      <td>HMEF.L</td>\n",
       "      <td>HSBC ETFs Public Limited Company - HSBC MSCI E...</td>\n",
       "      <td>BUY</td>\n",
       "    </tr>\n",
       "  </tbody>\n",
       "</table>\n",
       "<p>152 rows × 3 columns</p>\n",
       "</div>"
      ],
      "text/plain": [
       "     Ticker                                             Market Direction\n",
       "0    SDRt.L                                      Schroders PLC       BUY\n",
       "1    SDRt.L                                      Schroders PLC      SELL\n",
       "2    SDRt.L                                      Schroders PLC       BUY\n",
       "3      INSW                          International Seaways Inc      SELL\n",
       "4      LITE                              Lumentum Holdings Inc       BUY\n",
       "..      ...                                                ...       ...\n",
       "147    MSCI                                           MSCI Inc       BUY\n",
       "148    XLNX                                         Xilinx Inc       BUY\n",
       "149  IASH.L                           iShares MSCI China A ETF       BUY\n",
       "150      ZS                                        Zscaler Inc       BUY\n",
       "151  HMEF.L  HSBC ETFs Public Limited Company - HSBC MSCI E...       BUY\n",
       "\n",
       "[152 rows x 3 columns]"
      ]
     },
     "execution_count": 81,
     "metadata": {},
     "output_type": "execute_result"
    }
   ],
   "source": [
    "import numpy as np\n",
    "with open('/mnt/f/Downloads/TradeHistory.csv', 'r') as f:\n",
    "    df_in = pd.read_csv(f)\n",
    "df_in['Ticker'] = np.nan\n",
    "reference_data_json_file = sys.path[0] + '/company_name_to_ticker.json'\n",
    "df_in = load_ticker_from_json(reference_data_json_file, df_in)\n",
    "t_df_in = df_in[['Ticker','Market', 'Direction']]\n",
    "t_df_in"
   ]
  },
  {
   "cell_type": "code",
   "execution_count": 83,
   "metadata": {},
   "outputs": [
    {
     "name": "stderr",
     "output_type": "stream",
     "text": [
      "<ipython-input-83-1c7c27f09502>:1: SettingWithCopyWarning: \n",
      "A value is trying to be set on a copy of a slice from a DataFrame.\n",
      "Try using .loc[row_indexer,col_indexer] = value instead\n",
      "\n",
      "See the caveats in the documentation: https://pandas.pydata.org/pandas-docs/stable/user_guide/indexing.html#returning-a-view-versus-a-copy\n",
      "  t_df_in['TPname'] = t_df_in['Market'].str.replace(r'\\(.*\\)', '', regex=True).str.strip()\n",
      "<ipython-input-83-1c7c27f09502>:2: SettingWithCopyWarning: \n",
      "A value is trying to be set on a copy of a slice from a DataFrame.\n",
      "Try using .loc[row_indexer,col_indexer] = value instead\n",
      "\n",
      "See the caveats in the documentation: https://pandas.pydata.org/pandas-docs/stable/user_guide/indexing.html#returning-a-view-versus-a-copy\n",
      "  t_df_in['Ticker'] = t_df_in['TPname'].map(sec_tickers).fillna(t_df_in['Ticker'])\n"
     ]
    }
   ],
   "source": [
    "t_df_in['TPname'] = t_df_in['Market'].str.replace(r'\\(.*\\)', '', regex=True).str.strip()\n",
    "t_df_in['Ticker'] = t_df_in['TPname'].map(sec_tickers).fillna(t_df_in['Ticker'])"
   ]
  },
  {
   "cell_type": "code",
   "execution_count": 137,
   "metadata": {},
   "outputs": [],
   "source": [
    "def ticker_by_keyword(unresolved_tpname: list, tickers_dict: dict) -> dict:\n",
    "    \"\"\"\n",
    "    find keyword in company name and search for relevant ticker in ticker dictionary\n",
    "    \"\"\"\n",
    "    not_keyword = [\"the\", \"inc\", \"corp\", \"ltd\", \"limited\", \"co\", \"corporation\", \"company\", \"plc\", \"group\", \"lp\", \"holdings\", \"trust\", \"laboratories\"]\n",
    "    possible_resolute = {}\n",
    "    for i in unresolved_tpname:\n",
    "        for j in i.split():\n",
    "            if j.lower() not in not_keyword:\n",
    "                for k in tickers_dict.keys():\n",
    "                    if j in k:\n",
    "                        possible_resolute[i] = tickers_dict[k]\n",
    "                        break\n",
    "            break # only search for first keyword\n",
    "    \n",
    "    return possible_resolute"
   ]
  },
  {
   "cell_type": "code",
   "execution_count": 138,
   "metadata": {},
   "outputs": [
    {
     "data": {
      "text/plain": [
       "{'3M Co (All Sessions)': 'MMM', 'Tesla Motors Inc (All Sessions)': 'TSLA'}"
      ]
     },
     "execution_count": 138,
     "metadata": {},
     "output_type": "execute_result"
    }
   ],
   "source": [
    "unknown_ticker_list = ['3M Co (All Sessions)', 'Tesla Motors Inc (All Sessions)']\n",
    "# unknown_ticker_list = ['Tesla Motors Inc (All Sessions)']\n",
    "ticker_by_keyword(unknown_ticker_list, sec_tickers)"
   ]
  },
  {
   "cell_type": "code",
   "execution_count": 2,
   "metadata": {},
   "outputs": [
    {
     "name": "stdout",
     "output_type": "stream",
     "text": [
      "None\n"
     ]
    }
   ],
   "source": [
    "a = {'a':1, 'b':2, 'c':3, 'd':'feij'}\n",
    "b = {'a':4, 'f':2, 'c':3}\n",
    "c = a.update(b)\n",
    "print(c)"
   ]
  },
  {
   "cell_type": "code",
   "execution_count": 1,
   "metadata": {},
   "outputs": [
    {
     "name": "stdout",
     "output_type": "stream",
     "text": [
      "None\n"
     ]
    }
   ],
   "source": [
    "car = {\n",
    "  \"brand\": \"Ford\",\n",
    "  \"model\": \"Mustang\",\n",
    "  \"year\": 1964\n",
    "}\n",
    "\n",
    "print(car.update({\"color\": \"White\"}))"
   ]
  },
  {
   "cell_type": "code",
   "execution_count": 3,
   "metadata": {},
   "outputs": [
    {
     "name": "stdout",
     "output_type": "stream",
     "text": [
      "Date,Open,High,Low,Close,Adjusted_close,Volume\n",
      "2022-09-26,71.04,74.61,71,72.67,72.67,48993701\n",
      "2022-09-27,72.66,72.97,69.23,69.23,69.23,37680831\n",
      "2022-09-28,68.14,68.47,64.44,66.7,66.7,67051802\n",
      "2022-09-29,68.14,68.43,65.78,68.26,68.26,35187550\n",
      "\n"
     ]
    }
   ],
   "source": [
    "import requests\n",
    "api = \"62f78882460757.67601865\"\n",
    "url = \"https://eodhistoricaldata.com/api/eod/RR.LSE\"\n",
    "data = {\"from\": \"2022-09-25\", \"period\":\"d\", \"api_token\": api}\n",
    "\n",
    "response = requests.get(url, data)\n",
    "print(response.text)"
   ]
  },
  {
   "cell_type": "code",
   "execution_count": 23,
   "metadata": {},
   "outputs": [
    {
     "data": {
      "text/plain": [
       "['Nuvve Holding Corp',\n",
       " 'ASML Holding NV',\n",
       " '23andMe Holding Company †',\n",
       " 'URA Holdings PLC',\n",
       " 'NMI Holdings Inc']"
      ]
     },
     "execution_count": 23,
     "metadata": {},
     "output_type": "execute_result"
    }
   ],
   "source": [
    "from difflib import SequenceMatcher, get_close_matches\n",
    "def similar(a, b):\n",
    "    return SequenceMatcher(None, a, b).ratio()\n",
    "\n",
    "get_close_matches('23ANDME Holding Co', all_pdf_tickers_dict.keys(), n=5)\n",
    "\n"
   ]
  },
  {
   "cell_type": "code",
   "execution_count": 2,
   "metadata": {},
   "outputs": [
    {
     "name": "stdout",
     "output_type": "stream",
     "text": [
      "[(3, True), (7, True)]\n"
     ]
    }
   ],
   "source": [
    "a = [3,5,7]\n",
    "b = [True, False, True]\n",
    "c = filter(lambda x: x[1], zip(a,b))\n",
    "print(list(c))"
   ]
  },
  {
   "cell_type": "markdown",
   "metadata": {},
   "source": [
    "get data ready"
   ]
  },
  {
   "cell_type": "code",
   "execution_count": 1,
   "metadata": {},
   "outputs": [
    {
     "data": {
      "text/html": [
       "<div>\n",
       "<style scoped>\n",
       "    .dataframe tbody tr th:only-of-type {\n",
       "        vertical-align: middle;\n",
       "    }\n",
       "\n",
       "    .dataframe tbody tr th {\n",
       "        vertical-align: top;\n",
       "    }\n",
       "\n",
       "    .dataframe thead th {\n",
       "        text-align: right;\n",
       "    }\n",
       "</style>\n",
       "<table border=\"1\" class=\"dataframe\">\n",
       "  <thead>\n",
       "    <tr style=\"text-align: right;\">\n",
       "      <th></th>\n",
       "      <th>Date</th>\n",
       "      <th>Time</th>\n",
       "      <th>Activity</th>\n",
       "      <th>Market</th>\n",
       "      <th>Direction</th>\n",
       "      <th>Quantity</th>\n",
       "      <th>Price</th>\n",
       "      <th>Currency</th>\n",
       "      <th>Consideration</th>\n",
       "      <th>Commission</th>\n",
       "      <th>Charges</th>\n",
       "      <th>Cost/Proceeds</th>\n",
       "      <th>Conversion rate</th>\n",
       "      <th>Order type</th>\n",
       "      <th>Venue ID</th>\n",
       "      <th>Settled?</th>\n",
       "      <th>Settlement date</th>\n",
       "      <th>Order ID</th>\n",
       "      <th>Ticker</th>\n",
       "    </tr>\n",
       "  </thead>\n",
       "  <tbody>\n",
       "    <tr>\n",
       "      <th>0</th>\n",
       "      <td>10-10-2022</td>\n",
       "      <td>14:38:14</td>\n",
       "      <td>TRADE</td>\n",
       "      <td>ANSYS Inc</td>\n",
       "      <td>BUY</td>\n",
       "      <td>2</td>\n",
       "      <td>21556.63</td>\n",
       "      <td>USD</td>\n",
       "      <td>-431.13</td>\n",
       "      <td>0.0</td>\n",
       "      <td>0.0</td>\n",
       "      <td>-392.39</td>\n",
       "      <td>0.910138</td>\n",
       "      <td>MARKET</td>\n",
       "      <td>XOFF</td>\n",
       "      <td>N</td>\n",
       "      <td>13-10-2022</td>\n",
       "      <td>07CLE:1541765~9515</td>\n",
       "      <td>ANSS</td>\n",
       "    </tr>\n",
       "    <tr>\n",
       "      <th>1</th>\n",
       "      <td>07-10-2022</td>\n",
       "      <td>20:33:35</td>\n",
       "      <td>TRADE</td>\n",
       "      <td>ANSYS Inc</td>\n",
       "      <td>BUY</td>\n",
       "      <td>2</td>\n",
       "      <td>21688.00</td>\n",
       "      <td>USD</td>\n",
       "      <td>-433.76</td>\n",
       "      <td>0.0</td>\n",
       "      <td>0.0</td>\n",
       "      <td>-394.18</td>\n",
       "      <td>0.908742</td>\n",
       "      <td>LIMIT</td>\n",
       "      <td>XOFF</td>\n",
       "      <td>N</td>\n",
       "      <td>12-10-2022</td>\n",
       "      <td>07CLE:1540091~16488</td>\n",
       "      <td>ANSS</td>\n",
       "    </tr>\n",
       "    <tr>\n",
       "      <th>2</th>\n",
       "      <td>29-09-2022</td>\n",
       "      <td>18:58:15</td>\n",
       "      <td>TRADE</td>\n",
       "      <td>MP Materials Corp</td>\n",
       "      <td>BUY</td>\n",
       "      <td>25</td>\n",
       "      <td>2680.00</td>\n",
       "      <td>USD</td>\n",
       "      <td>-670.00</td>\n",
       "      <td>0.0</td>\n",
       "      <td>0.0</td>\n",
       "      <td>-609.67</td>\n",
       "      <td>0.909951</td>\n",
       "      <td>LIMIT</td>\n",
       "      <td>XOFF</td>\n",
       "      <td>Y</td>\n",
       "      <td>03-10-2022</td>\n",
       "      <td>07CLE:1537122~12788</td>\n",
       "      <td>MP</td>\n",
       "    </tr>\n",
       "    <tr>\n",
       "      <th>3</th>\n",
       "      <td>26-09-2022</td>\n",
       "      <td>14:43:59</td>\n",
       "      <td>TRADE</td>\n",
       "      <td>Mosaic Co</td>\n",
       "      <td>BUY</td>\n",
       "      <td>25</td>\n",
       "      <td>4780.00</td>\n",
       "      <td>USD</td>\n",
       "      <td>-1195.00</td>\n",
       "      <td>0.0</td>\n",
       "      <td>0.0</td>\n",
       "      <td>-1104.47</td>\n",
       "      <td>0.924242</td>\n",
       "      <td>LIMIT</td>\n",
       "      <td>XOFF</td>\n",
       "      <td>Y</td>\n",
       "      <td>28-09-2022</td>\n",
       "      <td>07CLE:1535392~13748</td>\n",
       "      <td>MOS</td>\n",
       "    </tr>\n",
       "    <tr>\n",
       "      <th>4</th>\n",
       "      <td>22-09-2022</td>\n",
       "      <td>17:14:32</td>\n",
       "      <td>TRADE</td>\n",
       "      <td>Lumentum Holdings Inc</td>\n",
       "      <td>BUY</td>\n",
       "      <td>10</td>\n",
       "      <td>7118.00</td>\n",
       "      <td>USD</td>\n",
       "      <td>-711.80</td>\n",
       "      <td>0.0</td>\n",
       "      <td>0.0</td>\n",
       "      <td>-635.12</td>\n",
       "      <td>0.892273</td>\n",
       "      <td>LIMIT</td>\n",
       "      <td>XOFF</td>\n",
       "      <td>Y</td>\n",
       "      <td>26-09-2022</td>\n",
       "      <td>07CLE:1532129~13294</td>\n",
       "      <td>LITE</td>\n",
       "    </tr>\n",
       "    <tr>\n",
       "      <th>...</th>\n",
       "      <td>...</td>\n",
       "      <td>...</td>\n",
       "      <td>...</td>\n",
       "      <td>...</td>\n",
       "      <td>...</td>\n",
       "      <td>...</td>\n",
       "      <td>...</td>\n",
       "      <td>...</td>\n",
       "      <td>...</td>\n",
       "      <td>...</td>\n",
       "      <td>...</td>\n",
       "      <td>...</td>\n",
       "      <td>...</td>\n",
       "      <td>...</td>\n",
       "      <td>...</td>\n",
       "      <td>...</td>\n",
       "      <td>...</td>\n",
       "      <td>...</td>\n",
       "      <td>...</td>\n",
       "    </tr>\n",
       "    <tr>\n",
       "      <th>152</th>\n",
       "      <td>26-06-2019</td>\n",
       "      <td>14:56:20</td>\n",
       "      <td>TRADE</td>\n",
       "      <td>MSCI Inc</td>\n",
       "      <td>BUY</td>\n",
       "      <td>10</td>\n",
       "      <td>23000.00</td>\n",
       "      <td>USD</td>\n",
       "      <td>-2300.00</td>\n",
       "      <td>-15.0</td>\n",
       "      <td>0.0</td>\n",
       "      <td>-1834.74</td>\n",
       "      <td>0.792543</td>\n",
       "      <td>LIMIT</td>\n",
       "      <td>XOFF</td>\n",
       "      <td>Y</td>\n",
       "      <td>28-06-2019</td>\n",
       "      <td>07CLE:788407~9402</td>\n",
       "      <td>MSCI</td>\n",
       "    </tr>\n",
       "    <tr>\n",
       "      <th>153</th>\n",
       "      <td>20-05-2019</td>\n",
       "      <td>15:26:36</td>\n",
       "      <td>TRADE</td>\n",
       "      <td>Xilinx Inc</td>\n",
       "      <td>BUY</td>\n",
       "      <td>20</td>\n",
       "      <td>9900.00</td>\n",
       "      <td>USD</td>\n",
       "      <td>-1980.00</td>\n",
       "      <td>-15.0</td>\n",
       "      <td>0.0</td>\n",
       "      <td>-1574.26</td>\n",
       "      <td>0.789099</td>\n",
       "      <td>LIMIT</td>\n",
       "      <td>XOFF</td>\n",
       "      <td>Y</td>\n",
       "      <td>22-05-2019</td>\n",
       "      <td>07CLE:770949~9695</td>\n",
       "      <td>XLNX</td>\n",
       "    </tr>\n",
       "    <tr>\n",
       "      <th>154</th>\n",
       "      <td>20-05-2019</td>\n",
       "      <td>14:37:06</td>\n",
       "      <td>TRADE</td>\n",
       "      <td>iShares MSCI China A ETF</td>\n",
       "      <td>BUY</td>\n",
       "      <td>667</td>\n",
       "      <td>379.00</td>\n",
       "      <td>USD</td>\n",
       "      <td>-2527.93</td>\n",
       "      <td>-8.0</td>\n",
       "      <td>0.0</td>\n",
       "      <td>-2004.39</td>\n",
       "      <td>0.789734</td>\n",
       "      <td>LIMIT</td>\n",
       "      <td>XOFF</td>\n",
       "      <td>Y</td>\n",
       "      <td>22-05-2019</td>\n",
       "      <td>07CLE:770953~7927</td>\n",
       "      <td>IASH.L</td>\n",
       "    </tr>\n",
       "    <tr>\n",
       "      <th>155</th>\n",
       "      <td>01-05-2019</td>\n",
       "      <td>17:37:20</td>\n",
       "      <td>TRADE</td>\n",
       "      <td>Zscaler Inc</td>\n",
       "      <td>BUY</td>\n",
       "      <td>60</td>\n",
       "      <td>6735.00</td>\n",
       "      <td>USD</td>\n",
       "      <td>-4041.00</td>\n",
       "      <td>-15.0</td>\n",
       "      <td>0.0</td>\n",
       "      <td>-3116.59</td>\n",
       "      <td>0.768390</td>\n",
       "      <td>LIMIT</td>\n",
       "      <td>XOFF</td>\n",
       "      <td>Y</td>\n",
       "      <td>03-05-2019</td>\n",
       "      <td>07CLE:762643~8885</td>\n",
       "      <td>ZS</td>\n",
       "    </tr>\n",
       "    <tr>\n",
       "      <th>156</th>\n",
       "      <td>23-04-2019</td>\n",
       "      <td>08:00:18</td>\n",
       "      <td>TRADE</td>\n",
       "      <td>HSBC ETFs Public Limited Company - HSBC MSCI E...</td>\n",
       "      <td>BUY</td>\n",
       "      <td>100</td>\n",
       "      <td>850.00</td>\n",
       "      <td>GBP</td>\n",
       "      <td>-850.00</td>\n",
       "      <td>-8.0</td>\n",
       "      <td>0.0</td>\n",
       "      <td>-858.00</td>\n",
       "      <td>1.000000</td>\n",
       "      <td>LIMIT</td>\n",
       "      <td>XOFF</td>\n",
       "      <td>Y</td>\n",
       "      <td>25-04-2019</td>\n",
       "      <td>07CLE:757304~12848</td>\n",
       "      <td>HMEF.L</td>\n",
       "    </tr>\n",
       "  </tbody>\n",
       "</table>\n",
       "<p>157 rows × 19 columns</p>\n",
       "</div>"
      ],
      "text/plain": [
       "           Date      Time Activity  \\\n",
       "0    10-10-2022  14:38:14    TRADE   \n",
       "1    07-10-2022  20:33:35    TRADE   \n",
       "2    29-09-2022  18:58:15    TRADE   \n",
       "3    26-09-2022  14:43:59    TRADE   \n",
       "4    22-09-2022  17:14:32    TRADE   \n",
       "..          ...       ...      ...   \n",
       "152  26-06-2019  14:56:20    TRADE   \n",
       "153  20-05-2019  15:26:36    TRADE   \n",
       "154  20-05-2019  14:37:06    TRADE   \n",
       "155  01-05-2019  17:37:20    TRADE   \n",
       "156  23-04-2019  08:00:18    TRADE   \n",
       "\n",
       "                                                Market Direction  Quantity  \\\n",
       "0                                            ANSYS Inc       BUY         2   \n",
       "1                                            ANSYS Inc       BUY         2   \n",
       "2                                    MP Materials Corp       BUY        25   \n",
       "3                                            Mosaic Co       BUY        25   \n",
       "4                                Lumentum Holdings Inc       BUY        10   \n",
       "..                                                 ...       ...       ...   \n",
       "152                                           MSCI Inc       BUY        10   \n",
       "153                                         Xilinx Inc       BUY        20   \n",
       "154                           iShares MSCI China A ETF       BUY       667   \n",
       "155                                        Zscaler Inc       BUY        60   \n",
       "156  HSBC ETFs Public Limited Company - HSBC MSCI E...       BUY       100   \n",
       "\n",
       "        Price Currency  Consideration  Commission  Charges  Cost/Proceeds  \\\n",
       "0    21556.63      USD        -431.13         0.0      0.0        -392.39   \n",
       "1    21688.00      USD        -433.76         0.0      0.0        -394.18   \n",
       "2     2680.00      USD        -670.00         0.0      0.0        -609.67   \n",
       "3     4780.00      USD       -1195.00         0.0      0.0       -1104.47   \n",
       "4     7118.00      USD        -711.80         0.0      0.0        -635.12   \n",
       "..        ...      ...            ...         ...      ...            ...   \n",
       "152  23000.00      USD       -2300.00       -15.0      0.0       -1834.74   \n",
       "153   9900.00      USD       -1980.00       -15.0      0.0       -1574.26   \n",
       "154    379.00      USD       -2527.93        -8.0      0.0       -2004.39   \n",
       "155   6735.00      USD       -4041.00       -15.0      0.0       -3116.59   \n",
       "156    850.00      GBP        -850.00        -8.0      0.0        -858.00   \n",
       "\n",
       "     Conversion rate Order type Venue ID Settled? Settlement date  \\\n",
       "0           0.910138     MARKET     XOFF        N      13-10-2022   \n",
       "1           0.908742      LIMIT     XOFF        N      12-10-2022   \n",
       "2           0.909951      LIMIT     XOFF        Y      03-10-2022   \n",
       "3           0.924242      LIMIT     XOFF        Y      28-09-2022   \n",
       "4           0.892273      LIMIT     XOFF        Y      26-09-2022   \n",
       "..               ...        ...      ...      ...             ...   \n",
       "152         0.792543      LIMIT     XOFF        Y      28-06-2019   \n",
       "153         0.789099      LIMIT     XOFF        Y      22-05-2019   \n",
       "154         0.789734      LIMIT     XOFF        Y      22-05-2019   \n",
       "155         0.768390      LIMIT     XOFF        Y      03-05-2019   \n",
       "156         1.000000      LIMIT     XOFF        Y      25-04-2019   \n",
       "\n",
       "                Order ID  Ticker  \n",
       "0     07CLE:1541765~9515    ANSS  \n",
       "1    07CLE:1540091~16488    ANSS  \n",
       "2    07CLE:1537122~12788      MP  \n",
       "3    07CLE:1535392~13748     MOS  \n",
       "4    07CLE:1532129~13294    LITE  \n",
       "..                   ...     ...  \n",
       "152    07CLE:788407~9402    MSCI  \n",
       "153    07CLE:770949~9695    XLNX  \n",
       "154    07CLE:770953~7927  IASH.L  \n",
       "155    07CLE:762643~8885      ZS  \n",
       "156   07CLE:757304~12848  HMEF.L  \n",
       "\n",
       "[157 rows x 19 columns]"
      ]
     },
     "execution_count": 1,
     "metadata": {},
     "output_type": "execute_result"
    }
   ],
   "source": [
    "import json\n",
    "import numpy as np\n",
    "import pandas as pd\n",
    "with open('/mnt/f/github/helloworld/concepts/python/dockerfile/streamlit_port_dashboard/company_name_to_ticker.json', 'r') as f:\n",
    "    tickers = json.load(f)\n",
    "\n",
    "tickers\n",
    "\n",
    "# match ticker dictionary with company name\n",
    "def load_ticker_from_json(ticker: dict, df: pd.DataFrame) -> pd.DataFrame:\n",
    "    if 'Ticker' not in df.columns:\n",
    "        df['Ticker'] = np.nan\n",
    "    df['Ticker'] = df['Market'].map(ticker).fillna(df['Ticker'])\n",
    "    return df\n",
    "\n",
    "df_trade_history = pd.read_csv(\"/mnt/f/Downloads/TradeHistory.csv\")\n",
    "df_with_ticker = load_ticker_from_json(tickers, df_trade_history)\n",
    "df_with_ticker"
   ]
  },
  {
   "cell_type": "code",
   "execution_count": 2,
   "metadata": {},
   "outputs": [
    {
     "data": {
      "text/html": [
       "<div>\n",
       "<style scoped>\n",
       "    .dataframe tbody tr th:only-of-type {\n",
       "        vertical-align: middle;\n",
       "    }\n",
       "\n",
       "    .dataframe tbody tr th {\n",
       "        vertical-align: top;\n",
       "    }\n",
       "\n",
       "    .dataframe thead th {\n",
       "        text-align: right;\n",
       "    }\n",
       "</style>\n",
       "<table border=\"1\" class=\"dataframe\">\n",
       "  <thead>\n",
       "    <tr style=\"text-align: right;\">\n",
       "      <th></th>\n",
       "      <th></th>\n",
       "      <th>Quantity</th>\n",
       "      <th>Price</th>\n",
       "      <th>Consideration</th>\n",
       "      <th>Commission</th>\n",
       "      <th>Charges</th>\n",
       "      <th>Cost/Proceeds</th>\n",
       "      <th>Conversion rate</th>\n",
       "    </tr>\n",
       "    <tr>\n",
       "      <th>Market</th>\n",
       "      <th>Ticker</th>\n",
       "      <th></th>\n",
       "      <th></th>\n",
       "      <th></th>\n",
       "      <th></th>\n",
       "      <th></th>\n",
       "      <th></th>\n",
       "      <th></th>\n",
       "    </tr>\n",
       "  </thead>\n",
       "  <tbody>\n",
       "    <tr>\n",
       "      <th>23ANDME Holding Co</th>\n",
       "      <th>ME</th>\n",
       "      <td>-300</td>\n",
       "      <td>1288.0000</td>\n",
       "      <td>3864.00</td>\n",
       "      <td>0.0</td>\n",
       "      <td>-0.02</td>\n",
       "      <td>2847.20</td>\n",
       "      <td>0.736856</td>\n",
       "    </tr>\n",
       "    <tr>\n",
       "      <th>3M Co (All Sessions)</th>\n",
       "      <th>MMM</th>\n",
       "      <td>45</td>\n",
       "      <td>33948.0000</td>\n",
       "      <td>-7342.90</td>\n",
       "      <td>-15.0</td>\n",
       "      <td>0.00</td>\n",
       "      <td>-5654.02</td>\n",
       "      <td>1.509144</td>\n",
       "    </tr>\n",
       "    <tr>\n",
       "      <th>ANSYS Inc</th>\n",
       "      <th>ANSS</th>\n",
       "      <td>12</td>\n",
       "      <td>77062.6300</td>\n",
       "      <td>-3570.33</td>\n",
       "      <td>0.0</td>\n",
       "      <td>0.00</td>\n",
       "      <td>-2731.58</td>\n",
       "      <td>2.537804</td>\n",
       "    </tr>\n",
       "    <tr>\n",
       "      <th>Abbott Laboratories</th>\n",
       "      <th>ABT</th>\n",
       "      <td>0</td>\n",
       "      <td>19400.0000</td>\n",
       "      <td>720.00</td>\n",
       "      <td>0.0</td>\n",
       "      <td>-0.20</td>\n",
       "      <td>-2.60</td>\n",
       "      <td>1.577299</td>\n",
       "    </tr>\n",
       "    <tr>\n",
       "      <th>Activision Blizzard Inc</th>\n",
       "      <th>ATVI</th>\n",
       "      <td>0</td>\n",
       "      <td>48119.0000</td>\n",
       "      <td>3505.40</td>\n",
       "      <td>-10.0</td>\n",
       "      <td>-0.46</td>\n",
       "      <td>1929.41</td>\n",
       "      <td>4.584068</td>\n",
       "    </tr>\n",
       "    <tr>\n",
       "      <th>Akamai Technologies Inc</th>\n",
       "      <th>AKAM</th>\n",
       "      <td>0</td>\n",
       "      <td>21868.0000</td>\n",
       "      <td>58.40</td>\n",
       "      <td>0.0</td>\n",
       "      <td>-0.01</td>\n",
       "      <td>9.87</td>\n",
       "      <td>1.436833</td>\n",
       "    </tr>\n",
       "    <tr>\n",
       "      <th>Barrick Gold Corp (US)</th>\n",
       "      <th>GOLD</th>\n",
       "      <td>100</td>\n",
       "      <td>4866.0000</td>\n",
       "      <td>-2118.00</td>\n",
       "      <td>-10.0</td>\n",
       "      <td>-0.01</td>\n",
       "      <td>-1558.66</td>\n",
       "      <td>1.500925</td>\n",
       "    </tr>\n",
       "    <tr>\n",
       "      <th>BlackLine Inc</th>\n",
       "      <th>BL</th>\n",
       "      <td>30</td>\n",
       "      <td>12488.0000</td>\n",
       "      <td>-3746.40</td>\n",
       "      <td>0.0</td>\n",
       "      <td>0.00</td>\n",
       "      <td>-2763.82</td>\n",
       "      <td>0.737728</td>\n",
       "    </tr>\n",
       "    <tr>\n",
       "      <th>Blackberry Ltd (US)</th>\n",
       "      <th>BB</th>\n",
       "      <td>0</td>\n",
       "      <td>3234.0000</td>\n",
       "      <td>1740.00</td>\n",
       "      <td>0.0</td>\n",
       "      <td>-0.11</td>\n",
       "      <td>1192.44</td>\n",
       "      <td>2.213622</td>\n",
       "    </tr>\n",
       "    <tr>\n",
       "      <th>Blackstone Group LP</th>\n",
       "      <th>BX</th>\n",
       "      <td>25</td>\n",
       "      <td>33268.0000</td>\n",
       "      <td>-2882.40</td>\n",
       "      <td>0.0</td>\n",
       "      <td>0.00</td>\n",
       "      <td>-2191.56</td>\n",
       "      <td>2.312827</td>\n",
       "    </tr>\n",
       "    <tr>\n",
       "      <th>Energy Transfer Equity LP</th>\n",
       "      <th>ET</th>\n",
       "      <td>0</td>\n",
       "      <td>7058.0000</td>\n",
       "      <td>6029.50</td>\n",
       "      <td>0.0</td>\n",
       "      <td>-0.11</td>\n",
       "      <td>4632.16</td>\n",
       "      <td>6.743548</td>\n",
       "    </tr>\n",
       "    <tr>\n",
       "      <th>FactSet Research Systems Inc</th>\n",
       "      <th>FDS</th>\n",
       "      <td>12</td>\n",
       "      <td>32800.0000</td>\n",
       "      <td>-3936.00</td>\n",
       "      <td>0.0</td>\n",
       "      <td>0.00</td>\n",
       "      <td>-2926.25</td>\n",
       "      <td>0.743457</td>\n",
       "    </tr>\n",
       "    <tr>\n",
       "      <th>Gilead Sciences Inc (All Sessions)</th>\n",
       "      <th>GILD</th>\n",
       "      <td>80</td>\n",
       "      <td>34490.0000</td>\n",
       "      <td>-5640.40</td>\n",
       "      <td>0.0</td>\n",
       "      <td>-0.05</td>\n",
       "      <td>-4443.87</td>\n",
       "      <td>3.715088</td>\n",
       "    </tr>\n",
       "    <tr>\n",
       "      <th>HSBC ETFs Public Limited Company - HSBC MSCI Emerging Markets UCITS ETF</th>\n",
       "      <th>HMEF.L</th>\n",
       "      <td>0</td>\n",
       "      <td>1738.0000</td>\n",
       "      <td>38.00</td>\n",
       "      <td>-16.0</td>\n",
       "      <td>0.00</td>\n",
       "      <td>22.00</td>\n",
       "      <td>2.000000</td>\n",
       "    </tr>\n",
       "    <tr>\n",
       "      <th>IG Group Holdings PLC</th>\n",
       "      <th>IGG.L</th>\n",
       "      <td>0</td>\n",
       "      <td>1380.6000</td>\n",
       "      <td>98.80</td>\n",
       "      <td>-16.0</td>\n",
       "      <td>-17.70</td>\n",
       "      <td>65.10</td>\n",
       "      <td>2.000000</td>\n",
       "    </tr>\n",
       "    <tr>\n",
       "      <th>Infrastructure and Energy Alternatives Inc</th>\n",
       "      <th>IEA</th>\n",
       "      <td>220</td>\n",
       "      <td>2706.0000</td>\n",
       "      <td>-3003.60</td>\n",
       "      <td>0.0</td>\n",
       "      <td>0.00</td>\n",
       "      <td>-2179.10</td>\n",
       "      <td>1.452022</td>\n",
       "    </tr>\n",
       "    <tr>\n",
       "      <th>International Seaways Inc</th>\n",
       "      <th>INSW</th>\n",
       "      <td>120</td>\n",
       "      <td>16850.7667</td>\n",
       "      <td>-3044.89</td>\n",
       "      <td>-10.0</td>\n",
       "      <td>-0.08</td>\n",
       "      <td>-2395.57</td>\n",
       "      <td>4.985684</td>\n",
       "    </tr>\n",
       "    <tr>\n",
       "      <th>Intuitive Surgical Inc</th>\n",
       "      <th>ISRG</th>\n",
       "      <td>61</td>\n",
       "      <td>220840.0000</td>\n",
       "      <td>-13917.60</td>\n",
       "      <td>0.0</td>\n",
       "      <td>0.00</td>\n",
       "      <td>-10779.80</td>\n",
       "      <td>5.253448</td>\n",
       "    </tr>\n",
       "    <tr>\n",
       "      <th>Invesco Ltd</th>\n",
       "      <th>IVZ</th>\n",
       "      <td>300</td>\n",
       "      <td>5016.0000</td>\n",
       "      <td>-7674.00</td>\n",
       "      <td>0.0</td>\n",
       "      <td>0.00</td>\n",
       "      <td>-5565.49</td>\n",
       "      <td>1.456420</td>\n",
       "    </tr>\n",
       "    <tr>\n",
       "      <th>Kopin Corporation</th>\n",
       "      <th>KOPN</th>\n",
       "      <td>448</td>\n",
       "      <td>2557.1500</td>\n",
       "      <td>-3151.47</td>\n",
       "      <td>0.0</td>\n",
       "      <td>0.00</td>\n",
       "      <td>-2290.60</td>\n",
       "      <td>3.746396</td>\n",
       "    </tr>\n",
       "    <tr>\n",
       "      <th>Lam Research Corp</th>\n",
       "      <th>LRCX</th>\n",
       "      <td>45</td>\n",
       "      <td>537080.0000</td>\n",
       "      <td>-16851.20</td>\n",
       "      <td>0.0</td>\n",
       "      <td>-0.19</td>\n",
       "      <td>-12961.42</td>\n",
       "      <td>7.340324</td>\n",
       "    </tr>\n",
       "    <tr>\n",
       "      <th>Lumentum Holdings Inc</th>\n",
       "      <th>LITE</th>\n",
       "      <td>35</td>\n",
       "      <td>65576.0000</td>\n",
       "      <td>-1346.80</td>\n",
       "      <td>0.0</td>\n",
       "      <td>-0.14</td>\n",
       "      <td>-1353.36</td>\n",
       "      <td>6.198868</td>\n",
       "    </tr>\n",
       "    <tr>\n",
       "      <th>MP Materials Corp</th>\n",
       "      <th>MP</th>\n",
       "      <td>50</td>\n",
       "      <td>10959.0000</td>\n",
       "      <td>-998.50</td>\n",
       "      <td>0.0</td>\n",
       "      <td>-0.01</td>\n",
       "      <td>-927.77</td>\n",
       "      <td>3.202011</td>\n",
       "    </tr>\n",
       "    <tr>\n",
       "      <th>MSCI Inc</th>\n",
       "      <th>MSCI</th>\n",
       "      <td>0</td>\n",
       "      <td>424029.0000</td>\n",
       "      <td>6890.56</td>\n",
       "      <td>-65.0</td>\n",
       "      <td>-0.33</td>\n",
       "      <td>4508.32</td>\n",
       "      <td>9.154927</td>\n",
       "    </tr>\n",
       "    <tr>\n",
       "      <th>Morgan Stanley</th>\n",
       "      <th>MS</th>\n",
       "      <td>50</td>\n",
       "      <td>9788.0000</td>\n",
       "      <td>-4894.00</td>\n",
       "      <td>0.0</td>\n",
       "      <td>0.00</td>\n",
       "      <td>-3661.12</td>\n",
       "      <td>0.748084</td>\n",
       "    </tr>\n",
       "    <tr>\n",
       "      <th>Mosaic Co</th>\n",
       "      <th>MOS</th>\n",
       "      <td>50</td>\n",
       "      <td>25404.0000</td>\n",
       "      <td>-2220.00</td>\n",
       "      <td>0.0</td>\n",
       "      <td>-0.06</td>\n",
       "      <td>-1856.70</td>\n",
       "      <td>4.263003</td>\n",
       "    </tr>\n",
       "    <tr>\n",
       "      <th>Okta Inc</th>\n",
       "      <th>OKTA</th>\n",
       "      <td>20</td>\n",
       "      <td>72968.0000</td>\n",
       "      <td>-4722.40</td>\n",
       "      <td>0.0</td>\n",
       "      <td>0.00</td>\n",
       "      <td>-3372.07</td>\n",
       "      <td>2.145497</td>\n",
       "    </tr>\n",
       "    <tr>\n",
       "      <th>PayPoint PLC</th>\n",
       "      <th>PAY.L</th>\n",
       "      <td>600</td>\n",
       "      <td>3394.0000</td>\n",
       "      <td>-4225.00</td>\n",
       "      <td>-32.0</td>\n",
       "      <td>-34.41</td>\n",
       "      <td>-4291.41</td>\n",
       "      <td>4.000000</td>\n",
       "    </tr>\n",
       "    <tr>\n",
       "      <th>Quidel Corp</th>\n",
       "      <th>QDEL</th>\n",
       "      <td>18</td>\n",
       "      <td>29388.0000</td>\n",
       "      <td>-2567.04</td>\n",
       "      <td>0.0</td>\n",
       "      <td>0.00</td>\n",
       "      <td>-1850.18</td>\n",
       "      <td>3.026068</td>\n",
       "    </tr>\n",
       "    <tr>\n",
       "      <th>Raytheon Technologies Corp (All Sessions)</th>\n",
       "      <th>RTX</th>\n",
       "      <td>20</td>\n",
       "      <td>8788.0000</td>\n",
       "      <td>-1757.60</td>\n",
       "      <td>0.0</td>\n",
       "      <td>0.00</td>\n",
       "      <td>-1529.64</td>\n",
       "      <td>0.870298</td>\n",
       "    </tr>\n",
       "    <tr>\n",
       "      <th>Schroders PLC</th>\n",
       "      <th>SDR.L</th>\n",
       "      <td>585</td>\n",
       "      <td>3548.0000</td>\n",
       "      <td>-3548.00</td>\n",
       "      <td>-3.0</td>\n",
       "      <td>-17.74</td>\n",
       "      <td>-3568.74</td>\n",
       "      <td>4.000000</td>\n",
       "    </tr>\n",
       "    <tr>\n",
       "      <th>Sierra Wireless Inc</th>\n",
       "      <th>SWIR</th>\n",
       "      <td>0</td>\n",
       "      <td>2986.0000</td>\n",
       "      <td>300.00</td>\n",
       "      <td>0.0</td>\n",
       "      <td>-0.07</td>\n",
       "      <td>208.85</td>\n",
       "      <td>1.472700</td>\n",
       "    </tr>\n",
       "    <tr>\n",
       "      <th>Skillz Inc</th>\n",
       "      <th>SKLZ</th>\n",
       "      <td>300</td>\n",
       "      <td>3088.0000</td>\n",
       "      <td>-4996.00</td>\n",
       "      <td>0.0</td>\n",
       "      <td>0.00</td>\n",
       "      <td>-3634.52</td>\n",
       "      <td>1.453071</td>\n",
       "    </tr>\n",
       "    <tr>\n",
       "      <th>SmileDirectClub Inc</th>\n",
       "      <th>SDC</th>\n",
       "      <td>0</td>\n",
       "      <td>4711.0000</td>\n",
       "      <td>802.00</td>\n",
       "      <td>0.0</td>\n",
       "      <td>-0.11</td>\n",
       "      <td>534.44</td>\n",
       "      <td>3.038788</td>\n",
       "    </tr>\n",
       "    <tr>\n",
       "      <th>Southwest Airlines Co</th>\n",
       "      <th>LUV</th>\n",
       "      <td>100</td>\n",
       "      <td>4480.0000</td>\n",
       "      <td>-4480.00</td>\n",
       "      <td>0.0</td>\n",
       "      <td>0.00</td>\n",
       "      <td>-3385.82</td>\n",
       "      <td>0.755762</td>\n",
       "    </tr>\n",
       "    <tr>\n",
       "      <th>Tesla Motors Inc (All Sessions)</th>\n",
       "      <th>TSLA</th>\n",
       "      <td>0</td>\n",
       "      <td>83960.0000</td>\n",
       "      <td>108.00</td>\n",
       "      <td>0.0</td>\n",
       "      <td>-0.17</td>\n",
       "      <td>46.77</td>\n",
       "      <td>1.537250</td>\n",
       "    </tr>\n",
       "    <tr>\n",
       "      <th>Tronox Ltd</th>\n",
       "      <th>TROX</th>\n",
       "      <td>300</td>\n",
       "      <td>4636.0000</td>\n",
       "      <td>-4838.00</td>\n",
       "      <td>-10.0</td>\n",
       "      <td>0.00</td>\n",
       "      <td>-3995.60</td>\n",
       "      <td>2.501438</td>\n",
       "    </tr>\n",
       "    <tr>\n",
       "      <th>Twilio Inc</th>\n",
       "      <th>TWLO</th>\n",
       "      <td>0</td>\n",
       "      <td>55180.0000</td>\n",
       "      <td>954.00</td>\n",
       "      <td>0.0</td>\n",
       "      <td>-0.19</td>\n",
       "      <td>769.34</td>\n",
       "      <td>1.533922</td>\n",
       "    </tr>\n",
       "    <tr>\n",
       "      <th>VG Acquisition Corporation (Ord)</th>\n",
       "      <th>ME</th>\n",
       "      <td>300</td>\n",
       "      <td>997.0000</td>\n",
       "      <td>-2991.00</td>\n",
       "      <td>0.0</td>\n",
       "      <td>0.00</td>\n",
       "      <td>-2118.65</td>\n",
       "      <td>2.142740</td>\n",
       "    </tr>\n",
       "    <tr>\n",
       "      <th>Veeva Systems Inc</th>\n",
       "      <th>VEEV</th>\n",
       "      <td>30</td>\n",
       "      <td>88668.0000</td>\n",
       "      <td>-8676.60</td>\n",
       "      <td>0.0</td>\n",
       "      <td>0.00</td>\n",
       "      <td>-6537.83</td>\n",
       "      <td>2.230006</td>\n",
       "    </tr>\n",
       "    <tr>\n",
       "      <th>Xilinx Inc</th>\n",
       "      <th>XLNX</th>\n",
       "      <td>0</td>\n",
       "      <td>20000.0000</td>\n",
       "      <td>40.00</td>\n",
       "      <td>-15.0</td>\n",
       "      <td>-0.04</td>\n",
       "      <td>28.34</td>\n",
       "      <td>1.582478</td>\n",
       "    </tr>\n",
       "    <tr>\n",
       "      <th>Zoom Video Communications Inc</th>\n",
       "      <th>ZM</th>\n",
       "      <td>0</td>\n",
       "      <td>32120.0000</td>\n",
       "      <td>4533.50</td>\n",
       "      <td>-40.0</td>\n",
       "      <td>-0.26</td>\n",
       "      <td>3497.98</td>\n",
       "      <td>2.414005</td>\n",
       "    </tr>\n",
       "    <tr>\n",
       "      <th>Zscaler Inc</th>\n",
       "      <th>ZS</th>\n",
       "      <td>0</td>\n",
       "      <td>45793.0000</td>\n",
       "      <td>2861.95</td>\n",
       "      <td>-75.0</td>\n",
       "      <td>-0.24</td>\n",
       "      <td>2199.51</td>\n",
       "      <td>4.859398</td>\n",
       "    </tr>\n",
       "    <tr>\n",
       "      <th>iShares MSCI China A ETF</th>\n",
       "      <th>IASH.L</th>\n",
       "      <td>0</td>\n",
       "      <td>797.0000</td>\n",
       "      <td>260.13</td>\n",
       "      <td>-16.0</td>\n",
       "      <td>0.00</td>\n",
       "      <td>147.22</td>\n",
       "      <td>1.564328</td>\n",
       "    </tr>\n",
       "  </tbody>\n",
       "</table>\n",
       "</div>"
      ],
      "text/plain": [
       "                                                           Quantity  \\\n",
       "Market                                             Ticker             \n",
       "23ANDME Holding Co                                 ME          -300   \n",
       "3M Co (All Sessions)                               MMM           45   \n",
       "ANSYS Inc                                          ANSS          12   \n",
       "Abbott Laboratories                                ABT            0   \n",
       "Activision Blizzard Inc                            ATVI           0   \n",
       "Akamai Technologies Inc                            AKAM           0   \n",
       "Barrick Gold Corp (US)                             GOLD         100   \n",
       "BlackLine Inc                                      BL            30   \n",
       "Blackberry Ltd (US)                                BB             0   \n",
       "Blackstone Group LP                                BX            25   \n",
       "Energy Transfer Equity LP                          ET             0   \n",
       "FactSet Research Systems Inc                       FDS           12   \n",
       "Gilead Sciences Inc (All Sessions)                 GILD          80   \n",
       "HSBC ETFs Public Limited Company - HSBC MSCI Em... HMEF.L         0   \n",
       "IG Group Holdings PLC                              IGG.L          0   \n",
       "Infrastructure and Energy Alternatives Inc         IEA          220   \n",
       "International Seaways Inc                          INSW         120   \n",
       "Intuitive Surgical Inc                             ISRG          61   \n",
       "Invesco Ltd                                        IVZ          300   \n",
       "Kopin Corporation                                  KOPN         448   \n",
       "Lam Research Corp                                  LRCX          45   \n",
       "Lumentum Holdings Inc                              LITE          35   \n",
       "MP Materials Corp                                  MP            50   \n",
       "MSCI Inc                                           MSCI           0   \n",
       "Morgan Stanley                                     MS            50   \n",
       "Mosaic Co                                          MOS           50   \n",
       "Okta Inc                                           OKTA          20   \n",
       "PayPoint PLC                                       PAY.L        600   \n",
       "Quidel Corp                                        QDEL          18   \n",
       "Raytheon Technologies Corp (All Sessions)          RTX           20   \n",
       "Schroders PLC                                      SDR.L        585   \n",
       "Sierra Wireless Inc                                SWIR           0   \n",
       "Skillz Inc                                         SKLZ         300   \n",
       "SmileDirectClub Inc                                SDC            0   \n",
       "Southwest Airlines Co                              LUV          100   \n",
       "Tesla Motors Inc (All Sessions)                    TSLA           0   \n",
       "Tronox Ltd                                         TROX         300   \n",
       "Twilio Inc                                         TWLO           0   \n",
       "VG Acquisition Corporation (Ord)                   ME           300   \n",
       "Veeva Systems Inc                                  VEEV          30   \n",
       "Xilinx Inc                                         XLNX           0   \n",
       "Zoom Video Communications Inc                      ZM             0   \n",
       "Zscaler Inc                                        ZS             0   \n",
       "iShares MSCI China A ETF                           IASH.L         0   \n",
       "\n",
       "                                                                 Price  \\\n",
       "Market                                             Ticker                \n",
       "23ANDME Holding Co                                 ME        1288.0000   \n",
       "3M Co (All Sessions)                               MMM      33948.0000   \n",
       "ANSYS Inc                                          ANSS     77062.6300   \n",
       "Abbott Laboratories                                ABT      19400.0000   \n",
       "Activision Blizzard Inc                            ATVI     48119.0000   \n",
       "Akamai Technologies Inc                            AKAM     21868.0000   \n",
       "Barrick Gold Corp (US)                             GOLD      4866.0000   \n",
       "BlackLine Inc                                      BL       12488.0000   \n",
       "Blackberry Ltd (US)                                BB        3234.0000   \n",
       "Blackstone Group LP                                BX       33268.0000   \n",
       "Energy Transfer Equity LP                          ET        7058.0000   \n",
       "FactSet Research Systems Inc                       FDS      32800.0000   \n",
       "Gilead Sciences Inc (All Sessions)                 GILD     34490.0000   \n",
       "HSBC ETFs Public Limited Company - HSBC MSCI Em... HMEF.L    1738.0000   \n",
       "IG Group Holdings PLC                              IGG.L     1380.6000   \n",
       "Infrastructure and Energy Alternatives Inc         IEA       2706.0000   \n",
       "International Seaways Inc                          INSW     16850.7667   \n",
       "Intuitive Surgical Inc                             ISRG    220840.0000   \n",
       "Invesco Ltd                                        IVZ       5016.0000   \n",
       "Kopin Corporation                                  KOPN      2557.1500   \n",
       "Lam Research Corp                                  LRCX    537080.0000   \n",
       "Lumentum Holdings Inc                              LITE     65576.0000   \n",
       "MP Materials Corp                                  MP       10959.0000   \n",
       "MSCI Inc                                           MSCI    424029.0000   \n",
       "Morgan Stanley                                     MS        9788.0000   \n",
       "Mosaic Co                                          MOS      25404.0000   \n",
       "Okta Inc                                           OKTA     72968.0000   \n",
       "PayPoint PLC                                       PAY.L     3394.0000   \n",
       "Quidel Corp                                        QDEL     29388.0000   \n",
       "Raytheon Technologies Corp (All Sessions)          RTX       8788.0000   \n",
       "Schroders PLC                                      SDR.L     3548.0000   \n",
       "Sierra Wireless Inc                                SWIR      2986.0000   \n",
       "Skillz Inc                                         SKLZ      3088.0000   \n",
       "SmileDirectClub Inc                                SDC       4711.0000   \n",
       "Southwest Airlines Co                              LUV       4480.0000   \n",
       "Tesla Motors Inc (All Sessions)                    TSLA     83960.0000   \n",
       "Tronox Ltd                                         TROX      4636.0000   \n",
       "Twilio Inc                                         TWLO     55180.0000   \n",
       "VG Acquisition Corporation (Ord)                   ME         997.0000   \n",
       "Veeva Systems Inc                                  VEEV     88668.0000   \n",
       "Xilinx Inc                                         XLNX     20000.0000   \n",
       "Zoom Video Communications Inc                      ZM       32120.0000   \n",
       "Zscaler Inc                                        ZS       45793.0000   \n",
       "iShares MSCI China A ETF                           IASH.L     797.0000   \n",
       "\n",
       "                                                           Consideration  \\\n",
       "Market                                             Ticker                  \n",
       "23ANDME Holding Co                                 ME            3864.00   \n",
       "3M Co (All Sessions)                               MMM          -7342.90   \n",
       "ANSYS Inc                                          ANSS         -3570.33   \n",
       "Abbott Laboratories                                ABT            720.00   \n",
       "Activision Blizzard Inc                            ATVI          3505.40   \n",
       "Akamai Technologies Inc                            AKAM            58.40   \n",
       "Barrick Gold Corp (US)                             GOLD         -2118.00   \n",
       "BlackLine Inc                                      BL           -3746.40   \n",
       "Blackberry Ltd (US)                                BB            1740.00   \n",
       "Blackstone Group LP                                BX           -2882.40   \n",
       "Energy Transfer Equity LP                          ET            6029.50   \n",
       "FactSet Research Systems Inc                       FDS          -3936.00   \n",
       "Gilead Sciences Inc (All Sessions)                 GILD         -5640.40   \n",
       "HSBC ETFs Public Limited Company - HSBC MSCI Em... HMEF.L          38.00   \n",
       "IG Group Holdings PLC                              IGG.L           98.80   \n",
       "Infrastructure and Energy Alternatives Inc         IEA          -3003.60   \n",
       "International Seaways Inc                          INSW         -3044.89   \n",
       "Intuitive Surgical Inc                             ISRG        -13917.60   \n",
       "Invesco Ltd                                        IVZ          -7674.00   \n",
       "Kopin Corporation                                  KOPN         -3151.47   \n",
       "Lam Research Corp                                  LRCX        -16851.20   \n",
       "Lumentum Holdings Inc                              LITE         -1346.80   \n",
       "MP Materials Corp                                  MP            -998.50   \n",
       "MSCI Inc                                           MSCI          6890.56   \n",
       "Morgan Stanley                                     MS           -4894.00   \n",
       "Mosaic Co                                          MOS          -2220.00   \n",
       "Okta Inc                                           OKTA         -4722.40   \n",
       "PayPoint PLC                                       PAY.L        -4225.00   \n",
       "Quidel Corp                                        QDEL         -2567.04   \n",
       "Raytheon Technologies Corp (All Sessions)          RTX          -1757.60   \n",
       "Schroders PLC                                      SDR.L        -3548.00   \n",
       "Sierra Wireless Inc                                SWIR           300.00   \n",
       "Skillz Inc                                         SKLZ         -4996.00   \n",
       "SmileDirectClub Inc                                SDC            802.00   \n",
       "Southwest Airlines Co                              LUV          -4480.00   \n",
       "Tesla Motors Inc (All Sessions)                    TSLA           108.00   \n",
       "Tronox Ltd                                         TROX         -4838.00   \n",
       "Twilio Inc                                         TWLO           954.00   \n",
       "VG Acquisition Corporation (Ord)                   ME           -2991.00   \n",
       "Veeva Systems Inc                                  VEEV         -8676.60   \n",
       "Xilinx Inc                                         XLNX            40.00   \n",
       "Zoom Video Communications Inc                      ZM            4533.50   \n",
       "Zscaler Inc                                        ZS            2861.95   \n",
       "iShares MSCI China A ETF                           IASH.L         260.13   \n",
       "\n",
       "                                                           Commission  \\\n",
       "Market                                             Ticker               \n",
       "23ANDME Holding Co                                 ME             0.0   \n",
       "3M Co (All Sessions)                               MMM          -15.0   \n",
       "ANSYS Inc                                          ANSS           0.0   \n",
       "Abbott Laboratories                                ABT            0.0   \n",
       "Activision Blizzard Inc                            ATVI         -10.0   \n",
       "Akamai Technologies Inc                            AKAM           0.0   \n",
       "Barrick Gold Corp (US)                             GOLD         -10.0   \n",
       "BlackLine Inc                                      BL             0.0   \n",
       "Blackberry Ltd (US)                                BB             0.0   \n",
       "Blackstone Group LP                                BX             0.0   \n",
       "Energy Transfer Equity LP                          ET             0.0   \n",
       "FactSet Research Systems Inc                       FDS            0.0   \n",
       "Gilead Sciences Inc (All Sessions)                 GILD           0.0   \n",
       "HSBC ETFs Public Limited Company - HSBC MSCI Em... HMEF.L       -16.0   \n",
       "IG Group Holdings PLC                              IGG.L        -16.0   \n",
       "Infrastructure and Energy Alternatives Inc         IEA            0.0   \n",
       "International Seaways Inc                          INSW         -10.0   \n",
       "Intuitive Surgical Inc                             ISRG           0.0   \n",
       "Invesco Ltd                                        IVZ            0.0   \n",
       "Kopin Corporation                                  KOPN           0.0   \n",
       "Lam Research Corp                                  LRCX           0.0   \n",
       "Lumentum Holdings Inc                              LITE           0.0   \n",
       "MP Materials Corp                                  MP             0.0   \n",
       "MSCI Inc                                           MSCI         -65.0   \n",
       "Morgan Stanley                                     MS             0.0   \n",
       "Mosaic Co                                          MOS            0.0   \n",
       "Okta Inc                                           OKTA           0.0   \n",
       "PayPoint PLC                                       PAY.L        -32.0   \n",
       "Quidel Corp                                        QDEL           0.0   \n",
       "Raytheon Technologies Corp (All Sessions)          RTX            0.0   \n",
       "Schroders PLC                                      SDR.L         -3.0   \n",
       "Sierra Wireless Inc                                SWIR           0.0   \n",
       "Skillz Inc                                         SKLZ           0.0   \n",
       "SmileDirectClub Inc                                SDC            0.0   \n",
       "Southwest Airlines Co                              LUV            0.0   \n",
       "Tesla Motors Inc (All Sessions)                    TSLA           0.0   \n",
       "Tronox Ltd                                         TROX         -10.0   \n",
       "Twilio Inc                                         TWLO           0.0   \n",
       "VG Acquisition Corporation (Ord)                   ME             0.0   \n",
       "Veeva Systems Inc                                  VEEV           0.0   \n",
       "Xilinx Inc                                         XLNX         -15.0   \n",
       "Zoom Video Communications Inc                      ZM           -40.0   \n",
       "Zscaler Inc                                        ZS           -75.0   \n",
       "iShares MSCI China A ETF                           IASH.L       -16.0   \n",
       "\n",
       "                                                           Charges  \\\n",
       "Market                                             Ticker            \n",
       "23ANDME Holding Co                                 ME        -0.02   \n",
       "3M Co (All Sessions)                               MMM        0.00   \n",
       "ANSYS Inc                                          ANSS       0.00   \n",
       "Abbott Laboratories                                ABT       -0.20   \n",
       "Activision Blizzard Inc                            ATVI      -0.46   \n",
       "Akamai Technologies Inc                            AKAM      -0.01   \n",
       "Barrick Gold Corp (US)                             GOLD      -0.01   \n",
       "BlackLine Inc                                      BL         0.00   \n",
       "Blackberry Ltd (US)                                BB        -0.11   \n",
       "Blackstone Group LP                                BX         0.00   \n",
       "Energy Transfer Equity LP                          ET        -0.11   \n",
       "FactSet Research Systems Inc                       FDS        0.00   \n",
       "Gilead Sciences Inc (All Sessions)                 GILD      -0.05   \n",
       "HSBC ETFs Public Limited Company - HSBC MSCI Em... HMEF.L     0.00   \n",
       "IG Group Holdings PLC                              IGG.L    -17.70   \n",
       "Infrastructure and Energy Alternatives Inc         IEA        0.00   \n",
       "International Seaways Inc                          INSW      -0.08   \n",
       "Intuitive Surgical Inc                             ISRG       0.00   \n",
       "Invesco Ltd                                        IVZ        0.00   \n",
       "Kopin Corporation                                  KOPN       0.00   \n",
       "Lam Research Corp                                  LRCX      -0.19   \n",
       "Lumentum Holdings Inc                              LITE      -0.14   \n",
       "MP Materials Corp                                  MP        -0.01   \n",
       "MSCI Inc                                           MSCI      -0.33   \n",
       "Morgan Stanley                                     MS         0.00   \n",
       "Mosaic Co                                          MOS       -0.06   \n",
       "Okta Inc                                           OKTA       0.00   \n",
       "PayPoint PLC                                       PAY.L    -34.41   \n",
       "Quidel Corp                                        QDEL       0.00   \n",
       "Raytheon Technologies Corp (All Sessions)          RTX        0.00   \n",
       "Schroders PLC                                      SDR.L    -17.74   \n",
       "Sierra Wireless Inc                                SWIR      -0.07   \n",
       "Skillz Inc                                         SKLZ       0.00   \n",
       "SmileDirectClub Inc                                SDC       -0.11   \n",
       "Southwest Airlines Co                              LUV        0.00   \n",
       "Tesla Motors Inc (All Sessions)                    TSLA      -0.17   \n",
       "Tronox Ltd                                         TROX       0.00   \n",
       "Twilio Inc                                         TWLO      -0.19   \n",
       "VG Acquisition Corporation (Ord)                   ME         0.00   \n",
       "Veeva Systems Inc                                  VEEV       0.00   \n",
       "Xilinx Inc                                         XLNX      -0.04   \n",
       "Zoom Video Communications Inc                      ZM        -0.26   \n",
       "Zscaler Inc                                        ZS        -0.24   \n",
       "iShares MSCI China A ETF                           IASH.L     0.00   \n",
       "\n",
       "                                                           Cost/Proceeds  \\\n",
       "Market                                             Ticker                  \n",
       "23ANDME Holding Co                                 ME            2847.20   \n",
       "3M Co (All Sessions)                               MMM          -5654.02   \n",
       "ANSYS Inc                                          ANSS         -2731.58   \n",
       "Abbott Laboratories                                ABT             -2.60   \n",
       "Activision Blizzard Inc                            ATVI          1929.41   \n",
       "Akamai Technologies Inc                            AKAM             9.87   \n",
       "Barrick Gold Corp (US)                             GOLD         -1558.66   \n",
       "BlackLine Inc                                      BL           -2763.82   \n",
       "Blackberry Ltd (US)                                BB            1192.44   \n",
       "Blackstone Group LP                                BX           -2191.56   \n",
       "Energy Transfer Equity LP                          ET            4632.16   \n",
       "FactSet Research Systems Inc                       FDS          -2926.25   \n",
       "Gilead Sciences Inc (All Sessions)                 GILD         -4443.87   \n",
       "HSBC ETFs Public Limited Company - HSBC MSCI Em... HMEF.L          22.00   \n",
       "IG Group Holdings PLC                              IGG.L           65.10   \n",
       "Infrastructure and Energy Alternatives Inc         IEA          -2179.10   \n",
       "International Seaways Inc                          INSW         -2395.57   \n",
       "Intuitive Surgical Inc                             ISRG        -10779.80   \n",
       "Invesco Ltd                                        IVZ          -5565.49   \n",
       "Kopin Corporation                                  KOPN         -2290.60   \n",
       "Lam Research Corp                                  LRCX        -12961.42   \n",
       "Lumentum Holdings Inc                              LITE         -1353.36   \n",
       "MP Materials Corp                                  MP            -927.77   \n",
       "MSCI Inc                                           MSCI          4508.32   \n",
       "Morgan Stanley                                     MS           -3661.12   \n",
       "Mosaic Co                                          MOS          -1856.70   \n",
       "Okta Inc                                           OKTA         -3372.07   \n",
       "PayPoint PLC                                       PAY.L        -4291.41   \n",
       "Quidel Corp                                        QDEL         -1850.18   \n",
       "Raytheon Technologies Corp (All Sessions)          RTX          -1529.64   \n",
       "Schroders PLC                                      SDR.L        -3568.74   \n",
       "Sierra Wireless Inc                                SWIR           208.85   \n",
       "Skillz Inc                                         SKLZ         -3634.52   \n",
       "SmileDirectClub Inc                                SDC            534.44   \n",
       "Southwest Airlines Co                              LUV          -3385.82   \n",
       "Tesla Motors Inc (All Sessions)                    TSLA            46.77   \n",
       "Tronox Ltd                                         TROX         -3995.60   \n",
       "Twilio Inc                                         TWLO           769.34   \n",
       "VG Acquisition Corporation (Ord)                   ME           -2118.65   \n",
       "Veeva Systems Inc                                  VEEV         -6537.83   \n",
       "Xilinx Inc                                         XLNX            28.34   \n",
       "Zoom Video Communications Inc                      ZM            3497.98   \n",
       "Zscaler Inc                                        ZS            2199.51   \n",
       "iShares MSCI China A ETF                           IASH.L         147.22   \n",
       "\n",
       "                                                           Conversion rate  \n",
       "Market                                             Ticker                   \n",
       "23ANDME Holding Co                                 ME             0.736856  \n",
       "3M Co (All Sessions)                               MMM            1.509144  \n",
       "ANSYS Inc                                          ANSS           2.537804  \n",
       "Abbott Laboratories                                ABT            1.577299  \n",
       "Activision Blizzard Inc                            ATVI           4.584068  \n",
       "Akamai Technologies Inc                            AKAM           1.436833  \n",
       "Barrick Gold Corp (US)                             GOLD           1.500925  \n",
       "BlackLine Inc                                      BL             0.737728  \n",
       "Blackberry Ltd (US)                                BB             2.213622  \n",
       "Blackstone Group LP                                BX             2.312827  \n",
       "Energy Transfer Equity LP                          ET             6.743548  \n",
       "FactSet Research Systems Inc                       FDS            0.743457  \n",
       "Gilead Sciences Inc (All Sessions)                 GILD           3.715088  \n",
       "HSBC ETFs Public Limited Company - HSBC MSCI Em... HMEF.L         2.000000  \n",
       "IG Group Holdings PLC                              IGG.L          2.000000  \n",
       "Infrastructure and Energy Alternatives Inc         IEA            1.452022  \n",
       "International Seaways Inc                          INSW           4.985684  \n",
       "Intuitive Surgical Inc                             ISRG           5.253448  \n",
       "Invesco Ltd                                        IVZ            1.456420  \n",
       "Kopin Corporation                                  KOPN           3.746396  \n",
       "Lam Research Corp                                  LRCX           7.340324  \n",
       "Lumentum Holdings Inc                              LITE           6.198868  \n",
       "MP Materials Corp                                  MP             3.202011  \n",
       "MSCI Inc                                           MSCI           9.154927  \n",
       "Morgan Stanley                                     MS             0.748084  \n",
       "Mosaic Co                                          MOS            4.263003  \n",
       "Okta Inc                                           OKTA           2.145497  \n",
       "PayPoint PLC                                       PAY.L          4.000000  \n",
       "Quidel Corp                                        QDEL           3.026068  \n",
       "Raytheon Technologies Corp (All Sessions)          RTX            0.870298  \n",
       "Schroders PLC                                      SDR.L          4.000000  \n",
       "Sierra Wireless Inc                                SWIR           1.472700  \n",
       "Skillz Inc                                         SKLZ           1.453071  \n",
       "SmileDirectClub Inc                                SDC            3.038788  \n",
       "Southwest Airlines Co                              LUV            0.755762  \n",
       "Tesla Motors Inc (All Sessions)                    TSLA           1.537250  \n",
       "Tronox Ltd                                         TROX           2.501438  \n",
       "Twilio Inc                                         TWLO           1.533922  \n",
       "VG Acquisition Corporation (Ord)                   ME             2.142740  \n",
       "Veeva Systems Inc                                  VEEV           2.230006  \n",
       "Xilinx Inc                                         XLNX           1.582478  \n",
       "Zoom Video Communications Inc                      ZM             2.414005  \n",
       "Zscaler Inc                                        ZS             4.859398  \n",
       "iShares MSCI China A ETF                           IASH.L         1.564328  "
      ]
     },
     "execution_count": 2,
     "metadata": {},
     "output_type": "execute_result"
    }
   ],
   "source": [
    "df_op = df_with_ticker.groupby(['Market', 'Ticker']).sum()\n",
    "df_op"
   ]
  },
  {
   "cell_type": "code",
   "execution_count": 9,
   "metadata": {},
   "outputs": [
    {
     "name": "stderr",
     "output_type": "stream",
     "text": [
      "<ipython-input-9-c66f1fb04da2>:1: SettingWithCopyWarning:\n",
      "\n",
      "\n",
      "A value is trying to be set on a copy of a slice from a DataFrame.\n",
      "Try using .loc[row_indexer,col_indexer] = value instead\n",
      "\n",
      "See the caveats in the documentation: https://pandas.pydata.org/pandas-docs/stable/user_guide/indexing.html#returning-a-view-versus-a-copy\n",
      "\n"
     ]
    },
    {
     "data": {
      "text/html": [
       "<div>\n",
       "<style scoped>\n",
       "    .dataframe tbody tr th:only-of-type {\n",
       "        vertical-align: middle;\n",
       "    }\n",
       "\n",
       "    .dataframe tbody tr th {\n",
       "        vertical-align: top;\n",
       "    }\n",
       "\n",
       "    .dataframe thead th {\n",
       "        text-align: right;\n",
       "    }\n",
       "</style>\n",
       "<table border=\"1\" class=\"dataframe\">\n",
       "  <thead>\n",
       "    <tr style=\"text-align: right;\">\n",
       "      <th></th>\n",
       "      <th></th>\n",
       "      <th>Quantity</th>\n",
       "      <th>Price</th>\n",
       "      <th>Consideration</th>\n",
       "      <th>Commission</th>\n",
       "      <th>Charges</th>\n",
       "      <th>Cost/Proceeds</th>\n",
       "      <th>Conversion rate</th>\n",
       "    </tr>\n",
       "    <tr>\n",
       "      <th>Market</th>\n",
       "      <th>Ticker</th>\n",
       "      <th></th>\n",
       "      <th></th>\n",
       "      <th></th>\n",
       "      <th></th>\n",
       "      <th></th>\n",
       "      <th></th>\n",
       "      <th></th>\n",
       "    </tr>\n",
       "  </thead>\n",
       "  <tbody>\n",
       "    <tr>\n",
       "      <th>23ANDME Holding Co</th>\n",
       "      <th>ME</th>\n",
       "      <td>-300</td>\n",
       "      <td>0.128800</td>\n",
       "      <td>3864.00</td>\n",
       "      <td>0.0</td>\n",
       "      <td>-0.02</td>\n",
       "      <td>2847.20</td>\n",
       "      <td>0.736856</td>\n",
       "    </tr>\n",
       "    <tr>\n",
       "      <th>3M Co (All Sessions)</th>\n",
       "      <th>MMM</th>\n",
       "      <td>45</td>\n",
       "      <td>3.394800</td>\n",
       "      <td>-7342.90</td>\n",
       "      <td>-15.0</td>\n",
       "      <td>0.00</td>\n",
       "      <td>-5654.02</td>\n",
       "      <td>1.509144</td>\n",
       "    </tr>\n",
       "    <tr>\n",
       "      <th>ANSYS Inc</th>\n",
       "      <th>ANSS</th>\n",
       "      <td>12</td>\n",
       "      <td>7.706263</td>\n",
       "      <td>-3570.33</td>\n",
       "      <td>0.0</td>\n",
       "      <td>0.00</td>\n",
       "      <td>-2731.58</td>\n",
       "      <td>2.537804</td>\n",
       "    </tr>\n",
       "    <tr>\n",
       "      <th>Barrick Gold Corp (US)</th>\n",
       "      <th>GOLD</th>\n",
       "      <td>100</td>\n",
       "      <td>0.486600</td>\n",
       "      <td>-2118.00</td>\n",
       "      <td>-10.0</td>\n",
       "      <td>-0.01</td>\n",
       "      <td>-1558.66</td>\n",
       "      <td>1.500925</td>\n",
       "    </tr>\n",
       "    <tr>\n",
       "      <th>BlackLine Inc</th>\n",
       "      <th>BL</th>\n",
       "      <td>30</td>\n",
       "      <td>1.248800</td>\n",
       "      <td>-3746.40</td>\n",
       "      <td>0.0</td>\n",
       "      <td>0.00</td>\n",
       "      <td>-2763.82</td>\n",
       "      <td>0.737728</td>\n",
       "    </tr>\n",
       "    <tr>\n",
       "      <th>Blackstone Group LP</th>\n",
       "      <th>BX</th>\n",
       "      <td>25</td>\n",
       "      <td>3.326800</td>\n",
       "      <td>-2882.40</td>\n",
       "      <td>0.0</td>\n",
       "      <td>0.00</td>\n",
       "      <td>-2191.56</td>\n",
       "      <td>2.312827</td>\n",
       "    </tr>\n",
       "    <tr>\n",
       "      <th>FactSet Research Systems Inc</th>\n",
       "      <th>FDS</th>\n",
       "      <td>12</td>\n",
       "      <td>3.280000</td>\n",
       "      <td>-3936.00</td>\n",
       "      <td>0.0</td>\n",
       "      <td>0.00</td>\n",
       "      <td>-2926.25</td>\n",
       "      <td>0.743457</td>\n",
       "    </tr>\n",
       "    <tr>\n",
       "      <th>Gilead Sciences Inc (All Sessions)</th>\n",
       "      <th>GILD</th>\n",
       "      <td>80</td>\n",
       "      <td>3.449000</td>\n",
       "      <td>-5640.40</td>\n",
       "      <td>0.0</td>\n",
       "      <td>-0.05</td>\n",
       "      <td>-4443.87</td>\n",
       "      <td>3.715088</td>\n",
       "    </tr>\n",
       "    <tr>\n",
       "      <th>Infrastructure and Energy Alternatives Inc</th>\n",
       "      <th>IEA</th>\n",
       "      <td>220</td>\n",
       "      <td>0.270600</td>\n",
       "      <td>-3003.60</td>\n",
       "      <td>0.0</td>\n",
       "      <td>0.00</td>\n",
       "      <td>-2179.10</td>\n",
       "      <td>1.452022</td>\n",
       "    </tr>\n",
       "    <tr>\n",
       "      <th>International Seaways Inc</th>\n",
       "      <th>INSW</th>\n",
       "      <td>120</td>\n",
       "      <td>1.685077</td>\n",
       "      <td>-3044.89</td>\n",
       "      <td>-10.0</td>\n",
       "      <td>-0.08</td>\n",
       "      <td>-2395.57</td>\n",
       "      <td>4.985684</td>\n",
       "    </tr>\n",
       "    <tr>\n",
       "      <th>Intuitive Surgical Inc</th>\n",
       "      <th>ISRG</th>\n",
       "      <td>61</td>\n",
       "      <td>22.084000</td>\n",
       "      <td>-13917.60</td>\n",
       "      <td>0.0</td>\n",
       "      <td>0.00</td>\n",
       "      <td>-10779.80</td>\n",
       "      <td>5.253448</td>\n",
       "    </tr>\n",
       "    <tr>\n",
       "      <th>Invesco Ltd</th>\n",
       "      <th>IVZ</th>\n",
       "      <td>300</td>\n",
       "      <td>0.501600</td>\n",
       "      <td>-7674.00</td>\n",
       "      <td>0.0</td>\n",
       "      <td>0.00</td>\n",
       "      <td>-5565.49</td>\n",
       "      <td>1.456420</td>\n",
       "    </tr>\n",
       "    <tr>\n",
       "      <th>Kopin Corporation</th>\n",
       "      <th>KOPN</th>\n",
       "      <td>448</td>\n",
       "      <td>0.255715</td>\n",
       "      <td>-3151.47</td>\n",
       "      <td>0.0</td>\n",
       "      <td>0.00</td>\n",
       "      <td>-2290.60</td>\n",
       "      <td>3.746396</td>\n",
       "    </tr>\n",
       "    <tr>\n",
       "      <th>Lam Research Corp</th>\n",
       "      <th>LRCX</th>\n",
       "      <td>45</td>\n",
       "      <td>53.708000</td>\n",
       "      <td>-16851.20</td>\n",
       "      <td>0.0</td>\n",
       "      <td>-0.19</td>\n",
       "      <td>-12961.42</td>\n",
       "      <td>7.340324</td>\n",
       "    </tr>\n",
       "    <tr>\n",
       "      <th>Lumentum Holdings Inc</th>\n",
       "      <th>LITE</th>\n",
       "      <td>35</td>\n",
       "      <td>6.557600</td>\n",
       "      <td>-1346.80</td>\n",
       "      <td>0.0</td>\n",
       "      <td>-0.14</td>\n",
       "      <td>-1353.36</td>\n",
       "      <td>6.198868</td>\n",
       "    </tr>\n",
       "    <tr>\n",
       "      <th>MP Materials Corp</th>\n",
       "      <th>MP</th>\n",
       "      <td>50</td>\n",
       "      <td>1.095900</td>\n",
       "      <td>-998.50</td>\n",
       "      <td>0.0</td>\n",
       "      <td>-0.01</td>\n",
       "      <td>-927.77</td>\n",
       "      <td>3.202011</td>\n",
       "    </tr>\n",
       "    <tr>\n",
       "      <th>Morgan Stanley</th>\n",
       "      <th>MS</th>\n",
       "      <td>50</td>\n",
       "      <td>0.978800</td>\n",
       "      <td>-4894.00</td>\n",
       "      <td>0.0</td>\n",
       "      <td>0.00</td>\n",
       "      <td>-3661.12</td>\n",
       "      <td>0.748084</td>\n",
       "    </tr>\n",
       "    <tr>\n",
       "      <th>Mosaic Co</th>\n",
       "      <th>MOS</th>\n",
       "      <td>50</td>\n",
       "      <td>2.540400</td>\n",
       "      <td>-2220.00</td>\n",
       "      <td>0.0</td>\n",
       "      <td>-0.06</td>\n",
       "      <td>-1856.70</td>\n",
       "      <td>4.263003</td>\n",
       "    </tr>\n",
       "    <tr>\n",
       "      <th>Okta Inc</th>\n",
       "      <th>OKTA</th>\n",
       "      <td>20</td>\n",
       "      <td>7.296800</td>\n",
       "      <td>-4722.40</td>\n",
       "      <td>0.0</td>\n",
       "      <td>0.00</td>\n",
       "      <td>-3372.07</td>\n",
       "      <td>2.145497</td>\n",
       "    </tr>\n",
       "    <tr>\n",
       "      <th>PayPoint PLC</th>\n",
       "      <th>PAY.L</th>\n",
       "      <td>600</td>\n",
       "      <td>0.339400</td>\n",
       "      <td>-4225.00</td>\n",
       "      <td>-32.0</td>\n",
       "      <td>-34.41</td>\n",
       "      <td>-4291.41</td>\n",
       "      <td>4.000000</td>\n",
       "    </tr>\n",
       "    <tr>\n",
       "      <th>Quidel Corp</th>\n",
       "      <th>QDEL</th>\n",
       "      <td>18</td>\n",
       "      <td>2.938800</td>\n",
       "      <td>-2567.04</td>\n",
       "      <td>0.0</td>\n",
       "      <td>0.00</td>\n",
       "      <td>-1850.18</td>\n",
       "      <td>3.026068</td>\n",
       "    </tr>\n",
       "    <tr>\n",
       "      <th>Raytheon Technologies Corp (All Sessions)</th>\n",
       "      <th>RTX</th>\n",
       "      <td>20</td>\n",
       "      <td>0.878800</td>\n",
       "      <td>-1757.60</td>\n",
       "      <td>0.0</td>\n",
       "      <td>0.00</td>\n",
       "      <td>-1529.64</td>\n",
       "      <td>0.870298</td>\n",
       "    </tr>\n",
       "    <tr>\n",
       "      <th>Schroders PLC</th>\n",
       "      <th>SDR.L</th>\n",
       "      <td>585</td>\n",
       "      <td>0.354800</td>\n",
       "      <td>-3548.00</td>\n",
       "      <td>-3.0</td>\n",
       "      <td>-17.74</td>\n",
       "      <td>-3568.74</td>\n",
       "      <td>4.000000</td>\n",
       "    </tr>\n",
       "    <tr>\n",
       "      <th>Skillz Inc</th>\n",
       "      <th>SKLZ</th>\n",
       "      <td>300</td>\n",
       "      <td>0.308800</td>\n",
       "      <td>-4996.00</td>\n",
       "      <td>0.0</td>\n",
       "      <td>0.00</td>\n",
       "      <td>-3634.52</td>\n",
       "      <td>1.453071</td>\n",
       "    </tr>\n",
       "    <tr>\n",
       "      <th>Southwest Airlines Co</th>\n",
       "      <th>LUV</th>\n",
       "      <td>100</td>\n",
       "      <td>0.448000</td>\n",
       "      <td>-4480.00</td>\n",
       "      <td>0.0</td>\n",
       "      <td>0.00</td>\n",
       "      <td>-3385.82</td>\n",
       "      <td>0.755762</td>\n",
       "    </tr>\n",
       "    <tr>\n",
       "      <th>Tronox Ltd</th>\n",
       "      <th>TROX</th>\n",
       "      <td>300</td>\n",
       "      <td>0.463600</td>\n",
       "      <td>-4838.00</td>\n",
       "      <td>-10.0</td>\n",
       "      <td>0.00</td>\n",
       "      <td>-3995.60</td>\n",
       "      <td>2.501438</td>\n",
       "    </tr>\n",
       "    <tr>\n",
       "      <th>VG Acquisition Corporation (Ord)</th>\n",
       "      <th>ME</th>\n",
       "      <td>300</td>\n",
       "      <td>0.099700</td>\n",
       "      <td>-2991.00</td>\n",
       "      <td>0.0</td>\n",
       "      <td>0.00</td>\n",
       "      <td>-2118.65</td>\n",
       "      <td>2.142740</td>\n",
       "    </tr>\n",
       "    <tr>\n",
       "      <th>Veeva Systems Inc</th>\n",
       "      <th>VEEV</th>\n",
       "      <td>30</td>\n",
       "      <td>8.866800</td>\n",
       "      <td>-8676.60</td>\n",
       "      <td>0.0</td>\n",
       "      <td>0.00</td>\n",
       "      <td>-6537.83</td>\n",
       "      <td>2.230006</td>\n",
       "    </tr>\n",
       "  </tbody>\n",
       "</table>\n",
       "</div>"
      ],
      "text/plain": [
       "                                                   Quantity      Price  \\\n",
       "Market                                     Ticker                        \n",
       "23ANDME Holding Co                         ME          -300   0.128800   \n",
       "3M Co (All Sessions)                       MMM           45   3.394800   \n",
       "ANSYS Inc                                  ANSS          12   7.706263   \n",
       "Barrick Gold Corp (US)                     GOLD         100   0.486600   \n",
       "BlackLine Inc                              BL            30   1.248800   \n",
       "Blackstone Group LP                        BX            25   3.326800   \n",
       "FactSet Research Systems Inc               FDS           12   3.280000   \n",
       "Gilead Sciences Inc (All Sessions)         GILD          80   3.449000   \n",
       "Infrastructure and Energy Alternatives Inc IEA          220   0.270600   \n",
       "International Seaways Inc                  INSW         120   1.685077   \n",
       "Intuitive Surgical Inc                     ISRG          61  22.084000   \n",
       "Invesco Ltd                                IVZ          300   0.501600   \n",
       "Kopin Corporation                          KOPN         448   0.255715   \n",
       "Lam Research Corp                          LRCX          45  53.708000   \n",
       "Lumentum Holdings Inc                      LITE          35   6.557600   \n",
       "MP Materials Corp                          MP            50   1.095900   \n",
       "Morgan Stanley                             MS            50   0.978800   \n",
       "Mosaic Co                                  MOS           50   2.540400   \n",
       "Okta Inc                                   OKTA          20   7.296800   \n",
       "PayPoint PLC                               PAY.L        600   0.339400   \n",
       "Quidel Corp                                QDEL          18   2.938800   \n",
       "Raytheon Technologies Corp (All Sessions)  RTX           20   0.878800   \n",
       "Schroders PLC                              SDR.L        585   0.354800   \n",
       "Skillz Inc                                 SKLZ         300   0.308800   \n",
       "Southwest Airlines Co                      LUV          100   0.448000   \n",
       "Tronox Ltd                                 TROX         300   0.463600   \n",
       "VG Acquisition Corporation (Ord)           ME           300   0.099700   \n",
       "Veeva Systems Inc                          VEEV          30   8.866800   \n",
       "\n",
       "                                                   Consideration  Commission  \\\n",
       "Market                                     Ticker                              \n",
       "23ANDME Holding Co                         ME            3864.00         0.0   \n",
       "3M Co (All Sessions)                       MMM          -7342.90       -15.0   \n",
       "ANSYS Inc                                  ANSS         -3570.33         0.0   \n",
       "Barrick Gold Corp (US)                     GOLD         -2118.00       -10.0   \n",
       "BlackLine Inc                              BL           -3746.40         0.0   \n",
       "Blackstone Group LP                        BX           -2882.40         0.0   \n",
       "FactSet Research Systems Inc               FDS          -3936.00         0.0   \n",
       "Gilead Sciences Inc (All Sessions)         GILD         -5640.40         0.0   \n",
       "Infrastructure and Energy Alternatives Inc IEA          -3003.60         0.0   \n",
       "International Seaways Inc                  INSW         -3044.89       -10.0   \n",
       "Intuitive Surgical Inc                     ISRG        -13917.60         0.0   \n",
       "Invesco Ltd                                IVZ          -7674.00         0.0   \n",
       "Kopin Corporation                          KOPN         -3151.47         0.0   \n",
       "Lam Research Corp                          LRCX        -16851.20         0.0   \n",
       "Lumentum Holdings Inc                      LITE         -1346.80         0.0   \n",
       "MP Materials Corp                          MP            -998.50         0.0   \n",
       "Morgan Stanley                             MS           -4894.00         0.0   \n",
       "Mosaic Co                                  MOS          -2220.00         0.0   \n",
       "Okta Inc                                   OKTA         -4722.40         0.0   \n",
       "PayPoint PLC                               PAY.L        -4225.00       -32.0   \n",
       "Quidel Corp                                QDEL         -2567.04         0.0   \n",
       "Raytheon Technologies Corp (All Sessions)  RTX          -1757.60         0.0   \n",
       "Schroders PLC                              SDR.L        -3548.00        -3.0   \n",
       "Skillz Inc                                 SKLZ         -4996.00         0.0   \n",
       "Southwest Airlines Co                      LUV          -4480.00         0.0   \n",
       "Tronox Ltd                                 TROX         -4838.00       -10.0   \n",
       "VG Acquisition Corporation (Ord)           ME           -2991.00         0.0   \n",
       "Veeva Systems Inc                          VEEV         -8676.60         0.0   \n",
       "\n",
       "                                                   Charges  Cost/Proceeds  \\\n",
       "Market                                     Ticker                           \n",
       "23ANDME Holding Co                         ME        -0.02        2847.20   \n",
       "3M Co (All Sessions)                       MMM        0.00       -5654.02   \n",
       "ANSYS Inc                                  ANSS       0.00       -2731.58   \n",
       "Barrick Gold Corp (US)                     GOLD      -0.01       -1558.66   \n",
       "BlackLine Inc                              BL         0.00       -2763.82   \n",
       "Blackstone Group LP                        BX         0.00       -2191.56   \n",
       "FactSet Research Systems Inc               FDS        0.00       -2926.25   \n",
       "Gilead Sciences Inc (All Sessions)         GILD      -0.05       -4443.87   \n",
       "Infrastructure and Energy Alternatives Inc IEA        0.00       -2179.10   \n",
       "International Seaways Inc                  INSW      -0.08       -2395.57   \n",
       "Intuitive Surgical Inc                     ISRG       0.00      -10779.80   \n",
       "Invesco Ltd                                IVZ        0.00       -5565.49   \n",
       "Kopin Corporation                          KOPN       0.00       -2290.60   \n",
       "Lam Research Corp                          LRCX      -0.19      -12961.42   \n",
       "Lumentum Holdings Inc                      LITE      -0.14       -1353.36   \n",
       "MP Materials Corp                          MP        -0.01        -927.77   \n",
       "Morgan Stanley                             MS         0.00       -3661.12   \n",
       "Mosaic Co                                  MOS       -0.06       -1856.70   \n",
       "Okta Inc                                   OKTA       0.00       -3372.07   \n",
       "PayPoint PLC                               PAY.L    -34.41       -4291.41   \n",
       "Quidel Corp                                QDEL       0.00       -1850.18   \n",
       "Raytheon Technologies Corp (All Sessions)  RTX        0.00       -1529.64   \n",
       "Schroders PLC                              SDR.L    -17.74       -3568.74   \n",
       "Skillz Inc                                 SKLZ       0.00       -3634.52   \n",
       "Southwest Airlines Co                      LUV        0.00       -3385.82   \n",
       "Tronox Ltd                                 TROX       0.00       -3995.60   \n",
       "VG Acquisition Corporation (Ord)           ME         0.00       -2118.65   \n",
       "Veeva Systems Inc                          VEEV       0.00       -6537.83   \n",
       "\n",
       "                                                   Conversion rate  \n",
       "Market                                     Ticker                   \n",
       "23ANDME Holding Co                         ME             0.736856  \n",
       "3M Co (All Sessions)                       MMM            1.509144  \n",
       "ANSYS Inc                                  ANSS           2.537804  \n",
       "Barrick Gold Corp (US)                     GOLD           1.500925  \n",
       "BlackLine Inc                              BL             0.737728  \n",
       "Blackstone Group LP                        BX             2.312827  \n",
       "FactSet Research Systems Inc               FDS            0.743457  \n",
       "Gilead Sciences Inc (All Sessions)         GILD           3.715088  \n",
       "Infrastructure and Energy Alternatives Inc IEA            1.452022  \n",
       "International Seaways Inc                  INSW           4.985684  \n",
       "Intuitive Surgical Inc                     ISRG           5.253448  \n",
       "Invesco Ltd                                IVZ            1.456420  \n",
       "Kopin Corporation                          KOPN           3.746396  \n",
       "Lam Research Corp                          LRCX           7.340324  \n",
       "Lumentum Holdings Inc                      LITE           6.198868  \n",
       "MP Materials Corp                          MP             3.202011  \n",
       "Morgan Stanley                             MS             0.748084  \n",
       "Mosaic Co                                  MOS            4.263003  \n",
       "Okta Inc                                   OKTA           2.145497  \n",
       "PayPoint PLC                               PAY.L          4.000000  \n",
       "Quidel Corp                                QDEL           3.026068  \n",
       "Raytheon Technologies Corp (All Sessions)  RTX            0.870298  \n",
       "Schroders PLC                              SDR.L          4.000000  \n",
       "Skillz Inc                                 SKLZ           1.453071  \n",
       "Southwest Airlines Co                      LUV            0.755762  \n",
       "Tronox Ltd                                 TROX           2.501438  \n",
       "VG Acquisition Corporation (Ord)           ME             2.142740  \n",
       "Veeva Systems Inc                          VEEV           2.230006  "
      ]
     },
     "execution_count": 9,
     "metadata": {},
     "output_type": "execute_result"
    }
   ],
   "source": [
    "df_has_position['Price'] = df_has_position['Price']/100\n",
    "df_has_position"
   ]
  },
  {
   "cell_type": "code",
   "execution_count": 14,
   "metadata": {},
   "outputs": [
    {
     "data": {
      "text/plain": [
       "Market                                      Ticker\n",
       "23ANDME Holding Co                          ME         2847.20\n",
       "3M Co (All Sessions)                        MMM        5654.02\n",
       "ANSYS Inc                                   ANSS       2731.58\n",
       "Barrick Gold Corp (US)                      GOLD       1558.66\n",
       "BlackLine Inc                               BL         2763.82\n",
       "Blackstone Group LP                         BX         2191.56\n",
       "FactSet Research Systems Inc                FDS        2926.25\n",
       "Gilead Sciences Inc (All Sessions)          GILD       4443.87\n",
       "Infrastructure and Energy Alternatives Inc  IEA        2179.10\n",
       "International Seaways Inc                   INSW       2395.57\n",
       "Intuitive Surgical Inc                      ISRG      10779.80\n",
       "Invesco Ltd                                 IVZ        5565.49\n",
       "Kopin Corporation                           KOPN       2290.60\n",
       "Lam Research Corp                           LRCX      12961.42\n",
       "Lumentum Holdings Inc                       LITE       1353.36\n",
       "MP Materials Corp                           MP          927.77\n",
       "Morgan Stanley                              MS         3661.12\n",
       "Mosaic Co                                   MOS        1856.70\n",
       "Okta Inc                                    OKTA       3372.07\n",
       "PayPoint PLC                                PAY.L      4291.41\n",
       "Quidel Corp                                 QDEL       1850.18\n",
       "Raytheon Technologies Corp (All Sessions)   RTX        1529.64\n",
       "Schroders PLC                               SDR.L      3568.74\n",
       "Skillz Inc                                  SKLZ       3634.52\n",
       "Southwest Airlines Co                       LUV        3385.82\n",
       "Tronox Ltd                                  TROX       3995.60\n",
       "VG Acquisition Corporation (Ord)            ME         2118.65\n",
       "Veeva Systems Inc                           VEEV       6537.83\n",
       "Name: Cost/Proceeds, dtype: float64"
      ]
     },
     "execution_count": 14,
     "metadata": {},
     "output_type": "execute_result"
    }
   ],
   "source": [
    "abs(df_has_position['Cost/Proceeds'])"
   ]
  },
  {
   "cell_type": "code",
   "execution_count": 29,
   "metadata": {},
   "outputs": [
    {
     "data": {
      "application/vnd.plotly.v1+json": {
       "config": {
        "plotlyServerURL": "https://plot.ly"
       },
       "data": [
        {
         "labels": [
          "23ANDME Holding Co",
          "3M Co (All Sessions)",
          "ANSYS Inc",
          "Barrick Gold Corp (US)",
          "BlackLine Inc",
          "Blackstone Group LP",
          "FactSet Research Systems Inc",
          "Gilead Sciences Inc (All Sessions)",
          "Infrastructure and Energy Alternatives Inc",
          "International Seaways Inc",
          "Intuitive Surgical Inc",
          "Invesco Ltd",
          "Kopin Corporation",
          "Lam Research Corp",
          "Lumentum Holdings Inc",
          "MP Materials Corp",
          "Morgan Stanley",
          "Mosaic Co",
          "Okta Inc",
          "PayPoint PLC",
          "Quidel Corp",
          "Raytheon Technologies Corp (All Sessions)",
          "Schroders PLC",
          "Skillz Inc",
          "Southwest Airlines Co",
          "Tronox Ltd",
          "VG Acquisition Corporation (Ord)",
          "Veeva Systems Inc"
         ],
         "pull": [
          0,
          0.3,
          0,
          0,
          0,
          0,
          0,
          0,
          0,
          0,
          0,
          0,
          0,
          0,
          0,
          0,
          0,
          0,
          0,
          0,
          0,
          0,
          0,
          0,
          0,
          0,
          0,
          0
         ],
         "type": "pie",
         "values": [
          2847.2,
          5654.02,
          2731.58,
          1558.66,
          2763.82,
          2191.56,
          2926.25,
          4443.870000000001,
          2179.1,
          2395.57,
          10779.8,
          5565.49,
          2290.6,
          12961.42,
          1353.3599999999997,
          927.7699999999999,
          3661.12,
          1856.7,
          3372.07,
          4291.41,
          1850.18,
          1529.64,
          3568.74,
          3634.52,
          3385.82,
          3995.6000000000004,
          2118.65,
          6537.83
         ]
        }
       ],
       "layout": {
        "template": {
         "data": {
          "bar": [
           {
            "error_x": {
             "color": "#2a3f5f"
            },
            "error_y": {
             "color": "#2a3f5f"
            },
            "marker": {
             "line": {
              "color": "#E5ECF6",
              "width": 0.5
             }
            },
            "type": "bar"
           }
          ],
          "barpolar": [
           {
            "marker": {
             "line": {
              "color": "#E5ECF6",
              "width": 0.5
             }
            },
            "type": "barpolar"
           }
          ],
          "carpet": [
           {
            "aaxis": {
             "endlinecolor": "#2a3f5f",
             "gridcolor": "white",
             "linecolor": "white",
             "minorgridcolor": "white",
             "startlinecolor": "#2a3f5f"
            },
            "baxis": {
             "endlinecolor": "#2a3f5f",
             "gridcolor": "white",
             "linecolor": "white",
             "minorgridcolor": "white",
             "startlinecolor": "#2a3f5f"
            },
            "type": "carpet"
           }
          ],
          "choropleth": [
           {
            "colorbar": {
             "outlinewidth": 0,
             "ticks": ""
            },
            "type": "choropleth"
           }
          ],
          "contour": [
           {
            "colorbar": {
             "outlinewidth": 0,
             "ticks": ""
            },
            "colorscale": [
             [
              0,
              "#0d0887"
             ],
             [
              0.1111111111111111,
              "#46039f"
             ],
             [
              0.2222222222222222,
              "#7201a8"
             ],
             [
              0.3333333333333333,
              "#9c179e"
             ],
             [
              0.4444444444444444,
              "#bd3786"
             ],
             [
              0.5555555555555556,
              "#d8576b"
             ],
             [
              0.6666666666666666,
              "#ed7953"
             ],
             [
              0.7777777777777778,
              "#fb9f3a"
             ],
             [
              0.8888888888888888,
              "#fdca26"
             ],
             [
              1,
              "#f0f921"
             ]
            ],
            "type": "contour"
           }
          ],
          "contourcarpet": [
           {
            "colorbar": {
             "outlinewidth": 0,
             "ticks": ""
            },
            "type": "contourcarpet"
           }
          ],
          "heatmap": [
           {
            "colorbar": {
             "outlinewidth": 0,
             "ticks": ""
            },
            "colorscale": [
             [
              0,
              "#0d0887"
             ],
             [
              0.1111111111111111,
              "#46039f"
             ],
             [
              0.2222222222222222,
              "#7201a8"
             ],
             [
              0.3333333333333333,
              "#9c179e"
             ],
             [
              0.4444444444444444,
              "#bd3786"
             ],
             [
              0.5555555555555556,
              "#d8576b"
             ],
             [
              0.6666666666666666,
              "#ed7953"
             ],
             [
              0.7777777777777778,
              "#fb9f3a"
             ],
             [
              0.8888888888888888,
              "#fdca26"
             ],
             [
              1,
              "#f0f921"
             ]
            ],
            "type": "heatmap"
           }
          ],
          "heatmapgl": [
           {
            "colorbar": {
             "outlinewidth": 0,
             "ticks": ""
            },
            "colorscale": [
             [
              0,
              "#0d0887"
             ],
             [
              0.1111111111111111,
              "#46039f"
             ],
             [
              0.2222222222222222,
              "#7201a8"
             ],
             [
              0.3333333333333333,
              "#9c179e"
             ],
             [
              0.4444444444444444,
              "#bd3786"
             ],
             [
              0.5555555555555556,
              "#d8576b"
             ],
             [
              0.6666666666666666,
              "#ed7953"
             ],
             [
              0.7777777777777778,
              "#fb9f3a"
             ],
             [
              0.8888888888888888,
              "#fdca26"
             ],
             [
              1,
              "#f0f921"
             ]
            ],
            "type": "heatmapgl"
           }
          ],
          "histogram": [
           {
            "marker": {
             "colorbar": {
              "outlinewidth": 0,
              "ticks": ""
             }
            },
            "type": "histogram"
           }
          ],
          "histogram2d": [
           {
            "colorbar": {
             "outlinewidth": 0,
             "ticks": ""
            },
            "colorscale": [
             [
              0,
              "#0d0887"
             ],
             [
              0.1111111111111111,
              "#46039f"
             ],
             [
              0.2222222222222222,
              "#7201a8"
             ],
             [
              0.3333333333333333,
              "#9c179e"
             ],
             [
              0.4444444444444444,
              "#bd3786"
             ],
             [
              0.5555555555555556,
              "#d8576b"
             ],
             [
              0.6666666666666666,
              "#ed7953"
             ],
             [
              0.7777777777777778,
              "#fb9f3a"
             ],
             [
              0.8888888888888888,
              "#fdca26"
             ],
             [
              1,
              "#f0f921"
             ]
            ],
            "type": "histogram2d"
           }
          ],
          "histogram2dcontour": [
           {
            "colorbar": {
             "outlinewidth": 0,
             "ticks": ""
            },
            "colorscale": [
             [
              0,
              "#0d0887"
             ],
             [
              0.1111111111111111,
              "#46039f"
             ],
             [
              0.2222222222222222,
              "#7201a8"
             ],
             [
              0.3333333333333333,
              "#9c179e"
             ],
             [
              0.4444444444444444,
              "#bd3786"
             ],
             [
              0.5555555555555556,
              "#d8576b"
             ],
             [
              0.6666666666666666,
              "#ed7953"
             ],
             [
              0.7777777777777778,
              "#fb9f3a"
             ],
             [
              0.8888888888888888,
              "#fdca26"
             ],
             [
              1,
              "#f0f921"
             ]
            ],
            "type": "histogram2dcontour"
           }
          ],
          "mesh3d": [
           {
            "colorbar": {
             "outlinewidth": 0,
             "ticks": ""
            },
            "type": "mesh3d"
           }
          ],
          "parcoords": [
           {
            "line": {
             "colorbar": {
              "outlinewidth": 0,
              "ticks": ""
             }
            },
            "type": "parcoords"
           }
          ],
          "pie": [
           {
            "automargin": true,
            "type": "pie"
           }
          ],
          "scatter": [
           {
            "marker": {
             "colorbar": {
              "outlinewidth": 0,
              "ticks": ""
             }
            },
            "type": "scatter"
           }
          ],
          "scatter3d": [
           {
            "line": {
             "colorbar": {
              "outlinewidth": 0,
              "ticks": ""
             }
            },
            "marker": {
             "colorbar": {
              "outlinewidth": 0,
              "ticks": ""
             }
            },
            "type": "scatter3d"
           }
          ],
          "scattercarpet": [
           {
            "marker": {
             "colorbar": {
              "outlinewidth": 0,
              "ticks": ""
             }
            },
            "type": "scattercarpet"
           }
          ],
          "scattergeo": [
           {
            "marker": {
             "colorbar": {
              "outlinewidth": 0,
              "ticks": ""
             }
            },
            "type": "scattergeo"
           }
          ],
          "scattergl": [
           {
            "marker": {
             "colorbar": {
              "outlinewidth": 0,
              "ticks": ""
             }
            },
            "type": "scattergl"
           }
          ],
          "scattermapbox": [
           {
            "marker": {
             "colorbar": {
              "outlinewidth": 0,
              "ticks": ""
             }
            },
            "type": "scattermapbox"
           }
          ],
          "scatterpolar": [
           {
            "marker": {
             "colorbar": {
              "outlinewidth": 0,
              "ticks": ""
             }
            },
            "type": "scatterpolar"
           }
          ],
          "scatterpolargl": [
           {
            "marker": {
             "colorbar": {
              "outlinewidth": 0,
              "ticks": ""
             }
            },
            "type": "scatterpolargl"
           }
          ],
          "scatterternary": [
           {
            "marker": {
             "colorbar": {
              "outlinewidth": 0,
              "ticks": ""
             }
            },
            "type": "scatterternary"
           }
          ],
          "surface": [
           {
            "colorbar": {
             "outlinewidth": 0,
             "ticks": ""
            },
            "colorscale": [
             [
              0,
              "#0d0887"
             ],
             [
              0.1111111111111111,
              "#46039f"
             ],
             [
              0.2222222222222222,
              "#7201a8"
             ],
             [
              0.3333333333333333,
              "#9c179e"
             ],
             [
              0.4444444444444444,
              "#bd3786"
             ],
             [
              0.5555555555555556,
              "#d8576b"
             ],
             [
              0.6666666666666666,
              "#ed7953"
             ],
             [
              0.7777777777777778,
              "#fb9f3a"
             ],
             [
              0.8888888888888888,
              "#fdca26"
             ],
             [
              1,
              "#f0f921"
             ]
            ],
            "type": "surface"
           }
          ],
          "table": [
           {
            "cells": {
             "fill": {
              "color": "#EBF0F8"
             },
             "line": {
              "color": "white"
             }
            },
            "header": {
             "fill": {
              "color": "#C8D4E3"
             },
             "line": {
              "color": "white"
             }
            },
            "type": "table"
           }
          ]
         },
         "layout": {
          "annotationdefaults": {
           "arrowcolor": "#2a3f5f",
           "arrowhead": 0,
           "arrowwidth": 1
          },
          "autotypenumbers": "strict",
          "coloraxis": {
           "colorbar": {
            "outlinewidth": 0,
            "ticks": ""
           }
          },
          "colorscale": {
           "diverging": [
            [
             0,
             "#8e0152"
            ],
            [
             0.1,
             "#c51b7d"
            ],
            [
             0.2,
             "#de77ae"
            ],
            [
             0.3,
             "#f1b6da"
            ],
            [
             0.4,
             "#fde0ef"
            ],
            [
             0.5,
             "#f7f7f7"
            ],
            [
             0.6,
             "#e6f5d0"
            ],
            [
             0.7,
             "#b8e186"
            ],
            [
             0.8,
             "#7fbc41"
            ],
            [
             0.9,
             "#4d9221"
            ],
            [
             1,
             "#276419"
            ]
           ],
           "sequential": [
            [
             0,
             "#0d0887"
            ],
            [
             0.1111111111111111,
             "#46039f"
            ],
            [
             0.2222222222222222,
             "#7201a8"
            ],
            [
             0.3333333333333333,
             "#9c179e"
            ],
            [
             0.4444444444444444,
             "#bd3786"
            ],
            [
             0.5555555555555556,
             "#d8576b"
            ],
            [
             0.6666666666666666,
             "#ed7953"
            ],
            [
             0.7777777777777778,
             "#fb9f3a"
            ],
            [
             0.8888888888888888,
             "#fdca26"
            ],
            [
             1,
             "#f0f921"
            ]
           ],
           "sequentialminus": [
            [
             0,
             "#0d0887"
            ],
            [
             0.1111111111111111,
             "#46039f"
            ],
            [
             0.2222222222222222,
             "#7201a8"
            ],
            [
             0.3333333333333333,
             "#9c179e"
            ],
            [
             0.4444444444444444,
             "#bd3786"
            ],
            [
             0.5555555555555556,
             "#d8576b"
            ],
            [
             0.6666666666666666,
             "#ed7953"
            ],
            [
             0.7777777777777778,
             "#fb9f3a"
            ],
            [
             0.8888888888888888,
             "#fdca26"
            ],
            [
             1,
             "#f0f921"
            ]
           ]
          },
          "colorway": [
           "#636efa",
           "#EF553B",
           "#00cc96",
           "#ab63fa",
           "#FFA15A",
           "#19d3f3",
           "#FF6692",
           "#B6E880",
           "#FF97FF",
           "#FECB52"
          ],
          "font": {
           "color": "#2a3f5f"
          },
          "geo": {
           "bgcolor": "white",
           "lakecolor": "white",
           "landcolor": "#E5ECF6",
           "showlakes": true,
           "showland": true,
           "subunitcolor": "white"
          },
          "hoverlabel": {
           "align": "left"
          },
          "hovermode": "closest",
          "mapbox": {
           "style": "light"
          },
          "paper_bgcolor": "white",
          "plot_bgcolor": "#E5ECF6",
          "polar": {
           "angularaxis": {
            "gridcolor": "white",
            "linecolor": "white",
            "ticks": ""
           },
           "bgcolor": "#E5ECF6",
           "radialaxis": {
            "gridcolor": "white",
            "linecolor": "white",
            "ticks": ""
           }
          },
          "scene": {
           "xaxis": {
            "backgroundcolor": "#E5ECF6",
            "gridcolor": "white",
            "gridwidth": 2,
            "linecolor": "white",
            "showbackground": true,
            "ticks": "",
            "zerolinecolor": "white"
           },
           "yaxis": {
            "backgroundcolor": "#E5ECF6",
            "gridcolor": "white",
            "gridwidth": 2,
            "linecolor": "white",
            "showbackground": true,
            "ticks": "",
            "zerolinecolor": "white"
           },
           "zaxis": {
            "backgroundcolor": "#E5ECF6",
            "gridcolor": "white",
            "gridwidth": 2,
            "linecolor": "white",
            "showbackground": true,
            "ticks": "",
            "zerolinecolor": "white"
           }
          },
          "shapedefaults": {
           "line": {
            "color": "#2a3f5f"
           }
          },
          "ternary": {
           "aaxis": {
            "gridcolor": "white",
            "linecolor": "white",
            "ticks": ""
           },
           "baxis": {
            "gridcolor": "white",
            "linecolor": "white",
            "ticks": ""
           },
           "bgcolor": "#E5ECF6",
           "caxis": {
            "gridcolor": "white",
            "linecolor": "white",
            "ticks": ""
           }
          },
          "title": {
           "x": 0.05
          },
          "xaxis": {
           "automargin": true,
           "gridcolor": "white",
           "linecolor": "white",
           "ticks": "",
           "title": {
            "standoff": 15
           },
           "zerolinecolor": "white",
           "zerolinewidth": 2
          },
          "yaxis": {
           "automargin": true,
           "gridcolor": "white",
           "linecolor": "white",
           "ticks": "",
           "title": {
            "standoff": 15
           },
           "zerolinecolor": "white",
           "zerolinewidth": 2
          }
         }
        }
       }
      },
      "text/html": [
       "<div>                            <div id=\"a1b24d2f-691a-467e-851c-3bd3ef22eba7\" class=\"plotly-graph-div\" style=\"height:525px; width:100%;\"></div>            <script type=\"text/javascript\">                require([\"plotly\"], function(Plotly) {                    window.PLOTLYENV=window.PLOTLYENV || {};                                    if (document.getElementById(\"a1b24d2f-691a-467e-851c-3bd3ef22eba7\")) {                    Plotly.newPlot(                        \"a1b24d2f-691a-467e-851c-3bd3ef22eba7\",                        [{\"labels\": [\"23ANDME Holding Co\", \"3M Co (All Sessions)\", \"ANSYS Inc\", \"Barrick Gold Corp (US)\", \"BlackLine Inc\", \"Blackstone Group LP\", \"FactSet Research Systems Inc\", \"Gilead Sciences Inc (All Sessions)\", \"Infrastructure and Energy Alternatives Inc\", \"International Seaways Inc\", \"Intuitive Surgical Inc\", \"Invesco Ltd\", \"Kopin Corporation\", \"Lam Research Corp\", \"Lumentum Holdings Inc\", \"MP Materials Corp\", \"Morgan Stanley\", \"Mosaic Co\", \"Okta Inc\", \"PayPoint PLC\", \"Quidel Corp\", \"Raytheon Technologies Corp (All Sessions)\", \"Schroders PLC\", \"Skillz Inc\", \"Southwest Airlines Co\", \"Tronox Ltd\", \"VG Acquisition Corporation (Ord)\", \"Veeva Systems Inc\"], \"pull\": [0, 0.3, 0, 0, 0, 0, 0, 0, 0, 0, 0, 0, 0, 0, 0, 0, 0, 0, 0, 0, 0, 0, 0, 0, 0, 0, 0, 0], \"type\": \"pie\", \"values\": [2847.2, 5654.02, 2731.58, 1558.66, 2763.82, 2191.56, 2926.25, 4443.870000000001, 2179.1, 2395.57, 10779.8, 5565.49, 2290.6, 12961.42, 1353.3599999999997, 927.7699999999999, 3661.12, 1856.7, 3372.07, 4291.41, 1850.18, 1529.64, 3568.74, 3634.52, 3385.82, 3995.6000000000004, 2118.65, 6537.83]}],                        {\"template\": {\"data\": {\"bar\": [{\"error_x\": {\"color\": \"#2a3f5f\"}, \"error_y\": {\"color\": \"#2a3f5f\"}, \"marker\": {\"line\": {\"color\": \"#E5ECF6\", \"width\": 0.5}}, \"type\": \"bar\"}], \"barpolar\": [{\"marker\": {\"line\": {\"color\": \"#E5ECF6\", \"width\": 0.5}}, \"type\": \"barpolar\"}], \"carpet\": [{\"aaxis\": {\"endlinecolor\": \"#2a3f5f\", \"gridcolor\": \"white\", \"linecolor\": \"white\", \"minorgridcolor\": \"white\", \"startlinecolor\": \"#2a3f5f\"}, \"baxis\": {\"endlinecolor\": \"#2a3f5f\", \"gridcolor\": \"white\", \"linecolor\": \"white\", \"minorgridcolor\": \"white\", \"startlinecolor\": \"#2a3f5f\"}, \"type\": \"carpet\"}], \"choropleth\": [{\"colorbar\": {\"outlinewidth\": 0, \"ticks\": \"\"}, \"type\": \"choropleth\"}], \"contour\": [{\"colorbar\": {\"outlinewidth\": 0, \"ticks\": \"\"}, \"colorscale\": [[0.0, \"#0d0887\"], [0.1111111111111111, \"#46039f\"], [0.2222222222222222, \"#7201a8\"], [0.3333333333333333, \"#9c179e\"], [0.4444444444444444, \"#bd3786\"], [0.5555555555555556, \"#d8576b\"], [0.6666666666666666, \"#ed7953\"], [0.7777777777777778, \"#fb9f3a\"], [0.8888888888888888, \"#fdca26\"], [1.0, \"#f0f921\"]], \"type\": \"contour\"}], \"contourcarpet\": [{\"colorbar\": {\"outlinewidth\": 0, \"ticks\": \"\"}, \"type\": \"contourcarpet\"}], \"heatmap\": [{\"colorbar\": {\"outlinewidth\": 0, \"ticks\": \"\"}, \"colorscale\": [[0.0, \"#0d0887\"], [0.1111111111111111, \"#46039f\"], [0.2222222222222222, \"#7201a8\"], [0.3333333333333333, \"#9c179e\"], [0.4444444444444444, \"#bd3786\"], [0.5555555555555556, \"#d8576b\"], [0.6666666666666666, \"#ed7953\"], [0.7777777777777778, \"#fb9f3a\"], [0.8888888888888888, \"#fdca26\"], [1.0, \"#f0f921\"]], \"type\": \"heatmap\"}], \"heatmapgl\": [{\"colorbar\": {\"outlinewidth\": 0, \"ticks\": \"\"}, \"colorscale\": [[0.0, \"#0d0887\"], [0.1111111111111111, \"#46039f\"], [0.2222222222222222, \"#7201a8\"], [0.3333333333333333, \"#9c179e\"], [0.4444444444444444, \"#bd3786\"], [0.5555555555555556, \"#d8576b\"], [0.6666666666666666, \"#ed7953\"], [0.7777777777777778, \"#fb9f3a\"], [0.8888888888888888, \"#fdca26\"], [1.0, \"#f0f921\"]], \"type\": \"heatmapgl\"}], \"histogram\": [{\"marker\": {\"colorbar\": {\"outlinewidth\": 0, \"ticks\": \"\"}}, \"type\": \"histogram\"}], \"histogram2d\": [{\"colorbar\": {\"outlinewidth\": 0, \"ticks\": \"\"}, \"colorscale\": [[0.0, \"#0d0887\"], [0.1111111111111111, \"#46039f\"], [0.2222222222222222, \"#7201a8\"], [0.3333333333333333, \"#9c179e\"], [0.4444444444444444, \"#bd3786\"], [0.5555555555555556, \"#d8576b\"], [0.6666666666666666, \"#ed7953\"], [0.7777777777777778, \"#fb9f3a\"], [0.8888888888888888, \"#fdca26\"], [1.0, \"#f0f921\"]], \"type\": \"histogram2d\"}], \"histogram2dcontour\": [{\"colorbar\": {\"outlinewidth\": 0, \"ticks\": \"\"}, \"colorscale\": [[0.0, \"#0d0887\"], [0.1111111111111111, \"#46039f\"], [0.2222222222222222, \"#7201a8\"], [0.3333333333333333, \"#9c179e\"], [0.4444444444444444, \"#bd3786\"], [0.5555555555555556, \"#d8576b\"], [0.6666666666666666, \"#ed7953\"], [0.7777777777777778, \"#fb9f3a\"], [0.8888888888888888, \"#fdca26\"], [1.0, \"#f0f921\"]], \"type\": \"histogram2dcontour\"}], \"mesh3d\": [{\"colorbar\": {\"outlinewidth\": 0, \"ticks\": \"\"}, \"type\": \"mesh3d\"}], \"parcoords\": [{\"line\": {\"colorbar\": {\"outlinewidth\": 0, \"ticks\": \"\"}}, \"type\": \"parcoords\"}], \"pie\": [{\"automargin\": true, \"type\": \"pie\"}], \"scatter\": [{\"marker\": {\"colorbar\": {\"outlinewidth\": 0, \"ticks\": \"\"}}, \"type\": \"scatter\"}], \"scatter3d\": [{\"line\": {\"colorbar\": {\"outlinewidth\": 0, \"ticks\": \"\"}}, \"marker\": {\"colorbar\": {\"outlinewidth\": 0, \"ticks\": \"\"}}, \"type\": \"scatter3d\"}], \"scattercarpet\": [{\"marker\": {\"colorbar\": {\"outlinewidth\": 0, \"ticks\": \"\"}}, \"type\": \"scattercarpet\"}], \"scattergeo\": [{\"marker\": {\"colorbar\": {\"outlinewidth\": 0, \"ticks\": \"\"}}, \"type\": \"scattergeo\"}], \"scattergl\": [{\"marker\": {\"colorbar\": {\"outlinewidth\": 0, \"ticks\": \"\"}}, \"type\": \"scattergl\"}], \"scattermapbox\": [{\"marker\": {\"colorbar\": {\"outlinewidth\": 0, \"ticks\": \"\"}}, \"type\": \"scattermapbox\"}], \"scatterpolar\": [{\"marker\": {\"colorbar\": {\"outlinewidth\": 0, \"ticks\": \"\"}}, \"type\": \"scatterpolar\"}], \"scatterpolargl\": [{\"marker\": {\"colorbar\": {\"outlinewidth\": 0, \"ticks\": \"\"}}, \"type\": \"scatterpolargl\"}], \"scatterternary\": [{\"marker\": {\"colorbar\": {\"outlinewidth\": 0, \"ticks\": \"\"}}, \"type\": \"scatterternary\"}], \"surface\": [{\"colorbar\": {\"outlinewidth\": 0, \"ticks\": \"\"}, \"colorscale\": [[0.0, \"#0d0887\"], [0.1111111111111111, \"#46039f\"], [0.2222222222222222, \"#7201a8\"], [0.3333333333333333, \"#9c179e\"], [0.4444444444444444, \"#bd3786\"], [0.5555555555555556, \"#d8576b\"], [0.6666666666666666, \"#ed7953\"], [0.7777777777777778, \"#fb9f3a\"], [0.8888888888888888, \"#fdca26\"], [1.0, \"#f0f921\"]], \"type\": \"surface\"}], \"table\": [{\"cells\": {\"fill\": {\"color\": \"#EBF0F8\"}, \"line\": {\"color\": \"white\"}}, \"header\": {\"fill\": {\"color\": \"#C8D4E3\"}, \"line\": {\"color\": \"white\"}}, \"type\": \"table\"}]}, \"layout\": {\"annotationdefaults\": {\"arrowcolor\": \"#2a3f5f\", \"arrowhead\": 0, \"arrowwidth\": 1}, \"autotypenumbers\": \"strict\", \"coloraxis\": {\"colorbar\": {\"outlinewidth\": 0, \"ticks\": \"\"}}, \"colorscale\": {\"diverging\": [[0, \"#8e0152\"], [0.1, \"#c51b7d\"], [0.2, \"#de77ae\"], [0.3, \"#f1b6da\"], [0.4, \"#fde0ef\"], [0.5, \"#f7f7f7\"], [0.6, \"#e6f5d0\"], [0.7, \"#b8e186\"], [0.8, \"#7fbc41\"], [0.9, \"#4d9221\"], [1, \"#276419\"]], \"sequential\": [[0.0, \"#0d0887\"], [0.1111111111111111, \"#46039f\"], [0.2222222222222222, \"#7201a8\"], [0.3333333333333333, \"#9c179e\"], [0.4444444444444444, \"#bd3786\"], [0.5555555555555556, \"#d8576b\"], [0.6666666666666666, \"#ed7953\"], [0.7777777777777778, \"#fb9f3a\"], [0.8888888888888888, \"#fdca26\"], [1.0, \"#f0f921\"]], \"sequentialminus\": [[0.0, \"#0d0887\"], [0.1111111111111111, \"#46039f\"], [0.2222222222222222, \"#7201a8\"], [0.3333333333333333, \"#9c179e\"], [0.4444444444444444, \"#bd3786\"], [0.5555555555555556, \"#d8576b\"], [0.6666666666666666, \"#ed7953\"], [0.7777777777777778, \"#fb9f3a\"], [0.8888888888888888, \"#fdca26\"], [1.0, \"#f0f921\"]]}, \"colorway\": [\"#636efa\", \"#EF553B\", \"#00cc96\", \"#ab63fa\", \"#FFA15A\", \"#19d3f3\", \"#FF6692\", \"#B6E880\", \"#FF97FF\", \"#FECB52\"], \"font\": {\"color\": \"#2a3f5f\"}, \"geo\": {\"bgcolor\": \"white\", \"lakecolor\": \"white\", \"landcolor\": \"#E5ECF6\", \"showlakes\": true, \"showland\": true, \"subunitcolor\": \"white\"}, \"hoverlabel\": {\"align\": \"left\"}, \"hovermode\": \"closest\", \"mapbox\": {\"style\": \"light\"}, \"paper_bgcolor\": \"white\", \"plot_bgcolor\": \"#E5ECF6\", \"polar\": {\"angularaxis\": {\"gridcolor\": \"white\", \"linecolor\": \"white\", \"ticks\": \"\"}, \"bgcolor\": \"#E5ECF6\", \"radialaxis\": {\"gridcolor\": \"white\", \"linecolor\": \"white\", \"ticks\": \"\"}}, \"scene\": {\"xaxis\": {\"backgroundcolor\": \"#E5ECF6\", \"gridcolor\": \"white\", \"gridwidth\": 2, \"linecolor\": \"white\", \"showbackground\": true, \"ticks\": \"\", \"zerolinecolor\": \"white\"}, \"yaxis\": {\"backgroundcolor\": \"#E5ECF6\", \"gridcolor\": \"white\", \"gridwidth\": 2, \"linecolor\": \"white\", \"showbackground\": true, \"ticks\": \"\", \"zerolinecolor\": \"white\"}, \"zaxis\": {\"backgroundcolor\": \"#E5ECF6\", \"gridcolor\": \"white\", \"gridwidth\": 2, \"linecolor\": \"white\", \"showbackground\": true, \"ticks\": \"\", \"zerolinecolor\": \"white\"}}, \"shapedefaults\": {\"line\": {\"color\": \"#2a3f5f\"}}, \"ternary\": {\"aaxis\": {\"gridcolor\": \"white\", \"linecolor\": \"white\", \"ticks\": \"\"}, \"baxis\": {\"gridcolor\": \"white\", \"linecolor\": \"white\", \"ticks\": \"\"}, \"bgcolor\": \"#E5ECF6\", \"caxis\": {\"gridcolor\": \"white\", \"linecolor\": \"white\", \"ticks\": \"\"}}, \"title\": {\"x\": 0.05}, \"xaxis\": {\"automargin\": true, \"gridcolor\": \"white\", \"linecolor\": \"white\", \"ticks\": \"\", \"title\": {\"standoff\": 15}, \"zerolinecolor\": \"white\", \"zerolinewidth\": 2}, \"yaxis\": {\"automargin\": true, \"gridcolor\": \"white\", \"linecolor\": \"white\", \"ticks\": \"\", \"title\": {\"standoff\": 15}, \"zerolinecolor\": \"white\", \"zerolinewidth\": 2}}}},                        {\"responsive\": true}                    ).then(function(){\n",
       "                            \n",
       "var gd = document.getElementById('a1b24d2f-691a-467e-851c-3bd3ef22eba7');\n",
       "var x = new MutationObserver(function (mutations, observer) {{\n",
       "        var display = window.getComputedStyle(gd).display;\n",
       "        if (!display || display === 'none') {{\n",
       "            console.log([gd, 'removed!']);\n",
       "            Plotly.purge(gd);\n",
       "            observer.disconnect();\n",
       "        }}\n",
       "}});\n",
       "\n",
       "// Listen for the removal of the full notebook cells\n",
       "var notebookContainer = gd.closest('#notebook-container');\n",
       "if (notebookContainer) {{\n",
       "    x.observe(notebookContainer, {childList: true});\n",
       "}}\n",
       "\n",
       "// Listen for the clearing of the current output cell\n",
       "var outputEl = gd.closest('.output');\n",
       "if (outputEl) {{\n",
       "    x.observe(outputEl, {childList: true});\n",
       "}}\n",
       "\n",
       "                        })                };                });            </script>        </div>"
      ]
     },
     "metadata": {},
     "output_type": "display_data"
    }
   ],
   "source": [
    "company_list = df_has_position.index.get_level_values('Market').tolist()\n",
    "company = \"3M Co (All Sessions)\"\n",
    "\n",
    "standout = [0]* len(company_list)\n",
    "standout[company_list.index(company)] = 0.3\n",
    "\n",
    "fig = go.Figure(data=[go.Pie(\n",
    "    labels= df_has_position.index.get_level_values('Market'), \n",
    "    values=abs(df_has_position['Cost/Proceeds']), \n",
    "    pull=standout)])\n",
    "\n",
    "fig.show()"
   ]
  },
  {
   "cell_type": "code",
   "execution_count": 17,
   "metadata": {},
   "outputs": [
    {
     "data": {
      "application/vnd.plotly.v1+json": {
       "config": {
        "plotlyServerURL": "https://plot.ly"
       },
       "data": [
        {
         "labels": [
          "Oxygen",
          "Hydrogen",
          "Carbon_Dioxide",
          "Nitrogen"
         ],
         "type": "pie",
         "values": [
          4500,
          2500,
          1053,
          500
         ]
        }
       ],
       "layout": {
        "template": {
         "data": {
          "bar": [
           {
            "error_x": {
             "color": "#2a3f5f"
            },
            "error_y": {
             "color": "#2a3f5f"
            },
            "marker": {
             "line": {
              "color": "#E5ECF6",
              "width": 0.5
             }
            },
            "type": "bar"
           }
          ],
          "barpolar": [
           {
            "marker": {
             "line": {
              "color": "#E5ECF6",
              "width": 0.5
             }
            },
            "type": "barpolar"
           }
          ],
          "carpet": [
           {
            "aaxis": {
             "endlinecolor": "#2a3f5f",
             "gridcolor": "white",
             "linecolor": "white",
             "minorgridcolor": "white",
             "startlinecolor": "#2a3f5f"
            },
            "baxis": {
             "endlinecolor": "#2a3f5f",
             "gridcolor": "white",
             "linecolor": "white",
             "minorgridcolor": "white",
             "startlinecolor": "#2a3f5f"
            },
            "type": "carpet"
           }
          ],
          "choropleth": [
           {
            "colorbar": {
             "outlinewidth": 0,
             "ticks": ""
            },
            "type": "choropleth"
           }
          ],
          "contour": [
           {
            "colorbar": {
             "outlinewidth": 0,
             "ticks": ""
            },
            "colorscale": [
             [
              0,
              "#0d0887"
             ],
             [
              0.1111111111111111,
              "#46039f"
             ],
             [
              0.2222222222222222,
              "#7201a8"
             ],
             [
              0.3333333333333333,
              "#9c179e"
             ],
             [
              0.4444444444444444,
              "#bd3786"
             ],
             [
              0.5555555555555556,
              "#d8576b"
             ],
             [
              0.6666666666666666,
              "#ed7953"
             ],
             [
              0.7777777777777778,
              "#fb9f3a"
             ],
             [
              0.8888888888888888,
              "#fdca26"
             ],
             [
              1,
              "#f0f921"
             ]
            ],
            "type": "contour"
           }
          ],
          "contourcarpet": [
           {
            "colorbar": {
             "outlinewidth": 0,
             "ticks": ""
            },
            "type": "contourcarpet"
           }
          ],
          "heatmap": [
           {
            "colorbar": {
             "outlinewidth": 0,
             "ticks": ""
            },
            "colorscale": [
             [
              0,
              "#0d0887"
             ],
             [
              0.1111111111111111,
              "#46039f"
             ],
             [
              0.2222222222222222,
              "#7201a8"
             ],
             [
              0.3333333333333333,
              "#9c179e"
             ],
             [
              0.4444444444444444,
              "#bd3786"
             ],
             [
              0.5555555555555556,
              "#d8576b"
             ],
             [
              0.6666666666666666,
              "#ed7953"
             ],
             [
              0.7777777777777778,
              "#fb9f3a"
             ],
             [
              0.8888888888888888,
              "#fdca26"
             ],
             [
              1,
              "#f0f921"
             ]
            ],
            "type": "heatmap"
           }
          ],
          "heatmapgl": [
           {
            "colorbar": {
             "outlinewidth": 0,
             "ticks": ""
            },
            "colorscale": [
             [
              0,
              "#0d0887"
             ],
             [
              0.1111111111111111,
              "#46039f"
             ],
             [
              0.2222222222222222,
              "#7201a8"
             ],
             [
              0.3333333333333333,
              "#9c179e"
             ],
             [
              0.4444444444444444,
              "#bd3786"
             ],
             [
              0.5555555555555556,
              "#d8576b"
             ],
             [
              0.6666666666666666,
              "#ed7953"
             ],
             [
              0.7777777777777778,
              "#fb9f3a"
             ],
             [
              0.8888888888888888,
              "#fdca26"
             ],
             [
              1,
              "#f0f921"
             ]
            ],
            "type": "heatmapgl"
           }
          ],
          "histogram": [
           {
            "marker": {
             "colorbar": {
              "outlinewidth": 0,
              "ticks": ""
             }
            },
            "type": "histogram"
           }
          ],
          "histogram2d": [
           {
            "colorbar": {
             "outlinewidth": 0,
             "ticks": ""
            },
            "colorscale": [
             [
              0,
              "#0d0887"
             ],
             [
              0.1111111111111111,
              "#46039f"
             ],
             [
              0.2222222222222222,
              "#7201a8"
             ],
             [
              0.3333333333333333,
              "#9c179e"
             ],
             [
              0.4444444444444444,
              "#bd3786"
             ],
             [
              0.5555555555555556,
              "#d8576b"
             ],
             [
              0.6666666666666666,
              "#ed7953"
             ],
             [
              0.7777777777777778,
              "#fb9f3a"
             ],
             [
              0.8888888888888888,
              "#fdca26"
             ],
             [
              1,
              "#f0f921"
             ]
            ],
            "type": "histogram2d"
           }
          ],
          "histogram2dcontour": [
           {
            "colorbar": {
             "outlinewidth": 0,
             "ticks": ""
            },
            "colorscale": [
             [
              0,
              "#0d0887"
             ],
             [
              0.1111111111111111,
              "#46039f"
             ],
             [
              0.2222222222222222,
              "#7201a8"
             ],
             [
              0.3333333333333333,
              "#9c179e"
             ],
             [
              0.4444444444444444,
              "#bd3786"
             ],
             [
              0.5555555555555556,
              "#d8576b"
             ],
             [
              0.6666666666666666,
              "#ed7953"
             ],
             [
              0.7777777777777778,
              "#fb9f3a"
             ],
             [
              0.8888888888888888,
              "#fdca26"
             ],
             [
              1,
              "#f0f921"
             ]
            ],
            "type": "histogram2dcontour"
           }
          ],
          "mesh3d": [
           {
            "colorbar": {
             "outlinewidth": 0,
             "ticks": ""
            },
            "type": "mesh3d"
           }
          ],
          "parcoords": [
           {
            "line": {
             "colorbar": {
              "outlinewidth": 0,
              "ticks": ""
             }
            },
            "type": "parcoords"
           }
          ],
          "pie": [
           {
            "automargin": true,
            "type": "pie"
           }
          ],
          "scatter": [
           {
            "marker": {
             "colorbar": {
              "outlinewidth": 0,
              "ticks": ""
             }
            },
            "type": "scatter"
           }
          ],
          "scatter3d": [
           {
            "line": {
             "colorbar": {
              "outlinewidth": 0,
              "ticks": ""
             }
            },
            "marker": {
             "colorbar": {
              "outlinewidth": 0,
              "ticks": ""
             }
            },
            "type": "scatter3d"
           }
          ],
          "scattercarpet": [
           {
            "marker": {
             "colorbar": {
              "outlinewidth": 0,
              "ticks": ""
             }
            },
            "type": "scattercarpet"
           }
          ],
          "scattergeo": [
           {
            "marker": {
             "colorbar": {
              "outlinewidth": 0,
              "ticks": ""
             }
            },
            "type": "scattergeo"
           }
          ],
          "scattergl": [
           {
            "marker": {
             "colorbar": {
              "outlinewidth": 0,
              "ticks": ""
             }
            },
            "type": "scattergl"
           }
          ],
          "scattermapbox": [
           {
            "marker": {
             "colorbar": {
              "outlinewidth": 0,
              "ticks": ""
             }
            },
            "type": "scattermapbox"
           }
          ],
          "scatterpolar": [
           {
            "marker": {
             "colorbar": {
              "outlinewidth": 0,
              "ticks": ""
             }
            },
            "type": "scatterpolar"
           }
          ],
          "scatterpolargl": [
           {
            "marker": {
             "colorbar": {
              "outlinewidth": 0,
              "ticks": ""
             }
            },
            "type": "scatterpolargl"
           }
          ],
          "scatterternary": [
           {
            "marker": {
             "colorbar": {
              "outlinewidth": 0,
              "ticks": ""
             }
            },
            "type": "scatterternary"
           }
          ],
          "surface": [
           {
            "colorbar": {
             "outlinewidth": 0,
             "ticks": ""
            },
            "colorscale": [
             [
              0,
              "#0d0887"
             ],
             [
              0.1111111111111111,
              "#46039f"
             ],
             [
              0.2222222222222222,
              "#7201a8"
             ],
             [
              0.3333333333333333,
              "#9c179e"
             ],
             [
              0.4444444444444444,
              "#bd3786"
             ],
             [
              0.5555555555555556,
              "#d8576b"
             ],
             [
              0.6666666666666666,
              "#ed7953"
             ],
             [
              0.7777777777777778,
              "#fb9f3a"
             ],
             [
              0.8888888888888888,
              "#fdca26"
             ],
             [
              1,
              "#f0f921"
             ]
            ],
            "type": "surface"
           }
          ],
          "table": [
           {
            "cells": {
             "fill": {
              "color": "#EBF0F8"
             },
             "line": {
              "color": "white"
             }
            },
            "header": {
             "fill": {
              "color": "#C8D4E3"
             },
             "line": {
              "color": "white"
             }
            },
            "type": "table"
           }
          ]
         },
         "layout": {
          "annotationdefaults": {
           "arrowcolor": "#2a3f5f",
           "arrowhead": 0,
           "arrowwidth": 1
          },
          "autotypenumbers": "strict",
          "coloraxis": {
           "colorbar": {
            "outlinewidth": 0,
            "ticks": ""
           }
          },
          "colorscale": {
           "diverging": [
            [
             0,
             "#8e0152"
            ],
            [
             0.1,
             "#c51b7d"
            ],
            [
             0.2,
             "#de77ae"
            ],
            [
             0.3,
             "#f1b6da"
            ],
            [
             0.4,
             "#fde0ef"
            ],
            [
             0.5,
             "#f7f7f7"
            ],
            [
             0.6,
             "#e6f5d0"
            ],
            [
             0.7,
             "#b8e186"
            ],
            [
             0.8,
             "#7fbc41"
            ],
            [
             0.9,
             "#4d9221"
            ],
            [
             1,
             "#276419"
            ]
           ],
           "sequential": [
            [
             0,
             "#0d0887"
            ],
            [
             0.1111111111111111,
             "#46039f"
            ],
            [
             0.2222222222222222,
             "#7201a8"
            ],
            [
             0.3333333333333333,
             "#9c179e"
            ],
            [
             0.4444444444444444,
             "#bd3786"
            ],
            [
             0.5555555555555556,
             "#d8576b"
            ],
            [
             0.6666666666666666,
             "#ed7953"
            ],
            [
             0.7777777777777778,
             "#fb9f3a"
            ],
            [
             0.8888888888888888,
             "#fdca26"
            ],
            [
             1,
             "#f0f921"
            ]
           ],
           "sequentialminus": [
            [
             0,
             "#0d0887"
            ],
            [
             0.1111111111111111,
             "#46039f"
            ],
            [
             0.2222222222222222,
             "#7201a8"
            ],
            [
             0.3333333333333333,
             "#9c179e"
            ],
            [
             0.4444444444444444,
             "#bd3786"
            ],
            [
             0.5555555555555556,
             "#d8576b"
            ],
            [
             0.6666666666666666,
             "#ed7953"
            ],
            [
             0.7777777777777778,
             "#fb9f3a"
            ],
            [
             0.8888888888888888,
             "#fdca26"
            ],
            [
             1,
             "#f0f921"
            ]
           ]
          },
          "colorway": [
           "#636efa",
           "#EF553B",
           "#00cc96",
           "#ab63fa",
           "#FFA15A",
           "#19d3f3",
           "#FF6692",
           "#B6E880",
           "#FF97FF",
           "#FECB52"
          ],
          "font": {
           "color": "#2a3f5f"
          },
          "geo": {
           "bgcolor": "white",
           "lakecolor": "white",
           "landcolor": "#E5ECF6",
           "showlakes": true,
           "showland": true,
           "subunitcolor": "white"
          },
          "hoverlabel": {
           "align": "left"
          },
          "hovermode": "closest",
          "mapbox": {
           "style": "light"
          },
          "paper_bgcolor": "white",
          "plot_bgcolor": "#E5ECF6",
          "polar": {
           "angularaxis": {
            "gridcolor": "white",
            "linecolor": "white",
            "ticks": ""
           },
           "bgcolor": "#E5ECF6",
           "radialaxis": {
            "gridcolor": "white",
            "linecolor": "white",
            "ticks": ""
           }
          },
          "scene": {
           "xaxis": {
            "backgroundcolor": "#E5ECF6",
            "gridcolor": "white",
            "gridwidth": 2,
            "linecolor": "white",
            "showbackground": true,
            "ticks": "",
            "zerolinecolor": "white"
           },
           "yaxis": {
            "backgroundcolor": "#E5ECF6",
            "gridcolor": "white",
            "gridwidth": 2,
            "linecolor": "white",
            "showbackground": true,
            "ticks": "",
            "zerolinecolor": "white"
           },
           "zaxis": {
            "backgroundcolor": "#E5ECF6",
            "gridcolor": "white",
            "gridwidth": 2,
            "linecolor": "white",
            "showbackground": true,
            "ticks": "",
            "zerolinecolor": "white"
           }
          },
          "shapedefaults": {
           "line": {
            "color": "#2a3f5f"
           }
          },
          "ternary": {
           "aaxis": {
            "gridcolor": "white",
            "linecolor": "white",
            "ticks": ""
           },
           "baxis": {
            "gridcolor": "white",
            "linecolor": "white",
            "ticks": ""
           },
           "bgcolor": "#E5ECF6",
           "caxis": {
            "gridcolor": "white",
            "linecolor": "white",
            "ticks": ""
           }
          },
          "title": {
           "x": 0.05
          },
          "xaxis": {
           "automargin": true,
           "gridcolor": "white",
           "linecolor": "white",
           "ticks": "",
           "title": {
            "standoff": 15
           },
           "zerolinecolor": "white",
           "zerolinewidth": 2
          },
          "yaxis": {
           "automargin": true,
           "gridcolor": "white",
           "linecolor": "white",
           "ticks": "",
           "title": {
            "standoff": 15
           },
           "zerolinecolor": "white",
           "zerolinewidth": 2
          }
         }
        }
       }
      },
      "text/html": [
       "<div>                            <div id=\"7dbeced5-3621-4009-936f-c09307e076aa\" class=\"plotly-graph-div\" style=\"height:525px; width:100%;\"></div>            <script type=\"text/javascript\">                require([\"plotly\"], function(Plotly) {                    window.PLOTLYENV=window.PLOTLYENV || {};                                    if (document.getElementById(\"7dbeced5-3621-4009-936f-c09307e076aa\")) {                    Plotly.newPlot(                        \"7dbeced5-3621-4009-936f-c09307e076aa\",                        [{\"labels\": [\"Oxygen\", \"Hydrogen\", \"Carbon_Dioxide\", \"Nitrogen\"], \"type\": \"pie\", \"values\": [4500, 2500, 1053, 500]}],                        {\"template\": {\"data\": {\"bar\": [{\"error_x\": {\"color\": \"#2a3f5f\"}, \"error_y\": {\"color\": \"#2a3f5f\"}, \"marker\": {\"line\": {\"color\": \"#E5ECF6\", \"width\": 0.5}}, \"type\": \"bar\"}], \"barpolar\": [{\"marker\": {\"line\": {\"color\": \"#E5ECF6\", \"width\": 0.5}}, \"type\": \"barpolar\"}], \"carpet\": [{\"aaxis\": {\"endlinecolor\": \"#2a3f5f\", \"gridcolor\": \"white\", \"linecolor\": \"white\", \"minorgridcolor\": \"white\", \"startlinecolor\": \"#2a3f5f\"}, \"baxis\": {\"endlinecolor\": \"#2a3f5f\", \"gridcolor\": \"white\", \"linecolor\": \"white\", \"minorgridcolor\": \"white\", \"startlinecolor\": \"#2a3f5f\"}, \"type\": \"carpet\"}], \"choropleth\": [{\"colorbar\": {\"outlinewidth\": 0, \"ticks\": \"\"}, \"type\": \"choropleth\"}], \"contour\": [{\"colorbar\": {\"outlinewidth\": 0, \"ticks\": \"\"}, \"colorscale\": [[0.0, \"#0d0887\"], [0.1111111111111111, \"#46039f\"], [0.2222222222222222, \"#7201a8\"], [0.3333333333333333, \"#9c179e\"], [0.4444444444444444, \"#bd3786\"], [0.5555555555555556, \"#d8576b\"], [0.6666666666666666, \"#ed7953\"], [0.7777777777777778, \"#fb9f3a\"], [0.8888888888888888, \"#fdca26\"], [1.0, \"#f0f921\"]], \"type\": \"contour\"}], \"contourcarpet\": [{\"colorbar\": {\"outlinewidth\": 0, \"ticks\": \"\"}, \"type\": \"contourcarpet\"}], \"heatmap\": [{\"colorbar\": {\"outlinewidth\": 0, \"ticks\": \"\"}, \"colorscale\": [[0.0, \"#0d0887\"], [0.1111111111111111, \"#46039f\"], [0.2222222222222222, \"#7201a8\"], [0.3333333333333333, \"#9c179e\"], [0.4444444444444444, \"#bd3786\"], [0.5555555555555556, \"#d8576b\"], [0.6666666666666666, \"#ed7953\"], [0.7777777777777778, \"#fb9f3a\"], [0.8888888888888888, \"#fdca26\"], [1.0, \"#f0f921\"]], \"type\": \"heatmap\"}], \"heatmapgl\": [{\"colorbar\": {\"outlinewidth\": 0, \"ticks\": \"\"}, \"colorscale\": [[0.0, \"#0d0887\"], [0.1111111111111111, \"#46039f\"], [0.2222222222222222, \"#7201a8\"], [0.3333333333333333, \"#9c179e\"], [0.4444444444444444, \"#bd3786\"], [0.5555555555555556, \"#d8576b\"], [0.6666666666666666, \"#ed7953\"], [0.7777777777777778, \"#fb9f3a\"], [0.8888888888888888, \"#fdca26\"], [1.0, \"#f0f921\"]], \"type\": \"heatmapgl\"}], \"histogram\": [{\"marker\": {\"colorbar\": {\"outlinewidth\": 0, \"ticks\": \"\"}}, \"type\": \"histogram\"}], \"histogram2d\": [{\"colorbar\": {\"outlinewidth\": 0, \"ticks\": \"\"}, \"colorscale\": [[0.0, \"#0d0887\"], [0.1111111111111111, \"#46039f\"], [0.2222222222222222, \"#7201a8\"], [0.3333333333333333, \"#9c179e\"], [0.4444444444444444, \"#bd3786\"], [0.5555555555555556, \"#d8576b\"], [0.6666666666666666, \"#ed7953\"], [0.7777777777777778, \"#fb9f3a\"], [0.8888888888888888, \"#fdca26\"], [1.0, \"#f0f921\"]], \"type\": \"histogram2d\"}], \"histogram2dcontour\": [{\"colorbar\": {\"outlinewidth\": 0, \"ticks\": \"\"}, \"colorscale\": [[0.0, \"#0d0887\"], [0.1111111111111111, \"#46039f\"], [0.2222222222222222, \"#7201a8\"], [0.3333333333333333, \"#9c179e\"], [0.4444444444444444, \"#bd3786\"], [0.5555555555555556, \"#d8576b\"], [0.6666666666666666, \"#ed7953\"], [0.7777777777777778, \"#fb9f3a\"], [0.8888888888888888, \"#fdca26\"], [1.0, \"#f0f921\"]], \"type\": \"histogram2dcontour\"}], \"mesh3d\": [{\"colorbar\": {\"outlinewidth\": 0, \"ticks\": \"\"}, \"type\": \"mesh3d\"}], \"parcoords\": [{\"line\": {\"colorbar\": {\"outlinewidth\": 0, \"ticks\": \"\"}}, \"type\": \"parcoords\"}], \"pie\": [{\"automargin\": true, \"type\": \"pie\"}], \"scatter\": [{\"marker\": {\"colorbar\": {\"outlinewidth\": 0, \"ticks\": \"\"}}, \"type\": \"scatter\"}], \"scatter3d\": [{\"line\": {\"colorbar\": {\"outlinewidth\": 0, \"ticks\": \"\"}}, \"marker\": {\"colorbar\": {\"outlinewidth\": 0, \"ticks\": \"\"}}, \"type\": \"scatter3d\"}], \"scattercarpet\": [{\"marker\": {\"colorbar\": {\"outlinewidth\": 0, \"ticks\": \"\"}}, \"type\": \"scattercarpet\"}], \"scattergeo\": [{\"marker\": {\"colorbar\": {\"outlinewidth\": 0, \"ticks\": \"\"}}, \"type\": \"scattergeo\"}], \"scattergl\": [{\"marker\": {\"colorbar\": {\"outlinewidth\": 0, \"ticks\": \"\"}}, \"type\": \"scattergl\"}], \"scattermapbox\": [{\"marker\": {\"colorbar\": {\"outlinewidth\": 0, \"ticks\": \"\"}}, \"type\": \"scattermapbox\"}], \"scatterpolar\": [{\"marker\": {\"colorbar\": {\"outlinewidth\": 0, \"ticks\": \"\"}}, \"type\": \"scatterpolar\"}], \"scatterpolargl\": [{\"marker\": {\"colorbar\": {\"outlinewidth\": 0, \"ticks\": \"\"}}, \"type\": \"scatterpolargl\"}], \"scatterternary\": [{\"marker\": {\"colorbar\": {\"outlinewidth\": 0, \"ticks\": \"\"}}, \"type\": \"scatterternary\"}], \"surface\": [{\"colorbar\": {\"outlinewidth\": 0, \"ticks\": \"\"}, \"colorscale\": [[0.0, \"#0d0887\"], [0.1111111111111111, \"#46039f\"], [0.2222222222222222, \"#7201a8\"], [0.3333333333333333, \"#9c179e\"], [0.4444444444444444, \"#bd3786\"], [0.5555555555555556, \"#d8576b\"], [0.6666666666666666, \"#ed7953\"], [0.7777777777777778, \"#fb9f3a\"], [0.8888888888888888, \"#fdca26\"], [1.0, \"#f0f921\"]], \"type\": \"surface\"}], \"table\": [{\"cells\": {\"fill\": {\"color\": \"#EBF0F8\"}, \"line\": {\"color\": \"white\"}}, \"header\": {\"fill\": {\"color\": \"#C8D4E3\"}, \"line\": {\"color\": \"white\"}}, \"type\": \"table\"}]}, \"layout\": {\"annotationdefaults\": {\"arrowcolor\": \"#2a3f5f\", \"arrowhead\": 0, \"arrowwidth\": 1}, \"autotypenumbers\": \"strict\", \"coloraxis\": {\"colorbar\": {\"outlinewidth\": 0, \"ticks\": \"\"}}, \"colorscale\": {\"diverging\": [[0, \"#8e0152\"], [0.1, \"#c51b7d\"], [0.2, \"#de77ae\"], [0.3, \"#f1b6da\"], [0.4, \"#fde0ef\"], [0.5, \"#f7f7f7\"], [0.6, \"#e6f5d0\"], [0.7, \"#b8e186\"], [0.8, \"#7fbc41\"], [0.9, \"#4d9221\"], [1, \"#276419\"]], \"sequential\": [[0.0, \"#0d0887\"], [0.1111111111111111, \"#46039f\"], [0.2222222222222222, \"#7201a8\"], [0.3333333333333333, \"#9c179e\"], [0.4444444444444444, \"#bd3786\"], [0.5555555555555556, \"#d8576b\"], [0.6666666666666666, \"#ed7953\"], [0.7777777777777778, \"#fb9f3a\"], [0.8888888888888888, \"#fdca26\"], [1.0, \"#f0f921\"]], \"sequentialminus\": [[0.0, \"#0d0887\"], [0.1111111111111111, \"#46039f\"], [0.2222222222222222, \"#7201a8\"], [0.3333333333333333, \"#9c179e\"], [0.4444444444444444, \"#bd3786\"], [0.5555555555555556, \"#d8576b\"], [0.6666666666666666, \"#ed7953\"], [0.7777777777777778, \"#fb9f3a\"], [0.8888888888888888, \"#fdca26\"], [1.0, \"#f0f921\"]]}, \"colorway\": [\"#636efa\", \"#EF553B\", \"#00cc96\", \"#ab63fa\", \"#FFA15A\", \"#19d3f3\", \"#FF6692\", \"#B6E880\", \"#FF97FF\", \"#FECB52\"], \"font\": {\"color\": \"#2a3f5f\"}, \"geo\": {\"bgcolor\": \"white\", \"lakecolor\": \"white\", \"landcolor\": \"#E5ECF6\", \"showlakes\": true, \"showland\": true, \"subunitcolor\": \"white\"}, \"hoverlabel\": {\"align\": \"left\"}, \"hovermode\": \"closest\", \"mapbox\": {\"style\": \"light\"}, \"paper_bgcolor\": \"white\", \"plot_bgcolor\": \"#E5ECF6\", \"polar\": {\"angularaxis\": {\"gridcolor\": \"white\", \"linecolor\": \"white\", \"ticks\": \"\"}, \"bgcolor\": \"#E5ECF6\", \"radialaxis\": {\"gridcolor\": \"white\", \"linecolor\": \"white\", \"ticks\": \"\"}}, \"scene\": {\"xaxis\": {\"backgroundcolor\": \"#E5ECF6\", \"gridcolor\": \"white\", \"gridwidth\": 2, \"linecolor\": \"white\", \"showbackground\": true, \"ticks\": \"\", \"zerolinecolor\": \"white\"}, \"yaxis\": {\"backgroundcolor\": \"#E5ECF6\", \"gridcolor\": \"white\", \"gridwidth\": 2, \"linecolor\": \"white\", \"showbackground\": true, \"ticks\": \"\", \"zerolinecolor\": \"white\"}, \"zaxis\": {\"backgroundcolor\": \"#E5ECF6\", \"gridcolor\": \"white\", \"gridwidth\": 2, \"linecolor\": \"white\", \"showbackground\": true, \"ticks\": \"\", \"zerolinecolor\": \"white\"}}, \"shapedefaults\": {\"line\": {\"color\": \"#2a3f5f\"}}, \"ternary\": {\"aaxis\": {\"gridcolor\": \"white\", \"linecolor\": \"white\", \"ticks\": \"\"}, \"baxis\": {\"gridcolor\": \"white\", \"linecolor\": \"white\", \"ticks\": \"\"}, \"bgcolor\": \"#E5ECF6\", \"caxis\": {\"gridcolor\": \"white\", \"linecolor\": \"white\", \"ticks\": \"\"}}, \"title\": {\"x\": 0.05}, \"xaxis\": {\"automargin\": true, \"gridcolor\": \"white\", \"linecolor\": \"white\", \"ticks\": \"\", \"title\": {\"standoff\": 15}, \"zerolinecolor\": \"white\", \"zerolinewidth\": 2}, \"yaxis\": {\"automargin\": true, \"gridcolor\": \"white\", \"linecolor\": \"white\", \"ticks\": \"\", \"title\": {\"standoff\": 15}, \"zerolinecolor\": \"white\", \"zerolinewidth\": 2}}}},                        {\"responsive\": true}                    ).then(function(){\n",
       "                            \n",
       "var gd = document.getElementById('7dbeced5-3621-4009-936f-c09307e076aa');\n",
       "var x = new MutationObserver(function (mutations, observer) {{\n",
       "        var display = window.getComputedStyle(gd).display;\n",
       "        if (!display || display === 'none') {{\n",
       "            console.log([gd, 'removed!']);\n",
       "            Plotly.purge(gd);\n",
       "            observer.disconnect();\n",
       "        }}\n",
       "}});\n",
       "\n",
       "// Listen for the removal of the full notebook cells\n",
       "var notebookContainer = gd.closest('#notebook-container');\n",
       "if (notebookContainer) {{\n",
       "    x.observe(notebookContainer, {childList: true});\n",
       "}}\n",
       "\n",
       "// Listen for the clearing of the current output cell\n",
       "var outputEl = gd.closest('.output');\n",
       "if (outputEl) {{\n",
       "    x.observe(outputEl, {childList: true});\n",
       "}}\n",
       "\n",
       "                        })                };                });            </script>        </div>"
      ]
     },
     "metadata": {},
     "output_type": "display_data"
    }
   ],
   "source": [
    "import plotly.graph_objects as go\n",
    "\n",
    "labels = ['Oxygen','Hydrogen','Carbon_Dioxide','Nitrogen']\n",
    "values = [4500, 2500, 1053, 500]\n",
    "\n",
    "# pull is given as a fraction of the pie radius\n",
    "fig = go.Figure(data=[go.Pie(labels=labels, values=values)])\n",
    "fig.show()"
   ]
  },
  {
   "cell_type": "code",
   "execution_count": null,
   "metadata": {},
   "outputs": [],
   "source": [
    "def highlight_max(x, color):\n",
    "    return np.where(x == np.nanmax(x.to_numpy()), f\"color: {color};\", None)\n",
    "\n",
    "df_op.style.apply(highlight_max, color='red')  "
   ]
  },
  {
   "cell_type": "code",
   "execution_count": 46,
   "metadata": {},
   "outputs": [
    {
     "data": {
      "text/html": [
       "<style type=\"text/css\">\n",
       "#T_b98a7_row0_col1, #T_b98a7_row1_col0, #T_b98a7_row2_col1, #T_b98a7_row3_col0, #T_b98a7_row4_col1 {\n",
       "  color: blue;\n",
       "}\n",
       "</style>\n",
       "<table id=\"T_b98a7\">\n",
       "  <thead>\n",
       "    <tr>\n",
       "      <th class=\"blank level0\" >&nbsp;</th>\n",
       "      <th id=\"T_b98a7_level0_col0\" class=\"col_heading level0 col0\" >A</th>\n",
       "      <th id=\"T_b98a7_level0_col1\" class=\"col_heading level0 col1\" >B</th>\n",
       "    </tr>\n",
       "  </thead>\n",
       "  <tbody>\n",
       "    <tr>\n",
       "      <th id=\"T_b98a7_level0_row0\" class=\"row_heading level0 row0\" >0</th>\n",
       "      <td id=\"T_b98a7_row0_col0\" class=\"data row0 col0\" >0.137708</td>\n",
       "      <td id=\"T_b98a7_row0_col1\" class=\"data row0 col1\" >1.664778</td>\n",
       "    </tr>\n",
       "    <tr>\n",
       "      <th id=\"T_b98a7_level0_row1\" class=\"row_heading level0 row1\" >1</th>\n",
       "      <td id=\"T_b98a7_row1_col0\" class=\"data row1 col0\" >0.291091</td>\n",
       "      <td id=\"T_b98a7_row1_col1\" class=\"data row1 col1\" >-0.308960</td>\n",
       "    </tr>\n",
       "    <tr>\n",
       "      <th id=\"T_b98a7_level0_row2\" class=\"row_heading level0 row2\" >2</th>\n",
       "      <td id=\"T_b98a7_row2_col0\" class=\"data row2 col0\" >0.031518</td>\n",
       "      <td id=\"T_b98a7_row2_col1\" class=\"data row2 col1\" >0.742429</td>\n",
       "    </tr>\n",
       "    <tr>\n",
       "      <th id=\"T_b98a7_level0_row3\" class=\"row_heading level0 row3\" >3</th>\n",
       "      <td id=\"T_b98a7_row3_col0\" class=\"data row3 col0\" >0.521210</td>\n",
       "      <td id=\"T_b98a7_row3_col1\" class=\"data row3 col1\" >-0.098840</td>\n",
       "    </tr>\n",
       "    <tr>\n",
       "      <th id=\"T_b98a7_level0_row4\" class=\"row_heading level0 row4\" >4</th>\n",
       "      <td id=\"T_b98a7_row4_col0\" class=\"data row4 col0\" >1.048907</td>\n",
       "      <td id=\"T_b98a7_row4_col1\" class=\"data row4 col1\" >2.291942</td>\n",
       "    </tr>\n",
       "  </tbody>\n",
       "</table>\n"
      ],
      "text/plain": [
       "<pandas.io.formats.style.Styler at 0x7f97e0b259d0>"
      ]
     },
     "execution_count": 46,
     "metadata": {},
     "output_type": "execute_result"
    }
   ],
   "source": [
    "df.style.apply(highlight_max, color='blue', axis=1)  "
   ]
  },
  {
   "cell_type": "code",
   "execution_count": 134,
   "metadata": {},
   "outputs": [
    {
     "data": {
      "text/html": [
       "<div>\n",
       "<style scoped>\n",
       "    .dataframe tbody tr th:only-of-type {\n",
       "        vertical-align: middle;\n",
       "    }\n",
       "\n",
       "    .dataframe tbody tr th {\n",
       "        vertical-align: top;\n",
       "    }\n",
       "\n",
       "    .dataframe thead th {\n",
       "        text-align: right;\n",
       "    }\n",
       "</style>\n",
       "<table border=\"1\" class=\"dataframe\">\n",
       "  <thead>\n",
       "    <tr style=\"text-align: right;\">\n",
       "      <th></th>\n",
       "      <th></th>\n",
       "      <th>Quantity</th>\n",
       "      <th>Price</th>\n",
       "    </tr>\n",
       "    <tr>\n",
       "      <th>Market</th>\n",
       "      <th>Ticker</th>\n",
       "      <th></th>\n",
       "      <th></th>\n",
       "    </tr>\n",
       "  </thead>\n",
       "  <tbody>\n",
       "    <tr>\n",
       "      <th>PayPoint PLC</th>\n",
       "      <th>PAY.L</th>\n",
       "      <td>600.0</td>\n",
       "      <td>£3394.00</td>\n",
       "    </tr>\n",
       "    <tr>\n",
       "      <th>Schroders PLC</th>\n",
       "      <th>SDR.L</th>\n",
       "      <td>585.0</td>\n",
       "      <td>£3548.00</td>\n",
       "    </tr>\n",
       "  </tbody>\n",
       "</table>\n",
       "</div>"
      ],
      "text/plain": [
       "                      Quantity     Price\n",
       "Market        Ticker                    \n",
       "PayPoint PLC  PAY.L      600.0  £3394.00\n",
       "Schroders PLC SDR.L      585.0  £3548.00"
      ]
     },
     "execution_count": 134,
     "metadata": {},
     "output_type": "execute_result"
    }
   ],
   "source": [
    "symbols_with_position = df_op[df_op['Quantity'] > 0].index.get_level_values('Ticker').tolist()\n",
    "uk_symbols_with_position = [x for x in symbols_with_position if x[-2:] == '.L']\n",
    "df_op[df_op.index.get_level_values('Ticker').isin(uk_symbols_with_position)][['Quantity','Price']]"
   ]
  },
  {
   "cell_type": "code",
   "execution_count": 145,
   "metadata": {},
   "outputs": [
    {
     "data": {
      "text/html": [
       "<div>\n",
       "<style scoped>\n",
       "    .dataframe tbody tr th:only-of-type {\n",
       "        vertical-align: middle;\n",
       "    }\n",
       "\n",
       "    .dataframe tbody tr th {\n",
       "        vertical-align: top;\n",
       "    }\n",
       "\n",
       "    .dataframe thead th {\n",
       "        text-align: right;\n",
       "    }\n",
       "</style>\n",
       "<table border=\"1\" class=\"dataframe\">\n",
       "  <thead>\n",
       "    <tr style=\"text-align: right;\">\n",
       "      <th></th>\n",
       "      <th></th>\n",
       "      <th>Quantity</th>\n",
       "      <th>Price</th>\n",
       "      <th>Consideration</th>\n",
       "      <th>Commission</th>\n",
       "      <th>Charges</th>\n",
       "      <th>Cost/Proceeds</th>\n",
       "      <th>Conversion rate</th>\n",
       "    </tr>\n",
       "    <tr>\n",
       "      <th>Market</th>\n",
       "      <th>Ticker</th>\n",
       "      <th></th>\n",
       "      <th></th>\n",
       "      <th></th>\n",
       "      <th></th>\n",
       "      <th></th>\n",
       "      <th></th>\n",
       "      <th></th>\n",
       "    </tr>\n",
       "  </thead>\n",
       "  <tbody>\n",
       "    <tr>\n",
       "      <th>PayPoint PLC</th>\n",
       "      <th>PAY.L</th>\n",
       "      <td>600</td>\n",
       "      <td>3394.0</td>\n",
       "      <td>-4225.0</td>\n",
       "      <td>-32.0</td>\n",
       "      <td>-34.41</td>\n",
       "      <td>-4291.41</td>\n",
       "      <td>4.0</td>\n",
       "    </tr>\n",
       "    <tr>\n",
       "      <th>Schroders PLC</th>\n",
       "      <th>SDR.L</th>\n",
       "      <td>585</td>\n",
       "      <td>3548.0</td>\n",
       "      <td>-3548.0</td>\n",
       "      <td>-3.0</td>\n",
       "      <td>-17.74</td>\n",
       "      <td>-3568.74</td>\n",
       "      <td>4.0</td>\n",
       "    </tr>\n",
       "  </tbody>\n",
       "</table>\n",
       "</div>"
      ],
      "text/plain": [
       "                      Quantity   Price  Consideration  Commission  Charges  \\\n",
       "Market        Ticker                                                         \n",
       "PayPoint PLC  PAY.L        600  3394.0        -4225.0       -32.0   -34.41   \n",
       "Schroders PLC SDR.L        585  3548.0        -3548.0        -3.0   -17.74   \n",
       "\n",
       "                      Cost/Proceeds  Conversion rate  \n",
       "Market        Ticker                                  \n",
       "PayPoint PLC  PAY.L        -4291.41              4.0  \n",
       "Schroders PLC SDR.L        -3568.74              4.0  "
      ]
     },
     "execution_count": 145,
     "metadata": {},
     "output_type": "execute_result"
    }
   ],
   "source": [
    "df_uk = df_op[df_op.index.get_level_values('Ticker').isin(uk_symbols_with_position)]\n",
    "df_uk"
   ]
  },
  {
   "cell_type": "code",
   "execution_count": 147,
   "metadata": {},
   "outputs": [
    {
     "data": {
      "text/plain": [
       "Market         Ticker\n",
       "PayPoint PLC   PAY.L     £3,394.00\n",
       "Schroders PLC  SDR.L     £3,548.00\n",
       "Name: Price, dtype: object"
      ]
     },
     "execution_count": 147,
     "metadata": {},
     "output_type": "execute_result"
    }
   ],
   "source": [
    "df_uk = df_uk['Price'].apply(pound_format().format)\n",
    "df_uk"
   ]
  },
  {
   "cell_type": "code",
   "execution_count": null,
   "metadata": {},
   "outputs": [],
   "source": [
    "df_uk = df_uk['Price'].applymap(lambda x: f\"£{x:.2f}\")\n",
    "df_uk"
   ]
  },
  {
   "cell_type": "code",
   "execution_count": 118,
   "metadata": {},
   "outputs": [
    {
     "data": {
      "text/html": [
       "<div>\n",
       "<style scoped>\n",
       "    .dataframe tbody tr th:only-of-type {\n",
       "        vertical-align: middle;\n",
       "    }\n",
       "\n",
       "    .dataframe tbody tr th {\n",
       "        vertical-align: top;\n",
       "    }\n",
       "\n",
       "    .dataframe thead th {\n",
       "        text-align: right;\n",
       "    }\n",
       "</style>\n",
       "<table border=\"1\" class=\"dataframe\">\n",
       "  <thead>\n",
       "    <tr style=\"text-align: right;\">\n",
       "      <th></th>\n",
       "      <th></th>\n",
       "      <th>Price</th>\n",
       "      <th>Cost/Proceeds</th>\n",
       "    </tr>\n",
       "    <tr>\n",
       "      <th>Market</th>\n",
       "      <th>Ticker</th>\n",
       "      <th></th>\n",
       "      <th></th>\n",
       "    </tr>\n",
       "  </thead>\n",
       "  <tbody>\n",
       "    <tr>\n",
       "      <th>3M Co (All Sessions)</th>\n",
       "      <th>MMM</th>\n",
       "      <td>£33,948.00</td>\n",
       "      <td>£-5,654.02</td>\n",
       "    </tr>\n",
       "    <tr>\n",
       "      <th>ANSYS Inc</th>\n",
       "      <th>ANSS</th>\n",
       "      <td>£33,818.00</td>\n",
       "      <td>£-1,945.01</td>\n",
       "    </tr>\n",
       "    <tr>\n",
       "      <th>Barrick Gold Corp (US)</th>\n",
       "      <th>GOLD</th>\n",
       "      <td>£4,866.00</td>\n",
       "      <td>£-1,558.66</td>\n",
       "    </tr>\n",
       "    <tr>\n",
       "      <th>BlackLine Inc</th>\n",
       "      <th>BL</th>\n",
       "      <td>£12,488.00</td>\n",
       "      <td>£-2,763.82</td>\n",
       "    </tr>\n",
       "    <tr>\n",
       "      <th>Blackstone Group LP</th>\n",
       "      <th>BX</th>\n",
       "      <td>£33,268.00</td>\n",
       "      <td>£-2,191.56</td>\n",
       "    </tr>\n",
       "    <tr>\n",
       "      <th>FactSet Research Systems Inc</th>\n",
       "      <th>FDS</th>\n",
       "      <td>£32,800.00</td>\n",
       "      <td>£-2,926.25</td>\n",
       "    </tr>\n",
       "    <tr>\n",
       "      <th>Gilead Sciences Inc (All Sessions)</th>\n",
       "      <th>GILD</th>\n",
       "      <td>£34,490.00</td>\n",
       "      <td>£-4,443.87</td>\n",
       "    </tr>\n",
       "    <tr>\n",
       "      <th>Infrastructure and Energy Alternatives Inc</th>\n",
       "      <th>IEA</th>\n",
       "      <td>£2,706.00</td>\n",
       "      <td>£-2,179.10</td>\n",
       "    </tr>\n",
       "    <tr>\n",
       "      <th>International Seaways Inc</th>\n",
       "      <th>INSW</th>\n",
       "      <td>£16,850.77</td>\n",
       "      <td>£-2,395.57</td>\n",
       "    </tr>\n",
       "    <tr>\n",
       "      <th>Intuitive Surgical Inc</th>\n",
       "      <th>ISRG</th>\n",
       "      <td>£220,840.00</td>\n",
       "      <td>£-10,779.80</td>\n",
       "    </tr>\n",
       "    <tr>\n",
       "      <th>Invesco Ltd</th>\n",
       "      <th>IVZ</th>\n",
       "      <td>£5,016.00</td>\n",
       "      <td>£-5,565.49</td>\n",
       "    </tr>\n",
       "    <tr>\n",
       "      <th>Kopin Corporation</th>\n",
       "      <th>KOPN</th>\n",
       "      <td>£2,557.15</td>\n",
       "      <td>£-2,290.60</td>\n",
       "    </tr>\n",
       "    <tr>\n",
       "      <th>Lam Research Corp</th>\n",
       "      <th>LRCX</th>\n",
       "      <td>£537,080.00</td>\n",
       "      <td>£-12,961.42</td>\n",
       "    </tr>\n",
       "    <tr>\n",
       "      <th>Lumentum Holdings Inc</th>\n",
       "      <th>LITE</th>\n",
       "      <td>£65,576.00</td>\n",
       "      <td>£-1,353.36</td>\n",
       "    </tr>\n",
       "    <tr>\n",
       "      <th>MP Materials Corp</th>\n",
       "      <th>MP</th>\n",
       "      <td>£8,279.00</td>\n",
       "      <td>£-318.10</td>\n",
       "    </tr>\n",
       "    <tr>\n",
       "      <th>Morgan Stanley</th>\n",
       "      <th>MS</th>\n",
       "      <td>£9,788.00</td>\n",
       "      <td>£-3,661.12</td>\n",
       "    </tr>\n",
       "    <tr>\n",
       "      <th>Mosaic Co</th>\n",
       "      <th>MOS</th>\n",
       "      <td>£25,404.00</td>\n",
       "      <td>£-1,856.70</td>\n",
       "    </tr>\n",
       "    <tr>\n",
       "      <th>Okta Inc</th>\n",
       "      <th>OKTA</th>\n",
       "      <td>£72,968.00</td>\n",
       "      <td>£-3,372.07</td>\n",
       "    </tr>\n",
       "    <tr>\n",
       "      <th>PayPoint PLC</th>\n",
       "      <th>PAY.L</th>\n",
       "      <td>£3,394.00</td>\n",
       "      <td>£-4,291.41</td>\n",
       "    </tr>\n",
       "    <tr>\n",
       "      <th>Quidel Corp</th>\n",
       "      <th>QDEL</th>\n",
       "      <td>£29,388.00</td>\n",
       "      <td>£-1,850.18</td>\n",
       "    </tr>\n",
       "    <tr>\n",
       "      <th>Raytheon Technologies Corp (All Sessions)</th>\n",
       "      <th>RTX</th>\n",
       "      <td>£8,788.00</td>\n",
       "      <td>£-1,529.64</td>\n",
       "    </tr>\n",
       "    <tr>\n",
       "      <th>Schroders PLC</th>\n",
       "      <th>SDR.L</th>\n",
       "      <td>£3,548.00</td>\n",
       "      <td>£-3,568.74</td>\n",
       "    </tr>\n",
       "    <tr>\n",
       "      <th>Skillz Inc</th>\n",
       "      <th>SKLZ</th>\n",
       "      <td>£3,088.00</td>\n",
       "      <td>£-3,634.52</td>\n",
       "    </tr>\n",
       "    <tr>\n",
       "      <th>Southwest Airlines Co</th>\n",
       "      <th>LUV</th>\n",
       "      <td>£4,480.00</td>\n",
       "      <td>£-3,385.82</td>\n",
       "    </tr>\n",
       "    <tr>\n",
       "      <th>Tronox Ltd</th>\n",
       "      <th>TROX</th>\n",
       "      <td>£4,636.00</td>\n",
       "      <td>£-3,995.60</td>\n",
       "    </tr>\n",
       "    <tr>\n",
       "      <th>VG Acquisition Corporation (Ord)</th>\n",
       "      <th>ME</th>\n",
       "      <td>£997.00</td>\n",
       "      <td>£-2,118.65</td>\n",
       "    </tr>\n",
       "    <tr>\n",
       "      <th>Veeva Systems Inc</th>\n",
       "      <th>VEEV</th>\n",
       "      <td>£88,668.00</td>\n",
       "      <td>£-6,537.83</td>\n",
       "    </tr>\n",
       "  </tbody>\n",
       "</table>\n",
       "</div>"
      ],
      "text/plain": [
       "                                                         Price Cost/Proceeds\n",
       "Market                                     Ticker                           \n",
       "3M Co (All Sessions)                       MMM      £33,948.00    £-5,654.02\n",
       "ANSYS Inc                                  ANSS     £33,818.00    £-1,945.01\n",
       "Barrick Gold Corp (US)                     GOLD      £4,866.00    £-1,558.66\n",
       "BlackLine Inc                              BL       £12,488.00    £-2,763.82\n",
       "Blackstone Group LP                        BX       £33,268.00    £-2,191.56\n",
       "FactSet Research Systems Inc               FDS      £32,800.00    £-2,926.25\n",
       "Gilead Sciences Inc (All Sessions)         GILD     £34,490.00    £-4,443.87\n",
       "Infrastructure and Energy Alternatives Inc IEA       £2,706.00    £-2,179.10\n",
       "International Seaways Inc                  INSW     £16,850.77    £-2,395.57\n",
       "Intuitive Surgical Inc                     ISRG    £220,840.00   £-10,779.80\n",
       "Invesco Ltd                                IVZ       £5,016.00    £-5,565.49\n",
       "Kopin Corporation                          KOPN      £2,557.15    £-2,290.60\n",
       "Lam Research Corp                          LRCX    £537,080.00   £-12,961.42\n",
       "Lumentum Holdings Inc                      LITE     £65,576.00    £-1,353.36\n",
       "MP Materials Corp                          MP        £8,279.00      £-318.10\n",
       "Morgan Stanley                             MS        £9,788.00    £-3,661.12\n",
       "Mosaic Co                                  MOS      £25,404.00    £-1,856.70\n",
       "Okta Inc                                   OKTA     £72,968.00    £-3,372.07\n",
       "PayPoint PLC                               PAY.L     £3,394.00    £-4,291.41\n",
       "Quidel Corp                                QDEL     £29,388.00    £-1,850.18\n",
       "Raytheon Technologies Corp (All Sessions)  RTX       £8,788.00    £-1,529.64\n",
       "Schroders PLC                              SDR.L     £3,548.00    £-3,568.74\n",
       "Skillz Inc                                 SKLZ      £3,088.00    £-3,634.52\n",
       "Southwest Airlines Co                      LUV       £4,480.00    £-3,385.82\n",
       "Tronox Ltd                                 TROX      £4,636.00    £-3,995.60\n",
       "VG Acquisition Corporation (Ord)           ME          £997.00    £-2,118.65\n",
       "Veeva Systems Inc                          VEEV     £88,668.00    £-6,537.83"
      ]
     },
     "execution_count": 118,
     "metadata": {},
     "output_type": "execute_result"
    }
   ],
   "source": [
    "df_op[df_op['Quantity']>0][['Price','Cost/Proceeds']].applymap(pound_format().format)"
   ]
  },
  {
   "cell_type": "code",
   "execution_count": 148,
   "metadata": {},
   "outputs": [
    {
     "name": "stdout",
     "output_type": "stream",
     "text": [
      "two, x*2= 4\n"
     ]
    }
   ],
   "source": [
    "# call functions using dictionary\n",
    "def do_one(x):\n",
    "  print(\"one, x*1=\", x)\n",
    "def do_two(x):\n",
    "  print(\"two, x*2=\", 2*x)\n",
    "def do_three(x):\n",
    "  print(\"three, x*3=\", 3*x)\n",
    "def do_default(x):\n",
    "  print(\"default, x/2=\", x/2)\n",
    "\n",
    "x=2\n",
    "if x==1:\n",
    "  do_one(x)\n",
    "elif x==2:\n",
    "  do_two(x)\n",
    "elif x==3:\n",
    "  do_three(x)\n",
    "else:\n",
    "  do_default(x)"
   ]
  },
  {
   "cell_type": "code",
   "execution_count": 149,
   "metadata": {},
   "outputs": [
    {
     "name": "stdout",
     "output_type": "stream",
     "text": [
      "two, x*2= 4\n"
     ]
    }
   ],
   "source": [
    "action = {1: do_one, 2: do_two, 3: do_three}\n",
    "actions = action.get(x, do_default)\n",
    "actions(x)"
   ]
  },
  {
   "cell_type": "code",
   "execution_count": 158,
   "metadata": {},
   "outputs": [
    {
     "name": "stdout",
     "output_type": "stream",
     "text": [
      "two, x*2= 10\n"
     ]
    }
   ],
   "source": [
    "action.get(2, do_default)(5)"
   ]
  },
  {
   "cell_type": "code",
   "execution_count": null,
   "metadata": {},
   "outputs": [],
   "source": []
  }
 ],
 "metadata": {
  "kernelspec": {
   "display_name": "Python 3.10.4 64-bit",
   "language": "python",
   "name": "python3"
  },
  "language_info": {
   "codemirror_mode": {
    "name": "ipython",
    "version": 3
   },
   "file_extension": ".py",
   "mimetype": "text/x-python",
   "name": "python",
   "nbconvert_exporter": "python",
   "pygments_lexer": "ipython3",
   "version": "3.8.10"
  },
  "orig_nbformat": 4,
  "vscode": {
   "interpreter": {
    "hash": "916dbcbb3f70747c44a77c7bcd40155683ae19c65e1c03b4aa3499c5328201f1"
   }
  }
 },
 "nbformat": 4,
 "nbformat_minor": 2
}

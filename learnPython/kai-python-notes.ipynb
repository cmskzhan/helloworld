{
  "cells": [
    {
      "cell_type": "markdown",
      "metadata": {
        "id": "v9xlJ9LAuFys"
      },
      "source": [
        "# Strings"
      ]
    },
    {
      "cell_type": "markdown",
      "metadata": {
        "id": "S-ck6RmUuFy5"
      },
      "source": [
        "## bytes, Strings, encoding, decoding, utf-8, utf-32"
      ]
    },
    {
      "cell_type": "code",
      "execution_count": null,
      "metadata": {
        "id": "zsfyqYw3uFy7",
        "outputId": "6f1c7437-4ff4-4332-ab94-f2f8807e3695"
      },
      "outputs": [
        {
          "name": "stdout",
          "output_type": "stream",
          "text": [
            "b'ABCD'\n",
            "ABCD normal string\n"
          ]
        }
      ],
      "source": [
        "b = bytes([0x41, 0x42, 0x43, 0x44])\n",
        "print(b)\n",
        "s = \"normal string\"\n",
        "    # Try combining them print(s+b). This will cause an error\n",
        "    # decode the bytes to utf-8 first\n",
        "print(b.decode('utf-8')+\" \"+s)"
      ]
    },
    {
      "cell_type": "code",
      "execution_count": null,
      "metadata": {
        "id": "o6V_kTSruFzA",
        "outputId": "a3bc1229-1c96-41f5-e959-a9ea44ae6c86"
      },
      "outputs": [
        {
          "data": {
            "text/plain": [
              "b'ABCDnormal string'"
            ]
          },
          "execution_count": 2,
          "metadata": {},
          "output_type": "execute_result"
        }
      ],
      "source": [
        "#or encode the string to byte, bytes can concate \n",
        "bb = b + s.encode('UTF-8')\n",
        "bb"
      ]
    },
    {
      "cell_type": "code",
      "execution_count": null,
      "metadata": {
        "id": "0NCPAYCJuFzC",
        "outputId": "86889cb2-fd71-4550-cc0b-e96100040d30"
      },
      "outputs": [
        {
          "name": "stdout",
          "output_type": "stream",
          "text": [
            "b'\\xff\\xfe\\x00\\x00n\\x00\\x00\\x00o\\x00\\x00\\x00r\\x00\\x00\\x00m\\x00\\x00\\x00a\\x00\\x00\\x00l\\x00\\x00\\x00 \\x00\\x00\\x00s\\x00\\x00\\x00t\\x00\\x00\\x00r\\x00\\x00\\x00i\\x00\\x00\\x00n\\x00\\x00\\x00g\\x00\\x00\\x00'\n"
          ]
        }
      ],
      "source": [
        "# encode the string as UTF-32\n",
        "b3 = s.encode('utf-32')\n",
        "print(b3)"
      ]
    },
    {
      "cell_type": "markdown",
      "metadata": {
        "id": "36eMLLKKuFzF"
      },
      "source": [
        "## format, template, substitute"
      ]
    },
    {
      "cell_type": "code",
      "execution_count": null,
      "metadata": {
        "id": "fhGxjdAAuFzG",
        "outputId": "cd91a855-5aea-4d39-8b27-a0830f7b31b7"
      },
      "outputs": [
        {
          "data": {
            "text/plain": [
              "\"You're watching Advanced Python by Joe Marini\""
            ]
          },
          "execution_count": 4,
          "metadata": {},
          "output_type": "execute_result"
        }
      ],
      "source": [
        "str1 = \"You're watching {0} by {1}\".format(\"Advanced Python\", \"Joe Marini\")\n",
        "str1"
      ]
    },
    {
      "cell_type": "code",
      "execution_count": null,
      "metadata": {
        "id": "N5vzueNduFzJ",
        "outputId": "93e14eb3-ede7-4507-f7bc-8392c2b53445"
      },
      "outputs": [
        {
          "name": "stdout",
          "output_type": "stream",
          "text": [
            "You're watching Advanced Python by Joe Marini\n"
          ]
        }
      ],
      "source": [
        "from string import Template\n",
        "# create a template with placeholders\n",
        "templ = Template(\"You're watching ${title} by ${author}\")\n",
        "\n",
        "# use the substitute method with keyword arguments\n",
        "str2 = templ.substitute(title=\"Advanced Python\", author=\"Joe Marini\")\n",
        "print(str2)"
      ]
    },
    {
      "cell_type": "code",
      "execution_count": null,
      "metadata": {
        "id": "Yeil6WJquFzL",
        "outputId": "dedfc39f-076e-4256-9b39-3a58afc203ef"
      },
      "outputs": [
        {
          "name": "stdout",
          "output_type": "stream",
          "text": [
            "You're watching Advanced Python by Joe Marini\n"
          ]
        }
      ],
      "source": [
        "# use the substitute method with a dictionary\n",
        "data = { \n",
        "    \"author\": \"Joe Marini\",\n",
        "    \"title\": \"Advanced Python\"\n",
        "}\n",
        "str3 = templ.substitute(data)    \n",
        "print(str3)"
      ]
    },
    {
      "cell_type": "markdown",
      "metadata": {
        "id": "2wMcGoXiv5Wd"
      },
      "source": [
        "# List"
      ]
    },
    {
      "cell_type": "markdown",
      "metadata": {
        "id": "1Rg3XlRswQnH"
      },
      "source": [
        "## iterator, enumerate, zip"
      ]
    },
    {
      "cell_type": "code",
      "execution_count": null,
      "metadata": {
        "colab": {
          "base_uri": "https://localhost:8080/"
        },
        "id": "E1Yh_6RPwHsk",
        "outputId": "58d6a932-876b-468c-fe89-dc0ac65f0a2d"
      },
      "outputs": [
        {
          "name": "stdout",
          "output_type": "stream",
          "text": [
            "<class 'list_iterator'>\n",
            "Sun\n",
            "Mon\n",
            "Tue\n"
          ]
        }
      ],
      "source": [
        "days = [\"Sun\", \"Mon\", \"Tue\", \"Wed\", \"Thu\", \"Fri\", \"Sat\"]\n",
        "daysFr = [\"Dim\", \"Lun\", \"Mar\", \"Mer\", \"Jeu\", \"Ven\", \"Sam\"]\n",
        "\n",
        "# use iter to create an iterator over a collection\n",
        "i = iter(days)\n",
        "print(type(i))\n",
        "print(next(i))  # Sun\n",
        "print(next(i))  # Mon\n",
        "print(next(i))  # Tue\n",
        "\n"
      ]
    },
    {
      "cell_type": "code",
      "execution_count": null,
      "metadata": {
        "colab": {
          "base_uri": "https://localhost:8080/"
        },
        "id": "8VEw_WZAwdAb",
        "outputId": "76be4102-930a-4126-db38-bc7fb426a8da"
      },
      "outputs": [
        {
          "name": "stdout",
          "output_type": "stream",
          "text": [
            "use regular interation over the days\n",
            "1 Sun\n",
            "2 Mon\n",
            "3 Tue\n",
            "4 Wed\n",
            "5 Thu\n",
            "6 Fri\n",
            "7 Sat\n",
            "using enumerate reduces code and provides a counter\n",
            "1 Sun\n",
            "2 Mon\n",
            "3 Tue\n",
            "4 Wed\n",
            "5 Thu\n",
            "6 Fri\n",
            "7 Sat\n"
          ]
        }
      ],
      "source": [
        "# iterate using a function and a sentinel\n",
        "# with open(\"testfile.txt\", \"r\") as fp:\n",
        "#     for line in iter(fp.readline, ''):\n",
        "#         print(line)\n",
        "\n",
        "print(\"use regular interation over the days\")\n",
        "for m in range(len(days)):\n",
        "    print(m+1, days[m])\n",
        "\n",
        "print(\"using enumerate reduces code and provides a counter\")\n",
        "for i, m in enumerate(days, start=1):\n",
        "    print(i, m)"
      ]
    },
    {
      "cell_type": "code",
      "execution_count": null,
      "metadata": {
        "colab": {
          "base_uri": "https://localhost:8080/"
        },
        "id": "EP4I-LBYx34w",
        "outputId": "74651b94-7a3e-4810-801a-174f97bb0630"
      },
      "outputs": [
        {
          "name": "stdout",
          "output_type": "stream",
          "text": [
            "use zip to combine sequences\n",
            "('Sun', 'Dim')\n",
            "('Mon', 'Lun')\n",
            "('Tue', 'Mar')\n",
            "('Wed', 'Mer')\n",
            "('Thu', 'Jeu')\n",
            "('Fri', 'Ven')\n",
            "('Sat', 'Sam')\n",
            "zipped list type is:  <class 'tuple'>\n",
            "[('Sun', 'Dim'), ('Mon', 'Lun'), ('Tue', 'Mar'), ('Wed', 'Mer'), ('Thu', 'Jeu'), ('Fri', 'Ven'), ('Sat', 'Sam')]\n",
            "enumerate the tuples\n",
            "1 Sun = Dim in French\n",
            "2 Mon = Lun in French\n",
            "3 Tue = Mar in French\n",
            "4 Wed = Mer in French\n",
            "5 Thu = Jeu in French\n",
            "6 Fri = Ven in French\n",
            "7 Sat = Sam in French\n"
          ]
        }
      ],
      "source": [
        "print(\"use zip to combine sequences\") \n",
        "for m in zip(days, daysFr):\n",
        "    print(m)\n",
        "\n",
        "print(\"zipped list type is: \", type(m))\n",
        "\n",
        "print(list(zip(days, daysFr)))\n",
        "\n",
        "print(\"enumerate the tuples\")\n",
        "for i, m in enumerate(zip(days, daysFr), start=1):\n",
        "    print(i, m[0], \"=\", m[1], \"in French\")"
      ]
    },
    {
      "cell_type": "markdown",
      "metadata": {
        "id": "XMDwivR2z0HR"
      },
      "source": [
        "## itertools cycle, count, compress, accumulate, chain, dropwhile, takewhile"
      ]
    },
    {
      "cell_type": "code",
      "execution_count": null,
      "metadata": {
        "colab": {
          "base_uri": "https://localhost:8080/"
        },
        "id": "OeYsv9J2wvTT",
        "outputId": "0667dde2-fc4d-4cd7-b80c-0e6db4be46d9"
      },
      "outputs": [
        {
          "name": "stdout",
          "output_type": "stream",
          "text": [
            "Joe\n",
            "John\n",
            "Mike\n",
            "Joe\n"
          ]
        }
      ],
      "source": [
        "import itertools\n",
        "seq1 = [\"Joe\", \"John\", \"Mike\"]\n",
        "cycle1 = itertools.cycle(seq1)\n",
        "print(next(cycle1))\n",
        "print(next(cycle1))\n",
        "print(next(cycle1))\n",
        "print(next(cycle1))"
      ]
    },
    {
      "cell_type": "code",
      "execution_count": null,
      "metadata": {
        "colab": {
          "base_uri": "https://localhost:8080/"
        },
        "id": "TdMw_WvWzJuu",
        "outputId": "e7785deb-30ea-4ffa-92bd-96891d49ca3c"
      },
      "outputs": [
        {
          "name": "stdout",
          "output_type": "stream",
          "text": [
            "100\n",
            "110\n",
            "120\n"
          ]
        }
      ],
      "source": [
        "# use count to create a simple counter\n",
        "count1 = itertools.count(100, 10)\n",
        "print(next(count1))\n",
        "print(next(count1))\n",
        "print(next(count1))"
      ]
    },
    {
      "cell_type": "code",
      "execution_count": null,
      "metadata": {
        "colab": {
          "base_uri": "https://localhost:8080/"
        },
        "id": "3dbi4kKh0FVo",
        "outputId": "55741a44-8acc-45cb-d119-5e175868dad3"
      },
      "outputs": [
        {
          "name": "stdout",
          "output_type": "stream",
          "text": [
            "[10, 20, 30, 40, 50, 50, 50]\n"
          ]
        }
      ],
      "source": [
        "# accumulate creates an iterator that accumulates values\n",
        "vals = [10,20,30,40,50,40,30]\n",
        "acc = itertools.accumulate(vals, max)\n",
        "print(list(acc))"
      ]
    },
    {
      "cell_type": "code",
      "execution_count": null,
      "metadata": {
        "colab": {
          "base_uri": "https://localhost:8080/"
        },
        "id": "gGVuFQ_w0Xx5",
        "outputId": "b2874eb0-8f3a-45e5-e0b5-7b80078c2717"
      },
      "outputs": [
        {
          "name": "stdout",
          "output_type": "stream",
          "text": [
            "['A', 'B', 'C', 'D', '1', '2', '3', '4']\n"
          ]
        }
      ],
      "source": [
        "# use chain to connect sequences together\n",
        "x = itertools.chain(\"ABCD\", \"1234\")\n",
        "print(list(x))"
      ]
    },
    {
      "cell_type": "code",
      "execution_count": null,
      "metadata": {
        "colab": {
          "base_uri": "https://localhost:8080/"
        },
        "id": "a_rvIb4pMl8v",
        "outputId": "54d93eac-0228-4b4a-e0bd-983dcaf67653"
      },
      "outputs": [
        {
          "data": {
            "text/plain": [
              "[1, 4]"
            ]
          },
          "execution_count": 14,
          "metadata": {},
          "output_type": "execute_result"
        }
      ],
      "source": [
        "# filter a list by another boolean list\n",
        "list_a = [1, 2, 4, 6]\n",
        "filterlist = [True, False, True, False]\n",
        "list(itertools.compress(list_a, filterlist))\n"
      ]
    },
    {
      "cell_type": "code",
      "execution_count": null,
      "metadata": {
        "colab": {
          "base_uri": "https://localhost:8080/"
        },
        "id": "FFYZchMr01W9",
        "outputId": "d651af75-7837-410c-8ed4-e6b8c5bf27fd"
      },
      "outputs": [
        {
          "name": "stdout",
          "output_type": "stream",
          "text": [
            "[40, 50, 40, 30]\n",
            "[10, 20, 30]\n"
          ]
        }
      ],
      "source": [
        "def lessThan40(x):\n",
        "    return x < 40\n",
        "\n",
        "# dropwhile and takewhile will return values until a certain condition is met that stops them\n",
        "print(list(itertools.dropwhile(lessThan40, vals)))\n",
        "print(list(itertools.takewhile(lessThan40, vals)))"
      ]
    },
    {
      "cell_type": "markdown",
      "metadata": {
        "id": "X2kMdcRiKANm"
      },
      "source": [
        "## filter, map, sorted"
      ]
    },
    {
      "cell_type": "markdown",
      "metadata": {
        "id": "-eHDY42vhhAP"
      },
      "source": [
        "filter and map use function to transform list values. Map does one to one (or one to two, one to three mappings), filter use true/false to filter list"
      ]
    },
    {
      "cell_type": "markdown",
      "metadata": {
        "id": "nSdMSgH7ohBL"
      },
      "source": [
        "### filter"
      ]
    },
    {
      "cell_type": "code",
      "execution_count": null,
      "metadata": {
        "colab": {
          "base_uri": "https://localhost:8080/"
        },
        "id": "oCDLOPEdKO2Y",
        "outputId": "6a02151f-64ed-4a3e-e26e-d4cd82a97513"
      },
      "outputs": [
        {
          "data": {
            "text/plain": [
              "[1, 5, 13, 381]"
            ]
          },
          "execution_count": 16,
          "metadata": {},
          "output_type": "execute_result"
        }
      ],
      "source": [
        "# filter(function, iterable) https://docs.python.org/3/library/functions.html\n",
        "\n",
        "def filterOdd(x):\n",
        "    if x % 2 == 0:\n",
        "        return False\n",
        "    return True\n",
        "\n",
        "nums = (1, 8, 4, 5, 13, 26, 381, 410, 58)\n",
        "\n",
        "list(filter(filterOdd, nums))"
      ]
    },
    {
      "cell_type": "code",
      "execution_count": null,
      "metadata": {
        "colab": {
          "base_uri": "https://localhost:8080/"
        },
        "id": "NJb1rm1lLwBS",
        "outputId": "10de317d-dfb3-4245-9c0e-7c29f30f19d3"
      },
      "outputs": [
        {
          "data": {
            "text/plain": [
              "['D', 'F', 'G', 'H', 'J', 'P']"
            ]
          },
          "execution_count": 17,
          "metadata": {},
          "output_type": "execute_result"
        }
      ],
      "source": [
        "def filterUpper(x):\n",
        "  if x.isupper():\n",
        "    return True\n",
        "  else:\n",
        "    return False\n",
        "\n",
        "chars = \"abcDeFGHiJklmnoP\"\n",
        "\n",
        "list(filter(filterUpper, chars))"
      ]
    },
    {
      "cell_type": "markdown",
      "metadata": {
        "id": "3ZgAKThionId"
      },
      "source": [
        "### simple map"
      ]
    },
    {
      "cell_type": "code",
      "execution_count": null,
      "metadata": {
        "colab": {
          "base_uri": "https://localhost:8080/"
        },
        "id": "KhAxwR-ng1h6",
        "outputId": "cfb6da75-4f84-407c-ed05-55a4ab6f380d"
      },
      "outputs": [
        {
          "data": {
            "text/plain": [
              "[1, 64, 16, 25, 169, 676, 145161, 168100, 3364]"
            ]
          },
          "execution_count": 18,
          "metadata": {},
          "output_type": "execute_result"
        }
      ],
      "source": [
        "def square(x):\n",
        "  return x*x\n",
        "\n",
        "list(map(square, nums)) # list comprehension alterative [square(x) for x in nums]"
      ]
    },
    {
      "cell_type": "code",
      "execution_count": null,
      "metadata": {
        "colab": {
          "base_uri": "https://localhost:8080/"
        },
        "id": "c1ASAH6_h0gL",
        "outputId": "5727f983-b104-41f6-e6e3-59449adf1f5c"
      },
      "outputs": [
        {
          "data": {
            "text/plain": [
              "[97, 98, 99, 68, 101, 70, 71, 72, 105, 74, 107, 108, 109, 110, 111, 80]"
            ]
          },
          "execution_count": 19,
          "metadata": {},
          "output_type": "execute_result"
        }
      ],
      "source": [
        "# use built-in function to map\n",
        "list(map(ord, chars))"
      ]
    },
    {
      "cell_type": "code",
      "execution_count": null,
      "metadata": {
        "colab": {
          "base_uri": "https://localhost:8080/"
        },
        "id": "s-e34FwniG7V",
        "outputId": "e0f4bd6f-aa2c-477a-987c-2dcd1d67fb04"
      },
      "outputs": [
        {
          "data": {
            "text/plain": [
              "[1, 1, 1, 1, 1, 1, 1, 1, 1, 1, 1, 1, 1, 1, 1, 1]"
            ]
          },
          "execution_count": 20,
          "metadata": {},
          "output_type": "execute_result"
        }
      ],
      "source": [
        "list(map(len, chars))"
      ]
    },
    {
      "cell_type": "markdown",
      "metadata": {
        "id": "dw6jJnibigNh"
      },
      "source": [
        "map one to two"
      ]
    },
    {
      "cell_type": "code",
      "execution_count": null,
      "metadata": {
        "colab": {
          "base_uri": "https://localhost:8080/"
        },
        "id": "Gt6fd8_CiTrH",
        "outputId": "391d3f5c-1f5d-4df1-d643-1c6c312d5250"
      },
      "outputs": [
        {
          "data": {
            "text/plain": [
              "[1, 8, 64]"
            ]
          },
          "execution_count": 21,
          "metadata": {},
          "output_type": "execute_result"
        }
      ],
      "source": [
        "powerIndex=[2,1,3]\n",
        "list(map(pow, nums, powerIndex)) #The final iterable is only as long as the shortest iterable"
      ]
    },
    {
      "cell_type": "markdown",
      "metadata": {
        "id": "z6EfiCvti9CH"
      },
      "source": [
        "### lambda and function map"
      ]
    },
    {
      "cell_type": "code",
      "execution_count": null,
      "metadata": {
        "colab": {
          "base_uri": "https://localhost:8080/"
        },
        "id": "eT47P1EBivwr",
        "outputId": "95383a6e-bf1b-4f67-f98f-b89a5b9d2268"
      },
      "outputs": [
        {
          "data": {
            "text/plain": [
              "[1, 1, 1]"
            ]
          },
          "execution_count": 22,
          "metadata": {},
          "output_type": "execute_result"
        }
      ],
      "source": [
        "list(map(lambda x, y: x - y, [2, 4, 6], [1, 3, 5]))"
      ]
    },
    {
      "cell_type": "code",
      "execution_count": null,
      "metadata": {
        "colab": {
          "base_uri": "https://localhost:8080/"
        },
        "id": "jhlh09s_jHUm",
        "outputId": "faf13da0-a3dc-400d-fbf2-1402429bbe31"
      },
      "outputs": [
        {
          "data": {
            "text/plain": [
              "[10, 15]"
            ]
          },
          "execution_count": 23,
          "metadata": {},
          "output_type": "execute_result"
        }
      ],
      "source": [
        "list(map(lambda x, y, z: x + y + z, [2, 4], [1, 3], [7, 8]))"
      ]
    },
    {
      "cell_type": "code",
      "execution_count": null,
      "metadata": {
        "colab": {
          "base_uri": "https://localhost:8080/"
        },
        "id": "aJ6FBJ7Jqc2-",
        "outputId": "4bd50834-dc4b-471e-93e0-4ae9484b2795"
      },
      "outputs": [
        {
          "data": {
            "text/plain": [
              "[(1, 1, 1), (64, 512, 4096), (16, 64, 256)]"
            ]
          },
          "execution_count": 24,
          "metadata": {},
          "output_type": "execute_result"
        }
      ],
      "source": [
        "def powers(x):\n",
        "  return x**2, x**3, x**4\n",
        "\n",
        "list(map(powers, nums[0:3]))"
      ]
    },
    {
      "cell_type": "markdown",
      "metadata": {
        "id": "1XRbE4eMjl-U"
      },
      "source": [
        "string list manipulation: strip, split, sub with built-in str functions"
      ]
    },
    {
      "cell_type": "code",
      "execution_count": null,
      "metadata": {
        "colab": {
          "base_uri": "https://localhost:8080/"
        },
        "id": "vxn98mYijJzl",
        "outputId": "e84e808a-eb20-48af-ff30-efd667b6108f"
      },
      "outputs": [
        {
          "data": {
            "text/plain": [
              "['processing', 'strings', 'with', 'map']"
            ]
          },
          "execution_count": 25,
          "metadata": {},
          "output_type": "execute_result"
        }
      ],
      "source": [
        "with_spaces = [\"processing \", \"  strings\", \"with   \", \" map   \"]\n",
        "list(map(str.strip, with_spaces))"
      ]
    },
    {
      "cell_type": "code",
      "execution_count": null,
      "metadata": {
        "id": "TtRcXPRKpXFM",
        "outputId": "c32e7ddc-14dd-4296-d2a8-4da2d96cfe22"
      },
      "outputs": [
        {
          "data": {
            "text/plain": [
              "['processing', 'strings', 'with', 'map']"
            ]
          },
          "execution_count": 26,
          "metadata": {},
          "output_type": "execute_result"
        }
      ],
      "source": [
        "# use lambda to strip other symbols\n",
        "with_dots = [\"processing..\", \"...strings\", \"with....\", \"..map..\"]\n",
        "list(map(lambda s: s.strip(\".\"), with_dots))"
      ]
    },
    {
      "cell_type": "code",
      "execution_count": null,
      "metadata": {
        "colab": {
          "base_uri": "https://localhost:8080/"
        },
        "id": "KnTaYj3imFq2",
        "outputId": "156ebb88-643a-4c1d-fd7b-d480b52c9fec"
      },
      "outputs": [
        {
          "data": {
            "text/plain": [
              "['Some',\n",
              " 'people,',\n",
              " 'when',\n",
              " 'confronted',\n",
              " 'with',\n",
              " 'a',\n",
              " 'problem,',\n",
              " 'think',\n",
              " '\"I',\n",
              " 'know,',\n",
              " \"I'll\",\n",
              " 'use',\n",
              " 'regular',\n",
              " 'expressions.\"',\n",
              " 'Now',\n",
              " 'they',\n",
              " 'have',\n",
              " 'two',\n",
              " 'problems.',\n",
              " 'Jamie',\n",
              " 'Zawinski']"
            ]
          },
          "execution_count": 27,
          "metadata": {},
          "output_type": "execute_result"
        }
      ],
      "source": [
        "#split text to word list, then remove punctuation (a list of symbols) use re.sub\n",
        "text = \"\"\"Some people, when confronted with a problem, think\n",
        "\"I know, I'll use regular expressions.\"\n",
        "Now they have two problems. Jamie Zawinski\"\"\"\n",
        "\n",
        "words = text.split()\n",
        "words"
      ]
    },
    {
      "cell_type": "code",
      "execution_count": null,
      "metadata": {
        "colab": {
          "base_uri": "https://localhost:8080/"
        },
        "id": "cLL9YNU5mVH1",
        "outputId": "7994af1a-42c9-4e64-e07c-2b7c65ca3b72"
      },
      "outputs": [
        {
          "data": {
            "text/plain": [
              "['Some',\n",
              " 'people',\n",
              " 'when',\n",
              " 'confronted',\n",
              " 'with',\n",
              " 'a',\n",
              " 'problem',\n",
              " 'think',\n",
              " 'I',\n",
              " 'know',\n",
              " \"I'll\",\n",
              " 'use',\n",
              " 'regular',\n",
              " 'expressions',\n",
              " 'Now',\n",
              " 'they',\n",
              " 'have',\n",
              " 'two',\n",
              " 'problems',\n",
              " 'Jamie',\n",
              " 'Zawinski']"
            ]
          },
          "execution_count": 28,
          "metadata": {},
          "output_type": "execute_result"
        }
      ],
      "source": [
        "# remove punctuation use re.sub\n",
        "import re\n",
        "def remove_punctuation(word):\n",
        "      return re.sub(r'[!?.:;,\"()-]', \"\", word)\n",
        "\n",
        "list(map(remove_punctuation, words))"
      ]
    },
    {
      "cell_type": "markdown",
      "metadata": {
        "id": "0sfbmyrJppnq"
      },
      "source": [
        "### Caesar Cipher an example"
      ]
    },
    {
      "cell_type": "markdown",
      "metadata": {
        "id": "5GRpm2d-psQn"
      },
      "source": [
        "*   Original alphabet: abcdefghijklmnopqrstuvwxyz\n",
        "*   Alphabet rotated by three: defghijklmnopqrstuvwxyzabc"
      ]
    },
    {
      "cell_type": "code",
      "execution_count": null,
      "metadata": {
        "id": "8x0qC9r5kbD4"
      },
      "outputs": [],
      "source": [
        "def rotate_chr(c):\n",
        "    rot_by = 3\n",
        "    c = c.lower()\n",
        "    alphabet = \"abcdefghijklmnopqrstuvwxyz\"\n",
        "    # Keep punctuation and whitespace\n",
        "    if c not in alphabet:\n",
        "        return c\n",
        "    rotated_pos = ord(c) + rot_by\n",
        "    # If the rotation is inside the alphabet\n",
        "    if rotated_pos <= ord(alphabet[-1]):\n",
        "        return chr(rotated_pos)\n",
        "    # If the rotation goes beyond the alphabet\n",
        "    return chr(rotated_pos - len(alphabet))"
      ]
    },
    {
      "cell_type": "code",
      "execution_count": null,
      "metadata": {
        "colab": {
          "base_uri": "https://localhost:8080/",
          "height": 35
        },
        "id": "PLqJU1zLpoNT",
        "outputId": "2a6b9d19-8ea4-4d60-ec40-b8d5de3a3722"
      },
      "outputs": [
        {
          "data": {
            "text/plain": [
              "'pb vhfuhw phvvdjh jrhv khuh.'"
            ]
          },
          "execution_count": 30,
          "metadata": {},
          "output_type": "execute_result"
        }
      ],
      "source": [
        "\"\".join(map(rotate_chr, \"My secret message goes here.\"))"
      ]
    },
    {
      "cell_type": "markdown",
      "metadata": {
        "id": "FPsOoruuxxVt"
      },
      "source": [
        "## function parameter"
      ]
    },
    {
      "cell_type": "code",
      "execution_count": null,
      "metadata": {
        "colab": {
          "base_uri": "https://localhost:8080/"
        },
        "id": "XNMbUtDpsd0i",
        "outputId": "071adcc5-47ad-4b75-952d-a98ac2df5787"
      },
      "outputs": [
        {
          "name": "stdout",
          "output_type": "stream",
          "text": [
            "45\n"
          ]
        }
      ],
      "source": [
        "def addition(base, *args):\n",
        "    result = 0\n",
        "    for arg in args:\n",
        "        result += arg\n",
        "\n",
        "    return result\n",
        "\n",
        "print(addition(5, 10, 15, 20))"
      ]
    },
    {
      "cell_type": "code",
      "execution_count": null,
      "metadata": {
        "colab": {
          "base_uri": "https://localhost:8080/"
        },
        "id": "mJZu4ChpxhtU",
        "outputId": "ceed3c69-dbbe-426a-8b40-7018cd4c2920"
      },
      "outputs": [
        {
          "name": "stdout",
          "output_type": "stream",
          "text": [
            "0\n",
            "45\n"
          ]
        }
      ],
      "source": [
        "myNums = [5, 10, 15, 20]\n",
        "print(addition(myNums))\n",
        "print(addition(*myNums))"
      ]
    },
    {
      "cell_type": "markdown",
      "metadata": {
        "id": "_Ul0tcaRasmu"
      },
      "source": [
        "## Collections"
      ]
    },
    {
      "cell_type": "markdown",
      "metadata": {
        "id": "-GZnNkJ0buLf"
      },
      "source": [
        "counter"
      ]
    },
    {
      "cell_type": "code",
      "execution_count": null,
      "metadata": {
        "colab": {
          "base_uri": "https://localhost:8080/"
        },
        "id": "S52PdRAnbbf7",
        "outputId": "b85567ea-ee5a-480b-e82e-60faf798d722"
      },
      "outputs": [
        {
          "name": "stdout",
          "output_type": "stream",
          "text": [
            "2\n",
            "12 students in class 1\n",
            "24 students in class 1 and 2\n",
            "[('James', 3), ('Frank', 2), ('Bob', 1)]\n",
            "[('James', 2)]\n",
            "Counter({'James': 1, 'Frank': 1})\n"
          ]
        }
      ],
      "source": [
        "import collections\n",
        "\n",
        "class1 = [\"Bob\", \"James\", \"Chad\", \"Darcy\", \"Penny\", \"Hannah\", \"Kevin\", \"James\", \"Melanie\", \"Becky\", \"Steve\", \"Frank\"]\n",
        "\n",
        "# list of students in class 2\n",
        "class2 = [\"Bill\", \"Barry\", \"Cindy\", \"Debbie\", \"Frank\", \"Gabby\", \"Kelly\", \"James\", \"Joe\", \"Sam\", \"Tara\", \"Ziggy\"]\n",
        "\n",
        "# Create a Counter for class1 and class2\n",
        "c1 = collections.Counter(class1)\n",
        "c2 = collections.Counter(class2)\n",
        "\n",
        "# How many students in class 1 named James?\n",
        "print(c1[\"James\"])\n",
        "\n",
        "# How many students are in class 1?\n",
        "print(sum(c1.values()), \"students in class 1\")\n",
        "\n",
        "# Combine the two classes\n",
        "c1.update(class2)\n",
        "print(sum(c1.values()), \"students in class 1 and 2\")\n",
        "\n",
        "# What's the most common name in the two classes?\n",
        "print(c1.most_common(3))\n",
        "\n",
        "# Separate the classes again\n",
        "c1.subtract(class2)\n",
        "print(c1.most_common(1))\n",
        "\n",
        "# What's common between the two classes?\n",
        "print(c1 & c2)"
      ]
    },
    {
      "cell_type": "markdown",
      "metadata": {
        "id": "RM1sm3v5cSNl"
      },
      "source": [
        "deque objects are like double-ended queues"
      ]
    },
    {
      "cell_type": "code",
      "execution_count": null,
      "metadata": {
        "colab": {
          "base_uri": "https://localhost:8080/"
        },
        "id": "hWyaL6Aqb-wZ",
        "outputId": "ce412b39-6c4a-4e59-9c49-8d88d05d2c72"
      },
      "outputs": [
        {
          "name": "stdout",
          "output_type": "stream",
          "text": [
            "d has 26 lower case letters\n",
            "A,B,C,D,E,F,G,H,I,J,K,L,M,N,O,P,Q,R,S,T,U,V,W,X,Y,Z,\n",
            "deque([1, 'b', 'c', 'd', 'e', 'f', 'g', 'h', 'i', 'j', 'k', 'l', 'm', 'n', 'o', 'p', 'q', 'r', 's', 't', 'u', 'v', 'w', 'x', 'y', 2])\n",
            "deque([1, 'b', 'c', 'd', 'e', 'f', 'g', 'h', 'i', 'j', 'k', 'l', 'm', 'n', 'o', 'p', 'q', 'r', 's', 't', 'u', 'v', 'w', 'x', 'y', 2])\n",
            "deque([2, 1, 'b', 'c', 'd', 'e', 'f', 'g', 'h', 'i', 'j', 'k', 'l', 'm', 'n', 'o', 'p', 'q', 'r', 's', 't', 'u', 'v', 'w', 'x', 'y'])\n"
          ]
        }
      ],
      "source": [
        "# initialize a deque with lowercase letters\n",
        "import string\n",
        "d = collections.deque(string.ascii_lowercase)\n",
        "\n",
        "# deques support the len() function\n",
        "print(\"d has \" + str(len(d)) + \" lower case letters\")\n",
        "\n",
        "# deques can be iterated over\n",
        "for elem in d:\n",
        "    print(elem.upper(), end=\",\")\n",
        "print(\"\")\n",
        "# manipulate items from either end\n",
        "d.pop()\n",
        "d.popleft()\n",
        "d.append(2)\n",
        "d.appendleft(1)\n",
        "print(d)\n",
        "\n",
        "# rotate the deque\n",
        "print(d)\n",
        "d.rotate(1)\n",
        "print(d) #Caesar Cipher example can be simplified here"
      ]
    },
    {
      "cell_type": "markdown",
      "metadata": {
        "id": "3Io2q4J0d2nO"
      },
      "source": [
        "namedtuple"
      ]
    },
    {
      "cell_type": "code",
      "execution_count": null,
      "metadata": {
        "colab": {
          "base_uri": "https://localhost:8080/"
        },
        "id": "F_ANa98DdG1S",
        "outputId": "855b57aa-d5a2-4537-b30c-7267893da29b"
      },
      "outputs": [
        {
          "name": "stdout",
          "output_type": "stream",
          "text": [
            "Point(x=10, y=20) Point(x=30, y=40)\n",
            "10 20\n",
            "Point(x=100, y=20)\n"
          ]
        }
      ],
      "source": [
        "    Point = collections.namedtuple(\"Point\", \"x y\")\n",
        "\n",
        "    p1 = Point(10, 20)\n",
        "    p2 = Point(30, 40)\n",
        "\n",
        "    print(p1, p2)\n",
        "    print(p1.x, p1.y)\n",
        "\n",
        "    # use _replace to create a new instance\n",
        "    p1 = p1._replace(x=100)\n",
        "    print(p1)"
      ]
    },
    {
      "cell_type": "markdown",
      "metadata": {
        "id": "ARmeEUITeHFd"
      },
      "source": [
        "ordered dict"
      ]
    },
    {
      "cell_type": "code",
      "execution_count": null,
      "metadata": {
        "colab": {
          "base_uri": "https://localhost:8080/"
        },
        "id": "GJUKZ0JGd-mS",
        "outputId": "02cfdb91-a82b-4d4b-ce43-632398df41d7"
      },
      "outputs": [
        {
          "name": "stdout",
          "output_type": "stream",
          "text": [
            "Equality test:  False\n"
          ]
        }
      ],
      "source": [
        "a = collections.OrderedDict({\"a\": 1, \"b\": 2, \"c\": 3})\n",
        "b = collections.OrderedDict({\"a\": 1, \"c\": 3, \"b\": 2})\n",
        "print(\"Equality test: \", a == b)"
      ]
    },
    {
      "cell_type": "markdown",
      "metadata": {
        "id": "CJFTt5eje7T9"
      },
      "source": [
        "## Logging"
      ]
    },
    {
      "cell_type": "code",
      "execution_count": null,
      "metadata": {
        "colab": {
          "base_uri": "https://localhost:8080/"
        },
        "id": "sjZmOD5xegzM",
        "outputId": "ec2bb924-0848-47d4-f24b-7beae7dc2f6f"
      },
      "outputs": [
        {
          "name": "stdout",
          "output_type": "stream",
          "text": [
            "2021-12-18 22:19:18 DEBUG    This is a debug-level log message\n",
            "2021-12-18 22:19:18 INFO     This is an info-level log message\n",
            "2021-12-18 22:19:18 WARNING  This is a warning-level message\n",
            "2021-12-18 22:19:18 ERROR    This is an error-level message\n",
            "2021-12-18 22:19:18 CRITICAL This is a critical-level message\n",
            "2021-12-18 22:19:18 INFO     Here's a string variable and an int: 10\n"
          ]
        }
      ],
      "source": [
        "import logging\n",
        "import sys\n",
        "\n",
        "logging.basicConfig(level=logging.DEBUG,\n",
        "                    # filemode=\"w\",\n",
        "                    # filename=\"output.log\")\n",
        "                    stream=sys.stdout, \n",
        "                    format='%(asctime)s %(levelname)-8s %(message)s', \n",
        "                    datefmt='%Y-%m-%d %H:%M:%S'\n",
        "                    )\n",
        "\n",
        "# Try out each of the log levels\n",
        "logging.debug(\"This is a debug-level log message\")\n",
        "logging.info(\"This is an info-level log message\")\n",
        "logging.warning(\"This is a warning-level message\")\n",
        "logging.error(\"This is an error-level message\")\n",
        "logging.critical(\"This is a critical-level message\")\n",
        "\n",
        "# Output formatted string to the log\n",
        "logging.info(\"Here's a {} variable and an int: {}\".format(\"string\", 10))"
      ]
    },
    {
      "cell_type": "code",
      "execution_count": null,
      "metadata": {
        "colab": {
          "base_uri": "https://localhost:8080/"
        },
        "id": "N-JbNDObfHcx",
        "outputId": "f8a1e965-c0ea-457d-82b2-c9f6b8cb6237"
      },
      "outputs": [
        {
          "name": "stdout",
          "output_type": "stream",
          "text": [
            "2021-12-18 22:33:57,632: INFO: <module> Line:17 This is an info-level log message\n",
            "2021-12-18 22:33:57,634: WARNING: <module> Line:18 This is a warning-level message\n",
            "2021-12-18 22:33:57,635: DEBUG: anotherFunction Line:12 This is a debug-level log message\n"
          ]
        }
      ],
      "source": [
        "import logging\n",
        "import sys\n",
        "# add function name and line number \n",
        "fmtStr = \"%(asctime)s: %(levelname)s: %(funcName)s Line:%(lineno)d %(message)s\"\n",
        "\n",
        "logging.basicConfig(# filename=\"output.log\",\n",
        "                    level=logging.DEBUG,\n",
        "                    format=fmtStr,\n",
        "                    stream=sys.stdout)\n",
        "\n",
        "def anotherFunction():\n",
        "    logging.debug(\"This is a debug-level log message\")\n",
        "\n",
        "\n",
        "\n",
        "\n",
        "logging.info(\"This is an info-level log message\")\n",
        "logging.warning(\"This is a warning-level message\")\n",
        "anotherFunction()\n",
        "# colab at python 3.7 doesn't print those variables"
      ]
    },
    {
      "cell_type": "markdown",
      "metadata": {
        "id": "B5q0dXkuirUc"
      },
      "source": [
        "add custom extra data/variables"
      ]
    },
    {
      "cell_type": "code",
      "execution_count": null,
      "metadata": {
        "colab": {
          "base_uri": "https://localhost:8080/"
        },
        "id": "3Lt-8-9WiXtx",
        "outputId": "19a34292-10a2-404b-e5fe-9a4c4b71b423"
      },
      "outputs": [
        {
          "name": "stdout",
          "output_type": "stream",
          "text": [
            "12/18/2021 10:36:06 PM: INFO: <module> Line:21 User:joem@example.com This is an info-level log message\n",
            "12/18/2021 10:36:06 PM: WARNING: <module> Line:22 User:joem@example.com This is a warning-level message\n",
            "12/18/2021 10:36:06 PM: DEBUG: anotherFunction Line:8 User:joem@example.com This is a debug-level log message\n"
          ]
        }
      ],
      "source": [
        "import logging\n",
        "import sys\n",
        "\n",
        "extData = {'user': 'joem@example.com'}\n",
        "\n",
        "\n",
        "def anotherFunction():\n",
        "    logging.debug(\"This is a debug-level log message\", extra=extData)\n",
        "\n",
        "\n",
        "\n",
        "\n",
        "fmtStr = \"%(asctime)s: %(levelname)s: %(funcName)s Line:%(lineno)d User:%(user)s %(message)s\"\n",
        "dateStr = \"%m/%d/%Y %I:%M:%S %p\"\n",
        "logging.basicConfig( # filename=\"output.log\",\n",
        "                level=logging.DEBUG,\n",
        "                format=fmtStr,\n",
        "                datefmt=dateStr,\n",
        "                stream=sys.stdout)\n",
        "\n",
        "logging.info(\"This is an info-level log message\", extra=extData)\n",
        "logging.warning(\"This is a warning-level message\", extra=extData)\n",
        "anotherFunction()"
      ]
    },
    {
      "cell_type": "markdown",
      "metadata": {
        "id": "X-4wfyo9ASAh"
      },
      "source": [
        "## Comprehensions"
      ]
    },
    {
      "cell_type": "markdown",
      "metadata": {
        "id": "OGXd06UIASAh"
      },
      "source": [
        "dictionary"
      ]
    },
    {
      "cell_type": "code",
      "execution_count": null,
      "metadata": {
        "id": "Q_ST9WIvASAh",
        "outputId": "45a2c3f2-5ac1-4bd6-b05f-d90b4e5fadcd"
      },
      "outputs": [
        {
          "data": {
            "text/plain": [
              "{0: 32.0, 12: 53.6, 34: 93.2}"
            ]
          },
          "execution_count": 1,
          "metadata": {},
          "output_type": "execute_result"
        }
      ],
      "source": [
        "ctemps = [0, 12, 34, 100]\n",
        "tempDict = {t: (t * 9/5) + 32 for t in ctemps if t < 100}\n",
        "tempDict"
      ]
    },
    {
      "cell_type": "code",
      "execution_count": null,
      "metadata": {
        "id": "7AlgbWvxASAi",
        "outputId": "57665413-c633-4b10-9cac-bc24069fcef4"
      },
      "outputs": [
        {
          "data": {
            "text/plain": [
              "{'Jones': 24,\n",
              " 'Jameson': 18,\n",
              " 'Smith': 58,\n",
              " 'Burns': 7,\n",
              " 'White': 12,\n",
              " 'Macke': 88,\n",
              " 'Perce': 4}"
            ]
          },
          "execution_count": 8,
          "metadata": {},
          "output_type": "execute_result"
        }
      ],
      "source": [
        "team1 = {\"Jones\": 24, \"Jameson\": 18, \"Smith\": 58, \"Burns\": 7}\n",
        "team2 = {\"White\": 12, \"Macke\": 88, \"Perce\": 4}\n",
        "\n",
        "newTeam = {k: v for team in (team1, team2) for k, v in team.items()}\n",
        "newTeam\n",
        "# equivalent to :\n",
        "# newTeams={}\n",
        "# for team in (team1, team2):\n",
        "#     newTeams.update(team)\n"
      ]
    },
    {
      "cell_type": "code",
      "execution_count": null,
      "metadata": {
        "id": "q8qxQCfgASAi",
        "outputId": "c77a2e62-3898-4251-ed46-6d2f55d745ec"
      },
      "outputs": [
        {
          "data": {
            "text/plain": [
              "{'Jones': 24,\n",
              " 'Jameson': 18,\n",
              " 'Smith': 58,\n",
              " 'Burns': 7,\n",
              " 'White': 12,\n",
              " 'Macke': 88,\n",
              " 'Perce': 4}"
            ]
          },
          "execution_count": 9,
          "metadata": {},
          "output_type": "execute_result"
        }
      ],
      "source": [
        "team1 | team2 #python 3.9 or later"
      ]
    },
    {
      "cell_type": "markdown",
      "metadata": {
        "id": "xitnagzKASAi"
      },
      "source": [
        "List"
      ]
    },
    {
      "cell_type": "code",
      "execution_count": null,
      "metadata": {
        "id": "2Q6lPiSzASAi",
        "outputId": "c7bd3f40-9f12-4e84-9cea-25a2cf2e23cd"
      },
      "outputs": [
        {
          "data": {
            "text/plain": [
              "[0, 1, 2, 3, 4, 5, 6, 7, 8, 9]"
            ]
          },
          "execution_count": 21,
          "metadata": {},
          "output_type": "execute_result"
        }
      ],
      "source": [
        "a=list(range(10))\n",
        "a"
      ]
    },
    {
      "cell_type": "code",
      "execution_count": null,
      "metadata": {
        "id": "KG5XgxUiASAi",
        "outputId": "ab61bbb9-50d7-4bb4-cd00-81b6488f4798"
      },
      "outputs": [
        {
          "data": {
            "text/plain": [
              "[0, 4, 16, 36, 64]"
            ]
          },
          "execution_count": 23,
          "metadata": {},
          "output_type": "execute_result"
        }
      ],
      "source": [
        "[b ** 2 for b in a if b % 2 == 0]"
      ]
    },
    {
      "cell_type": "markdown",
      "source": [
        "# Function"
      ],
      "metadata": {
        "id": "WQUky1yWAkCY"
      }
    },
    {
      "cell_type": "markdown",
      "source": [
        "## Parent Children functions"
      ],
      "metadata": {
        "id": "axFPXU7yAyNh"
      }
    },
    {
      "cell_type": "code",
      "execution_count": null,
      "metadata": {
        "id": "qAe3rHUNASAj"
      },
      "outputs": [],
      "source": [
        "# child function are local variable to parent and only exists in parent\n",
        "def parent(num):\n",
        "  def child_one():\n",
        "    return \"Emma\"\n",
        "  def child_two():\n",
        "    return \"Bob\"\n",
        "  \n",
        "  if num == 1:\n",
        "    return child_one\n",
        "  else:\n",
        "    return child_two"
      ]
    },
    {
      "cell_type": "code",
      "source": [
        "daughter = parent(1)\n",
        "daughter"
      ],
      "metadata": {
        "id": "Bq7jUfksBloS",
        "outputId": "3da26258-9886-4b55-9a28-2215c1a8e1aa",
        "colab": {
          "base_uri": "https://localhost:8080/"
        }
      },
      "execution_count": null,
      "outputs": [
        {
          "output_type": "execute_result",
          "data": {
            "text/plain": [
              "<function __main__.parent.<locals>.child_one>"
            ]
          },
          "metadata": {},
          "execution_count": 4
        }
      ]
    },
    {
      "cell_type": "code",
      "source": [
        "daughter()"
      ],
      "metadata": {
        "id": "qTVohxZ1Bsxu",
        "outputId": "9849d14a-e23a-4e89-b892-90dc6c61245b",
        "colab": {
          "base_uri": "https://localhost:8080/",
          "height": 35
        }
      },
      "execution_count": null,
      "outputs": [
        {
          "output_type": "execute_result",
          "data": {
            "application/vnd.google.colaboratory.intrinsic+json": {
              "type": "string"
            },
            "text/plain": [
              "'Emma'"
            ]
          },
          "metadata": {},
          "execution_count": 5
        }
      ]
    },
    {
      "cell_type": "markdown",
      "source": [
        "## Decorator"
      ],
      "metadata": {
        "id": "mbXezZDND56x"
      }
    },
    {
      "cell_type": "markdown",
      "source": [
        "### treat parent as a decorator for child"
      ],
      "metadata": {
        "id": "a_-OwTgCqOfz"
      }
    },
    {
      "cell_type": "code",
      "source": [
        "# most primitive way\n",
        "import time\n",
        "\n",
        "def decor(f):\n",
        "  starttime = time.time()\n",
        "  f()\n",
        "  endtime = time.time()\n",
        "  print(\"child function run time is \", (endtime-starttime)*1000, \"ms\")\n",
        "\n",
        "def funct():\n",
        "  print(\"hello\")\n",
        "  time.sleep(2)\n",
        "  print(\"world\")\n",
        "\n",
        "decor(funct) # identical to parent child function example above"
      ],
      "metadata": {
        "id": "Xud3HQCpB5FR",
        "outputId": "fe5ddf74-6184-4d23-dac3-51b27f9d80b4",
        "colab": {
          "base_uri": "https://localhost:8080/"
        }
      },
      "execution_count": null,
      "outputs": [
        {
          "output_type": "stream",
          "name": "stdout",
          "text": [
            "hello\n",
            "world\n",
            "child function run time is  2009.1969966888428 ms\n"
          ]
        }
      ]
    },
    {
      "cell_type": "markdown",
      "source": [
        "### primitive decor (without wrapper return function)"
      ],
      "metadata": {
        "id": "bOeCk3arqv5_"
      }
    },
    {
      "cell_type": "code",
      "source": [
        "# [@functionName way\n",
        "import time\n",
        "\n",
        "def decor(f):\n",
        "  starttime = time.time()\n",
        "  f()\n",
        "  endtime = time.time()\n",
        "  print(\"child function run time is \", (endtime-starttime)*1000, \"ms\")\n",
        "\n",
        "@decor\n",
        "def funct():\n",
        "  print(\"hello\")\n",
        "  time.sleep(2)\n",
        "  print(\"world\")\n",
        "\n"
      ],
      "metadata": {
        "id": "bK6J4nA4GPQ6",
        "outputId": "40ebe4d0-94c8-42f4-863d-742a6dccfcd3",
        "colab": {
          "base_uri": "https://localhost:8080/"
        }
      },
      "execution_count": null,
      "outputs": [
        {
          "output_type": "stream",
          "name": "stdout",
          "text": [
            "hello\n",
            "world\n",
            "child function run time is  2007.1759223937988 ms\n"
          ]
        }
      ]
    },
    {
      "cell_type": "code",
      "source": [
        "@decor\n",
        "def funct():\n",
        "  print(\"hello\")\n",
        "  time.sleep(3)\n",
        "  print(\"world2\")"
      ],
      "metadata": {
        "id": "xcEcyX4kUATk",
        "outputId": "dd910576-9114-4f6d-f91f-c81e9f8ff05a",
        "colab": {
          "base_uri": "https://localhost:8080/"
        }
      },
      "execution_count": null,
      "outputs": [
        {
          "output_type": "stream",
          "name": "stdout",
          "text": [
            "hello\n",
            "world2\n",
            "child function run time is  3004.634141921997 ms\n"
          ]
        }
      ]
    },
    {
      "cell_type": "markdown",
      "source": [
        "Though decor function is reusable, funct() is not, you get \n",
        "TypeError: 'NoneType' object is not callable"
      ],
      "metadata": {
        "id": "XrxknxDYYRQg"
      }
    },
    {
      "cell_type": "markdown",
      "source": [
        "### wrapper function in parent, true decorator example"
      ],
      "metadata": {
        "id": "f4ObFSzcrGc6"
      }
    },
    {
      "cell_type": "code",
      "source": [
        "# proper @functionName way where parent function returns child/wrapper function\n",
        "def decor(f):\n",
        "  def wrapper(): # wrapper can be any name, simplifity, all examples use wrapper function here\n",
        "    starttime = time.time()\n",
        "    f()\n",
        "    endtime = time.time()\n",
        "    print(\"child function run time is \", (endtime-starttime)*1000, \"ms\")\n",
        "  return wrapper"
      ],
      "metadata": {
        "id": "sH3GuucsUB2g"
      },
      "execution_count": null,
      "outputs": []
    },
    {
      "cell_type": "code",
      "source": [
        "@decor\n",
        "def funct():\n",
        "  print(\"hello\")\n",
        "  time.sleep(3)\n",
        "  print(\"world2\")"
      ],
      "metadata": {
        "id": "v4AOu3T3UDJ_"
      },
      "execution_count": null,
      "outputs": []
    },
    {
      "cell_type": "code",
      "source": [
        "funct()"
      ],
      "metadata": {
        "id": "NAvKZaNHaD9a",
        "outputId": "d4756b9c-5a97-4c08-9fc0-a806bcafed00",
        "colab": {
          "base_uri": "https://localhost:8080/"
        }
      },
      "execution_count": null,
      "outputs": [
        {
          "output_type": "stream",
          "name": "stdout",
          "text": [
            "hello\n",
            "world2\n",
            "child function run time is  3004.889965057373 ms\n"
          ]
        }
      ]
    },
    {
      "cell_type": "markdown",
      "source": [
        "### parameter passing (*args, **kwargs)"
      ],
      "metadata": {
        "id": "86d-JFGEs0vC"
      }
    },
    {
      "cell_type": "code",
      "source": [
        "# pass on the parameter using wrapper(*args, **kwargs)\n",
        "import time\n",
        "\n",
        "def decor(f):\n",
        "  print(\"print a line from parent\")\n",
        "  def wrapper(*args, **kwargs):\n",
        "    starttime = time.time()\n",
        "    f(*args, **kwargs)\n",
        "    endtime = time.time()\n",
        "    print(\"child function run time is \", (endtime-starttime)*1000, \"ms\")\n",
        "  return wrapper\n",
        "\n",
        "@decor\n",
        "def funct(n):\n",
        "  print(\"hello\")\n",
        "  time.sleep(n)\n",
        "  print(\"world2\")"
      ],
      "metadata": {
        "id": "kjlyv161aFZf",
        "outputId": "3b3ab9b0-c71c-4f69-95c5-e4439d17ffcf",
        "colab": {
          "base_uri": "https://localhost:8080/"
        }
      },
      "execution_count": null,
      "outputs": [
        {
          "output_type": "stream",
          "name": "stdout",
          "text": [
            "print a line from parent\n"
          ]
        }
      ]
    },
    {
      "cell_type": "code",
      "source": [
        "funct(5) # funct function runs all the code in parent's wrapper function"
      ],
      "metadata": {
        "id": "qgtVqfhua8WR",
        "outputId": "ea46d8e0-9c95-45ac-b98d-5934664b8b91",
        "colab": {
          "base_uri": "https://localhost:8080/"
        }
      },
      "execution_count": null,
      "outputs": [
        {
          "output_type": "stream",
          "name": "stdout",
          "text": [
            "hello\n",
            "world2\n",
            "child function run time is  5005.742073059082 ms\n"
          ]
        }
      ]
    },
    {
      "cell_type": "markdown",
      "source": [
        "### return something from wrapper"
      ],
      "metadata": {
        "id": "rrRwOSqntYlY"
      }
    },
    {
      "cell_type": "code",
      "source": [
        "# return whatever in wrapper function\n",
        "def decor(f):\n",
        "  print(\"print a line from parent\")\n",
        "  def wrapper(*args, **kwargs):\n",
        "    starttime = time.time()\n",
        "    f(*args, **kwargs)\n",
        "    endtime = time.time()\n",
        "    print(\"child function run time is \", (endtime-starttime)*1000, \"ms\")\n",
        "    return str(endtime) # now whatever child function calls this, it will have a return value of endtime\n",
        "  return wrapper\n",
        "\n",
        "@decor\n",
        "def funct(n):\n",
        "  print(\"hello\")\n",
        "  time.sleep(n)\n",
        "  print(\"world2\")\n"
      ],
      "metadata": {
        "id": "M7PjpO8xbNUF",
        "outputId": "457db4ec-9683-4662-9539-94b86dde06da",
        "colab": {
          "base_uri": "https://localhost:8080/"
        }
      },
      "execution_count": null,
      "outputs": [
        {
          "output_type": "stream",
          "name": "stdout",
          "text": [
            "print a line from parent\n"
          ]
        }
      ]
    },
    {
      "cell_type": "code",
      "source": [
        "funct(4)"
      ],
      "metadata": {
        "id": "TuHP7a97pYpV",
        "outputId": "c6f5647f-851e-48f5-c003-8c11f3005144",
        "colab": {
          "base_uri": "https://localhost:8080/",
          "height": 88
        }
      },
      "execution_count": null,
      "outputs": [
        {
          "output_type": "stream",
          "name": "stdout",
          "text": [
            "hello\n",
            "world2\n",
            "child function run time is  4004.359722137451 ms\n"
          ]
        },
        {
          "output_type": "execute_result",
          "data": {
            "application/vnd.google.colaboratory.intrinsic+json": {
              "type": "string"
            },
            "text/plain": [
              "'1642366191.615169'"
            ]
          },
          "metadata": {},
          "execution_count": 27
        }
      ]
    },
    {
      "cell_type": "code",
      "source": [
        "a = funct(4)"
      ],
      "metadata": {
        "id": "6-1iwI9Zpbc9",
        "outputId": "0c269f31-b4d5-4fab-d73b-77af1878486c",
        "colab": {
          "base_uri": "https://localhost:8080/"
        }
      },
      "execution_count": null,
      "outputs": [
        {
          "output_type": "stream",
          "name": "stdout",
          "text": [
            "hello\n",
            "world2\n",
            "child function run time is  4005.748748779297 ms\n"
          ]
        }
      ]
    },
    {
      "cell_type": "code",
      "source": [
        "a"
      ],
      "metadata": {
        "id": "UIeVbmk5p6pR",
        "outputId": "30a4a735-cadb-40a1-a68f-4de878d0bf99",
        "colab": {
          "base_uri": "https://localhost:8080/",
          "height": 35
        }
      },
      "execution_count": null,
      "outputs": [
        {
          "output_type": "execute_result",
          "data": {
            "application/vnd.google.colaboratory.intrinsic+json": {
              "type": "string"
            },
            "text/plain": [
              "'1642366220.6968143'"
            ]
          },
          "metadata": {},
          "execution_count": 29
        }
      ]
    },
    {
      "cell_type": "markdown",
      "source": [
        "examples on [real python](https://realpython.com/primer-on-python-decorators/), includes: 1. timing, similar to previous examples, 2. debug/logging 3. plugin resgister"
      ],
      "metadata": {
        "id": "Jek8J656wrTa"
      }
    },
    {
      "cell_type": "markdown",
      "source": [
        "## Fancy (advanced) decorator"
      ],
      "metadata": {
        "id": "iDY5SZ9L1X3U"
      }
    },
    {
      "cell_type": "markdown",
      "source": [
        "### built-in class decorator"
      ],
      "metadata": {
        "id": "7mlpx6vfiWiM"
      }
    },
    {
      "cell_type": "code",
      "source": [
        "# without decorator\n",
        "class Circle:\n",
        "  pi = 3.1415\n",
        "  def __init__(self, radius): # self can be anything. it's just a parameter , In python the first parameter of methods is the instance the method is called on\n",
        "    self.radius = radius\n",
        "\n",
        "  def radius(self):\n",
        "    return radius\n",
        "\n",
        "  def pie():   # won't work in a new instance unless use pie(self)\n",
        "    return 3.1415926535\n",
        "  \n",
        "  def perimeter(self):\n",
        "    return 2 * 3.14 * self.radius\n",
        "\n",
        "  def area(self):\n",
        "    return self.radius**2 * self.pi # note self.pi, self is an instance of the class\n",
        "\n",
        "\n",
        "  def cylinder_volume(self, height):\n",
        "    return self.area() * height # note not self.area\n",
        "\n",
        "c=Circle(8)\n",
        "c.perimeter()"
      ],
      "metadata": {
        "id": "bKC7ScYnp8W4",
        "outputId": "38131861-d4e2-46c8-9731-ee08f0f1b753",
        "colab": {
          "base_uri": "https://localhost:8080/"
        }
      },
      "execution_count": null,
      "outputs": [
        {
          "output_type": "execute_result",
          "data": {
            "text/plain": [
              "50.24"
            ]
          },
          "metadata": {},
          "execution_count": 69
        }
      ]
    },
    {
      "cell_type": "code",
      "source": [
        "c.pi"
      ],
      "metadata": {
        "id": "AKfZpi5fjrbZ",
        "outputId": "9841896b-92d7-4367-dda4-13ea1edd2bfa",
        "colab": {
          "base_uri": "https://localhost:8080/"
        }
      },
      "execution_count": null,
      "outputs": [
        {
          "output_type": "execute_result",
          "data": {
            "text/plain": [
              "3.1415"
            ]
          },
          "metadata": {},
          "execution_count": 25
        }
      ]
    },
    {
      "cell_type": "code",
      "source": [
        "c.radius"
      ],
      "metadata": {
        "id": "sxe5ECvxKU-i",
        "outputId": "c75321ef-dee4-4b6b-b0eb-526fb471ee6b",
        "colab": {
          "base_uri": "https://localhost:8080/"
        }
      },
      "execution_count": null,
      "outputs": [
        {
          "output_type": "execute_result",
          "data": {
            "text/plain": [
              "8"
            ]
          },
          "metadata": {},
          "execution_count": 72
        }
      ]
    },
    {
      "cell_type": "code",
      "source": [
        "c.area()"
      ],
      "metadata": {
        "id": "dax_5T2Lj1YM",
        "outputId": "52c43ffb-1b3f-4fb3-891c-01bd1d4a4f38",
        "colab": {
          "base_uri": "https://localhost:8080/"
        }
      },
      "execution_count": null,
      "outputs": [
        {
          "output_type": "execute_result",
          "data": {
            "text/plain": [
              "201.056"
            ]
          },
          "metadata": {},
          "execution_count": 74
        }
      ]
    },
    {
      "cell_type": "code",
      "source": [
        "c.cylinder_volume(10)"
      ],
      "metadata": {
        "id": "SV_eNG8uj-oW",
        "outputId": "deb0a260-ae9c-485c-f00a-6f12203636a8",
        "colab": {
          "base_uri": "https://localhost:8080/"
        }
      },
      "execution_count": null,
      "outputs": [
        {
          "output_type": "execute_result",
          "data": {
            "text/plain": [
              "2010.5600000000002"
            ]
          },
          "metadata": {},
          "execution_count": 39
        }
      ]
    },
    {
      "cell_type": "code",
      "source": [
        "Circle.pie()"
      ],
      "metadata": {
        "id": "wzXUzqVdmd0q",
        "outputId": "37db5c22-3b84-4f38-c0f9-c6a6118e609f",
        "colab": {
          "base_uri": "https://localhost:8080/"
        }
      },
      "execution_count": null,
      "outputs": [
        {
          "output_type": "execute_result",
          "data": {
            "text/plain": [
              "3.1415926535"
            ]
          },
          "metadata": {},
          "execution_count": 40
        }
      ]
    },
    {
      "cell_type": "code",
      "source": [
        "Circle(8).area()"
      ],
      "metadata": {
        "id": "1_qpHn6QmwKM",
        "outputId": "c8674f8a-bf5c-4de9-a047-6aaeac8e4921",
        "colab": {
          "base_uri": "https://localhost:8080/"
        }
      },
      "execution_count": null,
      "outputs": [
        {
          "output_type": "execute_result",
          "data": {
            "text/plain": [
              "201.056"
            ]
          },
          "metadata": {},
          "execution_count": 41
        }
      ]
    },
    {
      "cell_type": "code",
      "source": [
        "# use built-in decorator @property \n",
        "class Circle:\n",
        "  pi = 3.1415\n",
        "  def __init__(self, radius):\n",
        "    self.R = radius\n",
        "  \n",
        "  @property\n",
        "  def radius(self): # getter\n",
        "    return self.R # can't be radius like the no decorator example above\n",
        "  \n",
        "  @radius.setter\n",
        "  def radius(self, value): # let's modify setter methods\n",
        "    if value <= 0:\n",
        "      self.R = abs(value)\n",
        "  @radius.deleter\n",
        "  def radius(self):\n",
        "    del self.R\n",
        "  \n",
        "  @property\n",
        "  def area(self):\n",
        "    return self.radius**2 * self.pi"
      ],
      "metadata": {
        "id": "XldJ2fkrmzxk"
      },
      "execution_count": null,
      "outputs": []
    },
    {
      "cell_type": "code",
      "source": [
        "c = Circle(8)\n",
        "c.radius"
      ],
      "metadata": {
        "id": "wLor4WnMU4Sx",
        "outputId": "adab7f6c-f0d5-4c44-faa2-03632c380df5",
        "colab": {
          "base_uri": "https://localhost:8080/"
        }
      },
      "execution_count": null,
      "outputs": [
        {
          "output_type": "execute_result",
          "data": {
            "text/plain": [
              "8"
            ]
          },
          "metadata": {},
          "execution_count": 77
        }
      ]
    },
    {
      "cell_type": "code",
      "source": [
        "c.radius = -10\n",
        "c.area # it's property, so won't be a method any more like c.area()\n",
        "# del c.radius"
      ],
      "metadata": {
        "id": "UINYiSJnMT1X",
        "outputId": "df6bbea4-debc-42e1-8753-a866a74155d9",
        "colab": {
          "base_uri": "https://localhost:8080/"
        }
      },
      "execution_count": null,
      "outputs": [
        {
          "output_type": "execute_result",
          "data": {
            "text/plain": [
              "314.15000000000003"
            ]
          },
          "metadata": {},
          "execution_count": 81
        }
      ]
    },
    {
      "cell_type": "code",
      "source": [
        "# use built-in decorator @classmethod\n",
        "class Circle:\n",
        "  pi = 3.14\n",
        "  def __init__(self, radius):\n",
        "    self.R = radius\n",
        "  \n",
        "  def pie():   # won't work in a new instance unless use pie(self)\n",
        "    return 3.1415926535\n",
        "  \n",
        "  @classmethod\n",
        "  def area(cls): # here cls is not self, an instance, but the Circle Class\n",
        "    # return cls.pi * radius ## Error: it can no longer access radius or self.R or cls.R, the instance's property or methods \n",
        "    return cls.pi*cls.pie() #pie still works as it's a class method (no self as parameter, so not an instance method)\n",
        "\n",
        "c=Circle(2) # 2 can't be accessed by classmethod\n",
        "c.area()"
      ],
      "metadata": {
        "id": "IapmgVUzWZh-",
        "outputId": "0166296b-0e15-4ce0-9698-679399428e23",
        "colab": {
          "base_uri": "https://localhost:8080/"
        }
      },
      "execution_count": null,
      "outputs": [
        {
          "output_type": "execute_result",
          "data": {
            "text/plain": [
              "9.864600931990001"
            ]
          },
          "metadata": {},
          "execution_count": 135
        }
      ]
    },
    {
      "cell_type": "code",
      "source": [
        "class Circle:\n",
        "  def __init__(self, radius): \n",
        "    self.R = radius\n",
        "\n",
        "  def radius(self):\n",
        "    return self.R\n",
        "  \n",
        "  @classmethod\n",
        "  def unitCircle_area(cls):\n",
        "    return cls(2)\n",
        "\n",
        "c = Circle(11)"
      ],
      "metadata": {
        "id": "CiLy2VP4cb-5"
      },
      "execution_count": null,
      "outputs": []
    },
    {
      "cell_type": "code",
      "source": [
        "c.unitCircle_area()"
      ],
      "metadata": {
        "id": "EHiNJel3cim2",
        "outputId": "bbad47ec-9f82-4a53-9ac4-4885c186f32c",
        "colab": {
          "base_uri": "https://localhost:8080/"
        }
      },
      "execution_count": null,
      "outputs": [
        {
          "output_type": "execute_result",
          "data": {
            "text/plain": [
              "<__main__.Circle at 0x7f67075299d0>"
            ]
          },
          "metadata": {},
          "execution_count": 137
        }
      ]
    },
    {
      "cell_type": "code",
      "source": [
        "c.R"
      ],
      "metadata": {
        "id": "K5eMucXSc1AT",
        "outputId": "b77495a2-6cdc-4e0f-e98f-9eb7b60c993b",
        "colab": {
          "base_uri": "https://localhost:8080/"
        }
      },
      "execution_count": null,
      "outputs": [
        {
          "output_type": "execute_result",
          "data": {
            "text/plain": [
              "11"
            ]
          },
          "metadata": {},
          "execution_count": 130
        }
      ]
    },
    {
      "cell_type": "code",
      "source": [
        "class Circle:\n",
        "    def __init__(self, radius):\n",
        "        self._radius = radius\n",
        "    \n",
        "    @classmethod\n",
        "    def unit_circle(cls):\n",
        "        return cls(1) # equivalent to Circle(1) without instance\n",
        "\n",
        "c = Circle.unit_circle() # must be called with className Circle!\n",
        "c._radius"
      ],
      "metadata": {
        "id": "brb_xO8wfe8c",
        "outputId": "c4f97f19-1993-4687-df91-d6c1e05efc3e",
        "colab": {
          "base_uri": "https://localhost:8080/"
        }
      },
      "execution_count": null,
      "outputs": [
        {
          "output_type": "execute_result",
          "data": {
            "text/plain": [
              "1"
            ]
          },
          "metadata": {},
          "execution_count": 142
        }
      ]
    },
    {
      "cell_type": "markdown",
      "source": [
        "For staticMethod, it's more like an independent method from its class. It runs anywhere by calling ClassName.staticMethod(parameter1, parameter2 ...). A bit like pie() from above example. <br>\n",
        "Difference between normal class method, classmethod and staticmethod is explained in [realpython site](https://realpython.com/instance-class-and-static-methods-demystified/)."
      ],
      "metadata": {
        "id": "XZkokXyM7G0A"
      }
    },
    {
      "cell_type": "markdown",
      "source": [
        "### Class decorators "
      ],
      "metadata": {
        "id": "yLx-3bR1O4wu"
      }
    },
    {
      "cell_type": "code",
      "source": [
        "# decorate class method\n",
        "import time\n",
        "def decor_timer(f):\n",
        "  def wrapper(*args): # don't miss args\n",
        "    starttime = time.time()\n",
        "    childFuncitonResult = f(*args)\n",
        "    endtime = time.time()\n",
        "    print(\"child function run time is \", (endtime-starttime)*1000, \"ms\")\n",
        "    return childFuncitonResult # this get child method returns\n",
        "  return wrapper\n",
        "\n",
        "\n",
        "\n",
        "class Circle:\n",
        "  pi = 3.1415\n",
        "  def __init__(self, radius):\n",
        "    self.radius = radius\n",
        "\n",
        "  def area(self):\n",
        "    return self.radius**2 * self.pi \n",
        "\n",
        "  @decor_timer\n",
        "  def cylinder_volume(self, height):\n",
        "    time.sleep(2)\n",
        "    return self.area() * height "
      ],
      "metadata": {
        "id": "YOvIcy6C8Z4X"
      },
      "execution_count": 7,
      "outputs": []
    },
    {
      "cell_type": "code",
      "source": [
        "c = Circle(9)\n",
        "bbb = c.cylinder_volume(10)\n",
        "bbb"
      ],
      "metadata": {
        "id": "xaQOHniQ89-i",
        "outputId": "60b74d4c-daa5-43c2-e699-eeb74d0215cc",
        "colab": {
          "base_uri": "https://localhost:8080/"
        }
      },
      "execution_count": 8,
      "outputs": [
        {
          "output_type": "stream",
          "name": "stdout",
          "text": [
            "child function run time is  2002.1400451660156 ms\n"
          ]
        },
        {
          "output_type": "execute_result",
          "data": {
            "text/plain": [
              "2544.615"
            ]
          },
          "metadata": {},
          "execution_count": 8
        }
      ]
    },
    {
      "cell_type": "markdown",
      "source": [
        "### decorate Class"
      ],
      "metadata": {
        "id": "O9wcVJIQjkU2"
      }
    },
    {
      "cell_type": "code",
      "source": [
        "@decor_timer # decorating class only measure class instantiate time, not its methods\n",
        "class Circle:\n",
        "  pi = 3.1415\n",
        "  def __init__(self, radius):\n",
        "    self.radius = radius\n",
        "\n",
        "  def area(self):\n",
        "    return self.radius**2 * self.pi "
      ],
      "metadata": {
        "id": "EW2X96yzjsif"
      },
      "execution_count": 9,
      "outputs": []
    },
    {
      "cell_type": "code",
      "source": [
        "c = Circle(7)"
      ],
      "metadata": {
        "id": "kn49H77ckm6-",
        "outputId": "60f5767a-8734-452c-cc49-0e4ebed8ab54",
        "colab": {
          "base_uri": "https://localhost:8080/"
        }
      },
      "execution_count": 10,
      "outputs": [
        {
          "output_type": "stream",
          "name": "stdout",
          "text": [
            "child function run time is  0.0050067901611328125 ms\n"
          ]
        }
      ]
    },
    {
      "cell_type": "code",
      "source": [
        "c.area()"
      ],
      "metadata": {
        "id": "TZMHy1wQkr6a",
        "outputId": "cdee8358-81de-4395-90db-2b789ad0ea6d",
        "colab": {
          "base_uri": "https://localhost:8080/"
        }
      },
      "execution_count": 11,
      "outputs": [
        {
          "output_type": "execute_result",
          "data": {
            "text/plain": [
              "153.9335"
            ]
          },
          "metadata": {},
          "execution_count": 11
        }
      ]
    },
    {
      "cell_type": "code",
      "source": [
        "from dataclass import dataclass\n",
        "\n",
        "@dataclass\n",
        "class PlayingCard_DataClass:\n",
        "    rank: str\n",
        "    suit: str\n",
        "\n",
        "# this is equivalent to below, @dataclass has other method child function can just use\n",
        "\n",
        "class RegularCard:\n",
        "    def __init__(self, rank, suit):\n",
        "        self.rank = rank\n",
        "        self.suit = suit"
      ],
      "metadata": {
        "id": "1zMJZU2AlQz8"
      },
      "execution_count": null,
      "outputs": []
    },
    {
      "cell_type": "markdown",
      "source": [
        "### nested decorator"
      ],
      "metadata": {
        "id": "sR9UF-uKwvCd"
      }
    },
    {
      "cell_type": "code",
      "source": [
        "# start from the last decorator --> parent decorator --> then the function\n",
        "def deco1(f):\n",
        "  print(\"1111\")\n",
        "  def wrapper_in_deco1():\n",
        "    print(\"2222\")\n",
        "    f()\n",
        "    print(\"3333\")\n",
        "  return wrapper_in_deco1\n",
        "\n",
        "def deco2(f):\n",
        "  print(\"aaaa\")\n",
        "  def wrapper_in_deco2():\n",
        "    print(\"bbbb\")\n",
        "    f()\n",
        "    print(\"cccc\")\n",
        "  return wrapper_in_deco2\n",
        "\n",
        "@deco1\n",
        "@deco2\n",
        "def test():\n",
        "  print(\"test test\")\n",
        "\n",
        "test()"
      ],
      "metadata": {
        "id": "8E_ZxAdKw0N1",
        "outputId": "81ce4735-ad33-40f1-a47b-2e9ceb066c1b",
        "colab": {
          "base_uri": "https://localhost:8080/"
        }
      },
      "execution_count": 16,
      "outputs": [
        {
          "output_type": "stream",
          "name": "stdout",
          "text": [
            "aaaa\n",
            "1111\n",
            "2222\n",
            "bbbb\n",
            "test test\n",
            "cccc\n",
            "3333\n"
          ]
        }
      ]
    },
    {
      "cell_type": "markdown",
      "source": [
        "### decorator parameters"
      ],
      "metadata": {
        "id": "viDRzZsY2U74"
      }
    },
    {
      "cell_type": "markdown",
      "source": [
        "@decorator(parameter1=integer, parameter2=string)"
      ],
      "metadata": {
        "id": "LsRu3GFI2nuE"
      }
    },
    {
      "cell_type": "code",
      "source": [
        "# A repeater example\n",
        "def twice(f):\n",
        "  print(\"print a line from parent\")\n",
        "  def wrapper(*args, **kwargs):\n",
        "    f(*args, **kwargs)\n",
        "    f(*args, **kwargs)  \n",
        "  return wrapper\n",
        "\n",
        "@twice\n",
        "def greet(name):\n",
        "    print(f\"Hello {name}\")"
      ],
      "metadata": {
        "id": "CeCdRqmm2hPd",
        "outputId": "e31a7d66-6c15-4991-d50a-028dbf08a0b2",
        "colab": {
          "base_uri": "https://localhost:8080/"
        }
      },
      "execution_count": 18,
      "outputs": [
        {
          "output_type": "stream",
          "name": "stdout",
          "text": [
            "print a line from parent\n"
          ]
        }
      ]
    },
    {
      "cell_type": "code",
      "source": [
        "greet(\"Jack\")"
      ],
      "metadata": {
        "id": "-fcO8zyN4i_s",
        "outputId": "c68cd12a-c9cd-4f20-829c-4ed2175dbb5b",
        "colab": {
          "base_uri": "https://localhost:8080/"
        }
      },
      "execution_count": 19,
      "outputs": [
        {
          "output_type": "stream",
          "name": "stdout",
          "text": [
            "Hello Jack\n",
            "Hello Jack\n"
          ]
        }
      ]
    },
    {
      "cell_type": "markdown",
      "source": [
        "learn from above, wrap the twice function with repeat function - actual repeat example in [realPython](https://realpython.com/primer-on-python-decorators/), search 'repeat('"
      ],
      "metadata": {
        "id": "qyM45Xp57gRB"
      }
    },
    {
      "cell_type": "code",
      "source": [
        "def repeat(n):  #repeat n times\n",
        "    def twice(func):\n",
        "        def wrapper(*args, **kwargs):\n",
        "            for i in range(n):\n",
        "                func(*args, **kwargs)\n",
        "        return wrapper\n",
        "    return twice # must return twice, o/w 'NoneType' object is not callable Error!\n",
        "  \n",
        "@repeat(4) #  decorator(parameter)\n",
        "def greet(name):\n",
        "  print(f\"Hello {name}\")"
      ],
      "metadata": {
        "id": "CbvhqFkq6vGY"
      },
      "execution_count": 6,
      "outputs": []
    },
    {
      "cell_type": "code",
      "source": [
        "greet(\"david\")"
      ],
      "metadata": {
        "id": "v_CjkVRx7JDX",
        "outputId": "a0942bf3-39c8-4011-fbe4-b3b29f164295",
        "colab": {
          "base_uri": "https://localhost:8080/"
        }
      },
      "execution_count": 4,
      "outputs": [
        {
          "output_type": "stream",
          "name": "stdout",
          "text": [
            "Hello david\n",
            "Hello david\n",
            "Hello david\n",
            "Hello david\n"
          ]
        }
      ]
    },
    {
      "cell_type": "markdown",
      "source": [
        "# Class"
      ],
      "metadata": {
        "id": "VyikKBZIPGnP"
      }
    },
    {
      "cell_type": "markdown",
      "source": [
        "## inheritance\n"
      ],
      "metadata": {
        "id": "8EWV0vqMPKZx"
      }
    },
    {
      "cell_type": "code",
      "source": [
        "class Rectangle:\n",
        "    def __init__(self, length, width):\n",
        "        self.length = length\n",
        "        self.width = width\n",
        "\n",
        "    def area(self):\n",
        "        return self.length * self.width\n",
        "\n",
        "    def perimeter(self):\n",
        "        return 2 * self.length + 2 * self.width\n",
        "\n",
        "# Here we declare that the Square class inherits from the Rectangle class\n",
        "class Square(Rectangle):\n",
        "    def __init__(self, length):\n",
        "        super().__init__(length, length)"
      ],
      "metadata": {
        "id": "8Z0O-xlKm1D9"
      },
      "execution_count": null,
      "outputs": []
    },
    {
      "cell_type": "code",
      "source": [
        "rec = Rectangle(2,3)\n",
        "rec.area()"
      ],
      "metadata": {
        "id": "q6ZXk4z5PaCe",
        "outputId": "848bfd25-9f05-45df-9492-f42e8195eb71",
        "colab": {
          "base_uri": "https://localhost:8080/"
        }
      },
      "execution_count": null,
      "outputs": [
        {
          "output_type": "execute_result",
          "data": {
            "text/plain": [
              "6"
            ]
          },
          "metadata": {},
          "execution_count": 96
        }
      ]
    },
    {
      "cell_type": "code",
      "source": [
        "squ = Square(5)\n",
        "squ.area()"
      ],
      "metadata": {
        "id": "Ee4Wkfr-Phvc",
        "outputId": "21ebde34-839f-4d0a-d9b0-584de619df5e",
        "colab": {
          "base_uri": "https://localhost:8080/"
        }
      },
      "execution_count": null,
      "outputs": [
        {
          "output_type": "execute_result",
          "data": {
            "text/plain": [
              "25"
            ]
          },
          "metadata": {},
          "execution_count": 97
        }
      ]
    },
    {
      "cell_type": "code",
      "source": [
        ""
      ],
      "metadata": {
        "id": "oMWR9_rdPsV0"
      },
      "execution_count": null,
      "outputs": []
    }
  ],
  "metadata": {
    "colab": {
      "name": "kai-python-notes.ipynb",
      "provenance": [],
      "toc_visible": true
    },
    "interpreter": {
      "hash": "a396682cb6fd648c5c82946475c977c10fc97e5ab10367cecc1b2477b6f76451"
    },
    "kernelspec": {
      "display_name": "Python 3.9.1 64-bit",
      "language": "python",
      "name": "python3"
    },
    "language_info": {
      "codemirror_mode": {
        "name": "ipython",
        "version": 3
      },
      "file_extension": ".py",
      "mimetype": "text/x-python",
      "name": "python",
      "nbconvert_exporter": "python",
      "pygments_lexer": "ipython3",
      "version": "3.9.1"
    },
    "orig_nbformat": 4
  },
  "nbformat": 4,
  "nbformat_minor": 0
}
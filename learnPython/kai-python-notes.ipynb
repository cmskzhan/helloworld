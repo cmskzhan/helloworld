{
  "cells": [
    {
      "cell_type": "markdown",
      "metadata": {
        "id": "v9xlJ9LAuFys"
      },
      "source": [
        "# Strings"
      ]
    },
    {
      "cell_type": "markdown",
      "metadata": {
        "id": "S-ck6RmUuFy5"
      },
      "source": [
        "## bytes, Strings, encoding, decoding, utf-8, utf-32"
      ]
    },
    {
      "cell_type": "code",
      "execution_count": null,
      "metadata": {
        "id": "zsfyqYw3uFy7",
        "outputId": "6f1c7437-4ff4-4332-ab94-f2f8807e3695"
      },
      "outputs": [
        {
          "name": "stdout",
          "output_type": "stream",
          "text": [
            "b'ABCD'\n",
            "ABCD normal string\n"
          ]
        }
      ],
      "source": [
        "b = bytes([0x41, 0x42, 0x43, 0x44])\n",
        "print(b)\n",
        "s = \"normal string\"\n",
        "    # Try combining them print(s+b). This will cause an error\n",
        "    # decode the bytes to utf-8 first\n",
        "print(b.decode('utf-8')+\" \"+s)"
      ]
    },
    {
      "cell_type": "code",
      "execution_count": null,
      "metadata": {
        "id": "o6V_kTSruFzA",
        "outputId": "a3bc1229-1c96-41f5-e959-a9ea44ae6c86"
      },
      "outputs": [
        {
          "data": {
            "text/plain": [
              "b'ABCDnormal string'"
            ]
          },
          "execution_count": 2,
          "metadata": {},
          "output_type": "execute_result"
        }
      ],
      "source": [
        "#or encode the string to byte, bytes can concate \n",
        "bb = b + s.encode('UTF-8')\n",
        "bb"
      ]
    },
    {
      "cell_type": "code",
      "execution_count": null,
      "metadata": {
        "id": "0NCPAYCJuFzC",
        "outputId": "86889cb2-fd71-4550-cc0b-e96100040d30"
      },
      "outputs": [
        {
          "name": "stdout",
          "output_type": "stream",
          "text": [
            "b'\\xff\\xfe\\x00\\x00n\\x00\\x00\\x00o\\x00\\x00\\x00r\\x00\\x00\\x00m\\x00\\x00\\x00a\\x00\\x00\\x00l\\x00\\x00\\x00 \\x00\\x00\\x00s\\x00\\x00\\x00t\\x00\\x00\\x00r\\x00\\x00\\x00i\\x00\\x00\\x00n\\x00\\x00\\x00g\\x00\\x00\\x00'\n"
          ]
        }
      ],
      "source": [
        "# encode the string as UTF-32\n",
        "b3 = s.encode('utf-32')\n",
        "print(b3)"
      ]
    },
    {
      "cell_type": "markdown",
      "metadata": {
        "id": "36eMLLKKuFzF"
      },
      "source": [
        "## format, template, substitute"
      ]
    },
    {
      "cell_type": "code",
      "execution_count": null,
      "metadata": {
        "id": "fhGxjdAAuFzG",
        "outputId": "cd91a855-5aea-4d39-8b27-a0830f7b31b7"
      },
      "outputs": [
        {
          "data": {
            "text/plain": [
              "\"You're watching Advanced Python by Joe Marini\""
            ]
          },
          "execution_count": 4,
          "metadata": {},
          "output_type": "execute_result"
        }
      ],
      "source": [
        "str1 = \"You're watching {0} by {1}\".format(\"Advanced Python\", \"Joe Marini\")\n",
        "str1"
      ]
    },
    {
      "cell_type": "code",
      "execution_count": null,
      "metadata": {
        "id": "N5vzueNduFzJ",
        "outputId": "93e14eb3-ede7-4507-f7bc-8392c2b53445"
      },
      "outputs": [
        {
          "name": "stdout",
          "output_type": "stream",
          "text": [
            "You're watching Advanced Python by Joe Marini\n"
          ]
        }
      ],
      "source": [
        "from string import Template\n",
        "# create a template with placeholders\n",
        "templ = Template(\"You're watching ${title} by ${author}\")\n",
        "\n",
        "# use the substitute method with keyword arguments\n",
        "str2 = templ.substitute(title=\"Advanced Python\", author=\"Joe Marini\")\n",
        "print(str2)"
      ]
    },
    {
      "cell_type": "code",
      "execution_count": null,
      "metadata": {
        "id": "Yeil6WJquFzL",
        "outputId": "dedfc39f-076e-4256-9b39-3a58afc203ef"
      },
      "outputs": [
        {
          "name": "stdout",
          "output_type": "stream",
          "text": [
            "You're watching Advanced Python by Joe Marini\n"
          ]
        }
      ],
      "source": [
        "# use the substitute method with a dictionary\n",
        "data = { \n",
        "    \"author\": \"Joe Marini\",\n",
        "    \"title\": \"Advanced Python\"\n",
        "}\n",
        "str3 = templ.substitute(data)    \n",
        "print(str3)"
      ]
    },
    {
      "cell_type": "markdown",
      "metadata": {
        "id": "2wMcGoXiv5Wd"
      },
      "source": [
        "# List"
      ]
    },
    {
      "cell_type": "markdown",
      "metadata": {
        "id": "1Rg3XlRswQnH"
      },
      "source": [
        "## iterator, enumerate, zip"
      ]
    },
    {
      "cell_type": "code",
      "execution_count": null,
      "metadata": {
        "colab": {
          "base_uri": "https://localhost:8080/"
        },
        "id": "E1Yh_6RPwHsk",
        "outputId": "58d6a932-876b-468c-fe89-dc0ac65f0a2d"
      },
      "outputs": [
        {
          "name": "stdout",
          "output_type": "stream",
          "text": [
            "<class 'list_iterator'>\n",
            "Sun\n",
            "Mon\n",
            "Tue\n"
          ]
        }
      ],
      "source": [
        "days = [\"Sun\", \"Mon\", \"Tue\", \"Wed\", \"Thu\", \"Fri\", \"Sat\"]\n",
        "daysFr = [\"Dim\", \"Lun\", \"Mar\", \"Mer\", \"Jeu\", \"Ven\", \"Sam\"]\n",
        "\n",
        "# use iter to create an iterator over a collection\n",
        "i = iter(days)\n",
        "print(type(i))\n",
        "print(next(i))  # Sun\n",
        "print(next(i))  # Mon\n",
        "print(next(i))  # Tue\n",
        "\n"
      ]
    },
    {
      "cell_type": "code",
      "execution_count": null,
      "metadata": {
        "colab": {
          "base_uri": "https://localhost:8080/"
        },
        "id": "8VEw_WZAwdAb",
        "outputId": "76be4102-930a-4126-db38-bc7fb426a8da"
      },
      "outputs": [
        {
          "name": "stdout",
          "output_type": "stream",
          "text": [
            "use regular interation over the days\n",
            "1 Sun\n",
            "2 Mon\n",
            "3 Tue\n",
            "4 Wed\n",
            "5 Thu\n",
            "6 Fri\n",
            "7 Sat\n",
            "using enumerate reduces code and provides a counter\n",
            "1 Sun\n",
            "2 Mon\n",
            "3 Tue\n",
            "4 Wed\n",
            "5 Thu\n",
            "6 Fri\n",
            "7 Sat\n"
          ]
        }
      ],
      "source": [
        "# iterate using a function and a sentinel\n",
        "# with open(\"testfile.txt\", \"r\") as fp:\n",
        "#     for line in iter(fp.readline, ''):\n",
        "#         print(line)\n",
        "\n",
        "print(\"use regular interation over the days\")\n",
        "for m in range(len(days)):\n",
        "    print(m+1, days[m])\n",
        "\n",
        "print(\"using enumerate reduces code and provides a counter\")\n",
        "for i, m in enumerate(days, start=1):\n",
        "    print(i, m)"
      ]
    },
    {
      "cell_type": "code",
      "execution_count": null,
      "metadata": {
        "colab": {
          "base_uri": "https://localhost:8080/"
        },
        "id": "EP4I-LBYx34w",
        "outputId": "74651b94-7a3e-4810-801a-174f97bb0630"
      },
      "outputs": [
        {
          "name": "stdout",
          "output_type": "stream",
          "text": [
            "use zip to combine sequences\n",
            "('Sun', 'Dim')\n",
            "('Mon', 'Lun')\n",
            "('Tue', 'Mar')\n",
            "('Wed', 'Mer')\n",
            "('Thu', 'Jeu')\n",
            "('Fri', 'Ven')\n",
            "('Sat', 'Sam')\n",
            "zipped list type is:  <class 'tuple'>\n",
            "[('Sun', 'Dim'), ('Mon', 'Lun'), ('Tue', 'Mar'), ('Wed', 'Mer'), ('Thu', 'Jeu'), ('Fri', 'Ven'), ('Sat', 'Sam')]\n",
            "enumerate the tuples\n",
            "1 Sun = Dim in French\n",
            "2 Mon = Lun in French\n",
            "3 Tue = Mar in French\n",
            "4 Wed = Mer in French\n",
            "5 Thu = Jeu in French\n",
            "6 Fri = Ven in French\n",
            "7 Sat = Sam in French\n"
          ]
        }
      ],
      "source": [
        "print(\"use zip to combine sequences\") \n",
        "for m in zip(days, daysFr):\n",
        "    print(m)\n",
        "\n",
        "print(\"zipped list type is: \", type(m))\n",
        "\n",
        "print(list(zip(days, daysFr)))\n",
        "\n",
        "print(\"enumerate the tuples\")\n",
        "for i, m in enumerate(zip(days, daysFr), start=1):\n",
        "    print(i, m[0], \"=\", m[1], \"in French\")"
      ]
    },
    {
      "cell_type": "markdown",
      "metadata": {
        "id": "XMDwivR2z0HR"
      },
      "source": [
        "## itertools cycle, count, compress, accumulate, chain, dropwhile, takewhile"
      ]
    },
    {
      "cell_type": "code",
      "execution_count": null,
      "metadata": {
        "colab": {
          "base_uri": "https://localhost:8080/"
        },
        "id": "OeYsv9J2wvTT",
        "outputId": "0667dde2-fc4d-4cd7-b80c-0e6db4be46d9"
      },
      "outputs": [
        {
          "name": "stdout",
          "output_type": "stream",
          "text": [
            "Joe\n",
            "John\n",
            "Mike\n",
            "Joe\n"
          ]
        }
      ],
      "source": [
        "import itertools\n",
        "seq1 = [\"Joe\", \"John\", \"Mike\"]\n",
        "cycle1 = itertools.cycle(seq1)\n",
        "print(next(cycle1))\n",
        "print(next(cycle1))\n",
        "print(next(cycle1))\n",
        "print(next(cycle1))"
      ]
    },
    {
      "cell_type": "code",
      "execution_count": null,
      "metadata": {
        "colab": {
          "base_uri": "https://localhost:8080/"
        },
        "id": "TdMw_WvWzJuu",
        "outputId": "e7785deb-30ea-4ffa-92bd-96891d49ca3c"
      },
      "outputs": [
        {
          "name": "stdout",
          "output_type": "stream",
          "text": [
            "100\n",
            "110\n",
            "120\n"
          ]
        }
      ],
      "source": [
        "# use count to create a simple counter\n",
        "count1 = itertools.count(100, 10)\n",
        "print(next(count1))\n",
        "print(next(count1))\n",
        "print(next(count1))"
      ]
    },
    {
      "cell_type": "code",
      "execution_count": null,
      "metadata": {
        "colab": {
          "base_uri": "https://localhost:8080/"
        },
        "id": "3dbi4kKh0FVo",
        "outputId": "55741a44-8acc-45cb-d119-5e175868dad3"
      },
      "outputs": [
        {
          "name": "stdout",
          "output_type": "stream",
          "text": [
            "[10, 20, 30, 40, 50, 50, 50]\n"
          ]
        }
      ],
      "source": [
        "# accumulate creates an iterator that accumulates values\n",
        "vals = [10,20,30,40,50,40,30]\n",
        "acc = itertools.accumulate(vals, max)\n",
        "print(list(acc))"
      ]
    },
    {
      "cell_type": "code",
      "execution_count": null,
      "metadata": {
        "colab": {
          "base_uri": "https://localhost:8080/"
        },
        "id": "gGVuFQ_w0Xx5",
        "outputId": "b2874eb0-8f3a-45e5-e0b5-7b80078c2717"
      },
      "outputs": [
        {
          "name": "stdout",
          "output_type": "stream",
          "text": [
            "['A', 'B', 'C', 'D', '1', '2', '3', '4']\n"
          ]
        }
      ],
      "source": [
        "# use chain to connect sequences together\n",
        "x = itertools.chain(\"ABCD\", \"1234\")\n",
        "print(list(x))"
      ]
    },
    {
      "cell_type": "code",
      "execution_count": null,
      "metadata": {
        "colab": {
          "base_uri": "https://localhost:8080/"
        },
        "id": "a_rvIb4pMl8v",
        "outputId": "54d93eac-0228-4b4a-e0bd-983dcaf67653"
      },
      "outputs": [
        {
          "data": {
            "text/plain": [
              "[1, 4]"
            ]
          },
          "execution_count": 14,
          "metadata": {},
          "output_type": "execute_result"
        }
      ],
      "source": [
        "# filter a list by another boolean list\n",
        "list_a = [1, 2, 4, 6]\n",
        "filterlist = [True, False, True, False]\n",
        "list(itertools.compress(list_a, filterlist))\n"
      ]
    },
    {
      "cell_type": "code",
      "execution_count": null,
      "metadata": {
        "colab": {
          "base_uri": "https://localhost:8080/"
        },
        "id": "FFYZchMr01W9",
        "outputId": "d651af75-7837-410c-8ed4-e6b8c5bf27fd"
      },
      "outputs": [
        {
          "name": "stdout",
          "output_type": "stream",
          "text": [
            "[40, 50, 40, 30]\n",
            "[10, 20, 30]\n"
          ]
        }
      ],
      "source": [
        "def lessThan40(x):\n",
        "    return x < 40\n",
        "\n",
        "# dropwhile and takewhile will return values until a certain condition is met that stops them\n",
        "print(list(itertools.dropwhile(lessThan40, vals)))\n",
        "print(list(itertools.takewhile(lessThan40, vals)))"
      ]
    },
    {
      "cell_type": "markdown",
      "metadata": {
        "id": "X2kMdcRiKANm"
      },
      "source": [
        "## filter, map, sorted"
      ]
    },
    {
      "cell_type": "markdown",
      "metadata": {
        "id": "-eHDY42vhhAP"
      },
      "source": [
        "filter and map use function to transform list values. Map does one to one (or one to two, one to three mappings), filter use true/false to filter list"
      ]
    },
    {
      "cell_type": "markdown",
      "metadata": {
        "id": "nSdMSgH7ohBL"
      },
      "source": [
        "### filter"
      ]
    },
    {
      "cell_type": "code",
      "execution_count": null,
      "metadata": {
        "colab": {
          "base_uri": "https://localhost:8080/"
        },
        "id": "oCDLOPEdKO2Y",
        "outputId": "6a02151f-64ed-4a3e-e26e-d4cd82a97513"
      },
      "outputs": [
        {
          "data": {
            "text/plain": [
              "[1, 5, 13, 381]"
            ]
          },
          "execution_count": 16,
          "metadata": {},
          "output_type": "execute_result"
        }
      ],
      "source": [
        "# filter(function, iterable) https://docs.python.org/3/library/functions.html\n",
        "\n",
        "def filterOdd(x):\n",
        "    if x % 2 == 0:\n",
        "        return False\n",
        "    return True\n",
        "\n",
        "nums = (1, 8, 4, 5, 13, 26, 381, 410, 58)\n",
        "\n",
        "list(filter(filterOdd, nums))"
      ]
    },
    {
      "cell_type": "code",
      "execution_count": null,
      "metadata": {
        "colab": {
          "base_uri": "https://localhost:8080/"
        },
        "id": "NJb1rm1lLwBS",
        "outputId": "10de317d-dfb3-4245-9c0e-7c29f30f19d3"
      },
      "outputs": [
        {
          "data": {
            "text/plain": [
              "['D', 'F', 'G', 'H', 'J', 'P']"
            ]
          },
          "execution_count": 17,
          "metadata": {},
          "output_type": "execute_result"
        }
      ],
      "source": [
        "def filterUpper(x):\n",
        "  if x.isupper():\n",
        "    return True\n",
        "  else:\n",
        "    return False\n",
        "\n",
        "chars = \"abcDeFGHiJklmnoP\"\n",
        "\n",
        "list(filter(filterUpper, chars))"
      ]
    },
    {
      "cell_type": "markdown",
      "metadata": {
        "id": "3ZgAKThionId"
      },
      "source": [
        "### simple map"
      ]
    },
    {
      "cell_type": "code",
      "execution_count": null,
      "metadata": {
        "colab": {
          "base_uri": "https://localhost:8080/"
        },
        "id": "KhAxwR-ng1h6",
        "outputId": "cfb6da75-4f84-407c-ed05-55a4ab6f380d"
      },
      "outputs": [
        {
          "data": {
            "text/plain": [
              "[1, 64, 16, 25, 169, 676, 145161, 168100, 3364]"
            ]
          },
          "execution_count": 18,
          "metadata": {},
          "output_type": "execute_result"
        }
      ],
      "source": [
        "def square(x):\n",
        "  return x*x\n",
        "\n",
        "list(map(square, nums)) # list comprehension alterative [square(x) for x in nums]"
      ]
    },
    {
      "cell_type": "code",
      "execution_count": null,
      "metadata": {
        "colab": {
          "base_uri": "https://localhost:8080/"
        },
        "id": "c1ASAH6_h0gL",
        "outputId": "5727f983-b104-41f6-e6e3-59449adf1f5c"
      },
      "outputs": [
        {
          "data": {
            "text/plain": [
              "[97, 98, 99, 68, 101, 70, 71, 72, 105, 74, 107, 108, 109, 110, 111, 80]"
            ]
          },
          "execution_count": 19,
          "metadata": {},
          "output_type": "execute_result"
        }
      ],
      "source": [
        "# use built-in function to map\n",
        "list(map(ord, chars))"
      ]
    },
    {
      "cell_type": "code",
      "execution_count": null,
      "metadata": {
        "colab": {
          "base_uri": "https://localhost:8080/"
        },
        "id": "s-e34FwniG7V",
        "outputId": "e0f4bd6f-aa2c-477a-987c-2dcd1d67fb04"
      },
      "outputs": [
        {
          "data": {
            "text/plain": [
              "[1, 1, 1, 1, 1, 1, 1, 1, 1, 1, 1, 1, 1, 1, 1, 1]"
            ]
          },
          "execution_count": 20,
          "metadata": {},
          "output_type": "execute_result"
        }
      ],
      "source": [
        "list(map(len, chars))"
      ]
    },
    {
      "cell_type": "markdown",
      "metadata": {
        "id": "dw6jJnibigNh"
      },
      "source": [
        "map one to two"
      ]
    },
    {
      "cell_type": "code",
      "execution_count": null,
      "metadata": {
        "colab": {
          "base_uri": "https://localhost:8080/"
        },
        "id": "Gt6fd8_CiTrH",
        "outputId": "391d3f5c-1f5d-4df1-d643-1c6c312d5250"
      },
      "outputs": [
        {
          "data": {
            "text/plain": [
              "[1, 8, 64]"
            ]
          },
          "execution_count": 21,
          "metadata": {},
          "output_type": "execute_result"
        }
      ],
      "source": [
        "powerIndex=[2,1,3]\n",
        "list(map(pow, nums, powerIndex)) #The final iterable is only as long as the shortest iterable"
      ]
    },
    {
      "cell_type": "markdown",
      "metadata": {
        "id": "z6EfiCvti9CH"
      },
      "source": [
        "### lambda and function map"
      ]
    },
    {
      "cell_type": "code",
      "execution_count": null,
      "metadata": {
        "colab": {
          "base_uri": "https://localhost:8080/"
        },
        "id": "eT47P1EBivwr",
        "outputId": "95383a6e-bf1b-4f67-f98f-b89a5b9d2268"
      },
      "outputs": [
        {
          "data": {
            "text/plain": [
              "[1, 1, 1]"
            ]
          },
          "execution_count": 22,
          "metadata": {},
          "output_type": "execute_result"
        }
      ],
      "source": [
        "list(map(lambda x, y: x - y, [2, 4, 6], [1, 3, 5]))"
      ]
    },
    {
      "cell_type": "code",
      "execution_count": null,
      "metadata": {
        "colab": {
          "base_uri": "https://localhost:8080/"
        },
        "id": "jhlh09s_jHUm",
        "outputId": "faf13da0-a3dc-400d-fbf2-1402429bbe31"
      },
      "outputs": [
        {
          "data": {
            "text/plain": [
              "[10, 15]"
            ]
          },
          "execution_count": 23,
          "metadata": {},
          "output_type": "execute_result"
        }
      ],
      "source": [
        "list(map(lambda x, y, z: x + y + z, [2, 4], [1, 3], [7, 8]))"
      ]
    },
    {
      "cell_type": "code",
      "execution_count": null,
      "metadata": {
        "colab": {
          "base_uri": "https://localhost:8080/"
        },
        "id": "aJ6FBJ7Jqc2-",
        "outputId": "4bd50834-dc4b-471e-93e0-4ae9484b2795"
      },
      "outputs": [
        {
          "data": {
            "text/plain": [
              "[(1, 1, 1), (64, 512, 4096), (16, 64, 256)]"
            ]
          },
          "execution_count": 24,
          "metadata": {},
          "output_type": "execute_result"
        }
      ],
      "source": [
        "def powers(x):\n",
        "  return x**2, x**3, x**4\n",
        "\n",
        "list(map(powers, nums[0:3]))"
      ]
    },
    {
      "cell_type": "markdown",
      "metadata": {
        "id": "1XRbE4eMjl-U"
      },
      "source": [
        "string list manipulation: strip, split, sub with built-in str functions"
      ]
    },
    {
      "cell_type": "code",
      "execution_count": null,
      "metadata": {
        "colab": {
          "base_uri": "https://localhost:8080/"
        },
        "id": "vxn98mYijJzl",
        "outputId": "e84e808a-eb20-48af-ff30-efd667b6108f"
      },
      "outputs": [
        {
          "data": {
            "text/plain": [
              "['processing', 'strings', 'with', 'map']"
            ]
          },
          "execution_count": 25,
          "metadata": {},
          "output_type": "execute_result"
        }
      ],
      "source": [
        "with_spaces = [\"processing \", \"  strings\", \"with   \", \" map   \"]\n",
        "list(map(str.strip, with_spaces))"
      ]
    },
    {
      "cell_type": "code",
      "execution_count": null,
      "metadata": {
        "id": "TtRcXPRKpXFM",
        "outputId": "c32e7ddc-14dd-4296-d2a8-4da2d96cfe22"
      },
      "outputs": [
        {
          "data": {
            "text/plain": [
              "['processing', 'strings', 'with', 'map']"
            ]
          },
          "execution_count": 26,
          "metadata": {},
          "output_type": "execute_result"
        }
      ],
      "source": [
        "# use lambda to strip other symbols\n",
        "with_dots = [\"processing..\", \"...strings\", \"with....\", \"..map..\"]\n",
        "list(map(lambda s: s.strip(\".\"), with_dots))"
      ]
    },
    {
      "cell_type": "code",
      "execution_count": null,
      "metadata": {
        "colab": {
          "base_uri": "https://localhost:8080/"
        },
        "id": "KnTaYj3imFq2",
        "outputId": "156ebb88-643a-4c1d-fd7b-d480b52c9fec"
      },
      "outputs": [
        {
          "data": {
            "text/plain": [
              "['Some',\n",
              " 'people,',\n",
              " 'when',\n",
              " 'confronted',\n",
              " 'with',\n",
              " 'a',\n",
              " 'problem,',\n",
              " 'think',\n",
              " '\"I',\n",
              " 'know,',\n",
              " \"I'll\",\n",
              " 'use',\n",
              " 'regular',\n",
              " 'expressions.\"',\n",
              " 'Now',\n",
              " 'they',\n",
              " 'have',\n",
              " 'two',\n",
              " 'problems.',\n",
              " 'Jamie',\n",
              " 'Zawinski']"
            ]
          },
          "execution_count": 27,
          "metadata": {},
          "output_type": "execute_result"
        }
      ],
      "source": [
        "#split text to word list, then remove punctuation (a list of symbols) use re.sub\n",
        "text = \"\"\"Some people, when confronted with a problem, think\n",
        "\"I know, I'll use regular expressions.\"\n",
        "Now they have two problems. Jamie Zawinski\"\"\"\n",
        "\n",
        "words = text.split()\n",
        "words"
      ]
    },
    {
      "cell_type": "code",
      "execution_count": null,
      "metadata": {
        "colab": {
          "base_uri": "https://localhost:8080/"
        },
        "id": "cLL9YNU5mVH1",
        "outputId": "7994af1a-42c9-4e64-e07c-2b7c65ca3b72"
      },
      "outputs": [
        {
          "data": {
            "text/plain": [
              "['Some',\n",
              " 'people',\n",
              " 'when',\n",
              " 'confronted',\n",
              " 'with',\n",
              " 'a',\n",
              " 'problem',\n",
              " 'think',\n",
              " 'I',\n",
              " 'know',\n",
              " \"I'll\",\n",
              " 'use',\n",
              " 'regular',\n",
              " 'expressions',\n",
              " 'Now',\n",
              " 'they',\n",
              " 'have',\n",
              " 'two',\n",
              " 'problems',\n",
              " 'Jamie',\n",
              " 'Zawinski']"
            ]
          },
          "execution_count": 28,
          "metadata": {},
          "output_type": "execute_result"
        }
      ],
      "source": [
        "# remove punctuation use re.sub\n",
        "import re\n",
        "def remove_punctuation(word):\n",
        "      return re.sub(r'[!?.:;,\"()-]', \"\", word)\n",
        "\n",
        "list(map(remove_punctuation, words))"
      ]
    },
    {
      "cell_type": "markdown",
      "metadata": {
        "id": "0sfbmyrJppnq"
      },
      "source": [
        "### Caesar Cipher an example"
      ]
    },
    {
      "cell_type": "markdown",
      "metadata": {
        "id": "5GRpm2d-psQn"
      },
      "source": [
        "*   Original alphabet: abcdefghijklmnopqrstuvwxyz\n",
        "*   Alphabet rotated by three: defghijklmnopqrstuvwxyzabc"
      ]
    },
    {
      "cell_type": "code",
      "execution_count": null,
      "metadata": {
        "id": "8x0qC9r5kbD4"
      },
      "outputs": [],
      "source": [
        "def rotate_chr(c):\n",
        "    rot_by = 3\n",
        "    c = c.lower()\n",
        "    alphabet = \"abcdefghijklmnopqrstuvwxyz\"\n",
        "    # Keep punctuation and whitespace\n",
        "    if c not in alphabet:\n",
        "        return c\n",
        "    rotated_pos = ord(c) + rot_by\n",
        "    # If the rotation is inside the alphabet\n",
        "    if rotated_pos <= ord(alphabet[-1]):\n",
        "        return chr(rotated_pos)\n",
        "    # If the rotation goes beyond the alphabet\n",
        "    return chr(rotated_pos - len(alphabet))"
      ]
    },
    {
      "cell_type": "code",
      "execution_count": null,
      "metadata": {
        "colab": {
          "base_uri": "https://localhost:8080/",
          "height": 35
        },
        "id": "PLqJU1zLpoNT",
        "outputId": "2a6b9d19-8ea4-4d60-ec40-b8d5de3a3722"
      },
      "outputs": [
        {
          "data": {
            "text/plain": [
              "'pb vhfuhw phvvdjh jrhv khuh.'"
            ]
          },
          "execution_count": 30,
          "metadata": {},
          "output_type": "execute_result"
        }
      ],
      "source": [
        "\"\".join(map(rotate_chr, \"My secret message goes here.\"))"
      ]
    },
    {
      "cell_type": "markdown",
      "metadata": {
        "id": "FPsOoruuxxVt"
      },
      "source": [
        "## function parameter"
      ]
    },
    {
      "cell_type": "code",
      "execution_count": null,
      "metadata": {
        "colab": {
          "base_uri": "https://localhost:8080/"
        },
        "id": "XNMbUtDpsd0i",
        "outputId": "071adcc5-47ad-4b75-952d-a98ac2df5787"
      },
      "outputs": [
        {
          "name": "stdout",
          "output_type": "stream",
          "text": [
            "45\n"
          ]
        }
      ],
      "source": [
        "def addition(base, *args):\n",
        "    result = 0\n",
        "    for arg in args:\n",
        "        result += arg\n",
        "\n",
        "    return result\n",
        "\n",
        "print(addition(5, 10, 15, 20))"
      ]
    },
    {
      "cell_type": "code",
      "execution_count": null,
      "metadata": {
        "colab": {
          "base_uri": "https://localhost:8080/"
        },
        "id": "mJZu4ChpxhtU",
        "outputId": "ceed3c69-dbbe-426a-8b40-7018cd4c2920"
      },
      "outputs": [
        {
          "name": "stdout",
          "output_type": "stream",
          "text": [
            "0\n",
            "45\n"
          ]
        }
      ],
      "source": [
        "myNums = [5, 10, 15, 20]\n",
        "print(addition(myNums))\n",
        "print(addition(*myNums))"
      ]
    },
    {
      "cell_type": "markdown",
      "metadata": {
        "id": "_Ul0tcaRasmu"
      },
      "source": [
        "## Collections"
      ]
    },
    {
      "cell_type": "markdown",
      "metadata": {
        "id": "-GZnNkJ0buLf"
      },
      "source": [
        "counter"
      ]
    },
    {
      "cell_type": "code",
      "execution_count": null,
      "metadata": {
        "colab": {
          "base_uri": "https://localhost:8080/"
        },
        "id": "S52PdRAnbbf7",
        "outputId": "b85567ea-ee5a-480b-e82e-60faf798d722"
      },
      "outputs": [
        {
          "name": "stdout",
          "output_type": "stream",
          "text": [
            "2\n",
            "12 students in class 1\n",
            "24 students in class 1 and 2\n",
            "[('James', 3), ('Frank', 2), ('Bob', 1)]\n",
            "[('James', 2)]\n",
            "Counter({'James': 1, 'Frank': 1})\n"
          ]
        }
      ],
      "source": [
        "import collections\n",
        "\n",
        "class1 = [\"Bob\", \"James\", \"Chad\", \"Darcy\", \"Penny\", \"Hannah\", \"Kevin\", \"James\", \"Melanie\", \"Becky\", \"Steve\", \"Frank\"]\n",
        "\n",
        "# list of students in class 2\n",
        "class2 = [\"Bill\", \"Barry\", \"Cindy\", \"Debbie\", \"Frank\", \"Gabby\", \"Kelly\", \"James\", \"Joe\", \"Sam\", \"Tara\", \"Ziggy\"]\n",
        "\n",
        "# Create a Counter for class1 and class2\n",
        "c1 = collections.Counter(class1)\n",
        "c2 = collections.Counter(class2)\n",
        "\n",
        "# How many students in class 1 named James?\n",
        "print(c1[\"James\"])\n",
        "\n",
        "# How many students are in class 1?\n",
        "print(sum(c1.values()), \"students in class 1\")\n",
        "\n",
        "# Combine the two classes\n",
        "c1.update(class2)\n",
        "print(sum(c1.values()), \"students in class 1 and 2\")\n",
        "\n",
        "# What's the most common name in the two classes?\n",
        "print(c1.most_common(3))\n",
        "\n",
        "# Separate the classes again\n",
        "c1.subtract(class2)\n",
        "print(c1.most_common(1))\n",
        "\n",
        "# What's common between the two classes?\n",
        "print(c1 & c2)"
      ]
    },
    {
      "cell_type": "markdown",
      "metadata": {
        "id": "RM1sm3v5cSNl"
      },
      "source": [
        "deque objects are like double-ended queues"
      ]
    },
    {
      "cell_type": "code",
      "execution_count": null,
      "metadata": {
        "colab": {
          "base_uri": "https://localhost:8080/"
        },
        "id": "hWyaL6Aqb-wZ",
        "outputId": "ce412b39-6c4a-4e59-9c49-8d88d05d2c72"
      },
      "outputs": [
        {
          "name": "stdout",
          "output_type": "stream",
          "text": [
            "d has 26 lower case letters\n",
            "A,B,C,D,E,F,G,H,I,J,K,L,M,N,O,P,Q,R,S,T,U,V,W,X,Y,Z,\n",
            "deque([1, 'b', 'c', 'd', 'e', 'f', 'g', 'h', 'i', 'j', 'k', 'l', 'm', 'n', 'o', 'p', 'q', 'r', 's', 't', 'u', 'v', 'w', 'x', 'y', 2])\n",
            "deque([1, 'b', 'c', 'd', 'e', 'f', 'g', 'h', 'i', 'j', 'k', 'l', 'm', 'n', 'o', 'p', 'q', 'r', 's', 't', 'u', 'v', 'w', 'x', 'y', 2])\n",
            "deque([2, 1, 'b', 'c', 'd', 'e', 'f', 'g', 'h', 'i', 'j', 'k', 'l', 'm', 'n', 'o', 'p', 'q', 'r', 's', 't', 'u', 'v', 'w', 'x', 'y'])\n"
          ]
        }
      ],
      "source": [
        "# initialize a deque with lowercase letters\n",
        "import string\n",
        "d = collections.deque(string.ascii_lowercase)\n",
        "\n",
        "# deques support the len() function\n",
        "print(\"d has \" + str(len(d)) + \" lower case letters\")\n",
        "\n",
        "# deques can be iterated over\n",
        "for elem in d:\n",
        "    print(elem.upper(), end=\",\")\n",
        "print(\"\")\n",
        "# manipulate items from either end\n",
        "d.pop()\n",
        "d.popleft()\n",
        "d.append(2)\n",
        "d.appendleft(1)\n",
        "print(d)\n",
        "\n",
        "# rotate the deque\n",
        "print(d)\n",
        "d.rotate(1)\n",
        "print(d) #Caesar Cipher example can be simplified here"
      ]
    },
    {
      "cell_type": "markdown",
      "metadata": {
        "id": "3Io2q4J0d2nO"
      },
      "source": [
        "namedtuple"
      ]
    },
    {
      "cell_type": "code",
      "execution_count": null,
      "metadata": {
        "colab": {
          "base_uri": "https://localhost:8080/"
        },
        "id": "F_ANa98DdG1S",
        "outputId": "855b57aa-d5a2-4537-b30c-7267893da29b"
      },
      "outputs": [
        {
          "name": "stdout",
          "output_type": "stream",
          "text": [
            "Point(x=10, y=20) Point(x=30, y=40)\n",
            "10 20\n",
            "Point(x=100, y=20)\n"
          ]
        }
      ],
      "source": [
        "Point = collections.namedtuple(\"Point\", \"x y\")\n",
        "\n",
        "p1 = Point(10, 20)\n",
        "p2 = Point(30, 40)\n",
        "\n",
        "print(p1, p2)\n",
        "print(p1.x, p1.y)\n",
        "\n",
        "# use _replace to create a new instance\n",
        "p1 = p1._replace(x=100)\n",
        "print(p1)"
      ]
    },
    {
      "cell_type": "markdown",
      "metadata": {
        "id": "ARmeEUITeHFd"
      },
      "source": [
        "ordered dict"
      ]
    },
    {
      "cell_type": "code",
      "execution_count": null,
      "metadata": {
        "colab": {
          "base_uri": "https://localhost:8080/"
        },
        "id": "GJUKZ0JGd-mS",
        "outputId": "02cfdb91-a82b-4d4b-ce43-632398df41d7"
      },
      "outputs": [
        {
          "name": "stdout",
          "output_type": "stream",
          "text": [
            "Equality test:  False\n"
          ]
        }
      ],
      "source": [
        "a = collections.OrderedDict({\"a\": 1, \"b\": 2, \"c\": 3})\n",
        "b = collections.OrderedDict({\"a\": 1, \"c\": 3, \"b\": 2})\n",
        "print(\"Equality test: \", a == b)"
      ]
    },
    {
      "cell_type": "markdown",
      "metadata": {
        "id": "CJFTt5eje7T9"
      },
      "source": [
        "## Logging"
      ]
    },
    {
      "cell_type": "code",
      "execution_count": null,
      "metadata": {
        "colab": {
          "base_uri": "https://localhost:8080/"
        },
        "id": "sjZmOD5xegzM",
        "outputId": "ec2bb924-0848-47d4-f24b-7beae7dc2f6f"
      },
      "outputs": [
        {
          "name": "stdout",
          "output_type": "stream",
          "text": [
            "2021-12-18 22:19:18 DEBUG    This is a debug-level log message\n",
            "2021-12-18 22:19:18 INFO     This is an info-level log message\n",
            "2021-12-18 22:19:18 WARNING  This is a warning-level message\n",
            "2021-12-18 22:19:18 ERROR    This is an error-level message\n",
            "2021-12-18 22:19:18 CRITICAL This is a critical-level message\n",
            "2021-12-18 22:19:18 INFO     Here's a string variable and an int: 10\n"
          ]
        }
      ],
      "source": [
        "import logging\n",
        "import sys\n",
        "\n",
        "logging.basicConfig(level=logging.DEBUG,\n",
        "                    # filemode=\"w\",\n",
        "                    # filename=\"output.log\")\n",
        "                    stream=sys.stdout, \n",
        "                    format='%(asctime)s %(levelname)-8s %(message)s', \n",
        "                    datefmt='%Y-%m-%d %H:%M:%S'\n",
        "                    )\n",
        "\n",
        "# Try out each of the log levels\n",
        "logging.debug(\"This is a debug-level log message\")\n",
        "logging.info(\"This is an info-level log message\")\n",
        "logging.warning(\"This is a warning-level message\")\n",
        "logging.error(\"This is an error-level message\")\n",
        "logging.critical(\"This is a critical-level message\")\n",
        "\n",
        "# Output formatted string to the log\n",
        "logging.info(\"Here's a {} variable and an int: {}\".format(\"string\", 10))"
      ]
    },
    {
      "cell_type": "code",
      "execution_count": null,
      "metadata": {
        "colab": {
          "base_uri": "https://localhost:8080/"
        },
        "id": "N-JbNDObfHcx",
        "outputId": "f8a1e965-c0ea-457d-82b2-c9f6b8cb6237"
      },
      "outputs": [
        {
          "name": "stdout",
          "output_type": "stream",
          "text": [
            "2021-12-18 22:33:57,632: INFO: <module> Line:17 This is an info-level log message\n",
            "2021-12-18 22:33:57,634: WARNING: <module> Line:18 This is a warning-level message\n",
            "2021-12-18 22:33:57,635: DEBUG: anotherFunction Line:12 This is a debug-level log message\n"
          ]
        }
      ],
      "source": [
        "import logging\n",
        "import sys\n",
        "# add function name and line number \n",
        "fmtStr = \"%(asctime)s: %(levelname)s: %(funcName)s Line:%(lineno)d %(message)s\"\n",
        "\n",
        "logging.basicConfig(# filename=\"output.log\",\n",
        "                    level=logging.DEBUG,\n",
        "                    format=fmtStr,\n",
        "                    stream=sys.stdout)\n",
        "\n",
        "def anotherFunction():\n",
        "    logging.debug(\"This is a debug-level log message\")\n",
        "\n",
        "\n",
        "\n",
        "\n",
        "logging.info(\"This is an info-level log message\")\n",
        "logging.warning(\"This is a warning-level message\")\n",
        "anotherFunction()\n",
        "# colab at python 3.7 doesn't print those variables"
      ]
    },
    {
      "cell_type": "markdown",
      "metadata": {
        "id": "B5q0dXkuirUc"
      },
      "source": [
        "add custom extra data/variables"
      ]
    },
    {
      "cell_type": "code",
      "execution_count": null,
      "metadata": {
        "colab": {
          "base_uri": "https://localhost:8080/"
        },
        "id": "3Lt-8-9WiXtx",
        "outputId": "19a34292-10a2-404b-e5fe-9a4c4b71b423"
      },
      "outputs": [
        {
          "name": "stdout",
          "output_type": "stream",
          "text": [
            "12/18/2021 10:36:06 PM: INFO: <module> Line:21 User:joem@example.com This is an info-level log message\n",
            "12/18/2021 10:36:06 PM: WARNING: <module> Line:22 User:joem@example.com This is a warning-level message\n",
            "12/18/2021 10:36:06 PM: DEBUG: anotherFunction Line:8 User:joem@example.com This is a debug-level log message\n"
          ]
        }
      ],
      "source": [
        "import logging\n",
        "import sys\n",
        "\n",
        "extData = {'user': 'joem@example.com'}\n",
        "\n",
        "\n",
        "def anotherFunction():\n",
        "    logging.debug(\"This is a debug-level log message\", extra=extData)\n",
        "\n",
        "\n",
        "\n",
        "\n",
        "fmtStr = \"%(asctime)s: %(levelname)s: %(funcName)s Line:%(lineno)d User:%(user)s %(message)s\"\n",
        "dateStr = \"%m/%d/%Y %I:%M:%S %p\"\n",
        "logging.basicConfig( # filename=\"output.log\",\n",
        "                level=logging.DEBUG,\n",
        "                format=fmtStr,\n",
        "                datefmt=dateStr,\n",
        "                stream=sys.stdout)\n",
        "\n",
        "logging.info(\"This is an info-level log message\", extra=extData)\n",
        "logging.warning(\"This is a warning-level message\", extra=extData)\n",
        "anotherFunction()"
      ]
    },
    {
      "cell_type": "markdown",
      "metadata": {
        "id": "X-4wfyo9ASAh"
      },
      "source": [
        "## Comprehensions"
      ]
    },
    {
      "cell_type": "markdown",
      "metadata": {
        "id": "OGXd06UIASAh"
      },
      "source": [
        "dictionary"
      ]
    },
    {
      "cell_type": "code",
      "execution_count": null,
      "metadata": {
        "id": "Q_ST9WIvASAh",
        "outputId": "45a2c3f2-5ac1-4bd6-b05f-d90b4e5fadcd"
      },
      "outputs": [
        {
          "data": {
            "text/plain": [
              "{0: 32.0, 12: 53.6, 34: 93.2}"
            ]
          },
          "execution_count": 1,
          "metadata": {},
          "output_type": "execute_result"
        }
      ],
      "source": [
        "ctemps = [0, 12, 34, 100]\n",
        "tempDict = {t: (t * 9/5) + 32 for t in ctemps if t < 100}\n",
        "tempDict"
      ]
    },
    {
      "cell_type": "code",
      "execution_count": null,
      "metadata": {
        "id": "7AlgbWvxASAi",
        "outputId": "57665413-c633-4b10-9cac-bc24069fcef4"
      },
      "outputs": [
        {
          "data": {
            "text/plain": [
              "{'Jones': 24,\n",
              " 'Jameson': 18,\n",
              " 'Smith': 58,\n",
              " 'Burns': 7,\n",
              " 'White': 12,\n",
              " 'Macke': 88,\n",
              " 'Perce': 4}"
            ]
          },
          "execution_count": 8,
          "metadata": {},
          "output_type": "execute_result"
        }
      ],
      "source": [
        "team1 = {\"Jones\": 24, \"Jameson\": 18, \"Smith\": 58, \"Burns\": 7}\n",
        "team2 = {\"White\": 12, \"Macke\": 88, \"Perce\": 4}\n",
        "\n",
        "newTeam = {k: v for team in (team1, team2) for k, v in team.items()}\n",
        "newTeam\n",
        "# equivalent to :\n",
        "# newTeams={}\n",
        "# for team in (team1, team2):\n",
        "#     newTeams.update(team)\n"
      ]
    },
    {
      "cell_type": "code",
      "execution_count": null,
      "metadata": {
        "id": "q8qxQCfgASAi",
        "outputId": "c77a2e62-3898-4251-ed46-6d2f55d745ec"
      },
      "outputs": [
        {
          "data": {
            "text/plain": [
              "{'Jones': 24,\n",
              " 'Jameson': 18,\n",
              " 'Smith': 58,\n",
              " 'Burns': 7,\n",
              " 'White': 12,\n",
              " 'Macke': 88,\n",
              " 'Perce': 4}"
            ]
          },
          "execution_count": 9,
          "metadata": {},
          "output_type": "execute_result"
        }
      ],
      "source": [
        "team1 | team2 #python 3.9 or later"
      ]
    },
    {
      "cell_type": "markdown",
      "metadata": {
        "id": "xitnagzKASAi"
      },
      "source": [
        "List"
      ]
    },
    {
      "cell_type": "code",
      "execution_count": null,
      "metadata": {
        "id": "2Q6lPiSzASAi",
        "outputId": "c7bd3f40-9f12-4e84-9cea-25a2cf2e23cd"
      },
      "outputs": [
        {
          "data": {
            "text/plain": [
              "[0, 1, 2, 3, 4, 5, 6, 7, 8, 9]"
            ]
          },
          "execution_count": 21,
          "metadata": {},
          "output_type": "execute_result"
        }
      ],
      "source": [
        "a=list(range(10))\n",
        "a"
      ]
    },
    {
      "cell_type": "code",
      "execution_count": null,
      "metadata": {
        "id": "KG5XgxUiASAi",
        "outputId": "ab61bbb9-50d7-4bb4-cd00-81b6488f4798"
      },
      "outputs": [
        {
          "data": {
            "text/plain": [
              "[0, 4, 16, 36, 64]"
            ]
          },
          "execution_count": 23,
          "metadata": {},
          "output_type": "execute_result"
        }
      ],
      "source": [
        "[b ** 2 for b in a if b % 2 == 0]"
      ]
    },
    {
      "cell_type": "markdown",
      "metadata": {
        "id": "WQUky1yWAkCY"
      },
      "source": [
        "# Function"
      ]
    },
    {
      "cell_type": "code",
      "execution_count": 3,
      "metadata": {
        "colab": {
          "base_uri": "https://localhost:8080/"
        },
        "id": "fWx127Pa1wvY",
        "outputId": "64acbe5a-48a1-4380-d3ea-3acec3aea1cb"
      },
      "outputs": [
        {
          "data": {
            "text/plain": [
              "('cvcvcv', 'fcfcfc')"
            ]
          },
          "execution_count": 3,
          "metadata": {},
          "output_type": "execute_result"
        }
      ],
      "source": [
        "# function annotation, the text behind : for annotation purpose only\n",
        "def function3ParamAnnotation(a: 'random word',  c: float, b: int = 4):\n",
        "  return a * b, c*b\n",
        "\n",
        "function3ParamAnnotation(a=\"cv\", b=3, c=\"fc\")"
      ]
    },
    {
      "cell_type": "markdown",
      "metadata": {
        "id": "axFPXU7yAyNh"
      },
      "source": [
        "## Parent Children functions"
      ]
    },
    {
      "cell_type": "code",
      "execution_count": null,
      "metadata": {
        "id": "qAe3rHUNASAj"
      },
      "outputs": [],
      "source": [
        "# child function are local variable to parent and only exists in parent\n",
        "def parent(num):\n",
        "  def child_one():\n",
        "    return \"Emma\"\n",
        "  def child_two():\n",
        "    return \"Bob\"\n",
        "  \n",
        "  if num == 1:\n",
        "    return child_one\n",
        "  else:\n",
        "    return child_two"
      ]
    },
    {
      "cell_type": "code",
      "execution_count": null,
      "metadata": {
        "colab": {
          "base_uri": "https://localhost:8080/"
        },
        "id": "Bq7jUfksBloS",
        "outputId": "3da26258-9886-4b55-9a28-2215c1a8e1aa"
      },
      "outputs": [
        {
          "data": {
            "text/plain": [
              "<function __main__.parent.<locals>.child_one>"
            ]
          },
          "execution_count": 4,
          "metadata": {},
          "output_type": "execute_result"
        }
      ],
      "source": [
        "daughter = parent(1)\n",
        "daughter"
      ]
    },
    {
      "cell_type": "code",
      "execution_count": null,
      "metadata": {
        "colab": {
          "base_uri": "https://localhost:8080/",
          "height": 35
        },
        "id": "qTVohxZ1Bsxu",
        "outputId": "9849d14a-e23a-4e89-b892-90dc6c61245b"
      },
      "outputs": [
        {
          "data": {
            "application/vnd.google.colaboratory.intrinsic+json": {
              "type": "string"
            },
            "text/plain": [
              "'Emma'"
            ]
          },
          "execution_count": 5,
          "metadata": {},
          "output_type": "execute_result"
        }
      ],
      "source": [
        "daughter()"
      ]
    },
    {
      "cell_type": "markdown",
      "metadata": {
        "id": "mbXezZDND56x"
      },
      "source": [
        "## Decorator"
      ]
    },
    {
      "cell_type": "markdown",
      "metadata": {
        "id": "a_-OwTgCqOfz"
      },
      "source": [
        "### treat parent as a decorator for child"
      ]
    },
    {
      "cell_type": "code",
      "execution_count": null,
      "metadata": {
        "colab": {
          "base_uri": "https://localhost:8080/"
        },
        "id": "Xud3HQCpB5FR",
        "outputId": "fe5ddf74-6184-4d23-dac3-51b27f9d80b4"
      },
      "outputs": [
        {
          "name": "stdout",
          "output_type": "stream",
          "text": [
            "hello\n",
            "world\n",
            "child function run time is  2009.1969966888428 ms\n"
          ]
        }
      ],
      "source": [
        "# most primitive way\n",
        "import time\n",
        "\n",
        "def decor(f):\n",
        "  starttime = time.time()\n",
        "  f()\n",
        "  endtime = time.time()\n",
        "  print(\"child function run time is \", (endtime-starttime)*1000, \"ms\")\n",
        "\n",
        "def funct():\n",
        "  print(\"hello\")\n",
        "  time.sleep(2)\n",
        "  print(\"world\")\n",
        "\n",
        "decor(funct) # identical to parent child function example above"
      ]
    },
    {
      "cell_type": "markdown",
      "metadata": {
        "id": "bOeCk3arqv5_"
      },
      "source": [
        "### primitive decor (without wrapper return function)"
      ]
    },
    {
      "cell_type": "code",
      "execution_count": null,
      "metadata": {
        "colab": {
          "base_uri": "https://localhost:8080/"
        },
        "id": "bK6J4nA4GPQ6",
        "outputId": "40ebe4d0-94c8-42f4-863d-742a6dccfcd3"
      },
      "outputs": [
        {
          "name": "stdout",
          "output_type": "stream",
          "text": [
            "hello\n",
            "world\n",
            "child function run time is  2007.1759223937988 ms\n"
          ]
        }
      ],
      "source": [
        "# [@functionName way\n",
        "import time\n",
        "\n",
        "def decor(f):\n",
        "  starttime = time.time()\n",
        "  f()\n",
        "  endtime = time.time()\n",
        "  print(\"child function run time is \", (endtime-starttime)*1000, \"ms\")\n",
        "\n",
        "@decor\n",
        "def funct():\n",
        "  print(\"hello\")\n",
        "  time.sleep(2)\n",
        "  print(\"world\")\n",
        "\n"
      ]
    },
    {
      "cell_type": "code",
      "execution_count": null,
      "metadata": {
        "colab": {
          "base_uri": "https://localhost:8080/"
        },
        "id": "xcEcyX4kUATk",
        "outputId": "dd910576-9114-4f6d-f91f-c81e9f8ff05a"
      },
      "outputs": [
        {
          "name": "stdout",
          "output_type": "stream",
          "text": [
            "hello\n",
            "world2\n",
            "child function run time is  3004.634141921997 ms\n"
          ]
        }
      ],
      "source": [
        "@decor\n",
        "def funct():\n",
        "  print(\"hello\")\n",
        "  time.sleep(3)\n",
        "  print(\"world2\")"
      ]
    },
    {
      "cell_type": "markdown",
      "metadata": {
        "id": "XrxknxDYYRQg"
      },
      "source": [
        "Though decor function is reusable, funct() is not, you get \n",
        "TypeError: 'NoneType' object is not callable"
      ]
    },
    {
      "cell_type": "markdown",
      "metadata": {
        "id": "f4ObFSzcrGc6"
      },
      "source": [
        "### wrapper function in parent, true decorator example"
      ]
    },
    {
      "cell_type": "code",
      "execution_count": null,
      "metadata": {
        "id": "sH3GuucsUB2g"
      },
      "outputs": [],
      "source": [
        "# proper @functionName way where parent function returns child/wrapper function\n",
        "def decor(f):\n",
        "  def wrapper(): # wrapper can be any name, simplifity, all examples use wrapper function here\n",
        "    starttime = time.time()\n",
        "    f()\n",
        "    endtime = time.time()\n",
        "    print(\"child function run time is \", (endtime-starttime)*1000, \"ms\")\n",
        "  return wrapper"
      ]
    },
    {
      "cell_type": "code",
      "execution_count": null,
      "metadata": {
        "id": "v4AOu3T3UDJ_"
      },
      "outputs": [],
      "source": [
        "@decor\n",
        "def funct():\n",
        "  print(\"hello\")\n",
        "  time.sleep(3)\n",
        "  print(\"world2\")"
      ]
    },
    {
      "cell_type": "code",
      "execution_count": null,
      "metadata": {
        "colab": {
          "base_uri": "https://localhost:8080/"
        },
        "id": "NAvKZaNHaD9a",
        "outputId": "d4756b9c-5a97-4c08-9fc0-a806bcafed00"
      },
      "outputs": [
        {
          "name": "stdout",
          "output_type": "stream",
          "text": [
            "hello\n",
            "world2\n",
            "child function run time is  3004.889965057373 ms\n"
          ]
        }
      ],
      "source": [
        "funct()"
      ]
    },
    {
      "cell_type": "markdown",
      "metadata": {
        "id": "86d-JFGEs0vC"
      },
      "source": [
        "### parameter passing (*args, **kwargs)"
      ]
    },
    {
      "cell_type": "code",
      "execution_count": null,
      "metadata": {
        "colab": {
          "base_uri": "https://localhost:8080/"
        },
        "id": "kjlyv161aFZf",
        "outputId": "3b3ab9b0-c71c-4f69-95c5-e4439d17ffcf"
      },
      "outputs": [
        {
          "name": "stdout",
          "output_type": "stream",
          "text": [
            "print a line from parent\n"
          ]
        }
      ],
      "source": [
        "# pass on the parameter using wrapper(*args, **kwargs)\n",
        "import time\n",
        "\n",
        "def decor(f):\n",
        "  print(\"print a line from parent\")\n",
        "  def wrapper(*args, **kwargs):\n",
        "    starttime = time.time()\n",
        "    f(*args, **kwargs)\n",
        "    endtime = time.time()\n",
        "    print(\"child function run time is \", (endtime-starttime)*1000, \"ms\")\n",
        "  return wrapper\n",
        "\n",
        "@decor\n",
        "def funct(n):\n",
        "  print(\"hello\")\n",
        "  time.sleep(n)\n",
        "  print(\"world2\")"
      ]
    },
    {
      "cell_type": "code",
      "execution_count": null,
      "metadata": {
        "colab": {
          "base_uri": "https://localhost:8080/"
        },
        "id": "qgtVqfhua8WR",
        "outputId": "ea46d8e0-9c95-45ac-b98d-5934664b8b91"
      },
      "outputs": [
        {
          "name": "stdout",
          "output_type": "stream",
          "text": [
            "hello\n",
            "world2\n",
            "child function run time is  5005.742073059082 ms\n"
          ]
        }
      ],
      "source": [
        "funct(5) # funct function runs all the code in parent's wrapper function"
      ]
    },
    {
      "cell_type": "markdown",
      "metadata": {
        "id": "rrRwOSqntYlY"
      },
      "source": [
        "### return something from wrapper"
      ]
    },
    {
      "cell_type": "code",
      "execution_count": null,
      "metadata": {
        "colab": {
          "base_uri": "https://localhost:8080/"
        },
        "id": "M7PjpO8xbNUF",
        "outputId": "457db4ec-9683-4662-9539-94b86dde06da"
      },
      "outputs": [
        {
          "name": "stdout",
          "output_type": "stream",
          "text": [
            "print a line from parent\n"
          ]
        }
      ],
      "source": [
        "# return whatever in wrapper function\n",
        "def decor(f):\n",
        "  print(\"print a line from parent\")\n",
        "  def wrapper(*args, **kwargs):\n",
        "    starttime = time.time()\n",
        "    f(*args, **kwargs)\n",
        "    endtime = time.time()\n",
        "    print(\"child function run time is \", (endtime-starttime)*1000, \"ms\")\n",
        "    return str(endtime) # now whatever child function calls this, it will have a return value of endtime\n",
        "  return wrapper\n",
        "\n",
        "@decor\n",
        "def funct(n):\n",
        "  print(\"hello\")\n",
        "  time.sleep(n)\n",
        "  print(\"world2\")\n"
      ]
    },
    {
      "cell_type": "code",
      "execution_count": null,
      "metadata": {
        "colab": {
          "base_uri": "https://localhost:8080/",
          "height": 88
        },
        "id": "TuHP7a97pYpV",
        "outputId": "c6f5647f-851e-48f5-c003-8c11f3005144"
      },
      "outputs": [
        {
          "name": "stdout",
          "output_type": "stream",
          "text": [
            "hello\n",
            "world2\n",
            "child function run time is  4004.359722137451 ms\n"
          ]
        },
        {
          "data": {
            "application/vnd.google.colaboratory.intrinsic+json": {
              "type": "string"
            },
            "text/plain": [
              "'1642366191.615169'"
            ]
          },
          "execution_count": 27,
          "metadata": {},
          "output_type": "execute_result"
        }
      ],
      "source": [
        "funct(4)"
      ]
    },
    {
      "cell_type": "code",
      "execution_count": null,
      "metadata": {
        "colab": {
          "base_uri": "https://localhost:8080/"
        },
        "id": "6-1iwI9Zpbc9",
        "outputId": "0c269f31-b4d5-4fab-d73b-77af1878486c"
      },
      "outputs": [
        {
          "name": "stdout",
          "output_type": "stream",
          "text": [
            "hello\n",
            "world2\n",
            "child function run time is  4005.748748779297 ms\n"
          ]
        }
      ],
      "source": [
        "a = funct(4)"
      ]
    },
    {
      "cell_type": "code",
      "execution_count": null,
      "metadata": {
        "colab": {
          "base_uri": "https://localhost:8080/",
          "height": 35
        },
        "id": "UIeVbmk5p6pR",
        "outputId": "30a4a735-cadb-40a1-a68f-4de878d0bf99"
      },
      "outputs": [
        {
          "data": {
            "application/vnd.google.colaboratory.intrinsic+json": {
              "type": "string"
            },
            "text/plain": [
              "'1642366220.6968143'"
            ]
          },
          "execution_count": 29,
          "metadata": {},
          "output_type": "execute_result"
        }
      ],
      "source": [
        "a"
      ]
    },
    {
      "cell_type": "markdown",
      "metadata": {
        "id": "Jek8J656wrTa"
      },
      "source": [
        "examples on [real python](https://realpython.com/primer-on-python-decorators/), includes: 1. timing, similar to previous examples, 2. debug/logging 3. plugin resgister"
      ]
    },
    {
      "cell_type": "markdown",
      "metadata": {
        "id": "iDY5SZ9L1X3U"
      },
      "source": [
        "## Fancy (advanced) decorator"
      ]
    },
    {
      "cell_type": "markdown",
      "metadata": {
        "id": "7mlpx6vfiWiM"
      },
      "source": [
        "### built-in class decorator"
      ]
    },
    {
      "cell_type": "code",
      "execution_count": null,
      "metadata": {
        "colab": {
          "base_uri": "https://localhost:8080/"
        },
        "id": "bKC7ScYnp8W4",
        "outputId": "38131861-d4e2-46c8-9731-ee08f0f1b753"
      },
      "outputs": [
        {
          "data": {
            "text/plain": [
              "50.24"
            ]
          },
          "execution_count": 69,
          "metadata": {},
          "output_type": "execute_result"
        }
      ],
      "source": [
        "# without decorator\n",
        "class Circle:\n",
        "  pi = 3.1415\n",
        "  def __init__(self, radius): # self can be anything. it's just a parameter , In python the first parameter of methods is the instance the method is called on\n",
        "    self.radius = radius\n",
        "\n",
        "  def radius(self):\n",
        "    return self.radius\n",
        "\n",
        "  def pie():   # won't work in a new instance unless use pie(self)\n",
        "    return 3.1415926535\n",
        "  \n",
        "  def perimeter(self):\n",
        "    return 2 * 3.14 * self.radius\n",
        "\n",
        "  def area(self):\n",
        "    return self.radius**2 * self.pi # note self.pi, self is an instance of the class\n",
        "\n",
        "\n",
        "  def cylinder_volume(self, height):\n",
        "    return self.area() * height # note not self.area\n",
        "\n",
        "c=Circle(8)\n",
        "c.perimeter()"
      ]
    },
    {
      "cell_type": "code",
      "execution_count": null,
      "metadata": {
        "colab": {
          "base_uri": "https://localhost:8080/"
        },
        "id": "AKfZpi5fjrbZ",
        "outputId": "9841896b-92d7-4367-dda4-13ea1edd2bfa"
      },
      "outputs": [
        {
          "data": {
            "text/plain": [
              "3.1415"
            ]
          },
          "execution_count": 25,
          "metadata": {},
          "output_type": "execute_result"
        }
      ],
      "source": [
        "c.pi"
      ]
    },
    {
      "cell_type": "code",
      "execution_count": null,
      "metadata": {
        "colab": {
          "base_uri": "https://localhost:8080/"
        },
        "id": "sxe5ECvxKU-i",
        "outputId": "c75321ef-dee4-4b6b-b0eb-526fb471ee6b"
      },
      "outputs": [
        {
          "data": {
            "text/plain": [
              "8"
            ]
          },
          "execution_count": 72,
          "metadata": {},
          "output_type": "execute_result"
        }
      ],
      "source": [
        "c.radius"
      ]
    },
    {
      "cell_type": "code",
      "execution_count": null,
      "metadata": {
        "colab": {
          "base_uri": "https://localhost:8080/"
        },
        "id": "dax_5T2Lj1YM",
        "outputId": "52c43ffb-1b3f-4fb3-891c-01bd1d4a4f38"
      },
      "outputs": [
        {
          "data": {
            "text/plain": [
              "201.056"
            ]
          },
          "execution_count": 74,
          "metadata": {},
          "output_type": "execute_result"
        }
      ],
      "source": [
        "c.area()"
      ]
    },
    {
      "cell_type": "code",
      "execution_count": null,
      "metadata": {
        "colab": {
          "base_uri": "https://localhost:8080/"
        },
        "id": "SV_eNG8uj-oW",
        "outputId": "deb0a260-ae9c-485c-f00a-6f12203636a8"
      },
      "outputs": [
        {
          "data": {
            "text/plain": [
              "2010.5600000000002"
            ]
          },
          "execution_count": 39,
          "metadata": {},
          "output_type": "execute_result"
        }
      ],
      "source": [
        "c.cylinder_volume(10)"
      ]
    },
    {
      "cell_type": "code",
      "execution_count": null,
      "metadata": {
        "colab": {
          "base_uri": "https://localhost:8080/"
        },
        "id": "wzXUzqVdmd0q",
        "outputId": "37db5c22-3b84-4f38-c0f9-c6a6118e609f"
      },
      "outputs": [
        {
          "data": {
            "text/plain": [
              "3.1415926535"
            ]
          },
          "execution_count": 40,
          "metadata": {},
          "output_type": "execute_result"
        }
      ],
      "source": [
        "Circle.pie()"
      ]
    },
    {
      "cell_type": "code",
      "execution_count": null,
      "metadata": {
        "colab": {
          "base_uri": "https://localhost:8080/"
        },
        "id": "1_qpHn6QmwKM",
        "outputId": "c8674f8a-bf5c-4de9-a047-6aaeac8e4921"
      },
      "outputs": [
        {
          "data": {
            "text/plain": [
              "201.056"
            ]
          },
          "execution_count": 41,
          "metadata": {},
          "output_type": "execute_result"
        }
      ],
      "source": [
        "Circle(8).area()"
      ]
    },
    {
      "cell_type": "code",
      "execution_count": null,
      "metadata": {
        "id": "XldJ2fkrmzxk"
      },
      "outputs": [],
      "source": [
        "# use built-in decorator @property \n",
        "class Circle:\n",
        "  pi = 3.1415\n",
        "  def __init__(self, radius):\n",
        "    self.R = radius\n",
        "  \n",
        "  @property\n",
        "  def radius(self): # getter\n",
        "    return self.R # can't be radius like the no decorator example above\n",
        "  \n",
        "  @radius.setter\n",
        "  def radius(self, value): # let's modify setter methods\n",
        "    if value <= 0:\n",
        "      self.R = abs(value)\n",
        "  @radius.deleter\n",
        "  def radius(self):\n",
        "    del self.R\n",
        "  \n",
        "  @property\n",
        "  def area(self):\n",
        "    return self.radius**2 * self.pi"
      ]
    },
    {
      "cell_type": "code",
      "execution_count": null,
      "metadata": {
        "colab": {
          "base_uri": "https://localhost:8080/"
        },
        "id": "wLor4WnMU4Sx",
        "outputId": "adab7f6c-f0d5-4c44-faa2-03632c380df5"
      },
      "outputs": [
        {
          "data": {
            "text/plain": [
              "8"
            ]
          },
          "execution_count": 77,
          "metadata": {},
          "output_type": "execute_result"
        }
      ],
      "source": [
        "c = Circle(8)\n",
        "c.radius"
      ]
    },
    {
      "cell_type": "code",
      "execution_count": null,
      "metadata": {
        "colab": {
          "base_uri": "https://localhost:8080/"
        },
        "id": "UINYiSJnMT1X",
        "outputId": "df6bbea4-debc-42e1-8753-a866a74155d9"
      },
      "outputs": [
        {
          "data": {
            "text/plain": [
              "314.15000000000003"
            ]
          },
          "execution_count": 81,
          "metadata": {},
          "output_type": "execute_result"
        }
      ],
      "source": [
        "c.radius = -10\n",
        "c.area # it's property, so won't be a method any more like c.area()\n",
        "# del c.radius"
      ]
    },
    {
      "cell_type": "code",
      "execution_count": null,
      "metadata": {
        "colab": {
          "base_uri": "https://localhost:8080/"
        },
        "id": "IapmgVUzWZh-",
        "outputId": "0166296b-0e15-4ce0-9698-679399428e23"
      },
      "outputs": [
        {
          "data": {
            "text/plain": [
              "9.864600931990001"
            ]
          },
          "execution_count": 135,
          "metadata": {},
          "output_type": "execute_result"
        }
      ],
      "source": [
        "# use built-in decorator @classmethod\n",
        "class Circle:\n",
        "  pi = 3.14\n",
        "  def __init__(self, radius):\n",
        "    self.R = radius\n",
        "  \n",
        "  def pie():   # won't work in a new instance unless use pie(self)\n",
        "    return 3.1415926535\n",
        "  \n",
        "  @classmethod\n",
        "  def area(cls): # here cls is not self, an instance, but the Circle Class\n",
        "    # return cls.pi * radius ## Error: it can no longer access radius or self.R or cls.R, the instance's property or methods \n",
        "    return cls.pi*cls.pie() #pie still works as it's a class method (no self as parameter, so not an instance method)\n",
        "\n",
        "c=Circle(2) # 2 can't be accessed by classmethod\n",
        "c.area()"
      ]
    },
    {
      "cell_type": "code",
      "execution_count": null,
      "metadata": {
        "id": "CiLy2VP4cb-5"
      },
      "outputs": [],
      "source": [
        "class Circle:\n",
        "  def __init__(self, radius): \n",
        "    self.R = radius\n",
        "\n",
        "  def radius(self):\n",
        "    return self.R\n",
        "  \n",
        "  @classmethod\n",
        "  def unitCircle_area(cls):\n",
        "    return cls(2)\n",
        "\n",
        "c = Circle(11)"
      ]
    },
    {
      "cell_type": "code",
      "execution_count": null,
      "metadata": {
        "colab": {
          "base_uri": "https://localhost:8080/"
        },
        "id": "EHiNJel3cim2",
        "outputId": "bbad47ec-9f82-4a53-9ac4-4885c186f32c"
      },
      "outputs": [
        {
          "data": {
            "text/plain": [
              "<__main__.Circle at 0x7f67075299d0>"
            ]
          },
          "execution_count": 137,
          "metadata": {},
          "output_type": "execute_result"
        }
      ],
      "source": [
        "c.unitCircle_area()"
      ]
    },
    {
      "cell_type": "code",
      "execution_count": null,
      "metadata": {
        "colab": {
          "base_uri": "https://localhost:8080/"
        },
        "id": "K5eMucXSc1AT",
        "outputId": "b77495a2-6cdc-4e0f-e98f-9eb7b60c993b"
      },
      "outputs": [
        {
          "data": {
            "text/plain": [
              "11"
            ]
          },
          "execution_count": 130,
          "metadata": {},
          "output_type": "execute_result"
        }
      ],
      "source": [
        "c.R"
      ]
    },
    {
      "cell_type": "code",
      "execution_count": null,
      "metadata": {
        "colab": {
          "base_uri": "https://localhost:8080/"
        },
        "id": "brb_xO8wfe8c",
        "outputId": "c4f97f19-1993-4687-df91-d6c1e05efc3e"
      },
      "outputs": [
        {
          "data": {
            "text/plain": [
              "1"
            ]
          },
          "execution_count": 142,
          "metadata": {},
          "output_type": "execute_result"
        }
      ],
      "source": [
        "class Circle:\n",
        "    def __init__(self, radius):\n",
        "        self._radius = radius\n",
        "    \n",
        "    @classmethod\n",
        "    def unit_circle(cls):\n",
        "        return cls(1) # equivalent to Circle(1) without instance\n",
        "\n",
        "c = Circle.unit_circle() # must be called with className Circle!\n",
        "c._radius"
      ]
    },
    {
      "cell_type": "markdown",
      "metadata": {
        "id": "XZkokXyM7G0A"
      },
      "source": [
        "For staticMethod, it's more like an independent method from its class. It runs anywhere by calling ClassName.staticMethod(parameter1, parameter2 ...). A bit like pie() from above example. <br>\n",
        "Difference between normal class method, classmethod and staticmethod is explained in [realpython site](https://realpython.com/instance-class-and-static-methods-demystified/)."
      ]
    },
    {
      "cell_type": "markdown",
      "metadata": {
        "id": "yLx-3bR1O4wu"
      },
      "source": [
        "### Class decorators "
      ]
    },
    {
      "cell_type": "code",
      "execution_count": null,
      "metadata": {
        "id": "YOvIcy6C8Z4X"
      },
      "outputs": [],
      "source": [
        "# decorate class method\n",
        "import time\n",
        "def decor_timer(f):\n",
        "  def wrapper(*args): # don't miss args\n",
        "    starttime = time.time()\n",
        "    childFuncitonResult = f(*args)\n",
        "    endtime = time.time()\n",
        "    print(\"child function run time is \", (endtime-starttime)*1000, \"ms\")\n",
        "    return childFuncitonResult # this get child method returns\n",
        "  return wrapper\n",
        "\n",
        "\n",
        "\n",
        "class Circle:\n",
        "  pi = 3.1415\n",
        "  def __init__(self, radius):\n",
        "    self.radius = radius\n",
        "\n",
        "  def area(self):\n",
        "    return self.radius**2 * self.pi \n",
        "\n",
        "  @decor_timer\n",
        "  def cylinder_volume(self, height):\n",
        "    time.sleep(2)\n",
        "    return self.area() * height "
      ]
    },
    {
      "cell_type": "code",
      "execution_count": null,
      "metadata": {
        "colab": {
          "base_uri": "https://localhost:8080/"
        },
        "id": "xaQOHniQ89-i",
        "outputId": "60b74d4c-daa5-43c2-e699-eeb74d0215cc"
      },
      "outputs": [
        {
          "name": "stdout",
          "output_type": "stream",
          "text": [
            "child function run time is  2002.1400451660156 ms\n"
          ]
        },
        {
          "data": {
            "text/plain": [
              "2544.615"
            ]
          },
          "execution_count": 8,
          "metadata": {},
          "output_type": "execute_result"
        }
      ],
      "source": [
        "c = Circle(9)\n",
        "bbb = c.cylinder_volume(10)\n",
        "bbb"
      ]
    },
    {
      "cell_type": "markdown",
      "metadata": {
        "id": "O9wcVJIQjkU2"
      },
      "source": [
        "### decorate Class"
      ]
    },
    {
      "cell_type": "code",
      "execution_count": null,
      "metadata": {
        "id": "EW2X96yzjsif"
      },
      "outputs": [],
      "source": [
        "@decor_timer # decorating class only measure class instantiate time, not its methods\n",
        "class Circle:\n",
        "  pi = 3.1415\n",
        "  def __init__(self, radius):\n",
        "    self.radius = radius\n",
        "\n",
        "  def area(self):\n",
        "    return self.radius**2 * self.pi "
      ]
    },
    {
      "cell_type": "code",
      "execution_count": null,
      "metadata": {
        "colab": {
          "base_uri": "https://localhost:8080/"
        },
        "id": "kn49H77ckm6-",
        "outputId": "60f5767a-8734-452c-cc49-0e4ebed8ab54"
      },
      "outputs": [
        {
          "name": "stdout",
          "output_type": "stream",
          "text": [
            "child function run time is  0.0050067901611328125 ms\n"
          ]
        }
      ],
      "source": [
        "c = Circle(7)"
      ]
    },
    {
      "cell_type": "code",
      "execution_count": null,
      "metadata": {
        "colab": {
          "base_uri": "https://localhost:8080/"
        },
        "id": "TZMHy1wQkr6a",
        "outputId": "cdee8358-81de-4395-90db-2b789ad0ea6d"
      },
      "outputs": [
        {
          "data": {
            "text/plain": [
              "153.9335"
            ]
          },
          "execution_count": 11,
          "metadata": {},
          "output_type": "execute_result"
        }
      ],
      "source": [
        "c.area()"
      ]
    },
    {
      "cell_type": "code",
      "execution_count": 1,
      "metadata": {
        "id": "1zMJZU2AlQz8"
      },
      "outputs": [
        {
          "ename": "ModuleNotFoundError",
          "evalue": "No module named 'dataclass'",
          "output_type": "error",
          "traceback": [
            "\u001b[1;31m---------------------------------------------------------------------------\u001b[0m",
            "\u001b[1;31mModuleNotFoundError\u001b[0m                       Traceback (most recent call last)",
            "\u001b[1;32m~\\AppData\\Local\\Temp/ipykernel_17156/2125437209.py\u001b[0m in \u001b[0;36m<module>\u001b[1;34m\u001b[0m\n\u001b[1;32m----> 1\u001b[1;33m \u001b[1;32mfrom\u001b[0m \u001b[0mdataclass\u001b[0m \u001b[1;32mimport\u001b[0m \u001b[0mdataclass\u001b[0m\u001b[1;33m\u001b[0m\u001b[1;33m\u001b[0m\u001b[0m\n\u001b[0m\u001b[0;32m      2\u001b[0m \u001b[1;33m\u001b[0m\u001b[0m\n\u001b[0;32m      3\u001b[0m \u001b[1;33m@\u001b[0m\u001b[0mdataclass\u001b[0m\u001b[1;33m\u001b[0m\u001b[1;33m\u001b[0m\u001b[0m\n\u001b[0;32m      4\u001b[0m \u001b[1;32mclass\u001b[0m \u001b[0mPlayingCard_DataClass\u001b[0m\u001b[1;33m:\u001b[0m\u001b[1;33m\u001b[0m\u001b[1;33m\u001b[0m\u001b[0m\n\u001b[0;32m      5\u001b[0m     \u001b[0mrank\u001b[0m\u001b[1;33m:\u001b[0m \u001b[0mstr\u001b[0m\u001b[1;33m\u001b[0m\u001b[1;33m\u001b[0m\u001b[0m\n",
            "\u001b[1;31mModuleNotFoundError\u001b[0m: No module named 'dataclass'"
          ]
        }
      ],
      "source": [
        "from dataclasses import dataclass\n",
        "\n",
        "@dataclass\n",
        "class PlayingCard_DataClass:\n",
        "    rank: str\n",
        "    suit: str\n",
        "\n",
        "# this is equivalent to below, @dataclass has other method child function can just use\n",
        "\n",
        "class RegularCard:\n",
        "    def __init__(self, rank, suit):\n",
        "        self.rank = rank\n",
        "        self.suit = suit"
      ]
    },
    {
      "cell_type": "markdown",
      "metadata": {
        "id": "sR9UF-uKwvCd"
      },
      "source": [
        "### nested decorator"
      ]
    },
    {
      "cell_type": "code",
      "execution_count": null,
      "metadata": {
        "colab": {
          "base_uri": "https://localhost:8080/"
        },
        "id": "8E_ZxAdKw0N1",
        "outputId": "81ce4735-ad33-40f1-a47b-2e9ceb066c1b"
      },
      "outputs": [
        {
          "name": "stdout",
          "output_type": "stream",
          "text": [
            "aaaa\n",
            "1111\n",
            "2222\n",
            "bbbb\n",
            "test test\n",
            "cccc\n",
            "3333\n"
          ]
        }
      ],
      "source": [
        "# start from the last decorator --> parent decorator --> then the function\n",
        "def deco1(f):\n",
        "  print(\"1111\")\n",
        "  def wrapper_in_deco1():\n",
        "    print(\"2222\")\n",
        "    f()\n",
        "    print(\"3333\")\n",
        "  return wrapper_in_deco1\n",
        "\n",
        "def deco2(f):\n",
        "  print(\"aaaa\")\n",
        "  def wrapper_in_deco2():\n",
        "    print(\"bbbb\")\n",
        "    f()\n",
        "    print(\"cccc\")\n",
        "  return wrapper_in_deco2\n",
        "\n",
        "@deco1\n",
        "@deco2\n",
        "def test():\n",
        "  print(\"test test\")\n",
        "\n",
        "test()"
      ]
    },
    {
      "cell_type": "markdown",
      "metadata": {
        "id": "viDRzZsY2U74"
      },
      "source": [
        "### decorator parameters"
      ]
    },
    {
      "cell_type": "markdown",
      "metadata": {
        "id": "LsRu3GFI2nuE"
      },
      "source": [
        "@decorator(parameter1=integer, parameter2=string)"
      ]
    },
    {
      "cell_type": "code",
      "execution_count": null,
      "metadata": {
        "colab": {
          "base_uri": "https://localhost:8080/"
        },
        "id": "CeCdRqmm2hPd",
        "outputId": "e31a7d66-6c15-4991-d50a-028dbf08a0b2"
      },
      "outputs": [
        {
          "name": "stdout",
          "output_type": "stream",
          "text": [
            "print a line from parent\n"
          ]
        }
      ],
      "source": [
        "# A repeater example\n",
        "def twice(f):\n",
        "  print(\"print a line from parent\")\n",
        "  def wrapper(*args, **kwargs):\n",
        "    f(*args, **kwargs)\n",
        "    f(*args, **kwargs)  \n",
        "  return wrapper\n",
        "\n",
        "@twice\n",
        "def greet(name):\n",
        "    print(f\"Hello {name}\")"
      ]
    },
    {
      "cell_type": "code",
      "execution_count": null,
      "metadata": {
        "colab": {
          "base_uri": "https://localhost:8080/"
        },
        "id": "-fcO8zyN4i_s",
        "outputId": "c68cd12a-c9cd-4f20-829c-4ed2175dbb5b"
      },
      "outputs": [
        {
          "name": "stdout",
          "output_type": "stream",
          "text": [
            "Hello Jack\n",
            "Hello Jack\n"
          ]
        }
      ],
      "source": [
        "greet(\"Jack\")"
      ]
    },
    {
      "cell_type": "markdown",
      "metadata": {
        "id": "qyM45Xp57gRB"
      },
      "source": [
        "learn from above, wrap the twice function with repeat function - actual repeat example in [realPython](https://realpython.com/primer-on-python-decorators/), search 'repeat('"
      ]
    },
    {
      "cell_type": "code",
      "execution_count": null,
      "metadata": {
        "id": "CbvhqFkq6vGY"
      },
      "outputs": [],
      "source": [
        "def repeat(n):  #repeat n times\n",
        "    def twice(func): #here twice is not actual twice, just for following the above exam\n",
        "        def wrapper(*args, **kwargs):\n",
        "            for i in range(n):\n",
        "                func(*args, **kwargs)\n",
        "        return wrapper\n",
        "    return twice # must return twice, o/w 'NoneType' object is not callable Error!\n",
        "  \n",
        "@repeat(5) #  decorator(parameter)\n",
        "def greet(name):\n",
        "  print(f\"Hello {name}\")"
      ]
    },
    {
      "cell_type": "code",
      "execution_count": null,
      "metadata": {
        "colab": {
          "base_uri": "https://localhost:8080/"
        },
        "id": "v_CjkVRx7JDX",
        "outputId": "c721104c-d72c-4150-8225-8d70d066ceb4"
      },
      "outputs": [
        {
          "name": "stdout",
          "output_type": "stream",
          "text": [
            "Hello david\n",
            "Hello david\n",
            "Hello david\n",
            "Hello david\n",
            "Hello david\n"
          ]
        }
      ],
      "source": [
        "greet(\"david\")"
      ]
    },
    {
      "cell_type": "code",
      "execution_count": 2,
      "metadata": {
        "id": "lIN2lSij-mA8"
      },
      "outputs": [],
      "source": [
        "def repeat(_function=None, *, n=2):\n",
        "    def twice(func):\n",
        "        def wrapper(*args, **kwargs):\n",
        "            for _ in range(n):\n",
        "                func(*args, **kwargs)\n",
        "        return wrapper\n",
        "\n",
        "    if _function is None:\n",
        "        return twice\n",
        "    else:\n",
        "        return twice(_function)\n"
      ]
    },
    {
      "cell_type": "code",
      "execution_count": null,
      "metadata": {
        "colab": {
          "base_uri": "https://localhost:8080/"
        },
        "id": "rULbCUCl-Kl5",
        "outputId": "77a78ae2-9622-4c9a-9d2d-18a096713af5"
      },
      "outputs": [
        {
          "name": "stdout",
          "output_type": "stream",
          "text": [
            "Hello stephen\n",
            "Hello stephen\n"
          ]
        }
      ],
      "source": [
        "@repeat()\n",
        "def greet(name):\n",
        "  print(f\"Hello {name}\")\n",
        "greet(\"stephen\")"
      ]
    },
    {
      "cell_type": "markdown",
      "metadata": {
        "id": "Pytq1ySRrgBo"
      },
      "source": [
        "### stateful decorator"
      ]
    },
    {
      "cell_type": "code",
      "execution_count": null,
      "metadata": {
        "id": "PeYZ5oRMrfZW"
      },
      "outputs": [],
      "source": [
        "# count how many times a function was called. For a class instance to be callable, use the special .__call__() method\n",
        "class Counter:\n",
        "    def __init__(self, start=0):\n",
        "        self.count = start\n",
        "\n",
        "    def __call__(self): # The .__call__() method is executed each time you try to call an instance of the class\n",
        "        self.count += 1\n",
        "        print(f\"Current count is {self.count}\")"
      ]
    },
    {
      "cell_type": "code",
      "execution_count": null,
      "metadata": {
        "colab": {
          "base_uri": "https://localhost:8080/"
        },
        "id": "yFSqoAhQBizp",
        "outputId": "64c5a09a-ca65-4f31-e352-970dbae08334"
      },
      "outputs": [
        {
          "name": "stdout",
          "output_type": "stream",
          "text": [
            "Current count is 1\n"
          ]
        }
      ],
      "source": [
        "counter1 = Counter()\n",
        "counter1()"
      ]
    },
    {
      "cell_type": "code",
      "execution_count": null,
      "metadata": {
        "colab": {
          "base_uri": "https://localhost:8080/"
        },
        "id": "ZFJdabnNsq4L",
        "outputId": "aadc02f0-2148-4fd1-8351-2d1409052e88"
      },
      "outputs": [
        {
          "name": "stdout",
          "output_type": "stream",
          "text": [
            "Current count is 2\n"
          ]
        }
      ],
      "source": [
        "counter1()"
      ]
    },
    {
      "cell_type": "code",
      "execution_count": null,
      "metadata": {
        "colab": {
          "base_uri": "https://localhost:8080/"
        },
        "id": "C7XQy5d-su0c",
        "outputId": "37849985-7258-41e9-9aea-6a2331486fcd"
      },
      "outputs": [
        {
          "name": "stdout",
          "output_type": "stream",
          "text": [
            "Call 1 of 'say_hello'\n",
            "hello!\n"
          ]
        }
      ],
      "source": [
        "class CountCalls:\n",
        "    def __init__(self, func):\n",
        "        self.func = func\n",
        "        self.num_calls = 0\n",
        "\n",
        "    def __call__(self, *args, **kwargs):\n",
        "        self.num_calls += 1\n",
        "        print(f\"Call {self.num_calls} of {self.func.__name__!r}\")\n",
        "        return self.func(*args, **kwargs)\n",
        "\n",
        "@CountCalls\n",
        "def say_hello():\n",
        "    print(\"hello!\")\n",
        "\n",
        "\n",
        "say_hello()"
      ]
    },
    {
      "cell_type": "code",
      "execution_count": null,
      "metadata": {
        "colab": {
          "base_uri": "https://localhost:8080/"
        },
        "id": "VxwjEODftObW",
        "outputId": "ce53e6fa-78c7-4695-9e44-fcbac5a1a9ac"
      },
      "outputs": [
        {
          "name": "stdout",
          "output_type": "stream",
          "text": [
            "Call 2 of 'say_hello'\n",
            "hello!\n"
          ]
        }
      ],
      "source": [
        "say_hello()"
      ]
    },
    {
      "cell_type": "markdown",
      "metadata": {
        "id": "0Y_cfNLaumWz"
      },
      "source": [
        "### Singleton"
      ]
    },
    {
      "cell_type": "markdown",
      "metadata": {
        "id": "_RkHG_DMuzTL"
      },
      "source": [
        "All instances are the same instanc"
      ]
    },
    {
      "cell_type": "code",
      "execution_count": null,
      "metadata": {
        "id": "1ED2yFq2ulcW"
      },
      "outputs": [],
      "source": [
        "def singleton(cls): # cls to hint it's a class decorator\n",
        "    \"\"\"Make a class a Singleton class (only one instance)\"\"\"\n",
        "    def wrapper(*args, **kwargs):\n",
        "        if not wrapper.instance:\n",
        "            wrapper.instance = cls(*args, **kwargs)\n",
        "        return wrapper.instance\n",
        "    wrapper.instance = None\n",
        "    return wrapper\n",
        "\n",
        "@singleton\n",
        "class TheOne:\n",
        "    pass"
      ]
    },
    {
      "cell_type": "code",
      "execution_count": null,
      "metadata": {
        "colab": {
          "base_uri": "https://localhost:8080/"
        },
        "id": "SHxycx1KvcPg",
        "outputId": "200a092a-8864-45ff-873b-d9948b3f5be7"
      },
      "outputs": [
        {
          "name": "stdout",
          "output_type": "stream",
          "text": [
            "139957829742544\n",
            "139957829742544\n"
          ]
        }
      ],
      "source": [
        "first_one = TheOne()\n",
        "another_one = TheOne()\n",
        "print(id(first_one))\n",
        "print(id(another_one)) #both instances of theOne class point to the same address"
      ]
    },
    {
      "cell_type": "markdown",
      "metadata": {
        "id": "56DVVcf4mWI3"
      },
      "source": [
        "## functools"
      ]
    },
    {
      "cell_type": "code",
      "execution_count": 106,
      "metadata": {
        "id": "OB6eTugAmfHN"
      },
      "outputs": [],
      "source": [
        "import functools"
      ]
    },
    {
      "cell_type": "markdown",
      "metadata": {
        "id": "hI0NM-X1S5kL"
      },
      "source": [
        "#### Cache"
      ]
    },
    {
      "cell_type": "markdown",
      "metadata": {
        "id": "EPG-vnWYxrMP"
      },
      "source": [
        "n! factorial using memory cache"
      ]
    },
    {
      "cell_type": "code",
      "execution_count": null,
      "metadata": {
        "id": "0m9IrvwHxaSZ"
      },
      "outputs": [],
      "source": [
        "@functools.lru_cache(maxsize=10) # cache only available after python 3.9\n",
        "def factorial(n):\n",
        "    return n * factorial(n-1) if n else 1\n",
        "\n",
        "factorial(6)"
      ]
    },
    {
      "cell_type": "markdown",
      "metadata": {
        "id": "and-i0v92HdC"
      },
      "source": [
        "Another example to cache URL page download"
      ]
    },
    {
      "cell_type": "code",
      "execution_count": null,
      "metadata": {
        "id": "P4Bw-Ubvx7S3"
      },
      "outputs": [],
      "source": [
        "import requests\n",
        "\n",
        "@functools.lru_cache(maxsize=32)\n",
        "def get_article_from_internet(url): # will check cache before downloading again\n",
        "    print(\"Fetching article from internet...\")\n",
        "    response = requests.get(url)\n",
        "    return response.text\n"
      ]
    },
    {
      "cell_type": "markdown",
      "metadata": {
        "id": "ufCrKqUSTHSd"
      },
      "source": [
        "#### Partial"
      ]
    },
    {
      "cell_type": "markdown",
      "metadata": {
        "id": "peUyGiXwd8eI"
      },
      "source": [
        "Partial functions allow us to fix a certain number of arguments of a function and generate a new function"
      ]
    },
    {
      "cell_type": "code",
      "execution_count": null,
      "metadata": {
        "colab": {
          "base_uri": "https://localhost:8080/"
        },
        "id": "NKXmWn9cByKx",
        "outputId": "a3c2a2b8-f35d-419e-fdea-6e27197348f9"
      },
      "outputs": [
        {
          "data": {
            "text/plain": [
              "9133"
            ]
          },
          "execution_count": 20,
          "metadata": {},
          "output_type": "execute_result"
        }
      ],
      "source": [
        "# partial\n",
        "def decimal_number(a, b, c, d):\n",
        "  return a*1000 + b*100 + c*10 + d\n",
        "\n",
        "ge_wei = functools.partial(decimal_number, 9,1,3)\n",
        "ge_wei(3)"
      ]
    },
    {
      "cell_type": "code",
      "execution_count": null,
      "metadata": {
        "colab": {
          "base_uri": "https://localhost:8080/"
        },
        "id": "2fXuersHC9IZ",
        "outputId": "2f6ced68-cc4b-4951-df59-5c56754c1c4e"
      },
      "outputs": [
        {
          "data": {
            "text/plain": [
              "4236"
            ]
          },
          "execution_count": 21,
          "metadata": {},
          "output_type": "execute_result"
        }
      ],
      "source": [
        "ge_wei = functools.partial(decimal_number, b=2, c=3)\n",
        "ge_wei(a = 4, d =6)"
      ]
    },
    {
      "cell_type": "markdown",
      "metadata": {
        "id": "o8831898S-ww"
      },
      "source": [
        "#### Cached_property"
      ]
    },
    {
      "cell_type": "markdown",
      "metadata": {
        "id": "MjtivCmwC3wl"
      },
      "source": [
        "@cached_property only used on Class methods and comparable to @property, the built-in decorator introduced earlier"
      ]
    },
    {
      "cell_type": "code",
      "execution_count": 110,
      "metadata": {
        "colab": {
          "base_uri": "https://localhost:8080/"
        },
        "id": "jFReGBrGCdGv",
        "outputId": "04872f14-526d-4718-bf9e-4a0d9ff038e3"
      },
      "outputs": [
        {
          "name": "stdout",
          "output_type": "stream",
          "text": [
            "11\n",
            "16\n",
            "21\n"
          ]
        }
      ],
      "source": [
        "class enlarged_Circle:\n",
        "  pi = 3.1415\n",
        "  def __init__(self, radius):\n",
        "    self.R = radius\n",
        "  \n",
        "  @property\n",
        "  def radius(self): \n",
        "    self.R +=  5\n",
        "    return self.R\n",
        "\n",
        "newCirlce = enlarged_Circle(6)\n",
        "print(newCirlce.radius)\n",
        "print(newCirlce.radius)\n",
        "print(newCirlce.radius)"
      ]
    },
    {
      "cell_type": "code",
      "execution_count": 116,
      "metadata": {
        "colab": {
          "base_uri": "https://localhost:8080/"
        },
        "id": "m-hFzS8hGzGe",
        "outputId": "cc41faca-e90f-48b5-bd6a-1d227646d438"
      },
      "outputs": [
        {
          "name": "stdout",
          "output_type": "stream",
          "text": [
            "11\n",
            "11\n",
            "11\n"
          ]
        }
      ],
      "source": [
        "class enlarged_Circle:\n",
        "  pi = 3.1415\n",
        "  def __init__(self, radius):\n",
        "    self.R = radius\n",
        "  \n",
        "  @functools.cached_property #complicated result cached, so when called again, it won't be calculated again\n",
        "  def radius(self): \n",
        "    self.R +=  5\n",
        "    return self.R\n",
        "\n",
        "newCirlce = enlarged_Circle(6)\n",
        "print(newCirlce.radius)\n",
        "print(newCirlce.radius)\n",
        "print(newCirlce.radius)"
      ]
    },
    {
      "cell_type": "markdown",
      "metadata": {
        "id": "x35Xo94DTRWX"
      },
      "source": [
        "#### Wraps"
      ]
    },
    {
      "cell_type": "markdown",
      "metadata": {
        "id": "UpHNy-IKSPWK"
      },
      "source": [
        "functools.wraps preserves function name, docstring, arguments list, etc"
      ]
    },
    {
      "cell_type": "code",
      "execution_count": 8,
      "metadata": {
        "colab": {
          "base_uri": "https://localhost:8080/"
        },
        "id": "xIyLLL5OSu_3",
        "outputId": "cd972590-2b30-42de-c7fb-8b8a8094e870"
      },
      "outputs": [
        {
          "name": "stdout",
          "output_type": "stream",
          "text": [
            "with_logging\n",
            "None\n"
          ]
        },
        {
          "data": {
            "text/plain": [
              "function"
            ]
          },
          "execution_count": 8,
          "metadata": {},
          "output_type": "execute_result"
        }
      ],
      "source": [
        "def logged(func):\n",
        "    def with_logging(*args, **kwargs):\n",
        "        print(func.__name__ + \" was called\")\n",
        "        return func(*args, **kwargs)\n",
        "    return with_logging\n",
        "\n",
        "@logged\n",
        "def f(x):\n",
        "   \"\"\"does some math\"\"\"\n",
        "   return x + x * x\n",
        "\n",
        "print(f.__name__)\n",
        "print(f.__doc__)"
      ]
    },
    {
      "cell_type": "code",
      "execution_count": 15,
      "metadata": {
        "colab": {
          "base_uri": "https://localhost:8080/"
        },
        "id": "CWT0pTbgUBdL",
        "outputId": "c0c4d6aa-3ef3-4fec-f536-a90f69f58250"
      },
      "outputs": [
        {
          "name": "stdout",
          "output_type": "stream",
          "text": [
            "f\n",
            "does some math\n"
          ]
        }
      ],
      "source": [
        "import functools\n",
        "def logged(func):\n",
        "    @functools.wraps(func) # don't miss (func)\n",
        "    def with_logging(*args, **kwargs):\n",
        "        print(func.__name__ + \" was called\")\n",
        "        return func(*args, **kwargs)\n",
        "    return with_logging\n",
        "\n",
        "@logged\n",
        "def f(x):\n",
        "   \"\"\"does some math\"\"\"\n",
        "   return x + x * x\n",
        "\n",
        "print(f.__name__)\n",
        "print(f.__doc__)"
      ]
    },
    {
      "cell_type": "markdown",
      "metadata": {
        "id": "VyikKBZIPGnP"
      },
      "source": [
        "# Class"
      ]
    },
    {
      "cell_type": "markdown",
      "metadata": {
        "id": "_ucOzFNkoLo-"
      },
      "source": [
        "### dataclass"
      ]
    },
    {
      "cell_type": "markdown",
      "metadata": {
        "id": "JVvav4siIZjL"
      },
      "source": [
        "#### vs regular class"
      ]
    },
    {
      "cell_type": "code",
      "execution_count": null,
      "metadata": {
        "id": "4CoBnGoYoYnL"
      },
      "outputs": [],
      "source": [
        "import dataclasses\n",
        "\n",
        "@dataclasses.dataclass\n",
        "class DataClassCard:\n",
        "    rank: str # type hint is mandatory, if not type, use 'typing.Any', see example below\n",
        "    suit: str"
      ]
    },
    {
      "cell_type": "code",
      "execution_count": null,
      "metadata": {
        "colab": {
          "base_uri": "https://localhost:8080/",
          "height": 35
        },
        "id": "zgoQWZCHoxz4",
        "outputId": "8a03095f-da2e-4425-a377-5e3f9e104762"
      },
      "outputs": [
        {
          "data": {
            "application/vnd.google.colaboratory.intrinsic+json": {
              "type": "string"
            },
            "text/plain": [
              "'Q'"
            ]
          },
          "execution_count": 3,
          "metadata": {},
          "output_type": "execute_result"
        }
      ],
      "source": [
        "# A data class comes with basic functionality\n",
        "queen_of_Spade = DataClassCard('Q', 'Spade')\n",
        "queen_of_Spade.rank"
      ]
    },
    {
      "cell_type": "code",
      "execution_count": null,
      "metadata": {
        "colab": {
          "base_uri": "https://localhost:8080/"
        },
        "id": "1xzp7SJUpPrO",
        "outputId": "649ed666-6ed7-4418-c608-068b94120eec"
      },
      "outputs": [
        {
          "data": {
            "text/plain": [
              "DataClassCard(rank='Q', suit='Spade')"
            ]
          },
          "execution_count": 4,
          "metadata": {},
          "output_type": "execute_result"
        }
      ],
      "source": [
        "queen_of_Spade"
      ]
    },
    {
      "cell_type": "markdown",
      "metadata": {
        "id": "aSZaPdy7pSge"
      },
      "source": [
        "It's equivalent regular class would be"
      ]
    },
    {
      "cell_type": "code",
      "execution_count": null,
      "metadata": {
        "id": "iSMV5TtbpRQP"
      },
      "outputs": [],
      "source": [
        "class RegularCard:\n",
        "    def __init__(self, rank, suit):\n",
        "        self.rank = rank\n",
        "        self.suit = suit\n",
        "\n",
        "    def __repr__(self):\n",
        "        return (f'{self.__class__.__name__}'\n",
        "                f'(rank={self.rank!r}, suit={self.suit!r})')\n",
        "\n",
        "    def __eq__(self, other):\n",
        "        if other.__class__ is not self.__class__:\n",
        "            return NotImplemented\n",
        "        return (self.rank, self.suit) == (other.rank, other.suit)"
      ]
    },
    {
      "cell_type": "markdown",
      "metadata": {
        "id": "_WBynqvuI9QQ"
      },
      "source": [
        "One more thing to mention: one class reference another"
      ]
    },
    {
      "cell_type": "code",
      "execution_count": null,
      "metadata": {
        "colab": {
          "base_uri": "https://localhost:8080/"
        },
        "id": "vSS7jWhhJJOA",
        "outputId": "25e22001-4bed-4aa3-d87e-f6719c599e9b"
      },
      "outputs": [
        {
          "data": {
            "text/plain": [
              "Deck(drawnCards=[DataClassCard(rank='Q', suit='Hearts'), DataClassCard(rank='A', suit='Spades')])"
            ]
          },
          "execution_count": 44,
          "metadata": {},
          "output_type": "execute_result"
        }
      ],
      "source": [
        "# complete example, Deck to reference two cards\n",
        "import dataclasses\n",
        "from typing import List\n",
        "\n",
        "@dataclasses.dataclass\n",
        "class DataClassCard:\n",
        "    rank: str\n",
        "    suit: str\n",
        "\n",
        "@dataclasses.dataclass\n",
        "class Deck:\n",
        "    drawnCards: List[DataClassCard] # reference above class to this one\n",
        "\n",
        "\n",
        "queen_of_hearts = DataClassCard('Q', 'Hearts')\n",
        "ace_of_spades = DataClassCard('A', 'Spades')\n",
        "cards_on_table = Deck([queen_of_hearts, ace_of_spades])\n",
        "cards_on_table"
      ]
    },
    {
      "cell_type": "markdown",
      "metadata": {
        "id": "oVLQv-_stVYh"
      },
      "source": [
        "#### vs make_dataclass"
      ]
    },
    {
      "cell_type": "code",
      "execution_count": null,
      "metadata": {
        "colab": {
          "base_uri": "https://localhost:8080/",
          "height": 35
        },
        "id": "kt5iOcSerLCn",
        "outputId": "cd25e84a-b42d-49f0-a0d4-509934adf199"
      },
      "outputs": [
        {
          "data": {
            "application/vnd.google.colaboratory.intrinsic+json": {
              "type": "string"
            },
            "text/plain": [
              "'Heart'"
            ]
          },
          "execution_count": 24,
          "metadata": {},
          "output_type": "execute_result"
        }
      ],
      "source": [
        "DataClassCard_1Line = dataclasses.make_dataclass('DataClassCard_1Line', ['suit', 'rank'])\n",
        "king_of_heart = DataClassCard_1Line('Heart', 'K')\n",
        "king_of_heart.suit"
      ]
    },
    {
      "cell_type": "markdown",
      "metadata": {
        "id": "J8ubCMqtv7oe"
      },
      "source": [
        "For complete make_dataclass method, reference in [docs.python.org](https://docs.python.org/3/library/dataclasses.html), another more complicated example below:"
      ]
    },
    {
      "cell_type": "code",
      "execution_count": null,
      "metadata": {
        "colab": {
          "base_uri": "https://localhost:8080/",
          "height": 35
        },
        "id": "XYPWRMvGuq7r",
        "outputId": "0c1fd347-1595-4e51-b56a-0d09d6c92616"
      },
      "outputs": [
        {
          "data": {
            "application/vnd.google.colaboratory.intrinsic+json": {
              "type": "string"
            },
            "text/plain": [
              "'JoeJoeJoe'"
            ]
          },
          "execution_count": 31,
          "metadata": {},
          "output_type": "execute_result"
        }
      ],
      "source": [
        "Card24Game = dataclasses.make_dataclass('Card24Game',[('rank', int), \n",
        "                                                      'holder', # any type\n",
        "                                                      ('suit', str, dataclasses.field(default=\"Diamond\"))],\n",
        "# dataclasses.field allows: default, default_factory, init, compare, repr, metadata\n",
        "# detaisl can be found in the docs.python.org link in above cell\n",
        "                                        namespace={'holderPoint':lambda self: self.holder * self.rank})\n",
        "Player1 = Card24Game(3, 'Joe', 'Spade')\n",
        "Player1.holderPoint()"
      ]
    },
    {
      "cell_type": "code",
      "execution_count": null,
      "metadata": {
        "colab": {
          "base_uri": "https://localhost:8080/"
        },
        "id": "mPx8Wo9g1LRB",
        "outputId": "5ed93d73-a986-430a-960d-b7acebe12f60"
      },
      "outputs": [
        {
          "data": {
            "text/plain": [
              "297"
            ]
          },
          "execution_count": 33,
          "metadata": {},
          "output_type": "execute_result"
        }
      ],
      "source": [
        "Player2 = Card24Game(3, 99, 'Spade')\n",
        "Player2.holderPoint()"
      ]
    },
    {
      "cell_type": "markdown",
      "metadata": {
        "id": "nYQC3FNh2a4d"
      },
      "source": [
        "Above example's equivalence (make_dataclass => dataclass)"
      ]
    },
    {
      "cell_type": "code",
      "execution_count": null,
      "metadata": {
        "colab": {
          "base_uri": "https://localhost:8080/",
          "height": 35
        },
        "id": "6IaiYvAR2YBA",
        "outputId": "6a74dca6-8523-450c-c439-37abca74d03a"
      },
      "outputs": [
        {
          "data": {
            "application/vnd.google.colaboratory.intrinsic+json": {
              "type": "string"
            },
            "text/plain": [
              "'Diamond'"
            ]
          },
          "execution_count": 37,
          "metadata": {},
          "output_type": "execute_result"
        }
      ],
      "source": [
        "@dataclasses.dataclass\n",
        "class Card24Game_manualDataClass:\n",
        "  rank: int\n",
        "  holder: 'typing.Any' # type hint is mandatory\n",
        "  suit: str = 'Diamond'\n",
        "\n",
        "  def holderPoint(self):\n",
        "    return self.holder * self.rank\n",
        "\n",
        "Player3 = Card24Game_manualDataClass(5, 'Lily')\n",
        "Player3.suit"
      ]
    },
    {
      "cell_type": "markdown",
      "metadata": {
        "id": "RxRVQg5MKeU8"
      },
      "source": [
        "A trap!! Specify a class default value with mutable variable, field(default_factory) is needed"
      ]
    },
    {
      "cell_type": "code",
      "execution_count": 73,
      "metadata": {
        "colab": {
          "base_uri": "https://localhost:8080/"
        },
        "id": "JgeFsoS4KXgf",
        "outputId": "db386b48-125e-4936-f7da-4435d02243bb"
      },
      "outputs": [
        {
          "data": {
            "text/plain": [
              "[DataClassCard(rank='2', suit='♣'),\n",
              " DataClassCard(rank='3', suit='♣'),\n",
              " DataClassCard(rank='4', suit='♣'),\n",
              " DataClassCard(rank='5', suit='♣'),\n",
              " DataClassCard(rank='6', suit='♣'),\n",
              " DataClassCard(rank='7', suit='♣'),\n",
              " DataClassCard(rank='8', suit='♣'),\n",
              " DataClassCard(rank='9', suit='♣'),\n",
              " DataClassCard(rank='10', suit='♣'),\n",
              " DataClassCard(rank='J', suit='♣'),\n",
              " DataClassCard(rank='Q', suit='♣'),\n",
              " DataClassCard(rank='K', suit='♣'),\n",
              " DataClassCard(rank='A', suit='♣'),\n",
              " DataClassCard(rank='2', suit='♢'),\n",
              " DataClassCard(rank='3', suit='♢'),\n",
              " DataClassCard(rank='4', suit='♢'),\n",
              " DataClassCard(rank='5', suit='♢'),\n",
              " DataClassCard(rank='6', suit='♢'),\n",
              " DataClassCard(rank='7', suit='♢'),\n",
              " DataClassCard(rank='8', suit='♢'),\n",
              " DataClassCard(rank='9', suit='♢'),\n",
              " DataClassCard(rank='10', suit='♢'),\n",
              " DataClassCard(rank='J', suit='♢'),\n",
              " DataClassCard(rank='Q', suit='♢'),\n",
              " DataClassCard(rank='K', suit='♢'),\n",
              " DataClassCard(rank='A', suit='♢'),\n",
              " DataClassCard(rank='2', suit='♡'),\n",
              " DataClassCard(rank='3', suit='♡'),\n",
              " DataClassCard(rank='4', suit='♡'),\n",
              " DataClassCard(rank='5', suit='♡'),\n",
              " DataClassCard(rank='6', suit='♡'),\n",
              " DataClassCard(rank='7', suit='♡'),\n",
              " DataClassCard(rank='8', suit='♡'),\n",
              " DataClassCard(rank='9', suit='♡'),\n",
              " DataClassCard(rank='10', suit='♡'),\n",
              " DataClassCard(rank='J', suit='♡'),\n",
              " DataClassCard(rank='Q', suit='♡'),\n",
              " DataClassCard(rank='K', suit='♡'),\n",
              " DataClassCard(rank='A', suit='♡'),\n",
              " DataClassCard(rank='2', suit='♠'),\n",
              " DataClassCard(rank='3', suit='♠'),\n",
              " DataClassCard(rank='4', suit='♠'),\n",
              " DataClassCard(rank='5', suit='♠'),\n",
              " DataClassCard(rank='6', suit='♠'),\n",
              " DataClassCard(rank='7', suit='♠'),\n",
              " DataClassCard(rank='8', suit='♠'),\n",
              " DataClassCard(rank='9', suit='♠'),\n",
              " DataClassCard(rank='10', suit='♠'),\n",
              " DataClassCard(rank='J', suit='♠'),\n",
              " DataClassCard(rank='Q', suit='♠'),\n",
              " DataClassCard(rank='K', suit='♠'),\n",
              " DataClassCard(rank='A', suit='♠')]"
            ]
          },
          "execution_count": 73,
          "metadata": {},
          "output_type": "execute_result"
        }
      ],
      "source": [
        "# A full deck of cards\n",
        "RANKS = '2 3 4 5 6 7 8 9 10 J Q K A'.split()\n",
        "SUITS = '♣ ♢ ♡ ♠'.split()\n",
        "\n",
        "def make_french_deck():\n",
        "    return [DataClassCard(r, s) for s in SUITS for r in RANKS]\n",
        "\n",
        "make_french_deck()"
      ]
    },
    {
      "cell_type": "code",
      "execution_count": null,
      "metadata": {
        "id": "xsq3m4e5Mqfl"
      },
      "outputs": [],
      "source": [
        "# Add the french deck to Class Deck's card property as default value\n",
        "import typing\n",
        "import dataclasses\n",
        "@dataclasses.dataclass\n",
        "class Deck:\n",
        "  # cards: typing.List[DataClassCard]=make_french_deck() # mutable default <class 'list'> for field cards is not allowed \n",
        "  # use default_factory, which takes Function that returns the initial value of the field\n",
        "  cards: typing.List[DataClassCard]= dataclasses.field(default_factory=make_french_deck)"
      ]
    },
    {
      "cell_type": "markdown",
      "metadata": {
        "id": "GLFbXNZTQiZP"
      },
      "source": [
        "#### Check class properties and methods"
      ]
    },
    {
      "cell_type": "markdown",
      "metadata": {
        "id": "0XificEN_BZH"
      },
      "source": [
        "dataclasses.fields can only check classes created by @dataclasses, regular class has no attribute '____dataclass_fields___', exception will thrown"
      ]
    },
    {
      "cell_type": "code",
      "execution_count": null,
      "metadata": {
        "colab": {
          "base_uri": "https://localhost:8080/"
        },
        "id": "K5aWNgjYQrmq",
        "outputId": "c3f9f6c6-8251-483b-b32d-811505eb86c3"
      },
      "outputs": [
        {
          "name": "stdout",
          "output_type": "stream",
          "text": [
            "Deck Class has\n",
            "(Field(name='cards',type=typing.List[__main__.DataClassCard],default=<dataclasses._MISSING_TYPE object at 0x7fb6b49b6dd0>,default_factory=<function make_french_deck at 0x7fb6b058fcb0>,init=True,repr=True,hash=None,compare=True,metadata=mappingproxy({}),_field_type=_FIELD),)\n",
            "DataClassCard Class has\n",
            "(Field(name='rank',type=<class 'str'>,default=<dataclasses._MISSING_TYPE object at 0x7fb6b49b6dd0>,default_factory=<dataclasses._MISSING_TYPE object at 0x7fb6b49b6dd0>,init=True,repr=True,hash=None,compare=True,metadata=mappingproxy({}),_field_type=_FIELD), Field(name='suit',type=<class 'str'>,default=<dataclasses._MISSING_TYPE object at 0x7fb6b49b6dd0>,default_factory=<dataclasses._MISSING_TYPE object at 0x7fb6b49b6dd0>,init=True,repr=True,hash=None,compare=True,metadata=mappingproxy({}),_field_type=_FIELD))\n"
          ]
        }
      ],
      "source": [
        "print(\"Deck Class has\")\n",
        "print(dataclasses.fields(Deck)) # fields, plural s\n",
        "print(\"DataClassCard Class has\")\n",
        "print(dataclasses.fields(DataClassCard))\n",
        "# print(dataclasses.fields(RegularCard))"
      ]
    },
    {
      "cell_type": "code",
      "execution_count": null,
      "metadata": {
        "colab": {
          "base_uri": "https://localhost:8080/"
        },
        "id": "X4wWQcJWSYxh",
        "outputId": "7f4da9ab-8da0-49ad-88b0-a5eb59e0d9c8"
      },
      "outputs": [
        {
          "data": {
            "text/plain": [
              "(Field(name='rank',type=<class 'int'>,default=<dataclasses._MISSING_TYPE object at 0x7fb6b49b6dd0>,default_factory=<dataclasses._MISSING_TYPE object at 0x7fb6b49b6dd0>,init=True,repr=True,hash=None,compare=True,metadata=mappingproxy({}),_field_type=_FIELD),\n",
              " Field(name='holder',type='typing.Any',default=<dataclasses._MISSING_TYPE object at 0x7fb6b49b6dd0>,default_factory=<dataclasses._MISSING_TYPE object at 0x7fb6b49b6dd0>,init=True,repr=True,hash=None,compare=True,metadata=mappingproxy({}),_field_type=_FIELD),\n",
              " Field(name='suit',type=<class 'str'>,default='Diamond',default_factory=<dataclasses._MISSING_TYPE object at 0x7fb6b49b6dd0>,init=True,repr=True,hash=None,compare=True,metadata=mappingproxy({}),_field_type=_FIELD))"
            ]
          },
          "execution_count": 55,
          "metadata": {},
          "output_type": "execute_result"
        }
      ],
      "source": [
        "dataclasses.fields(Card24Game)"
      ]
    },
    {
      "cell_type": "markdown",
      "metadata": {
        "id": "3MZssqLjTvat"
      },
      "source": [
        "#### Class repr update"
      ]
    },
    {
      "cell_type": "code",
      "execution_count": null,
      "metadata": {
        "colab": {
          "base_uri": "https://localhost:8080/"
        },
        "id": "LDULseSITETN",
        "outputId": "b1374ce3-d378-4c53-eff5-80affebb97a8"
      },
      "outputs": [
        {
          "data": {
            "text/plain": [
              "Deck(cards=[DataClassCard(rank='2', suit='♣'), DataClassCard(rank='3', suit='♣'), DataClassCard(rank='4', suit='♣'), DataClassCard(rank='5', suit='♣'), DataClassCard(rank='6', suit='♣'), DataClassCard(rank='7', suit='♣'), DataClassCard(rank='8', suit='♣'), DataClassCard(rank='9', suit='♣'), DataClassCard(rank='10', suit='♣'), DataClassCard(rank='J', suit='♣'), DataClassCard(rank='Q', suit='♣'), DataClassCard(rank='K', suit='♣'), DataClassCard(rank='A', suit='♣'), DataClassCard(rank='2', suit='♢'), DataClassCard(rank='3', suit='♢'), DataClassCard(rank='4', suit='♢'), DataClassCard(rank='5', suit='♢'), DataClassCard(rank='6', suit='♢'), DataClassCard(rank='7', suit='♢'), DataClassCard(rank='8', suit='♢'), DataClassCard(rank='9', suit='♢'), DataClassCard(rank='10', suit='♢'), DataClassCard(rank='J', suit='♢'), DataClassCard(rank='Q', suit='♢'), DataClassCard(rank='K', suit='♢'), DataClassCard(rank='A', suit='♢'), DataClassCard(rank='2', suit='♡'), DataClassCard(rank='3', suit='♡'), DataClassCard(rank='4', suit='♡'), DataClassCard(rank='5', suit='♡'), DataClassCard(rank='6', suit='♡'), DataClassCard(rank='7', suit='♡'), DataClassCard(rank='8', suit='♡'), DataClassCard(rank='9', suit='♡'), DataClassCard(rank='10', suit='♡'), DataClassCard(rank='J', suit='♡'), DataClassCard(rank='Q', suit='♡'), DataClassCard(rank='K', suit='♡'), DataClassCard(rank='A', suit='♡'), DataClassCard(rank='2', suit='♠'), DataClassCard(rank='3', suit='♠'), DataClassCard(rank='4', suit='♠'), DataClassCard(rank='5', suit='♠'), DataClassCard(rank='6', suit='♠'), DataClassCard(rank='7', suit='♠'), DataClassCard(rank='8', suit='♠'), DataClassCard(rank='9', suit='♠'), DataClassCard(rank='10', suit='♠'), DataClassCard(rank='J', suit='♠'), DataClassCard(rank='Q', suit='♠'), DataClassCard(rank='K', suit='♠'), DataClassCard(rank='A', suit='♠')])"
            ]
          },
          "execution_count": 58,
          "metadata": {},
          "output_type": "execute_result"
        }
      ],
      "source": [
        "# current class representation\n",
        "Deck()"
      ]
    },
    {
      "cell_type": "code",
      "execution_count": null,
      "metadata": {
        "id": "v_DdA8FJT-0x"
      },
      "outputs": [],
      "source": [
        "# add __string__ and __repr__ methods\n",
        "import typing\n",
        "import dataclasses\n",
        "\n",
        "@dataclasses.dataclass\n",
        "class DataClassCard:\n",
        "    rank: str\n",
        "    suit: str\n",
        "\n",
        "    def __str__(self):\n",
        "      return f'{self.suit}{self.rank}'\n",
        "\n",
        "@dataclasses.dataclass\n",
        "class Deck:\n",
        "  cards: typing.List[DataClassCard]= dataclasses.field(default_factory=make_french_deck) # not make_french_deck(), default factory take function only\n",
        "\n",
        "  def __repr__(self):\n",
        "    cards = ', '.join(f'{c!s}' for c in self.cards) #  the !s specifier in the {c!s} format string means we explicitly want to use the str() from DataClassCard\n",
        "    return f'{self.__class__.__name__}({cards})'"
      ]
    },
    {
      "cell_type": "code",
      "execution_count": null,
      "metadata": {
        "colab": {
          "base_uri": "https://localhost:8080/"
        },
        "id": "gQhISLS_Umba",
        "outputId": "1bb4bd80-c018-4cdd-8503-f80aece1488b"
      },
      "outputs": [
        {
          "data": {
            "text/plain": [
              "Deck(♣2, ♣3, ♣4, ♣5, ♣6, ♣7, ♣8, ♣9, ♣10, ♣J, ♣Q, ♣K, ♣A, ♢2, ♢3, ♢4, ♢5, ♢6, ♢7, ♢8, ♢9, ♢10, ♢J, ♢Q, ♢K, ♢A, ♡2, ♡3, ♡4, ♡5, ♡6, ♡7, ♡8, ♡9, ♡10, ♡J, ♡Q, ♡K, ♡A, ♠2, ♠3, ♠4, ♠5, ♠6, ♠7, ♠8, ♠9, ♠10, ♠J, ♠Q, ♠K, ♠A)"
            ]
          },
          "execution_count": 64,
          "metadata": {},
          "output_type": "execute_result"
        }
      ],
      "source": [
        "Deck()"
      ]
    },
    {
      "cell_type": "markdown",
      "metadata": {
        "id": "Mz-fJnM7pExf"
      },
      "source": [
        "#### compare instances"
      ]
    },
    {
      "cell_type": "code",
      "execution_count": 67,
      "metadata": {
        "id": "KE-L1AeApIjp"
      },
      "outputs": [],
      "source": [
        "RANKS = '2 3 4 5 6 7 8 9 10 J Q K A'.split()\n",
        "SUITS = '♣ ♢ ♡ ♠'.split()\n",
        "\n",
        "import dataclasses\n",
        "@dataclasses.dataclass(order=True) # init=True, repr=True, eq=True, order=False, unsafe_hash=Flase, frozen=False\n",
        "class DataClassCard:\n",
        "    rank: str\n",
        "    suit: str"
      ]
    },
    {
      "cell_type": "code",
      "execution_count": 72,
      "metadata": {
        "colab": {
          "base_uri": "https://localhost:8080/"
        },
        "id": "zVEEyuMhqNBz",
        "outputId": "6daa6f74-828b-4de0-d588-7e53846c520f"
      },
      "outputs": [
        {
          "data": {
            "text/plain": [
              "True"
            ]
          },
          "execution_count": 72,
          "metadata": {},
          "output_type": "execute_result"
        }
      ],
      "source": [
        "queen_of_hearts = DataClassCard('Q', '♡')\n",
        "king_of_spades = DataClassCard('K', '♠')\n",
        "queen_of_hearts > king_of_spades # Q is bigger than K?"
      ]
    },
    {
      "cell_type": "code",
      "execution_count": 69,
      "metadata": {
        "colab": {
          "base_uri": "https://localhost:8080/"
        },
        "id": "d91iXz2DqS--",
        "outputId": "40116189-21be-4f5b-f5a5-804fed10c939"
      },
      "outputs": [
        {
          "data": {
            "text/plain": [
              "False"
            ]
          },
          "execution_count": 69,
          "metadata": {},
          "output_type": "execute_result"
        }
      ],
      "source": [
        "('A', '♠') > ('Q', '♡')"
      ]
    },
    {
      "cell_type": "markdown",
      "metadata": {
        "id": "7CFGAMqtr-y4"
      },
      "source": [
        "To compare properly, we can introduce sort_index to each card"
      ]
    },
    {
      "cell_type": "code",
      "execution_count": 90,
      "metadata": {
        "colab": {
          "base_uri": "https://localhost:8080/"
        },
        "id": "z8zLqGkYszAC",
        "outputId": "afa7ba8d-fdbc-4106-d6b2-72562ccffa27"
      },
      "outputs": [
        {
          "name": "stdout",
          "output_type": "stream",
          "text": [
            "37\n",
            "40\n"
          ]
        }
      ],
      "source": [
        "# assign each card with an index number, we can use below method\n",
        "print(RANKS.index(\"J\") * 4 + SUITS.index(\"♢\"))\n",
        "print(RANKS.index(\"Q\") * 4 + SUITS.index(\"♣\"))# where 4 is len(SUITS)"
      ]
    },
    {
      "cell_type": "code",
      "execution_count": 97,
      "metadata": {
        "colab": {
          "base_uri": "https://localhost:8080/"
        },
        "id": "cBVPaxPIugnz",
        "outputId": "613642b3-bf46-4c19-96f5-55c2541e6449"
      },
      "outputs": [
        {
          "data": {
            "text/plain": [
              "False"
            ]
          },
          "execution_count": 97,
          "metadata": {},
          "output_type": "execute_result"
        }
      ],
      "source": [
        "#use __post_init__ to create an attribute after __init__ defined\n",
        "import dataclasses\n",
        "@dataclasses.dataclass(order=True) # init=True, repr=True, eq=True, order=False, unsafe_hash=Flase, frozen=False\n",
        "class DataClassCard:\n",
        "    #sort_index must be places as the 1st attribute, so instance know to compare this\n",
        "    sort_index: int = dataclasses.field(init=False, repr=False) # field init = False, indicate this isn't required when instantiate\n",
        "    rank: str\n",
        "    suit: str\n",
        "    \n",
        "\n",
        "    def __post_init__(self):\n",
        "      self.sort_index = (RANKS.index(self.rank) * len(SUITS)\n",
        "                        + SUITS.index(self.suit))\n",
        "  \n",
        "\n",
        "queen_of_hearts = DataClassCard('Q', '♡')\n",
        "king_of_spades = DataClassCard('K', '♠')\n",
        "queen_of_hearts > king_of_spades"
      ]
    },
    {
      "cell_type": "markdown",
      "metadata": {
        "id": "DquKiRDhzSAV"
      },
      "source": [
        "Immutable attribute"
      ]
    },
    {
      "cell_type": "code",
      "execution_count": 102,
      "metadata": {
        "colab": {
          "base_uri": "https://localhost:8080/",
          "height": 35
        },
        "id": "YZ04kcHfz1DB",
        "outputId": "5f78c35c-f5ef-4b92-ba2b-da0461a2e691"
      },
      "outputs": [
        {
          "data": {
            "application/vnd.google.colaboratory.intrinsic+json": {
              "type": "string"
            },
            "text/plain": [
              "'Q'"
            ]
          },
          "execution_count": 102,
          "metadata": {},
          "output_type": "execute_result"
        }
      ],
      "source": [
        "RANKS = '2 3 4 5 6 7 8 9 10 J Q K A'.split()\n",
        "SUITS = '♣ ♢ ♡ ♠'.split()\n",
        "\n",
        "import dataclasses\n",
        "@dataclasses.dataclass # (frozen=True)\n",
        "class DataClassCard:\n",
        "    rank: str\n",
        "    suit: str\n",
        "\n",
        "king_of_spades = DataClassCard('K', '♠')\n",
        "king_of_spades.rank=\"Q\" # this will be an exception if @dataclasses.dataclass(frozen=True)\n",
        "king_of_spades.rank"
      ]
    },
    {
      "cell_type": "markdown",
      "metadata": {
        "id": "8EWV0vqMPKZx"
      },
      "source": [
        "## inheritance\n"
      ]
    },
    {
      "cell_type": "code",
      "execution_count": null,
      "metadata": {
        "id": "8Z0O-xlKm1D9"
      },
      "outputs": [],
      "source": [
        "class Rectangle:\n",
        "    def __init__(self, length, width):\n",
        "        self.length = length\n",
        "        self.width = width\n",
        "\n",
        "    def area(self):\n",
        "        return self.length * self.width\n",
        "\n",
        "    def perimeter(self):\n",
        "        return 2 * self.length + 2 * self.width\n",
        "\n",
        "# Here we declare that the Square class inherits from the Rectangle class\n",
        "class Square(Rectangle):\n",
        "    def __init__(self, length):\n",
        "        super().__init__(length, length)\n",
        "\n",
        "#child class normally just change of parameters but use existing parents methods"
      ]
    },
    {
      "cell_type": "code",
      "execution_count": null,
      "metadata": {
        "colab": {
          "base_uri": "https://localhost:8080/"
        },
        "id": "q6ZXk4z5PaCe",
        "outputId": "848bfd25-9f05-45df-9492-f42e8195eb71"
      },
      "outputs": [
        {
          "data": {
            "text/plain": [
              "6"
            ]
          },
          "execution_count": 96,
          "metadata": {},
          "output_type": "execute_result"
        }
      ],
      "source": [
        "rec = Rectangle(2,3)\n",
        "rec.area()"
      ]
    },
    {
      "cell_type": "code",
      "execution_count": null,
      "metadata": {
        "colab": {
          "base_uri": "https://localhost:8080/"
        },
        "id": "Ee4Wkfr-Phvc",
        "outputId": "21ebde34-839f-4d0a-d9b0-584de619df5e"
      },
      "outputs": [
        {
          "data": {
            "text/plain": [
              "25"
            ]
          },
          "execution_count": 97,
          "metadata": {},
          "output_type": "execute_result"
        }
      ],
      "source": [
        "squ = Square(5)\n",
        "squ.area()"
      ]
    },
    {
      "cell_type": "markdown",
      "metadata": {
        "id": "my9DpLnP0zEw"
      },
      "source": [
        "How about dataclasses? Let's create a city longitude and latitude class"
      ]
    },
    {
      "cell_type": "code",
      "execution_count": 103,
      "metadata": {
        "colab": {
          "base_uri": "https://localhost:8080/"
        },
        "id": "oMWR9_rdPsV0",
        "outputId": "285f156b-696a-4ff9-a675-f5b53f0096db"
      },
      "outputs": [
        {
          "data": {
            "text/plain": [
              "Capital(name='Oslo', lon=10.8, lat=59.9, country='Norway')"
            ]
          },
          "execution_count": 103,
          "metadata": {},
          "output_type": "execute_result"
        }
      ],
      "source": [
        "from dataclasses import dataclass\n",
        "\n",
        "@dataclass\n",
        "class Position:\n",
        "    name: str\n",
        "    lon: float\n",
        "    lat: float\n",
        "\n",
        "@dataclass\n",
        "class Capital(Position):\n",
        "    country: str\n",
        "\n",
        "Capital('Oslo', 10.8, 59.9, 'Norway')"
      ]
    },
    {
      "cell_type": "markdown",
      "metadata": {
        "id": "lqLhqZ6W1GFa"
      },
      "source": [
        "**Default value caveat**: if parent class has default attribute, all child classes' attribute must have as well!"
      ]
    },
    {
      "cell_type": "code",
      "execution_count": 104,
      "metadata": {
        "colab": {
          "base_uri": "https://localhost:8080/"
        },
        "id": "VqGQ8eb81FC6",
        "outputId": "73ebdbcc-07b6-4aab-a123-aa2db0b90196"
      },
      "outputs": [
        {
          "data": {
            "text/plain": [
              "59.9"
            ]
          },
          "execution_count": 104,
          "metadata": {},
          "output_type": "execute_result"
        }
      ],
      "source": [
        "# interesting example that child can also overwrite default value from parent\n",
        "from dataclasses import dataclass\n",
        "\n",
        "@dataclass\n",
        "class Position:\n",
        "    name: str\n",
        "    lon: float = 0.0\n",
        "    lat: float = 0.0\n",
        "\n",
        "@dataclass\n",
        "class Capital(Position):\n",
        "    country: str = 'Unknown'\n",
        "    lat: float = 40.0\n",
        "\n",
        "city1 = Capital('Oslo', 10.8, 59.9, 'Norway')\n",
        "city1.lat"
      ]
    },
    {
      "cell_type": "code",
      "execution_count": 105,
      "metadata": {
        "colab": {
          "base_uri": "https://localhost:8080/"
        },
        "id": "b6y_qf374S0F",
        "outputId": "ca265767-df1f-4232-bf45-bc75ff19b4c6"
      },
      "outputs": [
        {
          "data": {
            "text/plain": [
              "Capital(name='Madrid', lon=0.0, lat=40.0, country='Spain')"
            ]
          },
          "execution_count": 105,
          "metadata": {},
          "output_type": "execute_result"
        }
      ],
      "source": [
        "city2 = Capital('Madrid', country='Spain')\n",
        "city2"
      ]
    },
    {
      "cell_type": "code",
      "execution_count": null,
      "metadata": {
        "id": "RwXZrZvT4YQ8"
      },
      "outputs": [],
      "source": []
    }
  ],
  "metadata": {
    "colab": {
      "name": "kai-python-notes.ipynb",
      "provenance": [],
      "toc_visible": true
    },
    "interpreter": {
      "hash": "a396682cb6fd648c5c82946475c977c10fc97e5ab10367cecc1b2477b6f76451"
    },
    "kernelspec": {
      "display_name": "Python 3.9.1 64-bit",
      "language": "python",
      "name": "python3"
    },
    "language_info": {
      "codemirror_mode": {
        "name": "ipython",
        "version": 3
      },
      "file_extension": ".py",
      "mimetype": "text/x-python",
      "name": "python",
      "nbconvert_exporter": "python",
      "pygments_lexer": "ipython3",
      "version": "3.9.1"
    },
    "orig_nbformat": 4
  },
  "nbformat": 4,
  "nbformat_minor": 0
}

{
  "cells": [
    {
      "cell_type": "markdown",
      "metadata": {
        "id": "v9xlJ9LAuFys"
      },
      "source": [
        "# Strings"
      ]
    },
    {
      "cell_type": "markdown",
      "metadata": {
        "id": "S-ck6RmUuFy5"
      },
      "source": [
        "## bytes, Strings, encoding, decoding, utf-8, utf-32"
      ]
    },
    {
      "cell_type": "code",
      "execution_count": null,
      "metadata": {
        "id": "zsfyqYw3uFy7",
        "outputId": "6f1c7437-4ff4-4332-ab94-f2f8807e3695"
      },
      "outputs": [
        {
          "name": "stdout",
          "output_type": "stream",
          "text": [
            "b'ABCD'\n",
            "ABCD normal string\n"
          ]
        }
      ],
      "source": [
        "b = bytes([0x41, 0x42, 0x43, 0x44])\n",
        "print(b)\n",
        "s = \"normal string\"\n",
        "    # Try combining them print(s+b). This will cause an error\n",
        "    # decode the bytes to utf-8 first\n",
        "print(b.decode('utf-8')+\" \"+s)"
      ]
    },
    {
      "cell_type": "code",
      "execution_count": null,
      "metadata": {
        "id": "o6V_kTSruFzA",
        "outputId": "a3bc1229-1c96-41f5-e959-a9ea44ae6c86"
      },
      "outputs": [
        {
          "data": {
            "text/plain": [
              "b'ABCDnormal string'"
            ]
          },
          "execution_count": 4,
          "metadata": {},
          "output_type": "execute_result"
        }
      ],
      "source": [
        "#or encode the string to byte, bytes can concate \n",
        "bb = b + s.encode('UTF-8')\n",
        "bb"
      ]
    },
    {
      "cell_type": "code",
      "execution_count": null,
      "metadata": {
        "id": "0NCPAYCJuFzC",
        "outputId": "86889cb2-fd71-4550-cc0b-e96100040d30"
      },
      "outputs": [
        {
          "name": "stdout",
          "output_type": "stream",
          "text": [
            "b'\\xff\\xfe\\x00\\x00n\\x00\\x00\\x00o\\x00\\x00\\x00r\\x00\\x00\\x00m\\x00\\x00\\x00a\\x00\\x00\\x00l\\x00\\x00\\x00 \\x00\\x00\\x00s\\x00\\x00\\x00t\\x00\\x00\\x00r\\x00\\x00\\x00i\\x00\\x00\\x00n\\x00\\x00\\x00g\\x00\\x00\\x00'\n"
          ]
        }
      ],
      "source": [
        "# encode the string as UTF-32\n",
        "b3 = s.encode('utf-32')\n",
        "print(b3)"
      ]
    },
    {
      "cell_type": "markdown",
      "metadata": {
        "id": "36eMLLKKuFzF"
      },
      "source": [
        "## format, template, substitute"
      ]
    },
    {
      "cell_type": "code",
      "execution_count": null,
      "metadata": {
        "id": "fhGxjdAAuFzG",
        "outputId": "cd91a855-5aea-4d39-8b27-a0830f7b31b7"
      },
      "outputs": [
        {
          "data": {
            "text/plain": [
              "\"You're watching Advanced Python by Joe Marini\""
            ]
          },
          "execution_count": 8,
          "metadata": {},
          "output_type": "execute_result"
        }
      ],
      "source": [
        "str1 = \"You're watching {0} by {1}\".format(\"Advanced Python\", \"Joe Marini\")\n",
        "str1"
      ]
    },
    {
      "cell_type": "code",
      "execution_count": null,
      "metadata": {
        "id": "N5vzueNduFzJ",
        "outputId": "93e14eb3-ede7-4507-f7bc-8392c2b53445"
      },
      "outputs": [
        {
          "name": "stdout",
          "output_type": "stream",
          "text": [
            "You're watching Advanced Python by Joe Marini\n"
          ]
        }
      ],
      "source": [
        "from string import Template\n",
        "# create a template with placeholders\n",
        "templ = Template(\"You're watching ${title} by ${author}\")\n",
        "\n",
        "# use the substitute method with keyword arguments\n",
        "str2 = templ.substitute(title=\"Advanced Python\", author=\"Joe Marini\")\n",
        "print(str2)"
      ]
    },
    {
      "cell_type": "code",
      "execution_count": null,
      "metadata": {
        "id": "Yeil6WJquFzL",
        "outputId": "dedfc39f-076e-4256-9b39-3a58afc203ef"
      },
      "outputs": [
        {
          "name": "stdout",
          "output_type": "stream",
          "text": [
            "You're watching Advanced Python by Joe Marini\n"
          ]
        }
      ],
      "source": [
        "# use the substitute method with a dictionary\n",
        "data = { \n",
        "    \"author\": \"Joe Marini\",\n",
        "    \"title\": \"Advanced Python\"\n",
        "}\n",
        "str3 = templ.substitute(data)    \n",
        "print(str3)"
      ]
    },
    {
      "cell_type": "markdown",
      "source": [
        "# List"
      ],
      "metadata": {
        "id": "2wMcGoXiv5Wd"
      }
    },
    {
      "cell_type": "markdown",
      "source": [
        "## iterator, enumerate, zip"
      ],
      "metadata": {
        "id": "1Rg3XlRswQnH"
      }
    },
    {
      "cell_type": "code",
      "source": [
        "days = [\"Sun\", \"Mon\", \"Tue\", \"Wed\", \"Thu\", \"Fri\", \"Sat\"]\n",
        "daysFr = [\"Dim\", \"Lun\", \"Mar\", \"Mer\", \"Jeu\", \"Ven\", \"Sam\"]\n",
        "\n",
        "# use iter to create an iterator over a collection\n",
        "i = iter(days)\n",
        "print(type(i))\n",
        "print(next(i))  # Sun\n",
        "print(next(i))  # Mon\n",
        "print(next(i))  # Tue\n",
        "\n"
      ],
      "metadata": {
        "id": "E1Yh_6RPwHsk",
        "outputId": "58d6a932-876b-468c-fe89-dc0ac65f0a2d",
        "colab": {
          "base_uri": "https://localhost:8080/"
        }
      },
      "execution_count": null,
      "outputs": [
        {
          "output_type": "stream",
          "name": "stdout",
          "text": [
            "<class 'list_iterator'>\n",
            "Sun\n",
            "Mon\n",
            "Tue\n"
          ]
        }
      ]
    },
    {
      "cell_type": "code",
      "source": [
        "# iterate using a function and a sentinel\n",
        "# with open(\"testfile.txt\", \"r\") as fp:\n",
        "#     for line in iter(fp.readline, ''):\n",
        "#         print(line)\n",
        "\n",
        "print(\"use regular interation over the days\")\n",
        "for m in range(len(days)):\n",
        "    print(m+1, days[m])\n",
        "\n",
        "print(\"using enumerate reduces code and provides a counter\")\n",
        "for i, m in enumerate(days, start=1):\n",
        "    print(i, m)"
      ],
      "metadata": {
        "id": "8VEw_WZAwdAb",
        "outputId": "76be4102-930a-4126-db38-bc7fb426a8da",
        "colab": {
          "base_uri": "https://localhost:8080/"
        }
      },
      "execution_count": null,
      "outputs": [
        {
          "output_type": "stream",
          "name": "stdout",
          "text": [
            "use regular interation over the days\n",
            "1 Sun\n",
            "2 Mon\n",
            "3 Tue\n",
            "4 Wed\n",
            "5 Thu\n",
            "6 Fri\n",
            "7 Sat\n",
            "using enumerate reduces code and provides a counter\n",
            "1 Sun\n",
            "2 Mon\n",
            "3 Tue\n",
            "4 Wed\n",
            "5 Thu\n",
            "6 Fri\n",
            "7 Sat\n",
            "use zip to combine sequences\n",
            "('Sun', 'Dim')\n",
            "('Mon', 'Lun')\n",
            "('Tue', 'Mar')\n",
            "('Wed', 'Mer')\n",
            "('Thu', 'Jeu')\n",
            "('Fri', 'Ven')\n",
            "('Sat', 'Sam')\n",
            "zipped list type is:  <class 'tuple'>\n",
            "[('Sun', 'Dim'), ('Mon', 'Lun'), ('Tue', 'Mar'), ('Wed', 'Mer'), ('Thu', 'Jeu'), ('Fri', 'Ven'), ('Sat', 'Sam')]\n",
            "enumerate the tuples\n",
            "1 Sun = Dim in French\n",
            "2 Mon = Lun in French\n",
            "3 Tue = Mar in French\n",
            "4 Wed = Mer in French\n",
            "5 Thu = Jeu in French\n",
            "6 Fri = Ven in French\n",
            "7 Sat = Sam in French\n"
          ]
        }
      ]
    },
    {
      "cell_type": "code",
      "source": [
        "print(\"use zip to combine sequences\") \n",
        "for m in zip(days, daysFr):\n",
        "    print(m)\n",
        "\n",
        "print(\"zipped list type is: \", type(m))\n",
        "\n",
        "print(list(zip(days, daysFr)))\n",
        "\n",
        "print(\"enumerate the tuples\")\n",
        "for i, m in enumerate(zip(days, daysFr), start=1):\n",
        "    print(i, m[0], \"=\", m[1], \"in French\")"
      ],
      "metadata": {
        "id": "EP4I-LBYx34w",
        "outputId": "74651b94-7a3e-4810-801a-174f97bb0630",
        "colab": {
          "base_uri": "https://localhost:8080/"
        }
      },
      "execution_count": null,
      "outputs": [
        {
          "output_type": "stream",
          "name": "stdout",
          "text": [
            "use zip to combine sequences\n",
            "('Sun', 'Dim')\n",
            "('Mon', 'Lun')\n",
            "('Tue', 'Mar')\n",
            "('Wed', 'Mer')\n",
            "('Thu', 'Jeu')\n",
            "('Fri', 'Ven')\n",
            "('Sat', 'Sam')\n",
            "zipped list type is:  <class 'tuple'>\n",
            "[('Sun', 'Dim'), ('Mon', 'Lun'), ('Tue', 'Mar'), ('Wed', 'Mer'), ('Thu', 'Jeu'), ('Fri', 'Ven'), ('Sat', 'Sam')]\n",
            "enumerate the tuples\n",
            "1 Sun = Dim in French\n",
            "2 Mon = Lun in French\n",
            "3 Tue = Mar in French\n",
            "4 Wed = Mer in French\n",
            "5 Thu = Jeu in French\n",
            "6 Fri = Ven in French\n",
            "7 Sat = Sam in French\n"
          ]
        }
      ]
    },
    {
      "cell_type": "markdown",
      "source": [
        "## itertools cycle, count, compress, accumulate, chain, dropwhile, takewhile"
      ],
      "metadata": {
        "id": "XMDwivR2z0HR"
      }
    },
    {
      "cell_type": "code",
      "source": [
        "import itertools\n",
        "seq1 = [\"Joe\", \"John\", \"Mike\"]\n",
        "cycle1 = itertools.cycle(seq1)\n",
        "print(next(cycle1))\n",
        "print(next(cycle1))\n",
        "print(next(cycle1))\n",
        "print(next(cycle1))"
      ],
      "metadata": {
        "id": "OeYsv9J2wvTT",
        "outputId": "0667dde2-fc4d-4cd7-b80c-0e6db4be46d9",
        "colab": {
          "base_uri": "https://localhost:8080/"
        }
      },
      "execution_count": null,
      "outputs": [
        {
          "output_type": "stream",
          "name": "stdout",
          "text": [
            "Joe\n",
            "John\n",
            "Mike\n",
            "Joe\n"
          ]
        }
      ]
    },
    {
      "cell_type": "code",
      "source": [
        "# use count to create a simple counter\n",
        "count1 = itertools.count(100, 10)\n",
        "print(next(count1))\n",
        "print(next(count1))\n",
        "print(next(count1))"
      ],
      "metadata": {
        "id": "TdMw_WvWzJuu",
        "outputId": "e7785deb-30ea-4ffa-92bd-96891d49ca3c",
        "colab": {
          "base_uri": "https://localhost:8080/"
        }
      },
      "execution_count": null,
      "outputs": [
        {
          "output_type": "stream",
          "name": "stdout",
          "text": [
            "100\n",
            "110\n",
            "120\n"
          ]
        }
      ]
    },
    {
      "cell_type": "code",
      "source": [
        "# accumulate creates an iterator that accumulates values\n",
        "vals = [10,20,30,40,50,40,30]\n",
        "acc = itertools.accumulate(vals, max)\n",
        "print(list(acc))"
      ],
      "metadata": {
        "id": "3dbi4kKh0FVo",
        "outputId": "55741a44-8acc-45cb-d119-5e175868dad3",
        "colab": {
          "base_uri": "https://localhost:8080/"
        }
      },
      "execution_count": null,
      "outputs": [
        {
          "output_type": "stream",
          "name": "stdout",
          "text": [
            "[10, 20, 30, 40, 50, 50, 50]\n"
          ]
        }
      ]
    },
    {
      "cell_type": "code",
      "source": [
        "# use chain to connect sequences together\n",
        "x = itertools.chain(\"ABCD\", \"1234\")\n",
        "print(list(x))"
      ],
      "metadata": {
        "id": "gGVuFQ_w0Xx5",
        "outputId": "b2874eb0-8f3a-45e5-e0b5-7b80078c2717",
        "colab": {
          "base_uri": "https://localhost:8080/"
        }
      },
      "execution_count": null,
      "outputs": [
        {
          "output_type": "stream",
          "name": "stdout",
          "text": [
            "['A', 'B', 'C', 'D', '1', '2', '3', '4']\n"
          ]
        }
      ]
    },
    {
      "cell_type": "code",
      "source": [
        "# filter a list by another boolean list\n",
        "list_a = [1, 2, 4, 6]\n",
        "filterlist = [True, False, True, False]\n",
        "list(itertools.compress(list_a, filterlist))\n"
      ],
      "metadata": {
        "id": "a_rvIb4pMl8v",
        "outputId": "54d93eac-0228-4b4a-e0bd-983dcaf67653",
        "colab": {
          "base_uri": "https://localhost:8080/"
        }
      },
      "execution_count": null,
      "outputs": [
        {
          "output_type": "execute_result",
          "data": {
            "text/plain": [
              "[1, 4]"
            ]
          },
          "metadata": {},
          "execution_count": 7
        }
      ]
    },
    {
      "cell_type": "code",
      "source": [
        "def lessThan40(x):\n",
        "    return x < 40\n",
        "\n",
        "# dropwhile and takewhile will return values until a certain condition is met that stops them\n",
        "print(list(itertools.dropwhile(lessThan40, vals)))\n",
        "print(list(itertools.takewhile(lessThan40, vals)))"
      ],
      "metadata": {
        "id": "FFYZchMr01W9",
        "outputId": "d651af75-7837-410c-8ed4-e6b8c5bf27fd",
        "colab": {
          "base_uri": "https://localhost:8080/"
        }
      },
      "execution_count": null,
      "outputs": [
        {
          "output_type": "stream",
          "name": "stdout",
          "text": [
            "[40, 50, 40, 30]\n",
            "[10, 20, 30]\n"
          ]
        }
      ]
    },
    {
      "cell_type": "markdown",
      "source": [
        "## filter, map, sorted"
      ],
      "metadata": {
        "id": "X2kMdcRiKANm"
      }
    },
    {
      "cell_type": "markdown",
      "source": [
        "filter and map use function to transform list values. Map does one to one (or one to two, one to three mappings), filter use true/false to filter list"
      ],
      "metadata": {
        "id": "-eHDY42vhhAP"
      }
    },
    {
      "cell_type": "markdown",
      "source": [
        "### filter"
      ],
      "metadata": {
        "id": "nSdMSgH7ohBL"
      }
    },
    {
      "cell_type": "code",
      "source": [
        "# filter(function, iterable) https://docs.python.org/3/library/functions.html\n",
        "\n",
        "def filterOdd(x):\n",
        "    if x % 2 == 0:\n",
        "        return False\n",
        "    return True\n",
        "\n",
        "nums = (1, 8, 4, 5, 13, 26, 381, 410, 58)\n",
        "\n",
        "list(filter(filterOdd, nums))"
      ],
      "metadata": {
        "id": "oCDLOPEdKO2Y",
        "outputId": "6a02151f-64ed-4a3e-e26e-d4cd82a97513",
        "colab": {
          "base_uri": "https://localhost:8080/"
        }
      },
      "execution_count": 3,
      "outputs": [
        {
          "output_type": "execute_result",
          "data": {
            "text/plain": [
              "[1, 5, 13, 381]"
            ]
          },
          "metadata": {},
          "execution_count": 3
        }
      ]
    },
    {
      "cell_type": "code",
      "source": [
        "def filterUpper(x):\n",
        "  if x.isupper():\n",
        "    return True\n",
        "  else:\n",
        "    return False\n",
        "\n",
        "chars = \"abcDeFGHiJklmnoP\"\n",
        "\n",
        "list(filter(filterUpper, chars))"
      ],
      "metadata": {
        "id": "NJb1rm1lLwBS",
        "outputId": "10de317d-dfb3-4245-9c0e-7c29f30f19d3",
        "colab": {
          "base_uri": "https://localhost:8080/"
        }
      },
      "execution_count": 1,
      "outputs": [
        {
          "output_type": "execute_result",
          "data": {
            "text/plain": [
              "['D', 'F', 'G', 'H', 'J', 'P']"
            ]
          },
          "metadata": {},
          "execution_count": 1
        }
      ]
    },
    {
      "cell_type": "markdown",
      "source": [
        "### simple map"
      ],
      "metadata": {
        "id": "3ZgAKThionId"
      }
    },
    {
      "cell_type": "code",
      "source": [
        "def square(x):\n",
        "  return x*x\n",
        "\n",
        "list(map(square, nums)) # list comprehension alterative [square(x) for x in nums]"
      ],
      "metadata": {
        "id": "KhAxwR-ng1h6",
        "outputId": "cfb6da75-4f84-407c-ed05-55a4ab6f380d",
        "colab": {
          "base_uri": "https://localhost:8080/"
        }
      },
      "execution_count": 26,
      "outputs": [
        {
          "output_type": "execute_result",
          "data": {
            "text/plain": [
              "[1, 64, 16, 25, 169, 676, 145161, 168100, 3364]"
            ]
          },
          "metadata": {},
          "execution_count": 26
        }
      ]
    },
    {
      "cell_type": "code",
      "source": [
        "# use built-in function to map\n",
        "list(map(ord, chars))"
      ],
      "metadata": {
        "id": "c1ASAH6_h0gL",
        "outputId": "5727f983-b104-41f6-e6e3-59449adf1f5c",
        "colab": {
          "base_uri": "https://localhost:8080/"
        }
      },
      "execution_count": 5,
      "outputs": [
        {
          "output_type": "execute_result",
          "data": {
            "text/plain": [
              "[97, 98, 99, 68, 101, 70, 71, 72, 105, 74, 107, 108, 109, 110, 111, 80]"
            ]
          },
          "metadata": {},
          "execution_count": 5
        }
      ]
    },
    {
      "cell_type": "code",
      "source": [
        "list(map(len, chars))"
      ],
      "metadata": {
        "id": "s-e34FwniG7V",
        "outputId": "e0f4bd6f-aa2c-477a-987c-2dcd1d67fb04",
        "colab": {
          "base_uri": "https://localhost:8080/"
        }
      },
      "execution_count": 6,
      "outputs": [
        {
          "output_type": "execute_result",
          "data": {
            "text/plain": [
              "[1, 1, 1, 1, 1, 1, 1, 1, 1, 1, 1, 1, 1, 1, 1, 1]"
            ]
          },
          "metadata": {},
          "execution_count": 6
        }
      ]
    },
    {
      "cell_type": "markdown",
      "source": [
        "map one to two"
      ],
      "metadata": {
        "id": "dw6jJnibigNh"
      }
    },
    {
      "cell_type": "code",
      "source": [
        "powerIndex=[2,1,3]\n",
        "list(map(pow, nums, powerIndex)) #The final iterable is only as long as the shortest iterable"
      ],
      "metadata": {
        "id": "Gt6fd8_CiTrH",
        "outputId": "391d3f5c-1f5d-4df1-d643-1c6c312d5250",
        "colab": {
          "base_uri": "https://localhost:8080/"
        }
      },
      "execution_count": 7,
      "outputs": [
        {
          "output_type": "execute_result",
          "data": {
            "text/plain": [
              "[1, 8, 64]"
            ]
          },
          "metadata": {},
          "execution_count": 7
        }
      ]
    },
    {
      "cell_type": "markdown",
      "source": [
        "### lambda and function map"
      ],
      "metadata": {
        "id": "z6EfiCvti9CH"
      }
    },
    {
      "cell_type": "code",
      "source": [
        "list(map(lambda x, y: x - y, [2, 4, 6], [1, 3, 5]))"
      ],
      "metadata": {
        "id": "eT47P1EBivwr",
        "outputId": "95383a6e-bf1b-4f67-f98f-b89a5b9d2268",
        "colab": {
          "base_uri": "https://localhost:8080/"
        }
      },
      "execution_count": 18,
      "outputs": [
        {
          "output_type": "execute_result",
          "data": {
            "text/plain": [
              "[1, 1, 1]"
            ]
          },
          "metadata": {},
          "execution_count": 18
        }
      ]
    },
    {
      "cell_type": "code",
      "source": [
        "list(map(lambda x, y, z: x + y + z, [2, 4], [1, 3], [7, 8]))"
      ],
      "metadata": {
        "id": "jhlh09s_jHUm",
        "outputId": "faf13da0-a3dc-400d-fbf2-1402429bbe31",
        "colab": {
          "base_uri": "https://localhost:8080/"
        }
      },
      "execution_count": 17,
      "outputs": [
        {
          "output_type": "execute_result",
          "data": {
            "text/plain": [
              "[10, 15]"
            ]
          },
          "metadata": {},
          "execution_count": 17
        }
      ]
    },
    {
      "cell_type": "code",
      "source": [
        "def powers(x):\n",
        "  return x**2, x**3, x**4\n",
        "\n",
        "list(map(powers, nums[0:3]))"
      ],
      "metadata": {
        "id": "aJ6FBJ7Jqc2-",
        "outputId": "4bd50834-dc4b-471e-93e0-4ae9484b2795",
        "colab": {
          "base_uri": "https://localhost:8080/"
        }
      },
      "execution_count": 25,
      "outputs": [
        {
          "output_type": "execute_result",
          "data": {
            "text/plain": [
              "[(1, 1, 1), (64, 512, 4096), (16, 64, 256)]"
            ]
          },
          "metadata": {},
          "execution_count": 25
        }
      ]
    },
    {
      "cell_type": "markdown",
      "source": [
        "string list manipulation: strip, split, sub with built-in str functions"
      ],
      "metadata": {
        "id": "1XRbE4eMjl-U"
      }
    },
    {
      "cell_type": "code",
      "source": [
        "with_spaces = [\"processing \", \"  strings\", \"with   \", \" map   \"]\n",
        "list(map(str.strip, with_spaces))"
      ],
      "metadata": {
        "id": "vxn98mYijJzl",
        "outputId": "e84e808a-eb20-48af-ff30-efd667b6108f",
        "colab": {
          "base_uri": "https://localhost:8080/"
        }
      },
      "execution_count": 10,
      "outputs": [
        {
          "output_type": "execute_result",
          "data": {
            "text/plain": [
              "['processing', 'strings', 'with', 'map']"
            ]
          },
          "metadata": {},
          "execution_count": 10
        }
      ]
    },
    {
      "cell_type": "code",
      "source": [
        "# use lambda to strip other symbols\n",
        "with_dots = [\"processing..\", \"...strings\", \"with....\", \"..map..\"]\n",
        "list(map(lambda s: s.strip(\".\"), with_dots))"
      ],
      "metadata": {
        "id": "TtRcXPRKpXFM"
      },
      "execution_count": null,
      "outputs": []
    },
    {
      "cell_type": "code",
      "source": [
        "#split text to word list, then remove punctuation (a list of symbols) use re.sub\n",
        "text = \"\"\"Some people, when confronted with a problem, think\n",
        "\"I know, I'll use regular expressions.\"\n",
        "Now they have two problems. Jamie Zawinski\"\"\"\n",
        "\n",
        "words = text.split()\n",
        "words"
      ],
      "metadata": {
        "id": "KnTaYj3imFq2",
        "outputId": "156ebb88-643a-4c1d-fd7b-d480b52c9fec",
        "colab": {
          "base_uri": "https://localhost:8080/"
        }
      },
      "execution_count": 19,
      "outputs": [
        {
          "output_type": "execute_result",
          "data": {
            "text/plain": [
              "['Some',\n",
              " 'people,',\n",
              " 'when',\n",
              " 'confronted',\n",
              " 'with',\n",
              " 'a',\n",
              " 'problem,',\n",
              " 'think',\n",
              " '\"I',\n",
              " 'know,',\n",
              " \"I'll\",\n",
              " 'use',\n",
              " 'regular',\n",
              " 'expressions.\"',\n",
              " 'Now',\n",
              " 'they',\n",
              " 'have',\n",
              " 'two',\n",
              " 'problems.',\n",
              " 'Jamie',\n",
              " 'Zawinski']"
            ]
          },
          "metadata": {},
          "execution_count": 19
        }
      ]
    },
    {
      "cell_type": "code",
      "source": [
        "# remove punctuation use re.sub\n",
        "import re\n",
        "def remove_punctuation(word):\n",
        "      return re.sub(r'[!?.:;,\"()-]', \"\", word)\n",
        "\n",
        "list(map(remove_punctuation, words))"
      ],
      "metadata": {
        "id": "cLL9YNU5mVH1",
        "outputId": "7994af1a-42c9-4e64-e07c-2b7c65ca3b72",
        "colab": {
          "base_uri": "https://localhost:8080/"
        }
      },
      "execution_count": 15,
      "outputs": [
        {
          "output_type": "execute_result",
          "data": {
            "text/plain": [
              "['Some',\n",
              " 'people',\n",
              " 'when',\n",
              " 'confronted',\n",
              " 'with',\n",
              " 'a',\n",
              " 'problem',\n",
              " 'think',\n",
              " 'I',\n",
              " 'know',\n",
              " \"I'll\",\n",
              " 'use',\n",
              " 'regular',\n",
              " 'expressions',\n",
              " 'Now',\n",
              " 'they',\n",
              " 'have',\n",
              " 'two',\n",
              " 'problems',\n",
              " 'Jamie',\n",
              " 'Zawinski']"
            ]
          },
          "metadata": {},
          "execution_count": 15
        }
      ]
    },
    {
      "cell_type": "markdown",
      "source": [
        "### Caesar Cipher an example"
      ],
      "metadata": {
        "id": "0sfbmyrJppnq"
      }
    },
    {
      "cell_type": "markdown",
      "source": [
        "*   Original alphabet: abcdefghijklmnopqrstuvwxyz\n",
        "*   Alphabet rotated by three: defghijklmnopqrstuvwxyzabc"
      ],
      "metadata": {
        "id": "5GRpm2d-psQn"
      }
    },
    {
      "cell_type": "code",
      "source": [
        "def rotate_chr(c):\n",
        "    rot_by = 3\n",
        "    c = c.lower()\n",
        "    alphabet = \"abcdefghijklmnopqrstuvwxyz\"\n",
        "    # Keep punctuation and whitespace\n",
        "    if c not in alphabet:\n",
        "        return c\n",
        "    rotated_pos = ord(c) + rot_by\n",
        "    # If the rotation is inside the alphabet\n",
        "    if rotated_pos <= ord(alphabet[-1]):\n",
        "        return chr(rotated_pos)\n",
        "    # If the rotation goes beyond the alphabet\n",
        "    return chr(rotated_pos - len(alphabet))"
      ],
      "metadata": {
        "id": "8x0qC9r5kbD4"
      },
      "execution_count": 22,
      "outputs": []
    },
    {
      "cell_type": "code",
      "source": [
        "\"\".join(map(rotate_chr, \"My secret message goes here.\"))"
      ],
      "metadata": {
        "id": "PLqJU1zLpoNT",
        "outputId": "2a6b9d19-8ea4-4d60-ec40-b8d5de3a3722",
        "colab": {
          "base_uri": "https://localhost:8080/",
          "height": 35
        }
      },
      "execution_count": 23,
      "outputs": [
        {
          "output_type": "execute_result",
          "data": {
            "application/vnd.google.colaboratory.intrinsic+json": {
              "type": "string"
            },
            "text/plain": [
              "'pb vhfuhw phvvdjh jrhv khuh.'"
            ]
          },
          "metadata": {},
          "execution_count": 23
        }
      ]
    },
    {
      "cell_type": "markdown",
      "source": [
        "function parameter"
      ],
      "metadata": {
        "id": "FPsOoruuxxVt"
      }
    },
    {
      "cell_type": "code",
      "source": [
        "def addition(base, *args):\n",
        "    result = 0\n",
        "    for arg in args:\n",
        "        result += arg\n",
        "\n",
        "    return result\n",
        "\n",
        "print(addition(5, 10, 15, 20))"
      ],
      "metadata": {
        "id": "XNMbUtDpsd0i",
        "outputId": "071adcc5-47ad-4b75-952d-a98ac2df5787",
        "colab": {
          "base_uri": "https://localhost:8080/"
        }
      },
      "execution_count": 30,
      "outputs": [
        {
          "output_type": "stream",
          "name": "stdout",
          "text": [
            "45\n"
          ]
        }
      ]
    },
    {
      "cell_type": "code",
      "source": [
        "myNums = [5, 10, 15, 20]\n",
        "print(addition(myNums))\n",
        "print(addition(*myNums))"
      ],
      "metadata": {
        "id": "mJZu4ChpxhtU",
        "outputId": "ceed3c69-dbbe-426a-8b40-7018cd4c2920",
        "colab": {
          "base_uri": "https://localhost:8080/"
        }
      },
      "execution_count": 33,
      "outputs": [
        {
          "output_type": "stream",
          "name": "stdout",
          "text": [
            "0\n",
            "45\n"
          ]
        }
      ]
    },
    {
      "cell_type": "code",
      "source": [
        ""
      ],
      "metadata": {
        "id": "O56e1ENtxr58"
      },
      "execution_count": null,
      "outputs": []
    }
  ],
  "metadata": {
    "interpreter": {
      "hash": "a396682cb6fd648c5c82946475c977c10fc97e5ab10367cecc1b2477b6f76451"
    },
    "kernelspec": {
      "display_name": "Python 3.9.1 64-bit",
      "language": "python",
      "name": "python3"
    },
    "language_info": {
      "codemirror_mode": {
        "name": "ipython",
        "version": 3
      },
      "file_extension": ".py",
      "mimetype": "text/x-python",
      "name": "python",
      "nbconvert_exporter": "python",
      "pygments_lexer": "ipython3",
      "version": "3.9.1"
    },
    "orig_nbformat": 4,
    "colab": {
      "name": "kai-python-notes.ipynb",
      "provenance": []
    }
  },
  "nbformat": 4,
  "nbformat_minor": 0
}
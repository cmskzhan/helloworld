{
  "cells": [
    {
      "cell_type": "markdown",
      "metadata": {
        "id": "v9xlJ9LAuFys"
      },
      "source": [
        "# Strings"
      ]
    },
    {
      "cell_type": "markdown",
      "metadata": {
        "id": "S-ck6RmUuFy5"
      },
      "source": [
        "## bytes, Strings, encoding, decoding, utf-8, utf-32"
      ]
    },
    {
      "cell_type": "code",
      "execution_count": null,
      "metadata": {
        "id": "zsfyqYw3uFy7",
        "outputId": "6f1c7437-4ff4-4332-ab94-f2f8807e3695"
      },
      "outputs": [
        {
          "name": "stdout",
          "output_type": "stream",
          "text": [
            "b'ABCD'\n",
            "ABCD normal string\n"
          ]
        }
      ],
      "source": [
        "b = bytes([0x41, 0x42, 0x43, 0x44])\n",
        "print(b)\n",
        "s = \"normal string\"\n",
        "    # Try combining them print(s+b). This will cause an error\n",
        "    # decode the bytes to utf-8 first\n",
        "print(b.decode('utf-8')+\" \"+s)"
      ]
    },
    {
      "cell_type": "code",
      "execution_count": null,
      "metadata": {
        "id": "o6V_kTSruFzA",
        "outputId": "a3bc1229-1c96-41f5-e959-a9ea44ae6c86"
      },
      "outputs": [
        {
          "data": {
            "text/plain": [
              "b'ABCDnormal string'"
            ]
          },
          "execution_count": 4,
          "metadata": {},
          "output_type": "execute_result"
        }
      ],
      "source": [
        "#or encode the string to byte, bytes can concate \n",
        "bb = b + s.encode('UTF-8')\n",
        "bb"
      ]
    },
    {
      "cell_type": "code",
      "execution_count": null,
      "metadata": {
        "id": "0NCPAYCJuFzC",
        "outputId": "86889cb2-fd71-4550-cc0b-e96100040d30"
      },
      "outputs": [
        {
          "name": "stdout",
          "output_type": "stream",
          "text": [
            "b'\\xff\\xfe\\x00\\x00n\\x00\\x00\\x00o\\x00\\x00\\x00r\\x00\\x00\\x00m\\x00\\x00\\x00a\\x00\\x00\\x00l\\x00\\x00\\x00 \\x00\\x00\\x00s\\x00\\x00\\x00t\\x00\\x00\\x00r\\x00\\x00\\x00i\\x00\\x00\\x00n\\x00\\x00\\x00g\\x00\\x00\\x00'\n"
          ]
        }
      ],
      "source": [
        "# encode the string as UTF-32\n",
        "b3 = s.encode('utf-32')\n",
        "print(b3)"
      ]
    },
    {
      "cell_type": "markdown",
      "metadata": {
        "id": "36eMLLKKuFzF"
      },
      "source": [
        "## format, template, substitute"
      ]
    },
    {
      "cell_type": "code",
      "execution_count": null,
      "metadata": {
        "id": "fhGxjdAAuFzG",
        "outputId": "cd91a855-5aea-4d39-8b27-a0830f7b31b7"
      },
      "outputs": [
        {
          "data": {
            "text/plain": [
              "\"You're watching Advanced Python by Joe Marini\""
            ]
          },
          "execution_count": 8,
          "metadata": {},
          "output_type": "execute_result"
        }
      ],
      "source": [
        "str1 = \"You're watching {0} by {1}\".format(\"Advanced Python\", \"Joe Marini\")\n",
        "str1"
      ]
    },
    {
      "cell_type": "code",
      "execution_count": null,
      "metadata": {
        "id": "N5vzueNduFzJ",
        "outputId": "93e14eb3-ede7-4507-f7bc-8392c2b53445"
      },
      "outputs": [
        {
          "name": "stdout",
          "output_type": "stream",
          "text": [
            "You're watching Advanced Python by Joe Marini\n"
          ]
        }
      ],
      "source": [
        "from string import Template\n",
        "# create a template with placeholders\n",
        "templ = Template(\"You're watching ${title} by ${author}\")\n",
        "\n",
        "# use the substitute method with keyword arguments\n",
        "str2 = templ.substitute(title=\"Advanced Python\", author=\"Joe Marini\")\n",
        "print(str2)"
      ]
    },
    {
      "cell_type": "code",
      "execution_count": null,
      "metadata": {
        "id": "Yeil6WJquFzL",
        "outputId": "dedfc39f-076e-4256-9b39-3a58afc203ef"
      },
      "outputs": [
        {
          "name": "stdout",
          "output_type": "stream",
          "text": [
            "You're watching Advanced Python by Joe Marini\n"
          ]
        }
      ],
      "source": [
        "# use the substitute method with a dictionary\n",
        "data = { \n",
        "    \"author\": \"Joe Marini\",\n",
        "    \"title\": \"Advanced Python\"\n",
        "}\n",
        "str3 = templ.substitute(data)    \n",
        "print(str3)"
      ]
    },
    {
      "cell_type": "markdown",
      "source": [
        "# List"
      ],
      "metadata": {
        "id": "2wMcGoXiv5Wd"
      }
    },
    {
      "cell_type": "markdown",
      "source": [
        "## iterator, enumerate, zip"
      ],
      "metadata": {
        "id": "1Rg3XlRswQnH"
      }
    },
    {
      "cell_type": "code",
      "source": [
        "days = [\"Sun\", \"Mon\", \"Tue\", \"Wed\", \"Thu\", \"Fri\", \"Sat\"]\n",
        "daysFr = [\"Dim\", \"Lun\", \"Mar\", \"Mer\", \"Jeu\", \"Ven\", \"Sam\"]\n",
        "\n",
        "# use iter to create an iterator over a collection\n",
        "i = iter(days)\n",
        "print(type(i))\n",
        "print(next(i))  # Sun\n",
        "print(next(i))  # Mon\n",
        "print(next(i))  # Tue\n",
        "\n"
      ],
      "metadata": {
        "id": "E1Yh_6RPwHsk",
        "outputId": "58d6a932-876b-468c-fe89-dc0ac65f0a2d",
        "colab": {
          "base_uri": "https://localhost:8080/"
        }
      },
      "execution_count": 2,
      "outputs": [
        {
          "output_type": "stream",
          "name": "stdout",
          "text": [
            "<class 'list_iterator'>\n",
            "Sun\n",
            "Mon\n",
            "Tue\n"
          ]
        }
      ]
    },
    {
      "cell_type": "code",
      "source": [
        "# iterate using a function and a sentinel\n",
        "# with open(\"testfile.txt\", \"r\") as fp:\n",
        "#     for line in iter(fp.readline, ''):\n",
        "#         print(line)\n",
        "\n",
        "print(\"use regular interation over the days\")\n",
        "for m in range(len(days)):\n",
        "    print(m+1, days[m])\n",
        "\n",
        "print(\"using enumerate reduces code and provides a counter\")\n",
        "for i, m in enumerate(days, start=1):\n",
        "    print(i, m)"
      ],
      "metadata": {
        "id": "8VEw_WZAwdAb",
        "outputId": "76be4102-930a-4126-db38-bc7fb426a8da",
        "colab": {
          "base_uri": "https://localhost:8080/"
        }
      },
      "execution_count": 9,
      "outputs": [
        {
          "output_type": "stream",
          "name": "stdout",
          "text": [
            "use regular interation over the days\n",
            "1 Sun\n",
            "2 Mon\n",
            "3 Tue\n",
            "4 Wed\n",
            "5 Thu\n",
            "6 Fri\n",
            "7 Sat\n",
            "using enumerate reduces code and provides a counter\n",
            "1 Sun\n",
            "2 Mon\n",
            "3 Tue\n",
            "4 Wed\n",
            "5 Thu\n",
            "6 Fri\n",
            "7 Sat\n",
            "use zip to combine sequences\n",
            "('Sun', 'Dim')\n",
            "('Mon', 'Lun')\n",
            "('Tue', 'Mar')\n",
            "('Wed', 'Mer')\n",
            "('Thu', 'Jeu')\n",
            "('Fri', 'Ven')\n",
            "('Sat', 'Sam')\n",
            "zipped list type is:  <class 'tuple'>\n",
            "[('Sun', 'Dim'), ('Mon', 'Lun'), ('Tue', 'Mar'), ('Wed', 'Mer'), ('Thu', 'Jeu'), ('Fri', 'Ven'), ('Sat', 'Sam')]\n",
            "enumerate the tuples\n",
            "1 Sun = Dim in French\n",
            "2 Mon = Lun in French\n",
            "3 Tue = Mar in French\n",
            "4 Wed = Mer in French\n",
            "5 Thu = Jeu in French\n",
            "6 Fri = Ven in French\n",
            "7 Sat = Sam in French\n"
          ]
        }
      ]
    },
    {
      "cell_type": "code",
      "source": [
        "print(\"use zip to combine sequences\") \n",
        "for m in zip(days, daysFr):\n",
        "    print(m)\n",
        "\n",
        "print(\"zipped list type is: \", type(m))\n",
        "\n",
        "print(list(zip(days, daysFr)))\n",
        "\n",
        "print(\"enumerate the tuples\")\n",
        "for i, m in enumerate(zip(days, daysFr), start=1):\n",
        "    print(i, m[0], \"=\", m[1], \"in French\")"
      ],
      "metadata": {
        "id": "EP4I-LBYx34w",
        "outputId": "74651b94-7a3e-4810-801a-174f97bb0630",
        "colab": {
          "base_uri": "https://localhost:8080/"
        }
      },
      "execution_count": 10,
      "outputs": [
        {
          "output_type": "stream",
          "name": "stdout",
          "text": [
            "use zip to combine sequences\n",
            "('Sun', 'Dim')\n",
            "('Mon', 'Lun')\n",
            "('Tue', 'Mar')\n",
            "('Wed', 'Mer')\n",
            "('Thu', 'Jeu')\n",
            "('Fri', 'Ven')\n",
            "('Sat', 'Sam')\n",
            "zipped list type is:  <class 'tuple'>\n",
            "[('Sun', 'Dim'), ('Mon', 'Lun'), ('Tue', 'Mar'), ('Wed', 'Mer'), ('Thu', 'Jeu'), ('Fri', 'Ven'), ('Sat', 'Sam')]\n",
            "enumerate the tuples\n",
            "1 Sun = Dim in French\n",
            "2 Mon = Lun in French\n",
            "3 Tue = Mar in French\n",
            "4 Wed = Mer in French\n",
            "5 Thu = Jeu in French\n",
            "6 Fri = Ven in French\n",
            "7 Sat = Sam in French\n"
          ]
        }
      ]
    },
    {
      "cell_type": "markdown",
      "source": [
        "## itertools cycle, count, accumulate, chain, dropwhile, takewhile"
      ],
      "metadata": {
        "id": "XMDwivR2z0HR"
      }
    },
    {
      "cell_type": "code",
      "source": [
        "import itertools\n",
        "seq1 = [\"Joe\", \"John\", \"Mike\"]\n",
        "cycle1 = itertools.cycle(seq1)\n",
        "print(next(cycle1))\n",
        "print(next(cycle1))\n",
        "print(next(cycle1))\n",
        "print(next(cycle1))"
      ],
      "metadata": {
        "id": "OeYsv9J2wvTT",
        "outputId": "80f3fb69-8f2c-43ce-f224-3df9c027ac7c",
        "colab": {
          "base_uri": "https://localhost:8080/"
        }
      },
      "execution_count": 12,
      "outputs": [
        {
          "output_type": "stream",
          "name": "stdout",
          "text": [
            "Joe\n",
            "John\n",
            "Mike\n",
            "Joe\n"
          ]
        }
      ]
    },
    {
      "cell_type": "code",
      "source": [
        "# use count to create a simple counter\n",
        "count1 = itertools.count(100, 10)\n",
        "print(next(count1))\n",
        "print(next(count1))\n",
        "print(next(count1))"
      ],
      "metadata": {
        "id": "TdMw_WvWzJuu",
        "outputId": "e7785deb-30ea-4ffa-92bd-96891d49ca3c",
        "colab": {
          "base_uri": "https://localhost:8080/"
        }
      },
      "execution_count": 13,
      "outputs": [
        {
          "output_type": "stream",
          "name": "stdout",
          "text": [
            "100\n",
            "110\n",
            "120\n"
          ]
        }
      ]
    },
    {
      "cell_type": "code",
      "source": [
        "# accumulate creates an iterator that accumulates values\n",
        "vals = [10,20,30,40,50,40,30]\n",
        "acc = itertools.accumulate(vals, max)\n",
        "print(list(acc))"
      ],
      "metadata": {
        "id": "3dbi4kKh0FVo",
        "outputId": "55741a44-8acc-45cb-d119-5e175868dad3",
        "colab": {
          "base_uri": "https://localhost:8080/"
        }
      },
      "execution_count": 17,
      "outputs": [
        {
          "output_type": "stream",
          "name": "stdout",
          "text": [
            "[10, 20, 30, 40, 50, 50, 50]\n"
          ]
        }
      ]
    },
    {
      "cell_type": "code",
      "source": [
        "# use chain to connect sequences together\n",
        "x = itertools.chain(\"ABCD\", \"1234\")\n",
        "print(list(x))"
      ],
      "metadata": {
        "id": "gGVuFQ_w0Xx5",
        "outputId": "b2874eb0-8f3a-45e5-e0b5-7b80078c2717",
        "colab": {
          "base_uri": "https://localhost:8080/"
        }
      },
      "execution_count": 21,
      "outputs": [
        {
          "output_type": "stream",
          "name": "stdout",
          "text": [
            "['A', 'B', 'C', 'D', '1', '2', '3', '4']\n"
          ]
        }
      ]
    },
    {
      "cell_type": "code",
      "source": [
        "def testFunction(x):\n",
        "    return x < 40\n",
        "\n",
        "# dropwhile and takewhile will return values until\n",
        "# a certain condition is met that stops them\n",
        "print(list(itertools.dropwhile(testFunction, vals)))\n",
        "print(list(itertools.takewhile(testFunction, vals)))"
      ],
      "metadata": {
        "id": "FFYZchMr01W9",
        "outputId": "d651af75-7837-410c-8ed4-e6b8c5bf27fd",
        "colab": {
          "base_uri": "https://localhost:8080/"
        }
      },
      "execution_count": 22,
      "outputs": [
        {
          "output_type": "stream",
          "name": "stdout",
          "text": [
            "[40, 50, 40, 30]\n",
            "[10, 20, 30]\n"
          ]
        }
      ]
    },
    {
      "cell_type": "code",
      "source": [
        ""
      ],
      "metadata": {
        "id": "hSIqNbfx1KS4"
      },
      "execution_count": null,
      "outputs": []
    }
  ],
  "metadata": {
    "interpreter": {
      "hash": "a396682cb6fd648c5c82946475c977c10fc97e5ab10367cecc1b2477b6f76451"
    },
    "kernelspec": {
      "display_name": "Python 3.9.1 64-bit",
      "language": "python",
      "name": "python3"
    },
    "language_info": {
      "codemirror_mode": {
        "name": "ipython",
        "version": 3
      },
      "file_extension": ".py",
      "mimetype": "text/x-python",
      "name": "python",
      "nbconvert_exporter": "python",
      "pygments_lexer": "ipython3",
      "version": "3.9.1"
    },
    "orig_nbformat": 4,
    "colab": {
      "name": "kai-python-notes.ipynb",
      "provenance": []
    }
  },
  "nbformat": 4,
  "nbformat_minor": 0
}
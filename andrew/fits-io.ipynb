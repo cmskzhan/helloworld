{
 "cells": [
  {
   "cell_type": "code",
   "execution_count": 28,
   "metadata": {},
   "outputs": [
    {
     "name": "stdout",
     "output_type": "stream",
     "text": [
      "[ 0.  1.  2.  3.  4.  5.  6.  7.  8.  9. 10. 11. 12. 13. 14. 15. 16. 17.\n",
      " 18. 19. 20. 21. 22. 23. 24. 25. 26. 27. 28. 29. 30. 31. 32. 33. 34. 35.\n",
      " 36. 37. 38. 39. 40. 41. 42. 43. 44. 45. 46. 47. 48. 49. 50. 51. 52. 53.\n",
      " 54. 55. 56. 57. 58. 59. 60. 61. 62. 63. 64. 65. 66. 67. 68. 69. 70. 71.\n",
      " 72. 73. 74. 75. 76. 77. 78. 79. 80. 81. 82. 83. 84. 85. 86. 87. 88. 89.\n",
      " 90. 91. 92. 93. 94. 95. 96. 97. 98. 99.]\n"
     ]
    }
   ],
   "source": [
    "import numpy as np\n",
    "n = np.arange(100.0)\n",
    "print(n)"
   ]
  },
  {
   "cell_type": "markdown",
   "metadata": {},
   "source": [
    "create a new fits file"
   ]
  },
  {
   "cell_type": "code",
   "execution_count": 29,
   "metadata": {},
   "outputs": [],
   "source": [
    "from astropy.io import fits\n",
    "hdu = fits.PrimaryHDU(n)"
   ]
  },
  {
   "cell_type": "code",
   "execution_count": 30,
   "metadata": {},
   "outputs": [],
   "source": [
    "hdu.writeto('new.fits')"
   ]
  },
  {
   "cell_type": "code",
   "execution_count": 31,
   "metadata": {},
   "outputs": [
    {
     "name": "stdout",
     "output_type": "stream",
     "text": [
      "Filename: new.fits\n",
      "No.    Name      Ver    Type      Cards   Dimensions   Format\n",
      "  0  PRIMARY       1 PrimaryHDU       5   (100,)   float64   \n",
      "2022-07-25\n",
      "Andrew Zhang\n",
      "[ 0.  1.  2.  3.  4.  5.  6.  7.  8.  9. 10. 11. 12. 13. 14. 15. 16. 17.\n",
      " 18. 19. 20. 21. 22. 23. 24. 25. 26. 27. 28. 29. 30. 31. 32. 33. 34. 35.\n",
      " 36. 37. 38. 39. 40. 41. 42. 43. 44. 45. 46. 47. 48. 49. 50. 51. 52. 53.\n",
      " 54. 55. 56. 57. 58. 59. 60. 61. 62. 63. 64. 65. 66. 67. 68. 69. 70. 71.\n",
      " 72. 73. 74. 75. 76. 77. 78. 79. 80. 81. 82. 83. 84. 85. 86. 87. 88. 89.\n",
      " 90. 91. 92. 93. 94. 95. 96. 97. 98. 99.]\n"
     ]
    }
   ],
   "source": [
    "with fits.open('new.fits') as hdul:\n",
    "    hdul.info()\n",
    "    hdul[0].header['DATE'] = '2022-07-25'\n",
    "    hdul[0].header['Author'] = 'Andrew Zhang'\n",
    "    print(hdul[0].header['DATE'])\n",
    "    print(hdul[0].header['Author'])\n",
    "    print(hdul[0].data)"
   ]
  },
  {
   "cell_type": "markdown",
   "metadata": {},
   "source": [
    "update an existing fits file"
   ]
  },
  {
   "cell_type": "code",
   "execution_count": 32,
   "metadata": {},
   "outputs": [],
   "source": [
    "n1 = np.arange(100.0, 200.0)\n",
    "with fits.open('new.fits', mode=\"update\") as hdul:\n",
    "    hdul[0].data = n1\n",
    "    hdul.flush()"
   ]
  },
  {
   "cell_type": "markdown",
   "metadata": {},
   "source": [
    "Append a table to the fits file"
   ]
  },
  {
   "cell_type": "code",
   "execution_count": 33,
   "metadata": {},
   "outputs": [],
   "source": [
    "with fits.open('new.fits', mode=\"update\") as hdul:\n",
    "    second_array = np.arange(200.0, 300.0)\n",
    "    hdul.append(fits.PrimaryHDU(second_array))\n",
    "    hdul.flush()\n",
    "    "
   ]
  },
  {
   "cell_type": "code",
   "execution_count": 34,
   "metadata": {},
   "outputs": [
    {
     "name": "stdout",
     "output_type": "stream",
     "text": [
      "Filename: new.fits\n",
      "No.    Name      Ver    Type      Cards   Dimensions   Format\n",
      "  0  PRIMARY       1 PrimaryHDU       5   (100,)   float64   \n",
      "  1                1 ImageHDU         6   (100,)   float64   \n",
      "2\n",
      "data at index 0 [100. 101. 102. 103. 104. 105. 106. 107. 108. 109. 110. 111. 112. 113.\n",
      " 114. 115. 116. 117. 118. 119. 120. 121. 122. 123. 124. 125. 126. 127.\n",
      " 128. 129. 130. 131. 132. 133. 134. 135. 136. 137. 138. 139. 140. 141.\n",
      " 142. 143. 144. 145. 146. 147. 148. 149. 150. 151. 152. 153. 154. 155.\n",
      " 156. 157. 158. 159. 160. 161. 162. 163. 164. 165. 166. 167. 168. 169.\n",
      " 170. 171. 172. 173. 174. 175. 176. 177. 178. 179. 180. 181. 182. 183.\n",
      " 184. 185. 186. 187. 188. 189. 190. 191. 192. 193. 194. 195. 196. 197.\n",
      " 198. 199.]\n",
      "data at index 1 [200. 201. 202. 203. 204. 205. 206. 207. 208. 209. 210. 211. 212. 213.\n",
      " 214. 215. 216. 217. 218. 219. 220. 221. 222. 223. 224. 225. 226. 227.\n",
      " 228. 229. 230. 231. 232. 233. 234. 235. 236. 237. 238. 239. 240. 241.\n",
      " 242. 243. 244. 245. 246. 247. 248. 249. 250. 251. 252. 253. 254. 255.\n",
      " 256. 257. 258. 259. 260. 261. 262. 263. 264. 265. 266. 267. 268. 269.\n",
      " 270. 271. 272. 273. 274. 275. 276. 277. 278. 279. 280. 281. 282. 283.\n",
      " 284. 285. 286. 287. 288. 289. 290. 291. 292. 293. 294. 295. 296. 297.\n",
      " 298. 299.]\n"
     ]
    }
   ],
   "source": [
    "with fits.open('new.fits') as hdul:\n",
    "    hdul.info()\n",
    "    print(len(hdul))\n",
    "    print(\"data at index 0\", hdul[0].data)\n",
    "    print(\"data at index 1\", hdul[1].data)"
   ]
  },
  {
   "cell_type": "code",
   "execution_count": null,
   "metadata": {},
   "outputs": [],
   "source": []
  }
 ],
 "metadata": {
  "kernelspec": {
   "display_name": "Python 3.8.10 64-bit",
   "language": "python",
   "name": "python3"
  },
  "language_info": {
   "codemirror_mode": {
    "name": "ipython",
    "version": 3
   },
   "file_extension": ".py",
   "mimetype": "text/x-python",
   "name": "python",
   "nbconvert_exporter": "python",
   "pygments_lexer": "ipython3",
   "version": "3.8.10"
  },
  "orig_nbformat": 4,
  "vscode": {
   "interpreter": {
    "hash": "916dbcbb3f70747c44a77c7bcd40155683ae19c65e1c03b4aa3499c5328201f1"
   }
  }
 },
 "nbformat": 4,
 "nbformat_minor": 2
}

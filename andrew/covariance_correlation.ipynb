{
 "metadata": {
  "language_info": {
   "codemirror_mode": {
    "name": "ipython",
    "version": 3
   },
   "file_extension": ".py",
   "mimetype": "text/x-python",
   "name": "python",
   "nbconvert_exporter": "python",
   "pygments_lexer": "ipython3",
   "version": "3.8.5-final"
  },
  "orig_nbformat": 2,
  "kernelspec": {
   "name": "python3",
   "display_name": "Python 3",
   "language": "python"
  }
 },
 "nbformat": 4,
 "nbformat_minor": 2,
 "cells": [
  {
   "source": [
    "<h1>Covarance and Correlation</h1>\n",
    "\n",
    "The two terms are often used interchangeably. Though similar, they are not the same. From Deepak Gupta's definition: Covariance is when two variables vary with each other, whereas Correlation is when the change in one variable results in the change in another variable.\n",
    "\n",
    "Covarance Matrix <br>\n",
    "example: vector x, y <br>\n",
    "Covarance Matrix of these 2 vectors = \n",
    "$ \\begin{bmatrix}\n",
    "var(x) & cov(x,y)\\\\\n",
    "cov(y,x) & var(y)\n",
    "\\end{bmatrix} $ <br>\n",
    "where <br>\n",
    "$ var(x) = \\sigma^2 = \\frac{\\Sigma(x-\\bar{x})^2}{n-1}  $ , \n",
    "$ cov(x,y) = \\frac{\\Sigma(x_i-\\bar{x})(y_i-\\bar{y})}{n-1}  $ <br>\n",
    "Correlation Matrix <br>\n",
    "using same vector x, y <br>\n",
    "Correlation Matrix of these 2 vectors = \n",
    "$ \\begin{bmatrix}\n",
    "1 & cor(x,y)\\\\\n",
    "cor(y,x) & 1\n",
    "\\end{bmatrix} $ <br> where <br> \n",
    "$ cor(x,y) = \\frac{cov(x,y)}{\\sigma_{x} * \\sigma_{y}}  $\n"
   ],
   "cell_type": "markdown",
   "metadata": {}
  },
  {
   "cell_type": "code",
   "execution_count": 36,
   "metadata": {},
   "outputs": [
    {
     "output_type": "stream",
     "name": "stdout",
     "text": [
      "var(x) =  4.0\nvar(y) =  4.0\nx-μ =  [[ 2. -2.  0.]] ; y-μ =  [[ 0. -2.  2.]]\n[[2.]]\n[[2.]]\nTherefore X, Y covarnace matrix = \n[[4. 2.]\n [2. 4.]]\n"
     ]
    }
   ],
   "source": [
    "#covarance matrix\n",
    "import numpy as np\n",
    "my_covarnace_matrix = np.matrix([[6, 2, 4], [6, 4, 8]])\n",
    "print(\"var(x) = \",np.var(my_covarnace_matrix[0], ddof=1)) # var(X)\n",
    "print(\"var(y) = \",np.var(my_covarnace_matrix[1], ddof=1)) # var(Y)\n",
    "x_x_mean = my_covarnace_matrix[0] - my_covarnace_matrix[0].mean()\n",
    "y_y_mean = my_covarnace_matrix[1] - my_covarnace_matrix[1].mean()\n",
    "print(\"x-\\u03BC = \", x_x_mean,\"; y-\\u03BC = \", y_y_mean)\n",
    "n = my_covarnace_matrix[0].shape[1] # x and y are 3 element array, n=3\n",
    "print(x_x_mean * y_y_mean.T /(n-1)) # cov(x,y)\n",
    "print(y_y_mean * x_x_mean.T /(n-1)) # cov(y,x)\n",
    "print(\"Therefore X, Y covarnace matrix = \")\n",
    "print(np.cov(my_covarnace_matrix))\n"
   ]
  },
  {
   "cell_type": "code",
   "execution_count": 37,
   "metadata": {},
   "outputs": [
    {
     "output_type": "execute_result",
     "data": {
      "text/plain": [
       "array([[1. , 0.5],\n",
       "       [0.5, 1. ]])"
      ]
     },
     "metadata": {},
     "execution_count": 37
    }
   ],
   "source": [
    "#covarance matrix\n",
    "np.corrcoef(my_covarnace_matrix)"
   ]
  },
  {
   "source": [
    "Above is Pearson correlation coefficient. For Pandas implementation"
   ],
   "cell_type": "markdown",
   "metadata": {}
  },
  {
   "cell_type": "code",
   "execution_count": 46,
   "metadata": {},
   "outputs": [
    {
     "output_type": "stream",
     "name": "stdout",
     "text": [
      "0.5\n0.5\n"
     ]
    }
   ],
   "source": [
    "import pandas as pd\n",
    "x = pd.Series([6, 2, 4])\n",
    "y = pd.Series([6, 4, 8])\n",
    "print(x.corr(y))\n",
    "print(y.corr(x))\n",
    "# x.corr(y, method='spearman')  # Spearman's rho requires scipy\n",
    "# x.corr(y, method='kendall')   # Kendall's tau, requires scipy"
   ]
  },
  {
   "cell_type": "code",
   "execution_count": null,
   "metadata": {},
   "outputs": [],
   "source": []
  }
 ]
}
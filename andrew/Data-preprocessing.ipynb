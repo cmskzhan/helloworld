{
 "cells": [
  {
   "cell_type": "markdown",
   "metadata": {},
   "source": [
    "Level 1, most basic concepts\n",
    "What are the core types of python?\n",
    "What's the difference between lists, tuples and sets\n",
    "List manipulation: eg. reverse a list, slicing a list\n",
    "What is list comprehension"
   ]
  },
  {
   "cell_type": "code",
   "execution_count": null,
   "metadata": {},
   "outputs": [],
   "source": [
    "list1 = [1,2,3,4,5,6,7,8,9,10]\n"
   ]
  }
 ],
 "metadata": {
  "language_info": {
   "name": "python"
  },
  "orig_nbformat": 4
 },
 "nbformat": 4,
 "nbformat_minor": 2
}

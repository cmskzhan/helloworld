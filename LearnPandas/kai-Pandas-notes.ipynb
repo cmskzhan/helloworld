{
  "nbformat": 4,
  "nbformat_minor": 0,
  "metadata": {
    "language_info": {
      "codemirror_mode": {
        "name": "ipython",
        "version": 3
      },
      "file_extension": ".py",
      "mimetype": "text/x-python",
      "name": "python",
      "nbconvert_exporter": "python",
      "pygments_lexer": "ipython3",
      "version": "3.6.9-final"
    },
    "orig_nbformat": 2,
    "kernelspec": {
      "name": "python36964bit02dc4687b0924c21902d3157a7452615",
      "display_name": "Python 3.6.9 64-bit"
    },
    "colab": {
      "name": "kai-Pandas-notes.ipynb",
      "provenance": []
    }
  },
  "cells": [
    {
      "cell_type": "markdown",
      "metadata": {
        "id": "JiXkfI6_19G-",
        "colab_type": "text"
      },
      "source": [
        "# Getting Pandas and DataFrame readcsv"
      ]
    },
    {
      "cell_type": "code",
      "metadata": {
        "id": "u2IAxyvKfop6",
        "colab_type": "code",
        "colab": {}
      },
      "source": [
        "import pandas as pd\n",
        "pd.show_versions?\n",
        "pd.read_csv?"
      ],
      "execution_count": 2,
      "outputs": []
    },
    {
      "cell_type": "code",
      "metadata": {
        "id": "v-s-RTjxfoqC",
        "colab_type": "code",
        "colab": {
          "base_uri": "https://localhost:8080/",
          "height": 35
        },
        "outputId": "72d4eed8-ae3a-43dd-a82a-89becfb21f57"
      },
      "source": [
        "pd.__version__"
      ],
      "execution_count": 3,
      "outputs": [
        {
          "output_type": "execute_result",
          "data": {
            "application/vnd.google.colaboratory.intrinsic+json": {
              "type": "string"
            },
            "text/plain": [
              "'1.0.5'"
            ]
          },
          "metadata": {
            "tags": []
          },
          "execution_count": 3
        }
      ]
    },
    {
      "cell_type": "code",
      "metadata": {
        "id": "bAYLlpah19HH",
        "colab_type": "code",
        "colab": {},
        "outputId": "0d140d82-c5d8-499d-c2ba-76642af2390b"
      },
      "source": [
        "# read csv locally exmaple, skiprows \n",
        "oo = pd.read_csv('data/olympics.csv', skiprows=4)\n",
        "oo.head()"
      ],
      "execution_count": null,
      "outputs": [
        {
          "output_type": "execute_result",
          "data": {
            "text/plain": [
              "     City  Edition     Sport Discipline             Athlete  NOC Gender  \\\n",
              "0  Athens     1896  Aquatics   Swimming       HAJOS, Alfred  HUN    Men   \n",
              "1  Athens     1896  Aquatics   Swimming    HERSCHMANN, Otto  AUT    Men   \n",
              "2  Athens     1896  Aquatics   Swimming   DRIVAS, Dimitrios  GRE    Men   \n",
              "3  Athens     1896  Aquatics   Swimming  MALOKINIS, Ioannis  GRE    Men   \n",
              "4  Athens     1896  Aquatics   Swimming  CHASAPIS, Spiridon  GRE    Men   \n",
              "\n",
              "                        Event Event_gender   Medal  \n",
              "0              100m freestyle            M    Gold  \n",
              "1              100m freestyle            M  Silver  \n",
              "2  100m freestyle for sailors            M  Bronze  \n",
              "3  100m freestyle for sailors            M    Gold  \n",
              "4  100m freestyle for sailors            M  Silver  "
            ],
            "text/html": [
              "<div>\n",
              "<style scoped>\n",
              "    .dataframe tbody tr th:only-of-type {\n",
              "        vertical-align: middle;\n",
              "    }\n",
              "\n",
              "    .dataframe tbody tr th {\n",
              "        vertical-align: top;\n",
              "    }\n",
              "\n",
              "    .dataframe thead th {\n",
              "        text-align: right;\n",
              "    }\n",
              "</style>\n",
              "<table border=\"1\" class=\"dataframe\">\n",
              "  <thead>\n",
              "    <tr style=\"text-align: right;\">\n",
              "      <th></th>\n",
              "      <th>City</th>\n",
              "      <th>Edition</th>\n",
              "      <th>Sport</th>\n",
              "      <th>Discipline</th>\n",
              "      <th>Athlete</th>\n",
              "      <th>NOC</th>\n",
              "      <th>Gender</th>\n",
              "      <th>Event</th>\n",
              "      <th>Event_gender</th>\n",
              "      <th>Medal</th>\n",
              "    </tr>\n",
              "  </thead>\n",
              "  <tbody>\n",
              "    <tr>\n",
              "      <th>0</th>\n",
              "      <td>Athens</td>\n",
              "      <td>1896</td>\n",
              "      <td>Aquatics</td>\n",
              "      <td>Swimming</td>\n",
              "      <td>HAJOS, Alfred</td>\n",
              "      <td>HUN</td>\n",
              "      <td>Men</td>\n",
              "      <td>100m freestyle</td>\n",
              "      <td>M</td>\n",
              "      <td>Gold</td>\n",
              "    </tr>\n",
              "    <tr>\n",
              "      <th>1</th>\n",
              "      <td>Athens</td>\n",
              "      <td>1896</td>\n",
              "      <td>Aquatics</td>\n",
              "      <td>Swimming</td>\n",
              "      <td>HERSCHMANN, Otto</td>\n",
              "      <td>AUT</td>\n",
              "      <td>Men</td>\n",
              "      <td>100m freestyle</td>\n",
              "      <td>M</td>\n",
              "      <td>Silver</td>\n",
              "    </tr>\n",
              "    <tr>\n",
              "      <th>2</th>\n",
              "      <td>Athens</td>\n",
              "      <td>1896</td>\n",
              "      <td>Aquatics</td>\n",
              "      <td>Swimming</td>\n",
              "      <td>DRIVAS, Dimitrios</td>\n",
              "      <td>GRE</td>\n",
              "      <td>Men</td>\n",
              "      <td>100m freestyle for sailors</td>\n",
              "      <td>M</td>\n",
              "      <td>Bronze</td>\n",
              "    </tr>\n",
              "    <tr>\n",
              "      <th>3</th>\n",
              "      <td>Athens</td>\n",
              "      <td>1896</td>\n",
              "      <td>Aquatics</td>\n",
              "      <td>Swimming</td>\n",
              "      <td>MALOKINIS, Ioannis</td>\n",
              "      <td>GRE</td>\n",
              "      <td>Men</td>\n",
              "      <td>100m freestyle for sailors</td>\n",
              "      <td>M</td>\n",
              "      <td>Gold</td>\n",
              "    </tr>\n",
              "    <tr>\n",
              "      <th>4</th>\n",
              "      <td>Athens</td>\n",
              "      <td>1896</td>\n",
              "      <td>Aquatics</td>\n",
              "      <td>Swimming</td>\n",
              "      <td>CHASAPIS, Spiridon</td>\n",
              "      <td>GRE</td>\n",
              "      <td>Men</td>\n",
              "      <td>100m freestyle for sailors</td>\n",
              "      <td>M</td>\n",
              "      <td>Silver</td>\n",
              "    </tr>\n",
              "  </tbody>\n",
              "</table>\n",
              "</div>"
            ]
          },
          "metadata": {
            "tags": []
          },
          "execution_count": 15
        }
      ]
    },
    {
      "cell_type": "code",
      "metadata": {
        "tags": [],
        "id": "Cod3saYO19HJ",
        "colab_type": "code",
        "colab": {
          "base_uri": "https://localhost:8080/",
          "height": 306
        },
        "outputId": "ddc2a915-6b3a-48ff-c25d-f383dbf28ce8"
      },
      "source": [
        "#read remote CSV\n",
        "import pandas as pd\n",
        "import io\n",
        "import requests\n",
        "url=\"https://raw.githubusercontent.com/cs109/2014_data/master/countries.csv\"\n",
        "s=requests.get(url, verify = False).content\n",
        "c=pd.read_csv(io.StringIO(s.decode('utf-8')))\n",
        "print(c)"
      ],
      "execution_count": 4,
      "outputs": [
        {
          "output_type": "stream",
          "text": [
            "       Country         Region\n",
            "0      Algeria         AFRICA\n",
            "1       Angola         AFRICA\n",
            "2        Benin         AFRICA\n",
            "3     Botswana         AFRICA\n",
            "4      Burkina         AFRICA\n",
            "..         ...            ...\n",
            "189   Paraguay  SOUTH AMERICA\n",
            "190       Peru  SOUTH AMERICA\n",
            "191   Suriname  SOUTH AMERICA\n",
            "192    Uruguay  SOUTH AMERICA\n",
            "193  Venezuela  SOUTH AMERICA\n",
            "\n",
            "[194 rows x 2 columns]\n"
          ],
          "name": "stdout"
        },
        {
          "output_type": "stream",
          "text": [
            "/usr/local/lib/python3.6/dist-packages/urllib3/connectionpool.py:847: InsecureRequestWarning: Unverified HTTPS request is being made. Adding certificate verification is strongly advised. See: https://urllib3.readthedocs.io/en/latest/advanced-usage.html#ssl-warnings\n",
            "  InsecureRequestWarning)\n"
          ],
          "name": "stderr"
        }
      ]
    },
    {
      "cell_type": "code",
      "metadata": {
        "id": "d4nV5tLl19HM",
        "colab_type": "code",
        "colab": {
          "base_uri": "https://localhost:8080/",
          "height": 588
        },
        "outputId": "d06189c8-05f5-4690-8023-9a4b620498a6"
      },
      "source": [
        "# ON colab, install yahooquery\n",
        "!pip install yahooquery"
      ],
      "execution_count": 5,
      "outputs": [
        {
          "output_type": "stream",
          "text": [
            "Collecting yahooquery\n",
            "\u001b[?25l  Downloading https://files.pythonhosted.org/packages/45/4e/d214812e70fdd687960c74280d1e6264ce0bbbc8b9d9cab874a30353231d/yahooquery-2.2.5.tar.gz (53kB)\n",
            "\u001b[K     |████████████████████████████████| 61kB 1.8MB/s \n",
            "\u001b[?25hCollecting lxml==4.5.0\n",
            "\u001b[?25l  Downloading https://files.pythonhosted.org/packages/dd/ba/a0e6866057fc0bbd17192925c1d63a3b85cf522965de9bc02364d08e5b84/lxml-4.5.0-cp36-cp36m-manylinux1_x86_64.whl (5.8MB)\n",
            "\u001b[K     |████████████████████████████████| 5.8MB 6.7MB/s \n",
            "\u001b[?25hRequirement already satisfied: pandas>=0.24 in /usr/local/lib/python3.6/dist-packages (from yahooquery) (1.0.5)\n",
            "Collecting requests-futures==1.0.0\n",
            "  Downloading https://files.pythonhosted.org/packages/47/c4/fd48d1ac5110a5457c71ac7cc4caa93da10a80b8de71112430e439bdee22/requests-futures-1.0.0.tar.gz\n",
            "Collecting selenium==3.141.0\n",
            "\u001b[?25l  Downloading https://files.pythonhosted.org/packages/80/d6/4294f0b4bce4de0abf13e17190289f9d0613b0a44e5dd6a7f5ca98459853/selenium-3.141.0-py2.py3-none-any.whl (904kB)\n",
            "\u001b[K     |████████████████████████████████| 911kB 42.8MB/s \n",
            "\u001b[?25hRequirement already satisfied: python-dateutil>=2.6.1 in /usr/local/lib/python3.6/dist-packages (from pandas>=0.24->yahooquery) (2.8.1)\n",
            "Requirement already satisfied: pytz>=2017.2 in /usr/local/lib/python3.6/dist-packages (from pandas>=0.24->yahooquery) (2018.9)\n",
            "Requirement already satisfied: numpy>=1.13.3 in /usr/local/lib/python3.6/dist-packages (from pandas>=0.24->yahooquery) (1.18.5)\n",
            "Requirement already satisfied: requests>=1.2.0 in /usr/local/lib/python3.6/dist-packages (from requests-futures==1.0.0->yahooquery) (2.23.0)\n",
            "Requirement already satisfied: urllib3 in /usr/local/lib/python3.6/dist-packages (from selenium==3.141.0->yahooquery) (1.24.3)\n",
            "Requirement already satisfied: six>=1.5 in /usr/local/lib/python3.6/dist-packages (from python-dateutil>=2.6.1->pandas>=0.24->yahooquery) (1.15.0)\n",
            "Requirement already satisfied: certifi>=2017.4.17 in /usr/local/lib/python3.6/dist-packages (from requests>=1.2.0->requests-futures==1.0.0->yahooquery) (2020.6.20)\n",
            "Requirement already satisfied: idna<3,>=2.5 in /usr/local/lib/python3.6/dist-packages (from requests>=1.2.0->requests-futures==1.0.0->yahooquery) (2.10)\n",
            "Requirement already satisfied: chardet<4,>=3.0.2 in /usr/local/lib/python3.6/dist-packages (from requests>=1.2.0->requests-futures==1.0.0->yahooquery) (3.0.4)\n",
            "Building wheels for collected packages: yahooquery, requests-futures\n",
            "  Building wheel for yahooquery (setup.py) ... \u001b[?25l\u001b[?25hdone\n",
            "  Created wheel for yahooquery: filename=yahooquery-2.2.5-cp36-none-any.whl size=49956 sha256=daa9e98f11b4ec6414bda2ec40216e916c44d2f747d4432a4a85303b52d2059b\n",
            "  Stored in directory: /root/.cache/pip/wheels/dd/6f/e6/04b0c8874ca6f29e0effceb10ea260f181746c43905a436477\n",
            "  Building wheel for requests-futures (setup.py) ... \u001b[?25l\u001b[?25hdone\n",
            "  Created wheel for requests-futures: filename=requests_futures-1.0.0-cp36-none-any.whl size=7013 sha256=dfd330e3b886eca360130ad684f61e791ab13028b9819c950b85988782cda0cd\n",
            "  Stored in directory: /root/.cache/pip/wheels/26/d0/f5/dc4e4a37bbe55c9acf967d2bd899152412c1e49c227f5395ff\n",
            "Successfully built yahooquery requests-futures\n",
            "Installing collected packages: lxml, requests-futures, selenium, yahooquery\n",
            "  Found existing installation: lxml 4.2.6\n",
            "    Uninstalling lxml-4.2.6:\n",
            "      Successfully uninstalled lxml-4.2.6\n",
            "Successfully installed lxml-4.5.0 requests-futures-1.0.0 selenium-3.141.0 yahooquery-2.2.5\n"
          ],
          "name": "stdout"
        }
      ]
    },
    {
      "cell_type": "code",
      "metadata": {
        "colab_type": "code",
        "id": "XRZKScE9fzO7",
        "colab": {
          "base_uri": "https://localhost:8080/",
          "height": 431
        },
        "outputId": "9df5a203-e241-4f1f-b95c-fda56aeed3fd"
      },
      "source": [
        "from yahooquery import Ticker\n",
        "import pandas as pd\n",
        "aapl = Ticker('aapl')\n",
        "aapl.history(period='max') #dispaly first 5 and last 5 in notebook"
      ],
      "execution_count": 6,
      "outputs": [
        {
          "output_type": "execute_result",
          "data": {
            "text/html": [
              "<div>\n",
              "<style scoped>\n",
              "    .dataframe tbody tr th:only-of-type {\n",
              "        vertical-align: middle;\n",
              "    }\n",
              "\n",
              "    .dataframe tbody tr th {\n",
              "        vertical-align: top;\n",
              "    }\n",
              "\n",
              "    .dataframe thead th {\n",
              "        text-align: right;\n",
              "    }\n",
              "</style>\n",
              "<table border=\"1\" class=\"dataframe\">\n",
              "  <thead>\n",
              "    <tr style=\"text-align: right;\">\n",
              "      <th></th>\n",
              "      <th></th>\n",
              "      <th>close</th>\n",
              "      <th>low</th>\n",
              "      <th>volume</th>\n",
              "      <th>high</th>\n",
              "      <th>open</th>\n",
              "      <th>adjclose</th>\n",
              "      <th>dividends</th>\n",
              "      <th>splits</th>\n",
              "    </tr>\n",
              "    <tr>\n",
              "      <th>symbol</th>\n",
              "      <th>date</th>\n",
              "      <th></th>\n",
              "      <th></th>\n",
              "      <th></th>\n",
              "      <th></th>\n",
              "      <th></th>\n",
              "      <th></th>\n",
              "      <th></th>\n",
              "      <th></th>\n",
              "    </tr>\n",
              "  </thead>\n",
              "  <tbody>\n",
              "    <tr>\n",
              "      <th rowspan=\"11\" valign=\"top\">aapl</th>\n",
              "      <th>1980-12-12</th>\n",
              "      <td>0.513393</td>\n",
              "      <td>0.513393</td>\n",
              "      <td>117258400.0</td>\n",
              "      <td>0.515625</td>\n",
              "      <td>0.513393</td>\n",
              "      <td>0.405683</td>\n",
              "      <td>0.0</td>\n",
              "      <td>0.0</td>\n",
              "    </tr>\n",
              "    <tr>\n",
              "      <th>1980-12-15</th>\n",
              "      <td>0.486607</td>\n",
              "      <td>0.486607</td>\n",
              "      <td>43971200.0</td>\n",
              "      <td>0.488839</td>\n",
              "      <td>0.488839</td>\n",
              "      <td>0.384517</td>\n",
              "      <td>0.0</td>\n",
              "      <td>0.0</td>\n",
              "    </tr>\n",
              "    <tr>\n",
              "      <th>1980-12-16</th>\n",
              "      <td>0.450893</td>\n",
              "      <td>0.450893</td>\n",
              "      <td>26432000.0</td>\n",
              "      <td>0.453125</td>\n",
              "      <td>0.453125</td>\n",
              "      <td>0.356296</td>\n",
              "      <td>0.0</td>\n",
              "      <td>0.0</td>\n",
              "    </tr>\n",
              "    <tr>\n",
              "      <th>1980-12-17</th>\n",
              "      <td>0.462054</td>\n",
              "      <td>0.462054</td>\n",
              "      <td>21610400.0</td>\n",
              "      <td>0.464286</td>\n",
              "      <td>0.462054</td>\n",
              "      <td>0.365115</td>\n",
              "      <td>0.0</td>\n",
              "      <td>0.0</td>\n",
              "    </tr>\n",
              "    <tr>\n",
              "      <th>1980-12-18</th>\n",
              "      <td>0.475446</td>\n",
              "      <td>0.475446</td>\n",
              "      <td>18362400.0</td>\n",
              "      <td>0.477679</td>\n",
              "      <td>0.475446</td>\n",
              "      <td>0.375698</td>\n",
              "      <td>0.0</td>\n",
              "      <td>0.0</td>\n",
              "    </tr>\n",
              "    <tr>\n",
              "      <th>...</th>\n",
              "      <td>...</td>\n",
              "      <td>...</td>\n",
              "      <td>...</td>\n",
              "      <td>...</td>\n",
              "      <td>...</td>\n",
              "      <td>...</td>\n",
              "      <td>...</td>\n",
              "      <td>...</td>\n",
              "    </tr>\n",
              "    <tr>\n",
              "      <th>2020-07-24</th>\n",
              "      <td>370.459991</td>\n",
              "      <td>356.579987</td>\n",
              "      <td>46359700.0</td>\n",
              "      <td>371.880005</td>\n",
              "      <td>363.950012</td>\n",
              "      <td>370.459991</td>\n",
              "      <td>0.0</td>\n",
              "      <td>0.0</td>\n",
              "    </tr>\n",
              "    <tr>\n",
              "      <th>2020-07-27</th>\n",
              "      <td>379.239990</td>\n",
              "      <td>373.920013</td>\n",
              "      <td>30303500.0</td>\n",
              "      <td>379.619995</td>\n",
              "      <td>374.839996</td>\n",
              "      <td>379.239990</td>\n",
              "      <td>0.0</td>\n",
              "      <td>0.0</td>\n",
              "    </tr>\n",
              "    <tr>\n",
              "      <th>2020-07-28</th>\n",
              "      <td>373.010010</td>\n",
              "      <td>372.989990</td>\n",
              "      <td>25906400.0</td>\n",
              "      <td>378.200012</td>\n",
              "      <td>377.470001</td>\n",
              "      <td>373.010010</td>\n",
              "      <td>0.0</td>\n",
              "      <td>0.0</td>\n",
              "    </tr>\n",
              "    <tr>\n",
              "      <th>2020-07-29</th>\n",
              "      <td>380.160004</td>\n",
              "      <td>374.850006</td>\n",
              "      <td>22500400.0</td>\n",
              "      <td>380.920013</td>\n",
              "      <td>375.000000</td>\n",
              "      <td>380.160004</td>\n",
              "      <td>0.0</td>\n",
              "      <td>0.0</td>\n",
              "    </tr>\n",
              "    <tr>\n",
              "      <th>2020-07-30</th>\n",
              "      <td>381.589996</td>\n",
              "      <td>375.070007</td>\n",
              "      <td>12768777.0</td>\n",
              "      <td>382.160004</td>\n",
              "      <td>376.750000</td>\n",
              "      <td>381.589996</td>\n",
              "      <td>0.0</td>\n",
              "      <td>0.0</td>\n",
              "    </tr>\n",
              "  </tbody>\n",
              "</table>\n",
              "<p>9992 rows × 8 columns</p>\n",
              "</div>"
            ],
            "text/plain": [
              "                        close         low  ...  dividends  splits\n",
              "symbol date                                ...                   \n",
              "aapl   1980-12-12    0.513393    0.513393  ...        0.0     0.0\n",
              "       1980-12-15    0.486607    0.486607  ...        0.0     0.0\n",
              "       1980-12-16    0.450893    0.450893  ...        0.0     0.0\n",
              "       1980-12-17    0.462054    0.462054  ...        0.0     0.0\n",
              "       1980-12-18    0.475446    0.475446  ...        0.0     0.0\n",
              "...                       ...         ...  ...        ...     ...\n",
              "       2020-07-24  370.459991  356.579987  ...        0.0     0.0\n",
              "       2020-07-27  379.239990  373.920013  ...        0.0     0.0\n",
              "       2020-07-28  373.010010  372.989990  ...        0.0     0.0\n",
              "       2020-07-29  380.160004  374.850006  ...        0.0     0.0\n",
              "       2020-07-30  381.589996  375.070007  ...        0.0     0.0\n",
              "\n",
              "[9992 rows x 8 columns]"
            ]
          },
          "metadata": {
            "tags": []
          },
          "execution_count": 6
        }
      ]
    },
    {
      "cell_type": "code",
      "metadata": {
        "id": "JFZssebe19HR",
        "colab_type": "code",
        "colab": {
          "base_uri": "https://localhost:8080/",
          "height": 195
        },
        "outputId": "887b3b0e-8cf9-4b2c-ebeb-e06dabcf3bd0"
      },
      "source": [
        "aapl.earning_history"
      ],
      "execution_count": 7,
      "outputs": [
        {
          "output_type": "execute_result",
          "data": {
            "text/html": [
              "<div>\n",
              "<style scoped>\n",
              "    .dataframe tbody tr th:only-of-type {\n",
              "        vertical-align: middle;\n",
              "    }\n",
              "\n",
              "    .dataframe tbody tr th {\n",
              "        vertical-align: top;\n",
              "    }\n",
              "\n",
              "    .dataframe thead th {\n",
              "        text-align: right;\n",
              "    }\n",
              "</style>\n",
              "<table border=\"1\" class=\"dataframe\">\n",
              "  <thead>\n",
              "    <tr style=\"text-align: right;\">\n",
              "      <th></th>\n",
              "      <th></th>\n",
              "      <th>maxAge</th>\n",
              "      <th>epsActual</th>\n",
              "      <th>epsEstimate</th>\n",
              "      <th>epsDifference</th>\n",
              "      <th>surprisePercent</th>\n",
              "      <th>quarter</th>\n",
              "      <th>period</th>\n",
              "    </tr>\n",
              "    <tr>\n",
              "      <th>symbol</th>\n",
              "      <th>row</th>\n",
              "      <th></th>\n",
              "      <th></th>\n",
              "      <th></th>\n",
              "      <th></th>\n",
              "      <th></th>\n",
              "      <th></th>\n",
              "      <th></th>\n",
              "    </tr>\n",
              "  </thead>\n",
              "  <tbody>\n",
              "    <tr>\n",
              "      <th rowspan=\"4\" valign=\"top\">aapl</th>\n",
              "      <th>0</th>\n",
              "      <td>1</td>\n",
              "      <td>2.18</td>\n",
              "      <td>2.10</td>\n",
              "      <td>0.08</td>\n",
              "      <td>0.038</td>\n",
              "      <td>2019-06-30</td>\n",
              "      <td>-4q</td>\n",
              "    </tr>\n",
              "    <tr>\n",
              "      <th>1</th>\n",
              "      <td>1</td>\n",
              "      <td>3.03</td>\n",
              "      <td>2.84</td>\n",
              "      <td>0.19</td>\n",
              "      <td>0.067</td>\n",
              "      <td>2019-09-30</td>\n",
              "      <td>-3q</td>\n",
              "    </tr>\n",
              "    <tr>\n",
              "      <th>2</th>\n",
              "      <td>1</td>\n",
              "      <td>4.99</td>\n",
              "      <td>4.55</td>\n",
              "      <td>0.44</td>\n",
              "      <td>0.097</td>\n",
              "      <td>2019-12-31</td>\n",
              "      <td>-2q</td>\n",
              "    </tr>\n",
              "    <tr>\n",
              "      <th>3</th>\n",
              "      <td>1</td>\n",
              "      <td>2.55</td>\n",
              "      <td>2.26</td>\n",
              "      <td>0.29</td>\n",
              "      <td>0.128</td>\n",
              "      <td>2020-03-31</td>\n",
              "      <td>-1q</td>\n",
              "    </tr>\n",
              "  </tbody>\n",
              "</table>\n",
              "</div>"
            ],
            "text/plain": [
              "            maxAge  epsActual  epsEstimate  ...  surprisePercent     quarter period\n",
              "symbol row                                  ...                                    \n",
              "aapl   0         1       2.18         2.10  ...            0.038  2019-06-30    -4q\n",
              "       1         1       3.03         2.84  ...            0.067  2019-09-30    -3q\n",
              "       2         1       4.99         4.55  ...            0.097  2019-12-31    -2q\n",
              "       3         1       2.55         2.26  ...            0.128  2020-03-31    -1q\n",
              "\n",
              "[4 rows x 7 columns]"
            ]
          },
          "metadata": {
            "tags": []
          },
          "execution_count": 7
        }
      ]
    },
    {
      "cell_type": "code",
      "metadata": {
        "tags": [],
        "id": "D87ifXrd19HU",
        "colab_type": "code",
        "colab": {},
        "outputId": "d679cf2f-d83c-4455-cb64-615ffa09d41e"
      },
      "source": [
        "# DataFrame and Series are different.\n",
        "print(type(aapl.earning_history))\n",
        "print(type(aapl.earning_history['quarter']))\n",
        "print(type(aapl.earning_history[['quarter','epsActual']])) # Double brackets!"
      ],
      "execution_count": null,
      "outputs": [
        {
          "output_type": "stream",
          "text": [
            "<class 'pandas.core.frame.DataFrame'>\n",
            "<class 'pandas.core.series.Series'>\n",
            "<class 'pandas.core.frame.DataFrame'>\n"
          ],
          "name": "stdout"
        }
      ]
    },
    {
      "cell_type": "code",
      "metadata": {
        "id": "t87Yn7JG19HX",
        "colab_type": "code",
        "colab": {},
        "outputId": "d3999eea-d792-4f8e-ab17-904dc2d2b1ce"
      },
      "source": [
        "aapl.sec_filings"
      ],
      "execution_count": null,
      "outputs": [
        {
          "output_type": "execute_result",
          "data": {
            "text/plain": [
              "                  date            epochDate  type  \\\n",
              "symbol row                                          \n",
              "aapl   0    2020-05-11  2020-05-11 21:32:39   8-K   \n",
              "       1    2020-05-01  2020-05-01 11:45:45  10-Q   \n",
              "       2    2020-04-30  2020-04-30 21:33:15   8-K   \n",
              "       3    2020-02-18  2020-02-18 11:35:28   8-K   \n",
              "       4    2020-01-29  2020-01-29 11:07:08  10-Q   \n",
              "       5    2020-01-28  2020-01-28 21:31:43   8-K   \n",
              "       6    2019-11-15  2019-11-15 11:24:32   8-K   \n",
              "       7    2019-10-31  2019-10-31 10:07:27  10-K   \n",
              "       8    2019-10-30  2019-10-30 20:32:03   8-K   \n",
              "       9    2019-09-11  2019-09-11 21:22:00   8-K   \n",
              "       10   2019-07-31  2019-07-31 21:33:41  10-Q   \n",
              "       11   2019-07-30  2019-07-30 21:31:22   8-K   \n",
              "\n",
              "                                                        title  \\\n",
              "symbol row                                                      \n",
              "aapl   0    Disclosing Other Events, Financial Statements ...   \n",
              "       1                                     Quarterly Report   \n",
              "       2    Disclosing Results of Operations and Financial...   \n",
              "       3    Disclosing Regulation FD Disclosure, Financial...   \n",
              "       4                                     Quarterly Report   \n",
              "       5    Disclosing Results of Operations and Financial...   \n",
              "       6    Disclosing Other Events, Financial Statements ...   \n",
              "       7                                        Annual Report   \n",
              "       8    Disclosing Results of Operations and Financial...   \n",
              "       9    Disclosing Other Events, Financial Statements ...   \n",
              "       10                                    Quarterly Report   \n",
              "       11   Disclosing Results of Operations and Financial...   \n",
              "\n",
              "                                                     edgarUrl  maxAge  \n",
              "symbol row                                                             \n",
              "aapl   0    https://yahoo.brand.edgar-online.com/DisplayFi...       1  \n",
              "       1    https://yahoo.brand.edgar-online.com/DisplayFi...       1  \n",
              "       2    https://yahoo.brand.edgar-online.com/DisplayFi...       1  \n",
              "       3    https://yahoo.brand.edgar-online.com/DisplayFi...       1  \n",
              "       4    https://yahoo.brand.edgar-online.com/DisplayFi...       1  \n",
              "       5    https://yahoo.brand.edgar-online.com/DisplayFi...       1  \n",
              "       6    https://yahoo.brand.edgar-online.com/DisplayFi...       1  \n",
              "       7    https://yahoo.brand.edgar-online.com/DisplayFi...       1  \n",
              "       8    https://yahoo.brand.edgar-online.com/DisplayFi...       1  \n",
              "       9    https://yahoo.brand.edgar-online.com/DisplayFi...       1  \n",
              "       10   https://yahoo.brand.edgar-online.com/DisplayFi...       1  \n",
              "       11   https://yahoo.brand.edgar-online.com/DisplayFi...       1  "
            ],
            "text/html": [
              "<div>\n",
              "<style scoped>\n",
              "    .dataframe tbody tr th:only-of-type {\n",
              "        vertical-align: middle;\n",
              "    }\n",
              "\n",
              "    .dataframe tbody tr th {\n",
              "        vertical-align: top;\n",
              "    }\n",
              "\n",
              "    .dataframe thead th {\n",
              "        text-align: right;\n",
              "    }\n",
              "</style>\n",
              "<table border=\"1\" class=\"dataframe\">\n",
              "  <thead>\n",
              "    <tr style=\"text-align: right;\">\n",
              "      <th></th>\n",
              "      <th></th>\n",
              "      <th>date</th>\n",
              "      <th>epochDate</th>\n",
              "      <th>type</th>\n",
              "      <th>title</th>\n",
              "      <th>edgarUrl</th>\n",
              "      <th>maxAge</th>\n",
              "    </tr>\n",
              "    <tr>\n",
              "      <th>symbol</th>\n",
              "      <th>row</th>\n",
              "      <th></th>\n",
              "      <th></th>\n",
              "      <th></th>\n",
              "      <th></th>\n",
              "      <th></th>\n",
              "      <th></th>\n",
              "    </tr>\n",
              "  </thead>\n",
              "  <tbody>\n",
              "    <tr>\n",
              "      <th rowspan=\"12\" valign=\"top\">aapl</th>\n",
              "      <th>0</th>\n",
              "      <td>2020-05-11</td>\n",
              "      <td>2020-05-11 21:32:39</td>\n",
              "      <td>8-K</td>\n",
              "      <td>Disclosing Other Events, Financial Statements ...</td>\n",
              "      <td>https://yahoo.brand.edgar-online.com/DisplayFi...</td>\n",
              "      <td>1</td>\n",
              "    </tr>\n",
              "    <tr>\n",
              "      <th>1</th>\n",
              "      <td>2020-05-01</td>\n",
              "      <td>2020-05-01 11:45:45</td>\n",
              "      <td>10-Q</td>\n",
              "      <td>Quarterly Report</td>\n",
              "      <td>https://yahoo.brand.edgar-online.com/DisplayFi...</td>\n",
              "      <td>1</td>\n",
              "    </tr>\n",
              "    <tr>\n",
              "      <th>2</th>\n",
              "      <td>2020-04-30</td>\n",
              "      <td>2020-04-30 21:33:15</td>\n",
              "      <td>8-K</td>\n",
              "      <td>Disclosing Results of Operations and Financial...</td>\n",
              "      <td>https://yahoo.brand.edgar-online.com/DisplayFi...</td>\n",
              "      <td>1</td>\n",
              "    </tr>\n",
              "    <tr>\n",
              "      <th>3</th>\n",
              "      <td>2020-02-18</td>\n",
              "      <td>2020-02-18 11:35:28</td>\n",
              "      <td>8-K</td>\n",
              "      <td>Disclosing Regulation FD Disclosure, Financial...</td>\n",
              "      <td>https://yahoo.brand.edgar-online.com/DisplayFi...</td>\n",
              "      <td>1</td>\n",
              "    </tr>\n",
              "    <tr>\n",
              "      <th>4</th>\n",
              "      <td>2020-01-29</td>\n",
              "      <td>2020-01-29 11:07:08</td>\n",
              "      <td>10-Q</td>\n",
              "      <td>Quarterly Report</td>\n",
              "      <td>https://yahoo.brand.edgar-online.com/DisplayFi...</td>\n",
              "      <td>1</td>\n",
              "    </tr>\n",
              "    <tr>\n",
              "      <th>5</th>\n",
              "      <td>2020-01-28</td>\n",
              "      <td>2020-01-28 21:31:43</td>\n",
              "      <td>8-K</td>\n",
              "      <td>Disclosing Results of Operations and Financial...</td>\n",
              "      <td>https://yahoo.brand.edgar-online.com/DisplayFi...</td>\n",
              "      <td>1</td>\n",
              "    </tr>\n",
              "    <tr>\n",
              "      <th>6</th>\n",
              "      <td>2019-11-15</td>\n",
              "      <td>2019-11-15 11:24:32</td>\n",
              "      <td>8-K</td>\n",
              "      <td>Disclosing Other Events, Financial Statements ...</td>\n",
              "      <td>https://yahoo.brand.edgar-online.com/DisplayFi...</td>\n",
              "      <td>1</td>\n",
              "    </tr>\n",
              "    <tr>\n",
              "      <th>7</th>\n",
              "      <td>2019-10-31</td>\n",
              "      <td>2019-10-31 10:07:27</td>\n",
              "      <td>10-K</td>\n",
              "      <td>Annual Report</td>\n",
              "      <td>https://yahoo.brand.edgar-online.com/DisplayFi...</td>\n",
              "      <td>1</td>\n",
              "    </tr>\n",
              "    <tr>\n",
              "      <th>8</th>\n",
              "      <td>2019-10-30</td>\n",
              "      <td>2019-10-30 20:32:03</td>\n",
              "      <td>8-K</td>\n",
              "      <td>Disclosing Results of Operations and Financial...</td>\n",
              "      <td>https://yahoo.brand.edgar-online.com/DisplayFi...</td>\n",
              "      <td>1</td>\n",
              "    </tr>\n",
              "    <tr>\n",
              "      <th>9</th>\n",
              "      <td>2019-09-11</td>\n",
              "      <td>2019-09-11 21:22:00</td>\n",
              "      <td>8-K</td>\n",
              "      <td>Disclosing Other Events, Financial Statements ...</td>\n",
              "      <td>https://yahoo.brand.edgar-online.com/DisplayFi...</td>\n",
              "      <td>1</td>\n",
              "    </tr>\n",
              "    <tr>\n",
              "      <th>10</th>\n",
              "      <td>2019-07-31</td>\n",
              "      <td>2019-07-31 21:33:41</td>\n",
              "      <td>10-Q</td>\n",
              "      <td>Quarterly Report</td>\n",
              "      <td>https://yahoo.brand.edgar-online.com/DisplayFi...</td>\n",
              "      <td>1</td>\n",
              "    </tr>\n",
              "    <tr>\n",
              "      <th>11</th>\n",
              "      <td>2019-07-30</td>\n",
              "      <td>2019-07-30 21:31:22</td>\n",
              "      <td>8-K</td>\n",
              "      <td>Disclosing Results of Operations and Financial...</td>\n",
              "      <td>https://yahoo.brand.edgar-online.com/DisplayFi...</td>\n",
              "      <td>1</td>\n",
              "    </tr>\n",
              "  </tbody>\n",
              "</table>\n",
              "</div>"
            ]
          },
          "metadata": {
            "tags": []
          },
          "execution_count": 10
        }
      ]
    },
    {
      "cell_type": "code",
      "metadata": {
        "id": "B_7uVPQd19Ha",
        "colab_type": "code",
        "colab": {},
        "outputId": "496eae0d-ba9b-4c53-e101-8e27509458b9"
      },
      "source": [
        "aapl.balance_sheet(frequency=\"q\")"
      ],
      "execution_count": null,
      "outputs": [
        {
          "output_type": "execute_result",
          "data": {
            "text/plain": [
              "         asOfDate periodType  AccountsPayable  AccountsReceivable  \\\n",
              "symbol                                                              \n",
              "aapl   2019-06-30         3M     2.911500e+10        1.414800e+10   \n",
              "aapl   2019-09-30         3M     4.623600e+10        2.292600e+10   \n",
              "aapl   2019-12-31         3M     4.511100e+10        2.097000e+10   \n",
              "aapl   2020-03-31         3M     3.242100e+10        1.572200e+10   \n",
              "\n",
              "        AccumulatedDepreciation  AvailableForSaleSecurities  CapitalStock  \\\n",
              "symbol                                                                      \n",
              "aapl              -5.634800e+10                1.159960e+11  4.337100e+10   \n",
              "aapl              -5.857900e+10                1.053410e+11  4.517400e+10   \n",
              "aapl              -6.095900e+10                9.989900e+10  4.597200e+10   \n",
              "aapl              -6.285400e+10                9.879300e+10  4.803200e+10   \n",
              "\n",
              "        CashAndCashEquivalents  CashCashEquivalentsAndShortTermInvestments  \\\n",
              "symbol                                                                       \n",
              "aapl              5.053000e+10                                9.461400e+10   \n",
              "aapl              4.884400e+10                                1.005570e+11   \n",
              "aapl              3.977100e+10                                1.071620e+11   \n",
              "aapl              4.017400e+10                                9.405100e+10   \n",
              "\n",
              "        CashEquivalents  ...  TangibleBookValue   TotalAssets  \\\n",
              "symbol                   ...                                    \n",
              "aapl       3.845500e+10  ...       9.645600e+10  3.222390e+11   \n",
              "aapl       3.664000e+10  ...       9.048800e+10  3.385160e+11   \n",
              "aapl       2.838800e+10  ...       8.953100e+10  3.406180e+11   \n",
              "aapl       1.576900e+10  ...       7.842500e+10  3.204000e+11   \n",
              "\n",
              "        TotalCapitalization     TotalDebt  TotalEquityGrossMinorityInterest  \\\n",
              "symbol                                                                        \n",
              "aapl           1.813920e+11  1.084180e+11                      9.645600e+10   \n",
              "aapl           1.822950e+11  1.080470e+11                      9.048800e+10   \n",
              "aapl           1.826090e+11  1.082920e+11                      8.953100e+10   \n",
              "aapl           1.675110e+11  1.095070e+11                      7.842500e+10   \n",
              "\n",
              "        TotalLiabilitiesNetMinorityInterest  TotalNonCurrentAssets  \\\n",
              "symbol                                                               \n",
              "aapl                           2.257830e+11           1.872660e+11   \n",
              "aapl                           2.480280e+11           1.756970e+11   \n",
              "aapl                           2.510870e+11           1.773870e+11   \n",
              "aapl                           2.419750e+11           1.766470e+11   \n",
              "\n",
              "        TotalNonCurrentLiabilitiesNetMinorityInterest  \\\n",
              "symbol                                                  \n",
              "aapl                                     1.360790e+11   \n",
              "aapl                                     1.423100e+11   \n",
              "aapl                                     1.489260e+11   \n",
              "aapl                                     1.458810e+11   \n",
              "\n",
              "        TradeandOtherPayablesNonCurrent  WorkingCapital  \n",
              "symbol                                                   \n",
              "aapl                       3.052100e+10    4.526900e+10  \n",
              "aapl                       2.954500e+10    5.710100e+10  \n",
              "aapl                       2.819800e+10    6.107000e+10  \n",
              "aapl                       2.818800e+10    4.765900e+10  \n",
              "\n",
              "[4 rows x 59 columns]"
            ],
            "text/html": [
              "<div>\n",
              "<style scoped>\n",
              "    .dataframe tbody tr th:only-of-type {\n",
              "        vertical-align: middle;\n",
              "    }\n",
              "\n",
              "    .dataframe tbody tr th {\n",
              "        vertical-align: top;\n",
              "    }\n",
              "\n",
              "    .dataframe thead th {\n",
              "        text-align: right;\n",
              "    }\n",
              "</style>\n",
              "<table border=\"1\" class=\"dataframe\">\n",
              "  <thead>\n",
              "    <tr style=\"text-align: right;\">\n",
              "      <th></th>\n",
              "      <th>asOfDate</th>\n",
              "      <th>periodType</th>\n",
              "      <th>AccountsPayable</th>\n",
              "      <th>AccountsReceivable</th>\n",
              "      <th>AccumulatedDepreciation</th>\n",
              "      <th>AvailableForSaleSecurities</th>\n",
              "      <th>CapitalStock</th>\n",
              "      <th>CashAndCashEquivalents</th>\n",
              "      <th>CashCashEquivalentsAndShortTermInvestments</th>\n",
              "      <th>CashEquivalents</th>\n",
              "      <th>...</th>\n",
              "      <th>TangibleBookValue</th>\n",
              "      <th>TotalAssets</th>\n",
              "      <th>TotalCapitalization</th>\n",
              "      <th>TotalDebt</th>\n",
              "      <th>TotalEquityGrossMinorityInterest</th>\n",
              "      <th>TotalLiabilitiesNetMinorityInterest</th>\n",
              "      <th>TotalNonCurrentAssets</th>\n",
              "      <th>TotalNonCurrentLiabilitiesNetMinorityInterest</th>\n",
              "      <th>TradeandOtherPayablesNonCurrent</th>\n",
              "      <th>WorkingCapital</th>\n",
              "    </tr>\n",
              "    <tr>\n",
              "      <th>symbol</th>\n",
              "      <th></th>\n",
              "      <th></th>\n",
              "      <th></th>\n",
              "      <th></th>\n",
              "      <th></th>\n",
              "      <th></th>\n",
              "      <th></th>\n",
              "      <th></th>\n",
              "      <th></th>\n",
              "      <th></th>\n",
              "      <th></th>\n",
              "      <th></th>\n",
              "      <th></th>\n",
              "      <th></th>\n",
              "      <th></th>\n",
              "      <th></th>\n",
              "      <th></th>\n",
              "      <th></th>\n",
              "      <th></th>\n",
              "      <th></th>\n",
              "      <th></th>\n",
              "    </tr>\n",
              "  </thead>\n",
              "  <tbody>\n",
              "    <tr>\n",
              "      <th>aapl</th>\n",
              "      <td>2019-06-30</td>\n",
              "      <td>3M</td>\n",
              "      <td>2.911500e+10</td>\n",
              "      <td>1.414800e+10</td>\n",
              "      <td>-5.634800e+10</td>\n",
              "      <td>1.159960e+11</td>\n",
              "      <td>4.337100e+10</td>\n",
              "      <td>5.053000e+10</td>\n",
              "      <td>9.461400e+10</td>\n",
              "      <td>3.845500e+10</td>\n",
              "      <td>...</td>\n",
              "      <td>9.645600e+10</td>\n",
              "      <td>3.222390e+11</td>\n",
              "      <td>1.813920e+11</td>\n",
              "      <td>1.084180e+11</td>\n",
              "      <td>9.645600e+10</td>\n",
              "      <td>2.257830e+11</td>\n",
              "      <td>1.872660e+11</td>\n",
              "      <td>1.360790e+11</td>\n",
              "      <td>3.052100e+10</td>\n",
              "      <td>4.526900e+10</td>\n",
              "    </tr>\n",
              "    <tr>\n",
              "      <th>aapl</th>\n",
              "      <td>2019-09-30</td>\n",
              "      <td>3M</td>\n",
              "      <td>4.623600e+10</td>\n",
              "      <td>2.292600e+10</td>\n",
              "      <td>-5.857900e+10</td>\n",
              "      <td>1.053410e+11</td>\n",
              "      <td>4.517400e+10</td>\n",
              "      <td>4.884400e+10</td>\n",
              "      <td>1.005570e+11</td>\n",
              "      <td>3.664000e+10</td>\n",
              "      <td>...</td>\n",
              "      <td>9.048800e+10</td>\n",
              "      <td>3.385160e+11</td>\n",
              "      <td>1.822950e+11</td>\n",
              "      <td>1.080470e+11</td>\n",
              "      <td>9.048800e+10</td>\n",
              "      <td>2.480280e+11</td>\n",
              "      <td>1.756970e+11</td>\n",
              "      <td>1.423100e+11</td>\n",
              "      <td>2.954500e+10</td>\n",
              "      <td>5.710100e+10</td>\n",
              "    </tr>\n",
              "    <tr>\n",
              "      <th>aapl</th>\n",
              "      <td>2019-12-31</td>\n",
              "      <td>3M</td>\n",
              "      <td>4.511100e+10</td>\n",
              "      <td>2.097000e+10</td>\n",
              "      <td>-6.095900e+10</td>\n",
              "      <td>9.989900e+10</td>\n",
              "      <td>4.597200e+10</td>\n",
              "      <td>3.977100e+10</td>\n",
              "      <td>1.071620e+11</td>\n",
              "      <td>2.838800e+10</td>\n",
              "      <td>...</td>\n",
              "      <td>8.953100e+10</td>\n",
              "      <td>3.406180e+11</td>\n",
              "      <td>1.826090e+11</td>\n",
              "      <td>1.082920e+11</td>\n",
              "      <td>8.953100e+10</td>\n",
              "      <td>2.510870e+11</td>\n",
              "      <td>1.773870e+11</td>\n",
              "      <td>1.489260e+11</td>\n",
              "      <td>2.819800e+10</td>\n",
              "      <td>6.107000e+10</td>\n",
              "    </tr>\n",
              "    <tr>\n",
              "      <th>aapl</th>\n",
              "      <td>2020-03-31</td>\n",
              "      <td>3M</td>\n",
              "      <td>3.242100e+10</td>\n",
              "      <td>1.572200e+10</td>\n",
              "      <td>-6.285400e+10</td>\n",
              "      <td>9.879300e+10</td>\n",
              "      <td>4.803200e+10</td>\n",
              "      <td>4.017400e+10</td>\n",
              "      <td>9.405100e+10</td>\n",
              "      <td>1.576900e+10</td>\n",
              "      <td>...</td>\n",
              "      <td>7.842500e+10</td>\n",
              "      <td>3.204000e+11</td>\n",
              "      <td>1.675110e+11</td>\n",
              "      <td>1.095070e+11</td>\n",
              "      <td>7.842500e+10</td>\n",
              "      <td>2.419750e+11</td>\n",
              "      <td>1.766470e+11</td>\n",
              "      <td>1.458810e+11</td>\n",
              "      <td>2.818800e+10</td>\n",
              "      <td>4.765900e+10</td>\n",
              "    </tr>\n",
              "  </tbody>\n",
              "</table>\n",
              "<p>4 rows × 59 columns</p>\n",
              "</div>"
            ]
          },
          "metadata": {
            "tags": []
          },
          "execution_count": 11
        }
      ]
    },
    {
      "cell_type": "markdown",
      "metadata": {
        "id": "1QAxG_zL19Hd",
        "colab_type": "text"
      },
      "source": [
        "# Getting Series"
      ]
    },
    {
      "cell_type": "code",
      "metadata": {
        "id": "udPu7sP919He",
        "colab_type": "code",
        "colab": {},
        "outputId": "39ddf7b8-71b7-4542-db39-975377940b57"
      },
      "source": [
        "aapl.balance_sheet(frequency=\"q\")[['asOfDate','AccountsReceivable', 'AccountsReceivable']] # note the double brackets because the type is data frame, which is 2 dimensional"
      ],
      "execution_count": null,
      "outputs": [
        {
          "output_type": "execute_result",
          "data": {
            "text/plain": [
              "         asOfDate  AccountsReceivable  AccountsReceivable\n",
              "symbol                                                   \n",
              "aapl   2019-06-30        1.414800e+10        1.414800e+10\n",
              "aapl   2019-09-30        2.292600e+10        2.292600e+10\n",
              "aapl   2019-12-31        2.097000e+10        2.097000e+10\n",
              "aapl   2020-03-31        1.572200e+10        1.572200e+10"
            ],
            "text/html": [
              "<div>\n",
              "<style scoped>\n",
              "    .dataframe tbody tr th:only-of-type {\n",
              "        vertical-align: middle;\n",
              "    }\n",
              "\n",
              "    .dataframe tbody tr th {\n",
              "        vertical-align: top;\n",
              "    }\n",
              "\n",
              "    .dataframe thead th {\n",
              "        text-align: right;\n",
              "    }\n",
              "</style>\n",
              "<table border=\"1\" class=\"dataframe\">\n",
              "  <thead>\n",
              "    <tr style=\"text-align: right;\">\n",
              "      <th></th>\n",
              "      <th>asOfDate</th>\n",
              "      <th>AccountsReceivable</th>\n",
              "      <th>AccountsReceivable</th>\n",
              "    </tr>\n",
              "    <tr>\n",
              "      <th>symbol</th>\n",
              "      <th></th>\n",
              "      <th></th>\n",
              "      <th></th>\n",
              "    </tr>\n",
              "  </thead>\n",
              "  <tbody>\n",
              "    <tr>\n",
              "      <th>aapl</th>\n",
              "      <td>2019-06-30</td>\n",
              "      <td>1.414800e+10</td>\n",
              "      <td>1.414800e+10</td>\n",
              "    </tr>\n",
              "    <tr>\n",
              "      <th>aapl</th>\n",
              "      <td>2019-09-30</td>\n",
              "      <td>2.292600e+10</td>\n",
              "      <td>2.292600e+10</td>\n",
              "    </tr>\n",
              "    <tr>\n",
              "      <th>aapl</th>\n",
              "      <td>2019-12-31</td>\n",
              "      <td>2.097000e+10</td>\n",
              "      <td>2.097000e+10</td>\n",
              "    </tr>\n",
              "    <tr>\n",
              "      <th>aapl</th>\n",
              "      <td>2020-03-31</td>\n",
              "      <td>1.572200e+10</td>\n",
              "      <td>1.572200e+10</td>\n",
              "    </tr>\n",
              "  </tbody>\n",
              "</table>\n",
              "</div>"
            ]
          },
          "metadata": {
            "tags": []
          },
          "execution_count": 30
        }
      ]
    },
    {
      "cell_type": "markdown",
      "metadata": {
        "id": "jqNSNXVW19Hh",
        "colab_type": "text"
      },
      "source": [
        "# Methods"
      ]
    },
    {
      "cell_type": "code",
      "metadata": {
        "id": "iNr7XOju19Hi",
        "colab_type": "code",
        "colab": {},
        "outputId": "be72bc8e-7256-4dab-a1ac-db1592eaac19"
      },
      "source": [
        "#Shape\n",
        "aapl.balance_sheet(frequency=\"q\")[['asOfDate','AccountsReceivable', 'AccountsReceivable']].shape"
      ],
      "execution_count": null,
      "outputs": [
        {
          "output_type": "execute_result",
          "data": {
            "text/plain": [
              "(4, 3)"
            ]
          },
          "metadata": {
            "tags": []
          },
          "execution_count": 33
        }
      ]
    },
    {
      "cell_type": "code",
      "metadata": {
        "id": "VjS6Sj8619Hl",
        "colab_type": "code",
        "colab": {},
        "outputId": "5644ab4f-f64d-4671-8dac-9ff4ad509bfe"
      },
      "source": [
        "# head and tail\n",
        "aapl.sec_filings.head(7) #default is 5"
      ],
      "execution_count": null,
      "outputs": [
        {
          "output_type": "execute_result",
          "data": {
            "text/plain": [
              "                  date            epochDate  type  \\\n",
              "symbol row                                          \n",
              "aapl   0    2020-05-11  2020-05-11 21:32:39   8-K   \n",
              "       1    2020-05-01  2020-05-01 11:45:45  10-Q   \n",
              "       2    2020-04-30  2020-04-30 21:33:15   8-K   \n",
              "       3    2020-02-18  2020-02-18 11:35:28   8-K   \n",
              "       4    2020-01-29  2020-01-29 11:07:08  10-Q   \n",
              "       5    2020-01-28  2020-01-28 21:31:43   8-K   \n",
              "       6    2019-11-15  2019-11-15 11:24:32   8-K   \n",
              "\n",
              "                                                        title  \\\n",
              "symbol row                                                      \n",
              "aapl   0    Disclosing Other Events, Financial Statements ...   \n",
              "       1                                     Quarterly Report   \n",
              "       2    Disclosing Results of Operations and Financial...   \n",
              "       3    Disclosing Regulation FD Disclosure, Financial...   \n",
              "       4                                     Quarterly Report   \n",
              "       5    Disclosing Results of Operations and Financial...   \n",
              "       6    Disclosing Other Events, Financial Statements ...   \n",
              "\n",
              "                                                     edgarUrl  maxAge  \n",
              "symbol row                                                             \n",
              "aapl   0    https://yahoo.brand.edgar-online.com/DisplayFi...       1  \n",
              "       1    https://yahoo.brand.edgar-online.com/DisplayFi...       1  \n",
              "       2    https://yahoo.brand.edgar-online.com/DisplayFi...       1  \n",
              "       3    https://yahoo.brand.edgar-online.com/DisplayFi...       1  \n",
              "       4    https://yahoo.brand.edgar-online.com/DisplayFi...       1  \n",
              "       5    https://yahoo.brand.edgar-online.com/DisplayFi...       1  \n",
              "       6    https://yahoo.brand.edgar-online.com/DisplayFi...       1  "
            ],
            "text/html": [
              "<div>\n",
              "<style scoped>\n",
              "    .dataframe tbody tr th:only-of-type {\n",
              "        vertical-align: middle;\n",
              "    }\n",
              "\n",
              "    .dataframe tbody tr th {\n",
              "        vertical-align: top;\n",
              "    }\n",
              "\n",
              "    .dataframe thead th {\n",
              "        text-align: right;\n",
              "    }\n",
              "</style>\n",
              "<table border=\"1\" class=\"dataframe\">\n",
              "  <thead>\n",
              "    <tr style=\"text-align: right;\">\n",
              "      <th></th>\n",
              "      <th></th>\n",
              "      <th>date</th>\n",
              "      <th>epochDate</th>\n",
              "      <th>type</th>\n",
              "      <th>title</th>\n",
              "      <th>edgarUrl</th>\n",
              "      <th>maxAge</th>\n",
              "    </tr>\n",
              "    <tr>\n",
              "      <th>symbol</th>\n",
              "      <th>row</th>\n",
              "      <th></th>\n",
              "      <th></th>\n",
              "      <th></th>\n",
              "      <th></th>\n",
              "      <th></th>\n",
              "      <th></th>\n",
              "    </tr>\n",
              "  </thead>\n",
              "  <tbody>\n",
              "    <tr>\n",
              "      <th rowspan=\"7\" valign=\"top\">aapl</th>\n",
              "      <th>0</th>\n",
              "      <td>2020-05-11</td>\n",
              "      <td>2020-05-11 21:32:39</td>\n",
              "      <td>8-K</td>\n",
              "      <td>Disclosing Other Events, Financial Statements ...</td>\n",
              "      <td>https://yahoo.brand.edgar-online.com/DisplayFi...</td>\n",
              "      <td>1</td>\n",
              "    </tr>\n",
              "    <tr>\n",
              "      <th>1</th>\n",
              "      <td>2020-05-01</td>\n",
              "      <td>2020-05-01 11:45:45</td>\n",
              "      <td>10-Q</td>\n",
              "      <td>Quarterly Report</td>\n",
              "      <td>https://yahoo.brand.edgar-online.com/DisplayFi...</td>\n",
              "      <td>1</td>\n",
              "    </tr>\n",
              "    <tr>\n",
              "      <th>2</th>\n",
              "      <td>2020-04-30</td>\n",
              "      <td>2020-04-30 21:33:15</td>\n",
              "      <td>8-K</td>\n",
              "      <td>Disclosing Results of Operations and Financial...</td>\n",
              "      <td>https://yahoo.brand.edgar-online.com/DisplayFi...</td>\n",
              "      <td>1</td>\n",
              "    </tr>\n",
              "    <tr>\n",
              "      <th>3</th>\n",
              "      <td>2020-02-18</td>\n",
              "      <td>2020-02-18 11:35:28</td>\n",
              "      <td>8-K</td>\n",
              "      <td>Disclosing Regulation FD Disclosure, Financial...</td>\n",
              "      <td>https://yahoo.brand.edgar-online.com/DisplayFi...</td>\n",
              "      <td>1</td>\n",
              "    </tr>\n",
              "    <tr>\n",
              "      <th>4</th>\n",
              "      <td>2020-01-29</td>\n",
              "      <td>2020-01-29 11:07:08</td>\n",
              "      <td>10-Q</td>\n",
              "      <td>Quarterly Report</td>\n",
              "      <td>https://yahoo.brand.edgar-online.com/DisplayFi...</td>\n",
              "      <td>1</td>\n",
              "    </tr>\n",
              "    <tr>\n",
              "      <th>5</th>\n",
              "      <td>2020-01-28</td>\n",
              "      <td>2020-01-28 21:31:43</td>\n",
              "      <td>8-K</td>\n",
              "      <td>Disclosing Results of Operations and Financial...</td>\n",
              "      <td>https://yahoo.brand.edgar-online.com/DisplayFi...</td>\n",
              "      <td>1</td>\n",
              "    </tr>\n",
              "    <tr>\n",
              "      <th>6</th>\n",
              "      <td>2019-11-15</td>\n",
              "      <td>2019-11-15 11:24:32</td>\n",
              "      <td>8-K</td>\n",
              "      <td>Disclosing Other Events, Financial Statements ...</td>\n",
              "      <td>https://yahoo.brand.edgar-online.com/DisplayFi...</td>\n",
              "      <td>1</td>\n",
              "    </tr>\n",
              "  </tbody>\n",
              "</table>\n",
              "</div>"
            ]
          },
          "metadata": {
            "tags": []
          },
          "execution_count": 35
        }
      ]
    },
    {
      "cell_type": "code",
      "metadata": {
        "id": "7jJFJhfa19Hn",
        "colab_type": "code",
        "colab": {},
        "outputId": "d0dd6fe9-fb37-47eb-b2f6-bb19b9a68e99"
      },
      "source": [
        "aapl.sec_filings.tail(7) #default is 5"
      ],
      "execution_count": null,
      "outputs": [
        {
          "output_type": "execute_result",
          "data": {
            "text/plain": [
              "                  date            epochDate  type  \\\n",
              "symbol row                                          \n",
              "aapl   5    2020-01-28  2020-01-28 21:31:43   8-K   \n",
              "       6    2019-11-15  2019-11-15 11:24:32   8-K   \n",
              "       7    2019-10-31  2019-10-31 10:07:27  10-K   \n",
              "       8    2019-10-30  2019-10-30 20:32:03   8-K   \n",
              "       9    2019-09-11  2019-09-11 21:22:00   8-K   \n",
              "       10   2019-07-31  2019-07-31 21:33:41  10-Q   \n",
              "       11   2019-07-30  2019-07-30 21:31:22   8-K   \n",
              "\n",
              "                                                        title  \\\n",
              "symbol row                                                      \n",
              "aapl   5    Disclosing Results of Operations and Financial...   \n",
              "       6    Disclosing Other Events, Financial Statements ...   \n",
              "       7                                        Annual Report   \n",
              "       8    Disclosing Results of Operations and Financial...   \n",
              "       9    Disclosing Other Events, Financial Statements ...   \n",
              "       10                                    Quarterly Report   \n",
              "       11   Disclosing Results of Operations and Financial...   \n",
              "\n",
              "                                                     edgarUrl  maxAge  \n",
              "symbol row                                                             \n",
              "aapl   5    https://yahoo.brand.edgar-online.com/DisplayFi...       1  \n",
              "       6    https://yahoo.brand.edgar-online.com/DisplayFi...       1  \n",
              "       7    https://yahoo.brand.edgar-online.com/DisplayFi...       1  \n",
              "       8    https://yahoo.brand.edgar-online.com/DisplayFi...       1  \n",
              "       9    https://yahoo.brand.edgar-online.com/DisplayFi...       1  \n",
              "       10   https://yahoo.brand.edgar-online.com/DisplayFi...       1  \n",
              "       11   https://yahoo.brand.edgar-online.com/DisplayFi...       1  "
            ],
            "text/html": [
              "<div>\n",
              "<style scoped>\n",
              "    .dataframe tbody tr th:only-of-type {\n",
              "        vertical-align: middle;\n",
              "    }\n",
              "\n",
              "    .dataframe tbody tr th {\n",
              "        vertical-align: top;\n",
              "    }\n",
              "\n",
              "    .dataframe thead th {\n",
              "        text-align: right;\n",
              "    }\n",
              "</style>\n",
              "<table border=\"1\" class=\"dataframe\">\n",
              "  <thead>\n",
              "    <tr style=\"text-align: right;\">\n",
              "      <th></th>\n",
              "      <th></th>\n",
              "      <th>date</th>\n",
              "      <th>epochDate</th>\n",
              "      <th>type</th>\n",
              "      <th>title</th>\n",
              "      <th>edgarUrl</th>\n",
              "      <th>maxAge</th>\n",
              "    </tr>\n",
              "    <tr>\n",
              "      <th>symbol</th>\n",
              "      <th>row</th>\n",
              "      <th></th>\n",
              "      <th></th>\n",
              "      <th></th>\n",
              "      <th></th>\n",
              "      <th></th>\n",
              "      <th></th>\n",
              "    </tr>\n",
              "  </thead>\n",
              "  <tbody>\n",
              "    <tr>\n",
              "      <th rowspan=\"7\" valign=\"top\">aapl</th>\n",
              "      <th>5</th>\n",
              "      <td>2020-01-28</td>\n",
              "      <td>2020-01-28 21:31:43</td>\n",
              "      <td>8-K</td>\n",
              "      <td>Disclosing Results of Operations and Financial...</td>\n",
              "      <td>https://yahoo.brand.edgar-online.com/DisplayFi...</td>\n",
              "      <td>1</td>\n",
              "    </tr>\n",
              "    <tr>\n",
              "      <th>6</th>\n",
              "      <td>2019-11-15</td>\n",
              "      <td>2019-11-15 11:24:32</td>\n",
              "      <td>8-K</td>\n",
              "      <td>Disclosing Other Events, Financial Statements ...</td>\n",
              "      <td>https://yahoo.brand.edgar-online.com/DisplayFi...</td>\n",
              "      <td>1</td>\n",
              "    </tr>\n",
              "    <tr>\n",
              "      <th>7</th>\n",
              "      <td>2019-10-31</td>\n",
              "      <td>2019-10-31 10:07:27</td>\n",
              "      <td>10-K</td>\n",
              "      <td>Annual Report</td>\n",
              "      <td>https://yahoo.brand.edgar-online.com/DisplayFi...</td>\n",
              "      <td>1</td>\n",
              "    </tr>\n",
              "    <tr>\n",
              "      <th>8</th>\n",
              "      <td>2019-10-30</td>\n",
              "      <td>2019-10-30 20:32:03</td>\n",
              "      <td>8-K</td>\n",
              "      <td>Disclosing Results of Operations and Financial...</td>\n",
              "      <td>https://yahoo.brand.edgar-online.com/DisplayFi...</td>\n",
              "      <td>1</td>\n",
              "    </tr>\n",
              "    <tr>\n",
              "      <th>9</th>\n",
              "      <td>2019-09-11</td>\n",
              "      <td>2019-09-11 21:22:00</td>\n",
              "      <td>8-K</td>\n",
              "      <td>Disclosing Other Events, Financial Statements ...</td>\n",
              "      <td>https://yahoo.brand.edgar-online.com/DisplayFi...</td>\n",
              "      <td>1</td>\n",
              "    </tr>\n",
              "    <tr>\n",
              "      <th>10</th>\n",
              "      <td>2019-07-31</td>\n",
              "      <td>2019-07-31 21:33:41</td>\n",
              "      <td>10-Q</td>\n",
              "      <td>Quarterly Report</td>\n",
              "      <td>https://yahoo.brand.edgar-online.com/DisplayFi...</td>\n",
              "      <td>1</td>\n",
              "    </tr>\n",
              "    <tr>\n",
              "      <th>11</th>\n",
              "      <td>2019-07-30</td>\n",
              "      <td>2019-07-30 21:31:22</td>\n",
              "      <td>8-K</td>\n",
              "      <td>Disclosing Results of Operations and Financial...</td>\n",
              "      <td>https://yahoo.brand.edgar-online.com/DisplayFi...</td>\n",
              "      <td>1</td>\n",
              "    </tr>\n",
              "  </tbody>\n",
              "</table>\n",
              "</div>"
            ]
          },
          "metadata": {
            "tags": []
          },
          "execution_count": 36
        }
      ]
    },
    {
      "cell_type": "code",
      "metadata": {
        "tags": [],
        "id": "qA5qaKsF19Hp",
        "colab_type": "code",
        "colab": {},
        "outputId": "90769041-780e-4ccc-a741-ab6ad6024e52"
      },
      "source": [
        "#info\n",
        "aapl.sec_filings.info()"
      ],
      "execution_count": null,
      "outputs": [
        {
          "output_type": "stream",
          "text": [
            "<class 'pandas.core.frame.DataFrame'>\n",
            "MultiIndex: 12 entries, ('aapl', 0) to ('aapl', 11)\n",
            "Data columns (total 6 columns):\n",
            " #   Column     Non-Null Count  Dtype \n",
            "---  ------     --------------  ----- \n",
            " 0   date       12 non-null     object\n",
            " 1   epochDate  12 non-null     object\n",
            " 2   type       12 non-null     object\n",
            " 3   title      12 non-null     object\n",
            " 4   edgarUrl   12 non-null     object\n",
            " 5   maxAge     12 non-null     int64 \n",
            "dtypes: int64(1), object(5)\n",
            "memory usage: 843.0+ bytes\n"
          ],
          "name": "stdout"
        }
      ]
    },
    {
      "cell_type": "markdown",
      "metadata": {
        "id": "bgLjorH719Hr",
        "colab_type": "text"
      },
      "source": [
        "# Analysis methods"
      ]
    },
    {
      "cell_type": "code",
      "metadata": {
        "id": "fwLUkx0w19Hs",
        "colab_type": "code",
        "colab": {
          "base_uri": "https://localhost:8080/",
          "height": 134
        },
        "outputId": "7d36facb-48bf-4930-e53a-33e63d88c923"
      },
      "source": [
        "# value counts, counts the number of countries in each region\n",
        "c.Region.value_counts(normalize=False, sort=True, dropna=False)"
      ],
      "execution_count": 8,
      "outputs": [
        {
          "output_type": "execute_result",
          "data": {
            "text/plain": [
              "AFRICA           54\n",
              "EUROPE           47\n",
              "ASIA             44\n",
              "NORTH AMERICA    23\n",
              "OCEANIA          14\n",
              "SOUTH AMERICA    12\n",
              "Name: Region, dtype: int64"
            ]
          },
          "metadata": {
            "tags": []
          },
          "execution_count": 8
        }
      ]
    },
    {
      "cell_type": "code",
      "metadata": {
        "id": "TKd-hqLa5aya",
        "colab_type": "code",
        "colab": {
          "base_uri": "https://localhost:8080/",
          "height": 218
        },
        "outputId": "570537ac-5cd2-4001-bb55-2ea81a528c33"
      },
      "source": [
        "# sort value to get the highest price apple ever got to\n",
        "aapl.history(period='max').high.sort_values(ascending = False).head(10)"
      ],
      "execution_count": 9,
      "outputs": [
        {
          "output_type": "execute_result",
          "data": {
            "text/plain": [
              "symbol  date      \n",
              "aapl    2020-07-13    399.820007\n",
              "        2020-07-21    397.000000\n",
              "        2020-07-15    396.989990\n",
              "        2020-07-20    394.000000\n",
              "        2020-07-22    391.899994\n",
              "        2020-07-16    389.619995\n",
              "        2020-07-14    389.019989\n",
              "        2020-07-17    388.589996\n",
              "        2020-07-23    388.309998\n",
              "        2020-07-09    385.269989\n",
              "Name: high, dtype: float64"
            ]
          },
          "metadata": {
            "tags": []
          },
          "execution_count": 9
        }
      ]
    },
    {
      "cell_type": "code",
      "metadata": {
        "id": "7LZAe0AM6yFn",
        "colab_type": "code",
        "colab": {
          "base_uri": "https://localhost:8080/",
          "height": 373
        },
        "outputId": "c1698e96-d16f-454b-dd8f-97ea4cbbae5d"
      },
      "source": [
        "# multiple sorting dataframe so it's sorted by multiple columns\n",
        "aapl.history(period='max').sort_values(by = ['high', 'close'], ascending = False).head(10)"
      ],
      "execution_count": null,
      "outputs": [
        {
          "output_type": "execute_result",
          "data": {
            "text/html": [
              "<div>\n",
              "<style scoped>\n",
              "    .dataframe tbody tr th:only-of-type {\n",
              "        vertical-align: middle;\n",
              "    }\n",
              "\n",
              "    .dataframe tbody tr th {\n",
              "        vertical-align: top;\n",
              "    }\n",
              "\n",
              "    .dataframe thead th {\n",
              "        text-align: right;\n",
              "    }\n",
              "</style>\n",
              "<table border=\"1\" class=\"dataframe\">\n",
              "  <thead>\n",
              "    <tr style=\"text-align: right;\">\n",
              "      <th></th>\n",
              "      <th></th>\n",
              "      <th>low</th>\n",
              "      <th>close</th>\n",
              "      <th>volume</th>\n",
              "      <th>high</th>\n",
              "      <th>open</th>\n",
              "      <th>adjclose</th>\n",
              "      <th>dividends</th>\n",
              "      <th>splits</th>\n",
              "    </tr>\n",
              "    <tr>\n",
              "      <th>symbol</th>\n",
              "      <th>date</th>\n",
              "      <th></th>\n",
              "      <th></th>\n",
              "      <th></th>\n",
              "      <th></th>\n",
              "      <th></th>\n",
              "      <th></th>\n",
              "      <th></th>\n",
              "      <th></th>\n",
              "    </tr>\n",
              "  </thead>\n",
              "  <tbody>\n",
              "    <tr>\n",
              "      <th rowspan=\"10\" valign=\"top\">aapl</th>\n",
              "      <th>2020-07-13</th>\n",
              "      <td>381.029999</td>\n",
              "      <td>381.910004</td>\n",
              "      <td>47912300.0</td>\n",
              "      <td>399.820007</td>\n",
              "      <td>389.059998</td>\n",
              "      <td>381.910004</td>\n",
              "      <td>0.0</td>\n",
              "      <td>0.0</td>\n",
              "    </tr>\n",
              "    <tr>\n",
              "      <th>2020-07-21</th>\n",
              "      <td>386.970001</td>\n",
              "      <td>388.000000</td>\n",
              "      <td>25911500.0</td>\n",
              "      <td>397.000000</td>\n",
              "      <td>396.690002</td>\n",
              "      <td>388.000000</td>\n",
              "      <td>0.0</td>\n",
              "      <td>0.0</td>\n",
              "    </tr>\n",
              "    <tr>\n",
              "      <th>2020-07-15</th>\n",
              "      <td>385.959991</td>\n",
              "      <td>390.899994</td>\n",
              "      <td>38299500.0</td>\n",
              "      <td>396.989990</td>\n",
              "      <td>395.959991</td>\n",
              "      <td>390.899994</td>\n",
              "      <td>0.0</td>\n",
              "      <td>0.0</td>\n",
              "    </tr>\n",
              "    <tr>\n",
              "      <th>2020-07-20</th>\n",
              "      <td>384.250000</td>\n",
              "      <td>393.429993</td>\n",
              "      <td>22579500.0</td>\n",
              "      <td>394.000000</td>\n",
              "      <td>385.670013</td>\n",
              "      <td>393.429993</td>\n",
              "      <td>0.0</td>\n",
              "      <td>0.0</td>\n",
              "    </tr>\n",
              "    <tr>\n",
              "      <th>2020-07-22</th>\n",
              "      <td>386.410004</td>\n",
              "      <td>389.089996</td>\n",
              "      <td>22250400.0</td>\n",
              "      <td>391.899994</td>\n",
              "      <td>386.769989</td>\n",
              "      <td>389.089996</td>\n",
              "      <td>0.0</td>\n",
              "      <td>0.0</td>\n",
              "    </tr>\n",
              "    <tr>\n",
              "      <th>2020-07-16</th>\n",
              "      <td>383.619995</td>\n",
              "      <td>386.089996</td>\n",
              "      <td>27644400.0</td>\n",
              "      <td>389.619995</td>\n",
              "      <td>386.250000</td>\n",
              "      <td>386.089996</td>\n",
              "      <td>0.0</td>\n",
              "      <td>0.0</td>\n",
              "    </tr>\n",
              "    <tr>\n",
              "      <th>2020-07-14</th>\n",
              "      <td>375.510010</td>\n",
              "      <td>388.230011</td>\n",
              "      <td>42747300.0</td>\n",
              "      <td>389.019989</td>\n",
              "      <td>379.359985</td>\n",
              "      <td>388.230011</td>\n",
              "      <td>0.0</td>\n",
              "      <td>0.0</td>\n",
              "    </tr>\n",
              "    <tr>\n",
              "      <th>2020-07-17</th>\n",
              "      <td>383.359985</td>\n",
              "      <td>385.309998</td>\n",
              "      <td>23046700.0</td>\n",
              "      <td>388.589996</td>\n",
              "      <td>387.950012</td>\n",
              "      <td>385.309998</td>\n",
              "      <td>0.0</td>\n",
              "      <td>0.0</td>\n",
              "    </tr>\n",
              "    <tr>\n",
              "      <th>2020-07-23</th>\n",
              "      <td>368.040009</td>\n",
              "      <td>371.380005</td>\n",
              "      <td>49251100.0</td>\n",
              "      <td>388.309998</td>\n",
              "      <td>387.989990</td>\n",
              "      <td>371.380005</td>\n",
              "      <td>0.0</td>\n",
              "      <td>0.0</td>\n",
              "    </tr>\n",
              "    <tr>\n",
              "      <th>2020-07-09</th>\n",
              "      <td>378.690002</td>\n",
              "      <td>383.010010</td>\n",
              "      <td>31410700.0</td>\n",
              "      <td>385.269989</td>\n",
              "      <td>385.049988</td>\n",
              "      <td>383.010010</td>\n",
              "      <td>0.0</td>\n",
              "      <td>0.0</td>\n",
              "    </tr>\n",
              "  </tbody>\n",
              "</table>\n",
              "</div>"
            ],
            "text/plain": [
              "                          low       close  ...  dividends  splits\n",
              "symbol date                                ...                   \n",
              "aapl   2020-07-13  381.029999  381.910004  ...        0.0     0.0\n",
              "       2020-07-21  386.970001  388.000000  ...        0.0     0.0\n",
              "       2020-07-15  385.959991  390.899994  ...        0.0     0.0\n",
              "       2020-07-20  384.250000  393.429993  ...        0.0     0.0\n",
              "       2020-07-22  386.410004  389.089996  ...        0.0     0.0\n",
              "       2020-07-16  383.619995  386.089996  ...        0.0     0.0\n",
              "       2020-07-14  375.510010  388.230011  ...        0.0     0.0\n",
              "       2020-07-17  383.359985  385.309998  ...        0.0     0.0\n",
              "       2020-07-23  368.040009  371.380005  ...        0.0     0.0\n",
              "       2020-07-09  378.690002  383.010010  ...        0.0     0.0\n",
              "\n",
              "[10 rows x 8 columns]"
            ]
          },
          "metadata": {
            "tags": []
          },
          "execution_count": 17
        }
      ]
    },
    {
      "cell_type": "code",
      "metadata": {
        "id": "lwW7osAm7_Pr",
        "colab_type": "code",
        "colab": {
          "base_uri": "https://localhost:8080/",
          "height": 974
        },
        "outputId": "4cbc70ed-f17e-4543-ac7e-af7b8217aff8"
      },
      "source": [
        "#Boolean Indexing \n",
        "print(c.Region == 'ASIA') # print boolean mask\n",
        "print(c[c.Region == 'ASIA']) # apply boolean mask, show only Asia Country"
      ],
      "execution_count": null,
      "outputs": [
        {
          "output_type": "stream",
          "text": [
            "0      False\n",
            "1      False\n",
            "2      False\n",
            "3      False\n",
            "4      False\n",
            "       ...  \n",
            "189    False\n",
            "190    False\n",
            "191    False\n",
            "192    False\n",
            "193    False\n",
            "Name: Region, Length: 194, dtype: bool\n",
            "                 Country Region\n",
            "54           Afghanistan   ASIA\n",
            "55               Bahrain   ASIA\n",
            "56            Bangladesh   ASIA\n",
            "57                Bhutan   ASIA\n",
            "58                Brunei   ASIA\n",
            "59                 Burma   ASIA\n",
            "60              Cambodia   ASIA\n",
            "61                 China   ASIA\n",
            "62            East Timor   ASIA\n",
            "63                 India   ASIA\n",
            "64             Indonesia   ASIA\n",
            "65                  Iran   ASIA\n",
            "66                  Iraq   ASIA\n",
            "67                Israel   ASIA\n",
            "68                 Japan   ASIA\n",
            "69                Jordan   ASIA\n",
            "70            Kazakhstan   ASIA\n",
            "71          Korea, North   ASIA\n",
            "72          Korea, South   ASIA\n",
            "73                Kuwait   ASIA\n",
            "74            Kyrgyzstan   ASIA\n",
            "75                  Laos   ASIA\n",
            "76               Lebanon   ASIA\n",
            "77              Malaysia   ASIA\n",
            "78              Maldives   ASIA\n",
            "79              Mongolia   ASIA\n",
            "80                 Nepal   ASIA\n",
            "81                  Oman   ASIA\n",
            "82              Pakistan   ASIA\n",
            "83           Philippines   ASIA\n",
            "84                 Qatar   ASIA\n",
            "85    Russian Federation   ASIA\n",
            "86          Saudi Arabia   ASIA\n",
            "87             Singapore   ASIA\n",
            "88             Sri Lanka   ASIA\n",
            "89                 Syria   ASIA\n",
            "90            Tajikistan   ASIA\n",
            "91              Thailand   ASIA\n",
            "92                Turkey   ASIA\n",
            "93          Turkmenistan   ASIA\n",
            "94  United Arab Emirates   ASIA\n",
            "95            Uzbekistan   ASIA\n",
            "96               Vietnam   ASIA\n",
            "97                 Yemen   ASIA\n"
          ],
          "name": "stdout"
        }
      ]
    },
    {
      "cell_type": "code",
      "metadata": {
        "id": "y9-_so4nAKTK",
        "colab_type": "code",
        "colab": {
          "base_uri": "https://localhost:8080/",
          "height": 336
        },
        "outputId": "b2e85e96-b34a-4b70-abaa-ef6db0c91b94"
      },
      "source": [
        "#boolean index with multiple conditions & (and), | (or), ~ (not)\n",
        "aeh = aapl.earning_history\n",
        "print(aeh)\n",
        "print(aeh[aeh.epsActual > 3])\n",
        "print(aeh[(aeh.epsActual > 3) & (aeh.epsEstimate > 4)])"
      ],
      "execution_count": null,
      "outputs": [
        {
          "output_type": "stream",
          "text": [
            "            maxAge  epsActual  epsEstimate  ...  surprisePercent     quarter period\n",
            "symbol row                                  ...                                    \n",
            "aapl   0         1       2.18         2.10  ...            0.038  2019-06-30    -4q\n",
            "       1         1       3.03         2.84  ...            0.067  2019-09-30    -3q\n",
            "       2         1       4.99         4.55  ...            0.097  2019-12-31    -2q\n",
            "       3         1       2.55         2.26  ...            0.128  2020-03-31    -1q\n",
            "\n",
            "[4 rows x 7 columns]\n",
            "            maxAge  epsActual  epsEstimate  ...  surprisePercent     quarter period\n",
            "symbol row                                  ...                                    \n",
            "aapl   1         1       3.03         2.84  ...            0.067  2019-09-30    -3q\n",
            "       2         1       4.99         4.55  ...            0.097  2019-12-31    -2q\n",
            "\n",
            "[2 rows x 7 columns]\n",
            "            maxAge  epsActual  epsEstimate  ...  surprisePercent     quarter period\n",
            "symbol row                                  ...                                    \n",
            "aapl   2         1       4.99         4.55  ...            0.097  2019-12-31    -2q\n",
            "\n",
            "[1 rows x 7 columns]\n"
          ],
          "name": "stdout"
        }
      ]
    },
    {
      "cell_type": "code",
      "metadata": {
        "id": "sQ8LAUbEBIIX",
        "colab_type": "code",
        "colab": {
          "base_uri": "https://localhost:8080/",
          "height": 554
        },
        "outputId": "2612f363-c78b-47df-bc01-684724527c01"
      },
      "source": [
        "#String handling\n",
        "print(c.Country.str.contains(\"na\")) # boolean mask\n",
        "print(c[c.Country.str.contains(\"na\")]) # country has \"na\" in its name\n",
        "print(c[(c.Country.str.contains(\"na\")) & (c.Region.str.contains(\"EU\") | c.Region.str.contains(\"SIA\") )]) # further filter down to contain EU and SIA in Region name"
      ],
      "execution_count": null,
      "outputs": [
        {
          "output_type": "stream",
          "text": [
            "0      False\n",
            "1      False\n",
            "2      False\n",
            "3       True\n",
            "4       True\n",
            "       ...  \n",
            "189    False\n",
            "190    False\n",
            "191     True\n",
            "192    False\n",
            "193    False\n",
            "Name: Country, Length: 194, dtype: bool\n",
            "                              Country         Region\n",
            "3                            Botswana         AFRICA\n",
            "4                             Burkina         AFRICA\n",
            "20                              Ghana         AFRICA\n",
            "61                              China           ASIA\n",
            "96                            Vietnam           ASIA\n",
            "105            Bosnia and Herzegovina         EUROPE\n",
            "128                            Monaco         EUROPE\n",
            "149                            Canada  NORTH AMERICA\n",
            "155                           Grenada  NORTH AMERICA\n",
            "162                            Panama  NORTH AMERICA\n",
            "165  Saint Vincent and the Grenadines  NORTH AMERICA\n",
            "182                         Argentina  SOUTH AMERICA\n",
            "188                            Guyana  SOUTH AMERICA\n",
            "191                          Suriname  SOUTH AMERICA\n",
            "                    Country  Region\n",
            "61                    China    ASIA\n",
            "96                  Vietnam    ASIA\n",
            "105  Bosnia and Herzegovina  EUROPE\n",
            "128                  Monaco  EUROPE\n"
          ],
          "name": "stdout"
        }
      ]
    },
    {
      "cell_type": "markdown",
      "metadata": {
        "id": "HyLvgoLPea_A",
        "colab_type": "text"
      },
      "source": [
        "#Matplotlib"
      ]
    },
    {
      "cell_type": "markdown",
      "metadata": {
        "id": "VBNDax0bfsig",
        "colab_type": "text"
      },
      "source": [
        "## pyplot"
      ]
    },
    {
      "cell_type": "code",
      "metadata": {
        "id": "X2eNd0_YDF9z",
        "colab_type": "code",
        "colab": {
          "base_uri": "https://localhost:8080/",
          "height": 34
        },
        "outputId": "25bbf08e-ecea-4422-adcc-bb5703409eae"
      },
      "source": [
        "import matplotlib.pyplot as plt\n",
        "%matplotlib -l"
      ],
      "execution_count": 25,
      "outputs": [
        {
          "output_type": "stream",
          "text": [
            "Available matplotlib backends: ['tk', 'gtk', 'gtk3', 'wx', 'qt4', 'qt5', 'qt', 'osx', 'nbagg', 'notebook', 'agg', 'inline', 'ipympl', 'widget']\n"
          ],
          "name": "stdout"
        }
      ]
    },
    {
      "cell_type": "code",
      "metadata": {
        "id": "ZSpw46xcfjis",
        "colab_type": "code",
        "colab": {
          "base_uri": "https://localhost:8080/",
          "height": 134
        },
        "outputId": "90a4118e-553a-49b6-a979-9d3a956cd09f"
      },
      "source": [
        "# use 1st example in analysis method that shows number of countries in each continent\n",
        "c.Region.value_counts(normalize=False, sort=True, dropna=False)"
      ],
      "execution_count": 33,
      "outputs": [
        {
          "output_type": "execute_result",
          "data": {
            "text/plain": [
              "AFRICA           54\n",
              "EUROPE           47\n",
              "ASIA             44\n",
              "NORTH AMERICA    23\n",
              "OCEANIA          14\n",
              "SOUTH AMERICA    12\n",
              "Name: Region, dtype: int64"
            ]
          },
          "metadata": {
            "tags": []
          },
          "execution_count": 33
        }
      ]
    },
    {
      "cell_type": "code",
      "metadata": {
        "id": "pCTE9r5mgrGl",
        "colab_type": "code",
        "colab": {
          "base_uri": "https://localhost:8080/",
          "height": 422
        },
        "outputId": "01e7e06c-5893-46fb-8608-833d688aa943"
      },
      "source": [
        "%matplotlib inline\n",
        "plt.style.use('seaborn-whitegrid')\n",
        "\n",
        "c.Region.value_counts().plot()\n",
        "plt.show"
      ],
      "execution_count": 34,
      "outputs": [
        {
          "output_type": "execute_result",
          "data": {
            "text/plain": [
              "<function matplotlib.pyplot.show>"
            ]
          },
          "metadata": {
            "tags": []
          },
          "execution_count": 34
        },
        {
          "output_type": "display_data",
          "data": {
            "application/pdf": "[encoded data removed]",
            "text/plain": [
              "<Figure size 432x288 with 1 Axes>"
            ],
            "image/svg+xml": "<?xml version=\"1.0\" encoding=\"utf-8\" standalone=\"no\"?>\n<!DOCTYPE svg PUBLIC \"-//W3C//DTD SVG 1.1//EN\"\n  \"http://www.w3.org/Graphics/SVG/1.1/DTD/svg11.dtd\">\n<!-- Created with matplotlib (https://matplotlib.org/) -->\n<svg height=\"288pt\" version=\"1.1\" viewBox=\"0 0 432 288\" width=\"432pt\" xmlns=\"http://www.w3.org/2000/svg\" xmlns:xlink=\"http://www.w3.org/1999/xlink\">\n <defs>\n  <style type=\"text/css\">\n*{stroke-linecap:butt;stroke-linejoin:round;}\n  </style>\n </defs>\n <g id=\"figure_1\">\n  <g id=\"patch_1\">\n   <path d=\"M 0 288 \nL 432 288 \nL 432 0 \nL 0 0 \nz\n\" style=\"fill:#ffffff;\"/>\n  </g>\n  <g id=\"axes_1\">\n   <g id=\"patch_2\">\n    <path d=\"M 54 252 \nL 388.8 252 \nL 388.8 34.56 \nL 54 34.56 \nz\n\" style=\"fill:#ffffff;\"/>\n   </g>\n   <g id=\"matplotlib.axis_1\">\n    <g id=\"xtick_1\">\n     <g id=\"line2d_1\">\n      <path clip-path=\"url(#p54f4a8a41c)\" d=\"M 69.218182 252 \nL 69.218182 34.56 \n\" style=\"fill:none;stroke:#cccccc;stroke-linecap:round;stroke-width:0.8;\"/>\n     </g>\n     <g id=\"line2d_2\"/>\n     <g id=\"text_1\">\n      <!-- AFRICA -->\n      <defs>\n       <path d=\"M 56.984375 0 \nL 49.125 20.125 \nL 17.78125 20.125 \nL 9.859375 0 \nL 0.203125 0 \nL 28.265625 68.796875 \nL 38.875 68.796875 \nL 66.5 0 \nz\nM 37.5 50.09375 \nQ 36.71875 52.046875 36 54.046875 \nQ 35.296875 56.0625 34.765625 57.6875 \nQ 34.234375 59.328125 33.859375 60.421875 \nQ 33.5 61.53125 33.453125 61.765625 \nQ 33.34375 61.53125 33 60.40625 \nQ 32.671875 59.28125 32.109375 57.609375 \nQ 31.546875 55.953125 30.828125 53.953125 \nQ 30.125 51.953125 29.390625 50 \nL 20.609375 27.390625 \nL 46.34375 27.390625 \nz\n\" id=\"LiberationSans-65\"/>\n       <path d=\"M 17.53125 61.1875 \nL 17.53125 35.59375 \nL 55.90625 35.59375 \nL 55.90625 27.875 \nL 17.53125 27.875 \nL 17.53125 0 \nL 8.203125 0 \nL 8.203125 68.796875 \nL 57.078125 68.796875 \nL 57.078125 61.1875 \nz\n\" id=\"LiberationSans-70\"/>\n       <path d=\"M 56.84375 0 \nL 38.96875 28.5625 \nL 17.53125 28.5625 \nL 17.53125 0 \nL 8.203125 0 \nL 8.203125 68.796875 \nL 40.578125 68.796875 \nQ 46.4375 68.796875 50.953125 67.453125 \nQ 55.46875 66.109375 58.546875 63.5625 \nQ 61.625 61.03125 63.234375 57.375 \nQ 64.84375 53.71875 64.84375 49.125 \nQ 64.84375 45.84375 63.890625 42.671875 \nQ 62.9375 39.5 60.890625 36.859375 \nQ 58.84375 34.234375 55.65625 32.328125 \nQ 52.484375 30.421875 48.046875 29.640625 \nL 67.578125 0 \nz\nM 55.46875 49.03125 \nQ 55.46875 52.15625 54.390625 54.4375 \nQ 53.328125 56.734375 51.265625 58.265625 \nQ 49.21875 59.8125 46.28125 60.5625 \nQ 43.359375 61.328125 39.65625 61.328125 \nL 17.53125 61.328125 \nL 17.53125 35.9375 \nL 40.046875 35.9375 \nQ 44.046875 35.9375 46.96875 36.9375 \nQ 49.90625 37.9375 51.78125 39.6875 \nQ 53.65625 41.453125 54.5625 43.84375 \nQ 55.46875 46.234375 55.46875 49.03125 \nz\n\" id=\"LiberationSans-82\"/>\n       <path d=\"M 9.234375 0 \nL 9.234375 68.796875 \nL 18.5625 68.796875 \nL 18.5625 0 \nz\n\" id=\"LiberationSans-73\"/>\n       <path d=\"M 38.671875 62.203125 \nQ 32.8125 62.203125 28.296875 60.25 \nQ 23.78125 58.296875 20.71875 54.6875 \nQ 17.671875 51.078125 16.109375 46 \nQ 14.546875 40.921875 14.546875 34.71875 \nQ 14.546875 28.515625 16.234375 23.359375 \nQ 17.921875 18.21875 21.0625 14.5 \nQ 24.21875 10.796875 28.78125 8.734375 \nQ 33.34375 6.6875 39.0625 6.6875 \nQ 43.0625 6.6875 46.359375 7.734375 \nQ 49.65625 8.796875 52.3125 10.6875 \nQ 54.984375 12.59375 57.078125 15.203125 \nQ 59.1875 17.828125 60.796875 21 \nL 68.40625 17.1875 \nQ 66.546875 13.328125 63.8125 10 \nQ 61.078125 6.6875 57.390625 4.25 \nQ 53.71875 1.8125 49.046875 0.40625 \nQ 44.390625 -0.984375 38.625 -0.984375 \nQ 30.28125 -0.984375 24 1.671875 \nQ 17.71875 4.34375 13.5 9.109375 \nQ 9.28125 13.875 7.171875 20.40625 \nQ 5.078125 26.953125 5.078125 34.71875 \nQ 5.078125 42.78125 7.296875 49.265625 \nQ 9.515625 55.765625 13.78125 60.328125 \nQ 18.0625 64.890625 24.3125 67.359375 \nQ 30.5625 69.828125 38.578125 69.828125 \nQ 49.5625 69.828125 56.9375 65.53125 \nQ 64.3125 61.234375 67.78125 52.78125 \nL 58.9375 49.859375 \nQ 57.953125 52.296875 56.296875 54.515625 \nQ 54.640625 56.734375 52.140625 58.4375 \nQ 49.65625 60.15625 46.3125 61.171875 \nQ 42.96875 62.203125 38.671875 62.203125 \nz\n\" id=\"LiberationSans-67\"/>\n      </defs>\n      <g style=\"fill:#262626;\" transform=\"translate(50.883026 262.746875)scale(0.1 -0.1)\">\n       <use xlink:href=\"#LiberationSans-65\"/>\n       <use x=\"66.699219\" xlink:href=\"#LiberationSans-70\"/>\n       <use x=\"127.783203\" xlink:href=\"#LiberationSans-82\"/>\n       <use x=\"200\" xlink:href=\"#LiberationSans-73\"/>\n       <use x=\"227.783203\" xlink:href=\"#LiberationSans-67\"/>\n       <use x=\"300\" xlink:href=\"#LiberationSans-65\"/>\n      </g>\n     </g>\n    </g>\n    <g id=\"xtick_2\">\n     <g id=\"line2d_3\">\n      <path clip-path=\"url(#p54f4a8a41c)\" d=\"M 130.090909 252 \nL 130.090909 34.56 \n\" style=\"fill:none;stroke:#cccccc;stroke-linecap:round;stroke-width:0.8;\"/>\n     </g>\n     <g id=\"line2d_4\"/>\n     <g id=\"text_2\">\n      <!-- EUROPE -->\n      <defs>\n       <path d=\"M 8.203125 0 \nL 8.203125 68.796875 \nL 60.40625 68.796875 \nL 60.40625 61.1875 \nL 17.53125 61.1875 \nL 17.53125 39.109375 \nL 57.46875 39.109375 \nL 57.46875 31.59375 \nL 17.53125 31.59375 \nL 17.53125 7.625 \nL 62.40625 7.625 \nL 62.40625 0 \nz\n\" id=\"LiberationSans-69\"/>\n       <path d=\"M 35.6875 -0.984375 \nQ 30.03125 -0.984375 24.953125 0.53125 \nQ 19.875 2.046875 16.03125 5.25 \nQ 12.203125 8.453125 9.953125 13.359375 \nQ 7.71875 18.265625 7.71875 25 \nL 7.71875 68.796875 \nL 17.046875 68.796875 \nL 17.046875 25.78125 \nQ 17.046875 20.5625 18.4375 16.921875 \nQ 19.828125 13.28125 22.3125 10.984375 \nQ 24.8125 8.6875 28.203125 7.640625 \nQ 31.59375 6.59375 35.640625 6.59375 \nQ 39.65625 6.59375 43.21875 7.65625 \nQ 46.78125 8.734375 49.46875 11.078125 \nQ 52.15625 13.421875 53.6875 17.203125 \nQ 55.21875 21 55.21875 26.421875 \nL 55.21875 68.796875 \nL 64.5 68.796875 \nL 64.5 25.875 \nQ 64.5 19 62.234375 13.9375 \nQ 59.96875 8.890625 56.0625 5.5625 \nQ 52.15625 2.25 46.90625 0.625 \nQ 41.65625 -0.984375 35.6875 -0.984375 \nz\n\" id=\"LiberationSans-85\"/>\n       <path d=\"M 73 34.71875 \nQ 73 26.65625 70.671875 20.0625 \nQ 68.359375 13.484375 63.96875 8.796875 \nQ 59.578125 4.109375 53.21875 1.5625 \nQ 46.875 -0.984375 38.8125 -0.984375 \nQ 30.328125 -0.984375 23.921875 1.671875 \nQ 17.53125 4.34375 13.28125 9.109375 \nQ 9.03125 13.875 6.875 20.40625 \nQ 4.734375 26.953125 4.734375 34.71875 \nQ 4.734375 42.78125 6.984375 49.265625 \nQ 9.234375 55.765625 13.578125 60.328125 \nQ 17.921875 64.890625 24.296875 67.359375 \nQ 30.671875 69.828125 38.921875 69.828125 \nQ 47.125 69.828125 53.484375 67.328125 \nQ 59.859375 64.84375 64.171875 60.25 \nQ 68.5 55.671875 70.75 49.171875 \nQ 73 42.671875 73 34.71875 \nz\nM 63.484375 34.71875 \nQ 63.484375 40.921875 61.890625 46 \nQ 60.296875 51.078125 57.203125 54.6875 \nQ 54.109375 58.296875 49.515625 60.25 \nQ 44.921875 62.203125 38.921875 62.203125 \nQ 32.765625 62.203125 28.125 60.25 \nQ 23.484375 58.296875 20.375 54.6875 \nQ 17.28125 51.078125 15.734375 46 \nQ 14.203125 40.921875 14.203125 34.71875 \nQ 14.203125 28.515625 15.796875 23.359375 \nQ 17.390625 18.21875 20.484375 14.484375 \nQ 23.578125 10.75 28.1875 8.671875 \nQ 32.8125 6.59375 38.8125 6.59375 \nQ 45.265625 6.59375 49.921875 8.6875 \nQ 54.59375 10.796875 57.59375 14.53125 \nQ 60.59375 18.265625 62.03125 23.4375 \nQ 63.484375 28.609375 63.484375 34.71875 \nz\n\" id=\"LiberationSans-79\"/>\n       <path d=\"M 61.421875 48.09375 \nQ 61.421875 43.609375 59.9375 39.71875 \nQ 58.453125 35.84375 55.5 32.984375 \nQ 52.546875 30.125 48.09375 28.46875 \nQ 43.65625 26.8125 37.75 26.8125 \nL 17.53125 26.8125 \nL 17.53125 0 \nL 8.203125 0 \nL 8.203125 68.796875 \nL 37.15625 68.796875 \nQ 43.265625 68.796875 47.796875 67.3125 \nQ 52.34375 65.828125 55.375 63.109375 \nQ 58.40625 60.40625 59.90625 56.5625 \nQ 61.421875 52.734375 61.421875 48.09375 \nz\nM 52.046875 48 \nQ 52.046875 54.546875 48.046875 57.9375 \nQ 44.046875 61.328125 36.03125 61.328125 \nL 17.53125 61.328125 \nL 17.53125 34.1875 \nL 36.421875 34.1875 \nQ 44.484375 34.1875 48.265625 37.75 \nQ 52.046875 41.3125 52.046875 48 \nz\n\" id=\"LiberationSans-80\"/>\n      </defs>\n      <g style=\"fill:#262626;\" transform=\"translate(108.974503 262.746875)scale(0.1 -0.1)\">\n       <use xlink:href=\"#LiberationSans-69\"/>\n       <use x=\"66.699219\" xlink:href=\"#LiberationSans-85\"/>\n       <use x=\"138.916016\" xlink:href=\"#LiberationSans-82\"/>\n       <use x=\"211.132812\" xlink:href=\"#LiberationSans-79\"/>\n       <use x=\"288.916016\" xlink:href=\"#LiberationSans-80\"/>\n       <use x=\"355.615234\" xlink:href=\"#LiberationSans-69\"/>\n      </g>\n     </g>\n    </g>\n    <g id=\"xtick_3\">\n     <g id=\"line2d_5\">\n      <path clip-path=\"url(#p54f4a8a41c)\" d=\"M 190.963636 252 \nL 190.963636 34.56 \n\" style=\"fill:none;stroke:#cccccc;stroke-linecap:round;stroke-width:0.8;\"/>\n     </g>\n     <g id=\"line2d_6\"/>\n     <g id=\"text_3\">\n      <!-- ASIA -->\n      <defs>\n       <path d=\"M 62.109375 19 \nQ 62.109375 14.65625 60.421875 10.984375 \nQ 58.734375 7.328125 55.21875 4.65625 \nQ 51.703125 2 46.359375 0.5 \nQ 41.015625 -0.984375 33.6875 -0.984375 \nQ 20.84375 -0.984375 13.671875 3.515625 \nQ 6.5 8.015625 4.546875 16.5 \nL 13.578125 18.3125 \nQ 14.265625 15.625 15.671875 13.421875 \nQ 17.09375 11.234375 19.5 9.640625 \nQ 21.921875 8.0625 25.484375 7.171875 \nQ 29.046875 6.296875 34.03125 6.296875 \nQ 38.1875 6.296875 41.65625 7 \nQ 45.125 7.71875 47.609375 9.171875 \nQ 50.09375 10.640625 51.484375 12.953125 \nQ 52.875 15.28125 52.875 18.5 \nQ 52.875 21.875 51.34375 23.96875 \nQ 49.8125 26.078125 47.015625 27.4375 \nQ 44.234375 28.8125 40.375 29.734375 \nQ 36.53125 30.671875 31.84375 31.734375 \nQ 28.953125 32.375 26.046875 33.125 \nQ 23.140625 33.890625 20.484375 34.9375 \nQ 17.828125 35.984375 15.484375 37.390625 \nQ 13.140625 38.8125 11.421875 40.796875 \nQ 9.71875 42.78125 8.734375 45.390625 \nQ 7.765625 48 7.765625 51.421875 \nQ 7.765625 56.296875 9.734375 59.78125 \nQ 11.71875 63.28125 15.234375 65.53125 \nQ 18.75 67.78125 23.53125 68.796875 \nQ 28.328125 69.828125 33.890625 69.828125 \nQ 40.28125 69.828125 44.8125 68.828125 \nQ 49.359375 67.828125 52.484375 65.8125 \nQ 55.609375 63.8125 57.484375 60.859375 \nQ 59.375 57.90625 60.5 54 \nL 51.3125 52.390625 \nQ 50.640625 54.890625 49.34375 56.84375 \nQ 48.046875 58.796875 45.9375 60.109375 \nQ 43.84375 61.421875 40.84375 62.109375 \nQ 37.84375 62.796875 33.796875 62.796875 \nQ 29 62.796875 25.75 61.9375 \nQ 22.515625 61.078125 20.53125 59.609375 \nQ 18.5625 58.15625 17.703125 56.171875 \nQ 16.84375 54.203125 16.84375 51.90625 \nQ 16.84375 48.828125 18.375 46.84375 \nQ 19.921875 44.875 22.5625 43.546875 \nQ 25.203125 42.234375 28.65625 41.359375 \nQ 32.125 40.484375 36.03125 39.59375 \nQ 39.203125 38.875 42.359375 38.109375 \nQ 45.515625 37.359375 48.390625 36.296875 \nQ 51.265625 35.25 53.78125 33.828125 \nQ 56.296875 32.421875 58.15625 30.375 \nQ 60.015625 28.328125 61.0625 25.53125 \nQ 62.109375 22.75 62.109375 19 \nz\n\" id=\"LiberationSans-83\"/>\n      </defs>\n      <g style=\"fill:#262626;\" transform=\"translate(179.569105 262.746875)scale(0.1 -0.1)\">\n       <use xlink:href=\"#LiberationSans-65\"/>\n       <use x=\"66.699219\" xlink:href=\"#LiberationSans-83\"/>\n       <use x=\"133.398438\" xlink:href=\"#LiberationSans-73\"/>\n       <use x=\"161.181641\" xlink:href=\"#LiberationSans-65\"/>\n      </g>\n     </g>\n    </g>\n    <g id=\"xtick_4\">\n     <g id=\"line2d_7\">\n      <path clip-path=\"url(#p54f4a8a41c)\" d=\"M 251.836364 252 \nL 251.836364 34.56 \n\" style=\"fill:none;stroke:#cccccc;stroke-linecap:round;stroke-width:0.8;\"/>\n     </g>\n     <g id=\"line2d_8\"/>\n     <g id=\"text_4\">\n      <!-- NORTH AMERICA -->\n      <defs>\n       <path d=\"M 52.828125 0 \nL 16.015625 58.59375 \nQ 16.109375 56.203125 16.265625 53.859375 \nQ 16.359375 51.859375 16.421875 49.625 \nQ 16.5 47.40625 16.5 45.703125 \nL 16.5 0 \nL 8.203125 0 \nL 8.203125 68.796875 \nL 19.046875 68.796875 \nL 56.25 9.8125 \nQ 56.109375 12.203125 55.953125 14.59375 \nQ 55.859375 16.65625 55.765625 19.0625 \nQ 55.671875 21.484375 55.671875 23.6875 \nL 55.671875 68.796875 \nL 64.0625 68.796875 \nL 64.0625 0 \nz\n\" id=\"LiberationSans-78\"/>\n       <path d=\"M 35.15625 61.1875 \nL 35.15625 0 \nL 25.875 0 \nL 25.875 61.1875 \nL 2.25 61.1875 \nL 2.25 68.796875 \nL 58.796875 68.796875 \nL 58.796875 61.1875 \nz\n\" id=\"LiberationSans-84\"/>\n       <path d=\"M 54.734375 0 \nL 54.734375 31.890625 \nL 17.53125 31.890625 \nL 17.53125 0 \nL 8.203125 0 \nL 8.203125 68.796875 \nL 17.53125 68.796875 \nL 17.53125 39.703125 \nL 54.734375 39.703125 \nL 54.734375 68.796875 \nL 64.0625 68.796875 \nL 64.0625 0 \nz\n\" id=\"LiberationSans-72\"/>\n       <path id=\"LiberationSans-32\"/>\n       <path d=\"M 66.703125 0 \nL 66.703125 45.90625 \nQ 66.703125 48.390625 66.75 50.96875 \nQ 66.796875 53.5625 66.890625 55.71875 \nQ 67 58.203125 67.140625 60.546875 \nQ 66.453125 58.0625 65.71875 55.609375 \nQ 65.09375 53.515625 64.328125 51.140625 \nQ 63.578125 48.78125 62.84375 46.875 \nL 45.0625 0 \nL 38.53125 0 \nL 20.515625 46.875 \nQ 20.21875 47.609375 19.890625 48.578125 \nQ 19.578125 49.5625 19.203125 50.65625 \nQ 18.84375 51.765625 18.46875 52.90625 \nQ 18.109375 54.046875 17.78125 55.171875 \nQ 16.9375 57.765625 16.15625 60.546875 \nQ 16.21875 57.8125 16.3125 55.125 \nQ 16.40625 52.828125 16.453125 50.3125 \nQ 16.5 47.796875 16.5 45.90625 \nL 16.5 0 \nL 8.203125 0 \nL 8.203125 68.796875 \nL 20.453125 68.796875 \nL 38.765625 21.09375 \nQ 39.109375 20.125 39.59375 18.578125 \nQ 40.09375 17.046875 40.53125 15.421875 \nQ 40.96875 13.8125 41.328125 12.375 \nQ 41.703125 10.9375 41.84375 10.15625 \nQ 42 10.9375 42.390625 12.40625 \nQ 42.78125 13.875 43.28125 15.484375 \nQ 43.796875 17.09375 44.28125 18.609375 \nQ 44.78125 20.125 45.171875 21.09375 \nL 63.140625 68.796875 \nL 75.09375 68.796875 \nL 75.09375 0 \nz\n\" id=\"LiberationSans-77\"/>\n      </defs>\n      <g style=\"fill:#262626;\" transform=\"translate(210.25277 262.746875)scale(0.1 -0.1)\">\n       <use xlink:href=\"#LiberationSans-78\"/>\n       <use x=\"72.216797\" xlink:href=\"#LiberationSans-79\"/>\n       <use x=\"150\" xlink:href=\"#LiberationSans-82\"/>\n       <use x=\"220.466797\" xlink:href=\"#LiberationSans-84\"/>\n       <use x=\"281.550781\" xlink:href=\"#LiberationSans-72\"/>\n       <use x=\"353.767578\" xlink:href=\"#LiberationSans-32\"/>\n       <use x=\"376.050781\" xlink:href=\"#LiberationSans-65\"/>\n       <use x=\"442.75\" xlink:href=\"#LiberationSans-77\"/>\n       <use x=\"526.050781\" xlink:href=\"#LiberationSans-69\"/>\n       <use x=\"592.75\" xlink:href=\"#LiberationSans-82\"/>\n       <use x=\"664.966797\" xlink:href=\"#LiberationSans-73\"/>\n       <use x=\"692.75\" xlink:href=\"#LiberationSans-67\"/>\n       <use x=\"764.966797\" xlink:href=\"#LiberationSans-65\"/>\n      </g>\n     </g>\n    </g>\n    <g id=\"xtick_5\">\n     <g id=\"line2d_9\">\n      <path clip-path=\"url(#p54f4a8a41c)\" d=\"M 312.709091 252 \nL 312.709091 34.56 \n\" style=\"fill:none;stroke:#cccccc;stroke-linecap:round;stroke-width:0.8;\"/>\n     </g>\n     <g id=\"line2d_10\"/>\n     <g id=\"text_5\">\n      <!-- OCEANIA -->\n      <g style=\"fill:#262626;\" transform=\"translate(290.203622 262.746875)scale(0.1 -0.1)\">\n       <use xlink:href=\"#LiberationSans-79\"/>\n       <use x=\"77.783203\" xlink:href=\"#LiberationSans-67\"/>\n       <use x=\"150\" xlink:href=\"#LiberationSans-69\"/>\n       <use x=\"216.699219\" xlink:href=\"#LiberationSans-65\"/>\n       <use x=\"283.398438\" xlink:href=\"#LiberationSans-78\"/>\n       <use x=\"355.615234\" xlink:href=\"#LiberationSans-73\"/>\n       <use x=\"383.398438\" xlink:href=\"#LiberationSans-65\"/>\n      </g>\n     </g>\n    </g>\n    <g id=\"xtick_6\">\n     <g id=\"line2d_11\">\n      <path clip-path=\"url(#p54f4a8a41c)\" d=\"M 373.581818 252 \nL 373.581818 34.56 \n\" style=\"fill:none;stroke:#cccccc;stroke-linecap:round;stroke-width:0.8;\"/>\n     </g>\n     <g id=\"line2d_12\"/>\n     <g id=\"text_6\">\n      <!-- SOUTH AMERICA -->\n      <g style=\"fill:#262626;\" transform=\"translate(332.186506 262.746875)scale(0.1 -0.1)\">\n       <use xlink:href=\"#LiberationSans-83\"/>\n       <use x=\"66.699219\" xlink:href=\"#LiberationSans-79\"/>\n       <use x=\"144.482422\" xlink:href=\"#LiberationSans-85\"/>\n       <use x=\"216.699219\" xlink:href=\"#LiberationSans-84\"/>\n       <use x=\"277.783203\" xlink:href=\"#LiberationSans-72\"/>\n       <use x=\"350\" xlink:href=\"#LiberationSans-32\"/>\n       <use x=\"372.283203\" xlink:href=\"#LiberationSans-65\"/>\n       <use x=\"438.982422\" xlink:href=\"#LiberationSans-77\"/>\n       <use x=\"522.283203\" xlink:href=\"#LiberationSans-69\"/>\n       <use x=\"588.982422\" xlink:href=\"#LiberationSans-82\"/>\n       <use x=\"661.199219\" xlink:href=\"#LiberationSans-73\"/>\n       <use x=\"688.982422\" xlink:href=\"#LiberationSans-67\"/>\n       <use x=\"761.199219\" xlink:href=\"#LiberationSans-65\"/>\n      </g>\n     </g>\n    </g>\n   </g>\n   <g id=\"matplotlib.axis_2\">\n    <g id=\"ytick_1\">\n     <g id=\"line2d_13\">\n      <path clip-path=\"url(#p54f4a8a41c)\" d=\"M 54 251.529351 \nL 388.8 251.529351 \n\" style=\"fill:none;stroke:#cccccc;stroke-linecap:round;stroke-width:0.8;\"/>\n     </g>\n     <g id=\"line2d_14\"/>\n     <g id=\"text_7\">\n      <!-- 10 -->\n      <defs>\n       <path d=\"M 7.625 0 \nL 7.625 7.46875 \nL 25.140625 7.46875 \nL 25.140625 60.40625 \nL 9.625 49.3125 \nL 9.625 57.625 \nL 25.875 68.796875 \nL 33.984375 68.796875 \nL 33.984375 7.46875 \nL 50.734375 7.46875 \nL 50.734375 0 \nz\n\" id=\"LiberationSans-49\"/>\n       <path d=\"M 51.703125 34.421875 \nQ 51.703125 24.515625 49.828125 17.75 \nQ 47.953125 10.984375 44.703125 6.8125 \nQ 41.453125 2.640625 37.0625 0.828125 \nQ 32.671875 -0.984375 27.6875 -0.984375 \nQ 22.65625 -0.984375 18.3125 0.828125 \nQ 13.96875 2.640625 10.765625 6.78125 \nQ 7.5625 10.9375 5.734375 17.703125 \nQ 3.90625 24.46875 3.90625 34.421875 \nQ 3.90625 44.828125 5.734375 51.640625 \nQ 7.5625 58.453125 10.78125 62.5 \nQ 14.015625 66.546875 18.40625 68.1875 \nQ 22.796875 69.828125 27.984375 69.828125 \nQ 32.90625 69.828125 37.21875 68.1875 \nQ 41.546875 66.546875 44.765625 62.5 \nQ 48 58.453125 49.84375 51.640625 \nQ 51.703125 44.828125 51.703125 34.421875 \nz\nM 42.78125 34.421875 \nQ 42.78125 42.625 41.796875 48.0625 \nQ 40.828125 53.515625 38.921875 56.765625 \nQ 37.015625 60.015625 34.25 61.359375 \nQ 31.5 62.703125 27.984375 62.703125 \nQ 24.265625 62.703125 21.4375 61.328125 \nQ 18.609375 59.96875 16.671875 56.71875 \nQ 14.75 53.46875 13.765625 48.015625 \nQ 12.796875 42.578125 12.796875 34.421875 \nQ 12.796875 26.515625 13.796875 21.09375 \nQ 14.796875 15.671875 16.71875 12.375 \nQ 18.65625 9.078125 21.4375 7.640625 \nQ 24.21875 6.203125 27.78125 6.203125 \nQ 31.25 6.203125 34.03125 7.640625 \nQ 36.8125 9.078125 38.734375 12.375 \nQ 40.671875 15.671875 41.71875 21.09375 \nQ 42.78125 26.515625 42.78125 34.421875 \nz\n\" id=\"LiberationSans-48\"/>\n      </defs>\n      <g style=\"fill:#262626;\" transform=\"translate(39.378125 255.152788)scale(0.1 -0.1)\">\n       <use xlink:href=\"#LiberationSans-49\"/>\n       <use x=\"55.615234\" xlink:href=\"#LiberationSans-48\"/>\n      </g>\n     </g>\n    </g>\n    <g id=\"ytick_2\">\n     <g id=\"line2d_15\">\n      <path clip-path=\"url(#p54f4a8a41c)\" d=\"M 54 204.464416 \nL 388.8 204.464416 \n\" style=\"fill:none;stroke:#cccccc;stroke-linecap:round;stroke-width:0.8;\"/>\n     </g>\n     <g id=\"line2d_16\"/>\n     <g id=\"text_8\">\n      <!-- 20 -->\n      <defs>\n       <path d=\"M 5.03125 0 \nL 5.03125 6.203125 \nQ 7.515625 11.921875 11.109375 16.28125 \nQ 14.703125 20.65625 18.65625 24.1875 \nQ 22.609375 27.734375 26.484375 30.765625 \nQ 30.375 33.796875 33.5 36.8125 \nQ 36.625 39.84375 38.546875 43.15625 \nQ 40.484375 46.484375 40.484375 50.6875 \nQ 40.484375 53.609375 39.59375 55.828125 \nQ 38.71875 58.0625 37.0625 59.5625 \nQ 35.40625 61.078125 33.078125 61.828125 \nQ 30.765625 62.59375 27.9375 62.59375 \nQ 25.296875 62.59375 22.96875 61.859375 \nQ 20.65625 61.140625 18.84375 59.671875 \nQ 17.046875 58.203125 15.890625 56.03125 \nQ 14.75 53.859375 14.40625 50.984375 \nL 5.421875 51.8125 \nQ 5.859375 55.515625 7.46875 58.78125 \nQ 9.078125 62.0625 11.90625 64.53125 \nQ 14.75 67 18.71875 68.40625 \nQ 22.703125 69.828125 27.9375 69.828125 \nQ 33.0625 69.828125 37.0625 68.609375 \nQ 41.0625 67.390625 43.8125 64.984375 \nQ 46.578125 62.59375 48.046875 59.078125 \nQ 49.515625 55.5625 49.515625 50.984375 \nQ 49.515625 47.515625 48.265625 44.390625 \nQ 47.015625 41.265625 44.9375 38.421875 \nQ 42.875 35.59375 40.140625 32.953125 \nQ 37.40625 30.328125 34.421875 27.8125 \nQ 31.453125 25.296875 28.421875 22.828125 \nQ 25.390625 20.359375 22.71875 17.859375 \nQ 20.0625 15.375 17.96875 12.8125 \nQ 15.875 10.25 14.703125 7.46875 \nL 50.59375 7.46875 \nL 50.59375 0 \nz\n\" id=\"LiberationSans-50\"/>\n      </defs>\n      <g style=\"fill:#262626;\" transform=\"translate(39.378125 208.087853)scale(0.1 -0.1)\">\n       <use xlink:href=\"#LiberationSans-50\"/>\n       <use x=\"55.615234\" xlink:href=\"#LiberationSans-48\"/>\n      </g>\n     </g>\n    </g>\n    <g id=\"ytick_3\">\n     <g id=\"line2d_17\">\n      <path clip-path=\"url(#p54f4a8a41c)\" d=\"M 54 157.399481 \nL 388.8 157.399481 \n\" style=\"fill:none;stroke:#cccccc;stroke-linecap:round;stroke-width:0.8;\"/>\n     </g>\n     <g id=\"line2d_18\"/>\n     <g id=\"text_9\">\n      <!-- 30 -->\n      <defs>\n       <path d=\"M 51.21875 19 \nQ 51.21875 14.265625 49.671875 10.546875 \nQ 48.140625 6.84375 45.1875 4.265625 \nQ 42.234375 1.703125 37.859375 0.359375 \nQ 33.5 -0.984375 27.875 -0.984375 \nQ 21.484375 -0.984375 17.109375 0.609375 \nQ 12.75 2.203125 9.90625 4.8125 \nQ 7.078125 7.421875 5.65625 10.765625 \nQ 4.25 14.109375 3.8125 17.671875 \nL 12.890625 18.5 \nQ 13.28125 15.765625 14.328125 13.515625 \nQ 15.375 11.28125 17.1875 9.671875 \nQ 19 8.0625 21.625 7.171875 \nQ 24.265625 6.296875 27.875 6.296875 \nQ 34.515625 6.296875 38.296875 9.5625 \nQ 42.09375 12.84375 42.09375 19.28125 \nQ 42.09375 23.09375 40.40625 25.40625 \nQ 38.71875 27.734375 36.203125 29.03125 \nQ 33.6875 30.328125 30.734375 30.765625 \nQ 27.78125 31.203125 25.296875 31.203125 \nL 20.3125 31.203125 \nL 20.3125 38.8125 \nL 25.09375 38.8125 \nQ 27.59375 38.8125 30.265625 39.328125 \nQ 32.953125 39.84375 35.171875 41.1875 \nQ 37.40625 42.53125 38.84375 44.828125 \nQ 40.28125 47.125 40.28125 50.6875 \nQ 40.28125 56.203125 37.03125 59.390625 \nQ 33.796875 62.59375 27.390625 62.59375 \nQ 21.578125 62.59375 17.984375 59.609375 \nQ 14.40625 56.640625 13.8125 51.21875 \nL 4.984375 51.90625 \nQ 5.515625 56.453125 7.46875 59.8125 \nQ 9.421875 63.1875 12.421875 65.40625 \nQ 15.4375 67.625 19.28125 68.71875 \nQ 23.140625 69.828125 27.484375 69.828125 \nQ 33.25 69.828125 37.390625 68.375 \nQ 41.546875 66.9375 44.1875 64.46875 \nQ 46.828125 62.015625 48.0625 58.6875 \nQ 49.3125 55.375 49.3125 51.609375 \nQ 49.3125 48.578125 48.484375 45.9375 \nQ 47.65625 43.3125 45.890625 41.203125 \nQ 44.140625 39.109375 41.421875 37.59375 \nQ 38.71875 36.078125 34.90625 35.296875 \nL 34.90625 35.109375 \nQ 39.0625 34.671875 42.140625 33.21875 \nQ 45.21875 31.78125 47.21875 29.625 \nQ 49.21875 27.484375 50.21875 24.75 \nQ 51.21875 22.015625 51.21875 19 \nz\n\" id=\"LiberationSans-51\"/>\n      </defs>\n      <g style=\"fill:#262626;\" transform=\"translate(39.378125 161.022918)scale(0.1 -0.1)\">\n       <use xlink:href=\"#LiberationSans-51\"/>\n       <use x=\"55.615234\" xlink:href=\"#LiberationSans-48\"/>\n      </g>\n     </g>\n    </g>\n    <g id=\"ytick_4\">\n     <g id=\"line2d_19\">\n      <path clip-path=\"url(#p54f4a8a41c)\" d=\"M 54 110.334545 \nL 388.8 110.334545 \n\" style=\"fill:none;stroke:#cccccc;stroke-linecap:round;stroke-width:0.8;\"/>\n     </g>\n     <g id=\"line2d_20\"/>\n     <g id=\"text_10\">\n      <!-- 40 -->\n      <defs>\n       <path d=\"M 43.015625 15.578125 \nL 43.015625 0 \nL 34.71875 0 \nL 34.71875 15.578125 \nL 2.296875 15.578125 \nL 2.296875 22.40625 \nL 33.796875 68.796875 \nL 43.015625 68.796875 \nL 43.015625 22.515625 \nL 52.6875 22.515625 \nL 52.6875 15.578125 \nz\nM 34.71875 58.890625 \nQ 34.625 58.640625 34.234375 57.9375 \nQ 33.84375 57.234375 33.34375 56.34375 \nQ 32.859375 55.46875 32.34375 54.5625 \nQ 31.84375 53.65625 31.453125 53.078125 \nL 13.8125 27.09375 \nQ 13.578125 26.703125 13.109375 26.0625 \nQ 12.640625 25.4375 12.15625 24.78125 \nQ 11.671875 24.125 11.171875 23.484375 \nQ 10.6875 22.859375 10.40625 22.515625 \nL 34.71875 22.515625 \nz\n\" id=\"LiberationSans-52\"/>\n      </defs>\n      <g style=\"fill:#262626;\" transform=\"translate(39.378125 113.957983)scale(0.1 -0.1)\">\n       <use xlink:href=\"#LiberationSans-52\"/>\n       <use x=\"55.615234\" xlink:href=\"#LiberationSans-48\"/>\n      </g>\n     </g>\n    </g>\n    <g id=\"ytick_5\">\n     <g id=\"line2d_21\">\n      <path clip-path=\"url(#p54f4a8a41c)\" d=\"M 54 63.26961 \nL 388.8 63.26961 \n\" style=\"fill:none;stroke:#cccccc;stroke-linecap:round;stroke-width:0.8;\"/>\n     </g>\n     <g id=\"line2d_22\"/>\n     <g id=\"text_11\">\n      <!-- 50 -->\n      <defs>\n       <path d=\"M 51.421875 22.40625 \nQ 51.421875 17.234375 49.859375 12.9375 \nQ 48.296875 8.640625 45.21875 5.53125 \nQ 42.140625 2.4375 37.578125 0.71875 \nQ 33.015625 -0.984375 27 -0.984375 \nQ 21.578125 -0.984375 17.546875 0.28125 \nQ 13.53125 1.5625 10.734375 3.78125 \nQ 7.953125 6 6.3125 8.984375 \nQ 4.6875 11.96875 4 15.375 \nL 12.890625 16.40625 \nQ 13.421875 14.453125 14.390625 12.625 \nQ 15.375 10.796875 17.0625 9.34375 \nQ 18.75 7.90625 21.21875 7.046875 \nQ 23.6875 6.203125 27.203125 6.203125 \nQ 30.609375 6.203125 33.390625 7.25 \nQ 36.1875 8.296875 38.15625 10.34375 \nQ 40.140625 12.40625 41.203125 15.375 \nQ 42.28125 18.359375 42.28125 22.21875 \nQ 42.28125 25.390625 41.25 28.046875 \nQ 40.234375 30.71875 38.328125 32.640625 \nQ 36.421875 34.578125 33.65625 35.640625 \nQ 30.90625 36.71875 27.390625 36.71875 \nQ 25.203125 36.71875 23.34375 36.328125 \nQ 21.484375 35.9375 19.890625 35.25 \nQ 18.3125 34.578125 17.015625 33.671875 \nQ 15.71875 32.765625 14.59375 31.78125 \nL 6 31.78125 \nL 8.296875 68.796875 \nL 47.40625 68.796875 \nL 47.40625 61.328125 \nL 16.3125 61.328125 \nL 14.984375 39.5 \nQ 17.328125 41.3125 20.84375 42.59375 \nQ 24.359375 43.890625 29.203125 43.890625 \nQ 34.328125 43.890625 38.421875 42.328125 \nQ 42.53125 40.765625 45.40625 37.90625 \nQ 48.296875 35.0625 49.859375 31.109375 \nQ 51.421875 27.15625 51.421875 22.40625 \nz\n\" id=\"LiberationSans-53\"/>\n      </defs>\n      <g style=\"fill:#262626;\" transform=\"translate(39.378125 66.893048)scale(0.1 -0.1)\">\n       <use xlink:href=\"#LiberationSans-53\"/>\n       <use x=\"55.615234\" xlink:href=\"#LiberationSans-48\"/>\n      </g>\n     </g>\n    </g>\n   </g>\n   <g id=\"line2d_23\">\n    <path clip-path=\"url(#p54f4a8a41c)\" d=\"M 69.218182 44.443636 \nL 130.090909 77.389091 \nL 190.963636 91.508571 \nL 251.836364 190.344935 \nL 312.709091 232.703377 \nL 373.581818 242.116364 \n\" style=\"fill:none;stroke:#1f77b4;stroke-linecap:round;stroke-width:1.5;\"/>\n   </g>\n   <g id=\"patch_3\">\n    <path d=\"M 54 252 \nL 54 34.56 \n\" style=\"fill:none;stroke:#cccccc;stroke-linecap:square;stroke-linejoin:miter;\"/>\n   </g>\n   <g id=\"patch_4\">\n    <path d=\"M 388.8 252 \nL 388.8 34.56 \n\" style=\"fill:none;stroke:#cccccc;stroke-linecap:square;stroke-linejoin:miter;\"/>\n   </g>\n   <g id=\"patch_5\">\n    <path d=\"M 54 252 \nL 388.8 252 \n\" style=\"fill:none;stroke:#cccccc;stroke-linecap:square;stroke-linejoin:miter;\"/>\n   </g>\n   <g id=\"patch_6\">\n    <path d=\"M 54 34.56 \nL 388.8 34.56 \n\" style=\"fill:none;stroke:#cccccc;stroke-linecap:square;stroke-linejoin:miter;\"/>\n   </g>\n  </g>\n </g>\n <defs>\n  <clipPath id=\"p54f4a8a41c\">\n   <rect height=\"217.44\" width=\"334.8\" x=\"54\" y=\"34.56\"/>\n  </clipPath>\n </defs>\n</svg>\n"
          },
          "metadata": {
            "tags": []
          }
        }
      ]
    },
    {
      "cell_type": "code",
      "metadata": {
        "id": "Ozzq4_dkg0q7",
        "colab_type": "code",
        "colab": {
          "base_uri": "https://localhost:8080/",
          "height": 422
        },
        "outputId": "33e92f84-9782-420f-d7f7-88802a2e4847"
      },
      "source": [
        "c.Region.value_counts().plot(kind='barh', color=\"green\") # kind='bar' makes it vertical by default\n",
        "plt.show"
      ],
      "execution_count": 40,
      "outputs": [
        {
          "output_type": "execute_result",
          "data": {
            "text/plain": [
              "<function matplotlib.pyplot.show>"
            ]
          },
          "metadata": {
            "tags": []
          },
          "execution_count": 40
        },
        {
          "output_type": "display_data",
          "data": {
            "application/pdf": "[encoded data removed]",
            "text/plain": [
              "<Figure size 432x288 with 1 Axes>"
            ],
            "image/svg+xml": "<?xml version=\"1.0\" encoding=\"utf-8\" standalone=\"no\"?>\n<!DOCTYPE svg PUBLIC \"-//W3C//DTD SVG 1.1//EN\"\n  \"http://www.w3.org/Graphics/SVG/1.1/DTD/svg11.dtd\">\n<!-- Created with matplotlib (https://matplotlib.org/) -->\n<svg height=\"288pt\" version=\"1.1\" viewBox=\"0 0 432 288\" width=\"432pt\" xmlns=\"http://www.w3.org/2000/svg\" xmlns:xlink=\"http://www.w3.org/1999/xlink\">\n <defs>\n  <style type=\"text/css\">\n*{stroke-linecap:butt;stroke-linejoin:round;}\n  </style>\n </defs>\n <g id=\"figure_1\">\n  <g id=\"patch_1\">\n   <path d=\"M 0 288 \nL 432 288 \nL 432 0 \nL 0 0 \nz\n\" style=\"fill:#ffffff;\"/>\n  </g>\n  <g id=\"axes_1\">\n   <g id=\"patch_2\">\n    <path d=\"M 54 252 \nL 388.8 252 \nL 388.8 34.56 \nL 54 34.56 \nz\n\" style=\"fill:#ffffff;\"/>\n   </g>\n   <g id=\"matplotlib.axis_1\">\n    <g id=\"xtick_1\">\n     <g id=\"line2d_1\">\n      <path clip-path=\"url(#p821465c791)\" d=\"M 54 252 \nL 54 34.56 \n\" style=\"fill:none;stroke:#cccccc;stroke-linecap:round;stroke-width:0.8;\"/>\n     </g>\n     <g id=\"line2d_2\"/>\n     <g id=\"text_1\">\n      <!-- 0 -->\n      <defs>\n       <path d=\"M 51.703125 34.421875 \nQ 51.703125 24.515625 49.828125 17.75 \nQ 47.953125 10.984375 44.703125 6.8125 \nQ 41.453125 2.640625 37.0625 0.828125 \nQ 32.671875 -0.984375 27.6875 -0.984375 \nQ 22.65625 -0.984375 18.3125 0.828125 \nQ 13.96875 2.640625 10.765625 6.78125 \nQ 7.5625 10.9375 5.734375 17.703125 \nQ 3.90625 24.46875 3.90625 34.421875 \nQ 3.90625 44.828125 5.734375 51.640625 \nQ 7.5625 58.453125 10.78125 62.5 \nQ 14.015625 66.546875 18.40625 68.1875 \nQ 22.796875 69.828125 27.984375 69.828125 \nQ 32.90625 69.828125 37.21875 68.1875 \nQ 41.546875 66.546875 44.765625 62.5 \nQ 48 58.453125 49.84375 51.640625 \nQ 51.703125 44.828125 51.703125 34.421875 \nz\nM 42.78125 34.421875 \nQ 42.78125 42.625 41.796875 48.0625 \nQ 40.828125 53.515625 38.921875 56.765625 \nQ 37.015625 60.015625 34.25 61.359375 \nQ 31.5 62.703125 27.984375 62.703125 \nQ 24.265625 62.703125 21.4375 61.328125 \nQ 18.609375 59.96875 16.671875 56.71875 \nQ 14.75 53.46875 13.765625 48.015625 \nQ 12.796875 42.578125 12.796875 34.421875 \nQ 12.796875 26.515625 13.796875 21.09375 \nQ 14.796875 15.671875 16.71875 12.375 \nQ 18.65625 9.078125 21.4375 7.640625 \nQ 24.21875 6.203125 27.78125 6.203125 \nQ 31.25 6.203125 34.03125 7.640625 \nQ 36.8125 9.078125 38.734375 12.375 \nQ 40.671875 15.671875 41.71875 21.09375 \nQ 42.78125 26.515625 42.78125 34.421875 \nz\n\" id=\"LiberationSans-48\"/>\n      </defs>\n      <g style=\"fill:#262626;\" transform=\"translate(51.219531 262.746875)scale(0.1 -0.1)\">\n       <use xlink:href=\"#LiberationSans-48\"/>\n      </g>\n     </g>\n    </g>\n    <g id=\"xtick_2\">\n     <g id=\"line2d_3\">\n      <path clip-path=\"url(#p821465c791)\" d=\"M 113.047619 252 \nL 113.047619 34.56 \n\" style=\"fill:none;stroke:#cccccc;stroke-linecap:round;stroke-width:0.8;\"/>\n     </g>\n     <g id=\"line2d_4\"/>\n     <g id=\"text_2\">\n      <!-- 10 -->\n      <defs>\n       <path d=\"M 7.625 0 \nL 7.625 7.46875 \nL 25.140625 7.46875 \nL 25.140625 60.40625 \nL 9.625 49.3125 \nL 9.625 57.625 \nL 25.875 68.796875 \nL 33.984375 68.796875 \nL 33.984375 7.46875 \nL 50.734375 7.46875 \nL 50.734375 0 \nz\n\" id=\"LiberationSans-49\"/>\n      </defs>\n      <g style=\"fill:#262626;\" transform=\"translate(107.486682 262.746875)scale(0.1 -0.1)\">\n       <use xlink:href=\"#LiberationSans-49\"/>\n       <use x=\"55.615234\" xlink:href=\"#LiberationSans-48\"/>\n      </g>\n     </g>\n    </g>\n    <g id=\"xtick_3\">\n     <g id=\"line2d_5\">\n      <path clip-path=\"url(#p821465c791)\" d=\"M 172.095238 252 \nL 172.095238 34.56 \n\" style=\"fill:none;stroke:#cccccc;stroke-linecap:round;stroke-width:0.8;\"/>\n     </g>\n     <g id=\"line2d_6\"/>\n     <g id=\"text_3\">\n      <!-- 20 -->\n      <defs>\n       <path d=\"M 5.03125 0 \nL 5.03125 6.203125 \nQ 7.515625 11.921875 11.109375 16.28125 \nQ 14.703125 20.65625 18.65625 24.1875 \nQ 22.609375 27.734375 26.484375 30.765625 \nQ 30.375 33.796875 33.5 36.8125 \nQ 36.625 39.84375 38.546875 43.15625 \nQ 40.484375 46.484375 40.484375 50.6875 \nQ 40.484375 53.609375 39.59375 55.828125 \nQ 38.71875 58.0625 37.0625 59.5625 \nQ 35.40625 61.078125 33.078125 61.828125 \nQ 30.765625 62.59375 27.9375 62.59375 \nQ 25.296875 62.59375 22.96875 61.859375 \nQ 20.65625 61.140625 18.84375 59.671875 \nQ 17.046875 58.203125 15.890625 56.03125 \nQ 14.75 53.859375 14.40625 50.984375 \nL 5.421875 51.8125 \nQ 5.859375 55.515625 7.46875 58.78125 \nQ 9.078125 62.0625 11.90625 64.53125 \nQ 14.75 67 18.71875 68.40625 \nQ 22.703125 69.828125 27.9375 69.828125 \nQ 33.0625 69.828125 37.0625 68.609375 \nQ 41.0625 67.390625 43.8125 64.984375 \nQ 46.578125 62.59375 48.046875 59.078125 \nQ 49.515625 55.5625 49.515625 50.984375 \nQ 49.515625 47.515625 48.265625 44.390625 \nQ 47.015625 41.265625 44.9375 38.421875 \nQ 42.875 35.59375 40.140625 32.953125 \nQ 37.40625 30.328125 34.421875 27.8125 \nQ 31.453125 25.296875 28.421875 22.828125 \nQ 25.390625 20.359375 22.71875 17.859375 \nQ 20.0625 15.375 17.96875 12.8125 \nQ 15.875 10.25 14.703125 7.46875 \nL 50.59375 7.46875 \nL 50.59375 0 \nz\n\" id=\"LiberationSans-50\"/>\n      </defs>\n      <g style=\"fill:#262626;\" transform=\"translate(166.534301 262.746875)scale(0.1 -0.1)\">\n       <use xlink:href=\"#LiberationSans-50\"/>\n       <use x=\"55.615234\" xlink:href=\"#LiberationSans-48\"/>\n      </g>\n     </g>\n    </g>\n    <g id=\"xtick_4\">\n     <g id=\"line2d_7\">\n      <path clip-path=\"url(#p821465c791)\" d=\"M 231.142857 252 \nL 231.142857 34.56 \n\" style=\"fill:none;stroke:#cccccc;stroke-linecap:round;stroke-width:0.8;\"/>\n     </g>\n     <g id=\"line2d_8\"/>\n     <g id=\"text_4\">\n      <!-- 30 -->\n      <defs>\n       <path d=\"M 51.21875 19 \nQ 51.21875 14.265625 49.671875 10.546875 \nQ 48.140625 6.84375 45.1875 4.265625 \nQ 42.234375 1.703125 37.859375 0.359375 \nQ 33.5 -0.984375 27.875 -0.984375 \nQ 21.484375 -0.984375 17.109375 0.609375 \nQ 12.75 2.203125 9.90625 4.8125 \nQ 7.078125 7.421875 5.65625 10.765625 \nQ 4.25 14.109375 3.8125 17.671875 \nL 12.890625 18.5 \nQ 13.28125 15.765625 14.328125 13.515625 \nQ 15.375 11.28125 17.1875 9.671875 \nQ 19 8.0625 21.625 7.171875 \nQ 24.265625 6.296875 27.875 6.296875 \nQ 34.515625 6.296875 38.296875 9.5625 \nQ 42.09375 12.84375 42.09375 19.28125 \nQ 42.09375 23.09375 40.40625 25.40625 \nQ 38.71875 27.734375 36.203125 29.03125 \nQ 33.6875 30.328125 30.734375 30.765625 \nQ 27.78125 31.203125 25.296875 31.203125 \nL 20.3125 31.203125 \nL 20.3125 38.8125 \nL 25.09375 38.8125 \nQ 27.59375 38.8125 30.265625 39.328125 \nQ 32.953125 39.84375 35.171875 41.1875 \nQ 37.40625 42.53125 38.84375 44.828125 \nQ 40.28125 47.125 40.28125 50.6875 \nQ 40.28125 56.203125 37.03125 59.390625 \nQ 33.796875 62.59375 27.390625 62.59375 \nQ 21.578125 62.59375 17.984375 59.609375 \nQ 14.40625 56.640625 13.8125 51.21875 \nL 4.984375 51.90625 \nQ 5.515625 56.453125 7.46875 59.8125 \nQ 9.421875 63.1875 12.421875 65.40625 \nQ 15.4375 67.625 19.28125 68.71875 \nQ 23.140625 69.828125 27.484375 69.828125 \nQ 33.25 69.828125 37.390625 68.375 \nQ 41.546875 66.9375 44.1875 64.46875 \nQ 46.828125 62.015625 48.0625 58.6875 \nQ 49.3125 55.375 49.3125 51.609375 \nQ 49.3125 48.578125 48.484375 45.9375 \nQ 47.65625 43.3125 45.890625 41.203125 \nQ 44.140625 39.109375 41.421875 37.59375 \nQ 38.71875 36.078125 34.90625 35.296875 \nL 34.90625 35.109375 \nQ 39.0625 34.671875 42.140625 33.21875 \nQ 45.21875 31.78125 47.21875 29.625 \nQ 49.21875 27.484375 50.21875 24.75 \nQ 51.21875 22.015625 51.21875 19 \nz\n\" id=\"LiberationSans-51\"/>\n      </defs>\n      <g style=\"fill:#262626;\" transform=\"translate(225.58192 262.746875)scale(0.1 -0.1)\">\n       <use xlink:href=\"#LiberationSans-51\"/>\n       <use x=\"55.615234\" xlink:href=\"#LiberationSans-48\"/>\n      </g>\n     </g>\n    </g>\n    <g id=\"xtick_5\">\n     <g id=\"line2d_9\">\n      <path clip-path=\"url(#p821465c791)\" d=\"M 290.190476 252 \nL 290.190476 34.56 \n\" style=\"fill:none;stroke:#cccccc;stroke-linecap:round;stroke-width:0.8;\"/>\n     </g>\n     <g id=\"line2d_10\"/>\n     <g id=\"text_5\">\n      <!-- 40 -->\n      <defs>\n       <path d=\"M 43.015625 15.578125 \nL 43.015625 0 \nL 34.71875 0 \nL 34.71875 15.578125 \nL 2.296875 15.578125 \nL 2.296875 22.40625 \nL 33.796875 68.796875 \nL 43.015625 68.796875 \nL 43.015625 22.515625 \nL 52.6875 22.515625 \nL 52.6875 15.578125 \nz\nM 34.71875 58.890625 \nQ 34.625 58.640625 34.234375 57.9375 \nQ 33.84375 57.234375 33.34375 56.34375 \nQ 32.859375 55.46875 32.34375 54.5625 \nQ 31.84375 53.65625 31.453125 53.078125 \nL 13.8125 27.09375 \nQ 13.578125 26.703125 13.109375 26.0625 \nQ 12.640625 25.4375 12.15625 24.78125 \nQ 11.671875 24.125 11.171875 23.484375 \nQ 10.6875 22.859375 10.40625 22.515625 \nL 34.71875 22.515625 \nz\n\" id=\"LiberationSans-52\"/>\n      </defs>\n      <g style=\"fill:#262626;\" transform=\"translate(284.629539 262.746875)scale(0.1 -0.1)\">\n       <use xlink:href=\"#LiberationSans-52\"/>\n       <use x=\"55.615234\" xlink:href=\"#LiberationSans-48\"/>\n      </g>\n     </g>\n    </g>\n    <g id=\"xtick_6\">\n     <g id=\"line2d_11\">\n      <path clip-path=\"url(#p821465c791)\" d=\"M 349.238095 252 \nL 349.238095 34.56 \n\" style=\"fill:none;stroke:#cccccc;stroke-linecap:round;stroke-width:0.8;\"/>\n     </g>\n     <g id=\"line2d_12\"/>\n     <g id=\"text_6\">\n      <!-- 50 -->\n      <defs>\n       <path d=\"M 51.421875 22.40625 \nQ 51.421875 17.234375 49.859375 12.9375 \nQ 48.296875 8.640625 45.21875 5.53125 \nQ 42.140625 2.4375 37.578125 0.71875 \nQ 33.015625 -0.984375 27 -0.984375 \nQ 21.578125 -0.984375 17.546875 0.28125 \nQ 13.53125 1.5625 10.734375 3.78125 \nQ 7.953125 6 6.3125 8.984375 \nQ 4.6875 11.96875 4 15.375 \nL 12.890625 16.40625 \nQ 13.421875 14.453125 14.390625 12.625 \nQ 15.375 10.796875 17.0625 9.34375 \nQ 18.75 7.90625 21.21875 7.046875 \nQ 23.6875 6.203125 27.203125 6.203125 \nQ 30.609375 6.203125 33.390625 7.25 \nQ 36.1875 8.296875 38.15625 10.34375 \nQ 40.140625 12.40625 41.203125 15.375 \nQ 42.28125 18.359375 42.28125 22.21875 \nQ 42.28125 25.390625 41.25 28.046875 \nQ 40.234375 30.71875 38.328125 32.640625 \nQ 36.421875 34.578125 33.65625 35.640625 \nQ 30.90625 36.71875 27.390625 36.71875 \nQ 25.203125 36.71875 23.34375 36.328125 \nQ 21.484375 35.9375 19.890625 35.25 \nQ 18.3125 34.578125 17.015625 33.671875 \nQ 15.71875 32.765625 14.59375 31.78125 \nL 6 31.78125 \nL 8.296875 68.796875 \nL 47.40625 68.796875 \nL 47.40625 61.328125 \nL 16.3125 61.328125 \nL 14.984375 39.5 \nQ 17.328125 41.3125 20.84375 42.59375 \nQ 24.359375 43.890625 29.203125 43.890625 \nQ 34.328125 43.890625 38.421875 42.328125 \nQ 42.53125 40.765625 45.40625 37.90625 \nQ 48.296875 35.0625 49.859375 31.109375 \nQ 51.421875 27.15625 51.421875 22.40625 \nz\n\" id=\"LiberationSans-53\"/>\n      </defs>\n      <g style=\"fill:#262626;\" transform=\"translate(343.677158 262.746875)scale(0.1 -0.1)\">\n       <use xlink:href=\"#LiberationSans-53\"/>\n       <use x=\"55.615234\" xlink:href=\"#LiberationSans-48\"/>\n      </g>\n     </g>\n    </g>\n   </g>\n   <g id=\"matplotlib.axis_2\">\n    <g id=\"ytick_1\">\n     <g id=\"line2d_13\">\n      <path clip-path=\"url(#p821465c791)\" d=\"M 54 233.88 \nL 388.8 233.88 \n\" style=\"fill:none;stroke:#cccccc;stroke-linecap:round;stroke-width:0.8;\"/>\n     </g>\n     <g id=\"line2d_14\"/>\n     <g id=\"text_7\">\n      <!-- AFRICA -->\n      <defs>\n       <path d=\"M 56.984375 0 \nL 49.125 20.125 \nL 17.78125 20.125 \nL 9.859375 0 \nL 0.203125 0 \nL 28.265625 68.796875 \nL 38.875 68.796875 \nL 66.5 0 \nz\nM 37.5 50.09375 \nQ 36.71875 52.046875 36 54.046875 \nQ 35.296875 56.0625 34.765625 57.6875 \nQ 34.234375 59.328125 33.859375 60.421875 \nQ 33.5 61.53125 33.453125 61.765625 \nQ 33.34375 61.53125 33 60.40625 \nQ 32.671875 59.28125 32.109375 57.609375 \nQ 31.546875 55.953125 30.828125 53.953125 \nQ 30.125 51.953125 29.390625 50 \nL 20.609375 27.390625 \nL 46.34375 27.390625 \nz\n\" id=\"LiberationSans-65\"/>\n       <path d=\"M 17.53125 61.1875 \nL 17.53125 35.59375 \nL 55.90625 35.59375 \nL 55.90625 27.875 \nL 17.53125 27.875 \nL 17.53125 0 \nL 8.203125 0 \nL 8.203125 68.796875 \nL 57.078125 68.796875 \nL 57.078125 61.1875 \nz\n\" id=\"LiberationSans-70\"/>\n       <path d=\"M 56.84375 0 \nL 38.96875 28.5625 \nL 17.53125 28.5625 \nL 17.53125 0 \nL 8.203125 0 \nL 8.203125 68.796875 \nL 40.578125 68.796875 \nQ 46.4375 68.796875 50.953125 67.453125 \nQ 55.46875 66.109375 58.546875 63.5625 \nQ 61.625 61.03125 63.234375 57.375 \nQ 64.84375 53.71875 64.84375 49.125 \nQ 64.84375 45.84375 63.890625 42.671875 \nQ 62.9375 39.5 60.890625 36.859375 \nQ 58.84375 34.234375 55.65625 32.328125 \nQ 52.484375 30.421875 48.046875 29.640625 \nL 67.578125 0 \nz\nM 55.46875 49.03125 \nQ 55.46875 52.15625 54.390625 54.4375 \nQ 53.328125 56.734375 51.265625 58.265625 \nQ 49.21875 59.8125 46.28125 60.5625 \nQ 43.359375 61.328125 39.65625 61.328125 \nL 17.53125 61.328125 \nL 17.53125 35.9375 \nL 40.046875 35.9375 \nQ 44.046875 35.9375 46.96875 36.9375 \nQ 49.90625 37.9375 51.78125 39.6875 \nQ 53.65625 41.453125 54.5625 43.84375 \nQ 55.46875 46.234375 55.46875 49.03125 \nz\n\" id=\"LiberationSans-82\"/>\n       <path d=\"M 9.234375 0 \nL 9.234375 68.796875 \nL 18.5625 68.796875 \nL 18.5625 0 \nz\n\" id=\"LiberationSans-73\"/>\n       <path d=\"M 38.671875 62.203125 \nQ 32.8125 62.203125 28.296875 60.25 \nQ 23.78125 58.296875 20.71875 54.6875 \nQ 17.671875 51.078125 16.109375 46 \nQ 14.546875 40.921875 14.546875 34.71875 \nQ 14.546875 28.515625 16.234375 23.359375 \nQ 17.921875 18.21875 21.0625 14.5 \nQ 24.21875 10.796875 28.78125 8.734375 \nQ 33.34375 6.6875 39.0625 6.6875 \nQ 43.0625 6.6875 46.359375 7.734375 \nQ 49.65625 8.796875 52.3125 10.6875 \nQ 54.984375 12.59375 57.078125 15.203125 \nQ 59.1875 17.828125 60.796875 21 \nL 68.40625 17.1875 \nQ 66.546875 13.328125 63.8125 10 \nQ 61.078125 6.6875 57.390625 4.25 \nQ 53.71875 1.8125 49.046875 0.40625 \nQ 44.390625 -0.984375 38.625 -0.984375 \nQ 30.28125 -0.984375 24 1.671875 \nQ 17.71875 4.34375 13.5 9.109375 \nQ 9.28125 13.875 7.171875 20.40625 \nQ 5.078125 26.953125 5.078125 34.71875 \nQ 5.078125 42.78125 7.296875 49.265625 \nQ 9.515625 55.765625 13.78125 60.328125 \nQ 18.0625 64.890625 24.3125 67.359375 \nQ 30.5625 69.828125 38.578125 69.828125 \nQ 49.5625 69.828125 56.9375 65.53125 \nQ 64.3125 61.234375 67.78125 52.78125 \nL 58.9375 49.859375 \nQ 57.953125 52.296875 56.296875 54.515625 \nQ 54.640625 56.734375 52.140625 58.4375 \nQ 49.65625 60.15625 46.3125 61.171875 \nQ 42.96875 62.203125 38.671875 62.203125 \nz\n\" id=\"LiberationSans-67\"/>\n      </defs>\n      <g style=\"fill:#262626;\" transform=\"translate(13.829687 237.503438)scale(0.1 -0.1)\">\n       <use xlink:href=\"#LiberationSans-65\"/>\n       <use x=\"66.699219\" xlink:href=\"#LiberationSans-70\"/>\n       <use x=\"127.783203\" xlink:href=\"#LiberationSans-82\"/>\n       <use x=\"200\" xlink:href=\"#LiberationSans-73\"/>\n       <use x=\"227.783203\" xlink:href=\"#LiberationSans-67\"/>\n       <use x=\"300\" xlink:href=\"#LiberationSans-65\"/>\n      </g>\n     </g>\n    </g>\n    <g id=\"ytick_2\">\n     <g id=\"line2d_15\">\n      <path clip-path=\"url(#p821465c791)\" d=\"M 54 197.64 \nL 388.8 197.64 \n\" style=\"fill:none;stroke:#cccccc;stroke-linecap:round;stroke-width:0.8;\"/>\n     </g>\n     <g id=\"line2d_16\"/>\n     <g id=\"text_8\">\n      <!-- EUROPE -->\n      <defs>\n       <path d=\"M 8.203125 0 \nL 8.203125 68.796875 \nL 60.40625 68.796875 \nL 60.40625 61.1875 \nL 17.53125 61.1875 \nL 17.53125 39.109375 \nL 57.46875 39.109375 \nL 57.46875 31.59375 \nL 17.53125 31.59375 \nL 17.53125 7.625 \nL 62.40625 7.625 \nL 62.40625 0 \nz\n\" id=\"LiberationSans-69\"/>\n       <path d=\"M 35.6875 -0.984375 \nQ 30.03125 -0.984375 24.953125 0.53125 \nQ 19.875 2.046875 16.03125 5.25 \nQ 12.203125 8.453125 9.953125 13.359375 \nQ 7.71875 18.265625 7.71875 25 \nL 7.71875 68.796875 \nL 17.046875 68.796875 \nL 17.046875 25.78125 \nQ 17.046875 20.5625 18.4375 16.921875 \nQ 19.828125 13.28125 22.3125 10.984375 \nQ 24.8125 8.6875 28.203125 7.640625 \nQ 31.59375 6.59375 35.640625 6.59375 \nQ 39.65625 6.59375 43.21875 7.65625 \nQ 46.78125 8.734375 49.46875 11.078125 \nQ 52.15625 13.421875 53.6875 17.203125 \nQ 55.21875 21 55.21875 26.421875 \nL 55.21875 68.796875 \nL 64.5 68.796875 \nL 64.5 25.875 \nQ 64.5 19 62.234375 13.9375 \nQ 59.96875 8.890625 56.0625 5.5625 \nQ 52.15625 2.25 46.90625 0.625 \nQ 41.65625 -0.984375 35.6875 -0.984375 \nz\n\" id=\"LiberationSans-85\"/>\n       <path d=\"M 73 34.71875 \nQ 73 26.65625 70.671875 20.0625 \nQ 68.359375 13.484375 63.96875 8.796875 \nQ 59.578125 4.109375 53.21875 1.5625 \nQ 46.875 -0.984375 38.8125 -0.984375 \nQ 30.328125 -0.984375 23.921875 1.671875 \nQ 17.53125 4.34375 13.28125 9.109375 \nQ 9.03125 13.875 6.875 20.40625 \nQ 4.734375 26.953125 4.734375 34.71875 \nQ 4.734375 42.78125 6.984375 49.265625 \nQ 9.234375 55.765625 13.578125 60.328125 \nQ 17.921875 64.890625 24.296875 67.359375 \nQ 30.671875 69.828125 38.921875 69.828125 \nQ 47.125 69.828125 53.484375 67.328125 \nQ 59.859375 64.84375 64.171875 60.25 \nQ 68.5 55.671875 70.75 49.171875 \nQ 73 42.671875 73 34.71875 \nz\nM 63.484375 34.71875 \nQ 63.484375 40.921875 61.890625 46 \nQ 60.296875 51.078125 57.203125 54.6875 \nQ 54.109375 58.296875 49.515625 60.25 \nQ 44.921875 62.203125 38.921875 62.203125 \nQ 32.765625 62.203125 28.125 60.25 \nQ 23.484375 58.296875 20.375 54.6875 \nQ 17.28125 51.078125 15.734375 46 \nQ 14.203125 40.921875 14.203125 34.71875 \nQ 14.203125 28.515625 15.796875 23.359375 \nQ 17.390625 18.21875 20.484375 14.484375 \nQ 23.578125 10.75 28.1875 8.671875 \nQ 32.8125 6.59375 38.8125 6.59375 \nQ 45.265625 6.59375 49.921875 8.6875 \nQ 54.59375 10.796875 57.59375 14.53125 \nQ 60.59375 18.265625 62.03125 23.4375 \nQ 63.484375 28.609375 63.484375 34.71875 \nz\n\" id=\"LiberationSans-79\"/>\n       <path d=\"M 61.421875 48.09375 \nQ 61.421875 43.609375 59.9375 39.71875 \nQ 58.453125 35.84375 55.5 32.984375 \nQ 52.546875 30.125 48.09375 28.46875 \nQ 43.65625 26.8125 37.75 26.8125 \nL 17.53125 26.8125 \nL 17.53125 0 \nL 8.203125 0 \nL 8.203125 68.796875 \nL 37.15625 68.796875 \nQ 43.265625 68.796875 47.796875 67.3125 \nQ 52.34375 65.828125 55.375 63.109375 \nQ 58.40625 60.40625 59.90625 56.5625 \nQ 61.421875 52.734375 61.421875 48.09375 \nz\nM 52.046875 48 \nQ 52.046875 54.546875 48.046875 57.9375 \nQ 44.046875 61.328125 36.03125 61.328125 \nL 17.53125 61.328125 \nL 17.53125 34.1875 \nL 36.421875 34.1875 \nQ 44.484375 34.1875 48.265625 37.75 \nQ 52.046875 41.3125 52.046875 48 \nz\n\" id=\"LiberationSans-80\"/>\n      </defs>\n      <g style=\"fill:#262626;\" transform=\"translate(8.267187 201.263438)scale(0.1 -0.1)\">\n       <use xlink:href=\"#LiberationSans-69\"/>\n       <use x=\"66.699219\" xlink:href=\"#LiberationSans-85\"/>\n       <use x=\"138.916016\" xlink:href=\"#LiberationSans-82\"/>\n       <use x=\"211.132812\" xlink:href=\"#LiberationSans-79\"/>\n       <use x=\"288.916016\" xlink:href=\"#LiberationSans-80\"/>\n       <use x=\"355.615234\" xlink:href=\"#LiberationSans-69\"/>\n      </g>\n     </g>\n    </g>\n    <g id=\"ytick_3\">\n     <g id=\"line2d_17\">\n      <path clip-path=\"url(#p821465c791)\" d=\"M 54 161.4 \nL 388.8 161.4 \n\" style=\"fill:none;stroke:#cccccc;stroke-linecap:round;stroke-width:0.8;\"/>\n     </g>\n     <g id=\"line2d_18\"/>\n     <g id=\"text_9\">\n      <!-- ASIA -->\n      <defs>\n       <path d=\"M 62.109375 19 \nQ 62.109375 14.65625 60.421875 10.984375 \nQ 58.734375 7.328125 55.21875 4.65625 \nQ 51.703125 2 46.359375 0.5 \nQ 41.015625 -0.984375 33.6875 -0.984375 \nQ 20.84375 -0.984375 13.671875 3.515625 \nQ 6.5 8.015625 4.546875 16.5 \nL 13.578125 18.3125 \nQ 14.265625 15.625 15.671875 13.421875 \nQ 17.09375 11.234375 19.5 9.640625 \nQ 21.921875 8.0625 25.484375 7.171875 \nQ 29.046875 6.296875 34.03125 6.296875 \nQ 38.1875 6.296875 41.65625 7 \nQ 45.125 7.71875 47.609375 9.171875 \nQ 50.09375 10.640625 51.484375 12.953125 \nQ 52.875 15.28125 52.875 18.5 \nQ 52.875 21.875 51.34375 23.96875 \nQ 49.8125 26.078125 47.015625 27.4375 \nQ 44.234375 28.8125 40.375 29.734375 \nQ 36.53125 30.671875 31.84375 31.734375 \nQ 28.953125 32.375 26.046875 33.125 \nQ 23.140625 33.890625 20.484375 34.9375 \nQ 17.828125 35.984375 15.484375 37.390625 \nQ 13.140625 38.8125 11.421875 40.796875 \nQ 9.71875 42.78125 8.734375 45.390625 \nQ 7.765625 48 7.765625 51.421875 \nQ 7.765625 56.296875 9.734375 59.78125 \nQ 11.71875 63.28125 15.234375 65.53125 \nQ 18.75 67.78125 23.53125 68.796875 \nQ 28.328125 69.828125 33.890625 69.828125 \nQ 40.28125 69.828125 44.8125 68.828125 \nQ 49.359375 67.828125 52.484375 65.8125 \nQ 55.609375 63.8125 57.484375 60.859375 \nQ 59.375 57.90625 60.5 54 \nL 51.3125 52.390625 \nQ 50.640625 54.890625 49.34375 56.84375 \nQ 48.046875 58.796875 45.9375 60.109375 \nQ 43.84375 61.421875 40.84375 62.109375 \nQ 37.84375 62.796875 33.796875 62.796875 \nQ 29 62.796875 25.75 61.9375 \nQ 22.515625 61.078125 20.53125 59.609375 \nQ 18.5625 58.15625 17.703125 56.171875 \nQ 16.84375 54.203125 16.84375 51.90625 \nQ 16.84375 48.828125 18.375 46.84375 \nQ 19.921875 44.875 22.5625 43.546875 \nQ 25.203125 42.234375 28.65625 41.359375 \nQ 32.125 40.484375 36.03125 39.59375 \nQ 39.203125 38.875 42.359375 38.109375 \nQ 45.515625 37.359375 48.390625 36.296875 \nQ 51.265625 35.25 53.78125 33.828125 \nQ 56.296875 32.421875 58.15625 30.375 \nQ 60.015625 28.328125 61.0625 25.53125 \nQ 62.109375 22.75 62.109375 19 \nz\n\" id=\"LiberationSans-83\"/>\n      </defs>\n      <g style=\"fill:#262626;\" transform=\"translate(27.710938 165.023438)scale(0.1 -0.1)\">\n       <use xlink:href=\"#LiberationSans-65\"/>\n       <use x=\"66.699219\" xlink:href=\"#LiberationSans-83\"/>\n       <use x=\"133.398438\" xlink:href=\"#LiberationSans-73\"/>\n       <use x=\"161.181641\" xlink:href=\"#LiberationSans-65\"/>\n      </g>\n     </g>\n    </g>\n    <g id=\"ytick_4\">\n     <g id=\"line2d_19\">\n      <path clip-path=\"url(#p821465c791)\" d=\"M 54 125.16 \nL 388.8 125.16 \n\" style=\"fill:none;stroke:#cccccc;stroke-linecap:round;stroke-width:0.8;\"/>\n     </g>\n     <g id=\"line2d_20\"/>\n     <g id=\"text_10\">\n      <!-- NORTH AMERICA -->\n      <defs>\n       <path d=\"M 52.828125 0 \nL 16.015625 58.59375 \nQ 16.109375 56.203125 16.265625 53.859375 \nQ 16.359375 51.859375 16.421875 49.625 \nQ 16.5 47.40625 16.5 45.703125 \nL 16.5 0 \nL 8.203125 0 \nL 8.203125 68.796875 \nL 19.046875 68.796875 \nL 56.25 9.8125 \nQ 56.109375 12.203125 55.953125 14.59375 \nQ 55.859375 16.65625 55.765625 19.0625 \nQ 55.671875 21.484375 55.671875 23.6875 \nL 55.671875 68.796875 \nL 64.0625 68.796875 \nL 64.0625 0 \nz\n\" id=\"LiberationSans-78\"/>\n       <path d=\"M 35.15625 61.1875 \nL 35.15625 0 \nL 25.875 0 \nL 25.875 61.1875 \nL 2.25 61.1875 \nL 2.25 68.796875 \nL 58.796875 68.796875 \nL 58.796875 61.1875 \nz\n\" id=\"LiberationSans-84\"/>\n       <path d=\"M 54.734375 0 \nL 54.734375 31.890625 \nL 17.53125 31.890625 \nL 17.53125 0 \nL 8.203125 0 \nL 8.203125 68.796875 \nL 17.53125 68.796875 \nL 17.53125 39.703125 \nL 54.734375 39.703125 \nL 54.734375 68.796875 \nL 64.0625 68.796875 \nL 64.0625 0 \nz\n\" id=\"LiberationSans-72\"/>\n       <path id=\"LiberationSans-32\"/>\n       <path d=\"M 66.703125 0 \nL 66.703125 45.90625 \nQ 66.703125 48.390625 66.75 50.96875 \nQ 66.796875 53.5625 66.890625 55.71875 \nQ 67 58.203125 67.140625 60.546875 \nQ 66.453125 58.0625 65.71875 55.609375 \nQ 65.09375 53.515625 64.328125 51.140625 \nQ 63.578125 48.78125 62.84375 46.875 \nL 45.0625 0 \nL 38.53125 0 \nL 20.515625 46.875 \nQ 20.21875 47.609375 19.890625 48.578125 \nQ 19.578125 49.5625 19.203125 50.65625 \nQ 18.84375 51.765625 18.46875 52.90625 \nQ 18.109375 54.046875 17.78125 55.171875 \nQ 16.9375 57.765625 16.15625 60.546875 \nQ 16.21875 57.8125 16.3125 55.125 \nQ 16.40625 52.828125 16.453125 50.3125 \nQ 16.5 47.796875 16.5 45.90625 \nL 16.5 0 \nL 8.203125 0 \nL 8.203125 68.796875 \nL 20.453125 68.796875 \nL 38.765625 21.09375 \nQ 39.109375 20.125 39.59375 18.578125 \nQ 40.09375 17.046875 40.53125 15.421875 \nQ 40.96875 13.8125 41.328125 12.375 \nQ 41.703125 10.9375 41.84375 10.15625 \nQ 42 10.9375 42.390625 12.40625 \nQ 42.78125 13.875 43.28125 15.484375 \nQ 43.796875 17.09375 44.28125 18.609375 \nQ 44.78125 20.125 45.171875 21.09375 \nL 63.140625 68.796875 \nL 75.09375 68.796875 \nL 75.09375 0 \nz\n\" id=\"LiberationSans-77\"/>\n      </defs>\n      <g style=\"fill:#262626;\" transform=\"translate(-32.667188 128.783438)scale(0.1 -0.1)\">\n       <use xlink:href=\"#LiberationSans-78\"/>\n       <use x=\"72.216797\" xlink:href=\"#LiberationSans-79\"/>\n       <use x=\"150\" xlink:href=\"#LiberationSans-82\"/>\n       <use x=\"220.466797\" xlink:href=\"#LiberationSans-84\"/>\n       <use x=\"281.550781\" xlink:href=\"#LiberationSans-72\"/>\n       <use x=\"353.767578\" xlink:href=\"#LiberationSans-32\"/>\n       <use x=\"376.050781\" xlink:href=\"#LiberationSans-65\"/>\n       <use x=\"442.75\" xlink:href=\"#LiberationSans-77\"/>\n       <use x=\"526.050781\" xlink:href=\"#LiberationSans-69\"/>\n       <use x=\"592.75\" xlink:href=\"#LiberationSans-82\"/>\n       <use x=\"664.966797\" xlink:href=\"#LiberationSans-73\"/>\n       <use x=\"692.75\" xlink:href=\"#LiberationSans-67\"/>\n       <use x=\"764.966797\" xlink:href=\"#LiberationSans-65\"/>\n      </g>\n     </g>\n    </g>\n    <g id=\"ytick_5\">\n     <g id=\"line2d_21\">\n      <path clip-path=\"url(#p821465c791)\" d=\"M 54 88.92 \nL 388.8 88.92 \n\" style=\"fill:none;stroke:#cccccc;stroke-linecap:round;stroke-width:0.8;\"/>\n     </g>\n     <g id=\"line2d_22\"/>\n     <g id=\"text_11\">\n      <!-- OCEANIA -->\n      <g style=\"fill:#262626;\" transform=\"translate(5.489062 92.543438)scale(0.1 -0.1)\">\n       <use xlink:href=\"#LiberationSans-79\"/>\n       <use x=\"77.783203\" xlink:href=\"#LiberationSans-67\"/>\n       <use x=\"150\" xlink:href=\"#LiberationSans-69\"/>\n       <use x=\"216.699219\" xlink:href=\"#LiberationSans-65\"/>\n       <use x=\"283.398438\" xlink:href=\"#LiberationSans-78\"/>\n       <use x=\"355.615234\" xlink:href=\"#LiberationSans-73\"/>\n       <use x=\"383.398438\" xlink:href=\"#LiberationSans-65\"/>\n      </g>\n     </g>\n    </g>\n    <g id=\"ytick_6\">\n     <g id=\"line2d_23\">\n      <path clip-path=\"url(#p821465c791)\" d=\"M 54 52.68 \nL 388.8 52.68 \n\" style=\"fill:none;stroke:#cccccc;stroke-linecap:round;stroke-width:0.8;\"/>\n     </g>\n     <g id=\"line2d_24\"/>\n     <g id=\"text_12\">\n      <!-- SOUTH AMERICA -->\n      <g style=\"fill:#262626;\" transform=\"translate(-32.290625 56.303438)scale(0.1 -0.1)\">\n       <use xlink:href=\"#LiberationSans-83\"/>\n       <use x=\"66.699219\" xlink:href=\"#LiberationSans-79\"/>\n       <use x=\"144.482422\" xlink:href=\"#LiberationSans-85\"/>\n       <use x=\"216.699219\" xlink:href=\"#LiberationSans-84\"/>\n       <use x=\"277.783203\" xlink:href=\"#LiberationSans-72\"/>\n       <use x=\"350\" xlink:href=\"#LiberationSans-32\"/>\n       <use x=\"372.283203\" xlink:href=\"#LiberationSans-65\"/>\n       <use x=\"438.982422\" xlink:href=\"#LiberationSans-77\"/>\n       <use x=\"522.283203\" xlink:href=\"#LiberationSans-69\"/>\n       <use x=\"588.982422\" xlink:href=\"#LiberationSans-82\"/>\n       <use x=\"661.199219\" xlink:href=\"#LiberationSans-73\"/>\n       <use x=\"688.982422\" xlink:href=\"#LiberationSans-67\"/>\n       <use x=\"761.199219\" xlink:href=\"#LiberationSans-65\"/>\n      </g>\n     </g>\n    </g>\n   </g>\n   <g id=\"patch_3\">\n    <path clip-path=\"url(#p821465c791)\" d=\"M 54 242.94 \nL 372.857143 242.94 \nL 372.857143 224.82 \nL 54 224.82 \nz\n\" style=\"fill:#008000;\"/>\n   </g>\n   <g id=\"patch_4\">\n    <path clip-path=\"url(#p821465c791)\" d=\"M 54 206.7 \nL 331.52381 206.7 \nL 331.52381 188.58 \nL 54 188.58 \nz\n\" style=\"fill:#008000;\"/>\n   </g>\n   <g id=\"patch_5\">\n    <path clip-path=\"url(#p821465c791)\" d=\"M 54 170.46 \nL 313.809524 170.46 \nL 313.809524 152.34 \nL 54 152.34 \nz\n\" style=\"fill:#008000;\"/>\n   </g>\n   <g id=\"patch_6\">\n    <path clip-path=\"url(#p821465c791)\" d=\"M 54 134.22 \nL 189.809524 134.22 \nL 189.809524 116.1 \nL 54 116.1 \nz\n\" style=\"fill:#008000;\"/>\n   </g>\n   <g id=\"patch_7\">\n    <path clip-path=\"url(#p821465c791)\" d=\"M 54 97.98 \nL 136.666667 97.98 \nL 136.666667 79.86 \nL 54 79.86 \nz\n\" style=\"fill:#008000;\"/>\n   </g>\n   <g id=\"patch_8\">\n    <path clip-path=\"url(#p821465c791)\" d=\"M 54 61.74 \nL 124.857143 61.74 \nL 124.857143 43.62 \nL 54 43.62 \nz\n\" style=\"fill:#008000;\"/>\n   </g>\n   <g id=\"patch_9\">\n    <path d=\"M 54 252 \nL 54 34.56 \n\" style=\"fill:none;stroke:#cccccc;stroke-linecap:square;stroke-linejoin:miter;\"/>\n   </g>\n   <g id=\"patch_10\">\n    <path d=\"M 388.8 252 \nL 388.8 34.56 \n\" style=\"fill:none;stroke:#cccccc;stroke-linecap:square;stroke-linejoin:miter;\"/>\n   </g>\n   <g id=\"patch_11\">\n    <path d=\"M 54 252 \nL 388.8 252 \n\" style=\"fill:none;stroke:#cccccc;stroke-linecap:square;stroke-linejoin:miter;\"/>\n   </g>\n   <g id=\"patch_12\">\n    <path d=\"M 54 34.56 \nL 388.8 34.56 \n\" style=\"fill:none;stroke:#cccccc;stroke-linecap:square;stroke-linejoin:miter;\"/>\n   </g>\n  </g>\n </g>\n <defs>\n  <clipPath id=\"p821465c791\">\n   <rect height=\"217.44\" width=\"334.8\" x=\"54\" y=\"34.56\"/>\n  </clipPath>\n </defs>\n</svg>\n"
          },
          "metadata": {
            "tags": []
          }
        }
      ]
    },
    {
      "cell_type": "code",
      "metadata": {
        "id": "6KCI3EMjmYiS",
        "colab_type": "code",
        "colab": {
          "base_uri": "https://localhost:8080/",
          "height": 422
        },
        "outputId": "f966fd76-f37b-45b2-aa38-418afcc4c882"
      },
      "source": [
        "c.Region.value_counts().plot(kind='pie')\n",
        "plt.show\n"
      ],
      "execution_count": 37,
      "outputs": [
        {
          "output_type": "execute_result",
          "data": {
            "text/plain": [
              "<function matplotlib.pyplot.show>"
            ]
          },
          "metadata": {
            "tags": []
          },
          "execution_count": 37
        },
        {
          "output_type": "display_data",
          "data": {
            "application/pdf": "[encoded data removed]",
            "text/plain": [
              "<Figure size 432x288 with 1 Axes>"
            ],
            "image/svg+xml": "<?xml version=\"1.0\" encoding=\"utf-8\" standalone=\"no\"?>\n<!DOCTYPE svg PUBLIC \"-//W3C//DTD SVG 1.1//EN\"\n  \"http://www.w3.org/Graphics/SVG/1.1/DTD/svg11.dtd\">\n<!-- Created with matplotlib (https://matplotlib.org/) -->\n<svg height=\"288pt\" version=\"1.1\" viewBox=\"0 0 432 288\" width=\"432pt\" xmlns=\"http://www.w3.org/2000/svg\" xmlns:xlink=\"http://www.w3.org/1999/xlink\">\n <defs>\n  <style type=\"text/css\">\n*{stroke-linecap:butt;stroke-linejoin:round;}\n  </style>\n </defs>\n <g id=\"figure_1\">\n  <g id=\"patch_1\">\n   <path d=\"M 0 288 \nL 432 288 \nL 432 0 \nL 0 0 \nz\n\" style=\"fill:#ffffff;\"/>\n  </g>\n  <g id=\"axes_1\">\n   <g id=\"matplotlib.axis_1\"/>\n   <g id=\"matplotlib.axis_2\">\n    <g id=\"text_1\">\n     <!-- Region -->\n     <defs>\n      <path d=\"M 56.84375 0 \nL 38.96875 28.5625 \nL 17.53125 28.5625 \nL 17.53125 0 \nL 8.203125 0 \nL 8.203125 68.796875 \nL 40.578125 68.796875 \nQ 46.4375 68.796875 50.953125 67.453125 \nQ 55.46875 66.109375 58.546875 63.5625 \nQ 61.625 61.03125 63.234375 57.375 \nQ 64.84375 53.71875 64.84375 49.125 \nQ 64.84375 45.84375 63.890625 42.671875 \nQ 62.9375 39.5 60.890625 36.859375 \nQ 58.84375 34.234375 55.65625 32.328125 \nQ 52.484375 30.421875 48.046875 29.640625 \nL 67.578125 0 \nz\nM 55.46875 49.03125 \nQ 55.46875 52.15625 54.390625 54.4375 \nQ 53.328125 56.734375 51.265625 58.265625 \nQ 49.21875 59.8125 46.28125 60.5625 \nQ 43.359375 61.328125 39.65625 61.328125 \nL 17.53125 61.328125 \nL 17.53125 35.9375 \nL 40.046875 35.9375 \nQ 44.046875 35.9375 46.96875 36.9375 \nQ 49.90625 37.9375 51.78125 39.6875 \nQ 53.65625 41.453125 54.5625 43.84375 \nQ 55.46875 46.234375 55.46875 49.03125 \nz\n\" id=\"LiberationSans-82\"/>\n      <path d=\"M 13.484375 24.5625 \nQ 13.484375 20.40625 14.328125 16.90625 \nQ 15.1875 13.421875 16.96875 10.90625 \nQ 18.75 8.40625 21.53125 7 \nQ 24.3125 5.609375 28.21875 5.609375 \nQ 33.9375 5.609375 37.375 7.90625 \nQ 40.828125 10.203125 42.046875 13.71875 \nL 49.75 11.53125 \nQ 48.921875 9.328125 47.4375 7.109375 \nQ 45.953125 4.890625 43.453125 3.09375 \nQ 40.96875 1.3125 37.234375 0.15625 \nQ 33.5 -0.984375 28.21875 -0.984375 \nQ 16.5 -0.984375 10.375 6 \nQ 4.25 12.984375 4.25 26.765625 \nQ 4.25 34.1875 6.09375 39.328125 \nQ 7.953125 44.484375 11.171875 47.703125 \nQ 14.40625 50.921875 18.703125 52.359375 \nQ 23 53.8125 27.875 53.8125 \nQ 34.515625 53.8125 38.984375 51.65625 \nQ 43.453125 49.515625 46.15625 45.71875 \nQ 48.875 41.9375 50.015625 36.8125 \nQ 51.171875 31.6875 51.171875 25.734375 \nL 51.171875 24.5625 \nz\nM 42.09375 31.296875 \nQ 41.359375 39.65625 37.84375 43.484375 \nQ 34.328125 47.3125 27.734375 47.3125 \nQ 25.53125 47.3125 23.109375 46.609375 \nQ 20.703125 45.90625 18.65625 44.09375 \nQ 16.609375 42.28125 15.1875 39.171875 \nQ 13.765625 36.078125 13.578125 31.296875 \nz\n\" id=\"LiberationSans-101\"/>\n      <path d=\"M 26.765625 -20.75 \nQ 22.21875 -20.75 18.703125 -19.8125 \nQ 15.1875 -18.890625 12.6875 -17.15625 \nQ 10.203125 -15.4375 8.640625 -13.03125 \nQ 7.078125 -10.640625 6.390625 -7.71875 \nL 15.234375 -6.453125 \nQ 16.109375 -10.109375 19.109375 -12.078125 \nQ 22.125 -14.0625 27 -14.0625 \nQ 29.984375 -14.0625 32.421875 -13.234375 \nQ 34.859375 -12.40625 36.5625 -10.5625 \nQ 38.28125 -8.734375 39.203125 -5.796875 \nQ 40.140625 -2.875 40.140625 1.3125 \nL 40.140625 9.8125 \nL 40.046875 9.8125 \nQ 39.0625 7.8125 37.625 5.984375 \nQ 36.1875 4.15625 34.109375 2.734375 \nQ 32.03125 1.3125 29.296875 0.453125 \nQ 26.5625 -0.390625 23.046875 -0.390625 \nQ 18.015625 -0.390625 14.421875 1.296875 \nQ 10.84375 2.984375 8.5625 6.34375 \nQ 6.296875 9.71875 5.25 14.71875 \nQ 4.203125 19.734375 4.203125 26.3125 \nQ 4.203125 32.671875 5.25 37.75 \nQ 6.296875 42.828125 8.65625 46.359375 \nQ 11.03125 49.90625 14.8125 51.78125 \nQ 18.609375 53.65625 24.03125 53.65625 \nQ 29.640625 53.65625 33.765625 51.09375 \nQ 37.890625 48.53125 40.140625 43.796875 \nL 40.234375 43.796875 \nQ 40.234375 45.015625 40.296875 46.53125 \nQ 40.375 48.046875 40.453125 49.390625 \nQ 40.53125 50.734375 40.625 51.703125 \nQ 40.71875 52.6875 40.828125 52.828125 \nL 49.171875 52.828125 \nQ 49.125 52.390625 49.078125 51.34375 \nQ 49.03125 50.296875 48.96875 48.828125 \nQ 48.921875 47.359375 48.890625 45.578125 \nQ 48.875 43.796875 48.875 41.890625 \nL 48.875 1.515625 \nQ 48.875 -9.578125 43.421875 -15.15625 \nQ 37.984375 -20.75 26.765625 -20.75 \nz\nM 40.140625 26.421875 \nQ 40.140625 31.9375 38.9375 35.859375 \nQ 37.75 39.796875 35.796875 42.28125 \nQ 33.84375 44.78125 31.328125 45.953125 \nQ 28.8125 47.125 26.171875 47.125 \nQ 22.796875 47.125 20.375 45.953125 \nQ 17.96875 44.78125 16.375 42.265625 \nQ 14.796875 39.75 14.03125 35.8125 \nQ 13.28125 31.890625 13.28125 26.421875 \nQ 13.28125 20.703125 14.03125 16.8125 \nQ 14.796875 12.9375 16.359375 10.546875 \nQ 17.921875 8.15625 20.3125 7.125 \nQ 22.703125 6.109375 26.03125 6.109375 \nQ 28.65625 6.109375 31.171875 7.21875 \nQ 33.6875 8.34375 35.6875 10.78125 \nQ 37.703125 13.234375 38.921875 17.09375 \nQ 40.140625 20.953125 40.140625 26.421875 \nz\n\" id=\"LiberationSans-103\"/>\n      <path d=\"M 6.6875 64.0625 \nL 6.6875 72.46875 \nL 15.484375 72.46875 \nL 15.484375 64.0625 \nz\nM 6.6875 0 \nL 6.6875 52.828125 \nL 15.484375 52.828125 \nL 15.484375 0 \nz\n\" id=\"LiberationSans-105\"/>\n      <path d=\"M 51.421875 26.46875 \nQ 51.421875 12.59375 45.3125 5.796875 \nQ 39.203125 -0.984375 27.59375 -0.984375 \nQ 22.078125 -0.984375 17.71875 0.671875 \nQ 13.375 2.34375 10.375 5.765625 \nQ 7.375 9.1875 5.78125 14.328125 \nQ 4.203125 19.484375 4.203125 26.46875 \nQ 4.203125 53.8125 27.875 53.8125 \nQ 34.03125 53.8125 38.5 52.09375 \nQ 42.96875 50.390625 45.828125 46.96875 \nQ 48.6875 43.5625 50.046875 38.421875 \nQ 51.421875 33.296875 51.421875 26.46875 \nz\nM 42.1875 26.46875 \nQ 42.1875 32.625 41.234375 36.625 \nQ 40.28125 40.625 38.453125 43.015625 \nQ 36.625 45.40625 33.984375 46.359375 \nQ 31.34375 47.3125 28.03125 47.3125 \nQ 24.65625 47.3125 21.9375 46.3125 \nQ 19.234375 45.3125 17.328125 42.890625 \nQ 15.4375 40.484375 14.421875 36.46875 \nQ 13.421875 32.46875 13.421875 26.46875 \nQ 13.421875 20.3125 14.5 16.28125 \nQ 15.578125 12.25 17.453125 9.859375 \nQ 19.34375 7.46875 21.90625 6.484375 \nQ 24.46875 5.515625 27.484375 5.515625 \nQ 30.859375 5.515625 33.59375 6.46875 \nQ 36.328125 7.421875 38.234375 9.8125 \nQ 40.140625 12.203125 41.15625 16.25 \nQ 42.1875 20.3125 42.1875 26.46875 \nz\n\" id=\"LiberationSans-111\"/>\n      <path d=\"M 40.28125 0 \nL 40.28125 33.5 \nQ 40.28125 37.359375 39.71875 39.9375 \nQ 39.15625 42.53125 37.890625 44.109375 \nQ 36.625 45.703125 34.546875 46.359375 \nQ 32.46875 47.015625 29.390625 47.015625 \nQ 26.265625 47.015625 23.75 45.921875 \nQ 21.234375 44.828125 19.453125 42.75 \nQ 17.671875 40.671875 16.6875 37.625 \nQ 15.71875 34.578125 15.71875 30.609375 \nL 15.71875 0 \nL 6.9375 0 \nL 6.9375 41.546875 \nQ 6.9375 43.21875 6.90625 45.046875 \nQ 6.890625 46.875 6.828125 48.5 \nQ 6.78125 50.140625 6.734375 51.3125 \nQ 6.6875 52.484375 6.640625 52.828125 \nL 14.9375 52.828125 \nQ 14.984375 52.59375 15.03125 51.515625 \nQ 15.09375 50.4375 15.15625 49.046875 \nQ 15.234375 47.65625 15.28125 46.21875 \nQ 15.328125 44.78125 15.328125 43.796875 \nL 15.484375 43.796875 \nQ 16.75 46.09375 18.265625 47.953125 \nQ 19.78125 49.8125 21.78125 51.09375 \nQ 23.78125 52.390625 26.359375 53.09375 \nQ 28.953125 53.8125 32.375 53.8125 \nQ 36.765625 53.8125 39.9375 52.734375 \nQ 43.109375 51.65625 45.15625 49.40625 \nQ 47.21875 47.171875 48.171875 43.625 \nQ 49.125 40.09375 49.125 35.203125 \nL 49.125 0 \nz\n\" id=\"LiberationSans-110\"/>\n     </defs>\n     <g style=\"fill:#262626;\" transform=\"translate(106.605 159.12375)rotate(-90)scale(0.1 -0.1)\">\n      <use xlink:href=\"#LiberationSans-82\"/>\n      <use x=\"72.216797\" xlink:href=\"#LiberationSans-101\"/>\n      <use x=\"127.832031\" xlink:href=\"#LiberationSans-103\"/>\n      <use x=\"183.447266\" xlink:href=\"#LiberationSans-105\"/>\n      <use x=\"205.664062\" xlink:href=\"#LiberationSans-111\"/>\n      <use x=\"261.279297\" xlink:href=\"#LiberationSans-110\"/>\n     </g>\n    </g>\n   </g>\n   <g id=\"patch_2\">\n    <path d=\"M 308.376 143.28 \nC 308.376 130.553502 305.582751 117.980735 300.193926 106.451454 \nC 294.805101 94.922172 286.950891 84.714916 277.187124 76.552035 \nC 267.423358 68.389153 255.985921 62.467857 243.684223 59.207186 \nC 231.382524 55.946515 218.513764 55.425245 205.988643 57.680265 \nL 221.4 143.28 \nL 308.376 143.28 \nz\n\" style=\"fill:#1f77b4;\"/>\n   </g>\n   <g id=\"patch_3\">\n    <path d=\"M 205.988643 57.680265 \nC 184.013257 61.636708 164.383808 73.907459 151.200887 91.929157 \nC 138.017965 109.950856 132.268247 132.374668 135.152849 154.51626 \nL 221.4 143.28 \nL 205.988643 57.680265 \nz\n\" style=\"fill:#ff7f0e;\"/>\n   </g>\n   <g id=\"patch_4\">\n    <path d=\"M 135.152849 154.51626 \nC 137.849452 175.21481 147.909174 194.266515 163.481352 208.166476 \nC 179.053529 222.066437 199.120853 229.906588 219.991583 230.244596 \nL 221.4 143.28 \nL 135.152849 154.51626 \nz\n\" style=\"fill:#2ca02c;\"/>\n   </g>\n   <g id=\"patch_5\">\n    <path d=\"M 219.991583 230.244596 \nC 230.819544 230.419958 241.585627 228.571503 251.734996 224.794493 \nC 261.884364 221.017483 271.239621 215.377935 279.318636 208.166487 \nL 221.4 143.28 \nL 219.991583 230.244596 \nz\n\" style=\"fill:#d62728;\"/>\n   </g>\n   <g id=\"patch_6\">\n    <path d=\"M 279.318636 208.166487 \nC 284.227415 203.784838 288.623158 198.860271 292.421436 193.487372 \nC 296.219713 188.114474 299.396049 182.327867 301.889433 176.238698 \nL 221.4 143.28 \nL 279.318636 208.166487 \nz\n\" style=\"fill:#9467bd;\"/>\n   </g>\n   <g id=\"patch_7\">\n    <path d=\"M 301.889433 176.238698 \nC 304.026014 171.020888 305.650167 165.60766 306.738951 160.075475 \nC 307.827735 154.543291 308.375999 148.918318 308.376 143.28001 \nL 221.4 143.28 \nL 301.889433 176.238698 \nz\n\" style=\"fill:#8c564b;\"/>\n   </g>\n   <g id=\"text_2\">\n    <!-- AFRICA -->\n    <defs>\n     <path d=\"M 56.984375 0 \nL 49.125 20.125 \nL 17.78125 20.125 \nL 9.859375 0 \nL 0.203125 0 \nL 28.265625 68.796875 \nL 38.875 68.796875 \nL 66.5 0 \nz\nM 37.5 50.09375 \nQ 36.71875 52.046875 36 54.046875 \nQ 35.296875 56.0625 34.765625 57.6875 \nQ 34.234375 59.328125 33.859375 60.421875 \nQ 33.5 61.53125 33.453125 61.765625 \nQ 33.34375 61.53125 33 60.40625 \nQ 32.671875 59.28125 32.109375 57.609375 \nQ 31.546875 55.953125 30.828125 53.953125 \nQ 30.125 51.953125 29.390625 50 \nL 20.609375 27.390625 \nL 46.34375 27.390625 \nz\n\" id=\"LiberationSans-65\"/>\n     <path d=\"M 17.53125 61.1875 \nL 17.53125 35.59375 \nL 55.90625 35.59375 \nL 55.90625 27.875 \nL 17.53125 27.875 \nL 17.53125 0 \nL 8.203125 0 \nL 8.203125 68.796875 \nL 57.078125 68.796875 \nL 57.078125 61.1875 \nz\n\" id=\"LiberationSans-70\"/>\n     <path d=\"M 9.234375 0 \nL 9.234375 68.796875 \nL 18.5625 68.796875 \nL 18.5625 0 \nz\n\" id=\"LiberationSans-73\"/>\n     <path d=\"M 38.671875 62.203125 \nQ 32.8125 62.203125 28.296875 60.25 \nQ 23.78125 58.296875 20.71875 54.6875 \nQ 17.671875 51.078125 16.109375 46 \nQ 14.546875 40.921875 14.546875 34.71875 \nQ 14.546875 28.515625 16.234375 23.359375 \nQ 17.921875 18.21875 21.0625 14.5 \nQ 24.21875 10.796875 28.78125 8.734375 \nQ 33.34375 6.6875 39.0625 6.6875 \nQ 43.0625 6.6875 46.359375 7.734375 \nQ 49.65625 8.796875 52.3125 10.6875 \nQ 54.984375 12.59375 57.078125 15.203125 \nQ 59.1875 17.828125 60.796875 21 \nL 68.40625 17.1875 \nQ 66.546875 13.328125 63.8125 10 \nQ 61.078125 6.6875 57.390625 4.25 \nQ 53.71875 1.8125 49.046875 0.40625 \nQ 44.390625 -0.984375 38.625 -0.984375 \nQ 30.28125 -0.984375 24 1.671875 \nQ 17.71875 4.34375 13.5 9.109375 \nQ 9.28125 13.875 7.171875 20.40625 \nQ 5.078125 26.953125 5.078125 34.71875 \nQ 5.078125 42.78125 7.296875 49.265625 \nQ 9.515625 55.765625 13.78125 60.328125 \nQ 18.0625 64.890625 24.3125 67.359375 \nQ 30.5625 69.828125 38.578125 69.828125 \nQ 49.5625 69.828125 56.9375 65.53125 \nQ 64.3125 61.234375 67.78125 52.78125 \nL 58.9375 49.859375 \nQ 57.953125 52.296875 56.296875 54.515625 \nQ 54.640625 56.734375 52.140625 58.4375 \nQ 49.65625 60.15625 46.3125 61.171875 \nQ 42.96875 62.203125 38.671875 62.203125 \nz\n\" id=\"LiberationSans-67\"/>\n    </defs>\n    <g style=\"fill:#262626;\" transform=\"translate(282.765836 72.465176)scale(0.1 -0.1)\">\n     <use xlink:href=\"#LiberationSans-65\"/>\n     <use x=\"66.699219\" xlink:href=\"#LiberationSans-70\"/>\n     <use x=\"127.783203\" xlink:href=\"#LiberationSans-82\"/>\n     <use x=\"200\" xlink:href=\"#LiberationSans-73\"/>\n     <use x=\"227.783203\" xlink:href=\"#LiberationSans-67\"/>\n     <use x=\"300\" xlink:href=\"#LiberationSans-65\"/>\n    </g>\n   </g>\n   <g id=\"text_3\">\n    <!-- EUROPE -->\n    <defs>\n     <path d=\"M 8.203125 0 \nL 8.203125 68.796875 \nL 60.40625 68.796875 \nL 60.40625 61.1875 \nL 17.53125 61.1875 \nL 17.53125 39.109375 \nL 57.46875 39.109375 \nL 57.46875 31.59375 \nL 17.53125 31.59375 \nL 17.53125 7.625 \nL 62.40625 7.625 \nL 62.40625 0 \nz\n\" id=\"LiberationSans-69\"/>\n     <path d=\"M 35.6875 -0.984375 \nQ 30.03125 -0.984375 24.953125 0.53125 \nQ 19.875 2.046875 16.03125 5.25 \nQ 12.203125 8.453125 9.953125 13.359375 \nQ 7.71875 18.265625 7.71875 25 \nL 7.71875 68.796875 \nL 17.046875 68.796875 \nL 17.046875 25.78125 \nQ 17.046875 20.5625 18.4375 16.921875 \nQ 19.828125 13.28125 22.3125 10.984375 \nQ 24.8125 8.6875 28.203125 7.640625 \nQ 31.59375 6.59375 35.640625 6.59375 \nQ 39.65625 6.59375 43.21875 7.65625 \nQ 46.78125 8.734375 49.46875 11.078125 \nQ 52.15625 13.421875 53.6875 17.203125 \nQ 55.21875 21 55.21875 26.421875 \nL 55.21875 68.796875 \nL 64.5 68.796875 \nL 64.5 25.875 \nQ 64.5 19 62.234375 13.9375 \nQ 59.96875 8.890625 56.0625 5.5625 \nQ 52.15625 2.25 46.90625 0.625 \nQ 41.65625 -0.984375 35.6875 -0.984375 \nz\n\" id=\"LiberationSans-85\"/>\n     <path d=\"M 73 34.71875 \nQ 73 26.65625 70.671875 20.0625 \nQ 68.359375 13.484375 63.96875 8.796875 \nQ 59.578125 4.109375 53.21875 1.5625 \nQ 46.875 -0.984375 38.8125 -0.984375 \nQ 30.328125 -0.984375 23.921875 1.671875 \nQ 17.53125 4.34375 13.28125 9.109375 \nQ 9.03125 13.875 6.875 20.40625 \nQ 4.734375 26.953125 4.734375 34.71875 \nQ 4.734375 42.78125 6.984375 49.265625 \nQ 9.234375 55.765625 13.578125 60.328125 \nQ 17.921875 64.890625 24.296875 67.359375 \nQ 30.671875 69.828125 38.921875 69.828125 \nQ 47.125 69.828125 53.484375 67.328125 \nQ 59.859375 64.84375 64.171875 60.25 \nQ 68.5 55.671875 70.75 49.171875 \nQ 73 42.671875 73 34.71875 \nz\nM 63.484375 34.71875 \nQ 63.484375 40.921875 61.890625 46 \nQ 60.296875 51.078125 57.203125 54.6875 \nQ 54.109375 58.296875 49.515625 60.25 \nQ 44.921875 62.203125 38.921875 62.203125 \nQ 32.765625 62.203125 28.125 60.25 \nQ 23.484375 58.296875 20.375 54.6875 \nQ 17.28125 51.078125 15.734375 46 \nQ 14.203125 40.921875 14.203125 34.71875 \nQ 14.203125 28.515625 15.796875 23.359375 \nQ 17.390625 18.21875 20.484375 14.484375 \nQ 23.578125 10.75 28.1875 8.671875 \nQ 32.8125 6.59375 38.8125 6.59375 \nQ 45.265625 6.59375 49.921875 8.6875 \nQ 54.59375 10.796875 57.59375 14.53125 \nQ 60.59375 18.265625 62.03125 23.4375 \nQ 63.484375 28.609375 63.484375 34.71875 \nz\n\" id=\"LiberationSans-79\"/>\n     <path d=\"M 61.421875 48.09375 \nQ 61.421875 43.609375 59.9375 39.71875 \nQ 58.453125 35.84375 55.5 32.984375 \nQ 52.546875 30.125 48.09375 28.46875 \nQ 43.65625 26.8125 37.75 26.8125 \nL 17.53125 26.8125 \nL 17.53125 0 \nL 8.203125 0 \nL 8.203125 68.796875 \nL 37.15625 68.796875 \nQ 43.265625 68.796875 47.796875 67.3125 \nQ 52.34375 65.828125 55.375 63.109375 \nQ 58.40625 60.40625 59.90625 56.5625 \nQ 61.421875 52.734375 61.421875 48.09375 \nz\nM 52.046875 48 \nQ 52.046875 54.546875 48.046875 57.9375 \nQ 44.046875 61.328125 36.03125 61.328125 \nL 17.53125 61.328125 \nL 17.53125 34.1875 \nL 36.421875 34.1875 \nQ 44.484375 34.1875 48.265625 37.75 \nQ 52.046875 41.3125 52.046875 48 \nz\n\" id=\"LiberationSans-80\"/>\n    </defs>\n    <g style=\"fill:#262626;\" transform=\"translate(101.948163 89.380011)scale(0.1 -0.1)\">\n     <use xlink:href=\"#LiberationSans-69\"/>\n     <use x=\"66.699219\" xlink:href=\"#LiberationSans-85\"/>\n     <use x=\"138.916016\" xlink:href=\"#LiberationSans-82\"/>\n     <use x=\"211.132812\" xlink:href=\"#LiberationSans-79\"/>\n     <use x=\"288.916016\" xlink:href=\"#LiberationSans-80\"/>\n     <use x=\"355.615234\" xlink:href=\"#LiberationSans-69\"/>\n    </g>\n   </g>\n   <g id=\"text_4\">\n    <!-- ASIA -->\n    <defs>\n     <path d=\"M 62.109375 19 \nQ 62.109375 14.65625 60.421875 10.984375 \nQ 58.734375 7.328125 55.21875 4.65625 \nQ 51.703125 2 46.359375 0.5 \nQ 41.015625 -0.984375 33.6875 -0.984375 \nQ 20.84375 -0.984375 13.671875 3.515625 \nQ 6.5 8.015625 4.546875 16.5 \nL 13.578125 18.3125 \nQ 14.265625 15.625 15.671875 13.421875 \nQ 17.09375 11.234375 19.5 9.640625 \nQ 21.921875 8.0625 25.484375 7.171875 \nQ 29.046875 6.296875 34.03125 6.296875 \nQ 38.1875 6.296875 41.65625 7 \nQ 45.125 7.71875 47.609375 9.171875 \nQ 50.09375 10.640625 51.484375 12.953125 \nQ 52.875 15.28125 52.875 18.5 \nQ 52.875 21.875 51.34375 23.96875 \nQ 49.8125 26.078125 47.015625 27.4375 \nQ 44.234375 28.8125 40.375 29.734375 \nQ 36.53125 30.671875 31.84375 31.734375 \nQ 28.953125 32.375 26.046875 33.125 \nQ 23.140625 33.890625 20.484375 34.9375 \nQ 17.828125 35.984375 15.484375 37.390625 \nQ 13.140625 38.8125 11.421875 40.796875 \nQ 9.71875 42.78125 8.734375 45.390625 \nQ 7.765625 48 7.765625 51.421875 \nQ 7.765625 56.296875 9.734375 59.78125 \nQ 11.71875 63.28125 15.234375 65.53125 \nQ 18.75 67.78125 23.53125 68.796875 \nQ 28.328125 69.828125 33.890625 69.828125 \nQ 40.28125 69.828125 44.8125 68.828125 \nQ 49.359375 67.828125 52.484375 65.8125 \nQ 55.609375 63.8125 57.484375 60.859375 \nQ 59.375 57.90625 60.5 54 \nL 51.3125 52.390625 \nQ 50.640625 54.890625 49.34375 56.84375 \nQ 48.046875 58.796875 45.9375 60.109375 \nQ 43.84375 61.421875 40.84375 62.109375 \nQ 37.84375 62.796875 33.796875 62.796875 \nQ 29 62.796875 25.75 61.9375 \nQ 22.515625 61.078125 20.53125 59.609375 \nQ 18.5625 58.15625 17.703125 56.171875 \nQ 16.84375 54.203125 16.84375 51.90625 \nQ 16.84375 48.828125 18.375 46.84375 \nQ 19.921875 44.875 22.5625 43.546875 \nQ 25.203125 42.234375 28.65625 41.359375 \nQ 32.125 40.484375 36.03125 39.59375 \nQ 39.203125 38.875 42.359375 38.109375 \nQ 45.515625 37.359375 48.390625 36.296875 \nQ 51.265625 35.25 53.78125 33.828125 \nQ 56.296875 32.421875 58.15625 30.375 \nQ 60.015625 28.328125 61.0625 25.53125 \nQ 62.109375 22.75 62.109375 19 \nz\n\" id=\"LiberationSans-83\"/>\n    </defs>\n    <g style=\"fill:#262626;\" transform=\"translate(134.900424 217.241061)scale(0.1 -0.1)\">\n     <use xlink:href=\"#LiberationSans-65\"/>\n     <use x=\"66.699219\" xlink:href=\"#LiberationSans-83\"/>\n     <use x=\"133.398438\" xlink:href=\"#LiberationSans-73\"/>\n     <use x=\"161.181641\" xlink:href=\"#LiberationSans-65\"/>\n    </g>\n   </g>\n   <g id=\"text_5\">\n    <!-- NORTH AMERICA -->\n    <defs>\n     <path d=\"M 52.828125 0 \nL 16.015625 58.59375 \nQ 16.109375 56.203125 16.265625 53.859375 \nQ 16.359375 51.859375 16.421875 49.625 \nQ 16.5 47.40625 16.5 45.703125 \nL 16.5 0 \nL 8.203125 0 \nL 8.203125 68.796875 \nL 19.046875 68.796875 \nL 56.25 9.8125 \nQ 56.109375 12.203125 55.953125 14.59375 \nQ 55.859375 16.65625 55.765625 19.0625 \nQ 55.671875 21.484375 55.671875 23.6875 \nL 55.671875 68.796875 \nL 64.0625 68.796875 \nL 64.0625 0 \nz\n\" id=\"LiberationSans-78\"/>\n     <path d=\"M 35.15625 61.1875 \nL 35.15625 0 \nL 25.875 0 \nL 25.875 61.1875 \nL 2.25 61.1875 \nL 2.25 68.796875 \nL 58.796875 68.796875 \nL 58.796875 61.1875 \nz\n\" id=\"LiberationSans-84\"/>\n     <path d=\"M 54.734375 0 \nL 54.734375 31.890625 \nL 17.53125 31.890625 \nL 17.53125 0 \nL 8.203125 0 \nL 8.203125 68.796875 \nL 17.53125 68.796875 \nL 17.53125 39.703125 \nL 54.734375 39.703125 \nL 54.734375 68.796875 \nL 64.0625 68.796875 \nL 64.0625 0 \nz\n\" id=\"LiberationSans-72\"/>\n     <path id=\"LiberationSans-32\"/>\n     <path d=\"M 66.703125 0 \nL 66.703125 45.90625 \nQ 66.703125 48.390625 66.75 50.96875 \nQ 66.796875 53.5625 66.890625 55.71875 \nQ 67 58.203125 67.140625 60.546875 \nQ 66.453125 58.0625 65.71875 55.609375 \nQ 65.09375 53.515625 64.328125 51.140625 \nQ 63.578125 48.78125 62.84375 46.875 \nL 45.0625 0 \nL 38.53125 0 \nL 20.515625 46.875 \nQ 20.21875 47.609375 19.890625 48.578125 \nQ 19.578125 49.5625 19.203125 50.65625 \nQ 18.84375 51.765625 18.46875 52.90625 \nQ 18.109375 54.046875 17.78125 55.171875 \nQ 16.9375 57.765625 16.15625 60.546875 \nQ 16.21875 57.8125 16.3125 55.125 \nQ 16.40625 52.828125 16.453125 50.3125 \nQ 16.5 47.796875 16.5 45.90625 \nL 16.5 0 \nL 8.203125 0 \nL 8.203125 68.796875 \nL 20.453125 68.796875 \nL 38.765625 21.09375 \nQ 39.109375 20.125 39.59375 18.578125 \nQ 40.09375 17.046875 40.53125 15.421875 \nQ 40.96875 13.8125 41.328125 12.375 \nQ 41.703125 10.9375 41.84375 10.15625 \nQ 42 10.9375 42.390625 12.40625 \nQ 42.78125 13.875 43.28125 15.484375 \nQ 43.796875 17.09375 44.28125 18.609375 \nQ 44.78125 20.125 45.171875 21.09375 \nL 63.140625 68.796875 \nL 75.09375 68.796875 \nL 75.09375 0 \nz\n\" id=\"LiberationSans-77\"/>\n    </defs>\n    <g style=\"fill:#262626;\" transform=\"translate(254.768495 235.53188)scale(0.1 -0.1)\">\n     <use xlink:href=\"#LiberationSans-78\"/>\n     <use x=\"72.216797\" xlink:href=\"#LiberationSans-79\"/>\n     <use x=\"150\" xlink:href=\"#LiberationSans-82\"/>\n     <use x=\"220.466797\" xlink:href=\"#LiberationSans-84\"/>\n     <use x=\"281.550781\" xlink:href=\"#LiberationSans-72\"/>\n     <use x=\"353.767578\" xlink:href=\"#LiberationSans-32\"/>\n     <use x=\"376.050781\" xlink:href=\"#LiberationSans-65\"/>\n     <use x=\"442.75\" xlink:href=\"#LiberationSans-77\"/>\n     <use x=\"526.050781\" xlink:href=\"#LiberationSans-69\"/>\n     <use x=\"592.75\" xlink:href=\"#LiberationSans-82\"/>\n     <use x=\"664.966797\" xlink:href=\"#LiberationSans-73\"/>\n     <use x=\"692.75\" xlink:href=\"#LiberationSans-67\"/>\n     <use x=\"764.966797\" xlink:href=\"#LiberationSans-65\"/>\n    </g>\n   </g>\n   <g id=\"text_6\">\n    <!-- OCEANIA -->\n    <g style=\"fill:#262626;\" transform=\"translate(299.523579 201.094047)scale(0.1 -0.1)\">\n     <use xlink:href=\"#LiberationSans-79\"/>\n     <use x=\"77.783203\" xlink:href=\"#LiberationSans-67\"/>\n     <use x=\"150\" xlink:href=\"#LiberationSans-69\"/>\n     <use x=\"216.699219\" xlink:href=\"#LiberationSans-65\"/>\n     <use x=\"283.398438\" xlink:href=\"#LiberationSans-78\"/>\n     <use x=\"355.615234\" xlink:href=\"#LiberationSans-73\"/>\n     <use x=\"383.398438\" xlink:href=\"#LiberationSans-65\"/>\n    </g>\n   </g>\n   <g id=\"text_7\">\n    <!-- SOUTH AMERICA -->\n    <g style=\"fill:#262626;\" transform=\"translate(315.272846 164.34096)scale(0.1 -0.1)\">\n     <use xlink:href=\"#LiberationSans-83\"/>\n     <use x=\"66.699219\" xlink:href=\"#LiberationSans-79\"/>\n     <use x=\"144.482422\" xlink:href=\"#LiberationSans-85\"/>\n     <use x=\"216.699219\" xlink:href=\"#LiberationSans-84\"/>\n     <use x=\"277.783203\" xlink:href=\"#LiberationSans-72\"/>\n     <use x=\"350\" xlink:href=\"#LiberationSans-32\"/>\n     <use x=\"372.283203\" xlink:href=\"#LiberationSans-65\"/>\n     <use x=\"438.982422\" xlink:href=\"#LiberationSans-77\"/>\n     <use x=\"522.283203\" xlink:href=\"#LiberationSans-69\"/>\n     <use x=\"588.982422\" xlink:href=\"#LiberationSans-82\"/>\n     <use x=\"661.199219\" xlink:href=\"#LiberationSans-73\"/>\n     <use x=\"688.982422\" xlink:href=\"#LiberationSans-67\"/>\n     <use x=\"761.199219\" xlink:href=\"#LiberationSans-65\"/>\n    </g>\n   </g>\n  </g>\n </g>\n</svg>\n"
          },
          "metadata": {
            "tags": []
          }
        }
      ]
    },
    {
      "cell_type": "code",
      "metadata": {
        "id": "pNVycqxwmjck",
        "colab_type": "code",
        "colab": {
          "base_uri": "https://localhost:8080/",
          "height": 326
        },
        "outputId": "8212ddad-c689-4576-ce02-2fd935f34074"
      },
      "source": [
        "# change figsize\n",
        "c.Region.value_counts().plot(kind='barh', color=\"yellow\", figsize=(10,3)) # figure size at 10x3 inches"
      ],
      "execution_count": 41,
      "outputs": [
        {
          "output_type": "execute_result",
          "data": {
            "text/plain": [
              "<matplotlib.axes._subplots.AxesSubplot at 0x7f7ff265b0f0>"
            ]
          },
          "metadata": {
            "tags": []
          },
          "execution_count": 41
        },
        {
          "output_type": "display_data",
          "data": {
            "application/pdf": "[encoded data removed]",
            "text/plain": [
              "<Figure size 720x216 with 1 Axes>"
            ],
            "image/svg+xml": "<?xml version=\"1.0\" encoding=\"utf-8\" standalone=\"no\"?>\n<!DOCTYPE svg PUBLIC \"-//W3C//DTD SVG 1.1//EN\"\n  \"http://www.w3.org/Graphics/SVG/1.1/DTD/svg11.dtd\">\n<!-- Created with matplotlib (https://matplotlib.org/) -->\n<svg height=\"216pt\" version=\"1.1\" viewBox=\"0 0 720 216\" width=\"720pt\" xmlns=\"http://www.w3.org/2000/svg\" xmlns:xlink=\"http://www.w3.org/1999/xlink\">\n <defs>\n  <style type=\"text/css\">\n*{stroke-linecap:butt;stroke-linejoin:round;}\n  </style>\n </defs>\n <g id=\"figure_1\">\n  <g id=\"patch_1\">\n   <path d=\"M 0 216 \nL 720 216 \nL 720 0 \nL 0 0 \nz\n\" style=\"fill:#ffffff;\"/>\n  </g>\n  <g id=\"axes_1\">\n   <g id=\"patch_2\">\n    <path d=\"M 90 189 \nL 648 189 \nL 648 25.92 \nL 90 25.92 \nz\n\" style=\"fill:#ffffff;\"/>\n   </g>\n   <g id=\"matplotlib.axis_1\">\n    <g id=\"xtick_1\">\n     <g id=\"line2d_1\">\n      <path clip-path=\"url(#p38ec894e66)\" d=\"M 90 189 \nL 90 25.92 \n\" style=\"fill:none;stroke:#cccccc;stroke-linecap:round;stroke-width:0.8;\"/>\n     </g>\n     <g id=\"line2d_2\"/>\n     <g id=\"text_1\">\n      <!-- 0 -->\n      <defs>\n       <path d=\"M 51.703125 34.421875 \nQ 51.703125 24.515625 49.828125 17.75 \nQ 47.953125 10.984375 44.703125 6.8125 \nQ 41.453125 2.640625 37.0625 0.828125 \nQ 32.671875 -0.984375 27.6875 -0.984375 \nQ 22.65625 -0.984375 18.3125 0.828125 \nQ 13.96875 2.640625 10.765625 6.78125 \nQ 7.5625 10.9375 5.734375 17.703125 \nQ 3.90625 24.46875 3.90625 34.421875 \nQ 3.90625 44.828125 5.734375 51.640625 \nQ 7.5625 58.453125 10.78125 62.5 \nQ 14.015625 66.546875 18.40625 68.1875 \nQ 22.796875 69.828125 27.984375 69.828125 \nQ 32.90625 69.828125 37.21875 68.1875 \nQ 41.546875 66.546875 44.765625 62.5 \nQ 48 58.453125 49.84375 51.640625 \nQ 51.703125 44.828125 51.703125 34.421875 \nz\nM 42.78125 34.421875 \nQ 42.78125 42.625 41.796875 48.0625 \nQ 40.828125 53.515625 38.921875 56.765625 \nQ 37.015625 60.015625 34.25 61.359375 \nQ 31.5 62.703125 27.984375 62.703125 \nQ 24.265625 62.703125 21.4375 61.328125 \nQ 18.609375 59.96875 16.671875 56.71875 \nQ 14.75 53.46875 13.765625 48.015625 \nQ 12.796875 42.578125 12.796875 34.421875 \nQ 12.796875 26.515625 13.796875 21.09375 \nQ 14.796875 15.671875 16.71875 12.375 \nQ 18.65625 9.078125 21.4375 7.640625 \nQ 24.21875 6.203125 27.78125 6.203125 \nQ 31.25 6.203125 34.03125 7.640625 \nQ 36.8125 9.078125 38.734375 12.375 \nQ 40.671875 15.671875 41.71875 21.09375 \nQ 42.78125 26.515625 42.78125 34.421875 \nz\n\" id=\"LiberationSans-48\"/>\n      </defs>\n      <g style=\"fill:#262626;\" transform=\"translate(87.219531 199.746875)scale(0.1 -0.1)\">\n       <use xlink:href=\"#LiberationSans-48\"/>\n      </g>\n     </g>\n    </g>\n    <g id=\"xtick_2\">\n     <g id=\"line2d_3\">\n      <path clip-path=\"url(#p38ec894e66)\" d=\"M 188.412698 189 \nL 188.412698 25.92 \n\" style=\"fill:none;stroke:#cccccc;stroke-linecap:round;stroke-width:0.8;\"/>\n     </g>\n     <g id=\"line2d_4\"/>\n     <g id=\"text_2\">\n      <!-- 10 -->\n      <defs>\n       <path d=\"M 7.625 0 \nL 7.625 7.46875 \nL 25.140625 7.46875 \nL 25.140625 60.40625 \nL 9.625 49.3125 \nL 9.625 57.625 \nL 25.875 68.796875 \nL 33.984375 68.796875 \nL 33.984375 7.46875 \nL 50.734375 7.46875 \nL 50.734375 0 \nz\n\" id=\"LiberationSans-49\"/>\n      </defs>\n      <g style=\"fill:#262626;\" transform=\"translate(182.851761 199.746875)scale(0.1 -0.1)\">\n       <use xlink:href=\"#LiberationSans-49\"/>\n       <use x=\"55.615234\" xlink:href=\"#LiberationSans-48\"/>\n      </g>\n     </g>\n    </g>\n    <g id=\"xtick_3\">\n     <g id=\"line2d_5\">\n      <path clip-path=\"url(#p38ec894e66)\" d=\"M 286.825397 189 \nL 286.825397 25.92 \n\" style=\"fill:none;stroke:#cccccc;stroke-linecap:round;stroke-width:0.8;\"/>\n     </g>\n     <g id=\"line2d_6\"/>\n     <g id=\"text_3\">\n      <!-- 20 -->\n      <defs>\n       <path d=\"M 5.03125 0 \nL 5.03125 6.203125 \nQ 7.515625 11.921875 11.109375 16.28125 \nQ 14.703125 20.65625 18.65625 24.1875 \nQ 22.609375 27.734375 26.484375 30.765625 \nQ 30.375 33.796875 33.5 36.8125 \nQ 36.625 39.84375 38.546875 43.15625 \nQ 40.484375 46.484375 40.484375 50.6875 \nQ 40.484375 53.609375 39.59375 55.828125 \nQ 38.71875 58.0625 37.0625 59.5625 \nQ 35.40625 61.078125 33.078125 61.828125 \nQ 30.765625 62.59375 27.9375 62.59375 \nQ 25.296875 62.59375 22.96875 61.859375 \nQ 20.65625 61.140625 18.84375 59.671875 \nQ 17.046875 58.203125 15.890625 56.03125 \nQ 14.75 53.859375 14.40625 50.984375 \nL 5.421875 51.8125 \nQ 5.859375 55.515625 7.46875 58.78125 \nQ 9.078125 62.0625 11.90625 64.53125 \nQ 14.75 67 18.71875 68.40625 \nQ 22.703125 69.828125 27.9375 69.828125 \nQ 33.0625 69.828125 37.0625 68.609375 \nQ 41.0625 67.390625 43.8125 64.984375 \nQ 46.578125 62.59375 48.046875 59.078125 \nQ 49.515625 55.5625 49.515625 50.984375 \nQ 49.515625 47.515625 48.265625 44.390625 \nQ 47.015625 41.265625 44.9375 38.421875 \nQ 42.875 35.59375 40.140625 32.953125 \nQ 37.40625 30.328125 34.421875 27.8125 \nQ 31.453125 25.296875 28.421875 22.828125 \nQ 25.390625 20.359375 22.71875 17.859375 \nQ 20.0625 15.375 17.96875 12.8125 \nQ 15.875 10.25 14.703125 7.46875 \nL 50.59375 7.46875 \nL 50.59375 0 \nz\n\" id=\"LiberationSans-50\"/>\n      </defs>\n      <g style=\"fill:#262626;\" transform=\"translate(281.264459 199.746875)scale(0.1 -0.1)\">\n       <use xlink:href=\"#LiberationSans-50\"/>\n       <use x=\"55.615234\" xlink:href=\"#LiberationSans-48\"/>\n      </g>\n     </g>\n    </g>\n    <g id=\"xtick_4\">\n     <g id=\"line2d_7\">\n      <path clip-path=\"url(#p38ec894e66)\" d=\"M 385.238095 189 \nL 385.238095 25.92 \n\" style=\"fill:none;stroke:#cccccc;stroke-linecap:round;stroke-width:0.8;\"/>\n     </g>\n     <g id=\"line2d_8\"/>\n     <g id=\"text_4\">\n      <!-- 30 -->\n      <defs>\n       <path d=\"M 51.21875 19 \nQ 51.21875 14.265625 49.671875 10.546875 \nQ 48.140625 6.84375 45.1875 4.265625 \nQ 42.234375 1.703125 37.859375 0.359375 \nQ 33.5 -0.984375 27.875 -0.984375 \nQ 21.484375 -0.984375 17.109375 0.609375 \nQ 12.75 2.203125 9.90625 4.8125 \nQ 7.078125 7.421875 5.65625 10.765625 \nQ 4.25 14.109375 3.8125 17.671875 \nL 12.890625 18.5 \nQ 13.28125 15.765625 14.328125 13.515625 \nQ 15.375 11.28125 17.1875 9.671875 \nQ 19 8.0625 21.625 7.171875 \nQ 24.265625 6.296875 27.875 6.296875 \nQ 34.515625 6.296875 38.296875 9.5625 \nQ 42.09375 12.84375 42.09375 19.28125 \nQ 42.09375 23.09375 40.40625 25.40625 \nQ 38.71875 27.734375 36.203125 29.03125 \nQ 33.6875 30.328125 30.734375 30.765625 \nQ 27.78125 31.203125 25.296875 31.203125 \nL 20.3125 31.203125 \nL 20.3125 38.8125 \nL 25.09375 38.8125 \nQ 27.59375 38.8125 30.265625 39.328125 \nQ 32.953125 39.84375 35.171875 41.1875 \nQ 37.40625 42.53125 38.84375 44.828125 \nQ 40.28125 47.125 40.28125 50.6875 \nQ 40.28125 56.203125 37.03125 59.390625 \nQ 33.796875 62.59375 27.390625 62.59375 \nQ 21.578125 62.59375 17.984375 59.609375 \nQ 14.40625 56.640625 13.8125 51.21875 \nL 4.984375 51.90625 \nQ 5.515625 56.453125 7.46875 59.8125 \nQ 9.421875 63.1875 12.421875 65.40625 \nQ 15.4375 67.625 19.28125 68.71875 \nQ 23.140625 69.828125 27.484375 69.828125 \nQ 33.25 69.828125 37.390625 68.375 \nQ 41.546875 66.9375 44.1875 64.46875 \nQ 46.828125 62.015625 48.0625 58.6875 \nQ 49.3125 55.375 49.3125 51.609375 \nQ 49.3125 48.578125 48.484375 45.9375 \nQ 47.65625 43.3125 45.890625 41.203125 \nQ 44.140625 39.109375 41.421875 37.59375 \nQ 38.71875 36.078125 34.90625 35.296875 \nL 34.90625 35.109375 \nQ 39.0625 34.671875 42.140625 33.21875 \nQ 45.21875 31.78125 47.21875 29.625 \nQ 49.21875 27.484375 50.21875 24.75 \nQ 51.21875 22.015625 51.21875 19 \nz\n\" id=\"LiberationSans-51\"/>\n      </defs>\n      <g style=\"fill:#262626;\" transform=\"translate(379.677158 199.746875)scale(0.1 -0.1)\">\n       <use xlink:href=\"#LiberationSans-51\"/>\n       <use x=\"55.615234\" xlink:href=\"#LiberationSans-48\"/>\n      </g>\n     </g>\n    </g>\n    <g id=\"xtick_5\">\n     <g id=\"line2d_9\">\n      <path clip-path=\"url(#p38ec894e66)\" d=\"M 483.650794 189 \nL 483.650794 25.92 \n\" style=\"fill:none;stroke:#cccccc;stroke-linecap:round;stroke-width:0.8;\"/>\n     </g>\n     <g id=\"line2d_10\"/>\n     <g id=\"text_5\">\n      <!-- 40 -->\n      <defs>\n       <path d=\"M 43.015625 15.578125 \nL 43.015625 0 \nL 34.71875 0 \nL 34.71875 15.578125 \nL 2.296875 15.578125 \nL 2.296875 22.40625 \nL 33.796875 68.796875 \nL 43.015625 68.796875 \nL 43.015625 22.515625 \nL 52.6875 22.515625 \nL 52.6875 15.578125 \nz\nM 34.71875 58.890625 \nQ 34.625 58.640625 34.234375 57.9375 \nQ 33.84375 57.234375 33.34375 56.34375 \nQ 32.859375 55.46875 32.34375 54.5625 \nQ 31.84375 53.65625 31.453125 53.078125 \nL 13.8125 27.09375 \nQ 13.578125 26.703125 13.109375 26.0625 \nQ 12.640625 25.4375 12.15625 24.78125 \nQ 11.671875 24.125 11.171875 23.484375 \nQ 10.6875 22.859375 10.40625 22.515625 \nL 34.71875 22.515625 \nz\n\" id=\"LiberationSans-52\"/>\n      </defs>\n      <g style=\"fill:#262626;\" transform=\"translate(478.089856 199.746875)scale(0.1 -0.1)\">\n       <use xlink:href=\"#LiberationSans-52\"/>\n       <use x=\"55.615234\" xlink:href=\"#LiberationSans-48\"/>\n      </g>\n     </g>\n    </g>\n    <g id=\"xtick_6\">\n     <g id=\"line2d_11\">\n      <path clip-path=\"url(#p38ec894e66)\" d=\"M 582.063492 189 \nL 582.063492 25.92 \n\" style=\"fill:none;stroke:#cccccc;stroke-linecap:round;stroke-width:0.8;\"/>\n     </g>\n     <g id=\"line2d_12\"/>\n     <g id=\"text_6\">\n      <!-- 50 -->\n      <defs>\n       <path d=\"M 51.421875 22.40625 \nQ 51.421875 17.234375 49.859375 12.9375 \nQ 48.296875 8.640625 45.21875 5.53125 \nQ 42.140625 2.4375 37.578125 0.71875 \nQ 33.015625 -0.984375 27 -0.984375 \nQ 21.578125 -0.984375 17.546875 0.28125 \nQ 13.53125 1.5625 10.734375 3.78125 \nQ 7.953125 6 6.3125 8.984375 \nQ 4.6875 11.96875 4 15.375 \nL 12.890625 16.40625 \nQ 13.421875 14.453125 14.390625 12.625 \nQ 15.375 10.796875 17.0625 9.34375 \nQ 18.75 7.90625 21.21875 7.046875 \nQ 23.6875 6.203125 27.203125 6.203125 \nQ 30.609375 6.203125 33.390625 7.25 \nQ 36.1875 8.296875 38.15625 10.34375 \nQ 40.140625 12.40625 41.203125 15.375 \nQ 42.28125 18.359375 42.28125 22.21875 \nQ 42.28125 25.390625 41.25 28.046875 \nQ 40.234375 30.71875 38.328125 32.640625 \nQ 36.421875 34.578125 33.65625 35.640625 \nQ 30.90625 36.71875 27.390625 36.71875 \nQ 25.203125 36.71875 23.34375 36.328125 \nQ 21.484375 35.9375 19.890625 35.25 \nQ 18.3125 34.578125 17.015625 33.671875 \nQ 15.71875 32.765625 14.59375 31.78125 \nL 6 31.78125 \nL 8.296875 68.796875 \nL 47.40625 68.796875 \nL 47.40625 61.328125 \nL 16.3125 61.328125 \nL 14.984375 39.5 \nQ 17.328125 41.3125 20.84375 42.59375 \nQ 24.359375 43.890625 29.203125 43.890625 \nQ 34.328125 43.890625 38.421875 42.328125 \nQ 42.53125 40.765625 45.40625 37.90625 \nQ 48.296875 35.0625 49.859375 31.109375 \nQ 51.421875 27.15625 51.421875 22.40625 \nz\n\" id=\"LiberationSans-53\"/>\n      </defs>\n      <g style=\"fill:#262626;\" transform=\"translate(576.502555 199.746875)scale(0.1 -0.1)\">\n       <use xlink:href=\"#LiberationSans-53\"/>\n       <use x=\"55.615234\" xlink:href=\"#LiberationSans-48\"/>\n      </g>\n     </g>\n    </g>\n   </g>\n   <g id=\"matplotlib.axis_2\">\n    <g id=\"ytick_1\">\n     <g id=\"line2d_13\">\n      <path clip-path=\"url(#p38ec894e66)\" d=\"M 90 175.41 \nL 648 175.41 \n\" style=\"fill:none;stroke:#cccccc;stroke-linecap:round;stroke-width:0.8;\"/>\n     </g>\n     <g id=\"line2d_14\"/>\n     <g id=\"text_7\">\n      <!-- AFRICA -->\n      <defs>\n       <path d=\"M 56.984375 0 \nL 49.125 20.125 \nL 17.78125 20.125 \nL 9.859375 0 \nL 0.203125 0 \nL 28.265625 68.796875 \nL 38.875 68.796875 \nL 66.5 0 \nz\nM 37.5 50.09375 \nQ 36.71875 52.046875 36 54.046875 \nQ 35.296875 56.0625 34.765625 57.6875 \nQ 34.234375 59.328125 33.859375 60.421875 \nQ 33.5 61.53125 33.453125 61.765625 \nQ 33.34375 61.53125 33 60.40625 \nQ 32.671875 59.28125 32.109375 57.609375 \nQ 31.546875 55.953125 30.828125 53.953125 \nQ 30.125 51.953125 29.390625 50 \nL 20.609375 27.390625 \nL 46.34375 27.390625 \nz\n\" id=\"LiberationSans-65\"/>\n       <path d=\"M 17.53125 61.1875 \nL 17.53125 35.59375 \nL 55.90625 35.59375 \nL 55.90625 27.875 \nL 17.53125 27.875 \nL 17.53125 0 \nL 8.203125 0 \nL 8.203125 68.796875 \nL 57.078125 68.796875 \nL 57.078125 61.1875 \nz\n\" id=\"LiberationSans-70\"/>\n       <path d=\"M 56.84375 0 \nL 38.96875 28.5625 \nL 17.53125 28.5625 \nL 17.53125 0 \nL 8.203125 0 \nL 8.203125 68.796875 \nL 40.578125 68.796875 \nQ 46.4375 68.796875 50.953125 67.453125 \nQ 55.46875 66.109375 58.546875 63.5625 \nQ 61.625 61.03125 63.234375 57.375 \nQ 64.84375 53.71875 64.84375 49.125 \nQ 64.84375 45.84375 63.890625 42.671875 \nQ 62.9375 39.5 60.890625 36.859375 \nQ 58.84375 34.234375 55.65625 32.328125 \nQ 52.484375 30.421875 48.046875 29.640625 \nL 67.578125 0 \nz\nM 55.46875 49.03125 \nQ 55.46875 52.15625 54.390625 54.4375 \nQ 53.328125 56.734375 51.265625 58.265625 \nQ 49.21875 59.8125 46.28125 60.5625 \nQ 43.359375 61.328125 39.65625 61.328125 \nL 17.53125 61.328125 \nL 17.53125 35.9375 \nL 40.046875 35.9375 \nQ 44.046875 35.9375 46.96875 36.9375 \nQ 49.90625 37.9375 51.78125 39.6875 \nQ 53.65625 41.453125 54.5625 43.84375 \nQ 55.46875 46.234375 55.46875 49.03125 \nz\n\" id=\"LiberationSans-82\"/>\n       <path d=\"M 9.234375 0 \nL 9.234375 68.796875 \nL 18.5625 68.796875 \nL 18.5625 0 \nz\n\" id=\"LiberationSans-73\"/>\n       <path d=\"M 38.671875 62.203125 \nQ 32.8125 62.203125 28.296875 60.25 \nQ 23.78125 58.296875 20.71875 54.6875 \nQ 17.671875 51.078125 16.109375 46 \nQ 14.546875 40.921875 14.546875 34.71875 \nQ 14.546875 28.515625 16.234375 23.359375 \nQ 17.921875 18.21875 21.0625 14.5 \nQ 24.21875 10.796875 28.78125 8.734375 \nQ 33.34375 6.6875 39.0625 6.6875 \nQ 43.0625 6.6875 46.359375 7.734375 \nQ 49.65625 8.796875 52.3125 10.6875 \nQ 54.984375 12.59375 57.078125 15.203125 \nQ 59.1875 17.828125 60.796875 21 \nL 68.40625 17.1875 \nQ 66.546875 13.328125 63.8125 10 \nQ 61.078125 6.6875 57.390625 4.25 \nQ 53.71875 1.8125 49.046875 0.40625 \nQ 44.390625 -0.984375 38.625 -0.984375 \nQ 30.28125 -0.984375 24 1.671875 \nQ 17.71875 4.34375 13.5 9.109375 \nQ 9.28125 13.875 7.171875 20.40625 \nQ 5.078125 26.953125 5.078125 34.71875 \nQ 5.078125 42.78125 7.296875 49.265625 \nQ 9.515625 55.765625 13.78125 60.328125 \nQ 18.0625 64.890625 24.3125 67.359375 \nQ 30.5625 69.828125 38.578125 69.828125 \nQ 49.5625 69.828125 56.9375 65.53125 \nQ 64.3125 61.234375 67.78125 52.78125 \nL 58.9375 49.859375 \nQ 57.953125 52.296875 56.296875 54.515625 \nQ 54.640625 56.734375 52.140625 58.4375 \nQ 49.65625 60.15625 46.3125 61.171875 \nQ 42.96875 62.203125 38.671875 62.203125 \nz\n\" id=\"LiberationSans-67\"/>\n      </defs>\n      <g style=\"fill:#262626;\" transform=\"translate(49.829687 179.033437)scale(0.1 -0.1)\">\n       <use xlink:href=\"#LiberationSans-65\"/>\n       <use x=\"66.699219\" xlink:href=\"#LiberationSans-70\"/>\n       <use x=\"127.783203\" xlink:href=\"#LiberationSans-82\"/>\n       <use x=\"200\" xlink:href=\"#LiberationSans-73\"/>\n       <use x=\"227.783203\" xlink:href=\"#LiberationSans-67\"/>\n       <use x=\"300\" xlink:href=\"#LiberationSans-65\"/>\n      </g>\n     </g>\n    </g>\n    <g id=\"ytick_2\">\n     <g id=\"line2d_15\">\n      <path clip-path=\"url(#p38ec894e66)\" d=\"M 90 148.23 \nL 648 148.23 \n\" style=\"fill:none;stroke:#cccccc;stroke-linecap:round;stroke-width:0.8;\"/>\n     </g>\n     <g id=\"line2d_16\"/>\n     <g id=\"text_8\">\n      <!-- EUROPE -->\n      <defs>\n       <path d=\"M 8.203125 0 \nL 8.203125 68.796875 \nL 60.40625 68.796875 \nL 60.40625 61.1875 \nL 17.53125 61.1875 \nL 17.53125 39.109375 \nL 57.46875 39.109375 \nL 57.46875 31.59375 \nL 17.53125 31.59375 \nL 17.53125 7.625 \nL 62.40625 7.625 \nL 62.40625 0 \nz\n\" id=\"LiberationSans-69\"/>\n       <path d=\"M 35.6875 -0.984375 \nQ 30.03125 -0.984375 24.953125 0.53125 \nQ 19.875 2.046875 16.03125 5.25 \nQ 12.203125 8.453125 9.953125 13.359375 \nQ 7.71875 18.265625 7.71875 25 \nL 7.71875 68.796875 \nL 17.046875 68.796875 \nL 17.046875 25.78125 \nQ 17.046875 20.5625 18.4375 16.921875 \nQ 19.828125 13.28125 22.3125 10.984375 \nQ 24.8125 8.6875 28.203125 7.640625 \nQ 31.59375 6.59375 35.640625 6.59375 \nQ 39.65625 6.59375 43.21875 7.65625 \nQ 46.78125 8.734375 49.46875 11.078125 \nQ 52.15625 13.421875 53.6875 17.203125 \nQ 55.21875 21 55.21875 26.421875 \nL 55.21875 68.796875 \nL 64.5 68.796875 \nL 64.5 25.875 \nQ 64.5 19 62.234375 13.9375 \nQ 59.96875 8.890625 56.0625 5.5625 \nQ 52.15625 2.25 46.90625 0.625 \nQ 41.65625 -0.984375 35.6875 -0.984375 \nz\n\" id=\"LiberationSans-85\"/>\n       <path d=\"M 73 34.71875 \nQ 73 26.65625 70.671875 20.0625 \nQ 68.359375 13.484375 63.96875 8.796875 \nQ 59.578125 4.109375 53.21875 1.5625 \nQ 46.875 -0.984375 38.8125 -0.984375 \nQ 30.328125 -0.984375 23.921875 1.671875 \nQ 17.53125 4.34375 13.28125 9.109375 \nQ 9.03125 13.875 6.875 20.40625 \nQ 4.734375 26.953125 4.734375 34.71875 \nQ 4.734375 42.78125 6.984375 49.265625 \nQ 9.234375 55.765625 13.578125 60.328125 \nQ 17.921875 64.890625 24.296875 67.359375 \nQ 30.671875 69.828125 38.921875 69.828125 \nQ 47.125 69.828125 53.484375 67.328125 \nQ 59.859375 64.84375 64.171875 60.25 \nQ 68.5 55.671875 70.75 49.171875 \nQ 73 42.671875 73 34.71875 \nz\nM 63.484375 34.71875 \nQ 63.484375 40.921875 61.890625 46 \nQ 60.296875 51.078125 57.203125 54.6875 \nQ 54.109375 58.296875 49.515625 60.25 \nQ 44.921875 62.203125 38.921875 62.203125 \nQ 32.765625 62.203125 28.125 60.25 \nQ 23.484375 58.296875 20.375 54.6875 \nQ 17.28125 51.078125 15.734375 46 \nQ 14.203125 40.921875 14.203125 34.71875 \nQ 14.203125 28.515625 15.796875 23.359375 \nQ 17.390625 18.21875 20.484375 14.484375 \nQ 23.578125 10.75 28.1875 8.671875 \nQ 32.8125 6.59375 38.8125 6.59375 \nQ 45.265625 6.59375 49.921875 8.6875 \nQ 54.59375 10.796875 57.59375 14.53125 \nQ 60.59375 18.265625 62.03125 23.4375 \nQ 63.484375 28.609375 63.484375 34.71875 \nz\n\" id=\"LiberationSans-79\"/>\n       <path d=\"M 61.421875 48.09375 \nQ 61.421875 43.609375 59.9375 39.71875 \nQ 58.453125 35.84375 55.5 32.984375 \nQ 52.546875 30.125 48.09375 28.46875 \nQ 43.65625 26.8125 37.75 26.8125 \nL 17.53125 26.8125 \nL 17.53125 0 \nL 8.203125 0 \nL 8.203125 68.796875 \nL 37.15625 68.796875 \nQ 43.265625 68.796875 47.796875 67.3125 \nQ 52.34375 65.828125 55.375 63.109375 \nQ 58.40625 60.40625 59.90625 56.5625 \nQ 61.421875 52.734375 61.421875 48.09375 \nz\nM 52.046875 48 \nQ 52.046875 54.546875 48.046875 57.9375 \nQ 44.046875 61.328125 36.03125 61.328125 \nL 17.53125 61.328125 \nL 17.53125 34.1875 \nL 36.421875 34.1875 \nQ 44.484375 34.1875 48.265625 37.75 \nQ 52.046875 41.3125 52.046875 48 \nz\n\" id=\"LiberationSans-80\"/>\n      </defs>\n      <g style=\"fill:#262626;\" transform=\"translate(44.267187 151.853437)scale(0.1 -0.1)\">\n       <use xlink:href=\"#LiberationSans-69\"/>\n       <use x=\"66.699219\" xlink:href=\"#LiberationSans-85\"/>\n       <use x=\"138.916016\" xlink:href=\"#LiberationSans-82\"/>\n       <use x=\"211.132812\" xlink:href=\"#LiberationSans-79\"/>\n       <use x=\"288.916016\" xlink:href=\"#LiberationSans-80\"/>\n       <use x=\"355.615234\" xlink:href=\"#LiberationSans-69\"/>\n      </g>\n     </g>\n    </g>\n    <g id=\"ytick_3\">\n     <g id=\"line2d_17\">\n      <path clip-path=\"url(#p38ec894e66)\" d=\"M 90 121.05 \nL 648 121.05 \n\" style=\"fill:none;stroke:#cccccc;stroke-linecap:round;stroke-width:0.8;\"/>\n     </g>\n     <g id=\"line2d_18\"/>\n     <g id=\"text_9\">\n      <!-- ASIA -->\n      <defs>\n       <path d=\"M 62.109375 19 \nQ 62.109375 14.65625 60.421875 10.984375 \nQ 58.734375 7.328125 55.21875 4.65625 \nQ 51.703125 2 46.359375 0.5 \nQ 41.015625 -0.984375 33.6875 -0.984375 \nQ 20.84375 -0.984375 13.671875 3.515625 \nQ 6.5 8.015625 4.546875 16.5 \nL 13.578125 18.3125 \nQ 14.265625 15.625 15.671875 13.421875 \nQ 17.09375 11.234375 19.5 9.640625 \nQ 21.921875 8.0625 25.484375 7.171875 \nQ 29.046875 6.296875 34.03125 6.296875 \nQ 38.1875 6.296875 41.65625 7 \nQ 45.125 7.71875 47.609375 9.171875 \nQ 50.09375 10.640625 51.484375 12.953125 \nQ 52.875 15.28125 52.875 18.5 \nQ 52.875 21.875 51.34375 23.96875 \nQ 49.8125 26.078125 47.015625 27.4375 \nQ 44.234375 28.8125 40.375 29.734375 \nQ 36.53125 30.671875 31.84375 31.734375 \nQ 28.953125 32.375 26.046875 33.125 \nQ 23.140625 33.890625 20.484375 34.9375 \nQ 17.828125 35.984375 15.484375 37.390625 \nQ 13.140625 38.8125 11.421875 40.796875 \nQ 9.71875 42.78125 8.734375 45.390625 \nQ 7.765625 48 7.765625 51.421875 \nQ 7.765625 56.296875 9.734375 59.78125 \nQ 11.71875 63.28125 15.234375 65.53125 \nQ 18.75 67.78125 23.53125 68.796875 \nQ 28.328125 69.828125 33.890625 69.828125 \nQ 40.28125 69.828125 44.8125 68.828125 \nQ 49.359375 67.828125 52.484375 65.8125 \nQ 55.609375 63.8125 57.484375 60.859375 \nQ 59.375 57.90625 60.5 54 \nL 51.3125 52.390625 \nQ 50.640625 54.890625 49.34375 56.84375 \nQ 48.046875 58.796875 45.9375 60.109375 \nQ 43.84375 61.421875 40.84375 62.109375 \nQ 37.84375 62.796875 33.796875 62.796875 \nQ 29 62.796875 25.75 61.9375 \nQ 22.515625 61.078125 20.53125 59.609375 \nQ 18.5625 58.15625 17.703125 56.171875 \nQ 16.84375 54.203125 16.84375 51.90625 \nQ 16.84375 48.828125 18.375 46.84375 \nQ 19.921875 44.875 22.5625 43.546875 \nQ 25.203125 42.234375 28.65625 41.359375 \nQ 32.125 40.484375 36.03125 39.59375 \nQ 39.203125 38.875 42.359375 38.109375 \nQ 45.515625 37.359375 48.390625 36.296875 \nQ 51.265625 35.25 53.78125 33.828125 \nQ 56.296875 32.421875 58.15625 30.375 \nQ 60.015625 28.328125 61.0625 25.53125 \nQ 62.109375 22.75 62.109375 19 \nz\n\" id=\"LiberationSans-83\"/>\n      </defs>\n      <g style=\"fill:#262626;\" transform=\"translate(63.710938 124.673437)scale(0.1 -0.1)\">\n       <use xlink:href=\"#LiberationSans-65\"/>\n       <use x=\"66.699219\" xlink:href=\"#LiberationSans-83\"/>\n       <use x=\"133.398438\" xlink:href=\"#LiberationSans-73\"/>\n       <use x=\"161.181641\" xlink:href=\"#LiberationSans-65\"/>\n      </g>\n     </g>\n    </g>\n    <g id=\"ytick_4\">\n     <g id=\"line2d_19\">\n      <path clip-path=\"url(#p38ec894e66)\" d=\"M 90 93.87 \nL 648 93.87 \n\" style=\"fill:none;stroke:#cccccc;stroke-linecap:round;stroke-width:0.8;\"/>\n     </g>\n     <g id=\"line2d_20\"/>\n     <g id=\"text_10\">\n      <!-- NORTH AMERICA -->\n      <defs>\n       <path d=\"M 52.828125 0 \nL 16.015625 58.59375 \nQ 16.109375 56.203125 16.265625 53.859375 \nQ 16.359375 51.859375 16.421875 49.625 \nQ 16.5 47.40625 16.5 45.703125 \nL 16.5 0 \nL 8.203125 0 \nL 8.203125 68.796875 \nL 19.046875 68.796875 \nL 56.25 9.8125 \nQ 56.109375 12.203125 55.953125 14.59375 \nQ 55.859375 16.65625 55.765625 19.0625 \nQ 55.671875 21.484375 55.671875 23.6875 \nL 55.671875 68.796875 \nL 64.0625 68.796875 \nL 64.0625 0 \nz\n\" id=\"LiberationSans-78\"/>\n       <path d=\"M 35.15625 61.1875 \nL 35.15625 0 \nL 25.875 0 \nL 25.875 61.1875 \nL 2.25 61.1875 \nL 2.25 68.796875 \nL 58.796875 68.796875 \nL 58.796875 61.1875 \nz\n\" id=\"LiberationSans-84\"/>\n       <path d=\"M 54.734375 0 \nL 54.734375 31.890625 \nL 17.53125 31.890625 \nL 17.53125 0 \nL 8.203125 0 \nL 8.203125 68.796875 \nL 17.53125 68.796875 \nL 17.53125 39.703125 \nL 54.734375 39.703125 \nL 54.734375 68.796875 \nL 64.0625 68.796875 \nL 64.0625 0 \nz\n\" id=\"LiberationSans-72\"/>\n       <path id=\"LiberationSans-32\"/>\n       <path d=\"M 66.703125 0 \nL 66.703125 45.90625 \nQ 66.703125 48.390625 66.75 50.96875 \nQ 66.796875 53.5625 66.890625 55.71875 \nQ 67 58.203125 67.140625 60.546875 \nQ 66.453125 58.0625 65.71875 55.609375 \nQ 65.09375 53.515625 64.328125 51.140625 \nQ 63.578125 48.78125 62.84375 46.875 \nL 45.0625 0 \nL 38.53125 0 \nL 20.515625 46.875 \nQ 20.21875 47.609375 19.890625 48.578125 \nQ 19.578125 49.5625 19.203125 50.65625 \nQ 18.84375 51.765625 18.46875 52.90625 \nQ 18.109375 54.046875 17.78125 55.171875 \nQ 16.9375 57.765625 16.15625 60.546875 \nQ 16.21875 57.8125 16.3125 55.125 \nQ 16.40625 52.828125 16.453125 50.3125 \nQ 16.5 47.796875 16.5 45.90625 \nL 16.5 0 \nL 8.203125 0 \nL 8.203125 68.796875 \nL 20.453125 68.796875 \nL 38.765625 21.09375 \nQ 39.109375 20.125 39.59375 18.578125 \nQ 40.09375 17.046875 40.53125 15.421875 \nQ 40.96875 13.8125 41.328125 12.375 \nQ 41.703125 10.9375 41.84375 10.15625 \nQ 42 10.9375 42.390625 12.40625 \nQ 42.78125 13.875 43.28125 15.484375 \nQ 43.796875 17.09375 44.28125 18.609375 \nQ 44.78125 20.125 45.171875 21.09375 \nL 63.140625 68.796875 \nL 75.09375 68.796875 \nL 75.09375 0 \nz\n\" id=\"LiberationSans-77\"/>\n      </defs>\n      <g style=\"fill:#262626;\" transform=\"translate(3.332812 97.493437)scale(0.1 -0.1)\">\n       <use xlink:href=\"#LiberationSans-78\"/>\n       <use x=\"72.216797\" xlink:href=\"#LiberationSans-79\"/>\n       <use x=\"150\" xlink:href=\"#LiberationSans-82\"/>\n       <use x=\"220.466797\" xlink:href=\"#LiberationSans-84\"/>\n       <use x=\"281.550781\" xlink:href=\"#LiberationSans-72\"/>\n       <use x=\"353.767578\" xlink:href=\"#LiberationSans-32\"/>\n       <use x=\"376.050781\" xlink:href=\"#LiberationSans-65\"/>\n       <use x=\"442.75\" xlink:href=\"#LiberationSans-77\"/>\n       <use x=\"526.050781\" xlink:href=\"#LiberationSans-69\"/>\n       <use x=\"592.75\" xlink:href=\"#LiberationSans-82\"/>\n       <use x=\"664.966797\" xlink:href=\"#LiberationSans-73\"/>\n       <use x=\"692.75\" xlink:href=\"#LiberationSans-67\"/>\n       <use x=\"764.966797\" xlink:href=\"#LiberationSans-65\"/>\n      </g>\n     </g>\n    </g>\n    <g id=\"ytick_5\">\n     <g id=\"line2d_21\">\n      <path clip-path=\"url(#p38ec894e66)\" d=\"M 90 66.69 \nL 648 66.69 \n\" style=\"fill:none;stroke:#cccccc;stroke-linecap:round;stroke-width:0.8;\"/>\n     </g>\n     <g id=\"line2d_22\"/>\n     <g id=\"text_11\">\n      <!-- OCEANIA -->\n      <g style=\"fill:#262626;\" transform=\"translate(41.489062 70.313437)scale(0.1 -0.1)\">\n       <use xlink:href=\"#LiberationSans-79\"/>\n       <use x=\"77.783203\" xlink:href=\"#LiberationSans-67\"/>\n       <use x=\"150\" xlink:href=\"#LiberationSans-69\"/>\n       <use x=\"216.699219\" xlink:href=\"#LiberationSans-65\"/>\n       <use x=\"283.398438\" xlink:href=\"#LiberationSans-78\"/>\n       <use x=\"355.615234\" xlink:href=\"#LiberationSans-73\"/>\n       <use x=\"383.398438\" xlink:href=\"#LiberationSans-65\"/>\n      </g>\n     </g>\n    </g>\n    <g id=\"ytick_6\">\n     <g id=\"line2d_23\">\n      <path clip-path=\"url(#p38ec894e66)\" d=\"M 90 39.51 \nL 648 39.51 \n\" style=\"fill:none;stroke:#cccccc;stroke-linecap:round;stroke-width:0.8;\"/>\n     </g>\n     <g id=\"line2d_24\"/>\n     <g id=\"text_12\">\n      <!-- SOUTH AMERICA -->\n      <g style=\"fill:#262626;\" transform=\"translate(3.709375 43.133437)scale(0.1 -0.1)\">\n       <use xlink:href=\"#LiberationSans-83\"/>\n       <use x=\"66.699219\" xlink:href=\"#LiberationSans-79\"/>\n       <use x=\"144.482422\" xlink:href=\"#LiberationSans-85\"/>\n       <use x=\"216.699219\" xlink:href=\"#LiberationSans-84\"/>\n       <use x=\"277.783203\" xlink:href=\"#LiberationSans-72\"/>\n       <use x=\"350\" xlink:href=\"#LiberationSans-32\"/>\n       <use x=\"372.283203\" xlink:href=\"#LiberationSans-65\"/>\n       <use x=\"438.982422\" xlink:href=\"#LiberationSans-77\"/>\n       <use x=\"522.283203\" xlink:href=\"#LiberationSans-69\"/>\n       <use x=\"588.982422\" xlink:href=\"#LiberationSans-82\"/>\n       <use x=\"661.199219\" xlink:href=\"#LiberationSans-73\"/>\n       <use x=\"688.982422\" xlink:href=\"#LiberationSans-67\"/>\n       <use x=\"761.199219\" xlink:href=\"#LiberationSans-65\"/>\n      </g>\n     </g>\n    </g>\n   </g>\n   <g id=\"patch_3\">\n    <path clip-path=\"url(#p38ec894e66)\" d=\"M 90 182.205 \nL 621.428571 182.205 \nL 621.428571 168.615 \nL 90 168.615 \nz\n\" style=\"fill:#ffff00;\"/>\n   </g>\n   <g id=\"patch_4\">\n    <path clip-path=\"url(#p38ec894e66)\" d=\"M 90 155.025 \nL 552.539683 155.025 \nL 552.539683 141.435 \nL 90 141.435 \nz\n\" style=\"fill:#ffff00;\"/>\n   </g>\n   <g id=\"patch_5\">\n    <path clip-path=\"url(#p38ec894e66)\" d=\"M 90 127.845 \nL 523.015873 127.845 \nL 523.015873 114.255 \nL 90 114.255 \nz\n\" style=\"fill:#ffff00;\"/>\n   </g>\n   <g id=\"patch_6\">\n    <path clip-path=\"url(#p38ec894e66)\" d=\"M 90 100.665 \nL 316.349206 100.665 \nL 316.349206 87.075 \nL 90 87.075 \nz\n\" style=\"fill:#ffff00;\"/>\n   </g>\n   <g id=\"patch_7\">\n    <path clip-path=\"url(#p38ec894e66)\" d=\"M 90 73.485 \nL 227.777778 73.485 \nL 227.777778 59.895 \nL 90 59.895 \nz\n\" style=\"fill:#ffff00;\"/>\n   </g>\n   <g id=\"patch_8\">\n    <path clip-path=\"url(#p38ec894e66)\" d=\"M 90 46.305 \nL 208.095238 46.305 \nL 208.095238 32.715 \nL 90 32.715 \nz\n\" style=\"fill:#ffff00;\"/>\n   </g>\n   <g id=\"patch_9\">\n    <path d=\"M 90 189 \nL 90 25.92 \n\" style=\"fill:none;stroke:#cccccc;stroke-linecap:square;stroke-linejoin:miter;\"/>\n   </g>\n   <g id=\"patch_10\">\n    <path d=\"M 648 189 \nL 648 25.92 \n\" style=\"fill:none;stroke:#cccccc;stroke-linecap:square;stroke-linejoin:miter;\"/>\n   </g>\n   <g id=\"patch_11\">\n    <path d=\"M 90 189 \nL 648 189 \n\" style=\"fill:none;stroke:#cccccc;stroke-linecap:square;stroke-linejoin:miter;\"/>\n   </g>\n   <g id=\"patch_12\">\n    <path d=\"M 90 25.92 \nL 648 25.92 \n\" style=\"fill:none;stroke:#cccccc;stroke-linecap:square;stroke-linejoin:miter;\"/>\n   </g>\n  </g>\n </g>\n <defs>\n  <clipPath id=\"p38ec894e66\">\n   <rect height=\"163.08\" width=\"558\" x=\"90\" y=\"25.92\"/>\n  </clipPath>\n </defs>\n</svg>\n"
          },
          "metadata": {
            "tags": []
          }
        }
      ]
    },
    {
      "cell_type": "code",
      "metadata": {
        "id": "NSpVONCQnsgn",
        "colab_type": "code",
        "colab": {
          "base_uri": "https://localhost:8080/",
          "height": 422
        },
        "outputId": "7b4f44c4-e681-4a43-949a-557f72ef099e"
      },
      "source": [
        "# colormap\n",
        "c.Region.value_counts().plot(kind='pie', colormap='seismic')\n",
        "plt.show"
      ],
      "execution_count": 46,
      "outputs": [
        {
          "output_type": "execute_result",
          "data": {
            "text/plain": [
              "<function matplotlib.pyplot.show>"
            ]
          },
          "metadata": {
            "tags": []
          },
          "execution_count": 46
        },
        {
          "output_type": "display_data",
          "data": {
            "application/pdf": "[encoded data removed]",
            "text/plain": [
              "<Figure size 432x288 with 1 Axes>"
            ],
            "image/svg+xml": "<?xml version=\"1.0\" encoding=\"utf-8\" standalone=\"no\"?>\n<!DOCTYPE svg PUBLIC \"-//W3C//DTD SVG 1.1//EN\"\n  \"http://www.w3.org/Graphics/SVG/1.1/DTD/svg11.dtd\">\n<!-- Created with matplotlib (https://matplotlib.org/) -->\n<svg height=\"288pt\" version=\"1.1\" viewBox=\"0 0 432 288\" width=\"432pt\" xmlns=\"http://www.w3.org/2000/svg\" xmlns:xlink=\"http://www.w3.org/1999/xlink\">\n <defs>\n  <style type=\"text/css\">\n*{stroke-linecap:butt;stroke-linejoin:round;}\n  </style>\n </defs>\n <g id=\"figure_1\">\n  <g id=\"patch_1\">\n   <path d=\"M 0 288 \nL 432 288 \nL 432 0 \nL 0 0 \nz\n\" style=\"fill:#ffffff;\"/>\n  </g>\n  <g id=\"axes_1\">\n   <g id=\"matplotlib.axis_1\"/>\n   <g id=\"matplotlib.axis_2\">\n    <g id=\"text_1\">\n     <!-- Region -->\n     <defs>\n      <path d=\"M 56.84375 0 \nL 38.96875 28.5625 \nL 17.53125 28.5625 \nL 17.53125 0 \nL 8.203125 0 \nL 8.203125 68.796875 \nL 40.578125 68.796875 \nQ 46.4375 68.796875 50.953125 67.453125 \nQ 55.46875 66.109375 58.546875 63.5625 \nQ 61.625 61.03125 63.234375 57.375 \nQ 64.84375 53.71875 64.84375 49.125 \nQ 64.84375 45.84375 63.890625 42.671875 \nQ 62.9375 39.5 60.890625 36.859375 \nQ 58.84375 34.234375 55.65625 32.328125 \nQ 52.484375 30.421875 48.046875 29.640625 \nL 67.578125 0 \nz\nM 55.46875 49.03125 \nQ 55.46875 52.15625 54.390625 54.4375 \nQ 53.328125 56.734375 51.265625 58.265625 \nQ 49.21875 59.8125 46.28125 60.5625 \nQ 43.359375 61.328125 39.65625 61.328125 \nL 17.53125 61.328125 \nL 17.53125 35.9375 \nL 40.046875 35.9375 \nQ 44.046875 35.9375 46.96875 36.9375 \nQ 49.90625 37.9375 51.78125 39.6875 \nQ 53.65625 41.453125 54.5625 43.84375 \nQ 55.46875 46.234375 55.46875 49.03125 \nz\n\" id=\"LiberationSans-82\"/>\n      <path d=\"M 13.484375 24.5625 \nQ 13.484375 20.40625 14.328125 16.90625 \nQ 15.1875 13.421875 16.96875 10.90625 \nQ 18.75 8.40625 21.53125 7 \nQ 24.3125 5.609375 28.21875 5.609375 \nQ 33.9375 5.609375 37.375 7.90625 \nQ 40.828125 10.203125 42.046875 13.71875 \nL 49.75 11.53125 \nQ 48.921875 9.328125 47.4375 7.109375 \nQ 45.953125 4.890625 43.453125 3.09375 \nQ 40.96875 1.3125 37.234375 0.15625 \nQ 33.5 -0.984375 28.21875 -0.984375 \nQ 16.5 -0.984375 10.375 6 \nQ 4.25 12.984375 4.25 26.765625 \nQ 4.25 34.1875 6.09375 39.328125 \nQ 7.953125 44.484375 11.171875 47.703125 \nQ 14.40625 50.921875 18.703125 52.359375 \nQ 23 53.8125 27.875 53.8125 \nQ 34.515625 53.8125 38.984375 51.65625 \nQ 43.453125 49.515625 46.15625 45.71875 \nQ 48.875 41.9375 50.015625 36.8125 \nQ 51.171875 31.6875 51.171875 25.734375 \nL 51.171875 24.5625 \nz\nM 42.09375 31.296875 \nQ 41.359375 39.65625 37.84375 43.484375 \nQ 34.328125 47.3125 27.734375 47.3125 \nQ 25.53125 47.3125 23.109375 46.609375 \nQ 20.703125 45.90625 18.65625 44.09375 \nQ 16.609375 42.28125 15.1875 39.171875 \nQ 13.765625 36.078125 13.578125 31.296875 \nz\n\" id=\"LiberationSans-101\"/>\n      <path d=\"M 26.765625 -20.75 \nQ 22.21875 -20.75 18.703125 -19.8125 \nQ 15.1875 -18.890625 12.6875 -17.15625 \nQ 10.203125 -15.4375 8.640625 -13.03125 \nQ 7.078125 -10.640625 6.390625 -7.71875 \nL 15.234375 -6.453125 \nQ 16.109375 -10.109375 19.109375 -12.078125 \nQ 22.125 -14.0625 27 -14.0625 \nQ 29.984375 -14.0625 32.421875 -13.234375 \nQ 34.859375 -12.40625 36.5625 -10.5625 \nQ 38.28125 -8.734375 39.203125 -5.796875 \nQ 40.140625 -2.875 40.140625 1.3125 \nL 40.140625 9.8125 \nL 40.046875 9.8125 \nQ 39.0625 7.8125 37.625 5.984375 \nQ 36.1875 4.15625 34.109375 2.734375 \nQ 32.03125 1.3125 29.296875 0.453125 \nQ 26.5625 -0.390625 23.046875 -0.390625 \nQ 18.015625 -0.390625 14.421875 1.296875 \nQ 10.84375 2.984375 8.5625 6.34375 \nQ 6.296875 9.71875 5.25 14.71875 \nQ 4.203125 19.734375 4.203125 26.3125 \nQ 4.203125 32.671875 5.25 37.75 \nQ 6.296875 42.828125 8.65625 46.359375 \nQ 11.03125 49.90625 14.8125 51.78125 \nQ 18.609375 53.65625 24.03125 53.65625 \nQ 29.640625 53.65625 33.765625 51.09375 \nQ 37.890625 48.53125 40.140625 43.796875 \nL 40.234375 43.796875 \nQ 40.234375 45.015625 40.296875 46.53125 \nQ 40.375 48.046875 40.453125 49.390625 \nQ 40.53125 50.734375 40.625 51.703125 \nQ 40.71875 52.6875 40.828125 52.828125 \nL 49.171875 52.828125 \nQ 49.125 52.390625 49.078125 51.34375 \nQ 49.03125 50.296875 48.96875 48.828125 \nQ 48.921875 47.359375 48.890625 45.578125 \nQ 48.875 43.796875 48.875 41.890625 \nL 48.875 1.515625 \nQ 48.875 -9.578125 43.421875 -15.15625 \nQ 37.984375 -20.75 26.765625 -20.75 \nz\nM 40.140625 26.421875 \nQ 40.140625 31.9375 38.9375 35.859375 \nQ 37.75 39.796875 35.796875 42.28125 \nQ 33.84375 44.78125 31.328125 45.953125 \nQ 28.8125 47.125 26.171875 47.125 \nQ 22.796875 47.125 20.375 45.953125 \nQ 17.96875 44.78125 16.375 42.265625 \nQ 14.796875 39.75 14.03125 35.8125 \nQ 13.28125 31.890625 13.28125 26.421875 \nQ 13.28125 20.703125 14.03125 16.8125 \nQ 14.796875 12.9375 16.359375 10.546875 \nQ 17.921875 8.15625 20.3125 7.125 \nQ 22.703125 6.109375 26.03125 6.109375 \nQ 28.65625 6.109375 31.171875 7.21875 \nQ 33.6875 8.34375 35.6875 10.78125 \nQ 37.703125 13.234375 38.921875 17.09375 \nQ 40.140625 20.953125 40.140625 26.421875 \nz\n\" id=\"LiberationSans-103\"/>\n      <path d=\"M 6.6875 64.0625 \nL 6.6875 72.46875 \nL 15.484375 72.46875 \nL 15.484375 64.0625 \nz\nM 6.6875 0 \nL 6.6875 52.828125 \nL 15.484375 52.828125 \nL 15.484375 0 \nz\n\" id=\"LiberationSans-105\"/>\n      <path d=\"M 51.421875 26.46875 \nQ 51.421875 12.59375 45.3125 5.796875 \nQ 39.203125 -0.984375 27.59375 -0.984375 \nQ 22.078125 -0.984375 17.71875 0.671875 \nQ 13.375 2.34375 10.375 5.765625 \nQ 7.375 9.1875 5.78125 14.328125 \nQ 4.203125 19.484375 4.203125 26.46875 \nQ 4.203125 53.8125 27.875 53.8125 \nQ 34.03125 53.8125 38.5 52.09375 \nQ 42.96875 50.390625 45.828125 46.96875 \nQ 48.6875 43.5625 50.046875 38.421875 \nQ 51.421875 33.296875 51.421875 26.46875 \nz\nM 42.1875 26.46875 \nQ 42.1875 32.625 41.234375 36.625 \nQ 40.28125 40.625 38.453125 43.015625 \nQ 36.625 45.40625 33.984375 46.359375 \nQ 31.34375 47.3125 28.03125 47.3125 \nQ 24.65625 47.3125 21.9375 46.3125 \nQ 19.234375 45.3125 17.328125 42.890625 \nQ 15.4375 40.484375 14.421875 36.46875 \nQ 13.421875 32.46875 13.421875 26.46875 \nQ 13.421875 20.3125 14.5 16.28125 \nQ 15.578125 12.25 17.453125 9.859375 \nQ 19.34375 7.46875 21.90625 6.484375 \nQ 24.46875 5.515625 27.484375 5.515625 \nQ 30.859375 5.515625 33.59375 6.46875 \nQ 36.328125 7.421875 38.234375 9.8125 \nQ 40.140625 12.203125 41.15625 16.25 \nQ 42.1875 20.3125 42.1875 26.46875 \nz\n\" id=\"LiberationSans-111\"/>\n      <path d=\"M 40.28125 0 \nL 40.28125 33.5 \nQ 40.28125 37.359375 39.71875 39.9375 \nQ 39.15625 42.53125 37.890625 44.109375 \nQ 36.625 45.703125 34.546875 46.359375 \nQ 32.46875 47.015625 29.390625 47.015625 \nQ 26.265625 47.015625 23.75 45.921875 \nQ 21.234375 44.828125 19.453125 42.75 \nQ 17.671875 40.671875 16.6875 37.625 \nQ 15.71875 34.578125 15.71875 30.609375 \nL 15.71875 0 \nL 6.9375 0 \nL 6.9375 41.546875 \nQ 6.9375 43.21875 6.90625 45.046875 \nQ 6.890625 46.875 6.828125 48.5 \nQ 6.78125 50.140625 6.734375 51.3125 \nQ 6.6875 52.484375 6.640625 52.828125 \nL 14.9375 52.828125 \nQ 14.984375 52.59375 15.03125 51.515625 \nQ 15.09375 50.4375 15.15625 49.046875 \nQ 15.234375 47.65625 15.28125 46.21875 \nQ 15.328125 44.78125 15.328125 43.796875 \nL 15.484375 43.796875 \nQ 16.75 46.09375 18.265625 47.953125 \nQ 19.78125 49.8125 21.78125 51.09375 \nQ 23.78125 52.390625 26.359375 53.09375 \nQ 28.953125 53.8125 32.375 53.8125 \nQ 36.765625 53.8125 39.9375 52.734375 \nQ 43.109375 51.65625 45.15625 49.40625 \nQ 47.21875 47.171875 48.171875 43.625 \nQ 49.125 40.09375 49.125 35.203125 \nL 49.125 0 \nz\n\" id=\"LiberationSans-110\"/>\n     </defs>\n     <g style=\"fill:#262626;\" transform=\"translate(106.605 159.12375)rotate(-90)scale(0.1 -0.1)\">\n      <use xlink:href=\"#LiberationSans-82\"/>\n      <use x=\"72.216797\" xlink:href=\"#LiberationSans-101\"/>\n      <use x=\"127.832031\" xlink:href=\"#LiberationSans-103\"/>\n      <use x=\"183.447266\" xlink:href=\"#LiberationSans-105\"/>\n      <use x=\"205.664062\" xlink:href=\"#LiberationSans-111\"/>\n      <use x=\"261.279297\" xlink:href=\"#LiberationSans-110\"/>\n     </g>\n    </g>\n   </g>\n   <g id=\"patch_2\">\n    <path d=\"M 308.376 143.28 \nC 308.376 130.553502 305.582751 117.980735 300.193926 106.451454 \nC 294.805101 94.922172 286.950891 84.714916 277.187124 76.552035 \nC 267.423358 68.389153 255.985921 62.467857 243.684223 59.207186 \nC 231.382524 55.946515 218.513764 55.425245 205.988643 57.680265 \nL 221.4 143.28 \nL 308.376 143.28 \nz\n\" style=\"fill:#00004c;\"/>\n   </g>\n   <g id=\"patch_3\">\n    <path d=\"M 205.988643 57.680265 \nC 184.013257 61.636708 164.383808 73.907459 151.200887 91.929157 \nC 138.017965 109.950856 132.268247 132.374668 135.152849 154.51626 \nL 221.4 143.28 \nL 205.988643 57.680265 \nz\n\" style=\"fill:#0000db;\"/>\n   </g>\n   <g id=\"patch_4\">\n    <path d=\"M 135.152849 154.51626 \nC 137.849452 175.21481 147.909174 194.266515 163.481352 208.166476 \nC 179.053529 222.066437 199.120853 229.906588 219.991583 230.244596 \nL 221.4 143.28 \nL 135.152849 154.51626 \nz\n\" style=\"fill:#9999ff;\"/>\n   </g>\n   <g id=\"patch_5\">\n    <path d=\"M 219.991583 230.244596 \nC 230.819544 230.419958 241.585627 228.571503 251.734996 224.794493 \nC 261.884364 221.017483 271.239621 215.377935 279.318636 208.166487 \nL 221.4 143.28 \nL 219.991583 230.244596 \nz\n\" style=\"fill:#ff9999;\"/>\n   </g>\n   <g id=\"patch_6\">\n    <path d=\"M 279.318636 208.166487 \nC 284.227415 203.784838 288.623158 198.860271 292.421436 193.487372 \nC 296.219713 188.114474 299.396049 182.327867 301.889433 176.238698 \nL 221.4 143.28 \nL 279.318636 208.166487 \nz\n\" style=\"fill:#e60000;\"/>\n   </g>\n   <g id=\"patch_7\">\n    <path d=\"M 301.889433 176.238698 \nC 304.026014 171.020888 305.650167 165.60766 306.738951 160.075475 \nC 307.827735 154.543291 308.375999 148.918318 308.376 143.28001 \nL 221.4 143.28 \nL 301.889433 176.238698 \nz\n\" style=\"fill:#800000;\"/>\n   </g>\n   <g id=\"text_2\">\n    <!-- AFRICA -->\n    <defs>\n     <path d=\"M 56.984375 0 \nL 49.125 20.125 \nL 17.78125 20.125 \nL 9.859375 0 \nL 0.203125 0 \nL 28.265625 68.796875 \nL 38.875 68.796875 \nL 66.5 0 \nz\nM 37.5 50.09375 \nQ 36.71875 52.046875 36 54.046875 \nQ 35.296875 56.0625 34.765625 57.6875 \nQ 34.234375 59.328125 33.859375 60.421875 \nQ 33.5 61.53125 33.453125 61.765625 \nQ 33.34375 61.53125 33 60.40625 \nQ 32.671875 59.28125 32.109375 57.609375 \nQ 31.546875 55.953125 30.828125 53.953125 \nQ 30.125 51.953125 29.390625 50 \nL 20.609375 27.390625 \nL 46.34375 27.390625 \nz\n\" id=\"LiberationSans-65\"/>\n     <path d=\"M 17.53125 61.1875 \nL 17.53125 35.59375 \nL 55.90625 35.59375 \nL 55.90625 27.875 \nL 17.53125 27.875 \nL 17.53125 0 \nL 8.203125 0 \nL 8.203125 68.796875 \nL 57.078125 68.796875 \nL 57.078125 61.1875 \nz\n\" id=\"LiberationSans-70\"/>\n     <path d=\"M 9.234375 0 \nL 9.234375 68.796875 \nL 18.5625 68.796875 \nL 18.5625 0 \nz\n\" id=\"LiberationSans-73\"/>\n     <path d=\"M 38.671875 62.203125 \nQ 32.8125 62.203125 28.296875 60.25 \nQ 23.78125 58.296875 20.71875 54.6875 \nQ 17.671875 51.078125 16.109375 46 \nQ 14.546875 40.921875 14.546875 34.71875 \nQ 14.546875 28.515625 16.234375 23.359375 \nQ 17.921875 18.21875 21.0625 14.5 \nQ 24.21875 10.796875 28.78125 8.734375 \nQ 33.34375 6.6875 39.0625 6.6875 \nQ 43.0625 6.6875 46.359375 7.734375 \nQ 49.65625 8.796875 52.3125 10.6875 \nQ 54.984375 12.59375 57.078125 15.203125 \nQ 59.1875 17.828125 60.796875 21 \nL 68.40625 17.1875 \nQ 66.546875 13.328125 63.8125 10 \nQ 61.078125 6.6875 57.390625 4.25 \nQ 53.71875 1.8125 49.046875 0.40625 \nQ 44.390625 -0.984375 38.625 -0.984375 \nQ 30.28125 -0.984375 24 1.671875 \nQ 17.71875 4.34375 13.5 9.109375 \nQ 9.28125 13.875 7.171875 20.40625 \nQ 5.078125 26.953125 5.078125 34.71875 \nQ 5.078125 42.78125 7.296875 49.265625 \nQ 9.515625 55.765625 13.78125 60.328125 \nQ 18.0625 64.890625 24.3125 67.359375 \nQ 30.5625 69.828125 38.578125 69.828125 \nQ 49.5625 69.828125 56.9375 65.53125 \nQ 64.3125 61.234375 67.78125 52.78125 \nL 58.9375 49.859375 \nQ 57.953125 52.296875 56.296875 54.515625 \nQ 54.640625 56.734375 52.140625 58.4375 \nQ 49.65625 60.15625 46.3125 61.171875 \nQ 42.96875 62.203125 38.671875 62.203125 \nz\n\" id=\"LiberationSans-67\"/>\n    </defs>\n    <g style=\"fill:#262626;\" transform=\"translate(282.765836 72.465176)scale(0.1 -0.1)\">\n     <use xlink:href=\"#LiberationSans-65\"/>\n     <use x=\"66.699219\" xlink:href=\"#LiberationSans-70\"/>\n     <use x=\"127.783203\" xlink:href=\"#LiberationSans-82\"/>\n     <use x=\"200\" xlink:href=\"#LiberationSans-73\"/>\n     <use x=\"227.783203\" xlink:href=\"#LiberationSans-67\"/>\n     <use x=\"300\" xlink:href=\"#LiberationSans-65\"/>\n    </g>\n   </g>\n   <g id=\"text_3\">\n    <!-- EUROPE -->\n    <defs>\n     <path d=\"M 8.203125 0 \nL 8.203125 68.796875 \nL 60.40625 68.796875 \nL 60.40625 61.1875 \nL 17.53125 61.1875 \nL 17.53125 39.109375 \nL 57.46875 39.109375 \nL 57.46875 31.59375 \nL 17.53125 31.59375 \nL 17.53125 7.625 \nL 62.40625 7.625 \nL 62.40625 0 \nz\n\" id=\"LiberationSans-69\"/>\n     <path d=\"M 35.6875 -0.984375 \nQ 30.03125 -0.984375 24.953125 0.53125 \nQ 19.875 2.046875 16.03125 5.25 \nQ 12.203125 8.453125 9.953125 13.359375 \nQ 7.71875 18.265625 7.71875 25 \nL 7.71875 68.796875 \nL 17.046875 68.796875 \nL 17.046875 25.78125 \nQ 17.046875 20.5625 18.4375 16.921875 \nQ 19.828125 13.28125 22.3125 10.984375 \nQ 24.8125 8.6875 28.203125 7.640625 \nQ 31.59375 6.59375 35.640625 6.59375 \nQ 39.65625 6.59375 43.21875 7.65625 \nQ 46.78125 8.734375 49.46875 11.078125 \nQ 52.15625 13.421875 53.6875 17.203125 \nQ 55.21875 21 55.21875 26.421875 \nL 55.21875 68.796875 \nL 64.5 68.796875 \nL 64.5 25.875 \nQ 64.5 19 62.234375 13.9375 \nQ 59.96875 8.890625 56.0625 5.5625 \nQ 52.15625 2.25 46.90625 0.625 \nQ 41.65625 -0.984375 35.6875 -0.984375 \nz\n\" id=\"LiberationSans-85\"/>\n     <path d=\"M 73 34.71875 \nQ 73 26.65625 70.671875 20.0625 \nQ 68.359375 13.484375 63.96875 8.796875 \nQ 59.578125 4.109375 53.21875 1.5625 \nQ 46.875 -0.984375 38.8125 -0.984375 \nQ 30.328125 -0.984375 23.921875 1.671875 \nQ 17.53125 4.34375 13.28125 9.109375 \nQ 9.03125 13.875 6.875 20.40625 \nQ 4.734375 26.953125 4.734375 34.71875 \nQ 4.734375 42.78125 6.984375 49.265625 \nQ 9.234375 55.765625 13.578125 60.328125 \nQ 17.921875 64.890625 24.296875 67.359375 \nQ 30.671875 69.828125 38.921875 69.828125 \nQ 47.125 69.828125 53.484375 67.328125 \nQ 59.859375 64.84375 64.171875 60.25 \nQ 68.5 55.671875 70.75 49.171875 \nQ 73 42.671875 73 34.71875 \nz\nM 63.484375 34.71875 \nQ 63.484375 40.921875 61.890625 46 \nQ 60.296875 51.078125 57.203125 54.6875 \nQ 54.109375 58.296875 49.515625 60.25 \nQ 44.921875 62.203125 38.921875 62.203125 \nQ 32.765625 62.203125 28.125 60.25 \nQ 23.484375 58.296875 20.375 54.6875 \nQ 17.28125 51.078125 15.734375 46 \nQ 14.203125 40.921875 14.203125 34.71875 \nQ 14.203125 28.515625 15.796875 23.359375 \nQ 17.390625 18.21875 20.484375 14.484375 \nQ 23.578125 10.75 28.1875 8.671875 \nQ 32.8125 6.59375 38.8125 6.59375 \nQ 45.265625 6.59375 49.921875 8.6875 \nQ 54.59375 10.796875 57.59375 14.53125 \nQ 60.59375 18.265625 62.03125 23.4375 \nQ 63.484375 28.609375 63.484375 34.71875 \nz\n\" id=\"LiberationSans-79\"/>\n     <path d=\"M 61.421875 48.09375 \nQ 61.421875 43.609375 59.9375 39.71875 \nQ 58.453125 35.84375 55.5 32.984375 \nQ 52.546875 30.125 48.09375 28.46875 \nQ 43.65625 26.8125 37.75 26.8125 \nL 17.53125 26.8125 \nL 17.53125 0 \nL 8.203125 0 \nL 8.203125 68.796875 \nL 37.15625 68.796875 \nQ 43.265625 68.796875 47.796875 67.3125 \nQ 52.34375 65.828125 55.375 63.109375 \nQ 58.40625 60.40625 59.90625 56.5625 \nQ 61.421875 52.734375 61.421875 48.09375 \nz\nM 52.046875 48 \nQ 52.046875 54.546875 48.046875 57.9375 \nQ 44.046875 61.328125 36.03125 61.328125 \nL 17.53125 61.328125 \nL 17.53125 34.1875 \nL 36.421875 34.1875 \nQ 44.484375 34.1875 48.265625 37.75 \nQ 52.046875 41.3125 52.046875 48 \nz\n\" id=\"LiberationSans-80\"/>\n    </defs>\n    <g style=\"fill:#262626;\" transform=\"translate(101.948163 89.380011)scale(0.1 -0.1)\">\n     <use xlink:href=\"#LiberationSans-69\"/>\n     <use x=\"66.699219\" xlink:href=\"#LiberationSans-85\"/>\n     <use x=\"138.916016\" xlink:href=\"#LiberationSans-82\"/>\n     <use x=\"211.132812\" xlink:href=\"#LiberationSans-79\"/>\n     <use x=\"288.916016\" xlink:href=\"#LiberationSans-80\"/>\n     <use x=\"355.615234\" xlink:href=\"#LiberationSans-69\"/>\n    </g>\n   </g>\n   <g id=\"text_4\">\n    <!-- ASIA -->\n    <defs>\n     <path d=\"M 62.109375 19 \nQ 62.109375 14.65625 60.421875 10.984375 \nQ 58.734375 7.328125 55.21875 4.65625 \nQ 51.703125 2 46.359375 0.5 \nQ 41.015625 -0.984375 33.6875 -0.984375 \nQ 20.84375 -0.984375 13.671875 3.515625 \nQ 6.5 8.015625 4.546875 16.5 \nL 13.578125 18.3125 \nQ 14.265625 15.625 15.671875 13.421875 \nQ 17.09375 11.234375 19.5 9.640625 \nQ 21.921875 8.0625 25.484375 7.171875 \nQ 29.046875 6.296875 34.03125 6.296875 \nQ 38.1875 6.296875 41.65625 7 \nQ 45.125 7.71875 47.609375 9.171875 \nQ 50.09375 10.640625 51.484375 12.953125 \nQ 52.875 15.28125 52.875 18.5 \nQ 52.875 21.875 51.34375 23.96875 \nQ 49.8125 26.078125 47.015625 27.4375 \nQ 44.234375 28.8125 40.375 29.734375 \nQ 36.53125 30.671875 31.84375 31.734375 \nQ 28.953125 32.375 26.046875 33.125 \nQ 23.140625 33.890625 20.484375 34.9375 \nQ 17.828125 35.984375 15.484375 37.390625 \nQ 13.140625 38.8125 11.421875 40.796875 \nQ 9.71875 42.78125 8.734375 45.390625 \nQ 7.765625 48 7.765625 51.421875 \nQ 7.765625 56.296875 9.734375 59.78125 \nQ 11.71875 63.28125 15.234375 65.53125 \nQ 18.75 67.78125 23.53125 68.796875 \nQ 28.328125 69.828125 33.890625 69.828125 \nQ 40.28125 69.828125 44.8125 68.828125 \nQ 49.359375 67.828125 52.484375 65.8125 \nQ 55.609375 63.8125 57.484375 60.859375 \nQ 59.375 57.90625 60.5 54 \nL 51.3125 52.390625 \nQ 50.640625 54.890625 49.34375 56.84375 \nQ 48.046875 58.796875 45.9375 60.109375 \nQ 43.84375 61.421875 40.84375 62.109375 \nQ 37.84375 62.796875 33.796875 62.796875 \nQ 29 62.796875 25.75 61.9375 \nQ 22.515625 61.078125 20.53125 59.609375 \nQ 18.5625 58.15625 17.703125 56.171875 \nQ 16.84375 54.203125 16.84375 51.90625 \nQ 16.84375 48.828125 18.375 46.84375 \nQ 19.921875 44.875 22.5625 43.546875 \nQ 25.203125 42.234375 28.65625 41.359375 \nQ 32.125 40.484375 36.03125 39.59375 \nQ 39.203125 38.875 42.359375 38.109375 \nQ 45.515625 37.359375 48.390625 36.296875 \nQ 51.265625 35.25 53.78125 33.828125 \nQ 56.296875 32.421875 58.15625 30.375 \nQ 60.015625 28.328125 61.0625 25.53125 \nQ 62.109375 22.75 62.109375 19 \nz\n\" id=\"LiberationSans-83\"/>\n    </defs>\n    <g style=\"fill:#262626;\" transform=\"translate(134.900424 217.241061)scale(0.1 -0.1)\">\n     <use xlink:href=\"#LiberationSans-65\"/>\n     <use x=\"66.699219\" xlink:href=\"#LiberationSans-83\"/>\n     <use x=\"133.398438\" xlink:href=\"#LiberationSans-73\"/>\n     <use x=\"161.181641\" xlink:href=\"#LiberationSans-65\"/>\n    </g>\n   </g>\n   <g id=\"text_5\">\n    <!-- NORTH AMERICA -->\n    <defs>\n     <path d=\"M 52.828125 0 \nL 16.015625 58.59375 \nQ 16.109375 56.203125 16.265625 53.859375 \nQ 16.359375 51.859375 16.421875 49.625 \nQ 16.5 47.40625 16.5 45.703125 \nL 16.5 0 \nL 8.203125 0 \nL 8.203125 68.796875 \nL 19.046875 68.796875 \nL 56.25 9.8125 \nQ 56.109375 12.203125 55.953125 14.59375 \nQ 55.859375 16.65625 55.765625 19.0625 \nQ 55.671875 21.484375 55.671875 23.6875 \nL 55.671875 68.796875 \nL 64.0625 68.796875 \nL 64.0625 0 \nz\n\" id=\"LiberationSans-78\"/>\n     <path d=\"M 35.15625 61.1875 \nL 35.15625 0 \nL 25.875 0 \nL 25.875 61.1875 \nL 2.25 61.1875 \nL 2.25 68.796875 \nL 58.796875 68.796875 \nL 58.796875 61.1875 \nz\n\" id=\"LiberationSans-84\"/>\n     <path d=\"M 54.734375 0 \nL 54.734375 31.890625 \nL 17.53125 31.890625 \nL 17.53125 0 \nL 8.203125 0 \nL 8.203125 68.796875 \nL 17.53125 68.796875 \nL 17.53125 39.703125 \nL 54.734375 39.703125 \nL 54.734375 68.796875 \nL 64.0625 68.796875 \nL 64.0625 0 \nz\n\" id=\"LiberationSans-72\"/>\n     <path id=\"LiberationSans-32\"/>\n     <path d=\"M 66.703125 0 \nL 66.703125 45.90625 \nQ 66.703125 48.390625 66.75 50.96875 \nQ 66.796875 53.5625 66.890625 55.71875 \nQ 67 58.203125 67.140625 60.546875 \nQ 66.453125 58.0625 65.71875 55.609375 \nQ 65.09375 53.515625 64.328125 51.140625 \nQ 63.578125 48.78125 62.84375 46.875 \nL 45.0625 0 \nL 38.53125 0 \nL 20.515625 46.875 \nQ 20.21875 47.609375 19.890625 48.578125 \nQ 19.578125 49.5625 19.203125 50.65625 \nQ 18.84375 51.765625 18.46875 52.90625 \nQ 18.109375 54.046875 17.78125 55.171875 \nQ 16.9375 57.765625 16.15625 60.546875 \nQ 16.21875 57.8125 16.3125 55.125 \nQ 16.40625 52.828125 16.453125 50.3125 \nQ 16.5 47.796875 16.5 45.90625 \nL 16.5 0 \nL 8.203125 0 \nL 8.203125 68.796875 \nL 20.453125 68.796875 \nL 38.765625 21.09375 \nQ 39.109375 20.125 39.59375 18.578125 \nQ 40.09375 17.046875 40.53125 15.421875 \nQ 40.96875 13.8125 41.328125 12.375 \nQ 41.703125 10.9375 41.84375 10.15625 \nQ 42 10.9375 42.390625 12.40625 \nQ 42.78125 13.875 43.28125 15.484375 \nQ 43.796875 17.09375 44.28125 18.609375 \nQ 44.78125 20.125 45.171875 21.09375 \nL 63.140625 68.796875 \nL 75.09375 68.796875 \nL 75.09375 0 \nz\n\" id=\"LiberationSans-77\"/>\n    </defs>\n    <g style=\"fill:#262626;\" transform=\"translate(254.768495 235.53188)scale(0.1 -0.1)\">\n     <use xlink:href=\"#LiberationSans-78\"/>\n     <use x=\"72.216797\" xlink:href=\"#LiberationSans-79\"/>\n     <use x=\"150\" xlink:href=\"#LiberationSans-82\"/>\n     <use x=\"220.466797\" xlink:href=\"#LiberationSans-84\"/>\n     <use x=\"281.550781\" xlink:href=\"#LiberationSans-72\"/>\n     <use x=\"353.767578\" xlink:href=\"#LiberationSans-32\"/>\n     <use x=\"376.050781\" xlink:href=\"#LiberationSans-65\"/>\n     <use x=\"442.75\" xlink:href=\"#LiberationSans-77\"/>\n     <use x=\"526.050781\" xlink:href=\"#LiberationSans-69\"/>\n     <use x=\"592.75\" xlink:href=\"#LiberationSans-82\"/>\n     <use x=\"664.966797\" xlink:href=\"#LiberationSans-73\"/>\n     <use x=\"692.75\" xlink:href=\"#LiberationSans-67\"/>\n     <use x=\"764.966797\" xlink:href=\"#LiberationSans-65\"/>\n    </g>\n   </g>\n   <g id=\"text_6\">\n    <!-- OCEANIA -->\n    <g style=\"fill:#262626;\" transform=\"translate(299.523579 201.094047)scale(0.1 -0.1)\">\n     <use xlink:href=\"#LiberationSans-79\"/>\n     <use x=\"77.783203\" xlink:href=\"#LiberationSans-67\"/>\n     <use x=\"150\" xlink:href=\"#LiberationSans-69\"/>\n     <use x=\"216.699219\" xlink:href=\"#LiberationSans-65\"/>\n     <use x=\"283.398438\" xlink:href=\"#LiberationSans-78\"/>\n     <use x=\"355.615234\" xlink:href=\"#LiberationSans-73\"/>\n     <use x=\"383.398438\" xlink:href=\"#LiberationSans-65\"/>\n    </g>\n   </g>\n   <g id=\"text_7\">\n    <!-- SOUTH AMERICA -->\n    <g style=\"fill:#262626;\" transform=\"translate(315.272846 164.34096)scale(0.1 -0.1)\">\n     <use xlink:href=\"#LiberationSans-83\"/>\n     <use x=\"66.699219\" xlink:href=\"#LiberationSans-79\"/>\n     <use x=\"144.482422\" xlink:href=\"#LiberationSans-85\"/>\n     <use x=\"216.699219\" xlink:href=\"#LiberationSans-84\"/>\n     <use x=\"277.783203\" xlink:href=\"#LiberationSans-72\"/>\n     <use x=\"350\" xlink:href=\"#LiberationSans-32\"/>\n     <use x=\"372.283203\" xlink:href=\"#LiberationSans-65\"/>\n     <use x=\"438.982422\" xlink:href=\"#LiberationSans-77\"/>\n     <use x=\"522.283203\" xlink:href=\"#LiberationSans-69\"/>\n     <use x=\"588.982422\" xlink:href=\"#LiberationSans-82\"/>\n     <use x=\"661.199219\" xlink:href=\"#LiberationSans-73\"/>\n     <use x=\"688.982422\" xlink:href=\"#LiberationSans-67\"/>\n     <use x=\"761.199219\" xlink:href=\"#LiberationSans-65\"/>\n    </g>\n   </g>\n  </g>\n </g>\n</svg>\n"
          },
          "metadata": {
            "tags": []
          }
        }
      ]
    },
    {
      "cell_type": "markdown",
      "metadata": {
        "id": "eVnUwXvpph9k",
        "colab_type": "text"
      },
      "source": [
        "## seaborn, compliment to matplotlib"
      ]
    },
    {
      "cell_type": "code",
      "metadata": {
        "id": "fr6JZCAcpCSY",
        "colab_type": "code",
        "colab": {
          "base_uri": "https://localhost:8080/",
          "height": 70
        },
        "outputId": "b4bdfc94-ef94-4896-d534-e95aaef8076d"
      },
      "source": [
        "import seaborn as sns"
      ],
      "execution_count": 47,
      "outputs": [
        {
          "output_type": "stream",
          "text": [
            "/usr/local/lib/python3.6/dist-packages/statsmodels/tools/_testing.py:19: FutureWarning: pandas.util.testing is deprecated. Use the functions in the public API at pandas.testing instead.\n",
            "  import pandas.util.testing as tm\n"
          ],
          "name": "stderr"
        }
      ]
    },
    {
      "cell_type": "code",
      "metadata": {
        "id": "RbC9S0HuqA2l",
        "colab_type": "code",
        "colab": {
          "base_uri": "https://localhost:8080/",
          "height": 422
        },
        "outputId": "d5655731-3081-4601-9378-651aedd92cdb"
      },
      "source": [
        "sns.countplot(x=\"Region\", data=c)"
      ],
      "execution_count": 50,
      "outputs": [
        {
          "output_type": "execute_result",
          "data": {
            "text/plain": [
              "<matplotlib.axes._subplots.AxesSubplot at 0x7f7fe649d630>"
            ]
          },
          "metadata": {
            "tags": []
          },
          "execution_count": 50
        },
        {
          "output_type": "display_data",
          "data": {
            "application/pdf": "[encoded data removed]",
            "text/plain": [
              "<Figure size 432x288 with 1 Axes>"
            ],
            "image/svg+xml": "<?xml version=\"1.0\" encoding=\"utf-8\" standalone=\"no\"?>\n<!DOCTYPE svg PUBLIC \"-//W3C//DTD SVG 1.1//EN\"\n  \"http://www.w3.org/Graphics/SVG/1.1/DTD/svg11.dtd\">\n<!-- Created with matplotlib (https://matplotlib.org/) -->\n<svg height=\"288pt\" version=\"1.1\" viewBox=\"0 0 432 288\" width=\"432pt\" xmlns=\"http://www.w3.org/2000/svg\" xmlns:xlink=\"http://www.w3.org/1999/xlink\">\n <defs>\n  <style type=\"text/css\">\n*{stroke-linecap:butt;stroke-linejoin:round;}\n  </style>\n </defs>\n <g id=\"figure_1\">\n  <g id=\"patch_1\">\n   <path d=\"M 0 288 \nL 432 288 \nL 432 0 \nL 0 0 \nz\n\" style=\"fill:#ffffff;\"/>\n  </g>\n  <g id=\"axes_1\">\n   <g id=\"patch_2\">\n    <path d=\"M 54 252 \nL 388.8 252 \nL 388.8 34.56 \nL 54 34.56 \nz\n\" style=\"fill:#ffffff;\"/>\n   </g>\n   <g id=\"matplotlib.axis_1\">\n    <g id=\"xtick_1\">\n     <g id=\"line2d_1\"/>\n     <g id=\"text_1\">\n      <!-- AFRICA -->\n      <defs>\n       <path d=\"M 56.984375 0 \nL 49.125 20.125 \nL 17.78125 20.125 \nL 9.859375 0 \nL 0.203125 0 \nL 28.265625 68.796875 \nL 38.875 68.796875 \nL 66.5 0 \nz\nM 37.5 50.09375 \nQ 36.71875 52.046875 36 54.046875 \nQ 35.296875 56.0625 34.765625 57.6875 \nQ 34.234375 59.328125 33.859375 60.421875 \nQ 33.5 61.53125 33.453125 61.765625 \nQ 33.34375 61.53125 33 60.40625 \nQ 32.671875 59.28125 32.109375 57.609375 \nQ 31.546875 55.953125 30.828125 53.953125 \nQ 30.125 51.953125 29.390625 50 \nL 20.609375 27.390625 \nL 46.34375 27.390625 \nz\n\" id=\"LiberationSans-65\"/>\n       <path d=\"M 17.53125 61.1875 \nL 17.53125 35.59375 \nL 55.90625 35.59375 \nL 55.90625 27.875 \nL 17.53125 27.875 \nL 17.53125 0 \nL 8.203125 0 \nL 8.203125 68.796875 \nL 57.078125 68.796875 \nL 57.078125 61.1875 \nz\n\" id=\"LiberationSans-70\"/>\n       <path d=\"M 56.84375 0 \nL 38.96875 28.5625 \nL 17.53125 28.5625 \nL 17.53125 0 \nL 8.203125 0 \nL 8.203125 68.796875 \nL 40.578125 68.796875 \nQ 46.4375 68.796875 50.953125 67.453125 \nQ 55.46875 66.109375 58.546875 63.5625 \nQ 61.625 61.03125 63.234375 57.375 \nQ 64.84375 53.71875 64.84375 49.125 \nQ 64.84375 45.84375 63.890625 42.671875 \nQ 62.9375 39.5 60.890625 36.859375 \nQ 58.84375 34.234375 55.65625 32.328125 \nQ 52.484375 30.421875 48.046875 29.640625 \nL 67.578125 0 \nz\nM 55.46875 49.03125 \nQ 55.46875 52.15625 54.390625 54.4375 \nQ 53.328125 56.734375 51.265625 58.265625 \nQ 49.21875 59.8125 46.28125 60.5625 \nQ 43.359375 61.328125 39.65625 61.328125 \nL 17.53125 61.328125 \nL 17.53125 35.9375 \nL 40.046875 35.9375 \nQ 44.046875 35.9375 46.96875 36.9375 \nQ 49.90625 37.9375 51.78125 39.6875 \nQ 53.65625 41.453125 54.5625 43.84375 \nQ 55.46875 46.234375 55.46875 49.03125 \nz\n\" id=\"LiberationSans-82\"/>\n       <path d=\"M 9.234375 0 \nL 9.234375 68.796875 \nL 18.5625 68.796875 \nL 18.5625 0 \nz\n\" id=\"LiberationSans-73\"/>\n       <path d=\"M 38.671875 62.203125 \nQ 32.8125 62.203125 28.296875 60.25 \nQ 23.78125 58.296875 20.71875 54.6875 \nQ 17.671875 51.078125 16.109375 46 \nQ 14.546875 40.921875 14.546875 34.71875 \nQ 14.546875 28.515625 16.234375 23.359375 \nQ 17.921875 18.21875 21.0625 14.5 \nQ 24.21875 10.796875 28.78125 8.734375 \nQ 33.34375 6.6875 39.0625 6.6875 \nQ 43.0625 6.6875 46.359375 7.734375 \nQ 49.65625 8.796875 52.3125 10.6875 \nQ 54.984375 12.59375 57.078125 15.203125 \nQ 59.1875 17.828125 60.796875 21 \nL 68.40625 17.1875 \nQ 66.546875 13.328125 63.8125 10 \nQ 61.078125 6.6875 57.390625 4.25 \nQ 53.71875 1.8125 49.046875 0.40625 \nQ 44.390625 -0.984375 38.625 -0.984375 \nQ 30.28125 -0.984375 24 1.671875 \nQ 17.71875 4.34375 13.5 9.109375 \nQ 9.28125 13.875 7.171875 20.40625 \nQ 5.078125 26.953125 5.078125 34.71875 \nQ 5.078125 42.78125 7.296875 49.265625 \nQ 9.515625 55.765625 13.78125 60.328125 \nQ 18.0625 64.890625 24.3125 67.359375 \nQ 30.5625 69.828125 38.578125 69.828125 \nQ 49.5625 69.828125 56.9375 65.53125 \nQ 64.3125 61.234375 67.78125 52.78125 \nL 58.9375 49.859375 \nQ 57.953125 52.296875 56.296875 54.515625 \nQ 54.640625 56.734375 52.140625 58.4375 \nQ 49.65625 60.15625 46.3125 61.171875 \nQ 42.96875 62.203125 38.671875 62.203125 \nz\n\" id=\"LiberationSans-67\"/>\n      </defs>\n      <g style=\"fill:#262626;\" transform=\"translate(63.564844 262.746875)scale(0.1 -0.1)\">\n       <use xlink:href=\"#LiberationSans-65\"/>\n       <use x=\"66.699219\" xlink:href=\"#LiberationSans-70\"/>\n       <use x=\"127.783203\" xlink:href=\"#LiberationSans-82\"/>\n       <use x=\"200\" xlink:href=\"#LiberationSans-73\"/>\n       <use x=\"227.783203\" xlink:href=\"#LiberationSans-67\"/>\n       <use x=\"300\" xlink:href=\"#LiberationSans-65\"/>\n      </g>\n     </g>\n    </g>\n    <g id=\"xtick_2\">\n     <g id=\"line2d_2\"/>\n     <g id=\"text_2\">\n      <!-- ASIA -->\n      <defs>\n       <path d=\"M 62.109375 19 \nQ 62.109375 14.65625 60.421875 10.984375 \nQ 58.734375 7.328125 55.21875 4.65625 \nQ 51.703125 2 46.359375 0.5 \nQ 41.015625 -0.984375 33.6875 -0.984375 \nQ 20.84375 -0.984375 13.671875 3.515625 \nQ 6.5 8.015625 4.546875 16.5 \nL 13.578125 18.3125 \nQ 14.265625 15.625 15.671875 13.421875 \nQ 17.09375 11.234375 19.5 9.640625 \nQ 21.921875 8.0625 25.484375 7.171875 \nQ 29.046875 6.296875 34.03125 6.296875 \nQ 38.1875 6.296875 41.65625 7 \nQ 45.125 7.71875 47.609375 9.171875 \nQ 50.09375 10.640625 51.484375 12.953125 \nQ 52.875 15.28125 52.875 18.5 \nQ 52.875 21.875 51.34375 23.96875 \nQ 49.8125 26.078125 47.015625 27.4375 \nQ 44.234375 28.8125 40.375 29.734375 \nQ 36.53125 30.671875 31.84375 31.734375 \nQ 28.953125 32.375 26.046875 33.125 \nQ 23.140625 33.890625 20.484375 34.9375 \nQ 17.828125 35.984375 15.484375 37.390625 \nQ 13.140625 38.8125 11.421875 40.796875 \nQ 9.71875 42.78125 8.734375 45.390625 \nQ 7.765625 48 7.765625 51.421875 \nQ 7.765625 56.296875 9.734375 59.78125 \nQ 11.71875 63.28125 15.234375 65.53125 \nQ 18.75 67.78125 23.53125 68.796875 \nQ 28.328125 69.828125 33.890625 69.828125 \nQ 40.28125 69.828125 44.8125 68.828125 \nQ 49.359375 67.828125 52.484375 65.8125 \nQ 55.609375 63.8125 57.484375 60.859375 \nQ 59.375 57.90625 60.5 54 \nL 51.3125 52.390625 \nQ 50.640625 54.890625 49.34375 56.84375 \nQ 48.046875 58.796875 45.9375 60.109375 \nQ 43.84375 61.421875 40.84375 62.109375 \nQ 37.84375 62.796875 33.796875 62.796875 \nQ 29 62.796875 25.75 61.9375 \nQ 22.515625 61.078125 20.53125 59.609375 \nQ 18.5625 58.15625 17.703125 56.171875 \nQ 16.84375 54.203125 16.84375 51.90625 \nQ 16.84375 48.828125 18.375 46.84375 \nQ 19.921875 44.875 22.5625 43.546875 \nQ 25.203125 42.234375 28.65625 41.359375 \nQ 32.125 40.484375 36.03125 39.59375 \nQ 39.203125 38.875 42.359375 38.109375 \nQ 45.515625 37.359375 48.390625 36.296875 \nQ 51.265625 35.25 53.78125 33.828125 \nQ 56.296875 32.421875 58.15625 30.375 \nQ 60.015625 28.328125 61.0625 25.53125 \nQ 62.109375 22.75 62.109375 19 \nz\n\" id=\"LiberationSans-83\"/>\n      </defs>\n      <g style=\"fill:#262626;\" transform=\"translate(126.305469 262.746875)scale(0.1 -0.1)\">\n       <use xlink:href=\"#LiberationSans-65\"/>\n       <use x=\"66.699219\" xlink:href=\"#LiberationSans-83\"/>\n       <use x=\"133.398438\" xlink:href=\"#LiberationSans-73\"/>\n       <use x=\"161.181641\" xlink:href=\"#LiberationSans-65\"/>\n      </g>\n     </g>\n    </g>\n    <g id=\"xtick_3\">\n     <g id=\"line2d_3\"/>\n     <g id=\"text_3\">\n      <!-- EUROPE -->\n      <defs>\n       <path d=\"M 8.203125 0 \nL 8.203125 68.796875 \nL 60.40625 68.796875 \nL 60.40625 61.1875 \nL 17.53125 61.1875 \nL 17.53125 39.109375 \nL 57.46875 39.109375 \nL 57.46875 31.59375 \nL 17.53125 31.59375 \nL 17.53125 7.625 \nL 62.40625 7.625 \nL 62.40625 0 \nz\n\" id=\"LiberationSans-69\"/>\n       <path d=\"M 35.6875 -0.984375 \nQ 30.03125 -0.984375 24.953125 0.53125 \nQ 19.875 2.046875 16.03125 5.25 \nQ 12.203125 8.453125 9.953125 13.359375 \nQ 7.71875 18.265625 7.71875 25 \nL 7.71875 68.796875 \nL 17.046875 68.796875 \nL 17.046875 25.78125 \nQ 17.046875 20.5625 18.4375 16.921875 \nQ 19.828125 13.28125 22.3125 10.984375 \nQ 24.8125 8.6875 28.203125 7.640625 \nQ 31.59375 6.59375 35.640625 6.59375 \nQ 39.65625 6.59375 43.21875 7.65625 \nQ 46.78125 8.734375 49.46875 11.078125 \nQ 52.15625 13.421875 53.6875 17.203125 \nQ 55.21875 21 55.21875 26.421875 \nL 55.21875 68.796875 \nL 64.5 68.796875 \nL 64.5 25.875 \nQ 64.5 19 62.234375 13.9375 \nQ 59.96875 8.890625 56.0625 5.5625 \nQ 52.15625 2.25 46.90625 0.625 \nQ 41.65625 -0.984375 35.6875 -0.984375 \nz\n\" id=\"LiberationSans-85\"/>\n       <path d=\"M 73 34.71875 \nQ 73 26.65625 70.671875 20.0625 \nQ 68.359375 13.484375 63.96875 8.796875 \nQ 59.578125 4.109375 53.21875 1.5625 \nQ 46.875 -0.984375 38.8125 -0.984375 \nQ 30.328125 -0.984375 23.921875 1.671875 \nQ 17.53125 4.34375 13.28125 9.109375 \nQ 9.03125 13.875 6.875 20.40625 \nQ 4.734375 26.953125 4.734375 34.71875 \nQ 4.734375 42.78125 6.984375 49.265625 \nQ 9.234375 55.765625 13.578125 60.328125 \nQ 17.921875 64.890625 24.296875 67.359375 \nQ 30.671875 69.828125 38.921875 69.828125 \nQ 47.125 69.828125 53.484375 67.328125 \nQ 59.859375 64.84375 64.171875 60.25 \nQ 68.5 55.671875 70.75 49.171875 \nQ 73 42.671875 73 34.71875 \nz\nM 63.484375 34.71875 \nQ 63.484375 40.921875 61.890625 46 \nQ 60.296875 51.078125 57.203125 54.6875 \nQ 54.109375 58.296875 49.515625 60.25 \nQ 44.921875 62.203125 38.921875 62.203125 \nQ 32.765625 62.203125 28.125 60.25 \nQ 23.484375 58.296875 20.375 54.6875 \nQ 17.28125 51.078125 15.734375 46 \nQ 14.203125 40.921875 14.203125 34.71875 \nQ 14.203125 28.515625 15.796875 23.359375 \nQ 17.390625 18.21875 20.484375 14.484375 \nQ 23.578125 10.75 28.1875 8.671875 \nQ 32.8125 6.59375 38.8125 6.59375 \nQ 45.265625 6.59375 49.921875 8.6875 \nQ 54.59375 10.796875 57.59375 14.53125 \nQ 60.59375 18.265625 62.03125 23.4375 \nQ 63.484375 28.609375 63.484375 34.71875 \nz\n\" id=\"LiberationSans-79\"/>\n       <path d=\"M 61.421875 48.09375 \nQ 61.421875 43.609375 59.9375 39.71875 \nQ 58.453125 35.84375 55.5 32.984375 \nQ 52.546875 30.125 48.09375 28.46875 \nQ 43.65625 26.8125 37.75 26.8125 \nL 17.53125 26.8125 \nL 17.53125 0 \nL 8.203125 0 \nL 8.203125 68.796875 \nL 37.15625 68.796875 \nQ 43.265625 68.796875 47.796875 67.3125 \nQ 52.34375 65.828125 55.375 63.109375 \nQ 58.40625 60.40625 59.90625 56.5625 \nQ 61.421875 52.734375 61.421875 48.09375 \nz\nM 52.046875 48 \nQ 52.046875 54.546875 48.046875 57.9375 \nQ 44.046875 61.328125 36.03125 61.328125 \nL 17.53125 61.328125 \nL 17.53125 34.1875 \nL 36.421875 34.1875 \nQ 44.484375 34.1875 48.265625 37.75 \nQ 52.046875 41.3125 52.046875 48 \nz\n\" id=\"LiberationSans-80\"/>\n      </defs>\n      <g style=\"fill:#262626;\" transform=\"translate(172.383594 262.746875)scale(0.1 -0.1)\">\n       <use xlink:href=\"#LiberationSans-69\"/>\n       <use x=\"66.699219\" xlink:href=\"#LiberationSans-85\"/>\n       <use x=\"138.916016\" xlink:href=\"#LiberationSans-82\"/>\n       <use x=\"211.132812\" xlink:href=\"#LiberationSans-79\"/>\n       <use x=\"288.916016\" xlink:href=\"#LiberationSans-80\"/>\n       <use x=\"355.615234\" xlink:href=\"#LiberationSans-69\"/>\n      </g>\n     </g>\n    </g>\n    <g id=\"xtick_4\">\n     <g id=\"line2d_4\"/>\n     <g id=\"text_4\">\n      <!-- NORTH AMERICA -->\n      <defs>\n       <path d=\"M 52.828125 0 \nL 16.015625 58.59375 \nQ 16.109375 56.203125 16.265625 53.859375 \nQ 16.359375 51.859375 16.421875 49.625 \nQ 16.5 47.40625 16.5 45.703125 \nL 16.5 0 \nL 8.203125 0 \nL 8.203125 68.796875 \nL 19.046875 68.796875 \nL 56.25 9.8125 \nQ 56.109375 12.203125 55.953125 14.59375 \nQ 55.859375 16.65625 55.765625 19.0625 \nQ 55.671875 21.484375 55.671875 23.6875 \nL 55.671875 68.796875 \nL 64.0625 68.796875 \nL 64.0625 0 \nz\n\" id=\"LiberationSans-78\"/>\n       <path d=\"M 35.15625 61.1875 \nL 35.15625 0 \nL 25.875 0 \nL 25.875 61.1875 \nL 2.25 61.1875 \nL 2.25 68.796875 \nL 58.796875 68.796875 \nL 58.796875 61.1875 \nz\n\" id=\"LiberationSans-84\"/>\n       <path d=\"M 54.734375 0 \nL 54.734375 31.890625 \nL 17.53125 31.890625 \nL 17.53125 0 \nL 8.203125 0 \nL 8.203125 68.796875 \nL 17.53125 68.796875 \nL 17.53125 39.703125 \nL 54.734375 39.703125 \nL 54.734375 68.796875 \nL 64.0625 68.796875 \nL 64.0625 0 \nz\n\" id=\"LiberationSans-72\"/>\n       <path id=\"LiberationSans-32\"/>\n       <path d=\"M 66.703125 0 \nL 66.703125 45.90625 \nQ 66.703125 48.390625 66.75 50.96875 \nQ 66.796875 53.5625 66.890625 55.71875 \nQ 67 58.203125 67.140625 60.546875 \nQ 66.453125 58.0625 65.71875 55.609375 \nQ 65.09375 53.515625 64.328125 51.140625 \nQ 63.578125 48.78125 62.84375 46.875 \nL 45.0625 0 \nL 38.53125 0 \nL 20.515625 46.875 \nQ 20.21875 47.609375 19.890625 48.578125 \nQ 19.578125 49.5625 19.203125 50.65625 \nQ 18.84375 51.765625 18.46875 52.90625 \nQ 18.109375 54.046875 17.78125 55.171875 \nQ 16.9375 57.765625 16.15625 60.546875 \nQ 16.21875 57.8125 16.3125 55.125 \nQ 16.40625 52.828125 16.453125 50.3125 \nQ 16.5 47.796875 16.5 45.90625 \nL 16.5 0 \nL 8.203125 0 \nL 8.203125 68.796875 \nL 20.453125 68.796875 \nL 38.765625 21.09375 \nQ 39.109375 20.125 39.59375 18.578125 \nQ 40.09375 17.046875 40.53125 15.421875 \nQ 40.96875 13.8125 41.328125 12.375 \nQ 41.703125 10.9375 41.84375 10.15625 \nQ 42 10.9375 42.390625 12.40625 \nQ 42.78125 13.875 43.28125 15.484375 \nQ 43.796875 17.09375 44.28125 18.609375 \nQ 44.78125 20.125 45.171875 21.09375 \nL 63.140625 68.796875 \nL 75.09375 68.796875 \nL 75.09375 0 \nz\n\" id=\"LiberationSans-77\"/>\n      </defs>\n      <g style=\"fill:#262626;\" transform=\"translate(207.716406 262.746875)scale(0.1 -0.1)\">\n       <use xlink:href=\"#LiberationSans-78\"/>\n       <use x=\"72.216797\" xlink:href=\"#LiberationSans-79\"/>\n       <use x=\"150\" xlink:href=\"#LiberationSans-82\"/>\n       <use x=\"220.466797\" xlink:href=\"#LiberationSans-84\"/>\n       <use x=\"281.550781\" xlink:href=\"#LiberationSans-72\"/>\n       <use x=\"353.767578\" xlink:href=\"#LiberationSans-32\"/>\n       <use x=\"376.050781\" xlink:href=\"#LiberationSans-65\"/>\n       <use x=\"442.75\" xlink:href=\"#LiberationSans-77\"/>\n       <use x=\"526.050781\" xlink:href=\"#LiberationSans-69\"/>\n       <use x=\"592.75\" xlink:href=\"#LiberationSans-82\"/>\n       <use x=\"664.966797\" xlink:href=\"#LiberationSans-73\"/>\n       <use x=\"692.75\" xlink:href=\"#LiberationSans-67\"/>\n       <use x=\"764.966797\" xlink:href=\"#LiberationSans-65\"/>\n      </g>\n     </g>\n    </g>\n    <g id=\"xtick_5\">\n     <g id=\"line2d_5\"/>\n     <g id=\"text_5\">\n      <!-- OCEANIA -->\n      <g style=\"fill:#262626;\" transform=\"translate(282.594531 262.746875)scale(0.1 -0.1)\">\n       <use xlink:href=\"#LiberationSans-79\"/>\n       <use x=\"77.783203\" xlink:href=\"#LiberationSans-67\"/>\n       <use x=\"150\" xlink:href=\"#LiberationSans-69\"/>\n       <use x=\"216.699219\" xlink:href=\"#LiberationSans-65\"/>\n       <use x=\"283.398438\" xlink:href=\"#LiberationSans-78\"/>\n       <use x=\"355.615234\" xlink:href=\"#LiberationSans-73\"/>\n       <use x=\"383.398438\" xlink:href=\"#LiberationSans-65\"/>\n      </g>\n     </g>\n    </g>\n    <g id=\"xtick_6\">\n     <g id=\"line2d_6\"/>\n     <g id=\"text_6\">\n      <!-- SOUTH AMERICA -->\n      <g style=\"fill:#262626;\" transform=\"translate(319.504687 262.746875)scale(0.1 -0.1)\">\n       <use xlink:href=\"#LiberationSans-83\"/>\n       <use x=\"66.699219\" xlink:href=\"#LiberationSans-79\"/>\n       <use x=\"144.482422\" xlink:href=\"#LiberationSans-85\"/>\n       <use x=\"216.699219\" xlink:href=\"#LiberationSans-84\"/>\n       <use x=\"277.783203\" xlink:href=\"#LiberationSans-72\"/>\n       <use x=\"350\" xlink:href=\"#LiberationSans-32\"/>\n       <use x=\"372.283203\" xlink:href=\"#LiberationSans-65\"/>\n       <use x=\"438.982422\" xlink:href=\"#LiberationSans-77\"/>\n       <use x=\"522.283203\" xlink:href=\"#LiberationSans-69\"/>\n       <use x=\"588.982422\" xlink:href=\"#LiberationSans-82\"/>\n       <use x=\"661.199219\" xlink:href=\"#LiberationSans-73\"/>\n       <use x=\"688.982422\" xlink:href=\"#LiberationSans-67\"/>\n       <use x=\"761.199219\" xlink:href=\"#LiberationSans-65\"/>\n      </g>\n     </g>\n    </g>\n    <g id=\"text_7\">\n     <!-- Region -->\n     <defs>\n      <path d=\"M 13.484375 24.5625 \nQ 13.484375 20.40625 14.328125 16.90625 \nQ 15.1875 13.421875 16.96875 10.90625 \nQ 18.75 8.40625 21.53125 7 \nQ 24.3125 5.609375 28.21875 5.609375 \nQ 33.9375 5.609375 37.375 7.90625 \nQ 40.828125 10.203125 42.046875 13.71875 \nL 49.75 11.53125 \nQ 48.921875 9.328125 47.4375 7.109375 \nQ 45.953125 4.890625 43.453125 3.09375 \nQ 40.96875 1.3125 37.234375 0.15625 \nQ 33.5 -0.984375 28.21875 -0.984375 \nQ 16.5 -0.984375 10.375 6 \nQ 4.25 12.984375 4.25 26.765625 \nQ 4.25 34.1875 6.09375 39.328125 \nQ 7.953125 44.484375 11.171875 47.703125 \nQ 14.40625 50.921875 18.703125 52.359375 \nQ 23 53.8125 27.875 53.8125 \nQ 34.515625 53.8125 38.984375 51.65625 \nQ 43.453125 49.515625 46.15625 45.71875 \nQ 48.875 41.9375 50.015625 36.8125 \nQ 51.171875 31.6875 51.171875 25.734375 \nL 51.171875 24.5625 \nz\nM 42.09375 31.296875 \nQ 41.359375 39.65625 37.84375 43.484375 \nQ 34.328125 47.3125 27.734375 47.3125 \nQ 25.53125 47.3125 23.109375 46.609375 \nQ 20.703125 45.90625 18.65625 44.09375 \nQ 16.609375 42.28125 15.1875 39.171875 \nQ 13.765625 36.078125 13.578125 31.296875 \nz\n\" id=\"LiberationSans-101\"/>\n      <path d=\"M 26.765625 -20.75 \nQ 22.21875 -20.75 18.703125 -19.8125 \nQ 15.1875 -18.890625 12.6875 -17.15625 \nQ 10.203125 -15.4375 8.640625 -13.03125 \nQ 7.078125 -10.640625 6.390625 -7.71875 \nL 15.234375 -6.453125 \nQ 16.109375 -10.109375 19.109375 -12.078125 \nQ 22.125 -14.0625 27 -14.0625 \nQ 29.984375 -14.0625 32.421875 -13.234375 \nQ 34.859375 -12.40625 36.5625 -10.5625 \nQ 38.28125 -8.734375 39.203125 -5.796875 \nQ 40.140625 -2.875 40.140625 1.3125 \nL 40.140625 9.8125 \nL 40.046875 9.8125 \nQ 39.0625 7.8125 37.625 5.984375 \nQ 36.1875 4.15625 34.109375 2.734375 \nQ 32.03125 1.3125 29.296875 0.453125 \nQ 26.5625 -0.390625 23.046875 -0.390625 \nQ 18.015625 -0.390625 14.421875 1.296875 \nQ 10.84375 2.984375 8.5625 6.34375 \nQ 6.296875 9.71875 5.25 14.71875 \nQ 4.203125 19.734375 4.203125 26.3125 \nQ 4.203125 32.671875 5.25 37.75 \nQ 6.296875 42.828125 8.65625 46.359375 \nQ 11.03125 49.90625 14.8125 51.78125 \nQ 18.609375 53.65625 24.03125 53.65625 \nQ 29.640625 53.65625 33.765625 51.09375 \nQ 37.890625 48.53125 40.140625 43.796875 \nL 40.234375 43.796875 \nQ 40.234375 45.015625 40.296875 46.53125 \nQ 40.375 48.046875 40.453125 49.390625 \nQ 40.53125 50.734375 40.625 51.703125 \nQ 40.71875 52.6875 40.828125 52.828125 \nL 49.171875 52.828125 \nQ 49.125 52.390625 49.078125 51.34375 \nQ 49.03125 50.296875 48.96875 48.828125 \nQ 48.921875 47.359375 48.890625 45.578125 \nQ 48.875 43.796875 48.875 41.890625 \nL 48.875 1.515625 \nQ 48.875 -9.578125 43.421875 -15.15625 \nQ 37.984375 -20.75 26.765625 -20.75 \nz\nM 40.140625 26.421875 \nQ 40.140625 31.9375 38.9375 35.859375 \nQ 37.75 39.796875 35.796875 42.28125 \nQ 33.84375 44.78125 31.328125 45.953125 \nQ 28.8125 47.125 26.171875 47.125 \nQ 22.796875 47.125 20.375 45.953125 \nQ 17.96875 44.78125 16.375 42.265625 \nQ 14.796875 39.75 14.03125 35.8125 \nQ 13.28125 31.890625 13.28125 26.421875 \nQ 13.28125 20.703125 14.03125 16.8125 \nQ 14.796875 12.9375 16.359375 10.546875 \nQ 17.921875 8.15625 20.3125 7.125 \nQ 22.703125 6.109375 26.03125 6.109375 \nQ 28.65625 6.109375 31.171875 7.21875 \nQ 33.6875 8.34375 35.6875 10.78125 \nQ 37.703125 13.234375 38.921875 17.09375 \nQ 40.140625 20.953125 40.140625 26.421875 \nz\n\" id=\"LiberationSans-103\"/>\n      <path d=\"M 6.6875 64.0625 \nL 6.6875 72.46875 \nL 15.484375 72.46875 \nL 15.484375 64.0625 \nz\nM 6.6875 0 \nL 6.6875 52.828125 \nL 15.484375 52.828125 \nL 15.484375 0 \nz\n\" id=\"LiberationSans-105\"/>\n      <path d=\"M 51.421875 26.46875 \nQ 51.421875 12.59375 45.3125 5.796875 \nQ 39.203125 -0.984375 27.59375 -0.984375 \nQ 22.078125 -0.984375 17.71875 0.671875 \nQ 13.375 2.34375 10.375 5.765625 \nQ 7.375 9.1875 5.78125 14.328125 \nQ 4.203125 19.484375 4.203125 26.46875 \nQ 4.203125 53.8125 27.875 53.8125 \nQ 34.03125 53.8125 38.5 52.09375 \nQ 42.96875 50.390625 45.828125 46.96875 \nQ 48.6875 43.5625 50.046875 38.421875 \nQ 51.421875 33.296875 51.421875 26.46875 \nz\nM 42.1875 26.46875 \nQ 42.1875 32.625 41.234375 36.625 \nQ 40.28125 40.625 38.453125 43.015625 \nQ 36.625 45.40625 33.984375 46.359375 \nQ 31.34375 47.3125 28.03125 47.3125 \nQ 24.65625 47.3125 21.9375 46.3125 \nQ 19.234375 45.3125 17.328125 42.890625 \nQ 15.4375 40.484375 14.421875 36.46875 \nQ 13.421875 32.46875 13.421875 26.46875 \nQ 13.421875 20.3125 14.5 16.28125 \nQ 15.578125 12.25 17.453125 9.859375 \nQ 19.34375 7.46875 21.90625 6.484375 \nQ 24.46875 5.515625 27.484375 5.515625 \nQ 30.859375 5.515625 33.59375 6.46875 \nQ 36.328125 7.421875 38.234375 9.8125 \nQ 40.140625 12.203125 41.15625 16.25 \nQ 42.1875 20.3125 42.1875 26.46875 \nz\n\" id=\"LiberationSans-111\"/>\n      <path d=\"M 40.28125 0 \nL 40.28125 33.5 \nQ 40.28125 37.359375 39.71875 39.9375 \nQ 39.15625 42.53125 37.890625 44.109375 \nQ 36.625 45.703125 34.546875 46.359375 \nQ 32.46875 47.015625 29.390625 47.015625 \nQ 26.265625 47.015625 23.75 45.921875 \nQ 21.234375 44.828125 19.453125 42.75 \nQ 17.671875 40.671875 16.6875 37.625 \nQ 15.71875 34.578125 15.71875 30.609375 \nL 15.71875 0 \nL 6.9375 0 \nL 6.9375 41.546875 \nQ 6.9375 43.21875 6.90625 45.046875 \nQ 6.890625 46.875 6.828125 48.5 \nQ 6.78125 50.140625 6.734375 51.3125 \nQ 6.6875 52.484375 6.640625 52.828125 \nL 14.9375 52.828125 \nQ 14.984375 52.59375 15.03125 51.515625 \nQ 15.09375 50.4375 15.15625 49.046875 \nQ 15.234375 47.65625 15.28125 46.21875 \nQ 15.328125 44.78125 15.328125 43.796875 \nL 15.484375 43.796875 \nQ 16.75 46.09375 18.265625 47.953125 \nQ 19.78125 49.8125 21.78125 51.09375 \nQ 23.78125 52.390625 26.359375 53.09375 \nQ 28.953125 53.8125 32.375 53.8125 \nQ 36.765625 53.8125 39.9375 52.734375 \nQ 43.109375 51.65625 45.15625 49.40625 \nQ 47.21875 47.171875 48.171875 43.625 \nQ 49.125 40.09375 49.125 35.203125 \nL 49.125 0 \nz\n\" id=\"LiberationSans-110\"/>\n     </defs>\n     <g style=\"fill:#262626;\" transform=\"translate(205.55625 276.06875)scale(0.1 -0.1)\">\n      <use xlink:href=\"#LiberationSans-82\"/>\n      <use x=\"72.216797\" xlink:href=\"#LiberationSans-101\"/>\n      <use x=\"127.832031\" xlink:href=\"#LiberationSans-103\"/>\n      <use x=\"183.447266\" xlink:href=\"#LiberationSans-105\"/>\n      <use x=\"205.664062\" xlink:href=\"#LiberationSans-111\"/>\n      <use x=\"261.279297\" xlink:href=\"#LiberationSans-110\"/>\n     </g>\n    </g>\n   </g>\n   <g id=\"matplotlib.axis_2\">\n    <g id=\"ytick_1\">\n     <g id=\"line2d_7\">\n      <path clip-path=\"url(#pae78f81d87)\" d=\"M 54 252 \nL 388.8 252 \n\" style=\"fill:none;stroke:#cccccc;stroke-linecap:round;stroke-width:0.8;\"/>\n     </g>\n     <g id=\"line2d_8\"/>\n     <g id=\"text_8\">\n      <!-- 0 -->\n      <defs>\n       <path d=\"M 51.703125 34.421875 \nQ 51.703125 24.515625 49.828125 17.75 \nQ 47.953125 10.984375 44.703125 6.8125 \nQ 41.453125 2.640625 37.0625 0.828125 \nQ 32.671875 -0.984375 27.6875 -0.984375 \nQ 22.65625 -0.984375 18.3125 0.828125 \nQ 13.96875 2.640625 10.765625 6.78125 \nQ 7.5625 10.9375 5.734375 17.703125 \nQ 3.90625 24.46875 3.90625 34.421875 \nQ 3.90625 44.828125 5.734375 51.640625 \nQ 7.5625 58.453125 10.78125 62.5 \nQ 14.015625 66.546875 18.40625 68.1875 \nQ 22.796875 69.828125 27.984375 69.828125 \nQ 32.90625 69.828125 37.21875 68.1875 \nQ 41.546875 66.546875 44.765625 62.5 \nQ 48 58.453125 49.84375 51.640625 \nQ 51.703125 44.828125 51.703125 34.421875 \nz\nM 42.78125 34.421875 \nQ 42.78125 42.625 41.796875 48.0625 \nQ 40.828125 53.515625 38.921875 56.765625 \nQ 37.015625 60.015625 34.25 61.359375 \nQ 31.5 62.703125 27.984375 62.703125 \nQ 24.265625 62.703125 21.4375 61.328125 \nQ 18.609375 59.96875 16.671875 56.71875 \nQ 14.75 53.46875 13.765625 48.015625 \nQ 12.796875 42.578125 12.796875 34.421875 \nQ 12.796875 26.515625 13.796875 21.09375 \nQ 14.796875 15.671875 16.71875 12.375 \nQ 18.65625 9.078125 21.4375 7.640625 \nQ 24.21875 6.203125 27.78125 6.203125 \nQ 31.25 6.203125 34.03125 7.640625 \nQ 36.8125 9.078125 38.734375 12.375 \nQ 40.671875 15.671875 41.71875 21.09375 \nQ 42.78125 26.515625 42.78125 34.421875 \nz\n\" id=\"LiberationSans-48\"/>\n      </defs>\n      <g style=\"fill:#262626;\" transform=\"translate(44.939062 255.623437)scale(0.1 -0.1)\">\n       <use xlink:href=\"#LiberationSans-48\"/>\n      </g>\n     </g>\n    </g>\n    <g id=\"ytick_2\">\n     <g id=\"line2d_9\">\n      <path clip-path=\"url(#pae78f81d87)\" d=\"M 54 213.650794 \nL 388.8 213.650794 \n\" style=\"fill:none;stroke:#cccccc;stroke-linecap:round;stroke-width:0.8;\"/>\n     </g>\n     <g id=\"line2d_10\"/>\n     <g id=\"text_9\">\n      <!-- 10 -->\n      <defs>\n       <path d=\"M 7.625 0 \nL 7.625 7.46875 \nL 25.140625 7.46875 \nL 25.140625 60.40625 \nL 9.625 49.3125 \nL 9.625 57.625 \nL 25.875 68.796875 \nL 33.984375 68.796875 \nL 33.984375 7.46875 \nL 50.734375 7.46875 \nL 50.734375 0 \nz\n\" id=\"LiberationSans-49\"/>\n      </defs>\n      <g style=\"fill:#262626;\" transform=\"translate(39.378125 217.274231)scale(0.1 -0.1)\">\n       <use xlink:href=\"#LiberationSans-49\"/>\n       <use x=\"55.615234\" xlink:href=\"#LiberationSans-48\"/>\n      </g>\n     </g>\n    </g>\n    <g id=\"ytick_3\">\n     <g id=\"line2d_11\">\n      <path clip-path=\"url(#pae78f81d87)\" d=\"M 54 175.301587 \nL 388.8 175.301587 \n\" style=\"fill:none;stroke:#cccccc;stroke-linecap:round;stroke-width:0.8;\"/>\n     </g>\n     <g id=\"line2d_12\"/>\n     <g id=\"text_10\">\n      <!-- 20 -->\n      <defs>\n       <path d=\"M 5.03125 0 \nL 5.03125 6.203125 \nQ 7.515625 11.921875 11.109375 16.28125 \nQ 14.703125 20.65625 18.65625 24.1875 \nQ 22.609375 27.734375 26.484375 30.765625 \nQ 30.375 33.796875 33.5 36.8125 \nQ 36.625 39.84375 38.546875 43.15625 \nQ 40.484375 46.484375 40.484375 50.6875 \nQ 40.484375 53.609375 39.59375 55.828125 \nQ 38.71875 58.0625 37.0625 59.5625 \nQ 35.40625 61.078125 33.078125 61.828125 \nQ 30.765625 62.59375 27.9375 62.59375 \nQ 25.296875 62.59375 22.96875 61.859375 \nQ 20.65625 61.140625 18.84375 59.671875 \nQ 17.046875 58.203125 15.890625 56.03125 \nQ 14.75 53.859375 14.40625 50.984375 \nL 5.421875 51.8125 \nQ 5.859375 55.515625 7.46875 58.78125 \nQ 9.078125 62.0625 11.90625 64.53125 \nQ 14.75 67 18.71875 68.40625 \nQ 22.703125 69.828125 27.9375 69.828125 \nQ 33.0625 69.828125 37.0625 68.609375 \nQ 41.0625 67.390625 43.8125 64.984375 \nQ 46.578125 62.59375 48.046875 59.078125 \nQ 49.515625 55.5625 49.515625 50.984375 \nQ 49.515625 47.515625 48.265625 44.390625 \nQ 47.015625 41.265625 44.9375 38.421875 \nQ 42.875 35.59375 40.140625 32.953125 \nQ 37.40625 30.328125 34.421875 27.8125 \nQ 31.453125 25.296875 28.421875 22.828125 \nQ 25.390625 20.359375 22.71875 17.859375 \nQ 20.0625 15.375 17.96875 12.8125 \nQ 15.875 10.25 14.703125 7.46875 \nL 50.59375 7.46875 \nL 50.59375 0 \nz\n\" id=\"LiberationSans-50\"/>\n      </defs>\n      <g style=\"fill:#262626;\" transform=\"translate(39.378125 178.925025)scale(0.1 -0.1)\">\n       <use xlink:href=\"#LiberationSans-50\"/>\n       <use x=\"55.615234\" xlink:href=\"#LiberationSans-48\"/>\n      </g>\n     </g>\n    </g>\n    <g id=\"ytick_4\">\n     <g id=\"line2d_13\">\n      <path clip-path=\"url(#pae78f81d87)\" d=\"M 54 136.952381 \nL 388.8 136.952381 \n\" style=\"fill:none;stroke:#cccccc;stroke-linecap:round;stroke-width:0.8;\"/>\n     </g>\n     <g id=\"line2d_14\"/>\n     <g id=\"text_11\">\n      <!-- 30 -->\n      <defs>\n       <path d=\"M 51.21875 19 \nQ 51.21875 14.265625 49.671875 10.546875 \nQ 48.140625 6.84375 45.1875 4.265625 \nQ 42.234375 1.703125 37.859375 0.359375 \nQ 33.5 -0.984375 27.875 -0.984375 \nQ 21.484375 -0.984375 17.109375 0.609375 \nQ 12.75 2.203125 9.90625 4.8125 \nQ 7.078125 7.421875 5.65625 10.765625 \nQ 4.25 14.109375 3.8125 17.671875 \nL 12.890625 18.5 \nQ 13.28125 15.765625 14.328125 13.515625 \nQ 15.375 11.28125 17.1875 9.671875 \nQ 19 8.0625 21.625 7.171875 \nQ 24.265625 6.296875 27.875 6.296875 \nQ 34.515625 6.296875 38.296875 9.5625 \nQ 42.09375 12.84375 42.09375 19.28125 \nQ 42.09375 23.09375 40.40625 25.40625 \nQ 38.71875 27.734375 36.203125 29.03125 \nQ 33.6875 30.328125 30.734375 30.765625 \nQ 27.78125 31.203125 25.296875 31.203125 \nL 20.3125 31.203125 \nL 20.3125 38.8125 \nL 25.09375 38.8125 \nQ 27.59375 38.8125 30.265625 39.328125 \nQ 32.953125 39.84375 35.171875 41.1875 \nQ 37.40625 42.53125 38.84375 44.828125 \nQ 40.28125 47.125 40.28125 50.6875 \nQ 40.28125 56.203125 37.03125 59.390625 \nQ 33.796875 62.59375 27.390625 62.59375 \nQ 21.578125 62.59375 17.984375 59.609375 \nQ 14.40625 56.640625 13.8125 51.21875 \nL 4.984375 51.90625 \nQ 5.515625 56.453125 7.46875 59.8125 \nQ 9.421875 63.1875 12.421875 65.40625 \nQ 15.4375 67.625 19.28125 68.71875 \nQ 23.140625 69.828125 27.484375 69.828125 \nQ 33.25 69.828125 37.390625 68.375 \nQ 41.546875 66.9375 44.1875 64.46875 \nQ 46.828125 62.015625 48.0625 58.6875 \nQ 49.3125 55.375 49.3125 51.609375 \nQ 49.3125 48.578125 48.484375 45.9375 \nQ 47.65625 43.3125 45.890625 41.203125 \nQ 44.140625 39.109375 41.421875 37.59375 \nQ 38.71875 36.078125 34.90625 35.296875 \nL 34.90625 35.109375 \nQ 39.0625 34.671875 42.140625 33.21875 \nQ 45.21875 31.78125 47.21875 29.625 \nQ 49.21875 27.484375 50.21875 24.75 \nQ 51.21875 22.015625 51.21875 19 \nz\n\" id=\"LiberationSans-51\"/>\n      </defs>\n      <g style=\"fill:#262626;\" transform=\"translate(39.378125 140.575818)scale(0.1 -0.1)\">\n       <use xlink:href=\"#LiberationSans-51\"/>\n       <use x=\"55.615234\" xlink:href=\"#LiberationSans-48\"/>\n      </g>\n     </g>\n    </g>\n    <g id=\"ytick_5\">\n     <g id=\"line2d_15\">\n      <path clip-path=\"url(#pae78f81d87)\" d=\"M 54 98.603175 \nL 388.8 98.603175 \n\" style=\"fill:none;stroke:#cccccc;stroke-linecap:round;stroke-width:0.8;\"/>\n     </g>\n     <g id=\"line2d_16\"/>\n     <g id=\"text_12\">\n      <!-- 40 -->\n      <defs>\n       <path d=\"M 43.015625 15.578125 \nL 43.015625 0 \nL 34.71875 0 \nL 34.71875 15.578125 \nL 2.296875 15.578125 \nL 2.296875 22.40625 \nL 33.796875 68.796875 \nL 43.015625 68.796875 \nL 43.015625 22.515625 \nL 52.6875 22.515625 \nL 52.6875 15.578125 \nz\nM 34.71875 58.890625 \nQ 34.625 58.640625 34.234375 57.9375 \nQ 33.84375 57.234375 33.34375 56.34375 \nQ 32.859375 55.46875 32.34375 54.5625 \nQ 31.84375 53.65625 31.453125 53.078125 \nL 13.8125 27.09375 \nQ 13.578125 26.703125 13.109375 26.0625 \nQ 12.640625 25.4375 12.15625 24.78125 \nQ 11.671875 24.125 11.171875 23.484375 \nQ 10.6875 22.859375 10.40625 22.515625 \nL 34.71875 22.515625 \nz\n\" id=\"LiberationSans-52\"/>\n      </defs>\n      <g style=\"fill:#262626;\" transform=\"translate(39.378125 102.226612)scale(0.1 -0.1)\">\n       <use xlink:href=\"#LiberationSans-52\"/>\n       <use x=\"55.615234\" xlink:href=\"#LiberationSans-48\"/>\n      </g>\n     </g>\n    </g>\n    <g id=\"ytick_6\">\n     <g id=\"line2d_17\">\n      <path clip-path=\"url(#pae78f81d87)\" d=\"M 54 60.253968 \nL 388.8 60.253968 \n\" style=\"fill:none;stroke:#cccccc;stroke-linecap:round;stroke-width:0.8;\"/>\n     </g>\n     <g id=\"line2d_18\"/>\n     <g id=\"text_13\">\n      <!-- 50 -->\n      <defs>\n       <path d=\"M 51.421875 22.40625 \nQ 51.421875 17.234375 49.859375 12.9375 \nQ 48.296875 8.640625 45.21875 5.53125 \nQ 42.140625 2.4375 37.578125 0.71875 \nQ 33.015625 -0.984375 27 -0.984375 \nQ 21.578125 -0.984375 17.546875 0.28125 \nQ 13.53125 1.5625 10.734375 3.78125 \nQ 7.953125 6 6.3125 8.984375 \nQ 4.6875 11.96875 4 15.375 \nL 12.890625 16.40625 \nQ 13.421875 14.453125 14.390625 12.625 \nQ 15.375 10.796875 17.0625 9.34375 \nQ 18.75 7.90625 21.21875 7.046875 \nQ 23.6875 6.203125 27.203125 6.203125 \nQ 30.609375 6.203125 33.390625 7.25 \nQ 36.1875 8.296875 38.15625 10.34375 \nQ 40.140625 12.40625 41.203125 15.375 \nQ 42.28125 18.359375 42.28125 22.21875 \nQ 42.28125 25.390625 41.25 28.046875 \nQ 40.234375 30.71875 38.328125 32.640625 \nQ 36.421875 34.578125 33.65625 35.640625 \nQ 30.90625 36.71875 27.390625 36.71875 \nQ 25.203125 36.71875 23.34375 36.328125 \nQ 21.484375 35.9375 19.890625 35.25 \nQ 18.3125 34.578125 17.015625 33.671875 \nQ 15.71875 32.765625 14.59375 31.78125 \nL 6 31.78125 \nL 8.296875 68.796875 \nL 47.40625 68.796875 \nL 47.40625 61.328125 \nL 16.3125 61.328125 \nL 14.984375 39.5 \nQ 17.328125 41.3125 20.84375 42.59375 \nQ 24.359375 43.890625 29.203125 43.890625 \nQ 34.328125 43.890625 38.421875 42.328125 \nQ 42.53125 40.765625 45.40625 37.90625 \nQ 48.296875 35.0625 49.859375 31.109375 \nQ 51.421875 27.15625 51.421875 22.40625 \nz\n\" id=\"LiberationSans-53\"/>\n      </defs>\n      <g style=\"fill:#262626;\" transform=\"translate(39.378125 63.877406)scale(0.1 -0.1)\">\n       <use xlink:href=\"#LiberationSans-53\"/>\n       <use x=\"55.615234\" xlink:href=\"#LiberationSans-48\"/>\n      </g>\n     </g>\n    </g>\n    <g id=\"text_14\">\n     <!-- count -->\n     <defs>\n      <path d=\"M 13.421875 26.65625 \nQ 13.421875 22.125 14.078125 18.3125 \nQ 14.75 14.5 16.3125 11.734375 \nQ 17.875 8.984375 20.4375 7.46875 \nQ 23 5.953125 26.765625 5.953125 \nQ 31.453125 5.953125 34.59375 8.484375 \nQ 37.75 11.03125 38.484375 16.3125 \nL 47.359375 15.71875 \nQ 46.921875 12.453125 45.453125 9.421875 \nQ 44 6.390625 41.484375 4.09375 \nQ 38.96875 1.8125 35.34375 0.40625 \nQ 31.734375 -0.984375 27 -0.984375 \nQ 20.796875 -0.984375 16.453125 1.109375 \nQ 12.109375 3.21875 9.390625 6.90625 \nQ 6.6875 10.59375 5.46875 15.59375 \nQ 4.25 20.609375 4.25 26.46875 \nQ 4.25 31.78125 5.125 35.859375 \nQ 6 39.9375 7.59375 42.984375 \nQ 9.1875 46.046875 11.328125 48.125 \nQ 13.484375 50.203125 15.984375 51.4375 \nQ 18.5 52.6875 21.28125 53.25 \nQ 24.078125 53.8125 26.90625 53.8125 \nQ 31.34375 53.8125 34.8125 52.59375 \nQ 38.28125 51.375 40.796875 49.25 \nQ 43.3125 47.125 44.875 44.234375 \nQ 46.4375 41.359375 47.078125 38.03125 \nL 38.03125 37.359375 \nQ 37.359375 41.75 34.5625 44.328125 \nQ 31.78125 46.921875 26.65625 46.921875 \nQ 22.90625 46.921875 20.390625 45.671875 \nQ 17.875 44.4375 16.3125 41.921875 \nQ 14.75 39.40625 14.078125 35.59375 \nQ 13.421875 31.78125 13.421875 26.65625 \nz\n\" id=\"LiberationSans-99\"/>\n      <path d=\"M 15.328125 52.828125 \nL 15.328125 19.34375 \nQ 15.328125 15.484375 15.890625 12.890625 \nQ 16.453125 10.296875 17.71875 8.703125 \nQ 19 7.125 21.0625 6.46875 \nQ 23.140625 5.8125 26.21875 5.8125 \nQ 29.34375 5.8125 31.859375 6.90625 \nQ 34.375 8.015625 36.15625 10.078125 \nQ 37.9375 12.15625 38.90625 15.203125 \nQ 39.890625 18.265625 39.890625 22.21875 \nL 39.890625 52.828125 \nL 48.6875 52.828125 \nL 48.6875 11.28125 \nQ 48.6875 9.625 48.703125 7.78125 \nQ 48.734375 5.953125 48.78125 4.3125 \nQ 48.828125 2.6875 48.875 1.515625 \nQ 48.921875 0.34375 48.96875 0 \nL 40.671875 0 \nQ 40.625 0.25 40.578125 1.3125 \nQ 40.53125 2.390625 40.453125 3.78125 \nQ 40.375 5.171875 40.328125 6.609375 \nQ 40.28125 8.0625 40.28125 9.03125 \nL 40.140625 9.03125 \nQ 38.875 6.734375 37.359375 4.875 \nQ 35.84375 3.03125 33.84375 1.734375 \nQ 31.84375 0.4375 29.25 -0.265625 \nQ 26.65625 -0.984375 23.25 -0.984375 \nQ 18.84375 -0.984375 15.671875 0.09375 \nQ 12.5 1.171875 10.453125 3.421875 \nQ 8.40625 5.671875 7.453125 9.1875 \nQ 6.5 12.703125 6.5 17.625 \nL 6.5 52.828125 \nz\n\" id=\"LiberationSans-117\"/>\n      <path d=\"M 27.046875 0.390625 \nQ 25.046875 -0.140625 22.96875 -0.453125 \nQ 20.90625 -0.78125 18.171875 -0.78125 \nQ 7.625 -0.78125 7.625 11.1875 \nL 7.625 46.4375 \nL 1.515625 46.4375 \nL 1.515625 52.828125 \nL 7.953125 52.828125 \nL 10.546875 64.65625 \nL 16.40625 64.65625 \nL 16.40625 52.828125 \nL 26.171875 52.828125 \nL 26.171875 46.4375 \nL 16.40625 46.4375 \nL 16.40625 13.09375 \nQ 16.40625 9.28125 17.640625 7.734375 \nQ 18.890625 6.203125 21.96875 6.203125 \nQ 23.25 6.203125 24.4375 6.390625 \nQ 25.640625 6.59375 27.046875 6.890625 \nz\n\" id=\"LiberationSans-116\"/>\n     </defs>\n     <g style=\"fill:#262626;\" transform=\"translate(33.303125 155.510469)rotate(-90)scale(0.1 -0.1)\">\n      <use xlink:href=\"#LiberationSans-99\"/>\n      <use x=\"50\" xlink:href=\"#LiberationSans-111\"/>\n      <use x=\"105.615234\" xlink:href=\"#LiberationSans-117\"/>\n      <use x=\"161.230469\" xlink:href=\"#LiberationSans-110\"/>\n      <use x=\"216.845703\" xlink:href=\"#LiberationSans-116\"/>\n     </g>\n    </g>\n   </g>\n   <g id=\"patch_3\">\n    <path clip-path=\"url(#pae78f81d87)\" d=\"M 59.58 252 \nL 104.22 252 \nL 104.22 44.914286 \nL 59.58 44.914286 \nz\n\" style=\"fill:#3274a1;\"/>\n   </g>\n   <g id=\"patch_4\">\n    <path clip-path=\"url(#pae78f81d87)\" d=\"M 115.38 252 \nL 160.02 252 \nL 160.02 83.263492 \nL 115.38 83.263492 \nz\n\" style=\"fill:#e1812c;\"/>\n   </g>\n   <g id=\"patch_5\">\n    <path clip-path=\"url(#pae78f81d87)\" d=\"M 171.18 252 \nL 215.82 252 \nL 215.82 71.75873 \nL 171.18 71.75873 \nz\n\" style=\"fill:#3a923a;\"/>\n   </g>\n   <g id=\"patch_6\">\n    <path clip-path=\"url(#pae78f81d87)\" d=\"M 226.98 252 \nL 271.62 252 \nL 271.62 163.796825 \nL 226.98 163.796825 \nz\n\" style=\"fill:#c03d3e;\"/>\n   </g>\n   <g id=\"patch_7\">\n    <path clip-path=\"url(#pae78f81d87)\" d=\"M 282.78 252 \nL 327.42 252 \nL 327.42 198.311111 \nL 282.78 198.311111 \nz\n\" style=\"fill:#9372b2;\"/>\n   </g>\n   <g id=\"patch_8\">\n    <path clip-path=\"url(#pae78f81d87)\" d=\"M 338.58 252 \nL 383.22 252 \nL 383.22 205.980952 \nL 338.58 205.980952 \nz\n\" style=\"fill:#845b53;\"/>\n   </g>\n   <g id=\"patch_9\">\n    <path d=\"M 54 252 \nL 54 34.56 \n\" style=\"fill:none;stroke:#cccccc;stroke-linecap:square;stroke-linejoin:miter;\"/>\n   </g>\n   <g id=\"patch_10\">\n    <path d=\"M 388.8 252 \nL 388.8 34.56 \n\" style=\"fill:none;stroke:#cccccc;stroke-linecap:square;stroke-linejoin:miter;\"/>\n   </g>\n   <g id=\"patch_11\">\n    <path d=\"M 54 252 \nL 388.8 252 \n\" style=\"fill:none;stroke:#cccccc;stroke-linecap:square;stroke-linejoin:miter;\"/>\n   </g>\n   <g id=\"patch_12\">\n    <path d=\"M 54 34.56 \nL 388.8 34.56 \n\" style=\"fill:none;stroke:#cccccc;stroke-linecap:square;stroke-linejoin:miter;\"/>\n   </g>\n  </g>\n </g>\n <defs>\n  <clipPath id=\"pae78f81d87\">\n   <rect height=\"217.44\" width=\"334.8\" x=\"54\" y=\"34.56\"/>\n  </clipPath>\n </defs>\n</svg>\n"
          },
          "metadata": {
            "tags": []
          }
        }
      ]
    },
    {
      "cell_type": "code",
      "metadata": {
        "id": "1eBV0mswq4O_",
        "colab_type": "code",
        "colab": {
          "base_uri": "https://localhost:8080/",
          "height": 373
        },
        "outputId": "13d77721-de64-486e-960f-abbf34caa7a6"
      },
      "source": [
        "aapl.history(period='max').tail(10)"
      ],
      "execution_count": 52,
      "outputs": [
        {
          "output_type": "execute_result",
          "data": {
            "text/html": [
              "<div>\n",
              "<style scoped>\n",
              "    .dataframe tbody tr th:only-of-type {\n",
              "        vertical-align: middle;\n",
              "    }\n",
              "\n",
              "    .dataframe tbody tr th {\n",
              "        vertical-align: top;\n",
              "    }\n",
              "\n",
              "    .dataframe thead th {\n",
              "        text-align: right;\n",
              "    }\n",
              "</style>\n",
              "<table border=\"1\" class=\"dataframe\">\n",
              "  <thead>\n",
              "    <tr style=\"text-align: right;\">\n",
              "      <th></th>\n",
              "      <th></th>\n",
              "      <th>high</th>\n",
              "      <th>low</th>\n",
              "      <th>open</th>\n",
              "      <th>close</th>\n",
              "      <th>volume</th>\n",
              "      <th>adjclose</th>\n",
              "      <th>dividends</th>\n",
              "      <th>splits</th>\n",
              "    </tr>\n",
              "    <tr>\n",
              "      <th>symbol</th>\n",
              "      <th>date</th>\n",
              "      <th></th>\n",
              "      <th></th>\n",
              "      <th></th>\n",
              "      <th></th>\n",
              "      <th></th>\n",
              "      <th></th>\n",
              "      <th></th>\n",
              "      <th></th>\n",
              "    </tr>\n",
              "  </thead>\n",
              "  <tbody>\n",
              "    <tr>\n",
              "      <th rowspan=\"10\" valign=\"top\">aapl</th>\n",
              "      <th>2020-07-17</th>\n",
              "      <td>388.589996</td>\n",
              "      <td>383.359985</td>\n",
              "      <td>387.950012</td>\n",
              "      <td>385.309998</td>\n",
              "      <td>23046700.0</td>\n",
              "      <td>385.309998</td>\n",
              "      <td>0.0</td>\n",
              "      <td>0.0</td>\n",
              "    </tr>\n",
              "    <tr>\n",
              "      <th>2020-07-20</th>\n",
              "      <td>394.000000</td>\n",
              "      <td>384.250000</td>\n",
              "      <td>385.670013</td>\n",
              "      <td>393.429993</td>\n",
              "      <td>22579500.0</td>\n",
              "      <td>393.429993</td>\n",
              "      <td>0.0</td>\n",
              "      <td>0.0</td>\n",
              "    </tr>\n",
              "    <tr>\n",
              "      <th>2020-07-21</th>\n",
              "      <td>397.000000</td>\n",
              "      <td>386.970001</td>\n",
              "      <td>396.690002</td>\n",
              "      <td>388.000000</td>\n",
              "      <td>25911500.0</td>\n",
              "      <td>388.000000</td>\n",
              "      <td>0.0</td>\n",
              "      <td>0.0</td>\n",
              "    </tr>\n",
              "    <tr>\n",
              "      <th>2020-07-22</th>\n",
              "      <td>391.899994</td>\n",
              "      <td>386.410004</td>\n",
              "      <td>386.769989</td>\n",
              "      <td>389.089996</td>\n",
              "      <td>22250400.0</td>\n",
              "      <td>389.089996</td>\n",
              "      <td>0.0</td>\n",
              "      <td>0.0</td>\n",
              "    </tr>\n",
              "    <tr>\n",
              "      <th>2020-07-23</th>\n",
              "      <td>388.309998</td>\n",
              "      <td>368.040009</td>\n",
              "      <td>387.989990</td>\n",
              "      <td>371.380005</td>\n",
              "      <td>49251100.0</td>\n",
              "      <td>371.380005</td>\n",
              "      <td>0.0</td>\n",
              "      <td>0.0</td>\n",
              "    </tr>\n",
              "    <tr>\n",
              "      <th>2020-07-24</th>\n",
              "      <td>371.880005</td>\n",
              "      <td>356.579987</td>\n",
              "      <td>363.950012</td>\n",
              "      <td>370.459991</td>\n",
              "      <td>46359700.0</td>\n",
              "      <td>370.459991</td>\n",
              "      <td>0.0</td>\n",
              "      <td>0.0</td>\n",
              "    </tr>\n",
              "    <tr>\n",
              "      <th>2020-07-27</th>\n",
              "      <td>379.619995</td>\n",
              "      <td>373.920013</td>\n",
              "      <td>374.839996</td>\n",
              "      <td>379.239990</td>\n",
              "      <td>30303500.0</td>\n",
              "      <td>379.239990</td>\n",
              "      <td>0.0</td>\n",
              "      <td>0.0</td>\n",
              "    </tr>\n",
              "    <tr>\n",
              "      <th>2020-07-28</th>\n",
              "      <td>378.200012</td>\n",
              "      <td>372.989990</td>\n",
              "      <td>377.470001</td>\n",
              "      <td>373.010010</td>\n",
              "      <td>25906400.0</td>\n",
              "      <td>373.010010</td>\n",
              "      <td>0.0</td>\n",
              "      <td>0.0</td>\n",
              "    </tr>\n",
              "    <tr>\n",
              "      <th>2020-07-29</th>\n",
              "      <td>380.920013</td>\n",
              "      <td>374.850006</td>\n",
              "      <td>375.000000</td>\n",
              "      <td>380.160004</td>\n",
              "      <td>22500400.0</td>\n",
              "      <td>380.160004</td>\n",
              "      <td>0.0</td>\n",
              "      <td>0.0</td>\n",
              "    </tr>\n",
              "    <tr>\n",
              "      <th>2020-07-30</th>\n",
              "      <td>383.829987</td>\n",
              "      <td>375.070007</td>\n",
              "      <td>376.750000</td>\n",
              "      <td>382.250000</td>\n",
              "      <td>16940699.0</td>\n",
              "      <td>382.250000</td>\n",
              "      <td>0.0</td>\n",
              "      <td>0.0</td>\n",
              "    </tr>\n",
              "  </tbody>\n",
              "</table>\n",
              "</div>"
            ],
            "text/plain": [
              "                         high         low  ...  dividends  splits\n",
              "symbol date                                ...                   \n",
              "aapl   2020-07-17  388.589996  383.359985  ...        0.0     0.0\n",
              "       2020-07-20  394.000000  384.250000  ...        0.0     0.0\n",
              "       2020-07-21  397.000000  386.970001  ...        0.0     0.0\n",
              "       2020-07-22  391.899994  386.410004  ...        0.0     0.0\n",
              "       2020-07-23  388.309998  368.040009  ...        0.0     0.0\n",
              "       2020-07-24  371.880005  356.579987  ...        0.0     0.0\n",
              "       2020-07-27  379.619995  373.920013  ...        0.0     0.0\n",
              "       2020-07-28  378.200012  372.989990  ...        0.0     0.0\n",
              "       2020-07-29  380.920013  374.850006  ...        0.0     0.0\n",
              "       2020-07-30  383.829987  375.070007  ...        0.0     0.0\n",
              "\n",
              "[10 rows x 8 columns]"
            ]
          },
          "metadata": {
            "tags": []
          },
          "execution_count": 52
        }
      ]
    },
    {
      "cell_type": "code",
      "metadata": {
        "id": "nTIpnlcXsWVb",
        "colab_type": "code",
        "colab": {}
      },
      "source": [
        ""
      ],
      "execution_count": null,
      "outputs": []
    }
  ]
}
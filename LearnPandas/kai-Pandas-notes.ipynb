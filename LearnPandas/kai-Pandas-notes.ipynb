{
  "nbformat": 4,
  "nbformat_minor": 0,
  "metadata": {
    "language_info": {
      "codemirror_mode": {
        "name": "ipython",
        "version": 3
      },
      "file_extension": ".py",
      "mimetype": "text/x-python",
      "name": "python",
      "nbconvert_exporter": "python",
      "pygments_lexer": "ipython3",
      "version": "3.6.9-final"
    },
    "orig_nbformat": 2,
    "kernelspec": {
      "name": "python36964bit02dc4687b0924c21902d3157a7452615",
      "display_name": "Python 3.6.9 64-bit"
    },
    "colab": {
      "name": "kai-Pandas-notes.ipynb",
      "provenance": []
    }
  },
  "cells": [
    {
      "cell_type": "markdown",
      "metadata": {},
      "source": [
        "# Getting Pandas and DataFrame readcsv"
      ]
    },
    {
      "cell_type": "code",
      "metadata": {
        "id": "u2IAxyvKfop6",
        "colab_type": "code",
        "colab": {}
      },
      "source": [
        "import pandas as pd\n",
        "pd.show_versions?\n",
        "pd.read_csv?"
      ],
      "execution_count": 1,
      "outputs": [
        {
          "output_type": "stream",
          "text": "\u001b[0;31mSignature:\u001b[0m\n\u001b[0mpd\u001b[0m\u001b[0;34m.\u001b[0m\u001b[0mread_csv\u001b[0m\u001b[0;34m(\u001b[0m\u001b[0;34m\u001b[0m\n\u001b[0;34m\u001b[0m    \u001b[0mfilepath_or_buffer\u001b[0m\u001b[0;34m:\u001b[0m\u001b[0mUnion\u001b[0m\u001b[0;34m[\u001b[0m\u001b[0mstr\u001b[0m\u001b[0;34m,\u001b[0m \u001b[0mpathlib\u001b[0m\u001b[0;34m.\u001b[0m\u001b[0mPath\u001b[0m\u001b[0;34m,\u001b[0m \u001b[0mIO\u001b[0m\u001b[0;34m[\u001b[0m\u001b[0;34m~\u001b[0m\u001b[0mAnyStr\u001b[0m\u001b[0;34m]\u001b[0m\u001b[0;34m]\u001b[0m\u001b[0;34m,\u001b[0m\u001b[0;34m\u001b[0m\n\u001b[0;34m\u001b[0m    \u001b[0msep\u001b[0m\u001b[0;34m=\u001b[0m\u001b[0;34m','\u001b[0m\u001b[0;34m,\u001b[0m\u001b[0;34m\u001b[0m\n\u001b[0;34m\u001b[0m    \u001b[0mdelimiter\u001b[0m\u001b[0;34m=\u001b[0m\u001b[0;32mNone\u001b[0m\u001b[0;34m,\u001b[0m\u001b[0;34m\u001b[0m\n\u001b[0;34m\u001b[0m    \u001b[0mheader\u001b[0m\u001b[0;34m=\u001b[0m\u001b[0;34m'infer'\u001b[0m\u001b[0;34m,\u001b[0m\u001b[0;34m\u001b[0m\n\u001b[0;34m\u001b[0m    \u001b[0mnames\u001b[0m\u001b[0;34m=\u001b[0m\u001b[0;32mNone\u001b[0m\u001b[0;34m,\u001b[0m\u001b[0;34m\u001b[0m\n\u001b[0;34m\u001b[0m    \u001b[0mindex_col\u001b[0m\u001b[0;34m=\u001b[0m\u001b[0;32mNone\u001b[0m\u001b[0;34m,\u001b[0m\u001b[0;34m\u001b[0m\n\u001b[0;34m\u001b[0m    \u001b[0musecols\u001b[0m\u001b[0;34m=\u001b[0m\u001b[0;32mNone\u001b[0m\u001b[0;34m,\u001b[0m\u001b[0;34m\u001b[0m\n\u001b[0;34m\u001b[0m    \u001b[0msqueeze\u001b[0m\u001b[0;34m=\u001b[0m\u001b[0;32mFalse\u001b[0m\u001b[0;34m,\u001b[0m\u001b[0;34m\u001b[0m\n\u001b[0;34m\u001b[0m    \u001b[0mprefix\u001b[0m\u001b[0;34m=\u001b[0m\u001b[0;32mNone\u001b[0m\u001b[0;34m,\u001b[0m\u001b[0;34m\u001b[0m\n\u001b[0;34m\u001b[0m    \u001b[0mmangle_dupe_cols\u001b[0m\u001b[0;34m=\u001b[0m\u001b[0;32mTrue\u001b[0m\u001b[0;34m,\u001b[0m\u001b[0;34m\u001b[0m\n\u001b[0;34m\u001b[0m    \u001b[0mdtype\u001b[0m\u001b[0;34m=\u001b[0m\u001b[0;32mNone\u001b[0m\u001b[0;34m,\u001b[0m\u001b[0;34m\u001b[0m\n\u001b[0;34m\u001b[0m    \u001b[0mengine\u001b[0m\u001b[0;34m=\u001b[0m\u001b[0;32mNone\u001b[0m\u001b[0;34m,\u001b[0m\u001b[0;34m\u001b[0m\n\u001b[0;34m\u001b[0m    \u001b[0mconverters\u001b[0m\u001b[0;34m=\u001b[0m\u001b[0;32mNone\u001b[0m\u001b[0;34m,\u001b[0m\u001b[0;34m\u001b[0m\n\u001b[0;34m\u001b[0m    \u001b[0mtrue_values\u001b[0m\u001b[0;34m=\u001b[0m\u001b[0;32mNone\u001b[0m\u001b[0;34m,\u001b[0m\u001b[0;34m\u001b[0m\n\u001b[0;34m\u001b[0m    \u001b[0mfalse_values\u001b[0m\u001b[0;34m=\u001b[0m\u001b[0;32mNone\u001b[0m\u001b[0;34m,\u001b[0m\u001b[0;34m\u001b[0m\n\u001b[0;34m\u001b[0m    \u001b[0mskipinitialspace\u001b[0m\u001b[0;34m=\u001b[0m\u001b[0;32mFalse\u001b[0m\u001b[0;34m,\u001b[0m\u001b[0;34m\u001b[0m\n\u001b[0;34m\u001b[0m    \u001b[0mskiprows\u001b[0m\u001b[0;34m=\u001b[0m\u001b[0;32mNone\u001b[0m\u001b[0;34m,\u001b[0m\u001b[0;34m\u001b[0m\n\u001b[0;34m\u001b[0m    \u001b[0mskipfooter\u001b[0m\u001b[0;34m=\u001b[0m\u001b[0;36m0\u001b[0m\u001b[0;34m,\u001b[0m\u001b[0;34m\u001b[0m\n\u001b[0;34m\u001b[0m    \u001b[0mnrows\u001b[0m\u001b[0;34m=\u001b[0m\u001b[0;32mNone\u001b[0m\u001b[0;34m,\u001b[0m\u001b[0;34m\u001b[0m\n\u001b[0;34m\u001b[0m    \u001b[0mna_values\u001b[0m\u001b[0;34m=\u001b[0m\u001b[0;32mNone\u001b[0m\u001b[0;34m,\u001b[0m\u001b[0;34m\u001b[0m\n\u001b[0;34m\u001b[0m    \u001b[0mkeep_default_na\u001b[0m\u001b[0;34m=\u001b[0m\u001b[0;32mTrue\u001b[0m\u001b[0;34m,\u001b[0m\u001b[0;34m\u001b[0m\n\u001b[0;34m\u001b[0m    \u001b[0mna_filter\u001b[0m\u001b[0;34m=\u001b[0m\u001b[0;32mTrue\u001b[0m\u001b[0;34m,\u001b[0m\u001b[0;34m\u001b[0m\n\u001b[0;34m\u001b[0m    \u001b[0mverbose\u001b[0m\u001b[0;34m=\u001b[0m\u001b[0;32mFalse\u001b[0m\u001b[0;34m,\u001b[0m\u001b[0;34m\u001b[0m\n\u001b[0;34m\u001b[0m    \u001b[0mskip_blank_lines\u001b[0m\u001b[0;34m=\u001b[0m\u001b[0;32mTrue\u001b[0m\u001b[0;34m,\u001b[0m\u001b[0;34m\u001b[0m\n\u001b[0;34m\u001b[0m    \u001b[0mparse_dates\u001b[0m\u001b[0;34m=\u001b[0m\u001b[0;32mFalse\u001b[0m\u001b[0;34m,\u001b[0m\u001b[0;34m\u001b[0m\n\u001b[0;34m\u001b[0m    \u001b[0minfer_datetime_format\u001b[0m\u001b[0;34m=\u001b[0m\u001b[0;32mFalse\u001b[0m\u001b[0;34m,\u001b[0m\u001b[0;34m\u001b[0m\n\u001b[0;34m\u001b[0m    \u001b[0mkeep_date_col\u001b[0m\u001b[0;34m=\u001b[0m\u001b[0;32mFalse\u001b[0m\u001b[0;34m,\u001b[0m\u001b[0;34m\u001b[0m\n\u001b[0;34m\u001b[0m    \u001b[0mdate_parser\u001b[0m\u001b[0;34m=\u001b[0m\u001b[0;32mNone\u001b[0m\u001b[0;34m,\u001b[0m\u001b[0;34m\u001b[0m\n\u001b[0;34m\u001b[0m    \u001b[0mdayfirst\u001b[0m\u001b[0;34m=\u001b[0m\u001b[0;32mFalse\u001b[0m\u001b[0;34m,\u001b[0m\u001b[0;34m\u001b[0m\n\u001b[0;34m\u001b[0m    \u001b[0mcache_dates\u001b[0m\u001b[0;34m=\u001b[0m\u001b[0;32mTrue\u001b[0m\u001b[0;34m,\u001b[0m\u001b[0;34m\u001b[0m\n\u001b[0;34m\u001b[0m    \u001b[0miterator\u001b[0m\u001b[0;34m=\u001b[0m\u001b[0;32mFalse\u001b[0m\u001b[0;34m,\u001b[0m\u001b[0;34m\u001b[0m\n\u001b[0;34m\u001b[0m    \u001b[0mchunksize\u001b[0m\u001b[0;34m=\u001b[0m\u001b[0;32mNone\u001b[0m\u001b[0;34m,\u001b[0m\u001b[0;34m\u001b[0m\n\u001b[0;34m\u001b[0m    \u001b[0mcompression\u001b[0m\u001b[0;34m=\u001b[0m\u001b[0;34m'infer'\u001b[0m\u001b[0;34m,\u001b[0m\u001b[0;34m\u001b[0m\n\u001b[0;34m\u001b[0m    \u001b[0mthousands\u001b[0m\u001b[0;34m=\u001b[0m\u001b[0;32mNone\u001b[0m\u001b[0;34m,\u001b[0m\u001b[0;34m\u001b[0m\n\u001b[0;34m\u001b[0m    \u001b[0mdecimal\u001b[0m\u001b[0;34m:\u001b[0m\u001b[0mstr\u001b[0m\u001b[0;34m=\u001b[0m\u001b[0;34m'.'\u001b[0m\u001b[0;34m,\u001b[0m\u001b[0;34m\u001b[0m\n\u001b[0;34m\u001b[0m    \u001b[0mlineterminator\u001b[0m\u001b[0;34m=\u001b[0m\u001b[0;32mNone\u001b[0m\u001b[0;34m,\u001b[0m\u001b[0;34m\u001b[0m\n\u001b[0;34m\u001b[0m    \u001b[0mquotechar\u001b[0m\u001b[0;34m=\u001b[0m\u001b[0;34m'\"'\u001b[0m\u001b[0;34m,\u001b[0m\u001b[0;34m\u001b[0m\n\u001b[0;34m\u001b[0m    \u001b[0mquoting\u001b[0m\u001b[0;34m=\u001b[0m\u001b[0;36m0\u001b[0m\u001b[0;34m,\u001b[0m\u001b[0;34m\u001b[0m\n\u001b[0;34m\u001b[0m    \u001b[0mdoublequote\u001b[0m\u001b[0;34m=\u001b[0m\u001b[0;32mTrue\u001b[0m\u001b[0;34m,\u001b[0m\u001b[0;34m\u001b[0m\n\u001b[0;34m\u001b[0m    \u001b[0mescapechar\u001b[0m\u001b[0;34m=\u001b[0m\u001b[0;32mNone\u001b[0m\u001b[0;34m,\u001b[0m\u001b[0;34m\u001b[0m\n\u001b[0;34m\u001b[0m    \u001b[0mcomment\u001b[0m\u001b[0;34m=\u001b[0m\u001b[0;32mNone\u001b[0m\u001b[0;34m,\u001b[0m\u001b[0;34m\u001b[0m\n\u001b[0;34m\u001b[0m    \u001b[0mencoding\u001b[0m\u001b[0;34m=\u001b[0m\u001b[0;32mNone\u001b[0m\u001b[0;34m,\u001b[0m\u001b[0;34m\u001b[0m\n\u001b[0;34m\u001b[0m    \u001b[0mdialect\u001b[0m\u001b[0;34m=\u001b[0m\u001b[0;32mNone\u001b[0m\u001b[0;34m,\u001b[0m\u001b[0;34m\u001b[0m\n\u001b[0;34m\u001b[0m    \u001b[0merror_bad_lines\u001b[0m\u001b[0;34m=\u001b[0m\u001b[0;32mTrue\u001b[0m\u001b[0;34m,\u001b[0m\u001b[0;34m\u001b[0m\n\u001b[0;34m\u001b[0m    \u001b[0mwarn_bad_lines\u001b[0m\u001b[0;34m=\u001b[0m\u001b[0;32mTrue\u001b[0m\u001b[0;34m,\u001b[0m\u001b[0;34m\u001b[0m\n\u001b[0;34m\u001b[0m    \u001b[0mdelim_whitespace\u001b[0m\u001b[0;34m=\u001b[0m\u001b[0;32mFalse\u001b[0m\u001b[0;34m,\u001b[0m\u001b[0;34m\u001b[0m\n\u001b[0;34m\u001b[0m    \u001b[0mlow_memory\u001b[0m\u001b[0;34m=\u001b[0m\u001b[0;32mTrue\u001b[0m\u001b[0;34m,\u001b[0m\u001b[0;34m\u001b[0m\n\u001b[0;34m\u001b[0m    \u001b[0mmemory_map\u001b[0m\u001b[0;34m=\u001b[0m\u001b[0;32mFalse\u001b[0m\u001b[0;34m,\u001b[0m\u001b[0;34m\u001b[0m\n\u001b[0;34m\u001b[0m    \u001b[0mfloat_precision\u001b[0m\u001b[0;34m=\u001b[0m\u001b[0;32mNone\u001b[0m\u001b[0;34m,\u001b[0m\u001b[0;34m\u001b[0m\n\u001b[0;34m\u001b[0m\u001b[0;34m)\u001b[0m\u001b[0;34m\u001b[0m\u001b[0;34m\u001b[0m\u001b[0m\n\u001b[0;31mDocstring:\u001b[0m\nRead a comma-separated values (csv) file into DataFrame.\n\nAlso supports optionally iterating or breaking of the file\ninto chunks.\n\nAdditional help can be found in the online docs for\n`IO Tools <https://pandas.pydata.org/pandas-docs/stable/user_guide/io.html>`_.\n\nParameters\n----------\nfilepath_or_buffer : str, path object or file-like object\n    Any valid string path is acceptable. The string could be a URL. Valid\n    URL schemes include http, ftp, s3, and file. For file URLs, a host is\n    expected. A local file could be: file://localhost/path/to/table.csv.\n\n    If you want to pass in a path object, pandas accepts any ``os.PathLike``.\n\n    By file-like object, we refer to objects with a ``read()`` method, such as\n    a file handler (e.g. via builtin ``open`` function) or ``StringIO``.\nsep : str, default ','\n    Delimiter to use. If sep is None, the C engine cannot automatically detect\n    the separator, but the Python parsing engine can, meaning the latter will\n    be used and automatically detect the separator by Python's builtin sniffer\n    tool, ``csv.Sniffer``. In addition, separators longer than 1 character and\n    different from ``'\\s+'`` will be interpreted as regular expressions and\n    will also force the use of the Python parsing engine. Note that regex\n    delimiters are prone to ignoring quoted data. Regex example: ``'\\r\\t'``.\ndelimiter : str, default ``None``\n    Alias for sep.\nheader : int, list of int, default 'infer'\n    Row number(s) to use as the column names, and the start of the\n    data.  Default behavior is to infer the column names: if no names\n    are passed the behavior is identical to ``header=0`` and column\n    names are inferred from the first line of the file, if column\n    names are passed explicitly then the behavior is identical to\n    ``header=None``. Explicitly pass ``header=0`` to be able to\n    replace existing names. The header can be a list of integers that\n    specify row locations for a multi-index on the columns\n    e.g. [0,1,3]. Intervening rows that are not specified will be\n    skipped (e.g. 2 in this example is skipped). Note that this\n    parameter ignores commented lines and empty lines if\n    ``skip_blank_lines=True``, so ``header=0`` denotes the first line of\n    data rather than the first line of the file.\nnames : array-like, optional\n    List of column names to use. If the file contains a header row,\n    then you should explicitly pass ``header=0`` to override the column names.\n    Duplicates in this list are not allowed.\nindex_col : int, str, sequence of int / str, or False, default ``None``\n  Column(s) to use as the row labels of the ``DataFrame``, either given as\n  string name or column index. If a sequence of int / str is given, a\n  MultiIndex is used.\n\n  Note: ``index_col=False`` can be used to force pandas to *not* use the first\n  column as the index, e.g. when you have a malformed file with delimiters at\n  the end of each line.\nusecols : list-like or callable, optional\n    Return a subset of the columns. If list-like, all elements must either\n    be positional (i.e. integer indices into the document columns) or strings\n    that correspond to column names provided either by the user in `names` or\n    inferred from the document header row(s). For example, a valid list-like\n    `usecols` parameter would be ``[0, 1, 2]`` or ``['foo', 'bar', 'baz']``.\n    Element order is ignored, so ``usecols=[0, 1]`` is the same as ``[1, 0]``.\n    To instantiate a DataFrame from ``data`` with element order preserved use\n    ``pd.read_csv(data, usecols=['foo', 'bar'])[['foo', 'bar']]`` for columns\n    in ``['foo', 'bar']`` order or\n    ``pd.read_csv(data, usecols=['foo', 'bar'])[['bar', 'foo']]``\n    for ``['bar', 'foo']`` order.\n\n    If callable, the callable function will be evaluated against the column\n    names, returning names where the callable function evaluates to True. An\n    example of a valid callable argument would be ``lambda x: x.upper() in\n    ['AAA', 'BBB', 'DDD']``. Using this parameter results in much faster\n    parsing time and lower memory usage.\nsqueeze : bool, default False\n    If the parsed data only contains one column then return a Series.\nprefix : str, optional\n    Prefix to add to column numbers when no header, e.g. 'X' for X0, X1, ...\nmangle_dupe_cols : bool, default True\n    Duplicate columns will be specified as 'X', 'X.1', ...'X.N', rather than\n    'X'...'X'. Passing in False will cause data to be overwritten if there\n    are duplicate names in the columns.\ndtype : Type name or dict of column -> type, optional\n    Data type for data or columns. E.g. {'a': np.float64, 'b': np.int32,\n    'c': 'Int64'}\n    Use `str` or `object` together with suitable `na_values` settings\n    to preserve and not interpret dtype.\n    If converters are specified, they will be applied INSTEAD\n    of dtype conversion.\nengine : {'c', 'python'}, optional\n    Parser engine to use. The C engine is faster while the python engine is\n    currently more feature-complete.\nconverters : dict, optional\n    Dict of functions for converting values in certain columns. Keys can either\n    be integers or column labels.\ntrue_values : list, optional\n    Values to consider as True.\nfalse_values : list, optional\n    Values to consider as False.\nskipinitialspace : bool, default False\n    Skip spaces after delimiter.\nskiprows : list-like, int or callable, optional\n    Line numbers to skip (0-indexed) or number of lines to skip (int)\n    at the start of the file.\n\n    If callable, the callable function will be evaluated against the row\n    indices, returning True if the row should be skipped and False otherwise.\n    An example of a valid callable argument would be ``lambda x: x in [0, 2]``.\nskipfooter : int, default 0\n    Number of lines at bottom of file to skip (Unsupported with engine='c').\nnrows : int, optional\n    Number of rows of file to read. Useful for reading pieces of large files.\nna_values : scalar, str, list-like, or dict, optional\n    Additional strings to recognize as NA/NaN. If dict passed, specific\n    per-column NA values.  By default the following values are interpreted as\n    NaN: '', '#N/A', '#N/A N/A', '#NA', '-1.#IND', '-1.#QNAN', '-NaN', '-nan',\n    '1.#IND', '1.#QNAN', '<NA>', 'N/A', 'NA', 'NULL', 'NaN', 'n/a',\n    'nan', 'null'.\nkeep_default_na : bool, default True\n    Whether or not to include the default NaN values when parsing the data.\n    Depending on whether `na_values` is passed in, the behavior is as follows:\n\n    * If `keep_default_na` is True, and `na_values` are specified, `na_values`\n      is appended to the default NaN values used for parsing.\n    * If `keep_default_na` is True, and `na_values` are not specified, only\n      the default NaN values are used for parsing.\n    * If `keep_default_na` is False, and `na_values` are specified, only\n      the NaN values specified `na_values` are used for parsing.\n    * If `keep_default_na` is False, and `na_values` are not specified, no\n      strings will be parsed as NaN.\n\n    Note that if `na_filter` is passed in as False, the `keep_default_na` and\n    `na_values` parameters will be ignored.\nna_filter : bool, default True\n    Detect missing value markers (empty strings and the value of na_values). In\n    data without any NAs, passing na_filter=False can improve the performance\n    of reading a large file.\nverbose : bool, default False\n    Indicate number of NA values placed in non-numeric columns.\nskip_blank_lines : bool, default True\n    If True, skip over blank lines rather than interpreting as NaN values.\nparse_dates : bool or list of int or names or list of lists or dict, default False\n    The behavior is as follows:\n\n    * boolean. If True -> try parsing the index.\n    * list of int or names. e.g. If [1, 2, 3] -> try parsing columns 1, 2, 3\n      each as a separate date column.\n    * list of lists. e.g.  If [[1, 3]] -> combine columns 1 and 3 and parse as\n      a single date column.\n    * dict, e.g. {'foo' : [1, 3]} -> parse columns 1, 3 as date and call\n      result 'foo'\n\n    If a column or index cannot be represented as an array of datetimes,\n    say because of an unparseable value or a mixture of timezones, the column\n    or index will be returned unaltered as an object data type. For\n    non-standard datetime parsing, use ``pd.to_datetime`` after\n    ``pd.read_csv``. To parse an index or column with a mixture of timezones,\n    specify ``date_parser`` to be a partially-applied\n    :func:`pandas.to_datetime` with ``utc=True``. See\n    :ref:`io.csv.mixed_timezones` for more.\n\n    Note: A fast-path exists for iso8601-formatted dates.\ninfer_datetime_format : bool, default False\n    If True and `parse_dates` is enabled, pandas will attempt to infer the\n    format of the datetime strings in the columns, and if it can be inferred,\n    switch to a faster method of parsing them. In some cases this can increase\n    the parsing speed by 5-10x.\nkeep_date_col : bool, default False\n    If True and `parse_dates` specifies combining multiple columns then\n    keep the original columns.\ndate_parser : function, optional\n    Function to use for converting a sequence of string columns to an array of\n    datetime instances. The default uses ``dateutil.parser.parser`` to do the\n    conversion. Pandas will try to call `date_parser` in three different ways,\n    advancing to the next if an exception occurs: 1) Pass one or more arrays\n    (as defined by `parse_dates`) as arguments; 2) concatenate (row-wise) the\n    string values from the columns defined by `parse_dates` into a single array\n    and pass that; and 3) call `date_parser` once for each row using one or\n    more strings (corresponding to the columns defined by `parse_dates`) as\n    arguments.\ndayfirst : bool, default False\n    DD/MM format dates, international and European format.\ncache_dates : bool, default True\n    If True, use a cache of unique, converted dates to apply the datetime\n    conversion. May produce significant speed-up when parsing duplicate\n    date strings, especially ones with timezone offsets.\n\n    .. versionadded:: 0.25.0\niterator : bool, default False\n    Return TextFileReader object for iteration or getting chunks with\n    ``get_chunk()``.\nchunksize : int, optional\n    Return TextFileReader object for iteration.\n    See the `IO Tools docs\n    <https://pandas.pydata.org/pandas-docs/stable/io.html#io-chunking>`_\n    for more information on ``iterator`` and ``chunksize``.\ncompression : {'infer', 'gzip', 'bz2', 'zip', 'xz', None}, default 'infer'\n    For on-the-fly decompression of on-disk data. If 'infer' and\n    `filepath_or_buffer` is path-like, then detect compression from the\n    following extensions: '.gz', '.bz2', '.zip', or '.xz' (otherwise no\n    decompression). If using 'zip', the ZIP file must contain only one data\n    file to be read in. Set to None for no decompression.\nthousands : str, optional\n    Thousands separator.\ndecimal : str, default '.'\n    Character to recognize as decimal point (e.g. use ',' for European data).\nlineterminator : str (length 1), optional\n    Character to break file into lines. Only valid with C parser.\nquotechar : str (length 1), optional\n    The character used to denote the start and end of a quoted item. Quoted\n    items can include the delimiter and it will be ignored.\nquoting : int or csv.QUOTE_* instance, default 0\n    Control field quoting behavior per ``csv.QUOTE_*`` constants. Use one of\n    QUOTE_MINIMAL (0), QUOTE_ALL (1), QUOTE_NONNUMERIC (2) or QUOTE_NONE (3).\ndoublequote : bool, default ``True``\n   When quotechar is specified and quoting is not ``QUOTE_NONE``, indicate\n   whether or not to interpret two consecutive quotechar elements INSIDE a\n   field as a single ``quotechar`` element.\nescapechar : str (length 1), optional\n    One-character string used to escape other characters.\ncomment : str, optional\n    Indicates remainder of line should not be parsed. If found at the beginning\n    of a line, the line will be ignored altogether. This parameter must be a\n    single character. Like empty lines (as long as ``skip_blank_lines=True``),\n    fully commented lines are ignored by the parameter `header` but not by\n    `skiprows`. For example, if ``comment='#'``, parsing\n    ``#empty\\na,b,c\\n1,2,3`` with ``header=0`` will result in 'a,b,c' being\n    treated as the header.\nencoding : str, optional\n    Encoding to use for UTF when reading/writing (ex. 'utf-8'). `List of Python\n    standard encodings\n    <https://docs.python.org/3/library/codecs.html#standard-encodings>`_ .\ndialect : str or csv.Dialect, optional\n    If provided, this parameter will override values (default or not) for the\n    following parameters: `delimiter`, `doublequote`, `escapechar`,\n    `skipinitialspace`, `quotechar`, and `quoting`. If it is necessary to\n    override values, a ParserWarning will be issued. See csv.Dialect\n    documentation for more details.\nerror_bad_lines : bool, default True\n    Lines with too many fields (e.g. a csv line with too many commas) will by\n    default cause an exception to be raised, and no DataFrame will be returned.\n    If False, then these \"bad lines\" will dropped from the DataFrame that is\n    returned.\nwarn_bad_lines : bool, default True\n    If error_bad_lines is False, and warn_bad_lines is True, a warning for each\n    \"bad line\" will be output.\ndelim_whitespace : bool, default False\n    Specifies whether or not whitespace (e.g. ``' '`` or ``'    '``) will be\n    used as the sep. Equivalent to setting ``sep='\\s+'``. If this option\n    is set to True, nothing should be passed in for the ``delimiter``\n    parameter.\nlow_memory : bool, default True\n    Internally process the file in chunks, resulting in lower memory use\n    while parsing, but possibly mixed type inference.  To ensure no mixed\n    types either set False, or specify the type with the `dtype` parameter.\n    Note that the entire file is read into a single DataFrame regardless,\n    use the `chunksize` or `iterator` parameter to return the data in chunks.\n    (Only valid with C parser).\nmemory_map : bool, default False\n    If a filepath is provided for `filepath_or_buffer`, map the file object\n    directly onto memory and access the data directly from there. Using this\n    option can improve performance because there is no longer any I/O overhead.\nfloat_precision : str, optional\n    Specifies which converter the C engine should use for floating-point\n    values. The options are `None` for the ordinary converter,\n    `high` for the high-precision converter, and `round_trip` for the\n    round-trip converter.\n\nReturns\n-------\nDataFrame or TextParser\n    A comma-separated values (csv) file is returned as two-dimensional\n    data structure with labeled axes.\n\nSee Also\n--------\nto_csv : Write DataFrame to a comma-separated values (csv) file.\nread_csv : Read a comma-separated values (csv) file into DataFrame.\nread_fwf : Read a table of fixed-width formatted lines into DataFrame.\n\nExamples\n--------\n>>> pd.read_csv('data.csv')  # doctest: +SKIP\n\u001b[0;31mFile:\u001b[0m      ~/.local/lib/python3.6/site-packages/pandas/io/parsers.py\n\u001b[0;31mType:\u001b[0m      function\n"
        }
      ]
    },
    {
      "cell_type": "code",
      "metadata": {
        "id": "v-s-RTjxfoqC",
        "colab_type": "code",
        "colab": {
          "base_uri": "https://localhost:8080/",
          "height": 35
        },
        "outputId": "bc076286-af8f-4787-d90e-ce407c000d2e"
      },
      "source": [
        "pd.__version__"
      ],
      "execution_count": 2,
      "outputs": [
        {
          "output_type": "execute_result",
          "data": {
            "text/plain": "'1.0.5'"
          },
          "metadata": {},
          "execution_count": 2
        }
      ]
    },
    {
      "cell_type": "code",
      "execution_count": 15,
      "metadata": {},
      "outputs": [
        {
          "output_type": "execute_result",
          "data": {
            "text/plain": "     City  Edition     Sport Discipline             Athlete  NOC Gender  \\\n0  Athens     1896  Aquatics   Swimming       HAJOS, Alfred  HUN    Men   \n1  Athens     1896  Aquatics   Swimming    HERSCHMANN, Otto  AUT    Men   \n2  Athens     1896  Aquatics   Swimming   DRIVAS, Dimitrios  GRE    Men   \n3  Athens     1896  Aquatics   Swimming  MALOKINIS, Ioannis  GRE    Men   \n4  Athens     1896  Aquatics   Swimming  CHASAPIS, Spiridon  GRE    Men   \n\n                        Event Event_gender   Medal  \n0              100m freestyle            M    Gold  \n1              100m freestyle            M  Silver  \n2  100m freestyle for sailors            M  Bronze  \n3  100m freestyle for sailors            M    Gold  \n4  100m freestyle for sailors            M  Silver  ",
            "text/html": "<div>\n<style scoped>\n    .dataframe tbody tr th:only-of-type {\n        vertical-align: middle;\n    }\n\n    .dataframe tbody tr th {\n        vertical-align: top;\n    }\n\n    .dataframe thead th {\n        text-align: right;\n    }\n</style>\n<table border=\"1\" class=\"dataframe\">\n  <thead>\n    <tr style=\"text-align: right;\">\n      <th></th>\n      <th>City</th>\n      <th>Edition</th>\n      <th>Sport</th>\n      <th>Discipline</th>\n      <th>Athlete</th>\n      <th>NOC</th>\n      <th>Gender</th>\n      <th>Event</th>\n      <th>Event_gender</th>\n      <th>Medal</th>\n    </tr>\n  </thead>\n  <tbody>\n    <tr>\n      <th>0</th>\n      <td>Athens</td>\n      <td>1896</td>\n      <td>Aquatics</td>\n      <td>Swimming</td>\n      <td>HAJOS, Alfred</td>\n      <td>HUN</td>\n      <td>Men</td>\n      <td>100m freestyle</td>\n      <td>M</td>\n      <td>Gold</td>\n    </tr>\n    <tr>\n      <th>1</th>\n      <td>Athens</td>\n      <td>1896</td>\n      <td>Aquatics</td>\n      <td>Swimming</td>\n      <td>HERSCHMANN, Otto</td>\n      <td>AUT</td>\n      <td>Men</td>\n      <td>100m freestyle</td>\n      <td>M</td>\n      <td>Silver</td>\n    </tr>\n    <tr>\n      <th>2</th>\n      <td>Athens</td>\n      <td>1896</td>\n      <td>Aquatics</td>\n      <td>Swimming</td>\n      <td>DRIVAS, Dimitrios</td>\n      <td>GRE</td>\n      <td>Men</td>\n      <td>100m freestyle for sailors</td>\n      <td>M</td>\n      <td>Bronze</td>\n    </tr>\n    <tr>\n      <th>3</th>\n      <td>Athens</td>\n      <td>1896</td>\n      <td>Aquatics</td>\n      <td>Swimming</td>\n      <td>MALOKINIS, Ioannis</td>\n      <td>GRE</td>\n      <td>Men</td>\n      <td>100m freestyle for sailors</td>\n      <td>M</td>\n      <td>Gold</td>\n    </tr>\n    <tr>\n      <th>4</th>\n      <td>Athens</td>\n      <td>1896</td>\n      <td>Aquatics</td>\n      <td>Swimming</td>\n      <td>CHASAPIS, Spiridon</td>\n      <td>GRE</td>\n      <td>Men</td>\n      <td>100m freestyle for sailors</td>\n      <td>M</td>\n      <td>Silver</td>\n    </tr>\n  </tbody>\n</table>\n</div>"
          },
          "metadata": {},
          "execution_count": 15
        }
      ],
      "source": [
        "# read csv locally exmaple, skiprows \n",
        "oo = pd.read_csv('data/olympics.csv', skiprows=4)\n",
        "oo.head()"
      ]
    },
    {
      "cell_type": "code",
      "execution_count": 18,
      "metadata": {
        "tags": []
      },
      "outputs": [
        {
          "output_type": "stream",
          "name": "stdout",
          "text": "Country         Region\n0      Algeria         AFRICA\n1       Angola         AFRICA\n2        Benin         AFRICA\n3     Botswana         AFRICA\n4      Burkina         AFRICA\n..         ...            ...\n189   Paraguay  SOUTH AMERICA\n190       Peru  SOUTH AMERICA\n191   Suriname  SOUTH AMERICA\n192    Uruguay  SOUTH AMERICA\n193  Venezuela  SOUTH AMERICA\n\n[194 rows x 2 columns]\n"
        }
      ],
      "source": [
        "#read remote CSV\n",
        "import pandas as pd\n",
        "import io\n",
        "import requests\n",
        "url=\"https://raw.githubusercontent.com/cs109/2014_data/master/countries.csv\"\n",
        "s=requests.get(url, verify = False).content\n",
        "c=pd.read_csv(io.StringIO(s.decode('utf-8')))\n",
        "print(c)"
      ]
    },
    {
      "cell_type": "code",
      "execution_count": null,
      "metadata": {},
      "outputs": [],
      "source": [
        "# ON colab, install yahooquery\n",
        "!pip install yahooquery"
      ]
    },
    {
      "cell_type": "code",
      "execution_count": 13,
      "metadata": {
        "colab": {},
        "colab_type": "code",
        "id": "XRZKScE9fzO7"
      },
      "outputs": [
        {
          "output_type": "execute_result",
          "data": {
            "text/plain": "                          close        open       volume        high  \\\n1980-12-12 14:30:00    0.513393    0.513393  117258400.0    0.515625   \n1980-12-15 14:30:00    0.486607    0.488839   43971200.0    0.488839   \n1980-12-16 14:30:00    0.450893    0.453125   26432000.0    0.453125   \n1980-12-17 14:30:00    0.462054    0.462054   21610400.0    0.464286   \n1980-12-18 14:30:00    0.475446    0.475446   18362400.0    0.477679   \n...                         ...         ...          ...         ...   \n2020-07-15 13:30:00  390.899994  395.959991   38299500.0  396.989990   \n2020-07-16 13:30:00  386.089996  386.250000   27644400.0  389.619995   \n2020-07-17 13:30:00  385.309998  387.950012   23046700.0  388.589996   \n2020-07-20 13:30:00  393.429993  385.670013   22531700.0  394.000000   \n2020-07-21 17:42:07  390.619995  396.690002   15710995.0  397.000000   \n\n                            low    adjclose  dividends  splits  \n1980-12-12 14:30:00    0.513393    0.405683        0.0     0.0  \n1980-12-15 14:30:00    0.486607    0.384517        0.0     0.0  \n1980-12-16 14:30:00    0.450893    0.356296        0.0     0.0  \n1980-12-17 14:30:00    0.462054    0.365115        0.0     0.0  \n1980-12-18 14:30:00    0.475446    0.375698        0.0     0.0  \n...                         ...         ...        ...     ...  \n2020-07-15 13:30:00  385.959991  390.899994        0.0     0.0  \n2020-07-16 13:30:00  383.619995  386.089996        0.0     0.0  \n2020-07-17 13:30:00  383.359985  385.309998        0.0     0.0  \n2020-07-20 13:30:00  384.250000  393.429993        0.0     0.0  \n2020-07-21 17:42:07  389.119995  390.619995        0.0     0.0  \n\n[9986 rows x 8 columns]",
            "text/html": "<div>\n<style scoped>\n    .dataframe tbody tr th:only-of-type {\n        vertical-align: middle;\n    }\n\n    .dataframe tbody tr th {\n        vertical-align: top;\n    }\n\n    .dataframe thead th {\n        text-align: right;\n    }\n</style>\n<table border=\"1\" class=\"dataframe\">\n  <thead>\n    <tr style=\"text-align: right;\">\n      <th></th>\n      <th>close</th>\n      <th>open</th>\n      <th>volume</th>\n      <th>high</th>\n      <th>low</th>\n      <th>adjclose</th>\n      <th>dividends</th>\n      <th>splits</th>\n    </tr>\n  </thead>\n  <tbody>\n    <tr>\n      <th>1980-12-12 14:30:00</th>\n      <td>0.513393</td>\n      <td>0.513393</td>\n      <td>117258400.0</td>\n      <td>0.515625</td>\n      <td>0.513393</td>\n      <td>0.405683</td>\n      <td>0.0</td>\n      <td>0.0</td>\n    </tr>\n    <tr>\n      <th>1980-12-15 14:30:00</th>\n      <td>0.486607</td>\n      <td>0.488839</td>\n      <td>43971200.0</td>\n      <td>0.488839</td>\n      <td>0.486607</td>\n      <td>0.384517</td>\n      <td>0.0</td>\n      <td>0.0</td>\n    </tr>\n    <tr>\n      <th>1980-12-16 14:30:00</th>\n      <td>0.450893</td>\n      <td>0.453125</td>\n      <td>26432000.0</td>\n      <td>0.453125</td>\n      <td>0.450893</td>\n      <td>0.356296</td>\n      <td>0.0</td>\n      <td>0.0</td>\n    </tr>\n    <tr>\n      <th>1980-12-17 14:30:00</th>\n      <td>0.462054</td>\n      <td>0.462054</td>\n      <td>21610400.0</td>\n      <td>0.464286</td>\n      <td>0.462054</td>\n      <td>0.365115</td>\n      <td>0.0</td>\n      <td>0.0</td>\n    </tr>\n    <tr>\n      <th>1980-12-18 14:30:00</th>\n      <td>0.475446</td>\n      <td>0.475446</td>\n      <td>18362400.0</td>\n      <td>0.477679</td>\n      <td>0.475446</td>\n      <td>0.375698</td>\n      <td>0.0</td>\n      <td>0.0</td>\n    </tr>\n    <tr>\n      <th>...</th>\n      <td>...</td>\n      <td>...</td>\n      <td>...</td>\n      <td>...</td>\n      <td>...</td>\n      <td>...</td>\n      <td>...</td>\n      <td>...</td>\n    </tr>\n    <tr>\n      <th>2020-07-15 13:30:00</th>\n      <td>390.899994</td>\n      <td>395.959991</td>\n      <td>38299500.0</td>\n      <td>396.989990</td>\n      <td>385.959991</td>\n      <td>390.899994</td>\n      <td>0.0</td>\n      <td>0.0</td>\n    </tr>\n    <tr>\n      <th>2020-07-16 13:30:00</th>\n      <td>386.089996</td>\n      <td>386.250000</td>\n      <td>27644400.0</td>\n      <td>389.619995</td>\n      <td>383.619995</td>\n      <td>386.089996</td>\n      <td>0.0</td>\n      <td>0.0</td>\n    </tr>\n    <tr>\n      <th>2020-07-17 13:30:00</th>\n      <td>385.309998</td>\n      <td>387.950012</td>\n      <td>23046700.0</td>\n      <td>388.589996</td>\n      <td>383.359985</td>\n      <td>385.309998</td>\n      <td>0.0</td>\n      <td>0.0</td>\n    </tr>\n    <tr>\n      <th>2020-07-20 13:30:00</th>\n      <td>393.429993</td>\n      <td>385.670013</td>\n      <td>22531700.0</td>\n      <td>394.000000</td>\n      <td>384.250000</td>\n      <td>393.429993</td>\n      <td>0.0</td>\n      <td>0.0</td>\n    </tr>\n    <tr>\n      <th>2020-07-21 17:42:07</th>\n      <td>390.619995</td>\n      <td>396.690002</td>\n      <td>15710995.0</td>\n      <td>397.000000</td>\n      <td>389.119995</td>\n      <td>390.619995</td>\n      <td>0.0</td>\n      <td>0.0</td>\n    </tr>\n  </tbody>\n</table>\n<p>9986 rows × 8 columns</p>\n</div>"
          },
          "metadata": {},
          "execution_count": 13
        }
      ],
      "source": [
        "from yahooquery import Ticker\n",
        "import pandas as pd\n",
        "aapl = Ticker('aapl')\n",
        "aapl.history(period='max') #dispaly first 5 and last 5 in notebook"
      ]
    },
    {
      "cell_type": "code",
      "execution_count": 9,
      "metadata": {},
      "outputs": [
        {
          "output_type": "execute_result",
          "data": {
            "text/plain": "            maxAge  epsActual  epsEstimate  epsDifference  surprisePercent  \\\nsymbol row                                                                   \naapl   0         1       2.18         2.10           0.08            0.038   \n       1         1       3.03         2.84           0.19            0.067   \n       2         1       4.99         4.55           0.44            0.097   \n       3         1       2.55         2.26           0.29            0.128   \n\n               quarter period  \nsymbol row                     \naapl   0    2019-06-30    -4q  \n       1    2019-09-30    -3q  \n       2    2019-12-31    -2q  \n       3    2020-03-31    -1q  ",
            "text/html": "<div>\n<style scoped>\n    .dataframe tbody tr th:only-of-type {\n        vertical-align: middle;\n    }\n\n    .dataframe tbody tr th {\n        vertical-align: top;\n    }\n\n    .dataframe thead th {\n        text-align: right;\n    }\n</style>\n<table border=\"1\" class=\"dataframe\">\n  <thead>\n    <tr style=\"text-align: right;\">\n      <th></th>\n      <th></th>\n      <th>maxAge</th>\n      <th>epsActual</th>\n      <th>epsEstimate</th>\n      <th>epsDifference</th>\n      <th>surprisePercent</th>\n      <th>quarter</th>\n      <th>period</th>\n    </tr>\n    <tr>\n      <th>symbol</th>\n      <th>row</th>\n      <th></th>\n      <th></th>\n      <th></th>\n      <th></th>\n      <th></th>\n      <th></th>\n      <th></th>\n    </tr>\n  </thead>\n  <tbody>\n    <tr>\n      <th rowspan=\"4\" valign=\"top\">aapl</th>\n      <th>0</th>\n      <td>1</td>\n      <td>2.18</td>\n      <td>2.10</td>\n      <td>0.08</td>\n      <td>0.038</td>\n      <td>2019-06-30</td>\n      <td>-4q</td>\n    </tr>\n    <tr>\n      <th>1</th>\n      <td>1</td>\n      <td>3.03</td>\n      <td>2.84</td>\n      <td>0.19</td>\n      <td>0.067</td>\n      <td>2019-09-30</td>\n      <td>-3q</td>\n    </tr>\n    <tr>\n      <th>2</th>\n      <td>1</td>\n      <td>4.99</td>\n      <td>4.55</td>\n      <td>0.44</td>\n      <td>0.097</td>\n      <td>2019-12-31</td>\n      <td>-2q</td>\n    </tr>\n    <tr>\n      <th>3</th>\n      <td>1</td>\n      <td>2.55</td>\n      <td>2.26</td>\n      <td>0.29</td>\n      <td>0.128</td>\n      <td>2020-03-31</td>\n      <td>-1q</td>\n    </tr>\n  </tbody>\n</table>\n</div>"
          },
          "metadata": {},
          "execution_count": 9
        }
      ],
      "source": [
        "aapl.earning_history"
      ]
    },
    {
      "cell_type": "code",
      "execution_count": 32,
      "metadata": {
        "tags": []
      },
      "outputs": [
        {
          "output_type": "stream",
          "name": "stdout",
          "text": "<class 'pandas.core.frame.DataFrame'>\n<class 'pandas.core.series.Series'>\n<class 'pandas.core.frame.DataFrame'>\n"
        }
      ],
      "source": [
        "# DataFrame and Series are different.\n",
        "print(type(aapl.earning_history))\n",
        "print(type(aapl.earning_history['quarter']))\n",
        "print(type(aapl.earning_history[['quarter','epsActual']])) # Double brackets!"
      ]
    },
    {
      "cell_type": "code",
      "execution_count": 10,
      "metadata": {},
      "outputs": [
        {
          "output_type": "execute_result",
          "data": {
            "text/plain": "                  date            epochDate  type  \\\nsymbol row                                          \naapl   0    2020-05-11  2020-05-11 21:32:39   8-K   \n       1    2020-05-01  2020-05-01 11:45:45  10-Q   \n       2    2020-04-30  2020-04-30 21:33:15   8-K   \n       3    2020-02-18  2020-02-18 11:35:28   8-K   \n       4    2020-01-29  2020-01-29 11:07:08  10-Q   \n       5    2020-01-28  2020-01-28 21:31:43   8-K   \n       6    2019-11-15  2019-11-15 11:24:32   8-K   \n       7    2019-10-31  2019-10-31 10:07:27  10-K   \n       8    2019-10-30  2019-10-30 20:32:03   8-K   \n       9    2019-09-11  2019-09-11 21:22:00   8-K   \n       10   2019-07-31  2019-07-31 21:33:41  10-Q   \n       11   2019-07-30  2019-07-30 21:31:22   8-K   \n\n                                                        title  \\\nsymbol row                                                      \naapl   0    Disclosing Other Events, Financial Statements ...   \n       1                                     Quarterly Report   \n       2    Disclosing Results of Operations and Financial...   \n       3    Disclosing Regulation FD Disclosure, Financial...   \n       4                                     Quarterly Report   \n       5    Disclosing Results of Operations and Financial...   \n       6    Disclosing Other Events, Financial Statements ...   \n       7                                        Annual Report   \n       8    Disclosing Results of Operations and Financial...   \n       9    Disclosing Other Events, Financial Statements ...   \n       10                                    Quarterly Report   \n       11   Disclosing Results of Operations and Financial...   \n\n                                                     edgarUrl  maxAge  \nsymbol row                                                             \naapl   0    https://yahoo.brand.edgar-online.com/DisplayFi...       1  \n       1    https://yahoo.brand.edgar-online.com/DisplayFi...       1  \n       2    https://yahoo.brand.edgar-online.com/DisplayFi...       1  \n       3    https://yahoo.brand.edgar-online.com/DisplayFi...       1  \n       4    https://yahoo.brand.edgar-online.com/DisplayFi...       1  \n       5    https://yahoo.brand.edgar-online.com/DisplayFi...       1  \n       6    https://yahoo.brand.edgar-online.com/DisplayFi...       1  \n       7    https://yahoo.brand.edgar-online.com/DisplayFi...       1  \n       8    https://yahoo.brand.edgar-online.com/DisplayFi...       1  \n       9    https://yahoo.brand.edgar-online.com/DisplayFi...       1  \n       10   https://yahoo.brand.edgar-online.com/DisplayFi...       1  \n       11   https://yahoo.brand.edgar-online.com/DisplayFi...       1  ",
            "text/html": "<div>\n<style scoped>\n    .dataframe tbody tr th:only-of-type {\n        vertical-align: middle;\n    }\n\n    .dataframe tbody tr th {\n        vertical-align: top;\n    }\n\n    .dataframe thead th {\n        text-align: right;\n    }\n</style>\n<table border=\"1\" class=\"dataframe\">\n  <thead>\n    <tr style=\"text-align: right;\">\n      <th></th>\n      <th></th>\n      <th>date</th>\n      <th>epochDate</th>\n      <th>type</th>\n      <th>title</th>\n      <th>edgarUrl</th>\n      <th>maxAge</th>\n    </tr>\n    <tr>\n      <th>symbol</th>\n      <th>row</th>\n      <th></th>\n      <th></th>\n      <th></th>\n      <th></th>\n      <th></th>\n      <th></th>\n    </tr>\n  </thead>\n  <tbody>\n    <tr>\n      <th rowspan=\"12\" valign=\"top\">aapl</th>\n      <th>0</th>\n      <td>2020-05-11</td>\n      <td>2020-05-11 21:32:39</td>\n      <td>8-K</td>\n      <td>Disclosing Other Events, Financial Statements ...</td>\n      <td>https://yahoo.brand.edgar-online.com/DisplayFi...</td>\n      <td>1</td>\n    </tr>\n    <tr>\n      <th>1</th>\n      <td>2020-05-01</td>\n      <td>2020-05-01 11:45:45</td>\n      <td>10-Q</td>\n      <td>Quarterly Report</td>\n      <td>https://yahoo.brand.edgar-online.com/DisplayFi...</td>\n      <td>1</td>\n    </tr>\n    <tr>\n      <th>2</th>\n      <td>2020-04-30</td>\n      <td>2020-04-30 21:33:15</td>\n      <td>8-K</td>\n      <td>Disclosing Results of Operations and Financial...</td>\n      <td>https://yahoo.brand.edgar-online.com/DisplayFi...</td>\n      <td>1</td>\n    </tr>\n    <tr>\n      <th>3</th>\n      <td>2020-02-18</td>\n      <td>2020-02-18 11:35:28</td>\n      <td>8-K</td>\n      <td>Disclosing Regulation FD Disclosure, Financial...</td>\n      <td>https://yahoo.brand.edgar-online.com/DisplayFi...</td>\n      <td>1</td>\n    </tr>\n    <tr>\n      <th>4</th>\n      <td>2020-01-29</td>\n      <td>2020-01-29 11:07:08</td>\n      <td>10-Q</td>\n      <td>Quarterly Report</td>\n      <td>https://yahoo.brand.edgar-online.com/DisplayFi...</td>\n      <td>1</td>\n    </tr>\n    <tr>\n      <th>5</th>\n      <td>2020-01-28</td>\n      <td>2020-01-28 21:31:43</td>\n      <td>8-K</td>\n      <td>Disclosing Results of Operations and Financial...</td>\n      <td>https://yahoo.brand.edgar-online.com/DisplayFi...</td>\n      <td>1</td>\n    </tr>\n    <tr>\n      <th>6</th>\n      <td>2019-11-15</td>\n      <td>2019-11-15 11:24:32</td>\n      <td>8-K</td>\n      <td>Disclosing Other Events, Financial Statements ...</td>\n      <td>https://yahoo.brand.edgar-online.com/DisplayFi...</td>\n      <td>1</td>\n    </tr>\n    <tr>\n      <th>7</th>\n      <td>2019-10-31</td>\n      <td>2019-10-31 10:07:27</td>\n      <td>10-K</td>\n      <td>Annual Report</td>\n      <td>https://yahoo.brand.edgar-online.com/DisplayFi...</td>\n      <td>1</td>\n    </tr>\n    <tr>\n      <th>8</th>\n      <td>2019-10-30</td>\n      <td>2019-10-30 20:32:03</td>\n      <td>8-K</td>\n      <td>Disclosing Results of Operations and Financial...</td>\n      <td>https://yahoo.brand.edgar-online.com/DisplayFi...</td>\n      <td>1</td>\n    </tr>\n    <tr>\n      <th>9</th>\n      <td>2019-09-11</td>\n      <td>2019-09-11 21:22:00</td>\n      <td>8-K</td>\n      <td>Disclosing Other Events, Financial Statements ...</td>\n      <td>https://yahoo.brand.edgar-online.com/DisplayFi...</td>\n      <td>1</td>\n    </tr>\n    <tr>\n      <th>10</th>\n      <td>2019-07-31</td>\n      <td>2019-07-31 21:33:41</td>\n      <td>10-Q</td>\n      <td>Quarterly Report</td>\n      <td>https://yahoo.brand.edgar-online.com/DisplayFi...</td>\n      <td>1</td>\n    </tr>\n    <tr>\n      <th>11</th>\n      <td>2019-07-30</td>\n      <td>2019-07-30 21:31:22</td>\n      <td>8-K</td>\n      <td>Disclosing Results of Operations and Financial...</td>\n      <td>https://yahoo.brand.edgar-online.com/DisplayFi...</td>\n      <td>1</td>\n    </tr>\n  </tbody>\n</table>\n</div>"
          },
          "metadata": {},
          "execution_count": 10
        }
      ],
      "source": [
        "aapl.sec_filings"
      ]
    },
    {
      "cell_type": "code",
      "execution_count": 11,
      "metadata": {},
      "outputs": [
        {
          "output_type": "execute_result",
          "data": {
            "text/plain": "         asOfDate periodType  AccountsPayable  AccountsReceivable  \\\nsymbol                                                              \naapl   2019-06-30         3M     2.911500e+10        1.414800e+10   \naapl   2019-09-30         3M     4.623600e+10        2.292600e+10   \naapl   2019-12-31         3M     4.511100e+10        2.097000e+10   \naapl   2020-03-31         3M     3.242100e+10        1.572200e+10   \n\n        AccumulatedDepreciation  AvailableForSaleSecurities  CapitalStock  \\\nsymbol                                                                      \naapl              -5.634800e+10                1.159960e+11  4.337100e+10   \naapl              -5.857900e+10                1.053410e+11  4.517400e+10   \naapl              -6.095900e+10                9.989900e+10  4.597200e+10   \naapl              -6.285400e+10                9.879300e+10  4.803200e+10   \n\n        CashAndCashEquivalents  CashCashEquivalentsAndShortTermInvestments  \\\nsymbol                                                                       \naapl              5.053000e+10                                9.461400e+10   \naapl              4.884400e+10                                1.005570e+11   \naapl              3.977100e+10                                1.071620e+11   \naapl              4.017400e+10                                9.405100e+10   \n\n        CashEquivalents  ...  TangibleBookValue   TotalAssets  \\\nsymbol                   ...                                    \naapl       3.845500e+10  ...       9.645600e+10  3.222390e+11   \naapl       3.664000e+10  ...       9.048800e+10  3.385160e+11   \naapl       2.838800e+10  ...       8.953100e+10  3.406180e+11   \naapl       1.576900e+10  ...       7.842500e+10  3.204000e+11   \n\n        TotalCapitalization     TotalDebt  TotalEquityGrossMinorityInterest  \\\nsymbol                                                                        \naapl           1.813920e+11  1.084180e+11                      9.645600e+10   \naapl           1.822950e+11  1.080470e+11                      9.048800e+10   \naapl           1.826090e+11  1.082920e+11                      8.953100e+10   \naapl           1.675110e+11  1.095070e+11                      7.842500e+10   \n\n        TotalLiabilitiesNetMinorityInterest  TotalNonCurrentAssets  \\\nsymbol                                                               \naapl                           2.257830e+11           1.872660e+11   \naapl                           2.480280e+11           1.756970e+11   \naapl                           2.510870e+11           1.773870e+11   \naapl                           2.419750e+11           1.766470e+11   \n\n        TotalNonCurrentLiabilitiesNetMinorityInterest  \\\nsymbol                                                  \naapl                                     1.360790e+11   \naapl                                     1.423100e+11   \naapl                                     1.489260e+11   \naapl                                     1.458810e+11   \n\n        TradeandOtherPayablesNonCurrent  WorkingCapital  \nsymbol                                                   \naapl                       3.052100e+10    4.526900e+10  \naapl                       2.954500e+10    5.710100e+10  \naapl                       2.819800e+10    6.107000e+10  \naapl                       2.818800e+10    4.765900e+10  \n\n[4 rows x 59 columns]",
            "text/html": "<div>\n<style scoped>\n    .dataframe tbody tr th:only-of-type {\n        vertical-align: middle;\n    }\n\n    .dataframe tbody tr th {\n        vertical-align: top;\n    }\n\n    .dataframe thead th {\n        text-align: right;\n    }\n</style>\n<table border=\"1\" class=\"dataframe\">\n  <thead>\n    <tr style=\"text-align: right;\">\n      <th></th>\n      <th>asOfDate</th>\n      <th>periodType</th>\n      <th>AccountsPayable</th>\n      <th>AccountsReceivable</th>\n      <th>AccumulatedDepreciation</th>\n      <th>AvailableForSaleSecurities</th>\n      <th>CapitalStock</th>\n      <th>CashAndCashEquivalents</th>\n      <th>CashCashEquivalentsAndShortTermInvestments</th>\n      <th>CashEquivalents</th>\n      <th>...</th>\n      <th>TangibleBookValue</th>\n      <th>TotalAssets</th>\n      <th>TotalCapitalization</th>\n      <th>TotalDebt</th>\n      <th>TotalEquityGrossMinorityInterest</th>\n      <th>TotalLiabilitiesNetMinorityInterest</th>\n      <th>TotalNonCurrentAssets</th>\n      <th>TotalNonCurrentLiabilitiesNetMinorityInterest</th>\n      <th>TradeandOtherPayablesNonCurrent</th>\n      <th>WorkingCapital</th>\n    </tr>\n    <tr>\n      <th>symbol</th>\n      <th></th>\n      <th></th>\n      <th></th>\n      <th></th>\n      <th></th>\n      <th></th>\n      <th></th>\n      <th></th>\n      <th></th>\n      <th></th>\n      <th></th>\n      <th></th>\n      <th></th>\n      <th></th>\n      <th></th>\n      <th></th>\n      <th></th>\n      <th></th>\n      <th></th>\n      <th></th>\n      <th></th>\n    </tr>\n  </thead>\n  <tbody>\n    <tr>\n      <th>aapl</th>\n      <td>2019-06-30</td>\n      <td>3M</td>\n      <td>2.911500e+10</td>\n      <td>1.414800e+10</td>\n      <td>-5.634800e+10</td>\n      <td>1.159960e+11</td>\n      <td>4.337100e+10</td>\n      <td>5.053000e+10</td>\n      <td>9.461400e+10</td>\n      <td>3.845500e+10</td>\n      <td>...</td>\n      <td>9.645600e+10</td>\n      <td>3.222390e+11</td>\n      <td>1.813920e+11</td>\n      <td>1.084180e+11</td>\n      <td>9.645600e+10</td>\n      <td>2.257830e+11</td>\n      <td>1.872660e+11</td>\n      <td>1.360790e+11</td>\n      <td>3.052100e+10</td>\n      <td>4.526900e+10</td>\n    </tr>\n    <tr>\n      <th>aapl</th>\n      <td>2019-09-30</td>\n      <td>3M</td>\n      <td>4.623600e+10</td>\n      <td>2.292600e+10</td>\n      <td>-5.857900e+10</td>\n      <td>1.053410e+11</td>\n      <td>4.517400e+10</td>\n      <td>4.884400e+10</td>\n      <td>1.005570e+11</td>\n      <td>3.664000e+10</td>\n      <td>...</td>\n      <td>9.048800e+10</td>\n      <td>3.385160e+11</td>\n      <td>1.822950e+11</td>\n      <td>1.080470e+11</td>\n      <td>9.048800e+10</td>\n      <td>2.480280e+11</td>\n      <td>1.756970e+11</td>\n      <td>1.423100e+11</td>\n      <td>2.954500e+10</td>\n      <td>5.710100e+10</td>\n    </tr>\n    <tr>\n      <th>aapl</th>\n      <td>2019-12-31</td>\n      <td>3M</td>\n      <td>4.511100e+10</td>\n      <td>2.097000e+10</td>\n      <td>-6.095900e+10</td>\n      <td>9.989900e+10</td>\n      <td>4.597200e+10</td>\n      <td>3.977100e+10</td>\n      <td>1.071620e+11</td>\n      <td>2.838800e+10</td>\n      <td>...</td>\n      <td>8.953100e+10</td>\n      <td>3.406180e+11</td>\n      <td>1.826090e+11</td>\n      <td>1.082920e+11</td>\n      <td>8.953100e+10</td>\n      <td>2.510870e+11</td>\n      <td>1.773870e+11</td>\n      <td>1.489260e+11</td>\n      <td>2.819800e+10</td>\n      <td>6.107000e+10</td>\n    </tr>\n    <tr>\n      <th>aapl</th>\n      <td>2020-03-31</td>\n      <td>3M</td>\n      <td>3.242100e+10</td>\n      <td>1.572200e+10</td>\n      <td>-6.285400e+10</td>\n      <td>9.879300e+10</td>\n      <td>4.803200e+10</td>\n      <td>4.017400e+10</td>\n      <td>9.405100e+10</td>\n      <td>1.576900e+10</td>\n      <td>...</td>\n      <td>7.842500e+10</td>\n      <td>3.204000e+11</td>\n      <td>1.675110e+11</td>\n      <td>1.095070e+11</td>\n      <td>7.842500e+10</td>\n      <td>2.419750e+11</td>\n      <td>1.766470e+11</td>\n      <td>1.458810e+11</td>\n      <td>2.818800e+10</td>\n      <td>4.765900e+10</td>\n    </tr>\n  </tbody>\n</table>\n<p>4 rows × 59 columns</p>\n</div>"
          },
          "metadata": {},
          "execution_count": 11
        }
      ],
      "source": [
        "aapl.balance_sheet(frequency=\"q\")"
      ]
    },
    {
      "cell_type": "markdown",
      "metadata": {},
      "source": [
        "# Getting Series"
      ]
    },
    {
      "cell_type": "code",
      "execution_count": 30,
      "metadata": {},
      "outputs": [
        {
          "output_type": "execute_result",
          "data": {
            "text/plain": "         asOfDate  AccountsReceivable  AccountsReceivable\nsymbol                                                   \naapl   2019-06-30        1.414800e+10        1.414800e+10\naapl   2019-09-30        2.292600e+10        2.292600e+10\naapl   2019-12-31        2.097000e+10        2.097000e+10\naapl   2020-03-31        1.572200e+10        1.572200e+10",
            "text/html": "<div>\n<style scoped>\n    .dataframe tbody tr th:only-of-type {\n        vertical-align: middle;\n    }\n\n    .dataframe tbody tr th {\n        vertical-align: top;\n    }\n\n    .dataframe thead th {\n        text-align: right;\n    }\n</style>\n<table border=\"1\" class=\"dataframe\">\n  <thead>\n    <tr style=\"text-align: right;\">\n      <th></th>\n      <th>asOfDate</th>\n      <th>AccountsReceivable</th>\n      <th>AccountsReceivable</th>\n    </tr>\n    <tr>\n      <th>symbol</th>\n      <th></th>\n      <th></th>\n      <th></th>\n    </tr>\n  </thead>\n  <tbody>\n    <tr>\n      <th>aapl</th>\n      <td>2019-06-30</td>\n      <td>1.414800e+10</td>\n      <td>1.414800e+10</td>\n    </tr>\n    <tr>\n      <th>aapl</th>\n      <td>2019-09-30</td>\n      <td>2.292600e+10</td>\n      <td>2.292600e+10</td>\n    </tr>\n    <tr>\n      <th>aapl</th>\n      <td>2019-12-31</td>\n      <td>2.097000e+10</td>\n      <td>2.097000e+10</td>\n    </tr>\n    <tr>\n      <th>aapl</th>\n      <td>2020-03-31</td>\n      <td>1.572200e+10</td>\n      <td>1.572200e+10</td>\n    </tr>\n  </tbody>\n</table>\n</div>"
          },
          "metadata": {},
          "execution_count": 30
        }
      ],
      "source": [
        "aapl.balance_sheet(frequency=\"q\")[['asOfDate','AccountsReceivable', 'AccountsReceivable']] # note the double brackets because the type is data frame, which is 2 dimensional"
      ]
    },
    {
      "cell_type": "markdown",
      "metadata": {},
      "source": [
        "# Methods"
      ]
    },
    {
      "cell_type": "code",
      "execution_count": 33,
      "metadata": {},
      "outputs": [
        {
          "output_type": "execute_result",
          "data": {
            "text/plain": "(4, 3)"
          },
          "metadata": {},
          "execution_count": 33
        }
      ],
      "source": [
        "#Shape\n",
        "aapl.balance_sheet(frequency=\"q\")[['asOfDate','AccountsReceivable', 'AccountsReceivable']].shape"
      ]
    },
    {
      "cell_type": "code",
      "execution_count": 35,
      "metadata": {},
      "outputs": [
        {
          "output_type": "execute_result",
          "data": {
            "text/plain": "                  date            epochDate  type  \\\nsymbol row                                          \naapl   0    2020-05-11  2020-05-11 21:32:39   8-K   \n       1    2020-05-01  2020-05-01 11:45:45  10-Q   \n       2    2020-04-30  2020-04-30 21:33:15   8-K   \n       3    2020-02-18  2020-02-18 11:35:28   8-K   \n       4    2020-01-29  2020-01-29 11:07:08  10-Q   \n       5    2020-01-28  2020-01-28 21:31:43   8-K   \n       6    2019-11-15  2019-11-15 11:24:32   8-K   \n\n                                                        title  \\\nsymbol row                                                      \naapl   0    Disclosing Other Events, Financial Statements ...   \n       1                                     Quarterly Report   \n       2    Disclosing Results of Operations and Financial...   \n       3    Disclosing Regulation FD Disclosure, Financial...   \n       4                                     Quarterly Report   \n       5    Disclosing Results of Operations and Financial...   \n       6    Disclosing Other Events, Financial Statements ...   \n\n                                                     edgarUrl  maxAge  \nsymbol row                                                             \naapl   0    https://yahoo.brand.edgar-online.com/DisplayFi...       1  \n       1    https://yahoo.brand.edgar-online.com/DisplayFi...       1  \n       2    https://yahoo.brand.edgar-online.com/DisplayFi...       1  \n       3    https://yahoo.brand.edgar-online.com/DisplayFi...       1  \n       4    https://yahoo.brand.edgar-online.com/DisplayFi...       1  \n       5    https://yahoo.brand.edgar-online.com/DisplayFi...       1  \n       6    https://yahoo.brand.edgar-online.com/DisplayFi...       1  ",
            "text/html": "<div>\n<style scoped>\n    .dataframe tbody tr th:only-of-type {\n        vertical-align: middle;\n    }\n\n    .dataframe tbody tr th {\n        vertical-align: top;\n    }\n\n    .dataframe thead th {\n        text-align: right;\n    }\n</style>\n<table border=\"1\" class=\"dataframe\">\n  <thead>\n    <tr style=\"text-align: right;\">\n      <th></th>\n      <th></th>\n      <th>date</th>\n      <th>epochDate</th>\n      <th>type</th>\n      <th>title</th>\n      <th>edgarUrl</th>\n      <th>maxAge</th>\n    </tr>\n    <tr>\n      <th>symbol</th>\n      <th>row</th>\n      <th></th>\n      <th></th>\n      <th></th>\n      <th></th>\n      <th></th>\n      <th></th>\n    </tr>\n  </thead>\n  <tbody>\n    <tr>\n      <th rowspan=\"7\" valign=\"top\">aapl</th>\n      <th>0</th>\n      <td>2020-05-11</td>\n      <td>2020-05-11 21:32:39</td>\n      <td>8-K</td>\n      <td>Disclosing Other Events, Financial Statements ...</td>\n      <td>https://yahoo.brand.edgar-online.com/DisplayFi...</td>\n      <td>1</td>\n    </tr>\n    <tr>\n      <th>1</th>\n      <td>2020-05-01</td>\n      <td>2020-05-01 11:45:45</td>\n      <td>10-Q</td>\n      <td>Quarterly Report</td>\n      <td>https://yahoo.brand.edgar-online.com/DisplayFi...</td>\n      <td>1</td>\n    </tr>\n    <tr>\n      <th>2</th>\n      <td>2020-04-30</td>\n      <td>2020-04-30 21:33:15</td>\n      <td>8-K</td>\n      <td>Disclosing Results of Operations and Financial...</td>\n      <td>https://yahoo.brand.edgar-online.com/DisplayFi...</td>\n      <td>1</td>\n    </tr>\n    <tr>\n      <th>3</th>\n      <td>2020-02-18</td>\n      <td>2020-02-18 11:35:28</td>\n      <td>8-K</td>\n      <td>Disclosing Regulation FD Disclosure, Financial...</td>\n      <td>https://yahoo.brand.edgar-online.com/DisplayFi...</td>\n      <td>1</td>\n    </tr>\n    <tr>\n      <th>4</th>\n      <td>2020-01-29</td>\n      <td>2020-01-29 11:07:08</td>\n      <td>10-Q</td>\n      <td>Quarterly Report</td>\n      <td>https://yahoo.brand.edgar-online.com/DisplayFi...</td>\n      <td>1</td>\n    </tr>\n    <tr>\n      <th>5</th>\n      <td>2020-01-28</td>\n      <td>2020-01-28 21:31:43</td>\n      <td>8-K</td>\n      <td>Disclosing Results of Operations and Financial...</td>\n      <td>https://yahoo.brand.edgar-online.com/DisplayFi...</td>\n      <td>1</td>\n    </tr>\n    <tr>\n      <th>6</th>\n      <td>2019-11-15</td>\n      <td>2019-11-15 11:24:32</td>\n      <td>8-K</td>\n      <td>Disclosing Other Events, Financial Statements ...</td>\n      <td>https://yahoo.brand.edgar-online.com/DisplayFi...</td>\n      <td>1</td>\n    </tr>\n  </tbody>\n</table>\n</div>"
          },
          "metadata": {},
          "execution_count": 35
        }
      ],
      "source": [
        "# head and tail\n",
        "aapl.sec_filings.head(7) #default is 5"
      ]
    },
    {
      "cell_type": "code",
      "execution_count": 36,
      "metadata": {},
      "outputs": [
        {
          "output_type": "execute_result",
          "data": {
            "text/plain": "                  date            epochDate  type  \\\nsymbol row                                          \naapl   5    2020-01-28  2020-01-28 21:31:43   8-K   \n       6    2019-11-15  2019-11-15 11:24:32   8-K   \n       7    2019-10-31  2019-10-31 10:07:27  10-K   \n       8    2019-10-30  2019-10-30 20:32:03   8-K   \n       9    2019-09-11  2019-09-11 21:22:00   8-K   \n       10   2019-07-31  2019-07-31 21:33:41  10-Q   \n       11   2019-07-30  2019-07-30 21:31:22   8-K   \n\n                                                        title  \\\nsymbol row                                                      \naapl   5    Disclosing Results of Operations and Financial...   \n       6    Disclosing Other Events, Financial Statements ...   \n       7                                        Annual Report   \n       8    Disclosing Results of Operations and Financial...   \n       9    Disclosing Other Events, Financial Statements ...   \n       10                                    Quarterly Report   \n       11   Disclosing Results of Operations and Financial...   \n\n                                                     edgarUrl  maxAge  \nsymbol row                                                             \naapl   5    https://yahoo.brand.edgar-online.com/DisplayFi...       1  \n       6    https://yahoo.brand.edgar-online.com/DisplayFi...       1  \n       7    https://yahoo.brand.edgar-online.com/DisplayFi...       1  \n       8    https://yahoo.brand.edgar-online.com/DisplayFi...       1  \n       9    https://yahoo.brand.edgar-online.com/DisplayFi...       1  \n       10   https://yahoo.brand.edgar-online.com/DisplayFi...       1  \n       11   https://yahoo.brand.edgar-online.com/DisplayFi...       1  ",
            "text/html": "<div>\n<style scoped>\n    .dataframe tbody tr th:only-of-type {\n        vertical-align: middle;\n    }\n\n    .dataframe tbody tr th {\n        vertical-align: top;\n    }\n\n    .dataframe thead th {\n        text-align: right;\n    }\n</style>\n<table border=\"1\" class=\"dataframe\">\n  <thead>\n    <tr style=\"text-align: right;\">\n      <th></th>\n      <th></th>\n      <th>date</th>\n      <th>epochDate</th>\n      <th>type</th>\n      <th>title</th>\n      <th>edgarUrl</th>\n      <th>maxAge</th>\n    </tr>\n    <tr>\n      <th>symbol</th>\n      <th>row</th>\n      <th></th>\n      <th></th>\n      <th></th>\n      <th></th>\n      <th></th>\n      <th></th>\n    </tr>\n  </thead>\n  <tbody>\n    <tr>\n      <th rowspan=\"7\" valign=\"top\">aapl</th>\n      <th>5</th>\n      <td>2020-01-28</td>\n      <td>2020-01-28 21:31:43</td>\n      <td>8-K</td>\n      <td>Disclosing Results of Operations and Financial...</td>\n      <td>https://yahoo.brand.edgar-online.com/DisplayFi...</td>\n      <td>1</td>\n    </tr>\n    <tr>\n      <th>6</th>\n      <td>2019-11-15</td>\n      <td>2019-11-15 11:24:32</td>\n      <td>8-K</td>\n      <td>Disclosing Other Events, Financial Statements ...</td>\n      <td>https://yahoo.brand.edgar-online.com/DisplayFi...</td>\n      <td>1</td>\n    </tr>\n    <tr>\n      <th>7</th>\n      <td>2019-10-31</td>\n      <td>2019-10-31 10:07:27</td>\n      <td>10-K</td>\n      <td>Annual Report</td>\n      <td>https://yahoo.brand.edgar-online.com/DisplayFi...</td>\n      <td>1</td>\n    </tr>\n    <tr>\n      <th>8</th>\n      <td>2019-10-30</td>\n      <td>2019-10-30 20:32:03</td>\n      <td>8-K</td>\n      <td>Disclosing Results of Operations and Financial...</td>\n      <td>https://yahoo.brand.edgar-online.com/DisplayFi...</td>\n      <td>1</td>\n    </tr>\n    <tr>\n      <th>9</th>\n      <td>2019-09-11</td>\n      <td>2019-09-11 21:22:00</td>\n      <td>8-K</td>\n      <td>Disclosing Other Events, Financial Statements ...</td>\n      <td>https://yahoo.brand.edgar-online.com/DisplayFi...</td>\n      <td>1</td>\n    </tr>\n    <tr>\n      <th>10</th>\n      <td>2019-07-31</td>\n      <td>2019-07-31 21:33:41</td>\n      <td>10-Q</td>\n      <td>Quarterly Report</td>\n      <td>https://yahoo.brand.edgar-online.com/DisplayFi...</td>\n      <td>1</td>\n    </tr>\n    <tr>\n      <th>11</th>\n      <td>2019-07-30</td>\n      <td>2019-07-30 21:31:22</td>\n      <td>8-K</td>\n      <td>Disclosing Results of Operations and Financial...</td>\n      <td>https://yahoo.brand.edgar-online.com/DisplayFi...</td>\n      <td>1</td>\n    </tr>\n  </tbody>\n</table>\n</div>"
          },
          "metadata": {},
          "execution_count": 36
        }
      ],
      "source": [
        "aapl.sec_filings.tail(7) #default is 5"
      ]
    },
    {
      "cell_type": "code",
      "execution_count": 37,
      "metadata": {
        "tags": []
      },
      "outputs": [
        {
          "output_type": "stream",
          "name": "stdout",
          "text": "<class 'pandas.core.frame.DataFrame'>\nMultiIndex: 12 entries, ('aapl', 0) to ('aapl', 11)\nData columns (total 6 columns):\n #   Column     Non-Null Count  Dtype \n---  ------     --------------  ----- \n 0   date       12 non-null     object\n 1   epochDate  12 non-null     object\n 2   type       12 non-null     object\n 3   title      12 non-null     object\n 4   edgarUrl   12 non-null     object\n 5   maxAge     12 non-null     int64 \ndtypes: int64(1), object(5)\nmemory usage: 843.0+ bytes\n"
        }
      ],
      "source": [
        "#info\n",
        "aapl.sec_filings.info()"
      ]
    },
    {
      "cell_type": "markdown",
      "metadata": {},
      "source": [
        "# Analysis methods"
      ]
    },
    {
      "cell_type": "code",
      "execution_count": null,
      "metadata": {},
      "outputs": [],
      "source": [
        "# value counts"
      ]
    }
  ]
}
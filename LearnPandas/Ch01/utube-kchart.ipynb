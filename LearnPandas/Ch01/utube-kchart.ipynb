{
  "nbformat": 4,
  "nbformat_minor": 0,
  "metadata": {
    "kernelspec": {
      "display_name": "Python 3",
      "language": "python",
      "name": "python3"
    },
    "language_info": {
      "codemirror_mode": {
        "name": "ipython",
        "version": 3
      },
      "file_extension": ".py",
      "mimetype": "text/x-python",
      "name": "python",
      "nbconvert_exporter": "python",
      "pygments_lexer": "ipython3",
      "version": "3.6.1"
    },
    "colab": {
      "name": "Ch01 Using pandas.ipynb",
      "provenance": []
    }
  },
  "cells": [
    {
      "cell_type": "markdown",
      "metadata": {
        "id": "z8Jf7jN2wMRR",
        "colab_type": "text"
      },
      "source": [
        "# Using Pandas"
      ]
    },
    {
      "cell_type": "markdown",
      "metadata": {
        "id": "E4Yuaa77wMRc",
        "colab_type": "text"
      },
      "source": [
        "## Importing pandas"
      ]
    },
    {
      "cell_type": "code",
      "metadata": {
        "id": "2zNprJ14wMRd",
        "colab_type": "code",
        "colab": {}
      },
      "source": [
        "import pandas"
      ],
      "execution_count": 1,
      "outputs": []
    },
    {
      "cell_type": "code",
      "metadata": {
        "id": "dRZKT8pEwMRp",
        "colab_type": "code",
        "colab": {},
        "outputId": "cf0cf4d8-05e7-48b0-982e-b640a7c019ea"
      },
      "source": [
        "pandas.__version__"
      ],
      "execution_count": null,
      "outputs": [
        {
          "output_type": "execute_result",
          "data": {
            "text/plain": [
              "'0.20.1'"
            ]
          },
          "metadata": {
            "tags": []
          },
          "execution_count": 3
        }
      ]
    },
    {
      "cell_type": "code",
      "metadata": {
        "id": "iF0SZFlFwMRy",
        "colab_type": "code",
        "colab": {}
      },
      "source": [
        "import pandas as pd"
      ],
      "execution_count": null,
      "outputs": []
    },
    {
      "cell_type": "code",
      "metadata": {
        "id": "Bj_H1lb7wMR5",
        "colab_type": "code",
        "colab": {},
        "outputId": "6fe53eb6-594c-4d6f-e442-d1284058e341"
      },
      "source": [
        "pd.__version__"
      ],
      "execution_count": null,
      "outputs": [
        {
          "output_type": "execute_result",
          "data": {
            "text/plain": [
              "'0.20.1'"
            ]
          },
          "metadata": {
            "tags": []
          },
          "execution_count": 5
        }
      ]
    },
    {
      "cell_type": "markdown",
      "metadata": {
        "id": "FNDeL6gRwMSA",
        "colab_type": "text"
      },
      "source": [
        "## Pandas documentation"
      ]
    },
    {
      "cell_type": "code",
      "metadata": {
        "id": "FAHzbZ2cwMSB",
        "colab_type": "code",
        "colab": {}
      },
      "source": [
        "pd.show_versions()"
      ],
      "execution_count": null,
      "outputs": []
    },
    {
      "cell_type": "code",
      "metadata": {
        "id": "O1Yh_7CXwMSK",
        "colab_type": "code",
        "colab": {}
      },
      "source": [
        "pd.show_versions?"
      ],
      "execution_count": null,
      "outputs": []
    },
    {
      "cell_type": "code",
      "metadata": {
        "id": "mQVc8rolwMSQ",
        "colab_type": "code",
        "colab": {}
      },
      "source": [
        "pd.read_csv?"
      ],
      "execution_count": null,
      "outputs": []
    },
    {
      "cell_type": "code",
      "metadata": {
        "id": "B74YGaCTwMSX",
        "colab_type": "code",
        "colab": {}
      },
      "source": [
        ""
      ],
      "execution_count": null,
      "outputs": []
    }
  ]
}
{
  "nbformat": 4,
  "nbformat_minor": 0,
  "metadata": {
    "kernelspec": {
      "display_name": "Python 3",
      "language": "python",
      "name": "python3"
    },
    "language_info": {
      "codemirror_mode": {
        "name": "ipython",
        "version": 3
      },
      "file_extension": ".py",
      "mimetype": "text/x-python",
      "name": "python",
      "nbconvert_exporter": "python",
      "pygments_lexer": "ipython3",
      "version": "3.6.1"
    },
    "colab": {
      "name": "Ch01 Using pandas.ipynb",
      "provenance": []
    }
  },
  "cells": [
    {
      "cell_type": "markdown",
      "metadata": {
        "id": "IMdOBoVM0Maz",
        "colab_type": "text"
      },
      "source": [
        "# Create A Candle Stick Chart"
      ]
    },
    {
      "cell_type": "code",
      "metadata": {
        "id": "2zNprJ14wMRd",
        "colab_type": "code",
        "colab": {
          "base_uri": "https://localhost:8080/",
          "height": 588
        },
        "outputId": "32223a83-4a5a-47a1-d53c-a832cb2dfa12"
      },
      "source": [
        "!pip install yahooquery\n",
        "\n",
        "from yahooquery import Ticker\n",
        "aapl = Ticker('aapl')\n",
        "abt = Ticker('abt')\n",
        "import pandas as pd"
      ],
      "execution_count": 2,
      "outputs": [
        {
          "output_type": "stream",
          "text": [
            "Collecting yahooquery\n",
            "\u001b[?25l  Downloading https://files.pythonhosted.org/packages/45/4e/d214812e70fdd687960c74280d1e6264ce0bbbc8b9d9cab874a30353231d/yahooquery-2.2.5.tar.gz (53kB)\n",
            "\u001b[K     |████████████████████████████████| 61kB 2.7MB/s \n",
            "\u001b[?25hCollecting lxml==4.5.0\n",
            "\u001b[?25l  Downloading https://files.pythonhosted.org/packages/dd/ba/a0e6866057fc0bbd17192925c1d63a3b85cf522965de9bc02364d08e5b84/lxml-4.5.0-cp36-cp36m-manylinux1_x86_64.whl (5.8MB)\n",
            "\u001b[K     |████████████████████████████████| 5.8MB 10.5MB/s \n",
            "\u001b[?25hRequirement already satisfied: pandas>=0.24 in /usr/local/lib/python3.6/dist-packages (from yahooquery) (1.0.5)\n",
            "Collecting requests-futures==1.0.0\n",
            "  Downloading https://files.pythonhosted.org/packages/47/c4/fd48d1ac5110a5457c71ac7cc4caa93da10a80b8de71112430e439bdee22/requests-futures-1.0.0.tar.gz\n",
            "Collecting selenium==3.141.0\n",
            "\u001b[?25l  Downloading https://files.pythonhosted.org/packages/80/d6/4294f0b4bce4de0abf13e17190289f9d0613b0a44e5dd6a7f5ca98459853/selenium-3.141.0-py2.py3-none-any.whl (904kB)\n",
            "\u001b[K     |████████████████████████████████| 911kB 45.3MB/s \n",
            "\u001b[?25hRequirement already satisfied: pytz>=2017.2 in /usr/local/lib/python3.6/dist-packages (from pandas>=0.24->yahooquery) (2018.9)\n",
            "Requirement already satisfied: numpy>=1.13.3 in /usr/local/lib/python3.6/dist-packages (from pandas>=0.24->yahooquery) (1.18.5)\n",
            "Requirement already satisfied: python-dateutil>=2.6.1 in /usr/local/lib/python3.6/dist-packages (from pandas>=0.24->yahooquery) (2.8.1)\n",
            "Requirement already satisfied: requests>=1.2.0 in /usr/local/lib/python3.6/dist-packages (from requests-futures==1.0.0->yahooquery) (2.23.0)\n",
            "Requirement already satisfied: urllib3 in /usr/local/lib/python3.6/dist-packages (from selenium==3.141.0->yahooquery) (1.24.3)\n",
            "Requirement already satisfied: six>=1.5 in /usr/local/lib/python3.6/dist-packages (from python-dateutil>=2.6.1->pandas>=0.24->yahooquery) (1.15.0)\n",
            "Requirement already satisfied: chardet<4,>=3.0.2 in /usr/local/lib/python3.6/dist-packages (from requests>=1.2.0->requests-futures==1.0.0->yahooquery) (3.0.4)\n",
            "Requirement already satisfied: certifi>=2017.4.17 in /usr/local/lib/python3.6/dist-packages (from requests>=1.2.0->requests-futures==1.0.0->yahooquery) (2020.6.20)\n",
            "Requirement already satisfied: idna<3,>=2.5 in /usr/local/lib/python3.6/dist-packages (from requests>=1.2.0->requests-futures==1.0.0->yahooquery) (2.10)\n",
            "Building wheels for collected packages: yahooquery, requests-futures\n",
            "  Building wheel for yahooquery (setup.py) ... \u001b[?25l\u001b[?25hdone\n",
            "  Created wheel for yahooquery: filename=yahooquery-2.2.5-cp36-none-any.whl size=49956 sha256=cdb4bfd53c30873bedd2539ca784687a1f6ee4e928f46a4522de58a385e5cfa3\n",
            "  Stored in directory: /root/.cache/pip/wheels/dd/6f/e6/04b0c8874ca6f29e0effceb10ea260f181746c43905a436477\n",
            "  Building wheel for requests-futures (setup.py) ... \u001b[?25l\u001b[?25hdone\n",
            "  Created wheel for requests-futures: filename=requests_futures-1.0.0-cp36-none-any.whl size=7013 sha256=bedf9d55beaac93ab14402621390a473f02e5b8cfb79717923a9ab83f392ce05\n",
            "  Stored in directory: /root/.cache/pip/wheels/26/d0/f5/dc4e4a37bbe55c9acf967d2bd899152412c1e49c227f5395ff\n",
            "Successfully built yahooquery requests-futures\n",
            "Installing collected packages: lxml, requests-futures, selenium, yahooquery\n",
            "  Found existing installation: lxml 4.2.6\n",
            "    Uninstalling lxml-4.2.6:\n",
            "      Successfully uninstalled lxml-4.2.6\n",
            "Successfully installed lxml-4.5.0 requests-futures-1.0.0 selenium-3.141.0 yahooquery-2.2.5\n"
          ],
          "name": "stdout"
        }
      ]
    },
    {
      "cell_type": "code",
      "metadata": {
        "id": "Bj_H1lb7wMR5",
        "colab_type": "code",
        "colab": {
          "base_uri": "https://localhost:8080/",
          "height": 431
        },
        "outputId": "b66d2c18-1a2c-4d63-e59a-ae46af3de1e4"
      },
      "source": [
        "ohlc = aapl.history(period='ytd',interval='1d')\n",
        "ohlc"
      ],
      "execution_count": 5,
      "outputs": [
        {
          "output_type": "execute_result",
          "data": {
            "text/html": [
              "<div>\n",
              "<style scoped>\n",
              "    .dataframe tbody tr th:only-of-type {\n",
              "        vertical-align: middle;\n",
              "    }\n",
              "\n",
              "    .dataframe tbody tr th {\n",
              "        vertical-align: top;\n",
              "    }\n",
              "\n",
              "    .dataframe thead th {\n",
              "        text-align: right;\n",
              "    }\n",
              "</style>\n",
              "<table border=\"1\" class=\"dataframe\">\n",
              "  <thead>\n",
              "    <tr style=\"text-align: right;\">\n",
              "      <th></th>\n",
              "      <th></th>\n",
              "      <th>low</th>\n",
              "      <th>high</th>\n",
              "      <th>close</th>\n",
              "      <th>open</th>\n",
              "      <th>volume</th>\n",
              "      <th>adjclose</th>\n",
              "      <th>dividends</th>\n",
              "    </tr>\n",
              "    <tr>\n",
              "      <th>symbol</th>\n",
              "      <th>date</th>\n",
              "      <th></th>\n",
              "      <th></th>\n",
              "      <th></th>\n",
              "      <th></th>\n",
              "      <th></th>\n",
              "      <th></th>\n",
              "      <th></th>\n",
              "    </tr>\n",
              "  </thead>\n",
              "  <tbody>\n",
              "    <tr>\n",
              "      <th rowspan=\"11\" valign=\"top\">aapl</th>\n",
              "      <th>2020-01-02</th>\n",
              "      <td>295.190002</td>\n",
              "      <td>300.600006</td>\n",
              "      <td>300.350006</td>\n",
              "      <td>296.239990</td>\n",
              "      <td>33870100</td>\n",
              "      <td>298.829956</td>\n",
              "      <td>0.0</td>\n",
              "    </tr>\n",
              "    <tr>\n",
              "      <th>2020-01-03</th>\n",
              "      <td>296.500000</td>\n",
              "      <td>300.579987</td>\n",
              "      <td>297.429993</td>\n",
              "      <td>297.149994</td>\n",
              "      <td>36580700</td>\n",
              "      <td>295.924713</td>\n",
              "      <td>0.0</td>\n",
              "    </tr>\n",
              "    <tr>\n",
              "      <th>2020-01-06</th>\n",
              "      <td>292.750000</td>\n",
              "      <td>299.959991</td>\n",
              "      <td>299.799988</td>\n",
              "      <td>293.790009</td>\n",
              "      <td>29596800</td>\n",
              "      <td>298.282715</td>\n",
              "      <td>0.0</td>\n",
              "    </tr>\n",
              "    <tr>\n",
              "      <th>2020-01-07</th>\n",
              "      <td>297.480011</td>\n",
              "      <td>300.899994</td>\n",
              "      <td>298.390015</td>\n",
              "      <td>299.839996</td>\n",
              "      <td>27218000</td>\n",
              "      <td>296.879883</td>\n",
              "      <td>0.0</td>\n",
              "    </tr>\n",
              "    <tr>\n",
              "      <th>2020-01-08</th>\n",
              "      <td>297.160004</td>\n",
              "      <td>304.440002</td>\n",
              "      <td>303.190002</td>\n",
              "      <td>297.160004</td>\n",
              "      <td>33019800</td>\n",
              "      <td>301.655548</td>\n",
              "      <td>0.0</td>\n",
              "    </tr>\n",
              "    <tr>\n",
              "      <th>...</th>\n",
              "      <td>...</td>\n",
              "      <td>...</td>\n",
              "      <td>...</td>\n",
              "      <td>...</td>\n",
              "      <td>...</td>\n",
              "      <td>...</td>\n",
              "      <td>...</td>\n",
              "    </tr>\n",
              "    <tr>\n",
              "      <th>2020-07-27</th>\n",
              "      <td>373.920013</td>\n",
              "      <td>379.619995</td>\n",
              "      <td>379.239990</td>\n",
              "      <td>374.839996</td>\n",
              "      <td>30303500</td>\n",
              "      <td>379.239990</td>\n",
              "      <td>0.0</td>\n",
              "    </tr>\n",
              "    <tr>\n",
              "      <th>2020-07-28</th>\n",
              "      <td>372.989990</td>\n",
              "      <td>378.200012</td>\n",
              "      <td>373.010010</td>\n",
              "      <td>377.470001</td>\n",
              "      <td>25906400</td>\n",
              "      <td>373.010010</td>\n",
              "      <td>0.0</td>\n",
              "    </tr>\n",
              "    <tr>\n",
              "      <th>2020-07-29</th>\n",
              "      <td>374.850006</td>\n",
              "      <td>380.920013</td>\n",
              "      <td>380.160004</td>\n",
              "      <td>375.000000</td>\n",
              "      <td>22582300</td>\n",
              "      <td>380.160004</td>\n",
              "      <td>0.0</td>\n",
              "    </tr>\n",
              "    <tr>\n",
              "      <th>2020-07-30</th>\n",
              "      <td>375.070007</td>\n",
              "      <td>385.190002</td>\n",
              "      <td>384.760010</td>\n",
              "      <td>376.750000</td>\n",
              "      <td>39532500</td>\n",
              "      <td>384.760010</td>\n",
              "      <td>0.0</td>\n",
              "    </tr>\n",
              "    <tr>\n",
              "      <th>2020-07-31</th>\n",
              "      <td>403.299988</td>\n",
              "      <td>425.660004</td>\n",
              "      <td>425.040009</td>\n",
              "      <td>411.540009</td>\n",
              "      <td>93584200</td>\n",
              "      <td>425.040009</td>\n",
              "      <td>0.0</td>\n",
              "    </tr>\n",
              "  </tbody>\n",
              "</table>\n",
              "<p>147 rows × 7 columns</p>\n",
              "</div>"
            ],
            "text/plain": [
              "                          low        high  ...    adjclose  dividends\n",
              "symbol date                                ...                       \n",
              "aapl   2020-01-02  295.190002  300.600006  ...  298.829956        0.0\n",
              "       2020-01-03  296.500000  300.579987  ...  295.924713        0.0\n",
              "       2020-01-06  292.750000  299.959991  ...  298.282715        0.0\n",
              "       2020-01-07  297.480011  300.899994  ...  296.879883        0.0\n",
              "       2020-01-08  297.160004  304.440002  ...  301.655548        0.0\n",
              "...                       ...         ...  ...         ...        ...\n",
              "       2020-07-27  373.920013  379.619995  ...  379.239990        0.0\n",
              "       2020-07-28  372.989990  378.200012  ...  373.010010        0.0\n",
              "       2020-07-29  374.850006  380.920013  ...  380.160004        0.0\n",
              "       2020-07-30  375.070007  385.190002  ...  384.760010        0.0\n",
              "       2020-07-31  403.299988  425.660004  ...  425.040009        0.0\n",
              "\n",
              "[147 rows x 7 columns]"
            ]
          },
          "metadata": {
            "tags": []
          },
          "execution_count": 5
        }
      ]
    },
    {
      "cell_type": "code",
      "metadata": {
        "id": "FAHzbZ2cwMSB",
        "colab_type": "code",
        "colab": {}
      },
      "source": [
        "pd.show_versions()"
      ],
      "execution_count": null,
      "outputs": []
    },
    {
      "cell_type": "code",
      "metadata": {
        "id": "O1Yh_7CXwMSK",
        "colab_type": "code",
        "colab": {}
      },
      "source": [
        "pd.show_versions?"
      ],
      "execution_count": null,
      "outputs": []
    },
    {
      "cell_type": "code",
      "metadata": {
        "id": "mQVc8rolwMSQ",
        "colab_type": "code",
        "colab": {}
      },
      "source": [
        "pd.read_csv?"
      ],
      "execution_count": null,
      "outputs": []
    },
    {
      "cell_type": "code",
      "metadata": {
        "id": "B74YGaCTwMSX",
        "colab_type": "code",
        "colab": {}
      },
      "source": [
        ""
      ],
      "execution_count": null,
      "outputs": []
    }
  ]
}
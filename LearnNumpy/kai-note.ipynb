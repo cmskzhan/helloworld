{
  "nbformat": 4,
  "nbformat_minor": 0,
  "metadata": {
    "kernelspec": {
      "display_name": "Python 2",
      "language": "python",
      "name": "python2"
    },
    "language_info": {
      "codemirror_mode": {
        "name": "ipython",
        "version": 2
      },
      "file_extension": ".py",
      "mimetype": "text/x-python",
      "name": "python",
      "nbconvert_exporter": "python",
      "pygments_lexer": "ipython2",
      "version": "2.7.11"
    },
    "colab": {
      "name": "Creating Arrays from Python Structures-checkpoint.ipynb",
      "provenance": []
    }
  },
  "cells": [
    {
      "cell_type": "markdown",
      "metadata": {
        "id": "P18y1y_syZv_",
        "colab_type": "text"
      },
      "source": [
        "<h1>Create NumPy arrays using Python's \"array like\" data types</h1>\n"
      ]
    },
    {
      "cell_type": "code",
      "metadata": {
        "id": "0ldeJOzOyeHX",
        "colab_type": "code",
        "outputId": "b3007298-c4e3-4fe4-d051-8ae22a7dc83a",
        "colab": {
          "base_uri": "https://localhost:8080/",
          "height": 34
        }
      },
      "source": [
        "import numpy as np  # np.set_printoptions(precision=2)\n",
        "print(np.__version__)"
      ],
      "execution_count": 417,
      "outputs": [
        {
          "output_type": "stream",
          "text": [
            "1.16.4\n"
          ],
          "name": "stdout"
        }
      ]
    },
    {
      "cell_type": "code",
      "metadata": {
        "id": "TqsoqXBTyp1o",
        "colab_type": "code",
        "outputId": "a505c530-2101-4e79-f3c0-ed42a0f0419e",
        "colab": {
          "base_uri": "https://localhost:8080/",
          "height": 34
        }
      },
      "source": [
        "my_list = [-17, 0, 4, 5, 29]\n",
        "np_array=np.array(my_list)\n",
        "print(np_array) "
      ],
      "execution_count": 418,
      "outputs": [
        {
          "output_type": "stream",
          "text": [
            "[-17   0   4   5  29]\n"
          ],
          "name": "stdout"
        }
      ]
    },
    {
      "cell_type": "markdown",
      "metadata": {
        "id": "IY_GexWR2v9S",
        "colab_type": "text"
      },
      "source": [
        "## multiply * works differently between python types and np typy"
      ]
    },
    {
      "cell_type": "code",
      "metadata": {
        "id": "byFpvbATyzUE",
        "colab_type": "code",
        "outputId": "fc619ea1-3c68-4d79-df13-fae262faa96d",
        "colab": {
          "base_uri": "https://localhost:8080/",
          "height": 0
        }
      },
      "source": [
        "my_list_10x=my_list*10\n",
        "print(my_list_10x)\n",
        "np_array_10x=np_array*10\n",
        "print(np_array_10x)"
      ],
      "execution_count": 419,
      "outputs": [
        {
          "output_type": "stream",
          "text": [
            "[-17, 0, 4, 5, 29, -17, 0, 4, 5, 29, -17, 0, 4, 5, 29, -17, 0, 4, 5, 29, -17, 0, 4, 5, 29, -17, 0, 4, 5, 29, -17, 0, 4, 5, 29, -17, 0, 4, 5, 29, -17, 0, 4, 5, 29, -17, 0, 4, 5, 29]\n",
            "[-170    0   40   50  290]\n"
          ],
          "name": "stdout"
        }
      ]
    },
    {
      "cell_type": "markdown",
      "metadata": {
        "id": "HRVsjBCi0_Sn",
        "colab_type": "text"
      },
      "source": [
        "##complex and tuple"
      ]
    },
    {
      "cell_type": "code",
      "metadata": {
        "id": "byvClJ4jzd_L",
        "colab_type": "code",
        "outputId": "9a759368-f72f-4549-aef5-5782357aa070",
        "colab": {
          "base_uri": "https://localhost:8080/",
          "height": 50
        }
      },
      "source": [
        "tupleToNumpy=(14, -3.14, 4+3j); tupleToNumpy2=(-14, 3.21)  #int, float, complex, np array keeps elements of array uniform\n",
        "numpyFromTuple=np.array(tupleToNumpy)\n",
        "numpyFromTuple2=np.array(tupleToNumpy2)\n",
        "print(numpyFromTuple)\n",
        "print(numpyFromTuple2)\n"
      ],
      "execution_count": 420,
      "outputs": [
        {
          "output_type": "stream",
          "text": [
            "[14.  +0.j -3.14+0.j  4.  +3.j]\n",
            "[-14.     3.21]\n"
          ],
          "name": "stdout"
        }
      ]
    },
    {
      "cell_type": "markdown",
      "metadata": {
        "id": "TmrvJMfV2x5q",
        "colab_type": "text"
      },
      "source": [
        "## shallow and deep copy"
      ]
    },
    {
      "cell_type": "code",
      "metadata": {
        "id": "v0rhLlQv26pF",
        "colab_type": "code",
        "outputId": "ab3e94a1-6d57-4de3-ff7d-4ab425d65677",
        "colab": {
          "base_uri": "https://localhost:8080/",
          "height": 0
        }
      },
      "source": [
        "nplist1=np.arange(10)\n",
        "nplist2=nplist1   #shallow copy alternatively nplist2 = nplist1.view()\n",
        "print(nplist1 is nplist2) # true, point to the same memory\n",
        "print(id(nplist1)) #memory location\n",
        "print(id(nplist2)) #memory location\n",
        "\n",
        "nplist1[1]=8;\n",
        "print(nplist2)"
      ],
      "execution_count": 421,
      "outputs": [
        {
          "output_type": "stream",
          "text": [
            "True\n",
            "139861733759456\n",
            "139861733759456\n",
            "[0 8 2 3 4 5 6 7 8 9]\n"
          ],
          "name": "stdout"
        }
      ]
    },
    {
      "cell_type": "code",
      "metadata": {
        "id": "-RhB3wnv33NT",
        "colab_type": "code",
        "outputId": "8971039b-4500-4e99-8aa7-cae395ca065d",
        "colab": {
          "base_uri": "https://localhost:8080/",
          "height": 0
        }
      },
      "source": [
        "nplist2.shape=(5,2)\n",
        "print(\"nplist1 =\", nplist1)\n",
        "print(\"nplist2 =\", nplist2)\n",
        "print(nplist1 is nplist2)"
      ],
      "execution_count": 422,
      "outputs": [
        {
          "output_type": "stream",
          "text": [
            "('nplist1 =', array([[0, 8],\n",
            "       [2, 3],\n",
            "       [4, 5],\n",
            "       [6, 7],\n",
            "       [8, 9]]))\n",
            "('nplist2 =', array([[0, 8],\n",
            "       [2, 3],\n",
            "       [4, 5],\n",
            "       [6, 7],\n",
            "       [8, 9]]))\n",
            "True\n"
          ],
          "name": "stdout"
        }
      ]
    },
    {
      "cell_type": "code",
      "metadata": {
        "id": "OVDBpeCc6F3L",
        "colab_type": "code",
        "outputId": "75fb00b3-488d-41f9-e90a-2927ce277bd0",
        "colab": {
          "base_uri": "https://localhost:8080/",
          "height": 0
        }
      },
      "source": [
        "nplist3 = nplist2.copy() #deep copy\n",
        "nplist3 is nplist2"
      ],
      "execution_count": 423,
      "outputs": [
        {
          "output_type": "execute_result",
          "data": {
            "text/plain": [
              "False"
            ]
          },
          "metadata": {
            "tags": []
          },
          "execution_count": 423
        }
      ]
    },
    {
      "cell_type": "markdown",
      "metadata": {
        "id": "3QAgcmNEC3hB",
        "colab_type": "text"
      },
      "source": [
        "When using Ravel and Flatten to change dimensions, different dimension of nparray can still be a shadow copy. "
      ]
    },
    {
      "cell_type": "markdown",
      "metadata": {
        "id": "kwL0RMLNGjY9",
        "colab_type": "text"
      },
      "source": [
        "##simple methods"
      ]
    },
    {
      "cell_type": "code",
      "metadata": {
        "id": "0D-y3wJ20KBA",
        "colab_type": "code",
        "outputId": "a66c08eb-9601-4da8-893e-6c791f5c413d",
        "colab": {
          "base_uri": "https://localhost:8080/",
          "height": 34
        }
      },
      "source": [
        "# numpy.arange([start, ]stop, [step, ]dtype=None) official url by google np.arange\n",
        "np.arange(10,30,2)*10-3"
      ],
      "execution_count": 424,
      "outputs": [
        {
          "output_type": "execute_result",
          "data": {
            "text/plain": [
              "array([ 97, 117, 137, 157, 177, 197, 217, 237, 257, 277])"
            ]
          },
          "metadata": {
            "tags": []
          },
          "execution_count": 424
        }
      ]
    },
    {
      "cell_type": "code",
      "metadata": {
        "id": "P_RN65tGGJZi",
        "colab_type": "code",
        "outputId": "3d1017ad-289e-4907-93a2-5a9294187117",
        "colab": {
          "base_uri": "https://localhost:8080/",
          "height": 34
        }
      },
      "source": [
        "np.arange(20,step=4)"
      ],
      "execution_count": 425,
      "outputs": [
        {
          "output_type": "execute_result",
          "data": {
            "text/plain": [
              "array([ 0,  4,  8, 12, 16])"
            ]
          },
          "metadata": {
            "tags": []
          },
          "execution_count": 425
        }
      ]
    },
    {
      "cell_type": "code",
      "metadata": {
        "id": "g8PlH0EkEqgG",
        "colab_type": "code",
        "outputId": "6860a1b9-b9e2-4638-ecec-9652b045e8ea",
        "colab": {
          "base_uri": "https://localhost:8080/",
          "height": 34
        }
      },
      "source": [
        "nparray=(np.arange(10,30,2)-3)*10\n",
        "nparray"
      ],
      "execution_count": 426,
      "outputs": [
        {
          "output_type": "execute_result",
          "data": {
            "text/plain": [
              "array([ 70,  90, 110, 130, 150, 170, 190, 210, 230, 250])"
            ]
          },
          "metadata": {
            "tags": []
          },
          "execution_count": 426
        }
      ]
    },
    {
      "cell_type": "code",
      "metadata": {
        "id": "JfrRTVVsE0tE",
        "colab_type": "code",
        "outputId": "13a1708c-690e-499b-ea36-0b69b3f15bee",
        "colab": {
          "base_uri": "https://localhost:8080/",
          "height": 34
        }
      },
      "source": [
        "nparray.size # this only gives number of elements"
      ],
      "execution_count": 427,
      "outputs": [
        {
          "output_type": "execute_result",
          "data": {
            "text/plain": [
              "10"
            ]
          },
          "metadata": {
            "tags": []
          },
          "execution_count": 427
        }
      ]
    },
    {
      "cell_type": "code",
      "metadata": {
        "id": "O6aiy8J7FQh9",
        "colab_type": "code",
        "outputId": "d4aac954-4255-44db-979d-933926d63a87",
        "colab": {
          "base_uri": "https://localhost:8080/",
          "height": 50
        }
      },
      "source": [
        "np.linspace(0,30,10,True)"
      ],
      "execution_count": 428,
      "outputs": [
        {
          "output_type": "execute_result",
          "data": {
            "text/plain": [
              "array([ 0.    ,  3.3333,  6.6667, 10.    , 13.3333, 16.6667, 20.    ,\n",
              "       23.3333, 26.6667, 30.    ])"
            ]
          },
          "metadata": {
            "tags": []
          },
          "execution_count": 428
        }
      ]
    },
    {
      "cell_type": "markdown",
      "metadata": {
        "id": "f8qJ8YvWH7Jz",
        "colab_type": "text"
      },
      "source": [
        "##indexing, shaping (dimension), slicing, adding, removing and other multiplating"
      ]
    },
    {
      "cell_type": "code",
      "metadata": {
        "id": "rt9bNrajZM2j",
        "colab_type": "code",
        "colab": {
          "base_uri": "https://localhost:8080/",
          "height": 101
        },
        "outputId": "7bde8303-1665-4d99-dfc9-c2e94558caf7"
      },
      "source": [
        "# Create a 2d array with ones on the border and zeros inside the border\n",
        "my_bordered_array = np.ones((5,5))\n",
        "my_bordered_array[1:-1,1:-1] = 0\n",
        "my_bordered_array"
      ],
      "execution_count": 429,
      "outputs": [
        {
          "output_type": "execute_result",
          "data": {
            "text/plain": [
              "array([[1., 1., 1., 1., 1.],\n",
              "       [1., 0., 0., 0., 1.],\n",
              "       [1., 0., 0., 0., 1.],\n",
              "       [1., 0., 0., 0., 1.],\n",
              "       [1., 1., 1., 1., 1.]])"
            ]
          },
          "metadata": {
            "tags": []
          },
          "execution_count": 429
        }
      ]
    },
    {
      "cell_type": "code",
      "metadata": {
        "id": "2Fen7Qm-FV9M",
        "colab_type": "code",
        "outputId": "85a9cb7c-09d7-4b24-a615-99ad8b6d5774",
        "colab": {
          "base_uri": "https://localhost:8080/",
          "height": 34
        }
      },
      "source": [
        "z=np.zeros(20)\n",
        "z[10]"
      ],
      "execution_count": 430,
      "outputs": [
        {
          "output_type": "execute_result",
          "data": {
            "text/plain": [
              "0.0"
            ]
          },
          "metadata": {
            "tags": []
          },
          "execution_count": 430
        }
      ]
    },
    {
      "cell_type": "code",
      "metadata": {
        "id": "IDPsv4DPJsaz",
        "colab_type": "code",
        "outputId": "40c36205-0df8-4c50-fdfd-74020f8fcee2",
        "colab": {
          "base_uri": "https://localhost:8080/",
          "height": 50
        }
      },
      "source": [
        "z[10]=9;z[0]=10; z[-1]=7.5; z[-2]=-2.1\n",
        "z"
      ],
      "execution_count": 431,
      "outputs": [
        {
          "output_type": "execute_result",
          "data": {
            "text/plain": [
              "array([10. ,  0. ,  0. ,  0. ,  0. ,  0. ,  0. ,  0. ,  0. ,  0. ,  9. ,\n",
              "        0. ,  0. ,  0. ,  0. ,  0. ,  0. ,  0. , -2.1,  7.5])"
            ]
          },
          "metadata": {
            "tags": []
          },
          "execution_count": 431
        }
      ]
    },
    {
      "cell_type": "code",
      "metadata": {
        "id": "Ma6gNj6zZkF4",
        "colab_type": "code",
        "colab": {
          "base_uri": "https://localhost:8080/",
          "height": 50
        },
        "outputId": "2f770bf7-3c52-4f71-95a3-33c59dc2f3f9"
      },
      "source": [
        "#replace largest element in z with 15\n",
        "z[z.argmax()]=15\n",
        "z[z.argmin()]=-0.5\n",
        "z"
      ],
      "execution_count": 432,
      "outputs": [
        {
          "output_type": "execute_result",
          "data": {
            "text/plain": [
              "array([15. ,  0. ,  0. ,  0. ,  0. ,  0. ,  0. ,  0. ,  0. ,  0. ,  9. ,\n",
              "        0. ,  0. ,  0. ,  0. ,  0. ,  0. ,  0. , -0.5,  7.5])"
            ]
          },
          "metadata": {
            "tags": []
          },
          "execution_count": 432
        }
      ]
    },
    {
      "cell_type": "markdown",
      "metadata": {
        "id": "cZkWCMKNEUvI",
        "colab_type": "text"
      },
      "source": [
        "Basic Slicing and Indexing\n",
        "Basic slicing occurs when obj is a slice object "
      ]
    },
    {
      "cell_type": "code",
      "metadata": {
        "id": "KkvBRkjNEgXZ",
        "colab_type": "code",
        "colab": {
          "base_uri": "https://localhost:8080/",
          "height": 34
        },
        "outputId": "233b9ff0-6fff-4241-a04a-f188a1b4cfc6"
      },
      "source": [
        "z[0:11:2] #constructed by start:stop:step notation inside of brackets"
      ],
      "execution_count": 252,
      "outputs": [
        {
          "output_type": "execute_result",
          "data": {
            "text/plain": [
              "array([10.,  0.,  0.,  0.,  0.,  9.])"
            ]
          },
          "metadata": {
            "tags": []
          },
          "execution_count": 252
        }
      ]
    },
    {
      "cell_type": "code",
      "metadata": {
        "id": "2L6ZowmHFU01",
        "colab_type": "code",
        "colab": {
          "base_uri": "https://localhost:8080/",
          "height": 50
        },
        "outputId": "55db3fae-37b9-4957-bb1c-65a87b0afa3a"
      },
      "source": [
        "print(z[-3:20]) # negative means start from end (or i:j:k, become n+i:n+j:n+k where n is the length of the array)\n",
        "print(z[-1:-7:-2]) # negative means start from end (or i:j:k, become n+i:n+j:n+k where n is the length of the array)"
      ],
      "execution_count": 253,
      "outputs": [
        {
          "output_type": "stream",
          "text": [
            "[ 0.  -2.1  7.5]\n",
            "[7.5 0.  0. ]\n"
          ],
          "name": "stdout"
        }
      ]
    },
    {
      "cell_type": "code",
      "metadata": {
        "id": "EE6ZqxeOGXsO",
        "colab_type": "code",
        "colab": {
          "base_uri": "https://localhost:8080/",
          "height": 50
        },
        "outputId": "c6729e33-3644-4854-d87a-4596f5d25e75"
      },
      "source": [
        "print(z[::-1]) #reverse a nparray"
      ],
      "execution_count": 254,
      "outputs": [
        {
          "output_type": "stream",
          "text": [
            "[ 7.5 -2.1  0.   0.   0.   0.   0.   0.   0.   9.   0.   0.   0.   0.\n",
            "  0.   0.   0.   0.   0.  10. ]\n"
          ],
          "name": "stdout"
        }
      ]
    },
    {
      "cell_type": "markdown",
      "metadata": {
        "id": "bCHaJtABHSuc",
        "colab_type": "text"
      },
      "source": [
        "for i:j:k\n",
        "if i is not given it defaults to 0 for k > 0 and n - 1 for k < 0 . If j is not given it defaults to n for k > 0 and -n-1 for k < 0 . k defaults to 1 if not given"
      ]
    },
    {
      "cell_type": "code",
      "metadata": {
        "id": "KBMU4DL7HUKk",
        "colab_type": "code",
        "colab": {
          "base_uri": "https://localhost:8080/",
          "height": 34
        },
        "outputId": "a870ccc3-593b-4bef-d85e-a9dcdfd28382"
      },
      "source": [
        "z[10:]"
      ],
      "execution_count": 255,
      "outputs": [
        {
          "output_type": "execute_result",
          "data": {
            "text/plain": [
              "array([ 9. ,  0. ,  0. ,  0. ,  0. ,  0. ,  0. ,  0. , -2.1,  7.5])"
            ]
          },
          "metadata": {
            "tags": []
          },
          "execution_count": 255
        }
      ]
    },
    {
      "cell_type": "code",
      "metadata": {
        "id": "by6ma2CcQV6m",
        "colab_type": "code",
        "colab": {
          "base_uri": "https://localhost:8080/",
          "height": 50
        },
        "outputId": "0e656743-e92f-4fc0-b22b-8a83d1354979"
      },
      "source": [
        "# assignment: every fifth element equals four\n",
        "z[0::5] = 4\n",
        "z"
      ],
      "execution_count": 257,
      "outputs": [
        {
          "output_type": "execute_result",
          "data": {
            "text/plain": [
              "array([ 4. ,  0. ,  0. ,  0. ,  0. ,  4. ,  0. ,  0. ,  0. ,  0. ,  4. ,\n",
              "        0. ,  0. ,  0. ,  0. ,  4. ,  0. ,  0. , -2.1,  7.5])"
            ]
          },
          "metadata": {
            "tags": []
          },
          "execution_count": 257
        }
      ]
    },
    {
      "cell_type": "code",
      "metadata": {
        "id": "9za4S6tzHp16",
        "colab_type": "code",
        "colab": {
          "base_uri": "https://localhost:8080/",
          "height": 34
        },
        "outputId": "0e611c0a-d33d-4ba5-e766-26fec4eb316a"
      },
      "source": [
        "z[:11]"
      ],
      "execution_count": 258,
      "outputs": [
        {
          "output_type": "execute_result",
          "data": {
            "text/plain": [
              "array([4., 0., 0., 0., 0., 4., 0., 0., 0., 0., 4.])"
            ]
          },
          "metadata": {
            "tags": []
          },
          "execution_count": 258
        }
      ]
    },
    {
      "cell_type": "code",
      "metadata": {
        "id": "o-ENMCQiIfMx",
        "colab_type": "code",
        "outputId": "cf83ad71-a965-4845-9c37-4378637ec602",
        "colab": {
          "base_uri": "https://localhost:8080/",
          "height": 67
        }
      },
      "source": [
        "o=np.ones((3,3), dtype=int)\n",
        "o"
      ],
      "execution_count": 259,
      "outputs": [
        {
          "output_type": "execute_result",
          "data": {
            "text/plain": [
              "array([[1, 1, 1],\n",
              "       [1, 1, 1],\n",
              "       [1, 1, 1]])"
            ]
          },
          "metadata": {
            "tags": []
          },
          "execution_count": 259
        }
      ]
    },
    {
      "cell_type": "code",
      "metadata": {
        "id": "3J0NdeaWIxtX",
        "colab_type": "code",
        "outputId": "4b7c784e-c989-453d-8fa7-35fcde899fb9",
        "colab": {
          "base_uri": "https://localhost:8080/",
          "height": 84
        }
      },
      "source": [
        "z.shape=(4,5)\n",
        "z"
      ],
      "execution_count": 260,
      "outputs": [
        {
          "output_type": "execute_result",
          "data": {
            "text/plain": [
              "array([[ 4. ,  0. ,  0. ,  0. ,  0. ],\n",
              "       [ 4. ,  0. ,  0. ,  0. ,  0. ],\n",
              "       [ 4. ,  0. ,  0. ,  0. ,  0. ],\n",
              "       [ 4. ,  0. ,  0. , -2.1,  7.5]])"
            ]
          },
          "metadata": {
            "tags": []
          },
          "execution_count": 260
        }
      ]
    },
    {
      "cell_type": "code",
      "metadata": {
        "id": "yr_-7IOBKiqe",
        "colab_type": "code",
        "outputId": "312024a7-a186-4fcc-c5fc-15b77f7410ea",
        "colab": {
          "base_uri": "https://localhost:8080/",
          "height": 101
        }
      },
      "source": [
        "z.shape=(2,2,5)   #convert from 2-d to 3-d np array\n",
        "z"
      ],
      "execution_count": 261,
      "outputs": [
        {
          "output_type": "execute_result",
          "data": {
            "text/plain": [
              "array([[[ 4. ,  0. ,  0. ,  0. ,  0. ],\n",
              "        [ 4. ,  0. ,  0. ,  0. ,  0. ]],\n",
              "\n",
              "       [[ 4. ,  0. ,  0. ,  0. ,  0. ],\n",
              "        [ 4. ,  0. ,  0. , -2.1,  7.5]]])"
            ]
          },
          "metadata": {
            "tags": []
          },
          "execution_count": 261
        }
      ]
    },
    {
      "cell_type": "code",
      "metadata": {
        "id": "rtWYhzY1Ko9z",
        "colab_type": "code",
        "outputId": "5113ae33-97bd-4a63-df05-d64524f483b8",
        "colab": {
          "base_uri": "https://localhost:8080/",
          "height": 34
        }
      },
      "source": [
        "z[1][1]"
      ],
      "execution_count": 262,
      "outputs": [
        {
          "output_type": "execute_result",
          "data": {
            "text/plain": [
              "array([ 4. ,  0. ,  0. , -2.1,  7.5])"
            ]
          },
          "metadata": {
            "tags": []
          },
          "execution_count": 262
        }
      ]
    },
    {
      "cell_type": "code",
      "metadata": {
        "id": "xUVF3-VULDP-",
        "colab_type": "code",
        "outputId": "cd269649-f3f0-4e2c-db1b-3a6688fe7b4d",
        "colab": {
          "base_uri": "https://localhost:8080/",
          "height": 34
        }
      },
      "source": [
        "z[1,0][0]"
      ],
      "execution_count": 263,
      "outputs": [
        {
          "output_type": "execute_result",
          "data": {
            "text/plain": [
              "4.0"
            ]
          },
          "metadata": {
            "tags": []
          },
          "execution_count": 263
        }
      ]
    },
    {
      "cell_type": "code",
      "metadata": {
        "id": "QL7EkGkEKx2m",
        "colab_type": "code",
        "outputId": "2e07f664-4e2f-4db6-d51a-0956638ea57d",
        "colab": {
          "base_uri": "https://localhost:8080/",
          "height": 50
        }
      },
      "source": [
        "z[0]"
      ],
      "execution_count": 264,
      "outputs": [
        {
          "output_type": "execute_result",
          "data": {
            "text/plain": [
              "array([[4., 0., 0., 0., 0.],\n",
              "       [4., 0., 0., 0., 0.]])"
            ]
          },
          "metadata": {
            "tags": []
          },
          "execution_count": 264
        }
      ]
    },
    {
      "cell_type": "code",
      "metadata": {
        "id": "RQtyF0w0IlJ8",
        "colab_type": "code",
        "colab": {
          "base_uri": "https://localhost:8080/",
          "height": 50
        },
        "outputId": "a671c33f-8b0a-4ba6-c335-f4943a3eef17"
      },
      "source": [
        "z[1:2] # slicing multi-dimension is more complex"
      ],
      "execution_count": 265,
      "outputs": [
        {
          "output_type": "execute_result",
          "data": {
            "text/plain": [
              "array([[[ 4. ,  0. ,  0. ,  0. ,  0. ],\n",
              "        [ 4. ,  0. ,  0. , -2.1,  7.5]]])"
            ]
          },
          "metadata": {
            "tags": []
          },
          "execution_count": 265
        }
      ]
    },
    {
      "cell_type": "code",
      "metadata": {
        "id": "HakgRD93J79-",
        "colab_type": "code",
        "colab": {
          "base_uri": "https://localhost:8080/",
          "height": 269
        },
        "outputId": "554a8476-c81e-4fde-8b2c-9965183b2ee7"
      },
      "source": [
        "#Ellipsis expand to the number of : objects needed to make a selection tuple of the same length as x.ndim. There may only be a single ellipsis present.\n",
        "print(z[...])\n",
        "print(z[...,0])\n",
        "print(z[...,1])\n",
        "print(z[...,2])\n",
        "print(z[...,3])\n",
        "print(z[...,4])"
      ],
      "execution_count": 266,
      "outputs": [
        {
          "output_type": "stream",
          "text": [
            "[[[ 4.   0.   0.   0.   0. ]\n",
            "  [ 4.   0.   0.   0.   0. ]]\n",
            "\n",
            " [[ 4.   0.   0.   0.   0. ]\n",
            "  [ 4.   0.   0.  -2.1  7.5]]]\n",
            "[[4. 4.]\n",
            " [4. 4.]]\n",
            "[[0. 0.]\n",
            " [0. 0.]]\n",
            "[[0. 0.]\n",
            " [0. 0.]]\n",
            "[[ 0.   0. ]\n",
            " [ 0.  -2.1]]\n",
            "[[0.  0. ]\n",
            " [0.  7.5]]\n"
          ],
          "name": "stdout"
        }
      ]
    },
    {
      "cell_type": "code",
      "metadata": {
        "id": "ivpIkiz5MJiF",
        "colab_type": "code",
        "colab": {
          "base_uri": "https://localhost:8080/",
          "height": 134
        },
        "outputId": "72cf8b19-c67a-466a-da04-bd48937043b4"
      },
      "source": [
        "print(\"z=\", z)\n",
        "print(z[0,...])"
      ],
      "execution_count": 267,
      "outputs": [
        {
          "output_type": "stream",
          "text": [
            "('z=', array([[[ 4. ,  0. ,  0. ,  0. ,  0. ],\n",
            "        [ 4. ,  0. ,  0. ,  0. ,  0. ]],\n",
            "\n",
            "       [[ 4. ,  0. ,  0. ,  0. ,  0. ],\n",
            "        [ 4. ,  0. ,  0. , -2.1,  7.5]]]))\n",
            "[[4. 0. 0. 0. 0.]\n",
            " [4. 0. 0. 0. 0.]]\n"
          ],
          "name": "stdout"
        }
      ]
    },
    {
      "cell_type": "code",
      "metadata": {
        "id": "_QQ6LCXJMvKC",
        "colab_type": "code",
        "colab": {
          "base_uri": "https://localhost:8080/",
          "height": 151
        },
        "outputId": "a283cdce-401a-40a4-e31e-421602bef887"
      },
      "source": [
        "print(z[:,np.newaxis,:,:]) # add a new None dimension\n",
        "print(z.shape)\n",
        "print(z[:,np.newaxis,:,:].shape)"
      ],
      "execution_count": 268,
      "outputs": [
        {
          "output_type": "stream",
          "text": [
            "[[[[ 4.   0.   0.   0.   0. ]\n",
            "   [ 4.   0.   0.   0.   0. ]]]\n",
            "\n",
            "\n",
            " [[[ 4.   0.   0.   0.   0. ]\n",
            "   [ 4.   0.   0.  -2.1  7.5]]]]\n",
            "(2, 2, 5)\n",
            "(2, 1, 2, 5)\n"
          ],
          "name": "stdout"
        }
      ]
    },
    {
      "cell_type": "code",
      "metadata": {
        "id": "JKdLUUrTNaxZ",
        "colab_type": "code",
        "colab": {
          "base_uri": "https://localhost:8080/",
          "height": 34
        },
        "outputId": "b6173665-c94f-4dea-a185-621b0b4bcd86"
      },
      "source": [
        "#something to follow up as the indexing and slicing uses broadcasting\n",
        "x = np.array([[1, 2], [3, 4], [5, 6]])\n",
        "x[[0, 1, 2], [0, 1, 0]]"
      ],
      "execution_count": 269,
      "outputs": [
        {
          "output_type": "execute_result",
          "data": {
            "text/plain": [
              "array([1, 4, 5])"
            ]
          },
          "metadata": {
            "tags": []
          },
          "execution_count": 269
        }
      ]
    },
    {
      "cell_type": "code",
      "metadata": {
        "id": "lgJD4WNzwgI_",
        "colab_type": "code",
        "outputId": "5040e279-2f3a-445b-97b5-e7df81901091",
        "colab": {
          "base_uri": "https://localhost:8080/",
          "height": 218
        }
      },
      "source": [
        "print(z)\n",
        "print(z.ndim) #show dimension\n",
        "print(z.size) #show total elements\n",
        "print(z[0].shape) #show actual metrics shape\n",
        "print(z.dtype) # show data type in the metrix\n",
        "print(z.sum()) # sum all the elements in metrix. this can be used in combination with filters(boolean mask array below\n",
        "print(z.sum(axis=1)) # will learn this in broadcasting - operation along axis"
      ],
      "execution_count": 270,
      "outputs": [
        {
          "output_type": "stream",
          "text": [
            "[[[ 4.   0.   0.   0.   0. ]\n",
            "  [ 4.   0.   0.   0.   0. ]]\n",
            "\n",
            " [[ 4.   0.   0.   0.   0. ]\n",
            "  [ 4.   0.   0.  -2.1  7.5]]]\n",
            "3\n",
            "20\n",
            "(2, 5)\n",
            "float64\n",
            "21.4\n",
            "[[ 8.   0.   0.   0.   0. ]\n",
            " [ 8.   0.   0.  -2.1  7.5]]\n"
          ],
          "name": "stdout"
        }
      ]
    },
    {
      "cell_type": "code",
      "metadata": {
        "id": "CU3LziYE7c8N",
        "colab_type": "code",
        "outputId": "edffb373-135c-42bf-bea7-764bd0d8c6e6",
        "colab": {
          "base_uri": "https://localhost:8080/",
          "height": 67
        }
      },
      "source": [
        "y=np.append(z, [2.2, 3.3, 4.4, 55, -9]) # notice, we can't z.append, not such method \n",
        "print(y)\n",
        "print(y.shape) # append would simply change the shape to vector/np.list\n"
      ],
      "execution_count": 271,
      "outputs": [
        {
          "output_type": "stream",
          "text": [
            "[ 4.   0.   0.   0.   0.   4.   0.   0.   0.   0.   4.   0.   0.   0.\n",
            "  0.   4.   0.   0.  -2.1  7.5  2.2  3.3  4.4 55.  -9. ]\n",
            "(25,)\n"
          ],
          "name": "stdout"
        }
      ]
    },
    {
      "cell_type": "code",
      "metadata": {
        "id": "sEJ_Mikv_kYY",
        "colab_type": "code",
        "outputId": "ba6ce3cf-9b20-44a7-d6bb-5526d51f9d40",
        "colab": {
          "base_uri": "https://localhost:8080/",
          "height": 134
        }
      },
      "source": [
        "# add a row\n",
        "y=y.reshape(5,5)\n",
        "y=np.append(y, [[7, 7, 7, 7, 7]], axis=0) \n",
        "print(y)\n",
        "print(y.shape)"
      ],
      "execution_count": 272,
      "outputs": [
        {
          "output_type": "stream",
          "text": [
            "[[ 4.   0.   0.   0.   0. ]\n",
            " [ 4.   0.   0.   0.   0. ]\n",
            " [ 4.   0.   0.   0.   0. ]\n",
            " [ 4.   0.   0.  -2.1  7.5]\n",
            " [ 2.2  3.3  4.4 55.  -9. ]\n",
            " [ 7.   7.   7.   7.   7. ]]\n",
            "(6, 5)\n"
          ],
          "name": "stdout"
        }
      ]
    },
    {
      "cell_type": "code",
      "metadata": {
        "id": "VtGxUB9ODexz",
        "colab_type": "code",
        "outputId": "c265a5ba-2121-475f-ac21-737d5330d58b",
        "colab": {
          "base_uri": "https://localhost:8080/",
          "height": 218
        }
      },
      "source": [
        "# add a column\n",
        "column6=np.ones((6,1))*6\n",
        "print(column6)\n",
        "y=np.append(y, column6, axis=1) \n",
        "y"
      ],
      "execution_count": 273,
      "outputs": [
        {
          "output_type": "stream",
          "text": [
            "[[6.]\n",
            " [6.]\n",
            " [6.]\n",
            " [6.]\n",
            " [6.]\n",
            " [6.]]\n"
          ],
          "name": "stdout"
        },
        {
          "output_type": "execute_result",
          "data": {
            "text/plain": [
              "array([[ 4. ,  0. ,  0. ,  0. ,  0. ,  6. ],\n",
              "       [ 4. ,  0. ,  0. ,  0. ,  0. ,  6. ],\n",
              "       [ 4. ,  0. ,  0. ,  0. ,  0. ,  6. ],\n",
              "       [ 4. ,  0. ,  0. , -2.1,  7.5,  6. ],\n",
              "       [ 2.2,  3.3,  4.4, 55. , -9. ,  6. ],\n",
              "       [ 7. ,  7. ,  7. ,  7. ,  7. ,  6. ]])"
            ]
          },
          "metadata": {
            "tags": []
          },
          "execution_count": 273
        }
      ]
    },
    {
      "cell_type": "code",
      "metadata": {
        "id": "SchC0Q2R6RCe",
        "colab_type": "code",
        "outputId": "46ec5ff6-6df6-40af-d1c6-00c9a3c2227c",
        "colab": {
          "base_uri": "https://localhost:8080/",
          "height": 269
        }
      },
      "source": [
        "# flatten (return copy) / ravel (return view)\n",
        "rav_y = y.ravel()\n",
        "flatten_y=y.flatten()\n",
        "print(id(y))\n",
        "print(y)\n",
        "print(id(rav_y))\n",
        "print(rav_y)\n",
        "print(id(flatten_y))\n",
        "print(flatten_y)"
      ],
      "execution_count": 274,
      "outputs": [
        {
          "output_type": "stream",
          "text": [
            "139861928740384\n",
            "[[ 4.   0.   0.   0.   0.   6. ]\n",
            " [ 4.   0.   0.   0.   0.   6. ]\n",
            " [ 4.   0.   0.   0.   0.   6. ]\n",
            " [ 4.   0.   0.  -2.1  7.5  6. ]\n",
            " [ 2.2  3.3  4.4 55.  -9.   6. ]\n",
            " [ 7.   7.   7.   7.   7.   6. ]]\n",
            "139861736199552\n",
            "[ 4.   0.   0.   0.   0.   6.   4.   0.   0.   0.   0.   6.   4.   0.\n",
            "  0.   0.   0.   6.   4.   0.   0.  -2.1  7.5  6.   2.2  3.3  4.4 55.\n",
            " -9.   6.   7.   7.   7.   7.   7.   6. ]\n",
            "139861738181856\n",
            "[ 4.   0.   0.   0.   0.   6.   4.   0.   0.   0.   0.   6.   4.   0.\n",
            "  0.   0.   0.   6.   4.   0.   0.  -2.1  7.5  6.   2.2  3.3  4.4 55.\n",
            " -9.   6.   7.   7.   7.   7.   7.   6. ]\n"
          ],
          "name": "stdout"
        }
      ]
    },
    {
      "cell_type": "code",
      "metadata": {
        "id": "lwASHFVG-B2e",
        "colab_type": "code",
        "outputId": "51b91c2c-de76-415c-c52d-3d350696f7af",
        "colab": {
          "base_uri": "https://localhost:8080/",
          "height": 638
        }
      },
      "source": [
        "#note flat returns iterator instead\n",
        "print(type(y.flat))\n",
        "for i in y.flat:\n",
        "  print i"
      ],
      "execution_count": 275,
      "outputs": [
        {
          "output_type": "stream",
          "text": [
            "<type 'numpy.flatiter'>\n",
            "4.0\n",
            "0.0\n",
            "0.0\n",
            "0.0\n",
            "0.0\n",
            "6.0\n",
            "4.0\n",
            "0.0\n",
            "0.0\n",
            "0.0\n",
            "0.0\n",
            "6.0\n",
            "4.0\n",
            "0.0\n",
            "0.0\n",
            "0.0\n",
            "0.0\n",
            "6.0\n",
            "4.0\n",
            "0.0\n",
            "0.0\n",
            "-2.1\n",
            "7.5\n",
            "6.0\n",
            "2.2\n",
            "3.3\n",
            "4.4\n",
            "55.0\n",
            "-9.0\n",
            "6.0\n",
            "7.0\n",
            "7.0\n",
            "7.0\n",
            "7.0\n",
            "7.0\n",
            "6.0\n"
          ],
          "name": "stdout"
        }
      ]
    },
    {
      "cell_type": "code",
      "metadata": {
        "id": "5dUIDUkRAKGw",
        "colab_type": "code",
        "outputId": "bbbe0df6-ab1e-4de2-e2ca-c2b6c8e6ebf7",
        "colab": {
          "base_uri": "https://localhost:8080/",
          "height": 118
        }
      },
      "source": [
        "for i in y:\n",
        "  print i"
      ],
      "execution_count": 276,
      "outputs": [
        {
          "output_type": "stream",
          "text": [
            "[4. 0. 0. 0. 0. 6.]\n",
            "[4. 0. 0. 0. 0. 6.]\n",
            "[4. 0. 0. 0. 0. 6.]\n",
            "[ 4.   0.   0.  -2.1  7.5  6. ]\n",
            "[ 2.2  3.3  4.4 55.  -9.   6. ]\n",
            "[7. 7. 7. 7. 7. 6.]\n"
          ],
          "name": "stdout"
        }
      ]
    },
    {
      "cell_type": "markdown",
      "metadata": {
        "id": "s3Q9oy5fFnPl",
        "colab_type": "text"
      },
      "source": [
        "### 3-d append axis 0,1,2  horizontal stacking = axis 0, insert numbers to axis 0,1,2 and finally delete\n",
        "\n"
      ]
    },
    {
      "cell_type": "code",
      "metadata": {
        "id": "XlDve6rZFyfI",
        "colab_type": "code",
        "outputId": "f2328425-2cfe-4355-debe-d607e499a2a1",
        "colab": {
          "base_uri": "https://localhost:8080/",
          "height": 202
        }
      },
      "source": [
        "y = np.ones((2,2,2))\n",
        "z = np.ones((2,2,2))*2\n",
        "\n",
        "x=np.append(y,z, axis=0 )\n",
        "x"
      ],
      "execution_count": 277,
      "outputs": [
        {
          "output_type": "execute_result",
          "data": {
            "text/plain": [
              "array([[[1., 1.],\n",
              "        [1., 1.]],\n",
              "\n",
              "       [[1., 1.],\n",
              "        [1., 1.]],\n",
              "\n",
              "       [[2., 2.],\n",
              "        [2., 2.]],\n",
              "\n",
              "       [[2., 2.],\n",
              "        [2., 2.]]])"
            ]
          },
          "metadata": {
            "tags": []
          },
          "execution_count": 277
        }
      ]
    },
    {
      "cell_type": "code",
      "metadata": {
        "id": "VE6ovebYH3zV",
        "colab_type": "code",
        "outputId": "fc3de959-fb46-483d-ffac-02cbad9dd210",
        "colab": {
          "base_uri": "https://localhost:8080/",
          "height": 168
        }
      },
      "source": [
        "x=np.append(y,z, axis=1 )\n",
        "x"
      ],
      "execution_count": 278,
      "outputs": [
        {
          "output_type": "execute_result",
          "data": {
            "text/plain": [
              "array([[[1., 1.],\n",
              "        [1., 1.],\n",
              "        [2., 2.],\n",
              "        [2., 2.]],\n",
              "\n",
              "       [[1., 1.],\n",
              "        [1., 1.],\n",
              "        [2., 2.],\n",
              "        [2., 2.]]])"
            ]
          },
          "metadata": {
            "tags": []
          },
          "execution_count": 278
        }
      ]
    },
    {
      "cell_type": "code",
      "metadata": {
        "id": "nrdffx2YH8o3",
        "colab_type": "code",
        "outputId": "172c78c7-4071-4cc3-eb49-0536008849eb",
        "colab": {
          "base_uri": "https://localhost:8080/",
          "height": 101
        }
      },
      "source": [
        "x=np.append(y,z, axis=2 )\n",
        "x"
      ],
      "execution_count": 279,
      "outputs": [
        {
          "output_type": "execute_result",
          "data": {
            "text/plain": [
              "array([[[1., 1., 2., 2.],\n",
              "        [1., 1., 2., 2.]],\n",
              "\n",
              "       [[1., 1., 2., 2.],\n",
              "        [1., 1., 2., 2.]]])"
            ]
          },
          "metadata": {
            "tags": []
          },
          "execution_count": 279
        }
      ]
    },
    {
      "cell_type": "code",
      "metadata": {
        "id": "Z7CkjMQLIe0h",
        "colab_type": "code",
        "outputId": "ac95469d-0af7-4ec9-a7c2-99e6418df733",
        "colab": {
          "base_uri": "https://localhost:8080/",
          "height": 168
        }
      },
      "source": [
        "x = np.hstack((y,z))\n",
        "x"
      ],
      "execution_count": 280,
      "outputs": [
        {
          "output_type": "execute_result",
          "data": {
            "text/plain": [
              "array([[[1., 1.],\n",
              "        [1., 1.],\n",
              "        [2., 2.],\n",
              "        [2., 2.]],\n",
              "\n",
              "       [[1., 1.],\n",
              "        [1., 1.],\n",
              "        [2., 2.],\n",
              "        [2., 2.]]])"
            ]
          },
          "metadata": {
            "tags": []
          },
          "execution_count": 280
        }
      ]
    },
    {
      "cell_type": "markdown",
      "metadata": {
        "id": "iPErB5390nMu",
        "colab_type": "text"
      },
      "source": [
        "for insert, can reference https://numpy.org/doc/stable/reference/generated/numpy.insert.html, notice the funny behavior for a scalar insertion"
      ]
    },
    {
      "cell_type": "code",
      "metadata": {
        "id": "BBPWTy_yKON2",
        "colab_type": "code",
        "outputId": "40083cc6-effe-4587-a64d-f84356c5985d",
        "colab": {
          "base_uri": "https://localhost:8080/",
          "height": 34
        }
      },
      "source": [
        "x1=np.insert(x, 2, 5)\n",
        "x1"
      ],
      "execution_count": 281,
      "outputs": [
        {
          "output_type": "execute_result",
          "data": {
            "text/plain": [
              "array([1., 1., 5., 1., 1., 2., 2., 2., 2., 1., 1., 1., 1., 2., 2., 2., 2.])"
            ]
          },
          "metadata": {
            "tags": []
          },
          "execution_count": 281
        }
      ]
    },
    {
      "cell_type": "code",
      "metadata": {
        "id": "sTpnwFHT1Drk",
        "colab_type": "code",
        "outputId": "38f32ee6-53cc-4074-e6fb-a9a59792d17e",
        "colab": {
          "base_uri": "https://localhost:8080/",
          "height": 252
        }
      },
      "source": [
        "x1=np.insert(x, 1, 6, axis=0)\n",
        "x1"
      ],
      "execution_count": 282,
      "outputs": [
        {
          "output_type": "execute_result",
          "data": {
            "text/plain": [
              "array([[[1., 1.],\n",
              "        [1., 1.],\n",
              "        [2., 2.],\n",
              "        [2., 2.]],\n",
              "\n",
              "       [[6., 6.],\n",
              "        [6., 6.],\n",
              "        [6., 6.],\n",
              "        [6., 6.]],\n",
              "\n",
              "       [[1., 1.],\n",
              "        [1., 1.],\n",
              "        [2., 2.],\n",
              "        [2., 2.]]])"
            ]
          },
          "metadata": {
            "tags": []
          },
          "execution_count": 282
        }
      ]
    },
    {
      "cell_type": "code",
      "metadata": {
        "id": "oT13AMrR2L9X",
        "colab_type": "code",
        "outputId": "08b641b0-b294-4970-c2e3-18d3a51cec48",
        "colab": {
          "base_uri": "https://localhost:8080/",
          "height": 202
        }
      },
      "source": [
        "x1=np.insert(x, 3, 6, axis=1)\n",
        "x1"
      ],
      "execution_count": 283,
      "outputs": [
        {
          "output_type": "execute_result",
          "data": {
            "text/plain": [
              "array([[[1., 1.],\n",
              "        [1., 1.],\n",
              "        [2., 2.],\n",
              "        [6., 6.],\n",
              "        [2., 2.]],\n",
              "\n",
              "       [[1., 1.],\n",
              "        [1., 1.],\n",
              "        [2., 2.],\n",
              "        [6., 6.],\n",
              "        [2., 2.]]])"
            ]
          },
          "metadata": {
            "tags": []
          },
          "execution_count": 283
        }
      ]
    },
    {
      "cell_type": "code",
      "metadata": {
        "id": "OMX19SO844lV",
        "colab_type": "code",
        "outputId": "a623e4e6-5b67-4948-f599-84c2673589f3",
        "colab": {
          "base_uri": "https://localhost:8080/",
          "height": 34
        }
      },
      "source": [
        "x1=np.delete(x, 1)\n",
        "x1"
      ],
      "execution_count": 284,
      "outputs": [
        {
          "output_type": "execute_result",
          "data": {
            "text/plain": [
              "array([1., 1., 1., 2., 2., 2., 2., 1., 1., 1., 1., 2., 2., 2., 2.])"
            ]
          },
          "metadata": {
            "tags": []
          },
          "execution_count": 284
        }
      ]
    },
    {
      "cell_type": "code",
      "metadata": {
        "id": "iaacckQL5N-O",
        "colab_type": "code",
        "outputId": "23d6891e-359b-45ff-8196-9404f4ce75d7",
        "colab": {
          "base_uri": "https://localhost:8080/",
          "height": 168
        }
      },
      "source": [
        "x1=np.delete(x, 1, axis=2)\n",
        "x1"
      ],
      "execution_count": 285,
      "outputs": [
        {
          "output_type": "execute_result",
          "data": {
            "text/plain": [
              "array([[[1.],\n",
              "        [1.],\n",
              "        [2.],\n",
              "        [2.]],\n",
              "\n",
              "       [[1.],\n",
              "        [1.],\n",
              "        [2.],\n",
              "        [2.]]])"
            ]
          },
          "metadata": {
            "tags": []
          },
          "execution_count": 285
        }
      ]
    },
    {
      "cell_type": "markdown",
      "metadata": {
        "id": "JNhwh6u05zYO",
        "colab_type": "text"
      },
      "source": [
        "### Slicing and Concatenating"
      ]
    },
    {
      "cell_type": "code",
      "metadata": {
        "id": "zKUCCPXI5_0x",
        "colab_type": "code",
        "outputId": "d7594ba1-c40d-45fe-c914-a60c622f740a",
        "colab": {
          "base_uri": "https://localhost:8080/",
          "height": 67
        }
      },
      "source": [
        "# concatenate \n",
        "a = np.array([[1,2],[3,4]])\n",
        "b = np.array([[5,6]])\n",
        "c = np.concatenate((a,b), axis=0)\n",
        "c"
      ],
      "execution_count": 286,
      "outputs": [
        {
          "output_type": "execute_result",
          "data": {
            "text/plain": [
              "array([[1, 2],\n",
              "       [3, 4],\n",
              "       [5, 6]])"
            ]
          },
          "metadata": {
            "tags": []
          },
          "execution_count": 286
        }
      ]
    },
    {
      "cell_type": "code",
      "metadata": {
        "id": "zNg1rbMD86XG",
        "colab_type": "code",
        "outputId": "f570d03f-6096-4f3e-c71e-a1614e8ad88d",
        "colab": {
          "base_uri": "https://localhost:8080/",
          "height": 706
        }
      },
      "source": [
        "# Stack\n",
        "a = np.arange(24)\n",
        "a.shape=(2,3,4)\n",
        "print('before stacking=', a)\n",
        "stack0=np.stack(a, axis=0)\n",
        "print('stack_axis0 =', stack0)\n",
        "print('stack_axis0 shape =', stack0.shape)\n",
        "print('')\n",
        "stack1=np.stack(a, axis=1)\n",
        "print('stack_axis1 =', stack1)\n",
        "print('stack_axis1 shape =', stack1.shape)\n",
        "print('')\n",
        "stack2=np.stack(a, axis=2)\n",
        "print('stack_axis2 =', stack2)\n",
        "print('stack_axis2 shape =', stack2.shape)"
      ],
      "execution_count": 287,
      "outputs": [
        {
          "output_type": "stream",
          "text": [
            "('before stacking=', array([[[ 0,  1,  2,  3],\n",
            "        [ 4,  5,  6,  7],\n",
            "        [ 8,  9, 10, 11]],\n",
            "\n",
            "       [[12, 13, 14, 15],\n",
            "        [16, 17, 18, 19],\n",
            "        [20, 21, 22, 23]]]))\n",
            "('stack_axis0 =', array([[[ 0,  1,  2,  3],\n",
            "        [ 4,  5,  6,  7],\n",
            "        [ 8,  9, 10, 11]],\n",
            "\n",
            "       [[12, 13, 14, 15],\n",
            "        [16, 17, 18, 19],\n",
            "        [20, 21, 22, 23]]]))\n",
            "('stack_axis0 shape =', (2, 3, 4))\n",
            "\n",
            "('stack_axis1 =', array([[[ 0,  1,  2,  3],\n",
            "        [12, 13, 14, 15]],\n",
            "\n",
            "       [[ 4,  5,  6,  7],\n",
            "        [16, 17, 18, 19]],\n",
            "\n",
            "       [[ 8,  9, 10, 11],\n",
            "        [20, 21, 22, 23]]]))\n",
            "('stack_axis1 shape =', (3, 2, 4))\n",
            "\n",
            "('stack_axis2 =', array([[[ 0, 12],\n",
            "        [ 1, 13],\n",
            "        [ 2, 14],\n",
            "        [ 3, 15]],\n",
            "\n",
            "       [[ 4, 16],\n",
            "        [ 5, 17],\n",
            "        [ 6, 18],\n",
            "        [ 7, 19]],\n",
            "\n",
            "       [[ 8, 20],\n",
            "        [ 9, 21],\n",
            "        [10, 22],\n",
            "        [11, 23]]]))\n",
            "('stack_axis2 shape =', (3, 4, 2))\n"
          ],
          "name": "stdout"
        }
      ]
    },
    {
      "cell_type": "markdown",
      "metadata": {
        "id": "5Udpqe-wWVrA",
        "colab_type": "text"
      },
      "source": [
        "2D stack is like transpose"
      ]
    },
    {
      "cell_type": "code",
      "metadata": {
        "id": "c34F4tIcUKXI",
        "colab_type": "code",
        "outputId": "a8ac0660-1c74-4524-ba0b-8ce60f48ee21",
        "colab": {
          "base_uri": "https://localhost:8080/",
          "height": 67
        }
      },
      "source": [
        "a = np.arange(12)\n",
        "a.shape=(3,4)\n",
        "a"
      ],
      "execution_count": 288,
      "outputs": [
        {
          "output_type": "execute_result",
          "data": {
            "text/plain": [
              "array([[ 0,  1,  2,  3],\n",
              "       [ 4,  5,  6,  7],\n",
              "       [ 8,  9, 10, 11]])"
            ]
          },
          "metadata": {
            "tags": []
          },
          "execution_count": 288
        }
      ]
    },
    {
      "cell_type": "code",
      "metadata": {
        "id": "p67WVo4jUpee",
        "colab_type": "code",
        "outputId": "f85ce763-05c0-456f-c316-e77ec8a76f3d",
        "colab": {
          "base_uri": "https://localhost:8080/",
          "height": 84
        }
      },
      "source": [
        "a1=np.stack(a, axis=1)\n",
        "a1"
      ],
      "execution_count": 289,
      "outputs": [
        {
          "output_type": "execute_result",
          "data": {
            "text/plain": [
              "array([[ 0,  4,  8],\n",
              "       [ 1,  5,  9],\n",
              "       [ 2,  6, 10],\n",
              "       [ 3,  7, 11]])"
            ]
          },
          "metadata": {
            "tags": []
          },
          "execution_count": 289
        }
      ]
    },
    {
      "cell_type": "markdown",
      "metadata": {
        "id": "JxzLrfROhRus",
        "colab_type": "text"
      },
      "source": [
        "Split"
      ]
    },
    {
      "cell_type": "code",
      "metadata": {
        "id": "XwQ5hheDhWnB",
        "colab_type": "code",
        "outputId": "9314680a-f507-4823-c2e0-2d4d89e14ce4",
        "colab": {
          "base_uri": "https://localhost:8080/",
          "height": 151
        }
      },
      "source": [
        "print(a)\n",
        "a2 = np.split(a, 2, axis=1)\n",
        "a2"
      ],
      "execution_count": 290,
      "outputs": [
        {
          "output_type": "stream",
          "text": [
            "[[ 0  1  2  3]\n",
            " [ 4  5  6  7]\n",
            " [ 8  9 10 11]]\n"
          ],
          "name": "stdout"
        },
        {
          "output_type": "execute_result",
          "data": {
            "text/plain": [
              "[array([[0, 1],\n",
              "        [4, 5],\n",
              "        [8, 9]]), array([[ 2,  3],\n",
              "        [ 6,  7],\n",
              "        [10, 11]])]"
            ]
          },
          "metadata": {
            "tags": []
          },
          "execution_count": 290
        }
      ]
    },
    {
      "cell_type": "markdown",
      "metadata": {
        "id": "6dNnCOMIdaoP",
        "colab_type": "text"
      },
      "source": [
        "### Flipping, tranposing, tiling and repeating"
      ]
    },
    {
      "cell_type": "code",
      "metadata": {
        "id": "B7r1SYMPdrjv",
        "colab_type": "code",
        "outputId": "1aae6e1d-72c3-4b65-83d0-4df5df0bedf7",
        "colab": {
          "base_uri": "https://localhost:8080/",
          "height": 67
        }
      },
      "source": [
        "#flip left right\n",
        "a_3x4_nparray = np.arange(12).reshape((3,4))\n",
        "a_3x4_nparray"
      ],
      "execution_count": 291,
      "outputs": [
        {
          "output_type": "execute_result",
          "data": {
            "text/plain": [
              "array([[ 0,  1,  2,  3],\n",
              "       [ 4,  5,  6,  7],\n",
              "       [ 8,  9, 10, 11]])"
            ]
          },
          "metadata": {
            "tags": []
          },
          "execution_count": 291
        }
      ]
    },
    {
      "cell_type": "code",
      "metadata": {
        "id": "-x2Q-H6eeOem",
        "colab_type": "code",
        "outputId": "ec717959-973d-43e6-b546-7170e681b143",
        "colab": {
          "base_uri": "https://localhost:8080/",
          "height": 67
        }
      },
      "source": [
        "np.fliplr(a_3x4_nparray)"
      ],
      "execution_count": 292,
      "outputs": [
        {
          "output_type": "execute_result",
          "data": {
            "text/plain": [
              "array([[ 3,  2,  1,  0],\n",
              "       [ 7,  6,  5,  4],\n",
              "       [11, 10,  9,  8]])"
            ]
          },
          "metadata": {
            "tags": []
          },
          "execution_count": 292
        }
      ]
    },
    {
      "cell_type": "code",
      "metadata": {
        "id": "14u-dtYGelgn",
        "colab_type": "code",
        "outputId": "221a484c-d95e-45fd-a5f0-89d5973f7a58",
        "colab": {
          "base_uri": "https://localhost:8080/",
          "height": 134
        }
      },
      "source": [
        "a_2x3x2_nparray = np.arange(12).reshape((2,3,2))\n",
        "a_2x3x2_nparray"
      ],
      "execution_count": 293,
      "outputs": [
        {
          "output_type": "execute_result",
          "data": {
            "text/plain": [
              "array([[[ 0,  1],\n",
              "        [ 2,  3],\n",
              "        [ 4,  5]],\n",
              "\n",
              "       [[ 6,  7],\n",
              "        [ 8,  9],\n",
              "        [10, 11]]])"
            ]
          },
          "metadata": {
            "tags": []
          },
          "execution_count": 293
        }
      ]
    },
    {
      "cell_type": "code",
      "metadata": {
        "id": "x2psDM5We61N",
        "colab_type": "code",
        "outputId": "312d2918-ea8b-4c32-c9b0-b29eaba8a6fa",
        "colab": {
          "base_uri": "https://localhost:8080/",
          "height": 134
        }
      },
      "source": [
        "np.fliplr(a_2x3x2_nparray)  # flip \"last index\""
      ],
      "execution_count": 294,
      "outputs": [
        {
          "output_type": "execute_result",
          "data": {
            "text/plain": [
              "array([[[ 4,  5],\n",
              "        [ 2,  3],\n",
              "        [ 0,  1]],\n",
              "\n",
              "       [[10, 11],\n",
              "        [ 8,  9],\n",
              "        [ 6,  7]]])"
            ]
          },
          "metadata": {
            "tags": []
          },
          "execution_count": 294
        }
      ]
    },
    {
      "cell_type": "code",
      "metadata": {
        "id": "Y7-zmyovfSRA",
        "colab_type": "code",
        "outputId": "6c4ea076-cccf-4f66-e961-023ce859798c",
        "colab": {
          "base_uri": "https://localhost:8080/",
          "height": 67
        }
      },
      "source": [
        "# flip up and down\n",
        "np.flipud(a_3x4_nparray)"
      ],
      "execution_count": 295,
      "outputs": [
        {
          "output_type": "execute_result",
          "data": {
            "text/plain": [
              "array([[ 8,  9, 10, 11],\n",
              "       [ 4,  5,  6,  7],\n",
              "       [ 0,  1,  2,  3]])"
            ]
          },
          "metadata": {
            "tags": []
          },
          "execution_count": 295
        }
      ]
    },
    {
      "cell_type": "code",
      "metadata": {
        "id": "VHKRh49ufo7n",
        "colab_type": "code",
        "outputId": "91fa0e33-c6d8-4a79-e462-7d44df7c97d3",
        "colab": {
          "base_uri": "https://localhost:8080/",
          "height": 134
        }
      },
      "source": [
        "np.flipud(a_2x3x2_nparray) # index axis 0"
      ],
      "execution_count": 296,
      "outputs": [
        {
          "output_type": "execute_result",
          "data": {
            "text/plain": [
              "array([[[ 6,  7],\n",
              "        [ 8,  9],\n",
              "        [10, 11]],\n",
              "\n",
              "       [[ 0,  1],\n",
              "        [ 2,  3],\n",
              "        [ 4,  5]]])"
            ]
          },
          "metadata": {
            "tags": []
          },
          "execution_count": 296
        }
      ]
    },
    {
      "cell_type": "code",
      "metadata": {
        "id": "vu7IwNONgctr",
        "colab_type": "code",
        "outputId": "ea212e2a-16f3-453b-b6d2-0689a9d621ea",
        "colab": {
          "base_uri": "https://localhost:8080/",
          "height": 67
        }
      },
      "source": [
        "# move tail to head\n",
        "np.roll(a_3x4_nparray, 2)"
      ],
      "execution_count": 297,
      "outputs": [
        {
          "output_type": "execute_result",
          "data": {
            "text/plain": [
              "array([[10, 11,  0,  1],\n",
              "       [ 2,  3,  4,  5],\n",
              "       [ 6,  7,  8,  9]])"
            ]
          },
          "metadata": {
            "tags": []
          },
          "execution_count": 297
        }
      ]
    },
    {
      "cell_type": "code",
      "metadata": {
        "id": "_mISkkSIgt1K",
        "colab_type": "code",
        "outputId": "24f03481-e758-4932-9e3a-0f296fde2768",
        "colab": {
          "base_uri": "https://localhost:8080/",
          "height": 67
        }
      },
      "source": [
        "# move head to tail\n",
        "np.roll(a_3x4_nparray, -3)"
      ],
      "execution_count": 298,
      "outputs": [
        {
          "output_type": "execute_result",
          "data": {
            "text/plain": [
              "array([[ 3,  4,  5,  6],\n",
              "       [ 7,  8,  9, 10],\n",
              "       [11,  0,  1,  2]])"
            ]
          },
          "metadata": {
            "tags": []
          },
          "execution_count": 298
        }
      ]
    },
    {
      "cell_type": "code",
      "metadata": {
        "id": "fe-L1t3Ug5pC",
        "colab_type": "code",
        "outputId": "0815cbbc-014d-46b4-d04d-c11a2d329f54",
        "colab": {
          "base_uri": "https://localhost:8080/",
          "height": 134
        }
      },
      "source": [
        "np.roll(a_2x3x2_nparray, 2)"
      ],
      "execution_count": 299,
      "outputs": [
        {
          "output_type": "execute_result",
          "data": {
            "text/plain": [
              "array([[[10, 11],\n",
              "        [ 0,  1],\n",
              "        [ 2,  3]],\n",
              "\n",
              "       [[ 4,  5],\n",
              "        [ 6,  7],\n",
              "        [ 8,  9]]])"
            ]
          },
          "metadata": {
            "tags": []
          },
          "execution_count": 299
        }
      ]
    },
    {
      "cell_type": "code",
      "metadata": {
        "id": "EaywzTJwhDZG",
        "colab_type": "code",
        "outputId": "4290a03b-67e9-4111-fa85-3757e3615777",
        "colab": {
          "base_uri": "https://localhost:8080/",
          "height": 84
        }
      },
      "source": [
        "np.rot90(a_3x4_nparray) #counter clock wise is positive rotate"
      ],
      "execution_count": 300,
      "outputs": [
        {
          "output_type": "execute_result",
          "data": {
            "text/plain": [
              "array([[ 3,  7, 11],\n",
              "       [ 2,  6, 10],\n",
              "       [ 1,  5,  9],\n",
              "       [ 0,  4,  8]])"
            ]
          },
          "metadata": {
            "tags": []
          },
          "execution_count": 300
        }
      ]
    },
    {
      "cell_type": "code",
      "metadata": {
        "id": "EOUDma6ZhUPS",
        "colab_type": "code",
        "outputId": "ada54982-1f2c-4ab4-9ae1-bae74ba2298a",
        "colab": {
          "base_uri": "https://localhost:8080/",
          "height": 84
        }
      },
      "source": [
        "np.rot90(a_3x4_nparray, -1) #clock wise rotate"
      ],
      "execution_count": 301,
      "outputs": [
        {
          "output_type": "execute_result",
          "data": {
            "text/plain": [
              "array([[ 8,  4,  0],\n",
              "       [ 9,  5,  1],\n",
              "       [10,  6,  2],\n",
              "       [11,  7,  3]])"
            ]
          },
          "metadata": {
            "tags": []
          },
          "execution_count": 301
        }
      ]
    },
    {
      "cell_type": "code",
      "metadata": {
        "id": "M4IJy8K7hb35",
        "colab_type": "code",
        "outputId": "47b9335b-51d4-40a3-ee17-86a241013c2a",
        "colab": {
          "base_uri": "https://localhost:8080/",
          "height": 134
        }
      },
      "source": [
        "np.rot90(a_2x3x2_nparray, 1, axes=(0,2)) # define an axe for it to rota"
      ],
      "execution_count": 302,
      "outputs": [
        {
          "output_type": "execute_result",
          "data": {
            "text/plain": [
              "array([[[ 1,  7],\n",
              "        [ 3,  9],\n",
              "        [ 5, 11]],\n",
              "\n",
              "       [[ 0,  6],\n",
              "        [ 2,  8],\n",
              "        [ 4, 10]]])"
            ]
          },
          "metadata": {
            "tags": []
          },
          "execution_count": 302
        }
      ]
    },
    {
      "cell_type": "code",
      "metadata": {
        "id": "QbcU8n-bhx4L",
        "colab_type": "code",
        "outputId": "bc6ff322-ce94-4618-c30c-ec3f411e156a",
        "colab": {
          "base_uri": "https://localhost:8080/",
          "height": 84
        }
      },
      "source": [
        "# 1-d array won't transpose\n",
        "np.transpose(a_3x4_nparray)"
      ],
      "execution_count": 303,
      "outputs": [
        {
          "output_type": "execute_result",
          "data": {
            "text/plain": [
              "array([[ 0,  4,  8],\n",
              "       [ 1,  5,  9],\n",
              "       [ 2,  6, 10],\n",
              "       [ 3,  7, 11]])"
            ]
          },
          "metadata": {
            "tags": []
          },
          "execution_count": 303
        }
      ]
    },
    {
      "cell_type": "code",
      "metadata": {
        "id": "7dn5qNJFh-Bb",
        "colab_type": "code",
        "outputId": "b33276c6-7f5a-4bcf-dcc3-02e9eb155575",
        "colab": {
          "base_uri": "https://localhost:8080/",
          "height": 101
        }
      },
      "source": [
        "np.transpose(a_2x3x2_nparray, axes=(0,2,1))"
      ],
      "execution_count": 304,
      "outputs": [
        {
          "output_type": "execute_result",
          "data": {
            "text/plain": [
              "array([[[ 0,  2,  4],\n",
              "        [ 1,  3,  5]],\n",
              "\n",
              "       [[ 6,  8, 10],\n",
              "        [ 7,  9, 11]]])"
            ]
          },
          "metadata": {
            "tags": []
          },
          "execution_count": 304
        }
      ]
    },
    {
      "cell_type": "code",
      "metadata": {
        "id": "93g5ci_NiNAh",
        "colab_type": "code",
        "outputId": "95ed9835-9c54-4bbc-81eb-8b7931654a95",
        "colab": {
          "base_uri": "https://localhost:8080/",
          "height": 134
        }
      },
      "source": [
        "np.swapaxes(a_2x3x2_nparray, 0,2)"
      ],
      "execution_count": 305,
      "outputs": [
        {
          "output_type": "execute_result",
          "data": {
            "text/plain": [
              "array([[[ 0,  6],\n",
              "        [ 2,  8],\n",
              "        [ 4, 10]],\n",
              "\n",
              "       [[ 1,  7],\n",
              "        [ 3,  9],\n",
              "        [ 5, 11]]])"
            ]
          },
          "metadata": {
            "tags": []
          },
          "execution_count": 305
        }
      ]
    },
    {
      "cell_type": "code",
      "metadata": {
        "id": "2_yOSGvnlJvq",
        "colab_type": "code",
        "outputId": "46e0bafe-d899-4c75-f6fe-83a74b9f9266",
        "colab": {
          "base_uri": "https://localhost:8080/",
          "height": 34
        }
      },
      "source": [
        "my_start_array = np.array(np.arange(5))\n",
        "npvector=np.tile(my_start_array, 3)\n",
        "npvector"
      ],
      "execution_count": 306,
      "outputs": [
        {
          "output_type": "execute_result",
          "data": {
            "text/plain": [
              "array([0, 1, 2, 3, 4, 0, 1, 2, 3, 4, 0, 1, 2, 3, 4])"
            ]
          },
          "metadata": {
            "tags": []
          },
          "execution_count": 306
        }
      ]
    },
    {
      "cell_type": "code",
      "metadata": {
        "id": "Qo-vOCpEmxjk",
        "colab_type": "code",
        "outputId": "6b532d29-e3ac-418f-d6f4-ad7a373653bd",
        "colab": {
          "base_uri": "https://localhost:8080/",
          "height": 34
        }
      },
      "source": [
        "np2d=np.tile(npvector,(3,1))\n",
        "np2d.shape"
      ],
      "execution_count": 307,
      "outputs": [
        {
          "output_type": "execute_result",
          "data": {
            "text/plain": [
              "(3, 15)"
            ]
          },
          "metadata": {
            "tags": []
          },
          "execution_count": 307
        }
      ]
    },
    {
      "cell_type": "code",
      "metadata": {
        "id": "1x6_HkbAnl_e",
        "colab_type": "code",
        "outputId": "87ec5d9d-9730-45a1-860e-2972f47b925c",
        "colab": {
          "base_uri": "https://localhost:8080/",
          "height": 34
        }
      },
      "source": [
        "np.tile(np2d, (2,2)).shape"
      ],
      "execution_count": 308,
      "outputs": [
        {
          "output_type": "execute_result",
          "data": {
            "text/plain": [
              "(6, 30)"
            ]
          },
          "metadata": {
            "tags": []
          },
          "execution_count": 308
        }
      ]
    },
    {
      "cell_type": "code",
      "metadata": {
        "id": "Xk8UHyNzXy7T",
        "colab_type": "code",
        "colab": {
          "base_uri": "https://localhost:8080/",
          "height": 151
        },
        "outputId": "095497a4-0e34-4b5a-ebcf-fe53f72553e3"
      },
      "source": [
        "# simpler tile example\n",
        "my_checker_board = np.tile( np.array([[0,1],[1,0]]), (4,4))\n",
        "print(my_checker_board)"
      ],
      "execution_count": 395,
      "outputs": [
        {
          "output_type": "stream",
          "text": [
            "[[0 1 0 1 0 1 0 1]\n",
            " [1 0 1 0 1 0 1 0]\n",
            " [0 1 0 1 0 1 0 1]\n",
            " [1 0 1 0 1 0 1 0]\n",
            " [0 1 0 1 0 1 0 1]\n",
            " [1 0 1 0 1 0 1 0]\n",
            " [0 1 0 1 0 1 0 1]\n",
            " [1 0 1 0 1 0 1 0]]\n"
          ],
          "name": "stdout"
        }
      ]
    },
    {
      "cell_type": "code",
      "metadata": {
        "id": "uv5gUtKxoYhr",
        "colab_type": "code",
        "outputId": "6866a3e8-c5c6-43f1-e120-fef67acb1771",
        "colab": {
          "base_uri": "https://localhost:8080/",
          "height": 50
        }
      },
      "source": [
        "print(my_start_array)\n",
        "np.repeat(my_start_array, 3)"
      ],
      "execution_count": 309,
      "outputs": [
        {
          "output_type": "stream",
          "text": [
            "[0 1 2 3 4]\n"
          ],
          "name": "stdout"
        },
        {
          "output_type": "execute_result",
          "data": {
            "text/plain": [
              "array([0, 0, 0, 1, 1, 1, 2, 2, 2, 3, 3, 3, 4, 4, 4])"
            ]
          },
          "metadata": {
            "tags": []
          },
          "execution_count": 309
        }
      ]
    },
    {
      "cell_type": "code",
      "metadata": {
        "id": "hvVbTvlnow75",
        "colab_type": "code",
        "outputId": "59a1af94-bd93-44c9-bb72-d1fe1a260b72",
        "colab": {
          "base_uri": "https://localhost:8080/",
          "height": 118
        }
      },
      "source": [
        "np.repeat(np2d, 2, axis=1)"
      ],
      "execution_count": 310,
      "outputs": [
        {
          "output_type": "execute_result",
          "data": {
            "text/plain": [
              "array([[0, 0, 1, 1, 2, 2, 3, 3, 4, 4, 0, 0, 1, 1, 2, 2, 3, 3, 4, 4, 0, 0,\n",
              "        1, 1, 2, 2, 3, 3, 4, 4],\n",
              "       [0, 0, 1, 1, 2, 2, 3, 3, 4, 4, 0, 0, 1, 1, 2, 2, 3, 3, 4, 4, 0, 0,\n",
              "        1, 1, 2, 2, 3, 3, 4, 4],\n",
              "       [0, 0, 1, 1, 2, 2, 3, 3, 4, 4, 0, 0, 1, 1, 2, 2, 3, 3, 4, 4, 0, 0,\n",
              "        1, 1, 2, 2, 3, 3, 4, 4]])"
            ]
          },
          "metadata": {
            "tags": []
          },
          "execution_count": 310
        }
      ]
    },
    {
      "cell_type": "markdown",
      "metadata": {
        "id": "AHYH1Dl1Lq7Q",
        "colab_type": "text"
      },
      "source": [
        "## boolean mask array"
      ]
    },
    {
      "cell_type": "code",
      "metadata": {
        "id": "obsh-4pBK_ft",
        "colab_type": "code",
        "outputId": "9e1a6dbf-8892-47ca-9222-7f5447311705",
        "colab": {
          "base_uri": "https://localhost:8080/",
          "height": 0
        }
      },
      "source": [
        "nparray"
      ],
      "execution_count": 311,
      "outputs": [
        {
          "output_type": "execute_result",
          "data": {
            "text/plain": [
              "array([ 70,  90, 110, 130, 150, 170, 190, 210, 230, 250])"
            ]
          },
          "metadata": {
            "tags": []
          },
          "execution_count": 311
        }
      ]
    },
    {
      "cell_type": "code",
      "metadata": {
        "id": "K-sFlnxdMB0k",
        "colab_type": "code",
        "outputId": "f63dd0e4-5ef6-46bb-a2cb-84f2baf24f12",
        "colab": {
          "base_uri": "https://localhost:8080/",
          "height": 0
        }
      },
      "source": [
        "can_div_35_mask = 0 == (nparray % 35)\n",
        "can_div_35_mask"
      ],
      "execution_count": 312,
      "outputs": [
        {
          "output_type": "execute_result",
          "data": {
            "text/plain": [
              "array([ True, False, False, False, False, False, False,  True, False,\n",
              "       False])"
            ]
          },
          "metadata": {
            "tags": []
          },
          "execution_count": 312
        }
      ]
    },
    {
      "cell_type": "code",
      "metadata": {
        "id": "SQFZhmMzMVnL",
        "colab_type": "code",
        "outputId": "43a4fd2f-091e-4f47-e07f-c1f46ee30d14",
        "colab": {
          "base_uri": "https://localhost:8080/",
          "height": 0
        }
      },
      "source": [
        "filtered_nparray = nparray[can_div_35_mask]\n",
        "filtered_nparray"
      ],
      "execution_count": 313,
      "outputs": [
        {
          "output_type": "execute_result",
          "data": {
            "text/plain": [
              "array([ 70, 210])"
            ]
          },
          "metadata": {
            "tags": []
          },
          "execution_count": 313
        }
      ]
    },
    {
      "cell_type": "code",
      "metadata": {
        "id": "g-UY3kvfMz3H",
        "colab_type": "code",
        "outputId": "8dd8481c-0867-4eeb-bfd6-488d8e43b60d",
        "colab": {
          "base_uri": "https://localhost:8080/",
          "height": 0
        }
      },
      "source": [
        "further_filtered_nparray=filtered_nparray[filtered_nparray>70]\n",
        "further_filtered_nparray"
      ],
      "execution_count": 314,
      "outputs": [
        {
          "output_type": "execute_result",
          "data": {
            "text/plain": [
              "array([210])"
            ]
          },
          "metadata": {
            "tags": []
          },
          "execution_count": 314
        }
      ]
    },
    {
      "cell_type": "code",
      "metadata": {
        "id": "6JybD6okNTOJ",
        "colab_type": "code",
        "outputId": "6bd090ae-d8ba-4d8f-d60c-9ad03e4a7c22",
        "colab": {
          "base_uri": "https://localhost:8080/",
          "height": 0
        }
      },
      "source": [
        "nparray[nparray>200]  #simpler filter"
      ],
      "execution_count": 315,
      "outputs": [
        {
          "output_type": "execute_result",
          "data": {
            "text/plain": [
              "array([210, 230, 250])"
            ]
          },
          "metadata": {
            "tags": []
          },
          "execution_count": 315
        }
      ]
    },
    {
      "cell_type": "code",
      "metadata": {
        "id": "VodhWrDGtS-K",
        "colab_type": "code",
        "outputId": "80aed3fe-6d17-4e06-d4aa-517a3f5ddd4b",
        "colab": {
          "base_uri": "https://localhost:8080/",
          "height": 0
        }
      },
      "source": [
        "can_div_15_mask = 0 == (nparray % 15)\n",
        "print(can_div_15_mask)\n",
        "print(can_div_35_mask)"
      ],
      "execution_count": 316,
      "outputs": [
        {
          "output_type": "stream",
          "text": [
            "[False  True False False  True False False  True False False]\n",
            "[ True False False False False False False  True False False]\n"
          ],
          "name": "stdout"
        }
      ]
    },
    {
      "cell_type": "code",
      "metadata": {
        "id": "blbBP3SHuk7V",
        "colab_type": "code",
        "outputId": "3f659696-8256-4039-bfba-be2a9d38403f",
        "colab": {
          "base_uri": "https://localhost:8080/",
          "height": 0
        }
      },
      "source": [
        "#boolean operator\n",
        "can_div_15_35_mask=np.logical_and(can_div_15_mask, can_div_35_mask)\n",
        "can_div_15_35_mask"
      ],
      "execution_count": 317,
      "outputs": [
        {
          "output_type": "execute_result",
          "data": {
            "text/plain": [
              "array([False, False, False, False, False, False, False,  True, False,\n",
              "       False])"
            ]
          },
          "metadata": {
            "tags": []
          },
          "execution_count": 317
        }
      ]
    },
    {
      "cell_type": "code",
      "metadata": {
        "id": "1LVRR-VzvM3M",
        "colab_type": "code",
        "outputId": "c900ce68-7e5d-4ff9-a794-0f2d091c0035",
        "colab": {
          "base_uri": "https://localhost:8080/",
          "height": 0
        }
      },
      "source": [
        "nparray[can_div_15_35_mask]"
      ],
      "execution_count": 318,
      "outputs": [
        {
          "output_type": "execute_result",
          "data": {
            "text/plain": [
              "array([210])"
            ]
          },
          "metadata": {
            "tags": []
          },
          "execution_count": 318
        }
      ]
    },
    {
      "cell_type": "markdown",
      "metadata": {
        "id": "v5G3ClxKyfGe",
        "colab_type": "text"
      },
      "source": [
        "## Broadcasting"
      ]
    },
    {
      "cell_type": "code",
      "metadata": {
        "id": "N98EamwFvbOD",
        "colab_type": "code",
        "outputId": "983f2a34-ef54-4941-8932-e1a2d1f87a1f",
        "colab": {
          "base_uri": "https://localhost:8080/",
          "height": 0
        }
      },
      "source": [
        "array_3d = np.arange(70)\n",
        "array_3d.shape=(2,7,5)\n",
        "array_3d"
      ],
      "execution_count": 319,
      "outputs": [
        {
          "output_type": "execute_result",
          "data": {
            "text/plain": [
              "array([[[ 0,  1,  2,  3,  4],\n",
              "        [ 5,  6,  7,  8,  9],\n",
              "        [10, 11, 12, 13, 14],\n",
              "        [15, 16, 17, 18, 19],\n",
              "        [20, 21, 22, 23, 24],\n",
              "        [25, 26, 27, 28, 29],\n",
              "        [30, 31, 32, 33, 34]],\n",
              "\n",
              "       [[35, 36, 37, 38, 39],\n",
              "        [40, 41, 42, 43, 44],\n",
              "        [45, 46, 47, 48, 49],\n",
              "        [50, 51, 52, 53, 54],\n",
              "        [55, 56, 57, 58, 59],\n",
              "        [60, 61, 62, 63, 64],\n",
              "        [65, 66, 67, 68, 69]]])"
            ]
          },
          "metadata": {
            "tags": []
          },
          "execution_count": 319
        }
      ]
    },
    {
      "cell_type": "markdown",
      "metadata": {
        "id": "dKmgGjQQdzSE",
        "colab_type": "text"
      },
      "source": [
        "In the context of deep learning, we also use some less conventional notation. We allow the addition of matrix and a vector, yielding another matrix: C = A + b, where Ci,j = Ai,j + bj. In other words, the vector b is added to each row of the matrix. This shorthand eliminates the need to define a matrix with b copied into each row before doing the addition. This implicit copying of b to many locations is called broadcasting."
      ]
    },
    {
      "cell_type": "code",
      "metadata": {
        "id": "aCz1aPu_ywi-",
        "colab_type": "code",
        "outputId": "1b05455e-172c-4506-f422-0ca459f39192",
        "colab": {
          "base_uri": "https://localhost:8080/",
          "height": 0
        }
      },
      "source": [
        "x=np.arange(4)\n",
        "xx = x.reshape(4,1)\n",
        "y = np.ones(5)\n",
        "z = np.ones((3,4))\n",
        "print('x=', x)\n",
        "print('')\n",
        "print(\"\\033[1;31;46m reshape from 1x4 to 4x1 \") #color reference from https://ozzmaker.com/add-colour-to-text-in-python/ \n",
        "print(\"\\033[1;31;0m \")\n",
        "print('xx=', xx)\n",
        "print('y=',y)\n",
        "print(y+xx)"
      ],
      "execution_count": 320,
      "outputs": [
        {
          "output_type": "stream",
          "text": [
            "('x=', array([0, 1, 2, 3]))\n",
            "\n",
            "\u001b[1;31;46m reshape from 1x4 to 4x1 \n",
            "\u001b[1;31;0m \n",
            "('xx=', array([[0],\n",
            "       [1],\n",
            "       [2],\n",
            "       [3]]))\n",
            "('y=', array([1., 1., 1., 1., 1.]))\n",
            "[[1. 1. 1. 1. 1.]\n",
            " [2. 2. 2. 2. 2.]\n",
            " [3. 3. 3. 3. 3.]\n",
            " [4. 4. 4. 4. 4.]]\n"
          ],
          "name": "stdout"
        }
      ]
    },
    {
      "cell_type": "code",
      "metadata": {
        "id": "yE8jZr1Na7GB",
        "colab_type": "code",
        "outputId": "9243ac37-faeb-4b56-deb0-9ce849d849e2",
        "colab": {
          "base_uri": "https://localhost:8080/",
          "height": 0
        }
      },
      "source": [
        "xx-x"
      ],
      "execution_count": 321,
      "outputs": [
        {
          "output_type": "execute_result",
          "data": {
            "text/plain": [
              "array([[ 0, -1, -2, -3],\n",
              "       [ 1,  0, -1, -2],\n",
              "       [ 2,  1,  0, -1],\n",
              "       [ 3,  2,  1,  0]])"
            ]
          },
          "metadata": {
            "tags": []
          },
          "execution_count": 321
        }
      ]
    },
    {
      "cell_type": "markdown",
      "metadata": {
        "id": "NAMGVGa0jWL1",
        "colab_type": "text"
      },
      "source": [
        "To not use broadcasting, manual conversion is beow"
      ]
    },
    {
      "cell_type": "code",
      "metadata": {
        "id": "JmpQNtGWZJ6s",
        "colab_type": "code",
        "colab": {}
      },
      "source": [
        "x2d=[0, 1, 2, 3]*4\n",
        "x2dnp=np.array(x2d).reshape(4,4)"
      ],
      "execution_count": 0,
      "outputs": []
    },
    {
      "cell_type": "code",
      "metadata": {
        "id": "p0uzit_3Rlho",
        "colab_type": "code",
        "colab": {}
      },
      "source": [
        "lista=[0,0,0,0]\n",
        "listb=[1,1,1,1]\n",
        "listc=[2,2,2,2]\n",
        "listd=[3,3,3,3]\n",
        "\n",
        "xx2dnp = np.array(lista+listb+listc+listd).reshape(4,4)"
      ],
      "execution_count": 0,
      "outputs": []
    },
    {
      "cell_type": "code",
      "metadata": {
        "id": "M0qhGuZ2SnY6",
        "colab_type": "code",
        "outputId": "2db561aa-f9b9-4625-8b74-c7d82cdcaf72",
        "colab": {
          "base_uri": "https://localhost:8080/",
          "height": 0
        }
      },
      "source": [
        "xx2dnp-x2dnp"
      ],
      "execution_count": 324,
      "outputs": [
        {
          "output_type": "execute_result",
          "data": {
            "text/plain": [
              "array([[ 0, -1, -2, -3],\n",
              "       [ 1,  0, -1, -2],\n",
              "       [ 2,  1,  0, -1],\n",
              "       [ 3,  2,  1,  0]])"
            ]
          },
          "metadata": {
            "tags": []
          },
          "execution_count": 324
        }
      ]
    },
    {
      "cell_type": "markdown",
      "metadata": {
        "id": "5TE1uHiY2wpc",
        "colab_type": "text"
      },
      "source": [
        "### operations along axis"
      ]
    },
    {
      "cell_type": "code",
      "metadata": {
        "id": "9ODnBvhP2wHm",
        "colab_type": "code",
        "outputId": "846f9735-59e6-4fa7-87a7-5fba0d54ce53",
        "colab": {
          "base_uri": "https://localhost:8080/",
          "height": 0
        }
      },
      "source": [
        "array_3d"
      ],
      "execution_count": 325,
      "outputs": [
        {
          "output_type": "execute_result",
          "data": {
            "text/plain": [
              "array([[[ 0,  1,  2,  3,  4],\n",
              "        [ 5,  6,  7,  8,  9],\n",
              "        [10, 11, 12, 13, 14],\n",
              "        [15, 16, 17, 18, 19],\n",
              "        [20, 21, 22, 23, 24],\n",
              "        [25, 26, 27, 28, 29],\n",
              "        [30, 31, 32, 33, 34]],\n",
              "\n",
              "       [[35, 36, 37, 38, 39],\n",
              "        [40, 41, 42, 43, 44],\n",
              "        [45, 46, 47, 48, 49],\n",
              "        [50, 51, 52, 53, 54],\n",
              "        [55, 56, 57, 58, 59],\n",
              "        [60, 61, 62, 63, 64],\n",
              "        [65, 66, 67, 68, 69]]])"
            ]
          },
          "metadata": {
            "tags": []
          },
          "execution_count": 325
        }
      ]
    },
    {
      "cell_type": "code",
      "metadata": {
        "id": "umtzvjYQ3Svw",
        "colab_type": "code",
        "outputId": "4957ff60-96c6-4b20-d3a5-c1ad9c62c101",
        "colab": {
          "base_uri": "https://localhost:8080/",
          "height": 0
        }
      },
      "source": [
        "array_3d.shape"
      ],
      "execution_count": 326,
      "outputs": [
        {
          "output_type": "execute_result",
          "data": {
            "text/plain": [
              "(2, 7, 5)"
            ]
          },
          "metadata": {
            "tags": []
          },
          "execution_count": 326
        }
      ]
    },
    {
      "cell_type": "code",
      "metadata": {
        "id": "ob83NZoH3Wvx",
        "colab_type": "code",
        "outputId": "4e1a81a4-ff5d-4bf0-f52e-c4c73d15afd3",
        "colab": {
          "base_uri": "https://localhost:8080/",
          "height": 0
        }
      },
      "source": [
        "array_3d.sum(axis=0) # this is array_3d[0]+array_3d[1]"
      ],
      "execution_count": 327,
      "outputs": [
        {
          "output_type": "execute_result",
          "data": {
            "text/plain": [
              "array([[ 35,  37,  39,  41,  43],\n",
              "       [ 45,  47,  49,  51,  53],\n",
              "       [ 55,  57,  59,  61,  63],\n",
              "       [ 65,  67,  69,  71,  73],\n",
              "       [ 75,  77,  79,  81,  83],\n",
              "       [ 85,  87,  89,  91,  93],\n",
              "       [ 95,  97,  99, 101, 103]])"
            ]
          },
          "metadata": {
            "tags": []
          },
          "execution_count": 327
        }
      ]
    },
    {
      "cell_type": "code",
      "metadata": {
        "id": "j8GSHIMD3oyQ",
        "colab_type": "code",
        "outputId": "dec9b384-93d8-4ac5-9b34-68dce66185f0",
        "colab": {
          "base_uri": "https://localhost:8080/",
          "height": 0
        }
      },
      "source": [
        "array_3d.sum(axis=1) # sum of each column (7 elements) (axis is array_3d.shape[1])"
      ],
      "execution_count": 328,
      "outputs": [
        {
          "output_type": "execute_result",
          "data": {
            "text/plain": [
              "array([[105, 112, 119, 126, 133],\n",
              "       [350, 357, 364, 371, 378]])"
            ]
          },
          "metadata": {
            "tags": []
          },
          "execution_count": 328
        }
      ]
    },
    {
      "cell_type": "code",
      "metadata": {
        "id": "saH1pWLG34OZ",
        "colab_type": "code",
        "outputId": "8e21cec8-a8e8-414f-96e1-c232a6b51c63",
        "colab": {
          "base_uri": "https://localhost:8080/",
          "height": 0
        }
      },
      "source": [
        "array_3d.sum(axis=2) # sum of each row (5 elements) (axis is array_3d.shape[2])"
      ],
      "execution_count": 329,
      "outputs": [
        {
          "output_type": "execute_result",
          "data": {
            "text/plain": [
              "array([[ 10,  35,  60,  85, 110, 135, 160],\n",
              "       [185, 210, 235, 260, 285, 310, 335]])"
            ]
          },
          "metadata": {
            "tags": []
          },
          "execution_count": 329
        }
      ]
    },
    {
      "cell_type": "markdown",
      "metadata": {
        "id": "z44naYse6SOQ",
        "colab_type": "text"
      },
      "source": [
        "Another example"
      ]
    },
    {
      "cell_type": "code",
      "metadata": {
        "id": "c1HjWHoW4VXp",
        "colab_type": "code",
        "outputId": "ef79879b-e129-49fc-a35c-f33304be91fd",
        "colab": {
          "base_uri": "https://localhost:8080/",
          "height": 0
        }
      },
      "source": [
        "array2d_a = np.arange(35, dtype=int).reshape(5,7)\n",
        "array2d_b = np.ones((5,7), dtype=float)*7\n",
        "array2d_a + array2d_b #the result would be float"
      ],
      "execution_count": 330,
      "outputs": [
        {
          "output_type": "execute_result",
          "data": {
            "text/plain": [
              "array([[ 7.,  8.,  9., 10., 11., 12., 13.],\n",
              "       [14., 15., 16., 17., 18., 19., 20.],\n",
              "       [21., 22., 23., 24., 25., 26., 27.],\n",
              "       [28., 29., 30., 31., 32., 33., 34.],\n",
              "       [35., 36., 37., 38., 39., 40., 41.]])"
            ]
          },
          "metadata": {
            "tags": []
          },
          "execution_count": 330
        }
      ]
    },
    {
      "cell_type": "code",
      "metadata": {
        "id": "Kb3nP5Ts61xX",
        "colab_type": "code",
        "outputId": "cbf40734-cf4c-4a0d-a9bb-f558709180a2",
        "colab": {
          "base_uri": "https://localhost:8080/",
          "height": 0
        }
      },
      "source": [
        "Vector1 = np.random.random(7)\n",
        "np.set_printoptions(precision=4)\n",
        "Vector1"
      ],
      "execution_count": 331,
      "outputs": [
        {
          "output_type": "execute_result",
          "data": {
            "text/plain": [
              "array([0.7852, 0.3122, 0.447 , 0.2878, 0.6791, 0.7715, 0.7191])"
            ]
          },
          "metadata": {
            "tags": []
          },
          "execution_count": 331
        }
      ]
    },
    {
      "cell_type": "code",
      "metadata": {
        "id": "Qw9JMdBb8fws",
        "colab_type": "code",
        "outputId": "7c1576c0-760b-4047-c253-661124d3d797",
        "colab": {
          "base_uri": "https://localhost:8080/",
          "height": 0
        }
      },
      "source": [
        "array2d_a + array2d_b + Vector1"
      ],
      "execution_count": 332,
      "outputs": [
        {
          "output_type": "execute_result",
          "data": {
            "text/plain": [
              "array([[ 7.7852,  8.3122,  9.447 , 10.2878, 11.6791, 12.7715, 13.7191],\n",
              "       [14.7852, 15.3122, 16.447 , 17.2878, 18.6791, 19.7715, 20.7191],\n",
              "       [21.7852, 22.3122, 23.447 , 24.2878, 25.6791, 26.7715, 27.7191],\n",
              "       [28.7852, 29.3122, 30.447 , 31.2878, 32.6791, 33.7715, 34.7191],\n",
              "       [35.7852, 36.3122, 37.447 , 38.2878, 39.6791, 40.7715, 41.7191]])"
            ]
          },
          "metadata": {
            "tags": []
          },
          "execution_count": 332
        }
      ]
    },
    {
      "cell_type": "code",
      "metadata": {
        "id": "6vNv6UE_881w",
        "colab_type": "code",
        "outputId": "01675892-a700-4770-91e4-651e4a5c0f93",
        "colab": {
          "base_uri": "https://localhost:8080/",
          "height": 0
        }
      },
      "source": [
        "Vector2 = np.random.random(5)\n",
        "Vector2"
      ],
      "execution_count": 333,
      "outputs": [
        {
          "output_type": "execute_result",
          "data": {
            "text/plain": [
              "array([0.5083, 0.2594, 0.7805, 0.2661, 0.0324])"
            ]
          },
          "metadata": {
            "tags": []
          },
          "execution_count": 333
        }
      ]
    },
    {
      "cell_type": "code",
      "metadata": {
        "id": "j4oJMeZ79Okx",
        "colab_type": "code",
        "outputId": "7bbb3665-b845-4097-e8ea-5f8805ae0854",
        "colab": {
          "base_uri": "https://localhost:8080/",
          "height": 0
        }
      },
      "source": [
        "Vector2 = np.random.random((5,1))*10\n",
        "Vector2"
      ],
      "execution_count": 334,
      "outputs": [
        {
          "output_type": "execute_result",
          "data": {
            "text/plain": [
              "array([[3.4296],\n",
              "       [3.0228],\n",
              "       [5.7754],\n",
              "       [1.2509],\n",
              "       [4.1175]])"
            ]
          },
          "metadata": {
            "tags": []
          },
          "execution_count": 334
        }
      ]
    },
    {
      "cell_type": "code",
      "metadata": {
        "id": "suQn3Lu59U4b",
        "colab_type": "code",
        "outputId": "45ec2127-d1b8-41fa-c360-747204092408",
        "colab": {
          "base_uri": "https://localhost:8080/",
          "height": 0
        }
      },
      "source": [
        "array2d_a + array2d_b + Vector2"
      ],
      "execution_count": 335,
      "outputs": [
        {
          "output_type": "execute_result",
          "data": {
            "text/plain": [
              "array([[10.4296, 11.4296, 12.4296, 13.4296, 14.4296, 15.4296, 16.4296],\n",
              "       [17.0228, 18.0228, 19.0228, 20.0228, 21.0228, 22.0228, 23.0228],\n",
              "       [26.7754, 27.7754, 28.7754, 29.7754, 30.7754, 31.7754, 32.7754],\n",
              "       [29.2509, 30.2509, 31.2509, 32.2509, 33.2509, 34.2509, 35.2509],\n",
              "       [39.1175, 40.1175, 41.1175, 42.1175, 43.1175, 44.1175, 45.1175]])"
            ]
          },
          "metadata": {
            "tags": []
          },
          "execution_count": 335
        }
      ]
    },
    {
      "cell_type": "markdown",
      "metadata": {
        "id": "ucaDb_Lw-of6",
        "colab_type": "text"
      },
      "source": [
        "## Structured Arrays"
      ]
    },
    {
      "cell_type": "code",
      "metadata": {
        "id": "WgBinJ5q9bSR",
        "colab_type": "code",
        "outputId": "3db5608f-9fb5-4b94-c7e1-7fbd6d4b4bd4",
        "colab": {
          "base_uri": "https://localhost:8080/",
          "height": 34
        }
      },
      "source": [
        "student_def=[('name','S6'),('height','f8'),('weight','f8'),('age','i8')]\n",
        "student_def"
      ],
      "execution_count": 433,
      "outputs": [
        {
          "output_type": "execute_result",
          "data": {
            "text/plain": [
              "[('name', 'S6'), ('height', 'f8'), ('weight', 'f8'), ('age', 'i8')]"
            ]
          },
          "metadata": {
            "tags": []
          },
          "execution_count": 433
        }
      ]
    },
    {
      "cell_type": "code",
      "metadata": {
        "id": "xjuIBNtG_N2z",
        "colab_type": "code",
        "outputId": "e621d339-da40-4fc0-9390-5cc0d90b25a3",
        "colab": {
          "base_uri": "https://localhost:8080/",
          "height": 67
        }
      },
      "source": [
        "student_array = np.ones((4,), dtype=student_def) # initiate 4 records with ones\n",
        "student_array"
      ],
      "execution_count": 434,
      "outputs": [
        {
          "output_type": "execute_result",
          "data": {
            "text/plain": [
              "array([('1', 1., 1., 1), ('1', 1., 1., 1), ('1', 1., 1., 1),\n",
              "       ('1', 1., 1., 1)],\n",
              "      dtype=[('name', 'S6'), ('height', '<f8'), ('weight', '<f8'), ('age', '<i8')])"
            ]
          },
          "metadata": {
            "tags": []
          },
          "execution_count": 434
        }
      ]
    },
    {
      "cell_type": "code",
      "metadata": {
        "id": "277bsad3JwSV",
        "colab_type": "code",
        "outputId": "81bba054-be8e-4256-dbbf-3dba85fcb678",
        "colab": {
          "base_uri": "https://localhost:8080/",
          "height": 67
        }
      },
      "source": [
        "# add some data\n",
        "student_array[3] = ('Tyrion', 73, 205, 14)\n",
        "student_array[0] = ('Billy', 65, 112, 13)\n",
        "new_student=np.array([('Karen', 66., 122., 15), ('Macy', 77., 231., 16)],\n",
        "      dtype=student_def)\n",
        "student_array=np.append(student_array, new_student)\n",
        "print(student_array)"
      ],
      "execution_count": 449,
      "outputs": [
        {
          "output_type": "stream",
          "text": [
            "[('Billy', 65., 112., 13) ('1',  1.,   1.,  1) ('1',  1.,   1.,  1)\n",
            " ('Tyrion', 73., 205., 14) ('Karen', 66., 122., 15)\n",
            " ('Macy', 77., 231., 16)]\n"
          ],
          "name": "stdout"
        }
      ]
    },
    {
      "cell_type": "code",
      "metadata": {
        "id": "ICc03HcMLLAw",
        "colab_type": "code",
        "outputId": "e1724bd3-f71f-4d6c-c25e-8f26a0ea7c7a",
        "colab": {
          "base_uri": "https://localhost:8080/",
          "height": 50
        }
      },
      "source": [
        "# get columes\n",
        "print(student_array['name'])\n",
        "print(student_array['age']/2) #note the integer type is kept"
      ],
      "execution_count": 339,
      "outputs": [
        {
          "output_type": "stream",
          "text": [
            "['Billy' '1' '1' 'Tyrion']\n",
            "[6 0 0 7]\n"
          ],
          "name": "stdout"
        }
      ]
    },
    {
      "cell_type": "code",
      "metadata": {
        "id": "gZrB-U39bEJS",
        "colab_type": "code",
        "colab": {
          "base_uri": "https://localhost:8080/",
          "height": 84
        },
        "outputId": "ed87e8ab-e7a0-4565-dd27-eb9c85ff93c9"
      },
      "source": [
        "#sort by age\n",
        "student_array = np.sort(student_array, order='age')\n",
        "student_array"
      ],
      "execution_count": 450,
      "outputs": [
        {
          "output_type": "execute_result",
          "data": {
            "text/plain": [
              "array([('1',  1.,   1.,  1), ('1',  1.,   1.,  1),\n",
              "       ('Billy', 65., 112., 13), ('Tyrion', 73., 205., 14),\n",
              "       ('Karen', 66., 122., 15), ('Macy', 77., 231., 16)],\n",
              "      dtype=[('name', 'S6'), ('height', '<f8'), ('weight', '<f8'), ('age', '<i8')])"
            ]
          },
          "metadata": {
            "tags": []
          },
          "execution_count": 450
        }
      ]
    },
    {
      "cell_type": "code",
      "metadata": {
        "id": "WRAwwJ7-fOPN",
        "colab_type": "code",
        "colab": {}
      },
      "source": [
        "#make above array readonly\n",
        "student_array.flags.writeable = False"
      ],
      "execution_count": 0,
      "outputs": []
    },
    {
      "cell_type": "markdown",
      "metadata": {
        "id": "VvEJlKU9VhdV",
        "colab_type": "text"
      },
      "source": [
        "3D array can also use array data type"
      ]
    },
    {
      "cell_type": "code",
      "metadata": {
        "id": "z1XA5zN4PZQw",
        "colab_type": "code",
        "outputId": "8b48f366-83ae-4aae-c101-4e58e00a2249",
        "colab": {
          "base_uri": "https://localhost:8080/",
          "height": 286
        }
      },
      "source": [
        "student_3d_array = np.zeros((4,3,2), dtype=student_def)\n",
        "#add some data and get them\n",
        "student_3d_array[0,2,1] = ('Billy', 68, 155, 11)\n",
        "student_3d_array[2,2,1] = ('Alice', 62, 165, 12.3)\n",
        "student_3d_array[3,1,0] = ('Allison', 62, 166, 15.5) # extra string would be truncated \n",
        "\n",
        "student_3d_array"
      ],
      "execution_count": 340,
      "outputs": [
        {
          "output_type": "execute_result",
          "data": {
            "text/plain": [
              "array([[[('',  0.,   0.,  0), ('',  0.,   0.,  0)],\n",
              "        [('',  0.,   0.,  0), ('',  0.,   0.,  0)],\n",
              "        [('',  0.,   0.,  0), ('Billy', 68., 155., 11)]],\n",
              "\n",
              "       [[('',  0.,   0.,  0), ('',  0.,   0.,  0)],\n",
              "        [('',  0.,   0.,  0), ('',  0.,   0.,  0)],\n",
              "        [('',  0.,   0.,  0), ('',  0.,   0.,  0)]],\n",
              "\n",
              "       [[('',  0.,   0.,  0), ('',  0.,   0.,  0)],\n",
              "        [('',  0.,   0.,  0), ('',  0.,   0.,  0)],\n",
              "        [('',  0.,   0.,  0), ('Alice', 62., 165., 12)]],\n",
              "\n",
              "       [[('',  0.,   0.,  0), ('',  0.,   0.,  0)],\n",
              "        [('Alliso', 62., 166., 15), ('',  0.,   0.,  0)],\n",
              "        [('',  0.,   0.,  0), ('',  0.,   0.,  0)]]],\n",
              "      dtype=[('name', 'S6'), ('height', '<f8'), ('weight', '<f8'), ('age', '<i8')])"
            ]
          },
          "metadata": {
            "tags": []
          },
          "execution_count": 340
        }
      ]
    },
    {
      "cell_type": "code",
      "metadata": {
        "id": "XMlRtxweQufI",
        "colab_type": "code",
        "outputId": "20b28af0-8afc-4383-b31c-7c41d5d595e8",
        "colab": {
          "base_uri": "https://localhost:8080/",
          "height": 286
        }
      },
      "source": [
        "student_3d_array[['name','weight','age']]"
      ],
      "execution_count": 341,
      "outputs": [
        {
          "output_type": "execute_result",
          "data": {
            "text/plain": [
              "array([[[('',   0.,  0), ('',   0.,  0)],\n",
              "        [('',   0.,  0), ('',   0.,  0)],\n",
              "        [('',   0.,  0), ('Billy', 155., 11)]],\n",
              "\n",
              "       [[('',   0.,  0), ('',   0.,  0)],\n",
              "        [('',   0.,  0), ('',   0.,  0)],\n",
              "        [('',   0.,  0), ('',   0.,  0)]],\n",
              "\n",
              "       [[('',   0.,  0), ('',   0.,  0)],\n",
              "        [('',   0.,  0), ('',   0.,  0)],\n",
              "        [('',   0.,  0), ('Alice', 165., 12)]],\n",
              "\n",
              "       [[('',   0.,  0), ('',   0.,  0)],\n",
              "        [('Alliso', 166., 15), ('',   0.,  0)],\n",
              "        [('',   0.,  0), ('',   0.,  0)]]],\n",
              "      dtype={'names':['name','weight','age'], 'formats':['S6','<f8','<i8'], 'offsets':[0,14,22], 'itemsize':30})"
            ]
          },
          "metadata": {
            "tags": []
          },
          "execution_count": 341
        }
      ]
    },
    {
      "cell_type": "markdown",
      "metadata": {
        "id": "iMYaNuG6Vv8g",
        "colab_type": "text"
      },
      "source": [
        "Record arrays are structured arrays wrapped using a subclass of ndarray, numpy. recarray , which allows field access by attribute on the array object, and record arrays also use a special datatype, numpy. record , which allows field access by attribute on the individual elements of the array. The numpy."
      ]
    },
    {
      "cell_type": "code",
      "metadata": {
        "id": "ATLZOKWZS5mi",
        "colab_type": "code",
        "outputId": "68800b6f-f94c-4b9e-c1d5-39411df1ec3f",
        "colab": {
          "base_uri": "https://localhost:8080/",
          "height": 50
        }
      },
      "source": [
        "studen_record_array = np.rec.array([('Joe', 73, 205, 34),('Mirranda', 65, 112, 23)],dtype=student_def)\n",
        "studen_record_array"
      ],
      "execution_count": 342,
      "outputs": [
        {
          "output_type": "execute_result",
          "data": {
            "text/plain": [
              "rec.array([('Joe', 73., 205., 34), ('Mirran', 65., 112., 23)],\n",
              "          dtype=[('name', 'S6'), ('height', '<f8'), ('weight', '<f8'), ('age', '<i8')])"
            ]
          },
          "metadata": {
            "tags": []
          },
          "execution_count": 342
        }
      ]
    },
    {
      "cell_type": "code",
      "metadata": {
        "id": "_okX3_YVV82j",
        "colab_type": "code",
        "outputId": "90129433-2e67-49d3-ccef-3b49f396f7f5",
        "colab": {
          "base_uri": "https://localhost:8080/",
          "height": 34
        }
      },
      "source": [
        "# get the attribute\n",
        "studen_record_array.age"
      ],
      "execution_count": 343,
      "outputs": [
        {
          "output_type": "execute_result",
          "data": {
            "text/plain": [
              "array([34, 23])"
            ]
          },
          "metadata": {
            "tags": []
          },
          "execution_count": 343
        }
      ]
    },
    {
      "cell_type": "markdown",
      "metadata": {
        "id": "wBcYEONw1hCV",
        "colab_type": "text"
      },
      "source": [
        "## Inline Plot matplotlib"
      ]
    },
    {
      "cell_type": "markdown",
      "metadata": {
        "id": "8TVJjCCUF1tt",
        "colab_type": "text"
      },
      "source": [
        "%matplotlib inline sets the backend of matplotlib to the 'inline' backend:\n",
        "With this backend, the output of plotting commands is displayed inline within frontends like the Jupyter notebook, directly below the code cell that produced it. The resulting plots will then also be stored in the notebook document.\n",
        "\n"
      ]
    },
    {
      "cell_type": "code",
      "metadata": {
        "id": "OTbg0ePwWM_7",
        "colab_type": "code",
        "colab": {}
      },
      "source": [
        "%matplotlib inline"
      ],
      "execution_count": 0,
      "outputs": []
    },
    {
      "cell_type": "code",
      "metadata": {
        "id": "0H9OJCsE1y7V",
        "colab_type": "code",
        "outputId": "beceeb2b-4bdc-4072-dd43-a5c3dcb464dd",
        "colab": {
          "base_uri": "https://localhost:8080/",
          "height": 312
        }
      },
      "source": [
        "import numpy as np\n",
        "import matplotlib.pyplot as plt\n",
        "\n",
        "mu, sigma = 100, 15  # mean = 100, standard deviation=15\n",
        "dataset = mu + sigma * np.random.randn(10000) # Return a sample (or samples) from the “standard normal” distribution.\n",
        "print(dataset.size)\n",
        "\n",
        "# the histogram of the data, to be investigated\n",
        "n, bins, patches = plt.hist(dataset, 50, normed=1, facecolor='g', alpha=0.75)\n",
        "\n",
        "plt.xlabel('Smarts')\n",
        "plt.ylabel('Probability')\n",
        "plt.title('Histogram of IQ')\n",
        "plt.text(130, .025, r'$\\mu=100,\\ \\sigma=15$')\n",
        "plt.axis([80, 160, 0, 0.03])\n",
        "plt.grid(True)\n",
        "plt.show()"
      ],
      "execution_count": 345,
      "outputs": [
        {
          "output_type": "stream",
          "text": [
            "10000\n"
          ],
          "name": "stdout"
        },
        {
          "output_type": "display_data",
          "data": {
            "image/png": "[encoded data removed]",
            "text/plain": [
              "<Figure size 432x288 with 1 Axes>"
            ]
          },
          "metadata": {
            "tags": [],
            "needs_background": "light"
          }
        }
      ]
    },
    {
      "cell_type": "markdown",
      "metadata": {
        "id": "FSpzexwK3Q0k",
        "colab_type": "text"
      },
      "source": [
        "<p>Available Markers:</p>\n",
        "<table border=\"1\" class=\"docutils\">\n",
        "<colgroup>\n",
        "<col width=\"38%\" />\n",
        "<col width=\"62%\" />\n",
        "</colgroup>\n",
        "<thead valign=\"bottom\">\n",
        "<tr class=\"row-odd\"><th class=\"head\">marker</th>\n",
        "<th class=\"head\">description</th>\n",
        "</tr>\n",
        "</thead>\n",
        "<tbody valign=\"top\">\n",
        "<tr class=\"row-even\"><td>&#8221;.&#8221;</td>\n",
        "<td>point</td>\n",
        "</tr>\n",
        "<tr class=\"row-odd\"><td>&#8221;,&#8221;</td>\n",
        "<td>pixel</td>\n",
        "</tr>\n",
        "<tr class=\"row-even\"><td>&#8220;o&#8221;</td>\n",
        "<td>circle</td>\n",
        "</tr>\n",
        "<tr class=\"row-odd\"><td>&#8220;v&#8221;</td>\n",
        "<td>triangle_down</td>\n",
        "</tr>\n",
        "<tr class=\"row-even\"><td>&#8220;^&#8221;</td>\n",
        "<td>triangle_up</td>\n",
        "</tr>\n",
        "<tr class=\"row-odd\"><td>&#8220;&lt;&#8221;</td>\n",
        "<td>triangle_left</td>\n",
        "</tr>\n",
        "<tr class=\"row-even\"><td>&#8220;&gt;&#8221;</td>\n",
        "<td>triangle_right</td>\n",
        "</tr>\n",
        "<tr class=\"row-odd\"><td>&#8220;1&#8221;</td>\n",
        "<td>tri_down</td>\n",
        "</tr>\n",
        "<tr class=\"row-even\"><td>&#8220;2&#8221;</td>\n",
        "<td>tri_up</td>\n",
        "</tr>\n",
        "<tr class=\"row-odd\"><td>&#8220;3&#8221;</td>\n",
        "<td>tri_left</td>\n",
        "</tr>\n",
        "<tr class=\"row-even\"><td>&#8220;4&#8221;</td>\n",
        "<td>tri_right</td>\n",
        "</tr>\n",
        "<tr class=\"row-odd\"><td>&#8220;8&#8221;</td>\n",
        "<td>octagon</td>\n",
        "</tr>\n",
        "<tr class=\"row-even\"><td>&#8220;s&#8221;</td>\n",
        "<td>square</td>\n",
        "</tr>\n",
        "<tr class=\"row-odd\"><td>&#8220;p&#8221;</td>\n",
        "<td>pentagon</td>\n",
        "</tr>\n",
        "<tr class=\"row-even\"><td>&#8220;*&#8221;</td>\n",
        "<td>star</td>\n",
        "</tr>\n",
        "<tr class=\"row-odd\"><td>&#8220;h&#8221;</td>\n",
        "<td>hexagon1</td>\n",
        "</tr>\n",
        "<tr class=\"row-even\"><td>&#8220;H&#8221;</td>\n",
        "<td>hexagon2</td>\n",
        "</tr>\n",
        "<tr class=\"row-odd\"><td>&#8220;+&#8221;</td>\n",
        "<td>plus</td>\n",
        "</tr>\n",
        "<tr class=\"row-even\"><td>&#8220;x&#8221;</td>\n",
        "<td>x</td>\n",
        "</tr>\n",
        "<tr class=\"row-odd\"><td>&#8220;D&#8221;</td>\n",
        "<td>diamond</td>\n",
        "</tr>\n",
        "<tr class=\"row-even\"><td>&#8220;d&#8221;</td>\n",
        "<td>thin_diamond</td>\n",
        "</tr>\n",
        "<tr class=\"row-odd\"><td>&#8220;|&#8221;</td>\n",
        "<td>vline</td>\n",
        "</tr>\n",
        "<tr class=\"row-even\"><td>&#8220;_&#8221;</td>\n",
        "<td>hline</td>\n",
        "</tr>\n",
        "<tr class=\"row-odd\"><td>TICKLEFT</td>\n",
        "<td>tickleft</td>\n",
        "</tr>\n",
        "<tr class=\"row-even\"><td>TICKRIGHT</td>\n",
        "<td>tickright</td>\n",
        "</tr>\n",
        "<tr class=\"row-odd\"><td>TICKUP</td>\n",
        "<td>tickup</td>\n",
        "</tr>\n",
        "<tr class=\"row-even\"><td>TICKDOWN</td>\n",
        "<td>tickdown</td>\n",
        "</tr>\n",
        "<tr class=\"row-odd\"><td>CARETLEFT</td>\n",
        "<td>caretleft</td>\n",
        "</tr>\n",
        "<tr class=\"row-even\"><td>CARETRIGHT</td>\n",
        "<td>caretright</td>\n",
        "</tr>\n",
        "<tr class=\"row-odd\"><td>CARETUP</td>\n",
        "<td>caretup</td>\n",
        "</tr>\n",
        "<tr class=\"row-even\"><td>CARETDOWN</td>\n",
        "<td>caretdown</td>\n",
        "</tr>\n",
        "<tr class=\"row-odd\"><td>&#8220;None&#8221;</td>\n",
        "<td>nothing</td>\n",
        "</tr>\n",
        "<tr class=\"row-even\"><td>None</td>\n",
        "<td>nothing</td>\n",
        "</tr>\n",
        "<tr class=\"row-odd\"><td>&#8221; &#8220;</td>\n",
        "<td>nothing</td>\n",
        "</tr>\n",
        "<tr class=\"row-even\"><td>&#8220;&#8221;</td>\n",
        "<td>nothing</td>\n",
        "</tr>\n",
        "<tr class=\"row-odd\"><td><code class=\"docutils literal\"><span class=\"pre\">'$...$'</span></code></td>\n",
        "<td>render the string using mathtext.</td>\n",
        "</tr>\n",
        "<tr class=\"row-even\"><td><code class=\"xref py py-obj docutils literal\"><span class=\"pre\">verts</span></code></td>\n",
        "<td>a list of (x, y) pairs used for Path vertices.\n",
        "The center of the marker is located at (0,0) and\n",
        "the size is normalized.</td>\n",
        "</tr>\n",
        "<tr class=\"row-odd\"><td>path</td>\n",
        "<td>a <a class=\"reference internal\" href=\"path_api.html#matplotlib.path.Path\" title=\"matplotlib.path.Path\"><code class=\"xref py py-obj docutils literal\"><span class=\"pre\">Path</span></code></a> instance.</td>\n",
        "</tr>\n",
        "<tr class=\"row-even\"><td>(<code class=\"xref py py-obj docutils literal\"><span class=\"pre\">numsides</span></code>, <code class=\"xref py py-obj docutils literal\"><span class=\"pre\">style</span></code>, <code class=\"xref py py-obj docutils literal\"><span class=\"pre\">angle</span></code>)</td>\n",
        "<td>see below</td>\n",
        "</tr>\n",
        "</tbody>\n",
        "</table>"
      ]
    },
    {
      "cell_type": "code",
      "metadata": {
        "id": "wjhGRALm5inN",
        "colab_type": "code",
        "outputId": "a699b4ed-858f-4094-f5b7-e0d9a9fe8764",
        "colab": {
          "base_uri": "https://localhost:8080/",
          "height": 34
        }
      },
      "source": [
        "# import numpy as np\n",
        "# import matplotlib.pyplot as plt\n",
        "myFirstFigure = plt.figure(\"hello world numpy plot\")"
      ],
      "execution_count": 346,
      "outputs": [
        {
          "output_type": "display_data",
          "data": {
            "text/plain": [
              "<Figure size 432x288 with 0 Axes>"
            ]
          },
          "metadata": {
            "tags": []
          }
        }
      ]
    },
    {
      "cell_type": "code",
      "metadata": {
        "id": "svCTzjD06tQc",
        "colab_type": "code",
        "colab": {}
      },
      "source": [
        "subplot_1 = myFirstFigure.add_subplot(2, 3, 1) # 2 rows 3 columns, number1 subplot ()\n",
        "subplot_6 = myFirstFigure.add_subplot(2, 3, 6) # number6 subplot (last one)\n"
      ],
      "execution_count": 0,
      "outputs": []
    },
    {
      "cell_type": "code",
      "metadata": {
        "id": "OSEl2aJC7BmK",
        "colab_type": "code",
        "outputId": "a920e52b-b7f2-4c98-a0fc-21fb9e32f904",
        "colab": {
          "base_uri": "https://localhost:8080/",
          "height": 269
        }
      },
      "source": [
        "plt.plot(np.random.rand(50).cumsum(), 'k--') # 50 elements cumulative sum, k is black and -- is straigh lines\n",
        "plt.show()"
      ],
      "execution_count": 348,
      "outputs": [
        {
          "output_type": "display_data",
          "data": {
            "image/png": "[encoded data removed]",
            "text/plain": [
              "<Figure size 432x288 with 1 Axes>"
            ]
          },
          "metadata": {
            "tags": [],
            "needs_background": "light"
          }
        }
      ]
    },
    {
      "cell_type": "markdown",
      "metadata": {
        "id": "yffkUBwwOGHs",
        "colab_type": "text"
      },
      "source": [
        "more examples can be found from a2b2c helloworld1.ipynb"
      ]
    },
    {
      "cell_type": "code",
      "metadata": {
        "id": "BpsBr-V2-yba",
        "colab_type": "code",
        "outputId": "c7a44506-4d49-4a75-b2ba-7a43815cec3e",
        "colab": {
          "base_uri": "https://localhost:8080/",
          "height": 269
        }
      },
      "source": [
        "subplot_1 = myFirstFigure.add_subplot(2, 3, 2)\n",
        "plt.plot(np.random.rand(10) , 'ro') # red, circle\n",
        "plt.show()"
      ],
      "execution_count": 349,
      "outputs": [
        {
          "output_type": "display_data",
          "data": {
            "image/png": "[encoded data removed]",
            "text/plain": [
              "<Figure size 432x288 with 1 Axes>"
            ]
          },
          "metadata": {
            "tags": [],
            "needs_background": "light"
          }
        }
      ]
    },
    {
      "cell_type": "code",
      "metadata": {
        "id": "m7cUn8D3BeQs",
        "colab_type": "code",
        "outputId": "e2ae4e6c-497a-4720-c53e-dfcc97fe4a71",
        "colab": {
          "base_uri": "https://localhost:8080/",
          "height": 269
        }
      },
      "source": [
        "data_set_size = 15\n",
        "low_mu, low_sigma = 50, 4.3\n",
        "low_data_set = low_mu + low_sigma * np.random.randn(data_set_size) # generate 15 data points, normally distrubted with mean 50, standard deviation 4.3\n",
        "high_mu, high_sigma = 57, 5.2\n",
        "high_data_set = high_mu + high_sigma * np.random.randn(data_set_size) #generate 15 data points, normally distrubted with mean 57, standard deviation 5.2\n",
        "\n",
        "days = list(range(1, data_set_size + 1)) # x axis\n",
        "\n",
        "plt.plot(days, low_data_set) # default use lines\n",
        "plt.show()"
      ],
      "execution_count": 350,
      "outputs": [
        {
          "output_type": "display_data",
          "data": {
            "image/png": "[encoded data removed]",
            "text/plain": [
              "<Figure size 432x288 with 1 Axes>"
            ]
          },
          "metadata": {
            "tags": [],
            "needs_background": "light"
          }
        }
      ]
    },
    {
      "cell_type": "markdown",
      "metadata": {
        "id": "q6h-2HmFFgoF",
        "colab_type": "text"
      },
      "source": [
        "Multiple lines in a plot"
      ]
    },
    {
      "cell_type": "code",
      "metadata": {
        "id": "fLMHzLjjFUwV",
        "colab_type": "code",
        "outputId": "6c8a87bc-257e-41b0-930a-09d76f5ccb61",
        "colab": {
          "base_uri": "https://localhost:8080/",
          "height": 269
        }
      },
      "source": [
        "plt.plot(days, low_data_set,         \n",
        "         days, high_data_set) # 2 data sets are drawn here\n",
        "plt.show()"
      ],
      "execution_count": 351,
      "outputs": [
        {
          "output_type": "display_data",
          "data": {
            "image/png": "[encoded data removed]",
            "text/plain": [
              "<Figure size 432x288 with 1 Axes>"
            ]
          },
          "metadata": {
            "tags": [],
            "needs_background": "light"
          }
        }
      ]
    },
    {
      "cell_type": "code",
      "metadata": {
        "id": "2Nux3nNqFbWJ",
        "colab_type": "code",
        "outputId": "e430e0ce-cc31-473e-d532-b8757a88903a",
        "colab": {
          "base_uri": "https://localhost:8080/",
          "height": 269
        }
      },
      "source": [
        "# marker table above, v is down arrow, ^ is upper arrow\n",
        "plt.plot(days, low_data_set,\n",
        "         days, low_data_set, \"vm\", # lower triangle, color is meganta\n",
        "         days, high_data_set, \n",
        "         days, high_data_set, \"^k\") # upper triangle, color is black\n",
        "plt.show() # 4 data sets are drawn here"
      ],
      "execution_count": 352,
      "outputs": [
        {
          "output_type": "display_data",
          "data": {
            "image/png": "[encoded data removed]",
            "text/plain": [
              "<Figure size 432x288 with 1 Axes>"
            ]
          },
          "metadata": {
            "tags": [],
            "needs_background": "light"
          }
        }
      ]
    },
    {
      "cell_type": "code",
      "metadata": {
        "id": "GfkCz4ZzFyCy",
        "colab_type": "code",
        "outputId": "c18f5844-8fdd-4328-b23f-b9ba31d4b28f",
        "colab": {
          "base_uri": "https://localhost:8080/",
          "height": 269
        }
      },
      "source": [
        "plt.plot(days, high_data_set, \"^k\")\n",
        "plt.show() # 1 data set is drawn here"
      ],
      "execution_count": 353,
      "outputs": [
        {
          "output_type": "display_data",
          "data": {
            "image/png": "[encoded data removed]",
            "text/plain": [
              "<Figure size 432x288 with 1 Axes>"
            ]
          },
          "metadata": {
            "tags": [],
            "needs_background": "light"
          }
        }
      ]
    },
    {
      "cell_type": "code",
      "metadata": {
        "id": "eBfKt5bqEqvw",
        "colab_type": "code",
        "outputId": "b6c7f31a-127e-40d2-b4ff-afc709b84fe3",
        "colab": {
          "base_uri": "https://localhost:8080/",
          "height": 295
        }
      },
      "source": [
        "# Add the x,y labels and title, legend is more a text box here\n",
        "plt.plot(days, low_data_set,\n",
        "         days, low_data_set, \"vm\",\n",
        "         days, high_data_set, \n",
        "         days, high_data_set, \"^k\")\n",
        "plt.xlabel('Day')\n",
        "plt.ylabel('Temperature: degrees Farenheit')\n",
        "plt.title('Randomized temperature data')\n",
        "plt.legend(loc=\"upper right\", shadow=True, title=\"Legend: high ^ vs low v\")\n",
        "plt.show()"
      ],
      "execution_count": 354,
      "outputs": [
        {
          "output_type": "display_data",
          "data": {
            "image/png": "[encoded data removed]",
            "text/plain": [
              "<Figure size 432x288 with 1 Axes>"
            ]
          },
          "metadata": {
            "tags": [],
            "needs_background": "light"
          }
        }
      ]
    },
    {
      "cell_type": "code",
      "metadata": {
        "id": "1cdjxIvMP432",
        "colab_type": "code",
        "outputId": "57430cf8-0b4b-4ba6-bdb5-29740d738851",
        "colab": {
          "base_uri": "https://localhost:8080/",
          "height": 286
        }
      },
      "source": [
        "line1, = plt.plot(low_data_set)\n",
        "line2, = plt.plot(high_data_set)\n",
        "line1.set_label('low temperature')\n",
        "line2.set_label('high temperature')\n",
        "plt.legend()"
      ],
      "execution_count": 355,
      "outputs": [
        {
          "output_type": "execute_result",
          "data": {
            "text/plain": [
              "<matplotlib.legend.Legend at 0x7f3418d2c790>"
            ]
          },
          "metadata": {
            "tags": []
          },
          "execution_count": 355
        },
        {
          "output_type": "display_data",
          "data": {
            "image/png": "[encoded data removed]",
            "text/plain": [
              "<Figure size 432x288 with 1 Axes>"
            ]
          },
          "metadata": {
            "tags": [],
            "needs_background": "light"
          }
        }
      ]
    },
    {
      "cell_type": "markdown",
      "metadata": {
        "id": "3HEp4iZlYirC",
        "colab_type": "text"
      },
      "source": [
        "Mark, Label and Grid"
      ]
    },
    {
      "cell_type": "code",
      "metadata": {
        "id": "oy5K2aICYclJ",
        "colab_type": "code",
        "outputId": "820a89cb-0fe5-4e36-b1a4-fc659952c89b",
        "colab": {
          "base_uri": "https://localhost:8080/",
          "height": 308
        }
      },
      "source": [
        "number_of_data_points = 1000\n",
        "\n",
        "my_figure = plt.figure()\n",
        "subplot_1 = my_figure.add_subplot(1, 1, 1) # only one subplot in this figure\n",
        "subplot_1.plot(np.random.rand(number_of_data_points).cumsum()) # add data to subplot\n",
        "\n",
        "number_of_ticks = 8\n",
        "ticks = np.arange(0, number_of_data_points, number_of_data_points//number_of_ticks) # (0~1000, integer 0~125)\n",
        "subplot_1.set_xticks(ticks) # this won't be displayed on the subplot, only scales it\n",
        "\n",
        "labels = subplot_1.set_xticklabels(['one', 'two', '', 'three', 'four', 'five'], rotation=45, fontsize='small')\n",
        "\n",
        "subplot_1.set_title (\"My First Ticked Plot\")\n",
        "subplot_1.set_xlabel (\"Groups\")\n",
        "subplot_1.set_ylabel (\"Actual sum\")\n",
        "\n",
        "\n",
        "#subplot_1.grid(True)\n",
        "#gridlines = subplot_1.get_xgridlines() + subplot_1.get_ygridlines()\n",
        "#for line in gridlines:\n",
        "#    line.set_linestyle(':')\n",
        "\n",
        "# comment out grid example above and use a simpler one\n",
        "\n",
        "subplot_1.grid(color='r', linestyle=':', linewidth=5)\n",
        "plt.show()"
      ],
      "execution_count": 356,
      "outputs": [
        {
          "output_type": "display_data",
          "data": {
            "image/png": "[encoded data removed]",
            "text/plain": [
              "<Figure size 432x288 with 1 Axes>"
            ]
          },
          "metadata": {
            "tags": [],
            "needs_background": "light"
          }
        }
      ]
    },
    {
      "cell_type": "markdown",
      "metadata": {
        "id": "xy6W7pDeTy9v",
        "colab_type": "text"
      },
      "source": [
        "Line styles for grid lines\n",
        "<list>\n",
        "    <li>-    solid line</li>\n",
        "    <li>--   dashed line</li>\n",
        "    <li>-.   dash dot line</li>\n",
        "    <li>:    dotted</li>\n",
        "</list>\n",
        "\n",
        "More information about lines available at: http://matplotlib.org/api/lines_api.html"
      ]
    },
    {
      "cell_type": "code",
      "metadata": {
        "id": "EhHmTRBHaD1n",
        "colab_type": "code",
        "outputId": "198b6072-3b3a-4085-ef5c-5720651fe1ee",
        "colab": {
          "base_uri": "https://localhost:8080/",
          "height": 269
        }
      },
      "source": [
        "# add text box and arrow annotation\n",
        "number_of_data_points = 100\n",
        "\n",
        "my_figure2 = plt.figure()\n",
        "subplot_1 = my_figure2.add_subplot(1, 1, 1) # only one subplot in this figure\n",
        "subplot_1.plot(np.random.rand(number_of_data_points).cumsum()) # add data to subplot\n",
        "\n",
        "subplot_1.grid(None) # somehow after it's set to none, the grid is still here\n",
        "subplot_1.text (25, 40, r'an equation: $E=mc^2$', fontsize=18, color='red') # x=25, y=40 r'  accepts regex\n",
        "subplot_1.text (1, 1.5, \"Hello, Mountain Climbing!\", family='monospace', fontsize=10, color='green')\n",
        "\n",
        "# add text box at the center 0.5 here means 50%, more on transform http://matplotlib.org/users/transforms_tutorial.html\n",
        "subplot_1.text(0.5, 0.5, b\"We at the center, now\", transform=subplot_1.transAxes)\n",
        "\n",
        "# the allow start from xytext and points to xy\n",
        "subplot_1.annotate('shoot arrow', xy=(2, 1), xytext=(60, 20),\n",
        "            arrowprops=dict(facecolor='red', shrink=0.05))\n",
        "\n",
        "plt.show()"
      ],
      "execution_count": 357,
      "outputs": [
        {
          "output_type": "display_data",
          "data": {
            "image/png": "[encoded data removed]",
            "text/plain": [
              "<Figure size 432x288 with 1 Axes>"
            ]
          },
          "metadata": {
            "tags": [],
            "needs_background": "light"
          }
        }
      ]
    },
    {
      "cell_type": "code",
      "metadata": {
        "id": "k4miO2lHfyRa",
        "colab_type": "code",
        "outputId": "cc0cda42-6aea-4e18-830b-7ee2ebbc6806",
        "colab": {
          "base_uri": "https://localhost:8080/",
          "height": 308
        }
      },
      "source": [
        "#Show above graphs side by side\n",
        "\n",
        "number_of_data_points = 1000\n",
        "\n",
        "my_figure = plt.figure()\n",
        "subplot_1 = my_figure.add_subplot(1, 2, 1) # only one subplot in this figure\n",
        "subplot_1.plot(np.random.rand(number_of_data_points).cumsum()) # add data to subplot\n",
        "\n",
        "number_of_ticks = 8\n",
        "ticks = np.arange(0, number_of_data_points, number_of_data_points//number_of_ticks) # (0~1000, integer 0~125)\n",
        "subplot_1.set_xticks(ticks) # this won't be displayed on the subplot, only scales it\n",
        "\n",
        "labels = subplot_1.set_xticklabels(['one', 'two', '', 'three', 'four', 'five'], rotation=45, fontsize='small')\n",
        "\n",
        "subplot_1.set_title (\"My First Ticked Plot\")\n",
        "subplot_1.set_xlabel (\"Groups\")\n",
        "subplot_1.set_ylabel (\"Actual sum\")\n",
        "\n",
        "subplot_1.grid(color='r', linestyle=':', linewidth=5)\n",
        "\n",
        "\n",
        "# remove grid but add text box\n",
        "number_of_data_points = 100\n",
        "\n",
        "#my_figure2 = plt.figure()\n",
        "subplot_2 = my_figure.add_subplot(1, 2, 2) # only one subplot in this figure\n",
        "subplot_2.plot(np.random.rand(number_of_data_points).cumsum()) # add data to subplot\n",
        "\n",
        "subplot_2.grid(None) # somehow after it's set to none, the grid is still here\n",
        "subplot_2.text (25, 40, r'an equation: $E=mc^2$', fontsize=18, color='red') # x=25, y=40 r'  accepts regex\n",
        "subplot_2.text (1, 1.5, \"Hello, Mountain Climbing!\", family='monospace', fontsize=10, color='green')\n",
        "\n",
        "# add text box at the center 0.5 here means 50%, more on transform http://matplotlib.org/users/transforms_tutorial.html\n",
        "subplot_2.text(0.5, 0.5, b\"We at the center, now\", transform=subplot_2.transAxes)\n",
        "\n",
        "# the allow start from xytext and points to xy\n",
        "subplot_2.annotate('shoot arrow', xy=(2, 1), xytext=(60, 20),\n",
        "            arrowprops=dict(facecolor='red', shrink=0.05))\n",
        "\n",
        "plt.show()"
      ],
      "execution_count": 358,
      "outputs": [
        {
          "output_type": "display_data",
          "data": {
            "image/png": "[encoded data removed]",
            "text/plain": [
              "<Figure size 432x288 with 2 Axes>"
            ]
          },
          "metadata": {
            "tags": [],
            "needs_background": "light"
          }
        }
      ]
    },
    {
      "cell_type": "markdown",
      "metadata": {
        "id": "C8AnxxRJkF5I",
        "colab_type": "text"
      },
      "source": [
        "Subplots"
      ]
    },
    {
      "cell_type": "code",
      "metadata": {
        "id": "JMSn6FtnjzQO",
        "colab_type": "code",
        "outputId": "5e857a27-556c-4d44-bbae-3feef57af8a1",
        "colab": {
          "base_uri": "https://localhost:8080/",
          "height": 269
        }
      },
      "source": [
        "fig = plt.figure()\n",
        "for i, label in enumerate(('A', 'B', 'C', 'D')):\n",
        "    ax = fig.add_subplot(2,2,i+1)\n",
        "    ax.text(0.05, 0.95, label, transform=ax.transAxes,\n",
        "      fontsize=16, fontweight='bold', va='top')\n",
        "\n",
        "plt.show()"
      ],
      "execution_count": 359,
      "outputs": [
        {
          "output_type": "display_data",
          "data": {
            "image/png": "[encoded data removed]",
            "text/plain": [
              "<Figure size 432x288 with 4 Axes>"
            ]
          },
          "metadata": {
            "tags": [],
            "needs_background": "light"
          }
        }
      ]
    },
    {
      "cell_type": "markdown",
      "metadata": {
        "id": "3KFNFH_cK0x5",
        "colab_type": "text"
      },
      "source": [
        "More legend example: http://matplotlib.org/examples/pylab_examples/legend_demo2.html"
      ]
    },
    {
      "cell_type": "code",
      "metadata": {
        "id": "7hB3DUiZEqv-",
        "colab_type": "code",
        "outputId": "b14b7652-6f32-4e11-e6cf-5e7108db04d4",
        "colab": {
          "base_uri": "https://localhost:8080/",
          "height": 295
        }
      },
      "source": [
        "t1 = np.arange(0.0, 2.0, 0.1)\n",
        "t2 = np.arange(0.0, 2.0, 0.01)\n",
        "\n",
        "# note that plot returns a list of lines.  The \"l1, = plot\" usage\n",
        "# extracts the first element of the list into l1 using tuple\n",
        "# unpacking.  So l1 is a Line2D instance, not a sequence of lines\n",
        "l1, = plt.plot(t2, np.exp(-t2))\n",
        "l2, l3 = plt.plot(t2, np.sin(2 * np.pi * t2), '--go', t1, np.log(1 + t1), '.')\n",
        "l4, = plt.plot(t2, np.exp(-t2) * np.sin(2 * np.pi * t2), 'rs-.')\n",
        "\n",
        "plt.legend((l2, l4), ('oscillatory', 'damped'), loc='upper right', shadow=True)\n",
        "plt.xlabel('time')\n",
        "plt.ylabel('volts')\n",
        "plt.title('Damped oscillation')\n",
        "plt.show()"
      ],
      "execution_count": 360,
      "outputs": [
        {
          "output_type": "display_data",
          "data": {
            "image/png": "[encoded data removed]",
            "text/plain": [
              "<Figure size 432x288 with 1 Axes>"
            ]
          },
          "metadata": {
            "tags": [],
            "needs_background": "light"
          }
        }
      ]
    },
    {
      "cell_type": "markdown",
      "metadata": {
        "id": "bDmiEOtYqtIM",
        "colab_type": "text"
      },
      "source": [
        "Another annotation example"
      ]
    },
    {
      "cell_type": "code",
      "metadata": {
        "id": "jEcsRi6JLagB",
        "colab_type": "code",
        "outputId": "a8c04115-3aa3-4033-c453-360087417e64",
        "colab": {
          "base_uri": "https://localhost:8080/",
          "height": 308
        }
      },
      "source": [
        "x = np.arange(0, 10, 0.005)\n",
        "y = np.exp(-x/2.) * np.sin(2*np.pi*x)\n",
        "\n",
        "fig = plt.figure()\n",
        "ax = fig.add_subplot(111)\n",
        "ax.plot(x, y)\n",
        "ax.set_xlim(0, 10)\n",
        "ax.set_ylim(-1, 1)\n",
        "\n",
        "xdata, ydata = 5, 0\n",
        "xdisplay, ydisplay = ax.transData.transform_point((xdata, ydata))\n",
        "print(xdisplay, ydisplay)\n",
        "\n",
        "# bbox defines the 2 boxes. fc is grayscale betweem 0 - 1\n",
        "bbox = dict(boxstyle=\"round\", fc=\"0.8\")\n",
        "arrowprops = dict(\n",
        "    arrowstyle = \"->\",\n",
        "    connectionstyle = \"angle,angleA=30,angleB=90,rad=10\") #angel of the arrows\n",
        "\n",
        "offset = 72\n",
        "ax.annotate('data = (%.1f, %.1f)'%(xdata, ydata), # txt box 1 content\n",
        "            (xdata, ydata), xytext=(-2*offset, offset), textcoords='offset points', # to 5,0, from 5+(-2)*offset, 0+offset\n",
        "            bbox=bbox, arrowprops=arrowprops)  #bbox style, with arrowprops\n",
        "\n",
        "\n",
        "disp = ax.annotate('display = (%.1f, %.1f)'%(xdisplay, ydisplay), # txt box 1 content\n",
        "            (xdisplay, ydisplay), xytext=(0.5*offset, -offset), # to pixel location? 221.4 144.7, from 221.4+0.5*offset, 144.7-offset\n",
        "            xycoords='figure pixels',\n",
        "            textcoords='offset points',\n",
        "            bbox=bbox, arrowprops=arrowprops)\n",
        "\n",
        "\n",
        "plt.show()"
      ],
      "execution_count": 361,
      "outputs": [
        {
          "output_type": "stream",
          "text": [
            "(221.40000000000003, 144.72)\n"
          ],
          "name": "stdout"
        },
        {
          "output_type": "display_data",
          "data": {
            "image/png": "[encoded data removed]",
            "text/plain": [
              "<Figure size 432x288 with 1 Axes>"
            ]
          },
          "metadata": {
            "tags": [],
            "needs_background": "light"
          }
        }
      ]
    },
    {
      "cell_type": "markdown",
      "metadata": {
        "id": "rWDAhfc8i9bC",
        "colab_type": "text"
      },
      "source": [
        "### Pie and Bar function API\n",
        "http://matplotlib.org/api/pyplot_api.html"
      ]
    },
    {
      "cell_type": "code",
      "metadata": {
        "id": "p6OhC6xbnPGg",
        "colab_type": "code",
        "outputId": "36fe730e-4ce6-4291-a37b-79152381be46",
        "colab": {
          "base_uri": "https://localhost:8080/",
          "height": 0
        }
      },
      "source": [
        "# The slices will be ordered and plotted counter-clockwise.\n",
        "labels = 'Frogs', 'Hogs', 'Dogs', 'Logs'\n",
        "sizes = [15, 30, 45, 10] # x=sizes, the percentage main body of the chart\n",
        "colors = ['yellowgreen', 'gold', 'lightskyblue', 'lightcoral']\n",
        "explode = (0, 0.2, 0, 0)  # only \"explode\" the 2nd slice (i.e. 'Hogs')\n",
        "wedgeproperty = {'linewidth': 10, 'hatch': '/'}\n",
        "\n",
        "plt.pie(x=sizes, explode=explode, labels=labels, colors=colors,\n",
        "        autopct='%1.1f%%', shadow=True, startangle=180, wedgeprops = wedgeproperty, \n",
        "        textprops=dict(color=\"r\"), frame=True ) \n",
        "# Set aspect ratio to be equal so that pie is drawn as a circle.\n",
        "plt.axis('equal')  # a circle, rather than ellipse\n",
        "\n",
        "# matplotlib.pyplot.pie(x=[size], explode=None, labels=None, colors=None, autopct=None show percentage in 1.1f format etc, \n",
        "# pctdistance=0.6 percentage label to center disatance in radius ratio, \n",
        "# shadow=False, wedgeprops=None dict eg wedgeprops = {'linewidth': 10, 'hatch': '/'} https://matplotlib.org/api/_as_gen/matplotlib.patches.Wedge.html,\n",
        "# labeldistance=1.1 text abel to center disatance in radius ratio, startangle=None, radius=None size of the pie, counterclock=True, \n",
        "# textprops=None dict text property, center=(0, 0), frame=False add x,y frame, data=None)\n",
        "\n",
        "\n",
        "plt.show()\n",
        "\n",
        "# returns \n",
        "# patches : list\n",
        "#   sequence of matplotlib.patches.Wedge instances\n",
        "# texts : list\n",
        "#   is a list of the label matplotlib.text.Text instances.\n",
        "# autotexts : list\n",
        "#   is a list of Text instances for the numeric labels. Is returned only if parameter autopct is not None."
      ],
      "execution_count": 362,
      "outputs": [
        {
          "output_type": "display_data",
          "data": {
            "image/png": "[encoded data removed]",
            "text/plain": [
              "<Figure size 432x288 with 1 Axes>"
            ]
          },
          "metadata": {
            "tags": [],
            "needs_background": "light"
          }
        }
      ]
    },
    {
      "cell_type": "code",
      "metadata": {
        "id": "NXoyEqIXjUEN",
        "colab_type": "code",
        "outputId": "fad416dc-b7ca-4d9b-b826-b6470fe53239",
        "colab": {
          "base_uri": "https://localhost:8080/",
          "height": 0
        }
      },
      "source": [
        "N = 5\n",
        "menMeans = (20, 35, 30, 35, 27)\n",
        "menStd = (2, 3, 4, 1, 2)\n",
        "\n",
        "ind = np.arange(N)  # the x locations for the groups\n",
        "width = 0.35       # the width of the bars\n",
        "\n",
        "# matplotlib.pyplot.bar(left, height, width=0.8, bottom=None, hold=None, data=None, **kwargs)\n",
        "fig, ax = plt.subplots()\n",
        "rects1 = ax.bar(ind, menMeans, width, color='r', yerr=menStd)\n",
        "\n",
        "womenMeans = (25, 32, 34, 20, 25)\n",
        "womenStd = (3, 5, 2, 3, 3)\n",
        "rects2 = ax.bar(ind + width, womenMeans, width, color='y', yerr=womenStd)\n",
        "\n",
        "\n",
        "# add some text for labels, title and axes ticks\n",
        "ax.set_ylabel('Scores')\n",
        "ax.set_title('Scores by group and gender')\n",
        "\n",
        "ax.set_xticks(ind + width)\n",
        "ax.set_xticklabels(('G1', 'G2', 'G3', 'G4', 'G5'))\n",
        "\n",
        "ax.legend((rects1[0], rects2[0]), ('Men', 'Women'))\n",
        "\n",
        "\n",
        "plt.show()"
      ],
      "execution_count": 363,
      "outputs": [
        {
          "output_type": "display_data",
          "data": {
            "image/png": "[encoded data removed]",
            "text/plain": [
              "<Figure size 432x288 with 1 Axes>"
            ]
          },
          "metadata": {
            "tags": [],
            "needs_background": "light"
          }
        }
      ]
    },
    {
      "cell_type": "markdown",
      "metadata": {
        "id": "JdIceBUB00om",
        "colab_type": "text"
      },
      "source": [
        "For more complicated plots, [matplotlib's Gallery](https://matplotlib.org/gallery.html)\n",
        "More example from my github in [Gallery.ipynb](https://raw.githubusercontent.com/cmskzhan/helloworld/master/LearnNumpy/Ch%204/04_07/Finish/Gallery.ipynb)"
      ]
    },
    {
      "cell_type": "markdown",
      "metadata": {
        "id": "50tNXDrCdM6q",
        "colab_type": "text"
      },
      "source": [
        "##  Algos, Linear algebra and statistics"
      ]
    },
    {
      "cell_type": "markdown",
      "metadata": {
        "id": "O4WmZBSssFjs",
        "colab_type": "text"
      },
      "source": [
        "###Universal Function"
      ]
    },
    {
      "cell_type": "code",
      "metadata": {
        "id": "nlNqP65gjVed",
        "colab_type": "code",
        "colab": {}
      },
      "source": [
        "# simple function: truncated binomial: returns (x+1)**3 - (x)**3\n",
        "def truncated_binomial(x):\n",
        "    return (x+1)**3 - (x)**3\n",
        "\n",
        "np.testing.assert_equal (truncated_binomial(4), 61) #unit test the function output against result"
      ],
      "execution_count": 0,
      "outputs": []
    },
    {
      "cell_type": "code",
      "metadata": {
        "id": "nWKKKCp5rGxz",
        "colab_type": "code",
        "outputId": "9514d907-ed8f-4925-a1ad-bf24e5ce283e",
        "colab": {
          "base_uri": "https://localhost:8080/",
          "height": 34
        }
      },
      "source": [
        "# frompyfunc() Takes an arbitrary Python function and returns a NumPy ufunc.\n",
        "numpy_function = np.frompyfunc(truncated_binomial, 1, 1) # 1, 1 means input 1 output 1\n",
        "numpy_function"
      ],
      "execution_count": 365,
      "outputs": [
        {
          "output_type": "execute_result",
          "data": {
            "text/plain": [
              "<ufunc 'truncated_binomial (vectorized)'>"
            ]
          },
          "metadata": {
            "tags": []
          },
          "execution_count": 365
        }
      ]
    },
    {
      "cell_type": "code",
      "metadata": {
        "id": "KrIY-cZCr414",
        "colab_type": "code",
        "outputId": "55e2c07f-4d15-44ac-c15c-165f85e18686",
        "colab": {
          "base_uri": "https://localhost:8080/",
          "height": 34
        }
      },
      "source": [
        "a = np.arange(10)\n",
        "numpy_function(a)"
      ],
      "execution_count": 366,
      "outputs": [
        {
          "output_type": "execute_result",
          "data": {
            "text/plain": [
              "array([1, 7, 19, 37, 61, 91, 127, 169, 217, 271], dtype=object)"
            ]
          },
          "metadata": {
            "tags": []
          },
          "execution_count": 366
        }
      ]
    },
    {
      "cell_type": "code",
      "metadata": {
        "id": "IvxYdlpJsDnv",
        "colab_type": "code",
        "outputId": "83f0f4da-bbdb-471e-db31-5c4ec709033c",
        "colab": {
          "base_uri": "https://localhost:8080/",
          "height": 185
        }
      },
      "source": [
        "a_outer=np.outer(a,a)\n",
        "a_outer"
      ],
      "execution_count": 367,
      "outputs": [
        {
          "output_type": "execute_result",
          "data": {
            "text/plain": [
              "array([[ 0,  0,  0,  0,  0,  0,  0,  0,  0,  0],\n",
              "       [ 0,  1,  2,  3,  4,  5,  6,  7,  8,  9],\n",
              "       [ 0,  2,  4,  6,  8, 10, 12, 14, 16, 18],\n",
              "       [ 0,  3,  6,  9, 12, 15, 18, 21, 24, 27],\n",
              "       [ 0,  4,  8, 12, 16, 20, 24, 28, 32, 36],\n",
              "       [ 0,  5, 10, 15, 20, 25, 30, 35, 40, 45],\n",
              "       [ 0,  6, 12, 18, 24, 30, 36, 42, 48, 54],\n",
              "       [ 0,  7, 14, 21, 28, 35, 42, 49, 56, 63],\n",
              "       [ 0,  8, 16, 24, 32, 40, 48, 56, 64, 72],\n",
              "       [ 0,  9, 18, 27, 36, 45, 54, 63, 72, 81]])"
            ]
          },
          "metadata": {
            "tags": []
          },
          "execution_count": 367
        }
      ]
    },
    {
      "cell_type": "code",
      "metadata": {
        "id": "0yCByVjLsjoN",
        "colab_type": "code",
        "outputId": "9319ab73-ee37-4ee8-aed9-c8b129088dc5",
        "colab": {
          "base_uri": "https://localhost:8080/",
          "height": 202
        }
      },
      "source": [
        "numpy_function(a_outer)"
      ],
      "execution_count": 368,
      "outputs": [
        {
          "output_type": "execute_result",
          "data": {
            "text/plain": [
              "array([[1, 1, 1, 1, 1, 1, 1, 1, 1, 1],\n",
              "       [1, 7, 19, 37, 61, 91, 127, 169, 217, 271],\n",
              "       [1, 19, 61, 127, 217, 331, 469, 631, 817, 1027],\n",
              "       [1, 37, 127, 271, 469, 721, 1027, 1387, 1801, 2269],\n",
              "       [1, 61, 217, 469, 817, 1261, 1801, 2437, 3169, 3997],\n",
              "       [1, 91, 331, 721, 1261, 1951, 2791, 3781, 4921, 6211],\n",
              "       [1, 127, 469, 1027, 1801, 2791, 3997, 5419, 7057, 8911],\n",
              "       [1, 169, 631, 1387, 2437, 3781, 5419, 7351, 9577, 12097],\n",
              "       [1, 217, 817, 1801, 3169, 4921, 7057, 9577, 12481, 15769],\n",
              "       [1, 271, 1027, 2269, 3997, 6211, 8911, 12097, 15769, 19927]],\n",
              "      dtype=object)"
            ]
          },
          "metadata": {
            "tags": []
          },
          "execution_count": 368
        }
      ]
    },
    {
      "cell_type": "code",
      "metadata": {
        "id": "TvD70M-ntXLS",
        "colab_type": "code",
        "colab": {}
      },
      "source": [
        "# a simple np function to check if a number is integer\n",
        "def is_integer(x):\n",
        "    return np.equal(np.mod(x, 1), 0)\n",
        "\n",
        "numpy_function2_is_integer = np.frompyfunc(is_integer, 1, 1) #convert above function to universal function"
      ],
      "execution_count": 0,
      "outputs": []
    },
    {
      "cell_type": "markdown",
      "metadata": {
        "id": "r12faLmyvSWM",
        "colab_type": "text"
      },
      "source": [
        "Find long side of right angel triangel with sides less than 11\n",
        "\n",
        "\\begin{equation*}\n",
        "X^2 + Y^2 = Z^2\n",
        "\\end{equation*}"
      ]
    },
    {
      "cell_type": "code",
      "metadata": {
        "id": "aG3MpMF_xpOd",
        "colab_type": "code",
        "colab": {}
      },
      "source": [
        "x = np.arange(9) + 1\n",
        "y = np.arange(9) + 1"
      ],
      "execution_count": 0,
      "outputs": []
    },
    {
      "cell_type": "code",
      "metadata": {
        "id": "XSQR4I6hyEds",
        "colab_type": "code",
        "outputId": "806f5a0d-1814-4ce7-f5c3-4764fc785037",
        "colab": {
          "base_uri": "https://localhost:8080/",
          "height": 319
        }
      },
      "source": [
        "hypotenuse_squared = np.add.outer(x ** 2, y ** 2) \n",
        "hypotenuse= np.sqrt(hypotenuse_squared)\n",
        "hypotenuse"
      ],
      "execution_count": 371,
      "outputs": [
        {
          "output_type": "execute_result",
          "data": {
            "text/plain": [
              "array([[ 1.4142,  2.2361,  3.1623,  4.1231,  5.099 ,  6.0828,  7.0711,\n",
              "         8.0623,  9.0554],\n",
              "       [ 2.2361,  2.8284,  3.6056,  4.4721,  5.3852,  6.3246,  7.2801,\n",
              "         8.2462,  9.2195],\n",
              "       [ 3.1623,  3.6056,  4.2426,  5.    ,  5.831 ,  6.7082,  7.6158,\n",
              "         8.544 ,  9.4868],\n",
              "       [ 4.1231,  4.4721,  5.    ,  5.6569,  6.4031,  7.2111,  8.0623,\n",
              "         8.9443,  9.8489],\n",
              "       [ 5.099 ,  5.3852,  5.831 ,  6.4031,  7.0711,  7.8102,  8.6023,\n",
              "         9.434 , 10.2956],\n",
              "       [ 6.0828,  6.3246,  6.7082,  7.2111,  7.8102,  8.4853,  9.2195,\n",
              "        10.    , 10.8167],\n",
              "       [ 7.0711,  7.2801,  7.6158,  8.0623,  8.6023,  9.2195,  9.8995,\n",
              "        10.6301, 11.4018],\n",
              "       [ 8.0623,  8.2462,  8.544 ,  8.9443,  9.434 , 10.    , 10.6301,\n",
              "        11.3137, 12.0416],\n",
              "       [ 9.0554,  9.2195,  9.4868,  9.8489, 10.2956, 10.8167, 11.4018,\n",
              "        12.0416, 12.7279]])"
            ]
          },
          "metadata": {
            "tags": []
          },
          "execution_count": 371
        }
      ]
    },
    {
      "cell_type": "code",
      "metadata": {
        "id": "vhlcihVsyev2",
        "colab_type": "code",
        "outputId": "3afc0504-1439-425e-b7ed-266ecaaf7100",
        "colab": {
          "base_uri": "https://localhost:8080/",
          "height": 168
        }
      },
      "source": [
        "# mask them to find which ones are integer\n",
        "# first get the mask\n",
        "mask_non_int = numpy_function2_is_integer(hypotenuse)\n",
        "mask_non_int.astype(bool) #has to convert from object type to boolean type, o/w err"
      ],
      "execution_count": 372,
      "outputs": [
        {
          "output_type": "execute_result",
          "data": {
            "text/plain": [
              "array([[False, False, False, False, False, False, False, False, False],\n",
              "       [False, False, False, False, False, False, False, False, False],\n",
              "       [False, False, False,  True, False, False, False, False, False],\n",
              "       [False, False,  True, False, False, False, False, False, False],\n",
              "       [False, False, False, False, False, False, False, False, False],\n",
              "       [False, False, False, False, False, False, False,  True, False],\n",
              "       [False, False, False, False, False, False, False, False, False],\n",
              "       [False, False, False, False, False,  True, False, False, False],\n",
              "       [False, False, False, False, False, False, False, False, False]])"
            ]
          },
          "metadata": {
            "tags": []
          },
          "execution_count": 372
        }
      ]
    },
    {
      "cell_type": "code",
      "metadata": {
        "id": "nxHov4jaz6ac",
        "colab_type": "code",
        "outputId": "41ae2125-dce2-4932-b16b-708ed02279c7",
        "colab": {
          "base_uri": "https://localhost:8080/",
          "height": 34
        }
      },
      "source": [
        "# apply mask to get the result of long side of a right triangel\n",
        "filtered_nparray = hypotenuse[mask_non_int.astype(bool)]\n",
        "filtered_nparray"
      ],
      "execution_count": 373,
      "outputs": [
        {
          "output_type": "execute_result",
          "data": {
            "text/plain": [
              "array([ 5.,  5., 10., 10.])"
            ]
          },
          "metadata": {
            "tags": []
          },
          "execution_count": 373
        }
      ]
    },
    {
      "cell_type": "markdown",
      "metadata": {
        "id": "RsF9bgyivSWT",
        "colab_type": "text"
      },
      "source": [
        "For m and n positive integers, and m greater than n\n",
        "\\begin{equation*}\n",
        "X = m^2 - n^2;  \n",
        "Y = 2mn;  \n",
        "Z = m^2 + n^2\n",
        "\\end{equation*}"
      ]
    },
    {
      "cell_type": "markdown",
      "metadata": {
        "id": "fG_OT1ZC6lEy",
        "colab_type": "text"
      },
      "source": [
        "### Linear Algebra"
      ]
    },
    {
      "cell_type": "code",
      "metadata": {
        "id": "VhzyUTOb6oD8",
        "colab_type": "code",
        "outputId": "69c5ef93-e88c-4a77-e3d0-8630d6fa0d24",
        "colab": {
          "base_uri": "https://localhost:8080/",
          "height": 67
        }
      },
      "source": [
        "my_first_matrix = np.matrix([[3, 1, 4], [1, 5, 9], [2, 6, 5]])\n",
        "my_first_matrix"
      ],
      "execution_count": 374,
      "outputs": [
        {
          "output_type": "execute_result",
          "data": {
            "text/plain": [
              "matrix([[3, 1, 4],\n",
              "        [1, 5, 9],\n",
              "        [2, 6, 5]])"
            ]
          },
          "metadata": {
            "tags": []
          },
          "execution_count": 374
        }
      ]
    },
    {
      "cell_type": "code",
      "metadata": {
        "id": "Znp6Zne06tUr",
        "colab_type": "code",
        "outputId": "9b2eb1c0-9684-4aa5-feeb-85f2ff9e6bf6",
        "colab": {
          "base_uri": "https://localhost:8080/",
          "height": 118
        }
      },
      "source": [
        "# transpose\n",
        "print(my_first_matrix.T)\n",
        "# inverse\n",
        "print(my_first_matrix.I)"
      ],
      "execution_count": 375,
      "outputs": [
        {
          "output_type": "stream",
          "text": [
            "[[3 1 2]\n",
            " [1 5 6]\n",
            " [4 9 5]]\n",
            "[[ 0.3222 -0.2111  0.1222]\n",
            " [-0.1444 -0.0778  0.2556]\n",
            " [ 0.0444  0.1778 -0.1556]]\n"
          ],
          "name": "stdout"
        }
      ]
    },
    {
      "cell_type": "code",
      "metadata": {
        "id": "5vz8pmoX7FOT",
        "colab_type": "code",
        "outputId": "2fbb5536-fa3a-4e05-9f25-e21338634e37",
        "colab": {
          "base_uri": "https://localhost:8080/",
          "height": 101
        }
      },
      "source": [
        "# create an identity matrix\n",
        "np.eye(5) # my_matrix = np.asmatrix(np.eye(5, dtype='int')) to define dtype"
      ],
      "execution_count": 376,
      "outputs": [
        {
          "output_type": "execute_result",
          "data": {
            "text/plain": [
              "array([[1., 0., 0., 0., 0.],\n",
              "       [0., 1., 0., 0., 0.],\n",
              "       [0., 0., 1., 0., 0.],\n",
              "       [0., 0., 0., 1., 0.],\n",
              "       [0., 0., 0., 0., 1.]])"
            ]
          },
          "metadata": {
            "tags": []
          },
          "execution_count": 376
        }
      ]
    },
    {
      "cell_type": "markdown",
      "metadata": {
        "colab_type": "text",
        "id": "bFJL3lBr7XGo"
      },
      "source": [
        "\\begin{equation*}\n",
        "AX = C\n",
        "\\end{equation*}\n",
        "\\begin{equation*}\n",
        "X = A^{-1}C\n",
        "\\end{equation*}"
      ]
    },
    {
      "cell_type": "code",
      "metadata": {
        "id": "RsCy-DBV7gKQ",
        "colab_type": "code",
        "colab": {}
      },
      "source": [
        "c = np.matrix([[11],\n",
        "               [22],\n",
        "               [33]])"
      ],
      "execution_count": 0,
      "outputs": []
    },
    {
      "cell_type": "code",
      "metadata": {
        "id": "3RYZ8bkJ8fKf",
        "colab_type": "code",
        "outputId": "96f36052-62ea-46fd-9d62-812e247b239e",
        "colab": {
          "base_uri": "https://localhost:8080/",
          "height": 67
        }
      },
      "source": [
        "solution=my_first_matrix.I * c\n",
        "solution"
      ],
      "execution_count": 378,
      "outputs": [
        {
          "output_type": "execute_result",
          "data": {
            "text/plain": [
              "matrix([[ 2.9333],\n",
              "        [ 5.1333],\n",
              "        [-0.7333]])"
            ]
          },
          "metadata": {
            "tags": []
          },
          "execution_count": 378
        }
      ]
    },
    {
      "cell_type": "markdown",
      "metadata": {
        "id": "tBu-6JtN9H1x",
        "colab_type": "text"
      },
      "source": [
        "\\begin{equation*}\n",
        "AX - C = [0]\n",
        "\\end{equation*}"
      ]
    },
    {
      "cell_type": "code",
      "metadata": {
        "id": "_O5F8tpC8vck",
        "colab_type": "code",
        "outputId": "2819169c-74be-4cf2-cc9b-bec020246471",
        "colab": {
          "base_uri": "https://localhost:8080/",
          "height": 67
        }
      },
      "source": [
        "# confirm that solution is correct\n",
        "my_first_matrix * solution - c"
      ],
      "execution_count": 379,
      "outputs": [
        {
          "output_type": "execute_result",
          "data": {
            "text/plain": [
              "matrix([[-3.5527e-15],\n",
              "        [ 0.0000e+00],\n",
              "        [ 7.1054e-15]])"
            ]
          },
          "metadata": {
            "tags": []
          },
          "execution_count": 379
        }
      ]
    },
    {
      "cell_type": "code",
      "metadata": {
        "id": "F6F5iXTs8_Xh",
        "colab_type": "code",
        "outputId": "1391bc0e-6f23-42fd-f608-492c083f05ca",
        "colab": {
          "base_uri": "https://localhost:8080/",
          "height": 67
        }
      },
      "source": [
        "# to solve large matrices efficiently\n",
        "from numpy.linalg import solve\n",
        "solve(my_first_matrix, c)"
      ],
      "execution_count": 380,
      "outputs": [
        {
          "output_type": "execute_result",
          "data": {
            "text/plain": [
              "matrix([[ 2.9333],\n",
              "        [ 5.1333],\n",
              "        [-0.7333]])"
            ]
          },
          "metadata": {
            "tags": []
          },
          "execution_count": 380
        }
      ]
    },
    {
      "cell_type": "code",
      "metadata": {
        "id": "45fR-GFp90d3",
        "colab_type": "code",
        "outputId": "562c9043-9560-492d-e311-a055d821146e",
        "colab": {
          "base_uri": "https://localhost:8080/",
          "height": 67
        }
      },
      "source": [
        "# Compute the eigenvalues and right eigenvectors\n",
        "from numpy.linalg import eig\n",
        "eig(my_first_matrix)"
      ],
      "execution_count": 381,
      "outputs": [
        {
          "output_type": "execute_result",
          "data": {
            "text/plain": [
              "(array([13.0858,  2.58  , -2.6658]), matrix([[-0.3154, -0.9512, -0.3237],\n",
              "         [-0.7231,  0.3078, -0.7022],\n",
              "         [-0.6146,  0.0229,  0.6341]]))"
            ]
          },
          "metadata": {
            "tags": []
          },
          "execution_count": 381
        }
      ]
    },
    {
      "cell_type": "markdown",
      "metadata": {
        "id": "-WBTEWnc-luP",
        "colab_type": "text"
      },
      "source": [
        "### Arithmatic sequence"
      ]
    },
    {
      "cell_type": "code",
      "metadata": {
        "id": "7hwPsCf598DL",
        "colab_type": "code",
        "outputId": "9ec5869f-9c44-454e-96e8-4f836a20f771",
        "colab": {
          "base_uri": "https://localhost:8080/",
          "height": 34
        }
      },
      "source": [
        "my_teaser_array = np.array([1, 7, 19, 37, 61, 91, 127, 169, 217, 271, 331])\n",
        "np.diff(my_teaser_array)"
      ],
      "execution_count": 382,
      "outputs": [
        {
          "output_type": "execute_result",
          "data": {
            "text/plain": [
              "array([ 6, 12, 18, 24, 30, 36, 42, 48, 54, 60])"
            ]
          },
          "metadata": {
            "tags": []
          },
          "execution_count": 382
        }
      ]
    },
    {
      "cell_type": "code",
      "metadata": {
        "id": "7QS-ixE0-5f_",
        "colab_type": "code",
        "outputId": "964c2488-596c-49ae-b361-ab1e67c773e1",
        "colab": {
          "base_uri": "https://localhost:8080/",
          "height": 34
        }
      },
      "source": [
        "np.diff(my_teaser_array, n=2)"
      ],
      "execution_count": 383,
      "outputs": [
        {
          "output_type": "execute_result",
          "data": {
            "text/plain": [
              "array([6, 6, 6, 6, 6, 6, 6, 6, 6])"
            ]
          },
          "metadata": {
            "tags": []
          },
          "execution_count": 383
        }
      ]
    },
    {
      "cell_type": "code",
      "metadata": {
        "id": "oR53FdYE-7yn",
        "colab_type": "code",
        "outputId": "fa8cfeb0-17dd-49e1-a081-961c655ab87c",
        "colab": {
          "base_uri": "https://localhost:8080/",
          "height": 34
        }
      },
      "source": [
        "np.diff(my_teaser_array, n=3)"
      ],
      "execution_count": 384,
      "outputs": [
        {
          "output_type": "execute_result",
          "data": {
            "text/plain": [
              "array([0, 0, 0, 0, 0, 0, 0, 0])"
            ]
          },
          "metadata": {
            "tags": []
          },
          "execution_count": 384
        }
      ]
    },
    {
      "cell_type": "markdown",
      "metadata": {
        "id": "lFBBVqWXCH3_",
        "colab_type": "text"
      },
      "source": [
        "### Statistics with Scipy"
      ]
    },
    {
      "cell_type": "code",
      "metadata": {
        "id": "XlF0vXVE-8pG",
        "colab_type": "code",
        "outputId": "bee1fd35-3c1c-4b20-af70-acf82a24356d",
        "colab": {
          "base_uri": "https://localhost:8080/",
          "height": 34
        }
      },
      "source": [
        "%matplotlib inline\n",
        "import scipy as sp\n",
        "import numpy as np\n",
        "import matplotlib.pyplot as plt\n",
        "\n",
        "from scipy.stats import norm\n",
        "\n",
        "random_data_set = sp.randn(100) #normal distrubtion data set\n",
        "type(random_data_set)"
      ],
      "execution_count": 385,
      "outputs": [
        {
          "output_type": "execute_result",
          "data": {
            "text/plain": [
              "numpy.ndarray"
            ]
          },
          "metadata": {
            "tags": []
          },
          "execution_count": 385
        }
      ]
    },
    {
      "cell_type": "markdown",
      "metadata": {
        "id": "-mdovYP9_qQK",
        "colab_type": "text"
      },
      "source": [
        "#### descriptive statistics\n",
        "##### mean"
      ]
    },
    {
      "cell_type": "code",
      "metadata": {
        "id": "Mc_g3bzE_qQK",
        "colab_type": "code",
        "outputId": "3447fd90-e9e2-4979-c42b-59534122e4e2",
        "colab": {
          "base_uri": "https://localhost:8080/",
          "height": 50
        }
      },
      "source": [
        "print(random_data_set.mean())\n",
        "print(sp.mean(random_data_set))"
      ],
      "execution_count": 386,
      "outputs": [
        {
          "output_type": "stream",
          "text": [
            "0.027387840414101142\n",
            "0.027387840414101142\n"
          ],
          "name": "stdout"
        }
      ]
    },
    {
      "cell_type": "markdown",
      "metadata": {
        "id": "x2zpcjRu_qQN",
        "colab_type": "text"
      },
      "source": [
        "##### median"
      ]
    },
    {
      "cell_type": "code",
      "metadata": {
        "id": "IJzG8iKJ_qQO",
        "colab_type": "code",
        "outputId": "8e1c6c60-605b-440f-b8bb-bec6ca912ec9",
        "colab": {
          "base_uri": "https://localhost:8080/",
          "height": 34
        }
      },
      "source": [
        "#ndarray don't have median method/attribute\n",
        "sp.median(random_data_set)\n"
      ],
      "execution_count": 387,
      "outputs": [
        {
          "output_type": "execute_result",
          "data": {
            "text/plain": [
              "0.06853837168915111"
            ]
          },
          "metadata": {
            "tags": []
          },
          "execution_count": 387
        }
      ]
    },
    {
      "cell_type": "markdown",
      "metadata": {
        "id": "vKKkgd0J_qQR",
        "colab_type": "text"
      },
      "source": [
        "##### minimum and maximum"
      ]
    },
    {
      "cell_type": "code",
      "metadata": {
        "id": "xFgpNqSZ_qQR",
        "colab_type": "code",
        "outputId": "54628744-3ec6-42ca-ae4f-0d4b0520bf57",
        "colab": {
          "base_uri": "https://localhost:8080/",
          "height": 34
        }
      },
      "source": [
        "# max, min only in nparray method, scipy has maximum in different meaning\n",
        "min_max = np.array([random_data_set.min(), random_data_set.max()])\n",
        "min_max"
      ],
      "execution_count": 388,
      "outputs": [
        {
          "output_type": "execute_result",
          "data": {
            "text/plain": [
              "array([-2.8122,  2.5855])"
            ]
          },
          "metadata": {
            "tags": []
          },
          "execution_count": 388
        }
      ]
    },
    {
      "cell_type": "markdown",
      "metadata": {
        "id": "GKWwUWX__qQW",
        "colab_type": "text"
      },
      "source": [
        "##### standard deviation and variance"
      ]
    },
    {
      "cell_type": "code",
      "metadata": {
        "id": "1sPpzJi5_qQX",
        "colab_type": "code",
        "outputId": "a04b8043-f852-4cb6-b1bc-2902cf01a323",
        "colab": {
          "base_uri": "https://localhost:8080/",
          "height": 34
        }
      },
      "source": [
        "spread_measures = np.array([sp.std(random_data_set), sp.var(random_data_set)])\n",
        "spread_measures"
      ],
      "execution_count": 389,
      "outputs": [
        {
          "output_type": "execute_result",
          "data": {
            "text/plain": [
              "array([1.046 , 1.0941])"
            ]
          },
          "metadata": {
            "tags": []
          },
          "execution_count": 389
        }
      ]
    },
    {
      "cell_type": "code",
      "metadata": {
        "id": "Kts7gCW9_qQc",
        "colab_type": "code",
        "outputId": "9e4cb26d-7b97-424e-adfe-9702cd037148",
        "colab": {
          "base_uri": "https://localhost:8080/",
          "height": 54
        }
      },
      "source": [
        "sp.stats.describe(random_data_set)"
      ],
      "execution_count": 390,
      "outputs": [
        {
          "output_type": "execute_result",
          "data": {
            "text/plain": [
              "DescribeResult(nobs=100, minmax=(-2.812239738725175, 2.5855335368029464), mean=0.027387840414101142, variance=1.105162626304107, skewness=-0.2385627561271856, kurtosis=0.3375755079436056)"
            ]
          },
          "metadata": {
            "tags": []
          },
          "execution_count": 390
        }
      ]
    },
    {
      "cell_type": "markdown",
      "metadata": {
        "id": "PeVKQKEe_qQh",
        "colab_type": "text"
      },
      "source": [
        "#### Probability Distributions\n",
        "- continuous distributions\n",
        "    - Normal: norm\n",
        "    - Chi squared: chi2\n",
        "    - Student's T: t\n",
        "    - Uniform: uniform\n",
        "- discrete distributions\n",
        "    - Poisson: poisson\n",
        "    - Binomial: binomial"
      ]
    },
    {
      "cell_type": "markdown",
      "metadata": {
        "id": "JCeqG-hR_qQi",
        "colab_type": "text"
      },
      "source": [
        "##### Normal Distribution\n",
        "documentation: http://docs.scipy.org/doc/scipy-0.16.0/reference/generated/scipy.stats.norm.html"
      ]
    },
    {
      "cell_type": "code",
      "metadata": {
        "id": "gEbqboxvwB7m",
        "colab_type": "code",
        "outputId": "91d36ae1-bc67-452f-fbf8-547367062a28",
        "colab": {
          "base_uri": "https://localhost:8080/",
          "height": 151
        }
      },
      "source": [
        "# assume an area's people's IQ\n",
        "iq_mean = 100\n",
        "iq_std_dev = 15\n",
        "iq_distribution = norm(loc=iq_mean, scale=iq_std_dev)\n",
        "for n in np.arange(8):\n",
        "    print('{:6.2f}'.format(iq_distribution.rvs())) # rvs is random variable function"
      ],
      "execution_count": 391,
      "outputs": [
        {
          "output_type": "stream",
          "text": [
            "109.02\n",
            " 86.62\n",
            " 99.25\n",
            "111.22\n",
            "117.18\n",
            " 96.06\n",
            " 98.95\n",
            "110.92\n"
          ],
          "name": "stdout"
        }
      ]
    },
    {
      "cell_type": "markdown",
      "metadata": {
        "id": "Av8qGrOm_qQn",
        "colab_type": "text"
      },
      "source": [
        "probability density function (PDF)\n",
        "\n",
        "For continuous variates, PDF is proportional to the probability of the variate being in a small interval about the input parameter"
      ]
    },
    {
      "cell_type": "code",
      "metadata": {
        "id": "K8yET3gHwoeH",
        "colab_type": "code",
        "outputId": "d604ea34-986b-4ab9-848a-1f3159f6da18",
        "colab": {
          "base_uri": "https://localhost:8080/",
          "height": 34
        }
      },
      "source": [
        "iq_pdf = iq_distribution.pdf(110)\n",
        "print('{:6.2f}'.format(iq_pdf))"
      ],
      "execution_count": 392,
      "outputs": [
        {
          "output_type": "stream",
          "text": [
            "  0.02\n"
          ],
          "name": "stdout"
        }
      ]
    },
    {
      "cell_type": "markdown",
      "metadata": {
        "id": "XkKiNyUDyMAG",
        "colab_type": "text"
      },
      "source": [
        "cumulative density function (CDF)\n",
        "\n",
        "For continuous variates, CDF gives the probability that the variate has a value less than or equal to the input parameter"
      ]
    },
    {
      "cell_type": "code",
      "metadata": {
        "id": "JpJpHMtax9wm",
        "colab_type": "code",
        "outputId": "8dd7d5b5-219f-4255-f49a-7c5274739548",
        "colab": {
          "base_uri": "https://localhost:8080/",
          "height": 34
        }
      },
      "source": [
        "iq_value = 120\n",
        "iq_below = iq_distribution.cdf (iq_value)\n",
        "iq_above = 1 - iq_below\n",
        "print('Probability that IQ is below{:4d} is {:4.2f}; probability above: {:4.2f}'.format(iq_value, iq_below, iq_above))"
      ],
      "execution_count": 393,
      "outputs": [
        {
          "output_type": "stream",
          "text": [
            "Probability that IQ is below 120 is 0.91; probability above: 0.09\n"
          ],
          "name": "stdout"
        }
      ]
    },
    {
      "cell_type": "code",
      "metadata": {
        "id": "YtUujo_WySPT",
        "colab_type": "code",
        "outputId": "5164839e-714d-4664-8e67-65574f1befae",
        "colab": {
          "base_uri": "https://localhost:8080/",
          "height": 295
        }
      },
      "source": [
        "#draw me a picture\n",
        "mu, sigma = 100, 15\n",
        "data_set = mu + sigma * np.random.randn(10000)\n",
        "\n",
        "# the histogram of the data\n",
        "n, bins, patches = plt.hist(data_set, 50, normed=1, facecolor='g', alpha=0.75)\n",
        "\n",
        "plt.xlabel('IQ Score')\n",
        "plt.ylabel('Probability')\n",
        "plt.title('Histogram of IQ')\n",
        "plt.text(60, .025, r'$\\mu=100,\\ \\sigma=15$')\n",
        "plt.axis([40, 160, 0, 0.03])\n",
        "plt.grid(True)\n",
        "plt.show()"
      ],
      "execution_count": 394,
      "outputs": [
        {
          "output_type": "display_data",
          "data": {
            "image/png": "[encoded data removed]",
            "text/plain": [
              "<Figure size 432x288 with 1 Axes>"
            ]
          },
          "metadata": {
            "tags": [],
            "needs_background": "light"
          }
        }
      ]
    },
    {
      "cell_type": "code",
      "metadata": {
        "id": "8BnlHvh6ybvH",
        "colab_type": "code",
        "colab": {}
      },
      "source": [
        ""
      ],
      "execution_count": 0,
      "outputs": []
    }
  ]
}
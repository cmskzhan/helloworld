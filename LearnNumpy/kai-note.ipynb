{
  "nbformat": 4,
  "nbformat_minor": 0,
  "metadata": {
    "kernelspec": {
      "display_name": "Python 2",
      "language": "python",
      "name": "python2"
    },
    "language_info": {
      "codemirror_mode": {
        "name": "ipython",
        "version": 2
      },
      "file_extension": ".py",
      "mimetype": "text/x-python",
      "name": "python",
      "nbconvert_exporter": "python",
      "pygments_lexer": "ipython2",
      "version": "2.7.11"
    },
    "colab": {
      "name": "Creating Arrays from Python Structures-checkpoint.ipynb",
      "provenance": []
    }
  },
  "cells": [
    {
      "cell_type": "markdown",
      "metadata": {
        "id": "P18y1y_syZv_",
        "colab_type": "text"
      },
      "source": [
        "<h1>Create NumPy arrays using Python's \"array like\" data types</h1>\n"
      ]
    },
    {
      "cell_type": "code",
      "metadata": {
        "id": "0ldeJOzOyeHX",
        "colab_type": "code",
        "outputId": "9d8a7825-f92a-4c12-d339-95742a57301c",
        "colab": {
          "base_uri": "https://localhost:8080/",
          "height": 34
        }
      },
      "source": [
        "import numpy as np \n",
        "print(np.__version__)"
      ],
      "execution_count": 44,
      "outputs": [
        {
          "output_type": "stream",
          "text": [
            "1.16.4\n"
          ],
          "name": "stdout"
        }
      ]
    },
    {
      "cell_type": "code",
      "metadata": {
        "id": "TqsoqXBTyp1o",
        "colab_type": "code",
        "outputId": "84de52e4-4d74-4530-e6d6-e8ff5eaa1c0c",
        "colab": {
          "base_uri": "https://localhost:8080/",
          "height": 34
        }
      },
      "source": [
        "my_list = [-17, 0, 4, 5, 29]\n",
        "np_array=np.array(my_list)\n",
        "print(np_array) "
      ],
      "execution_count": 45,
      "outputs": [
        {
          "output_type": "stream",
          "text": [
            "[-17   0   4   5  29]\n"
          ],
          "name": "stdout"
        }
      ]
    },
    {
      "cell_type": "markdown",
      "metadata": {
        "id": "IY_GexWR2v9S",
        "colab_type": "text"
      },
      "source": [
        "## multiply * works differently between python types and np typy"
      ]
    },
    {
      "cell_type": "code",
      "metadata": {
        "id": "byFpvbATyzUE",
        "colab_type": "code",
        "outputId": "e43aac89-5db9-4897-bf78-6596d4060986",
        "colab": {
          "base_uri": "https://localhost:8080/",
          "height": 50
        }
      },
      "source": [
        "my_list_10x=my_list*10\n",
        "print(my_list_10x)\n",
        "np_array_10x=np_array*10\n",
        "print(np_array_10x)"
      ],
      "execution_count": 46,
      "outputs": [
        {
          "output_type": "stream",
          "text": [
            "[-17, 0, 4, 5, 29, -17, 0, 4, 5, 29, -17, 0, 4, 5, 29, -17, 0, 4, 5, 29, -17, 0, 4, 5, 29, -17, 0, 4, 5, 29, -17, 0, 4, 5, 29, -17, 0, 4, 5, 29, -17, 0, 4, 5, 29, -17, 0, 4, 5, 29]\n",
            "[-170    0   40   50  290]\n"
          ],
          "name": "stdout"
        }
      ]
    },
    {
      "cell_type": "markdown",
      "metadata": {
        "id": "HRVsjBCi0_Sn",
        "colab_type": "text"
      },
      "source": [
        "##complex and tuple"
      ]
    },
    {
      "cell_type": "code",
      "metadata": {
        "id": "byvClJ4jzd_L",
        "colab_type": "code",
        "outputId": "aa98a4a0-a31f-4225-91c2-2789a54192a8",
        "colab": {
          "base_uri": "https://localhost:8080/",
          "height": 50
        }
      },
      "source": [
        "tupleToNumpy=(14, -3.14, 4+3j); tupleToNumpy2=(-14, 3.21)  #int, float, complex, np array keeps elements of array uniform\n",
        "numpyFromTuple=np.array(tupleToNumpy)\n",
        "numpyFromTuple2=np.array(tupleToNumpy2)\n",
        "print(numpyFromTuple)\n",
        "print(numpyFromTuple2)\n"
      ],
      "execution_count": 47,
      "outputs": [
        {
          "output_type": "stream",
          "text": [
            "[14.  +0.j -3.14+0.j  4.  +3.j]\n",
            "[-14.     3.21]\n"
          ],
          "name": "stdout"
        }
      ]
    },
    {
      "cell_type": "markdown",
      "metadata": {
        "id": "TmrvJMfV2x5q",
        "colab_type": "text"
      },
      "source": [
        "## shallow and deep copy"
      ]
    },
    {
      "cell_type": "code",
      "metadata": {
        "id": "v0rhLlQv26pF",
        "colab_type": "code",
        "outputId": "307321ce-069c-400f-f959-f9579686d7d8",
        "colab": {
          "base_uri": "https://localhost:8080/",
          "height": 84
        }
      },
      "source": [
        "nplist1=np.arange(10)\n",
        "nplist2=nplist1   #shallow copy alternatively nplist2 = nplist1.view()\n",
        "print(nplist1 is nplist2) # true, point to the same memory\n",
        "print(id(nplist1)) #memory location\n",
        "print(id(nplist2)) #memory location\n",
        "\n",
        "nplist1[1]=8;\n",
        "print(nplist2)"
      ],
      "execution_count": 48,
      "outputs": [
        {
          "output_type": "stream",
          "text": [
            "True\n",
            "139752658993600\n",
            "139752658993600\n",
            "[0 8 2 3 4 5 6 7 8 9]\n"
          ],
          "name": "stdout"
        }
      ]
    },
    {
      "cell_type": "code",
      "metadata": {
        "id": "-RhB3wnv33NT",
        "colab_type": "code",
        "outputId": "cd7fcef7-8180-49a7-c73e-855458753d9a",
        "colab": {
          "base_uri": "https://localhost:8080/",
          "height": 202
        }
      },
      "source": [
        "nplist2.shape=(5,2)\n",
        "print(\"nplist1 =\", nplist1)\n",
        "print(\"nplist2 =\", nplist2)\n",
        "print(nplist1 is nplist2)"
      ],
      "execution_count": 49,
      "outputs": [
        {
          "output_type": "stream",
          "text": [
            "('nplist1 =', array([[0, 8],\n",
            "       [2, 3],\n",
            "       [4, 5],\n",
            "       [6, 7],\n",
            "       [8, 9]]))\n",
            "('nplist2 =', array([[0, 8],\n",
            "       [2, 3],\n",
            "       [4, 5],\n",
            "       [6, 7],\n",
            "       [8, 9]]))\n",
            "True\n"
          ],
          "name": "stdout"
        }
      ]
    },
    {
      "cell_type": "code",
      "metadata": {
        "id": "OVDBpeCc6F3L",
        "colab_type": "code",
        "outputId": "93c6e7ab-f6ed-4e41-dffc-0da7614182d5",
        "colab": {
          "base_uri": "https://localhost:8080/",
          "height": 34
        }
      },
      "source": [
        "nplist3 = nplist2.copy() #deep copy\n",
        "nplist3 is nplist2"
      ],
      "execution_count": 50,
      "outputs": [
        {
          "output_type": "execute_result",
          "data": {
            "text/plain": [
              "False"
            ]
          },
          "metadata": {
            "tags": []
          },
          "execution_count": 50
        }
      ]
    },
    {
      "cell_type": "markdown",
      "metadata": {
        "id": "kwL0RMLNGjY9",
        "colab_type": "text"
      },
      "source": [
        "##simple methods"
      ]
    },
    {
      "cell_type": "code",
      "metadata": {
        "id": "0D-y3wJ20KBA",
        "colab_type": "code",
        "outputId": "b163ad0e-80fe-41bb-b853-da0b71090910",
        "colab": {
          "base_uri": "https://localhost:8080/",
          "height": 34
        }
      },
      "source": [
        "# numpy.arange([start, ]stop, [step, ]dtype=None) official url by google np.arange\n",
        "np.arange(10,30,2)*10-3"
      ],
      "execution_count": 51,
      "outputs": [
        {
          "output_type": "execute_result",
          "data": {
            "text/plain": [
              "array([ 97, 117, 137, 157, 177, 197, 217, 237, 257, 277])"
            ]
          },
          "metadata": {
            "tags": []
          },
          "execution_count": 51
        }
      ]
    },
    {
      "cell_type": "code",
      "metadata": {
        "id": "P_RN65tGGJZi",
        "colab_type": "code",
        "outputId": "6544fd52-eea8-4216-ec6d-eb22530b8dfb",
        "colab": {
          "base_uri": "https://localhost:8080/",
          "height": 34
        }
      },
      "source": [
        "np.arange(20,step=4)"
      ],
      "execution_count": 52,
      "outputs": [
        {
          "output_type": "execute_result",
          "data": {
            "text/plain": [
              "array([ 0,  4,  8, 12, 16])"
            ]
          },
          "metadata": {
            "tags": []
          },
          "execution_count": 52
        }
      ]
    },
    {
      "cell_type": "code",
      "metadata": {
        "id": "g8PlH0EkEqgG",
        "colab_type": "code",
        "outputId": "c0ef9781-301a-4923-e533-bc1a437ed67f",
        "colab": {
          "base_uri": "https://localhost:8080/",
          "height": 34
        }
      },
      "source": [
        "nparray=(np.arange(10,30,2)-3)*10\n",
        "nparray"
      ],
      "execution_count": 53,
      "outputs": [
        {
          "output_type": "execute_result",
          "data": {
            "text/plain": [
              "array([ 70,  90, 110, 130, 150, 170, 190, 210, 230, 250])"
            ]
          },
          "metadata": {
            "tags": []
          },
          "execution_count": 53
        }
      ]
    },
    {
      "cell_type": "code",
      "metadata": {
        "id": "JfrRTVVsE0tE",
        "colab_type": "code",
        "outputId": "7aa69c51-24d7-4002-d485-9bb7aca1eb05",
        "colab": {
          "base_uri": "https://localhost:8080/",
          "height": 34
        }
      },
      "source": [
        "nparray.size # this only gives number of elements"
      ],
      "execution_count": 54,
      "outputs": [
        {
          "output_type": "execute_result",
          "data": {
            "text/plain": [
              "10"
            ]
          },
          "metadata": {
            "tags": []
          },
          "execution_count": 54
        }
      ]
    },
    {
      "cell_type": "code",
      "metadata": {
        "id": "O6aiy8J7FQh9",
        "colab_type": "code",
        "outputId": "0da951e8-f243-4e50-b389-f8e17e745866",
        "colab": {
          "base_uri": "https://localhost:8080/",
          "height": 50
        }
      },
      "source": [
        "np.linspace(0,30,10,True)"
      ],
      "execution_count": 55,
      "outputs": [
        {
          "output_type": "execute_result",
          "data": {
            "text/plain": [
              "array([ 0.        ,  3.33333333,  6.66666667, 10.        , 13.33333333,\n",
              "       16.66666667, 20.        , 23.33333333, 26.66666667, 30.        ])"
            ]
          },
          "metadata": {
            "tags": []
          },
          "execution_count": 55
        }
      ]
    },
    {
      "cell_type": "markdown",
      "metadata": {
        "id": "f8qJ8YvWH7Jz",
        "colab_type": "text"
      },
      "source": [
        "##indexing, shaping (dimension), slicing, adding, removing and other multiplating"
      ]
    },
    {
      "cell_type": "code",
      "metadata": {
        "id": "2Fen7Qm-FV9M",
        "colab_type": "code",
        "outputId": "773ecabb-f205-45b5-e3cb-1c0fa9db735d",
        "colab": {
          "base_uri": "https://localhost:8080/",
          "height": 34
        }
      },
      "source": [
        "z=np.zeros(20)\n",
        "z[10]"
      ],
      "execution_count": 56,
      "outputs": [
        {
          "output_type": "execute_result",
          "data": {
            "text/plain": [
              "0.0"
            ]
          },
          "metadata": {
            "tags": []
          },
          "execution_count": 56
        }
      ]
    },
    {
      "cell_type": "code",
      "metadata": {
        "id": "IDPsv4DPJsaz",
        "colab_type": "code",
        "outputId": "0dd3a5d6-27ae-4267-cd55-56b641367d8f",
        "colab": {
          "base_uri": "https://localhost:8080/",
          "height": 50
        }
      },
      "source": [
        "z[10]=9;z[0]=10; z[-1]=7.5; z[-2]=-2.1\n",
        "z"
      ],
      "execution_count": 57,
      "outputs": [
        {
          "output_type": "execute_result",
          "data": {
            "text/plain": [
              "array([10. ,  0. ,  0. ,  0. ,  0. ,  0. ,  0. ,  0. ,  0. ,  0. ,  9. ,\n",
              "        0. ,  0. ,  0. ,  0. ,  0. ,  0. ,  0. , -2.1,  7.5])"
            ]
          },
          "metadata": {
            "tags": []
          },
          "execution_count": 57
        }
      ]
    },
    {
      "cell_type": "code",
      "metadata": {
        "id": "o-ENMCQiIfMx",
        "colab_type": "code",
        "outputId": "99c6bd13-e688-4956-9ea5-699b77c0de78",
        "colab": {
          "base_uri": "https://localhost:8080/",
          "height": 67
        }
      },
      "source": [
        "o=np.ones((3,3), dtype=int)\n",
        "o"
      ],
      "execution_count": 58,
      "outputs": [
        {
          "output_type": "execute_result",
          "data": {
            "text/plain": [
              "array([[1, 1, 1],\n",
              "       [1, 1, 1],\n",
              "       [1, 1, 1]])"
            ]
          },
          "metadata": {
            "tags": []
          },
          "execution_count": 58
        }
      ]
    },
    {
      "cell_type": "code",
      "metadata": {
        "id": "3J0NdeaWIxtX",
        "colab_type": "code",
        "outputId": "2ff5f96e-a546-465a-9a2c-8d4d2b8b88a9",
        "colab": {
          "base_uri": "https://localhost:8080/",
          "height": 84
        }
      },
      "source": [
        "z.shape=(4,5)\n",
        "z"
      ],
      "execution_count": 59,
      "outputs": [
        {
          "output_type": "execute_result",
          "data": {
            "text/plain": [
              "array([[10. ,  0. ,  0. ,  0. ,  0. ],\n",
              "       [ 0. ,  0. ,  0. ,  0. ,  0. ],\n",
              "       [ 9. ,  0. ,  0. ,  0. ,  0. ],\n",
              "       [ 0. ,  0. ,  0. , -2.1,  7.5]])"
            ]
          },
          "metadata": {
            "tags": []
          },
          "execution_count": 59
        }
      ]
    },
    {
      "cell_type": "code",
      "metadata": {
        "id": "yr_-7IOBKiqe",
        "colab_type": "code",
        "outputId": "733b04bf-1675-4b11-bcaf-1af7c834dd40",
        "colab": {
          "base_uri": "https://localhost:8080/",
          "height": 101
        }
      },
      "source": [
        "z.shape=(2,2,5)   #convert from 2-d to 3-d np array\n",
        "z"
      ],
      "execution_count": 60,
      "outputs": [
        {
          "output_type": "execute_result",
          "data": {
            "text/plain": [
              "array([[[10. ,  0. ,  0. ,  0. ,  0. ],\n",
              "        [ 0. ,  0. ,  0. ,  0. ,  0. ]],\n",
              "\n",
              "       [[ 9. ,  0. ,  0. ,  0. ,  0. ],\n",
              "        [ 0. ,  0. ,  0. , -2.1,  7.5]]])"
            ]
          },
          "metadata": {
            "tags": []
          },
          "execution_count": 60
        }
      ]
    },
    {
      "cell_type": "code",
      "metadata": {
        "id": "rtWYhzY1Ko9z",
        "colab_type": "code",
        "outputId": "4abd402a-5e17-4c65-9f4b-4f1e67ad9abb",
        "colab": {
          "base_uri": "https://localhost:8080/",
          "height": 34
        }
      },
      "source": [
        "z[1][1]"
      ],
      "execution_count": 61,
      "outputs": [
        {
          "output_type": "execute_result",
          "data": {
            "text/plain": [
              "array([ 0. ,  0. ,  0. , -2.1,  7.5])"
            ]
          },
          "metadata": {
            "tags": []
          },
          "execution_count": 61
        }
      ]
    },
    {
      "cell_type": "code",
      "metadata": {
        "id": "xUVF3-VULDP-",
        "colab_type": "code",
        "outputId": "f385c0f3-dd9b-4638-c433-67628efff384",
        "colab": {
          "base_uri": "https://localhost:8080/",
          "height": 34
        }
      },
      "source": [
        "z[1,0][0]"
      ],
      "execution_count": 62,
      "outputs": [
        {
          "output_type": "execute_result",
          "data": {
            "text/plain": [
              "9.0"
            ]
          },
          "metadata": {
            "tags": []
          },
          "execution_count": 62
        }
      ]
    },
    {
      "cell_type": "code",
      "metadata": {
        "id": "QL7EkGkEKx2m",
        "colab_type": "code",
        "outputId": "990f915f-cf17-4477-c440-970878b9d1bf",
        "colab": {
          "base_uri": "https://localhost:8080/",
          "height": 50
        }
      },
      "source": [
        "z[0]"
      ],
      "execution_count": 63,
      "outputs": [
        {
          "output_type": "execute_result",
          "data": {
            "text/plain": [
              "array([[10.,  0.,  0.,  0.,  0.],\n",
              "       [ 0.,  0.,  0.,  0.,  0.]])"
            ]
          },
          "metadata": {
            "tags": []
          },
          "execution_count": 63
        }
      ]
    },
    {
      "cell_type": "code",
      "metadata": {
        "id": "lgJD4WNzwgI_",
        "colab_type": "code",
        "outputId": "d7f554cc-c5e7-4d73-c0b8-fdd78a402591",
        "colab": {
          "base_uri": "https://localhost:8080/",
          "height": 218
        }
      },
      "source": [
        "print(z)\n",
        "print(z.ndim) #show dimension\n",
        "print(z.size) #show total elements\n",
        "print(z[0].shape) #show actual metrics shape\n",
        "print(z.dtype) # show data type in the metrix\n",
        "print(z.sum()) # sum all the elements in metrix. this can be used in combination with filters(boolean mask array below\n",
        "print(z.sum(axis=1)) # will learn this in broadcasting - operation along axis"
      ],
      "execution_count": 64,
      "outputs": [
        {
          "output_type": "stream",
          "text": [
            "[[[10.   0.   0.   0.   0. ]\n",
            "  [ 0.   0.   0.   0.   0. ]]\n",
            "\n",
            " [[ 9.   0.   0.   0.   0. ]\n",
            "  [ 0.   0.   0.  -2.1  7.5]]]\n",
            "3\n",
            "20\n",
            "(2, 5)\n",
            "float64\n",
            "24.4\n",
            "[[10.   0.   0.   0.   0. ]\n",
            " [ 9.   0.   0.  -2.1  7.5]]\n"
          ],
          "name": "stdout"
        }
      ]
    },
    {
      "cell_type": "code",
      "metadata": {
        "id": "CU3LziYE7c8N",
        "colab_type": "code",
        "outputId": "5618253d-7511-4c87-89e4-3bba0c7d3de7",
        "colab": {
          "base_uri": "https://localhost:8080/",
          "height": 67
        }
      },
      "source": [
        "y=np.append(z, [2.2, 3.3, 4.4, 55, -9]) # notice, we can't z.append, not such method \n",
        "print(y)\n",
        "print(y.shape) # append would simply change the shape to vector/np.list\n"
      ],
      "execution_count": 65,
      "outputs": [
        {
          "output_type": "stream",
          "text": [
            "[10.   0.   0.   0.   0.   0.   0.   0.   0.   0.   9.   0.   0.   0.\n",
            "  0.   0.   0.   0.  -2.1  7.5  2.2  3.3  4.4 55.  -9. ]\n",
            "(25,)\n"
          ],
          "name": "stdout"
        }
      ]
    },
    {
      "cell_type": "code",
      "metadata": {
        "id": "sEJ_Mikv_kYY",
        "colab_type": "code",
        "outputId": "70342670-4e8b-4c18-b366-433bcee511b0",
        "colab": {
          "base_uri": "https://localhost:8080/",
          "height": 134
        }
      },
      "source": [
        "# add a row\n",
        "y=y.reshape(5,5)\n",
        "y=np.append(y, [[7, 7, 7, 7, 7]], axis=0) \n",
        "print(y)\n",
        "print(y.shape)"
      ],
      "execution_count": 66,
      "outputs": [
        {
          "output_type": "stream",
          "text": [
            "[[10.   0.   0.   0.   0. ]\n",
            " [ 0.   0.   0.   0.   0. ]\n",
            " [ 9.   0.   0.   0.   0. ]\n",
            " [ 0.   0.   0.  -2.1  7.5]\n",
            " [ 2.2  3.3  4.4 55.  -9. ]\n",
            " [ 7.   7.   7.   7.   7. ]]\n",
            "(6, 5)\n"
          ],
          "name": "stdout"
        }
      ]
    },
    {
      "cell_type": "code",
      "metadata": {
        "id": "VtGxUB9ODexz",
        "colab_type": "code",
        "outputId": "f8207deb-7004-4efc-bf25-0404350fcdd0",
        "colab": {
          "base_uri": "https://localhost:8080/",
          "height": 218
        }
      },
      "source": [
        "# add a column\n",
        "column6=np.ones((6,1))*6\n",
        "print(column6)\n",
        "y=np.append(y, column6, axis=1) \n",
        "y"
      ],
      "execution_count": 67,
      "outputs": [
        {
          "output_type": "stream",
          "text": [
            "[[6.]\n",
            " [6.]\n",
            " [6.]\n",
            " [6.]\n",
            " [6.]\n",
            " [6.]]\n"
          ],
          "name": "stdout"
        },
        {
          "output_type": "execute_result",
          "data": {
            "text/plain": [
              "array([[10. ,  0. ,  0. ,  0. ,  0. ,  6. ],\n",
              "       [ 0. ,  0. ,  0. ,  0. ,  0. ,  6. ],\n",
              "       [ 9. ,  0. ,  0. ,  0. ,  0. ,  6. ],\n",
              "       [ 0. ,  0. ,  0. , -2.1,  7.5,  6. ],\n",
              "       [ 2.2,  3.3,  4.4, 55. , -9. ,  6. ],\n",
              "       [ 7. ,  7. ,  7. ,  7. ,  7. ,  6. ]])"
            ]
          },
          "metadata": {
            "tags": []
          },
          "execution_count": 67
        }
      ]
    },
    {
      "cell_type": "code",
      "metadata": {
        "id": "SchC0Q2R6RCe",
        "colab_type": "code",
        "outputId": "b7f5ac57-e018-48ca-8cb0-305161277cdc",
        "colab": {
          "base_uri": "https://localhost:8080/",
          "height": 269
        }
      },
      "source": [
        "# flatten (return copy) / ravel (return view)\n",
        "rav_y = y.ravel()\n",
        "flatten_y=y.flatten()\n",
        "print(id(y))\n",
        "print(y)\n",
        "print(id(rav_y))\n",
        "print(rav_y)\n",
        "print(id(flatten_y))\n",
        "print(flatten_y)"
      ],
      "execution_count": 68,
      "outputs": [
        {
          "output_type": "stream",
          "text": [
            "139752658994400\n",
            "[[10.   0.   0.   0.   0.   6. ]\n",
            " [ 0.   0.   0.   0.   0.   6. ]\n",
            " [ 9.   0.   0.   0.   0.   6. ]\n",
            " [ 0.   0.   0.  -2.1  7.5  6. ]\n",
            " [ 2.2  3.3  4.4 55.  -9.   6. ]\n",
            " [ 7.   7.   7.   7.   7.   6. ]]\n",
            "139752657990640\n",
            "[10.   0.   0.   0.   0.   6.   0.   0.   0.   0.   0.   6.   9.   0.\n",
            "  0.   0.   0.   6.   0.   0.   0.  -2.1  7.5  6.   2.2  3.3  4.4 55.\n",
            " -9.   6.   7.   7.   7.   7.   7.   6. ]\n",
            "139752657990080\n",
            "[10.   0.   0.   0.   0.   6.   0.   0.   0.   0.   0.   6.   9.   0.\n",
            "  0.   0.   0.   6.   0.   0.   0.  -2.1  7.5  6.   2.2  3.3  4.4 55.\n",
            " -9.   6.   7.   7.   7.   7.   7.   6. ]\n"
          ],
          "name": "stdout"
        }
      ]
    },
    {
      "cell_type": "code",
      "metadata": {
        "id": "lwASHFVG-B2e",
        "colab_type": "code",
        "outputId": "b5fcf3e0-29f9-4f42-ca07-a67b69ff0ba7",
        "colab": {
          "base_uri": "https://localhost:8080/",
          "height": 638
        }
      },
      "source": [
        "#note flat returns iterator instead\n",
        "print(type(y.flat))\n",
        "for i in y.flat:\n",
        "  print i"
      ],
      "execution_count": 69,
      "outputs": [
        {
          "output_type": "stream",
          "text": [
            "<type 'numpy.flatiter'>\n",
            "10.0\n",
            "0.0\n",
            "0.0\n",
            "0.0\n",
            "0.0\n",
            "6.0\n",
            "0.0\n",
            "0.0\n",
            "0.0\n",
            "0.0\n",
            "0.0\n",
            "6.0\n",
            "9.0\n",
            "0.0\n",
            "0.0\n",
            "0.0\n",
            "0.0\n",
            "6.0\n",
            "0.0\n",
            "0.0\n",
            "0.0\n",
            "-2.1\n",
            "7.5\n",
            "6.0\n",
            "2.2\n",
            "3.3\n",
            "4.4\n",
            "55.0\n",
            "-9.0\n",
            "6.0\n",
            "7.0\n",
            "7.0\n",
            "7.0\n",
            "7.0\n",
            "7.0\n",
            "6.0\n"
          ],
          "name": "stdout"
        }
      ]
    },
    {
      "cell_type": "code",
      "metadata": {
        "id": "5dUIDUkRAKGw",
        "colab_type": "code",
        "outputId": "947c217a-a890-4e74-d1ec-4c30ece98662",
        "colab": {
          "base_uri": "https://localhost:8080/",
          "height": 118
        }
      },
      "source": [
        "for i in y:\n",
        "  print i"
      ],
      "execution_count": 70,
      "outputs": [
        {
          "output_type": "stream",
          "text": [
            "[10.  0.  0.  0.  0.  6.]\n",
            "[0. 0. 0. 0. 0. 6.]\n",
            "[9. 0. 0. 0. 0. 6.]\n",
            "[ 0.   0.   0.  -2.1  7.5  6. ]\n",
            "[ 2.2  3.3  4.4 55.  -9.   6. ]\n",
            "[7. 7. 7. 7. 7. 6.]\n"
          ],
          "name": "stdout"
        }
      ]
    },
    {
      "cell_type": "markdown",
      "metadata": {
        "id": "s3Q9oy5fFnPl",
        "colab_type": "text"
      },
      "source": [
        "### 3-d append axis 0,1,2  horizontal stacking = axis 0, insert numbers to axis 0,1,2 and finally delete\n",
        "\n"
      ]
    },
    {
      "cell_type": "code",
      "metadata": {
        "id": "XlDve6rZFyfI",
        "colab_type": "code",
        "outputId": "5bf5fd94-449a-4150-fd5a-326686471c66",
        "colab": {
          "base_uri": "https://localhost:8080/",
          "height": 0
        }
      },
      "source": [
        "y = np.ones((2,2,2))\n",
        "z = np.ones((2,2,2))*2\n",
        "\n",
        "x=np.append(y,z, axis=0 )\n",
        "x"
      ],
      "execution_count": 71,
      "outputs": [
        {
          "output_type": "execute_result",
          "data": {
            "text/plain": [
              "array([[[1., 1.],\n",
              "        [1., 1.]],\n",
              "\n",
              "       [[1., 1.],\n",
              "        [1., 1.]],\n",
              "\n",
              "       [[2., 2.],\n",
              "        [2., 2.]],\n",
              "\n",
              "       [[2., 2.],\n",
              "        [2., 2.]]])"
            ]
          },
          "metadata": {
            "tags": []
          },
          "execution_count": 71
        }
      ]
    },
    {
      "cell_type": "code",
      "metadata": {
        "id": "VE6ovebYH3zV",
        "colab_type": "code",
        "outputId": "e49907e7-13c0-4a47-cb6d-51c67149412a",
        "colab": {
          "base_uri": "https://localhost:8080/",
          "height": 0
        }
      },
      "source": [
        "x=np.append(y,z, axis=1 )\n",
        "x"
      ],
      "execution_count": 72,
      "outputs": [
        {
          "output_type": "execute_result",
          "data": {
            "text/plain": [
              "array([[[1., 1.],\n",
              "        [1., 1.],\n",
              "        [2., 2.],\n",
              "        [2., 2.]],\n",
              "\n",
              "       [[1., 1.],\n",
              "        [1., 1.],\n",
              "        [2., 2.],\n",
              "        [2., 2.]]])"
            ]
          },
          "metadata": {
            "tags": []
          },
          "execution_count": 72
        }
      ]
    },
    {
      "cell_type": "code",
      "metadata": {
        "id": "nrdffx2YH8o3",
        "colab_type": "code",
        "outputId": "db0e6b96-84c7-4d78-ef6b-67b4544a5d1e",
        "colab": {
          "base_uri": "https://localhost:8080/",
          "height": 0
        }
      },
      "source": [
        "x=np.append(y,z, axis=2 )\n",
        "x"
      ],
      "execution_count": 73,
      "outputs": [
        {
          "output_type": "execute_result",
          "data": {
            "text/plain": [
              "array([[[1., 1., 2., 2.],\n",
              "        [1., 1., 2., 2.]],\n",
              "\n",
              "       [[1., 1., 2., 2.],\n",
              "        [1., 1., 2., 2.]]])"
            ]
          },
          "metadata": {
            "tags": []
          },
          "execution_count": 73
        }
      ]
    },
    {
      "cell_type": "code",
      "metadata": {
        "id": "Z7CkjMQLIe0h",
        "colab_type": "code",
        "outputId": "668a307f-b407-4b90-a697-ef163a5d573d",
        "colab": {
          "base_uri": "https://localhost:8080/",
          "height": 0
        }
      },
      "source": [
        "x = np.hstack((y,z))\n",
        "x"
      ],
      "execution_count": 74,
      "outputs": [
        {
          "output_type": "execute_result",
          "data": {
            "text/plain": [
              "array([[[1., 1.],\n",
              "        [1., 1.],\n",
              "        [2., 2.],\n",
              "        [2., 2.]],\n",
              "\n",
              "       [[1., 1.],\n",
              "        [1., 1.],\n",
              "        [2., 2.],\n",
              "        [2., 2.]]])"
            ]
          },
          "metadata": {
            "tags": []
          },
          "execution_count": 74
        }
      ]
    },
    {
      "cell_type": "markdown",
      "metadata": {
        "id": "iPErB5390nMu",
        "colab_type": "text"
      },
      "source": [
        "for insert, can reference https://numpy.org/doc/stable/reference/generated/numpy.insert.html, notice the funny behavior for a scalar insertion"
      ]
    },
    {
      "cell_type": "code",
      "metadata": {
        "id": "BBPWTy_yKON2",
        "colab_type": "code",
        "outputId": "720f4617-4ec8-44af-97f2-e3beb3cdfc0b",
        "colab": {
          "base_uri": "https://localhost:8080/",
          "height": 0
        }
      },
      "source": [
        "x1=np.insert(x, 2, 5)\n",
        "x1"
      ],
      "execution_count": 75,
      "outputs": [
        {
          "output_type": "execute_result",
          "data": {
            "text/plain": [
              "array([1., 1., 5., 1., 1., 2., 2., 2., 2., 1., 1., 1., 1., 2., 2., 2., 2.])"
            ]
          },
          "metadata": {
            "tags": []
          },
          "execution_count": 75
        }
      ]
    },
    {
      "cell_type": "code",
      "metadata": {
        "id": "sTpnwFHT1Drk",
        "colab_type": "code",
        "outputId": "22046fe3-bb94-499c-dc18-0a10c8bb7652",
        "colab": {
          "base_uri": "https://localhost:8080/",
          "height": 0
        }
      },
      "source": [
        "x1=np.insert(x, 1, 6, axis=0)\n",
        "x1"
      ],
      "execution_count": 76,
      "outputs": [
        {
          "output_type": "execute_result",
          "data": {
            "text/plain": [
              "array([[[1., 1.],\n",
              "        [1., 1.],\n",
              "        [2., 2.],\n",
              "        [2., 2.]],\n",
              "\n",
              "       [[6., 6.],\n",
              "        [6., 6.],\n",
              "        [6., 6.],\n",
              "        [6., 6.]],\n",
              "\n",
              "       [[1., 1.],\n",
              "        [1., 1.],\n",
              "        [2., 2.],\n",
              "        [2., 2.]]])"
            ]
          },
          "metadata": {
            "tags": []
          },
          "execution_count": 76
        }
      ]
    },
    {
      "cell_type": "code",
      "metadata": {
        "id": "oT13AMrR2L9X",
        "colab_type": "code",
        "outputId": "9f1807a7-8a8e-40b5-f0ed-1086e192d8e5",
        "colab": {
          "base_uri": "https://localhost:8080/",
          "height": 0
        }
      },
      "source": [
        "x1=np.insert(x, 3, 6, axis=1)\n",
        "x1"
      ],
      "execution_count": 77,
      "outputs": [
        {
          "output_type": "execute_result",
          "data": {
            "text/plain": [
              "array([[[1., 1.],\n",
              "        [1., 1.],\n",
              "        [2., 2.],\n",
              "        [6., 6.],\n",
              "        [2., 2.]],\n",
              "\n",
              "       [[1., 1.],\n",
              "        [1., 1.],\n",
              "        [2., 2.],\n",
              "        [6., 6.],\n",
              "        [2., 2.]]])"
            ]
          },
          "metadata": {
            "tags": []
          },
          "execution_count": 77
        }
      ]
    },
    {
      "cell_type": "code",
      "metadata": {
        "id": "OMX19SO844lV",
        "colab_type": "code",
        "outputId": "ac331ee6-6b42-467f-b435-dc5165910350",
        "colab": {
          "base_uri": "https://localhost:8080/",
          "height": 0
        }
      },
      "source": [
        "x1=np.delete(x, 1)\n",
        "x1"
      ],
      "execution_count": 78,
      "outputs": [
        {
          "output_type": "execute_result",
          "data": {
            "text/plain": [
              "array([1., 1., 1., 2., 2., 2., 2., 1., 1., 1., 1., 2., 2., 2., 2.])"
            ]
          },
          "metadata": {
            "tags": []
          },
          "execution_count": 78
        }
      ]
    },
    {
      "cell_type": "code",
      "metadata": {
        "id": "iaacckQL5N-O",
        "colab_type": "code",
        "outputId": "2c0e8d17-9d03-4345-e3b8-28983885052c",
        "colab": {
          "base_uri": "https://localhost:8080/",
          "height": 0
        }
      },
      "source": [
        "x1=np.delete(x, 1, axis=2)\n",
        "x1"
      ],
      "execution_count": 79,
      "outputs": [
        {
          "output_type": "execute_result",
          "data": {
            "text/plain": [
              "array([[[1.],\n",
              "        [1.],\n",
              "        [2.],\n",
              "        [2.]],\n",
              "\n",
              "       [[1.],\n",
              "        [1.],\n",
              "        [2.],\n",
              "        [2.]]])"
            ]
          },
          "metadata": {
            "tags": []
          },
          "execution_count": 79
        }
      ]
    },
    {
      "cell_type": "markdown",
      "metadata": {
        "id": "JNhwh6u05zYO",
        "colab_type": "text"
      },
      "source": [
        "### Slicing and Concatenating"
      ]
    },
    {
      "cell_type": "code",
      "metadata": {
        "id": "zKUCCPXI5_0x",
        "colab_type": "code",
        "outputId": "8c791bd0-3f06-4fb8-b539-4c0c1a0af02a",
        "colab": {
          "base_uri": "https://localhost:8080/",
          "height": 0
        }
      },
      "source": [
        "# concatenate \n",
        "a = np.array([[1,2],[3,4]])\n",
        "b = np.array([[5,6]])\n",
        "c = np.concatenate((a,b), axis=0)\n",
        "c"
      ],
      "execution_count": 80,
      "outputs": [
        {
          "output_type": "execute_result",
          "data": {
            "text/plain": [
              "array([[1, 2],\n",
              "       [3, 4],\n",
              "       [5, 6]])"
            ]
          },
          "metadata": {
            "tags": []
          },
          "execution_count": 80
        }
      ]
    },
    {
      "cell_type": "code",
      "metadata": {
        "id": "zNg1rbMD86XG",
        "colab_type": "code",
        "outputId": "bd8b6ded-8eda-4276-a827-6c95d27bb833",
        "colab": {
          "base_uri": "https://localhost:8080/",
          "height": 0
        }
      },
      "source": [
        "# Stack\n",
        "a = np.arange(24)\n",
        "a.shape=(2,3,4)\n",
        "print('before stacking=', a)\n",
        "stack0=np.stack(a, axis=0)\n",
        "print('stack_axis0 =', stack0)\n",
        "print('stack_axis0 shape =', stack0.shape)\n",
        "print('')\n",
        "stack1=np.stack(a, axis=1)\n",
        "print('stack_axis1 =', stack1)\n",
        "print('stack_axis1 shape =', stack1.shape)\n",
        "print('')\n",
        "stack2=np.stack(a, axis=2)\n",
        "print('stack_axis2 =', stack2)\n",
        "print('stack_axis2 shape =', stack2.shape)"
      ],
      "execution_count": 81,
      "outputs": [
        {
          "output_type": "stream",
          "text": [
            "('before stacking=', array([[[ 0,  1,  2,  3],\n",
            "        [ 4,  5,  6,  7],\n",
            "        [ 8,  9, 10, 11]],\n",
            "\n",
            "       [[12, 13, 14, 15],\n",
            "        [16, 17, 18, 19],\n",
            "        [20, 21, 22, 23]]]))\n",
            "('stack_axis0 =', array([[[ 0,  1,  2,  3],\n",
            "        [ 4,  5,  6,  7],\n",
            "        [ 8,  9, 10, 11]],\n",
            "\n",
            "       [[12, 13, 14, 15],\n",
            "        [16, 17, 18, 19],\n",
            "        [20, 21, 22, 23]]]))\n",
            "('stack_axis0 shape =', (2, 3, 4))\n",
            "\n",
            "('stack_axis1 =', array([[[ 0,  1,  2,  3],\n",
            "        [12, 13, 14, 15]],\n",
            "\n",
            "       [[ 4,  5,  6,  7],\n",
            "        [16, 17, 18, 19]],\n",
            "\n",
            "       [[ 8,  9, 10, 11],\n",
            "        [20, 21, 22, 23]]]))\n",
            "('stack_axis1 shape =', (3, 2, 4))\n",
            "\n",
            "('stack_axis2 =', array([[[ 0, 12],\n",
            "        [ 1, 13],\n",
            "        [ 2, 14],\n",
            "        [ 3, 15]],\n",
            "\n",
            "       [[ 4, 16],\n",
            "        [ 5, 17],\n",
            "        [ 6, 18],\n",
            "        [ 7, 19]],\n",
            "\n",
            "       [[ 8, 20],\n",
            "        [ 9, 21],\n",
            "        [10, 22],\n",
            "        [11, 23]]]))\n",
            "('stack_axis2 shape =', (3, 4, 2))\n"
          ],
          "name": "stdout"
        }
      ]
    },
    {
      "cell_type": "markdown",
      "metadata": {
        "id": "5Udpqe-wWVrA",
        "colab_type": "text"
      },
      "source": [
        "2D stack is like transpose"
      ]
    },
    {
      "cell_type": "code",
      "metadata": {
        "id": "c34F4tIcUKXI",
        "colab_type": "code",
        "outputId": "b7d0d5c9-1717-4bae-8f4b-bbbecb858583",
        "colab": {
          "base_uri": "https://localhost:8080/",
          "height": 0
        }
      },
      "source": [
        "a = np.arange(12)\n",
        "a.shape=(3,4)\n",
        "a"
      ],
      "execution_count": 82,
      "outputs": [
        {
          "output_type": "execute_result",
          "data": {
            "text/plain": [
              "array([[ 0,  1,  2,  3],\n",
              "       [ 4,  5,  6,  7],\n",
              "       [ 8,  9, 10, 11]])"
            ]
          },
          "metadata": {
            "tags": []
          },
          "execution_count": 82
        }
      ]
    },
    {
      "cell_type": "code",
      "metadata": {
        "id": "p67WVo4jUpee",
        "colab_type": "code",
        "outputId": "15b1fbdd-ce83-4038-f2d8-1e369c10a2a2",
        "colab": {
          "base_uri": "https://localhost:8080/",
          "height": 0
        }
      },
      "source": [
        "a1=np.stack(a, axis=1)\n",
        "a1"
      ],
      "execution_count": 84,
      "outputs": [
        {
          "output_type": "execute_result",
          "data": {
            "text/plain": [
              "array([[ 0,  4,  8],\n",
              "       [ 1,  5,  9],\n",
              "       [ 2,  6, 10],\n",
              "       [ 3,  7, 11]])"
            ]
          },
          "metadata": {
            "tags": []
          },
          "execution_count": 84
        }
      ]
    },
    {
      "cell_type": "markdown",
      "metadata": {
        "id": "JxzLrfROhRus",
        "colab_type": "text"
      },
      "source": [
        "Split"
      ]
    },
    {
      "cell_type": "code",
      "metadata": {
        "id": "XwQ5hheDhWnB",
        "colab_type": "code",
        "outputId": "7a0474a8-f294-4e8d-a83f-5f0a4798c542",
        "colab": {
          "base_uri": "https://localhost:8080/",
          "height": 0
        }
      },
      "source": [
        "print(a)\n",
        "a2 = np.split(a, 2, axis=1)\n",
        "a2"
      ],
      "execution_count": 83,
      "outputs": [
        {
          "output_type": "stream",
          "text": [
            "[[ 0  1  2  3]\n",
            " [ 4  5  6  7]\n",
            " [ 8  9 10 11]]\n"
          ],
          "name": "stdout"
        },
        {
          "output_type": "execute_result",
          "data": {
            "text/plain": [
              "[array([[0, 1],\n",
              "        [4, 5],\n",
              "        [8, 9]]), array([[ 2,  3],\n",
              "        [ 6,  7],\n",
              "        [10, 11]])]"
            ]
          },
          "metadata": {
            "tags": []
          },
          "execution_count": 83
        }
      ]
    },
    {
      "cell_type": "markdown",
      "metadata": {
        "id": "6dNnCOMIdaoP",
        "colab_type": "text"
      },
      "source": [
        "### Flipping, tranposing, tiling and repeating"
      ]
    },
    {
      "cell_type": "code",
      "metadata": {
        "id": "B7r1SYMPdrjv",
        "colab_type": "code",
        "outputId": "0f0163b6-26b7-4565-db90-64210a17d5ec",
        "colab": {
          "base_uri": "https://localhost:8080/",
          "height": 67
        }
      },
      "source": [
        "#flip left right\n",
        "a_3x4_nparray = np.arange(12).reshape((3,4))\n",
        "a_3x4_nparray"
      ],
      "execution_count": 85,
      "outputs": [
        {
          "output_type": "execute_result",
          "data": {
            "text/plain": [
              "array([[ 0,  1,  2,  3],\n",
              "       [ 4,  5,  6,  7],\n",
              "       [ 8,  9, 10, 11]])"
            ]
          },
          "metadata": {
            "tags": []
          },
          "execution_count": 85
        }
      ]
    },
    {
      "cell_type": "code",
      "metadata": {
        "id": "-x2Q-H6eeOem",
        "colab_type": "code",
        "outputId": "1bda7146-4c11-40bf-b7ef-f56fc079c226",
        "colab": {
          "base_uri": "https://localhost:8080/",
          "height": 67
        }
      },
      "source": [
        "np.fliplr(a_3x4_nparray)"
      ],
      "execution_count": 86,
      "outputs": [
        {
          "output_type": "execute_result",
          "data": {
            "text/plain": [
              "array([[ 3,  2,  1,  0],\n",
              "       [ 7,  6,  5,  4],\n",
              "       [11, 10,  9,  8]])"
            ]
          },
          "metadata": {
            "tags": []
          },
          "execution_count": 86
        }
      ]
    },
    {
      "cell_type": "code",
      "metadata": {
        "id": "14u-dtYGelgn",
        "colab_type": "code",
        "outputId": "dcaa7072-b96a-474c-9c30-d979982a3dad",
        "colab": {
          "base_uri": "https://localhost:8080/",
          "height": 134
        }
      },
      "source": [
        "a_2x3x2_nparray = np.arange(12).reshape((2,3,2))\n",
        "a_2x3x2_nparray"
      ],
      "execution_count": 88,
      "outputs": [
        {
          "output_type": "execute_result",
          "data": {
            "text/plain": [
              "array([[[ 0,  1],\n",
              "        [ 2,  3],\n",
              "        [ 4,  5]],\n",
              "\n",
              "       [[ 6,  7],\n",
              "        [ 8,  9],\n",
              "        [10, 11]]])"
            ]
          },
          "metadata": {
            "tags": []
          },
          "execution_count": 88
        }
      ]
    },
    {
      "cell_type": "code",
      "metadata": {
        "id": "x2psDM5We61N",
        "colab_type": "code",
        "outputId": "ab846f2d-fb77-4801-927c-ca7976ba82dc",
        "colab": {
          "base_uri": "https://localhost:8080/",
          "height": 134
        }
      },
      "source": [
        "np.fliplr(a_2x3x2_nparray)  # flip \"last index\""
      ],
      "execution_count": 90,
      "outputs": [
        {
          "output_type": "execute_result",
          "data": {
            "text/plain": [
              "array([[[ 4,  5],\n",
              "        [ 2,  3],\n",
              "        [ 0,  1]],\n",
              "\n",
              "       [[10, 11],\n",
              "        [ 8,  9],\n",
              "        [ 6,  7]]])"
            ]
          },
          "metadata": {
            "tags": []
          },
          "execution_count": 90
        }
      ]
    },
    {
      "cell_type": "code",
      "metadata": {
        "id": "Y7-zmyovfSRA",
        "colab_type": "code",
        "outputId": "44056425-7dc0-4347-922c-8fec392b8540",
        "colab": {
          "base_uri": "https://localhost:8080/",
          "height": 67
        }
      },
      "source": [
        "# flip up and down\n",
        "np.flipud(a_3x4_nparray)"
      ],
      "execution_count": 91,
      "outputs": [
        {
          "output_type": "execute_result",
          "data": {
            "text/plain": [
              "array([[ 8,  9, 10, 11],\n",
              "       [ 4,  5,  6,  7],\n",
              "       [ 0,  1,  2,  3]])"
            ]
          },
          "metadata": {
            "tags": []
          },
          "execution_count": 91
        }
      ]
    },
    {
      "cell_type": "code",
      "metadata": {
        "id": "VHKRh49ufo7n",
        "colab_type": "code",
        "outputId": "2f03d0e4-e2da-48f5-d05b-ae8981723e58",
        "colab": {
          "base_uri": "https://localhost:8080/",
          "height": 134
        }
      },
      "source": [
        "np.flipud(a_2x3x2_nparray) # index axis 0"
      ],
      "execution_count": 92,
      "outputs": [
        {
          "output_type": "execute_result",
          "data": {
            "text/plain": [
              "array([[[ 6,  7],\n",
              "        [ 8,  9],\n",
              "        [10, 11]],\n",
              "\n",
              "       [[ 0,  1],\n",
              "        [ 2,  3],\n",
              "        [ 4,  5]]])"
            ]
          },
          "metadata": {
            "tags": []
          },
          "execution_count": 92
        }
      ]
    },
    {
      "cell_type": "code",
      "metadata": {
        "id": "vu7IwNONgctr",
        "colab_type": "code",
        "outputId": "7a5efa42-13f7-4f8b-c42d-ed1c2e8b8df3",
        "colab": {
          "base_uri": "https://localhost:8080/",
          "height": 67
        }
      },
      "source": [
        "# move tail to head\n",
        "np.roll(a_3x4_nparray, 2)"
      ],
      "execution_count": 93,
      "outputs": [
        {
          "output_type": "execute_result",
          "data": {
            "text/plain": [
              "array([[10, 11,  0,  1],\n",
              "       [ 2,  3,  4,  5],\n",
              "       [ 6,  7,  8,  9]])"
            ]
          },
          "metadata": {
            "tags": []
          },
          "execution_count": 93
        }
      ]
    },
    {
      "cell_type": "code",
      "metadata": {
        "id": "_mISkkSIgt1K",
        "colab_type": "code",
        "outputId": "e3df0380-603c-4f47-f9c3-ce4575799dab",
        "colab": {
          "base_uri": "https://localhost:8080/",
          "height": 67
        }
      },
      "source": [
        "# move head to tail\n",
        "np.roll(a_3x4_nparray, -3)"
      ],
      "execution_count": 94,
      "outputs": [
        {
          "output_type": "execute_result",
          "data": {
            "text/plain": [
              "array([[ 3,  4,  5,  6],\n",
              "       [ 7,  8,  9, 10],\n",
              "       [11,  0,  1,  2]])"
            ]
          },
          "metadata": {
            "tags": []
          },
          "execution_count": 94
        }
      ]
    },
    {
      "cell_type": "code",
      "metadata": {
        "id": "fe-L1t3Ug5pC",
        "colab_type": "code",
        "outputId": "978d95bc-ed88-46b7-c5e1-f0b4b96348d3",
        "colab": {
          "base_uri": "https://localhost:8080/",
          "height": 134
        }
      },
      "source": [
        "np.roll(a_2x3x2_nparray, 2)"
      ],
      "execution_count": 95,
      "outputs": [
        {
          "output_type": "execute_result",
          "data": {
            "text/plain": [
              "array([[[10, 11],\n",
              "        [ 0,  1],\n",
              "        [ 2,  3]],\n",
              "\n",
              "       [[ 4,  5],\n",
              "        [ 6,  7],\n",
              "        [ 8,  9]]])"
            ]
          },
          "metadata": {
            "tags": []
          },
          "execution_count": 95
        }
      ]
    },
    {
      "cell_type": "code",
      "metadata": {
        "id": "EaywzTJwhDZG",
        "colab_type": "code",
        "outputId": "1efc91d5-e18b-4748-e7e0-243465c18fd0",
        "colab": {
          "base_uri": "https://localhost:8080/",
          "height": 84
        }
      },
      "source": [
        "np.rot90(a_3x4_nparray) #counter clock wise is positive rotate"
      ],
      "execution_count": 96,
      "outputs": [
        {
          "output_type": "execute_result",
          "data": {
            "text/plain": [
              "array([[ 3,  7, 11],\n",
              "       [ 2,  6, 10],\n",
              "       [ 1,  5,  9],\n",
              "       [ 0,  4,  8]])"
            ]
          },
          "metadata": {
            "tags": []
          },
          "execution_count": 96
        }
      ]
    },
    {
      "cell_type": "code",
      "metadata": {
        "id": "EOUDma6ZhUPS",
        "colab_type": "code",
        "outputId": "af2f8e2f-a0ff-4a68-daa7-3edd9b5ab3c8",
        "colab": {
          "base_uri": "https://localhost:8080/",
          "height": 84
        }
      },
      "source": [
        "np.rot90(a_3x4_nparray, -1) #clock wise rotate"
      ],
      "execution_count": 97,
      "outputs": [
        {
          "output_type": "execute_result",
          "data": {
            "text/plain": [
              "array([[ 8,  4,  0],\n",
              "       [ 9,  5,  1],\n",
              "       [10,  6,  2],\n",
              "       [11,  7,  3]])"
            ]
          },
          "metadata": {
            "tags": []
          },
          "execution_count": 97
        }
      ]
    },
    {
      "cell_type": "code",
      "metadata": {
        "id": "M4IJy8K7hb35",
        "colab_type": "code",
        "outputId": "16fcf6d6-309c-47c4-d11a-b3a7e1c63929",
        "colab": {
          "base_uri": "https://localhost:8080/",
          "height": 134
        }
      },
      "source": [
        "np.rot90(a_2x3x2_nparray, 1, axes=(0,2)) # define an axe for it to rota"
      ],
      "execution_count": 98,
      "outputs": [
        {
          "output_type": "execute_result",
          "data": {
            "text/plain": [
              "array([[[ 1,  7],\n",
              "        [ 3,  9],\n",
              "        [ 5, 11]],\n",
              "\n",
              "       [[ 0,  6],\n",
              "        [ 2,  8],\n",
              "        [ 4, 10]]])"
            ]
          },
          "metadata": {
            "tags": []
          },
          "execution_count": 98
        }
      ]
    },
    {
      "cell_type": "code",
      "metadata": {
        "id": "QbcU8n-bhx4L",
        "colab_type": "code",
        "outputId": "e629cbf2-22f8-42f4-8ce3-8afbe38f6dbb",
        "colab": {
          "base_uri": "https://localhost:8080/",
          "height": 84
        }
      },
      "source": [
        "# 1-d array won't transpose\n",
        "np.transpose(a_3x4_nparray)"
      ],
      "execution_count": 99,
      "outputs": [
        {
          "output_type": "execute_result",
          "data": {
            "text/plain": [
              "array([[ 0,  4,  8],\n",
              "       [ 1,  5,  9],\n",
              "       [ 2,  6, 10],\n",
              "       [ 3,  7, 11]])"
            ]
          },
          "metadata": {
            "tags": []
          },
          "execution_count": 99
        }
      ]
    },
    {
      "cell_type": "code",
      "metadata": {
        "id": "7dn5qNJFh-Bb",
        "colab_type": "code",
        "outputId": "0cfb046a-3990-4db6-851b-2c90bd12f580",
        "colab": {
          "base_uri": "https://localhost:8080/",
          "height": 101
        }
      },
      "source": [
        "np.transpose(a_2x3x2_nparray, axes=(0,2,1))"
      ],
      "execution_count": 100,
      "outputs": [
        {
          "output_type": "execute_result",
          "data": {
            "text/plain": [
              "array([[[ 0,  2,  4],\n",
              "        [ 1,  3,  5]],\n",
              "\n",
              "       [[ 6,  8, 10],\n",
              "        [ 7,  9, 11]]])"
            ]
          },
          "metadata": {
            "tags": []
          },
          "execution_count": 100
        }
      ]
    },
    {
      "cell_type": "code",
      "metadata": {
        "id": "93g5ci_NiNAh",
        "colab_type": "code",
        "outputId": "1fe1a439-de10-4f9f-f355-9b4dc32deafe",
        "colab": {
          "base_uri": "https://localhost:8080/",
          "height": 134
        }
      },
      "source": [
        "np.swapaxes(a_2x3x2_nparray, 0,2)"
      ],
      "execution_count": 101,
      "outputs": [
        {
          "output_type": "execute_result",
          "data": {
            "text/plain": [
              "array([[[ 0,  6],\n",
              "        [ 2,  8],\n",
              "        [ 4, 10]],\n",
              "\n",
              "       [[ 1,  7],\n",
              "        [ 3,  9],\n",
              "        [ 5, 11]]])"
            ]
          },
          "metadata": {
            "tags": []
          },
          "execution_count": 101
        }
      ]
    },
    {
      "cell_type": "code",
      "metadata": {
        "id": "2_yOSGvnlJvq",
        "colab_type": "code",
        "outputId": "f9369ccb-3233-4e82-a9cf-5bb9f2262ea2",
        "colab": {
          "base_uri": "https://localhost:8080/",
          "height": 34
        }
      },
      "source": [
        "my_start_array = np.array(np.arange(5))\n",
        "npvector=np.tile(my_start_array, 3)\n",
        "npvector"
      ],
      "execution_count": 102,
      "outputs": [
        {
          "output_type": "execute_result",
          "data": {
            "text/plain": [
              "array([0, 1, 2, 3, 4, 0, 1, 2, 3, 4, 0, 1, 2, 3, 4])"
            ]
          },
          "metadata": {
            "tags": []
          },
          "execution_count": 102
        }
      ]
    },
    {
      "cell_type": "code",
      "metadata": {
        "id": "Qo-vOCpEmxjk",
        "colab_type": "code",
        "outputId": "99a7a482-f767-4eff-ad1a-8f6f0462ef22",
        "colab": {
          "base_uri": "https://localhost:8080/",
          "height": 34
        }
      },
      "source": [
        "np2d=np.tile(npvector,(3,1))\n",
        "np2d.shape"
      ],
      "execution_count": 103,
      "outputs": [
        {
          "output_type": "execute_result",
          "data": {
            "text/plain": [
              "(3, 15)"
            ]
          },
          "metadata": {
            "tags": []
          },
          "execution_count": 103
        }
      ]
    },
    {
      "cell_type": "code",
      "metadata": {
        "id": "1x6_HkbAnl_e",
        "colab_type": "code",
        "outputId": "baf53848-9bce-45ee-c29f-9f95a2f8164c",
        "colab": {
          "base_uri": "https://localhost:8080/",
          "height": 34
        }
      },
      "source": [
        "np.tile(np2d, (2,2)).shape"
      ],
      "execution_count": 104,
      "outputs": [
        {
          "output_type": "execute_result",
          "data": {
            "text/plain": [
              "(6, 30)"
            ]
          },
          "metadata": {
            "tags": []
          },
          "execution_count": 104
        }
      ]
    },
    {
      "cell_type": "code",
      "metadata": {
        "id": "uv5gUtKxoYhr",
        "colab_type": "code",
        "outputId": "f975ba00-9e04-498d-95b3-8ad85cf7f5c0",
        "colab": {
          "base_uri": "https://localhost:8080/",
          "height": 50
        }
      },
      "source": [
        "print(my_start_array)\n",
        "np.repeat(my_start_array, 3)"
      ],
      "execution_count": 105,
      "outputs": [
        {
          "output_type": "stream",
          "text": [
            "[0 1 2 3 4]\n"
          ],
          "name": "stdout"
        },
        {
          "output_type": "execute_result",
          "data": {
            "text/plain": [
              "array([0, 0, 0, 1, 1, 1, 2, 2, 2, 3, 3, 3, 4, 4, 4])"
            ]
          },
          "metadata": {
            "tags": []
          },
          "execution_count": 105
        }
      ]
    },
    {
      "cell_type": "code",
      "metadata": {
        "id": "hvVbTvlnow75",
        "colab_type": "code",
        "outputId": "96d3876d-8fde-4748-dce5-c1650c3b4086",
        "colab": {
          "base_uri": "https://localhost:8080/",
          "height": 118
        }
      },
      "source": [
        "np.repeat(np2d, 2, axis=1)"
      ],
      "execution_count": 106,
      "outputs": [
        {
          "output_type": "execute_result",
          "data": {
            "text/plain": [
              "array([[0, 0, 1, 1, 2, 2, 3, 3, 4, 4, 0, 0, 1, 1, 2, 2, 3, 3, 4, 4, 0, 0,\n",
              "        1, 1, 2, 2, 3, 3, 4, 4],\n",
              "       [0, 0, 1, 1, 2, 2, 3, 3, 4, 4, 0, 0, 1, 1, 2, 2, 3, 3, 4, 4, 0, 0,\n",
              "        1, 1, 2, 2, 3, 3, 4, 4],\n",
              "       [0, 0, 1, 1, 2, 2, 3, 3, 4, 4, 0, 0, 1, 1, 2, 2, 3, 3, 4, 4, 0, 0,\n",
              "        1, 1, 2, 2, 3, 3, 4, 4]])"
            ]
          },
          "metadata": {
            "tags": []
          },
          "execution_count": 106
        }
      ]
    },
    {
      "cell_type": "markdown",
      "metadata": {
        "id": "AHYH1Dl1Lq7Q",
        "colab_type": "text"
      },
      "source": [
        "## boolean mask array"
      ]
    },
    {
      "cell_type": "code",
      "metadata": {
        "id": "obsh-4pBK_ft",
        "colab_type": "code",
        "outputId": "6f39d4c9-9925-47c0-e854-b3aad0cde2df",
        "colab": {
          "base_uri": "https://localhost:8080/",
          "height": 0
        }
      },
      "source": [
        "nparray"
      ],
      "execution_count": 107,
      "outputs": [
        {
          "output_type": "execute_result",
          "data": {
            "text/plain": [
              "array([ 70,  90, 110, 130, 150, 170, 190, 210, 230, 250])"
            ]
          },
          "metadata": {
            "tags": []
          },
          "execution_count": 107
        }
      ]
    },
    {
      "cell_type": "code",
      "metadata": {
        "id": "K-sFlnxdMB0k",
        "colab_type": "code",
        "outputId": "e995e990-cdf5-46dd-9583-a17fbaec9f50",
        "colab": {
          "base_uri": "https://localhost:8080/",
          "height": 0
        }
      },
      "source": [
        "can_div_35_mask = 0 == (nparray % 35)\n",
        "can_div_35_mask"
      ],
      "execution_count": 108,
      "outputs": [
        {
          "output_type": "execute_result",
          "data": {
            "text/plain": [
              "array([ True, False, False, False, False, False, False,  True, False,\n",
              "       False])"
            ]
          },
          "metadata": {
            "tags": []
          },
          "execution_count": 108
        }
      ]
    },
    {
      "cell_type": "code",
      "metadata": {
        "id": "SQFZhmMzMVnL",
        "colab_type": "code",
        "outputId": "b4d68155-3233-4c75-f1b7-894668b9ac1f",
        "colab": {
          "base_uri": "https://localhost:8080/",
          "height": 0
        }
      },
      "source": [
        "filtered_nparray = nparray[can_div_35_mask]\n",
        "filtered_nparray"
      ],
      "execution_count": 109,
      "outputs": [
        {
          "output_type": "execute_result",
          "data": {
            "text/plain": [
              "array([ 70, 210])"
            ]
          },
          "metadata": {
            "tags": []
          },
          "execution_count": 109
        }
      ]
    },
    {
      "cell_type": "code",
      "metadata": {
        "id": "g-UY3kvfMz3H",
        "colab_type": "code",
        "outputId": "feb84df9-c115-469d-ee02-1ce2537339ac",
        "colab": {
          "base_uri": "https://localhost:8080/",
          "height": 0
        }
      },
      "source": [
        "further_filtered_nparray=filtered_nparray[filtered_nparray>70]\n",
        "further_filtered_nparray"
      ],
      "execution_count": 110,
      "outputs": [
        {
          "output_type": "execute_result",
          "data": {
            "text/plain": [
              "array([210])"
            ]
          },
          "metadata": {
            "tags": []
          },
          "execution_count": 110
        }
      ]
    },
    {
      "cell_type": "code",
      "metadata": {
        "id": "6JybD6okNTOJ",
        "colab_type": "code",
        "outputId": "5cd05f09-50c6-4135-da90-33f6473d0668",
        "colab": {
          "base_uri": "https://localhost:8080/",
          "height": 0
        }
      },
      "source": [
        "nparray[nparray>200]  #simpler filter"
      ],
      "execution_count": 111,
      "outputs": [
        {
          "output_type": "execute_result",
          "data": {
            "text/plain": [
              "array([210, 230, 250])"
            ]
          },
          "metadata": {
            "tags": []
          },
          "execution_count": 111
        }
      ]
    },
    {
      "cell_type": "code",
      "metadata": {
        "id": "VodhWrDGtS-K",
        "colab_type": "code",
        "outputId": "358251f4-f08c-4229-f7e9-afe51314d88b",
        "colab": {
          "base_uri": "https://localhost:8080/",
          "height": 0
        }
      },
      "source": [
        "can_div_15_mask = 0 == (nparray % 15)\n",
        "print(can_div_15_mask)\n",
        "print(can_div_35_mask)"
      ],
      "execution_count": 112,
      "outputs": [
        {
          "output_type": "stream",
          "text": [
            "[False  True False False  True False False  True False False]\n",
            "[ True False False False False False False  True False False]\n"
          ],
          "name": "stdout"
        }
      ]
    },
    {
      "cell_type": "code",
      "metadata": {
        "id": "blbBP3SHuk7V",
        "colab_type": "code",
        "outputId": "0fa537e1-7d2b-48d6-bbc1-dd70629ba235",
        "colab": {
          "base_uri": "https://localhost:8080/",
          "height": 0
        }
      },
      "source": [
        "#boolean operator\n",
        "can_div_15_35_mask=np.logical_and(can_div_15_mask, can_div_35_mask)\n",
        "can_div_15_35_mask"
      ],
      "execution_count": 113,
      "outputs": [
        {
          "output_type": "execute_result",
          "data": {
            "text/plain": [
              "array([False, False, False, False, False, False, False,  True, False,\n",
              "       False])"
            ]
          },
          "metadata": {
            "tags": []
          },
          "execution_count": 113
        }
      ]
    },
    {
      "cell_type": "code",
      "metadata": {
        "id": "1LVRR-VzvM3M",
        "colab_type": "code",
        "outputId": "0f7ffa19-e450-4623-88dd-50c02fdd8d6c",
        "colab": {
          "base_uri": "https://localhost:8080/",
          "height": 0
        }
      },
      "source": [
        "nparray[can_div_15_35_mask]"
      ],
      "execution_count": 114,
      "outputs": [
        {
          "output_type": "execute_result",
          "data": {
            "text/plain": [
              "array([210])"
            ]
          },
          "metadata": {
            "tags": []
          },
          "execution_count": 114
        }
      ]
    },
    {
      "cell_type": "markdown",
      "metadata": {
        "id": "v5G3ClxKyfGe",
        "colab_type": "text"
      },
      "source": [
        "## Broadcasting"
      ]
    },
    {
      "cell_type": "code",
      "metadata": {
        "id": "N98EamwFvbOD",
        "colab_type": "code",
        "outputId": "e4eab0e0-d614-42cf-dbfe-313be114c530",
        "colab": {
          "base_uri": "https://localhost:8080/",
          "height": 0
        }
      },
      "source": [
        "array_3d = np.arange(70)\n",
        "array_3d.shape=(2,7,5)\n",
        "array_3d"
      ],
      "execution_count": 115,
      "outputs": [
        {
          "output_type": "execute_result",
          "data": {
            "text/plain": [
              "array([[[ 0,  1,  2,  3,  4],\n",
              "        [ 5,  6,  7,  8,  9],\n",
              "        [10, 11, 12, 13, 14],\n",
              "        [15, 16, 17, 18, 19],\n",
              "        [20, 21, 22, 23, 24],\n",
              "        [25, 26, 27, 28, 29],\n",
              "        [30, 31, 32, 33, 34]],\n",
              "\n",
              "       [[35, 36, 37, 38, 39],\n",
              "        [40, 41, 42, 43, 44],\n",
              "        [45, 46, 47, 48, 49],\n",
              "        [50, 51, 52, 53, 54],\n",
              "        [55, 56, 57, 58, 59],\n",
              "        [60, 61, 62, 63, 64],\n",
              "        [65, 66, 67, 68, 69]]])"
            ]
          },
          "metadata": {
            "tags": []
          },
          "execution_count": 115
        }
      ]
    },
    {
      "cell_type": "markdown",
      "metadata": {
        "id": "dKmgGjQQdzSE",
        "colab_type": "text"
      },
      "source": [
        "In the context of deep learning, we also use some less conventional notation. We allow the addition of matrix and a vector, yielding another matrix: C = A + b, where Ci,j = Ai,j + bj. In other words, the vector b is added to each row of the matrix. This shorthand eliminates the need to define a matrix with b copied into each row before doing the addition. This implicit copying of b to many locations is called broadcasting."
      ]
    },
    {
      "cell_type": "code",
      "metadata": {
        "id": "aCz1aPu_ywi-",
        "colab_type": "code",
        "outputId": "5ec0f328-ba0f-41d8-d26d-acb159819893",
        "colab": {
          "base_uri": "https://localhost:8080/",
          "height": 0
        }
      },
      "source": [
        "x=np.arange(4)\n",
        "xx = x.reshape(4,1)\n",
        "y = np.ones(5)\n",
        "z = np.ones((3,4))\n",
        "print('x=', x)\n",
        "print('')\n",
        "print(\"\\033[1;31;46m reshape from 1x4 to 4x1 \") #color reference from https://ozzmaker.com/add-colour-to-text-in-python/ \n",
        "print(\"\\033[1;31;0m \")\n",
        "print('xx=', xx)\n",
        "print('y=',y)\n",
        "print(y+xx)"
      ],
      "execution_count": 116,
      "outputs": [
        {
          "output_type": "stream",
          "text": [
            "('x=', array([0, 1, 2, 3]))\n",
            "\n",
            "\u001b[1;31;46m reshape from 1x4 to 4x1 \n",
            "\u001b[1;31;0m \n",
            "('xx=', array([[0],\n",
            "       [1],\n",
            "       [2],\n",
            "       [3]]))\n",
            "('y=', array([1., 1., 1., 1., 1.]))\n",
            "[[1. 1. 1. 1. 1.]\n",
            " [2. 2. 2. 2. 2.]\n",
            " [3. 3. 3. 3. 3.]\n",
            " [4. 4. 4. 4. 4.]]\n"
          ],
          "name": "stdout"
        }
      ]
    },
    {
      "cell_type": "code",
      "metadata": {
        "id": "yE8jZr1Na7GB",
        "colab_type": "code",
        "outputId": "10ab4b7f-8d37-48c8-81c5-9e3b432c41fb",
        "colab": {
          "base_uri": "https://localhost:8080/",
          "height": 0
        }
      },
      "source": [
        "xx-x"
      ],
      "execution_count": 117,
      "outputs": [
        {
          "output_type": "execute_result",
          "data": {
            "text/plain": [
              "array([[ 0, -1, -2, -3],\n",
              "       [ 1,  0, -1, -2],\n",
              "       [ 2,  1,  0, -1],\n",
              "       [ 3,  2,  1,  0]])"
            ]
          },
          "metadata": {
            "tags": []
          },
          "execution_count": 117
        }
      ]
    },
    {
      "cell_type": "markdown",
      "metadata": {
        "id": "NAMGVGa0jWL1",
        "colab_type": "text"
      },
      "source": [
        "To not use broadcasting, manual conversion is beow"
      ]
    },
    {
      "cell_type": "code",
      "metadata": {
        "id": "JmpQNtGWZJ6s",
        "colab_type": "code",
        "colab": {}
      },
      "source": [
        "x2d=[0, 1, 2, 3]*4\n",
        "x2dnp=np.array(x2d).reshape(4,4)"
      ],
      "execution_count": 0,
      "outputs": []
    },
    {
      "cell_type": "code",
      "metadata": {
        "id": "p0uzit_3Rlho",
        "colab_type": "code",
        "colab": {}
      },
      "source": [
        "lista=[0,0,0,0]\n",
        "listb=[1,1,1,1]\n",
        "listc=[2,2,2,2]\n",
        "listd=[3,3,3,3]\n",
        "\n",
        "xx2dnp = np.array(lista+listb+listc+listd).reshape(4,4)"
      ],
      "execution_count": 0,
      "outputs": []
    },
    {
      "cell_type": "code",
      "metadata": {
        "id": "M0qhGuZ2SnY6",
        "colab_type": "code",
        "outputId": "2ad739f4-4039-4a27-9579-3bd2eb19b3e2",
        "colab": {
          "base_uri": "https://localhost:8080/",
          "height": 0
        }
      },
      "source": [
        "xx2dnp-x2dnp"
      ],
      "execution_count": 120,
      "outputs": [
        {
          "output_type": "execute_result",
          "data": {
            "text/plain": [
              "array([[ 0, -1, -2, -3],\n",
              "       [ 1,  0, -1, -2],\n",
              "       [ 2,  1,  0, -1],\n",
              "       [ 3,  2,  1,  0]])"
            ]
          },
          "metadata": {
            "tags": []
          },
          "execution_count": 120
        }
      ]
    },
    {
      "cell_type": "markdown",
      "metadata": {
        "id": "5TE1uHiY2wpc",
        "colab_type": "text"
      },
      "source": [
        "### operations along axis"
      ]
    },
    {
      "cell_type": "code",
      "metadata": {
        "id": "9ODnBvhP2wHm",
        "colab_type": "code",
        "outputId": "170f6371-820b-4e54-9d61-b79977391326",
        "colab": {
          "base_uri": "https://localhost:8080/",
          "height": 0
        }
      },
      "source": [
        "array_3d"
      ],
      "execution_count": 121,
      "outputs": [
        {
          "output_type": "execute_result",
          "data": {
            "text/plain": [
              "array([[[ 0,  1,  2,  3,  4],\n",
              "        [ 5,  6,  7,  8,  9],\n",
              "        [10, 11, 12, 13, 14],\n",
              "        [15, 16, 17, 18, 19],\n",
              "        [20, 21, 22, 23, 24],\n",
              "        [25, 26, 27, 28, 29],\n",
              "        [30, 31, 32, 33, 34]],\n",
              "\n",
              "       [[35, 36, 37, 38, 39],\n",
              "        [40, 41, 42, 43, 44],\n",
              "        [45, 46, 47, 48, 49],\n",
              "        [50, 51, 52, 53, 54],\n",
              "        [55, 56, 57, 58, 59],\n",
              "        [60, 61, 62, 63, 64],\n",
              "        [65, 66, 67, 68, 69]]])"
            ]
          },
          "metadata": {
            "tags": []
          },
          "execution_count": 121
        }
      ]
    },
    {
      "cell_type": "code",
      "metadata": {
        "id": "umtzvjYQ3Svw",
        "colab_type": "code",
        "outputId": "da9d306d-b82c-4c90-b070-a069ae6636f2",
        "colab": {
          "base_uri": "https://localhost:8080/",
          "height": 0
        }
      },
      "source": [
        "array_3d.shape"
      ],
      "execution_count": 122,
      "outputs": [
        {
          "output_type": "execute_result",
          "data": {
            "text/plain": [
              "(2, 7, 5)"
            ]
          },
          "metadata": {
            "tags": []
          },
          "execution_count": 122
        }
      ]
    },
    {
      "cell_type": "code",
      "metadata": {
        "id": "ob83NZoH3Wvx",
        "colab_type": "code",
        "outputId": "1fc3c03b-0958-4156-ed05-3d75c4073da6",
        "colab": {
          "base_uri": "https://localhost:8080/",
          "height": 0
        }
      },
      "source": [
        "array_3d.sum(axis=0) # this is array_3d[0]+array_3d[1]"
      ],
      "execution_count": 123,
      "outputs": [
        {
          "output_type": "execute_result",
          "data": {
            "text/plain": [
              "array([[ 35,  37,  39,  41,  43],\n",
              "       [ 45,  47,  49,  51,  53],\n",
              "       [ 55,  57,  59,  61,  63],\n",
              "       [ 65,  67,  69,  71,  73],\n",
              "       [ 75,  77,  79,  81,  83],\n",
              "       [ 85,  87,  89,  91,  93],\n",
              "       [ 95,  97,  99, 101, 103]])"
            ]
          },
          "metadata": {
            "tags": []
          },
          "execution_count": 123
        }
      ]
    },
    {
      "cell_type": "code",
      "metadata": {
        "id": "j8GSHIMD3oyQ",
        "colab_type": "code",
        "outputId": "2fd346d9-cd32-4268-aa04-292a49a5aeaf",
        "colab": {
          "base_uri": "https://localhost:8080/",
          "height": 0
        }
      },
      "source": [
        "array_3d.sum(axis=1) # sum of each column (7 elements) (axis is array_3d.shape[1])"
      ],
      "execution_count": 124,
      "outputs": [
        {
          "output_type": "execute_result",
          "data": {
            "text/plain": [
              "array([[105, 112, 119, 126, 133],\n",
              "       [350, 357, 364, 371, 378]])"
            ]
          },
          "metadata": {
            "tags": []
          },
          "execution_count": 124
        }
      ]
    },
    {
      "cell_type": "code",
      "metadata": {
        "id": "saH1pWLG34OZ",
        "colab_type": "code",
        "outputId": "858eb10c-8450-418a-ff42-c6b436615312",
        "colab": {
          "base_uri": "https://localhost:8080/",
          "height": 0
        }
      },
      "source": [
        "array_3d.sum(axis=2) # sum of each row (5 elements) (axis is array_3d.shape[2])"
      ],
      "execution_count": 125,
      "outputs": [
        {
          "output_type": "execute_result",
          "data": {
            "text/plain": [
              "array([[ 10,  35,  60,  85, 110, 135, 160],\n",
              "       [185, 210, 235, 260, 285, 310, 335]])"
            ]
          },
          "metadata": {
            "tags": []
          },
          "execution_count": 125
        }
      ]
    },
    {
      "cell_type": "markdown",
      "metadata": {
        "id": "z44naYse6SOQ",
        "colab_type": "text"
      },
      "source": [
        "Another example"
      ]
    },
    {
      "cell_type": "code",
      "metadata": {
        "id": "c1HjWHoW4VXp",
        "colab_type": "code",
        "outputId": "df80c1d8-aea5-4ccb-9e03-40c4b4363bb4",
        "colab": {
          "base_uri": "https://localhost:8080/",
          "height": 0
        }
      },
      "source": [
        "array2d_a = np.arange(35, dtype=int).reshape(5,7)\n",
        "array2d_b = np.ones((5,7), dtype=float)*7\n",
        "array2d_a + array2d_b #the result would be float"
      ],
      "execution_count": 126,
      "outputs": [
        {
          "output_type": "execute_result",
          "data": {
            "text/plain": [
              "array([[ 7.,  8.,  9., 10., 11., 12., 13.],\n",
              "       [14., 15., 16., 17., 18., 19., 20.],\n",
              "       [21., 22., 23., 24., 25., 26., 27.],\n",
              "       [28., 29., 30., 31., 32., 33., 34.],\n",
              "       [35., 36., 37., 38., 39., 40., 41.]])"
            ]
          },
          "metadata": {
            "tags": []
          },
          "execution_count": 126
        }
      ]
    },
    {
      "cell_type": "code",
      "metadata": {
        "id": "Kb3nP5Ts61xX",
        "colab_type": "code",
        "outputId": "7f6acb86-3b4d-44c6-97e9-027361306d52",
        "colab": {
          "base_uri": "https://localhost:8080/",
          "height": 0
        }
      },
      "source": [
        "Vector1 = np.random.random(7)\n",
        "np.set_printoptions(precision=4)\n",
        "Vector1"
      ],
      "execution_count": 127,
      "outputs": [
        {
          "output_type": "execute_result",
          "data": {
            "text/plain": [
              "array([0.0934, 0.2784, 0.7171, 0.8058, 0.9174, 0.2243, 0.7529])"
            ]
          },
          "metadata": {
            "tags": []
          },
          "execution_count": 127
        }
      ]
    },
    {
      "cell_type": "code",
      "metadata": {
        "id": "Qw9JMdBb8fws",
        "colab_type": "code",
        "outputId": "b79d878c-5da1-405e-f7d0-06f96fa5fe64",
        "colab": {
          "base_uri": "https://localhost:8080/",
          "height": 0
        }
      },
      "source": [
        "array2d_a + array2d_b + Vector1"
      ],
      "execution_count": 128,
      "outputs": [
        {
          "output_type": "execute_result",
          "data": {
            "text/plain": [
              "array([[ 7.0934,  8.2784,  9.7171, 10.8058, 11.9174, 12.2243, 13.7529],\n",
              "       [14.0934, 15.2784, 16.7171, 17.8058, 18.9174, 19.2243, 20.7529],\n",
              "       [21.0934, 22.2784, 23.7171, 24.8058, 25.9174, 26.2243, 27.7529],\n",
              "       [28.0934, 29.2784, 30.7171, 31.8058, 32.9174, 33.2243, 34.7529],\n",
              "       [35.0934, 36.2784, 37.7171, 38.8058, 39.9174, 40.2243, 41.7529]])"
            ]
          },
          "metadata": {
            "tags": []
          },
          "execution_count": 128
        }
      ]
    },
    {
      "cell_type": "code",
      "metadata": {
        "id": "6vNv6UE_881w",
        "colab_type": "code",
        "outputId": "d3a37f8f-5a43-4234-a5c3-fac99e8dda7b",
        "colab": {
          "base_uri": "https://localhost:8080/",
          "height": 0
        }
      },
      "source": [
        "Vector2 = np.random.random(5)\n",
        "Vector2"
      ],
      "execution_count": 129,
      "outputs": [
        {
          "output_type": "execute_result",
          "data": {
            "text/plain": [
              "array([0.0441, 0.9376, 0.0024, 0.7624, 0.5636])"
            ]
          },
          "metadata": {
            "tags": []
          },
          "execution_count": 129
        }
      ]
    },
    {
      "cell_type": "code",
      "metadata": {
        "id": "j4oJMeZ79Okx",
        "colab_type": "code",
        "outputId": "d8584a95-f3ae-4837-bc35-fe732e1981e1",
        "colab": {
          "base_uri": "https://localhost:8080/",
          "height": 0
        }
      },
      "source": [
        "Vector2 = np.random.random((5,1))*10\n",
        "Vector2"
      ],
      "execution_count": 130,
      "outputs": [
        {
          "output_type": "execute_result",
          "data": {
            "text/plain": [
              "array([[3.8253],\n",
              "       [9.9969],\n",
              "       [5.4437],\n",
              "       [7.0155],\n",
              "       [2.4433]])"
            ]
          },
          "metadata": {
            "tags": []
          },
          "execution_count": 130
        }
      ]
    },
    {
      "cell_type": "code",
      "metadata": {
        "id": "suQn3Lu59U4b",
        "colab_type": "code",
        "outputId": "15bad47f-0de2-4c94-d7c8-70a333f70673",
        "colab": {
          "base_uri": "https://localhost:8080/",
          "height": 0
        }
      },
      "source": [
        "array2d_a + array2d_b + Vector2"
      ],
      "execution_count": 131,
      "outputs": [
        {
          "output_type": "execute_result",
          "data": {
            "text/plain": [
              "array([[10.8253, 11.8253, 12.8253, 13.8253, 14.8253, 15.8253, 16.8253],\n",
              "       [23.9969, 24.9969, 25.9969, 26.9969, 27.9969, 28.9969, 29.9969],\n",
              "       [26.4437, 27.4437, 28.4437, 29.4437, 30.4437, 31.4437, 32.4437],\n",
              "       [35.0155, 36.0155, 37.0155, 38.0155, 39.0155, 40.0155, 41.0155],\n",
              "       [37.4433, 38.4433, 39.4433, 40.4433, 41.4433, 42.4433, 43.4433]])"
            ]
          },
          "metadata": {
            "tags": []
          },
          "execution_count": 131
        }
      ]
    },
    {
      "cell_type": "markdown",
      "metadata": {
        "id": "ucaDb_Lw-of6",
        "colab_type": "text"
      },
      "source": [
        "## Structured Arrays"
      ]
    },
    {
      "cell_type": "code",
      "metadata": {
        "id": "WgBinJ5q9bSR",
        "colab_type": "code",
        "outputId": "3201df59-17d3-4a68-e156-bab51b6f81fb",
        "colab": {
          "base_uri": "https://localhost:8080/",
          "height": 0
        }
      },
      "source": [
        "student_def=[('name','S6'),('height','f8'),('weight','f8'),('age','i8')]\n",
        "student_def"
      ],
      "execution_count": 132,
      "outputs": [
        {
          "output_type": "execute_result",
          "data": {
            "text/plain": [
              "[('name', 'S6'), ('height', 'f8'), ('weight', 'f8'), ('age', 'i8')]"
            ]
          },
          "metadata": {
            "tags": []
          },
          "execution_count": 132
        }
      ]
    },
    {
      "cell_type": "code",
      "metadata": {
        "id": "xjuIBNtG_N2z",
        "colab_type": "code",
        "outputId": "78744581-7f6b-443d-d151-66afef4ff9ce",
        "colab": {
          "base_uri": "https://localhost:8080/",
          "height": 0
        }
      },
      "source": [
        "student_array = np.ones((4,), dtype=student_def) # initiate 4 records with ones\n",
        "student_array"
      ],
      "execution_count": 133,
      "outputs": [
        {
          "output_type": "execute_result",
          "data": {
            "text/plain": [
              "array([('1', 1., 1., 1), ('1', 1., 1., 1), ('1', 1., 1., 1),\n",
              "       ('1', 1., 1., 1)],\n",
              "      dtype=[('name', 'S6'), ('height', '<f8'), ('weight', '<f8'), ('age', '<i8')])"
            ]
          },
          "metadata": {
            "tags": []
          },
          "execution_count": 133
        }
      ]
    },
    {
      "cell_type": "code",
      "metadata": {
        "id": "277bsad3JwSV",
        "colab_type": "code",
        "outputId": "750fcaa8-f4de-4bff-ab05-65b661104ea5",
        "colab": {
          "base_uri": "https://localhost:8080/",
          "height": 0
        }
      },
      "source": [
        "# add some data\n",
        "student_array[3] = ('Tyrion', 73, 205, 14)\n",
        "student_array[0] = ('Billy', 65, 112, 13)\n",
        "print(student_array)"
      ],
      "execution_count": 134,
      "outputs": [
        {
          "output_type": "stream",
          "text": [
            "[('Billy', 65., 112., 13) ('1',  1.,   1.,  1) ('1',  1.,   1.,  1)\n",
            " ('Tyrion', 73., 205., 14)]\n"
          ],
          "name": "stdout"
        }
      ]
    },
    {
      "cell_type": "code",
      "metadata": {
        "id": "ICc03HcMLLAw",
        "colab_type": "code",
        "outputId": "6cf5dd65-2c70-4187-f1fb-2624950283bb",
        "colab": {
          "base_uri": "https://localhost:8080/",
          "height": 0
        }
      },
      "source": [
        "# get columes\n",
        "print(student_array['name'])\n",
        "print(student_array['age']/2) #note the integer type is kept"
      ],
      "execution_count": 135,
      "outputs": [
        {
          "output_type": "stream",
          "text": [
            "['Billy' '1' '1' 'Tyrion']\n",
            "[6 0 0 7]\n"
          ],
          "name": "stdout"
        }
      ]
    },
    {
      "cell_type": "markdown",
      "metadata": {
        "id": "VvEJlKU9VhdV",
        "colab_type": "text"
      },
      "source": [
        "3D array can also use array data type"
      ]
    },
    {
      "cell_type": "code",
      "metadata": {
        "id": "z1XA5zN4PZQw",
        "colab_type": "code",
        "outputId": "df19d362-4933-4402-fc72-defddca560e3",
        "colab": {
          "base_uri": "https://localhost:8080/",
          "height": 0
        }
      },
      "source": [
        "student_3d_array = np.zeros((4,3,2), dtype=student_def)\n",
        "#add some data and get them\n",
        "student_3d_array[0,2,1] = ('Billy', 68, 155, 11)\n",
        "student_3d_array[2,2,1] = ('Alice', 62, 165, 12.3)\n",
        "student_3d_array[3,1,0] = ('Allison', 62, 166, 15.5) # extra string would be truncated \n",
        "\n",
        "student_3d_array"
      ],
      "execution_count": 136,
      "outputs": [
        {
          "output_type": "execute_result",
          "data": {
            "text/plain": [
              "array([[[('',  0.,   0.,  0), ('',  0.,   0.,  0)],\n",
              "        [('',  0.,   0.,  0), ('',  0.,   0.,  0)],\n",
              "        [('',  0.,   0.,  0), ('Billy', 68., 155., 11)]],\n",
              "\n",
              "       [[('',  0.,   0.,  0), ('',  0.,   0.,  0)],\n",
              "        [('',  0.,   0.,  0), ('',  0.,   0.,  0)],\n",
              "        [('',  0.,   0.,  0), ('',  0.,   0.,  0)]],\n",
              "\n",
              "       [[('',  0.,   0.,  0), ('',  0.,   0.,  0)],\n",
              "        [('',  0.,   0.,  0), ('',  0.,   0.,  0)],\n",
              "        [('',  0.,   0.,  0), ('Alice', 62., 165., 12)]],\n",
              "\n",
              "       [[('',  0.,   0.,  0), ('',  0.,   0.,  0)],\n",
              "        [('Alliso', 62., 166., 15), ('',  0.,   0.,  0)],\n",
              "        [('',  0.,   0.,  0), ('',  0.,   0.,  0)]]],\n",
              "      dtype=[('name', 'S6'), ('height', '<f8'), ('weight', '<f8'), ('age', '<i8')])"
            ]
          },
          "metadata": {
            "tags": []
          },
          "execution_count": 136
        }
      ]
    },
    {
      "cell_type": "code",
      "metadata": {
        "id": "XMlRtxweQufI",
        "colab_type": "code",
        "outputId": "bdadbfcd-8c9f-4af6-8083-411e6fe466c2",
        "colab": {
          "base_uri": "https://localhost:8080/",
          "height": 0
        }
      },
      "source": [
        "student_3d_array[['name','weight','age']]"
      ],
      "execution_count": 137,
      "outputs": [
        {
          "output_type": "execute_result",
          "data": {
            "text/plain": [
              "array([[[('',   0.,  0), ('',   0.,  0)],\n",
              "        [('',   0.,  0), ('',   0.,  0)],\n",
              "        [('',   0.,  0), ('Billy', 155., 11)]],\n",
              "\n",
              "       [[('',   0.,  0), ('',   0.,  0)],\n",
              "        [('',   0.,  0), ('',   0.,  0)],\n",
              "        [('',   0.,  0), ('',   0.,  0)]],\n",
              "\n",
              "       [[('',   0.,  0), ('',   0.,  0)],\n",
              "        [('',   0.,  0), ('',   0.,  0)],\n",
              "        [('',   0.,  0), ('Alice', 165., 12)]],\n",
              "\n",
              "       [[('',   0.,  0), ('',   0.,  0)],\n",
              "        [('Alliso', 166., 15), ('',   0.,  0)],\n",
              "        [('',   0.,  0), ('',   0.,  0)]]],\n",
              "      dtype={'names':['name','weight','age'], 'formats':['S6','<f8','<i8'], 'offsets':[0,14,22], 'itemsize':30})"
            ]
          },
          "metadata": {
            "tags": []
          },
          "execution_count": 137
        }
      ]
    },
    {
      "cell_type": "markdown",
      "metadata": {
        "id": "iMYaNuG6Vv8g",
        "colab_type": "text"
      },
      "source": [
        "Record arrays are structured arrays wrapped using a subclass of ndarray, numpy. recarray , which allows field access by attribute on the array object, and record arrays also use a special datatype, numpy. record , which allows field access by attribute on the individual elements of the array. The numpy."
      ]
    },
    {
      "cell_type": "code",
      "metadata": {
        "id": "ATLZOKWZS5mi",
        "colab_type": "code",
        "outputId": "1f903d88-f2c5-4602-ec13-917279604caa",
        "colab": {
          "base_uri": "https://localhost:8080/",
          "height": 0
        }
      },
      "source": [
        "studen_record_array = np.rec.array([('Joe', 73, 205, 34),('Mirranda', 65, 112, 23)],dtype=student_def)\n",
        "studen_record_array"
      ],
      "execution_count": 138,
      "outputs": [
        {
          "output_type": "execute_result",
          "data": {
            "text/plain": [
              "rec.array([('Joe', 73., 205., 34), ('Mirran', 65., 112., 23)],\n",
              "          dtype=[('name', 'S6'), ('height', '<f8'), ('weight', '<f8'), ('age', '<i8')])"
            ]
          },
          "metadata": {
            "tags": []
          },
          "execution_count": 138
        }
      ]
    },
    {
      "cell_type": "code",
      "metadata": {
        "id": "_okX3_YVV82j",
        "colab_type": "code",
        "outputId": "72e08784-5937-45b5-b47f-6c4f5aa6c225",
        "colab": {
          "base_uri": "https://localhost:8080/",
          "height": 0
        }
      },
      "source": [
        "# get the attribute\n",
        "studen_record_array.age"
      ],
      "execution_count": 139,
      "outputs": [
        {
          "output_type": "execute_result",
          "data": {
            "text/plain": [
              "array([34, 23])"
            ]
          },
          "metadata": {
            "tags": []
          },
          "execution_count": 139
        }
      ]
    },
    {
      "cell_type": "markdown",
      "metadata": {
        "id": "wBcYEONw1hCV",
        "colab_type": "text"
      },
      "source": [
        "## Inline Plot matplotlib"
      ]
    },
    {
      "cell_type": "markdown",
      "metadata": {
        "id": "8TVJjCCUF1tt",
        "colab_type": "text"
      },
      "source": [
        "%matplotlib inline sets the backend of matplotlib to the 'inline' backend:\n",
        "With this backend, the output of plotting commands is displayed inline within frontends like the Jupyter notebook, directly below the code cell that produced it. The resulting plots will then also be stored in the notebook document.\n",
        "\n"
      ]
    },
    {
      "cell_type": "code",
      "metadata": {
        "id": "OTbg0ePwWM_7",
        "colab_type": "code",
        "colab": {}
      },
      "source": [
        "%matplotlib inline"
      ],
      "execution_count": 0,
      "outputs": []
    },
    {
      "cell_type": "code",
      "metadata": {
        "id": "0H9OJCsE1y7V",
        "colab_type": "code",
        "outputId": "f061be40-5d09-4dc8-cd30-4ea62c8ca8e7",
        "colab": {
          "base_uri": "https://localhost:8080/",
          "height": 0
        }
      },
      "source": [
        "import numpy as np\n",
        "import matplotlib.pyplot as plt\n",
        "\n",
        "mu, sigma = 100, 15  # mean = 100, standard deviation=15\n",
        "dataset = mu + sigma * np.random.randn(10000) # Return a sample (or samples) from the “standard normal” distribution.\n",
        "print(dataset.size)\n",
        "\n",
        "# the histogram of the data, to be investigated\n",
        "n, bins, patches = plt.hist(dataset, 50, normed=1, facecolor='g', alpha=0.75)\n",
        "\n",
        "plt.xlabel('Smarts')\n",
        "plt.ylabel('Probability')\n",
        "plt.title('Histogram of IQ')\n",
        "plt.text(130, .025, r'$\\mu=100,\\ \\sigma=15$')\n",
        "plt.axis([80, 160, 0, 0.03])\n",
        "plt.grid(True)\n",
        "plt.show()"
      ],
      "execution_count": 141,
      "outputs": [
        {
          "output_type": "stream",
          "text": [
            "10000\n"
          ],
          "name": "stdout"
        },
        {
          "output_type": "stream",
          "text": [
            "/usr/local/lib/python2.7/dist-packages/matplotlib/axes/_axes.py:6571: UserWarning: The 'normed' kwarg is deprecated, and has been replaced by the 'density' kwarg.\n",
            "  warnings.warn(\"The 'normed' kwarg is deprecated, and has been \"\n"
          ],
          "name": "stderr"
        },
        {
          "output_type": "display_data",
          "data": {
            "image/png": "[encoded data removed]",
            "text/plain": [
              "<Figure size 432x288 with 1 Axes>"
            ]
          },
          "metadata": {
            "tags": [],
            "needs_background": "light"
          }
        }
      ]
    },
    {
      "cell_type": "markdown",
      "metadata": {
        "id": "FSpzexwK3Q0k",
        "colab_type": "text"
      },
      "source": [
        "<p>Available Markers:</p>\n",
        "<table border=\"1\" class=\"docutils\">\n",
        "<colgroup>\n",
        "<col width=\"38%\" />\n",
        "<col width=\"62%\" />\n",
        "</colgroup>\n",
        "<thead valign=\"bottom\">\n",
        "<tr class=\"row-odd\"><th class=\"head\">marker</th>\n",
        "<th class=\"head\">description</th>\n",
        "</tr>\n",
        "</thead>\n",
        "<tbody valign=\"top\">\n",
        "<tr class=\"row-even\"><td>&#8221;.&#8221;</td>\n",
        "<td>point</td>\n",
        "</tr>\n",
        "<tr class=\"row-odd\"><td>&#8221;,&#8221;</td>\n",
        "<td>pixel</td>\n",
        "</tr>\n",
        "<tr class=\"row-even\"><td>&#8220;o&#8221;</td>\n",
        "<td>circle</td>\n",
        "</tr>\n",
        "<tr class=\"row-odd\"><td>&#8220;v&#8221;</td>\n",
        "<td>triangle_down</td>\n",
        "</tr>\n",
        "<tr class=\"row-even\"><td>&#8220;^&#8221;</td>\n",
        "<td>triangle_up</td>\n",
        "</tr>\n",
        "<tr class=\"row-odd\"><td>&#8220;&lt;&#8221;</td>\n",
        "<td>triangle_left</td>\n",
        "</tr>\n",
        "<tr class=\"row-even\"><td>&#8220;&gt;&#8221;</td>\n",
        "<td>triangle_right</td>\n",
        "</tr>\n",
        "<tr class=\"row-odd\"><td>&#8220;1&#8221;</td>\n",
        "<td>tri_down</td>\n",
        "</tr>\n",
        "<tr class=\"row-even\"><td>&#8220;2&#8221;</td>\n",
        "<td>tri_up</td>\n",
        "</tr>\n",
        "<tr class=\"row-odd\"><td>&#8220;3&#8221;</td>\n",
        "<td>tri_left</td>\n",
        "</tr>\n",
        "<tr class=\"row-even\"><td>&#8220;4&#8221;</td>\n",
        "<td>tri_right</td>\n",
        "</tr>\n",
        "<tr class=\"row-odd\"><td>&#8220;8&#8221;</td>\n",
        "<td>octagon</td>\n",
        "</tr>\n",
        "<tr class=\"row-even\"><td>&#8220;s&#8221;</td>\n",
        "<td>square</td>\n",
        "</tr>\n",
        "<tr class=\"row-odd\"><td>&#8220;p&#8221;</td>\n",
        "<td>pentagon</td>\n",
        "</tr>\n",
        "<tr class=\"row-even\"><td>&#8220;*&#8221;</td>\n",
        "<td>star</td>\n",
        "</tr>\n",
        "<tr class=\"row-odd\"><td>&#8220;h&#8221;</td>\n",
        "<td>hexagon1</td>\n",
        "</tr>\n",
        "<tr class=\"row-even\"><td>&#8220;H&#8221;</td>\n",
        "<td>hexagon2</td>\n",
        "</tr>\n",
        "<tr class=\"row-odd\"><td>&#8220;+&#8221;</td>\n",
        "<td>plus</td>\n",
        "</tr>\n",
        "<tr class=\"row-even\"><td>&#8220;x&#8221;</td>\n",
        "<td>x</td>\n",
        "</tr>\n",
        "<tr class=\"row-odd\"><td>&#8220;D&#8221;</td>\n",
        "<td>diamond</td>\n",
        "</tr>\n",
        "<tr class=\"row-even\"><td>&#8220;d&#8221;</td>\n",
        "<td>thin_diamond</td>\n",
        "</tr>\n",
        "<tr class=\"row-odd\"><td>&#8220;|&#8221;</td>\n",
        "<td>vline</td>\n",
        "</tr>\n",
        "<tr class=\"row-even\"><td>&#8220;_&#8221;</td>\n",
        "<td>hline</td>\n",
        "</tr>\n",
        "<tr class=\"row-odd\"><td>TICKLEFT</td>\n",
        "<td>tickleft</td>\n",
        "</tr>\n",
        "<tr class=\"row-even\"><td>TICKRIGHT</td>\n",
        "<td>tickright</td>\n",
        "</tr>\n",
        "<tr class=\"row-odd\"><td>TICKUP</td>\n",
        "<td>tickup</td>\n",
        "</tr>\n",
        "<tr class=\"row-even\"><td>TICKDOWN</td>\n",
        "<td>tickdown</td>\n",
        "</tr>\n",
        "<tr class=\"row-odd\"><td>CARETLEFT</td>\n",
        "<td>caretleft</td>\n",
        "</tr>\n",
        "<tr class=\"row-even\"><td>CARETRIGHT</td>\n",
        "<td>caretright</td>\n",
        "</tr>\n",
        "<tr class=\"row-odd\"><td>CARETUP</td>\n",
        "<td>caretup</td>\n",
        "</tr>\n",
        "<tr class=\"row-even\"><td>CARETDOWN</td>\n",
        "<td>caretdown</td>\n",
        "</tr>\n",
        "<tr class=\"row-odd\"><td>&#8220;None&#8221;</td>\n",
        "<td>nothing</td>\n",
        "</tr>\n",
        "<tr class=\"row-even\"><td>None</td>\n",
        "<td>nothing</td>\n",
        "</tr>\n",
        "<tr class=\"row-odd\"><td>&#8221; &#8220;</td>\n",
        "<td>nothing</td>\n",
        "</tr>\n",
        "<tr class=\"row-even\"><td>&#8220;&#8221;</td>\n",
        "<td>nothing</td>\n",
        "</tr>\n",
        "<tr class=\"row-odd\"><td><code class=\"docutils literal\"><span class=\"pre\">'$...$'</span></code></td>\n",
        "<td>render the string using mathtext.</td>\n",
        "</tr>\n",
        "<tr class=\"row-even\"><td><code class=\"xref py py-obj docutils literal\"><span class=\"pre\">verts</span></code></td>\n",
        "<td>a list of (x, y) pairs used for Path vertices.\n",
        "The center of the marker is located at (0,0) and\n",
        "the size is normalized.</td>\n",
        "</tr>\n",
        "<tr class=\"row-odd\"><td>path</td>\n",
        "<td>a <a class=\"reference internal\" href=\"path_api.html#matplotlib.path.Path\" title=\"matplotlib.path.Path\"><code class=\"xref py py-obj docutils literal\"><span class=\"pre\">Path</span></code></a> instance.</td>\n",
        "</tr>\n",
        "<tr class=\"row-even\"><td>(<code class=\"xref py py-obj docutils literal\"><span class=\"pre\">numsides</span></code>, <code class=\"xref py py-obj docutils literal\"><span class=\"pre\">style</span></code>, <code class=\"xref py py-obj docutils literal\"><span class=\"pre\">angle</span></code>)</td>\n",
        "<td>see below</td>\n",
        "</tr>\n",
        "</tbody>\n",
        "</table>"
      ]
    },
    {
      "cell_type": "code",
      "metadata": {
        "id": "wjhGRALm5inN",
        "colab_type": "code",
        "outputId": "ff0be9cf-eb50-418b-8c3f-1233f1cc7f6d",
        "colab": {
          "base_uri": "https://localhost:8080/",
          "height": 0
        }
      },
      "source": [
        "# import numpy as np\n",
        "# import matplotlib.pyplot as plt\n",
        "myFirstFigure = plt.figure(\"hello world numpy plot\")"
      ],
      "execution_count": 142,
      "outputs": [
        {
          "output_type": "display_data",
          "data": {
            "text/plain": [
              "<Figure size 432x288 with 0 Axes>"
            ]
          },
          "metadata": {
            "tags": []
          }
        }
      ]
    },
    {
      "cell_type": "code",
      "metadata": {
        "id": "svCTzjD06tQc",
        "colab_type": "code",
        "colab": {}
      },
      "source": [
        "subplot_1 = myFirstFigure.add_subplot(2, 3, 1) # 2 rows 3 columns, number1 subplot ()\n",
        "subplot_6 = myFirstFigure.add_subplot(2, 3, 6) # number6 subplot (last one)\n"
      ],
      "execution_count": 0,
      "outputs": []
    },
    {
      "cell_type": "code",
      "metadata": {
        "id": "OSEl2aJC7BmK",
        "colab_type": "code",
        "outputId": "06a4e901-ee89-4006-86af-01759808439f",
        "colab": {
          "base_uri": "https://localhost:8080/",
          "height": 0
        }
      },
      "source": [
        "plt.plot(np.random.rand(50).cumsum(), 'k--') # 50 elements cumulative sum, k is black and -- is straigh lines\n",
        "plt.show()"
      ],
      "execution_count": 144,
      "outputs": [
        {
          "output_type": "display_data",
          "data": {
            "image/png": "[encoded data removed]",
            "text/plain": [
              "<Figure size 432x288 with 1 Axes>"
            ]
          },
          "metadata": {
            "tags": [],
            "needs_background": "light"
          }
        }
      ]
    },
    {
      "cell_type": "markdown",
      "metadata": {
        "id": "yffkUBwwOGHs",
        "colab_type": "text"
      },
      "source": [
        "more examples can be found from a2b2c helloworld1.ipynb"
      ]
    },
    {
      "cell_type": "code",
      "metadata": {
        "id": "BpsBr-V2-yba",
        "colab_type": "code",
        "outputId": "8e89a36d-b0ff-4e2c-efb2-4d5947d21654",
        "colab": {
          "base_uri": "https://localhost:8080/",
          "height": 0
        }
      },
      "source": [
        "subplot_1 = myFirstFigure.add_subplot(2, 3, 2)\n",
        "plt.plot(np.random.rand(10) , 'ro') # red, circle\n",
        "plt.show()"
      ],
      "execution_count": 145,
      "outputs": [
        {
          "output_type": "display_data",
          "data": {
            "image/png": "[encoded data removed]",
            "text/plain": [
              "<Figure size 432x288 with 1 Axes>"
            ]
          },
          "metadata": {
            "tags": [],
            "needs_background": "light"
          }
        }
      ]
    },
    {
      "cell_type": "code",
      "metadata": {
        "id": "m7cUn8D3BeQs",
        "colab_type": "code",
        "outputId": "ca685182-0483-416a-9ed9-1f55d581d4e3",
        "colab": {
          "base_uri": "https://localhost:8080/",
          "height": 0
        }
      },
      "source": [
        "data_set_size = 15\n",
        "low_mu, low_sigma = 50, 4.3\n",
        "low_data_set = low_mu + low_sigma * np.random.randn(data_set_size) # generate 15 data points, normally distrubted with mean 50, standard deviation 4.3\n",
        "high_mu, high_sigma = 57, 5.2\n",
        "high_data_set = high_mu + high_sigma * np.random.randn(data_set_size) #generate 15 data points, normally distrubted with mean 57, standard deviation 5.2\n",
        "\n",
        "days = list(range(1, data_set_size + 1)) # x axis\n",
        "\n",
        "plt.plot(days, low_data_set) # default use lines\n",
        "plt.show()"
      ],
      "execution_count": 146,
      "outputs": [
        {
          "output_type": "display_data",
          "data": {
            "image/png": "[encoded data removed]",
            "text/plain": [
              "<Figure size 432x288 with 1 Axes>"
            ]
          },
          "metadata": {
            "tags": [],
            "needs_background": "light"
          }
        }
      ]
    },
    {
      "cell_type": "markdown",
      "metadata": {
        "id": "q6h-2HmFFgoF",
        "colab_type": "text"
      },
      "source": [
        "Multiple lines in a plot"
      ]
    },
    {
      "cell_type": "code",
      "metadata": {
        "id": "fLMHzLjjFUwV",
        "colab_type": "code",
        "outputId": "b0fa089a-6078-4c65-a010-826c36099a90",
        "colab": {
          "base_uri": "https://localhost:8080/",
          "height": 0
        }
      },
      "source": [
        "plt.plot(days, low_data_set,         \n",
        "         days, high_data_set) # 2 data sets are drawn here\n",
        "plt.show()"
      ],
      "execution_count": 147,
      "outputs": [
        {
          "output_type": "display_data",
          "data": {
            "image/png": "[encoded data removed]",
            "text/plain": [
              "<Figure size 432x288 with 1 Axes>"
            ]
          },
          "metadata": {
            "tags": [],
            "needs_background": "light"
          }
        }
      ]
    },
    {
      "cell_type": "code",
      "metadata": {
        "id": "2Nux3nNqFbWJ",
        "colab_type": "code",
        "outputId": "f2630a5e-e703-450e-87ae-cdbc48295470",
        "colab": {
          "base_uri": "https://localhost:8080/",
          "height": 0
        }
      },
      "source": [
        "# marker table above, v is down arrow, ^ is upper arrow\n",
        "plt.plot(days, low_data_set,\n",
        "         days, low_data_set, \"vm\", # lower triangle, color is meganta\n",
        "         days, high_data_set, \n",
        "         days, high_data_set, \"^k\") # upper triangle, color is black\n",
        "plt.show() # 4 data sets are drawn here"
      ],
      "execution_count": 148,
      "outputs": [
        {
          "output_type": "display_data",
          "data": {
            "image/png": "[encoded data removed]",
            "text/plain": [
              "<Figure size 432x288 with 1 Axes>"
            ]
          },
          "metadata": {
            "tags": [],
            "needs_background": "light"
          }
        }
      ]
    },
    {
      "cell_type": "code",
      "metadata": {
        "id": "GfkCz4ZzFyCy",
        "colab_type": "code",
        "outputId": "460136c6-2423-4b86-c7bd-32f2a6ec8728",
        "colab": {
          "base_uri": "https://localhost:8080/",
          "height": 0
        }
      },
      "source": [
        "plt.plot(days, high_data_set, \"^k\")\n",
        "plt.show() # 1 data set is drawn here"
      ],
      "execution_count": 149,
      "outputs": [
        {
          "output_type": "display_data",
          "data": {
            "image/png": "[encoded data removed]",
            "text/plain": [
              "<Figure size 432x288 with 1 Axes>"
            ]
          },
          "metadata": {
            "tags": [],
            "needs_background": "light"
          }
        }
      ]
    },
    {
      "cell_type": "code",
      "metadata": {
        "id": "eBfKt5bqEqvw",
        "colab_type": "code",
        "outputId": "1d6df3d7-7585-4399-98f6-fc728aa6259c",
        "colab": {
          "base_uri": "https://localhost:8080/",
          "height": 0
        }
      },
      "source": [
        "# Add the x,y labels and title, legend is more a text box here\n",
        "plt.plot(days, low_data_set,\n",
        "         days, low_data_set, \"vm\",\n",
        "         days, high_data_set, \n",
        "         days, high_data_set, \"^k\")\n",
        "plt.xlabel('Day')\n",
        "plt.ylabel('Temperature: degrees Farenheit')\n",
        "plt.title('Randomized temperature data')\n",
        "plt.legend(loc=\"upper right\", shadow=True, title=\"Legend: high ^ vs low v\")\n",
        "plt.show()"
      ],
      "execution_count": 150,
      "outputs": [
        {
          "output_type": "display_data",
          "data": {
            "image/png": "[encoded data removed]",
            "text/plain": [
              "<Figure size 432x288 with 1 Axes>"
            ]
          },
          "metadata": {
            "tags": [],
            "needs_background": "light"
          }
        }
      ]
    },
    {
      "cell_type": "code",
      "metadata": {
        "id": "1cdjxIvMP432",
        "colab_type": "code",
        "outputId": "2a0349f9-5483-4443-9d00-6f11ba19ac9e",
        "colab": {
          "base_uri": "https://localhost:8080/",
          "height": 0
        }
      },
      "source": [
        "line1, = plt.plot(low_data_set)\n",
        "line2, = plt.plot(high_data_set)\n",
        "line1.set_label('low temperature')\n",
        "line2.set_label('high temperature')\n",
        "plt.legend()"
      ],
      "execution_count": 151,
      "outputs": [
        {
          "output_type": "execute_result",
          "data": {
            "text/plain": [
              "<matplotlib.legend.Legend at 0x7f1ab0a34690>"
            ]
          },
          "metadata": {
            "tags": []
          },
          "execution_count": 151
        },
        {
          "output_type": "display_data",
          "data": {
            "image/png": "[encoded data removed]",
            "text/plain": [
              "<Figure size 432x288 with 1 Axes>"
            ]
          },
          "metadata": {
            "tags": [],
            "needs_background": "light"
          }
        }
      ]
    },
    {
      "cell_type": "markdown",
      "metadata": {
        "id": "3HEp4iZlYirC",
        "colab_type": "text"
      },
      "source": [
        "Mark, Label and Grid"
      ]
    },
    {
      "cell_type": "code",
      "metadata": {
        "id": "oy5K2aICYclJ",
        "colab_type": "code",
        "outputId": "2314290d-7032-47b4-f813-551bd9fdc50b",
        "colab": {
          "base_uri": "https://localhost:8080/",
          "height": 0
        }
      },
      "source": [
        "number_of_data_points = 1000\n",
        "\n",
        "my_figure = plt.figure()\n",
        "subplot_1 = my_figure.add_subplot(1, 1, 1) # only one subplot in this figure\n",
        "subplot_1.plot(np.random.rand(number_of_data_points).cumsum()) # add data to subplot\n",
        "\n",
        "number_of_ticks = 8\n",
        "ticks = np.arange(0, number_of_data_points, number_of_data_points//number_of_ticks) # (0~1000, integer 0~125)\n",
        "subplot_1.set_xticks(ticks) # this won't be displayed on the subplot, only scales it\n",
        "\n",
        "labels = subplot_1.set_xticklabels(['one', 'two', '', 'three', 'four', 'five'], rotation=45, fontsize='small')\n",
        "\n",
        "subplot_1.set_title (\"My First Ticked Plot\")\n",
        "subplot_1.set_xlabel (\"Groups\")\n",
        "subplot_1.set_ylabel (\"Actual sum\")\n",
        "\n",
        "\n",
        "#subplot_1.grid(True)\n",
        "#gridlines = subplot_1.get_xgridlines() + subplot_1.get_ygridlines()\n",
        "#for line in gridlines:\n",
        "#    line.set_linestyle(':')\n",
        "\n",
        "# comment out grid example above and use a simpler one\n",
        "\n",
        "subplot_1.grid(color='r', linestyle=':', linewidth=5)\n",
        "plt.show()"
      ],
      "execution_count": 152,
      "outputs": [
        {
          "output_type": "display_data",
          "data": {
            "image/png": "[encoded data removed]",
            "text/plain": [
              "<Figure size 432x288 with 1 Axes>"
            ]
          },
          "metadata": {
            "tags": [],
            "needs_background": "light"
          }
        }
      ]
    },
    {
      "cell_type": "markdown",
      "metadata": {
        "id": "xy6W7pDeTy9v",
        "colab_type": "text"
      },
      "source": [
        "Line styles for grid lines\n",
        "<list>\n",
        "    <li>-    solid line</li>\n",
        "    <li>--   dashed line</li>\n",
        "    <li>-.   dash dot line</li>\n",
        "    <li>:    dotted</li>\n",
        "</list>\n",
        "\n",
        "More information about lines available at: http://matplotlib.org/api/lines_api.html"
      ]
    },
    {
      "cell_type": "code",
      "metadata": {
        "id": "EhHmTRBHaD1n",
        "colab_type": "code",
        "outputId": "8fe97494-9142-432d-9496-05579dafb44b",
        "colab": {
          "base_uri": "https://localhost:8080/",
          "height": 0
        }
      },
      "source": [
        "# add text box and arrow annotation\n",
        "number_of_data_points = 100\n",
        "\n",
        "my_figure2 = plt.figure()\n",
        "subplot_1 = my_figure2.add_subplot(1, 1, 1) # only one subplot in this figure\n",
        "subplot_1.plot(np.random.rand(number_of_data_points).cumsum()) # add data to subplot\n",
        "\n",
        "subplot_1.grid(None) # somehow after it's set to none, the grid is still here\n",
        "subplot_1.text (25, 40, r'an equation: $E=mc^2$', fontsize=18, color='red') # x=25, y=40 r'  accepts regex\n",
        "subplot_1.text (1, 1.5, \"Hello, Mountain Climbing!\", family='monospace', fontsize=10, color='green')\n",
        "\n",
        "# add text box at the center 0.5 here means 50%, more on transform http://matplotlib.org/users/transforms_tutorial.html\n",
        "subplot_1.text(0.5, 0.5, b\"We at the center, now\", transform=subplot_1.transAxes)\n",
        "\n",
        "# the allow start from xytext and points to xy\n",
        "subplot_1.annotate('shoot arrow', xy=(2, 1), xytext=(60, 20),\n",
        "            arrowprops=dict(facecolor='red', shrink=0.05))\n",
        "\n",
        "plt.show()"
      ],
      "execution_count": 153,
      "outputs": [
        {
          "output_type": "display_data",
          "data": {
            "image/png": "[encoded data removed]",
            "text/plain": [
              "<Figure size 432x288 with 1 Axes>"
            ]
          },
          "metadata": {
            "tags": [],
            "needs_background": "light"
          }
        }
      ]
    },
    {
      "cell_type": "code",
      "metadata": {
        "id": "k4miO2lHfyRa",
        "colab_type": "code",
        "outputId": "1a477b75-7cbd-4660-b58d-494750be4cfc",
        "colab": {
          "base_uri": "https://localhost:8080/",
          "height": 0
        }
      },
      "source": [
        "#Show above graphs side by side\n",
        "\n",
        "number_of_data_points = 1000\n",
        "\n",
        "my_figure = plt.figure()\n",
        "subplot_1 = my_figure.add_subplot(1, 2, 1) # only one subplot in this figure\n",
        "subplot_1.plot(np.random.rand(number_of_data_points).cumsum()) # add data to subplot\n",
        "\n",
        "number_of_ticks = 8\n",
        "ticks = np.arange(0, number_of_data_points, number_of_data_points//number_of_ticks) # (0~1000, integer 0~125)\n",
        "subplot_1.set_xticks(ticks) # this won't be displayed on the subplot, only scales it\n",
        "\n",
        "labels = subplot_1.set_xticklabels(['one', 'two', '', 'three', 'four', 'five'], rotation=45, fontsize='small')\n",
        "\n",
        "subplot_1.set_title (\"My First Ticked Plot\")\n",
        "subplot_1.set_xlabel (\"Groups\")\n",
        "subplot_1.set_ylabel (\"Actual sum\")\n",
        "\n",
        "subplot_1.grid(color='r', linestyle=':', linewidth=5)\n",
        "\n",
        "\n",
        "# remove grid but add text box\n",
        "number_of_data_points = 100\n",
        "\n",
        "#my_figure2 = plt.figure()\n",
        "subplot_2 = my_figure.add_subplot(1, 2, 2) # only one subplot in this figure\n",
        "subplot_2.plot(np.random.rand(number_of_data_points).cumsum()) # add data to subplot\n",
        "\n",
        "subplot_2.grid(None) # somehow after it's set to none, the grid is still here\n",
        "subplot_2.text (25, 40, r'an equation: $E=mc^2$', fontsize=18, color='red') # x=25, y=40 r'  accepts regex\n",
        "subplot_2.text (1, 1.5, \"Hello, Mountain Climbing!\", family='monospace', fontsize=10, color='green')\n",
        "\n",
        "# add text box at the center 0.5 here means 50%, more on transform http://matplotlib.org/users/transforms_tutorial.html\n",
        "subplot_2.text(0.5, 0.5, b\"We at the center, now\", transform=subplot_2.transAxes)\n",
        "\n",
        "# the allow start from xytext and points to xy\n",
        "subplot_2.annotate('shoot arrow', xy=(2, 1), xytext=(60, 20),\n",
        "            arrowprops=dict(facecolor='red', shrink=0.05))\n",
        "\n",
        "plt.show()"
      ],
      "execution_count": 154,
      "outputs": [
        {
          "output_type": "display_data",
          "data": {
            "image/png": "[encoded data removed]",
            "text/plain": [
              "<Figure size 432x288 with 2 Axes>"
            ]
          },
          "metadata": {
            "tags": [],
            "needs_background": "light"
          }
        }
      ]
    },
    {
      "cell_type": "markdown",
      "metadata": {
        "id": "C8AnxxRJkF5I",
        "colab_type": "text"
      },
      "source": [
        "Subplots"
      ]
    },
    {
      "cell_type": "code",
      "metadata": {
        "id": "JMSn6FtnjzQO",
        "colab_type": "code",
        "outputId": "acefa429-16c2-4aed-8825-b99ed67ba691",
        "colab": {
          "base_uri": "https://localhost:8080/",
          "height": 0
        }
      },
      "source": [
        "fig = plt.figure()\n",
        "for i, label in enumerate(('A', 'B', 'C', 'D')):\n",
        "    ax = fig.add_subplot(2,2,i+1)\n",
        "    ax.text(0.05, 0.95, label, transform=ax.transAxes,\n",
        "      fontsize=16, fontweight='bold', va='top')\n",
        "\n",
        "plt.show()"
      ],
      "execution_count": 155,
      "outputs": [
        {
          "output_type": "display_data",
          "data": {
            "image/png": "[encoded data removed]",
            "text/plain": [
              "<Figure size 432x288 with 4 Axes>"
            ]
          },
          "metadata": {
            "tags": [],
            "needs_background": "light"
          }
        }
      ]
    },
    {
      "cell_type": "markdown",
      "metadata": {
        "id": "3KFNFH_cK0x5",
        "colab_type": "text"
      },
      "source": [
        "More legend example: http://matplotlib.org/examples/pylab_examples/legend_demo2.html"
      ]
    },
    {
      "cell_type": "code",
      "metadata": {
        "id": "7hB3DUiZEqv-",
        "colab_type": "code",
        "outputId": "2f7181fa-34c4-4c52-bfe0-980e937682ec",
        "colab": {
          "base_uri": "https://localhost:8080/",
          "height": 0
        }
      },
      "source": [
        "t1 = np.arange(0.0, 2.0, 0.1)\n",
        "t2 = np.arange(0.0, 2.0, 0.01)\n",
        "\n",
        "# note that plot returns a list of lines.  The \"l1, = plot\" usage\n",
        "# extracts the first element of the list into l1 using tuple\n",
        "# unpacking.  So l1 is a Line2D instance, not a sequence of lines\n",
        "l1, = plt.plot(t2, np.exp(-t2))\n",
        "l2, l3 = plt.plot(t2, np.sin(2 * np.pi * t2), '--go', t1, np.log(1 + t1), '.')\n",
        "l4, = plt.plot(t2, np.exp(-t2) * np.sin(2 * np.pi * t2), 'rs-.')\n",
        "\n",
        "plt.legend((l2, l4), ('oscillatory', 'damped'), loc='upper right', shadow=True)\n",
        "plt.xlabel('time')\n",
        "plt.ylabel('volts')\n",
        "plt.title('Damped oscillation')\n",
        "plt.show()"
      ],
      "execution_count": 156,
      "outputs": [
        {
          "output_type": "display_data",
          "data": {
            "image/png": "[encoded data removed]",
            "text/plain": [
              "<Figure size 432x288 with 1 Axes>"
            ]
          },
          "metadata": {
            "tags": [],
            "needs_background": "light"
          }
        }
      ]
    },
    {
      "cell_type": "markdown",
      "metadata": {
        "id": "bDmiEOtYqtIM",
        "colab_type": "text"
      },
      "source": [
        "Another annotation example"
      ]
    },
    {
      "cell_type": "code",
      "metadata": {
        "id": "jEcsRi6JLagB",
        "colab_type": "code",
        "outputId": "fe41bed4-c543-403c-8526-13f8cbca5a55",
        "colab": {
          "base_uri": "https://localhost:8080/",
          "height": 0
        }
      },
      "source": [
        "x = np.arange(0, 10, 0.005)\n",
        "y = np.exp(-x/2.) * np.sin(2*np.pi*x)\n",
        "\n",
        "fig = plt.figure()\n",
        "ax = fig.add_subplot(111)\n",
        "ax.plot(x, y)\n",
        "ax.set_xlim(0, 10)\n",
        "ax.set_ylim(-1, 1)\n",
        "\n",
        "xdata, ydata = 5, 0\n",
        "xdisplay, ydisplay = ax.transData.transform_point((xdata, ydata))\n",
        "print(xdisplay, ydisplay)\n",
        "\n",
        "# bbox defines the 2 boxes. fc is grayscale betweem 0 - 1\n",
        "bbox = dict(boxstyle=\"round\", fc=\"0.8\")\n",
        "arrowprops = dict(\n",
        "    arrowstyle = \"->\",\n",
        "    connectionstyle = \"angle,angleA=30,angleB=90,rad=10\") #angel of the arrows\n",
        "\n",
        "offset = 72\n",
        "ax.annotate('data = (%.1f, %.1f)'%(xdata, ydata), # txt box 1 content\n",
        "            (xdata, ydata), xytext=(-2*offset, offset), textcoords='offset points', # to 5,0, from 5+(-2)*offset, 0+offset\n",
        "            bbox=bbox, arrowprops=arrowprops)  #bbox style, with arrowprops\n",
        "\n",
        "\n",
        "disp = ax.annotate('display = (%.1f, %.1f)'%(xdisplay, ydisplay), # txt box 1 content\n",
        "            (xdisplay, ydisplay), xytext=(0.5*offset, -offset), # to pixel location? 221.4 144.7, from 221.4+0.5*offset, 144.7-offset\n",
        "            xycoords='figure pixels',\n",
        "            textcoords='offset points',\n",
        "            bbox=bbox, arrowprops=arrowprops)\n",
        "\n",
        "\n",
        "plt.show()"
      ],
      "execution_count": 157,
      "outputs": [
        {
          "output_type": "stream",
          "text": [
            "(221.40000000000003, 144.72)\n"
          ],
          "name": "stdout"
        },
        {
          "output_type": "display_data",
          "data": {
            "image/png": "[encoded data removed]",
            "text/plain": [
              "<Figure size 432x288 with 1 Axes>"
            ]
          },
          "metadata": {
            "tags": [],
            "needs_background": "light"
          }
        }
      ]
    },
    {
      "cell_type": "markdown",
      "metadata": {
        "id": "rWDAhfc8i9bC",
        "colab_type": "text"
      },
      "source": [
        "### Pie and Bar function API\n",
        "http://matplotlib.org/api/pyplot_api.html"
      ]
    },
    {
      "cell_type": "code",
      "metadata": {
        "id": "p6OhC6xbnPGg",
        "colab_type": "code",
        "outputId": "791ac74a-c9e5-497a-f630-2565c3929524",
        "colab": {
          "base_uri": "https://localhost:8080/",
          "height": 0
        }
      },
      "source": [
        "# The slices will be ordered and plotted counter-clockwise.\n",
        "labels = 'Frogs', 'Hogs', 'Dogs', 'Logs'\n",
        "sizes = [15, 30, 45, 10] # x=sizes, the percentage main body of the chart\n",
        "colors = ['yellowgreen', 'gold', 'lightskyblue', 'lightcoral']\n",
        "explode = (0, 0.2, 0, 0)  # only \"explode\" the 2nd slice (i.e. 'Hogs')\n",
        "wedgeproperty = {'linewidth': 10, 'hatch': '/'}\n",
        "\n",
        "plt.pie(x=sizes, explode=explode, labels=labels, colors=colors,\n",
        "        autopct='%1.1f%%', shadow=True, startangle=180, wedgeprops = wedgeproperty, \n",
        "        textprops=dict(color=\"r\"), frame=True ) \n",
        "# Set aspect ratio to be equal so that pie is drawn as a circle.\n",
        "plt.axis('equal')  # a circle, rather than ellipse\n",
        "\n",
        "# matplotlib.pyplot.pie(x=[size], explode=None, labels=None, colors=None, autopct=None show percentage in 1.1f format etc, \n",
        "# pctdistance=0.6 percentage label to center disatance in radius ratio, \n",
        "# shadow=False, wedgeprops=None dict eg wedgeprops = {'linewidth': 10, 'hatch': '/'} https://matplotlib.org/api/_as_gen/matplotlib.patches.Wedge.html,\n",
        "# labeldistance=1.1 text abel to center disatance in radius ratio, startangle=None, radius=None size of the pie, counterclock=True, \n",
        "# textprops=None dict text property, center=(0, 0), frame=False add x,y frame, data=None)\n",
        "\n",
        "\n",
        "plt.show()\n",
        "\n",
        "# returns \n",
        "# patches : list\n",
        "#   sequence of matplotlib.patches.Wedge instances\n",
        "# texts : list\n",
        "#   is a list of the label matplotlib.text.Text instances.\n",
        "# autotexts : list\n",
        "#   is a list of Text instances for the numeric labels. Is returned only if parameter autopct is not None."
      ],
      "execution_count": 158,
      "outputs": [
        {
          "output_type": "display_data",
          "data": {
            "image/png": "[encoded data removed]",
            "text/plain": [
              "<Figure size 432x288 with 1 Axes>"
            ]
          },
          "metadata": {
            "tags": [],
            "needs_background": "light"
          }
        }
      ]
    },
    {
      "cell_type": "code",
      "metadata": {
        "id": "NXoyEqIXjUEN",
        "colab_type": "code",
        "outputId": "6439ced9-7fa6-4c9b-dc0c-5bec26ec769b",
        "colab": {
          "base_uri": "https://localhost:8080/",
          "height": 0
        }
      },
      "source": [
        "N = 5\n",
        "menMeans = (20, 35, 30, 35, 27)\n",
        "menStd = (2, 3, 4, 1, 2)\n",
        "\n",
        "ind = np.arange(N)  # the x locations for the groups\n",
        "width = 0.35       # the width of the bars\n",
        "\n",
        "# matplotlib.pyplot.bar(left, height, width=0.8, bottom=None, hold=None, data=None, **kwargs)\n",
        "fig, ax = plt.subplots()\n",
        "rects1 = ax.bar(ind, menMeans, width, color='r', yerr=menStd)\n",
        "\n",
        "womenMeans = (25, 32, 34, 20, 25)\n",
        "womenStd = (3, 5, 2, 3, 3)\n",
        "rects2 = ax.bar(ind + width, womenMeans, width, color='y', yerr=womenStd)\n",
        "\n",
        "\n",
        "# add some text for labels, title and axes ticks\n",
        "ax.set_ylabel('Scores')\n",
        "ax.set_title('Scores by group and gender')\n",
        "\n",
        "ax.set_xticks(ind + width)\n",
        "ax.set_xticklabels(('G1', 'G2', 'G3', 'G4', 'G5'))\n",
        "\n",
        "ax.legend((rects1[0], rects2[0]), ('Men', 'Women'))\n",
        "\n",
        "\n",
        "plt.show()"
      ],
      "execution_count": 159,
      "outputs": [
        {
          "output_type": "display_data",
          "data": {
            "image/png": "[encoded data removed]",
            "text/plain": [
              "<Figure size 432x288 with 1 Axes>"
            ]
          },
          "metadata": {
            "tags": [],
            "needs_background": "light"
          }
        }
      ]
    },
    {
      "cell_type": "markdown",
      "metadata": {
        "id": "JdIceBUB00om",
        "colab_type": "text"
      },
      "source": [
        "For more complicated plots, [matplotlib's Gallery](https://matplotlib.org/gallery.html)\n",
        "More example from my github in [Gallery.ipynb](https://raw.githubusercontent.com/cmskzhan/helloworld/master/LearnNumpy/Ch%204/04_07/Finish/Gallery.ipynb)"
      ]
    },
    {
      "cell_type": "markdown",
      "metadata": {
        "id": "50tNXDrCdM6q",
        "colab_type": "text"
      },
      "source": [
        "##  Algos, Linear algebra and statistics"
      ]
    },
    {
      "cell_type": "markdown",
      "metadata": {
        "id": "O4WmZBSssFjs",
        "colab_type": "text"
      },
      "source": [
        "###Universal Function"
      ]
    },
    {
      "cell_type": "code",
      "metadata": {
        "id": "nlNqP65gjVed",
        "colab_type": "code",
        "colab": {}
      },
      "source": [
        "# simple function: truncated binomial: returns (x+1)**3 - (x)**3\n",
        "def truncated_binomial(x):\n",
        "    return (x+1)**3 - (x)**3\n",
        "\n",
        "np.testing.assert_equal (truncated_binomial(4), 61) #unit test the function output against result"
      ],
      "execution_count": 0,
      "outputs": []
    },
    {
      "cell_type": "code",
      "metadata": {
        "id": "nWKKKCp5rGxz",
        "colab_type": "code",
        "outputId": "613795d7-39d0-4ac9-fb8e-7afa069d67e0",
        "colab": {
          "base_uri": "https://localhost:8080/",
          "height": 0
        }
      },
      "source": [
        "# frompyfunc() Takes an arbitrary Python function and returns a NumPy ufunc.\n",
        "numpy_function = np.frompyfunc(truncated_binomial, 1, 1) # 1, 1 means input 1 output 1\n",
        "numpy_function"
      ],
      "execution_count": 161,
      "outputs": [
        {
          "output_type": "execute_result",
          "data": {
            "text/plain": [
              "<ufunc 'truncated_binomial (vectorized)'>"
            ]
          },
          "metadata": {
            "tags": []
          },
          "execution_count": 161
        }
      ]
    },
    {
      "cell_type": "code",
      "metadata": {
        "id": "KrIY-cZCr414",
        "colab_type": "code",
        "outputId": "2c092748-415c-4c9c-f3f9-8cd4b70f7c4a",
        "colab": {
          "base_uri": "https://localhost:8080/",
          "height": 0
        }
      },
      "source": [
        "a = np.arange(10)\n",
        "numpy_function(a)"
      ],
      "execution_count": 162,
      "outputs": [
        {
          "output_type": "execute_result",
          "data": {
            "text/plain": [
              "array([1, 7, 19, 37, 61, 91, 127, 169, 217, 271], dtype=object)"
            ]
          },
          "metadata": {
            "tags": []
          },
          "execution_count": 162
        }
      ]
    },
    {
      "cell_type": "code",
      "metadata": {
        "id": "IvxYdlpJsDnv",
        "colab_type": "code",
        "outputId": "aec85195-847b-4fff-8147-8513fdafac0a",
        "colab": {
          "base_uri": "https://localhost:8080/",
          "height": 0
        }
      },
      "source": [
        "a_outer=np.outer(a,a)\n",
        "a_outer"
      ],
      "execution_count": 163,
      "outputs": [
        {
          "output_type": "execute_result",
          "data": {
            "text/plain": [
              "array([[ 0,  0,  0,  0,  0,  0,  0,  0,  0,  0],\n",
              "       [ 0,  1,  2,  3,  4,  5,  6,  7,  8,  9],\n",
              "       [ 0,  2,  4,  6,  8, 10, 12, 14, 16, 18],\n",
              "       [ 0,  3,  6,  9, 12, 15, 18, 21, 24, 27],\n",
              "       [ 0,  4,  8, 12, 16, 20, 24, 28, 32, 36],\n",
              "       [ 0,  5, 10, 15, 20, 25, 30, 35, 40, 45],\n",
              "       [ 0,  6, 12, 18, 24, 30, 36, 42, 48, 54],\n",
              "       [ 0,  7, 14, 21, 28, 35, 42, 49, 56, 63],\n",
              "       [ 0,  8, 16, 24, 32, 40, 48, 56, 64, 72],\n",
              "       [ 0,  9, 18, 27, 36, 45, 54, 63, 72, 81]])"
            ]
          },
          "metadata": {
            "tags": []
          },
          "execution_count": 163
        }
      ]
    },
    {
      "cell_type": "code",
      "metadata": {
        "id": "0yCByVjLsjoN",
        "colab_type": "code",
        "outputId": "1b389a42-ed31-4cf9-8f4c-d621cb3062d2",
        "colab": {
          "base_uri": "https://localhost:8080/",
          "height": 0
        }
      },
      "source": [
        "numpy_function(a_outer)"
      ],
      "execution_count": 164,
      "outputs": [
        {
          "output_type": "execute_result",
          "data": {
            "text/plain": [
              "array([[1, 1, 1, 1, 1, 1, 1, 1, 1, 1],\n",
              "       [1, 7, 19, 37, 61, 91, 127, 169, 217, 271],\n",
              "       [1, 19, 61, 127, 217, 331, 469, 631, 817, 1027],\n",
              "       [1, 37, 127, 271, 469, 721, 1027, 1387, 1801, 2269],\n",
              "       [1, 61, 217, 469, 817, 1261, 1801, 2437, 3169, 3997],\n",
              "       [1, 91, 331, 721, 1261, 1951, 2791, 3781, 4921, 6211],\n",
              "       [1, 127, 469, 1027, 1801, 2791, 3997, 5419, 7057, 8911],\n",
              "       [1, 169, 631, 1387, 2437, 3781, 5419, 7351, 9577, 12097],\n",
              "       [1, 217, 817, 1801, 3169, 4921, 7057, 9577, 12481, 15769],\n",
              "       [1, 271, 1027, 2269, 3997, 6211, 8911, 12097, 15769, 19927]],\n",
              "      dtype=object)"
            ]
          },
          "metadata": {
            "tags": []
          },
          "execution_count": 164
        }
      ]
    },
    {
      "cell_type": "code",
      "metadata": {
        "id": "TvD70M-ntXLS",
        "colab_type": "code",
        "colab": {}
      },
      "source": [
        "# a simple np function to check if a number is integer\n",
        "def is_integer(x):\n",
        "    return np.equal(np.mod(x, 1), 0)\n",
        "\n",
        "numpy_function2_is_integer = np.frompyfunc(is_integer, 1, 1) #convert above function to universal function"
      ],
      "execution_count": 0,
      "outputs": []
    },
    {
      "cell_type": "markdown",
      "metadata": {
        "id": "r12faLmyvSWM",
        "colab_type": "text"
      },
      "source": [
        "Find long side of right angel triangel with sides less than 11\n",
        "\n",
        "\\begin{equation*}\n",
        "X^2 + Y^2 = Z^2\n",
        "\\end{equation*}"
      ]
    },
    {
      "cell_type": "code",
      "metadata": {
        "id": "aG3MpMF_xpOd",
        "colab_type": "code",
        "colab": {}
      },
      "source": [
        "x = np.arange(9) + 1\n",
        "y = np.arange(9) + 1"
      ],
      "execution_count": 0,
      "outputs": []
    },
    {
      "cell_type": "code",
      "metadata": {
        "id": "XSQR4I6hyEds",
        "colab_type": "code",
        "outputId": "10e1b5a3-7548-4d40-ab5f-72283a1182d6",
        "colab": {
          "base_uri": "https://localhost:8080/",
          "height": 0
        }
      },
      "source": [
        "hypotenuse_squared = np.add.outer(x ** 2, y ** 2) \n",
        "hypotenuse= np.sqrt(hypotenuse_squared)\n",
        "hypotenuse"
      ],
      "execution_count": 167,
      "outputs": [
        {
          "output_type": "execute_result",
          "data": {
            "text/plain": [
              "array([[ 1.4142,  2.2361,  3.1623,  4.1231,  5.099 ,  6.0828,  7.0711,\n",
              "         8.0623,  9.0554],\n",
              "       [ 2.2361,  2.8284,  3.6056,  4.4721,  5.3852,  6.3246,  7.2801,\n",
              "         8.2462,  9.2195],\n",
              "       [ 3.1623,  3.6056,  4.2426,  5.    ,  5.831 ,  6.7082,  7.6158,\n",
              "         8.544 ,  9.4868],\n",
              "       [ 4.1231,  4.4721,  5.    ,  5.6569,  6.4031,  7.2111,  8.0623,\n",
              "         8.9443,  9.8489],\n",
              "       [ 5.099 ,  5.3852,  5.831 ,  6.4031,  7.0711,  7.8102,  8.6023,\n",
              "         9.434 , 10.2956],\n",
              "       [ 6.0828,  6.3246,  6.7082,  7.2111,  7.8102,  8.4853,  9.2195,\n",
              "        10.    , 10.8167],\n",
              "       [ 7.0711,  7.2801,  7.6158,  8.0623,  8.6023,  9.2195,  9.8995,\n",
              "        10.6301, 11.4018],\n",
              "       [ 8.0623,  8.2462,  8.544 ,  8.9443,  9.434 , 10.    , 10.6301,\n",
              "        11.3137, 12.0416],\n",
              "       [ 9.0554,  9.2195,  9.4868,  9.8489, 10.2956, 10.8167, 11.4018,\n",
              "        12.0416, 12.7279]])"
            ]
          },
          "metadata": {
            "tags": []
          },
          "execution_count": 167
        }
      ]
    },
    {
      "cell_type": "code",
      "metadata": {
        "id": "vhlcihVsyev2",
        "colab_type": "code",
        "outputId": "8317f1d7-be08-4b84-c637-7385b5150d38",
        "colab": {
          "base_uri": "https://localhost:8080/",
          "height": 0
        }
      },
      "source": [
        "# mask them to find which ones are integer\n",
        "# first get the mask\n",
        "mask_non_int = numpy_function2_is_integer(hypotenuse)\n",
        "mask_non_int.astype(bool) #has to convert from object type to boolean type, o/w err"
      ],
      "execution_count": 168,
      "outputs": [
        {
          "output_type": "execute_result",
          "data": {
            "text/plain": [
              "array([[False, False, False, False, False, False, False, False, False],\n",
              "       [False, False, False, False, False, False, False, False, False],\n",
              "       [False, False, False,  True, False, False, False, False, False],\n",
              "       [False, False,  True, False, False, False, False, False, False],\n",
              "       [False, False, False, False, False, False, False, False, False],\n",
              "       [False, False, False, False, False, False, False,  True, False],\n",
              "       [False, False, False, False, False, False, False, False, False],\n",
              "       [False, False, False, False, False,  True, False, False, False],\n",
              "       [False, False, False, False, False, False, False, False, False]])"
            ]
          },
          "metadata": {
            "tags": []
          },
          "execution_count": 168
        }
      ]
    },
    {
      "cell_type": "code",
      "metadata": {
        "id": "nxHov4jaz6ac",
        "colab_type": "code",
        "outputId": "04bc7783-7ec1-4f1f-fdd2-1c3400f16cc2",
        "colab": {
          "base_uri": "https://localhost:8080/",
          "height": 0
        }
      },
      "source": [
        "# apply mask to get the result of long side of a right triangel\n",
        "filtered_nparray = hypotenuse[mask_non_int.astype(bool)]\n",
        "filtered_nparray"
      ],
      "execution_count": 169,
      "outputs": [
        {
          "output_type": "execute_result",
          "data": {
            "text/plain": [
              "array([ 5.,  5., 10., 10.])"
            ]
          },
          "metadata": {
            "tags": []
          },
          "execution_count": 169
        }
      ]
    },
    {
      "cell_type": "markdown",
      "metadata": {
        "id": "RsF9bgyivSWT",
        "colab_type": "text"
      },
      "source": [
        "For m and n positive integers, and m greater than n\n",
        "\\begin{equation*}\n",
        "X = m^2 - n^2;  \n",
        "Y = 2mn;  \n",
        "Z = m^2 + n^2\n",
        "\\end{equation*}"
      ]
    },
    {
      "cell_type": "markdown",
      "metadata": {
        "id": "fG_OT1ZC6lEy",
        "colab_type": "text"
      },
      "source": [
        "### Linear Algebra"
      ]
    },
    {
      "cell_type": "code",
      "metadata": {
        "id": "VhzyUTOb6oD8",
        "colab_type": "code",
        "outputId": "e8655c3c-d13e-4666-d668-3d0f65ff5804",
        "colab": {
          "base_uri": "https://localhost:8080/",
          "height": 0
        }
      },
      "source": [
        "my_first_matrix = np.matrix([[3, 1, 4], [1, 5, 9], [2, 6, 5]])\n",
        "my_first_matrix"
      ],
      "execution_count": 170,
      "outputs": [
        {
          "output_type": "execute_result",
          "data": {
            "text/plain": [
              "matrix([[3, 1, 4],\n",
              "        [1, 5, 9],\n",
              "        [2, 6, 5]])"
            ]
          },
          "metadata": {
            "tags": []
          },
          "execution_count": 170
        }
      ]
    },
    {
      "cell_type": "code",
      "metadata": {
        "id": "Znp6Zne06tUr",
        "colab_type": "code",
        "outputId": "5a209185-e015-4689-e63d-4bcc3c0753e1",
        "colab": {
          "base_uri": "https://localhost:8080/",
          "height": 0
        }
      },
      "source": [
        "# transpose\n",
        "print(my_first_matrix.T)\n",
        "# inverse\n",
        "print(my_first_matrix.I)"
      ],
      "execution_count": 171,
      "outputs": [
        {
          "output_type": "stream",
          "text": [
            "[[3 1 2]\n",
            " [1 5 6]\n",
            " [4 9 5]]\n",
            "[[ 0.3222 -0.2111  0.1222]\n",
            " [-0.1444 -0.0778  0.2556]\n",
            " [ 0.0444  0.1778 -0.1556]]\n"
          ],
          "name": "stdout"
        }
      ]
    },
    {
      "cell_type": "code",
      "metadata": {
        "id": "5vz8pmoX7FOT",
        "colab_type": "code",
        "outputId": "445073bb-7496-4d28-facf-8cc832f8c575",
        "colab": {
          "base_uri": "https://localhost:8080/",
          "height": 0
        }
      },
      "source": [
        "# create an identity matrix\n",
        "np.eye(5)"
      ],
      "execution_count": 172,
      "outputs": [
        {
          "output_type": "execute_result",
          "data": {
            "text/plain": [
              "array([[1., 0., 0., 0., 0.],\n",
              "       [0., 1., 0., 0., 0.],\n",
              "       [0., 0., 1., 0., 0.],\n",
              "       [0., 0., 0., 1., 0.],\n",
              "       [0., 0., 0., 0., 1.]])"
            ]
          },
          "metadata": {
            "tags": []
          },
          "execution_count": 172
        }
      ]
    },
    {
      "cell_type": "markdown",
      "metadata": {
        "colab_type": "text",
        "id": "bFJL3lBr7XGo"
      },
      "source": [
        "\\begin{equation*}\n",
        "AX = C\n",
        "\\end{equation*}\n",
        "\\begin{equation*}\n",
        "X = A^{-1}C\n",
        "\\end{equation*}"
      ]
    },
    {
      "cell_type": "code",
      "metadata": {
        "id": "RsCy-DBV7gKQ",
        "colab_type": "code",
        "colab": {}
      },
      "source": [
        "c = np.matrix([[11],\n",
        "               [22],\n",
        "               [33]])"
      ],
      "execution_count": 0,
      "outputs": []
    },
    {
      "cell_type": "code",
      "metadata": {
        "id": "3RYZ8bkJ8fKf",
        "colab_type": "code",
        "outputId": "19a5afbc-6560-42a0-b132-daa58291d833",
        "colab": {
          "base_uri": "https://localhost:8080/",
          "height": 0
        }
      },
      "source": [
        "solution=my_first_matrix.I * c\n",
        "solution"
      ],
      "execution_count": 174,
      "outputs": [
        {
          "output_type": "execute_result",
          "data": {
            "text/plain": [
              "matrix([[ 2.9333],\n",
              "        [ 5.1333],\n",
              "        [-0.7333]])"
            ]
          },
          "metadata": {
            "tags": []
          },
          "execution_count": 174
        }
      ]
    },
    {
      "cell_type": "markdown",
      "metadata": {
        "id": "tBu-6JtN9H1x",
        "colab_type": "text"
      },
      "source": [
        "\\begin{equation*}\n",
        "AX - C = [0]\n",
        "\\end{equation*}"
      ]
    },
    {
      "cell_type": "code",
      "metadata": {
        "id": "_O5F8tpC8vck",
        "colab_type": "code",
        "outputId": "d040d31f-ecca-4581-8f4d-22851c817ea6",
        "colab": {
          "base_uri": "https://localhost:8080/",
          "height": 0
        }
      },
      "source": [
        "# confirm that solution is correct\n",
        "my_first_matrix * solution - c"
      ],
      "execution_count": 175,
      "outputs": [
        {
          "output_type": "execute_result",
          "data": {
            "text/plain": [
              "matrix([[0.0000e+00],\n",
              "        [0.0000e+00],\n",
              "        [7.1054e-15]])"
            ]
          },
          "metadata": {
            "tags": []
          },
          "execution_count": 175
        }
      ]
    },
    {
      "cell_type": "code",
      "metadata": {
        "id": "F6F5iXTs8_Xh",
        "colab_type": "code",
        "outputId": "62daaf8f-41f6-422d-d3c3-f7e14ea46fdd",
        "colab": {
          "base_uri": "https://localhost:8080/",
          "height": 0
        }
      },
      "source": [
        "# to solve large matrices efficiently\n",
        "from numpy.linalg import solve\n",
        "solve(my_first_matrix, c)"
      ],
      "execution_count": 176,
      "outputs": [
        {
          "output_type": "execute_result",
          "data": {
            "text/plain": [
              "matrix([[ 2.9333],\n",
              "        [ 5.1333],\n",
              "        [-0.7333]])"
            ]
          },
          "metadata": {
            "tags": []
          },
          "execution_count": 176
        }
      ]
    },
    {
      "cell_type": "code",
      "metadata": {
        "id": "45fR-GFp90d3",
        "colab_type": "code",
        "outputId": "bf4c813b-3b50-429a-8915-a2b9429714ed",
        "colab": {
          "base_uri": "https://localhost:8080/",
          "height": 0
        }
      },
      "source": [
        "# Compute the eigenvalues and right eigenvectors\n",
        "from numpy.linalg import eig\n",
        "eig(my_first_matrix)"
      ],
      "execution_count": 177,
      "outputs": [
        {
          "output_type": "execute_result",
          "data": {
            "text/plain": [
              "(array([13.0858,  2.58  , -2.6658]), matrix([[-0.3154, -0.9512, -0.3237],\n",
              "         [-0.7231,  0.3078, -0.7022],\n",
              "         [-0.6146,  0.0229,  0.6341]]))"
            ]
          },
          "metadata": {
            "tags": []
          },
          "execution_count": 177
        }
      ]
    },
    {
      "cell_type": "markdown",
      "metadata": {
        "id": "-WBTEWnc-luP",
        "colab_type": "text"
      },
      "source": [
        "### Arithmatic sequence"
      ]
    },
    {
      "cell_type": "code",
      "metadata": {
        "id": "7hwPsCf598DL",
        "colab_type": "code",
        "outputId": "2e14f127-17de-456b-e307-de2d8695ad9e",
        "colab": {
          "base_uri": "https://localhost:8080/",
          "height": 0
        }
      },
      "source": [
        "my_teaser_array = np.array([1, 7, 19, 37, 61, 91, 127, 169, 217, 271, 331])\n",
        "np.diff(my_teaser_array)"
      ],
      "execution_count": 178,
      "outputs": [
        {
          "output_type": "execute_result",
          "data": {
            "text/plain": [
              "array([ 6, 12, 18, 24, 30, 36, 42, 48, 54, 60])"
            ]
          },
          "metadata": {
            "tags": []
          },
          "execution_count": 178
        }
      ]
    },
    {
      "cell_type": "code",
      "metadata": {
        "id": "7QS-ixE0-5f_",
        "colab_type": "code",
        "outputId": "1d91dc41-f677-4b1f-b8e3-6af7aadddc56",
        "colab": {
          "base_uri": "https://localhost:8080/",
          "height": 0
        }
      },
      "source": [
        "np.diff(my_teaser_array, n=2)"
      ],
      "execution_count": 179,
      "outputs": [
        {
          "output_type": "execute_result",
          "data": {
            "text/plain": [
              "array([6, 6, 6, 6, 6, 6, 6, 6, 6])"
            ]
          },
          "metadata": {
            "tags": []
          },
          "execution_count": 179
        }
      ]
    },
    {
      "cell_type": "code",
      "metadata": {
        "id": "oR53FdYE-7yn",
        "colab_type": "code",
        "outputId": "8fe94528-d1ee-4fc9-82d3-ce53febfc339",
        "colab": {
          "base_uri": "https://localhost:8080/",
          "height": 0
        }
      },
      "source": [
        "np.diff(my_teaser_array, n=3)"
      ],
      "execution_count": 180,
      "outputs": [
        {
          "output_type": "execute_result",
          "data": {
            "text/plain": [
              "array([0, 0, 0, 0, 0, 0, 0, 0])"
            ]
          },
          "metadata": {
            "tags": []
          },
          "execution_count": 180
        }
      ]
    },
    {
      "cell_type": "markdown",
      "metadata": {
        "id": "lFBBVqWXCH3_",
        "colab_type": "text"
      },
      "source": [
        "### Statistics with Scipy"
      ]
    },
    {
      "cell_type": "code",
      "metadata": {
        "id": "XlF0vXVE-8pG",
        "colab_type": "code",
        "outputId": "abd2a1f8-3674-46bd-e505-e008cf075355",
        "colab": {
          "base_uri": "https://localhost:8080/",
          "height": 34
        }
      },
      "source": [
        "%matplotlib inline\n",
        "import scipy as sp\n",
        "import numpy as np\n",
        "import matplotlib.pyplot as plt\n",
        "\n",
        "from scipy.stats import norm\n",
        "\n",
        "random_data_set = sp.randn(100) #normal distrubtion data set\n",
        "type(random_data_set)"
      ],
      "execution_count": 181,
      "outputs": [
        {
          "output_type": "execute_result",
          "data": {
            "text/plain": [
              "numpy.ndarray"
            ]
          },
          "metadata": {
            "tags": []
          },
          "execution_count": 181
        }
      ]
    },
    {
      "cell_type": "markdown",
      "metadata": {
        "id": "-mdovYP9_qQK",
        "colab_type": "text"
      },
      "source": [
        "#### descriptive statistics\n",
        "##### mean"
      ]
    },
    {
      "cell_type": "code",
      "metadata": {
        "id": "Mc_g3bzE_qQK",
        "colab_type": "code",
        "outputId": "96eea13f-9f71-4519-a376-c67a7ecd7818",
        "colab": {
          "base_uri": "https://localhost:8080/",
          "height": 50
        }
      },
      "source": [
        "print(random_data_set.mean())\n",
        "print(sp.mean(random_data_set))"
      ],
      "execution_count": 182,
      "outputs": [
        {
          "output_type": "stream",
          "text": [
            "0.014250549624728832\n",
            "0.014250549624728832\n"
          ],
          "name": "stdout"
        }
      ]
    },
    {
      "cell_type": "markdown",
      "metadata": {
        "id": "x2zpcjRu_qQN",
        "colab_type": "text"
      },
      "source": [
        "##### median"
      ]
    },
    {
      "cell_type": "code",
      "metadata": {
        "id": "IJzG8iKJ_qQO",
        "colab_type": "code",
        "outputId": "76c8e53e-03c8-4fbf-eebf-69727f52f23c",
        "colab": {
          "base_uri": "https://localhost:8080/",
          "height": 34
        }
      },
      "source": [
        "#ndarray don't have median method/attribute\n",
        "sp.median(random_data_set)\n"
      ],
      "execution_count": 183,
      "outputs": [
        {
          "output_type": "execute_result",
          "data": {
            "text/plain": [
              "0.09661171923484707"
            ]
          },
          "metadata": {
            "tags": []
          },
          "execution_count": 183
        }
      ]
    },
    {
      "cell_type": "markdown",
      "metadata": {
        "id": "vKKkgd0J_qQR",
        "colab_type": "text"
      },
      "source": [
        "##### minimum and maximum"
      ]
    },
    {
      "cell_type": "code",
      "metadata": {
        "id": "xFgpNqSZ_qQR",
        "colab_type": "code",
        "outputId": "33ca9cb9-67a7-4d28-b2b7-17d19782830c",
        "colab": {
          "base_uri": "https://localhost:8080/",
          "height": 34
        }
      },
      "source": [
        "# max, min only in nparray method, scipy has maximum in different meaning\n",
        "min_max = np.array([random_data_set.min(), random_data_set.max()])\n",
        "min_max"
      ],
      "execution_count": 184,
      "outputs": [
        {
          "output_type": "execute_result",
          "data": {
            "text/plain": [
              "array([-2.7821,  2.4837])"
            ]
          },
          "metadata": {
            "tags": []
          },
          "execution_count": 184
        }
      ]
    },
    {
      "cell_type": "markdown",
      "metadata": {
        "id": "GKWwUWX__qQW",
        "colab_type": "text"
      },
      "source": [
        "##### standard deviation and variance"
      ]
    },
    {
      "cell_type": "code",
      "metadata": {
        "id": "1sPpzJi5_qQX",
        "colab_type": "code",
        "outputId": "d6797fa5-deed-4aa3-8961-b7bb2d398e77",
        "colab": {
          "base_uri": "https://localhost:8080/",
          "height": 34
        }
      },
      "source": [
        "spread_measures = np.array([sp.std(random_data_set), sp.var(random_data_set)])\n",
        "spread_measures"
      ],
      "execution_count": 185,
      "outputs": [
        {
          "output_type": "execute_result",
          "data": {
            "text/plain": [
              "array([1.0713, 1.1476])"
            ]
          },
          "metadata": {
            "tags": []
          },
          "execution_count": 185
        }
      ]
    },
    {
      "cell_type": "code",
      "metadata": {
        "id": "Kts7gCW9_qQc",
        "colab_type": "code",
        "outputId": "6df8e79d-a993-4098-c59f-3284375e01ca",
        "colab": {
          "base_uri": "https://localhost:8080/",
          "height": 54
        }
      },
      "source": [
        "sp.stats.describe(random_data_set)"
      ],
      "execution_count": 186,
      "outputs": [
        {
          "output_type": "execute_result",
          "data": {
            "text/plain": [
              "DescribeResult(nobs=100, minmax=(-2.7820890061935626, 2.483666299774739), mean=0.014250549624728832, variance=1.1591908252593541, skewness=-0.12991425307720722, kurtosis=-0.03889395217352609)"
            ]
          },
          "metadata": {
            "tags": []
          },
          "execution_count": 186
        }
      ]
    },
    {
      "cell_type": "markdown",
      "metadata": {
        "id": "PeVKQKEe_qQh",
        "colab_type": "text"
      },
      "source": [
        "#### Probability Distributions\n",
        "- continuous distributions\n",
        "    - Normal: norm\n",
        "    - Chi squared: chi2\n",
        "    - Student's T: t\n",
        "    - Uniform: uniform\n",
        "- discrete distributions\n",
        "    - Poisson: poisson\n",
        "    - Binomial: binomial"
      ]
    },
    {
      "cell_type": "markdown",
      "metadata": {
        "id": "EWvuaS3AwHud",
        "colab_type": "text"
      },
      "source": [
        ""
      ]
    },
    {
      "cell_type": "markdown",
      "metadata": {
        "id": "JCeqG-hR_qQi",
        "colab_type": "text"
      },
      "source": [
        "##### Normal Distribution\n",
        "documentation: http://docs.scipy.org/doc/scipy-0.16.0/reference/generated/scipy.stats.norm.html"
      ]
    },
    {
      "cell_type": "code",
      "metadata": {
        "id": "gEbqboxvwB7m",
        "colab_type": "code",
        "colab": {
          "base_uri": "https://localhost:8080/",
          "height": 151
        },
        "outputId": "7650da43-6a89-4c10-f1b4-c123f3ea8e15"
      },
      "source": [
        "# assume an area's people's IQ\n",
        "iq_mean = 100\n",
        "iq_std_dev = 15\n",
        "iq_distribution = norm(loc=iq_mean, scale=iq_std_dev)\n",
        "for n in np.arange(8):\n",
        "    print('{:6.2f}'.format(iq_distribution.rvs())) # rvs is random variable function"
      ],
      "execution_count": 187,
      "outputs": [
        {
          "output_type": "stream",
          "text": [
            "100.64\n",
            "100.16\n",
            "114.55\n",
            " 99.12\n",
            "102.55\n",
            "112.80\n",
            " 87.36\n",
            " 85.53\n"
          ],
          "name": "stdout"
        }
      ]
    },
    {
      "cell_type": "markdown",
      "metadata": {
        "id": "Av8qGrOm_qQn",
        "colab_type": "text"
      },
      "source": [
        "probability density function (PDF)\n",
        "\n",
        "For continuous variates, PDF is proportional to the probability of the variate being in a small interval about the input parameter"
      ]
    },
    {
      "cell_type": "code",
      "metadata": {
        "id": "K8yET3gHwoeH",
        "colab_type": "code",
        "colab": {
          "base_uri": "https://localhost:8080/",
          "height": 34
        },
        "outputId": "5b8e7e56-d06f-4ff8-d5e1-022a45ac962e"
      },
      "source": [
        "iq_pdf = iq_distribution.pdf(110)\n",
        "print('{:6.2f}'.format(iq_pdf))"
      ],
      "execution_count": 188,
      "outputs": [
        {
          "output_type": "stream",
          "text": [
            "  0.02\n"
          ],
          "name": "stdout"
        }
      ]
    },
    {
      "cell_type": "markdown",
      "metadata": {
        "id": "XkKiNyUDyMAG",
        "colab_type": "text"
      },
      "source": [
        "cumulative density function (CDF)\n",
        "\n",
        "For continuous variates, CDF gives the probability that the variate has a value less than or equal to the input parameter"
      ]
    },
    {
      "cell_type": "code",
      "metadata": {
        "id": "JpJpHMtax9wm",
        "colab_type": "code",
        "colab": {
          "base_uri": "https://localhost:8080/",
          "height": 34
        },
        "outputId": "53319fba-d270-440c-8771-3c65043074fe"
      },
      "source": [
        "iq_value = 120\n",
        "iq_below = iq_distribution.cdf (iq_value)\n",
        "iq_above = 1 - iq_below\n",
        "print('Probability that IQ is below{:4d} is {:4.2f}; probability above: {:4.2f}'.format(iq_value, iq_below, iq_above))"
      ],
      "execution_count": 189,
      "outputs": [
        {
          "output_type": "stream",
          "text": [
            "Probability that IQ is below 120 is 0.91; probability above: 0.09\n"
          ],
          "name": "stdout"
        }
      ]
    },
    {
      "cell_type": "code",
      "metadata": {
        "id": "YtUujo_WySPT",
        "colab_type": "code",
        "colab": {
          "base_uri": "https://localhost:8080/",
          "height": 295
        },
        "outputId": "9665b8a3-0f7b-42e4-defc-b539a76441ee"
      },
      "source": [
        "#draw me a picture\n",
        "mu, sigma = 100, 15\n",
        "data_set = mu + sigma * np.random.randn(10000)\n",
        "\n",
        "# the histogram of the data\n",
        "n, bins, patches = plt.hist(data_set, 50, normed=1, facecolor='g', alpha=0.75)\n",
        "\n",
        "plt.xlabel('IQ Score')\n",
        "plt.ylabel('Probability')\n",
        "plt.title('Histogram of IQ')\n",
        "plt.text(60, .025, r'$\\mu=100,\\ \\sigma=15$')\n",
        "plt.axis([40, 160, 0, 0.03])\n",
        "plt.grid(True)\n",
        "plt.show()"
      ],
      "execution_count": 190,
      "outputs": [
        {
          "output_type": "display_data",
          "data": {
            "image/png": "[encoded data removed]",
            "text/plain": [
              "<Figure size 432x288 with 1 Axes>"
            ]
          },
          "metadata": {
            "tags": [],
            "needs_background": "light"
          }
        }
      ]
    },
    {
      "cell_type": "code",
      "metadata": {
        "id": "8BnlHvh6ybvH",
        "colab_type": "code",
        "colab": {}
      },
      "source": [
        ""
      ],
      "execution_count": 0,
      "outputs": []
    }
  ]
}
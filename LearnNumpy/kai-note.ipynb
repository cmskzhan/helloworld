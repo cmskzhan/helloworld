{
  "nbformat": 4,
  "nbformat_minor": 0,
  "metadata": {
    "kernelspec": {
      "display_name": "Python 2",
      "language": "python",
      "name": "python2"
    },
    "language_info": {
      "codemirror_mode": {
        "name": "ipython",
        "version": 2
      },
      "file_extension": ".py",
      "mimetype": "text/x-python",
      "name": "python",
      "nbconvert_exporter": "python",
      "pygments_lexer": "ipython2",
      "version": "2.7.11"
    },
    "colab": {
      "name": "Creating Arrays from Python Structures-checkpoint.ipynb",
      "provenance": []
    }
  },
  "cells": [
    {
      "cell_type": "markdown",
      "metadata": {
        "id": "P18y1y_syZv_",
        "colab_type": "text"
      },
      "source": [
        "<h1>Create NumPy arrays using Python's \"array like\" data types</h1>\n"
      ]
    },
    {
      "cell_type": "code",
      "metadata": {
        "id": "0ldeJOzOyeHX",
        "colab_type": "code",
        "outputId": "43b51853-12fc-4dcc-aa59-8a991110de21",
        "colab": {
          "base_uri": "https://localhost:8080/",
          "height": 34
        }
      },
      "source": [
        "import numpy as np \n",
        "print(np.__version__)"
      ],
      "execution_count": 1,
      "outputs": [
        {
          "output_type": "stream",
          "text": [
            "1.16.4\n"
          ],
          "name": "stdout"
        }
      ]
    },
    {
      "cell_type": "code",
      "metadata": {
        "id": "TqsoqXBTyp1o",
        "colab_type": "code",
        "outputId": "ba9cd490-1d9e-4d6f-d1b3-c81f6d6aa08c",
        "colab": {
          "base_uri": "https://localhost:8080/",
          "height": 34
        }
      },
      "source": [
        "my_list = [-17, 0, 4, 5, 29]\n",
        "np_array=np.array(my_list)\n",
        "print(np_array) "
      ],
      "execution_count": 2,
      "outputs": [
        {
          "output_type": "stream",
          "text": [
            "[-17   0   4   5  29]\n"
          ],
          "name": "stdout"
        }
      ]
    },
    {
      "cell_type": "markdown",
      "metadata": {
        "id": "IY_GexWR2v9S",
        "colab_type": "text"
      },
      "source": [
        "## multiply * works differently between python types and np typy"
      ]
    },
    {
      "cell_type": "code",
      "metadata": {
        "id": "byFpvbATyzUE",
        "colab_type": "code",
        "outputId": "7ae1913d-da42-4e6e-e789-1ecbc529d8fb",
        "colab": {
          "base_uri": "https://localhost:8080/",
          "height": 50
        }
      },
      "source": [
        "my_list_10x=my_list*10\n",
        "print(my_list_10x)\n",
        "np_array_10x=np_array*10\n",
        "print(np_array_10x)"
      ],
      "execution_count": 3,
      "outputs": [
        {
          "output_type": "stream",
          "text": [
            "[-17, 0, 4, 5, 29, -17, 0, 4, 5, 29, -17, 0, 4, 5, 29, -17, 0, 4, 5, 29, -17, 0, 4, 5, 29, -17, 0, 4, 5, 29, -17, 0, 4, 5, 29, -17, 0, 4, 5, 29, -17, 0, 4, 5, 29, -17, 0, 4, 5, 29]\n",
            "[-170    0   40   50  290]\n"
          ],
          "name": "stdout"
        }
      ]
    },
    {
      "cell_type": "markdown",
      "metadata": {
        "id": "HRVsjBCi0_Sn",
        "colab_type": "text"
      },
      "source": [
        "##complex and tuple"
      ]
    },
    {
      "cell_type": "code",
      "metadata": {
        "id": "byvClJ4jzd_L",
        "colab_type": "code",
        "outputId": "e1fd4eff-05ca-4748-ac50-5ad02bdd27ac",
        "colab": {
          "base_uri": "https://localhost:8080/",
          "height": 50
        }
      },
      "source": [
        "tupleToNumpy=(14, -3.14, 4+3j); tupleToNumpy2=(-14, 3.21)  #int, float, complex, np array keeps elements of array uniform\n",
        "numpyFromTuple=np.array(tupleToNumpy)\n",
        "numpyFromTuple2=np.array(tupleToNumpy2)\n",
        "print(numpyFromTuple)\n",
        "print(numpyFromTuple2)\n"
      ],
      "execution_count": 4,
      "outputs": [
        {
          "output_type": "stream",
          "text": [
            "[14.  +0.j -3.14+0.j  4.  +3.j]\n",
            "[-14.     3.21]\n"
          ],
          "name": "stdout"
        }
      ]
    },
    {
      "cell_type": "markdown",
      "metadata": {
        "id": "kwL0RMLNGjY9",
        "colab_type": "text"
      },
      "source": [
        "##simple methods"
      ]
    },
    {
      "cell_type": "code",
      "metadata": {
        "id": "0D-y3wJ20KBA",
        "colab_type": "code",
        "outputId": "a1e99c73-5a58-46cc-fe6b-40db3e52c8b5",
        "colab": {
          "base_uri": "https://localhost:8080/",
          "height": 34
        }
      },
      "source": [
        "# numpy.arange([start, ]stop, [step, ]dtype=None) official url by google np.arange\n",
        "np.arange(10,30,2)*10-3"
      ],
      "execution_count": 5,
      "outputs": [
        {
          "output_type": "execute_result",
          "data": {
            "text/plain": [
              "array([ 97, 117, 137, 157, 177, 197, 217, 237, 257, 277])"
            ]
          },
          "metadata": {
            "tags": []
          },
          "execution_count": 5
        }
      ]
    },
    {
      "cell_type": "code",
      "metadata": {
        "id": "P_RN65tGGJZi",
        "colab_type": "code",
        "outputId": "1b5cd072-c159-4dc5-d5bb-f66807d05748",
        "colab": {
          "base_uri": "https://localhost:8080/",
          "height": 34
        }
      },
      "source": [
        "np.arange(20,step=4)"
      ],
      "execution_count": 6,
      "outputs": [
        {
          "output_type": "execute_result",
          "data": {
            "text/plain": [
              "array([ 0,  4,  8, 12, 16])"
            ]
          },
          "metadata": {
            "tags": []
          },
          "execution_count": 6
        }
      ]
    },
    {
      "cell_type": "code",
      "metadata": {
        "id": "g8PlH0EkEqgG",
        "colab_type": "code",
        "outputId": "038fe895-38e2-4d34-f5eb-5475f04bf7ea",
        "colab": {
          "base_uri": "https://localhost:8080/",
          "height": 34
        }
      },
      "source": [
        "nparray=(np.arange(10,30,2)-3)*10\n",
        "nparray"
      ],
      "execution_count": 7,
      "outputs": [
        {
          "output_type": "execute_result",
          "data": {
            "text/plain": [
              "array([ 70,  90, 110, 130, 150, 170, 190, 210, 230, 250])"
            ]
          },
          "metadata": {
            "tags": []
          },
          "execution_count": 7
        }
      ]
    },
    {
      "cell_type": "code",
      "metadata": {
        "id": "JfrRTVVsE0tE",
        "colab_type": "code",
        "outputId": "bf140df4-f0c8-46a2-f7d9-4516bf36aa87",
        "colab": {
          "base_uri": "https://localhost:8080/",
          "height": 34
        }
      },
      "source": [
        "nparray.size # this only gives number of elements"
      ],
      "execution_count": 8,
      "outputs": [
        {
          "output_type": "execute_result",
          "data": {
            "text/plain": [
              "10"
            ]
          },
          "metadata": {
            "tags": []
          },
          "execution_count": 8
        }
      ]
    },
    {
      "cell_type": "code",
      "metadata": {
        "id": "O6aiy8J7FQh9",
        "colab_type": "code",
        "outputId": "91117ab6-95a6-4ce4-c1dc-4581c210f472",
        "colab": {
          "base_uri": "https://localhost:8080/",
          "height": 50
        }
      },
      "source": [
        "np.linspace(0,30,10,True)"
      ],
      "execution_count": 9,
      "outputs": [
        {
          "output_type": "execute_result",
          "data": {
            "text/plain": [
              "array([ 0.        ,  3.33333333,  6.66666667, 10.        , 13.33333333,\n",
              "       16.66666667, 20.        , 23.33333333, 26.66666667, 30.        ])"
            ]
          },
          "metadata": {
            "tags": []
          },
          "execution_count": 9
        }
      ]
    },
    {
      "cell_type": "markdown",
      "metadata": {
        "id": "f8qJ8YvWH7Jz",
        "colab_type": "text"
      },
      "source": [
        "##indexing, shaping (dimension) and slicing"
      ]
    },
    {
      "cell_type": "code",
      "metadata": {
        "id": "2Fen7Qm-FV9M",
        "colab_type": "code",
        "outputId": "a1a84f6c-74fb-44c8-e722-78da39022728",
        "colab": {
          "base_uri": "https://localhost:8080/",
          "height": 34
        }
      },
      "source": [
        "z=np.zeros(20)\n",
        "z[10]"
      ],
      "execution_count": 10,
      "outputs": [
        {
          "output_type": "execute_result",
          "data": {
            "text/plain": [
              "0.0"
            ]
          },
          "metadata": {
            "tags": []
          },
          "execution_count": 10
        }
      ]
    },
    {
      "cell_type": "code",
      "metadata": {
        "id": "IDPsv4DPJsaz",
        "colab_type": "code",
        "outputId": "84a0344e-ddbe-44e8-f179-517e587f9afd",
        "colab": {
          "base_uri": "https://localhost:8080/",
          "height": 50
        }
      },
      "source": [
        "z[10]=9;z[0]=10; z[-1]=7.5; z[-2]=-2.1\n",
        "z"
      ],
      "execution_count": 11,
      "outputs": [
        {
          "output_type": "execute_result",
          "data": {
            "text/plain": [
              "array([10. ,  0. ,  0. ,  0. ,  0. ,  0. ,  0. ,  0. ,  0. ,  0. ,  9. ,\n",
              "        0. ,  0. ,  0. ,  0. ,  0. ,  0. ,  0. , -2.1,  7.5])"
            ]
          },
          "metadata": {
            "tags": []
          },
          "execution_count": 11
        }
      ]
    },
    {
      "cell_type": "code",
      "metadata": {
        "id": "o-ENMCQiIfMx",
        "colab_type": "code",
        "outputId": "024abdef-3afa-4107-e843-2b9b3d34b2ff",
        "colab": {
          "base_uri": "https://localhost:8080/",
          "height": 67
        }
      },
      "source": [
        "o=np.ones((3,3), dtype=int)\n",
        "o"
      ],
      "execution_count": 12,
      "outputs": [
        {
          "output_type": "execute_result",
          "data": {
            "text/plain": [
              "array([[1, 1, 1],\n",
              "       [1, 1, 1],\n",
              "       [1, 1, 1]])"
            ]
          },
          "metadata": {
            "tags": []
          },
          "execution_count": 12
        }
      ]
    },
    {
      "cell_type": "code",
      "metadata": {
        "id": "3J0NdeaWIxtX",
        "colab_type": "code",
        "outputId": "9d1b5c55-3e2c-4bc5-8bc2-5f96091af480",
        "colab": {
          "base_uri": "https://localhost:8080/",
          "height": 84
        }
      },
      "source": [
        "z.shape=(4,5)\n",
        "z"
      ],
      "execution_count": 13,
      "outputs": [
        {
          "output_type": "execute_result",
          "data": {
            "text/plain": [
              "array([[10. ,  0. ,  0. ,  0. ,  0. ],\n",
              "       [ 0. ,  0. ,  0. ,  0. ,  0. ],\n",
              "       [ 9. ,  0. ,  0. ,  0. ,  0. ],\n",
              "       [ 0. ,  0. ,  0. , -2.1,  7.5]])"
            ]
          },
          "metadata": {
            "tags": []
          },
          "execution_count": 13
        }
      ]
    },
    {
      "cell_type": "code",
      "metadata": {
        "id": "yr_-7IOBKiqe",
        "colab_type": "code",
        "outputId": "4a121f92-a4aa-4c36-9b42-930dc01794c2",
        "colab": {
          "base_uri": "https://localhost:8080/",
          "height": 101
        }
      },
      "source": [
        "z.shape=(2,2,5)   #convert from 2-d to 3-d np array\n",
        "z"
      ],
      "execution_count": 14,
      "outputs": [
        {
          "output_type": "execute_result",
          "data": {
            "text/plain": [
              "array([[[10. ,  0. ,  0. ,  0. ,  0. ],\n",
              "        [ 0. ,  0. ,  0. ,  0. ,  0. ]],\n",
              "\n",
              "       [[ 9. ,  0. ,  0. ,  0. ,  0. ],\n",
              "        [ 0. ,  0. ,  0. , -2.1,  7.5]]])"
            ]
          },
          "metadata": {
            "tags": []
          },
          "execution_count": 14
        }
      ]
    },
    {
      "cell_type": "code",
      "metadata": {
        "id": "rtWYhzY1Ko9z",
        "colab_type": "code",
        "outputId": "91031e86-8cdc-42e7-88b8-8e764801c791",
        "colab": {
          "base_uri": "https://localhost:8080/",
          "height": 34
        }
      },
      "source": [
        "z[1][1]"
      ],
      "execution_count": 15,
      "outputs": [
        {
          "output_type": "execute_result",
          "data": {
            "text/plain": [
              "array([ 0. ,  0. ,  0. , -2.1,  7.5])"
            ]
          },
          "metadata": {
            "tags": []
          },
          "execution_count": 15
        }
      ]
    },
    {
      "cell_type": "code",
      "metadata": {
        "id": "xUVF3-VULDP-",
        "colab_type": "code",
        "outputId": "44cbccad-db79-46dc-eb38-2389f6a82c81",
        "colab": {
          "base_uri": "https://localhost:8080/",
          "height": 34
        }
      },
      "source": [
        "z[1,0][0]"
      ],
      "execution_count": 16,
      "outputs": [
        {
          "output_type": "execute_result",
          "data": {
            "text/plain": [
              "9.0"
            ]
          },
          "metadata": {
            "tags": []
          },
          "execution_count": 16
        }
      ]
    },
    {
      "cell_type": "code",
      "metadata": {
        "id": "QL7EkGkEKx2m",
        "colab_type": "code",
        "outputId": "784ca4c8-a33e-4d46-ac39-6fa0a04a7dea",
        "colab": {
          "base_uri": "https://localhost:8080/",
          "height": 50
        }
      },
      "source": [
        "z[0]"
      ],
      "execution_count": 17,
      "outputs": [
        {
          "output_type": "execute_result",
          "data": {
            "text/plain": [
              "array([[10.,  0.,  0.,  0.,  0.],\n",
              "       [ 0.,  0.,  0.,  0.,  0.]])"
            ]
          },
          "metadata": {
            "tags": []
          },
          "execution_count": 17
        }
      ]
    },
    {
      "cell_type": "code",
      "metadata": {
        "id": "lgJD4WNzwgI_",
        "colab_type": "code",
        "outputId": "b1b24c1a-0095-4ebd-8b29-20dcd0d7b106",
        "colab": {
          "base_uri": "https://localhost:8080/",
          "height": 218
        }
      },
      "source": [
        "print(z)\n",
        "print(z.ndim) #show dimension\n",
        "print(z.size) #show total elements\n",
        "print(z[0].shape) #show actual metrics shape\n",
        "print(z.dtype) # show data type in the metrix\n",
        "print(z.sum()) # sum all the elements in metrix. this can be used in combination with filters(boolean mask array below\n",
        "print(z.sum(axis=1)) # will learn this in broadcasting - operation along axis"
      ],
      "execution_count": 18,
      "outputs": [
        {
          "output_type": "stream",
          "text": [
            "[[[10.   0.   0.   0.   0. ]\n",
            "  [ 0.   0.   0.   0.   0. ]]\n",
            "\n",
            " [[ 9.   0.   0.   0.   0. ]\n",
            "  [ 0.   0.   0.  -2.1  7.5]]]\n",
            "3\n",
            "20\n",
            "(2, 5)\n",
            "float64\n",
            "24.4\n",
            "[[10.   0.   0.   0.   0. ]\n",
            " [ 9.   0.   0.  -2.1  7.5]]\n"
          ],
          "name": "stdout"
        }
      ]
    },
    {
      "cell_type": "markdown",
      "metadata": {
        "id": "AHYH1Dl1Lq7Q",
        "colab_type": "text"
      },
      "source": [
        "## boolean mask array"
      ]
    },
    {
      "cell_type": "code",
      "metadata": {
        "id": "obsh-4pBK_ft",
        "colab_type": "code",
        "outputId": "f9eaf5ac-a220-4fbd-f7ac-2a7815354995",
        "colab": {
          "base_uri": "https://localhost:8080/",
          "height": 0
        }
      },
      "source": [
        "nparray"
      ],
      "execution_count": 19,
      "outputs": [
        {
          "output_type": "execute_result",
          "data": {
            "text/plain": [
              "array([ 70,  90, 110, 130, 150, 170, 190, 210, 230, 250])"
            ]
          },
          "metadata": {
            "tags": []
          },
          "execution_count": 19
        }
      ]
    },
    {
      "cell_type": "code",
      "metadata": {
        "id": "K-sFlnxdMB0k",
        "colab_type": "code",
        "outputId": "8ab9f733-a07c-4858-b42f-09cff79dfdfe",
        "colab": {
          "base_uri": "https://localhost:8080/",
          "height": 0
        }
      },
      "source": [
        "can_div_35_mask = 0 == (nparray % 35)\n",
        "can_div_35_mask"
      ],
      "execution_count": 20,
      "outputs": [
        {
          "output_type": "execute_result",
          "data": {
            "text/plain": [
              "array([ True, False, False, False, False, False, False,  True, False,\n",
              "       False])"
            ]
          },
          "metadata": {
            "tags": []
          },
          "execution_count": 20
        }
      ]
    },
    {
      "cell_type": "code",
      "metadata": {
        "id": "SQFZhmMzMVnL",
        "colab_type": "code",
        "outputId": "05d6e1bb-2b3a-47cf-d734-457c2753a395",
        "colab": {
          "base_uri": "https://localhost:8080/",
          "height": 0
        }
      },
      "source": [
        "filtered_nparray = nparray[can_div_35_mask]\n",
        "filtered_nparray"
      ],
      "execution_count": 21,
      "outputs": [
        {
          "output_type": "execute_result",
          "data": {
            "text/plain": [
              "array([ 70, 210])"
            ]
          },
          "metadata": {
            "tags": []
          },
          "execution_count": 21
        }
      ]
    },
    {
      "cell_type": "code",
      "metadata": {
        "id": "g-UY3kvfMz3H",
        "colab_type": "code",
        "outputId": "c3da3677-8d8a-407f-dd0f-6837b40b8cc0",
        "colab": {
          "base_uri": "https://localhost:8080/",
          "height": 0
        }
      },
      "source": [
        "further_filtered_nparray=filtered_nparray[filtered_nparray>70]\n",
        "further_filtered_nparray"
      ],
      "execution_count": 22,
      "outputs": [
        {
          "output_type": "execute_result",
          "data": {
            "text/plain": [
              "array([210])"
            ]
          },
          "metadata": {
            "tags": []
          },
          "execution_count": 22
        }
      ]
    },
    {
      "cell_type": "code",
      "metadata": {
        "id": "6JybD6okNTOJ",
        "colab_type": "code",
        "outputId": "2119fd1c-3985-4387-c610-9fe77ea05ee9",
        "colab": {
          "base_uri": "https://localhost:8080/",
          "height": 0
        }
      },
      "source": [
        "nparray[nparray>200]  #simpler filter"
      ],
      "execution_count": 23,
      "outputs": [
        {
          "output_type": "execute_result",
          "data": {
            "text/plain": [
              "array([210, 230, 250])"
            ]
          },
          "metadata": {
            "tags": []
          },
          "execution_count": 23
        }
      ]
    },
    {
      "cell_type": "code",
      "metadata": {
        "id": "VodhWrDGtS-K",
        "colab_type": "code",
        "outputId": "59b1e6fb-10ce-4312-8685-ea9e7088769f",
        "colab": {
          "base_uri": "https://localhost:8080/",
          "height": 0
        }
      },
      "source": [
        "can_div_15_mask = 0 == (nparray % 15)\n",
        "print(can_div_15_mask)\n",
        "print(can_div_35_mask)"
      ],
      "execution_count": 24,
      "outputs": [
        {
          "output_type": "stream",
          "text": [
            "[False  True False False  True False False  True False False]\n",
            "[ True False False False False False False  True False False]\n"
          ],
          "name": "stdout"
        }
      ]
    },
    {
      "cell_type": "code",
      "metadata": {
        "id": "blbBP3SHuk7V",
        "colab_type": "code",
        "outputId": "c952db68-65a2-4fe0-e7a3-0fc7ff0b24d7",
        "colab": {
          "base_uri": "https://localhost:8080/",
          "height": 0
        }
      },
      "source": [
        "#boolean operator\n",
        "can_div_15_35_mask=np.logical_and(can_div_15_mask, can_div_35_mask)\n",
        "can_div_15_35_mask"
      ],
      "execution_count": 25,
      "outputs": [
        {
          "output_type": "execute_result",
          "data": {
            "text/plain": [
              "array([False, False, False, False, False, False, False,  True, False,\n",
              "       False])"
            ]
          },
          "metadata": {
            "tags": []
          },
          "execution_count": 25
        }
      ]
    },
    {
      "cell_type": "code",
      "metadata": {
        "id": "1LVRR-VzvM3M",
        "colab_type": "code",
        "outputId": "3b7087aa-3750-4e79-c349-a95ec32d8798",
        "colab": {
          "base_uri": "https://localhost:8080/",
          "height": 0
        }
      },
      "source": [
        "nparray[can_div_15_35_mask]"
      ],
      "execution_count": 26,
      "outputs": [
        {
          "output_type": "execute_result",
          "data": {
            "text/plain": [
              "array([210])"
            ]
          },
          "metadata": {
            "tags": []
          },
          "execution_count": 26
        }
      ]
    },
    {
      "cell_type": "markdown",
      "metadata": {
        "id": "v5G3ClxKyfGe",
        "colab_type": "text"
      },
      "source": [
        "## Broadcasting"
      ]
    },
    {
      "cell_type": "code",
      "metadata": {
        "id": "N98EamwFvbOD",
        "colab_type": "code",
        "outputId": "17437e4b-26d4-48d1-8013-007f9f7f5ecd",
        "colab": {
          "base_uri": "https://localhost:8080/",
          "height": 0
        }
      },
      "source": [
        "array_3d = np.arange(70)\n",
        "array_3d.shape=(2,7,5)\n",
        "array_3d"
      ],
      "execution_count": 27,
      "outputs": [
        {
          "output_type": "execute_result",
          "data": {
            "text/plain": [
              "array([[[ 0,  1,  2,  3,  4],\n",
              "        [ 5,  6,  7,  8,  9],\n",
              "        [10, 11, 12, 13, 14],\n",
              "        [15, 16, 17, 18, 19],\n",
              "        [20, 21, 22, 23, 24],\n",
              "        [25, 26, 27, 28, 29],\n",
              "        [30, 31, 32, 33, 34]],\n",
              "\n",
              "       [[35, 36, 37, 38, 39],\n",
              "        [40, 41, 42, 43, 44],\n",
              "        [45, 46, 47, 48, 49],\n",
              "        [50, 51, 52, 53, 54],\n",
              "        [55, 56, 57, 58, 59],\n",
              "        [60, 61, 62, 63, 64],\n",
              "        [65, 66, 67, 68, 69]]])"
            ]
          },
          "metadata": {
            "tags": []
          },
          "execution_count": 27
        }
      ]
    },
    {
      "cell_type": "markdown",
      "metadata": {
        "id": "dKmgGjQQdzSE",
        "colab_type": "text"
      },
      "source": [
        "In the context of deep learning, we also use some less conventional notation. We allow the addition of matrix and a vector, yielding another matrix: C = A + b, where Ci,j = Ai,j + bj. In other words, the vector b is added to each row of the matrix. This shorthand eliminates the need to define a matrix with b copied into each row before doing the addition. This implicit copying of b to many locations is called broadcasting."
      ]
    },
    {
      "cell_type": "code",
      "metadata": {
        "id": "aCz1aPu_ywi-",
        "colab_type": "code",
        "outputId": "8ff2f238-1a77-40db-d168-c4dd5aa697bb",
        "colab": {
          "base_uri": "https://localhost:8080/",
          "height": 0
        }
      },
      "source": [
        "x=np.arange(4)\n",
        "xx = x.reshape(4,1)\n",
        "y = np.ones(5)\n",
        "z = np.ones((3,4))\n",
        "print('x=', x)\n",
        "print('')\n",
        "print(\"\\033[1;31;46m reshape from 1x4 to 4x1 \") #color reference from https://ozzmaker.com/add-colour-to-text-in-python/ \n",
        "print(\"\\033[1;31;0m \")\n",
        "print('xx=', xx)\n",
        "print('y=',y)\n",
        "print(y+xx)"
      ],
      "execution_count": 28,
      "outputs": [
        {
          "output_type": "stream",
          "text": [
            "('x=', array([0, 1, 2, 3]))\n",
            "\n",
            "\u001b[1;31;46m reshape from 1x4 to 4x1 \n",
            "\u001b[1;31;0m \n",
            "('xx=', array([[0],\n",
            "       [1],\n",
            "       [2],\n",
            "       [3]]))\n",
            "('y=', array([1., 1., 1., 1., 1.]))\n",
            "[[1. 1. 1. 1. 1.]\n",
            " [2. 2. 2. 2. 2.]\n",
            " [3. 3. 3. 3. 3.]\n",
            " [4. 4. 4. 4. 4.]]\n"
          ],
          "name": "stdout"
        }
      ]
    },
    {
      "cell_type": "code",
      "metadata": {
        "id": "yE8jZr1Na7GB",
        "colab_type": "code",
        "outputId": "8c0d76a6-7ede-4b6b-bf7a-f7fbfcc969ca",
        "colab": {
          "base_uri": "https://localhost:8080/",
          "height": 0
        }
      },
      "source": [
        "xx-x"
      ],
      "execution_count": 29,
      "outputs": [
        {
          "output_type": "execute_result",
          "data": {
            "text/plain": [
              "array([[ 0, -1, -2, -3],\n",
              "       [ 1,  0, -1, -2],\n",
              "       [ 2,  1,  0, -1],\n",
              "       [ 3,  2,  1,  0]])"
            ]
          },
          "metadata": {
            "tags": []
          },
          "execution_count": 29
        }
      ]
    },
    {
      "cell_type": "markdown",
      "metadata": {
        "id": "NAMGVGa0jWL1",
        "colab_type": "text"
      },
      "source": [
        "To not use broadcasting, manual conversion is beow"
      ]
    },
    {
      "cell_type": "code",
      "metadata": {
        "id": "JmpQNtGWZJ6s",
        "colab_type": "code",
        "colab": {}
      },
      "source": [
        "x2d=[0, 1, 2, 3]*4\n",
        "x2dnp=np.array(x2d).reshape(4,4)"
      ],
      "execution_count": 0,
      "outputs": []
    },
    {
      "cell_type": "code",
      "metadata": {
        "id": "p0uzit_3Rlho",
        "colab_type": "code",
        "colab": {}
      },
      "source": [
        "lista=[0,0,0,0]\n",
        "listb=[1,1,1,1]\n",
        "listc=[2,2,2,2]\n",
        "listd=[3,3,3,3]\n",
        "\n",
        "xx2dnp = np.array(lista+listb+listc+listd).reshape(4,4)"
      ],
      "execution_count": 0,
      "outputs": []
    },
    {
      "cell_type": "code",
      "metadata": {
        "id": "M0qhGuZ2SnY6",
        "colab_type": "code",
        "outputId": "33b36103-3637-4ecf-8be1-3b0f11dc4b44",
        "colab": {
          "base_uri": "https://localhost:8080/",
          "height": 0
        }
      },
      "source": [
        "xx2dnp-x2dnp"
      ],
      "execution_count": 32,
      "outputs": [
        {
          "output_type": "execute_result",
          "data": {
            "text/plain": [
              "array([[ 0, -1, -2, -3],\n",
              "       [ 1,  0, -1, -2],\n",
              "       [ 2,  1,  0, -1],\n",
              "       [ 3,  2,  1,  0]])"
            ]
          },
          "metadata": {
            "tags": []
          },
          "execution_count": 32
        }
      ]
    },
    {
      "cell_type": "markdown",
      "metadata": {
        "id": "5TE1uHiY2wpc",
        "colab_type": "text"
      },
      "source": [
        "### operations along axis"
      ]
    },
    {
      "cell_type": "code",
      "metadata": {
        "id": "9ODnBvhP2wHm",
        "colab_type": "code",
        "outputId": "d46684d4-8a7f-4d6b-a81a-3e267cf8f407",
        "colab": {
          "base_uri": "https://localhost:8080/",
          "height": 0
        }
      },
      "source": [
        "array_3d"
      ],
      "execution_count": 33,
      "outputs": [
        {
          "output_type": "execute_result",
          "data": {
            "text/plain": [
              "array([[[ 0,  1,  2,  3,  4],\n",
              "        [ 5,  6,  7,  8,  9],\n",
              "        [10, 11, 12, 13, 14],\n",
              "        [15, 16, 17, 18, 19],\n",
              "        [20, 21, 22, 23, 24],\n",
              "        [25, 26, 27, 28, 29],\n",
              "        [30, 31, 32, 33, 34]],\n",
              "\n",
              "       [[35, 36, 37, 38, 39],\n",
              "        [40, 41, 42, 43, 44],\n",
              "        [45, 46, 47, 48, 49],\n",
              "        [50, 51, 52, 53, 54],\n",
              "        [55, 56, 57, 58, 59],\n",
              "        [60, 61, 62, 63, 64],\n",
              "        [65, 66, 67, 68, 69]]])"
            ]
          },
          "metadata": {
            "tags": []
          },
          "execution_count": 33
        }
      ]
    },
    {
      "cell_type": "code",
      "metadata": {
        "id": "umtzvjYQ3Svw",
        "colab_type": "code",
        "outputId": "006567e0-adac-4373-913a-68e5ed134efe",
        "colab": {
          "base_uri": "https://localhost:8080/",
          "height": 0
        }
      },
      "source": [
        "array_3d.shape"
      ],
      "execution_count": 34,
      "outputs": [
        {
          "output_type": "execute_result",
          "data": {
            "text/plain": [
              "(2, 7, 5)"
            ]
          },
          "metadata": {
            "tags": []
          },
          "execution_count": 34
        }
      ]
    },
    {
      "cell_type": "code",
      "metadata": {
        "id": "ob83NZoH3Wvx",
        "colab_type": "code",
        "outputId": "00c38b23-1677-4dd3-b4d7-2017fc8ac54a",
        "colab": {
          "base_uri": "https://localhost:8080/",
          "height": 0
        }
      },
      "source": [
        "array_3d.sum(axis=0) # this is array_3d[0]+array_3d[1]"
      ],
      "execution_count": 35,
      "outputs": [
        {
          "output_type": "execute_result",
          "data": {
            "text/plain": [
              "array([[ 35,  37,  39,  41,  43],\n",
              "       [ 45,  47,  49,  51,  53],\n",
              "       [ 55,  57,  59,  61,  63],\n",
              "       [ 65,  67,  69,  71,  73],\n",
              "       [ 75,  77,  79,  81,  83],\n",
              "       [ 85,  87,  89,  91,  93],\n",
              "       [ 95,  97,  99, 101, 103]])"
            ]
          },
          "metadata": {
            "tags": []
          },
          "execution_count": 35
        }
      ]
    },
    {
      "cell_type": "code",
      "metadata": {
        "id": "j8GSHIMD3oyQ",
        "colab_type": "code",
        "outputId": "aa4bcdb3-6399-42fc-be59-c23103d3bf97",
        "colab": {
          "base_uri": "https://localhost:8080/",
          "height": 0
        }
      },
      "source": [
        "array_3d.sum(axis=1) # sum of each column (7 elements) (axis is array_3d.shape[1])"
      ],
      "execution_count": 36,
      "outputs": [
        {
          "output_type": "execute_result",
          "data": {
            "text/plain": [
              "array([[105, 112, 119, 126, 133],\n",
              "       [350, 357, 364, 371, 378]])"
            ]
          },
          "metadata": {
            "tags": []
          },
          "execution_count": 36
        }
      ]
    },
    {
      "cell_type": "code",
      "metadata": {
        "id": "saH1pWLG34OZ",
        "colab_type": "code",
        "outputId": "3be4f412-12e4-4b35-947d-d50ab5c67ee0",
        "colab": {
          "base_uri": "https://localhost:8080/",
          "height": 0
        }
      },
      "source": [
        "array_3d.sum(axis=2) # sum of each row (5 elements) (axis is array_3d.shape[2])"
      ],
      "execution_count": 37,
      "outputs": [
        {
          "output_type": "execute_result",
          "data": {
            "text/plain": [
              "array([[ 10,  35,  60,  85, 110, 135, 160],\n",
              "       [185, 210, 235, 260, 285, 310, 335]])"
            ]
          },
          "metadata": {
            "tags": []
          },
          "execution_count": 37
        }
      ]
    },
    {
      "cell_type": "markdown",
      "metadata": {
        "id": "z44naYse6SOQ",
        "colab_type": "text"
      },
      "source": [
        "Another example"
      ]
    },
    {
      "cell_type": "code",
      "metadata": {
        "id": "c1HjWHoW4VXp",
        "colab_type": "code",
        "outputId": "d4a83a95-ba01-4ac9-fc46-1a40db1c93de",
        "colab": {
          "base_uri": "https://localhost:8080/",
          "height": 0
        }
      },
      "source": [
        "array2d_a = np.arange(35, dtype=int).reshape(5,7)\n",
        "array2d_b = np.ones((5,7), dtype=float)*7\n",
        "array2d_a + array2d_b #the result would be float"
      ],
      "execution_count": 38,
      "outputs": [
        {
          "output_type": "execute_result",
          "data": {
            "text/plain": [
              "array([[ 7.,  8.,  9., 10., 11., 12., 13.],\n",
              "       [14., 15., 16., 17., 18., 19., 20.],\n",
              "       [21., 22., 23., 24., 25., 26., 27.],\n",
              "       [28., 29., 30., 31., 32., 33., 34.],\n",
              "       [35., 36., 37., 38., 39., 40., 41.]])"
            ]
          },
          "metadata": {
            "tags": []
          },
          "execution_count": 38
        }
      ]
    },
    {
      "cell_type": "code",
      "metadata": {
        "id": "Kb3nP5Ts61xX",
        "colab_type": "code",
        "outputId": "56300c15-ec03-49a1-adc8-b8b5d5057bfd",
        "colab": {
          "base_uri": "https://localhost:8080/",
          "height": 0
        }
      },
      "source": [
        "Vector1 = np.random.random(7)\n",
        "np.set_printoptions(precision=4)\n",
        "Vector1"
      ],
      "execution_count": 39,
      "outputs": [
        {
          "output_type": "execute_result",
          "data": {
            "text/plain": [
              "array([0.7628, 0.0185, 0.6455, 0.94  , 0.7487, 0.586 , 0.5013])"
            ]
          },
          "metadata": {
            "tags": []
          },
          "execution_count": 39
        }
      ]
    },
    {
      "cell_type": "code",
      "metadata": {
        "id": "Qw9JMdBb8fws",
        "colab_type": "code",
        "outputId": "3977cc66-146c-4664-d0fc-ec91104e27a1",
        "colab": {
          "base_uri": "https://localhost:8080/",
          "height": 0
        }
      },
      "source": [
        "array2d_a + array2d_b + Vector1"
      ],
      "execution_count": 40,
      "outputs": [
        {
          "output_type": "execute_result",
          "data": {
            "text/plain": [
              "array([[ 7.7628,  8.0185,  9.6455, 10.94  , 11.7487, 12.586 , 13.5013],\n",
              "       [14.7628, 15.0185, 16.6455, 17.94  , 18.7487, 19.586 , 20.5013],\n",
              "       [21.7628, 22.0185, 23.6455, 24.94  , 25.7487, 26.586 , 27.5013],\n",
              "       [28.7628, 29.0185, 30.6455, 31.94  , 32.7487, 33.586 , 34.5013],\n",
              "       [35.7628, 36.0185, 37.6455, 38.94  , 39.7487, 40.586 , 41.5013]])"
            ]
          },
          "metadata": {
            "tags": []
          },
          "execution_count": 40
        }
      ]
    },
    {
      "cell_type": "code",
      "metadata": {
        "id": "6vNv6UE_881w",
        "colab_type": "code",
        "outputId": "5cb3e76c-7e69-4049-c802-dd06b163b2ec",
        "colab": {
          "base_uri": "https://localhost:8080/",
          "height": 0
        }
      },
      "source": [
        "Vector2 = np.random.random(5)\n",
        "Vector2"
      ],
      "execution_count": 41,
      "outputs": [
        {
          "output_type": "execute_result",
          "data": {
            "text/plain": [
              "array([0.4341, 0.0651, 0.4029, 0.1328, 0.0107])"
            ]
          },
          "metadata": {
            "tags": []
          },
          "execution_count": 41
        }
      ]
    },
    {
      "cell_type": "code",
      "metadata": {
        "id": "j4oJMeZ79Okx",
        "colab_type": "code",
        "outputId": "25da574b-88a2-4825-99eb-0447c5c92a68",
        "colab": {
          "base_uri": "https://localhost:8080/",
          "height": 0
        }
      },
      "source": [
        "Vector2 = np.random.random((5,1))*10\n",
        "Vector2"
      ],
      "execution_count": 42,
      "outputs": [
        {
          "output_type": "execute_result",
          "data": {
            "text/plain": [
              "array([[7.2307],\n",
              "       [6.5189],\n",
              "       [6.7459],\n",
              "       [1.8521],\n",
              "       [0.9905]])"
            ]
          },
          "metadata": {
            "tags": []
          },
          "execution_count": 42
        }
      ]
    },
    {
      "cell_type": "code",
      "metadata": {
        "id": "suQn3Lu59U4b",
        "colab_type": "code",
        "outputId": "6d2e2389-dcf0-4b1e-ecdb-633134b1ac7e",
        "colab": {
          "base_uri": "https://localhost:8080/",
          "height": 0
        }
      },
      "source": [
        "array2d_a + array2d_b + Vector2"
      ],
      "execution_count": 43,
      "outputs": [
        {
          "output_type": "execute_result",
          "data": {
            "text/plain": [
              "array([[14.2307, 15.2307, 16.2307, 17.2307, 18.2307, 19.2307, 20.2307],\n",
              "       [20.5189, 21.5189, 22.5189, 23.5189, 24.5189, 25.5189, 26.5189],\n",
              "       [27.7459, 28.7459, 29.7459, 30.7459, 31.7459, 32.7459, 33.7459],\n",
              "       [29.8521, 30.8521, 31.8521, 32.8521, 33.8521, 34.8521, 35.8521],\n",
              "       [35.9905, 36.9905, 37.9905, 38.9905, 39.9905, 40.9905, 41.9905]])"
            ]
          },
          "metadata": {
            "tags": []
          },
          "execution_count": 43
        }
      ]
    },
    {
      "cell_type": "markdown",
      "metadata": {
        "id": "ucaDb_Lw-of6",
        "colab_type": "text"
      },
      "source": [
        "## Structured Arrays"
      ]
    },
    {
      "cell_type": "code",
      "metadata": {
        "id": "WgBinJ5q9bSR",
        "colab_type": "code",
        "outputId": "cba5a9af-8e6e-40eb-8eb3-a8865ce77920",
        "colab": {
          "base_uri": "https://localhost:8080/",
          "height": 34
        }
      },
      "source": [
        "student_def=[('name','S6'),('height','f8'),('weight','f8'),('age','i8')]\n",
        "student_def"
      ],
      "execution_count": 44,
      "outputs": [
        {
          "output_type": "execute_result",
          "data": {
            "text/plain": [
              "[('name', 'S6'), ('height', 'f8'), ('weight', 'f8'), ('age', 'i8')]"
            ]
          },
          "metadata": {
            "tags": []
          },
          "execution_count": 44
        }
      ]
    },
    {
      "cell_type": "code",
      "metadata": {
        "id": "xjuIBNtG_N2z",
        "colab_type": "code",
        "outputId": "de814df6-0fb9-4d98-84f0-528bbdf23055",
        "colab": {
          "base_uri": "https://localhost:8080/",
          "height": 67
        }
      },
      "source": [
        "student_array = np.ones((4,), dtype=student_def) # initiate 4 records with ones\n",
        "student_array"
      ],
      "execution_count": 45,
      "outputs": [
        {
          "output_type": "execute_result",
          "data": {
            "text/plain": [
              "array([('1', 1., 1., 1), ('1', 1., 1., 1), ('1', 1., 1., 1),\n",
              "       ('1', 1., 1., 1)],\n",
              "      dtype=[('name', 'S6'), ('height', '<f8'), ('weight', '<f8'), ('age', '<i8')])"
            ]
          },
          "metadata": {
            "tags": []
          },
          "execution_count": 45
        }
      ]
    },
    {
      "cell_type": "code",
      "metadata": {
        "id": "277bsad3JwSV",
        "colab_type": "code",
        "outputId": "3a4a1bab-c507-4189-df11-7363b44bfc7a",
        "colab": {
          "base_uri": "https://localhost:8080/",
          "height": 50
        }
      },
      "source": [
        "# add some data\n",
        "student_array[3] = ('Tyrion', 73, 205, 14)\n",
        "student_array[0] = ('Billy', 65, 112, 13)\n",
        "print(student_array)"
      ],
      "execution_count": 46,
      "outputs": [
        {
          "output_type": "stream",
          "text": [
            "[('Billy', 65., 112., 13) ('1',  1.,   1.,  1) ('1',  1.,   1.,  1)\n",
            " ('Tyrion', 73., 205., 14)]\n"
          ],
          "name": "stdout"
        }
      ]
    },
    {
      "cell_type": "code",
      "metadata": {
        "id": "ICc03HcMLLAw",
        "colab_type": "code",
        "outputId": "000d4912-f50d-4cc7-b3ab-d7fd8bd09a77",
        "colab": {
          "base_uri": "https://localhost:8080/",
          "height": 50
        }
      },
      "source": [
        "# get columes\n",
        "print(student_array['name'])\n",
        "print(student_array['age']/2) #note the integer type is kept"
      ],
      "execution_count": 47,
      "outputs": [
        {
          "output_type": "stream",
          "text": [
            "['Billy' '1' '1' 'Tyrion']\n",
            "[6 0 0 7]\n"
          ],
          "name": "stdout"
        }
      ]
    },
    {
      "cell_type": "markdown",
      "metadata": {
        "id": "VvEJlKU9VhdV",
        "colab_type": "text"
      },
      "source": [
        "3D array can also use array data type"
      ]
    },
    {
      "cell_type": "code",
      "metadata": {
        "id": "z1XA5zN4PZQw",
        "colab_type": "code",
        "outputId": "8e46ddc9-197d-4b50-aeed-9b4dc7e95215",
        "colab": {
          "base_uri": "https://localhost:8080/",
          "height": 286
        }
      },
      "source": [
        "student_3d_array = np.zeros((4,3,2), dtype=student_def)\n",
        "#add some data and get them\n",
        "student_3d_array[0,2,1] = ('Billy', 68, 155, 11)\n",
        "student_3d_array[2,2,1] = ('Alice', 62, 165, 12.3)\n",
        "student_3d_array[3,1,0] = ('Allison', 62, 166, 15.5) # extra string would be truncated \n",
        "\n",
        "student_3d_array"
      ],
      "execution_count": 48,
      "outputs": [
        {
          "output_type": "execute_result",
          "data": {
            "text/plain": [
              "array([[[('',  0.,   0.,  0), ('',  0.,   0.,  0)],\n",
              "        [('',  0.,   0.,  0), ('',  0.,   0.,  0)],\n",
              "        [('',  0.,   0.,  0), ('Billy', 68., 155., 11)]],\n",
              "\n",
              "       [[('',  0.,   0.,  0), ('',  0.,   0.,  0)],\n",
              "        [('',  0.,   0.,  0), ('',  0.,   0.,  0)],\n",
              "        [('',  0.,   0.,  0), ('',  0.,   0.,  0)]],\n",
              "\n",
              "       [[('',  0.,   0.,  0), ('',  0.,   0.,  0)],\n",
              "        [('',  0.,   0.,  0), ('',  0.,   0.,  0)],\n",
              "        [('',  0.,   0.,  0), ('Alice', 62., 165., 12)]],\n",
              "\n",
              "       [[('',  0.,   0.,  0), ('',  0.,   0.,  0)],\n",
              "        [('Alliso', 62., 166., 15), ('',  0.,   0.,  0)],\n",
              "        [('',  0.,   0.,  0), ('',  0.,   0.,  0)]]],\n",
              "      dtype=[('name', 'S6'), ('height', '<f8'), ('weight', '<f8'), ('age', '<i8')])"
            ]
          },
          "metadata": {
            "tags": []
          },
          "execution_count": 48
        }
      ]
    },
    {
      "cell_type": "code",
      "metadata": {
        "id": "XMlRtxweQufI",
        "colab_type": "code",
        "outputId": "fd845822-07e0-493a-fa90-f3bca3e217f8",
        "colab": {
          "base_uri": "https://localhost:8080/",
          "height": 286
        }
      },
      "source": [
        "student_3d_array[['name','weight','age']]"
      ],
      "execution_count": 49,
      "outputs": [
        {
          "output_type": "execute_result",
          "data": {
            "text/plain": [
              "array([[[('',   0.,  0), ('',   0.,  0)],\n",
              "        [('',   0.,  0), ('',   0.,  0)],\n",
              "        [('',   0.,  0), ('Billy', 155., 11)]],\n",
              "\n",
              "       [[('',   0.,  0), ('',   0.,  0)],\n",
              "        [('',   0.,  0), ('',   0.,  0)],\n",
              "        [('',   0.,  0), ('',   0.,  0)]],\n",
              "\n",
              "       [[('',   0.,  0), ('',   0.,  0)],\n",
              "        [('',   0.,  0), ('',   0.,  0)],\n",
              "        [('',   0.,  0), ('Alice', 165., 12)]],\n",
              "\n",
              "       [[('',   0.,  0), ('',   0.,  0)],\n",
              "        [('Alliso', 166., 15), ('',   0.,  0)],\n",
              "        [('',   0.,  0), ('',   0.,  0)]]],\n",
              "      dtype={'names':['name','weight','age'], 'formats':['S6','<f8','<i8'], 'offsets':[0,14,22], 'itemsize':30})"
            ]
          },
          "metadata": {
            "tags": []
          },
          "execution_count": 49
        }
      ]
    },
    {
      "cell_type": "markdown",
      "metadata": {
        "id": "iMYaNuG6Vv8g",
        "colab_type": "text"
      },
      "source": [
        "Record arrays are structured arrays wrapped using a subclass of ndarray, numpy. recarray , which allows field access by attribute on the array object, and record arrays also use a special datatype, numpy. record , which allows field access by attribute on the individual elements of the array. The numpy."
      ]
    },
    {
      "cell_type": "code",
      "metadata": {
        "id": "ATLZOKWZS5mi",
        "colab_type": "code",
        "outputId": "3bbebf1d-113d-48f3-f47e-4f4753602f01",
        "colab": {
          "base_uri": "https://localhost:8080/",
          "height": 50
        }
      },
      "source": [
        "studen_record_array = np.rec.array([('Joe', 73, 205, 34),('Mirranda', 65, 112, 23)],dtype=student_def)\n",
        "studen_record_array"
      ],
      "execution_count": 50,
      "outputs": [
        {
          "output_type": "execute_result",
          "data": {
            "text/plain": [
              "rec.array([('Joe', 73., 205., 34), ('Mirran', 65., 112., 23)],\n",
              "          dtype=[('name', 'S6'), ('height', '<f8'), ('weight', '<f8'), ('age', '<i8')])"
            ]
          },
          "metadata": {
            "tags": []
          },
          "execution_count": 50
        }
      ]
    },
    {
      "cell_type": "code",
      "metadata": {
        "id": "_okX3_YVV82j",
        "colab_type": "code",
        "outputId": "e21102f5-ff86-49f6-c75f-9b13925214cb",
        "colab": {
          "base_uri": "https://localhost:8080/",
          "height": 34
        }
      },
      "source": [
        "# get the attribute\n",
        "studen_record_array.age"
      ],
      "execution_count": 51,
      "outputs": [
        {
          "output_type": "execute_result",
          "data": {
            "text/plain": [
              "array([34, 23])"
            ]
          },
          "metadata": {
            "tags": []
          },
          "execution_count": 51
        }
      ]
    },
    {
      "cell_type": "markdown",
      "metadata": {
        "id": "wBcYEONw1hCV",
        "colab_type": "text"
      },
      "source": [
        "## Inline Plot matplotlib"
      ]
    },
    {
      "cell_type": "markdown",
      "metadata": {
        "id": "8TVJjCCUF1tt",
        "colab_type": "text"
      },
      "source": [
        "%matplotlib inline sets the backend of matplotlib to the 'inline' backend:\n",
        "With this backend, the output of plotting commands is displayed inline within frontends like the Jupyter notebook, directly below the code cell that produced it. The resulting plots will then also be stored in the notebook document.\n",
        "\n"
      ]
    },
    {
      "cell_type": "code",
      "metadata": {
        "id": "OTbg0ePwWM_7",
        "colab_type": "code",
        "colab": {}
      },
      "source": [
        "%matplotlib inline"
      ],
      "execution_count": 0,
      "outputs": []
    },
    {
      "cell_type": "code",
      "metadata": {
        "id": "0H9OJCsE1y7V",
        "colab_type": "code",
        "outputId": "4cc2f60c-4d90-4858-dc15-418812df809f",
        "colab": {
          "base_uri": "https://localhost:8080/",
          "height": 312
        }
      },
      "source": [
        "import numpy as np\n",
        "import matplotlib.pyplot as plt\n",
        "\n",
        "mu, sigma = 100, 15  # mean = 100, standard deviation=15\n",
        "dataset = mu + sigma * np.random.randn(10000) # Return a sample (or samples) from the “standard normal” distribution.\n",
        "print(dataset.size)\n",
        "\n",
        "# the histogram of the data, to be investigated\n",
        "n, bins, patches = plt.hist(dataset, 50, normed=1, facecolor='g', alpha=0.75)\n",
        "\n",
        "plt.xlabel('Smarts')\n",
        "plt.ylabel('Probability')\n",
        "plt.title('Histogram of IQ')\n",
        "plt.text(130, .025, r'$\\mu=100,\\ \\sigma=15$')\n",
        "plt.axis([80, 160, 0, 0.03])\n",
        "plt.grid(True)\n",
        "plt.show()"
      ],
      "execution_count": 97,
      "outputs": [
        {
          "output_type": "stream",
          "text": [
            "10000\n"
          ],
          "name": "stdout"
        },
        {
          "output_type": "display_data",
          "data": {
            "image/png": "[encoded data removed]",
            "text/plain": [
              "<Figure size 432x288 with 1 Axes>"
            ]
          },
          "metadata": {
            "tags": [],
            "needs_background": "light"
          }
        }
      ]
    },
    {
      "cell_type": "markdown",
      "metadata": {
        "id": "FSpzexwK3Q0k",
        "colab_type": "text"
      },
      "source": [
        "<p>Available Markers:</p>\n",
        "<table border=\"1\" class=\"docutils\">\n",
        "<colgroup>\n",
        "<col width=\"38%\" />\n",
        "<col width=\"62%\" />\n",
        "</colgroup>\n",
        "<thead valign=\"bottom\">\n",
        "<tr class=\"row-odd\"><th class=\"head\">marker</th>\n",
        "<th class=\"head\">description</th>\n",
        "</tr>\n",
        "</thead>\n",
        "<tbody valign=\"top\">\n",
        "<tr class=\"row-even\"><td>&#8221;.&#8221;</td>\n",
        "<td>point</td>\n",
        "</tr>\n",
        "<tr class=\"row-odd\"><td>&#8221;,&#8221;</td>\n",
        "<td>pixel</td>\n",
        "</tr>\n",
        "<tr class=\"row-even\"><td>&#8220;o&#8221;</td>\n",
        "<td>circle</td>\n",
        "</tr>\n",
        "<tr class=\"row-odd\"><td>&#8220;v&#8221;</td>\n",
        "<td>triangle_down</td>\n",
        "</tr>\n",
        "<tr class=\"row-even\"><td>&#8220;^&#8221;</td>\n",
        "<td>triangle_up</td>\n",
        "</tr>\n",
        "<tr class=\"row-odd\"><td>&#8220;&lt;&#8221;</td>\n",
        "<td>triangle_left</td>\n",
        "</tr>\n",
        "<tr class=\"row-even\"><td>&#8220;&gt;&#8221;</td>\n",
        "<td>triangle_right</td>\n",
        "</tr>\n",
        "<tr class=\"row-odd\"><td>&#8220;1&#8221;</td>\n",
        "<td>tri_down</td>\n",
        "</tr>\n",
        "<tr class=\"row-even\"><td>&#8220;2&#8221;</td>\n",
        "<td>tri_up</td>\n",
        "</tr>\n",
        "<tr class=\"row-odd\"><td>&#8220;3&#8221;</td>\n",
        "<td>tri_left</td>\n",
        "</tr>\n",
        "<tr class=\"row-even\"><td>&#8220;4&#8221;</td>\n",
        "<td>tri_right</td>\n",
        "</tr>\n",
        "<tr class=\"row-odd\"><td>&#8220;8&#8221;</td>\n",
        "<td>octagon</td>\n",
        "</tr>\n",
        "<tr class=\"row-even\"><td>&#8220;s&#8221;</td>\n",
        "<td>square</td>\n",
        "</tr>\n",
        "<tr class=\"row-odd\"><td>&#8220;p&#8221;</td>\n",
        "<td>pentagon</td>\n",
        "</tr>\n",
        "<tr class=\"row-even\"><td>&#8220;*&#8221;</td>\n",
        "<td>star</td>\n",
        "</tr>\n",
        "<tr class=\"row-odd\"><td>&#8220;h&#8221;</td>\n",
        "<td>hexagon1</td>\n",
        "</tr>\n",
        "<tr class=\"row-even\"><td>&#8220;H&#8221;</td>\n",
        "<td>hexagon2</td>\n",
        "</tr>\n",
        "<tr class=\"row-odd\"><td>&#8220;+&#8221;</td>\n",
        "<td>plus</td>\n",
        "</tr>\n",
        "<tr class=\"row-even\"><td>&#8220;x&#8221;</td>\n",
        "<td>x</td>\n",
        "</tr>\n",
        "<tr class=\"row-odd\"><td>&#8220;D&#8221;</td>\n",
        "<td>diamond</td>\n",
        "</tr>\n",
        "<tr class=\"row-even\"><td>&#8220;d&#8221;</td>\n",
        "<td>thin_diamond</td>\n",
        "</tr>\n",
        "<tr class=\"row-odd\"><td>&#8220;|&#8221;</td>\n",
        "<td>vline</td>\n",
        "</tr>\n",
        "<tr class=\"row-even\"><td>&#8220;_&#8221;</td>\n",
        "<td>hline</td>\n",
        "</tr>\n",
        "<tr class=\"row-odd\"><td>TICKLEFT</td>\n",
        "<td>tickleft</td>\n",
        "</tr>\n",
        "<tr class=\"row-even\"><td>TICKRIGHT</td>\n",
        "<td>tickright</td>\n",
        "</tr>\n",
        "<tr class=\"row-odd\"><td>TICKUP</td>\n",
        "<td>tickup</td>\n",
        "</tr>\n",
        "<tr class=\"row-even\"><td>TICKDOWN</td>\n",
        "<td>tickdown</td>\n",
        "</tr>\n",
        "<tr class=\"row-odd\"><td>CARETLEFT</td>\n",
        "<td>caretleft</td>\n",
        "</tr>\n",
        "<tr class=\"row-even\"><td>CARETRIGHT</td>\n",
        "<td>caretright</td>\n",
        "</tr>\n",
        "<tr class=\"row-odd\"><td>CARETUP</td>\n",
        "<td>caretup</td>\n",
        "</tr>\n",
        "<tr class=\"row-even\"><td>CARETDOWN</td>\n",
        "<td>caretdown</td>\n",
        "</tr>\n",
        "<tr class=\"row-odd\"><td>&#8220;None&#8221;</td>\n",
        "<td>nothing</td>\n",
        "</tr>\n",
        "<tr class=\"row-even\"><td>None</td>\n",
        "<td>nothing</td>\n",
        "</tr>\n",
        "<tr class=\"row-odd\"><td>&#8221; &#8220;</td>\n",
        "<td>nothing</td>\n",
        "</tr>\n",
        "<tr class=\"row-even\"><td>&#8220;&#8221;</td>\n",
        "<td>nothing</td>\n",
        "</tr>\n",
        "<tr class=\"row-odd\"><td><code class=\"docutils literal\"><span class=\"pre\">'$...$'</span></code></td>\n",
        "<td>render the string using mathtext.</td>\n",
        "</tr>\n",
        "<tr class=\"row-even\"><td><code class=\"xref py py-obj docutils literal\"><span class=\"pre\">verts</span></code></td>\n",
        "<td>a list of (x, y) pairs used for Path vertices.\n",
        "The center of the marker is located at (0,0) and\n",
        "the size is normalized.</td>\n",
        "</tr>\n",
        "<tr class=\"row-odd\"><td>path</td>\n",
        "<td>a <a class=\"reference internal\" href=\"path_api.html#matplotlib.path.Path\" title=\"matplotlib.path.Path\"><code class=\"xref py py-obj docutils literal\"><span class=\"pre\">Path</span></code></a> instance.</td>\n",
        "</tr>\n",
        "<tr class=\"row-even\"><td>(<code class=\"xref py py-obj docutils literal\"><span class=\"pre\">numsides</span></code>, <code class=\"xref py py-obj docutils literal\"><span class=\"pre\">style</span></code>, <code class=\"xref py py-obj docutils literal\"><span class=\"pre\">angle</span></code>)</td>\n",
        "<td>see below</td>\n",
        "</tr>\n",
        "</tbody>\n",
        "</table>"
      ]
    },
    {
      "cell_type": "code",
      "metadata": {
        "id": "wjhGRALm5inN",
        "colab_type": "code",
        "outputId": "52af2dde-255c-4236-8a61-f82ad427c494",
        "colab": {
          "base_uri": "https://localhost:8080/",
          "height": 34
        }
      },
      "source": [
        "# import numpy as np\n",
        "# import matplotlib.pyplot as plt\n",
        "myFirstFigure = plt.figure(\"hello world numpy plot\")"
      ],
      "execution_count": 62,
      "outputs": [
        {
          "output_type": "display_data",
          "data": {
            "text/plain": [
              "<Figure size 432x288 with 0 Axes>"
            ]
          },
          "metadata": {
            "tags": []
          }
        }
      ]
    },
    {
      "cell_type": "code",
      "metadata": {
        "id": "svCTzjD06tQc",
        "colab_type": "code",
        "colab": {}
      },
      "source": [
        "subplot_1 = myFirstFigure.add_subplot(2, 3, 1) # 2 rows 3 columns, number1 subplot ()\n",
        "subplot_6 = myFirstFigure.add_subplot(2, 3, 6) # number6 subplot (last one)\n"
      ],
      "execution_count": 0,
      "outputs": []
    },
    {
      "cell_type": "code",
      "metadata": {
        "id": "OSEl2aJC7BmK",
        "colab_type": "code",
        "outputId": "17675539-e1c2-435a-c831-3e0c7121c3fb",
        "colab": {
          "base_uri": "https://localhost:8080/",
          "height": 269
        }
      },
      "source": [
        "plt.plot(np.random.rand(50).cumsum(), 'k--') # 50 elements cumulative sum, k is black and -- is straigh lines\n",
        "plt.show()"
      ],
      "execution_count": 66,
      "outputs": [
        {
          "output_type": "display_data",
          "data": {
            "image/png": "[encoded data removed]",
            "text/plain": [
              "<Figure size 432x288 with 1 Axes>"
            ]
          },
          "metadata": {
            "tags": [],
            "needs_background": "light"
          }
        }
      ]
    },
    {
      "cell_type": "markdown",
      "metadata": {
        "id": "yffkUBwwOGHs",
        "colab_type": "text"
      },
      "source": [
        "more examples can be found from a2b2c helloworld1.ipynb"
      ]
    },
    {
      "cell_type": "code",
      "metadata": {
        "id": "BpsBr-V2-yba",
        "colab_type": "code",
        "colab": {
          "base_uri": "https://localhost:8080/",
          "height": 269
        },
        "outputId": "7a7de303-73a5-4fdd-ba9e-210467f311ed"
      },
      "source": [
        "subplot_1 = myFirstFigure.add_subplot(2, 3, 2)\n",
        "plt.plot(np.random.rand(10) , 'ro') # red, circle\n",
        "plt.show()"
      ],
      "execution_count": 70,
      "outputs": [
        {
          "output_type": "display_data",
          "data": {
            "image/png": "[encoded data removed]",
            "text/plain": [
              "<Figure size 432x288 with 1 Axes>"
            ]
          },
          "metadata": {
            "tags": [],
            "needs_background": "light"
          }
        }
      ]
    },
    {
      "cell_type": "code",
      "metadata": {
        "id": "m7cUn8D3BeQs",
        "colab_type": "code",
        "colab": {
          "base_uri": "https://localhost:8080/",
          "height": 269
        },
        "outputId": "d4ccbd55-0efa-475d-c112-d1180fb6abf8"
      },
      "source": [
        "data_set_size = 15\n",
        "low_mu, low_sigma = 50, 4.3\n",
        "low_data_set = low_mu + low_sigma * np.random.randn(data_set_size) # generate 15 data points, normally distrubted with mean 50, standard deviation 4.3\n",
        "high_mu, high_sigma = 57, 5.2\n",
        "high_data_set = high_mu + high_sigma * np.random.randn(data_set_size) #generate 15 data points, normally distrubted with mean 57, standard deviation 5.2\n",
        "\n",
        "days = list(range(1, data_set_size + 1)) # x axis\n",
        "\n",
        "plt.plot(days, low_data_set) # default use lines\n",
        "plt.show()"
      ],
      "execution_count": 71,
      "outputs": [
        {
          "output_type": "display_data",
          "data": {
            "image/png": "[encoded data removed]",
            "text/plain": [
              "<Figure size 432x288 with 1 Axes>"
            ]
          },
          "metadata": {
            "tags": [],
            "needs_background": "light"
          }
        }
      ]
    },
    {
      "cell_type": "markdown",
      "metadata": {
        "id": "q6h-2HmFFgoF",
        "colab_type": "text"
      },
      "source": [
        "Multiple lines in a plot"
      ]
    },
    {
      "cell_type": "code",
      "metadata": {
        "id": "fLMHzLjjFUwV",
        "colab_type": "code",
        "colab": {
          "base_uri": "https://localhost:8080/",
          "height": 269
        },
        "outputId": "c8d223ca-c69e-4f2a-ebc7-d04cd05a16db"
      },
      "source": [
        "plt.plot(days, low_data_set,         \n",
        "         days, high_data_set) # 2 data sets are drawn here\n",
        "plt.show()"
      ],
      "execution_count": 76,
      "outputs": [
        {
          "output_type": "display_data",
          "data": {
            "image/png": "[encoded data removed]",
            "text/plain": [
              "<Figure size 432x288 with 1 Axes>"
            ]
          },
          "metadata": {
            "tags": [],
            "needs_background": "light"
          }
        }
      ]
    },
    {
      "cell_type": "code",
      "metadata": {
        "id": "2Nux3nNqFbWJ",
        "colab_type": "code",
        "colab": {
          "base_uri": "https://localhost:8080/",
          "height": 269
        },
        "outputId": "50fc8675-a74b-4878-db2e-73748499facb"
      },
      "source": [
        "# marker table above, v is down arrow, ^ is upper arrow\n",
        "plt.plot(days, low_data_set,\n",
        "         days, low_data_set, \"vm\", # lower triangle, color is meganta\n",
        "         days, high_data_set, \n",
        "         days, high_data_set, \"^k\") # upper triangle, color is black\n",
        "plt.show() # 4 data sets are drawn here"
      ],
      "execution_count": 78,
      "outputs": [
        {
          "output_type": "display_data",
          "data": {
            "image/png": "[encoded data removed]",
            "text/plain": [
              "<Figure size 432x288 with 1 Axes>"
            ]
          },
          "metadata": {
            "tags": [],
            "needs_background": "light"
          }
        }
      ]
    },
    {
      "cell_type": "code",
      "metadata": {
        "id": "GfkCz4ZzFyCy",
        "colab_type": "code",
        "colab": {
          "base_uri": "https://localhost:8080/",
          "height": 269
        },
        "outputId": "eb617bed-fcfd-4d28-9e6e-563447d57788"
      },
      "source": [
        "plt.plot(days, high_data_set, \"^k\")\n",
        "plt.show() # 1 data set is drawn here"
      ],
      "execution_count": 75,
      "outputs": [
        {
          "output_type": "display_data",
          "data": {
            "image/png": "[encoded data removed]",
            "text/plain": [
              "<Figure size 432x288 with 1 Axes>"
            ]
          },
          "metadata": {
            "tags": [],
            "needs_background": "light"
          }
        }
      ]
    },
    {
      "cell_type": "code",
      "metadata": {
        "id": "eBfKt5bqEqvw",
        "colab_type": "code",
        "outputId": "7bb6a20f-7adc-48ff-ae52-ec9f00b0f58f",
        "colab": {
          "base_uri": "https://localhost:8080/",
          "height": 295
        }
      },
      "source": [
        "# Add the x,y labels and title, legend is more a text box here\n",
        "plt.plot(days, low_data_set,\n",
        "         days, low_data_set, \"vm\",\n",
        "         days, high_data_set, \n",
        "         days, high_data_set, \"^k\")\n",
        "plt.xlabel('Day')\n",
        "plt.ylabel('Temperature: degrees Farenheit')\n",
        "plt.title('Randomized temperature data')\n",
        "plt.legend(loc=\"upper right\", shadow=True, title=\"Legend: high ^ vs low v\")\n",
        "plt.show()"
      ],
      "execution_count": 93,
      "outputs": [
        {
          "output_type": "display_data",
          "data": {
            "image/png": "[encoded data removed]",
            "text/plain": [
              "<Figure size 432x288 with 1 Axes>"
            ]
          },
          "metadata": {
            "tags": [],
            "needs_background": "light"
          }
        }
      ]
    },
    {
      "cell_type": "code",
      "metadata": {
        "id": "1cdjxIvMP432",
        "colab_type": "code",
        "colab": {
          "base_uri": "https://localhost:8080/",
          "height": 286
        },
        "outputId": "f18c1f43-17e7-4c92-86ee-1344e905a6e4"
      },
      "source": [
        "line1, = plt.plot(low_data_set)\n",
        "line2, = plt.plot(high_data_set)\n",
        "line1.set_label('low temperature')\n",
        "line2.set_label('high temperature')\n",
        "plt.legend()"
      ],
      "execution_count": 92,
      "outputs": [
        {
          "output_type": "execute_result",
          "data": {
            "text/plain": [
              "<matplotlib.legend.Legend at 0x7f8e64b37b90>"
            ]
          },
          "metadata": {
            "tags": []
          },
          "execution_count": 92
        },
        {
          "output_type": "display_data",
          "data": {
            "image/png": "[encoded data removed]",
            "text/plain": [
              "<Figure size 432x288 with 1 Axes>"
            ]
          },
          "metadata": {
            "tags": [],
            "needs_background": "light"
          }
        }
      ]
    },
    {
      "cell_type": "markdown",
      "metadata": {
        "id": "3KFNFH_cK0x5",
        "colab_type": "text"
      },
      "source": [
        "More legend example: http://matplotlib.org/examples/pylab_examples/legend_demo2.html"
      ]
    },
    {
      "cell_type": "code",
      "metadata": {
        "id": "7hB3DUiZEqv-",
        "colab_type": "code",
        "outputId": "4779b90d-eec6-45c1-bcba-9cd8cf693fd2",
        "colab": {
          "base_uri": "https://localhost:8080/",
          "height": 295
        }
      },
      "source": [
        "t1 = np.arange(0.0, 2.0, 0.1)\n",
        "t2 = np.arange(0.0, 2.0, 0.01)\n",
        "\n",
        "# note that plot returns a list of lines.  The \"l1, = plot\" usage\n",
        "# extracts the first element of the list into l1 using tuple\n",
        "# unpacking.  So l1 is a Line2D instance, not a sequence of lines\n",
        "l1, = plt.plot(t2, np.exp(-t2))\n",
        "l2, l3 = plt.plot(t2, np.sin(2 * np.pi * t2), '--go', t1, np.log(1 + t1), '.')\n",
        "l4, = plt.plot(t2, np.exp(-t2) * np.sin(2 * np.pi * t2), 'rs-.')\n",
        "\n",
        "plt.legend((l2, l4), ('oscillatory', 'damped'), loc='upper right', shadow=True)\n",
        "plt.xlabel('time')\n",
        "plt.ylabel('volts')\n",
        "plt.title('Damped oscillation')\n",
        "plt.show()"
      ],
      "execution_count": 87,
      "outputs": [
        {
          "output_type": "display_data",
          "data": {
            "image/png": "[encoded data removed]",
            "text/plain": [
              "<Figure size 432x288 with 1 Axes>"
            ]
          },
          "metadata": {
            "tags": [],
            "needs_background": "light"
          }
        }
      ]
    },
    {
      "cell_type": "code",
      "metadata": {
        "id": "jEcsRi6JLagB",
        "colab_type": "code",
        "colab": {}
      },
      "source": [
        ""
      ],
      "execution_count": 0,
      "outputs": []
    }
  ]
}
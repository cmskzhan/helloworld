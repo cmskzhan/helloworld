{
  "nbformat": 4,
  "nbformat_minor": 0,
  "metadata": {
    "kernelspec": {
      "display_name": "Python 2",
      "language": "python",
      "name": "python2"
    },
    "language_info": {
      "codemirror_mode": {
        "name": "ipython",
        "version": 2
      },
      "file_extension": ".py",
      "mimetype": "text/x-python",
      "name": "python",
      "nbconvert_exporter": "python",
      "pygments_lexer": "ipython2",
      "version": "2.7.11"
    },
    "colab": {
      "name": "Creating Arrays from Python Structures-checkpoint.ipynb",
      "provenance": []
    }
  },
  "cells": [
    {
      "cell_type": "markdown",
      "metadata": {
        "id": "P18y1y_syZv_",
        "colab_type": "text"
      },
      "source": [
        "<h1>Create NumPy arrays using Python's \"array like\" data types</h1>\n"
      ]
    },
    {
      "cell_type": "code",
      "metadata": {
        "id": "0ldeJOzOyeHX",
        "colab_type": "code",
        "colab": {}
      },
      "source": [
        "import numpy as np \n",
        "print(np.__version__)"
      ],
      "execution_count": 0,
      "outputs": []
    },
    {
      "cell_type": "code",
      "metadata": {
        "id": "TqsoqXBTyp1o",
        "colab_type": "code",
        "colab": {}
      },
      "source": [
        "my_list = [-17, 0, 4, 5, 29]\n",
        "np_array=np.array(my_list)\n",
        "print(np_array) "
      ],
      "execution_count": 0,
      "outputs": []
    },
    {
      "cell_type": "markdown",
      "metadata": {
        "id": "IY_GexWR2v9S",
        "colab_type": "text"
      },
      "source": [
        "## multiply * works differently between python types and np typy"
      ]
    },
    {
      "cell_type": "code",
      "metadata": {
        "id": "byFpvbATyzUE",
        "colab_type": "code",
        "colab": {}
      },
      "source": [
        "my_list_10x=my_list*10\n",
        "print(my_list_10x)\n",
        "np_array_10x=np_array*10\n",
        "print(np_array_10x)"
      ],
      "execution_count": 0,
      "outputs": []
    },
    {
      "cell_type": "markdown",
      "metadata": {
        "id": "HRVsjBCi0_Sn",
        "colab_type": "text"
      },
      "source": [
        "##complex and tuple"
      ]
    },
    {
      "cell_type": "code",
      "metadata": {
        "id": "byvClJ4jzd_L",
        "colab_type": "code",
        "colab": {}
      },
      "source": [
        "tupleToNumpy=(14, -3.14, 4+3j); tupleToNumpy2=(-14, 3.21)  #int, float, complex, np array keeps elements of array uniform\n",
        "numpyFromTuple=np.array(tupleToNumpy)\n",
        "numpyFromTuple2=np.array(tupleToNumpy2)\n",
        "print(numpyFromTuple)\n",
        "print(numpyFromTuple2)\n"
      ],
      "execution_count": 0,
      "outputs": []
    },
    {
      "cell_type": "markdown",
      "metadata": {
        "id": "TmrvJMfV2x5q",
        "colab_type": "text"
      },
      "source": [
        "## shallow and deep copy"
      ]
    },
    {
      "cell_type": "code",
      "metadata": {
        "id": "v0rhLlQv26pF",
        "colab_type": "code",
        "colab": {}
      },
      "source": [
        "nplist1=np.arange(10)\n",
        "nplist2=nplist1   #shallow copy alternatively nplist2 = nplist1.view()\n",
        "print(nplist1 is nplist2) # true, point to the same memory\n",
        "print(id(nplist1)) #memory location\n",
        "print(id(nplist2)) #memory location\n",
        "\n",
        "nplist1[1]=8;\n",
        "print(nplist2)"
      ],
      "execution_count": 0,
      "outputs": []
    },
    {
      "cell_type": "code",
      "metadata": {
        "id": "-RhB3wnv33NT",
        "colab_type": "code",
        "colab": {}
      },
      "source": [
        "nplist2.shape=(5,2)\n",
        "print(\"nplist1 =\", nplist1)\n",
        "print(\"nplist2 =\", nplist2)\n",
        "print(nplist1 is nplist2)"
      ],
      "execution_count": 0,
      "outputs": []
    },
    {
      "cell_type": "code",
      "metadata": {
        "id": "OVDBpeCc6F3L",
        "colab_type": "code",
        "colab": {}
      },
      "source": [
        "nplist3 = nplist2.copy() #deep copy\n",
        "nplist3 is nplist2"
      ],
      "execution_count": 0,
      "outputs": []
    },
    {
      "cell_type": "markdown",
      "metadata": {
        "id": "kwL0RMLNGjY9",
        "colab_type": "text"
      },
      "source": [
        "##simple methods"
      ]
    },
    {
      "cell_type": "code",
      "metadata": {
        "id": "0D-y3wJ20KBA",
        "colab_type": "code",
        "colab": {}
      },
      "source": [
        "# numpy.arange([start, ]stop, [step, ]dtype=None) official url by google np.arange\n",
        "np.arange(10,30,2)*10-3"
      ],
      "execution_count": 0,
      "outputs": []
    },
    {
      "cell_type": "code",
      "metadata": {
        "id": "P_RN65tGGJZi",
        "colab_type": "code",
        "colab": {}
      },
      "source": [
        "np.arange(20,step=4)"
      ],
      "execution_count": 0,
      "outputs": []
    },
    {
      "cell_type": "code",
      "metadata": {
        "id": "g8PlH0EkEqgG",
        "colab_type": "code",
        "colab": {}
      },
      "source": [
        "nparray=(np.arange(10,30,2)-3)*10\n",
        "nparray"
      ],
      "execution_count": 0,
      "outputs": []
    },
    {
      "cell_type": "code",
      "metadata": {
        "id": "JfrRTVVsE0tE",
        "colab_type": "code",
        "colab": {}
      },
      "source": [
        "nparray.size # this only gives number of elements"
      ],
      "execution_count": 0,
      "outputs": []
    },
    {
      "cell_type": "code",
      "metadata": {
        "id": "O6aiy8J7FQh9",
        "colab_type": "code",
        "colab": {}
      },
      "source": [
        "np.linspace(0,30,10,True)"
      ],
      "execution_count": 0,
      "outputs": []
    },
    {
      "cell_type": "markdown",
      "metadata": {
        "id": "f8qJ8YvWH7Jz",
        "colab_type": "text"
      },
      "source": [
        "##indexing, shaping (dimension), slicing, adding, removing and other multiplating"
      ]
    },
    {
      "cell_type": "code",
      "metadata": {
        "id": "2Fen7Qm-FV9M",
        "colab_type": "code",
        "colab": {}
      },
      "source": [
        "z=np.zeros(20)\n",
        "z[10]"
      ],
      "execution_count": 0,
      "outputs": []
    },
    {
      "cell_type": "code",
      "metadata": {
        "id": "IDPsv4DPJsaz",
        "colab_type": "code",
        "colab": {}
      },
      "source": [
        "z[10]=9;z[0]=10; z[-1]=7.5; z[-2]=-2.1\n",
        "z"
      ],
      "execution_count": 0,
      "outputs": []
    },
    {
      "cell_type": "code",
      "metadata": {
        "id": "o-ENMCQiIfMx",
        "colab_type": "code",
        "colab": {}
      },
      "source": [
        "o=np.ones((3,3), dtype=int)\n",
        "o"
      ],
      "execution_count": 0,
      "outputs": []
    },
    {
      "cell_type": "code",
      "metadata": {
        "id": "3J0NdeaWIxtX",
        "colab_type": "code",
        "colab": {}
      },
      "source": [
        "z.shape=(4,5)\n",
        "z"
      ],
      "execution_count": 0,
      "outputs": []
    },
    {
      "cell_type": "code",
      "metadata": {
        "id": "yr_-7IOBKiqe",
        "colab_type": "code",
        "colab": {}
      },
      "source": [
        "z.shape=(2,2,5)   #convert from 2-d to 3-d np array\n",
        "z"
      ],
      "execution_count": 0,
      "outputs": []
    },
    {
      "cell_type": "code",
      "metadata": {
        "id": "rtWYhzY1Ko9z",
        "colab_type": "code",
        "colab": {}
      },
      "source": [
        "z[1][1]"
      ],
      "execution_count": 0,
      "outputs": []
    },
    {
      "cell_type": "code",
      "metadata": {
        "id": "xUVF3-VULDP-",
        "colab_type": "code",
        "colab": {}
      },
      "source": [
        "z[1,0][0]"
      ],
      "execution_count": 0,
      "outputs": []
    },
    {
      "cell_type": "code",
      "metadata": {
        "id": "QL7EkGkEKx2m",
        "colab_type": "code",
        "colab": {}
      },
      "source": [
        "z[0]"
      ],
      "execution_count": 0,
      "outputs": []
    },
    {
      "cell_type": "code",
      "metadata": {
        "id": "lgJD4WNzwgI_",
        "colab_type": "code",
        "colab": {}
      },
      "source": [
        "print(z)\n",
        "print(z.ndim) #show dimension\n",
        "print(z.size) #show total elements\n",
        "print(z[0].shape) #show actual metrics shape\n",
        "print(z.dtype) # show data type in the metrix\n",
        "print(z.sum()) # sum all the elements in metrix. this can be used in combination with filters(boolean mask array below\n",
        "print(z.sum(axis=1)) # will learn this in broadcasting - operation along axis"
      ],
      "execution_count": 0,
      "outputs": []
    },
    {
      "cell_type": "code",
      "metadata": {
        "id": "CU3LziYE7c8N",
        "colab_type": "code",
        "colab": {}
      },
      "source": [
        "y=np.append(z, [2.2, 3.3, 4.4, 55, -9]) # notice, we can't z.append, not such method \n",
        "print(y)\n",
        "print(y.shape) # append would simply change the shape to vector/np.list\n"
      ],
      "execution_count": 0,
      "outputs": []
    },
    {
      "cell_type": "code",
      "metadata": {
        "id": "sEJ_Mikv_kYY",
        "colab_type": "code",
        "colab": {}
      },
      "source": [
        "# add a row\n",
        "y=y.reshape(5,5)\n",
        "y=np.append(y, [[7, 7, 7, 7, 7]], axis=0) \n",
        "print(y)\n",
        "print(y.shape)"
      ],
      "execution_count": 0,
      "outputs": []
    },
    {
      "cell_type": "code",
      "metadata": {
        "id": "VtGxUB9ODexz",
        "colab_type": "code",
        "colab": {}
      },
      "source": [
        "# add a column\n",
        "column6=np.ones((6,1))*6\n",
        "print(column6)\n",
        "y=np.append(y, column6, axis=1) \n",
        "y"
      ],
      "execution_count": 0,
      "outputs": []
    },
    {
      "cell_type": "markdown",
      "metadata": {
        "id": "s3Q9oy5fFnPl",
        "colab_type": "text"
      },
      "source": [
        "### 3-d append axis 0,1,2  horizontal stacking = axis 0, insert numbers to axis 0,1,2\n",
        "\n"
      ]
    },
    {
      "cell_type": "code",
      "metadata": {
        "id": "XlDve6rZFyfI",
        "colab_type": "code",
        "colab": {}
      },
      "source": [
        "y = np.ones((2,2,2))\n",
        "z = np.ones((2,2,2))*2\n",
        "\n",
        "x=np.append(y,z, axis=0 )\n",
        "x"
      ],
      "execution_count": 0,
      "outputs": []
    },
    {
      "cell_type": "code",
      "metadata": {
        "id": "VE6ovebYH3zV",
        "colab_type": "code",
        "colab": {}
      },
      "source": [
        "x=np.append(y,z, axis=1 )\n",
        "x"
      ],
      "execution_count": 0,
      "outputs": []
    },
    {
      "cell_type": "code",
      "metadata": {
        "id": "nrdffx2YH8o3",
        "colab_type": "code",
        "colab": {}
      },
      "source": [
        "x=np.append(y,z, axis=2 )\n",
        "x"
      ],
      "execution_count": 0,
      "outputs": []
    },
    {
      "cell_type": "code",
      "metadata": {
        "id": "Z7CkjMQLIe0h",
        "colab_type": "code",
        "colab": {}
      },
      "source": [
        "x = np.hstack((y,z))\n",
        "x"
      ],
      "execution_count": 0,
      "outputs": []
    },
    {
      "cell_type": "code",
      "metadata": {
        "id": "BBPWTy_yKON2",
        "colab_type": "code",
        "colab": {}
      },
      "source": [
        ""
      ],
      "execution_count": 0,
      "outputs": []
    },
    {
      "cell_type": "markdown",
      "metadata": {
        "id": "AHYH1Dl1Lq7Q",
        "colab_type": "text"
      },
      "source": [
        "## boolean mask array"
      ]
    },
    {
      "cell_type": "code",
      "metadata": {
        "id": "obsh-4pBK_ft",
        "colab_type": "code",
        "colab": {}
      },
      "source": [
        "nparray"
      ],
      "execution_count": 0,
      "outputs": []
    },
    {
      "cell_type": "code",
      "metadata": {
        "id": "K-sFlnxdMB0k",
        "colab_type": "code",
        "colab": {}
      },
      "source": [
        "can_div_35_mask = 0 == (nparray % 35)\n",
        "can_div_35_mask"
      ],
      "execution_count": 0,
      "outputs": []
    },
    {
      "cell_type": "code",
      "metadata": {
        "id": "SQFZhmMzMVnL",
        "colab_type": "code",
        "colab": {}
      },
      "source": [
        "filtered_nparray = nparray[can_div_35_mask]\n",
        "filtered_nparray"
      ],
      "execution_count": 0,
      "outputs": []
    },
    {
      "cell_type": "code",
      "metadata": {
        "id": "g-UY3kvfMz3H",
        "colab_type": "code",
        "colab": {}
      },
      "source": [
        "further_filtered_nparray=filtered_nparray[filtered_nparray>70]\n",
        "further_filtered_nparray"
      ],
      "execution_count": 0,
      "outputs": []
    },
    {
      "cell_type": "code",
      "metadata": {
        "id": "6JybD6okNTOJ",
        "colab_type": "code",
        "colab": {}
      },
      "source": [
        "nparray[nparray>200]  #simpler filter"
      ],
      "execution_count": 0,
      "outputs": []
    },
    {
      "cell_type": "code",
      "metadata": {
        "id": "VodhWrDGtS-K",
        "colab_type": "code",
        "colab": {}
      },
      "source": [
        "can_div_15_mask = 0 == (nparray % 15)\n",
        "print(can_div_15_mask)\n",
        "print(can_div_35_mask)"
      ],
      "execution_count": 0,
      "outputs": []
    },
    {
      "cell_type": "code",
      "metadata": {
        "id": "blbBP3SHuk7V",
        "colab_type": "code",
        "colab": {}
      },
      "source": [
        "#boolean operator\n",
        "can_div_15_35_mask=np.logical_and(can_div_15_mask, can_div_35_mask)\n",
        "can_div_15_35_mask"
      ],
      "execution_count": 0,
      "outputs": []
    },
    {
      "cell_type": "code",
      "metadata": {
        "id": "1LVRR-VzvM3M",
        "colab_type": "code",
        "colab": {}
      },
      "source": [
        "nparray[can_div_15_35_mask]"
      ],
      "execution_count": 0,
      "outputs": []
    },
    {
      "cell_type": "markdown",
      "metadata": {
        "id": "v5G3ClxKyfGe",
        "colab_type": "text"
      },
      "source": [
        "## Broadcasting"
      ]
    },
    {
      "cell_type": "code",
      "metadata": {
        "id": "N98EamwFvbOD",
        "colab_type": "code",
        "colab": {}
      },
      "source": [
        "array_3d = np.arange(70)\n",
        "array_3d.shape=(2,7,5)\n",
        "array_3d"
      ],
      "execution_count": 0,
      "outputs": []
    },
    {
      "cell_type": "markdown",
      "metadata": {
        "id": "dKmgGjQQdzSE",
        "colab_type": "text"
      },
      "source": [
        "In the context of deep learning, we also use some less conventional notation. We allow the addition of matrix and a vector, yielding another matrix: C = A + b, where Ci,j = Ai,j + bj. In other words, the vector b is added to each row of the matrix. This shorthand eliminates the need to define a matrix with b copied into each row before doing the addition. This implicit copying of b to many locations is called broadcasting."
      ]
    },
    {
      "cell_type": "code",
      "metadata": {
        "id": "aCz1aPu_ywi-",
        "colab_type": "code",
        "colab": {}
      },
      "source": [
        "x=np.arange(4)\n",
        "xx = x.reshape(4,1)\n",
        "y = np.ones(5)\n",
        "z = np.ones((3,4))\n",
        "print('x=', x)\n",
        "print('')\n",
        "print(\"\\033[1;31;46m reshape from 1x4 to 4x1 \") #color reference from https://ozzmaker.com/add-colour-to-text-in-python/ \n",
        "print(\"\\033[1;31;0m \")\n",
        "print('xx=', xx)\n",
        "print('y=',y)\n",
        "print(y+xx)"
      ],
      "execution_count": 0,
      "outputs": []
    },
    {
      "cell_type": "code",
      "metadata": {
        "id": "yE8jZr1Na7GB",
        "colab_type": "code",
        "colab": {}
      },
      "source": [
        "xx-x"
      ],
      "execution_count": 0,
      "outputs": []
    },
    {
      "cell_type": "markdown",
      "metadata": {
        "id": "NAMGVGa0jWL1",
        "colab_type": "text"
      },
      "source": [
        "To not use broadcasting, manual conversion is beow"
      ]
    },
    {
      "cell_type": "code",
      "metadata": {
        "id": "JmpQNtGWZJ6s",
        "colab_type": "code",
        "colab": {}
      },
      "source": [
        "x2d=[0, 1, 2, 3]*4\n",
        "x2dnp=np.array(x2d).reshape(4,4)"
      ],
      "execution_count": 0,
      "outputs": []
    },
    {
      "cell_type": "code",
      "metadata": {
        "id": "p0uzit_3Rlho",
        "colab_type": "code",
        "colab": {}
      },
      "source": [
        "lista=[0,0,0,0]\n",
        "listb=[1,1,1,1]\n",
        "listc=[2,2,2,2]\n",
        "listd=[3,3,3,3]\n",
        "\n",
        "xx2dnp = np.array(lista+listb+listc+listd).reshape(4,4)"
      ],
      "execution_count": 0,
      "outputs": []
    },
    {
      "cell_type": "code",
      "metadata": {
        "id": "M0qhGuZ2SnY6",
        "colab_type": "code",
        "colab": {}
      },
      "source": [
        "xx2dnp-x2dnp"
      ],
      "execution_count": 0,
      "outputs": []
    },
    {
      "cell_type": "markdown",
      "metadata": {
        "id": "5TE1uHiY2wpc",
        "colab_type": "text"
      },
      "source": [
        "### operations along axis"
      ]
    },
    {
      "cell_type": "code",
      "metadata": {
        "id": "9ODnBvhP2wHm",
        "colab_type": "code",
        "colab": {}
      },
      "source": [
        "array_3d"
      ],
      "execution_count": 0,
      "outputs": []
    },
    {
      "cell_type": "code",
      "metadata": {
        "id": "umtzvjYQ3Svw",
        "colab_type": "code",
        "colab": {}
      },
      "source": [
        "array_3d.shape"
      ],
      "execution_count": 0,
      "outputs": []
    },
    {
      "cell_type": "code",
      "metadata": {
        "id": "ob83NZoH3Wvx",
        "colab_type": "code",
        "colab": {}
      },
      "source": [
        "array_3d.sum(axis=0) # this is array_3d[0]+array_3d[1]"
      ],
      "execution_count": 0,
      "outputs": []
    },
    {
      "cell_type": "code",
      "metadata": {
        "id": "j8GSHIMD3oyQ",
        "colab_type": "code",
        "colab": {}
      },
      "source": [
        "array_3d.sum(axis=1) # sum of each column (7 elements) (axis is array_3d.shape[1])"
      ],
      "execution_count": 0,
      "outputs": []
    },
    {
      "cell_type": "code",
      "metadata": {
        "id": "saH1pWLG34OZ",
        "colab_type": "code",
        "colab": {}
      },
      "source": [
        "array_3d.sum(axis=2) # sum of each row (5 elements) (axis is array_3d.shape[2])"
      ],
      "execution_count": 0,
      "outputs": []
    },
    {
      "cell_type": "markdown",
      "metadata": {
        "id": "z44naYse6SOQ",
        "colab_type": "text"
      },
      "source": [
        "Another example"
      ]
    },
    {
      "cell_type": "code",
      "metadata": {
        "id": "c1HjWHoW4VXp",
        "colab_type": "code",
        "colab": {}
      },
      "source": [
        "array2d_a = np.arange(35, dtype=int).reshape(5,7)\n",
        "array2d_b = np.ones((5,7), dtype=float)*7\n",
        "array2d_a + array2d_b #the result would be float"
      ],
      "execution_count": 0,
      "outputs": []
    },
    {
      "cell_type": "code",
      "metadata": {
        "id": "Kb3nP5Ts61xX",
        "colab_type": "code",
        "colab": {}
      },
      "source": [
        "Vector1 = np.random.random(7)\n",
        "np.set_printoptions(precision=4)\n",
        "Vector1"
      ],
      "execution_count": 0,
      "outputs": []
    },
    {
      "cell_type": "code",
      "metadata": {
        "id": "Qw9JMdBb8fws",
        "colab_type": "code",
        "colab": {}
      },
      "source": [
        "array2d_a + array2d_b + Vector1"
      ],
      "execution_count": 0,
      "outputs": []
    },
    {
      "cell_type": "code",
      "metadata": {
        "id": "6vNv6UE_881w",
        "colab_type": "code",
        "colab": {}
      },
      "source": [
        "Vector2 = np.random.random(5)\n",
        "Vector2"
      ],
      "execution_count": 0,
      "outputs": []
    },
    {
      "cell_type": "code",
      "metadata": {
        "id": "j4oJMeZ79Okx",
        "colab_type": "code",
        "colab": {}
      },
      "source": [
        "Vector2 = np.random.random((5,1))*10\n",
        "Vector2"
      ],
      "execution_count": 0,
      "outputs": []
    },
    {
      "cell_type": "code",
      "metadata": {
        "id": "suQn3Lu59U4b",
        "colab_type": "code",
        "colab": {}
      },
      "source": [
        "array2d_a + array2d_b + Vector2"
      ],
      "execution_count": 0,
      "outputs": []
    },
    {
      "cell_type": "markdown",
      "metadata": {
        "id": "ucaDb_Lw-of6",
        "colab_type": "text"
      },
      "source": [
        "## Structured Arrays"
      ]
    },
    {
      "cell_type": "code",
      "metadata": {
        "id": "WgBinJ5q9bSR",
        "colab_type": "code",
        "colab": {}
      },
      "source": [
        "student_def=[('name','S6'),('height','f8'),('weight','f8'),('age','i8')]\n",
        "student_def"
      ],
      "execution_count": 0,
      "outputs": []
    },
    {
      "cell_type": "code",
      "metadata": {
        "id": "xjuIBNtG_N2z",
        "colab_type": "code",
        "colab": {}
      },
      "source": [
        "student_array = np.ones((4,), dtype=student_def) # initiate 4 records with ones\n",
        "student_array"
      ],
      "execution_count": 0,
      "outputs": []
    },
    {
      "cell_type": "code",
      "metadata": {
        "id": "277bsad3JwSV",
        "colab_type": "code",
        "colab": {}
      },
      "source": [
        "# add some data\n",
        "student_array[3] = ('Tyrion', 73, 205, 14)\n",
        "student_array[0] = ('Billy', 65, 112, 13)\n",
        "print(student_array)"
      ],
      "execution_count": 0,
      "outputs": []
    },
    {
      "cell_type": "code",
      "metadata": {
        "id": "ICc03HcMLLAw",
        "colab_type": "code",
        "colab": {}
      },
      "source": [
        "# get columes\n",
        "print(student_array['name'])\n",
        "print(student_array['age']/2) #note the integer type is kept"
      ],
      "execution_count": 0,
      "outputs": []
    },
    {
      "cell_type": "markdown",
      "metadata": {
        "id": "VvEJlKU9VhdV",
        "colab_type": "text"
      },
      "source": [
        "3D array can also use array data type"
      ]
    },
    {
      "cell_type": "code",
      "metadata": {
        "id": "z1XA5zN4PZQw",
        "colab_type": "code",
        "colab": {}
      },
      "source": [
        "student_3d_array = np.zeros((4,3,2), dtype=student_def)\n",
        "#add some data and get them\n",
        "student_3d_array[0,2,1] = ('Billy', 68, 155, 11)\n",
        "student_3d_array[2,2,1] = ('Alice', 62, 165, 12.3)\n",
        "student_3d_array[3,1,0] = ('Allison', 62, 166, 15.5) # extra string would be truncated \n",
        "\n",
        "student_3d_array"
      ],
      "execution_count": 0,
      "outputs": []
    },
    {
      "cell_type": "code",
      "metadata": {
        "id": "XMlRtxweQufI",
        "colab_type": "code",
        "colab": {}
      },
      "source": [
        "student_3d_array[['name','weight','age']]"
      ],
      "execution_count": 0,
      "outputs": []
    },
    {
      "cell_type": "markdown",
      "metadata": {
        "id": "iMYaNuG6Vv8g",
        "colab_type": "text"
      },
      "source": [
        "Record arrays are structured arrays wrapped using a subclass of ndarray, numpy. recarray , which allows field access by attribute on the array object, and record arrays also use a special datatype, numpy. record , which allows field access by attribute on the individual elements of the array. The numpy."
      ]
    },
    {
      "cell_type": "code",
      "metadata": {
        "id": "ATLZOKWZS5mi",
        "colab_type": "code",
        "colab": {}
      },
      "source": [
        "studen_record_array = np.rec.array([('Joe', 73, 205, 34),('Mirranda', 65, 112, 23)],dtype=student_def)\n",
        "studen_record_array"
      ],
      "execution_count": 0,
      "outputs": []
    },
    {
      "cell_type": "code",
      "metadata": {
        "id": "_okX3_YVV82j",
        "colab_type": "code",
        "colab": {}
      },
      "source": [
        "# get the attribute\n",
        "studen_record_array.age"
      ],
      "execution_count": 0,
      "outputs": []
    },
    {
      "cell_type": "markdown",
      "metadata": {
        "id": "wBcYEONw1hCV",
        "colab_type": "text"
      },
      "source": [
        "## Inline Plot matplotlib"
      ]
    },
    {
      "cell_type": "markdown",
      "metadata": {
        "id": "8TVJjCCUF1tt",
        "colab_type": "text"
      },
      "source": [
        "%matplotlib inline sets the backend of matplotlib to the 'inline' backend:\n",
        "With this backend, the output of plotting commands is displayed inline within frontends like the Jupyter notebook, directly below the code cell that produced it. The resulting plots will then also be stored in the notebook document.\n",
        "\n"
      ]
    },
    {
      "cell_type": "code",
      "metadata": {
        "id": "OTbg0ePwWM_7",
        "colab_type": "code",
        "colab": {}
      },
      "source": [
        "%matplotlib inline"
      ],
      "execution_count": 0,
      "outputs": []
    },
    {
      "cell_type": "code",
      "metadata": {
        "id": "0H9OJCsE1y7V",
        "colab_type": "code",
        "colab": {}
      },
      "source": [
        "import numpy as np\n",
        "import matplotlib.pyplot as plt\n",
        "\n",
        "mu, sigma = 100, 15  # mean = 100, standard deviation=15\n",
        "dataset = mu + sigma * np.random.randn(10000) # Return a sample (or samples) from the “standard normal” distribution.\n",
        "print(dataset.size)\n",
        "\n",
        "# the histogram of the data, to be investigated\n",
        "n, bins, patches = plt.hist(dataset, 50, normed=1, facecolor='g', alpha=0.75)\n",
        "\n",
        "plt.xlabel('Smarts')\n",
        "plt.ylabel('Probability')\n",
        "plt.title('Histogram of IQ')\n",
        "plt.text(130, .025, r'$\\mu=100,\\ \\sigma=15$')\n",
        "plt.axis([80, 160, 0, 0.03])\n",
        "plt.grid(True)\n",
        "plt.show()"
      ],
      "execution_count": 0,
      "outputs": []
    },
    {
      "cell_type": "markdown",
      "metadata": {
        "id": "FSpzexwK3Q0k",
        "colab_type": "text"
      },
      "source": [
        "<p>Available Markers:</p>\n",
        "<table border=\"1\" class=\"docutils\">\n",
        "<colgroup>\n",
        "<col width=\"38%\" />\n",
        "<col width=\"62%\" />\n",
        "</colgroup>\n",
        "<thead valign=\"bottom\">\n",
        "<tr class=\"row-odd\"><th class=\"head\">marker</th>\n",
        "<th class=\"head\">description</th>\n",
        "</tr>\n",
        "</thead>\n",
        "<tbody valign=\"top\">\n",
        "<tr class=\"row-even\"><td>&#8221;.&#8221;</td>\n",
        "<td>point</td>\n",
        "</tr>\n",
        "<tr class=\"row-odd\"><td>&#8221;,&#8221;</td>\n",
        "<td>pixel</td>\n",
        "</tr>\n",
        "<tr class=\"row-even\"><td>&#8220;o&#8221;</td>\n",
        "<td>circle</td>\n",
        "</tr>\n",
        "<tr class=\"row-odd\"><td>&#8220;v&#8221;</td>\n",
        "<td>triangle_down</td>\n",
        "</tr>\n",
        "<tr class=\"row-even\"><td>&#8220;^&#8221;</td>\n",
        "<td>triangle_up</td>\n",
        "</tr>\n",
        "<tr class=\"row-odd\"><td>&#8220;&lt;&#8221;</td>\n",
        "<td>triangle_left</td>\n",
        "</tr>\n",
        "<tr class=\"row-even\"><td>&#8220;&gt;&#8221;</td>\n",
        "<td>triangle_right</td>\n",
        "</tr>\n",
        "<tr class=\"row-odd\"><td>&#8220;1&#8221;</td>\n",
        "<td>tri_down</td>\n",
        "</tr>\n",
        "<tr class=\"row-even\"><td>&#8220;2&#8221;</td>\n",
        "<td>tri_up</td>\n",
        "</tr>\n",
        "<tr class=\"row-odd\"><td>&#8220;3&#8221;</td>\n",
        "<td>tri_left</td>\n",
        "</tr>\n",
        "<tr class=\"row-even\"><td>&#8220;4&#8221;</td>\n",
        "<td>tri_right</td>\n",
        "</tr>\n",
        "<tr class=\"row-odd\"><td>&#8220;8&#8221;</td>\n",
        "<td>octagon</td>\n",
        "</tr>\n",
        "<tr class=\"row-even\"><td>&#8220;s&#8221;</td>\n",
        "<td>square</td>\n",
        "</tr>\n",
        "<tr class=\"row-odd\"><td>&#8220;p&#8221;</td>\n",
        "<td>pentagon</td>\n",
        "</tr>\n",
        "<tr class=\"row-even\"><td>&#8220;*&#8221;</td>\n",
        "<td>star</td>\n",
        "</tr>\n",
        "<tr class=\"row-odd\"><td>&#8220;h&#8221;</td>\n",
        "<td>hexagon1</td>\n",
        "</tr>\n",
        "<tr class=\"row-even\"><td>&#8220;H&#8221;</td>\n",
        "<td>hexagon2</td>\n",
        "</tr>\n",
        "<tr class=\"row-odd\"><td>&#8220;+&#8221;</td>\n",
        "<td>plus</td>\n",
        "</tr>\n",
        "<tr class=\"row-even\"><td>&#8220;x&#8221;</td>\n",
        "<td>x</td>\n",
        "</tr>\n",
        "<tr class=\"row-odd\"><td>&#8220;D&#8221;</td>\n",
        "<td>diamond</td>\n",
        "</tr>\n",
        "<tr class=\"row-even\"><td>&#8220;d&#8221;</td>\n",
        "<td>thin_diamond</td>\n",
        "</tr>\n",
        "<tr class=\"row-odd\"><td>&#8220;|&#8221;</td>\n",
        "<td>vline</td>\n",
        "</tr>\n",
        "<tr class=\"row-even\"><td>&#8220;_&#8221;</td>\n",
        "<td>hline</td>\n",
        "</tr>\n",
        "<tr class=\"row-odd\"><td>TICKLEFT</td>\n",
        "<td>tickleft</td>\n",
        "</tr>\n",
        "<tr class=\"row-even\"><td>TICKRIGHT</td>\n",
        "<td>tickright</td>\n",
        "</tr>\n",
        "<tr class=\"row-odd\"><td>TICKUP</td>\n",
        "<td>tickup</td>\n",
        "</tr>\n",
        "<tr class=\"row-even\"><td>TICKDOWN</td>\n",
        "<td>tickdown</td>\n",
        "</tr>\n",
        "<tr class=\"row-odd\"><td>CARETLEFT</td>\n",
        "<td>caretleft</td>\n",
        "</tr>\n",
        "<tr class=\"row-even\"><td>CARETRIGHT</td>\n",
        "<td>caretright</td>\n",
        "</tr>\n",
        "<tr class=\"row-odd\"><td>CARETUP</td>\n",
        "<td>caretup</td>\n",
        "</tr>\n",
        "<tr class=\"row-even\"><td>CARETDOWN</td>\n",
        "<td>caretdown</td>\n",
        "</tr>\n",
        "<tr class=\"row-odd\"><td>&#8220;None&#8221;</td>\n",
        "<td>nothing</td>\n",
        "</tr>\n",
        "<tr class=\"row-even\"><td>None</td>\n",
        "<td>nothing</td>\n",
        "</tr>\n",
        "<tr class=\"row-odd\"><td>&#8221; &#8220;</td>\n",
        "<td>nothing</td>\n",
        "</tr>\n",
        "<tr class=\"row-even\"><td>&#8220;&#8221;</td>\n",
        "<td>nothing</td>\n",
        "</tr>\n",
        "<tr class=\"row-odd\"><td><code class=\"docutils literal\"><span class=\"pre\">'$...$'</span></code></td>\n",
        "<td>render the string using mathtext.</td>\n",
        "</tr>\n",
        "<tr class=\"row-even\"><td><code class=\"xref py py-obj docutils literal\"><span class=\"pre\">verts</span></code></td>\n",
        "<td>a list of (x, y) pairs used for Path vertices.\n",
        "The center of the marker is located at (0,0) and\n",
        "the size is normalized.</td>\n",
        "</tr>\n",
        "<tr class=\"row-odd\"><td>path</td>\n",
        "<td>a <a class=\"reference internal\" href=\"path_api.html#matplotlib.path.Path\" title=\"matplotlib.path.Path\"><code class=\"xref py py-obj docutils literal\"><span class=\"pre\">Path</span></code></a> instance.</td>\n",
        "</tr>\n",
        "<tr class=\"row-even\"><td>(<code class=\"xref py py-obj docutils literal\"><span class=\"pre\">numsides</span></code>, <code class=\"xref py py-obj docutils literal\"><span class=\"pre\">style</span></code>, <code class=\"xref py py-obj docutils literal\"><span class=\"pre\">angle</span></code>)</td>\n",
        "<td>see below</td>\n",
        "</tr>\n",
        "</tbody>\n",
        "</table>"
      ]
    },
    {
      "cell_type": "code",
      "metadata": {
        "id": "wjhGRALm5inN",
        "colab_type": "code",
        "colab": {}
      },
      "source": [
        "# import numpy as np\n",
        "# import matplotlib.pyplot as plt\n",
        "myFirstFigure = plt.figure(\"hello world numpy plot\")"
      ],
      "execution_count": 0,
      "outputs": []
    },
    {
      "cell_type": "code",
      "metadata": {
        "id": "svCTzjD06tQc",
        "colab_type": "code",
        "colab": {}
      },
      "source": [
        "subplot_1 = myFirstFigure.add_subplot(2, 3, 1) # 2 rows 3 columns, number1 subplot ()\n",
        "subplot_6 = myFirstFigure.add_subplot(2, 3, 6) # number6 subplot (last one)\n"
      ],
      "execution_count": 0,
      "outputs": []
    },
    {
      "cell_type": "code",
      "metadata": {
        "id": "OSEl2aJC7BmK",
        "colab_type": "code",
        "colab": {}
      },
      "source": [
        "plt.plot(np.random.rand(50).cumsum(), 'k--') # 50 elements cumulative sum, k is black and -- is straigh lines\n",
        "plt.show()"
      ],
      "execution_count": 0,
      "outputs": []
    },
    {
      "cell_type": "markdown",
      "metadata": {
        "id": "yffkUBwwOGHs",
        "colab_type": "text"
      },
      "source": [
        "more examples can be found from a2b2c helloworld1.ipynb"
      ]
    },
    {
      "cell_type": "code",
      "metadata": {
        "id": "BpsBr-V2-yba",
        "colab_type": "code",
        "colab": {}
      },
      "source": [
        "subplot_1 = myFirstFigure.add_subplot(2, 3, 2)\n",
        "plt.plot(np.random.rand(10) , 'ro') # red, circle\n",
        "plt.show()"
      ],
      "execution_count": 0,
      "outputs": []
    },
    {
      "cell_type": "code",
      "metadata": {
        "id": "m7cUn8D3BeQs",
        "colab_type": "code",
        "colab": {}
      },
      "source": [
        "data_set_size = 15\n",
        "low_mu, low_sigma = 50, 4.3\n",
        "low_data_set = low_mu + low_sigma * np.random.randn(data_set_size) # generate 15 data points, normally distrubted with mean 50, standard deviation 4.3\n",
        "high_mu, high_sigma = 57, 5.2\n",
        "high_data_set = high_mu + high_sigma * np.random.randn(data_set_size) #generate 15 data points, normally distrubted with mean 57, standard deviation 5.2\n",
        "\n",
        "days = list(range(1, data_set_size + 1)) # x axis\n",
        "\n",
        "plt.plot(days, low_data_set) # default use lines\n",
        "plt.show()"
      ],
      "execution_count": 0,
      "outputs": []
    },
    {
      "cell_type": "markdown",
      "metadata": {
        "id": "q6h-2HmFFgoF",
        "colab_type": "text"
      },
      "source": [
        "Multiple lines in a plot"
      ]
    },
    {
      "cell_type": "code",
      "metadata": {
        "id": "fLMHzLjjFUwV",
        "colab_type": "code",
        "colab": {}
      },
      "source": [
        "plt.plot(days, low_data_set,         \n",
        "         days, high_data_set) # 2 data sets are drawn here\n",
        "plt.show()"
      ],
      "execution_count": 0,
      "outputs": []
    },
    {
      "cell_type": "code",
      "metadata": {
        "id": "2Nux3nNqFbWJ",
        "colab_type": "code",
        "colab": {}
      },
      "source": [
        "# marker table above, v is down arrow, ^ is upper arrow\n",
        "plt.plot(days, low_data_set,\n",
        "         days, low_data_set, \"vm\", # lower triangle, color is meganta\n",
        "         days, high_data_set, \n",
        "         days, high_data_set, \"^k\") # upper triangle, color is black\n",
        "plt.show() # 4 data sets are drawn here"
      ],
      "execution_count": 0,
      "outputs": []
    },
    {
      "cell_type": "code",
      "metadata": {
        "id": "GfkCz4ZzFyCy",
        "colab_type": "code",
        "colab": {}
      },
      "source": [
        "plt.plot(days, high_data_set, \"^k\")\n",
        "plt.show() # 1 data set is drawn here"
      ],
      "execution_count": 0,
      "outputs": []
    },
    {
      "cell_type": "code",
      "metadata": {
        "id": "eBfKt5bqEqvw",
        "colab_type": "code",
        "colab": {}
      },
      "source": [
        "# Add the x,y labels and title, legend is more a text box here\n",
        "plt.plot(days, low_data_set,\n",
        "         days, low_data_set, \"vm\",\n",
        "         days, high_data_set, \n",
        "         days, high_data_set, \"^k\")\n",
        "plt.xlabel('Day')\n",
        "plt.ylabel('Temperature: degrees Farenheit')\n",
        "plt.title('Randomized temperature data')\n",
        "plt.legend(loc=\"upper right\", shadow=True, title=\"Legend: high ^ vs low v\")\n",
        "plt.show()"
      ],
      "execution_count": 0,
      "outputs": []
    },
    {
      "cell_type": "code",
      "metadata": {
        "id": "1cdjxIvMP432",
        "colab_type": "code",
        "colab": {}
      },
      "source": [
        "line1, = plt.plot(low_data_set)\n",
        "line2, = plt.plot(high_data_set)\n",
        "line1.set_label('low temperature')\n",
        "line2.set_label('high temperature')\n",
        "plt.legend()"
      ],
      "execution_count": 0,
      "outputs": []
    },
    {
      "cell_type": "markdown",
      "metadata": {
        "id": "3HEp4iZlYirC",
        "colab_type": "text"
      },
      "source": [
        "Mark, Label and Grid"
      ]
    },
    {
      "cell_type": "code",
      "metadata": {
        "id": "oy5K2aICYclJ",
        "colab_type": "code",
        "colab": {}
      },
      "source": [
        "number_of_data_points = 1000\n",
        "\n",
        "my_figure = plt.figure()\n",
        "subplot_1 = my_figure.add_subplot(1, 1, 1) # only one subplot in this figure\n",
        "subplot_1.plot(np.random.rand(number_of_data_points).cumsum()) # add data to subplot\n",
        "\n",
        "number_of_ticks = 8\n",
        "ticks = np.arange(0, number_of_data_points, number_of_data_points//number_of_ticks) # (0~1000, integer 0~125)\n",
        "subplot_1.set_xticks(ticks) # this won't be displayed on the subplot, only scales it\n",
        "\n",
        "labels = subplot_1.set_xticklabels(['one', 'two', '', 'three', 'four', 'five'], rotation=45, fontsize='small')\n",
        "\n",
        "subplot_1.set_title (\"My First Ticked Plot\")\n",
        "subplot_1.set_xlabel (\"Groups\")\n",
        "subplot_1.set_ylabel (\"Actual sum\")\n",
        "\n",
        "\n",
        "#subplot_1.grid(True)\n",
        "#gridlines = subplot_1.get_xgridlines() + subplot_1.get_ygridlines()\n",
        "#for line in gridlines:\n",
        "#    line.set_linestyle(':')\n",
        "\n",
        "# comment out grid example above and use a simpler one\n",
        "\n",
        "subplot_1.grid(color='r', linestyle=':', linewidth=5)\n",
        "plt.show()"
      ],
      "execution_count": 0,
      "outputs": []
    },
    {
      "cell_type": "markdown",
      "metadata": {
        "id": "xy6W7pDeTy9v",
        "colab_type": "text"
      },
      "source": [
        "Line styles for grid lines\n",
        "<list>\n",
        "    <li>-    solid line</li>\n",
        "    <li>--   dashed line</li>\n",
        "    <li>-.   dash dot line</li>\n",
        "    <li>:    dotted</li>\n",
        "</list>\n",
        "\n",
        "More information about lines available at: http://matplotlib.org/api/lines_api.html"
      ]
    },
    {
      "cell_type": "code",
      "metadata": {
        "id": "EhHmTRBHaD1n",
        "colab_type": "code",
        "colab": {}
      },
      "source": [
        "# add text box and arrow annotation\n",
        "number_of_data_points = 100\n",
        "\n",
        "my_figure2 = plt.figure()\n",
        "subplot_1 = my_figure2.add_subplot(1, 1, 1) # only one subplot in this figure\n",
        "subplot_1.plot(np.random.rand(number_of_data_points).cumsum()) # add data to subplot\n",
        "\n",
        "subplot_1.grid(None) # somehow after it's set to none, the grid is still here\n",
        "subplot_1.text (25, 40, r'an equation: $E=mc^2$', fontsize=18, color='red') # x=25, y=40 r'  accepts regex\n",
        "subplot_1.text (1, 1.5, \"Hello, Mountain Climbing!\", family='monospace', fontsize=10, color='green')\n",
        "\n",
        "# add text box at the center 0.5 here means 50%, more on transform http://matplotlib.org/users/transforms_tutorial.html\n",
        "subplot_1.text(0.5, 0.5, b\"We at the center, now\", transform=subplot_1.transAxes)\n",
        "\n",
        "# the allow start from xytext and points to xy\n",
        "subplot_1.annotate('shoot arrow', xy=(2, 1), xytext=(60, 20),\n",
        "            arrowprops=dict(facecolor='red', shrink=0.05))\n",
        "\n",
        "plt.show()"
      ],
      "execution_count": 0,
      "outputs": []
    },
    {
      "cell_type": "code",
      "metadata": {
        "id": "k4miO2lHfyRa",
        "colab_type": "code",
        "colab": {}
      },
      "source": [
        "#Show above graphs side by side\n",
        "\n",
        "number_of_data_points = 1000\n",
        "\n",
        "my_figure = plt.figure()\n",
        "subplot_1 = my_figure.add_subplot(1, 2, 1) # only one subplot in this figure\n",
        "subplot_1.plot(np.random.rand(number_of_data_points).cumsum()) # add data to subplot\n",
        "\n",
        "number_of_ticks = 8\n",
        "ticks = np.arange(0, number_of_data_points, number_of_data_points//number_of_ticks) # (0~1000, integer 0~125)\n",
        "subplot_1.set_xticks(ticks) # this won't be displayed on the subplot, only scales it\n",
        "\n",
        "labels = subplot_1.set_xticklabels(['one', 'two', '', 'three', 'four', 'five'], rotation=45, fontsize='small')\n",
        "\n",
        "subplot_1.set_title (\"My First Ticked Plot\")\n",
        "subplot_1.set_xlabel (\"Groups\")\n",
        "subplot_1.set_ylabel (\"Actual sum\")\n",
        "\n",
        "subplot_1.grid(color='r', linestyle=':', linewidth=5)\n",
        "\n",
        "\n",
        "# remove grid but add text box\n",
        "number_of_data_points = 100\n",
        "\n",
        "#my_figure2 = plt.figure()\n",
        "subplot_2 = my_figure.add_subplot(1, 2, 2) # only one subplot in this figure\n",
        "subplot_2.plot(np.random.rand(number_of_data_points).cumsum()) # add data to subplot\n",
        "\n",
        "subplot_2.grid(None) # somehow after it's set to none, the grid is still here\n",
        "subplot_2.text (25, 40, r'an equation: $E=mc^2$', fontsize=18, color='red') # x=25, y=40 r'  accepts regex\n",
        "subplot_2.text (1, 1.5, \"Hello, Mountain Climbing!\", family='monospace', fontsize=10, color='green')\n",
        "\n",
        "# add text box at the center 0.5 here means 50%, more on transform http://matplotlib.org/users/transforms_tutorial.html\n",
        "subplot_2.text(0.5, 0.5, b\"We at the center, now\", transform=subplot_2.transAxes)\n",
        "\n",
        "# the allow start from xytext and points to xy\n",
        "subplot_2.annotate('shoot arrow', xy=(2, 1), xytext=(60, 20),\n",
        "            arrowprops=dict(facecolor='red', shrink=0.05))\n",
        "\n",
        "plt.show()"
      ],
      "execution_count": 0,
      "outputs": []
    },
    {
      "cell_type": "markdown",
      "metadata": {
        "id": "C8AnxxRJkF5I",
        "colab_type": "text"
      },
      "source": [
        "Subplots"
      ]
    },
    {
      "cell_type": "code",
      "metadata": {
        "id": "JMSn6FtnjzQO",
        "colab_type": "code",
        "colab": {}
      },
      "source": [
        "fig = plt.figure()\n",
        "for i, label in enumerate(('A', 'B', 'C', 'D')):\n",
        "    ax = fig.add_subplot(2,2,i+1)\n",
        "    ax.text(0.05, 0.95, label, transform=ax.transAxes,\n",
        "      fontsize=16, fontweight='bold', va='top')\n",
        "\n",
        "plt.show()"
      ],
      "execution_count": 0,
      "outputs": []
    },
    {
      "cell_type": "markdown",
      "metadata": {
        "id": "3KFNFH_cK0x5",
        "colab_type": "text"
      },
      "source": [
        "More legend example: http://matplotlib.org/examples/pylab_examples/legend_demo2.html"
      ]
    },
    {
      "cell_type": "code",
      "metadata": {
        "id": "7hB3DUiZEqv-",
        "colab_type": "code",
        "colab": {}
      },
      "source": [
        "t1 = np.arange(0.0, 2.0, 0.1)\n",
        "t2 = np.arange(0.0, 2.0, 0.01)\n",
        "\n",
        "# note that plot returns a list of lines.  The \"l1, = plot\" usage\n",
        "# extracts the first element of the list into l1 using tuple\n",
        "# unpacking.  So l1 is a Line2D instance, not a sequence of lines\n",
        "l1, = plt.plot(t2, np.exp(-t2))\n",
        "l2, l3 = plt.plot(t2, np.sin(2 * np.pi * t2), '--go', t1, np.log(1 + t1), '.')\n",
        "l4, = plt.plot(t2, np.exp(-t2) * np.sin(2 * np.pi * t2), 'rs-.')\n",
        "\n",
        "plt.legend((l2, l4), ('oscillatory', 'damped'), loc='upper right', shadow=True)\n",
        "plt.xlabel('time')\n",
        "plt.ylabel('volts')\n",
        "plt.title('Damped oscillation')\n",
        "plt.show()"
      ],
      "execution_count": 0,
      "outputs": []
    },
    {
      "cell_type": "markdown",
      "metadata": {
        "id": "bDmiEOtYqtIM",
        "colab_type": "text"
      },
      "source": [
        "Another annotation example"
      ]
    },
    {
      "cell_type": "code",
      "metadata": {
        "id": "jEcsRi6JLagB",
        "colab_type": "code",
        "colab": {}
      },
      "source": [
        "x = np.arange(0, 10, 0.005)\n",
        "y = np.exp(-x/2.) * np.sin(2*np.pi*x)\n",
        "\n",
        "fig = plt.figure()\n",
        "ax = fig.add_subplot(111)\n",
        "ax.plot(x, y)\n",
        "ax.set_xlim(0, 10)\n",
        "ax.set_ylim(-1, 1)\n",
        "\n",
        "xdata, ydata = 5, 0\n",
        "xdisplay, ydisplay = ax.transData.transform_point((xdata, ydata))\n",
        "print(xdisplay, ydisplay)\n",
        "\n",
        "# bbox defines the 2 boxes. fc is grayscale betweem 0 - 1\n",
        "bbox = dict(boxstyle=\"round\", fc=\"0.8\")\n",
        "arrowprops = dict(\n",
        "    arrowstyle = \"->\",\n",
        "    connectionstyle = \"angle,angleA=30,angleB=90,rad=10\") #angel of the arrows\n",
        "\n",
        "offset = 72\n",
        "ax.annotate('data = (%.1f, %.1f)'%(xdata, ydata), # txt box 1 content\n",
        "            (xdata, ydata), xytext=(-2*offset, offset), textcoords='offset points', # to 5,0, from 5+(-2)*offset, 0+offset\n",
        "            bbox=bbox, arrowprops=arrowprops)  #bbox style, with arrowprops\n",
        "\n",
        "\n",
        "disp = ax.annotate('display = (%.1f, %.1f)'%(xdisplay, ydisplay), # txt box 1 content\n",
        "            (xdisplay, ydisplay), xytext=(0.5*offset, -offset), # to pixel location? 221.4 144.7, from 221.4+0.5*offset, 144.7-offset\n",
        "            xycoords='figure pixels',\n",
        "            textcoords='offset points',\n",
        "            bbox=bbox, arrowprops=arrowprops)\n",
        "\n",
        "\n",
        "plt.show()"
      ],
      "execution_count": 0,
      "outputs": []
    },
    {
      "cell_type": "markdown",
      "metadata": {
        "id": "rWDAhfc8i9bC",
        "colab_type": "text"
      },
      "source": [
        "### Pie and Bar function API\n",
        "http://matplotlib.org/api/pyplot_api.html"
      ]
    },
    {
      "cell_type": "code",
      "metadata": {
        "id": "p6OhC6xbnPGg",
        "colab_type": "code",
        "colab": {}
      },
      "source": [
        "# The slices will be ordered and plotted counter-clockwise.\n",
        "labels = 'Frogs', 'Hogs', 'Dogs', 'Logs'\n",
        "sizes = [15, 30, 45, 10] # x=sizes, the percentage main body of the chart\n",
        "colors = ['yellowgreen', 'gold', 'lightskyblue', 'lightcoral']\n",
        "explode = (0, 0.2, 0, 0)  # only \"explode\" the 2nd slice (i.e. 'Hogs')\n",
        "wedgeproperty = {'linewidth': 10, 'hatch': '/'}\n",
        "\n",
        "plt.pie(x=sizes, explode=explode, labels=labels, colors=colors,\n",
        "        autopct='%1.1f%%', shadow=True, startangle=180, wedgeprops = wedgeproperty, \n",
        "        textprops=dict(color=\"r\"), frame=True ) \n",
        "# Set aspect ratio to be equal so that pie is drawn as a circle.\n",
        "plt.axis('equal')  # a circle, rather than ellipse\n",
        "\n",
        "# matplotlib.pyplot.pie(x=[size], explode=None, labels=None, colors=None, autopct=None show percentage in 1.1f format etc, \n",
        "# pctdistance=0.6 percentage label to center disatance in radius ratio, \n",
        "# shadow=False, wedgeprops=None dict eg wedgeprops = {'linewidth': 10, 'hatch': '/'} https://matplotlib.org/api/_as_gen/matplotlib.patches.Wedge.html,\n",
        "# labeldistance=1.1 text abel to center disatance in radius ratio, startangle=None, radius=None size of the pie, counterclock=True, \n",
        "# textprops=None dict text property, center=(0, 0), frame=False add x,y frame, data=None)\n",
        "\n",
        "\n",
        "plt.show()\n",
        "\n",
        "# returns \n",
        "# patches : list\n",
        "#   sequence of matplotlib.patches.Wedge instances\n",
        "# texts : list\n",
        "#   is a list of the label matplotlib.text.Text instances.\n",
        "# autotexts : list\n",
        "#   is a list of Text instances for the numeric labels. Is returned only if parameter autopct is not None."
      ],
      "execution_count": 0,
      "outputs": []
    },
    {
      "cell_type": "code",
      "metadata": {
        "id": "NXoyEqIXjUEN",
        "colab_type": "code",
        "colab": {}
      },
      "source": [
        "N = 5\n",
        "menMeans = (20, 35, 30, 35, 27)\n",
        "menStd = (2, 3, 4, 1, 2)\n",
        "\n",
        "ind = np.arange(N)  # the x locations for the groups\n",
        "width = 0.35       # the width of the bars\n",
        "\n",
        "# matplotlib.pyplot.bar(left, height, width=0.8, bottom=None, hold=None, data=None, **kwargs)\n",
        "fig, ax = plt.subplots()\n",
        "rects1 = ax.bar(ind, menMeans, width, color='r', yerr=menStd)\n",
        "\n",
        "womenMeans = (25, 32, 34, 20, 25)\n",
        "womenStd = (3, 5, 2, 3, 3)\n",
        "rects2 = ax.bar(ind + width, womenMeans, width, color='y', yerr=womenStd)\n",
        "\n",
        "\n",
        "# add some text for labels, title and axes ticks\n",
        "ax.set_ylabel('Scores')\n",
        "ax.set_title('Scores by group and gender')\n",
        "\n",
        "ax.set_xticks(ind + width)\n",
        "ax.set_xticklabels(('G1', 'G2', 'G3', 'G4', 'G5'))\n",
        "\n",
        "ax.legend((rects1[0], rects2[0]), ('Men', 'Women'))\n",
        "\n",
        "\n",
        "plt.show()"
      ],
      "execution_count": 0,
      "outputs": []
    },
    {
      "cell_type": "markdown",
      "metadata": {
        "id": "JdIceBUB00om",
        "colab_type": "text"
      },
      "source": [
        "For more complicated plots, [matplotlib's Gallery](https://matplotlib.org/gallery.html)\n",
        "More example from my github in [Gallery.ipynb](https://raw.githubusercontent.com/cmskzhan/helloworld/master/LearnNumpy/Ch%204/04_07/Finish/Gallery.ipynb)"
      ]
    },
    {
      "cell_type": "code",
      "metadata": {
        "id": "nlNqP65gjVed",
        "colab_type": "code",
        "colab": {}
      },
      "source": [
        ""
      ],
      "execution_count": 0,
      "outputs": []
    }
  ]
}
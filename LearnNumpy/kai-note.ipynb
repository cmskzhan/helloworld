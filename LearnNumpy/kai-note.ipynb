{
  "nbformat": 4,
  "nbformat_minor": 0,
  "metadata": {
    "kernelspec": {
      "display_name": "Python 2",
      "language": "python",
      "name": "python2"
    },
    "language_info": {
      "codemirror_mode": {
        "name": "ipython",
        "version": 2
      },
      "file_extension": ".py",
      "mimetype": "text/x-python",
      "name": "python",
      "nbconvert_exporter": "python",
      "pygments_lexer": "ipython2",
      "version": "2.7.11"
    },
    "colab": {
      "name": "Creating Arrays from Python Structures-checkpoint.ipynb",
      "provenance": []
    }
  },
  "cells": [
    {
      "cell_type": "markdown",
      "metadata": {
        "id": "P18y1y_syZv_",
        "colab_type": "text"
      },
      "source": [
        "<h1>Create NumPy arrays using Python's \"array like\" data types</h1>\n"
      ]
    },
    {
      "cell_type": "code",
      "metadata": {
        "id": "0ldeJOzOyeHX",
        "colab_type": "code",
        "outputId": "1a6f82d2-4130-4a97-f8e1-2e22faa33821",
        "colab": {
          "base_uri": "https://localhost:8080/",
          "height": 34
        }
      },
      "source": [
        "import numpy as np \n",
        "print(np.__version__)"
      ],
      "execution_count": 1,
      "outputs": [
        {
          "output_type": "stream",
          "text": [
            "1.16.4\n"
          ],
          "name": "stdout"
        }
      ]
    },
    {
      "cell_type": "code",
      "metadata": {
        "id": "TqsoqXBTyp1o",
        "colab_type": "code",
        "outputId": "457fafa7-cf81-4a9b-c884-fb98531518d9",
        "colab": {
          "base_uri": "https://localhost:8080/",
          "height": 34
        }
      },
      "source": [
        "my_list = [-17, 0, 4, 5, 29]\n",
        "np_array=np.array(my_list)\n",
        "print(np_array) "
      ],
      "execution_count": 2,
      "outputs": [
        {
          "output_type": "stream",
          "text": [
            "[-17   0   4   5  29]\n"
          ],
          "name": "stdout"
        }
      ]
    },
    {
      "cell_type": "markdown",
      "metadata": {
        "id": "IY_GexWR2v9S",
        "colab_type": "text"
      },
      "source": [
        "## multiply * works differently between python types and np typy"
      ]
    },
    {
      "cell_type": "code",
      "metadata": {
        "id": "byFpvbATyzUE",
        "colab_type": "code",
        "outputId": "89171215-5024-46e0-da50-c53596bf751a",
        "colab": {
          "base_uri": "https://localhost:8080/",
          "height": 50
        }
      },
      "source": [
        "my_list_10x=my_list*10\n",
        "print(my_list_10x)\n",
        "np_array_10x=np_array*10\n",
        "print(np_array_10x)"
      ],
      "execution_count": 3,
      "outputs": [
        {
          "output_type": "stream",
          "text": [
            "[-17, 0, 4, 5, 29, -17, 0, 4, 5, 29, -17, 0, 4, 5, 29, -17, 0, 4, 5, 29, -17, 0, 4, 5, 29, -17, 0, 4, 5, 29, -17, 0, 4, 5, 29, -17, 0, 4, 5, 29, -17, 0, 4, 5, 29, -17, 0, 4, 5, 29]\n",
            "[-170    0   40   50  290]\n"
          ],
          "name": "stdout"
        }
      ]
    },
    {
      "cell_type": "markdown",
      "metadata": {
        "id": "HRVsjBCi0_Sn",
        "colab_type": "text"
      },
      "source": [
        "##complex and tuple"
      ]
    },
    {
      "cell_type": "code",
      "metadata": {
        "id": "byvClJ4jzd_L",
        "colab_type": "code",
        "outputId": "5a4a57ea-52a4-457b-e979-87fc58e7d281",
        "colab": {
          "base_uri": "https://localhost:8080/",
          "height": 50
        }
      },
      "source": [
        "tupleToNumpy=(14, -3.14, 4+3j); tupleToNumpy2=(-14, 3.21)  #int, float, complex, np array keeps elements of array uniform\n",
        "numpyFromTuple=np.array(tupleToNumpy)\n",
        "numpyFromTuple2=np.array(tupleToNumpy2)\n",
        "print(numpyFromTuple)\n",
        "print(numpyFromTuple2)\n"
      ],
      "execution_count": 4,
      "outputs": [
        {
          "output_type": "stream",
          "text": [
            "[14.  +0.j -3.14+0.j  4.  +3.j]\n",
            "[-14.     3.21]\n"
          ],
          "name": "stdout"
        }
      ]
    },
    {
      "cell_type": "markdown",
      "metadata": {
        "id": "kwL0RMLNGjY9",
        "colab_type": "text"
      },
      "source": [
        "##simple methods"
      ]
    },
    {
      "cell_type": "code",
      "metadata": {
        "id": "0D-y3wJ20KBA",
        "colab_type": "code",
        "outputId": "7a40afcd-a353-4ecc-e607-c3c0e6aa1d5f",
        "colab": {
          "base_uri": "https://localhost:8080/",
          "height": 34
        }
      },
      "source": [
        "# numpy.arange([start, ]stop, [step, ]dtype=None) official url by google np.arange\n",
        "np.arange(10,30,2)*10-3"
      ],
      "execution_count": 5,
      "outputs": [
        {
          "output_type": "execute_result",
          "data": {
            "text/plain": [
              "array([ 97, 117, 137, 157, 177, 197, 217, 237, 257, 277])"
            ]
          },
          "metadata": {
            "tags": []
          },
          "execution_count": 5
        }
      ]
    },
    {
      "cell_type": "code",
      "metadata": {
        "id": "P_RN65tGGJZi",
        "colab_type": "code",
        "outputId": "716acc9c-bf99-44c0-e300-0f83b6be87c6",
        "colab": {
          "base_uri": "https://localhost:8080/",
          "height": 34
        }
      },
      "source": [
        "np.arange(20,step=4)"
      ],
      "execution_count": 6,
      "outputs": [
        {
          "output_type": "execute_result",
          "data": {
            "text/plain": [
              "array([ 0,  4,  8, 12, 16])"
            ]
          },
          "metadata": {
            "tags": []
          },
          "execution_count": 6
        }
      ]
    },
    {
      "cell_type": "code",
      "metadata": {
        "id": "g8PlH0EkEqgG",
        "colab_type": "code",
        "outputId": "fdb86270-7f6b-4b34-ea8b-5c6d80202b09",
        "colab": {
          "base_uri": "https://localhost:8080/",
          "height": 34
        }
      },
      "source": [
        "nparray=(np.arange(10,30,2)-3)*10\n",
        "nparray"
      ],
      "execution_count": 7,
      "outputs": [
        {
          "output_type": "execute_result",
          "data": {
            "text/plain": [
              "array([ 70,  90, 110, 130, 150, 170, 190, 210, 230, 250])"
            ]
          },
          "metadata": {
            "tags": []
          },
          "execution_count": 7
        }
      ]
    },
    {
      "cell_type": "code",
      "metadata": {
        "id": "JfrRTVVsE0tE",
        "colab_type": "code",
        "outputId": "751ce899-7180-409f-cb1a-e4d5fcd415de",
        "colab": {
          "base_uri": "https://localhost:8080/",
          "height": 34
        }
      },
      "source": [
        "nparray.size # this only gives number of elements"
      ],
      "execution_count": 8,
      "outputs": [
        {
          "output_type": "execute_result",
          "data": {
            "text/plain": [
              "10"
            ]
          },
          "metadata": {
            "tags": []
          },
          "execution_count": 8
        }
      ]
    },
    {
      "cell_type": "code",
      "metadata": {
        "id": "O6aiy8J7FQh9",
        "colab_type": "code",
        "outputId": "75917234-88cc-4240-d0bf-1bf50259b3bf",
        "colab": {
          "base_uri": "https://localhost:8080/",
          "height": 50
        }
      },
      "source": [
        "np.linspace(0,30,10,True)"
      ],
      "execution_count": 9,
      "outputs": [
        {
          "output_type": "execute_result",
          "data": {
            "text/plain": [
              "array([ 0.        ,  3.33333333,  6.66666667, 10.        , 13.33333333,\n",
              "       16.66666667, 20.        , 23.33333333, 26.66666667, 30.        ])"
            ]
          },
          "metadata": {
            "tags": []
          },
          "execution_count": 9
        }
      ]
    },
    {
      "cell_type": "markdown",
      "metadata": {
        "id": "f8qJ8YvWH7Jz",
        "colab_type": "text"
      },
      "source": [
        "##indexing, shaping (dimension) and slicing"
      ]
    },
    {
      "cell_type": "code",
      "metadata": {
        "id": "2Fen7Qm-FV9M",
        "colab_type": "code",
        "outputId": "fc6c572b-e2c1-4025-88bc-1ce08c0db132",
        "colab": {
          "base_uri": "https://localhost:8080/",
          "height": 34
        }
      },
      "source": [
        "z=np.zeros(20)\n",
        "z[10]"
      ],
      "execution_count": 10,
      "outputs": [
        {
          "output_type": "execute_result",
          "data": {
            "text/plain": [
              "0.0"
            ]
          },
          "metadata": {
            "tags": []
          },
          "execution_count": 10
        }
      ]
    },
    {
      "cell_type": "code",
      "metadata": {
        "id": "IDPsv4DPJsaz",
        "colab_type": "code",
        "outputId": "8737ce53-96de-4f4b-c9c0-d82c7fd9486d",
        "colab": {
          "base_uri": "https://localhost:8080/",
          "height": 50
        }
      },
      "source": [
        "z[10]=9;z[0]=10; z[-1]=7.5; z[-2]=-2.1\n",
        "z"
      ],
      "execution_count": 11,
      "outputs": [
        {
          "output_type": "execute_result",
          "data": {
            "text/plain": [
              "array([10. ,  0. ,  0. ,  0. ,  0. ,  0. ,  0. ,  0. ,  0. ,  0. ,  9. ,\n",
              "        0. ,  0. ,  0. ,  0. ,  0. ,  0. ,  0. , -2.1,  7.5])"
            ]
          },
          "metadata": {
            "tags": []
          },
          "execution_count": 11
        }
      ]
    },
    {
      "cell_type": "code",
      "metadata": {
        "id": "o-ENMCQiIfMx",
        "colab_type": "code",
        "outputId": "8e1944f7-ce5d-4ec5-a3e5-db907db7d669",
        "colab": {
          "base_uri": "https://localhost:8080/",
          "height": 67
        }
      },
      "source": [
        "o=np.ones((3,3), dtype=int)\n",
        "o"
      ],
      "execution_count": 12,
      "outputs": [
        {
          "output_type": "execute_result",
          "data": {
            "text/plain": [
              "array([[1, 1, 1],\n",
              "       [1, 1, 1],\n",
              "       [1, 1, 1]])"
            ]
          },
          "metadata": {
            "tags": []
          },
          "execution_count": 12
        }
      ]
    },
    {
      "cell_type": "code",
      "metadata": {
        "id": "3J0NdeaWIxtX",
        "colab_type": "code",
        "outputId": "1e3d144d-6bbc-44cd-d091-b535fbde552c",
        "colab": {
          "base_uri": "https://localhost:8080/",
          "height": 84
        }
      },
      "source": [
        "z.shape=(4,5)\n",
        "z"
      ],
      "execution_count": 13,
      "outputs": [
        {
          "output_type": "execute_result",
          "data": {
            "text/plain": [
              "array([[10. ,  0. ,  0. ,  0. ,  0. ],\n",
              "       [ 0. ,  0. ,  0. ,  0. ,  0. ],\n",
              "       [ 9. ,  0. ,  0. ,  0. ,  0. ],\n",
              "       [ 0. ,  0. ,  0. , -2.1,  7.5]])"
            ]
          },
          "metadata": {
            "tags": []
          },
          "execution_count": 13
        }
      ]
    },
    {
      "cell_type": "code",
      "metadata": {
        "id": "yr_-7IOBKiqe",
        "colab_type": "code",
        "outputId": "5469b321-47ed-45af-82bc-d46174aa81dd",
        "colab": {
          "base_uri": "https://localhost:8080/",
          "height": 101
        }
      },
      "source": [
        "z.shape=(2,2,5)   #3-d np array\n",
        "z"
      ],
      "execution_count": 14,
      "outputs": [
        {
          "output_type": "execute_result",
          "data": {
            "text/plain": [
              "array([[[10. ,  0. ,  0. ,  0. ,  0. ],\n",
              "        [ 0. ,  0. ,  0. ,  0. ,  0. ]],\n",
              "\n",
              "       [[ 9. ,  0. ,  0. ,  0. ,  0. ],\n",
              "        [ 0. ,  0. ,  0. , -2.1,  7.5]]])"
            ]
          },
          "metadata": {
            "tags": []
          },
          "execution_count": 14
        }
      ]
    },
    {
      "cell_type": "code",
      "metadata": {
        "id": "rtWYhzY1Ko9z",
        "colab_type": "code",
        "outputId": "1c054f51-4fc0-444c-9852-5b7bbb8336b6",
        "colab": {
          "base_uri": "https://localhost:8080/",
          "height": 34
        }
      },
      "source": [
        "z[1][1]"
      ],
      "execution_count": 15,
      "outputs": [
        {
          "output_type": "execute_result",
          "data": {
            "text/plain": [
              "array([ 0. ,  0. ,  0. , -2.1,  7.5])"
            ]
          },
          "metadata": {
            "tags": []
          },
          "execution_count": 15
        }
      ]
    },
    {
      "cell_type": "code",
      "metadata": {
        "id": "xUVF3-VULDP-",
        "colab_type": "code",
        "outputId": "25a4dde3-9bd2-402d-e104-871a57477c1d",
        "colab": {
          "base_uri": "https://localhost:8080/",
          "height": 34
        }
      },
      "source": [
        "z[1,0][0]"
      ],
      "execution_count": 16,
      "outputs": [
        {
          "output_type": "execute_result",
          "data": {
            "text/plain": [
              "9.0"
            ]
          },
          "metadata": {
            "tags": []
          },
          "execution_count": 16
        }
      ]
    },
    {
      "cell_type": "code",
      "metadata": {
        "id": "QL7EkGkEKx2m",
        "colab_type": "code",
        "outputId": "5cf38c8c-a154-4051-e48c-36001dd2f1e1",
        "colab": {
          "base_uri": "https://localhost:8080/",
          "height": 50
        }
      },
      "source": [
        "z[0]"
      ],
      "execution_count": 17,
      "outputs": [
        {
          "output_type": "execute_result",
          "data": {
            "text/plain": [
              "array([[10.,  0.,  0.,  0.,  0.],\n",
              "       [ 0.,  0.,  0.,  0.,  0.]])"
            ]
          },
          "metadata": {
            "tags": []
          },
          "execution_count": 17
        }
      ]
    },
    {
      "cell_type": "code",
      "metadata": {
        "id": "lgJD4WNzwgI_",
        "colab_type": "code",
        "outputId": "4377a463-599d-41b7-9dc7-2122e9ba5ef6",
        "colab": {
          "base_uri": "https://localhost:8080/",
          "height": 34
        }
      },
      "source": [
        "z.size"
      ],
      "execution_count": 18,
      "outputs": [
        {
          "output_type": "execute_result",
          "data": {
            "text/plain": [
              "20"
            ]
          },
          "metadata": {
            "tags": []
          },
          "execution_count": 18
        }
      ]
    },
    {
      "cell_type": "markdown",
      "metadata": {
        "id": "AHYH1Dl1Lq7Q",
        "colab_type": "text"
      },
      "source": [
        "## boolean mask array"
      ]
    },
    {
      "cell_type": "code",
      "metadata": {
        "id": "obsh-4pBK_ft",
        "colab_type": "code",
        "outputId": "4953644b-fbe5-48b0-bfe9-468a54ee1647",
        "colab": {
          "base_uri": "https://localhost:8080/",
          "height": 34
        }
      },
      "source": [
        "nparray"
      ],
      "execution_count": 19,
      "outputs": [
        {
          "output_type": "execute_result",
          "data": {
            "text/plain": [
              "array([ 70,  90, 110, 130, 150, 170, 190, 210, 230, 250])"
            ]
          },
          "metadata": {
            "tags": []
          },
          "execution_count": 19
        }
      ]
    },
    {
      "cell_type": "code",
      "metadata": {
        "id": "K-sFlnxdMB0k",
        "colab_type": "code",
        "outputId": "9d8e321d-90f2-4945-c685-bced4569fd86",
        "colab": {
          "base_uri": "https://localhost:8080/",
          "height": 50
        }
      },
      "source": [
        "can_div_35_mask = 0 == (nparray % 35)\n",
        "can_div_35_mask"
      ],
      "execution_count": 20,
      "outputs": [
        {
          "output_type": "execute_result",
          "data": {
            "text/plain": [
              "array([ True, False, False, False, False, False, False,  True, False,\n",
              "       False])"
            ]
          },
          "metadata": {
            "tags": []
          },
          "execution_count": 20
        }
      ]
    },
    {
      "cell_type": "code",
      "metadata": {
        "id": "SQFZhmMzMVnL",
        "colab_type": "code",
        "outputId": "3c670cdc-4b3e-4843-edcc-c7f22941a9a0",
        "colab": {
          "base_uri": "https://localhost:8080/",
          "height": 34
        }
      },
      "source": [
        "filtered_nparray = nparray[can_div_35_mask]\n",
        "filtered_nparray"
      ],
      "execution_count": 21,
      "outputs": [
        {
          "output_type": "execute_result",
          "data": {
            "text/plain": [
              "array([ 70, 210])"
            ]
          },
          "metadata": {
            "tags": []
          },
          "execution_count": 21
        }
      ]
    },
    {
      "cell_type": "code",
      "metadata": {
        "id": "g-UY3kvfMz3H",
        "colab_type": "code",
        "outputId": "71084cdf-5607-46aa-934c-49a85b8da311",
        "colab": {
          "base_uri": "https://localhost:8080/",
          "height": 34
        }
      },
      "source": [
        "further_filtered_nparray=filtered_nparray[filtered_nparray>70]\n",
        "further_filtered_nparray"
      ],
      "execution_count": 22,
      "outputs": [
        {
          "output_type": "execute_result",
          "data": {
            "text/plain": [
              "array([210])"
            ]
          },
          "metadata": {
            "tags": []
          },
          "execution_count": 22
        }
      ]
    },
    {
      "cell_type": "code",
      "metadata": {
        "id": "6JybD6okNTOJ",
        "colab_type": "code",
        "outputId": "7260eaa7-36b7-427f-fac3-67b754cfea5f",
        "colab": {
          "base_uri": "https://localhost:8080/",
          "height": 34
        }
      },
      "source": [
        "nparray[nparray>200]  #simpler filter"
      ],
      "execution_count": 23,
      "outputs": [
        {
          "output_type": "execute_result",
          "data": {
            "text/plain": [
              "array([210, 230, 250])"
            ]
          },
          "metadata": {
            "tags": []
          },
          "execution_count": 23
        }
      ]
    },
    {
      "cell_type": "code",
      "metadata": {
        "id": "VodhWrDGtS-K",
        "colab_type": "code",
        "outputId": "26c8f755-7e44-419c-9653-c813561b3b34",
        "colab": {
          "base_uri": "https://localhost:8080/",
          "height": 50
        }
      },
      "source": [
        "can_div_15_mask = 0 == (nparray % 15)\n",
        "print(can_div_15_mask)\n",
        "print(can_div_35_mask)"
      ],
      "execution_count": 24,
      "outputs": [
        {
          "output_type": "stream",
          "text": [
            "[False  True False False  True False False  True False False]\n",
            "[ True False False False False False False  True False False]\n"
          ],
          "name": "stdout"
        }
      ]
    },
    {
      "cell_type": "code",
      "metadata": {
        "id": "blbBP3SHuk7V",
        "colab_type": "code",
        "outputId": "6c79903b-2c5c-4d0b-f5bc-9846d1cbd6b9",
        "colab": {
          "base_uri": "https://localhost:8080/",
          "height": 50
        }
      },
      "source": [
        "#boolean operator\n",
        "can_div_15_35_mask=np.logical_and(can_div_15_mask, can_div_35_mask)\n",
        "can_div_15_35_mask"
      ],
      "execution_count": 25,
      "outputs": [
        {
          "output_type": "execute_result",
          "data": {
            "text/plain": [
              "array([False, False, False, False, False, False, False,  True, False,\n",
              "       False])"
            ]
          },
          "metadata": {
            "tags": []
          },
          "execution_count": 25
        }
      ]
    },
    {
      "cell_type": "code",
      "metadata": {
        "id": "1LVRR-VzvM3M",
        "colab_type": "code",
        "outputId": "341b2a3d-52d7-49ea-e634-3871e7ec5775",
        "colab": {
          "base_uri": "https://localhost:8080/",
          "height": 34
        }
      },
      "source": [
        "nparray[can_div_15_35_mask]"
      ],
      "execution_count": 26,
      "outputs": [
        {
          "output_type": "execute_result",
          "data": {
            "text/plain": [
              "array([210])"
            ]
          },
          "metadata": {
            "tags": []
          },
          "execution_count": 26
        }
      ]
    },
    {
      "cell_type": "markdown",
      "metadata": {
        "id": "v5G3ClxKyfGe",
        "colab_type": "text"
      },
      "source": [
        "## Broadcasting"
      ]
    },
    {
      "cell_type": "code",
      "metadata": {
        "id": "N98EamwFvbOD",
        "colab_type": "code",
        "outputId": "ae0eee64-276a-475e-f93e-95c1a02d7380",
        "colab": {
          "base_uri": "https://localhost:8080/",
          "height": 269
        }
      },
      "source": [
        "array_3d = np.arange(70)\n",
        "array_3d.shape=(2,7,5)\n",
        "array_3d"
      ],
      "execution_count": 27,
      "outputs": [
        {
          "output_type": "execute_result",
          "data": {
            "text/plain": [
              "array([[[ 0,  1,  2,  3,  4],\n",
              "        [ 5,  6,  7,  8,  9],\n",
              "        [10, 11, 12, 13, 14],\n",
              "        [15, 16, 17, 18, 19],\n",
              "        [20, 21, 22, 23, 24],\n",
              "        [25, 26, 27, 28, 29],\n",
              "        [30, 31, 32, 33, 34]],\n",
              "\n",
              "       [[35, 36, 37, 38, 39],\n",
              "        [40, 41, 42, 43, 44],\n",
              "        [45, 46, 47, 48, 49],\n",
              "        [50, 51, 52, 53, 54],\n",
              "        [55, 56, 57, 58, 59],\n",
              "        [60, 61, 62, 63, 64],\n",
              "        [65, 66, 67, 68, 69]]])"
            ]
          },
          "metadata": {
            "tags": []
          },
          "execution_count": 27
        }
      ]
    },
    {
      "cell_type": "code",
      "metadata": {
        "id": "aCz1aPu_ywi-",
        "colab_type": "code",
        "colab": {
          "base_uri": "https://localhost:8080/",
          "height": 168
        },
        "outputId": "9e0856c5-0e3d-4bf5-dc16-ce418954c264"
      },
      "source": [
        "x=np.arange(4)\n",
        "xx = x.reshape(4,1)\n",
        "y = np.ones(5)\n",
        "z = np.ones((3,4))\n",
        "print(xx)\n",
        "print(y)\n",
        "print(xx+y)"
      ],
      "execution_count": 32,
      "outputs": [
        {
          "output_type": "stream",
          "text": [
            "[[0]\n",
            " [1]\n",
            " [2]\n",
            " [3]]\n",
            "[1. 1. 1. 1. 1.]\n",
            "[[1. 1. 1. 1. 1.]\n",
            " [2. 2. 2. 2. 2.]\n",
            " [3. 3. 3. 3. 3.]\n",
            " [4. 4. 4. 4. 4.]]\n"
          ],
          "name": "stdout"
        }
      ]
    },
    {
      "cell_type": "code",
      "metadata": {
        "id": "yE8jZr1Na7GB",
        "colab_type": "code",
        "colab": {
          "base_uri": "https://localhost:8080/",
          "height": 34
        },
        "outputId": "d6050961-7a5d-40f7-d33b-a77bd34157d3"
      },
      "source": [
        "x"
      ],
      "execution_count": 33,
      "outputs": [
        {
          "output_type": "execute_result",
          "data": {
            "text/plain": [
              "array([0, 1, 2, 3])"
            ]
          },
          "metadata": {
            "tags": []
          },
          "execution_count": 33
        }
      ]
    },
    {
      "cell_type": "code",
      "metadata": {
        "id": "zRlvYgMid4ZO",
        "colab_type": "code",
        "colab": {}
      },
      "source": [
        ""
      ],
      "execution_count": 0,
      "outputs": []
    }
  ]
}
{
  "nbformat": 4,
  "nbformat_minor": 0,
  "metadata": {
    "kernelspec": {
      "display_name": "Python 2",
      "language": "python",
      "name": "python2"
    },
    "language_info": {
      "codemirror_mode": {
        "name": "ipython",
        "version": 2
      },
      "file_extension": ".py",
      "mimetype": "text/x-python",
      "name": "python",
      "nbconvert_exporter": "python",
      "pygments_lexer": "ipython2",
      "version": "2.7.11"
    },
    "colab": {
      "name": "Creating Arrays from Python Structures-checkpoint.ipynb",
      "provenance": []
    }
  },
  "cells": [
    {
      "cell_type": "markdown",
      "metadata": {
        "id": "P18y1y_syZv_",
        "colab_type": "text"
      },
      "source": [
        "<h1>Create NumPy arrays using Python's \"array like\" data types</h1>\n"
      ]
    },
    {
      "cell_type": "code",
      "metadata": {
        "id": "0ldeJOzOyeHX",
        "colab_type": "code",
        "outputId": "2e08d362-fa3b-4478-a12e-863a9a004419",
        "colab": {
          "base_uri": "https://localhost:8080/",
          "height": 34
        }
      },
      "source": [
        "import numpy as np \n",
        "print(np.__version__)"
      ],
      "execution_count": 1,
      "outputs": [
        {
          "output_type": "stream",
          "text": [
            "1.16.4\n"
          ],
          "name": "stdout"
        }
      ]
    },
    {
      "cell_type": "code",
      "metadata": {
        "id": "TqsoqXBTyp1o",
        "colab_type": "code",
        "outputId": "160d13bc-0367-4bf3-9696-2c56b3188516",
        "colab": {
          "base_uri": "https://localhost:8080/",
          "height": 34
        }
      },
      "source": [
        "my_list = [-17, 0, 4, 5, 29]\n",
        "np_array=np.array(my_list)\n",
        "print(np_array) "
      ],
      "execution_count": 2,
      "outputs": [
        {
          "output_type": "stream",
          "text": [
            "[-17   0   4   5  29]\n"
          ],
          "name": "stdout"
        }
      ]
    },
    {
      "cell_type": "markdown",
      "metadata": {
        "id": "IY_GexWR2v9S",
        "colab_type": "text"
      },
      "source": [
        "## multiply * works differently between python types and np typy"
      ]
    },
    {
      "cell_type": "code",
      "metadata": {
        "id": "byFpvbATyzUE",
        "colab_type": "code",
        "outputId": "775e1cab-632d-4bce-eb7e-07ff6f6e4b7a",
        "colab": {
          "base_uri": "https://localhost:8080/",
          "height": 50
        }
      },
      "source": [
        "my_list_10x=my_list*10\n",
        "print(my_list_10x)\n",
        "np_array_10x=np_array*10\n",
        "print(np_array_10x)"
      ],
      "execution_count": 3,
      "outputs": [
        {
          "output_type": "stream",
          "text": [
            "[-17, 0, 4, 5, 29, -17, 0, 4, 5, 29, -17, 0, 4, 5, 29, -17, 0, 4, 5, 29, -17, 0, 4, 5, 29, -17, 0, 4, 5, 29, -17, 0, 4, 5, 29, -17, 0, 4, 5, 29, -17, 0, 4, 5, 29, -17, 0, 4, 5, 29]\n",
            "[-170    0   40   50  290]\n"
          ],
          "name": "stdout"
        }
      ]
    },
    {
      "cell_type": "markdown",
      "metadata": {
        "id": "HRVsjBCi0_Sn",
        "colab_type": "text"
      },
      "source": [
        "##complex and tuple"
      ]
    },
    {
      "cell_type": "code",
      "metadata": {
        "id": "byvClJ4jzd_L",
        "colab_type": "code",
        "outputId": "ee8234a9-2e54-494e-ad84-c3c22f581a98",
        "colab": {
          "base_uri": "https://localhost:8080/",
          "height": 50
        }
      },
      "source": [
        "tupleToNumpy=(14, -3.14, 4+3j); tupleToNumpy2=(-14, 3.21)  #int, float, complex, np array keeps elements of array uniform\n",
        "numpyFromTuple=np.array(tupleToNumpy)\n",
        "numpyFromTuple2=np.array(tupleToNumpy2)\n",
        "print(numpyFromTuple)\n",
        "print(numpyFromTuple2)\n"
      ],
      "execution_count": 4,
      "outputs": [
        {
          "output_type": "stream",
          "text": [
            "[14.  +0.j -3.14+0.j  4.  +3.j]\n",
            "[-14.     3.21]\n"
          ],
          "name": "stdout"
        }
      ]
    },
    {
      "cell_type": "markdown",
      "metadata": {
        "id": "kwL0RMLNGjY9",
        "colab_type": "text"
      },
      "source": [
        "##simple methods"
      ]
    },
    {
      "cell_type": "code",
      "metadata": {
        "id": "0D-y3wJ20KBA",
        "colab_type": "code",
        "outputId": "a30eefab-fd12-4e8e-a807-0b1efdd38729",
        "colab": {
          "base_uri": "https://localhost:8080/",
          "height": 34
        }
      },
      "source": [
        "# numpy.arange([start, ]stop, [step, ]dtype=None) official url by google np.arange\n",
        "np.arange(10,30,2)*10-3"
      ],
      "execution_count": 5,
      "outputs": [
        {
          "output_type": "execute_result",
          "data": {
            "text/plain": [
              "array([ 97, 117, 137, 157, 177, 197, 217, 237, 257, 277])"
            ]
          },
          "metadata": {
            "tags": []
          },
          "execution_count": 5
        }
      ]
    },
    {
      "cell_type": "code",
      "metadata": {
        "id": "P_RN65tGGJZi",
        "colab_type": "code",
        "outputId": "dabc4210-1cf0-4ead-e207-6d5157edf3e4",
        "colab": {
          "base_uri": "https://localhost:8080/",
          "height": 34
        }
      },
      "source": [
        "np.arange(20,step=4)"
      ],
      "execution_count": 6,
      "outputs": [
        {
          "output_type": "execute_result",
          "data": {
            "text/plain": [
              "array([ 0,  4,  8, 12, 16])"
            ]
          },
          "metadata": {
            "tags": []
          },
          "execution_count": 6
        }
      ]
    },
    {
      "cell_type": "code",
      "metadata": {
        "id": "g8PlH0EkEqgG",
        "colab_type": "code",
        "outputId": "b3a90d30-3d68-4da0-99a7-0e9298db16d6",
        "colab": {
          "base_uri": "https://localhost:8080/",
          "height": 34
        }
      },
      "source": [
        "nparray=(np.arange(10,30,2)-3)*10\n",
        "nparray"
      ],
      "execution_count": 7,
      "outputs": [
        {
          "output_type": "execute_result",
          "data": {
            "text/plain": [
              "array([ 70,  90, 110, 130, 150, 170, 190, 210, 230, 250])"
            ]
          },
          "metadata": {
            "tags": []
          },
          "execution_count": 7
        }
      ]
    },
    {
      "cell_type": "code",
      "metadata": {
        "id": "JfrRTVVsE0tE",
        "colab_type": "code",
        "outputId": "7cafcc9b-87bf-443e-86f5-7b6c35b1abe0",
        "colab": {
          "base_uri": "https://localhost:8080/",
          "height": 34
        }
      },
      "source": [
        "nparray.size # this only gives number of elements"
      ],
      "execution_count": 8,
      "outputs": [
        {
          "output_type": "execute_result",
          "data": {
            "text/plain": [
              "10"
            ]
          },
          "metadata": {
            "tags": []
          },
          "execution_count": 8
        }
      ]
    },
    {
      "cell_type": "code",
      "metadata": {
        "id": "O6aiy8J7FQh9",
        "colab_type": "code",
        "outputId": "abaa1e9e-c6a1-4409-c2e6-9ded6e78c33d",
        "colab": {
          "base_uri": "https://localhost:8080/",
          "height": 50
        }
      },
      "source": [
        "np.linspace(0,30,10,True)"
      ],
      "execution_count": 9,
      "outputs": [
        {
          "output_type": "execute_result",
          "data": {
            "text/plain": [
              "array([ 0.        ,  3.33333333,  6.66666667, 10.        , 13.33333333,\n",
              "       16.66666667, 20.        , 23.33333333, 26.66666667, 30.        ])"
            ]
          },
          "metadata": {
            "tags": []
          },
          "execution_count": 9
        }
      ]
    },
    {
      "cell_type": "markdown",
      "metadata": {
        "id": "f8qJ8YvWH7Jz",
        "colab_type": "text"
      },
      "source": [
        "##indexing, shaping (dimension) and slicing"
      ]
    },
    {
      "cell_type": "code",
      "metadata": {
        "id": "2Fen7Qm-FV9M",
        "colab_type": "code",
        "outputId": "3dfe82f4-b7aa-4e9e-9150-8465c3ba99cd",
        "colab": {
          "base_uri": "https://localhost:8080/",
          "height": 34
        }
      },
      "source": [
        "z=np.zeros(20)\n",
        "z[10]"
      ],
      "execution_count": 10,
      "outputs": [
        {
          "output_type": "execute_result",
          "data": {
            "text/plain": [
              "0.0"
            ]
          },
          "metadata": {
            "tags": []
          },
          "execution_count": 10
        }
      ]
    },
    {
      "cell_type": "code",
      "metadata": {
        "id": "IDPsv4DPJsaz",
        "colab_type": "code",
        "outputId": "96f2b347-c8dc-4afe-c61a-1b39226f0119",
        "colab": {
          "base_uri": "https://localhost:8080/",
          "height": 50
        }
      },
      "source": [
        "z[10]=9;z[0]=10; z[-1]=7.5; z[-2]=-2.1\n",
        "z"
      ],
      "execution_count": 11,
      "outputs": [
        {
          "output_type": "execute_result",
          "data": {
            "text/plain": [
              "array([10. ,  0. ,  0. ,  0. ,  0. ,  0. ,  0. ,  0. ,  0. ,  0. ,  9. ,\n",
              "        0. ,  0. ,  0. ,  0. ,  0. ,  0. ,  0. , -2.1,  7.5])"
            ]
          },
          "metadata": {
            "tags": []
          },
          "execution_count": 11
        }
      ]
    },
    {
      "cell_type": "code",
      "metadata": {
        "id": "o-ENMCQiIfMx",
        "colab_type": "code",
        "outputId": "c3ff3480-3298-4761-f3b6-7bd742a014f5",
        "colab": {
          "base_uri": "https://localhost:8080/",
          "height": 67
        }
      },
      "source": [
        "o=np.ones((3,3), dtype=int)\n",
        "o"
      ],
      "execution_count": 12,
      "outputs": [
        {
          "output_type": "execute_result",
          "data": {
            "text/plain": [
              "array([[1, 1, 1],\n",
              "       [1, 1, 1],\n",
              "       [1, 1, 1]])"
            ]
          },
          "metadata": {
            "tags": []
          },
          "execution_count": 12
        }
      ]
    },
    {
      "cell_type": "code",
      "metadata": {
        "id": "3J0NdeaWIxtX",
        "colab_type": "code",
        "outputId": "383486e1-2942-4a59-cab1-b5e5bffdcdf3",
        "colab": {
          "base_uri": "https://localhost:8080/",
          "height": 84
        }
      },
      "source": [
        "z.shape=(4,5)\n",
        "z"
      ],
      "execution_count": 13,
      "outputs": [
        {
          "output_type": "execute_result",
          "data": {
            "text/plain": [
              "array([[10. ,  0. ,  0. ,  0. ,  0. ],\n",
              "       [ 0. ,  0. ,  0. ,  0. ,  0. ],\n",
              "       [ 9. ,  0. ,  0. ,  0. ,  0. ],\n",
              "       [ 0. ,  0. ,  0. , -2.1,  7.5]])"
            ]
          },
          "metadata": {
            "tags": []
          },
          "execution_count": 13
        }
      ]
    },
    {
      "cell_type": "code",
      "metadata": {
        "id": "yr_-7IOBKiqe",
        "colab_type": "code",
        "outputId": "b6209d9b-4479-41f4-e98b-50e0c53cd8d6",
        "colab": {
          "base_uri": "https://localhost:8080/",
          "height": 101
        }
      },
      "source": [
        "z.shape=(2,2,5)   #convert from 2-d to 3-d np array\n",
        "z"
      ],
      "execution_count": 14,
      "outputs": [
        {
          "output_type": "execute_result",
          "data": {
            "text/plain": [
              "array([[[10. ,  0. ,  0. ,  0. ,  0. ],\n",
              "        [ 0. ,  0. ,  0. ,  0. ,  0. ]],\n",
              "\n",
              "       [[ 9. ,  0. ,  0. ,  0. ,  0. ],\n",
              "        [ 0. ,  0. ,  0. , -2.1,  7.5]]])"
            ]
          },
          "metadata": {
            "tags": []
          },
          "execution_count": 14
        }
      ]
    },
    {
      "cell_type": "code",
      "metadata": {
        "id": "rtWYhzY1Ko9z",
        "colab_type": "code",
        "outputId": "831a7ceb-664e-4d28-f53a-3c9cbfc476b6",
        "colab": {
          "base_uri": "https://localhost:8080/",
          "height": 34
        }
      },
      "source": [
        "z[1][1]"
      ],
      "execution_count": 15,
      "outputs": [
        {
          "output_type": "execute_result",
          "data": {
            "text/plain": [
              "array([ 0. ,  0. ,  0. , -2.1,  7.5])"
            ]
          },
          "metadata": {
            "tags": []
          },
          "execution_count": 15
        }
      ]
    },
    {
      "cell_type": "code",
      "metadata": {
        "id": "xUVF3-VULDP-",
        "colab_type": "code",
        "outputId": "ad6f0c2b-b0c2-4008-f101-999b82d00fcc",
        "colab": {
          "base_uri": "https://localhost:8080/",
          "height": 34
        }
      },
      "source": [
        "z[1,0][0]"
      ],
      "execution_count": 16,
      "outputs": [
        {
          "output_type": "execute_result",
          "data": {
            "text/plain": [
              "9.0"
            ]
          },
          "metadata": {
            "tags": []
          },
          "execution_count": 16
        }
      ]
    },
    {
      "cell_type": "code",
      "metadata": {
        "id": "QL7EkGkEKx2m",
        "colab_type": "code",
        "outputId": "d48f1a28-07cd-4aa2-fa94-bfe283796d8f",
        "colab": {
          "base_uri": "https://localhost:8080/",
          "height": 50
        }
      },
      "source": [
        "z[0]"
      ],
      "execution_count": 17,
      "outputs": [
        {
          "output_type": "execute_result",
          "data": {
            "text/plain": [
              "array([[10.,  0.,  0.,  0.,  0.],\n",
              "       [ 0.,  0.,  0.,  0.,  0.]])"
            ]
          },
          "metadata": {
            "tags": []
          },
          "execution_count": 17
        }
      ]
    },
    {
      "cell_type": "code",
      "metadata": {
        "id": "lgJD4WNzwgI_",
        "colab_type": "code",
        "outputId": "5490dfcf-2c01-407d-d277-1c9dda56ea21",
        "colab": {
          "base_uri": "https://localhost:8080/",
          "height": 218
        }
      },
      "source": [
        "print(z)\n",
        "print(z.ndim) #show dimension\n",
        "print(z.size) #show total elements\n",
        "print(z[0].shape) #show actual metrics shape\n",
        "print(z.dtype) # show data type in the metrix\n",
        "print(z.sum()) # sum all the elements in metrix. this can be used in combination with filters(boolean mask array below\n",
        "print(z.sum(axis=1)) # will learn this in broadcasting - operation along axis"
      ],
      "execution_count": 18,
      "outputs": [
        {
          "output_type": "stream",
          "text": [
            "[[[10.   0.   0.   0.   0. ]\n",
            "  [ 0.   0.   0.   0.   0. ]]\n",
            "\n",
            " [[ 9.   0.   0.   0.   0. ]\n",
            "  [ 0.   0.   0.  -2.1  7.5]]]\n",
            "3\n",
            "20\n",
            "(2, 5)\n",
            "float64\n",
            "24.4\n",
            "[[10.   0.   0.   0.   0. ]\n",
            " [ 9.   0.   0.  -2.1  7.5]]\n"
          ],
          "name": "stdout"
        }
      ]
    },
    {
      "cell_type": "markdown",
      "metadata": {
        "id": "AHYH1Dl1Lq7Q",
        "colab_type": "text"
      },
      "source": [
        "## boolean mask array"
      ]
    },
    {
      "cell_type": "code",
      "metadata": {
        "id": "obsh-4pBK_ft",
        "colab_type": "code",
        "outputId": "ba497650-b180-4214-8c80-2742bff7ab35",
        "colab": {
          "base_uri": "https://localhost:8080/",
          "height": 0
        }
      },
      "source": [
        "nparray"
      ],
      "execution_count": 19,
      "outputs": [
        {
          "output_type": "execute_result",
          "data": {
            "text/plain": [
              "array([ 70,  90, 110, 130, 150, 170, 190, 210, 230, 250])"
            ]
          },
          "metadata": {
            "tags": []
          },
          "execution_count": 19
        }
      ]
    },
    {
      "cell_type": "code",
      "metadata": {
        "id": "K-sFlnxdMB0k",
        "colab_type": "code",
        "outputId": "feee3f70-c607-42f3-be23-d8a43adcaa1f",
        "colab": {
          "base_uri": "https://localhost:8080/",
          "height": 0
        }
      },
      "source": [
        "can_div_35_mask = 0 == (nparray % 35)\n",
        "can_div_35_mask"
      ],
      "execution_count": 20,
      "outputs": [
        {
          "output_type": "execute_result",
          "data": {
            "text/plain": [
              "array([ True, False, False, False, False, False, False,  True, False,\n",
              "       False])"
            ]
          },
          "metadata": {
            "tags": []
          },
          "execution_count": 20
        }
      ]
    },
    {
      "cell_type": "code",
      "metadata": {
        "id": "SQFZhmMzMVnL",
        "colab_type": "code",
        "outputId": "3eb28865-4430-4c3a-d86c-6fca3476053d",
        "colab": {
          "base_uri": "https://localhost:8080/",
          "height": 0
        }
      },
      "source": [
        "filtered_nparray = nparray[can_div_35_mask]\n",
        "filtered_nparray"
      ],
      "execution_count": 21,
      "outputs": [
        {
          "output_type": "execute_result",
          "data": {
            "text/plain": [
              "array([ 70, 210])"
            ]
          },
          "metadata": {
            "tags": []
          },
          "execution_count": 21
        }
      ]
    },
    {
      "cell_type": "code",
      "metadata": {
        "id": "g-UY3kvfMz3H",
        "colab_type": "code",
        "outputId": "2126c21c-9c94-402d-d8a5-26df6f0cbce9",
        "colab": {
          "base_uri": "https://localhost:8080/",
          "height": 0
        }
      },
      "source": [
        "further_filtered_nparray=filtered_nparray[filtered_nparray>70]\n",
        "further_filtered_nparray"
      ],
      "execution_count": 22,
      "outputs": [
        {
          "output_type": "execute_result",
          "data": {
            "text/plain": [
              "array([210])"
            ]
          },
          "metadata": {
            "tags": []
          },
          "execution_count": 22
        }
      ]
    },
    {
      "cell_type": "code",
      "metadata": {
        "id": "6JybD6okNTOJ",
        "colab_type": "code",
        "outputId": "5ee1f749-9273-43ca-a043-428407a2543b",
        "colab": {
          "base_uri": "https://localhost:8080/",
          "height": 0
        }
      },
      "source": [
        "nparray[nparray>200]  #simpler filter"
      ],
      "execution_count": 23,
      "outputs": [
        {
          "output_type": "execute_result",
          "data": {
            "text/plain": [
              "array([210, 230, 250])"
            ]
          },
          "metadata": {
            "tags": []
          },
          "execution_count": 23
        }
      ]
    },
    {
      "cell_type": "code",
      "metadata": {
        "id": "VodhWrDGtS-K",
        "colab_type": "code",
        "outputId": "babff0f7-788b-4b52-d99a-ae441fba637f",
        "colab": {
          "base_uri": "https://localhost:8080/",
          "height": 0
        }
      },
      "source": [
        "can_div_15_mask = 0 == (nparray % 15)\n",
        "print(can_div_15_mask)\n",
        "print(can_div_35_mask)"
      ],
      "execution_count": 24,
      "outputs": [
        {
          "output_type": "stream",
          "text": [
            "[False  True False False  True False False  True False False]\n",
            "[ True False False False False False False  True False False]\n"
          ],
          "name": "stdout"
        }
      ]
    },
    {
      "cell_type": "code",
      "metadata": {
        "id": "blbBP3SHuk7V",
        "colab_type": "code",
        "outputId": "e5ee1d25-4fc5-4f51-ea1d-b733ecb848f9",
        "colab": {
          "base_uri": "https://localhost:8080/",
          "height": 0
        }
      },
      "source": [
        "#boolean operator\n",
        "can_div_15_35_mask=np.logical_and(can_div_15_mask, can_div_35_mask)\n",
        "can_div_15_35_mask"
      ],
      "execution_count": 25,
      "outputs": [
        {
          "output_type": "execute_result",
          "data": {
            "text/plain": [
              "array([False, False, False, False, False, False, False,  True, False,\n",
              "       False])"
            ]
          },
          "metadata": {
            "tags": []
          },
          "execution_count": 25
        }
      ]
    },
    {
      "cell_type": "code",
      "metadata": {
        "id": "1LVRR-VzvM3M",
        "colab_type": "code",
        "outputId": "3c20aa6b-2645-46a1-ba5c-b24ee57f8ea4",
        "colab": {
          "base_uri": "https://localhost:8080/",
          "height": 0
        }
      },
      "source": [
        "nparray[can_div_15_35_mask]"
      ],
      "execution_count": 26,
      "outputs": [
        {
          "output_type": "execute_result",
          "data": {
            "text/plain": [
              "array([210])"
            ]
          },
          "metadata": {
            "tags": []
          },
          "execution_count": 26
        }
      ]
    },
    {
      "cell_type": "markdown",
      "metadata": {
        "id": "v5G3ClxKyfGe",
        "colab_type": "text"
      },
      "source": [
        "## Broadcasting"
      ]
    },
    {
      "cell_type": "code",
      "metadata": {
        "id": "N98EamwFvbOD",
        "colab_type": "code",
        "outputId": "291f7437-7591-40c7-b6e2-3aebeaed9ae6",
        "colab": {
          "base_uri": "https://localhost:8080/",
          "height": 269
        }
      },
      "source": [
        "array_3d = np.arange(70)\n",
        "array_3d.shape=(2,7,5)\n",
        "array_3d"
      ],
      "execution_count": 27,
      "outputs": [
        {
          "output_type": "execute_result",
          "data": {
            "text/plain": [
              "array([[[ 0,  1,  2,  3,  4],\n",
              "        [ 5,  6,  7,  8,  9],\n",
              "        [10, 11, 12, 13, 14],\n",
              "        [15, 16, 17, 18, 19],\n",
              "        [20, 21, 22, 23, 24],\n",
              "        [25, 26, 27, 28, 29],\n",
              "        [30, 31, 32, 33, 34]],\n",
              "\n",
              "       [[35, 36, 37, 38, 39],\n",
              "        [40, 41, 42, 43, 44],\n",
              "        [45, 46, 47, 48, 49],\n",
              "        [50, 51, 52, 53, 54],\n",
              "        [55, 56, 57, 58, 59],\n",
              "        [60, 61, 62, 63, 64],\n",
              "        [65, 66, 67, 68, 69]]])"
            ]
          },
          "metadata": {
            "tags": []
          },
          "execution_count": 27
        }
      ]
    },
    {
      "cell_type": "markdown",
      "metadata": {
        "id": "dKmgGjQQdzSE",
        "colab_type": "text"
      },
      "source": [
        "In the context of deep learning, we also use some less conventional notation. We allow the addition of matrix and a vector, yielding another matrix: C = A + b, where Ci,j = Ai,j + bj. In other words, the vector b is added to each row of the matrix. This shorthand eliminates the need to define a matrix with b copied into each row before doing the addition. This implicit copying of b to many locations is called broadcasting."
      ]
    },
    {
      "cell_type": "code",
      "metadata": {
        "id": "aCz1aPu_ywi-",
        "colab_type": "code",
        "outputId": "3b7c26c8-8133-4237-e919-0aa9c2c614b8",
        "colab": {
          "base_uri": "https://localhost:8080/",
          "height": 235
        }
      },
      "source": [
        "x=np.arange(4)\n",
        "xx = x.reshape(4,1)\n",
        "y = np.ones(5)\n",
        "z = np.ones((3,4))\n",
        "print('x=', x)\n",
        "print('')\n",
        "print(\"\\033[1;31;46m reshape from 1x4 to 4x1 \") #color reference from https://ozzmaker.com/add-colour-to-text-in-python/ \n",
        "print(\"\\033[1;31;0m \")\n",
        "print('xx=', xx)\n",
        "print('y=',y)\n",
        "print(y+xx)"
      ],
      "execution_count": 28,
      "outputs": [
        {
          "output_type": "stream",
          "text": [
            "('x=', array([0, 1, 2, 3]))\n",
            "\n",
            "\u001b[1;31;46m reshape from 1x4 to 4x1 \n",
            "\u001b[1;31;0m \n",
            "('xx=', array([[0],\n",
            "       [1],\n",
            "       [2],\n",
            "       [3]]))\n",
            "('y=', array([1., 1., 1., 1., 1.]))\n",
            "[[1. 1. 1. 1. 1.]\n",
            " [2. 2. 2. 2. 2.]\n",
            " [3. 3. 3. 3. 3.]\n",
            " [4. 4. 4. 4. 4.]]\n"
          ],
          "name": "stdout"
        }
      ]
    },
    {
      "cell_type": "code",
      "metadata": {
        "id": "yE8jZr1Na7GB",
        "colab_type": "code",
        "outputId": "7c1f267d-aae9-4b15-a645-fc13e89fcb77",
        "colab": {
          "base_uri": "https://localhost:8080/",
          "height": 84
        }
      },
      "source": [
        "xx-x"
      ],
      "execution_count": 29,
      "outputs": [
        {
          "output_type": "execute_result",
          "data": {
            "text/plain": [
              "array([[ 0, -1, -2, -3],\n",
              "       [ 1,  0, -1, -2],\n",
              "       [ 2,  1,  0, -1],\n",
              "       [ 3,  2,  1,  0]])"
            ]
          },
          "metadata": {
            "tags": []
          },
          "execution_count": 29
        }
      ]
    },
    {
      "cell_type": "markdown",
      "metadata": {
        "id": "NAMGVGa0jWL1",
        "colab_type": "text"
      },
      "source": [
        "To not use broadcasting, manual conversion is beow"
      ]
    },
    {
      "cell_type": "code",
      "metadata": {
        "id": "JmpQNtGWZJ6s",
        "colab_type": "code",
        "colab": {}
      },
      "source": [
        "x2d=[0, 1, 2, 3]*4\n",
        "x2dnp=np.array(x2d).reshape(4,4)"
      ],
      "execution_count": 0,
      "outputs": []
    },
    {
      "cell_type": "code",
      "metadata": {
        "id": "p0uzit_3Rlho",
        "colab_type": "code",
        "colab": {}
      },
      "source": [
        "lista=[0,0,0,0]\n",
        "listb=[1,1,1,1]\n",
        "listc=[2,2,2,2]\n",
        "listd=[3,3,3,3]\n",
        "\n",
        "xx2dnp = np.array(lista+listb+listc+listd).reshape(4,4)"
      ],
      "execution_count": 0,
      "outputs": []
    },
    {
      "cell_type": "code",
      "metadata": {
        "id": "M0qhGuZ2SnY6",
        "colab_type": "code",
        "outputId": "392c8965-befd-4671-bd81-f8abc24afe89",
        "colab": {
          "base_uri": "https://localhost:8080/",
          "height": 84
        }
      },
      "source": [
        "xx2dnp-x2dnp"
      ],
      "execution_count": 32,
      "outputs": [
        {
          "output_type": "execute_result",
          "data": {
            "text/plain": [
              "array([[ 0, -1, -2, -3],\n",
              "       [ 1,  0, -1, -2],\n",
              "       [ 2,  1,  0, -1],\n",
              "       [ 3,  2,  1,  0]])"
            ]
          },
          "metadata": {
            "tags": []
          },
          "execution_count": 32
        }
      ]
    },
    {
      "cell_type": "markdown",
      "metadata": {
        "id": "5TE1uHiY2wpc",
        "colab_type": "text"
      },
      "source": [
        "### operations along axis"
      ]
    },
    {
      "cell_type": "code",
      "metadata": {
        "id": "9ODnBvhP2wHm",
        "colab_type": "code",
        "outputId": "e09e26f1-f8c5-4715-a205-95ccd56fd118",
        "colab": {
          "base_uri": "https://localhost:8080/",
          "height": 269
        }
      },
      "source": [
        "array_3d"
      ],
      "execution_count": 33,
      "outputs": [
        {
          "output_type": "execute_result",
          "data": {
            "text/plain": [
              "array([[[ 0,  1,  2,  3,  4],\n",
              "        [ 5,  6,  7,  8,  9],\n",
              "        [10, 11, 12, 13, 14],\n",
              "        [15, 16, 17, 18, 19],\n",
              "        [20, 21, 22, 23, 24],\n",
              "        [25, 26, 27, 28, 29],\n",
              "        [30, 31, 32, 33, 34]],\n",
              "\n",
              "       [[35, 36, 37, 38, 39],\n",
              "        [40, 41, 42, 43, 44],\n",
              "        [45, 46, 47, 48, 49],\n",
              "        [50, 51, 52, 53, 54],\n",
              "        [55, 56, 57, 58, 59],\n",
              "        [60, 61, 62, 63, 64],\n",
              "        [65, 66, 67, 68, 69]]])"
            ]
          },
          "metadata": {
            "tags": []
          },
          "execution_count": 33
        }
      ]
    },
    {
      "cell_type": "code",
      "metadata": {
        "id": "umtzvjYQ3Svw",
        "colab_type": "code",
        "outputId": "6edab4fb-188f-40df-e556-10c570e7b885",
        "colab": {
          "base_uri": "https://localhost:8080/",
          "height": 34
        }
      },
      "source": [
        "array_3d.shape"
      ],
      "execution_count": 34,
      "outputs": [
        {
          "output_type": "execute_result",
          "data": {
            "text/plain": [
              "(2, 7, 5)"
            ]
          },
          "metadata": {
            "tags": []
          },
          "execution_count": 34
        }
      ]
    },
    {
      "cell_type": "code",
      "metadata": {
        "id": "ob83NZoH3Wvx",
        "colab_type": "code",
        "outputId": "d8d91d08-d5e4-49cb-903a-6cbd54936a2c",
        "colab": {
          "base_uri": "https://localhost:8080/",
          "height": 134
        }
      },
      "source": [
        "array_3d.sum(axis=0) # this is array_3d[0]+array_3d[1]"
      ],
      "execution_count": 35,
      "outputs": [
        {
          "output_type": "execute_result",
          "data": {
            "text/plain": [
              "array([[ 35,  37,  39,  41,  43],\n",
              "       [ 45,  47,  49,  51,  53],\n",
              "       [ 55,  57,  59,  61,  63],\n",
              "       [ 65,  67,  69,  71,  73],\n",
              "       [ 75,  77,  79,  81,  83],\n",
              "       [ 85,  87,  89,  91,  93],\n",
              "       [ 95,  97,  99, 101, 103]])"
            ]
          },
          "metadata": {
            "tags": []
          },
          "execution_count": 35
        }
      ]
    },
    {
      "cell_type": "code",
      "metadata": {
        "id": "j8GSHIMD3oyQ",
        "colab_type": "code",
        "outputId": "7e1e2823-f81c-444b-93a7-14d918a91b6d",
        "colab": {
          "base_uri": "https://localhost:8080/",
          "height": 50
        }
      },
      "source": [
        "array_3d.sum(axis=1) # sum of each column (7 elements) (axis is array_3d.shape[1])"
      ],
      "execution_count": 36,
      "outputs": [
        {
          "output_type": "execute_result",
          "data": {
            "text/plain": [
              "array([[105, 112, 119, 126, 133],\n",
              "       [350, 357, 364, 371, 378]])"
            ]
          },
          "metadata": {
            "tags": []
          },
          "execution_count": 36
        }
      ]
    },
    {
      "cell_type": "code",
      "metadata": {
        "id": "saH1pWLG34OZ",
        "colab_type": "code",
        "outputId": "8c108741-6062-4e62-819c-36886ef5a4b0",
        "colab": {
          "base_uri": "https://localhost:8080/",
          "height": 50
        }
      },
      "source": [
        "array_3d.sum(axis=2) # sum of each row (5 elements) (axis is array_3d.shape[2])"
      ],
      "execution_count": 37,
      "outputs": [
        {
          "output_type": "execute_result",
          "data": {
            "text/plain": [
              "array([[ 10,  35,  60,  85, 110, 135, 160],\n",
              "       [185, 210, 235, 260, 285, 310, 335]])"
            ]
          },
          "metadata": {
            "tags": []
          },
          "execution_count": 37
        }
      ]
    },
    {
      "cell_type": "markdown",
      "metadata": {
        "id": "z44naYse6SOQ",
        "colab_type": "text"
      },
      "source": [
        "Another example"
      ]
    },
    {
      "cell_type": "code",
      "metadata": {
        "id": "c1HjWHoW4VXp",
        "colab_type": "code",
        "outputId": "711b2b1c-8ec5-4da8-b0d4-5b22d85ffa19",
        "colab": {
          "base_uri": "https://localhost:8080/",
          "height": 101
        }
      },
      "source": [
        "array2d_a = np.arange(35, dtype=int).reshape(5,7)\n",
        "array2d_b = np.ones((5,7), dtype=float)*7\n",
        "array2d_a + array2d_b #the result would be float"
      ],
      "execution_count": 38,
      "outputs": [
        {
          "output_type": "execute_result",
          "data": {
            "text/plain": [
              "array([[ 7.,  8.,  9., 10., 11., 12., 13.],\n",
              "       [14., 15., 16., 17., 18., 19., 20.],\n",
              "       [21., 22., 23., 24., 25., 26., 27.],\n",
              "       [28., 29., 30., 31., 32., 33., 34.],\n",
              "       [35., 36., 37., 38., 39., 40., 41.]])"
            ]
          },
          "metadata": {
            "tags": []
          },
          "execution_count": 38
        }
      ]
    },
    {
      "cell_type": "code",
      "metadata": {
        "id": "Kb3nP5Ts61xX",
        "colab_type": "code",
        "outputId": "4b6ce4eb-c189-487e-9861-4ee998e2dd1c",
        "colab": {
          "base_uri": "https://localhost:8080/",
          "height": 34
        }
      },
      "source": [
        "Vector1 = np.random.random(7)\n",
        "np.set_printoptions(precision=4)\n",
        "Vector1"
      ],
      "execution_count": 39,
      "outputs": [
        {
          "output_type": "execute_result",
          "data": {
            "text/plain": [
              "array([0.0637, 0.9361, 0.6502, 0.1266, 0.2959, 0.284 , 0.4711])"
            ]
          },
          "metadata": {
            "tags": []
          },
          "execution_count": 39
        }
      ]
    },
    {
      "cell_type": "code",
      "metadata": {
        "id": "Qw9JMdBb8fws",
        "colab_type": "code",
        "outputId": "78cde299-218a-4118-e09d-bf0d06cdb431",
        "colab": {
          "base_uri": "https://localhost:8080/",
          "height": 101
        }
      },
      "source": [
        "array2d_a + array2d_b + Vector1"
      ],
      "execution_count": 40,
      "outputs": [
        {
          "output_type": "execute_result",
          "data": {
            "text/plain": [
              "array([[ 7.0637,  8.9361,  9.6502, 10.1266, 11.2959, 12.284 , 13.4711],\n",
              "       [14.0637, 15.9361, 16.6502, 17.1266, 18.2959, 19.284 , 20.4711],\n",
              "       [21.0637, 22.9361, 23.6502, 24.1266, 25.2959, 26.284 , 27.4711],\n",
              "       [28.0637, 29.9361, 30.6502, 31.1266, 32.2959, 33.284 , 34.4711],\n",
              "       [35.0637, 36.9361, 37.6502, 38.1266, 39.2959, 40.284 , 41.4711]])"
            ]
          },
          "metadata": {
            "tags": []
          },
          "execution_count": 40
        }
      ]
    },
    {
      "cell_type": "code",
      "metadata": {
        "id": "6vNv6UE_881w",
        "colab_type": "code",
        "outputId": "122d7d81-5c68-4e3d-ef6b-23fb85f0a26a",
        "colab": {
          "base_uri": "https://localhost:8080/",
          "height": 34
        }
      },
      "source": [
        "Vector2 = np.random.random(5)\n",
        "Vector2"
      ],
      "execution_count": 41,
      "outputs": [
        {
          "output_type": "execute_result",
          "data": {
            "text/plain": [
              "array([0.7409, 0.9557, 0.7595, 0.5642, 0.0525])"
            ]
          },
          "metadata": {
            "tags": []
          },
          "execution_count": 41
        }
      ]
    },
    {
      "cell_type": "code",
      "metadata": {
        "id": "UIrxWwHB9HUk",
        "colab_type": "code",
        "outputId": "0865fbff-5ed3-4aa6-f9e0-187015dbb97b",
        "colab": {
          "base_uri": "https://localhost:8080/",
          "height": 162
        }
      },
      "source": [
        "array2d_a + array2d_b + Vector2 # dimension is important"
      ],
      "execution_count": 42,
      "outputs": [
        {
          "output_type": "error",
          "ename": "ValueError",
          "evalue": "ignored",
          "traceback": [
            "\u001b[0;31m\u001b[0m",
            "\u001b[0;31mValueError\u001b[0mTraceback (most recent call last)",
            "\u001b[0;32m<ipython-input-42-cb4c723bea8d>\u001b[0m in \u001b[0;36m<module>\u001b[0;34m()\u001b[0m\n\u001b[0;32m----> 1\u001b[0;31m \u001b[0marray2d_a\u001b[0m \u001b[0;34m+\u001b[0m \u001b[0marray2d_b\u001b[0m \u001b[0;34m+\u001b[0m \u001b[0mVector2\u001b[0m \u001b[0;31m# dimension is important\u001b[0m\u001b[0;34m\u001b[0m\u001b[0m\n\u001b[0m",
            "\u001b[0;31mValueError\u001b[0m: operands could not be broadcast together with shapes (5,7) (5,) "
          ]
        }
      ]
    },
    {
      "cell_type": "code",
      "metadata": {
        "id": "j4oJMeZ79Okx",
        "colab_type": "code",
        "colab": {}
      },
      "source": [
        "Vector2 = np.random.random((5,1))*10\n",
        "Vector2"
      ],
      "execution_count": 0,
      "outputs": []
    },
    {
      "cell_type": "code",
      "metadata": {
        "id": "suQn3Lu59U4b",
        "colab_type": "code",
        "colab": {}
      },
      "source": [
        "array2d_a + array2d_b + Vector2"
      ],
      "execution_count": 0,
      "outputs": []
    },
    {
      "cell_type": "markdown",
      "metadata": {
        "id": "ucaDb_Lw-of6",
        "colab_type": "text"
      },
      "source": [
        "## Structured Arrays"
      ]
    },
    {
      "cell_type": "code",
      "metadata": {
        "id": "WgBinJ5q9bSR",
        "colab_type": "code",
        "outputId": "bf63d026-31cc-465c-c642-e9852593a490",
        "colab": {
          "base_uri": "https://localhost:8080/",
          "height": 34
        }
      },
      "source": [
        "student_def=[('name','S6'),('height','f8'),('weight','f8'),('age','i8')]\n",
        "student_def"
      ],
      "execution_count": 43,
      "outputs": [
        {
          "output_type": "execute_result",
          "data": {
            "text/plain": [
              "[('name', 'S6'), ('height', 'f8'), ('weight', 'f8'), ('age', 'i8')]"
            ]
          },
          "metadata": {
            "tags": []
          },
          "execution_count": 43
        }
      ]
    },
    {
      "cell_type": "code",
      "metadata": {
        "id": "xjuIBNtG_N2z",
        "colab_type": "code",
        "colab": {
          "base_uri": "https://localhost:8080/",
          "height": 67
        },
        "outputId": "e8bc22f0-d0ff-482f-e146-9fbec76ffad5"
      },
      "source": [
        "student_array = np.ones((4,), dtype=student_def) # initiate 4 records with ones\n",
        "student_array"
      ],
      "execution_count": 46,
      "outputs": [
        {
          "output_type": "execute_result",
          "data": {
            "text/plain": [
              "array([('1', 1., 1., 1), ('1', 1., 1., 1), ('1', 1., 1., 1),\n",
              "       ('1', 1., 1., 1)],\n",
              "      dtype=[('name', 'S6'), ('height', '<f8'), ('weight', '<f8'), ('age', '<i8')])"
            ]
          },
          "metadata": {
            "tags": []
          },
          "execution_count": 46
        }
      ]
    },
    {
      "cell_type": "code",
      "metadata": {
        "id": "277bsad3JwSV",
        "colab_type": "code",
        "colab": {
          "base_uri": "https://localhost:8080/",
          "height": 50
        },
        "outputId": "e125afdd-a573-43d4-af98-71a033403875"
      },
      "source": [
        "# add some data\n",
        "student_array[3] = ('Tyrion', 73, 205, 14)\n",
        "student_array[0] = ('Billy', 65, 112, 13)\n",
        "print(student_array)"
      ],
      "execution_count": 49,
      "outputs": [
        {
          "output_type": "stream",
          "text": [
            "[('Billy', 65., 112., 13) ('1',  1.,   1.,  1) ('1',  1.,   1.,  1)\n",
            " ('Tyrion', 73., 205., 14)]\n"
          ],
          "name": "stdout"
        }
      ]
    },
    {
      "cell_type": "code",
      "metadata": {
        "id": "ICc03HcMLLAw",
        "colab_type": "code",
        "colab": {
          "base_uri": "https://localhost:8080/",
          "height": 50
        },
        "outputId": "f3330917-c48e-4400-bbf7-e94a35ee0a6d"
      },
      "source": [
        "# get columes\n",
        "print(student_array['name'])\n",
        "print(student_array['age']/2) #note the integer type is kept"
      ],
      "execution_count": 56,
      "outputs": [
        {
          "output_type": "stream",
          "text": [
            "['Billy' '1' '1' 'Tyrion']\n",
            "[6 0 0 7]\n"
          ],
          "name": "stdout"
        }
      ]
    },
    {
      "cell_type": "markdown",
      "metadata": {
        "id": "VvEJlKU9VhdV",
        "colab_type": "text"
      },
      "source": [
        "3D array can also use array data type"
      ]
    },
    {
      "cell_type": "code",
      "metadata": {
        "id": "z1XA5zN4PZQw",
        "colab_type": "code",
        "colab": {
          "base_uri": "https://localhost:8080/",
          "height": 286
        },
        "outputId": "0107183c-a635-48da-ea93-cb28683cf220"
      },
      "source": [
        "student_3d_array = np.zeros((4,3,2), dtype=student_def)\n",
        "#add some data and get them\n",
        "student_3d_array[0,2,1] = ('Billy', 68, 155, 11)\n",
        "student_3d_array[2,2,1] = ('Alice', 62, 165, 12.3)\n",
        "student_3d_array[3,1,0] = ('Allison', 62, 166, 15.5) # extra string would be truncated \n",
        "\n",
        "student_3d_array"
      ],
      "execution_count": 66,
      "outputs": [
        {
          "output_type": "execute_result",
          "data": {
            "text/plain": [
              "array([[[('',  0.,   0.,  0), ('',  0.,   0.,  0)],\n",
              "        [('',  0.,   0.,  0), ('',  0.,   0.,  0)],\n",
              "        [('',  0.,   0.,  0), ('Billy', 68., 155., 11)]],\n",
              "\n",
              "       [[('',  0.,   0.,  0), ('',  0.,   0.,  0)],\n",
              "        [('',  0.,   0.,  0), ('',  0.,   0.,  0)],\n",
              "        [('',  0.,   0.,  0), ('',  0.,   0.,  0)]],\n",
              "\n",
              "       [[('',  0.,   0.,  0), ('',  0.,   0.,  0)],\n",
              "        [('',  0.,   0.,  0), ('',  0.,   0.,  0)],\n",
              "        [('',  0.,   0.,  0), ('Alice', 62., 165., 12)]],\n",
              "\n",
              "       [[('',  0.,   0.,  0), ('',  0.,   0.,  0)],\n",
              "        [('Alliso', 62., 166., 15), ('',  0.,   0.,  0)],\n",
              "        [('',  0.,   0.,  0), ('',  0.,   0.,  0)]]],\n",
              "      dtype=[('name', 'S6'), ('height', '<f8'), ('weight', '<f8'), ('age', '<i8')])"
            ]
          },
          "metadata": {
            "tags": []
          },
          "execution_count": 66
        }
      ]
    },
    {
      "cell_type": "code",
      "metadata": {
        "id": "XMlRtxweQufI",
        "colab_type": "code",
        "colab": {
          "base_uri": "https://localhost:8080/",
          "height": 286
        },
        "outputId": "1dfb82e5-e41c-40b2-a64c-fcf990cdf0c1"
      },
      "source": [
        "student_3d_array[['name','weight','age']]"
      ],
      "execution_count": 67,
      "outputs": [
        {
          "output_type": "execute_result",
          "data": {
            "text/plain": [
              "array([[[('',   0.,  0), ('',   0.,  0)],\n",
              "        [('',   0.,  0), ('',   0.,  0)],\n",
              "        [('',   0.,  0), ('Billy', 155., 11)]],\n",
              "\n",
              "       [[('',   0.,  0), ('',   0.,  0)],\n",
              "        [('',   0.,  0), ('',   0.,  0)],\n",
              "        [('',   0.,  0), ('',   0.,  0)]],\n",
              "\n",
              "       [[('',   0.,  0), ('',   0.,  0)],\n",
              "        [('',   0.,  0), ('',   0.,  0)],\n",
              "        [('',   0.,  0), ('Alice', 165., 12)]],\n",
              "\n",
              "       [[('',   0.,  0), ('',   0.,  0)],\n",
              "        [('Alliso', 166., 15), ('',   0.,  0)],\n",
              "        [('',   0.,  0), ('',   0.,  0)]]],\n",
              "      dtype={'names':['name','weight','age'], 'formats':['S6','<f8','<i8'], 'offsets':[0,14,22], 'itemsize':30})"
            ]
          },
          "metadata": {
            "tags": []
          },
          "execution_count": 67
        }
      ]
    },
    {
      "cell_type": "markdown",
      "metadata": {
        "id": "iMYaNuG6Vv8g",
        "colab_type": "text"
      },
      "source": [
        "Record arrays are structured arrays wrapped using a subclass of ndarray, numpy. recarray , which allows field access by attribute on the array object, and record arrays also use a special datatype, numpy. record , which allows field access by attribute on the individual elements of the array. The numpy."
      ]
    },
    {
      "cell_type": "code",
      "metadata": {
        "id": "ATLZOKWZS5mi",
        "colab_type": "code",
        "colab": {
          "base_uri": "https://localhost:8080/",
          "height": 50
        },
        "outputId": "7f88d81c-5541-4c6e-dd4f-a3705bb74b46"
      },
      "source": [
        "studen_record_array = np.rec.array([('Joe', 73, 205, 34),('Mirranda', 65, 112, 23)],dtype=student_def)\n",
        "studen_record_array"
      ],
      "execution_count": 71,
      "outputs": [
        {
          "output_type": "execute_result",
          "data": {
            "text/plain": [
              "rec.array([('Joe', 73., 205., 34), ('Mirran', 65., 112., 23)],\n",
              "          dtype=[('name', 'S6'), ('height', '<f8'), ('weight', '<f8'), ('age', '<i8')])"
            ]
          },
          "metadata": {
            "tags": []
          },
          "execution_count": 71
        }
      ]
    },
    {
      "cell_type": "code",
      "metadata": {
        "id": "_okX3_YVV82j",
        "colab_type": "code",
        "colab": {
          "base_uri": "https://localhost:8080/",
          "height": 34
        },
        "outputId": "94ab2e4e-fd1e-4990-de7a-efcb86db451c"
      },
      "source": [
        "# get the attribute\n",
        "studen_record_array.age"
      ],
      "execution_count": 70,
      "outputs": [
        {
          "output_type": "execute_result",
          "data": {
            "text/plain": [
              "array([34, 23])"
            ]
          },
          "metadata": {
            "tags": []
          },
          "execution_count": 70
        }
      ]
    },
    {
      "cell_type": "code",
      "metadata": {
        "id": "OTbg0ePwWM_7",
        "colab_type": "code",
        "colab": {}
      },
      "source": [
        ""
      ],
      "execution_count": 0,
      "outputs": []
    }
  ]
}
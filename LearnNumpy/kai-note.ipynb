{
  "nbformat": 4,
  "nbformat_minor": 0,
  "metadata": {
    "kernelspec": {
      "name": "python3",
      "display_name": "Python 3.8.5 64-bit",
      "metadata": {
        "interpreter": {
          "hash": "31f2aee4e71d21fbe5cf8b01ff0e069b9275f58929596ceb00d14d90e3e16cd6"
        }
      }
    },
    "language_info": {
      "codemirror_mode": {
        "name": "ipython",
        "version": 2
      },
      "file_extension": ".py",
      "mimetype": "text/x-python",
      "name": "python",
      "nbconvert_exporter": "python",
      "pygments_lexer": "ipython2",
      "version": "3.8.5-final"
    },
    "colab": {
      "name": "Creating Arrays from Python Structures-checkpoint.ipynb",
      "provenance": []
    }
  },
  "cells": [
    {
      "cell_type": "markdown",
      "metadata": {
        "id": "P18y1y_syZv_"
      },
      "source": [
        "<h1>Create NumPy arrays using Python's \"array like\" data types</h1>\n"
      ]
    },
    {
      "cell_type": "code",
      "metadata": {
        "id": "0ldeJOzOyeHX",
        "colab": {
          "base_uri": "https://localhost:8080/"
        },
        "outputId": "60e564fb-7a01-4e59-8493-48fc190d3b12"
      },
      "source": [
        "import numpy as np  # np.set_printoptions(precision=2)\n",
        "print(np.__version__)"
      ],
      "execution_count": 174,
      "outputs": [
        {
          "output_type": "stream",
          "text": [
            "1.19.5\n"
          ],
          "name": "stdout"
        }
      ]
    },
    {
      "cell_type": "code",
      "metadata": {
        "id": "TqsoqXBTyp1o",
        "colab": {
          "base_uri": "https://localhost:8080/"
        },
        "outputId": "14473e7a-d73e-4b3a-c260-1bb53a7db059"
      },
      "source": [
        "my_list = [-17, 0, 4, 5, 29]\n",
        "np_array=np.array(my_list)\n",
        "print(np_array) "
      ],
      "execution_count": 175,
      "outputs": [
        {
          "output_type": "stream",
          "text": [
            "[-17   0   4   5  29]\n"
          ],
          "name": "stdout"
        }
      ]
    },
    {
      "cell_type": "markdown",
      "metadata": {
        "id": "IY_GexWR2v9S"
      },
      "source": [
        "## multiply * works differently between python types and np typy"
      ]
    },
    {
      "cell_type": "code",
      "metadata": {
        "id": "byFpvbATyzUE",
        "colab": {
          "base_uri": "https://localhost:8080/"
        },
        "outputId": "00dcc4c8-9c40-4491-9f9d-49de52fb2dcf"
      },
      "source": [
        "my_list_10x=my_list*10\n",
        "print(my_list_10x)\n",
        "np_array_10x=np_array*10\n",
        "print(np_array_10x)"
      ],
      "execution_count": 176,
      "outputs": [
        {
          "output_type": "stream",
          "text": [
            "[-17, 0, 4, 5, 29, -17, 0, 4, 5, 29, -17, 0, 4, 5, 29, -17, 0, 4, 5, 29, -17, 0, 4, 5, 29, -17, 0, 4, 5, 29, -17, 0, 4, 5, 29, -17, 0, 4, 5, 29, -17, 0, 4, 5, 29, -17, 0, 4, 5, 29]\n",
            "[-170    0   40   50  290]\n"
          ],
          "name": "stdout"
        }
      ]
    },
    {
      "cell_type": "markdown",
      "metadata": {
        "id": "HRVsjBCi0_Sn"
      },
      "source": [
        "##complex and tuple"
      ]
    },
    {
      "cell_type": "code",
      "metadata": {
        "id": "byvClJ4jzd_L",
        "colab": {
          "base_uri": "https://localhost:8080/"
        },
        "outputId": "6629f6d1-400b-4bb7-9918-a562b95f4b4f"
      },
      "source": [
        "tupleToNumpy=(14, -3.14, 4+3j); tupleToNumpy2=(-14, 3.21)  #int, float, complex, np array keeps elements of array uniform\n",
        "numpyFromTuple=np.array(tupleToNumpy)\n",
        "numpyFromTuple2=np.array(tupleToNumpy2)\n",
        "print(numpyFromTuple)\n",
        "print(numpyFromTuple2)\n"
      ],
      "execution_count": 177,
      "outputs": [
        {
          "output_type": "stream",
          "text": [
            "[14.  +0.j -3.14+0.j  4.  +3.j]\n",
            "[-14.     3.21]\n"
          ],
          "name": "stdout"
        }
      ]
    },
    {
      "cell_type": "markdown",
      "metadata": {
        "id": "TmrvJMfV2x5q"
      },
      "source": [
        "## shallow and deep copy"
      ]
    },
    {
      "cell_type": "code",
      "metadata": {
        "id": "v0rhLlQv26pF",
        "colab": {
          "base_uri": "https://localhost:8080/"
        },
        "outputId": "06c59a95-7817-4d21-c38d-8db5b14a202a"
      },
      "source": [
        "nplist1=np.arange(10)\n",
        "nplist2=nplist1   #shallow copy alternatively nplist2 = nplist1.view()\n",
        "print(nplist1 is nplist2) # true, point to the same memory\n",
        "print(id(nplist1)) #memory location\n",
        "print(id(nplist2)) #memory location\n",
        "\n",
        "nplist1[1]=8;\n",
        "print(nplist2)"
      ],
      "execution_count": 178,
      "outputs": [
        {
          "output_type": "stream",
          "text": [
            "True\n",
            "140229292063200\n",
            "140229292063200\n",
            "[0 8 2 3 4 5 6 7 8 9]\n"
          ],
          "name": "stdout"
        }
      ]
    },
    {
      "cell_type": "code",
      "metadata": {
        "id": "-RhB3wnv33NT",
        "colab": {
          "base_uri": "https://localhost:8080/"
        },
        "outputId": "a4edf4ab-af84-4f04-9d93-aa501c9c1932"
      },
      "source": [
        "nplist2.shape=(5,2)\n",
        "print(\"nplist1 =\", nplist1)\n",
        "print(\"nplist2 =\", nplist2)\n",
        "print(nplist1 is nplist2)"
      ],
      "execution_count": 179,
      "outputs": [
        {
          "output_type": "stream",
          "text": [
            "nplist1 = [[0 8]\n",
            " [2 3]\n",
            " [4 5]\n",
            " [6 7]\n",
            " [8 9]]\n",
            "nplist2 = [[0 8]\n",
            " [2 3]\n",
            " [4 5]\n",
            " [6 7]\n",
            " [8 9]]\n",
            "True\n"
          ],
          "name": "stdout"
        }
      ]
    },
    {
      "cell_type": "code",
      "metadata": {
        "id": "OVDBpeCc6F3L",
        "colab": {
          "base_uri": "https://localhost:8080/"
        },
        "outputId": "777a8d28-310e-4d15-ddcb-dd24bf05b053"
      },
      "source": [
        "nplist3 = nplist2.copy() #deep copy\n",
        "nplist3 is nplist2"
      ],
      "execution_count": 180,
      "outputs": [
        {
          "output_type": "execute_result",
          "data": {
            "text/plain": [
              "False"
            ]
          },
          "metadata": {
            "tags": []
          },
          "execution_count": 180
        }
      ]
    },
    {
      "cell_type": "markdown",
      "metadata": {
        "id": "3QAgcmNEC3hB"
      },
      "source": [
        "When using Ravel and Flatten to change dimensions, different dimension of nparray can still be a shadow copy. "
      ]
    },
    {
      "cell_type": "markdown",
      "metadata": {
        "id": "kwL0RMLNGjY9"
      },
      "source": [
        "##simple methods"
      ]
    },
    {
      "cell_type": "code",
      "metadata": {
        "id": "0D-y3wJ20KBA",
        "colab": {
          "base_uri": "https://localhost:8080/"
        },
        "outputId": "a276fe17-9895-4555-8610-c2190cf75875"
      },
      "source": [
        "# numpy.arange([start, ]stop, [step, ]dtype=None) official url by google np.arange\n",
        "np.arange(10,30,2)*10-3"
      ],
      "execution_count": 181,
      "outputs": [
        {
          "output_type": "execute_result",
          "data": {
            "text/plain": [
              "array([ 97, 117, 137, 157, 177, 197, 217, 237, 257, 277])"
            ]
          },
          "metadata": {
            "tags": []
          },
          "execution_count": 181
        }
      ]
    },
    {
      "cell_type": "code",
      "metadata": {
        "id": "P_RN65tGGJZi",
        "colab": {
          "base_uri": "https://localhost:8080/"
        },
        "outputId": "6bf8aa2e-702c-45f8-ac7d-12bdbab41b3d"
      },
      "source": [
        "np.arange(20,step=4)"
      ],
      "execution_count": 182,
      "outputs": [
        {
          "output_type": "execute_result",
          "data": {
            "text/plain": [
              "array([ 0,  4,  8, 12, 16])"
            ]
          },
          "metadata": {
            "tags": []
          },
          "execution_count": 182
        }
      ]
    },
    {
      "cell_type": "code",
      "metadata": {
        "id": "g8PlH0EkEqgG",
        "colab": {
          "base_uri": "https://localhost:8080/"
        },
        "outputId": "813a0d74-34c4-416a-b866-c337a21dc1a2"
      },
      "source": [
        "nparray=(np.arange(10,30,2)-3)*10\n",
        "nparray"
      ],
      "execution_count": 183,
      "outputs": [
        {
          "output_type": "execute_result",
          "data": {
            "text/plain": [
              "array([ 70,  90, 110, 130, 150, 170, 190, 210, 230, 250])"
            ]
          },
          "metadata": {
            "tags": []
          },
          "execution_count": 183
        }
      ]
    },
    {
      "cell_type": "code",
      "metadata": {
        "id": "JfrRTVVsE0tE",
        "colab": {
          "base_uri": "https://localhost:8080/"
        },
        "outputId": "0f6d0f9a-4624-4743-fd5f-80b7be6793c9"
      },
      "source": [
        "nparray.size # this only gives number of elements"
      ],
      "execution_count": 184,
      "outputs": [
        {
          "output_type": "execute_result",
          "data": {
            "text/plain": [
              "10"
            ]
          },
          "metadata": {
            "tags": []
          },
          "execution_count": 184
        }
      ]
    },
    {
      "cell_type": "code",
      "metadata": {
        "id": "O6aiy8J7FQh9",
        "colab": {
          "base_uri": "https://localhost:8080/"
        },
        "outputId": "e439adfc-03d6-4400-cbb7-40504f7e9c5a"
      },
      "source": [
        "np.linspace(0,30,10,True)"
      ],
      "execution_count": 185,
      "outputs": [
        {
          "output_type": "execute_result",
          "data": {
            "text/plain": [
              "array([ 0.    ,  3.3333,  6.6667, 10.    , 13.3333, 16.6667, 20.    ,\n",
              "       23.3333, 26.6667, 30.    ])"
            ]
          },
          "metadata": {
            "tags": []
          },
          "execution_count": 185
        }
      ]
    },
    {
      "cell_type": "markdown",
      "metadata": {
        "id": "f8qJ8YvWH7Jz"
      },
      "source": [
        "##indexing, shaping (dimension), slicing, adding, removing and other multiplating"
      ]
    },
    {
      "cell_type": "code",
      "metadata": {
        "id": "rt9bNrajZM2j",
        "colab": {
          "base_uri": "https://localhost:8080/"
        },
        "outputId": "bd1b7d02-97f8-4409-82be-c5767ebcd1ba"
      },
      "source": [
        "# Create a 2d array with ones on the border and zeros inside the border\n",
        "my_bordered_array = np.ones((5,5))\n",
        "my_bordered_array[1:-1,1:-1] = 0\n",
        "my_bordered_array"
      ],
      "execution_count": 186,
      "outputs": [
        {
          "output_type": "execute_result",
          "data": {
            "text/plain": [
              "array([[1., 1., 1., 1., 1.],\n",
              "       [1., 0., 0., 0., 1.],\n",
              "       [1., 0., 0., 0., 1.],\n",
              "       [1., 0., 0., 0., 1.],\n",
              "       [1., 1., 1., 1., 1.]])"
            ]
          },
          "metadata": {
            "tags": []
          },
          "execution_count": 186
        }
      ]
    },
    {
      "cell_type": "code",
      "metadata": {
        "id": "2Fen7Qm-FV9M",
        "colab": {
          "base_uri": "https://localhost:8080/"
        },
        "outputId": "d539fcba-d1ef-456c-9336-2ef1b4da62fe"
      },
      "source": [
        "z=np.zeros(20)\n",
        "z[10]"
      ],
      "execution_count": 187,
      "outputs": [
        {
          "output_type": "execute_result",
          "data": {
            "text/plain": [
              "0.0"
            ]
          },
          "metadata": {
            "tags": []
          },
          "execution_count": 187
        }
      ]
    },
    {
      "cell_type": "code",
      "metadata": {
        "id": "IDPsv4DPJsaz",
        "colab": {
          "base_uri": "https://localhost:8080/"
        },
        "outputId": "09e95e44-8a62-4c53-8011-beab39c328e4"
      },
      "source": [
        "z[10]=9;z[0]=10; z[-1]=7.5; z[-2]=-2.1\n",
        "z"
      ],
      "execution_count": 188,
      "outputs": [
        {
          "output_type": "execute_result",
          "data": {
            "text/plain": [
              "array([10. ,  0. ,  0. ,  0. ,  0. ,  0. ,  0. ,  0. ,  0. ,  0. ,  9. ,\n",
              "        0. ,  0. ,  0. ,  0. ,  0. ,  0. ,  0. , -2.1,  7.5])"
            ]
          },
          "metadata": {
            "tags": []
          },
          "execution_count": 188
        }
      ]
    },
    {
      "cell_type": "code",
      "metadata": {
        "id": "Ma6gNj6zZkF4",
        "colab": {
          "base_uri": "https://localhost:8080/"
        },
        "outputId": "40838e0b-6a5b-487b-a297-164c1ff76249"
      },
      "source": [
        "#replace largest element in z with 15\n",
        "z[z.argmax()]=15\n",
        "z[z.argmin()]=-0.5\n",
        "z"
      ],
      "execution_count": 189,
      "outputs": [
        {
          "output_type": "execute_result",
          "data": {
            "text/plain": [
              "array([15. ,  0. ,  0. ,  0. ,  0. ,  0. ,  0. ,  0. ,  0. ,  0. ,  9. ,\n",
              "        0. ,  0. ,  0. ,  0. ,  0. ,  0. ,  0. , -0.5,  7.5])"
            ]
          },
          "metadata": {
            "tags": []
          },
          "execution_count": 189
        }
      ]
    },
    {
      "cell_type": "markdown",
      "metadata": {
        "id": "cZkWCMKNEUvI"
      },
      "source": [
        "Basic Slicing and Indexing\n",
        "Basic slicing occurs when obj is a slice object "
      ]
    },
    {
      "cell_type": "code",
      "metadata": {
        "id": "KkvBRkjNEgXZ",
        "colab": {
          "base_uri": "https://localhost:8080/"
        },
        "outputId": "b7b1e639-c286-48d9-bfdf-68159389b1ae"
      },
      "source": [
        "z[0:11:2] #constructed by start:stop:step notation inside of brackets"
      ],
      "execution_count": 190,
      "outputs": [
        {
          "output_type": "execute_result",
          "data": {
            "text/plain": [
              "array([15.,  0.,  0.,  0.,  0.,  9.])"
            ]
          },
          "metadata": {
            "tags": []
          },
          "execution_count": 190
        }
      ]
    },
    {
      "cell_type": "code",
      "metadata": {
        "id": "2L6ZowmHFU01",
        "colab": {
          "base_uri": "https://localhost:8080/"
        },
        "outputId": "3d351437-6bf1-479c-8a77-207e325a16da"
      },
      "source": [
        "print(z[-3:20]) # negative means start from end (or i:j:k, become n+i:n+j:n+k where n is the length of the array)\n",
        "print(z[-1:-7:-2]) # negative means start from end (or i:j:k, become n+i:n+j:n+k where n is the length of the array)"
      ],
      "execution_count": 191,
      "outputs": [
        {
          "output_type": "stream",
          "text": [
            "[ 0.  -0.5  7.5]\n",
            "[7.5 0.  0. ]\n"
          ],
          "name": "stdout"
        }
      ]
    },
    {
      "cell_type": "code",
      "metadata": {
        "id": "EE6ZqxeOGXsO",
        "colab": {
          "base_uri": "https://localhost:8080/"
        },
        "outputId": "12f77a6a-403d-475a-e440-96e6c0625195"
      },
      "source": [
        "print(z[::-1]) #reverse a nparray"
      ],
      "execution_count": 192,
      "outputs": [
        {
          "output_type": "stream",
          "text": [
            "[ 7.5 -0.5  0.   0.   0.   0.   0.   0.   0.   9.   0.   0.   0.   0.\n",
            "  0.   0.   0.   0.   0.  15. ]\n"
          ],
          "name": "stdout"
        }
      ]
    },
    {
      "cell_type": "markdown",
      "metadata": {
        "id": "bCHaJtABHSuc"
      },
      "source": [
        "for i:j:k\n",
        "if i is not given it defaults to 0 for k > 0 and n - 1 for k < 0 . If j is not given it defaults to n for k > 0 and -n-1 for k < 0 . k defaults to 1 if not given"
      ]
    },
    {
      "cell_type": "code",
      "metadata": {
        "id": "KBMU4DL7HUKk",
        "colab": {
          "base_uri": "https://localhost:8080/"
        },
        "outputId": "e2bc7908-20bc-4db6-90b8-03fdd4f081cf"
      },
      "source": [
        "z[10:]"
      ],
      "execution_count": 193,
      "outputs": [
        {
          "output_type": "execute_result",
          "data": {
            "text/plain": [
              "array([ 9. ,  0. ,  0. ,  0. ,  0. ,  0. ,  0. ,  0. , -0.5,  7.5])"
            ]
          },
          "metadata": {
            "tags": []
          },
          "execution_count": 193
        }
      ]
    },
    {
      "cell_type": "code",
      "metadata": {
        "id": "by6ma2CcQV6m",
        "colab": {
          "base_uri": "https://localhost:8080/"
        },
        "outputId": "fea46428-7d45-4409-bc23-ff05519137d2"
      },
      "source": [
        "# assignment: every fifth element equals four\n",
        "z[0::5] = 4\n",
        "z"
      ],
      "execution_count": 194,
      "outputs": [
        {
          "output_type": "execute_result",
          "data": {
            "text/plain": [
              "array([ 4. ,  0. ,  0. ,  0. ,  0. ,  4. ,  0. ,  0. ,  0. ,  0. ,  4. ,\n",
              "        0. ,  0. ,  0. ,  0. ,  4. ,  0. ,  0. , -0.5,  7.5])"
            ]
          },
          "metadata": {
            "tags": []
          },
          "execution_count": 194
        }
      ]
    },
    {
      "cell_type": "code",
      "metadata": {
        "id": "9za4S6tzHp16",
        "colab": {
          "base_uri": "https://localhost:8080/"
        },
        "outputId": "142844b9-866c-445c-9cea-b7dc56476a0b"
      },
      "source": [
        "z[:11]"
      ],
      "execution_count": 195,
      "outputs": [
        {
          "output_type": "execute_result",
          "data": {
            "text/plain": [
              "array([4., 0., 0., 0., 0., 4., 0., 0., 0., 0., 4.])"
            ]
          },
          "metadata": {
            "tags": []
          },
          "execution_count": 195
        }
      ]
    },
    {
      "cell_type": "code",
      "metadata": {
        "id": "o-ENMCQiIfMx",
        "colab": {
          "base_uri": "https://localhost:8080/"
        },
        "outputId": "a7c2e130-4d72-4dc2-81a8-9366aa479460"
      },
      "source": [
        "o=np.ones((3,3), dtype=int)\n",
        "o"
      ],
      "execution_count": 196,
      "outputs": [
        {
          "output_type": "execute_result",
          "data": {
            "text/plain": [
              "array([[1, 1, 1],\n",
              "       [1, 1, 1],\n",
              "       [1, 1, 1]])"
            ]
          },
          "metadata": {
            "tags": []
          },
          "execution_count": 196
        }
      ]
    },
    {
      "cell_type": "code",
      "metadata": {
        "id": "3J0NdeaWIxtX",
        "colab": {
          "base_uri": "https://localhost:8080/"
        },
        "outputId": "dd1c4588-6f18-4b96-a0c7-07dca0073012"
      },
      "source": [
        "z.shape=(4,5)\n",
        "z"
      ],
      "execution_count": 197,
      "outputs": [
        {
          "output_type": "execute_result",
          "data": {
            "text/plain": [
              "array([[ 4. ,  0. ,  0. ,  0. ,  0. ],\n",
              "       [ 4. ,  0. ,  0. ,  0. ,  0. ],\n",
              "       [ 4. ,  0. ,  0. ,  0. ,  0. ],\n",
              "       [ 4. ,  0. ,  0. , -0.5,  7.5]])"
            ]
          },
          "metadata": {
            "tags": []
          },
          "execution_count": 197
        }
      ]
    },
    {
      "cell_type": "code",
      "metadata": {
        "id": "yr_-7IOBKiqe",
        "colab": {
          "base_uri": "https://localhost:8080/"
        },
        "outputId": "35169e09-52c1-4fa9-d6b2-812c9bf889f5"
      },
      "source": [
        "z.shape=(2,2,5)   #convert from 2-d to 3-d np array\n",
        "z"
      ],
      "execution_count": 198,
      "outputs": [
        {
          "output_type": "execute_result",
          "data": {
            "text/plain": [
              "array([[[ 4. ,  0. ,  0. ,  0. ,  0. ],\n",
              "        [ 4. ,  0. ,  0. ,  0. ,  0. ]],\n",
              "\n",
              "       [[ 4. ,  0. ,  0. ,  0. ,  0. ],\n",
              "        [ 4. ,  0. ,  0. , -0.5,  7.5]]])"
            ]
          },
          "metadata": {
            "tags": []
          },
          "execution_count": 198
        }
      ]
    },
    {
      "cell_type": "code",
      "metadata": {
        "id": "rtWYhzY1Ko9z",
        "colab": {
          "base_uri": "https://localhost:8080/"
        },
        "outputId": "f53e9f61-05af-4a69-8bef-8aa4534c268a"
      },
      "source": [
        "z[1][1]"
      ],
      "execution_count": 199,
      "outputs": [
        {
          "output_type": "execute_result",
          "data": {
            "text/plain": [
              "array([ 4. ,  0. ,  0. , -0.5,  7.5])"
            ]
          },
          "metadata": {
            "tags": []
          },
          "execution_count": 199
        }
      ]
    },
    {
      "cell_type": "code",
      "metadata": {
        "id": "xUVF3-VULDP-",
        "colab": {
          "base_uri": "https://localhost:8080/"
        },
        "outputId": "6ccbfd74-1e3f-4202-e61d-a328d5b02809"
      },
      "source": [
        "z[1,0][0]"
      ],
      "execution_count": 200,
      "outputs": [
        {
          "output_type": "execute_result",
          "data": {
            "text/plain": [
              "4.0"
            ]
          },
          "metadata": {
            "tags": []
          },
          "execution_count": 200
        }
      ]
    },
    {
      "cell_type": "code",
      "metadata": {
        "id": "QL7EkGkEKx2m",
        "colab": {
          "base_uri": "https://localhost:8080/"
        },
        "outputId": "221788d5-9710-4396-81f4-03ee007dc1e4"
      },
      "source": [
        "z[0]"
      ],
      "execution_count": 201,
      "outputs": [
        {
          "output_type": "execute_result",
          "data": {
            "text/plain": [
              "array([[4., 0., 0., 0., 0.],\n",
              "       [4., 0., 0., 0., 0.]])"
            ]
          },
          "metadata": {
            "tags": []
          },
          "execution_count": 201
        }
      ]
    },
    {
      "cell_type": "code",
      "metadata": {
        "id": "RQtyF0w0IlJ8",
        "colab": {
          "base_uri": "https://localhost:8080/"
        },
        "outputId": "bb1ace9d-ea6c-4a48-da58-653c7ac2f24f"
      },
      "source": [
        "z[1:2] # slicing multi-dimension is more complex"
      ],
      "execution_count": 202,
      "outputs": [
        {
          "output_type": "execute_result",
          "data": {
            "text/plain": [
              "array([[[ 4. ,  0. ,  0. ,  0. ,  0. ],\n",
              "        [ 4. ,  0. ,  0. , -0.5,  7.5]]])"
            ]
          },
          "metadata": {
            "tags": []
          },
          "execution_count": 202
        }
      ]
    },
    {
      "cell_type": "code",
      "metadata": {
        "id": "HakgRD93J79-",
        "colab": {
          "base_uri": "https://localhost:8080/"
        },
        "outputId": "7f7b23ef-4d9f-4b18-e4d3-d8c22af02029"
      },
      "source": [
        "#Ellipsis expand to the number of : objects needed to make a selection tuple of the same length as x.ndim. There may only be a single ellipsis present.\n",
        "print(z[...])\n",
        "print(z[...,0])\n",
        "print(z[...,1])\n",
        "print(z[...,2])\n",
        "print(z[...,3])\n",
        "print(z[...,4])"
      ],
      "execution_count": 203,
      "outputs": [
        {
          "output_type": "stream",
          "text": [
            "[[[ 4.   0.   0.   0.   0. ]\n",
            "  [ 4.   0.   0.   0.   0. ]]\n",
            "\n",
            " [[ 4.   0.   0.   0.   0. ]\n",
            "  [ 4.   0.   0.  -0.5  7.5]]]\n",
            "[[4. 4.]\n",
            " [4. 4.]]\n",
            "[[0. 0.]\n",
            " [0. 0.]]\n",
            "[[0. 0.]\n",
            " [0. 0.]]\n",
            "[[ 0.   0. ]\n",
            " [ 0.  -0.5]]\n",
            "[[0.  0. ]\n",
            " [0.  7.5]]\n"
          ],
          "name": "stdout"
        }
      ]
    },
    {
      "cell_type": "code",
      "metadata": {
        "id": "ivpIkiz5MJiF",
        "colab": {
          "base_uri": "https://localhost:8080/"
        },
        "outputId": "474277cc-7d88-426d-de60-a5f4414bc4ef"
      },
      "source": [
        "print(\"z=\", z)\n",
        "print(z[0,...])"
      ],
      "execution_count": 204,
      "outputs": [
        {
          "output_type": "stream",
          "text": [
            "z= [[[ 4.   0.   0.   0.   0. ]\n",
            "  [ 4.   0.   0.   0.   0. ]]\n",
            "\n",
            " [[ 4.   0.   0.   0.   0. ]\n",
            "  [ 4.   0.   0.  -0.5  7.5]]]\n",
            "[[4. 0. 0. 0. 0.]\n",
            " [4. 0. 0. 0. 0.]]\n"
          ],
          "name": "stdout"
        }
      ]
    },
    {
      "cell_type": "code",
      "metadata": {
        "id": "_QQ6LCXJMvKC",
        "colab": {
          "base_uri": "https://localhost:8080/"
        },
        "outputId": "7862f042-aa7a-47b1-a6b1-620a369d7547"
      },
      "source": [
        "print(z[:,np.newaxis,:,:]) # add a new None dimension\n",
        "print(z.shape)\n",
        "print(z[:,np.newaxis,:,:].shape)"
      ],
      "execution_count": 205,
      "outputs": [
        {
          "output_type": "stream",
          "text": [
            "[[[[ 4.   0.   0.   0.   0. ]\n",
            "   [ 4.   0.   0.   0.   0. ]]]\n",
            "\n",
            "\n",
            " [[[ 4.   0.   0.   0.   0. ]\n",
            "   [ 4.   0.   0.  -0.5  7.5]]]]\n",
            "(2, 2, 5)\n",
            "(2, 1, 2, 5)\n"
          ],
          "name": "stdout"
        }
      ]
    },
    {
      "cell_type": "code",
      "metadata": {
        "id": "JKdLUUrTNaxZ",
        "colab": {
          "base_uri": "https://localhost:8080/"
        },
        "outputId": "9b208e61-0f0f-46a8-e9dc-0df54524d7eb"
      },
      "source": [
        "#something to follow up as the indexing and slicing uses broadcasting\n",
        "x = np.array([[1, 2], [3, 4], [5, 6]])\n",
        "x[[0, 1, 2], [0, 1, 0]]"
      ],
      "execution_count": 206,
      "outputs": [
        {
          "output_type": "execute_result",
          "data": {
            "text/plain": [
              "array([1, 4, 5])"
            ]
          },
          "metadata": {
            "tags": []
          },
          "execution_count": 206
        }
      ]
    },
    {
      "cell_type": "code",
      "metadata": {
        "id": "lgJD4WNzwgI_",
        "colab": {
          "base_uri": "https://localhost:8080/"
        },
        "outputId": "6850d97d-4a26-4ef6-edb8-dc1397783126"
      },
      "source": [
        "print(z)\n",
        "print(z.ndim) #show dimension\n",
        "print(z.size) #show total elements\n",
        "print(z[0].shape) #show actual metrics shape\n",
        "print(z.dtype) # show data type in the metrix\n",
        "print(z.sum()) # sum all the elements in metrix. this can be used in combination with filters(boolean mask array below\n",
        "print(z.sum(axis=1)) # will learn this in broadcasting - operation along axis"
      ],
      "execution_count": 207,
      "outputs": [
        {
          "output_type": "stream",
          "text": [
            "[[[ 4.   0.   0.   0.   0. ]\n",
            "  [ 4.   0.   0.   0.   0. ]]\n",
            "\n",
            " [[ 4.   0.   0.   0.   0. ]\n",
            "  [ 4.   0.   0.  -0.5  7.5]]]\n",
            "3\n",
            "20\n",
            "(2, 5)\n",
            "float64\n",
            "23.0\n",
            "[[ 8.   0.   0.   0.   0. ]\n",
            " [ 8.   0.   0.  -0.5  7.5]]\n"
          ],
          "name": "stdout"
        }
      ]
    },
    {
      "cell_type": "code",
      "metadata": {
        "id": "CU3LziYE7c8N",
        "colab": {
          "base_uri": "https://localhost:8080/"
        },
        "outputId": "0ee9363d-f5aa-4004-bff6-22715806223d"
      },
      "source": [
        "y=np.append(z, [2.2, 3.3, 4.4, 55, -9]) # notice, we can't z.append, not such method \n",
        "print(y)\n",
        "print(y.shape) # append would simply change the shape to vector/np.list\n"
      ],
      "execution_count": 208,
      "outputs": [
        {
          "output_type": "stream",
          "text": [
            "[ 4.   0.   0.   0.   0.   4.   0.   0.   0.   0.   4.   0.   0.   0.\n",
            "  0.   4.   0.   0.  -0.5  7.5  2.2  3.3  4.4 55.  -9. ]\n",
            "(25,)\n"
          ],
          "name": "stdout"
        }
      ]
    },
    {
      "cell_type": "code",
      "metadata": {
        "id": "sEJ_Mikv_kYY",
        "colab": {
          "base_uri": "https://localhost:8080/"
        },
        "outputId": "415f3acd-f143-4184-8f7d-b54748c307e0"
      },
      "source": [
        "# add a row\n",
        "y=y.reshape(5,5)\n",
        "y=np.append(y, [[7, 7, 7, 7, 7]], axis=0) \n",
        "print(y)\n",
        "print(y.shape)"
      ],
      "execution_count": 209,
      "outputs": [
        {
          "output_type": "stream",
          "text": [
            "[[ 4.   0.   0.   0.   0. ]\n",
            " [ 4.   0.   0.   0.   0. ]\n",
            " [ 4.   0.   0.   0.   0. ]\n",
            " [ 4.   0.   0.  -0.5  7.5]\n",
            " [ 2.2  3.3  4.4 55.  -9. ]\n",
            " [ 7.   7.   7.   7.   7. ]]\n",
            "(6, 5)\n"
          ],
          "name": "stdout"
        }
      ]
    },
    {
      "cell_type": "code",
      "metadata": {
        "id": "VtGxUB9ODexz",
        "colab": {
          "base_uri": "https://localhost:8080/"
        },
        "outputId": "501fc576-481d-4342-e314-85bd1369a244"
      },
      "source": [
        "# add a column\n",
        "column6=np.ones((6,1))*6\n",
        "print(column6)\n",
        "y=np.append(y, column6, axis=1) \n",
        "y"
      ],
      "execution_count": 210,
      "outputs": [
        {
          "output_type": "stream",
          "text": [
            "[[6.]\n",
            " [6.]\n",
            " [6.]\n",
            " [6.]\n",
            " [6.]\n",
            " [6.]]\n"
          ],
          "name": "stdout"
        },
        {
          "output_type": "execute_result",
          "data": {
            "text/plain": [
              "array([[ 4. ,  0. ,  0. ,  0. ,  0. ,  6. ],\n",
              "       [ 4. ,  0. ,  0. ,  0. ,  0. ,  6. ],\n",
              "       [ 4. ,  0. ,  0. ,  0. ,  0. ,  6. ],\n",
              "       [ 4. ,  0. ,  0. , -0.5,  7.5,  6. ],\n",
              "       [ 2.2,  3.3,  4.4, 55. , -9. ,  6. ],\n",
              "       [ 7. ,  7. ,  7. ,  7. ,  7. ,  6. ]])"
            ]
          },
          "metadata": {
            "tags": []
          },
          "execution_count": 210
        }
      ]
    },
    {
      "cell_type": "code",
      "metadata": {
        "id": "SchC0Q2R6RCe",
        "colab": {
          "base_uri": "https://localhost:8080/"
        },
        "outputId": "7302cc8d-e528-4d87-b969-19b4011aa708"
      },
      "source": [
        "# flatten (return copy) / ravel (return view)\n",
        "rav_y = y.ravel()\n",
        "flatten_y=y.flatten()\n",
        "print(id(y))\n",
        "print(y)\n",
        "print(id(rav_y))\n",
        "print(rav_y)\n",
        "print(id(flatten_y))\n",
        "print(flatten_y)"
      ],
      "execution_count": 211,
      "outputs": [
        {
          "output_type": "stream",
          "text": [
            "140229669329376\n",
            "[[ 4.   0.   0.   0.   0.   6. ]\n",
            " [ 4.   0.   0.   0.   0.   6. ]\n",
            " [ 4.   0.   0.   0.   0.   6. ]\n",
            " [ 4.   0.   0.  -0.5  7.5  6. ]\n",
            " [ 2.2  3.3  4.4 55.  -9.   6. ]\n",
            " [ 7.   7.   7.   7.   7.   6. ]]\n",
            "140229291950848\n",
            "[ 4.   0.   0.   0.   0.   6.   4.   0.   0.   0.   0.   6.   4.   0.\n",
            "  0.   0.   0.   6.   4.   0.   0.  -0.5  7.5  6.   2.2  3.3  4.4 55.\n",
            " -9.   6.   7.   7.   7.   7.   7.   6. ]\n",
            "140229669338688\n",
            "[ 4.   0.   0.   0.   0.   6.   4.   0.   0.   0.   0.   6.   4.   0.\n",
            "  0.   0.   0.   6.   4.   0.   0.  -0.5  7.5  6.   2.2  3.3  4.4 55.\n",
            " -9.   6.   7.   7.   7.   7.   7.   6. ]\n"
          ],
          "name": "stdout"
        }
      ]
    },
    {
      "cell_type": "code",
      "metadata": {
        "id": "lwASHFVG-B2e",
        "colab": {
          "base_uri": "https://localhost:8080/"
        },
        "outputId": "66c48a13-255c-4415-a59d-ee7e754834e3"
      },
      "source": [
        "#note flat returns iterator instead\n",
        "print(type(y.flat))\n",
        "for i in y.flat:\n",
        "  print(i)"
      ],
      "execution_count": 212,
      "outputs": [
        {
          "output_type": "stream",
          "text": [
            "<class 'numpy.flatiter'>\n",
            "4.0\n",
            "0.0\n",
            "0.0\n",
            "0.0\n",
            "0.0\n",
            "6.0\n",
            "4.0\n",
            "0.0\n",
            "0.0\n",
            "0.0\n",
            "0.0\n",
            "6.0\n",
            "4.0\n",
            "0.0\n",
            "0.0\n",
            "0.0\n",
            "0.0\n",
            "6.0\n",
            "4.0\n",
            "0.0\n",
            "0.0\n",
            "-0.5\n",
            "7.5\n",
            "6.0\n",
            "2.2\n",
            "3.3\n",
            "4.4\n",
            "55.0\n",
            "-9.0\n",
            "6.0\n",
            "7.0\n",
            "7.0\n",
            "7.0\n",
            "7.0\n",
            "7.0\n",
            "6.0\n"
          ],
          "name": "stdout"
        }
      ]
    },
    {
      "cell_type": "code",
      "metadata": {
        "id": "5dUIDUkRAKGw",
        "colab": {
          "base_uri": "https://localhost:8080/"
        },
        "outputId": "55e6c6de-99d7-4f79-ece4-7a0717b8ac99"
      },
      "source": [
        "for i in y:\n",
        "  print(i)"
      ],
      "execution_count": 213,
      "outputs": [
        {
          "output_type": "stream",
          "text": [
            "[4. 0. 0. 0. 0. 6.]\n",
            "[4. 0. 0. 0. 0. 6.]\n",
            "[4. 0. 0. 0. 0. 6.]\n",
            "[ 4.   0.   0.  -0.5  7.5  6. ]\n",
            "[ 2.2  3.3  4.4 55.  -9.   6. ]\n",
            "[7. 7. 7. 7. 7. 6.]\n"
          ],
          "name": "stdout"
        }
      ]
    },
    {
      "cell_type": "code",
      "metadata": {
        "id": "6RfY8r6Sxvyf",
        "colab": {
          "base_uri": "https://localhost:8080/"
        },
        "outputId": "579add5b-394c-4c4f-f2b3-e12c65751793"
      },
      "source": [
        "# how print out both index and elements\n",
        "a = np.arange(8).reshape(2,4)\n",
        "for index, value in np.ndenumerate(a):  # ndenurmerate returns index and value\n",
        "  print(index, value)"
      ],
      "execution_count": 214,
      "outputs": [
        {
          "output_type": "stream",
          "text": [
            "(0, 0) 0\n",
            "(0, 1) 1\n",
            "(0, 2) 2\n",
            "(0, 3) 3\n",
            "(1, 0) 4\n",
            "(1, 1) 5\n",
            "(1, 2) 6\n",
            "(1, 3) 7\n"
          ],
          "name": "stdout"
        }
      ]
    },
    {
      "cell_type": "code",
      "metadata": {
        "id": "jcOi3a0OysgZ",
        "colab": {
          "base_uri": "https://localhost:8080/"
        },
        "outputId": "aa809b18-18a7-486f-95c6-1d0b6d1707cd"
      },
      "source": [
        "a.shape = (2,2,2)\n",
        "for index, value in np.ndenumerate(a):  # ndenurmerate returns index and value\n",
        "  print(index, value)"
      ],
      "execution_count": 215,
      "outputs": [
        {
          "output_type": "stream",
          "text": [
            "(0, 0, 0) 0\n",
            "(0, 0, 1) 1\n",
            "(0, 1, 0) 2\n",
            "(0, 1, 1) 3\n",
            "(1, 0, 0) 4\n",
            "(1, 0, 1) 5\n",
            "(1, 1, 0) 6\n",
            "(1, 1, 1) 7\n"
          ],
          "name": "stdout"
        }
      ]
    },
    {
      "cell_type": "markdown",
      "metadata": {
        "id": "s3Q9oy5fFnPl"
      },
      "source": [
        "### 3-d append axis 0,1,2  horizontal stacking = axis 0, insert numbers to axis 0,1,2 and finally delete\n",
        "\n"
      ]
    },
    {
      "cell_type": "code",
      "metadata": {
        "id": "XlDve6rZFyfI",
        "colab": {
          "base_uri": "https://localhost:8080/"
        },
        "outputId": "675473d3-f4d2-46c1-f3d3-464afaa5bc2a"
      },
      "source": [
        "y = np.ones((2,2,2))\n",
        "z = np.ones((2,2,2))*2\n",
        "\n",
        "x=np.append(y,z, axis=0 )\n",
        "x"
      ],
      "execution_count": 216,
      "outputs": [
        {
          "output_type": "execute_result",
          "data": {
            "text/plain": [
              "array([[[1., 1.],\n",
              "        [1., 1.]],\n",
              "\n",
              "       [[1., 1.],\n",
              "        [1., 1.]],\n",
              "\n",
              "       [[2., 2.],\n",
              "        [2., 2.]],\n",
              "\n",
              "       [[2., 2.],\n",
              "        [2., 2.]]])"
            ]
          },
          "metadata": {
            "tags": []
          },
          "execution_count": 216
        }
      ]
    },
    {
      "cell_type": "code",
      "metadata": {
        "id": "VE6ovebYH3zV",
        "colab": {
          "base_uri": "https://localhost:8080/"
        },
        "outputId": "2ad4e4db-dcb5-4c75-fc79-71d896b31fcf"
      },
      "source": [
        "x=np.append(y,z, axis=1 )\n",
        "x"
      ],
      "execution_count": 217,
      "outputs": [
        {
          "output_type": "execute_result",
          "data": {
            "text/plain": [
              "array([[[1., 1.],\n",
              "        [1., 1.],\n",
              "        [2., 2.],\n",
              "        [2., 2.]],\n",
              "\n",
              "       [[1., 1.],\n",
              "        [1., 1.],\n",
              "        [2., 2.],\n",
              "        [2., 2.]]])"
            ]
          },
          "metadata": {
            "tags": []
          },
          "execution_count": 217
        }
      ]
    },
    {
      "cell_type": "code",
      "metadata": {
        "id": "nrdffx2YH8o3",
        "colab": {
          "base_uri": "https://localhost:8080/"
        },
        "outputId": "53fd6ae9-88b4-4d54-fd0d-cd1a625a200d"
      },
      "source": [
        "x=np.append(y,z, axis=2 )\n",
        "x"
      ],
      "execution_count": 218,
      "outputs": [
        {
          "output_type": "execute_result",
          "data": {
            "text/plain": [
              "array([[[1., 1., 2., 2.],\n",
              "        [1., 1., 2., 2.]],\n",
              "\n",
              "       [[1., 1., 2., 2.],\n",
              "        [1., 1., 2., 2.]]])"
            ]
          },
          "metadata": {
            "tags": []
          },
          "execution_count": 218
        }
      ]
    },
    {
      "cell_type": "code",
      "metadata": {
        "id": "Z7CkjMQLIe0h",
        "colab": {
          "base_uri": "https://localhost:8080/"
        },
        "outputId": "cb2cfc2a-0c3c-41c2-fc7d-2128cefbb534"
      },
      "source": [
        "x = np.hstack((y,z))\n",
        "x"
      ],
      "execution_count": 219,
      "outputs": [
        {
          "output_type": "execute_result",
          "data": {
            "text/plain": [
              "array([[[1., 1.],\n",
              "        [1., 1.],\n",
              "        [2., 2.],\n",
              "        [2., 2.]],\n",
              "\n",
              "       [[1., 1.],\n",
              "        [1., 1.],\n",
              "        [2., 2.],\n",
              "        [2., 2.]]])"
            ]
          },
          "metadata": {
            "tags": []
          },
          "execution_count": 219
        }
      ]
    },
    {
      "cell_type": "markdown",
      "metadata": {
        "id": "iPErB5390nMu"
      },
      "source": [
        "for insert, can reference https://numpy.org/doc/stable/reference/generated/numpy.insert.html, notice the funny behavior for a scalar insertion"
      ]
    },
    {
      "cell_type": "code",
      "metadata": {
        "id": "BBPWTy_yKON2",
        "colab": {
          "base_uri": "https://localhost:8080/"
        },
        "outputId": "1107d9a3-e43f-44f6-f4b6-cc40d81ff56c"
      },
      "source": [
        "x1=np.insert(x, 2, 5)\n",
        "x1"
      ],
      "execution_count": 220,
      "outputs": [
        {
          "output_type": "execute_result",
          "data": {
            "text/plain": [
              "array([1., 1., 5., 1., 1., 2., 2., 2., 2., 1., 1., 1., 1., 2., 2., 2., 2.])"
            ]
          },
          "metadata": {
            "tags": []
          },
          "execution_count": 220
        }
      ]
    },
    {
      "cell_type": "code",
      "metadata": {
        "id": "sTpnwFHT1Drk",
        "colab": {
          "base_uri": "https://localhost:8080/"
        },
        "outputId": "1866bace-e9ca-42f9-fa6a-71afb6e0aaac"
      },
      "source": [
        "x1=np.insert(x, 1, 6, axis=0)\n",
        "x1"
      ],
      "execution_count": 221,
      "outputs": [
        {
          "output_type": "execute_result",
          "data": {
            "text/plain": [
              "array([[[1., 1.],\n",
              "        [1., 1.],\n",
              "        [2., 2.],\n",
              "        [2., 2.]],\n",
              "\n",
              "       [[6., 6.],\n",
              "        [6., 6.],\n",
              "        [6., 6.],\n",
              "        [6., 6.]],\n",
              "\n",
              "       [[1., 1.],\n",
              "        [1., 1.],\n",
              "        [2., 2.],\n",
              "        [2., 2.]]])"
            ]
          },
          "metadata": {
            "tags": []
          },
          "execution_count": 221
        }
      ]
    },
    {
      "cell_type": "code",
      "metadata": {
        "id": "oT13AMrR2L9X",
        "colab": {
          "base_uri": "https://localhost:8080/"
        },
        "outputId": "7963bf2b-e776-4d31-db8f-4779c6702313"
      },
      "source": [
        "x1=np.insert(x, 3, 6, axis=1)\n",
        "x1"
      ],
      "execution_count": 222,
      "outputs": [
        {
          "output_type": "execute_result",
          "data": {
            "text/plain": [
              "array([[[1., 1.],\n",
              "        [1., 1.],\n",
              "        [2., 2.],\n",
              "        [6., 6.],\n",
              "        [2., 2.]],\n",
              "\n",
              "       [[1., 1.],\n",
              "        [1., 1.],\n",
              "        [2., 2.],\n",
              "        [6., 6.],\n",
              "        [2., 2.]]])"
            ]
          },
          "metadata": {
            "tags": []
          },
          "execution_count": 222
        }
      ]
    },
    {
      "cell_type": "code",
      "metadata": {
        "id": "OMX19SO844lV",
        "colab": {
          "base_uri": "https://localhost:8080/"
        },
        "outputId": "b8158b9c-001b-4687-e2d0-ab75aaf013e5"
      },
      "source": [
        "x1=np.delete(x, 1)\n",
        "x1"
      ],
      "execution_count": 223,
      "outputs": [
        {
          "output_type": "execute_result",
          "data": {
            "text/plain": [
              "array([1., 1., 1., 2., 2., 2., 2., 1., 1., 1., 1., 2., 2., 2., 2.])"
            ]
          },
          "metadata": {
            "tags": []
          },
          "execution_count": 223
        }
      ]
    },
    {
      "cell_type": "code",
      "metadata": {
        "id": "iaacckQL5N-O",
        "colab": {
          "base_uri": "https://localhost:8080/"
        },
        "outputId": "dc75e7cd-c61a-4a45-a3c6-67a8b20c557d"
      },
      "source": [
        "x1=np.delete(x, 1, axis=2)\n",
        "x1"
      ],
      "execution_count": 224,
      "outputs": [
        {
          "output_type": "execute_result",
          "data": {
            "text/plain": [
              "array([[[1.],\n",
              "        [1.],\n",
              "        [2.],\n",
              "        [2.]],\n",
              "\n",
              "       [[1.],\n",
              "        [1.],\n",
              "        [2.],\n",
              "        [2.]]])"
            ]
          },
          "metadata": {
            "tags": []
          },
          "execution_count": 224
        }
      ]
    },
    {
      "cell_type": "markdown",
      "metadata": {
        "id": "JNhwh6u05zYO"
      },
      "source": [
        "### Slicing and Concatenating"
      ]
    },
    {
      "cell_type": "code",
      "metadata": {
        "id": "zKUCCPXI5_0x",
        "colab": {
          "base_uri": "https://localhost:8080/"
        },
        "outputId": "bf934a6e-d465-44b9-b3aa-beca6c242ba0"
      },
      "source": [
        "# concatenate \n",
        "a = np.array([[1,2],[3,4]])\n",
        "b = np.array([[5,6]])\n",
        "c = np.concatenate((a,b), axis=0)\n",
        "c"
      ],
      "execution_count": 225,
      "outputs": [
        {
          "output_type": "execute_result",
          "data": {
            "text/plain": [
              "array([[1, 2],\n",
              "       [3, 4],\n",
              "       [5, 6]])"
            ]
          },
          "metadata": {
            "tags": []
          },
          "execution_count": 225
        }
      ]
    },
    {
      "cell_type": "code",
      "metadata": {
        "id": "zNg1rbMD86XG",
        "colab": {
          "base_uri": "https://localhost:8080/"
        },
        "outputId": "0bafbebf-77c7-4426-f228-1f4b58d15a2c"
      },
      "source": [
        "# Stack\n",
        "a = np.arange(24)\n",
        "a.shape=(2,3,4)\n",
        "print('before stacking=', a)\n",
        "stack0=np.stack(a, axis=0)\n",
        "print('stack_axis0 =', stack0)\n",
        "print('stack_axis0 shape =', stack0.shape)\n",
        "print('')\n",
        "stack1=np.stack(a, axis=1)\n",
        "print('stack_axis1 =', stack1)\n",
        "print('stack_axis1 shape =', stack1.shape)\n",
        "print('')\n",
        "stack2=np.stack(a, axis=2)\n",
        "print('stack_axis2 =', stack2)\n",
        "print('stack_axis2 shape =', stack2.shape)"
      ],
      "execution_count": 226,
      "outputs": [
        {
          "output_type": "stream",
          "text": [
            "before stacking= [[[ 0  1  2  3]\n",
            "  [ 4  5  6  7]\n",
            "  [ 8  9 10 11]]\n",
            "\n",
            " [[12 13 14 15]\n",
            "  [16 17 18 19]\n",
            "  [20 21 22 23]]]\n",
            "stack_axis0 = [[[ 0  1  2  3]\n",
            "  [ 4  5  6  7]\n",
            "  [ 8  9 10 11]]\n",
            "\n",
            " [[12 13 14 15]\n",
            "  [16 17 18 19]\n",
            "  [20 21 22 23]]]\n",
            "stack_axis0 shape = (2, 3, 4)\n",
            "\n",
            "stack_axis1 = [[[ 0  1  2  3]\n",
            "  [12 13 14 15]]\n",
            "\n",
            " [[ 4  5  6  7]\n",
            "  [16 17 18 19]]\n",
            "\n",
            " [[ 8  9 10 11]\n",
            "  [20 21 22 23]]]\n",
            "stack_axis1 shape = (3, 2, 4)\n",
            "\n",
            "stack_axis2 = [[[ 0 12]\n",
            "  [ 1 13]\n",
            "  [ 2 14]\n",
            "  [ 3 15]]\n",
            "\n",
            " [[ 4 16]\n",
            "  [ 5 17]\n",
            "  [ 6 18]\n",
            "  [ 7 19]]\n",
            "\n",
            " [[ 8 20]\n",
            "  [ 9 21]\n",
            "  [10 22]\n",
            "  [11 23]]]\n",
            "stack_axis2 shape = (3, 4, 2)\n"
          ],
          "name": "stdout"
        }
      ]
    },
    {
      "cell_type": "markdown",
      "metadata": {
        "id": "5Udpqe-wWVrA"
      },
      "source": [
        "2D stack is like transpose"
      ]
    },
    {
      "cell_type": "code",
      "metadata": {
        "id": "c34F4tIcUKXI",
        "colab": {
          "base_uri": "https://localhost:8080/"
        },
        "outputId": "2022fc1a-484a-426d-db76-a4e1ef726769"
      },
      "source": [
        "a = np.arange(12)\n",
        "a.shape=(3,4)\n",
        "a"
      ],
      "execution_count": 227,
      "outputs": [
        {
          "output_type": "execute_result",
          "data": {
            "text/plain": [
              "array([[ 0,  1,  2,  3],\n",
              "       [ 4,  5,  6,  7],\n",
              "       [ 8,  9, 10, 11]])"
            ]
          },
          "metadata": {
            "tags": []
          },
          "execution_count": 227
        }
      ]
    },
    {
      "cell_type": "code",
      "metadata": {
        "id": "p67WVo4jUpee",
        "colab": {
          "base_uri": "https://localhost:8080/"
        },
        "outputId": "17009639-bb92-4b89-d3f1-0ff9fea79d3b"
      },
      "source": [
        "a1=np.stack(a, axis=1)\n",
        "a1"
      ],
      "execution_count": 228,
      "outputs": [
        {
          "output_type": "execute_result",
          "data": {
            "text/plain": [
              "array([[ 0,  4,  8],\n",
              "       [ 1,  5,  9],\n",
              "       [ 2,  6, 10],\n",
              "       [ 3,  7, 11]])"
            ]
          },
          "metadata": {
            "tags": []
          },
          "execution_count": 228
        }
      ]
    },
    {
      "cell_type": "markdown",
      "metadata": {
        "id": "JxzLrfROhRus"
      },
      "source": [
        "Split"
      ]
    },
    {
      "cell_type": "code",
      "metadata": {
        "id": "XwQ5hheDhWnB",
        "colab": {
          "base_uri": "https://localhost:8080/"
        },
        "outputId": "a98bcc98-3624-4d54-feef-2e75d60a234c"
      },
      "source": [
        "print(a)\n",
        "a2 = np.split(a, 2, axis=1)\n",
        "a2"
      ],
      "execution_count": 229,
      "outputs": [
        {
          "output_type": "stream",
          "text": [
            "[[ 0  1  2  3]\n",
            " [ 4  5  6  7]\n",
            " [ 8  9 10 11]]\n"
          ],
          "name": "stdout"
        },
        {
          "output_type": "execute_result",
          "data": {
            "text/plain": [
              "[array([[0, 1],\n",
              "        [4, 5],\n",
              "        [8, 9]]), array([[ 2,  3],\n",
              "        [ 6,  7],\n",
              "        [10, 11]])]"
            ]
          },
          "metadata": {
            "tags": []
          },
          "execution_count": 229
        }
      ]
    },
    {
      "cell_type": "markdown",
      "metadata": {
        "id": "6dNnCOMIdaoP"
      },
      "source": [
        "### Flipping, tranposing, tiling and repeating"
      ]
    },
    {
      "cell_type": "code",
      "metadata": {
        "id": "B7r1SYMPdrjv",
        "colab": {
          "base_uri": "https://localhost:8080/"
        },
        "outputId": "6ff303e6-e60f-4777-ef30-cda422d3822c"
      },
      "source": [
        "#flip left right\n",
        "a_3x4_nparray = np.arange(12).reshape((3,4))\n",
        "a_3x4_nparray"
      ],
      "execution_count": 230,
      "outputs": [
        {
          "output_type": "execute_result",
          "data": {
            "text/plain": [
              "array([[ 0,  1,  2,  3],\n",
              "       [ 4,  5,  6,  7],\n",
              "       [ 8,  9, 10, 11]])"
            ]
          },
          "metadata": {
            "tags": []
          },
          "execution_count": 230
        }
      ]
    },
    {
      "cell_type": "code",
      "metadata": {
        "id": "-x2Q-H6eeOem",
        "colab": {
          "base_uri": "https://localhost:8080/"
        },
        "outputId": "f2545de9-edf7-4bfb-b762-163922d85f1b"
      },
      "source": [
        "np.fliplr(a_3x4_nparray)"
      ],
      "execution_count": 231,
      "outputs": [
        {
          "output_type": "execute_result",
          "data": {
            "text/plain": [
              "array([[ 3,  2,  1,  0],\n",
              "       [ 7,  6,  5,  4],\n",
              "       [11, 10,  9,  8]])"
            ]
          },
          "metadata": {
            "tags": []
          },
          "execution_count": 231
        }
      ]
    },
    {
      "cell_type": "code",
      "metadata": {
        "id": "14u-dtYGelgn",
        "colab": {
          "base_uri": "https://localhost:8080/"
        },
        "outputId": "9c87cecf-d1a0-4f43-a4a0-6cd616d46f66"
      },
      "source": [
        "a_2x3x2_nparray = np.arange(12).reshape((2,3,2))\n",
        "a_2x3x2_nparray"
      ],
      "execution_count": 232,
      "outputs": [
        {
          "output_type": "execute_result",
          "data": {
            "text/plain": [
              "array([[[ 0,  1],\n",
              "        [ 2,  3],\n",
              "        [ 4,  5]],\n",
              "\n",
              "       [[ 6,  7],\n",
              "        [ 8,  9],\n",
              "        [10, 11]]])"
            ]
          },
          "metadata": {
            "tags": []
          },
          "execution_count": 232
        }
      ]
    },
    {
      "cell_type": "code",
      "metadata": {
        "id": "x2psDM5We61N",
        "colab": {
          "base_uri": "https://localhost:8080/"
        },
        "outputId": "4c191a60-571b-434e-e39e-e3498e524e28"
      },
      "source": [
        "np.fliplr(a_2x3x2_nparray)  # flip \"last index\""
      ],
      "execution_count": 233,
      "outputs": [
        {
          "output_type": "execute_result",
          "data": {
            "text/plain": [
              "array([[[ 4,  5],\n",
              "        [ 2,  3],\n",
              "        [ 0,  1]],\n",
              "\n",
              "       [[10, 11],\n",
              "        [ 8,  9],\n",
              "        [ 6,  7]]])"
            ]
          },
          "metadata": {
            "tags": []
          },
          "execution_count": 233
        }
      ]
    },
    {
      "cell_type": "code",
      "metadata": {
        "id": "Y7-zmyovfSRA",
        "colab": {
          "base_uri": "https://localhost:8080/"
        },
        "outputId": "5a9db665-d848-43d2-a297-b3b5d9c8580a"
      },
      "source": [
        "# flip up and down\n",
        "np.flipud(a_3x4_nparray)"
      ],
      "execution_count": 234,
      "outputs": [
        {
          "output_type": "execute_result",
          "data": {
            "text/plain": [
              "array([[ 8,  9, 10, 11],\n",
              "       [ 4,  5,  6,  7],\n",
              "       [ 0,  1,  2,  3]])"
            ]
          },
          "metadata": {
            "tags": []
          },
          "execution_count": 234
        }
      ]
    },
    {
      "cell_type": "code",
      "metadata": {
        "id": "VHKRh49ufo7n",
        "colab": {
          "base_uri": "https://localhost:8080/"
        },
        "outputId": "97a26258-52c6-4365-f0b0-d216d0afecd7"
      },
      "source": [
        "np.flipud(a_2x3x2_nparray) # index axis 0"
      ],
      "execution_count": 235,
      "outputs": [
        {
          "output_type": "execute_result",
          "data": {
            "text/plain": [
              "array([[[ 6,  7],\n",
              "        [ 8,  9],\n",
              "        [10, 11]],\n",
              "\n",
              "       [[ 0,  1],\n",
              "        [ 2,  3],\n",
              "        [ 4,  5]]])"
            ]
          },
          "metadata": {
            "tags": []
          },
          "execution_count": 235
        }
      ]
    },
    {
      "cell_type": "code",
      "metadata": {
        "id": "vu7IwNONgctr",
        "colab": {
          "base_uri": "https://localhost:8080/"
        },
        "outputId": "4cf29d0c-b5e9-4ca0-cd37-1504504569c4"
      },
      "source": [
        "# move tail to head\n",
        "np.roll(a_3x4_nparray, 2)"
      ],
      "execution_count": 236,
      "outputs": [
        {
          "output_type": "execute_result",
          "data": {
            "text/plain": [
              "array([[10, 11,  0,  1],\n",
              "       [ 2,  3,  4,  5],\n",
              "       [ 6,  7,  8,  9]])"
            ]
          },
          "metadata": {
            "tags": []
          },
          "execution_count": 236
        }
      ]
    },
    {
      "cell_type": "code",
      "metadata": {
        "id": "_mISkkSIgt1K",
        "colab": {
          "base_uri": "https://localhost:8080/"
        },
        "outputId": "31d07704-6295-4ad2-e825-9d05a7a0c18a"
      },
      "source": [
        "# move head to tail\n",
        "np.roll(a_3x4_nparray, -3)"
      ],
      "execution_count": 237,
      "outputs": [
        {
          "output_type": "execute_result",
          "data": {
            "text/plain": [
              "array([[ 3,  4,  5,  6],\n",
              "       [ 7,  8,  9, 10],\n",
              "       [11,  0,  1,  2]])"
            ]
          },
          "metadata": {
            "tags": []
          },
          "execution_count": 237
        }
      ]
    },
    {
      "cell_type": "code",
      "metadata": {
        "id": "fe-L1t3Ug5pC",
        "colab": {
          "base_uri": "https://localhost:8080/"
        },
        "outputId": "78452079-15af-419d-88f7-ae4b43a6a9eb"
      },
      "source": [
        "np.roll(a_2x3x2_nparray, 2)"
      ],
      "execution_count": 238,
      "outputs": [
        {
          "output_type": "execute_result",
          "data": {
            "text/plain": [
              "array([[[10, 11],\n",
              "        [ 0,  1],\n",
              "        [ 2,  3]],\n",
              "\n",
              "       [[ 4,  5],\n",
              "        [ 6,  7],\n",
              "        [ 8,  9]]])"
            ]
          },
          "metadata": {
            "tags": []
          },
          "execution_count": 238
        }
      ]
    },
    {
      "cell_type": "code",
      "metadata": {
        "id": "EaywzTJwhDZG",
        "colab": {
          "base_uri": "https://localhost:8080/"
        },
        "outputId": "a795595b-cc39-4f6b-a98e-8288ce3f2118"
      },
      "source": [
        "np.rot90(a_3x4_nparray) #counter clock wise is positive rotate"
      ],
      "execution_count": 239,
      "outputs": [
        {
          "output_type": "execute_result",
          "data": {
            "text/plain": [
              "array([[ 3,  7, 11],\n",
              "       [ 2,  6, 10],\n",
              "       [ 1,  5,  9],\n",
              "       [ 0,  4,  8]])"
            ]
          },
          "metadata": {
            "tags": []
          },
          "execution_count": 239
        }
      ]
    },
    {
      "cell_type": "code",
      "metadata": {
        "id": "EOUDma6ZhUPS",
        "colab": {
          "base_uri": "https://localhost:8080/"
        },
        "outputId": "d724f286-9977-4069-8497-1df21092e43a"
      },
      "source": [
        "np.rot90(a_3x4_nparray, -1) #clock wise rotate"
      ],
      "execution_count": 240,
      "outputs": [
        {
          "output_type": "execute_result",
          "data": {
            "text/plain": [
              "array([[ 8,  4,  0],\n",
              "       [ 9,  5,  1],\n",
              "       [10,  6,  2],\n",
              "       [11,  7,  3]])"
            ]
          },
          "metadata": {
            "tags": []
          },
          "execution_count": 240
        }
      ]
    },
    {
      "cell_type": "code",
      "metadata": {
        "id": "M4IJy8K7hb35",
        "colab": {
          "base_uri": "https://localhost:8080/"
        },
        "outputId": "2b7a4ef4-3124-4e37-b0a9-3693a3278971"
      },
      "source": [
        "np.rot90(a_2x3x2_nparray, 1, axes=(0,2)) # define an axe for it to rota"
      ],
      "execution_count": 241,
      "outputs": [
        {
          "output_type": "execute_result",
          "data": {
            "text/plain": [
              "array([[[ 1,  7],\n",
              "        [ 3,  9],\n",
              "        [ 5, 11]],\n",
              "\n",
              "       [[ 0,  6],\n",
              "        [ 2,  8],\n",
              "        [ 4, 10]]])"
            ]
          },
          "metadata": {
            "tags": []
          },
          "execution_count": 241
        }
      ]
    },
    {
      "cell_type": "code",
      "metadata": {
        "id": "QbcU8n-bhx4L",
        "colab": {
          "base_uri": "https://localhost:8080/"
        },
        "outputId": "800af3ba-b54a-45fc-dabc-483cd55e1c0c"
      },
      "source": [
        "# 1-d array won't transpose\n",
        "np.transpose(a_3x4_nparray)"
      ],
      "execution_count": 242,
      "outputs": [
        {
          "output_type": "execute_result",
          "data": {
            "text/plain": [
              "array([[ 0,  4,  8],\n",
              "       [ 1,  5,  9],\n",
              "       [ 2,  6, 10],\n",
              "       [ 3,  7, 11]])"
            ]
          },
          "metadata": {
            "tags": []
          },
          "execution_count": 242
        }
      ]
    },
    {
      "cell_type": "code",
      "metadata": {
        "id": "7dn5qNJFh-Bb",
        "colab": {
          "base_uri": "https://localhost:8080/"
        },
        "outputId": "432e63fa-8872-49ca-c816-e054a8057e28"
      },
      "source": [
        "np.transpose(a_2x3x2_nparray, axes=(0,2,1))"
      ],
      "execution_count": 243,
      "outputs": [
        {
          "output_type": "execute_result",
          "data": {
            "text/plain": [
              "array([[[ 0,  2,  4],\n",
              "        [ 1,  3,  5]],\n",
              "\n",
              "       [[ 6,  8, 10],\n",
              "        [ 7,  9, 11]]])"
            ]
          },
          "metadata": {
            "tags": []
          },
          "execution_count": 243
        }
      ]
    },
    {
      "cell_type": "code",
      "metadata": {
        "id": "93g5ci_NiNAh",
        "colab": {
          "base_uri": "https://localhost:8080/"
        },
        "outputId": "2c512522-dc0f-402f-e28c-4778cffb0744"
      },
      "source": [
        "np.swapaxes(a_2x3x2_nparray, 0,2)"
      ],
      "execution_count": 244,
      "outputs": [
        {
          "output_type": "execute_result",
          "data": {
            "text/plain": [
              "array([[[ 0,  6],\n",
              "        [ 2,  8],\n",
              "        [ 4, 10]],\n",
              "\n",
              "       [[ 1,  7],\n",
              "        [ 3,  9],\n",
              "        [ 5, 11]]])"
            ]
          },
          "metadata": {
            "tags": []
          },
          "execution_count": 244
        }
      ]
    },
    {
      "cell_type": "code",
      "metadata": {
        "id": "2_yOSGvnlJvq",
        "colab": {
          "base_uri": "https://localhost:8080/"
        },
        "outputId": "e9320848-c344-4929-bff9-697e90616563"
      },
      "source": [
        "my_start_array = np.array(np.arange(5))\n",
        "npvector=np.tile(my_start_array, 3)\n",
        "npvector"
      ],
      "execution_count": 245,
      "outputs": [
        {
          "output_type": "execute_result",
          "data": {
            "text/plain": [
              "array([0, 1, 2, 3, 4, 0, 1, 2, 3, 4, 0, 1, 2, 3, 4])"
            ]
          },
          "metadata": {
            "tags": []
          },
          "execution_count": 245
        }
      ]
    },
    {
      "cell_type": "code",
      "metadata": {
        "id": "Qo-vOCpEmxjk",
        "colab": {
          "base_uri": "https://localhost:8080/"
        },
        "outputId": "9f9f10e6-8db6-4369-de32-c85b10496dfd"
      },
      "source": [
        "np2d=np.tile(npvector,(3,1))\n",
        "np2d.shape"
      ],
      "execution_count": 246,
      "outputs": [
        {
          "output_type": "execute_result",
          "data": {
            "text/plain": [
              "(3, 15)"
            ]
          },
          "metadata": {
            "tags": []
          },
          "execution_count": 246
        }
      ]
    },
    {
      "cell_type": "code",
      "metadata": {
        "id": "1x6_HkbAnl_e",
        "colab": {
          "base_uri": "https://localhost:8080/"
        },
        "outputId": "66517625-a929-4a78-b255-6400261cd27f"
      },
      "source": [
        "np.tile(np2d, (2,2)).shape"
      ],
      "execution_count": 247,
      "outputs": [
        {
          "output_type": "execute_result",
          "data": {
            "text/plain": [
              "(6, 30)"
            ]
          },
          "metadata": {
            "tags": []
          },
          "execution_count": 247
        }
      ]
    },
    {
      "cell_type": "code",
      "metadata": {
        "id": "Xk8UHyNzXy7T",
        "colab": {
          "base_uri": "https://localhost:8080/"
        },
        "outputId": "951274e8-5cc4-48c5-ecda-586ce7a2808c"
      },
      "source": [
        "# simpler tile example\n",
        "my_checker_board = np.tile( np.array([[0,1],[1,0]]), (4,4))\n",
        "print(my_checker_board)"
      ],
      "execution_count": 248,
      "outputs": [
        {
          "output_type": "stream",
          "text": [
            "[[0 1 0 1 0 1 0 1]\n",
            " [1 0 1 0 1 0 1 0]\n",
            " [0 1 0 1 0 1 0 1]\n",
            " [1 0 1 0 1 0 1 0]\n",
            " [0 1 0 1 0 1 0 1]\n",
            " [1 0 1 0 1 0 1 0]\n",
            " [0 1 0 1 0 1 0 1]\n",
            " [1 0 1 0 1 0 1 0]]\n"
          ],
          "name": "stdout"
        }
      ]
    },
    {
      "cell_type": "code",
      "metadata": {
        "id": "uv5gUtKxoYhr",
        "colab": {
          "base_uri": "https://localhost:8080/"
        },
        "outputId": "add028ed-51a1-46b9-d425-4a0430fc48aa"
      },
      "source": [
        "print(my_start_array)\n",
        "np.repeat(my_start_array, 3)"
      ],
      "execution_count": 249,
      "outputs": [
        {
          "output_type": "stream",
          "text": [
            "[0 1 2 3 4]\n"
          ],
          "name": "stdout"
        },
        {
          "output_type": "execute_result",
          "data": {
            "text/plain": [
              "array([0, 0, 0, 1, 1, 1, 2, 2, 2, 3, 3, 3, 4, 4, 4])"
            ]
          },
          "metadata": {
            "tags": []
          },
          "execution_count": 249
        }
      ]
    },
    {
      "cell_type": "code",
      "metadata": {
        "id": "hvVbTvlnow75",
        "colab": {
          "base_uri": "https://localhost:8080/"
        },
        "outputId": "12962b5d-70d5-45db-9d45-28287c4bda0e"
      },
      "source": [
        "np.repeat(np2d, 2, axis=1)"
      ],
      "execution_count": 250,
      "outputs": [
        {
          "output_type": "execute_result",
          "data": {
            "text/plain": [
              "array([[0, 0, 1, 1, 2, 2, 3, 3, 4, 4, 0, 0, 1, 1, 2, 2, 3, 3, 4, 4, 0, 0,\n",
              "        1, 1, 2, 2, 3, 3, 4, 4],\n",
              "       [0, 0, 1, 1, 2, 2, 3, 3, 4, 4, 0, 0, 1, 1, 2, 2, 3, 3, 4, 4, 0, 0,\n",
              "        1, 1, 2, 2, 3, 3, 4, 4],\n",
              "       [0, 0, 1, 1, 2, 2, 3, 3, 4, 4, 0, 0, 1, 1, 2, 2, 3, 3, 4, 4, 0, 0,\n",
              "        1, 1, 2, 2, 3, 3, 4, 4]])"
            ]
          },
          "metadata": {
            "tags": []
          },
          "execution_count": 250
        }
      ]
    },
    {
      "cell_type": "markdown",
      "metadata": {
        "id": "AHYH1Dl1Lq7Q"
      },
      "source": [
        "## boolean mask array"
      ]
    },
    {
      "cell_type": "code",
      "metadata": {
        "id": "obsh-4pBK_ft",
        "colab": {
          "base_uri": "https://localhost:8080/"
        },
        "outputId": "4a614d4d-0b38-490a-e00c-c148e2aee4dc"
      },
      "source": [
        "nparray"
      ],
      "execution_count": 251,
      "outputs": [
        {
          "output_type": "execute_result",
          "data": {
            "text/plain": [
              "array([ 70,  90, 110, 130, 150, 170, 190, 210, 230, 250])"
            ]
          },
          "metadata": {
            "tags": []
          },
          "execution_count": 251
        }
      ]
    },
    {
      "cell_type": "code",
      "metadata": {
        "id": "K-sFlnxdMB0k",
        "colab": {
          "base_uri": "https://localhost:8080/"
        },
        "outputId": "ec91671d-6b4d-4c75-adfc-6ddd14b9d393"
      },
      "source": [
        "can_div_35_mask = 0 == (nparray % 35)\n",
        "can_div_35_mask"
      ],
      "execution_count": 252,
      "outputs": [
        {
          "output_type": "execute_result",
          "data": {
            "text/plain": [
              "array([ True, False, False, False, False, False, False,  True, False,\n",
              "       False])"
            ]
          },
          "metadata": {
            "tags": []
          },
          "execution_count": 252
        }
      ]
    },
    {
      "cell_type": "code",
      "metadata": {
        "id": "SQFZhmMzMVnL",
        "colab": {
          "base_uri": "https://localhost:8080/"
        },
        "outputId": "6246d61d-d427-426d-ad26-c956c460afb8"
      },
      "source": [
        "filtered_nparray = nparray[can_div_35_mask]\n",
        "filtered_nparray"
      ],
      "execution_count": 253,
      "outputs": [
        {
          "output_type": "execute_result",
          "data": {
            "text/plain": [
              "array([ 70, 210])"
            ]
          },
          "metadata": {
            "tags": []
          },
          "execution_count": 253
        }
      ]
    },
    {
      "cell_type": "code",
      "metadata": {
        "id": "g-UY3kvfMz3H",
        "colab": {
          "base_uri": "https://localhost:8080/"
        },
        "outputId": "214d36f1-d619-4cf8-872a-a034859c4470"
      },
      "source": [
        "further_filtered_nparray=filtered_nparray[filtered_nparray>70]\n",
        "further_filtered_nparray"
      ],
      "execution_count": 254,
      "outputs": [
        {
          "output_type": "execute_result",
          "data": {
            "text/plain": [
              "array([210])"
            ]
          },
          "metadata": {
            "tags": []
          },
          "execution_count": 254
        }
      ]
    },
    {
      "cell_type": "code",
      "metadata": {
        "id": "6JybD6okNTOJ",
        "colab": {
          "base_uri": "https://localhost:8080/"
        },
        "outputId": "fb646f92-9df9-4c20-c95a-deec7153aae6"
      },
      "source": [
        "nparray[nparray>200]  #simpler filter"
      ],
      "execution_count": 255,
      "outputs": [
        {
          "output_type": "execute_result",
          "data": {
            "text/plain": [
              "array([210, 230, 250])"
            ]
          },
          "metadata": {
            "tags": []
          },
          "execution_count": 255
        }
      ]
    },
    {
      "cell_type": "code",
      "metadata": {
        "id": "VodhWrDGtS-K",
        "colab": {
          "base_uri": "https://localhost:8080/"
        },
        "outputId": "f672f1b6-7d86-467f-9199-c601af1869a7"
      },
      "source": [
        "can_div_15_mask = 0 == (nparray % 15)\n",
        "print(can_div_15_mask)\n",
        "print(can_div_35_mask)"
      ],
      "execution_count": 256,
      "outputs": [
        {
          "output_type": "stream",
          "text": [
            "[False  True False False  True False False  True False False]\n",
            "[ True False False False False False False  True False False]\n"
          ],
          "name": "stdout"
        }
      ]
    },
    {
      "cell_type": "code",
      "metadata": {
        "id": "blbBP3SHuk7V",
        "colab": {
          "base_uri": "https://localhost:8080/"
        },
        "outputId": "b936e1c9-e35f-44e5-939d-d4215d786a85"
      },
      "source": [
        "#boolean operator\n",
        "can_div_15_35_mask=np.logical_and(can_div_15_mask, can_div_35_mask)\n",
        "can_div_15_35_mask"
      ],
      "execution_count": 257,
      "outputs": [
        {
          "output_type": "execute_result",
          "data": {
            "text/plain": [
              "array([False, False, False, False, False, False, False,  True, False,\n",
              "       False])"
            ]
          },
          "metadata": {
            "tags": []
          },
          "execution_count": 257
        }
      ]
    },
    {
      "cell_type": "code",
      "metadata": {
        "id": "1LVRR-VzvM3M",
        "colab": {
          "base_uri": "https://localhost:8080/"
        },
        "outputId": "536a4747-4304-468c-9798-5ccd6b78bb84"
      },
      "source": [
        "nparray[can_div_15_35_mask]"
      ],
      "execution_count": 258,
      "outputs": [
        {
          "output_type": "execute_result",
          "data": {
            "text/plain": [
              "array([210])"
            ]
          },
          "metadata": {
            "tags": []
          },
          "execution_count": 258
        }
      ]
    },
    {
      "cell_type": "markdown",
      "metadata": {
        "id": "HcvKNEiNJ3tT"
      },
      "source": [
        "##Deal with Nan"
      ]
    },
    {
      "cell_type": "code",
      "metadata": {
        "id": "Adwtnh4TKEfT",
        "outputId": "9daad509-f085-4a78-8634-8c1badb5c43e",
        "colab": {
          "base_uri": "https://localhost:8080/"
        }
      },
      "source": [
        "# append and insert a nan value to np array\n",
        "npnanarray = np.append(nparray,np.nan)\n",
        "npnanarray = np.insert(npnanarray,3,np.nan, axis=0)\n",
        "npnanarray"
      ],
      "execution_count": 353,
      "outputs": [
        {
          "output_type": "execute_result",
          "data": {
            "text/plain": [
              "array([ 70.,  90., 110.,  nan, 130., 150., 170., 190., 210., 230., 250.,\n",
              "        nan])"
            ]
          },
          "metadata": {
            "tags": []
          },
          "execution_count": 353
        }
      ]
    },
    {
      "cell_type": "code",
      "metadata": {
        "id": "L9iySqYUcPKA",
        "outputId": "ebde8005-c54f-4eb2-9b87-ecf43573b52d",
        "colab": {
          "base_uri": "https://localhost:8080/"
        }
      },
      "source": [
        "npbool = np.isnan(npnanarray)\n",
        "npbool"
      ],
      "execution_count": 349,
      "outputs": [
        {
          "output_type": "execute_result",
          "data": {
            "text/plain": [
              "array([False, False, False,  True, False, False, False, False, False,\n",
              "       False, False,  True])"
            ]
          },
          "metadata": {
            "tags": []
          },
          "execution_count": 349
        }
      ]
    },
    {
      "cell_type": "code",
      "metadata": {
        "id": "QtC4HACsNjEO",
        "outputId": "2bb08243-22b2-4fb0-eb34-71ad7d198c92",
        "colab": {
          "base_uri": "https://localhost:8080/"
        }
      },
      "source": [
        "# for pandas Series, isnull() function works the same\n",
        "import pandas as pd\n",
        "pdSeries = pd.Series(npnanarray)\n",
        "pdSeries"
      ],
      "execution_count": 350,
      "outputs": [
        {
          "output_type": "execute_result",
          "data": {
            "text/plain": [
              "0      70.0\n",
              "1      90.0\n",
              "2     110.0\n",
              "3       NaN\n",
              "4     130.0\n",
              "5     150.0\n",
              "6     170.0\n",
              "7     190.0\n",
              "8     210.0\n",
              "9     230.0\n",
              "10    250.0\n",
              "11      NaN\n",
              "dtype: float64"
            ]
          },
          "metadata": {
            "tags": []
          },
          "execution_count": 350
        }
      ]
    },
    {
      "cell_type": "code",
      "metadata": {
        "id": "EBP87QTUb3uL",
        "outputId": "5c43ef5c-ebbe-4658-a07b-3bab45b2ba53",
        "colab": {
          "base_uri": "https://localhost:8080/"
        }
      },
      "source": [
        "pdSeries.isnull() # .sum() will count the nan number"
      ],
      "execution_count": 351,
      "outputs": [
        {
          "output_type": "execute_result",
          "data": {
            "text/plain": [
              "0     False\n",
              "1     False\n",
              "2     False\n",
              "3      True\n",
              "4     False\n",
              "5     False\n",
              "6     False\n",
              "7     False\n",
              "8     False\n",
              "9     False\n",
              "10    False\n",
              "11     True\n",
              "dtype: bool"
            ]
          },
          "metadata": {
            "tags": []
          },
          "execution_count": 351
        }
      ]
    },
    {
      "cell_type": "code",
      "metadata": {
        "id": "qUyGtB4vfOvY",
        "outputId": "cb62e56f-9037-42a7-e8d6-9d65189df73d",
        "colab": {
          "base_uri": "https://localhost:8080/"
        }
      },
      "source": [
        "# back to numpy array, replace nan with a value\n",
        "npnanarray2 = np.nan_to_num(npnanarray,nan=1)\n",
        "npnanarray2"
      ],
      "execution_count": 354,
      "outputs": [
        {
          "output_type": "execute_result",
          "data": {
            "text/plain": [
              "array([ 70.,  90., 110.,   1., 130., 150., 170., 190., 210., 230., 250.,\n",
              "         1.])"
            ]
          },
          "metadata": {
            "tags": []
          },
          "execution_count": 354
        }
      ]
    },
    {
      "cell_type": "code",
      "metadata": {
        "id": "38Kf1L0ufkAY",
        "outputId": "96c6d169-6449-4d48-b770-116475177055",
        "colab": {
          "base_uri": "https://localhost:8080/"
        }
      },
      "source": [
        "# for pandas series fillna()\n",
        "print(pdSeries.fillna(1)) # there is always method=ffill or bfill\n",
        "print(pdSeries.fillna(method=\"ffill\"))"
      ],
      "execution_count": 359,
      "outputs": [
        {
          "output_type": "stream",
          "text": [
            "0      70.0\n",
            "1      90.0\n",
            "2     110.0\n",
            "3       1.0\n",
            "4     130.0\n",
            "5     150.0\n",
            "6     170.0\n",
            "7     190.0\n",
            "8     210.0\n",
            "9     230.0\n",
            "10    250.0\n",
            "11      1.0\n",
            "dtype: float64\n",
            "0      70.0\n",
            "1      90.0\n",
            "2     110.0\n",
            "3     110.0\n",
            "4     130.0\n",
            "5     150.0\n",
            "6     170.0\n",
            "7     190.0\n",
            "8     210.0\n",
            "9     230.0\n",
            "10    250.0\n",
            "11    250.0\n",
            "dtype: float64\n"
          ],
          "name": "stdout"
        }
      ]
    },
    {
      "cell_type": "markdown",
      "metadata": {
        "id": "v5G3ClxKyfGe"
      },
      "source": [
        "## Broadcasting"
      ]
    },
    {
      "cell_type": "code",
      "metadata": {
        "id": "N98EamwFvbOD",
        "colab": {
          "base_uri": "https://localhost:8080/"
        },
        "outputId": "acbb0b9a-f7c4-4880-fa86-6af272ba5918"
      },
      "source": [
        "array_3d = np.arange(70)\n",
        "array_3d.shape=(2,7,5)\n",
        "array_3d"
      ],
      "execution_count": 265,
      "outputs": [
        {
          "output_type": "execute_result",
          "data": {
            "text/plain": [
              "array([[[ 0,  1,  2,  3,  4],\n",
              "        [ 5,  6,  7,  8,  9],\n",
              "        [10, 11, 12, 13, 14],\n",
              "        [15, 16, 17, 18, 19],\n",
              "        [20, 21, 22, 23, 24],\n",
              "        [25, 26, 27, 28, 29],\n",
              "        [30, 31, 32, 33, 34]],\n",
              "\n",
              "       [[35, 36, 37, 38, 39],\n",
              "        [40, 41, 42, 43, 44],\n",
              "        [45, 46, 47, 48, 49],\n",
              "        [50, 51, 52, 53, 54],\n",
              "        [55, 56, 57, 58, 59],\n",
              "        [60, 61, 62, 63, 64],\n",
              "        [65, 66, 67, 68, 69]]])"
            ]
          },
          "metadata": {
            "tags": []
          },
          "execution_count": 265
        }
      ]
    },
    {
      "cell_type": "markdown",
      "metadata": {
        "id": "dKmgGjQQdzSE"
      },
      "source": [
        "In the context of deep learning, we also use some less conventional notation. We allow the addition of matrix and a vector, yielding another matrix: C = A + b, where Ci,j = Ai,j + bj. In other words, the vector b is added to each row of the matrix. This shorthand eliminates the need to define a matrix with b copied into each row before doing the addition. This implicit copying of b to many locations is called broadcasting."
      ]
    },
    {
      "cell_type": "code",
      "metadata": {
        "id": "aCz1aPu_ywi-",
        "colab": {
          "base_uri": "https://localhost:8080/"
        },
        "outputId": "f3c3486c-1a89-4dd4-b1d7-b52698b624df"
      },
      "source": [
        "x=np.arange(4)\n",
        "xx = x.reshape(4,1)\n",
        "y = np.ones(5)\n",
        "z = np.ones((3,4))\n",
        "print('x=', x)\n",
        "print('')\n",
        "print(\"\\033[1;31;46m reshape from 1x4 to 4x1 \") #color reference from https://ozzmaker.com/add-colour-to-text-in-python/ \n",
        "print(\"\\033[1;31;0m \")\n",
        "print('xx=', xx)\n",
        "print('y=',y)\n",
        "print(y+xx)"
      ],
      "execution_count": 266,
      "outputs": [
        {
          "output_type": "stream",
          "text": [
            "x= [0 1 2 3]\n",
            "\n",
            "\u001b[1;31;46m reshape from 1x4 to 4x1 \n",
            "\u001b[1;31;0m \n",
            "xx= [[0]\n",
            " [1]\n",
            " [2]\n",
            " [3]]\n",
            "y= [1. 1. 1. 1. 1.]\n",
            "[[1. 1. 1. 1. 1.]\n",
            " [2. 2. 2. 2. 2.]\n",
            " [3. 3. 3. 3. 3.]\n",
            " [4. 4. 4. 4. 4.]]\n"
          ],
          "name": "stdout"
        }
      ]
    },
    {
      "cell_type": "code",
      "metadata": {
        "id": "yE8jZr1Na7GB",
        "colab": {
          "base_uri": "https://localhost:8080/"
        },
        "outputId": "08286869-58e4-47b3-a927-d9478aa84507"
      },
      "source": [
        "xx-x"
      ],
      "execution_count": 267,
      "outputs": [
        {
          "output_type": "execute_result",
          "data": {
            "text/plain": [
              "array([[ 0, -1, -2, -3],\n",
              "       [ 1,  0, -1, -2],\n",
              "       [ 2,  1,  0, -1],\n",
              "       [ 3,  2,  1,  0]])"
            ]
          },
          "metadata": {
            "tags": []
          },
          "execution_count": 267
        }
      ]
    },
    {
      "cell_type": "markdown",
      "metadata": {
        "id": "NAMGVGa0jWL1"
      },
      "source": [
        "To not use broadcasting, manual conversion is beow"
      ]
    },
    {
      "cell_type": "code",
      "metadata": {
        "id": "JmpQNtGWZJ6s"
      },
      "source": [
        "x2d=[0, 1, 2, 3]*4\n",
        "x2dnp=np.array(x2d).reshape(4,4)"
      ],
      "execution_count": 268,
      "outputs": []
    },
    {
      "cell_type": "code",
      "metadata": {
        "id": "p0uzit_3Rlho"
      },
      "source": [
        "lista=[0,0,0,0]\n",
        "listb=[1,1,1,1]\n",
        "listc=[2,2,2,2]\n",
        "listd=[3,3,3,3]\n",
        "\n",
        "xx2dnp = np.array(lista+listb+listc+listd).reshape(4,4)"
      ],
      "execution_count": 269,
      "outputs": []
    },
    {
      "cell_type": "code",
      "metadata": {
        "id": "M0qhGuZ2SnY6",
        "colab": {
          "base_uri": "https://localhost:8080/"
        },
        "outputId": "8ea27b2a-3f3d-40d6-c67c-633f886b6427"
      },
      "source": [
        "xx2dnp-x2dnp"
      ],
      "execution_count": 270,
      "outputs": [
        {
          "output_type": "execute_result",
          "data": {
            "text/plain": [
              "array([[ 0, -1, -2, -3],\n",
              "       [ 1,  0, -1, -2],\n",
              "       [ 2,  1,  0, -1],\n",
              "       [ 3,  2,  1,  0]])"
            ]
          },
          "metadata": {
            "tags": []
          },
          "execution_count": 270
        }
      ]
    },
    {
      "cell_type": "markdown",
      "metadata": {
        "id": "5TE1uHiY2wpc"
      },
      "source": [
        "### operations along axis"
      ]
    },
    {
      "cell_type": "code",
      "metadata": {
        "id": "9ODnBvhP2wHm",
        "colab": {
          "base_uri": "https://localhost:8080/"
        },
        "outputId": "5b996d9d-c182-4bfb-c670-2c1dc1f027ae"
      },
      "source": [
        "array_3d"
      ],
      "execution_count": 271,
      "outputs": [
        {
          "output_type": "execute_result",
          "data": {
            "text/plain": [
              "array([[[ 0,  1,  2,  3,  4],\n",
              "        [ 5,  6,  7,  8,  9],\n",
              "        [10, 11, 12, 13, 14],\n",
              "        [15, 16, 17, 18, 19],\n",
              "        [20, 21, 22, 23, 24],\n",
              "        [25, 26, 27, 28, 29],\n",
              "        [30, 31, 32, 33, 34]],\n",
              "\n",
              "       [[35, 36, 37, 38, 39],\n",
              "        [40, 41, 42, 43, 44],\n",
              "        [45, 46, 47, 48, 49],\n",
              "        [50, 51, 52, 53, 54],\n",
              "        [55, 56, 57, 58, 59],\n",
              "        [60, 61, 62, 63, 64],\n",
              "        [65, 66, 67, 68, 69]]])"
            ]
          },
          "metadata": {
            "tags": []
          },
          "execution_count": 271
        }
      ]
    },
    {
      "cell_type": "code",
      "metadata": {
        "id": "umtzvjYQ3Svw",
        "colab": {
          "base_uri": "https://localhost:8080/"
        },
        "outputId": "e6b4e874-b7ff-44c6-ea0f-8d1ff8f201db"
      },
      "source": [
        "array_3d.shape"
      ],
      "execution_count": 272,
      "outputs": [
        {
          "output_type": "execute_result",
          "data": {
            "text/plain": [
              "(2, 7, 5)"
            ]
          },
          "metadata": {
            "tags": []
          },
          "execution_count": 272
        }
      ]
    },
    {
      "cell_type": "code",
      "metadata": {
        "id": "ob83NZoH3Wvx",
        "colab": {
          "base_uri": "https://localhost:8080/"
        },
        "outputId": "45a0c239-c9f4-4dd5-e8d2-5c4fbfe04ecc"
      },
      "source": [
        "array_3d.sum(axis=0) # this is array_3d[0]+array_3d[1]"
      ],
      "execution_count": 273,
      "outputs": [
        {
          "output_type": "execute_result",
          "data": {
            "text/plain": [
              "array([[ 35,  37,  39,  41,  43],\n",
              "       [ 45,  47,  49,  51,  53],\n",
              "       [ 55,  57,  59,  61,  63],\n",
              "       [ 65,  67,  69,  71,  73],\n",
              "       [ 75,  77,  79,  81,  83],\n",
              "       [ 85,  87,  89,  91,  93],\n",
              "       [ 95,  97,  99, 101, 103]])"
            ]
          },
          "metadata": {
            "tags": []
          },
          "execution_count": 273
        }
      ]
    },
    {
      "cell_type": "code",
      "metadata": {
        "id": "j8GSHIMD3oyQ",
        "colab": {
          "base_uri": "https://localhost:8080/"
        },
        "outputId": "bb6dd1c8-7fd6-42ce-89a6-345b085a4926"
      },
      "source": [
        "array_3d.sum(axis=1) # sum of each column (7 elements) (axis is array_3d.shape[1])"
      ],
      "execution_count": 274,
      "outputs": [
        {
          "output_type": "execute_result",
          "data": {
            "text/plain": [
              "array([[105, 112, 119, 126, 133],\n",
              "       [350, 357, 364, 371, 378]])"
            ]
          },
          "metadata": {
            "tags": []
          },
          "execution_count": 274
        }
      ]
    },
    {
      "cell_type": "code",
      "metadata": {
        "id": "saH1pWLG34OZ",
        "colab": {
          "base_uri": "https://localhost:8080/"
        },
        "outputId": "2b030f94-8309-4673-b414-ac757e375d51"
      },
      "source": [
        "array_3d.sum(axis=2) # sum of each row (5 elements) (axis is array_3d.shape[2])"
      ],
      "execution_count": 275,
      "outputs": [
        {
          "output_type": "execute_result",
          "data": {
            "text/plain": [
              "array([[ 10,  35,  60,  85, 110, 135, 160],\n",
              "       [185, 210, 235, 260, 285, 310, 335]])"
            ]
          },
          "metadata": {
            "tags": []
          },
          "execution_count": 275
        }
      ]
    },
    {
      "cell_type": "markdown",
      "metadata": {
        "id": "z44naYse6SOQ"
      },
      "source": [
        "Another example"
      ]
    },
    {
      "cell_type": "code",
      "metadata": {
        "id": "c1HjWHoW4VXp",
        "colab": {
          "base_uri": "https://localhost:8080/"
        },
        "outputId": "797f08c5-2273-4dd1-b8d3-2e173387f09e"
      },
      "source": [
        "array2d_a = np.arange(35, dtype=int).reshape(5,7)\n",
        "array2d_b = np.ones((5,7), dtype=float)*7\n",
        "array2d_a + array2d_b #the result would be float"
      ],
      "execution_count": 276,
      "outputs": [
        {
          "output_type": "execute_result",
          "data": {
            "text/plain": [
              "array([[ 7.,  8.,  9., 10., 11., 12., 13.],\n",
              "       [14., 15., 16., 17., 18., 19., 20.],\n",
              "       [21., 22., 23., 24., 25., 26., 27.],\n",
              "       [28., 29., 30., 31., 32., 33., 34.],\n",
              "       [35., 36., 37., 38., 39., 40., 41.]])"
            ]
          },
          "metadata": {
            "tags": []
          },
          "execution_count": 276
        }
      ]
    },
    {
      "cell_type": "code",
      "metadata": {
        "id": "Kb3nP5Ts61xX",
        "colab": {
          "base_uri": "https://localhost:8080/"
        },
        "outputId": "c031f795-f704-4d5d-cf1e-2b1bf7eb5e0d"
      },
      "source": [
        "Vector1 = np.random.random(7)\n",
        "np.set_printoptions(precision=4)\n",
        "Vector1"
      ],
      "execution_count": 277,
      "outputs": [
        {
          "output_type": "execute_result",
          "data": {
            "text/plain": [
              "array([0.2811, 0.3561, 0.4455, 0.1985, 0.9861, 0.3887, 0.2685])"
            ]
          },
          "metadata": {
            "tags": []
          },
          "execution_count": 277
        }
      ]
    },
    {
      "cell_type": "code",
      "metadata": {
        "id": "Qw9JMdBb8fws",
        "colab": {
          "base_uri": "https://localhost:8080/"
        },
        "outputId": "0a651ee9-f34d-4bb7-a817-a75668a0b6c8"
      },
      "source": [
        "array2d_a + array2d_b + Vector1"
      ],
      "execution_count": 278,
      "outputs": [
        {
          "output_type": "execute_result",
          "data": {
            "text/plain": [
              "array([[ 7.2811,  8.3561,  9.4455, 10.1985, 11.9861, 12.3887, 13.2685],\n",
              "       [14.2811, 15.3561, 16.4455, 17.1985, 18.9861, 19.3887, 20.2685],\n",
              "       [21.2811, 22.3561, 23.4455, 24.1985, 25.9861, 26.3887, 27.2685],\n",
              "       [28.2811, 29.3561, 30.4455, 31.1985, 32.9861, 33.3887, 34.2685],\n",
              "       [35.2811, 36.3561, 37.4455, 38.1985, 39.9861, 40.3887, 41.2685]])"
            ]
          },
          "metadata": {
            "tags": []
          },
          "execution_count": 278
        }
      ]
    },
    {
      "cell_type": "code",
      "metadata": {
        "id": "6vNv6UE_881w",
        "colab": {
          "base_uri": "https://localhost:8080/"
        },
        "outputId": "2216df36-25cb-4e23-a041-066cd0519285"
      },
      "source": [
        "Vector2 = np.random.random(5)\n",
        "Vector2"
      ],
      "execution_count": 279,
      "outputs": [
        {
          "output_type": "execute_result",
          "data": {
            "text/plain": [
              "array([0.2936, 0.6771, 0.9231, 0.0313, 0.5663])"
            ]
          },
          "metadata": {
            "tags": []
          },
          "execution_count": 279
        }
      ]
    },
    {
      "cell_type": "code",
      "metadata": {
        "id": "j4oJMeZ79Okx",
        "colab": {
          "base_uri": "https://localhost:8080/"
        },
        "outputId": "048f70c1-8f4f-4411-9a18-e9d81e3e9c21"
      },
      "source": [
        "Vector2 = np.random.random((5,1))*10\n",
        "Vector2"
      ],
      "execution_count": 280,
      "outputs": [
        {
          "output_type": "execute_result",
          "data": {
            "text/plain": [
              "array([[7.5461],\n",
              "       [6.7819],\n",
              "       [0.9007],\n",
              "       [1.0625],\n",
              "       [5.8546]])"
            ]
          },
          "metadata": {
            "tags": []
          },
          "execution_count": 280
        }
      ]
    },
    {
      "cell_type": "code",
      "metadata": {
        "id": "suQn3Lu59U4b",
        "colab": {
          "base_uri": "https://localhost:8080/"
        },
        "outputId": "451ad445-0ba3-4c77-fae0-3f6aa64aded6"
      },
      "source": [
        "array2d_a + array2d_b + Vector2"
      ],
      "execution_count": 281,
      "outputs": [
        {
          "output_type": "execute_result",
          "data": {
            "text/plain": [
              "array([[14.5461, 15.5461, 16.5461, 17.5461, 18.5461, 19.5461, 20.5461],\n",
              "       [20.7819, 21.7819, 22.7819, 23.7819, 24.7819, 25.7819, 26.7819],\n",
              "       [21.9007, 22.9007, 23.9007, 24.9007, 25.9007, 26.9007, 27.9007],\n",
              "       [29.0625, 30.0625, 31.0625, 32.0625, 33.0625, 34.0625, 35.0625],\n",
              "       [40.8546, 41.8546, 42.8546, 43.8546, 44.8546, 45.8546, 46.8546]])"
            ]
          },
          "metadata": {
            "tags": []
          },
          "execution_count": 281
        }
      ]
    },
    {
      "cell_type": "markdown",
      "metadata": {
        "id": "ucaDb_Lw-of6"
      },
      "source": [
        "## Structured Arrays"
      ]
    },
    {
      "cell_type": "code",
      "metadata": {
        "id": "WgBinJ5q9bSR",
        "colab": {
          "base_uri": "https://localhost:8080/"
        },
        "outputId": "3f8eac71-b14f-482b-d574-3fe2d2e3ab68"
      },
      "source": [
        "student_def=[('name','S6'),('height','f8'),('weight','f8'),('age','i8')]\n",
        "student_def"
      ],
      "execution_count": 282,
      "outputs": [
        {
          "output_type": "execute_result",
          "data": {
            "text/plain": [
              "[('name', 'S6'), ('height', 'f8'), ('weight', 'f8'), ('age', 'i8')]"
            ]
          },
          "metadata": {
            "tags": []
          },
          "execution_count": 282
        }
      ]
    },
    {
      "cell_type": "code",
      "metadata": {
        "id": "xjuIBNtG_N2z",
        "colab": {
          "base_uri": "https://localhost:8080/"
        },
        "outputId": "7ea8176c-ba0f-4f6a-e3a2-5a880d5a027f"
      },
      "source": [
        "student_array = np.ones((4,), dtype=student_def) # initiate 4 records with ones\n",
        "student_array"
      ],
      "execution_count": 283,
      "outputs": [
        {
          "output_type": "execute_result",
          "data": {
            "text/plain": [
              "array([(b'1', 1., 1., 1), (b'1', 1., 1., 1), (b'1', 1., 1., 1),\n",
              "       (b'1', 1., 1., 1)],\n",
              "      dtype=[('name', 'S6'), ('height', '<f8'), ('weight', '<f8'), ('age', '<i8')])"
            ]
          },
          "metadata": {
            "tags": []
          },
          "execution_count": 283
        }
      ]
    },
    {
      "cell_type": "code",
      "metadata": {
        "id": "277bsad3JwSV",
        "colab": {
          "base_uri": "https://localhost:8080/"
        },
        "outputId": "4f552090-d303-4404-d7fe-34c057c50bf0"
      },
      "source": [
        "# add some data\n",
        "student_array[3] = ('Tyrion', 73, 205, 14)\n",
        "student_array[0] = ('Billy', 65, 112, 13)\n",
        "new_student=np.array([('Karen', 66., 122., 15), ('Macy', 77., 231., 16)],\n",
        "      dtype=student_def)\n",
        "student_array=np.append(student_array, new_student)\n",
        "print(student_array)"
      ],
      "execution_count": 284,
      "outputs": [
        {
          "output_type": "stream",
          "text": [
            "[(b'Billy', 65., 112., 13) (b'1',  1.,   1.,  1) (b'1',  1.,   1.,  1)\n",
            " (b'Tyrion', 73., 205., 14) (b'Karen', 66., 122., 15)\n",
            " (b'Macy', 77., 231., 16)]\n"
          ],
          "name": "stdout"
        }
      ]
    },
    {
      "cell_type": "code",
      "metadata": {
        "id": "ICc03HcMLLAw",
        "colab": {
          "base_uri": "https://localhost:8080/"
        },
        "outputId": "acbeab43-bb17-4d3a-bd6a-939d1df1a6e4"
      },
      "source": [
        "# get columes\n",
        "print(student_array['name'])\n",
        "print(student_array['age']/2) #note the integer type is kept"
      ],
      "execution_count": 285,
      "outputs": [
        {
          "output_type": "stream",
          "text": [
            "[b'Billy' b'1' b'1' b'Tyrion' b'Karen' b'Macy']\n",
            "[6.5 0.5 0.5 7.  7.5 8. ]\n"
          ],
          "name": "stdout"
        }
      ]
    },
    {
      "cell_type": "code",
      "metadata": {
        "id": "gZrB-U39bEJS",
        "colab": {
          "base_uri": "https://localhost:8080/"
        },
        "outputId": "1532416a-f030-4e07-d7ea-56059abf0d77"
      },
      "source": [
        "#sort by age\n",
        "student_array = np.sort(student_array, order='age')\n",
        "student_array"
      ],
      "execution_count": 286,
      "outputs": [
        {
          "output_type": "execute_result",
          "data": {
            "text/plain": [
              "array([(b'1',  1.,   1.,  1), (b'1',  1.,   1.,  1),\n",
              "       (b'Billy', 65., 112., 13), (b'Tyrion', 73., 205., 14),\n",
              "       (b'Karen', 66., 122., 15), (b'Macy', 77., 231., 16)],\n",
              "      dtype=[('name', 'S6'), ('height', '<f8'), ('weight', '<f8'), ('age', '<i8')])"
            ]
          },
          "metadata": {
            "tags": []
          },
          "execution_count": 286
        }
      ]
    },
    {
      "cell_type": "code",
      "metadata": {
        "id": "WRAwwJ7-fOPN"
      },
      "source": [
        "#make above array readonly\n",
        "student_array.flags.writeable = False"
      ],
      "execution_count": 287,
      "outputs": []
    },
    {
      "cell_type": "markdown",
      "metadata": {
        "id": "VvEJlKU9VhdV"
      },
      "source": [
        "3D array can also use array data type"
      ]
    },
    {
      "cell_type": "code",
      "metadata": {
        "id": "z1XA5zN4PZQw",
        "colab": {
          "base_uri": "https://localhost:8080/"
        },
        "outputId": "ca66f6e2-9688-445e-c15b-82fec45b61f5"
      },
      "source": [
        "student_3d_array = np.zeros((4,3,2), dtype=student_def)\n",
        "#add some data and get them\n",
        "student_3d_array[0,2,1] = ('Billy', 68, 155, 11)\n",
        "student_3d_array[2,2,1] = ('Alice', 62, 165, 12.3)\n",
        "student_3d_array[3,1,0] = ('Allison', 62, 166, 15.5) # extra string would be truncated \n",
        "\n",
        "student_3d_array"
      ],
      "execution_count": 288,
      "outputs": [
        {
          "output_type": "execute_result",
          "data": {
            "text/plain": [
              "array([[[(b'',  0.,   0.,  0), (b'',  0.,   0.,  0)],\n",
              "        [(b'',  0.,   0.,  0), (b'',  0.,   0.,  0)],\n",
              "        [(b'',  0.,   0.,  0), (b'Billy', 68., 155., 11)]],\n",
              "\n",
              "       [[(b'',  0.,   0.,  0), (b'',  0.,   0.,  0)],\n",
              "        [(b'',  0.,   0.,  0), (b'',  0.,   0.,  0)],\n",
              "        [(b'',  0.,   0.,  0), (b'',  0.,   0.,  0)]],\n",
              "\n",
              "       [[(b'',  0.,   0.,  0), (b'',  0.,   0.,  0)],\n",
              "        [(b'',  0.,   0.,  0), (b'',  0.,   0.,  0)],\n",
              "        [(b'',  0.,   0.,  0), (b'Alice', 62., 165., 12)]],\n",
              "\n",
              "       [[(b'',  0.,   0.,  0), (b'',  0.,   0.,  0)],\n",
              "        [(b'Alliso', 62., 166., 15), (b'',  0.,   0.,  0)],\n",
              "        [(b'',  0.,   0.,  0), (b'',  0.,   0.,  0)]]],\n",
              "      dtype=[('name', 'S6'), ('height', '<f8'), ('weight', '<f8'), ('age', '<i8')])"
            ]
          },
          "metadata": {
            "tags": []
          },
          "execution_count": 288
        }
      ]
    },
    {
      "cell_type": "code",
      "metadata": {
        "id": "XMlRtxweQufI",
        "colab": {
          "base_uri": "https://localhost:8080/"
        },
        "outputId": "982e812b-41bf-46f2-a9d0-b6f30e4ec3f2"
      },
      "source": [
        "student_3d_array[['name','weight','age']]"
      ],
      "execution_count": 289,
      "outputs": [
        {
          "output_type": "execute_result",
          "data": {
            "text/plain": [
              "array([[[(b'',   0.,  0), (b'',   0.,  0)],\n",
              "        [(b'',   0.,  0), (b'',   0.,  0)],\n",
              "        [(b'',   0.,  0), (b'Billy', 155., 11)]],\n",
              "\n",
              "       [[(b'',   0.,  0), (b'',   0.,  0)],\n",
              "        [(b'',   0.,  0), (b'',   0.,  0)],\n",
              "        [(b'',   0.,  0), (b'',   0.,  0)]],\n",
              "\n",
              "       [[(b'',   0.,  0), (b'',   0.,  0)],\n",
              "        [(b'',   0.,  0), (b'',   0.,  0)],\n",
              "        [(b'',   0.,  0), (b'Alice', 165., 12)]],\n",
              "\n",
              "       [[(b'',   0.,  0), (b'',   0.,  0)],\n",
              "        [(b'Alliso', 166., 15), (b'',   0.,  0)],\n",
              "        [(b'',   0.,  0), (b'',   0.,  0)]]],\n",
              "      dtype={'names':['name','weight','age'], 'formats':['S6','<f8','<i8'], 'offsets':[0,14,22], 'itemsize':30})"
            ]
          },
          "metadata": {
            "tags": []
          },
          "execution_count": 289
        }
      ]
    },
    {
      "cell_type": "markdown",
      "metadata": {
        "id": "iMYaNuG6Vv8g"
      },
      "source": [
        "Record arrays are structured arrays wrapped using a subclass of ndarray, numpy. recarray , which allows field access by attribute on the array object, and record arrays also use a special datatype, numpy. record , which allows field access by attribute on the individual elements of the array. The numpy."
      ]
    },
    {
      "cell_type": "code",
      "metadata": {
        "id": "ATLZOKWZS5mi",
        "colab": {
          "base_uri": "https://localhost:8080/"
        },
        "outputId": "f213405e-de0b-4625-c387-ad4062855483"
      },
      "source": [
        "studen_record_array = np.rec.array([('Joe', 73, 205, 34),('Mirranda', 65, 112, 23)],dtype=student_def)\n",
        "studen_record_array"
      ],
      "execution_count": 290,
      "outputs": [
        {
          "output_type": "execute_result",
          "data": {
            "text/plain": [
              "rec.array([(b'Joe', 73., 205., 34), (b'Mirran', 65., 112., 23)],\n",
              "          dtype=[('name', 'S6'), ('height', '<f8'), ('weight', '<f8'), ('age', '<i8')])"
            ]
          },
          "metadata": {
            "tags": []
          },
          "execution_count": 290
        }
      ]
    },
    {
      "cell_type": "code",
      "metadata": {
        "id": "_okX3_YVV82j",
        "colab": {
          "base_uri": "https://localhost:8080/"
        },
        "outputId": "e9ce7724-c16b-4a9a-da96-60c7ec0a6a89"
      },
      "source": [
        "# get the attribute\n",
        "studen_record_array.age"
      ],
      "execution_count": 291,
      "outputs": [
        {
          "output_type": "execute_result",
          "data": {
            "text/plain": [
              "array([34, 23])"
            ]
          },
          "metadata": {
            "tags": []
          },
          "execution_count": 291
        }
      ]
    },
    {
      "cell_type": "markdown",
      "metadata": {
        "id": "wBcYEONw1hCV"
      },
      "source": [
        "## Inline Plot matplotlib"
      ]
    },
    {
      "cell_type": "markdown",
      "metadata": {
        "id": "8TVJjCCUF1tt"
      },
      "source": [
        "%matplotlib inline sets the backend of matplotlib to the 'inline' backend:\n",
        "With this backend, the output of plotting commands is displayed inline within frontends like the Jupyter notebook, directly below the code cell that produced it. The resulting plots will then also be stored in the notebook document.\n",
        "\n"
      ]
    },
    {
      "cell_type": "code",
      "metadata": {
        "id": "OTbg0ePwWM_7"
      },
      "source": [
        "%matplotlib inline"
      ],
      "execution_count": 292,
      "outputs": []
    },
    {
      "cell_type": "code",
      "metadata": {
        "id": "0H9OJCsE1y7V",
        "colab": {
          "base_uri": "https://localhost:8080/",
          "height": 313
        },
        "outputId": "297fed3f-91ea-4b95-dbf1-75ec86cc75b8"
      },
      "source": [
        "import numpy as np\n",
        "import matplotlib.pyplot as plt\n",
        "\n",
        "mu, sigma = 100, 15  # mean = 100, standard deviation=15\n",
        "dataset = mu + sigma * np.random.randn(10000) # Return a sample (or samples) from the “standard normal” distribution.\n",
        "print(dataset.size)\n",
        "\n",
        "# the histogram of the data, to be investigated\n",
        "n, bins, patches = plt.hist(dataset, 50,  facecolor='g',stacked=True, density=True, alpha=0.75)\n",
        "\n",
        "plt.xlabel('Smarts')\n",
        "plt.ylabel('Probability')\n",
        "plt.title('Histogram of IQ')\n",
        "plt.text(130, .025, r'$\\mu=100,\\ \\sigma=15$')\n",
        "plt.axis([80, 160, 0, 0.03])\n",
        "plt.grid(True)\n",
        "plt.show()"
      ],
      "execution_count": 293,
      "outputs": [
        {
          "output_type": "stream",
          "text": [
            "10000\n"
          ],
          "name": "stdout"
        },
        {
          "output_type": "display_data",
          "data": {
            "image/png": "[encoded data removed]",
            "text/plain": [
              "<Figure size 432x288 with 1 Axes>"
            ]
          },
          "metadata": {
            "tags": [],
            "needs_background": "light"
          }
        }
      ]
    },
    {
      "cell_type": "markdown",
      "metadata": {
        "id": "FSpzexwK3Q0k"
      },
      "source": [
        "<p>Available Markers:</p>\n",
        "<table border=\"1\" class=\"docutils\">\n",
        "<colgroup>\n",
        "<col width=\"38%\" />\n",
        "<col width=\"62%\" />\n",
        "</colgroup>\n",
        "<thead valign=\"bottom\">\n",
        "<tr class=\"row-odd\"><th class=\"head\">marker</th>\n",
        "<th class=\"head\">description</th>\n",
        "</tr>\n",
        "</thead>\n",
        "<tbody valign=\"top\">\n",
        "<tr class=\"row-even\"><td>&#8221;.&#8221;</td>\n",
        "<td>point</td>\n",
        "</tr>\n",
        "<tr class=\"row-odd\"><td>&#8221;,&#8221;</td>\n",
        "<td>pixel</td>\n",
        "</tr>\n",
        "<tr class=\"row-even\"><td>&#8220;o&#8221;</td>\n",
        "<td>circle</td>\n",
        "</tr>\n",
        "<tr class=\"row-odd\"><td>&#8220;v&#8221;</td>\n",
        "<td>triangle_down</td>\n",
        "</tr>\n",
        "<tr class=\"row-even\"><td>&#8220;^&#8221;</td>\n",
        "<td>triangle_up</td>\n",
        "</tr>\n",
        "<tr class=\"row-odd\"><td>&#8220;&lt;&#8221;</td>\n",
        "<td>triangle_left</td>\n",
        "</tr>\n",
        "<tr class=\"row-even\"><td>&#8220;&gt;&#8221;</td>\n",
        "<td>triangle_right</td>\n",
        "</tr>\n",
        "<tr class=\"row-odd\"><td>&#8220;1&#8221;</td>\n",
        "<td>tri_down</td>\n",
        "</tr>\n",
        "<tr class=\"row-even\"><td>&#8220;2&#8221;</td>\n",
        "<td>tri_up</td>\n",
        "</tr>\n",
        "<tr class=\"row-odd\"><td>&#8220;3&#8221;</td>\n",
        "<td>tri_left</td>\n",
        "</tr>\n",
        "<tr class=\"row-even\"><td>&#8220;4&#8221;</td>\n",
        "<td>tri_right</td>\n",
        "</tr>\n",
        "<tr class=\"row-odd\"><td>&#8220;8&#8221;</td>\n",
        "<td>octagon</td>\n",
        "</tr>\n",
        "<tr class=\"row-even\"><td>&#8220;s&#8221;</td>\n",
        "<td>square</td>\n",
        "</tr>\n",
        "<tr class=\"row-odd\"><td>&#8220;p&#8221;</td>\n",
        "<td>pentagon</td>\n",
        "</tr>\n",
        "<tr class=\"row-even\"><td>&#8220;*&#8221;</td>\n",
        "<td>star</td>\n",
        "</tr>\n",
        "<tr class=\"row-odd\"><td>&#8220;h&#8221;</td>\n",
        "<td>hexagon1</td>\n",
        "</tr>\n",
        "<tr class=\"row-even\"><td>&#8220;H&#8221;</td>\n",
        "<td>hexagon2</td>\n",
        "</tr>\n",
        "<tr class=\"row-odd\"><td>&#8220;+&#8221;</td>\n",
        "<td>plus</td>\n",
        "</tr>\n",
        "<tr class=\"row-even\"><td>&#8220;x&#8221;</td>\n",
        "<td>x</td>\n",
        "</tr>\n",
        "<tr class=\"row-odd\"><td>&#8220;D&#8221;</td>\n",
        "<td>diamond</td>\n",
        "</tr>\n",
        "<tr class=\"row-even\"><td>&#8220;d&#8221;</td>\n",
        "<td>thin_diamond</td>\n",
        "</tr>\n",
        "<tr class=\"row-odd\"><td>&#8220;|&#8221;</td>\n",
        "<td>vline</td>\n",
        "</tr>\n",
        "<tr class=\"row-even\"><td>&#8220;_&#8221;</td>\n",
        "<td>hline</td>\n",
        "</tr>\n",
        "<tr class=\"row-odd\"><td>TICKLEFT</td>\n",
        "<td>tickleft</td>\n",
        "</tr>\n",
        "<tr class=\"row-even\"><td>TICKRIGHT</td>\n",
        "<td>tickright</td>\n",
        "</tr>\n",
        "<tr class=\"row-odd\"><td>TICKUP</td>\n",
        "<td>tickup</td>\n",
        "</tr>\n",
        "<tr class=\"row-even\"><td>TICKDOWN</td>\n",
        "<td>tickdown</td>\n",
        "</tr>\n",
        "<tr class=\"row-odd\"><td>CARETLEFT</td>\n",
        "<td>caretleft</td>\n",
        "</tr>\n",
        "<tr class=\"row-even\"><td>CARETRIGHT</td>\n",
        "<td>caretright</td>\n",
        "</tr>\n",
        "<tr class=\"row-odd\"><td>CARETUP</td>\n",
        "<td>caretup</td>\n",
        "</tr>\n",
        "<tr class=\"row-even\"><td>CARETDOWN</td>\n",
        "<td>caretdown</td>\n",
        "</tr>\n",
        "<tr class=\"row-odd\"><td>&#8220;None&#8221;</td>\n",
        "<td>nothing</td>\n",
        "</tr>\n",
        "<tr class=\"row-even\"><td>None</td>\n",
        "<td>nothing</td>\n",
        "</tr>\n",
        "<tr class=\"row-odd\"><td>&#8221; &#8220;</td>\n",
        "<td>nothing</td>\n",
        "</tr>\n",
        "<tr class=\"row-even\"><td>&#8220;&#8221;</td>\n",
        "<td>nothing</td>\n",
        "</tr>\n",
        "<tr class=\"row-odd\"><td><code class=\"docutils literal\"><span class=\"pre\">'$...$'</span></code></td>\n",
        "<td>render the string using mathtext.</td>\n",
        "</tr>\n",
        "<tr class=\"row-even\"><td><code class=\"xref py py-obj docutils literal\"><span class=\"pre\">verts</span></code></td>\n",
        "<td>a list of (x, y) pairs used for Path vertices.\n",
        "The center of the marker is located at (0,0) and\n",
        "the size is normalized.</td>\n",
        "</tr>\n",
        "<tr class=\"row-odd\"><td>path</td>\n",
        "<td>a <a class=\"reference internal\" href=\"path_api.html#matplotlib.path.Path\" title=\"matplotlib.path.Path\"><code class=\"xref py py-obj docutils literal\"><span class=\"pre\">Path</span></code></a> instance.</td>\n",
        "</tr>\n",
        "<tr class=\"row-even\"><td>(<code class=\"xref py py-obj docutils literal\"><span class=\"pre\">numsides</span></code>, <code class=\"xref py py-obj docutils literal\"><span class=\"pre\">style</span></code>, <code class=\"xref py py-obj docutils literal\"><span class=\"pre\">angle</span></code>)</td>\n",
        "<td>see below</td>\n",
        "</tr>\n",
        "</tbody>\n",
        "</table>"
      ]
    },
    {
      "cell_type": "code",
      "metadata": {
        "id": "wjhGRALm5inN",
        "colab": {
          "base_uri": "https://localhost:8080/",
          "height": 34
        },
        "outputId": "60089eee-ab0b-4623-e6b2-c284aa5143eb"
      },
      "source": [
        "# import numpy as np\n",
        "# import matplotlib.pyplot as plt\n",
        "myFirstFigure = plt.figure(\"hello world numpy plot\")"
      ],
      "execution_count": 294,
      "outputs": [
        {
          "output_type": "display_data",
          "data": {
            "text/plain": [
              "<Figure size 432x288 with 0 Axes>"
            ]
          },
          "metadata": {
            "tags": []
          }
        }
      ]
    },
    {
      "cell_type": "code",
      "metadata": {
        "id": "svCTzjD06tQc"
      },
      "source": [
        "subplot_1 = myFirstFigure.add_subplot(2, 3, 1) # 2 rows 3 columns, number1 subplot ()\n",
        "subplot_6 = myFirstFigure.add_subplot(2, 3, 6) # number6 subplot (last one)\n"
      ],
      "execution_count": 295,
      "outputs": []
    },
    {
      "cell_type": "code",
      "metadata": {
        "id": "OSEl2aJC7BmK",
        "colab": {
          "base_uri": "https://localhost:8080/",
          "height": 265
        },
        "outputId": "ce85ba4f-4e63-48aa-80f5-abf2c3e3ca99"
      },
      "source": [
        "plt.plot(np.random.rand(50).cumsum(), 'k--') # 50 elements cumulative sum, k is black and -- is straigh lines\n",
        "plt.show()"
      ],
      "execution_count": 296,
      "outputs": [
        {
          "output_type": "display_data",
          "data": {
            "image/png": "[encoded data removed]",
            "text/plain": [
              "<Figure size 432x288 with 1 Axes>"
            ]
          },
          "metadata": {
            "tags": [],
            "needs_background": "light"
          }
        }
      ]
    },
    {
      "cell_type": "markdown",
      "metadata": {
        "id": "yffkUBwwOGHs"
      },
      "source": [
        "more examples can be found from a2b2c helloworld1.ipynb"
      ]
    },
    {
      "cell_type": "code",
      "metadata": {
        "id": "BpsBr-V2-yba",
        "colab": {
          "base_uri": "https://localhost:8080/",
          "height": 265
        },
        "outputId": "504d3056-084e-4cf4-b599-42a58b143f24"
      },
      "source": [
        "subplot_1 = myFirstFigure.add_subplot(2, 3, 2)\n",
        "plt.plot(np.random.rand(10) , 'ro') # red, circle\n",
        "plt.show()"
      ],
      "execution_count": 297,
      "outputs": [
        {
          "output_type": "display_data",
          "data": {
            "image/png": "[encoded data removed]",
            "text/plain": [
              "<Figure size 432x288 with 1 Axes>"
            ]
          },
          "metadata": {
            "tags": [],
            "needs_background": "light"
          }
        }
      ]
    },
    {
      "cell_type": "code",
      "metadata": {
        "id": "m7cUn8D3BeQs",
        "colab": {
          "base_uri": "https://localhost:8080/",
          "height": 265
        },
        "outputId": "08a31dc6-b7bf-41db-c981-494a755e9156"
      },
      "source": [
        "data_set_size = 15\n",
        "low_mu, low_sigma = 50, 4.3\n",
        "low_data_set = low_mu + low_sigma * np.random.randn(data_set_size) # generate 15 data points, normally distrubted with mean 50, standard deviation 4.3\n",
        "high_mu, high_sigma = 57, 5.2\n",
        "high_data_set = high_mu + high_sigma * np.random.randn(data_set_size) #generate 15 data points, normally distrubted with mean 57, standard deviation 5.2\n",
        "\n",
        "days = list(range(1, data_set_size + 1)) # x axis\n",
        "\n",
        "plt.plot(days, low_data_set) # default use lines\n",
        "plt.show()"
      ],
      "execution_count": 298,
      "outputs": [
        {
          "output_type": "display_data",
          "data": {
            "image/png": "[encoded data removed]",
            "text/plain": [
              "<Figure size 432x288 with 1 Axes>"
            ]
          },
          "metadata": {
            "tags": [],
            "needs_background": "light"
          }
        }
      ]
    },
    {
      "cell_type": "markdown",
      "metadata": {
        "id": "q6h-2HmFFgoF"
      },
      "source": [
        "Multiple lines in a plot"
      ]
    },
    {
      "cell_type": "code",
      "metadata": {
        "id": "fLMHzLjjFUwV",
        "colab": {
          "base_uri": "https://localhost:8080/",
          "height": 265
        },
        "outputId": "9d14c814-f71d-468d-80b3-609ba6f82a60"
      },
      "source": [
        "plt.plot(days, low_data_set,         \n",
        "         days, high_data_set) # 2 data sets are drawn here\n",
        "plt.show()"
      ],
      "execution_count": 299,
      "outputs": [
        {
          "output_type": "display_data",
          "data": {
            "image/png": "[encoded data removed]",
            "text/plain": [
              "<Figure size 432x288 with 1 Axes>"
            ]
          },
          "metadata": {
            "tags": [],
            "needs_background": "light"
          }
        }
      ]
    },
    {
      "cell_type": "code",
      "metadata": {
        "id": "2Nux3nNqFbWJ",
        "colab": {
          "base_uri": "https://localhost:8080/",
          "height": 265
        },
        "outputId": "9b5c4afd-6b4e-471d-b031-5da29ee4346d"
      },
      "source": [
        "# marker table above, v is down arrow, ^ is upper arrow\n",
        "plt.plot(days, low_data_set,\n",
        "         days, low_data_set, \"vm\", # lower triangle, color is meganta\n",
        "         days, high_data_set, \n",
        "         days, high_data_set, \"^k\") # upper triangle, color is black\n",
        "plt.show() # 4 data sets are drawn here"
      ],
      "execution_count": 300,
      "outputs": [
        {
          "output_type": "display_data",
          "data": {
            "image/png": "[encoded data removed]",
            "text/plain": [
              "<Figure size 432x288 with 1 Axes>"
            ]
          },
          "metadata": {
            "tags": [],
            "needs_background": "light"
          }
        }
      ]
    },
    {
      "cell_type": "code",
      "metadata": {
        "id": "GfkCz4ZzFyCy",
        "colab": {
          "base_uri": "https://localhost:8080/",
          "height": 267
        },
        "outputId": "aab8d803-fff7-4867-c665-7b3e69d6c6f5"
      },
      "source": [
        "plt.plot(days, high_data_set, \"^k\")\n",
        "plt.show() # 1 data set is drawn here"
      ],
      "execution_count": 301,
      "outputs": [
        {
          "output_type": "display_data",
          "data": {
            "image/png": "[encoded data removed]",
            "text/plain": [
              "<Figure size 432x288 with 1 Axes>"
            ]
          },
          "metadata": {
            "tags": [],
            "needs_background": "light"
          }
        }
      ]
    },
    {
      "cell_type": "code",
      "metadata": {
        "id": "eBfKt5bqEqvw",
        "colab": {
          "base_uri": "https://localhost:8080/",
          "height": 313
        },
        "outputId": "3df5b5e0-071c-4f0e-8745-8b497b18083c"
      },
      "source": [
        "# Add the x,y labels and title, legend is more a text box here\n",
        "plt.plot(days, low_data_set,\n",
        "         days, low_data_set, \"vm\",\n",
        "         days, high_data_set, \n",
        "         days, high_data_set, \"^k\")\n",
        "plt.xlabel('Day')\n",
        "plt.ylabel('Temperature: degrees Farenheit')\n",
        "plt.title('Randomized temperature data')\n",
        "plt.legend(loc=\"upper right\", shadow=True, title=\"Legend: high ^ vs low v\")\n",
        "plt.show()"
      ],
      "execution_count": 302,
      "outputs": [
        {
          "output_type": "stream",
          "text": [
            "No handles with labels found to put in legend.\n"
          ],
          "name": "stderr"
        },
        {
          "output_type": "display_data",
          "data": {
            "image/png": "[encoded data removed]",
            "text/plain": [
              "<Figure size 432x288 with 1 Axes>"
            ]
          },
          "metadata": {
            "tags": [],
            "needs_background": "light"
          }
        }
      ]
    },
    {
      "cell_type": "code",
      "metadata": {
        "id": "1cdjxIvMP432",
        "colab": {
          "base_uri": "https://localhost:8080/",
          "height": 282
        },
        "outputId": "dac37661-58e9-42ac-fff2-84544f3a0782"
      },
      "source": [
        "line1, = plt.plot(low_data_set)\n",
        "line2, = plt.plot(high_data_set)\n",
        "line1.set_label('low temperature')\n",
        "line2.set_label('high temperature')\n",
        "plt.legend()"
      ],
      "execution_count": 303,
      "outputs": [
        {
          "output_type": "execute_result",
          "data": {
            "text/plain": [
              "<matplotlib.legend.Legend at 0x7f89ace3eb10>"
            ]
          },
          "metadata": {
            "tags": []
          },
          "execution_count": 303
        },
        {
          "output_type": "display_data",
          "data": {
            "image/png": "[encoded data removed]",
            "text/plain": [
              "<Figure size 432x288 with 1 Axes>"
            ]
          },
          "metadata": {
            "tags": [],
            "needs_background": "light"
          }
        }
      ]
    },
    {
      "cell_type": "markdown",
      "metadata": {
        "id": "3HEp4iZlYirC"
      },
      "source": [
        "Mark, Label and Grid"
      ]
    },
    {
      "cell_type": "code",
      "metadata": {
        "id": "oy5K2aICYclJ",
        "colab": {
          "base_uri": "https://localhost:8080/",
          "height": 308
        },
        "outputId": "8650b196-b23d-4a1d-b5f2-64a45a35ab06"
      },
      "source": [
        "number_of_data_points = 1000\n",
        "\n",
        "my_figure = plt.figure()\n",
        "subplot_1 = my_figure.add_subplot(1, 1, 1) # only one subplot in this figure\n",
        "subplot_1.plot(np.random.rand(number_of_data_points).cumsum()) # add data to subplot\n",
        "\n",
        "number_of_ticks = 8\n",
        "ticks = np.arange(0, number_of_data_points, number_of_data_points//number_of_ticks) # (0~1000, integer 0~125)\n",
        "subplot_1.set_xticks(ticks) # this won't be displayed on the subplot, only scales it\n",
        "\n",
        "labels = subplot_1.set_xticklabels(['one', 'two', '', 'three', 'four', 'five'], rotation=45, fontsize='small')\n",
        "\n",
        "subplot_1.set_title (\"My First Ticked Plot\")\n",
        "subplot_1.set_xlabel (\"Groups\")\n",
        "subplot_1.set_ylabel (\"Actual sum\")\n",
        "\n",
        "\n",
        "#subplot_1.grid(True)\n",
        "#gridlines = subplot_1.get_xgridlines() + subplot_1.get_ygridlines()\n",
        "#for line in gridlines:\n",
        "#    line.set_linestyle(':')\n",
        "\n",
        "# comment out grid example above and use a simpler one\n",
        "\n",
        "subplot_1.grid(color='r', linestyle=':', linewidth=5)\n",
        "plt.show()"
      ],
      "execution_count": 304,
      "outputs": [
        {
          "output_type": "display_data",
          "data": {
            "image/png": "[encoded data removed]",
            "text/plain": [
              "<Figure size 432x288 with 1 Axes>"
            ]
          },
          "metadata": {
            "tags": [],
            "needs_background": "light"
          }
        }
      ]
    },
    {
      "cell_type": "markdown",
      "metadata": {
        "id": "xy6W7pDeTy9v"
      },
      "source": [
        "Line styles for grid lines\n",
        "<list>\n",
        "    <li>-    solid line</li>\n",
        "    <li>--   dashed line</li>\n",
        "    <li>-.   dash dot line</li>\n",
        "    <li>:    dotted</li>\n",
        "</list>\n",
        "\n",
        "More information about lines available at: http://matplotlib.org/api/lines_api.html"
      ]
    },
    {
      "cell_type": "code",
      "metadata": {
        "id": "EhHmTRBHaD1n",
        "colab": {
          "base_uri": "https://localhost:8080/",
          "height": 265
        },
        "outputId": "b67d50bb-c65d-4a96-88ec-d89610c576db"
      },
      "source": [
        "# add text box and arrow annotation\n",
        "number_of_data_points = 100\n",
        "\n",
        "my_figure2 = plt.figure()\n",
        "subplot_1 = my_figure2.add_subplot(1, 1, 1) # only one subplot in this figure\n",
        "subplot_1.plot(np.random.rand(number_of_data_points).cumsum()) # add data to subplot\n",
        "\n",
        "subplot_1.grid(None) # somehow after it's set to none, the grid is still here\n",
        "subplot_1.text (25, 40, r'an equation: $E=mc^2$', fontsize=18, color='red') # x=25, y=40 r'  accepts regex\n",
        "subplot_1.text (1, 1.5, \"Hello, Mountain Climbing!\", family='monospace', fontsize=10, color='green')\n",
        "\n",
        "# add text box at the center 0.5 here means 50%, more on transform http://matplotlib.org/users/transforms_tutorial.html\n",
        "subplot_1.text(0.5, 0.5, b\"We at the center, now\", transform=subplot_1.transAxes)\n",
        "\n",
        "# the allow start from xytext and points to xy\n",
        "subplot_1.annotate('shoot arrow', xy=(2, 1), xytext=(60, 20),\n",
        "            arrowprops=dict(facecolor='red', shrink=0.05))\n",
        "\n",
        "plt.show()"
      ],
      "execution_count": 305,
      "outputs": [
        {
          "output_type": "display_data",
          "data": {
            "image/png": "[encoded data removed]",
            "text/plain": [
              "<Figure size 432x288 with 1 Axes>"
            ]
          },
          "metadata": {
            "tags": [],
            "needs_background": "light"
          }
        }
      ]
    },
    {
      "cell_type": "code",
      "metadata": {
        "id": "k4miO2lHfyRa",
        "colab": {
          "base_uri": "https://localhost:8080/",
          "height": 308
        },
        "outputId": "c3d79049-675a-4e2a-e120-750df4e14468"
      },
      "source": [
        "#Show above graphs side by side\n",
        "\n",
        "number_of_data_points = 1000\n",
        "\n",
        "my_figure = plt.figure()\n",
        "subplot_1 = my_figure.add_subplot(1, 2, 1) # only one subplot in this figure\n",
        "subplot_1.plot(np.random.rand(number_of_data_points).cumsum()) # add data to subplot\n",
        "\n",
        "number_of_ticks = 8\n",
        "ticks = np.arange(0, number_of_data_points, number_of_data_points//number_of_ticks) # (0~1000, integer 0~125)\n",
        "subplot_1.set_xticks(ticks) # this won't be displayed on the subplot, only scales it\n",
        "\n",
        "labels = subplot_1.set_xticklabels(['one', 'two', '', 'three', 'four', 'five'], rotation=45, fontsize='small')\n",
        "\n",
        "subplot_1.set_title (\"My First Ticked Plot\")\n",
        "subplot_1.set_xlabel (\"Groups\")\n",
        "subplot_1.set_ylabel (\"Actual sum\")\n",
        "\n",
        "subplot_1.grid(color='r', linestyle=':', linewidth=5)\n",
        "\n",
        "\n",
        "# remove grid but add text box\n",
        "number_of_data_points = 100\n",
        "\n",
        "#my_figure2 = plt.figure()\n",
        "subplot_2 = my_figure.add_subplot(1, 2, 2) # only one subplot in this figure\n",
        "subplot_2.plot(np.random.rand(number_of_data_points).cumsum()) # add data to subplot\n",
        "\n",
        "subplot_2.grid(None) # somehow after it's set to none, the grid is still here\n",
        "subplot_2.text (25, 40, r'an equation: $E=mc^2$', fontsize=18, color='red') # x=25, y=40 r'  accepts regex\n",
        "subplot_2.text (1, 1.5, \"Hello, Mountain Climbing!\", family='monospace', fontsize=10, color='green')\n",
        "\n",
        "# add text box at the center 0.5 here means 50%, more on transform http://matplotlib.org/users/transforms_tutorial.html\n",
        "subplot_2.text(0.5, 0.5, b\"We at the center, now\", transform=subplot_2.transAxes)\n",
        "\n",
        "# the allow start from xytext and points to xy\n",
        "subplot_2.annotate('shoot arrow', xy=(2, 1), xytext=(60, 20),\n",
        "            arrowprops=dict(facecolor='red', shrink=0.05))\n",
        "\n",
        "plt.show()"
      ],
      "execution_count": 306,
      "outputs": [
        {
          "output_type": "display_data",
          "data": {
            "image/png": "[encoded data removed]",
            "text/plain": [
              "<Figure size 432x288 with 2 Axes>"
            ]
          },
          "metadata": {
            "tags": [],
            "needs_background": "light"
          }
        }
      ]
    },
    {
      "cell_type": "markdown",
      "metadata": {
        "id": "C8AnxxRJkF5I"
      },
      "source": [
        "Subplots"
      ]
    },
    {
      "cell_type": "code",
      "metadata": {
        "id": "JMSn6FtnjzQO",
        "colab": {
          "base_uri": "https://localhost:8080/",
          "height": 269
        },
        "outputId": "0dda9046-e314-4e8f-971f-20389bf11e6c"
      },
      "source": [
        "fig = plt.figure()\n",
        "for i, label in enumerate(('A', 'B', 'C', 'D')):\n",
        "    ax = fig.add_subplot(2,2,i+1)\n",
        "    ax.text(0.05, 0.95, label, transform=ax.transAxes,\n",
        "      fontsize=16, fontweight='bold', va='top')\n",
        "\n",
        "plt.show()"
      ],
      "execution_count": 307,
      "outputs": [
        {
          "output_type": "display_data",
          "data": {
            "image/png": "[encoded data removed]",
            "text/plain": [
              "<Figure size 432x288 with 4 Axes>"
            ]
          },
          "metadata": {
            "tags": [],
            "needs_background": "light"
          }
        }
      ]
    },
    {
      "cell_type": "markdown",
      "metadata": {
        "id": "3KFNFH_cK0x5"
      },
      "source": [
        "More legend example: http://matplotlib.org/examples/pylab_examples/legend_demo2.html"
      ]
    },
    {
      "cell_type": "code",
      "metadata": {
        "id": "7hB3DUiZEqv-",
        "colab": {
          "base_uri": "https://localhost:8080/",
          "height": 295
        },
        "outputId": "4eabc972-c091-4dd4-cb60-93d8cea276e8"
      },
      "source": [
        "t1 = np.arange(0.0, 2.0, 0.1)\n",
        "t2 = np.arange(0.0, 2.0, 0.01)\n",
        "\n",
        "# note that plot returns a list of lines.  The \"l1, = plot\" usage\n",
        "# extracts the first element of the list into l1 using tuple\n",
        "# unpacking.  So l1 is a Line2D instance, not a sequence of lines\n",
        "l1, = plt.plot(t2, np.exp(-t2))\n",
        "l2, l3 = plt.plot(t2, np.sin(2 * np.pi * t2), '--go', t1, np.log(1 + t1), '.')\n",
        "l4, = plt.plot(t2, np.exp(-t2) * np.sin(2 * np.pi * t2), 'rs-.')\n",
        "\n",
        "plt.legend((l2, l4), ('oscillatory', 'damped'), loc='upper right', shadow=True)\n",
        "plt.xlabel('time')\n",
        "plt.ylabel('volts')\n",
        "plt.title('Damped oscillation')\n",
        "plt.show()"
      ],
      "execution_count": 308,
      "outputs": [
        {
          "output_type": "display_data",
          "data": {
            "image/png": "[encoded data removed]",
            "text/plain": [
              "<Figure size 432x288 with 1 Axes>"
            ]
          },
          "metadata": {
            "tags": [],
            "needs_background": "light"
          }
        }
      ]
    },
    {
      "cell_type": "markdown",
      "metadata": {
        "id": "bDmiEOtYqtIM"
      },
      "source": [
        "Another annotation example"
      ]
    },
    {
      "cell_type": "code",
      "metadata": {
        "id": "jEcsRi6JLagB",
        "colab": {
          "base_uri": "https://localhost:8080/",
          "height": 309
        },
        "outputId": "ea3513b2-ce24-4ab9-aca0-e613e52e8e13"
      },
      "source": [
        "x = np.arange(0, 10, 0.005)\n",
        "y = np.exp(-x/2.) * np.sin(2*np.pi*x)\n",
        "\n",
        "fig = plt.figure()\n",
        "ax = fig.add_subplot(111)\n",
        "ax.plot(x, y)\n",
        "ax.set_xlim(0, 10)\n",
        "ax.set_ylim(-1, 1)\n",
        "\n",
        "xdata, ydata = 5, 0\n",
        "xdisplay, ydisplay = ax.transData.transform_point((xdata, ydata))\n",
        "print(xdisplay, ydisplay)\n",
        "\n",
        "# bbox defines the 2 boxes. fc is grayscale betweem 0 - 1\n",
        "bbox = dict(boxstyle=\"round\", fc=\"0.8\")\n",
        "arrowprops = dict(\n",
        "    arrowstyle = \"->\",\n",
        "    connectionstyle = \"angle,angleA=30,angleB=90,rad=10\") #angel of the arrows\n",
        "\n",
        "offset = 72\n",
        "ax.annotate('data = (%.1f, %.1f)'%(xdata, ydata), # txt box 1 content\n",
        "            (xdata, ydata), xytext=(-2*offset, offset), textcoords='offset points', # to 5,0, from 5+(-2)*offset, 0+offset\n",
        "            bbox=bbox, arrowprops=arrowprops)  #bbox style, with arrowprops\n",
        "\n",
        "\n",
        "disp = ax.annotate('display = (%.1f, %.1f)'%(xdisplay, ydisplay), # txt box 1 content\n",
        "            (xdisplay, ydisplay), xytext=(0.5*offset, -offset), # to pixel location? 221.4 144.7, from 221.4+0.5*offset, 144.7-offset\n",
        "            xycoords='figure pixels',\n",
        "            textcoords='offset points',\n",
        "            bbox=bbox, arrowprops=arrowprops)\n",
        "\n",
        "\n",
        "plt.show()"
      ],
      "execution_count": 309,
      "outputs": [
        {
          "output_type": "stream",
          "text": [
            "221.40000000000003 144.72\n"
          ],
          "name": "stdout"
        },
        {
          "output_type": "display_data",
          "data": {
            "image/png": "[encoded data removed]",
            "text/plain": [
              "<Figure size 432x288 with 1 Axes>"
            ]
          },
          "metadata": {
            "tags": [],
            "needs_background": "light"
          }
        }
      ]
    },
    {
      "cell_type": "markdown",
      "metadata": {
        "id": "rWDAhfc8i9bC"
      },
      "source": [
        "### Pie and Bar function API\n",
        "http://matplotlib.org/api/pyplot_api.html"
      ]
    },
    {
      "cell_type": "code",
      "metadata": {
        "id": "p6OhC6xbnPGg",
        "colab": {
          "base_uri": "https://localhost:8080/",
          "height": 0
        },
        "outputId": "67763c58-c42d-4cc6-e1cc-13012d6bd002"
      },
      "source": [
        "# The slices will be ordered and plotted counter-clockwise.\n",
        "labels = 'Frogs', 'Hogs', 'Dogs', 'Logs'\n",
        "sizes = [15, 30, 45, 10] # x=sizes, the percentage main body of the chart\n",
        "colors = ['yellowgreen', 'gold', 'lightskyblue', 'lightcoral']\n",
        "explode = (0, 0.2, 0, 0)  # only \"explode\" the 2nd slice (i.e. 'Hogs')\n",
        "wedgeproperty = {'linewidth': 10, 'hatch': '/'}\n",
        "\n",
        "plt.pie(x=sizes, explode=explode, labels=labels, colors=colors,\n",
        "        autopct='%1.1f%%', shadow=True, startangle=180, wedgeprops = wedgeproperty, \n",
        "        textprops=dict(color=\"r\"), frame=True ) \n",
        "# Set aspect ratio to be equal so that pie is drawn as a circle.\n",
        "plt.axis('equal')  # a circle, rather than ellipse\n",
        "\n",
        "# matplotlib.pyplot.pie(x=[size], explode=None, labels=None, colors=None, autopct=None show percentage in 1.1f format etc, \n",
        "# pctdistance=0.6 percentage label to center disatance in radius ratio, \n",
        "# shadow=False, wedgeprops=None dict eg wedgeprops = {'linewidth': 10, 'hatch': '/'} https://matplotlib.org/api/_as_gen/matplotlib.patches.Wedge.html,\n",
        "# labeldistance=1.1 text abel to center disatance in radius ratio, startangle=None, radius=None size of the pie, counterclock=True, \n",
        "# textprops=None dict text property, center=(0, 0), frame=False add x,y frame, data=None)\n",
        "\n",
        "\n",
        "plt.show()\n",
        "\n",
        "# returns \n",
        "# patches : list\n",
        "#   sequence of matplotlib.patches.Wedge instances\n",
        "# texts : list\n",
        "#   is a list of the label matplotlib.text.Text instances.\n",
        "# autotexts : list\n",
        "#   is a list of Text instances for the numeric labels. Is returned only if parameter autopct is not None."
      ],
      "execution_count": 310,
      "outputs": [
        {
          "output_type": "display_data",
          "data": {
            "image/png": "[encoded data removed]",
            "text/plain": [
              "<Figure size 432x288 with 1 Axes>"
            ]
          },
          "metadata": {
            "tags": [],
            "needs_background": "light"
          }
        }
      ]
    },
    {
      "cell_type": "code",
      "metadata": {
        "id": "NXoyEqIXjUEN",
        "colab": {
          "base_uri": "https://localhost:8080/",
          "height": 0
        },
        "outputId": "e63123de-458d-4084-b801-e70753a807ef"
      },
      "source": [
        "N = 5\n",
        "menMeans = (20, 35, 30, 35, 27)\n",
        "menStd = (2, 3, 4, 1, 2)\n",
        "\n",
        "ind = np.arange(N)  # the x locations for the groups\n",
        "width = 0.35       # the width of the bars\n",
        "\n",
        "# matplotlib.pyplot.bar(left, height, width=0.8, bottom=None, hold=None, data=None, **kwargs)\n",
        "fig, ax = plt.subplots()\n",
        "rects1 = ax.bar(ind, menMeans, width, color='r', yerr=menStd)\n",
        "\n",
        "womenMeans = (25, 32, 34, 20, 25)\n",
        "womenStd = (3, 5, 2, 3, 3)\n",
        "rects2 = ax.bar(ind + width, womenMeans, width, color='y', yerr=womenStd)\n",
        "\n",
        "\n",
        "# add some text for labels, title and axes ticks\n",
        "ax.set_ylabel('Scores')\n",
        "ax.set_title('Scores by group and gender')\n",
        "\n",
        "ax.set_xticks(ind + width)\n",
        "ax.set_xticklabels(('G1', 'G2', 'G3', 'G4', 'G5'))\n",
        "\n",
        "ax.legend((rects1[0], rects2[0]), ('Men', 'Women'))\n",
        "\n",
        "\n",
        "plt.show()"
      ],
      "execution_count": 311,
      "outputs": [
        {
          "output_type": "display_data",
          "data": {
            "image/png": "[encoded data removed]",
            "text/plain": [
              "<Figure size 432x288 with 1 Axes>"
            ]
          },
          "metadata": {
            "tags": [],
            "needs_background": "light"
          }
        }
      ]
    },
    {
      "cell_type": "markdown",
      "metadata": {
        "id": "JdIceBUB00om"
      },
      "source": [
        "For more complicated plots, [matplotlib's Gallery](https://matplotlib.org/gallery.html)\n",
        "More example from my github in [Gallery.ipynb](https://raw.githubusercontent.com/cmskzhan/helloworld/master/LearnNumpy/Ch%204/04_07/Finish/Gallery.ipynb)"
      ]
    },
    {
      "cell_type": "markdown",
      "metadata": {
        "id": "50tNXDrCdM6q"
      },
      "source": [
        "##  Algos, Linear algebra and statistics"
      ]
    },
    {
      "cell_type": "markdown",
      "metadata": {
        "id": "O4WmZBSssFjs"
      },
      "source": [
        "###Universal Function"
      ]
    },
    {
      "cell_type": "code",
      "metadata": {
        "id": "nlNqP65gjVed"
      },
      "source": [
        "# simple function: truncated binomial: returns (x+1)**3 - (x)**3\n",
        "def truncated_binomial(x):\n",
        "    return (x+1)**3 - (x)**3\n",
        "\n",
        "np.testing.assert_equal (truncated_binomial(4), 61) #unit test the function output against result"
      ],
      "execution_count": 312,
      "outputs": []
    },
    {
      "cell_type": "code",
      "metadata": {
        "id": "nWKKKCp5rGxz",
        "colab": {
          "base_uri": "https://localhost:8080/"
        },
        "outputId": "f53df31c-4a4a-4c60-894a-d4802f21831f"
      },
      "source": [
        "# frompyfunc() Takes an arbitrary Python function and returns a NumPy ufunc.\n",
        "numpy_function = np.frompyfunc(truncated_binomial, 1, 1) # 1, 1 means input 1 output 1\n",
        "numpy_function"
      ],
      "execution_count": 313,
      "outputs": [
        {
          "output_type": "execute_result",
          "data": {
            "text/plain": [
              "<ufunc '? (vectorized)'>"
            ]
          },
          "metadata": {
            "tags": []
          },
          "execution_count": 313
        }
      ]
    },
    {
      "cell_type": "code",
      "metadata": {
        "id": "KrIY-cZCr414",
        "colab": {
          "base_uri": "https://localhost:8080/"
        },
        "outputId": "240f9153-ec64-4f2b-a030-1113de06697e"
      },
      "source": [
        "a = np.arange(10)\n",
        "numpy_function(a)"
      ],
      "execution_count": 314,
      "outputs": [
        {
          "output_type": "execute_result",
          "data": {
            "text/plain": [
              "array([1, 7, 19, 37, 61, 91, 127, 169, 217, 271], dtype=object)"
            ]
          },
          "metadata": {
            "tags": []
          },
          "execution_count": 314
        }
      ]
    },
    {
      "cell_type": "code",
      "metadata": {
        "id": "IvxYdlpJsDnv",
        "colab": {
          "base_uri": "https://localhost:8080/"
        },
        "outputId": "667f810c-f837-40a6-da89-187ee92c35b4"
      },
      "source": [
        "a_outer=np.outer(a,a)\n",
        "a_outer"
      ],
      "execution_count": 315,
      "outputs": [
        {
          "output_type": "execute_result",
          "data": {
            "text/plain": [
              "array([[ 0,  0,  0,  0,  0,  0,  0,  0,  0,  0],\n",
              "       [ 0,  1,  2,  3,  4,  5,  6,  7,  8,  9],\n",
              "       [ 0,  2,  4,  6,  8, 10, 12, 14, 16, 18],\n",
              "       [ 0,  3,  6,  9, 12, 15, 18, 21, 24, 27],\n",
              "       [ 0,  4,  8, 12, 16, 20, 24, 28, 32, 36],\n",
              "       [ 0,  5, 10, 15, 20, 25, 30, 35, 40, 45],\n",
              "       [ 0,  6, 12, 18, 24, 30, 36, 42, 48, 54],\n",
              "       [ 0,  7, 14, 21, 28, 35, 42, 49, 56, 63],\n",
              "       [ 0,  8, 16, 24, 32, 40, 48, 56, 64, 72],\n",
              "       [ 0,  9, 18, 27, 36, 45, 54, 63, 72, 81]])"
            ]
          },
          "metadata": {
            "tags": []
          },
          "execution_count": 315
        }
      ]
    },
    {
      "cell_type": "code",
      "metadata": {
        "id": "0yCByVjLsjoN",
        "colab": {
          "base_uri": "https://localhost:8080/"
        },
        "outputId": "7a5d3722-8ca4-4cc9-e0ff-fe230b20d4ef"
      },
      "source": [
        "numpy_function(a_outer)"
      ],
      "execution_count": 316,
      "outputs": [
        {
          "output_type": "execute_result",
          "data": {
            "text/plain": [
              "array([[1, 1, 1, 1, 1, 1, 1, 1, 1, 1],\n",
              "       [1, 7, 19, 37, 61, 91, 127, 169, 217, 271],\n",
              "       [1, 19, 61, 127, 217, 331, 469, 631, 817, 1027],\n",
              "       [1, 37, 127, 271, 469, 721, 1027, 1387, 1801, 2269],\n",
              "       [1, 61, 217, 469, 817, 1261, 1801, 2437, 3169, 3997],\n",
              "       [1, 91, 331, 721, 1261, 1951, 2791, 3781, 4921, 6211],\n",
              "       [1, 127, 469, 1027, 1801, 2791, 3997, 5419, 7057, 8911],\n",
              "       [1, 169, 631, 1387, 2437, 3781, 5419, 7351, 9577, 12097],\n",
              "       [1, 217, 817, 1801, 3169, 4921, 7057, 9577, 12481, 15769],\n",
              "       [1, 271, 1027, 2269, 3997, 6211, 8911, 12097, 15769, 19927]],\n",
              "      dtype=object)"
            ]
          },
          "metadata": {
            "tags": []
          },
          "execution_count": 316
        }
      ]
    },
    {
      "cell_type": "code",
      "metadata": {
        "id": "TvD70M-ntXLS"
      },
      "source": [
        "# a simple np function to check if a number is integer\n",
        "def is_integer(x):\n",
        "    return np.equal(np.mod(x, 1), 0)\n",
        "\n",
        "numpy_function2_is_integer = np.frompyfunc(is_integer, 1, 1) #convert above function to universal function"
      ],
      "execution_count": 317,
      "outputs": []
    },
    {
      "cell_type": "markdown",
      "metadata": {
        "id": "r12faLmyvSWM"
      },
      "source": [
        "Find long side of right angel triangel with sides less than 11\n",
        "\n",
        "\\begin{equation*}\n",
        "X^2 + Y^2 = Z^2\n",
        "\\end{equation*}"
      ]
    },
    {
      "cell_type": "code",
      "metadata": {
        "id": "aG3MpMF_xpOd"
      },
      "source": [
        "x = np.arange(9) + 1\n",
        "y = np.arange(9) + 1"
      ],
      "execution_count": 318,
      "outputs": []
    },
    {
      "cell_type": "code",
      "metadata": {
        "id": "XSQR4I6hyEds",
        "colab": {
          "base_uri": "https://localhost:8080/"
        },
        "outputId": "8be489b9-0091-47b3-f4db-79b0fd5f5dc7"
      },
      "source": [
        "hypotenuse_squared = np.add.outer(x ** 2, y ** 2) \n",
        "hypotenuse= np.sqrt(hypotenuse_squared)\n",
        "hypotenuse"
      ],
      "execution_count": 319,
      "outputs": [
        {
          "output_type": "execute_result",
          "data": {
            "text/plain": [
              "array([[ 1.4142,  2.2361,  3.1623,  4.1231,  5.099 ,  6.0828,  7.0711,\n",
              "         8.0623,  9.0554],\n",
              "       [ 2.2361,  2.8284,  3.6056,  4.4721,  5.3852,  6.3246,  7.2801,\n",
              "         8.2462,  9.2195],\n",
              "       [ 3.1623,  3.6056,  4.2426,  5.    ,  5.831 ,  6.7082,  7.6158,\n",
              "         8.544 ,  9.4868],\n",
              "       [ 4.1231,  4.4721,  5.    ,  5.6569,  6.4031,  7.2111,  8.0623,\n",
              "         8.9443,  9.8489],\n",
              "       [ 5.099 ,  5.3852,  5.831 ,  6.4031,  7.0711,  7.8102,  8.6023,\n",
              "         9.434 , 10.2956],\n",
              "       [ 6.0828,  6.3246,  6.7082,  7.2111,  7.8102,  8.4853,  9.2195,\n",
              "        10.    , 10.8167],\n",
              "       [ 7.0711,  7.2801,  7.6158,  8.0623,  8.6023,  9.2195,  9.8995,\n",
              "        10.6301, 11.4018],\n",
              "       [ 8.0623,  8.2462,  8.544 ,  8.9443,  9.434 , 10.    , 10.6301,\n",
              "        11.3137, 12.0416],\n",
              "       [ 9.0554,  9.2195,  9.4868,  9.8489, 10.2956, 10.8167, 11.4018,\n",
              "        12.0416, 12.7279]])"
            ]
          },
          "metadata": {
            "tags": []
          },
          "execution_count": 319
        }
      ]
    },
    {
      "cell_type": "code",
      "metadata": {
        "id": "vhlcihVsyev2",
        "colab": {
          "base_uri": "https://localhost:8080/"
        },
        "outputId": "ff5d997d-6a55-4485-eb2a-d4723bcd3eb8"
      },
      "source": [
        "# mask them to find which ones are integer\n",
        "# first get the mask\n",
        "mask_non_int = numpy_function2_is_integer(hypotenuse)\n",
        "mask_non_int.astype(bool) #has to convert from object type to boolean type, o/w err"
      ],
      "execution_count": 320,
      "outputs": [
        {
          "output_type": "execute_result",
          "data": {
            "text/plain": [
              "array([[False, False, False, False, False, False, False, False, False],\n",
              "       [False, False, False, False, False, False, False, False, False],\n",
              "       [False, False, False,  True, False, False, False, False, False],\n",
              "       [False, False,  True, False, False, False, False, False, False],\n",
              "       [False, False, False, False, False, False, False, False, False],\n",
              "       [False, False, False, False, False, False, False,  True, False],\n",
              "       [False, False, False, False, False, False, False, False, False],\n",
              "       [False, False, False, False, False,  True, False, False, False],\n",
              "       [False, False, False, False, False, False, False, False, False]])"
            ]
          },
          "metadata": {
            "tags": []
          },
          "execution_count": 320
        }
      ]
    },
    {
      "cell_type": "code",
      "metadata": {
        "id": "nxHov4jaz6ac",
        "colab": {
          "base_uri": "https://localhost:8080/"
        },
        "outputId": "a444a9a2-7d46-4ed9-960b-1239dabeb601"
      },
      "source": [
        "# apply mask to get the result of long side of a right triangel\n",
        "filtered_nparray = hypotenuse[mask_non_int.astype(bool)]\n",
        "filtered_nparray"
      ],
      "execution_count": 321,
      "outputs": [
        {
          "output_type": "execute_result",
          "data": {
            "text/plain": [
              "array([ 5.,  5., 10., 10.])"
            ]
          },
          "metadata": {
            "tags": []
          },
          "execution_count": 321
        }
      ]
    },
    {
      "cell_type": "markdown",
      "metadata": {
        "id": "RsF9bgyivSWT"
      },
      "source": [
        "For m and n positive integers, and m greater than n\n",
        "\\begin{equation*}\n",
        "X = m^2 - n^2;  \n",
        "Y = 2mn;  \n",
        "Z = m^2 + n^2\n",
        "\\end{equation*}"
      ]
    },
    {
      "cell_type": "markdown",
      "metadata": {
        "id": "fG_OT1ZC6lEy"
      },
      "source": [
        "### Linear Algebra"
      ]
    },
    {
      "cell_type": "code",
      "metadata": {
        "id": "VhzyUTOb6oD8",
        "colab": {
          "base_uri": "https://localhost:8080/"
        },
        "outputId": "9057c149-c451-485c-f84f-2716253acd3b"
      },
      "source": [
        "my_first_matrix = np.matrix([[3, 3, 4], [1, 5, 9], [2, 6, 5]])\n",
        "my_first_matrix"
      ],
      "execution_count": 322,
      "outputs": [
        {
          "output_type": "execute_result",
          "data": {
            "text/plain": [
              "matrix([[3, 3, 4],\n",
              "        [1, 5, 9],\n",
              "        [2, 6, 5]])"
            ]
          },
          "metadata": {
            "tags": []
          },
          "execution_count": 322
        }
      ]
    },
    {
      "cell_type": "code",
      "metadata": {
        "id": "Znp6Zne06tUr",
        "colab": {
          "base_uri": "https://localhost:8080/"
        },
        "outputId": "da1080e5-61da-4670-ec76-0434143d2a4d"
      },
      "source": [
        "# transpose\n",
        "print(my_first_matrix.T)\n",
        "# inverse\n",
        "print(my_first_matrix.I)"
      ],
      "execution_count": 323,
      "outputs": [
        {
          "output_type": "stream",
          "text": [
            "[[3 1 2]\n",
            " [3 5 6]\n",
            " [4 9 5]]\n",
            "[[ 0.4531 -0.1406 -0.1094]\n",
            " [-0.2031 -0.1094  0.3594]\n",
            " [ 0.0625  0.1875 -0.1875]]\n"
          ],
          "name": "stdout"
        }
      ]
    },
    {
      "cell_type": "markdown",
      "metadata": {
        "id": "quDji54GD3Iq"
      },
      "source": [
        "Covarance Matrix <br>\n",
        "example: vector x, y <br>\n",
        "Covarance Matrix of these 2 vectors = \n",
        "$ \\begin{bmatrix}\n",
        "var(x) & cov(x,y)\\\\\n",
        "cov(x,y) & var(y)\n",
        "\\end{bmatrix} $ <br>\n",
        "where <br>\n",
        "$ var(x) = \\sigma^2 = \\frac{\\Sigma(x-\\bar{x})^2}{n-1}  $\n"
      ]
    },
    {
      "cell_type": "code",
      "metadata": {
        "id": "qjJeWSuJD3Iq",
        "outputId": "9b68f5ce-7ffa-48f5-a745-ef565a3d37af",
        "colab": {
          "base_uri": "https://localhost:8080/"
        }
      },
      "source": [
        "my_covarnace_matrix = np.matrix([[3, 1, 2], [3, 2, 4]])\n",
        "np.cov(my_covarnace_matrix)"
      ],
      "execution_count": 324,
      "outputs": [
        {
          "output_type": "execute_result",
          "data": {
            "text/plain": [
              "array([[1. , 0.5],\n",
              "       [0.5, 1. ]])"
            ]
          },
          "metadata": {
            "tags": []
          },
          "execution_count": 324
        }
      ]
    },
    {
      "cell_type": "markdown",
      "metadata": {
        "id": "fbdPfecnD3Ir"
      },
      "source": [
        "$ var(x) = \\sigma^2 = \\frac{\\Sigma(x-\\bar{x})^2}{n-1}  $"
      ]
    },
    {
      "cell_type": "code",
      "metadata": {
        "id": "cQGC3SzqD3Ir",
        "outputId": "8c4f8e33-3dad-45d6-9203-9b4fd8f63d87",
        "colab": {
          "base_uri": "https://localhost:8080/"
        }
      },
      "source": [
        "# manual covarance matrix calculation\n",
        "np.var(my_covarnace_matrix, ddof=1, axis=1)"
      ],
      "execution_count": 325,
      "outputs": [
        {
          "output_type": "execute_result",
          "data": {
            "text/plain": [
              "matrix([[1.],\n",
              "        [1.]])"
            ]
          },
          "metadata": {
            "tags": []
          },
          "execution_count": 325
        }
      ]
    },
    {
      "cell_type": "markdown",
      "metadata": {
        "id": "ZujflYfbD3Ir"
      },
      "source": [
        "$cov(x,y) = \\frac{\\Sigma(x_i-\\bar{x})(y_i-\\bar{y})}{n-1}  $ <br>\n",
        "In this case, \\[ 3, 1, 2 \\] has $\\bar{x} = 2$; $\\Sigma(x_i-\\bar{x})$ = \\[1, -1, 0 \\] <br>\n",
        "In this case, \\[ 3, 2, 4 \\] has $\\bar{y} = 3$; $\\Sigma(y_i-\\bar{y})$ = \\[0, -1, 1 \\] <br>\n",
        "$cov(x,y) = \\frac{\\Sigma(x_i-\\bar{x})(y_i-\\bar{y})}{n-1}  $ <br> therefore = 0.5"
      ]
    },
    {
      "cell_type": "code",
      "metadata": {
        "id": "vZrQKcguD3Is",
        "outputId": "a638f7d3-6fa2-4923-a3c6-56fe71c3eefd",
        "colab": {
          "base_uri": "https://localhost:8080/"
        }
      },
      "source": [
        "np.cov(my_covarnace_matrix[0], my_covarnace_matrix[1])[0][1]"
      ],
      "execution_count": 326,
      "outputs": [
        {
          "output_type": "execute_result",
          "data": {
            "text/plain": [
              "0.5"
            ]
          },
          "metadata": {
            "tags": []
          },
          "execution_count": 326
        }
      ]
    },
    {
      "cell_type": "code",
      "metadata": {
        "id": "5vz8pmoX7FOT",
        "colab": {
          "base_uri": "https://localhost:8080/"
        },
        "outputId": "b33d639a-3efe-453a-cab4-bd8d3e0e5d3e"
      },
      "source": [
        "# create an identity matrix\n",
        "np.eye(5) # my_matrix = np.asmatrix(np.eye(5, dtype='int')) to define dtype"
      ],
      "execution_count": 327,
      "outputs": [
        {
          "output_type": "execute_result",
          "data": {
            "text/plain": [
              "array([[1., 0., 0., 0., 0.],\n",
              "       [0., 1., 0., 0., 0.],\n",
              "       [0., 0., 1., 0., 0.],\n",
              "       [0., 0., 0., 1., 0.],\n",
              "       [0., 0., 0., 0., 1.]])"
            ]
          },
          "metadata": {
            "tags": []
          },
          "execution_count": 327
        }
      ]
    },
    {
      "cell_type": "markdown",
      "metadata": {
        "id": "bFJL3lBr7XGo"
      },
      "source": [
        "\\begin{equation*}\n",
        "AX = C\n",
        "\\end{equation*}\n",
        "\\begin{equation*}\n",
        "X = A^{-1}C\n",
        "\\end{equation*}"
      ]
    },
    {
      "cell_type": "code",
      "metadata": {
        "id": "RsCy-DBV7gKQ"
      },
      "source": [
        "c = np.matrix([[11],\n",
        "               [22],\n",
        "               [33]])"
      ],
      "execution_count": 328,
      "outputs": []
    },
    {
      "cell_type": "code",
      "metadata": {
        "id": "3RYZ8bkJ8fKf",
        "colab": {
          "base_uri": "https://localhost:8080/"
        },
        "outputId": "e151dcf3-56ab-4077-b1a4-8539b7968313"
      },
      "source": [
        "solution=my_first_matrix.I * c\n",
        "solution"
      ],
      "execution_count": 329,
      "outputs": [
        {
          "output_type": "execute_result",
          "data": {
            "text/plain": [
              "matrix([[-1.7188],\n",
              "        [ 7.2188],\n",
              "        [-1.375 ]])"
            ]
          },
          "metadata": {
            "tags": []
          },
          "execution_count": 329
        }
      ]
    },
    {
      "cell_type": "markdown",
      "metadata": {
        "id": "tBu-6JtN9H1x"
      },
      "source": [
        "\\begin{equation*}\n",
        "AX - C = [0]\n",
        "\\end{equation*}"
      ]
    },
    {
      "cell_type": "code",
      "metadata": {
        "id": "_O5F8tpC8vck",
        "colab": {
          "base_uri": "https://localhost:8080/"
        },
        "outputId": "6d81ea0c-c51c-4771-fa0a-5d82d2b93bf8"
      },
      "source": [
        "# confirm that solution is correct\n",
        "my_first_matrix * solution - c"
      ],
      "execution_count": 330,
      "outputs": [
        {
          "output_type": "execute_result",
          "data": {
            "text/plain": [
              "matrix([[0.],\n",
              "        [0.],\n",
              "        [0.]])"
            ]
          },
          "metadata": {
            "tags": []
          },
          "execution_count": 330
        }
      ]
    },
    {
      "cell_type": "code",
      "metadata": {
        "id": "F6F5iXTs8_Xh",
        "colab": {
          "base_uri": "https://localhost:8080/"
        },
        "outputId": "45691717-5736-45ff-9e17-94b910d2a44c"
      },
      "source": [
        "# to solve large matrices efficiently\n",
        "from numpy.linalg import solve\n",
        "solve(my_first_matrix, c)"
      ],
      "execution_count": 331,
      "outputs": [
        {
          "output_type": "execute_result",
          "data": {
            "text/plain": [
              "matrix([[-1.7188],\n",
              "        [ 7.2188],\n",
              "        [-1.375 ]])"
            ]
          },
          "metadata": {
            "tags": []
          },
          "execution_count": 331
        }
      ]
    },
    {
      "cell_type": "code",
      "metadata": {
        "id": "45fR-GFp90d3",
        "colab": {
          "base_uri": "https://localhost:8080/"
        },
        "outputId": "18bd0e16-c58a-4bd3-d6f9-4baa111e3651"
      },
      "source": [
        "# Compute the eigenvalues and right eigenvectors\n",
        "from numpy.linalg import eig\n",
        "eig(my_first_matrix)"
      ],
      "execution_count": 332,
      "outputs": [
        {
          "output_type": "execute_result",
          "data": {
            "text/plain": [
              "(array([13.3899,  2.    , -2.3899]),\n",
              " matrix([[ 4.2546e-01,  9.4868e-01, -4.4260e-02],\n",
              "         [ 6.8505e-01, -3.1623e-01, -7.6968e-01],\n",
              "         [ 5.9134e-01, -1.4996e-16,  6.3690e-01]]))"
            ]
          },
          "metadata": {
            "tags": []
          },
          "execution_count": 332
        }
      ]
    },
    {
      "cell_type": "markdown",
      "metadata": {
        "id": "-WBTEWnc-luP"
      },
      "source": [
        "### Arithmatic sequence"
      ]
    },
    {
      "cell_type": "code",
      "metadata": {
        "id": "7hwPsCf598DL",
        "colab": {
          "base_uri": "https://localhost:8080/"
        },
        "outputId": "a6a2762f-01e1-40c1-8a7b-56803c33650e"
      },
      "source": [
        "my_teaser_array = np.array([1, 7, 19, 37, 61, 91, 127, 169, 217, 271, 331])\n",
        "np.diff(my_teaser_array)"
      ],
      "execution_count": 333,
      "outputs": [
        {
          "output_type": "execute_result",
          "data": {
            "text/plain": [
              "array([ 6, 12, 18, 24, 30, 36, 42, 48, 54, 60])"
            ]
          },
          "metadata": {
            "tags": []
          },
          "execution_count": 333
        }
      ]
    },
    {
      "cell_type": "code",
      "metadata": {
        "id": "7QS-ixE0-5f_",
        "colab": {
          "base_uri": "https://localhost:8080/"
        },
        "outputId": "2b60e6f3-87e8-4dde-eddc-7ec8f888a4f0"
      },
      "source": [
        "np.diff(my_teaser_array, n=2)"
      ],
      "execution_count": 334,
      "outputs": [
        {
          "output_type": "execute_result",
          "data": {
            "text/plain": [
              "array([6, 6, 6, 6, 6, 6, 6, 6, 6])"
            ]
          },
          "metadata": {
            "tags": []
          },
          "execution_count": 334
        }
      ]
    },
    {
      "cell_type": "code",
      "metadata": {
        "id": "oR53FdYE-7yn",
        "colab": {
          "base_uri": "https://localhost:8080/"
        },
        "outputId": "359df83f-d98a-4bdd-9fd7-60d132f53f66"
      },
      "source": [
        "np.diff(my_teaser_array, n=3)"
      ],
      "execution_count": 335,
      "outputs": [
        {
          "output_type": "execute_result",
          "data": {
            "text/plain": [
              "array([0, 0, 0, 0, 0, 0, 0, 0])"
            ]
          },
          "metadata": {
            "tags": []
          },
          "execution_count": 335
        }
      ]
    },
    {
      "cell_type": "markdown",
      "metadata": {
        "id": "lFBBVqWXCH3_"
      },
      "source": [
        "### Statistics with Scipy"
      ]
    },
    {
      "cell_type": "code",
      "metadata": {
        "id": "XlF0vXVE-8pG",
        "colab": {
          "base_uri": "https://localhost:8080/"
        },
        "outputId": "4254eee5-7e76-4998-b2d7-6114200f9be3"
      },
      "source": [
        "%matplotlib inline\n",
        "import scipy as sp\n",
        "import numpy as np\n",
        "import matplotlib.pyplot as plt\n",
        "\n",
        "from scipy.stats import norm\n",
        "\n",
        "random_data_set = sp.randn(100) #normal distrubtion data set\n",
        "type(random_data_set)"
      ],
      "execution_count": 336,
      "outputs": [
        {
          "output_type": "stream",
          "text": [
            "/usr/local/lib/python3.7/dist-packages/ipykernel_launcher.py:8: DeprecationWarning: scipy.randn is deprecated and will be removed in SciPy 2.0.0, use numpy.random.randn instead\n",
            "  \n"
          ],
          "name": "stderr"
        },
        {
          "output_type": "execute_result",
          "data": {
            "text/plain": [
              "numpy.ndarray"
            ]
          },
          "metadata": {
            "tags": []
          },
          "execution_count": 336
        }
      ]
    },
    {
      "cell_type": "markdown",
      "metadata": {
        "id": "-mdovYP9_qQK"
      },
      "source": [
        "#### descriptive statistics\n",
        "##### mean"
      ]
    },
    {
      "cell_type": "code",
      "metadata": {
        "id": "Mc_g3bzE_qQK",
        "colab": {
          "base_uri": "https://localhost:8080/"
        },
        "outputId": "f2e39a41-490f-4f3f-fc4c-a3bcf60ece66"
      },
      "source": [
        "print(random_data_set.mean())\n",
        "print(sp.mean(random_data_set))"
      ],
      "execution_count": 337,
      "outputs": [
        {
          "output_type": "stream",
          "text": [
            "0.031278583561209945\n",
            "0.031278583561209945\n"
          ],
          "name": "stdout"
        },
        {
          "output_type": "stream",
          "text": [
            "/usr/local/lib/python3.7/dist-packages/ipykernel_launcher.py:2: DeprecationWarning: scipy.mean is deprecated and will be removed in SciPy 2.0.0, use numpy.mean instead\n",
            "  \n"
          ],
          "name": "stderr"
        }
      ]
    },
    {
      "cell_type": "markdown",
      "metadata": {
        "id": "x2zpcjRu_qQN"
      },
      "source": [
        "##### median"
      ]
    },
    {
      "cell_type": "code",
      "metadata": {
        "id": "IJzG8iKJ_qQO",
        "colab": {
          "base_uri": "https://localhost:8080/"
        },
        "outputId": "8dcdf326-ad2a-489c-bfce-874deb46e1a2"
      },
      "source": [
        "#ndarray don't have median method/attribute\n",
        "sp.median(random_data_set)\n"
      ],
      "execution_count": 338,
      "outputs": [
        {
          "output_type": "stream",
          "text": [
            "/usr/local/lib/python3.7/dist-packages/ipykernel_launcher.py:2: DeprecationWarning: scipy.median is deprecated and will be removed in SciPy 2.0.0, use numpy.median instead\n",
            "  \n"
          ],
          "name": "stderr"
        },
        {
          "output_type": "execute_result",
          "data": {
            "text/plain": [
              "0.027700877203864917"
            ]
          },
          "metadata": {
            "tags": []
          },
          "execution_count": 338
        }
      ]
    },
    {
      "cell_type": "markdown",
      "metadata": {
        "id": "vKKkgd0J_qQR"
      },
      "source": [
        "##### minimum and maximum"
      ]
    },
    {
      "cell_type": "code",
      "metadata": {
        "id": "xFgpNqSZ_qQR",
        "colab": {
          "base_uri": "https://localhost:8080/"
        },
        "outputId": "42199150-3bf3-4a2e-cf86-38bfdc5b779f"
      },
      "source": [
        "# max, min only in nparray method, scipy has maximum in different meaning\n",
        "min_max = np.array([random_data_set.min(), random_data_set.max()])\n",
        "min_max"
      ],
      "execution_count": 339,
      "outputs": [
        {
          "output_type": "execute_result",
          "data": {
            "text/plain": [
              "array([-1.9394,  1.8494])"
            ]
          },
          "metadata": {
            "tags": []
          },
          "execution_count": 339
        }
      ]
    },
    {
      "cell_type": "markdown",
      "metadata": {
        "id": "GKWwUWX__qQW"
      },
      "source": [
        "##### standard deviation and variance"
      ]
    },
    {
      "cell_type": "code",
      "metadata": {
        "id": "1sPpzJi5_qQX",
        "colab": {
          "base_uri": "https://localhost:8080/"
        },
        "outputId": "b7819173-b0a0-4b8b-c4fc-41921c9398fc"
      },
      "source": [
        "spread_measures = np.array([sp.std(random_data_set), sp.var(random_data_set)])\n",
        "spread_measures"
      ],
      "execution_count": 340,
      "outputs": [
        {
          "output_type": "stream",
          "text": [
            "/usr/local/lib/python3.7/dist-packages/ipykernel_launcher.py:1: DeprecationWarning: scipy.std is deprecated and will be removed in SciPy 2.0.0, use numpy.std instead\n",
            "  \"\"\"Entry point for launching an IPython kernel.\n",
            "/usr/local/lib/python3.7/dist-packages/ipykernel_launcher.py:1: DeprecationWarning: scipy.var is deprecated and will be removed in SciPy 2.0.0, use numpy.var instead\n",
            "  \"\"\"Entry point for launching an IPython kernel.\n"
          ],
          "name": "stderr"
        },
        {
          "output_type": "execute_result",
          "data": {
            "text/plain": [
              "array([0.9275, 0.8602])"
            ]
          },
          "metadata": {
            "tags": []
          },
          "execution_count": 340
        }
      ]
    },
    {
      "cell_type": "code",
      "metadata": {
        "id": "Kts7gCW9_qQc",
        "colab": {
          "base_uri": "https://localhost:8080/"
        },
        "outputId": "bf1c3d61-77ed-4bdd-b93c-11a6b4bf3449"
      },
      "source": [
        "sp.stats.describe(random_data_set)"
      ],
      "execution_count": 341,
      "outputs": [
        {
          "output_type": "execute_result",
          "data": {
            "text/plain": [
              "DescribeResult(nobs=100, minmax=(-1.9394397613997378, 1.8494465501413686), mean=0.031278583561209945, variance=0.8688638776155118, skewness=-0.12588952342028897, kurtosis=-0.7998759714299841)"
            ]
          },
          "metadata": {
            "tags": []
          },
          "execution_count": 341
        }
      ]
    },
    {
      "cell_type": "markdown",
      "metadata": {
        "id": "PeVKQKEe_qQh"
      },
      "source": [
        "#### Probability Distributions\n",
        "- continuous distributions\n",
        "    - Normal: norm\n",
        "    - Chi squared: chi2\n",
        "    - Student's T: t\n",
        "    - Uniform: uniform\n",
        "- discrete distributions\n",
        "    - Poisson: poisson\n",
        "    - Binomial: binomial"
      ]
    },
    {
      "cell_type": "markdown",
      "metadata": {
        "id": "JCeqG-hR_qQi"
      },
      "source": [
        "##### Normal Distribution\n",
        "documentation: http://docs.scipy.org/doc/scipy-0.16.0/reference/generated/scipy.stats.norm.html"
      ]
    },
    {
      "cell_type": "code",
      "metadata": {
        "id": "gEbqboxvwB7m",
        "colab": {
          "base_uri": "https://localhost:8080/"
        },
        "outputId": "3d7eab6a-bc3b-474f-ba06-20f0a7b82066"
      },
      "source": [
        "# assume an area's people's IQ\n",
        "iq_mean = 100\n",
        "iq_std_dev = 15\n",
        "iq_distribution = norm(loc=iq_mean, scale=iq_std_dev)\n",
        "for n in np.arange(8):\n",
        "    print('{:6.2f}'.format(iq_distribution.rvs())) # rvs is random variable function"
      ],
      "execution_count": 342,
      "outputs": [
        {
          "output_type": "stream",
          "text": [
            "103.97\n",
            " 91.47\n",
            "117.20\n",
            " 77.34\n",
            " 96.60\n",
            "108.52\n",
            " 94.48\n",
            " 82.15\n"
          ],
          "name": "stdout"
        }
      ]
    },
    {
      "cell_type": "markdown",
      "metadata": {
        "id": "Av8qGrOm_qQn"
      },
      "source": [
        "probability density function (PDF)\n",
        "\n",
        "For continuous variates, PDF is proportional to the probability of the variate being in a small interval about the input parameter"
      ]
    },
    {
      "cell_type": "code",
      "metadata": {
        "id": "K8yET3gHwoeH",
        "colab": {
          "base_uri": "https://localhost:8080/"
        },
        "outputId": "6c51d947-60ff-4511-a643-55f73496ad4d"
      },
      "source": [
        "iq_pdf = iq_distribution.pdf(110)\n",
        "print('{:6.2f}'.format(iq_pdf))"
      ],
      "execution_count": 343,
      "outputs": [
        {
          "output_type": "stream",
          "text": [
            "  0.02\n"
          ],
          "name": "stdout"
        }
      ]
    },
    {
      "cell_type": "markdown",
      "metadata": {
        "id": "XkKiNyUDyMAG"
      },
      "source": [
        "cumulative density function (CDF)\n",
        "\n",
        "For continuous variates, CDF gives the probability that the variate has a value less than or equal to the input parameter"
      ]
    },
    {
      "cell_type": "code",
      "metadata": {
        "id": "JpJpHMtax9wm",
        "colab": {
          "base_uri": "https://localhost:8080/"
        },
        "outputId": "37ea1655-0214-4bbf-8ff4-d69dc18c889f"
      },
      "source": [
        "iq_value = 120\n",
        "iq_below = iq_distribution.cdf (iq_value)\n",
        "iq_above = 1 - iq_below\n",
        "print('Probability that IQ is below{:4d} is {:4.2f}; probability above: {:4.2f}'.format(iq_value, iq_below, iq_above))"
      ],
      "execution_count": 344,
      "outputs": [
        {
          "output_type": "stream",
          "text": [
            "Probability that IQ is below 120 is 0.91; probability above: 0.09\n"
          ],
          "name": "stdout"
        }
      ]
    },
    {
      "cell_type": "code",
      "metadata": {
        "id": "YtUujo_WySPT",
        "colab": {
          "base_uri": "https://localhost:8080/",
          "height": 295
        },
        "outputId": "928f356a-a263-40bf-8156-db5bc406ad2a"
      },
      "source": [
        "#draw me a picture\n",
        "mu, sigma = 100, 15\n",
        "data_set = mu + sigma * np.random.randn(10000)\n",
        "\n",
        "# the histogram of the data\n",
        "n, bins, patches = plt.hist(data_set, 50, stacked=True, density=True, facecolor='g', alpha=0.75)\n",
        "\n",
        "plt.xlabel('IQ Score')\n",
        "plt.ylabel('Probability')\n",
        "plt.title('Histogram of IQ')\n",
        "plt.text(60, .025, r'$\\mu=100,\\ \\sigma=15$')\n",
        "plt.axis([40, 160, 0, 0.03])\n",
        "plt.grid(True)\n",
        "plt.show()"
      ],
      "execution_count": 345,
      "outputs": [
        {
          "output_type": "display_data",
          "data": {
            "image/png": "[encoded data removed]",
            "text/plain": [
              "<Figure size 432x288 with 1 Axes>"
            ]
          },
          "metadata": {
            "tags": [],
            "needs_background": "light"
          }
        }
      ]
    },
    {
      "cell_type": "markdown",
      "metadata": {
        "id": "g1Cd-l-t-v2f"
      },
      "source": [
        "##Complex algo and examples"
      ]
    },
    {
      "cell_type": "markdown",
      "metadata": {
        "id": "g-ab7h-1-_gQ"
      },
      "source": [
        "Solving for the roots of a polynomial, equivalent to finding a base\n",
        "\\begin{equation*}\n",
        "96 = 3 X^2 + 4 X^1 + 1 x X^0\n",
        "\\end{equation*}"
      ]
    },
    {
      "cell_type": "code",
      "metadata": {
        "id": "8BnlHvh6ybvH",
        "colab": {
          "base_uri": "https://localhost:8080/"
        },
        "outputId": "37699fc5-3d0c-4847-db24-1a95ebf5c467"
      },
      "source": [
        "equation_coefficients = [3, 4, -95]\n",
        "np.roots(equation_coefficients)"
      ],
      "execution_count": 357,
      "outputs": [
        {
          "output_type": "execute_result",
          "data": {
            "text/plain": [
              "array([-6.3333,  5.    ])"
            ]
          },
          "metadata": {
            "tags": []
          },
          "execution_count": 357
        }
      ]
    },
    {
      "cell_type": "markdown",
      "metadata": {
        "id": "rhRYoDPbBWVx"
      },
      "source": [
        "\\begin{equation*}\n",
        "2 X^3 + 3 X^2 + 4 X^1 + 9 = 0\n",
        "\\end{equation*}"
      ]
    },
    {
      "cell_type": "code",
      "metadata": {
        "id": "QTHagz_D_jAk",
        "colab": {
          "base_uri": "https://localhost:8080/"
        },
        "outputId": "e1d4618e-fcaa-4ae5-ed53-152785dc18d4"
      },
      "source": [
        "equation_coefficients = [2, 3, 4, 9]\n",
        "np.roots(equation_coefficients)"
      ],
      "execution_count": 358,
      "outputs": [
        {
          "output_type": "execute_result",
          "data": {
            "text/plain": [
              "array([-1.7885+0.j    ,  0.1443+1.5796j,  0.1443-1.5796j])"
            ]
          },
          "metadata": {
            "tags": []
          },
          "execution_count": 358
        }
      ]
    },
    {
      "cell_type": "code",
      "metadata": {
        "id": "9JsU55Ry_qfJ"
      },
      "source": [
        ""
      ],
      "execution_count": 358,
      "outputs": []
    }
  ]
}
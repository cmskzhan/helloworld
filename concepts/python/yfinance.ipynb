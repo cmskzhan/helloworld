{
  "cells": [
    {
      "cell_type": "markdown",
      "metadata": {
        "id": "view-in-github",
        "colab_type": "text"
      },
      "source": [
        "<a href=\"https://colab.research.google.com/github/cmskzhan/a2b2c/blob/master/yfinance.ipynb\" target=\"_parent\"><img src=\"https://colab.research.google.com/assets/colab-badge.svg\" alt=\"Open In Colab\"/></a>"
      ]
    },
    {
      "cell_type": "code",
      "metadata": {
        "id": "p9X8xlHytbCq",
        "colab_type": "code",
        "colab": {
          "base_uri": "https://localhost:8080/",
          "height": 1000
        },
        "outputId": "0a3dc9d9-fe71-465e-ce1b-71265e18b176",
        "tags": []
      },
      "source": [
        "# !pip install yfinance\n",
        "import yfinance as yf\n",
        "abt=yf.Ticker(\"ABT\")\n",
        "abt_info=abt.info\n",
        "print('fieldname vlu')\n",
        "\n",
        "for fieldname, vlu in abt_info.items():\n",
        "  print(fieldname, vlu)\n",
        "\n"
      ],
      "execution_count": 11,
      "outputs": [
        {
          "output_type": "stream",
          "name": "stdout",
          "text": [
            "fieldname vlu\nzip 60064\nsector Healthcare\nfullTimeEmployees 107000\nlongBusinessSummary Abbott Laboratories discovers, develops, manufactures, and sells health care products worldwide. Its Established Pharmaceutical Products segment offers generic pharmaceuticals for the treatment of pancreatic exocrine insufficiency; irritable bowel syndrome or biliary spasm; intrahepatic cholestasis or depressive symptom; gynecological disorder; hormone replacement therapy; dyslipidemia; hypertension; hypothyroidism; MÃ©niÃ¨re's disease and vestibular vertigo; pain, fever, and inflammation; migraine; and anti-infective clarithromycin, as well as provides influenza vaccines and products that regulate physiological rhythm of the colon. The company's Diagnostic Products segment offers laboratory systems in the areas of immunoassay, clinical chemistry, hematology, and transfusion; molecular diagnostics systems that automates the extraction, purification, and preparation of DNA and RNA from patient samples, as well as detects and measures infectious agents; cartridges for blood analysis; rapid diagnostics systems; molecular point-of-care testing for HIV, influenza A and B, RSV, and strep A; cardiometabolic test systems; drug and alcohol test systems, as well as remote patient monitoring and consumer self-test systems; and informatics and automation solutions for use in laboratories. Its Nutritional Products segment provides pediatric and adult nutritional products. The company's Medical Devices segment offers rhythm management, electrophysiology, heart failure, vascular, and structural heart devices for the treatment of cardiovascular diseases, as well as neuromodulation devices for the management of chronic pain and movement disorders. This segment also provides glucose and blood glucose monitoring systems. Abbott Laboratories has an agreement with Tandem Diabetes Care to develop and commercialize integrated diabetes solutions. The company was founded in 1888 and is headquartered in North Chicago, Illinois.\ncity North Chicago\nphone 224 667 6100\nstate IL\ncountry United States\ncompanyOfficers []\nwebsite http://www.abbott.com\nmaxAge 1\naddress1 100 Abbott Park Road\nindustry Medical Devices\naddress2 Department 377 Building AP6A-1, Abbott park\npreviousClose 114.72\nregularMarketOpen 114.25\ntwoHundredDayAverage 106.47788\ntrailingAnnualDividendYield 0.012552301\npayoutRatio 0.7447\nvolume24Hr None\nregularMarketDayHigh 115.1199\nnavPrice None\naverageDailyVolume10Day 4631866\ntotalAssets None\nregularMarketPreviousClose 114.72\nfiftyDayAverage 109.6603\ntrailingAnnualDividendRate 1.44\nopen 114.25\ntoCurrency None\naverageVolume10days 4631866\nexpireDate None\nyield None\nalgorithm None\ndividendRate 1.8\nexDividendDate 1610582400\nbeta 0.825105\ncirculatingSupply None\nstartDate None\nregularMarketDayLow 113.7938\npriceHint 2\ncurrency USD\ntrailingPE 60.671604\nregularMarketVolume 3952932\nlastMarket None\nmaxSupply None\nopenInterest None\nmarketCap 203342856192\nvolumeAllCurrencies None\nstrikePrice None\naverageVolume 4833935\npriceToSalesTrailing12Months 6.3108797\ndayLow 113.7938\nask 0\nytdReturn None\naskSize 800\nvolume 3952932\nfiftyTwoWeekHigh 115.4\nforwardPE 26.254005\nfromCurrency None\nfiveYearAvgDividendYield 1.86\nfiftyTwoWeekLow 61.61\nbid 0\ntradeable False\ndividendYield 0.015700001\nbidSize 900\ndayHigh 115.1199\nexchange NYQ\nshortName Abbott Laboratories\nlongName Abbott Laboratories\nexchangeTimezoneName America/New_York\nexchangeTimezoneShortName EST\nisEsgPopulated False\ngmtOffSetMilliseconds -18000000\nquoteType EQUITY\nsymbol ABT\nmessageBoardId finmb_247483\nmarket us_market\nannualHoldingsTurnover None\nenterpriseToRevenue 6.747\nbeta3Year None\nprofitMargins 0.10496\nenterpriseToEbitda 27.788\n52WeekChange 0.2870766\nmorningStarRiskRating None\nforwardEps 4.37\nrevenueQuarterlyGrowth None\nsharesOutstanding 1772359936\nfundInceptionDate None\nannualReportExpenseRatio None\nbookValue 17.709\nsharesShort 9936629\nsharesPercentSharesOut 0.0056\nfundFamily None\nlastFiscalYearEnd 1577750400\nheldPercentInstitutions 0.75579\nnetIncomeToCommon 3345999872\ntrailingEps 1.891\nlastDividendValue 0.45\nSandP52WeekChange 0.17603111\npriceToBook 6.478627\nheldPercentInsiders 0.00693\nnextFiscalYearEnd 1640908800\nmostRecentQuarter 1601424000\nshortRatio 2.19\nsharesShortPreviousMonthDate 1606694400\nfloatShares 1758590332\nenterpriseValue 217384042496\nthreeYearAverageReturn None\nlastSplitDate 1357084800\nlastSplitFactor 10000:4798\nlegalType None\nlastDividendDate 1610582400\nmorningStarOverallRating None\nearningsQuarterlyGrowth 0.283\ndateShortInterest 1609372800\npegRatio 2.39\nlastCapGain None\nshortPercentOfFloat 0.0057\nsharesShortPriorMonth 9768079\nimpliedSharesOutstanding None\ncategory None\nfiveYearAverageReturn None\nregularMarketPrice 114.25\nlogo_url https://logo.clearbit.com/abbott.com\n"
          ]
        }
      ]
    },
    {
      "cell_type": "code",
      "execution_count": 12,
      "metadata": {},
      "outputs": [
        {
          "output_type": "execute_result",
          "data": {
            "text/plain": [
              "'Healthcare'"
            ]
          },
          "metadata": {},
          "execution_count": 12
        }
      ],
      "source": [
        "abt_info['sector']"
      ]
    },
    {
      "cell_type": "code",
      "execution_count": 13,
      "metadata": {},
      "outputs": [
        {
          "output_type": "execute_result",
          "data": {
            "text/plain": [
              "0.36"
            ]
          },
          "metadata": {},
          "execution_count": 13
        }
      ],
      "source": [
        "abt.dividends['2020-10-14']"
      ]
    },
    {
      "cell_type": "code",
      "metadata": {
        "id": "Jk504LvLtbCx",
        "colab_type": "code",
        "colab": {}
      },
      "source": [
        "import pandas as pd\n",
        "pd.set_option('display.max_rows', 500)\n",
        "pd.set_option('display.max_columns', 4)\n",
        "pd.set_option('display.width', 800)\n",
        "abt_finance=abt.quarterly_financials\n",
        "print(abt_finance)"
      ],
      "execution_count": 4,
      "outputs": [
        {
          "output_type": "stream",
          "name": "stdout",
          "text": [
            "Empty DataFrame\nColumns: [Open, High, Low, Close, Adj Close, Volume]\nIndex: []\n\n[0 rows x 6 columns]\n"
          ]
        }
      ]
    },
    {
      "cell_type": "code",
      "execution_count": 10,
      "metadata": {},
      "outputs": [
        {
          "output_type": "execute_result",
          "data": {
            "text/plain": [
              "              Open    High  ...  Dividends  Stock Splits\n",
              "Date                        ...                         \n",
              "2020-12-28  108.96  109.10  ...       0.00             0\n",
              "2020-12-28  108.24  108.38  ...       0.00             0\n",
              "2020-12-28  107.75  107.78  ...       0.00             0\n",
              "2020-12-28  107.54  107.57  ...       0.00             0\n",
              "2020-12-28  107.36  107.57  ...       0.00             0\n",
              "2020-12-28  107.51  107.71  ...       0.00             0\n",
              "2020-12-28  107.50  107.85  ...       0.00             0\n",
              "2020-12-29  108.50  108.94  ...       0.00             0\n",
              "2020-12-29  108.61  108.68  ...       0.00             0\n",
              "2020-12-29  108.56  108.78  ...       0.00             0\n",
              "2020-12-29  108.63  108.63  ...       0.00             0\n",
              "2020-12-29  108.56  108.59  ...       0.00             0\n",
              "2020-12-29  108.38  108.73  ...       0.00             0\n",
              "2020-12-29  108.69  108.76  ...       0.00             0\n",
              "2020-12-30  108.69  109.11  ...       0.00             0\n",
              "2020-12-30  108.83  108.95  ...       0.00             0\n",
              "2020-12-30  108.10  108.21  ...       0.00             0\n",
              "2020-12-30  108.16  108.42  ...       0.00             0\n",
              "2020-12-30  108.14  108.40  ...       0.00             0\n",
              "2020-12-30  108.14  108.39  ...       0.00             0\n",
              "2020-12-30  108.39  108.63  ...       0.00             0\n",
              "2020-12-31  108.17  108.67  ...       0.00             0\n",
              "2020-12-31  108.28  108.39  ...       0.00             0\n",
              "2020-12-31  107.97  108.49  ...       0.00             0\n",
              "2020-12-31  108.46  108.61  ...       0.00             0\n",
              "2020-12-31  108.27  108.98  ...       0.00             0\n",
              "2020-12-31  108.90  109.42  ...       0.00             0\n",
              "2020-12-31  109.34  109.64  ...       0.00             0\n",
              "2021-01-04  109.80  110.25  ...       0.00             0\n",
              "2021-01-04  110.03  110.12  ...       0.00             0\n",
              "2021-01-04  108.65  108.73  ...       0.00             0\n",
              "2021-01-04  107.62  108.15  ...       0.00             0\n",
              "2021-01-04  108.03  108.40  ...       0.00             0\n",
              "2021-01-04  108.30  108.66  ...       0.00             0\n",
              "2021-01-04  108.48  109.32  ...       0.00             0\n",
              "2021-01-05  108.85  109.58  ...       0.00             0\n",
              "2021-01-05  109.10  109.14  ...       0.00             0\n",
              "2021-01-05  108.85  109.44  ...       0.00             0\n",
              "2021-01-05  109.16  109.60  ...       0.00             0\n",
              "2021-01-05  109.41  110.41  ...       0.00             0\n",
              "2021-01-05  110.36  110.91  ...       0.00             0\n",
              "2021-01-05  110.35  110.68  ...       0.00             0\n",
              "2021-01-06  108.95  110.83  ...       0.00             0\n",
              "2021-01-06  110.32  111.03  ...       0.00             0\n",
              "2021-01-06  110.42  110.67  ...       0.00             0\n",
              "2021-01-06  110.00  110.92  ...       0.00             0\n",
              "2021-01-06  110.86  111.02  ...       0.00             0\n",
              "2021-01-06  110.08  110.60  ...       0.00             0\n",
              "2021-01-06  110.39  110.51  ...       0.00             0\n",
              "2021-01-07  110.28  110.65  ...       0.00             0\n",
              "2021-01-07  110.50  110.72  ...       0.00             0\n",
              "2021-01-07  110.30  110.87  ...       0.00             0\n",
              "2021-01-07  110.66  111.17  ...       0.00             0\n",
              "2021-01-07  110.74  110.96  ...       0.00             0\n",
              "2021-01-07  110.33  111.07  ...       0.00             0\n",
              "2021-01-07  111.00  111.62  ...       0.00             0\n",
              "2021-01-08  111.67  112.55  ...       0.00             0\n",
              "2021-01-08  111.77  111.94  ...       0.00             0\n",
              "2021-01-08  111.46  111.60  ...       0.00             0\n",
              "2021-01-08  111.29  111.33  ...       0.00             0\n",
              "2021-01-08  110.61  110.99  ...       0.00             0\n",
              "2021-01-08  110.89  111.24  ...       0.00             0\n",
              "2021-01-08  111.17  111.83  ...       0.00             0\n",
              "2021-01-11  111.21  111.98  ...       0.00             0\n",
              "2021-01-11  111.16  111.57  ...       0.00             0\n",
              "2021-01-11  111.53  111.63  ...       0.00             0\n",
              "2021-01-11  110.82  111.12  ...       0.00             0\n",
              "2021-01-11  110.95  110.99  ...       0.00             0\n",
              "2021-01-11  110.47  110.85  ...       0.00             0\n",
              "2021-01-11  110.29  110.91  ...       0.00             0\n",
              "2021-01-12  110.52  110.72  ...       0.00             0\n",
              "2021-01-12  109.34  109.49  ...       0.00             0\n",
              "2021-01-12  108.88  108.97  ...       0.00             0\n",
              "2021-01-12  108.88  109.44  ...       0.00             0\n",
              "2021-01-12  109.20  109.56  ...       0.00             0\n",
              "2021-01-12  109.06  109.40  ...       0.00             0\n",
              "2021-01-12  108.97  109.22  ...       0.00             0\n",
              "2021-01-13  109.09  109.57  ...       0.00             0\n",
              "2021-01-13  109.36  111.08  ...       0.00             0\n",
              "2021-01-13  110.99  111.99  ...       0.00             0\n",
              "2021-01-13  111.68  112.20  ...       0.00             0\n",
              "2021-01-13  112.16  112.85  ...       0.00             0\n",
              "2021-01-13  112.55  112.90  ...       0.00             0\n",
              "2021-01-13  112.55  112.61  ...       0.00             0\n",
              "2021-01-14  111.21  111.66  ...       0.45             0\n",
              "2021-01-14  111.03  111.47  ...       0.00             0\n",
              "2021-01-14  110.87  111.24  ...       0.00             0\n",
              "2021-01-14  111.15  111.47  ...       0.00             0\n",
              "2021-01-14  111.03  111.24  ...       0.00             0\n",
              "2021-01-14  111.24  111.26  ...       0.00             0\n",
              "2021-01-14  110.61  110.72  ...       0.00             0\n",
              "2021-01-15  110.00  110.60  ...       0.00             0\n",
              "2021-01-15  109.46  110.18  ...       0.00             0\n",
              "2021-01-15  110.15  110.75  ...       0.00             0\n",
              "2021-01-15  110.62  110.83  ...       0.00             0\n",
              "2021-01-15  110.78  111.33  ...       0.00             0\n",
              "2021-01-15  111.21  111.62  ...       0.00             0\n",
              "2021-01-15  111.04  111.44  ...       0.00             0\n",
              "2021-01-19  111.74  113.09  ...       0.00             0\n",
              "2021-01-19  113.06  113.06  ...       0.00             0\n",
              "2021-01-19  112.10  112.57  ...       0.00             0\n",
              "2021-01-19  112.40  112.96  ...       0.00             0\n",
              "2021-01-19  112.91  113.13  ...       0.00             0\n",
              "2021-01-19  112.83  112.94  ...       0.00             0\n",
              "2021-01-19  112.62  113.00  ...       0.00             0\n",
              "2021-01-20  112.65  113.30  ...       0.00             0\n",
              "2021-01-20  112.47  112.79  ...       0.00             0\n",
              "2021-01-20  112.48  112.75  ...       0.00             0\n",
              "2021-01-20  112.59  113.37  ...       0.00             0\n",
              "2021-01-20  113.24  113.41  ...       0.00             0\n",
              "2021-01-20  113.21  113.53  ...       0.00             0\n",
              "2021-01-20  113.04  113.17  ...       0.00             0\n",
              "2021-01-21  112.25  112.76  ...       0.00             0\n",
              "2021-01-21  111.15  112.10  ...       0.00             0\n",
              "2021-01-21  111.75  112.59  ...       0.00             0\n",
              "2021-01-21  112.46  113.43  ...       0.00             0\n",
              "2021-01-21  113.45  113.54  ...       0.00             0\n",
              "2021-01-21  112.96  113.45  ...       0.00             0\n",
              "2021-01-21  113.36  113.52  ...       0.00             0\n",
              "2021-01-22  113.00  113.17  ...       0.00             0\n",
              "2021-01-22  111.76  112.72  ...       0.00             0\n",
              "2021-01-22  112.21  113.12  ...       0.00             0\n",
              "2021-01-22  113.07  113.27  ...       0.00             0\n",
              "2021-01-22  113.13  113.51  ...       0.00             0\n",
              "2021-01-22  113.22  113.25  ...       0.00             0\n",
              "2021-01-22  113.08  113.10  ...       0.00             0\n",
              "2021-01-25  113.06  115.09  ...       0.00             0\n",
              "2021-01-25  114.67  115.40  ...       0.00             0\n",
              "2021-01-25  114.15  115.16  ...       0.00             0\n",
              "2021-01-25  114.55  114.99  ...       0.00             0\n",
              "2021-01-25  114.56  114.74  ...       0.00             0\n",
              "2021-01-25  114.71  114.88  ...       0.00             0\n",
              "2021-01-25  114.27  114.79  ...       0.00             0\n",
              "2021-01-26  114.25  115.12  ...       0.00             0\n",
              "2021-01-26  114.41  114.72  ...       0.00             0\n",
              "2021-01-26  114.58  114.58  ...       0.00             0\n",
              "2021-01-26  114.47  114.49  ...       0.00             0\n",
              "2021-01-26  114.18  114.49  ...       0.00             0\n",
              "2021-01-26  114.15  114.91  ...       0.00             0\n",
              "2021-01-26  114.82  114.91  ...       0.00             0\n",
              "\n",
              "[140 rows x 7 columns]"
            ],
            "text/html": "<div>\n<style scoped>\n    .dataframe tbody tr th:only-of-type {\n        vertical-align: middle;\n    }\n\n    .dataframe tbody tr th {\n        vertical-align: top;\n    }\n\n    .dataframe thead th {\n        text-align: right;\n    }\n</style>\n<table border=\"1\" class=\"dataframe\">\n  <thead>\n    <tr style=\"text-align: right;\">\n      <th></th>\n      <th>Open</th>\n      <th>High</th>\n      <th>...</th>\n      <th>Dividends</th>\n      <th>Stock Splits</th>\n    </tr>\n    <tr>\n      <th>Date</th>\n      <th></th>\n      <th></th>\n      <th></th>\n      <th></th>\n      <th></th>\n    </tr>\n  </thead>\n  <tbody>\n    <tr>\n      <th>2020-12-28</th>\n      <td>108.96</td>\n      <td>109.10</td>\n      <td>...</td>\n      <td>0.00</td>\n      <td>0</td>\n    </tr>\n    <tr>\n      <th>2020-12-28</th>\n      <td>108.24</td>\n      <td>108.38</td>\n      <td>...</td>\n      <td>0.00</td>\n      <td>0</td>\n    </tr>\n    <tr>\n      <th>2020-12-28</th>\n      <td>107.75</td>\n      <td>107.78</td>\n      <td>...</td>\n      <td>0.00</td>\n      <td>0</td>\n    </tr>\n    <tr>\n      <th>2020-12-28</th>\n      <td>107.54</td>\n      <td>107.57</td>\n      <td>...</td>\n      <td>0.00</td>\n      <td>0</td>\n    </tr>\n    <tr>\n      <th>2020-12-28</th>\n      <td>107.36</td>\n      <td>107.57</td>\n      <td>...</td>\n      <td>0.00</td>\n      <td>0</td>\n    </tr>\n    <tr>\n      <th>2020-12-28</th>\n      <td>107.51</td>\n      <td>107.71</td>\n      <td>...</td>\n      <td>0.00</td>\n      <td>0</td>\n    </tr>\n    <tr>\n      <th>2020-12-28</th>\n      <td>107.50</td>\n      <td>107.85</td>\n      <td>...</td>\n      <td>0.00</td>\n      <td>0</td>\n    </tr>\n    <tr>\n      <th>2020-12-29</th>\n      <td>108.50</td>\n      <td>108.94</td>\n      <td>...</td>\n      <td>0.00</td>\n      <td>0</td>\n    </tr>\n    <tr>\n      <th>2020-12-29</th>\n      <td>108.61</td>\n      <td>108.68</td>\n      <td>...</td>\n      <td>0.00</td>\n      <td>0</td>\n    </tr>\n    <tr>\n      <th>2020-12-29</th>\n      <td>108.56</td>\n      <td>108.78</td>\n      <td>...</td>\n      <td>0.00</td>\n      <td>0</td>\n    </tr>\n    <tr>\n      <th>2020-12-29</th>\n      <td>108.63</td>\n      <td>108.63</td>\n      <td>...</td>\n      <td>0.00</td>\n      <td>0</td>\n    </tr>\n    <tr>\n      <th>2020-12-29</th>\n      <td>108.56</td>\n      <td>108.59</td>\n      <td>...</td>\n      <td>0.00</td>\n      <td>0</td>\n    </tr>\n    <tr>\n      <th>2020-12-29</th>\n      <td>108.38</td>\n      <td>108.73</td>\n      <td>...</td>\n      <td>0.00</td>\n      <td>0</td>\n    </tr>\n    <tr>\n      <th>2020-12-29</th>\n      <td>108.69</td>\n      <td>108.76</td>\n      <td>...</td>\n      <td>0.00</td>\n      <td>0</td>\n    </tr>\n    <tr>\n      <th>2020-12-30</th>\n      <td>108.69</td>\n      <td>109.11</td>\n      <td>...</td>\n      <td>0.00</td>\n      <td>0</td>\n    </tr>\n    <tr>\n      <th>2020-12-30</th>\n      <td>108.83</td>\n      <td>108.95</td>\n      <td>...</td>\n      <td>0.00</td>\n      <td>0</td>\n    </tr>\n    <tr>\n      <th>2020-12-30</th>\n      <td>108.10</td>\n      <td>108.21</td>\n      <td>...</td>\n      <td>0.00</td>\n      <td>0</td>\n    </tr>\n    <tr>\n      <th>2020-12-30</th>\n      <td>108.16</td>\n      <td>108.42</td>\n      <td>...</td>\n      <td>0.00</td>\n      <td>0</td>\n    </tr>\n    <tr>\n      <th>2020-12-30</th>\n      <td>108.14</td>\n      <td>108.40</td>\n      <td>...</td>\n      <td>0.00</td>\n      <td>0</td>\n    </tr>\n    <tr>\n      <th>2020-12-30</th>\n      <td>108.14</td>\n      <td>108.39</td>\n      <td>...</td>\n      <td>0.00</td>\n      <td>0</td>\n    </tr>\n    <tr>\n      <th>2020-12-30</th>\n      <td>108.39</td>\n      <td>108.63</td>\n      <td>...</td>\n      <td>0.00</td>\n      <td>0</td>\n    </tr>\n    <tr>\n      <th>2020-12-31</th>\n      <td>108.17</td>\n      <td>108.67</td>\n      <td>...</td>\n      <td>0.00</td>\n      <td>0</td>\n    </tr>\n    <tr>\n      <th>2020-12-31</th>\n      <td>108.28</td>\n      <td>108.39</td>\n      <td>...</td>\n      <td>0.00</td>\n      <td>0</td>\n    </tr>\n    <tr>\n      <th>2020-12-31</th>\n      <td>107.97</td>\n      <td>108.49</td>\n      <td>...</td>\n      <td>0.00</td>\n      <td>0</td>\n    </tr>\n    <tr>\n      <th>2020-12-31</th>\n      <td>108.46</td>\n      <td>108.61</td>\n      <td>...</td>\n      <td>0.00</td>\n      <td>0</td>\n    </tr>\n    <tr>\n      <th>2020-12-31</th>\n      <td>108.27</td>\n      <td>108.98</td>\n      <td>...</td>\n      <td>0.00</td>\n      <td>0</td>\n    </tr>\n    <tr>\n      <th>2020-12-31</th>\n      <td>108.90</td>\n      <td>109.42</td>\n      <td>...</td>\n      <td>0.00</td>\n      <td>0</td>\n    </tr>\n    <tr>\n      <th>2020-12-31</th>\n      <td>109.34</td>\n      <td>109.64</td>\n      <td>...</td>\n      <td>0.00</td>\n      <td>0</td>\n    </tr>\n    <tr>\n      <th>2021-01-04</th>\n      <td>109.80</td>\n      <td>110.25</td>\n      <td>...</td>\n      <td>0.00</td>\n      <td>0</td>\n    </tr>\n    <tr>\n      <th>2021-01-04</th>\n      <td>110.03</td>\n      <td>110.12</td>\n      <td>...</td>\n      <td>0.00</td>\n      <td>0</td>\n    </tr>\n    <tr>\n      <th>2021-01-04</th>\n      <td>108.65</td>\n      <td>108.73</td>\n      <td>...</td>\n      <td>0.00</td>\n      <td>0</td>\n    </tr>\n    <tr>\n      <th>2021-01-04</th>\n      <td>107.62</td>\n      <td>108.15</td>\n      <td>...</td>\n      <td>0.00</td>\n      <td>0</td>\n    </tr>\n    <tr>\n      <th>2021-01-04</th>\n      <td>108.03</td>\n      <td>108.40</td>\n      <td>...</td>\n      <td>0.00</td>\n      <td>0</td>\n    </tr>\n    <tr>\n      <th>2021-01-04</th>\n      <td>108.30</td>\n      <td>108.66</td>\n      <td>...</td>\n      <td>0.00</td>\n      <td>0</td>\n    </tr>\n    <tr>\n      <th>2021-01-04</th>\n      <td>108.48</td>\n      <td>109.32</td>\n      <td>...</td>\n      <td>0.00</td>\n      <td>0</td>\n    </tr>\n    <tr>\n      <th>2021-01-05</th>\n      <td>108.85</td>\n      <td>109.58</td>\n      <td>...</td>\n      <td>0.00</td>\n      <td>0</td>\n    </tr>\n    <tr>\n      <th>2021-01-05</th>\n      <td>109.10</td>\n      <td>109.14</td>\n      <td>...</td>\n      <td>0.00</td>\n      <td>0</td>\n    </tr>\n    <tr>\n      <th>2021-01-05</th>\n      <td>108.85</td>\n      <td>109.44</td>\n      <td>...</td>\n      <td>0.00</td>\n      <td>0</td>\n    </tr>\n    <tr>\n      <th>2021-01-05</th>\n      <td>109.16</td>\n      <td>109.60</td>\n      <td>...</td>\n      <td>0.00</td>\n      <td>0</td>\n    </tr>\n    <tr>\n      <th>2021-01-05</th>\n      <td>109.41</td>\n      <td>110.41</td>\n      <td>...</td>\n      <td>0.00</td>\n      <td>0</td>\n    </tr>\n    <tr>\n      <th>2021-01-05</th>\n      <td>110.36</td>\n      <td>110.91</td>\n      <td>...</td>\n      <td>0.00</td>\n      <td>0</td>\n    </tr>\n    <tr>\n      <th>2021-01-05</th>\n      <td>110.35</td>\n      <td>110.68</td>\n      <td>...</td>\n      <td>0.00</td>\n      <td>0</td>\n    </tr>\n    <tr>\n      <th>2021-01-06</th>\n      <td>108.95</td>\n      <td>110.83</td>\n      <td>...</td>\n      <td>0.00</td>\n      <td>0</td>\n    </tr>\n    <tr>\n      <th>2021-01-06</th>\n      <td>110.32</td>\n      <td>111.03</td>\n      <td>...</td>\n      <td>0.00</td>\n      <td>0</td>\n    </tr>\n    <tr>\n      <th>2021-01-06</th>\n      <td>110.42</td>\n      <td>110.67</td>\n      <td>...</td>\n      <td>0.00</td>\n      <td>0</td>\n    </tr>\n    <tr>\n      <th>2021-01-06</th>\n      <td>110.00</td>\n      <td>110.92</td>\n      <td>...</td>\n      <td>0.00</td>\n      <td>0</td>\n    </tr>\n    <tr>\n      <th>2021-01-06</th>\n      <td>110.86</td>\n      <td>111.02</td>\n      <td>...</td>\n      <td>0.00</td>\n      <td>0</td>\n    </tr>\n    <tr>\n      <th>2021-01-06</th>\n      <td>110.08</td>\n      <td>110.60</td>\n      <td>...</td>\n      <td>0.00</td>\n      <td>0</td>\n    </tr>\n    <tr>\n      <th>2021-01-06</th>\n      <td>110.39</td>\n      <td>110.51</td>\n      <td>...</td>\n      <td>0.00</td>\n      <td>0</td>\n    </tr>\n    <tr>\n      <th>2021-01-07</th>\n      <td>110.28</td>\n      <td>110.65</td>\n      <td>...</td>\n      <td>0.00</td>\n      <td>0</td>\n    </tr>\n    <tr>\n      <th>2021-01-07</th>\n      <td>110.50</td>\n      <td>110.72</td>\n      <td>...</td>\n      <td>0.00</td>\n      <td>0</td>\n    </tr>\n    <tr>\n      <th>2021-01-07</th>\n      <td>110.30</td>\n      <td>110.87</td>\n      <td>...</td>\n      <td>0.00</td>\n      <td>0</td>\n    </tr>\n    <tr>\n      <th>2021-01-07</th>\n      <td>110.66</td>\n      <td>111.17</td>\n      <td>...</td>\n      <td>0.00</td>\n      <td>0</td>\n    </tr>\n    <tr>\n      <th>2021-01-07</th>\n      <td>110.74</td>\n      <td>110.96</td>\n      <td>...</td>\n      <td>0.00</td>\n      <td>0</td>\n    </tr>\n    <tr>\n      <th>2021-01-07</th>\n      <td>110.33</td>\n      <td>111.07</td>\n      <td>...</td>\n      <td>0.00</td>\n      <td>0</td>\n    </tr>\n    <tr>\n      <th>2021-01-07</th>\n      <td>111.00</td>\n      <td>111.62</td>\n      <td>...</td>\n      <td>0.00</td>\n      <td>0</td>\n    </tr>\n    <tr>\n      <th>2021-01-08</th>\n      <td>111.67</td>\n      <td>112.55</td>\n      <td>...</td>\n      <td>0.00</td>\n      <td>0</td>\n    </tr>\n    <tr>\n      <th>2021-01-08</th>\n      <td>111.77</td>\n      <td>111.94</td>\n      <td>...</td>\n      <td>0.00</td>\n      <td>0</td>\n    </tr>\n    <tr>\n      <th>2021-01-08</th>\n      <td>111.46</td>\n      <td>111.60</td>\n      <td>...</td>\n      <td>0.00</td>\n      <td>0</td>\n    </tr>\n    <tr>\n      <th>2021-01-08</th>\n      <td>111.29</td>\n      <td>111.33</td>\n      <td>...</td>\n      <td>0.00</td>\n      <td>0</td>\n    </tr>\n    <tr>\n      <th>2021-01-08</th>\n      <td>110.61</td>\n      <td>110.99</td>\n      <td>...</td>\n      <td>0.00</td>\n      <td>0</td>\n    </tr>\n    <tr>\n      <th>2021-01-08</th>\n      <td>110.89</td>\n      <td>111.24</td>\n      <td>...</td>\n      <td>0.00</td>\n      <td>0</td>\n    </tr>\n    <tr>\n      <th>2021-01-08</th>\n      <td>111.17</td>\n      <td>111.83</td>\n      <td>...</td>\n      <td>0.00</td>\n      <td>0</td>\n    </tr>\n    <tr>\n      <th>2021-01-11</th>\n      <td>111.21</td>\n      <td>111.98</td>\n      <td>...</td>\n      <td>0.00</td>\n      <td>0</td>\n    </tr>\n    <tr>\n      <th>2021-01-11</th>\n      <td>111.16</td>\n      <td>111.57</td>\n      <td>...</td>\n      <td>0.00</td>\n      <td>0</td>\n    </tr>\n    <tr>\n      <th>2021-01-11</th>\n      <td>111.53</td>\n      <td>111.63</td>\n      <td>...</td>\n      <td>0.00</td>\n      <td>0</td>\n    </tr>\n    <tr>\n      <th>2021-01-11</th>\n      <td>110.82</td>\n      <td>111.12</td>\n      <td>...</td>\n      <td>0.00</td>\n      <td>0</td>\n    </tr>\n    <tr>\n      <th>2021-01-11</th>\n      <td>110.95</td>\n      <td>110.99</td>\n      <td>...</td>\n      <td>0.00</td>\n      <td>0</td>\n    </tr>\n    <tr>\n      <th>2021-01-11</th>\n      <td>110.47</td>\n      <td>110.85</td>\n      <td>...</td>\n      <td>0.00</td>\n      <td>0</td>\n    </tr>\n    <tr>\n      <th>2021-01-11</th>\n      <td>110.29</td>\n      <td>110.91</td>\n      <td>...</td>\n      <td>0.00</td>\n      <td>0</td>\n    </tr>\n    <tr>\n      <th>2021-01-12</th>\n      <td>110.52</td>\n      <td>110.72</td>\n      <td>...</td>\n      <td>0.00</td>\n      <td>0</td>\n    </tr>\n    <tr>\n      <th>2021-01-12</th>\n      <td>109.34</td>\n      <td>109.49</td>\n      <td>...</td>\n      <td>0.00</td>\n      <td>0</td>\n    </tr>\n    <tr>\n      <th>2021-01-12</th>\n      <td>108.88</td>\n      <td>108.97</td>\n      <td>...</td>\n      <td>0.00</td>\n      <td>0</td>\n    </tr>\n    <tr>\n      <th>2021-01-12</th>\n      <td>108.88</td>\n      <td>109.44</td>\n      <td>...</td>\n      <td>0.00</td>\n      <td>0</td>\n    </tr>\n    <tr>\n      <th>2021-01-12</th>\n      <td>109.20</td>\n      <td>109.56</td>\n      <td>...</td>\n      <td>0.00</td>\n      <td>0</td>\n    </tr>\n    <tr>\n      <th>2021-01-12</th>\n      <td>109.06</td>\n      <td>109.40</td>\n      <td>...</td>\n      <td>0.00</td>\n      <td>0</td>\n    </tr>\n    <tr>\n      <th>2021-01-12</th>\n      <td>108.97</td>\n      <td>109.22</td>\n      <td>...</td>\n      <td>0.00</td>\n      <td>0</td>\n    </tr>\n    <tr>\n      <th>2021-01-13</th>\n      <td>109.09</td>\n      <td>109.57</td>\n      <td>...</td>\n      <td>0.00</td>\n      <td>0</td>\n    </tr>\n    <tr>\n      <th>2021-01-13</th>\n      <td>109.36</td>\n      <td>111.08</td>\n      <td>...</td>\n      <td>0.00</td>\n      <td>0</td>\n    </tr>\n    <tr>\n      <th>2021-01-13</th>\n      <td>110.99</td>\n      <td>111.99</td>\n      <td>...</td>\n      <td>0.00</td>\n      <td>0</td>\n    </tr>\n    <tr>\n      <th>2021-01-13</th>\n      <td>111.68</td>\n      <td>112.20</td>\n      <td>...</td>\n      <td>0.00</td>\n      <td>0</td>\n    </tr>\n    <tr>\n      <th>2021-01-13</th>\n      <td>112.16</td>\n      <td>112.85</td>\n      <td>...</td>\n      <td>0.00</td>\n      <td>0</td>\n    </tr>\n    <tr>\n      <th>2021-01-13</th>\n      <td>112.55</td>\n      <td>112.90</td>\n      <td>...</td>\n      <td>0.00</td>\n      <td>0</td>\n    </tr>\n    <tr>\n      <th>2021-01-13</th>\n      <td>112.55</td>\n      <td>112.61</td>\n      <td>...</td>\n      <td>0.00</td>\n      <td>0</td>\n    </tr>\n    <tr>\n      <th>2021-01-14</th>\n      <td>111.21</td>\n      <td>111.66</td>\n      <td>...</td>\n      <td>0.45</td>\n      <td>0</td>\n    </tr>\n    <tr>\n      <th>2021-01-14</th>\n      <td>111.03</td>\n      <td>111.47</td>\n      <td>...</td>\n      <td>0.00</td>\n      <td>0</td>\n    </tr>\n    <tr>\n      <th>2021-01-14</th>\n      <td>110.87</td>\n      <td>111.24</td>\n      <td>...</td>\n      <td>0.00</td>\n      <td>0</td>\n    </tr>\n    <tr>\n      <th>2021-01-14</th>\n      <td>111.15</td>\n      <td>111.47</td>\n      <td>...</td>\n      <td>0.00</td>\n      <td>0</td>\n    </tr>\n    <tr>\n      <th>2021-01-14</th>\n      <td>111.03</td>\n      <td>111.24</td>\n      <td>...</td>\n      <td>0.00</td>\n      <td>0</td>\n    </tr>\n    <tr>\n      <th>2021-01-14</th>\n      <td>111.24</td>\n      <td>111.26</td>\n      <td>...</td>\n      <td>0.00</td>\n      <td>0</td>\n    </tr>\n    <tr>\n      <th>2021-01-14</th>\n      <td>110.61</td>\n      <td>110.72</td>\n      <td>...</td>\n      <td>0.00</td>\n      <td>0</td>\n    </tr>\n    <tr>\n      <th>2021-01-15</th>\n      <td>110.00</td>\n      <td>110.60</td>\n      <td>...</td>\n      <td>0.00</td>\n      <td>0</td>\n    </tr>\n    <tr>\n      <th>2021-01-15</th>\n      <td>109.46</td>\n      <td>110.18</td>\n      <td>...</td>\n      <td>0.00</td>\n      <td>0</td>\n    </tr>\n    <tr>\n      <th>2021-01-15</th>\n      <td>110.15</td>\n      <td>110.75</td>\n      <td>...</td>\n      <td>0.00</td>\n      <td>0</td>\n    </tr>\n    <tr>\n      <th>2021-01-15</th>\n      <td>110.62</td>\n      <td>110.83</td>\n      <td>...</td>\n      <td>0.00</td>\n      <td>0</td>\n    </tr>\n    <tr>\n      <th>2021-01-15</th>\n      <td>110.78</td>\n      <td>111.33</td>\n      <td>...</td>\n      <td>0.00</td>\n      <td>0</td>\n    </tr>\n    <tr>\n      <th>2021-01-15</th>\n      <td>111.21</td>\n      <td>111.62</td>\n      <td>...</td>\n      <td>0.00</td>\n      <td>0</td>\n    </tr>\n    <tr>\n      <th>2021-01-15</th>\n      <td>111.04</td>\n      <td>111.44</td>\n      <td>...</td>\n      <td>0.00</td>\n      <td>0</td>\n    </tr>\n    <tr>\n      <th>2021-01-19</th>\n      <td>111.74</td>\n      <td>113.09</td>\n      <td>...</td>\n      <td>0.00</td>\n      <td>0</td>\n    </tr>\n    <tr>\n      <th>2021-01-19</th>\n      <td>113.06</td>\n      <td>113.06</td>\n      <td>...</td>\n      <td>0.00</td>\n      <td>0</td>\n    </tr>\n    <tr>\n      <th>2021-01-19</th>\n      <td>112.10</td>\n      <td>112.57</td>\n      <td>...</td>\n      <td>0.00</td>\n      <td>0</td>\n    </tr>\n    <tr>\n      <th>2021-01-19</th>\n      <td>112.40</td>\n      <td>112.96</td>\n      <td>...</td>\n      <td>0.00</td>\n      <td>0</td>\n    </tr>\n    <tr>\n      <th>2021-01-19</th>\n      <td>112.91</td>\n      <td>113.13</td>\n      <td>...</td>\n      <td>0.00</td>\n      <td>0</td>\n    </tr>\n    <tr>\n      <th>2021-01-19</th>\n      <td>112.83</td>\n      <td>112.94</td>\n      <td>...</td>\n      <td>0.00</td>\n      <td>0</td>\n    </tr>\n    <tr>\n      <th>2021-01-19</th>\n      <td>112.62</td>\n      <td>113.00</td>\n      <td>...</td>\n      <td>0.00</td>\n      <td>0</td>\n    </tr>\n    <tr>\n      <th>2021-01-20</th>\n      <td>112.65</td>\n      <td>113.30</td>\n      <td>...</td>\n      <td>0.00</td>\n      <td>0</td>\n    </tr>\n    <tr>\n      <th>2021-01-20</th>\n      <td>112.47</td>\n      <td>112.79</td>\n      <td>...</td>\n      <td>0.00</td>\n      <td>0</td>\n    </tr>\n    <tr>\n      <th>2021-01-20</th>\n      <td>112.48</td>\n      <td>112.75</td>\n      <td>...</td>\n      <td>0.00</td>\n      <td>0</td>\n    </tr>\n    <tr>\n      <th>2021-01-20</th>\n      <td>112.59</td>\n      <td>113.37</td>\n      <td>...</td>\n      <td>0.00</td>\n      <td>0</td>\n    </tr>\n    <tr>\n      <th>2021-01-20</th>\n      <td>113.24</td>\n      <td>113.41</td>\n      <td>...</td>\n      <td>0.00</td>\n      <td>0</td>\n    </tr>\n    <tr>\n      <th>2021-01-20</th>\n      <td>113.21</td>\n      <td>113.53</td>\n      <td>...</td>\n      <td>0.00</td>\n      <td>0</td>\n    </tr>\n    <tr>\n      <th>2021-01-20</th>\n      <td>113.04</td>\n      <td>113.17</td>\n      <td>...</td>\n      <td>0.00</td>\n      <td>0</td>\n    </tr>\n    <tr>\n      <th>2021-01-21</th>\n      <td>112.25</td>\n      <td>112.76</td>\n      <td>...</td>\n      <td>0.00</td>\n      <td>0</td>\n    </tr>\n    <tr>\n      <th>2021-01-21</th>\n      <td>111.15</td>\n      <td>112.10</td>\n      <td>...</td>\n      <td>0.00</td>\n      <td>0</td>\n    </tr>\n    <tr>\n      <th>2021-01-21</th>\n      <td>111.75</td>\n      <td>112.59</td>\n      <td>...</td>\n      <td>0.00</td>\n      <td>0</td>\n    </tr>\n    <tr>\n      <th>2021-01-21</th>\n      <td>112.46</td>\n      <td>113.43</td>\n      <td>...</td>\n      <td>0.00</td>\n      <td>0</td>\n    </tr>\n    <tr>\n      <th>2021-01-21</th>\n      <td>113.45</td>\n      <td>113.54</td>\n      <td>...</td>\n      <td>0.00</td>\n      <td>0</td>\n    </tr>\n    <tr>\n      <th>2021-01-21</th>\n      <td>112.96</td>\n      <td>113.45</td>\n      <td>...</td>\n      <td>0.00</td>\n      <td>0</td>\n    </tr>\n    <tr>\n      <th>2021-01-21</th>\n      <td>113.36</td>\n      <td>113.52</td>\n      <td>...</td>\n      <td>0.00</td>\n      <td>0</td>\n    </tr>\n    <tr>\n      <th>2021-01-22</th>\n      <td>113.00</td>\n      <td>113.17</td>\n      <td>...</td>\n      <td>0.00</td>\n      <td>0</td>\n    </tr>\n    <tr>\n      <th>2021-01-22</th>\n      <td>111.76</td>\n      <td>112.72</td>\n      <td>...</td>\n      <td>0.00</td>\n      <td>0</td>\n    </tr>\n    <tr>\n      <th>2021-01-22</th>\n      <td>112.21</td>\n      <td>113.12</td>\n      <td>...</td>\n      <td>0.00</td>\n      <td>0</td>\n    </tr>\n    <tr>\n      <th>2021-01-22</th>\n      <td>113.07</td>\n      <td>113.27</td>\n      <td>...</td>\n      <td>0.00</td>\n      <td>0</td>\n    </tr>\n    <tr>\n      <th>2021-01-22</th>\n      <td>113.13</td>\n      <td>113.51</td>\n      <td>...</td>\n      <td>0.00</td>\n      <td>0</td>\n    </tr>\n    <tr>\n      <th>2021-01-22</th>\n      <td>113.22</td>\n      <td>113.25</td>\n      <td>...</td>\n      <td>0.00</td>\n      <td>0</td>\n    </tr>\n    <tr>\n      <th>2021-01-22</th>\n      <td>113.08</td>\n      <td>113.10</td>\n      <td>...</td>\n      <td>0.00</td>\n      <td>0</td>\n    </tr>\n    <tr>\n      <th>2021-01-25</th>\n      <td>113.06</td>\n      <td>115.09</td>\n      <td>...</td>\n      <td>0.00</td>\n      <td>0</td>\n    </tr>\n    <tr>\n      <th>2021-01-25</th>\n      <td>114.67</td>\n      <td>115.40</td>\n      <td>...</td>\n      <td>0.00</td>\n      <td>0</td>\n    </tr>\n    <tr>\n      <th>2021-01-25</th>\n      <td>114.15</td>\n      <td>115.16</td>\n      <td>...</td>\n      <td>0.00</td>\n      <td>0</td>\n    </tr>\n    <tr>\n      <th>2021-01-25</th>\n      <td>114.55</td>\n      <td>114.99</td>\n      <td>...</td>\n      <td>0.00</td>\n      <td>0</td>\n    </tr>\n    <tr>\n      <th>2021-01-25</th>\n      <td>114.56</td>\n      <td>114.74</td>\n      <td>...</td>\n      <td>0.00</td>\n      <td>0</td>\n    </tr>\n    <tr>\n      <th>2021-01-25</th>\n      <td>114.71</td>\n      <td>114.88</td>\n      <td>...</td>\n      <td>0.00</td>\n      <td>0</td>\n    </tr>\n    <tr>\n      <th>2021-01-25</th>\n      <td>114.27</td>\n      <td>114.79</td>\n      <td>...</td>\n      <td>0.00</td>\n      <td>0</td>\n    </tr>\n    <tr>\n      <th>2021-01-26</th>\n      <td>114.25</td>\n      <td>115.12</td>\n      <td>...</td>\n      <td>0.00</td>\n      <td>0</td>\n    </tr>\n    <tr>\n      <th>2021-01-26</th>\n      <td>114.41</td>\n      <td>114.72</td>\n      <td>...</td>\n      <td>0.00</td>\n      <td>0</td>\n    </tr>\n    <tr>\n      <th>2021-01-26</th>\n      <td>114.58</td>\n      <td>114.58</td>\n      <td>...</td>\n      <td>0.00</td>\n      <td>0</td>\n    </tr>\n    <tr>\n      <th>2021-01-26</th>\n      <td>114.47</td>\n      <td>114.49</td>\n      <td>...</td>\n      <td>0.00</td>\n      <td>0</td>\n    </tr>\n    <tr>\n      <th>2021-01-26</th>\n      <td>114.18</td>\n      <td>114.49</td>\n      <td>...</td>\n      <td>0.00</td>\n      <td>0</td>\n    </tr>\n    <tr>\n      <th>2021-01-26</th>\n      <td>114.15</td>\n      <td>114.91</td>\n      <td>...</td>\n      <td>0.00</td>\n      <td>0</td>\n    </tr>\n    <tr>\n      <th>2021-01-26</th>\n      <td>114.82</td>\n      <td>114.91</td>\n      <td>...</td>\n      <td>0.00</td>\n      <td>0</td>\n    </tr>\n  </tbody>\n</table>\n<p>140 rows × 7 columns</p>\n</div>"
          },
          "metadata": {},
          "execution_count": 10
        }
      ],
      "source": [
        "tickerDf = abt.history(period='1mo', interval='1h')\n",
        "tickerDf"
      ]
    },
    {
      "cell_type": "code",
      "execution_count": null,
      "metadata": {},
      "outputs": [],
      "source": []
    }
  ],
  "metadata": {
    "kernelspec": {
      "display_name": "Python 3",
      "language": "python",
      "name": "python3"
    },
    "language_info": {
      "codemirror_mode": {
        "name": "ipython",
        "version": 3
      },
      "file_extension": ".py",
      "mimetype": "text/x-python",
      "name": "python",
      "nbconvert_exporter": "python",
      "pygments_lexer": "ipython3",
      "version": "3.8.5-final"
    },
    "colab": {
      "name": "Untitled1.ipynb",
      "provenance": [],
      "include_colab_link": true
    }
  },
  "nbformat": 4,
  "nbformat_minor": 0
}
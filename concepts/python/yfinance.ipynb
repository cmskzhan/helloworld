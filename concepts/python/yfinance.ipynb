{
  "cells": [
    {
      "cell_type": "markdown",
      "metadata": {
        "id": "view-in-github",
        "colab_type": "text"
      },
      "source": [
        "<a href=\"https://colab.research.google.com/github/cmskzhan/a2b2c/blob/master/yfinance.ipynb\" target=\"_parent\"><img src=\"https://colab.research.google.com/assets/colab-badge.svg\" alt=\"Open In Colab\"/></a>"
      ]
    },
    {
      "cell_type": "code",
      "metadata": {
        "id": "p9X8xlHytbCq",
        "colab_type": "code",
        "colab": {
          "base_uri": "https://localhost:8080/",
          "height": 1000
        },
        "outputId": "0a3dc9d9-fe71-465e-ce1b-71265e18b176",
        "tags": []
      },
      "source": [
        "# !pip install yfinance\n",
        "import yfinance as yf\n",
        "abt=yf.Ticker(\"MSFT\")\n",
        "abt_info=abt.info\n",
        "print('fieldname vlu')\n",
        "\n",
        "for fieldname, vlu in abt_info.items():\n",
        "  print(fieldname, vlu)\n",
        "\n"
      ],
      "execution_count": 1,
      "outputs": [
        {
          "output_type": "stream",
          "name": "stdout",
          "text": [
            "fieldname vlu\nzip 98052-6399\nsector Technology\nfullTimeEmployees 163000\nlongBusinessSummary Microsoft Corporation develops, licenses, and supports software, services, devices, and solutions worldwide. Its Productivity and Business Processes segment offers Office, Exchange, SharePoint, Microsoft Teams, Office 365 Security and Compliance, and Skype for Business, as well as related Client Access Licenses (CAL); Skype, Outlook.com, OneDrive, and LinkedIn; and Dynamics 365, a set of cloud-based and on-premises business solutions for small and medium businesses, large organizations, and divisions of enterprises. Its Intelligent Cloud segment licenses SQL and Windows Servers, Visual Studio, System Center, and related CALs; GitHub that provides a collaboration platform and code hosting service for developers; and Azure, a cloud platform. It also offers support services and Microsoft consulting services to assist customers in developing, deploying, and managing Microsoft server and desktop solutions; and training and certification to developers and IT professionals on various Microsoft products. Its More Personal Computing segment provides Windows original equipment manufacturer (OEM) licensing and other non-volume licensing of the Windows operating system; Windows Commercial, such as volume licensing of the Windows operating system, Windows cloud services, and other Windows commercial offerings; patent licensing; Windows Internet of Things; and MSN advertising. It also offers Surface, PC accessories, PCs, tablets, gaming and entertainment consoles, and other devices; Gaming, including Xbox hardware, and Xbox content and services; video games and third-party video game royalties; and Search, including Bing and Microsoft advertising. It sells its products through OEMs, distributors, and resellers; and directly through digital marketplaces, online stores, and retail stores. It has a strategic collaboration with DXC Technology. The company was founded in 1975 and is headquartered in Redmond, Washington.\ncity Redmond\nphone 425-882-8080\nstate WA\ncountry United States\ncompanyOfficers []\nwebsite http://www.microsoft.com\nmaxAge 1\naddress1 One Microsoft Way\nindustry Software—Infrastructure\npreviousClose 238.93\nregularMarketOpen 235.99\ntwoHundredDayAverage 214.02232\ntrailingAnnualDividendYield 0.008956599\npayoutRatio 0.31149998\nvolume24Hr None\nregularMarketDayHigh 238.015\nnavPrice None\naverageDailyVolume10Day 43527814\ntotalAssets None\nregularMarketPreviousClose 238.93\nfiftyDayAverage 221.45813\ntrailingAnnualDividendRate 2.14\nopen 235.99\ntoCurrency None\naverageVolume10days 43527814\nexpireDate None\nyield None\nalgorithm None\ndividendRate 2.24\nexDividendDate 1613520000\nbeta 0.826155\ncirculatingSupply None\nstartDate None\nregularMarketDayLow 231.36\npriceHint 2\ncurrency USD\ntrailingPE 34.584763\nregularMarketVolume 42503138\nlastMarket None\nmaxSupply None\nopenInterest None\nmarketCap 1749493350400\nvolumeAllCurrencies None\nstrikePrice None\naverageVolume 29775703\npriceToSalesTrailing12Months 11.413411\ndayLow 231.36\nask 231.8\nytdReturn None\naskSize 800\nvolume 42503138\nfiftyTwoWeekHigh 242.64\nforwardPE 28.886677\nfromCurrency None\nfiveYearAvgDividendYield 1.71\nfiftyTwoWeekLow 132.52\nbid 231.77\ntradeable False\ndividendYield 0.0097\nbidSize 800\ndayHigh 238.015\nexchange NMS\nshortName Microsoft Corporation\nlongName Microsoft Corporation\nexchangeTimezoneName America/New_York\nexchangeTimezoneShortName EST\nisEsgPopulated False\ngmtOffSetMilliseconds -18000000\nquoteType EQUITY\nsymbol MSFT\nmessageBoardId finmb_21835\nmarket us_market\nannualHoldingsTurnover None\nenterpriseToRevenue 11.092\nbeta3Year None\nprofitMargins 0.33473998\nenterpriseToEbitda 23.718\n52WeekChange 0.3301984\nmorningStarRiskRating None\nforwardEps 8.03\nrevenueQuarterlyGrowth None\nsharesOutstanding 7560500224\nfundInceptionDate None\nannualReportExpenseRatio None\nbookValue 17.259\nsharesShort 41952779\nsharesPercentSharesOut 0.0056\nfundFamily None\nlastFiscalYearEnd 1593475200\nheldPercentInstitutions 0.71844\nnetIncomeToCommon 51309998080\ntrailingEps 6.707\nlastDividendValue 0.56\nSandP52WeekChange 0.14322305\npriceToBook 13.439944\nheldPercentInsiders 0.00059\nnextFiscalYearEnd 1656547200\nmostRecentQuarter 1609372800\nshortRatio 1.54\nsharesShortPreviousMonthDate 1607990400\nfloatShares 7431722306\nenterpriseValue 1700285382656\nthreeYearAverageReturn None\nlastSplitDate 1045526400\nlastSplitFactor 2:1\nlegalType None\nlastDividendDate 1605657600\nmorningStarOverallRating None\nearningsQuarterlyGrowth 0.327\ndateShortInterest 1610668800\npegRatio 1.83\nlastCapGain None\nshortPercentOfFloat 0.0056\nsharesShortPriorMonth 39913925\nimpliedSharesOutstanding None\ncategory None\nfiveYearAverageReturn None\nregularMarketPrice 235.99\nlogo_url https://logo.clearbit.com/microsoft.com\n"
          ]
        }
      ]
    },
    {
      "cell_type": "code",
      "execution_count": 12,
      "metadata": {},
      "outputs": [
        {
          "output_type": "execute_result",
          "data": {
            "text/plain": [
              "'Healthcare'"
            ]
          },
          "metadata": {},
          "execution_count": 12
        }
      ],
      "source": [
        "abt_info['sector']"
      ]
    },
    {
      "cell_type": "code",
      "execution_count": 13,
      "metadata": {},
      "outputs": [
        {
          "output_type": "execute_result",
          "data": {
            "text/plain": [
              "0.36"
            ]
          },
          "metadata": {},
          "execution_count": 13
        }
      ],
      "source": [
        "abt.dividends['2020-10-14']"
      ]
    },
    {
      "cell_type": "code",
      "metadata": {
        "id": "Jk504LvLtbCx",
        "colab_type": "code",
        "colab": {}
      },
      "source": [
        "import pandas as pd\n",
        "pd.set_option('display.max_rows', 500)\n",
        "pd.set_option('display.max_columns', 4)\n",
        "pd.set_option('display.width', 800)\n",
        "abt_finance=abt.quarterly_financials\n",
        "print(abt_finance)"
      ],
      "execution_count": 4,
      "outputs": [
        {
          "output_type": "stream",
          "name": "stdout",
          "text": [
            "Empty DataFrame\nColumns: [Open, High, Low, Close, Adj Close, Volume]\nIndex: []\n\n[0 rows x 6 columns]\n"
          ]
        }
      ]
    },
    {
      "cell_type": "code",
      "execution_count": 2,
      "metadata": {},
      "outputs": [
        {
          "output_type": "execute_result",
          "data": {
            "text/plain": [
              "              Open    High     Low   Close   Volume  Dividends  Stock Splits\n",
              "Date                                                                        \n",
              "2020-12-30  225.23  225.52  222.45  222.95  4494439          0             0\n",
              "2020-12-30  222.96  223.10  222.30  222.36  2184298          0             0\n",
              "2020-12-30  222.36  222.74  222.31  222.49  1521455          0             0\n",
              "2020-12-30  222.49  223.05  222.32  222.77  1670288          0             0\n",
              "2020-12-30  222.76  222.88  222.36  222.57  1362584          0             0\n",
              "...            ...     ...     ...     ...      ...        ...           ...\n",
              "2021-01-29  233.92  235.20  233.47  233.52  3931634          0             0\n",
              "2021-01-29  233.51  233.75  231.35  233.31  5090571          0             0\n",
              "2021-01-29  233.26  234.02  232.62  233.62  3542178          0             0\n",
              "2021-01-29  233.62  234.75  232.45  233.86  4423409          0             0\n",
              "2021-01-29  233.85  234.48  231.46  231.72  5470790          0             0\n",
              "\n",
              "[147 rows x 7 columns]"
            ],
            "text/html": "<div>\n<style scoped>\n    .dataframe tbody tr th:only-of-type {\n        vertical-align: middle;\n    }\n\n    .dataframe tbody tr th {\n        vertical-align: top;\n    }\n\n    .dataframe thead th {\n        text-align: right;\n    }\n</style>\n<table border=\"1\" class=\"dataframe\">\n  <thead>\n    <tr style=\"text-align: right;\">\n      <th></th>\n      <th>Open</th>\n      <th>High</th>\n      <th>Low</th>\n      <th>Close</th>\n      <th>Volume</th>\n      <th>Dividends</th>\n      <th>Stock Splits</th>\n    </tr>\n    <tr>\n      <th>Date</th>\n      <th></th>\n      <th></th>\n      <th></th>\n      <th></th>\n      <th></th>\n      <th></th>\n      <th></th>\n    </tr>\n  </thead>\n  <tbody>\n    <tr>\n      <th>2020-12-30</th>\n      <td>225.23</td>\n      <td>225.52</td>\n      <td>222.45</td>\n      <td>222.95</td>\n      <td>4494439</td>\n      <td>0</td>\n      <td>0</td>\n    </tr>\n    <tr>\n      <th>2020-12-30</th>\n      <td>222.96</td>\n      <td>223.10</td>\n      <td>222.30</td>\n      <td>222.36</td>\n      <td>2184298</td>\n      <td>0</td>\n      <td>0</td>\n    </tr>\n    <tr>\n      <th>2020-12-30</th>\n      <td>222.36</td>\n      <td>222.74</td>\n      <td>222.31</td>\n      <td>222.49</td>\n      <td>1521455</td>\n      <td>0</td>\n      <td>0</td>\n    </tr>\n    <tr>\n      <th>2020-12-30</th>\n      <td>222.49</td>\n      <td>223.05</td>\n      <td>222.32</td>\n      <td>222.77</td>\n      <td>1670288</td>\n      <td>0</td>\n      <td>0</td>\n    </tr>\n    <tr>\n      <th>2020-12-30</th>\n      <td>222.76</td>\n      <td>222.88</td>\n      <td>222.36</td>\n      <td>222.57</td>\n      <td>1362584</td>\n      <td>0</td>\n      <td>0</td>\n    </tr>\n    <tr>\n      <th>...</th>\n      <td>...</td>\n      <td>...</td>\n      <td>...</td>\n      <td>...</td>\n      <td>...</td>\n      <td>...</td>\n      <td>...</td>\n    </tr>\n    <tr>\n      <th>2021-01-29</th>\n      <td>233.92</td>\n      <td>235.20</td>\n      <td>233.47</td>\n      <td>233.52</td>\n      <td>3931634</td>\n      <td>0</td>\n      <td>0</td>\n    </tr>\n    <tr>\n      <th>2021-01-29</th>\n      <td>233.51</td>\n      <td>233.75</td>\n      <td>231.35</td>\n      <td>233.31</td>\n      <td>5090571</td>\n      <td>0</td>\n      <td>0</td>\n    </tr>\n    <tr>\n      <th>2021-01-29</th>\n      <td>233.26</td>\n      <td>234.02</td>\n      <td>232.62</td>\n      <td>233.62</td>\n      <td>3542178</td>\n      <td>0</td>\n      <td>0</td>\n    </tr>\n    <tr>\n      <th>2021-01-29</th>\n      <td>233.62</td>\n      <td>234.75</td>\n      <td>232.45</td>\n      <td>233.86</td>\n      <td>4423409</td>\n      <td>0</td>\n      <td>0</td>\n    </tr>\n    <tr>\n      <th>2021-01-29</th>\n      <td>233.85</td>\n      <td>234.48</td>\n      <td>231.46</td>\n      <td>231.72</td>\n      <td>5470790</td>\n      <td>0</td>\n      <td>0</td>\n    </tr>\n  </tbody>\n</table>\n<p>147 rows × 7 columns</p>\n</div>"
          },
          "metadata": {},
          "execution_count": 2
        }
      ],
      "source": [
        "tickerDf = abt.history(period='1mo', interval='1h')\n",
        "tickerDf"
      ]
    },
    {
      "cell_type": "code",
      "execution_count": null,
      "metadata": {},
      "outputs": [],
      "source": []
    }
  ],
  "metadata": {
    "kernelspec": {
      "display_name": "Python 3",
      "language": "python",
      "name": "python3"
    },
    "language_info": {
      "codemirror_mode": {
        "name": "ipython",
        "version": 3
      },
      "file_extension": ".py",
      "mimetype": "text/x-python",
      "name": "python",
      "nbconvert_exporter": "python",
      "pygments_lexer": "ipython3",
      "version": "3.8.5-final"
    },
    "colab": {
      "name": "Untitled1.ipynb",
      "provenance": [],
      "include_colab_link": true
    }
  },
  "nbformat": 4,
  "nbformat_minor": 0
}
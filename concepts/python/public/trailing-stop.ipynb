{
 "metadata": {
  "language_info": {
   "codemirror_mode": {
    "name": "ipython",
    "version": 3
   },
   "file_extension": ".py",
   "mimetype": "text/x-python",
   "name": "python",
   "nbconvert_exporter": "python",
   "pygments_lexer": "ipython3",
   "version": "3.8.6-final"
  },
  "orig_nbformat": 2,
  "kernelspec": {
   "name": "python3",
   "display_name": "Python 3.8.6 64-bit",
   "metadata": {
    "interpreter": {
     "hash": "1baa965d5efe3ac65b79dfc60c0d706280b1da80fedb7760faf2759126c4f253"
    }
   }
  }
 },
 "nbformat": 4,
 "nbformat_minor": 2,
 "cells": [
  {
   "source": [
    "1. volatility analysis\n",
    "2. trailing stop back testing\n"
   ],
   "cell_type": "markdown",
   "metadata": {}
  },
  {
   "cell_type": "code",
   "execution_count": 33,
   "metadata": {},
   "outputs": [],
   "source": [
    "import warnings\n",
    "import numpy as np\n",
    "import pandas as pd\n",
    "from pandas_datareader import data as web\n",
    "import matplotlib.pyplot as plt\n",
    "%matplotlib inline\n",
    "warnings.filterwarnings('ignore')\n",
    "stock = ['MRVL', 'MSI', 'NOK', 'LRCX', 'SWIR', 'LITE', 'CCI', 'CCOI']\n",
    "df_hl = pd.DataFrame()\n",
    "for i in stock:\n",
    "    df = web.DataReader(i, data_source='yahoo', start='01-01-2020')\n",
    "    df_hl[i + '-high'] = df['High']\n",
    "    df_hl[i + '-low'] = df['Low']\n",
    "    "
   ]
  },
  {
   "cell_type": "code",
   "execution_count": 2,
   "metadata": {},
   "outputs": [],
   "source": [
    "def daily_vol_rank(stocklist, dataframe_hl=pd.DataFrame(), remove_xtrem_days=2, startdate='01-01-2020'):\n",
    "    '''\n",
    "    dataframe_hl = panda datareader from yahoo finance for OHLC data\n",
    "    remove_xtrem_days = to exclude certain xtrem external one-off events caused large volatility\n",
    "    '''\n",
    "    result = {}\n",
    "\n",
    "    if dataframe_hl.empty:\n",
    "        df_temp=pd.DataFrame()\n",
    "        for i in stocklist:    \n",
    "            df_temp = web.DataReader(i, data_source='yahoo', start=startdate)\n",
    "            dataframe_hl[i + '-high'] = df_temp['High']\n",
    "            dataframe_hl[i + '-low'] = df_temp['Low']\n",
    "\n",
    "    ''' compare stocks' daily volatility by calculating std of (high-low).std and remove extreme volatile days  '''\n",
    "    for i in stocklist:        \n",
    "        l = (dataframe_hl[i + '-high'] - dataframe_hl[i + '-low'])/dataframe_hl[i + '-high']\n",
    "        result[i]=np.std(sorted(l)[:-remove_xtrem_days])\n",
    "    return result"
   ]
  },
  {
   "cell_type": "code",
   "execution_count": 3,
   "metadata": {},
   "outputs": [
    {
     "output_type": "execute_result",
     "data": {
      "text/plain": [
       "{'SWIR': 0.02700401009621881,\n",
       " 'CCOI': 0.020644480084210305,\n",
       " 'LITE': 0.019392245694532042,\n",
       " 'LRCX': 0.01935003808723195,\n",
       " 'CCI': 0.017216948065598554,\n",
       " 'MRVL': 0.01648455423635433,\n",
       " 'NOK': 0.015782904639048904,\n",
       " 'MSI': 0.015282153227157643}"
      ]
     },
     "metadata": {},
     "execution_count": 3
    }
   ],
   "source": [
    "stock_daily_vol_rank_dict = daily_vol_rank(stock, df_hl, remove_xtrem_days=3).items()\n",
    "{k: v for k, v in sorted(stock_daily_vol_rank_dict, key=lambda item: item[1], reverse=True)}\n",
    "# print(stock_daily_vol_rank_dict)"
   ]
  },
  {
   "cell_type": "code",
   "execution_count": 12,
   "metadata": {},
   "outputs": [],
   "source": [
    "def multi_days_vol_rank(stocklist, dataframe_hl=pd.DataFrame(), remove_xtrem_days=2, hldays=2, startdate='01-01-2020'):\n",
    "    '''\n",
    "    dataframe_hl = panda datareader from yahoo finance for OHLC data\n",
    "    remove_xtrem_days = to exclude certain xtrem external one-off events caused large volatility\n",
    "    hldays = defines high-low resolution, eg default hldays = 2, highest and lowest price of every 2 days\n",
    "    '''\n",
    "    result = {}\n",
    "    nh = []; nl = []\n",
    "    if dataframe_hl.empty:\n",
    "        df_temp=pd.DataFrame()\n",
    "        for i in stocklist:    \n",
    "            df_temp = web.DataReader(i, data_source='yahoo', start=startdate)\n",
    "            dataframe_hl[i + '-high'] = df_temp['High']\n",
    "            dataframe_hl[i + '-low'] = df_temp['Low']\n",
    "\n",
    "    ''' compare 2020 stocks' volatility by calculating std of (high-low) across hldays and remove extreme volatile days\n",
    "    hldays is the high low resolution in days  '''\n",
    "    \n",
    "    for i in stocklist:\n",
    "        for j in range(0, len(dataframe_hl[i + '-high']), hldays):\n",
    "            nh.append(np.nanmax(dataframe_hl[i + '-high'][j:j+hldays]))\n",
    "            nl.append(np.nanmin(dataframe_hl[i + '-low'][j:j+hldays]))\n",
    "\n",
    "        l = np.divide(np.subtract(nh,nl),nh)\n",
    "        result[i]=np.std(sorted(l)[:-remove_xtrem_days])\n",
    "        nh = []; nl = []\n",
    "    return result\n"
   ]
  },
  {
   "cell_type": "code",
   "execution_count": 8,
   "metadata": {},
   "outputs": [
    {
     "output_type": "execute_result",
     "data": {
      "text/plain": [
       "{'SWIR': 0.05682728494449526,\n",
       " 'NOK': 0.040148490258302985,\n",
       " 'LRCX': 0.03913077754019284,\n",
       " 'MRVL': 0.03736009024796287,\n",
       " 'CCOI': 0.03630992644137195,\n",
       " 'MSI': 0.03300007180757644,\n",
       " 'CCI': 0.032652925379588235,\n",
       " 'LITE': 0.03194776881245283}"
      ]
     },
     "metadata": {},
     "execution_count": 8
    }
   ],
   "source": [
    "m_days_vol_rank = multi_days_vol_rank(stock, df_hl, hldays=5).items()\n",
    "{k: v for k, v in sorted(m_days_vol_rank, key=lambda item: item[1], reverse=True)}\n",
    "#print(m_days_vol_rank)"
   ]
  },
  {
   "cell_type": "code",
   "execution_count": 4,
   "metadata": {},
   "outputs": [
    {
     "output_type": "stream",
     "name": "stdout",
     "text": [
      "{'MRVL': 0.03736009024796287, 'MSI': 0.03300007180757644, 'NOK': 0.040148490258302985, 'LRCX': 0.03913077754019284, 'SWIR': 0.05682728494449526, 'LITE': 0.03194776881245283, 'CCI': 0.032652925379588235, 'CCOI': 0.03630992644137195}\n"
     ]
    }
   ],
   "source": [
    "print(multi_days_vol_rank(stock, hldays=5))"
   ]
  },
  {
   "cell_type": "code",
   "execution_count": 21,
   "metadata": {},
   "outputs": [
    {
     "output_type": "stream",
     "name": "stdout",
     "text": [
      "[0.0, 0.0, 0.0, 0.002320128115414508, 0.0027855127304566327, 0.003937004178520325, 0.005797095840604812, 0.005905459334988622, 0.006607870754022395, 0.006756803923811303, 0.0069444927352426905, 0.007246312545574519, 0.007335014349416929, 0.007782093947869452, 0.007915559813120093, 0.007984119134284571, 0.00915330958822437, 0.011312260151992382, 0.011876529758149556, 0.011904694325796505, 0.011904694325796505, 0.013186904857471808, 0.013927563652283164, 0.014634132725648943, 0.015075362435176206, 0.015424210688960417, 0.01694919363721445, 0.017031671383796472, 0.01715678826793574, 0.017587922841038908, 0.017676750648606902, 0.017964055186050373, 0.01847573328305803, 0.019999980926513672, 0.02045457969027043, 0.021526444352311918, 0.021582770009893514, 0.02178220383361953, 0.021844582099671467, 0.02233254290380562, 0.022922614179784414, 0.023346281843608353, 0.024752451875445412, 0.024875598285331528, 0.025252561133292602, 0.025345651992388186, 0.025936574474714747, 0.026666641235351562, 0.02689489716639821, 0.027989855380631007, 0.02863959043444189, 0.02869759567768715, 0.028865952420302567, 0.029213402960848133, 0.030075218970135712, 0.03301883821769057, 0.03448279985620146, 0.03640773328043373, 0.03878112757725703, 0.0405405657930559, 0.04106276409609582, 0.04205614400748857, 0.04241072687757557, 0.04347828340440215, 0.04375003213062834, 0.04524893272626138, 0.04728127857288839, 0.04773870761555663, 0.04956270349425011, 0.051813423497559886, 0.05263157894736842, 0.05329155901083945, 0.05507247959257928, 0.05785124835438642, 0.06354516943626924, 0.0668449196156463, 0.0704846199009145, 0.08294933660307373, 0.08803609065417432, 0.11919185827975257, 0.13310583481856714, 0.19392526201810623]\n0.02163237578229454\n"
     ]
    }
   ],
   "source": [
    "nh = []; nl = []\n",
    "\n",
    "for j in range(0, len(df_hl['NOK-high']), 3):\n",
    "    nh.append(np.nanmax(df_hl['NOK-high'][j:j+3]))\n",
    "    nl.append(np.nanmin(df_hl['NOK-high'][j:j+3]))\n",
    "l = np.divide(np.subtract(nh, nl), nh)\n",
    "m = sorted(l)\n",
    "print(m)\n",
    "print(np.std(m[2:-2]))\n"
   ]
  },
  {
   "cell_type": "code",
   "execution_count": 43,
   "metadata": {},
   "outputs": [
    {
     "output_type": "execute_result",
     "data": {
      "text/plain": [
       "array([-3, -3, -3])"
      ]
     },
     "metadata": {},
     "execution_count": 43
    }
   ],
   "source": [
    "abc = [1,2,3]\n",
    "bcd = [4,5,6]\n",
    "np.subtract(abc, bcd)"
   ]
  },
  {
   "cell_type": "code",
   "execution_count": 29,
   "metadata": {},
   "outputs": [
    {
     "output_type": "execute_result",
     "data": {
      "text/plain": [
       "26.3700008392334"
      ]
     },
     "metadata": {},
     "execution_count": 29
    }
   ],
   "source": [
    "df_hl.loc['20200501']['MRVL-high']"
   ]
  },
  {
   "cell_type": "code",
   "execution_count": 60,
   "metadata": {},
   "outputs": [
    {
     "output_type": "execute_result",
     "data": {
      "text/plain": [
       "Timestamp('2020-01-16 00:00:00')"
      ]
     },
     "metadata": {},
     "execution_count": 60
    }
   ],
   "source": [
    "transactionDate = df_hl.index\n",
    "transactionDate[10]"
   ]
  },
  {
   "cell_type": "code",
   "execution_count": null,
   "metadata": {},
   "outputs": [],
   "source": [
    "Entry = []; Exit = []\n",
    "flag = 1 #  1 for buy, -1 for sell\n",
    "df_hl.loc['20200501':'20200506'][['MSI-low', 'MSI-high']]\n",
    "\n",
    "for i in df_hl.index:\n",
    "    print(df_hl.loc[i]['MSI-low'])\n"
   ]
  },
  {
   "cell_type": "code",
   "execution_count": 53,
   "metadata": {},
   "outputs": [],
   "source": [
    " c=len(df_hl['MSI-high'])\n",
    "    for i in range(len(FullDataFrame['MFI'])):\n",
    "        if FullDataFrame['MFI'][i] > high:\n",
    "            buy_signal.append(np.nan)\n",
    "            sell_signal.append(FullDataFrame['Close'][i])\n",
    "        elif FullDataFrame['MFI'][i] < low:\n",
    "            buy_signal.append(FullDataFrame['Close'][i])\n",
    "            sell_signal.append(np.nan)\n",
    "        else:\n",
    "            buy_signal.append(np.nan)\n",
    "            sell_signal.append(np.nan)\n",
    "    return (buy_signal, sell_signal)"
   ]
  },
  {
   "cell_type": "code",
   "execution_count": 69,
   "metadata": {
    "tags": []
   },
   "outputs": [
    {
     "output_type": "stream",
     "name": "stdout",
     "text": [
      "2020-01-09 00:00:00  buy @  167.33849487304687\n2020-02-25 00:00:00 sell @  178.56190999348956\n2020-03-02 00:00:00  buy @  167.74799423217775\n2020-03-06 00:00:00 sell @  173.7428501674107\n2020-03-09 00:00:00  buy @  170.13149871826172\n2020-03-11 00:00:00 sell @  162.65713646298363\n2020-03-12 00:00:00  buy @  142.81049423217775\n2020-03-13 00:00:00 sell @  147.60952904110863\n2020-03-16 00:00:00  buy @  145.39350128173828\n2020-03-17 00:00:00 sell @  149.6000017438616\n2020-03-18 00:00:00  buy @  143.10449295043946\n2020-03-19 00:00:00 sell @  147.43809291294642\n2020-03-20 00:00:00  buy @  139.42949295043945\n2020-03-26 00:00:00 sell @  142.93333507719493\n2020-03-27 00:00:00  buy @  140.25900192260744\n2020-04-06 00:00:00 sell @  138.8476126534598\n2020-05-04 00:00:00  buy @  138.12750320434571\n2020-05-06 00:00:00 sell @  136.63809640066964\n2020-05-08 00:00:00  buy @  130.82999839782715\n2020-05-11 00:00:00 sell @  129.16190011160714\n2020-07-09 00:00:00  buy @  130.57800064086913\n2020-07-28 00:00:00 sell @  138.90476771763392\n2020-08-06 00:00:00  buy @  142.56899871826172\n2020-08-07 00:00:00 sell @  144.75238618396577\n2020-08-17 00:00:00  buy @  147.22050704956055\n2020-09-08 00:00:00 sell @  150.44762021019343\n2020-09-15 00:00:00  buy @  157.5525032043457\n2020-09-21 00:00:00 sell @  151.41905285063243\n2020-09-28 00:00:00  buy @  157.30049743652344\n2020-10-15 00:00:00 sell @  166.60952613467262\n2020-10-23 00:00:00  buy @  174.18449935913085\n2020-10-28 00:00:00 sell @  168.4952363513765\n2020-11-02 00:00:00  buy @  164.1150032043457\n2020-11-04 00:00:00 sell @  161.2190464564732\n2020-11-10 00:00:00  buy @  168.19950256347656\n2020-11-19 00:00:00 sell @  165.63809349423363\n2020-11-25 00:00:00  buy @  173.65949935913088\n2020-12-11 00:00:00 sell @  167.05714634486606\n"
     ]
    }
   ],
   "source": [
    "# 5% trailing-stop\n",
    "buy_signal = []; sell_signal = []; flag = 1 \n",
    "ceiling = 0 \n",
    "bottom = df_hl['MSI-low'][0]\n",
    "transactionDate = df_hl.index\n",
    "\n",
    "for i in range(c-1):\n",
    "    if flag == 1:\n",
    "        bottom = min(bottom, df_hl['MSI-low'][i+1])\n",
    "        #print(transactionDate[i+1], \" bottom = \", bottom, \" entry level = \", bottom*1.1)\n",
    "        if df_hl['MSI-low'][i+1] <= bottom*1.05 < df_hl['MSI-high'][i+1]: # limit order now been hit\n",
    "            #buy_signal.append(df_hl['MSI-low'][i]*1.1)\n",
    "            print(transactionDate[i+1], \" buy @ \", bottom*1.05)\n",
    "            flag = -1\n",
    "            ceiling = df_hl['MSI-high'][i+1]\n",
    "    elif flag == -1:\n",
    "        ceiling = max(ceiling, df_hl['MSI-high'][i+1])\n",
    "        #print(transactionDate[i+1], \" cieling = \",ceiling, \" stop loss = \", ceiling/1.1)\n",
    "        if df_hl['MSI-low'][i+1] <= ceiling/1.05 < df_hl['MSI-high'][i+1]: # limit order now been hit\n",
    "            print(transactionDate[i+1], \"sell @ \", ceiling/1.05)\n",
    "            flag = 1\n",
    "            bottom = df_hl['MSI-low'][i+1]\n"
   ]
  },
  {
   "cell_type": "code",
   "execution_count": null,
   "metadata": {},
   "outputs": [],
   "source": []
  }
 ]
}
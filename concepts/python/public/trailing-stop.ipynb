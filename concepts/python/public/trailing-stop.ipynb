{
 "metadata": {
  "language_info": {
   "codemirror_mode": {
    "name": "ipython",
    "version": 3
   },
   "file_extension": ".py",
   "mimetype": "text/x-python",
   "name": "python",
   "nbconvert_exporter": "python",
   "pygments_lexer": "ipython3",
   "version": "3.8.6-final"
  },
  "orig_nbformat": 2,
  "kernelspec": {
   "name": "python3",
   "display_name": "Python 3.8.6 64-bit",
   "metadata": {
    "interpreter": {
     "hash": "1baa965d5efe3ac65b79dfc60c0d706280b1da80fedb7760faf2759126c4f253"
    }
   }
  }
 },
 "nbformat": 4,
 "nbformat_minor": 2,
 "cells": [
  {
   "source": [
    "1. volatility analysis\n",
    "2. trailing stop back testing\n"
   ],
   "cell_type": "markdown",
   "metadata": {}
  },
  {
   "cell_type": "code",
   "execution_count": 3,
   "metadata": {},
   "outputs": [],
   "source": [
    "import warnings\n",
    "import numpy as np\n",
    "import pandas as pd\n",
    "from pandas_datareader import data as web\n",
    "import matplotlib.pyplot as plt\n",
    "%matplotlib inline\n",
    "warnings.filterwarnings('ignore')\n",
    "stock = ['MRVL', 'MSI', 'NOK', 'LRCX', 'SWIR', 'LITE', 'CCI', 'CCOI']\n",
    "df_hl = pd.DataFrame()\n",
    "for i in stock:\n",
    "    df = web.DataReader(i, data_source='yahoo', start='01-01-2020')\n",
    "    df_hl[i + '-high'] = df['High']\n",
    "    df_hl[i + '-low'] = df['Low']\n",
    "    "
   ]
  },
  {
   "cell_type": "code",
   "execution_count": 4,
   "metadata": {},
   "outputs": [],
   "source": [
    "def daily_vol_rank(stocklist, dataframe_hl=pd.DataFrame(), remove_xtrem_days=2, startdate='01-01-2020'):\n",
    "    '''\n",
    "    dataframe_hl = panda datareader from yahoo finance for OHLC data\n",
    "    remove_xtrem_days = to exclude certain xtrem external one-off events caused large volatility\n",
    "    '''\n",
    "    result = {}\n",
    "\n",
    "    if dataframe_hl.empty:\n",
    "        df_temp=pd.DataFrame()\n",
    "        for i in stocklist:    \n",
    "            df_temp = web.DataReader(i, data_source='yahoo', start=startdate)\n",
    "            dataframe_hl[i + '-high'] = df_temp['High']\n",
    "            dataframe_hl[i + '-low'] = df_temp['Low']\n",
    "\n",
    "    ''' compare stocks' daily volatility by calculating std of (high-low).std and remove extreme volatile days  '''\n",
    "    for i in stocklist:        \n",
    "        l = (dataframe_hl[i + '-high'] - dataframe_hl[i + '-low'])/dataframe_hl[i + '-high']\n",
    "        result[i]=np.std(sorted(l)[:-remove_xtrem_days])\n",
    "    return result"
   ]
  },
  {
   "cell_type": "code",
   "execution_count": 5,
   "metadata": {},
   "outputs": [
    {
     "output_type": "execute_result",
     "data": {
      "text/plain": [
       "{'SWIR': 0.02692972152810303,\n",
       " 'CCOI': 0.02058341532631052,\n",
       " 'LITE': 0.019328588420079652,\n",
       " 'LRCX': 0.01931387646258975,\n",
       " 'CCI': 0.017165732778308476,\n",
       " 'MRVL': 0.016436336966189867,\n",
       " 'NOK': 0.01572855967479218,\n",
       " 'MSI': 0.015243516341171999}"
      ]
     },
     "metadata": {},
     "execution_count": 5
    }
   ],
   "source": [
    "stock_daily_vol_rank_dict = daily_vol_rank(stock, df_hl, remove_xtrem_days=3).items()\n",
    "{k: v for k, v in sorted(stock_daily_vol_rank_dict, key=lambda item: item[1], reverse=True)}\n",
    "# print(stock_daily_vol_rank_dict)"
   ]
  },
  {
   "cell_type": "code",
   "execution_count": 19,
   "metadata": {},
   "outputs": [
    {
     "output_type": "execute_result",
     "data": {
      "text/plain": [
       "Date\n",
       "2020-01-02    0.009488\n",
       "2020-01-03    0.031656\n",
       "2020-01-06    0.023469\n",
       "2020-01-07    0.008711\n",
       "2020-01-08    0.011144\n",
       "                ...   \n",
       "2020-12-15    0.015219\n",
       "2020-12-16    0.024106\n",
       "2020-12-17    0.020717\n",
       "2020-12-18    0.013565\n",
       "2020-12-21    0.027591\n",
       "Length: 246, dtype: float64"
      ]
     },
     "metadata": {},
     "execution_count": 19
    }
   ],
   "source": [
    "l = (df_hl['MSI-high'] - df_hl['MSI-low'])/df_hl['MSI-high']\n",
    "l[l>0.045].count()\n",
    "#l.median()\n",
    "l"
   ]
  },
  {
   "cell_type": "code",
   "execution_count": 20,
   "metadata": {},
   "outputs": [
    {
     "output_type": "execute_result",
     "data": {
      "text/plain": [
       "<function matplotlib.pyplot.show(close=None, block=None)>"
      ]
     },
     "metadata": {},
     "execution_count": 20
    },
    {
     "output_type": "display_data",
     "data": {
      "text/plain": "<Figure size 432x288 with 1 Axes>",
      "image/svg+xml": "<?xml version=\"1.0\" encoding=\"utf-8\" standalone=\"no\"?>\r\n<!DOCTYPE svg PUBLIC \"-//W3C//DTD SVG 1.1//EN\"\r\n  \"http://www.w3.org/Graphics/SVG/1.1/DTD/svg11.dtd\">\r\n<!-- Created with matplotlib (https://matplotlib.org/) -->\r\n<svg height=\"255.760575pt\" version=\"1.1\" viewBox=\"0 0 372.160938 255.760575\" width=\"372.160938pt\" xmlns=\"http://www.w3.org/2000/svg\" xmlns:xlink=\"http://www.w3.org/1999/xlink\">\r\n <metadata>\r\n  <rdf:RDF xmlns:cc=\"http://creativecommons.org/ns#\" xmlns:dc=\"http://purl.org/dc/elements/1.1/\" xmlns:rdf=\"http://www.w3.org/1999/02/22-rdf-syntax-ns#\">\r\n   <cc:Work>\r\n    <dc:type rdf:resource=\"http://purl.org/dc/dcmitype/StillImage\"/>\r\n    <dc:date>2020-12-21T18:43:55.183947</dc:date>\r\n    <dc:format>image/svg+xml</dc:format>\r\n    <dc:creator>\r\n     <cc:Agent>\r\n      <dc:title>Matplotlib v3.3.2, https://matplotlib.org/</dc:title>\r\n     </cc:Agent>\r\n    </dc:creator>\r\n   </cc:Work>\r\n  </rdf:RDF>\r\n </metadata>\r\n <defs>\r\n  <style type=\"text/css\">*{stroke-linecap:butt;stroke-linejoin:round;}</style>\r\n </defs>\r\n <g id=\"figure_1\">\r\n  <g id=\"patch_1\">\r\n   <path d=\"M 0 255.760575 \r\nL 372.160938 255.760575 \r\nL 372.160938 0 \r\nL 0 0 \r\nz\r\n\" style=\"fill:#ffffff;\"/>\r\n  </g>\r\n  <g id=\"axes_1\">\r\n   <g id=\"patch_2\">\r\n    <path d=\"M 30.160938 205.647533 \r\nL 364.960938 205.647533 \r\nL 364.960938 9.807533 \r\nL 30.160938 9.807533 \r\nz\r\n\" style=\"fill:#ffffff;\"/>\r\n   </g>\r\n   <g id=\"matplotlib.axis_1\">\r\n    <g id=\"xtick_1\">\r\n     <g id=\"line2d_1\">\r\n      <path clip-path=\"url(#p5129a32ede)\" d=\"M 44.519335 205.647533 \r\nL 44.519335 9.807533 \r\n\" style=\"fill:none;stroke:#cccccc;stroke-linecap:round;stroke-width:0.8;\"/>\r\n     </g>\r\n     <g id=\"line2d_2\"/>\r\n     <g id=\"text_1\">\r\n      <!-- 2020-01 -->\r\n      <g style=\"fill:#262626;\" transform=\"translate(11.746512 233.694037)rotate(-30)scale(0.1 -0.1)\">\r\n       <defs>\r\n        <path d=\"M 50.34375 8.453125 \r\nL 50.34375 0 \r\nL 3.03125 0 \r\nQ 2.9375 3.171875 4.046875 6.109375 \r\nQ 5.859375 10.9375 9.828125 15.625 \r\nQ 13.8125 20.3125 21.34375 26.46875 \r\nQ 33.015625 36.03125 37.109375 41.625 \r\nQ 41.21875 47.21875 41.21875 52.203125 \r\nQ 41.21875 57.421875 37.46875 61 \r\nQ 33.734375 64.59375 27.734375 64.59375 \r\nQ 21.390625 64.59375 17.578125 60.78125 \r\nQ 13.765625 56.984375 13.71875 50.25 \r\nL 4.6875 51.171875 \r\nQ 5.609375 61.28125 11.65625 66.578125 \r\nQ 17.71875 71.875 27.9375 71.875 \r\nQ 38.234375 71.875 44.234375 66.15625 \r\nQ 50.25 60.453125 50.25 52 \r\nQ 50.25 47.703125 48.484375 43.546875 \r\nQ 46.734375 39.40625 42.65625 34.8125 \r\nQ 38.578125 30.21875 29.109375 22.21875 \r\nQ 21.1875 15.578125 18.9375 13.203125 \r\nQ 16.703125 10.84375 15.234375 8.453125 \r\nz\r\n\" id=\"ArialMT-50\"/>\r\n        <path d=\"M 4.15625 35.296875 \r\nQ 4.15625 48 6.765625 55.734375 \r\nQ 9.375 63.484375 14.515625 67.671875 \r\nQ 19.671875 71.875 27.484375 71.875 \r\nQ 33.25 71.875 37.59375 69.546875 \r\nQ 41.9375 67.234375 44.765625 62.859375 \r\nQ 47.609375 58.5 49.21875 52.21875 \r\nQ 50.828125 45.953125 50.828125 35.296875 \r\nQ 50.828125 22.703125 48.234375 14.96875 \r\nQ 45.65625 7.234375 40.5 3 \r\nQ 35.359375 -1.21875 27.484375 -1.21875 \r\nQ 17.140625 -1.21875 11.234375 6.203125 \r\nQ 4.15625 15.140625 4.15625 35.296875 \r\nz\r\nM 13.1875 35.296875 \r\nQ 13.1875 17.671875 17.3125 11.828125 \r\nQ 21.4375 6 27.484375 6 \r\nQ 33.546875 6 37.671875 11.859375 \r\nQ 41.796875 17.71875 41.796875 35.296875 \r\nQ 41.796875 52.984375 37.671875 58.78125 \r\nQ 33.546875 64.59375 27.390625 64.59375 \r\nQ 21.34375 64.59375 17.71875 59.46875 \r\nQ 13.1875 52.9375 13.1875 35.296875 \r\nz\r\n\" id=\"ArialMT-48\"/>\r\n        <path d=\"M 3.171875 21.484375 \r\nL 3.171875 30.328125 \r\nL 30.171875 30.328125 \r\nL 30.171875 21.484375 \r\nz\r\n\" id=\"ArialMT-45\"/>\r\n        <path d=\"M 37.25 0 \r\nL 28.46875 0 \r\nL 28.46875 56 \r\nQ 25.296875 52.984375 20.140625 49.953125 \r\nQ 14.984375 46.921875 10.890625 45.40625 \r\nL 10.890625 53.90625 \r\nQ 18.265625 57.375 23.78125 62.296875 \r\nQ 29.296875 67.234375 31.59375 71.875 \r\nL 37.25 71.875 \r\nz\r\n\" id=\"ArialMT-49\"/>\r\n       </defs>\r\n       <use xlink:href=\"#ArialMT-50\"/>\r\n       <use x=\"55.615234\" xlink:href=\"#ArialMT-48\"/>\r\n       <use x=\"111.230469\" xlink:href=\"#ArialMT-50\"/>\r\n       <use x=\"166.845703\" xlink:href=\"#ArialMT-48\"/>\r\n       <use x=\"222.460938\" xlink:href=\"#ArialMT-45\"/>\r\n       <use x=\"255.761719\" xlink:href=\"#ArialMT-48\"/>\r\n       <use x=\"311.376953\" xlink:href=\"#ArialMT-49\"/>\r\n      </g>\r\n     </g>\r\n    </g>\r\n    <g id=\"xtick_2\">\r\n     <g id=\"line2d_3\">\r\n      <path clip-path=\"url(#p5129a32ede)\" d=\"M 96.106392 205.647533 \r\nL 96.106392 9.807533 \r\n\" style=\"fill:none;stroke:#cccccc;stroke-linecap:round;stroke-width:0.8;\"/>\r\n     </g>\r\n     <g id=\"line2d_4\"/>\r\n     <g id=\"text_2\">\r\n      <!-- 2020-03 -->\r\n      <g style=\"fill:#262626;\" transform=\"translate(63.333569 233.694037)rotate(-30)scale(0.1 -0.1)\">\r\n       <defs>\r\n        <path d=\"M 4.203125 18.890625 \r\nL 12.984375 20.0625 \r\nQ 14.5 12.59375 18.140625 9.296875 \r\nQ 21.78125 6 27 6 \r\nQ 33.203125 6 37.46875 10.296875 \r\nQ 41.75 14.59375 41.75 20.953125 \r\nQ 41.75 27 37.796875 30.921875 \r\nQ 33.84375 34.859375 27.734375 34.859375 \r\nQ 25.25 34.859375 21.53125 33.890625 \r\nL 22.515625 41.609375 \r\nQ 23.390625 41.5 23.921875 41.5 \r\nQ 29.546875 41.5 34.03125 44.421875 \r\nQ 38.53125 47.359375 38.53125 53.46875 \r\nQ 38.53125 58.296875 35.25 61.46875 \r\nQ 31.984375 64.65625 26.8125 64.65625 \r\nQ 21.6875 64.65625 18.265625 61.421875 \r\nQ 14.84375 58.203125 13.875 51.765625 \r\nL 5.078125 53.328125 \r\nQ 6.6875 62.15625 12.390625 67.015625 \r\nQ 18.109375 71.875 26.609375 71.875 \r\nQ 32.46875 71.875 37.390625 69.359375 \r\nQ 42.328125 66.84375 44.9375 62.5 \r\nQ 47.5625 58.15625 47.5625 53.265625 \r\nQ 47.5625 48.640625 45.0625 44.828125 \r\nQ 42.578125 41.015625 37.703125 38.765625 \r\nQ 44.046875 37.3125 47.5625 32.6875 \r\nQ 51.078125 28.078125 51.078125 21.140625 \r\nQ 51.078125 11.765625 44.234375 5.25 \r\nQ 37.40625 -1.265625 26.953125 -1.265625 \r\nQ 17.53125 -1.265625 11.296875 4.34375 \r\nQ 5.078125 9.96875 4.203125 18.890625 \r\nz\r\n\" id=\"ArialMT-51\"/>\r\n       </defs>\r\n       <use xlink:href=\"#ArialMT-50\"/>\r\n       <use x=\"55.615234\" xlink:href=\"#ArialMT-48\"/>\r\n       <use x=\"111.230469\" xlink:href=\"#ArialMT-50\"/>\r\n       <use x=\"166.845703\" xlink:href=\"#ArialMT-48\"/>\r\n       <use x=\"222.460938\" xlink:href=\"#ArialMT-45\"/>\r\n       <use x=\"255.761719\" xlink:href=\"#ArialMT-48\"/>\r\n       <use x=\"311.376953\" xlink:href=\"#ArialMT-51\"/>\r\n      </g>\r\n     </g>\r\n    </g>\r\n    <g id=\"xtick_3\">\r\n     <g id=\"line2d_5\">\r\n      <path clip-path=\"url(#p5129a32ede)\" d=\"M 148.553233 205.647533 \r\nL 148.553233 9.807533 \r\n\" style=\"fill:none;stroke:#cccccc;stroke-linecap:round;stroke-width:0.8;\"/>\r\n     </g>\r\n     <g id=\"line2d_6\"/>\r\n     <g id=\"text_3\">\r\n      <!-- 2020-05 -->\r\n      <g style=\"fill:#262626;\" transform=\"translate(115.780411 233.694037)rotate(-30)scale(0.1 -0.1)\">\r\n       <defs>\r\n        <path d=\"M 4.15625 18.75 \r\nL 13.375 19.53125 \r\nQ 14.40625 12.796875 18.140625 9.390625 \r\nQ 21.875 6 27.15625 6 \r\nQ 33.5 6 37.890625 10.78125 \r\nQ 42.28125 15.578125 42.28125 23.484375 \r\nQ 42.28125 31 38.0625 35.34375 \r\nQ 33.84375 39.703125 27 39.703125 \r\nQ 22.75 39.703125 19.328125 37.765625 \r\nQ 15.921875 35.84375 13.96875 32.765625 \r\nL 5.71875 33.84375 \r\nL 12.640625 70.609375 \r\nL 48.25 70.609375 \r\nL 48.25 62.203125 \r\nL 19.671875 62.203125 \r\nL 15.828125 42.96875 \r\nQ 22.265625 47.46875 29.34375 47.46875 \r\nQ 38.71875 47.46875 45.15625 40.96875 \r\nQ 51.609375 34.46875 51.609375 24.265625 \r\nQ 51.609375 14.546875 45.953125 7.46875 \r\nQ 39.0625 -1.21875 27.15625 -1.21875 \r\nQ 17.390625 -1.21875 11.203125 4.25 \r\nQ 5.03125 9.71875 4.15625 18.75 \r\nz\r\n\" id=\"ArialMT-53\"/>\r\n       </defs>\r\n       <use xlink:href=\"#ArialMT-50\"/>\r\n       <use x=\"55.615234\" xlink:href=\"#ArialMT-48\"/>\r\n       <use x=\"111.230469\" xlink:href=\"#ArialMT-50\"/>\r\n       <use x=\"166.845703\" xlink:href=\"#ArialMT-48\"/>\r\n       <use x=\"222.460938\" xlink:href=\"#ArialMT-45\"/>\r\n       <use x=\"255.761719\" xlink:href=\"#ArialMT-48\"/>\r\n       <use x=\"311.376953\" xlink:href=\"#ArialMT-53\"/>\r\n      </g>\r\n     </g>\r\n    </g>\r\n    <g id=\"xtick_4\">\r\n     <g id=\"line2d_7\">\r\n      <path clip-path=\"url(#p5129a32ede)\" d=\"M 201.000075 205.647533 \r\nL 201.000075 9.807533 \r\n\" style=\"fill:none;stroke:#cccccc;stroke-linecap:round;stroke-width:0.8;\"/>\r\n     </g>\r\n     <g id=\"line2d_8\"/>\r\n     <g id=\"text_4\">\r\n      <!-- 2020-07 -->\r\n      <g style=\"fill:#262626;\" transform=\"translate(168.227252 233.694037)rotate(-30)scale(0.1 -0.1)\">\r\n       <defs>\r\n        <path d=\"M 4.734375 62.203125 \r\nL 4.734375 70.65625 \r\nL 51.078125 70.65625 \r\nL 51.078125 63.8125 \r\nQ 44.234375 56.546875 37.515625 44.484375 \r\nQ 30.8125 32.421875 27.15625 19.671875 \r\nQ 24.515625 10.6875 23.78125 0 \r\nL 14.75 0 \r\nQ 14.890625 8.453125 18.0625 20.40625 \r\nQ 21.234375 32.375 27.171875 43.484375 \r\nQ 33.109375 54.59375 39.796875 62.203125 \r\nz\r\n\" id=\"ArialMT-55\"/>\r\n       </defs>\r\n       <use xlink:href=\"#ArialMT-50\"/>\r\n       <use x=\"55.615234\" xlink:href=\"#ArialMT-48\"/>\r\n       <use x=\"111.230469\" xlink:href=\"#ArialMT-50\"/>\r\n       <use x=\"166.845703\" xlink:href=\"#ArialMT-48\"/>\r\n       <use x=\"222.460938\" xlink:href=\"#ArialMT-45\"/>\r\n       <use x=\"255.761719\" xlink:href=\"#ArialMT-48\"/>\r\n       <use x=\"311.376953\" xlink:href=\"#ArialMT-55\"/>\r\n      </g>\r\n     </g>\r\n    </g>\r\n    <g id=\"xtick_5\">\r\n     <g id=\"line2d_9\">\r\n      <path clip-path=\"url(#p5129a32ede)\" d=\"M 254.3067 205.647533 \r\nL 254.3067 9.807533 \r\n\" style=\"fill:none;stroke:#cccccc;stroke-linecap:round;stroke-width:0.8;\"/>\r\n     </g>\r\n     <g id=\"line2d_10\"/>\r\n     <g id=\"text_5\">\r\n      <!-- 2020-09 -->\r\n      <g style=\"fill:#262626;\" transform=\"translate(221.533877 233.694037)rotate(-30)scale(0.1 -0.1)\">\r\n       <defs>\r\n        <path d=\"M 5.46875 16.546875 \r\nL 13.921875 17.328125 \r\nQ 14.984375 11.375 18.015625 8.6875 \r\nQ 21.046875 6 25.78125 6 \r\nQ 29.828125 6 32.875 7.859375 \r\nQ 35.9375 9.71875 37.890625 12.8125 \r\nQ 39.84375 15.921875 41.15625 21.1875 \r\nQ 42.484375 26.46875 42.484375 31.9375 \r\nQ 42.484375 32.515625 42.4375 33.6875 \r\nQ 39.796875 29.5 35.234375 26.875 \r\nQ 30.671875 24.265625 25.34375 24.265625 \r\nQ 16.453125 24.265625 10.296875 30.703125 \r\nQ 4.15625 37.15625 4.15625 47.703125 \r\nQ 4.15625 58.59375 10.578125 65.234375 \r\nQ 17 71.875 26.65625 71.875 \r\nQ 33.640625 71.875 39.421875 68.109375 \r\nQ 45.21875 64.359375 48.21875 57.390625 \r\nQ 51.21875 50.4375 51.21875 37.25 \r\nQ 51.21875 23.53125 48.234375 15.40625 \r\nQ 45.265625 7.28125 39.375 3.03125 \r\nQ 33.5 -1.21875 25.59375 -1.21875 \r\nQ 17.1875 -1.21875 11.859375 3.4375 \r\nQ 6.546875 8.109375 5.46875 16.546875 \r\nz\r\nM 41.453125 48.140625 \r\nQ 41.453125 55.71875 37.421875 60.15625 \r\nQ 33.40625 64.59375 27.734375 64.59375 \r\nQ 21.875 64.59375 17.53125 59.8125 \r\nQ 13.1875 55.03125 13.1875 47.40625 \r\nQ 13.1875 40.578125 17.3125 36.296875 \r\nQ 21.4375 32.03125 27.484375 32.03125 \r\nQ 33.59375 32.03125 37.515625 36.296875 \r\nQ 41.453125 40.578125 41.453125 48.140625 \r\nz\r\n\" id=\"ArialMT-57\"/>\r\n       </defs>\r\n       <use xlink:href=\"#ArialMT-50\"/>\r\n       <use x=\"55.615234\" xlink:href=\"#ArialMT-48\"/>\r\n       <use x=\"111.230469\" xlink:href=\"#ArialMT-50\"/>\r\n       <use x=\"166.845703\" xlink:href=\"#ArialMT-48\"/>\r\n       <use x=\"222.460938\" xlink:href=\"#ArialMT-45\"/>\r\n       <use x=\"255.761719\" xlink:href=\"#ArialMT-48\"/>\r\n       <use x=\"311.376953\" xlink:href=\"#ArialMT-57\"/>\r\n      </g>\r\n     </g>\r\n    </g>\r\n    <g id=\"xtick_6\">\r\n     <g id=\"line2d_11\">\r\n      <path clip-path=\"url(#p5129a32ede)\" d=\"M 306.753542 205.647533 \r\nL 306.753542 9.807533 \r\n\" style=\"fill:none;stroke:#cccccc;stroke-linecap:round;stroke-width:0.8;\"/>\r\n     </g>\r\n     <g id=\"line2d_12\"/>\r\n     <g id=\"text_6\">\r\n      <!-- 2020-11 -->\r\n      <g style=\"fill:#262626;\" transform=\"translate(274.619412 233.325287)rotate(-30)scale(0.1 -0.1)\">\r\n       <use xlink:href=\"#ArialMT-50\"/>\r\n       <use x=\"55.615234\" xlink:href=\"#ArialMT-48\"/>\r\n       <use x=\"111.230469\" xlink:href=\"#ArialMT-50\"/>\r\n       <use x=\"166.845703\" xlink:href=\"#ArialMT-48\"/>\r\n       <use x=\"222.460938\" xlink:href=\"#ArialMT-45\"/>\r\n       <use x=\"255.761719\" xlink:href=\"#ArialMT-49\"/>\r\n       <use x=\"304.001953\" xlink:href=\"#ArialMT-49\"/>\r\n      </g>\r\n     </g>\r\n    </g>\r\n    <g id=\"xtick_7\">\r\n     <g id=\"line2d_13\">\r\n      <path clip-path=\"url(#p5129a32ede)\" d=\"M 359.200383 205.647533 \r\nL 359.200383 9.807533 \r\n\" style=\"fill:none;stroke:#cccccc;stroke-linecap:round;stroke-width:0.8;\"/>\r\n     </g>\r\n     <g id=\"line2d_14\"/>\r\n     <g id=\"text_7\">\r\n      <!-- 2021-01 -->\r\n      <g style=\"fill:#262626;\" transform=\"translate(326.42756 233.694037)rotate(-30)scale(0.1 -0.1)\">\r\n       <use xlink:href=\"#ArialMT-50\"/>\r\n       <use x=\"55.615234\" xlink:href=\"#ArialMT-48\"/>\r\n       <use x=\"111.230469\" xlink:href=\"#ArialMT-50\"/>\r\n       <use x=\"166.845703\" xlink:href=\"#ArialMT-49\"/>\r\n       <use x=\"222.460938\" xlink:href=\"#ArialMT-45\"/>\r\n       <use x=\"255.761719\" xlink:href=\"#ArialMT-48\"/>\r\n       <use x=\"311.376953\" xlink:href=\"#ArialMT-49\"/>\r\n      </g>\r\n     </g>\r\n    </g>\r\n    <g id=\"text_8\">\r\n     <!-- Date -->\r\n     <g style=\"fill:#262626;\" transform=\"translate(187 246.573075)scale(0.1 -0.1)\">\r\n      <defs>\r\n       <path d=\"M 7.71875 0 \r\nL 7.71875 71.578125 \r\nL 32.375 71.578125 \r\nQ 40.71875 71.578125 45.125 70.5625 \r\nQ 51.265625 69.140625 55.609375 65.4375 \r\nQ 61.28125 60.640625 64.078125 53.1875 \r\nQ 66.890625 45.75 66.890625 36.1875 \r\nQ 66.890625 28.03125 64.984375 21.734375 \r\nQ 63.09375 15.4375 60.109375 11.296875 \r\nQ 57.125 7.171875 53.578125 4.796875 \r\nQ 50.046875 2.4375 45.046875 1.21875 \r\nQ 40.046875 0 33.546875 0 \r\nz\r\nM 17.1875 8.453125 \r\nL 32.46875 8.453125 \r\nQ 39.546875 8.453125 43.578125 9.765625 \r\nQ 47.609375 11.078125 50 13.484375 \r\nQ 53.375 16.84375 55.25 22.53125 \r\nQ 57.125 28.21875 57.125 36.328125 \r\nQ 57.125 47.5625 53.4375 53.59375 \r\nQ 49.75 59.625 44.484375 61.671875 \r\nQ 40.671875 63.140625 32.234375 63.140625 \r\nL 17.1875 63.140625 \r\nz\r\n\" id=\"ArialMT-68\"/>\r\n       <path d=\"M 40.4375 6.390625 \r\nQ 35.546875 2.25 31.03125 0.53125 \r\nQ 26.515625 -1.171875 21.34375 -1.171875 \r\nQ 12.796875 -1.171875 8.203125 3 \r\nQ 3.609375 7.171875 3.609375 13.671875 \r\nQ 3.609375 17.484375 5.34375 20.625 \r\nQ 7.078125 23.78125 9.890625 25.6875 \r\nQ 12.703125 27.59375 16.21875 28.5625 \r\nQ 18.796875 29.25 24.03125 29.890625 \r\nQ 34.671875 31.15625 39.703125 32.90625 \r\nQ 39.75 34.71875 39.75 35.203125 \r\nQ 39.75 40.578125 37.25 42.78125 \r\nQ 33.890625 45.75 27.25 45.75 \r\nQ 21.046875 45.75 18.09375 43.578125 \r\nQ 15.140625 41.40625 13.71875 35.890625 \r\nL 5.125 37.0625 \r\nQ 6.296875 42.578125 8.984375 45.96875 \r\nQ 11.671875 49.359375 16.75 51.1875 \r\nQ 21.828125 53.03125 28.515625 53.03125 \r\nQ 35.15625 53.03125 39.296875 51.46875 \r\nQ 43.453125 49.90625 45.40625 47.53125 \r\nQ 47.359375 45.171875 48.140625 41.546875 \r\nQ 48.578125 39.3125 48.578125 33.453125 \r\nL 48.578125 21.734375 \r\nQ 48.578125 9.46875 49.140625 6.21875 \r\nQ 49.703125 2.984375 51.375 0 \r\nL 42.1875 0 \r\nQ 40.828125 2.734375 40.4375 6.390625 \r\nz\r\nM 39.703125 26.03125 \r\nQ 34.90625 24.078125 25.34375 22.703125 \r\nQ 19.921875 21.921875 17.671875 20.9375 \r\nQ 15.4375 19.96875 14.203125 18.09375 \r\nQ 12.984375 16.21875 12.984375 13.921875 \r\nQ 12.984375 10.40625 15.640625 8.0625 \r\nQ 18.3125 5.71875 23.4375 5.71875 \r\nQ 28.515625 5.71875 32.46875 7.9375 \r\nQ 36.421875 10.15625 38.28125 14.015625 \r\nQ 39.703125 17 39.703125 22.796875 \r\nz\r\n\" id=\"ArialMT-97\"/>\r\n       <path d=\"M 25.78125 7.859375 \r\nL 27.046875 0.09375 \r\nQ 23.34375 -0.6875 20.40625 -0.6875 \r\nQ 15.625 -0.6875 12.984375 0.828125 \r\nQ 10.359375 2.34375 9.28125 4.8125 \r\nQ 8.203125 7.28125 8.203125 15.1875 \r\nL 8.203125 45.015625 \r\nL 1.765625 45.015625 \r\nL 1.765625 51.859375 \r\nL 8.203125 51.859375 \r\nL 8.203125 64.703125 \r\nL 16.9375 69.96875 \r\nL 16.9375 51.859375 \r\nL 25.78125 51.859375 \r\nL 25.78125 45.015625 \r\nL 16.9375 45.015625 \r\nL 16.9375 14.703125 \r\nQ 16.9375 10.9375 17.40625 9.859375 \r\nQ 17.875 8.796875 18.921875 8.15625 \r\nQ 19.96875 7.515625 21.921875 7.515625 \r\nQ 23.390625 7.515625 25.78125 7.859375 \r\nz\r\n\" id=\"ArialMT-116\"/>\r\n       <path d=\"M 42.09375 16.703125 \r\nL 51.171875 15.578125 \r\nQ 49.03125 7.625 43.21875 3.21875 \r\nQ 37.40625 -1.171875 28.375 -1.171875 \r\nQ 17 -1.171875 10.328125 5.828125 \r\nQ 3.65625 12.84375 3.65625 25.484375 \r\nQ 3.65625 38.578125 10.390625 45.796875 \r\nQ 17.140625 53.03125 27.875 53.03125 \r\nQ 38.28125 53.03125 44.875 45.953125 \r\nQ 51.46875 38.875 51.46875 26.03125 \r\nQ 51.46875 25.25 51.421875 23.6875 \r\nL 12.75 23.6875 \r\nQ 13.234375 15.140625 17.578125 10.59375 \r\nQ 21.921875 6.0625 28.421875 6.0625 \r\nQ 33.25 6.0625 36.671875 8.59375 \r\nQ 40.09375 11.140625 42.09375 16.703125 \r\nz\r\nM 13.234375 30.90625 \r\nL 42.1875 30.90625 \r\nQ 41.609375 37.453125 38.875 40.71875 \r\nQ 34.671875 45.796875 27.984375 45.796875 \r\nQ 21.921875 45.796875 17.796875 41.75 \r\nQ 13.671875 37.703125 13.234375 30.90625 \r\nz\r\n\" id=\"ArialMT-101\"/>\r\n      </defs>\r\n      <use xlink:href=\"#ArialMT-68\"/>\r\n      <use x=\"72.216797\" xlink:href=\"#ArialMT-97\"/>\r\n      <use x=\"127.832031\" xlink:href=\"#ArialMT-116\"/>\r\n      <use x=\"155.615234\" xlink:href=\"#ArialMT-101\"/>\r\n     </g>\r\n    </g>\r\n   </g>\r\n   <g id=\"matplotlib.axis_2\">\r\n    <g id=\"ytick_1\">\r\n     <g id=\"line2d_15\">\r\n      <path clip-path=\"url(#p5129a32ede)\" d=\"M 30.160938 176.178438 \r\nL 364.960938 176.178438 \r\n\" style=\"fill:none;stroke:#cccccc;stroke-linecap:round;stroke-width:0.8;\"/>\r\n     </g>\r\n     <g id=\"line2d_16\"/>\r\n     <g id=\"text_9\">\r\n      <!-- 0.02 -->\r\n      <g style=\"fill:#262626;\" transform=\"translate(7.2 179.757344)scale(0.1 -0.1)\">\r\n       <defs>\r\n        <path d=\"M 9.078125 0 \r\nL 9.078125 10.015625 \r\nL 19.09375 10.015625 \r\nL 19.09375 0 \r\nz\r\n\" id=\"ArialMT-46\"/>\r\n       </defs>\r\n       <use xlink:href=\"#ArialMT-48\"/>\r\n       <use x=\"55.615234\" xlink:href=\"#ArialMT-46\"/>\r\n       <use x=\"83.398438\" xlink:href=\"#ArialMT-48\"/>\r\n       <use x=\"139.013672\" xlink:href=\"#ArialMT-50\"/>\r\n      </g>\r\n     </g>\r\n    </g>\r\n    <g id=\"ytick_2\">\r\n     <g id=\"line2d_17\">\r\n      <path clip-path=\"url(#p5129a32ede)\" d=\"M 30.160938 143.098531 \r\nL 364.960938 143.098531 \r\n\" style=\"fill:none;stroke:#cccccc;stroke-linecap:round;stroke-width:0.8;\"/>\r\n     </g>\r\n     <g id=\"line2d_18\"/>\r\n     <g id=\"text_10\">\r\n      <!-- 0.04 -->\r\n      <g style=\"fill:#262626;\" transform=\"translate(7.2 146.677438)scale(0.1 -0.1)\">\r\n       <defs>\r\n        <path d=\"M 32.328125 0 \r\nL 32.328125 17.140625 \r\nL 1.265625 17.140625 \r\nL 1.265625 25.203125 \r\nL 33.9375 71.578125 \r\nL 41.109375 71.578125 \r\nL 41.109375 25.203125 \r\nL 50.78125 25.203125 \r\nL 50.78125 17.140625 \r\nL 41.109375 17.140625 \r\nL 41.109375 0 \r\nz\r\nM 32.328125 25.203125 \r\nL 32.328125 57.46875 \r\nL 9.90625 25.203125 \r\nz\r\n\" id=\"ArialMT-52\"/>\r\n       </defs>\r\n       <use xlink:href=\"#ArialMT-48\"/>\r\n       <use x=\"55.615234\" xlink:href=\"#ArialMT-46\"/>\r\n       <use x=\"83.398438\" xlink:href=\"#ArialMT-48\"/>\r\n       <use x=\"139.013672\" xlink:href=\"#ArialMT-52\"/>\r\n      </g>\r\n     </g>\r\n    </g>\r\n    <g id=\"ytick_3\">\r\n     <g id=\"line2d_19\">\r\n      <path clip-path=\"url(#p5129a32ede)\" d=\"M 30.160938 110.018625 \r\nL 364.960938 110.018625 \r\n\" style=\"fill:none;stroke:#cccccc;stroke-linecap:round;stroke-width:0.8;\"/>\r\n     </g>\r\n     <g id=\"line2d_20\"/>\r\n     <g id=\"text_11\">\r\n      <!-- 0.06 -->\r\n      <g style=\"fill:#262626;\" transform=\"translate(7.2 113.597531)scale(0.1 -0.1)\">\r\n       <defs>\r\n        <path d=\"M 49.75 54.046875 \r\nL 41.015625 53.375 \r\nQ 39.84375 58.546875 37.703125 60.890625 \r\nQ 34.125 64.65625 28.90625 64.65625 \r\nQ 24.703125 64.65625 21.53125 62.3125 \r\nQ 17.390625 59.28125 14.984375 53.46875 \r\nQ 12.59375 47.65625 12.5 36.921875 \r\nQ 15.671875 41.75 20.265625 44.09375 \r\nQ 24.859375 46.4375 29.890625 46.4375 \r\nQ 38.671875 46.4375 44.84375 39.96875 \r\nQ 51.03125 33.5 51.03125 23.25 \r\nQ 51.03125 16.5 48.125 10.71875 \r\nQ 45.21875 4.9375 40.140625 1.859375 \r\nQ 35.0625 -1.21875 28.609375 -1.21875 \r\nQ 17.625 -1.21875 10.6875 6.859375 \r\nQ 3.765625 14.9375 3.765625 33.5 \r\nQ 3.765625 54.25 11.421875 63.671875 \r\nQ 18.109375 71.875 29.4375 71.875 \r\nQ 37.890625 71.875 43.28125 67.140625 \r\nQ 48.6875 62.40625 49.75 54.046875 \r\nz\r\nM 13.875 23.1875 \r\nQ 13.875 18.65625 15.796875 14.5 \r\nQ 17.71875 10.359375 21.1875 8.171875 \r\nQ 24.65625 6 28.46875 6 \r\nQ 34.03125 6 38.03125 10.484375 \r\nQ 42.046875 14.984375 42.046875 22.703125 \r\nQ 42.046875 30.125 38.078125 34.390625 \r\nQ 34.125 38.671875 28.125 38.671875 \r\nQ 22.171875 38.671875 18.015625 34.390625 \r\nQ 13.875 30.125 13.875 23.1875 \r\nz\r\n\" id=\"ArialMT-54\"/>\r\n       </defs>\r\n       <use xlink:href=\"#ArialMT-48\"/>\r\n       <use x=\"55.615234\" xlink:href=\"#ArialMT-46\"/>\r\n       <use x=\"83.398438\" xlink:href=\"#ArialMT-48\"/>\r\n       <use x=\"139.013672\" xlink:href=\"#ArialMT-54\"/>\r\n      </g>\r\n     </g>\r\n    </g>\r\n    <g id=\"ytick_4\">\r\n     <g id=\"line2d_21\">\r\n      <path clip-path=\"url(#p5129a32ede)\" d=\"M 30.160938 76.938719 \r\nL 364.960938 76.938719 \r\n\" style=\"fill:none;stroke:#cccccc;stroke-linecap:round;stroke-width:0.8;\"/>\r\n     </g>\r\n     <g id=\"line2d_22\"/>\r\n     <g id=\"text_12\">\r\n      <!-- 0.08 -->\r\n      <g style=\"fill:#262626;\" transform=\"translate(7.2 80.517625)scale(0.1 -0.1)\">\r\n       <defs>\r\n        <path d=\"M 17.671875 38.8125 \r\nQ 12.203125 40.828125 9.5625 44.53125 \r\nQ 6.9375 48.25 6.9375 53.421875 \r\nQ 6.9375 61.234375 12.546875 66.546875 \r\nQ 18.171875 71.875 27.484375 71.875 \r\nQ 36.859375 71.875 42.578125 66.421875 \r\nQ 48.296875 60.984375 48.296875 53.171875 \r\nQ 48.296875 48.1875 45.671875 44.5 \r\nQ 43.0625 40.828125 37.75 38.8125 \r\nQ 44.34375 36.671875 47.78125 31.875 \r\nQ 51.21875 27.09375 51.21875 20.453125 \r\nQ 51.21875 11.28125 44.71875 5.03125 \r\nQ 38.234375 -1.21875 27.640625 -1.21875 \r\nQ 17.046875 -1.21875 10.546875 5.046875 \r\nQ 4.046875 11.328125 4.046875 20.703125 \r\nQ 4.046875 27.6875 7.59375 32.390625 \r\nQ 11.140625 37.109375 17.671875 38.8125 \r\nz\r\nM 15.921875 53.71875 \r\nQ 15.921875 48.640625 19.1875 45.40625 \r\nQ 22.46875 42.1875 27.6875 42.1875 \r\nQ 32.765625 42.1875 36.015625 45.375 \r\nQ 39.265625 48.578125 39.265625 53.21875 \r\nQ 39.265625 58.0625 35.90625 61.359375 \r\nQ 32.5625 64.65625 27.59375 64.65625 \r\nQ 22.5625 64.65625 19.234375 61.421875 \r\nQ 15.921875 58.203125 15.921875 53.71875 \r\nz\r\nM 13.09375 20.65625 \r\nQ 13.09375 16.890625 14.875 13.375 \r\nQ 16.65625 9.859375 20.171875 7.921875 \r\nQ 23.6875 6 27.734375 6 \r\nQ 34.03125 6 38.125 10.046875 \r\nQ 42.234375 14.109375 42.234375 20.359375 \r\nQ 42.234375 26.703125 38.015625 30.859375 \r\nQ 33.796875 35.015625 27.4375 35.015625 \r\nQ 21.234375 35.015625 17.15625 30.90625 \r\nQ 13.09375 26.8125 13.09375 20.65625 \r\nz\r\n\" id=\"ArialMT-56\"/>\r\n       </defs>\r\n       <use xlink:href=\"#ArialMT-48\"/>\r\n       <use x=\"55.615234\" xlink:href=\"#ArialMT-46\"/>\r\n       <use x=\"83.398438\" xlink:href=\"#ArialMT-48\"/>\r\n       <use x=\"139.013672\" xlink:href=\"#ArialMT-56\"/>\r\n      </g>\r\n     </g>\r\n    </g>\r\n    <g id=\"ytick_5\">\r\n     <g id=\"line2d_23\">\r\n      <path clip-path=\"url(#p5129a32ede)\" d=\"M 30.160938 43.858813 \r\nL 364.960938 43.858813 \r\n\" style=\"fill:none;stroke:#cccccc;stroke-linecap:round;stroke-width:0.8;\"/>\r\n     </g>\r\n     <g id=\"line2d_24\"/>\r\n     <g id=\"text_13\">\r\n      <!-- 0.10 -->\r\n      <g style=\"fill:#262626;\" transform=\"translate(7.2 47.437719)scale(0.1 -0.1)\">\r\n       <use xlink:href=\"#ArialMT-48\"/>\r\n       <use x=\"55.615234\" xlink:href=\"#ArialMT-46\"/>\r\n       <use x=\"83.398438\" xlink:href=\"#ArialMT-49\"/>\r\n       <use x=\"139.013672\" xlink:href=\"#ArialMT-48\"/>\r\n      </g>\r\n     </g>\r\n    </g>\r\n    <g id=\"ytick_6\">\r\n     <g id=\"line2d_25\">\r\n      <path clip-path=\"url(#p5129a32ede)\" d=\"M 30.160938 10.778906 \r\nL 364.960938 10.778906 \r\n\" style=\"fill:none;stroke:#cccccc;stroke-linecap:round;stroke-width:0.8;\"/>\r\n     </g>\r\n     <g id=\"line2d_26\"/>\r\n     <g id=\"text_14\">\r\n      <!-- 0.12 -->\r\n      <g style=\"fill:#262626;\" transform=\"translate(7.2 14.357812)scale(0.1 -0.1)\">\r\n       <use xlink:href=\"#ArialMT-48\"/>\r\n       <use x=\"55.615234\" xlink:href=\"#ArialMT-46\"/>\r\n       <use x=\"83.398438\" xlink:href=\"#ArialMT-49\"/>\r\n       <use x=\"139.013672\" xlink:href=\"#ArialMT-50\"/>\r\n      </g>\r\n     </g>\r\n    </g>\r\n   </g>\r\n   <g id=\"line2d_27\">\r\n    <path clip-path=\"url(#p5129a32ede)\" d=\"M 45.379119 193.565277 \r\nL 46.238904 156.898843 \r\nL 48.818256 170.441014 \r\nL 49.678041 194.849884 \r\nL 50.537825 190.825555 \r\nL 51.397609 179.345073 \r\nL 52.257394 188.684985 \r\nL 54.836746 168.712174 \r\nL 55.696531 179.641505 \r\nL 56.556315 174.806104 \r\nL 57.416099 182.889247 \r\nL 58.275884 166.908228 \r\nL 61.715021 181.778725 \r\nL 62.574805 196.745715 \r\nL 63.434589 189.788752 \r\nL 64.294374 188.831821 \r\nL 66.873726 187.64899 \r\nL 67.733511 188.709489 \r\nL 68.593295 196.041779 \r\nL 69.453079 183.654194 \r\nL 70.312864 182.352142 \r\nL 72.892216 188.374564 \r\nL 73.752001 183.371505 \r\nL 74.611785 181.705528 \r\nL 75.471569 171.978508 \r\nL 76.331354 146.621893 \r\nL 78.910706 160.651003 \r\nL 79.770491 186.257874 \r\nL 80.630275 176.730698 \r\nL 81.490059 190.963882 \r\nL 82.349844 192.581202 \r\nL 85.788981 192.23438 \r\nL 86.648765 190.416794 \r\nL 87.508549 169.913152 \r\nL 88.368333 190.833081 \r\nL 90.947686 170.400656 \r\nL 91.807471 160.492087 \r\nL 92.667255 171.877831 \r\nL 93.527039 134.574499 \r\nL 94.386823 142.208505 \r\nL 96.966176 138.924185 \r\nL 97.825961 144.709917 \r\nL 98.685745 157.03555 \r\nL 99.545529 179.514215 \r\nL 100.405313 166.637189 \r\nL 102.984666 124.423222 \r\nL 103.844451 133.134651 \r\nL 104.704235 130.600121 \r\nL 105.564019 26.839538 \r\nL 106.423803 94.431548 \r\nL 109.003156 81.103962 \r\nL 109.862941 73.425937 \r\nL 110.722725 68.270627 \r\nL 111.582509 114.597794 \r\nL 112.442293 18.709352 \r\nL 115.021646 19.191304 \r\nL 115.881431 98.346174 \r\nL 116.741215 134.04351 \r\nL 117.600999 41.195819 \r\nL 118.460783 70.735334 \r\nL 121.040136 130.721513 \r\nL 121.899921 153.606317 \r\nL 122.759705 135.099579 \r\nL 123.619489 130.701037 \r\nL 124.479273 138.618889 \r\nL 127.058626 88.834225 \r\nL 127.918411 141.675526 \r\nL 128.778195 142.001159 \r\nL 129.637979 145.88765 \r\nL 133.077116 127.457811 \r\nL 133.936901 164.24051 \r\nL 134.796685 178.734546 \r\nL 135.656469 155.168869 \r\nL 136.516253 175.225518 \r\nL 139.095606 166.336674 \r\nL 139.955391 114.728896 \r\nL 140.815175 137.801416 \r\nL 141.674959 170.457705 \r\nL 142.534743 175.483667 \r\nL 145.114096 175.957856 \r\nL 145.97388 92.696353 \r\nL 146.833665 153.805471 \r\nL 147.693449 155.529612 \r\nL 148.553233 155.180616 \r\nL 151.132586 159.94995 \r\nL 151.99237 176.863259 \r\nL 152.852155 130.984749 \r\nL 153.711939 179.294661 \r\nL 154.571723 74.860589 \r\nL 157.151076 156.208191 \r\nL 158.01086 170.796335 \r\nL 158.870645 137.698403 \r\nL 159.730429 166.124134 \r\nL 160.590213 160.464551 \r\nL 163.169566 160.933622 \r\nL 164.02935 172.008464 \r\nL 164.889135 165.139139 \r\nL 165.748919 174.270763 \r\nL 166.608703 170.706518 \r\nL 170.04784 178.935915 \r\nL 170.907625 149.781039 \r\nL 171.767409 161.724809 \r\nL 172.627193 161.952899 \r\nL 175.206546 156.410871 \r\nL 176.06633 183.966818 \r\nL 176.926115 121.630293 \r\nL 177.785899 175.263883 \r\nL 178.645683 159.021757 \r\nL 181.225036 164.429832 \r\nL 182.08482 148.334323 \r\nL 182.944605 159.219617 \r\nL 183.804389 114.053679 \r\nL 184.664173 152.874828 \r\nL 187.243526 166.88181 \r\nL 188.10331 165.665938 \r\nL 188.963095 152.212138 \r\nL 189.822879 171.66759 \r\nL 190.682663 158.659979 \r\nL 193.262016 166.413104 \r\nL 194.1218 188.286523 \r\nL 194.981585 165.278464 \r\nL 195.841369 158.927038 \r\nL 196.701153 154.567367 \r\nL 199.280506 180.103755 \r\nL 200.14029 179.680744 \r\nL 201.000075 160.848012 \r\nL 201.859859 158.366197 \r\nL 205.298996 191.297102 \r\nL 206.15878 163.112775 \r\nL 207.018565 179.556278 \r\nL 207.878349 155.553803 \r\nL 208.738133 173.365317 \r\nL 211.317486 166.796859 \r\nL 212.17727 163.434734 \r\nL 213.037055 178.95873 \r\nL 213.896839 187.796997 \r\nL 214.756623 170.676718 \r\nL 217.335976 170.414087 \r\nL 218.19576 182.26318 \r\nL 219.055545 154.385279 \r\nL 219.915329 158.226609 \r\nL 220.775113 169.924003 \r\nL 223.354466 185.750092 \r\nL 224.21425 141.836515 \r\nL 225.074035 176.896288 \r\nL 225.933819 168.308909 \r\nL 226.793603 176.038969 \r\nL 229.372956 164.878654 \r\nL 230.23274 171.213721 \r\nL 231.092525 184.483427 \r\nL 231.952309 138.528618 \r\nL 232.812093 100.000324 \r\nL 235.391446 168.05147 \r\nL 236.25123 171.112299 \r\nL 237.111015 164.726803 \r\nL 237.970799 166.92058 \r\nL 238.830583 189.151348 \r\nL 241.409936 190.968009 \r\nL 242.26972 177.276903 \r\nL 243.129505 187.858636 \r\nL 243.989289 173.501011 \r\nL 244.849073 190.329537 \r\nL 247.428426 182.298514 \r\nL 248.28821 194.455353 \r\nL 249.147995 181.141496 \r\nL 250.007779 177.11072 \r\nL 250.867563 183.579198 \r\nL 253.446916 178.149402 \r\nL 254.3067 191.891927 \r\nL 255.166484 162.77013 \r\nL 256.026269 155.394663 \r\nL 256.886053 164.360223 \r\nL 260.32519 169.734379 \r\nL 261.184974 181.154162 \r\nL 262.044759 156.64391 \r\nL 262.904543 180.316139 \r\nL 265.483896 174.931787 \r\nL 266.34368 194.895723 \r\nL 267.203464 188.868119 \r\nL 268.063249 158.004805 \r\nL 268.923033 182.302934 \r\nL 271.502386 169.679469 \r\nL 272.36217 156.713858 \r\nL 273.221954 148.709285 \r\nL 274.081739 176.150332 \r\nL 274.941523 161.857566 \r\nL 277.520876 176.468747 \r\nL 278.38066 191.569541 \r\nL 279.240444 188.64111 \r\nL 280.100229 172.711038 \r\nL 280.960013 168.532936 \r\nL 283.539366 187.781972 \r\nL 284.39915 181.940989 \r\nL 285.258934 178.653595 \r\nL 286.118719 188.748701 \r\nL 286.978503 177.894091 \r\nL 289.557856 181.534997 \r\nL 290.41764 169.195303 \r\nL 291.277424 185.23897 \r\nL 292.137209 123.693794 \r\nL 292.996993 180.259219 \r\nL 295.576346 174.434435 \r\nL 296.43613 182.173566 \r\nL 297.295914 186.538886 \r\nL 298.155699 183.891009 \r\nL 299.015483 160.55101 \r\nL 301.594836 174.750316 \r\nL 302.45462 177.922596 \r\nL 303.314404 150.346605 \r\nL 304.174189 164.25575 \r\nL 305.033973 152.837254 \r\nL 307.613326 160.171521 \r\nL 308.47311 171.445526 \r\nL 309.332894 147.723095 \r\nL 310.192679 158.81031 \r\nL 311.052463 163.466482 \r\nL 313.631816 154.755774 \r\nL 314.4916 163.707115 \r\nL 315.351384 182.405297 \r\nL 317.070953 173.573014 \r\nL 319.650306 183.866414 \r\nL 320.51009 175.782464 \r\nL 321.369874 180.977409 \r\nL 322.229659 171.250069 \r\nL 323.089443 164.84926 \r\nL 325.668796 173.901114 \r\nL 326.52858 189.036238 \r\nL 327.388364 170.786742 \r\nL 329.107933 187.013315 \r\nL 331.687286 167.962917 \r\nL 332.54707 174.355041 \r\nL 333.406854 182.967804 \r\nL 334.266639 171.395253 \r\nL 335.126423 181.058679 \r\nL 337.705776 189.636546 \r\nL 338.56556 166.009091 \r\nL 339.425344 179.898033 \r\nL 340.285129 174.715099 \r\nL 341.144913 166.969466 \r\nL 343.724266 169.907716 \r\nL 344.58405 184.086585 \r\nL 345.443834 169.387768 \r\nL 346.303619 174.99224 \r\nL 347.163403 186.822186 \r\nL 349.742756 163.623361 \r\nL 349.742756 163.623361 \r\n\" style=\"fill:none;stroke:#1f77b4;stroke-linecap:round;stroke-width:1.5;\"/>\r\n   </g>\r\n   <g id=\"patch_3\">\r\n    <path d=\"M 30.160938 205.647533 \r\nL 30.160938 9.807533 \r\n\" style=\"fill:none;stroke:#cccccc;stroke-linecap:square;stroke-linejoin:miter;\"/>\r\n   </g>\r\n   <g id=\"patch_4\">\r\n    <path d=\"M 364.960938 205.647533 \r\nL 364.960938 9.807533 \r\n\" style=\"fill:none;stroke:#cccccc;stroke-linecap:square;stroke-linejoin:miter;\"/>\r\n   </g>\r\n   <g id=\"patch_5\">\r\n    <path d=\"M 30.160938 205.647533 \r\nL 364.960938 205.647533 \r\n\" style=\"fill:none;stroke:#cccccc;stroke-linecap:square;stroke-linejoin:miter;\"/>\r\n   </g>\r\n   <g id=\"patch_6\">\r\n    <path d=\"M 30.160938 9.807533 \r\nL 364.960938 9.807533 \r\n\" style=\"fill:none;stroke:#cccccc;stroke-linecap:square;stroke-linejoin:miter;\"/>\r\n   </g>\r\n  </g>\r\n </g>\r\n <defs>\r\n  <clipPath id=\"p5129a32ede\">\r\n   <rect height=\"195.84\" width=\"334.8\" x=\"30.160938\" y=\"9.807533\"/>\r\n  </clipPath>\r\n </defs>\r\n</svg>\r\n",
      "image/png": "[encoded data removed]"
     },
     "metadata": {}
    }
   ],
   "source": [
    "plt.style.use('seaborn-whitegrid')\n",
    "l.plot()\n",
    "plt.show"
   ]
  },
  {
   "cell_type": "code",
   "execution_count": 12,
   "metadata": {},
   "outputs": [],
   "source": [
    "def multi_days_vol_rank(stocklist, dataframe_hl=pd.DataFrame(), remove_xtrem_days=2, hldays=2, startdate='01-01-2020'):\n",
    "    '''\n",
    "    dataframe_hl = panda datareader from yahoo finance for OHLC data\n",
    "    remove_xtrem_days = to exclude certain xtrem external one-off events caused large volatility\n",
    "    hldays = defines high-low resolution, eg default hldays = 2, highest and lowest price of every 2 days\n",
    "    '''\n",
    "    result = {}\n",
    "    nh = []; nl = []\n",
    "    if dataframe_hl.empty:\n",
    "        df_temp=pd.DataFrame()\n",
    "        for i in stocklist:    \n",
    "            df_temp = web.DataReader(i, data_source='yahoo', start=startdate)\n",
    "            dataframe_hl[i + '-high'] = df_temp['High']\n",
    "            dataframe_hl[i + '-low'] = df_temp['Low']\n",
    "\n",
    "    ''' compare 2020 stocks' volatility by calculating std of (high-low) across hldays and remove extreme volatile days\n",
    "    hldays is the high low resolution in days  '''\n",
    "    \n",
    "    for i in stocklist:\n",
    "        for j in range(0, len(dataframe_hl[i + '-high']), hldays):\n",
    "            nh.append(np.nanmax(dataframe_hl[i + '-high'][j:j+hldays]))\n",
    "            nl.append(np.nanmin(dataframe_hl[i + '-low'][j:j+hldays]))\n",
    "\n",
    "        l = np.divide(np.subtract(nh,nl),nh)\n",
    "        result[i]=np.std(sorted(l)[:-remove_xtrem_days])\n",
    "        nh = []; nl = []\n",
    "    return result\n"
   ]
  },
  {
   "cell_type": "code",
   "execution_count": 8,
   "metadata": {},
   "outputs": [
    {
     "output_type": "execute_result",
     "data": {
      "text/plain": [
       "{'SWIR': 0.05682728494449526,\n",
       " 'NOK': 0.040148490258302985,\n",
       " 'LRCX': 0.03913077754019284,\n",
       " 'MRVL': 0.03736009024796287,\n",
       " 'CCOI': 0.03630992644137195,\n",
       " 'MSI': 0.03300007180757644,\n",
       " 'CCI': 0.032652925379588235,\n",
       " 'LITE': 0.03194776881245283}"
      ]
     },
     "metadata": {},
     "execution_count": 8
    }
   ],
   "source": [
    "m_days_vol_rank = multi_days_vol_rank(stock, df_hl, hldays=5).items()\n",
    "{k: v for k, v in sorted(m_days_vol_rank, key=lambda item: item[1], reverse=True)}\n",
    "#print(m_days_vol_rank)"
   ]
  },
  {
   "cell_type": "code",
   "execution_count": 4,
   "metadata": {},
   "outputs": [
    {
     "output_type": "stream",
     "name": "stdout",
     "text": [
      "{'MRVL': 0.03736009024796287, 'MSI': 0.03300007180757644, 'NOK': 0.040148490258302985, 'LRCX': 0.03913077754019284, 'SWIR': 0.05682728494449526, 'LITE': 0.03194776881245283, 'CCI': 0.032652925379588235, 'CCOI': 0.03630992644137195}\n"
     ]
    }
   ],
   "source": [
    "print(multi_days_vol_rank(stock, hldays=5))"
   ]
  },
  {
   "cell_type": "code",
   "execution_count": 21,
   "metadata": {},
   "outputs": [
    {
     "output_type": "stream",
     "name": "stdout",
     "text": [
      "[0.0, 0.0, 0.0, 0.002320128115414508, 0.0027855127304566327, 0.003937004178520325, 0.005797095840604812, 0.005905459334988622, 0.006607870754022395, 0.006756803923811303, 0.0069444927352426905, 0.007246312545574519, 0.007335014349416929, 0.007782093947869452, 0.007915559813120093, 0.007984119134284571, 0.00915330958822437, 0.011312260151992382, 0.011876529758149556, 0.011904694325796505, 0.011904694325796505, 0.013186904857471808, 0.013927563652283164, 0.014634132725648943, 0.015075362435176206, 0.015424210688960417, 0.01694919363721445, 0.017031671383796472, 0.01715678826793574, 0.017587922841038908, 0.017676750648606902, 0.017964055186050373, 0.01847573328305803, 0.019999980926513672, 0.02045457969027043, 0.021526444352311918, 0.021582770009893514, 0.02178220383361953, 0.021844582099671467, 0.02233254290380562, 0.022922614179784414, 0.023346281843608353, 0.024752451875445412, 0.024875598285331528, 0.025252561133292602, 0.025345651992388186, 0.025936574474714747, 0.026666641235351562, 0.02689489716639821, 0.027989855380631007, 0.02863959043444189, 0.02869759567768715, 0.028865952420302567, 0.029213402960848133, 0.030075218970135712, 0.03301883821769057, 0.03448279985620146, 0.03640773328043373, 0.03878112757725703, 0.0405405657930559, 0.04106276409609582, 0.04205614400748857, 0.04241072687757557, 0.04347828340440215, 0.04375003213062834, 0.04524893272626138, 0.04728127857288839, 0.04773870761555663, 0.04956270349425011, 0.051813423497559886, 0.05263157894736842, 0.05329155901083945, 0.05507247959257928, 0.05785124835438642, 0.06354516943626924, 0.0668449196156463, 0.0704846199009145, 0.08294933660307373, 0.08803609065417432, 0.11919185827975257, 0.13310583481856714, 0.19392526201810623]\n0.02163237578229454\n"
     ]
    }
   ],
   "source": [
    "nh = []; nl = []\n",
    "\n",
    "for j in range(0, len(df_hl['NOK-high']), 3):\n",
    "    nh.append(np.nanmax(df_hl['NOK-high'][j:j+3]))\n",
    "    nl.append(np.nanmin(df_hl['NOK-high'][j:j+3]))\n",
    "l = np.divide(np.subtract(nh, nl), nh)\n",
    "m = sorted(l)\n",
    "print(m)\n",
    "print(np.std(m[2:-2]))\n"
   ]
  },
  {
   "cell_type": "code",
   "execution_count": 43,
   "metadata": {},
   "outputs": [
    {
     "output_type": "execute_result",
     "data": {
      "text/plain": [
       "array([-3, -3, -3])"
      ]
     },
     "metadata": {},
     "execution_count": 43
    }
   ],
   "source": [
    "abc = [1,2,3]\n",
    "bcd = [4,5,6]\n",
    "np.subtract(abc, bcd)"
   ]
  },
  {
   "cell_type": "code",
   "execution_count": 29,
   "metadata": {},
   "outputs": [
    {
     "output_type": "execute_result",
     "data": {
      "text/plain": [
       "26.3700008392334"
      ]
     },
     "metadata": {},
     "execution_count": 29
    }
   ],
   "source": [
    "df_hl.loc['20200501']['MRVL-high']"
   ]
  },
  {
   "cell_type": "code",
   "execution_count": 60,
   "metadata": {},
   "outputs": [
    {
     "output_type": "execute_result",
     "data": {
      "text/plain": [
       "Timestamp('2020-01-16 00:00:00')"
      ]
     },
     "metadata": {},
     "execution_count": 60
    }
   ],
   "source": [
    "transactionDate = df_hl.index\n",
    "transactionDate[10]"
   ]
  },
  {
   "cell_type": "code",
   "execution_count": null,
   "metadata": {},
   "outputs": [],
   "source": [
    "Entry = []; Exit = []\n",
    "flag = 1 #  1 for buy, -1 for sell\n",
    "df_hl.loc['20200501':'20200506'][['MSI-low', 'MSI-high']]\n",
    "\n",
    "for i in df_hl.index:\n",
    "    print(df_hl.loc[i]['MSI-low'])\n"
   ]
  },
  {
   "cell_type": "code",
   "execution_count": 53,
   "metadata": {},
   "outputs": [],
   "source": [
    " c=len(df_hl['MSI-high'])\n",
    "    for i in range(len(FullDataFrame['MFI'])):\n",
    "        if FullDataFrame['MFI'][i] > high:\n",
    "            buy_signal.append(np.nan)\n",
    "            sell_signal.append(FullDataFrame['Close'][i])\n",
    "        elif FullDataFrame['MFI'][i] < low:\n",
    "            buy_signal.append(FullDataFrame['Close'][i])\n",
    "            sell_signal.append(np.nan)\n",
    "        else:\n",
    "            buy_signal.append(np.nan)\n",
    "            sell_signal.append(np.nan)\n",
    "    return (buy_signal, sell_signal)"
   ]
  },
  {
   "cell_type": "code",
   "execution_count": 5,
   "metadata": {
    "tags": []
   },
   "outputs": [
    {
     "output_type": "stream",
     "name": "stdout",
     "text": [
      "2020-01-09 00:00:00  buy @  167.33849487304687\n2020-02-25 00:00:00 sell @  178.56190999348956\n2020-03-02 00:00:00  buy @  167.74799423217775\n2020-03-06 00:00:00 sell @  173.7428501674107\n2020-03-09 00:00:00  buy @  170.13149871826172\n2020-03-11 00:00:00 sell @  162.65713646298363\n2020-03-12 00:00:00  buy @  142.81049423217775\n2020-03-13 00:00:00 sell @  147.60952904110863\n2020-03-16 00:00:00  buy @  145.39350128173828\n2020-03-17 00:00:00 sell @  149.6000017438616\n2020-03-18 00:00:00  buy @  143.10449295043946\n2020-03-19 00:00:00 sell @  147.43809291294642\n2020-03-20 00:00:00  buy @  139.42949295043945\n2020-03-26 00:00:00 sell @  142.93333507719493\n2020-03-27 00:00:00  buy @  140.25900192260744\n2020-04-06 00:00:00 sell @  138.8476126534598\n2020-05-04 00:00:00  buy @  138.12750320434571\n2020-05-06 00:00:00 sell @  136.63809640066964\n2020-05-08 00:00:00  buy @  130.82999839782715\n2020-05-11 00:00:00 sell @  129.16190011160714\n2020-07-09 00:00:00  buy @  130.57800064086913\n2020-07-28 00:00:00 sell @  138.90476771763392\n2020-08-06 00:00:00  buy @  142.56899871826172\n2020-08-07 00:00:00 sell @  144.75238618396577\n2020-08-17 00:00:00  buy @  147.22050704956055\n2020-09-08 00:00:00 sell @  150.44762021019343\n2020-09-15 00:00:00  buy @  157.5525032043457\n2020-09-21 00:00:00 sell @  151.41905285063243\n2020-09-28 00:00:00  buy @  157.30049743652344\n2020-10-15 00:00:00 sell @  166.60952613467262\n2020-10-23 00:00:00  buy @  174.18449935913085\n2020-10-28 00:00:00 sell @  168.4952363513765\n2020-11-02 00:00:00  buy @  164.1150032043457\n2020-11-04 00:00:00 sell @  161.2190464564732\n2020-11-10 00:00:00  buy @  168.19950256347656\n2020-11-19 00:00:00 sell @  165.63809349423363\n2020-11-25 00:00:00  buy @  173.65949935913088\n2020-12-11 00:00:00 sell @  167.05714634486606\n"
     ]
    }
   ],
   "source": [
    "# 5% trailing-stop\n",
    "buy_signal = [np.nan]; sell_signal = [np.nan]\n",
    "flag = 1 #  1 for buy, -1 for sell\n",
    "ceiling = 0 \n",
    "bottom = df_hl['MSI-low'][0]\n",
    "transactionDate = df_hl.index\n",
    "\n",
    "for i in range(len(df_hl['MSI-high'])-1):\n",
    "    if flag == 1:\n",
    "        bottom = min(bottom, df_hl['MSI-low'][i+1])\n",
    "        sell_signal.append(np.nan)\n",
    "        #print(transactionDate[i+1], \" bottom = \", bottom, \" entry level = \", bottom*1.1)\n",
    "        if df_hl['MSI-low'][i+1] <= bottom*1.05 < df_hl['MSI-high'][i+1]: # limit order hit the next day\n",
    "            buy_signal.append(bottom*1.05)\n",
    "            print(transactionDate[i+1], \" buy @ \", bottom*1.05)\n",
    "            flag = -1\n",
    "            ceiling = df_hl['MSI-high'][i+1]\n",
    "        else:\n",
    "            buy_signal.append(np.nan)\n",
    "            \n",
    "    elif flag == -1:\n",
    "        ceiling = max(ceiling, df_hl['MSI-high'][i+1])\n",
    "        buy_signal.append(np.nan)\n",
    "        #print(transactionDate[i+1], \" cieling = \",ceiling, \" stop loss = \", ceiling/1.1)\n",
    "        if df_hl['MSI-low'][i+1] <= ceiling/1.05 < df_hl['MSI-high'][i+1]: # stop loss order now hit next day\n",
    "            sell_signal.append(ceiling/1.05)\n",
    "            print(transactionDate[i+1], \"sell @ \", ceiling/1.05)\n",
    "            flag = 1\n",
    "            bottom = df_hl['MSI-low'][i+1]\n",
    "        else:\n",
    "            sell_signal.append(np.nan)\n"
   ]
  },
  {
   "cell_type": "code",
   "execution_count": 36,
   "metadata": {},
   "outputs": [],
   "source": [
    "signals = pd.DataFrame()\n",
    "signals['Buy'] = buy_signal\n",
    "signals['Sell'] = sell_signal\n",
    "i = df_hl.index\n",
    "signals['date'] = i\n",
    "signals = signals.set_index('date')"
   ]
  },
  {
   "cell_type": "code",
   "execution_count": 1,
   "metadata": {},
   "outputs": [],
   "source": [
    "def trailing_stop_signals(df_hl, trailing_pc):\n",
    "    '''input high low dataframe and trailing percentage eg for 2%, trailing_pc=2)'''\n",
    "    tpc = trailing_pc/100 + 1\n",
    "    buy_signal = [np.nan]; sell_signal = [np.nan]\n",
    "    flag = 1 #  1 for buy, -1 for sell\n",
    "    ceiling = 0 \n",
    "    bottom = df_hl['low'][0]\n",
    "    transactionDate = df_hl.index\n",
    "\n",
    "    for i in range(len(df_hl['high'])-1):\n",
    "        if flag == 1:\n",
    "            bottom = min(bottom, df_hl['low'][i+1])\n",
    "            sell_signal.append(np.nan)\n",
    "            #print(transactionDate[i+1], \" bottom = \", bottom, \" entry level = \", bottom*1.1)\n",
    "            if df_hl['low'][i+1] <= bottom*tpc < df_hl['high'][i+1]: # limit order hit the next day\n",
    "                buy_signal.append(bottom*tpc)\n",
    "                print(transactionDate[i+1], \" buy @ \", bottom*tpc)\n",
    "                flag = -1\n",
    "                ceiling = df_hl['high'][i+1]\n",
    "            else:\n",
    "                buy_signal.append(np.nan)\n",
    "                \n",
    "        elif flag == -1:\n",
    "            ceiling = max(ceiling, df_hl['high'][i+1])\n",
    "            buy_signal.append(np.nan)\n",
    "            #print(transactionDate[i+1], \" cieling = \",ceiling, \" stop loss = \", ceiling/1.1)\n",
    "            if df_hl['low'][i+1] <= ceiling/tpc < df_hl['high'][i+1]: # stop loss order now hit next day\n",
    "                sell_signal.append(ceiling/tpc)\n",
    "                print(transactionDate[i+1], \"sell @ \", ceiling/tpc)\n",
    "                flag = 1\n",
    "                bottom = df_hl['low'][i+1]\n",
    "            else:\n",
    "                sell_signal.append(np.nan)\n",
    "\n",
    "                \n",
    "    df_hl['Buy'] = buy_signal\n",
    "    df_hl['Sell'] = sell_signal\n",
    "    \n",
    "    return df_hl"
   ]
  },
  {
   "cell_type": "code",
   "execution_count": 2,
   "metadata": {},
   "outputs": [
    {
     "output_type": "error",
     "ename": "NameError",
     "evalue": "name 'web' is not defined",
     "traceback": [
      "\u001b[1;31m---------------------------------------------------------------------------\u001b[0m",
      "\u001b[1;31mNameError\u001b[0m                                 Traceback (most recent call last)",
      "\u001b[1;32m<ipython-input-2-99923b440a74>\u001b[0m in \u001b[0;36m<module>\u001b[1;34m\u001b[0m\n\u001b[1;32m----> 1\u001b[1;33m \u001b[0mdf\u001b[0m \u001b[1;33m=\u001b[0m \u001b[0mweb\u001b[0m\u001b[1;33m.\u001b[0m\u001b[0mDataReader\u001b[0m\u001b[1;33m(\u001b[0m\u001b[1;34m'ISRG'\u001b[0m\u001b[1;33m,\u001b[0m \u001b[0mdata_source\u001b[0m\u001b[1;33m=\u001b[0m\u001b[1;34m'yahoo'\u001b[0m\u001b[1;33m,\u001b[0m \u001b[0mstart\u001b[0m\u001b[1;33m=\u001b[0m\u001b[1;34m'01-01-2020'\u001b[0m\u001b[1;33m)\u001b[0m\u001b[1;33m\u001b[0m\u001b[1;33m\u001b[0m\u001b[0m\n\u001b[0m\u001b[0;32m      2\u001b[0m \u001b[0mdf_hl\u001b[0m\u001b[1;33m=\u001b[0m\u001b[0mpd\u001b[0m\u001b[1;33m.\u001b[0m\u001b[0mDataFrame\u001b[0m\u001b[1;33m(\u001b[0m\u001b[1;33m)\u001b[0m\u001b[1;33m\u001b[0m\u001b[1;33m\u001b[0m\u001b[0m\n\u001b[0;32m      3\u001b[0m \u001b[0mdf_hl\u001b[0m\u001b[1;33m[\u001b[0m\u001b[1;34m'high'\u001b[0m\u001b[1;33m]\u001b[0m \u001b[1;33m=\u001b[0m \u001b[0mdf\u001b[0m\u001b[1;33m[\u001b[0m\u001b[1;34m'High'\u001b[0m\u001b[1;33m]\u001b[0m\u001b[1;33m\u001b[0m\u001b[1;33m\u001b[0m\u001b[0m\n\u001b[0;32m      4\u001b[0m \u001b[0mdf_hl\u001b[0m\u001b[1;33m[\u001b[0m\u001b[1;34m'low'\u001b[0m\u001b[1;33m]\u001b[0m \u001b[1;33m=\u001b[0m \u001b[0mdf\u001b[0m\u001b[1;33m[\u001b[0m\u001b[1;34m'Low'\u001b[0m\u001b[1;33m]\u001b[0m\u001b[1;33m\u001b[0m\u001b[1;33m\u001b[0m\u001b[0m\n\u001b[0;32m      5\u001b[0m \u001b[0mdf_hl\u001b[0m\u001b[1;33m=\u001b[0m\u001b[0mtrailing_stop_signals\u001b[0m\u001b[1;33m(\u001b[0m\u001b[0mdf_hl\u001b[0m\u001b[1;33m,\u001b[0m \u001b[0mtrailing_pc\u001b[0m\u001b[1;33m=\u001b[0m\u001b[1;36m3\u001b[0m\u001b[1;33m)\u001b[0m\u001b[1;33m\u001b[0m\u001b[1;33m\u001b[0m\u001b[0m\n",
      "\u001b[1;31mNameError\u001b[0m: name 'web' is not defined"
     ]
    }
   ],
   "source": [
    "df = web.DataReader('ISRG', data_source='yahoo', start='01-01-2020')\n",
    "df_hl=pd.DataFrame()\n",
    "df_hl['high'] = df['High']\n",
    "df_hl['low'] = df['Low']\n",
    "df_hl=trailing_stop_signals(df_hl, trailing_pc=3)"
   ]
  },
  {
   "source": [
    "Back test Profit and Loss"
   ],
   "cell_type": "markdown",
   "metadata": {}
  },
  {
   "cell_type": "code",
   "execution_count": 91,
   "metadata": {},
   "outputs": [
    {
     "output_type": "execute_result",
     "data": {
      "text/plain": [
       "-1150.876463658642"
      ]
     },
     "metadata": {},
     "execution_count": 91
    }
   ],
   "source": [
    "# always 100 shares\n",
    "(df_hl['Sell'].sum()- df_hl['Buy'].sum())*100"
   ]
  },
  {
   "cell_type": "code",
   "execution_count": null,
   "metadata": {},
   "outputs": [],
   "source": []
  }
 ]
}
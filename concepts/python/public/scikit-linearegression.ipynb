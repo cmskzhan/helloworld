{
  "nbformat": 4,
  "nbformat_minor": 0,
  "metadata": {
    "colab": {
      "name": "Untitled0.ipynb",
      "provenance": [],
      "collapsed_sections": [],
      "authorship_tag": "ABX9TyPYLXC2mN7/t0NpXG8RiX6j",
      "include_colab_link": true
    },
    "kernelspec": {
      "name": "python3",
      "display_name": "Python 3"
    }
  },
  "cells": [
    {
      "cell_type": "markdown",
      "metadata": {
        "id": "view-in-github",
        "colab_type": "text"
      },
      "source": [
        "<a href=\"https://colab.research.google.com/github/cmskzhan/helloworld/blob/master/concepts/python/public/scikit-linearegression.ipynb\" target=\"_parent\"><img src=\"https://colab.research.google.com/assets/colab-badge.svg\" alt=\"Open In Colab\"/></a>"
      ]
    },
    {
      "cell_type": "code",
      "metadata": {
        "colab": {
          "base_uri": "https://localhost:8080/"
        },
        "id": "qYaElQeUMlwM",
        "outputId": "b7d86416-3c70-4197-9f0c-5b2605a4a88b"
      },
      "source": [
        "import sklearn\r\n",
        "print(sklearn.__version__)"
      ],
      "execution_count": 67,
      "outputs": [
        {
          "output_type": "stream",
          "text": [
            "0.22.2.post1\n"
          ],
          "name": "stdout"
        }
      ]
    },
    {
      "cell_type": "code",
      "metadata": {
        "id": "iNbkVDX-MrrX"
      },
      "source": [
        "import pandas as pd\r\n",
        "import numpy as np\r\n",
        "# from sklearn.datasets import load_breast_cancer\r\n",
        "from pandas_datareader import data as web\r\n",
        "df = web.DataReader(\"MSCI\", data_source='yahoo', start='01-01-2015')"
      ],
      "execution_count": 68,
      "outputs": []
    },
    {
      "cell_type": "code",
      "metadata": {
        "id": "2e40iKzZM-YN",
        "colab": {
          "base_uri": "https://localhost:8080/",
          "height": 431
        },
        "outputId": "07c118aa-85dd-4e80-cd78-6e38937709ec"
      },
      "source": [
        "df"
      ],
      "execution_count": 69,
      "outputs": [
        {
          "output_type": "execute_result",
          "data": {
            "text/html": [
              "<div>\n",
              "<style scoped>\n",
              "    .dataframe tbody tr th:only-of-type {\n",
              "        vertical-align: middle;\n",
              "    }\n",
              "\n",
              "    .dataframe tbody tr th {\n",
              "        vertical-align: top;\n",
              "    }\n",
              "\n",
              "    .dataframe thead th {\n",
              "        text-align: right;\n",
              "    }\n",
              "</style>\n",
              "<table border=\"1\" class=\"dataframe\">\n",
              "  <thead>\n",
              "    <tr style=\"text-align: right;\">\n",
              "      <th></th>\n",
              "      <th>High</th>\n",
              "      <th>Low</th>\n",
              "      <th>Open</th>\n",
              "      <th>Close</th>\n",
              "      <th>Volume</th>\n",
              "      <th>Adj Close</th>\n",
              "    </tr>\n",
              "    <tr>\n",
              "      <th>Date</th>\n",
              "      <th></th>\n",
              "      <th></th>\n",
              "      <th></th>\n",
              "      <th></th>\n",
              "      <th></th>\n",
              "      <th></th>\n",
              "    </tr>\n",
              "  </thead>\n",
              "  <tbody>\n",
              "    <tr>\n",
              "      <th>2015-01-02</th>\n",
              "      <td>47.939999</td>\n",
              "      <td>46.930000</td>\n",
              "      <td>47.689999</td>\n",
              "      <td>47.689999</td>\n",
              "      <td>477500.0</td>\n",
              "      <td>44.373196</td>\n",
              "    </tr>\n",
              "    <tr>\n",
              "      <th>2015-01-05</th>\n",
              "      <td>47.590000</td>\n",
              "      <td>46.799999</td>\n",
              "      <td>47.430000</td>\n",
              "      <td>47.240002</td>\n",
              "      <td>814100.0</td>\n",
              "      <td>43.954487</td>\n",
              "    </tr>\n",
              "    <tr>\n",
              "      <th>2015-01-06</th>\n",
              "      <td>49.549999</td>\n",
              "      <td>47.540001</td>\n",
              "      <td>47.599998</td>\n",
              "      <td>48.610001</td>\n",
              "      <td>1961000.0</td>\n",
              "      <td>45.229206</td>\n",
              "    </tr>\n",
              "    <tr>\n",
              "      <th>2015-01-07</th>\n",
              "      <td>49.790001</td>\n",
              "      <td>48.439999</td>\n",
              "      <td>48.880001</td>\n",
              "      <td>49.720001</td>\n",
              "      <td>1257700.0</td>\n",
              "      <td>46.262001</td>\n",
              "    </tr>\n",
              "    <tr>\n",
              "      <th>2015-01-08</th>\n",
              "      <td>51.270000</td>\n",
              "      <td>49.680000</td>\n",
              "      <td>50.060001</td>\n",
              "      <td>51.220001</td>\n",
              "      <td>1287600.0</td>\n",
              "      <td>47.657684</td>\n",
              "    </tr>\n",
              "    <tr>\n",
              "      <th>...</th>\n",
              "      <td>...</td>\n",
              "      <td>...</td>\n",
              "      <td>...</td>\n",
              "      <td>...</td>\n",
              "      <td>...</td>\n",
              "      <td>...</td>\n",
              "    </tr>\n",
              "    <tr>\n",
              "      <th>2021-02-24</th>\n",
              "      <td>417.549988</td>\n",
              "      <td>405.450012</td>\n",
              "      <td>411.869995</td>\n",
              "      <td>417.230011</td>\n",
              "      <td>480600.0</td>\n",
              "      <td>417.230011</td>\n",
              "    </tr>\n",
              "    <tr>\n",
              "      <th>2021-02-25</th>\n",
              "      <td>420.489990</td>\n",
              "      <td>400.500000</td>\n",
              "      <td>417.799988</td>\n",
              "      <td>406.299988</td>\n",
              "      <td>906400.0</td>\n",
              "      <td>406.299988</td>\n",
              "    </tr>\n",
              "    <tr>\n",
              "      <th>2021-02-26</th>\n",
              "      <td>420.579987</td>\n",
              "      <td>409.440002</td>\n",
              "      <td>410.829987</td>\n",
              "      <td>414.519989</td>\n",
              "      <td>662200.0</td>\n",
              "      <td>414.519989</td>\n",
              "    </tr>\n",
              "    <tr>\n",
              "      <th>2021-03-01</th>\n",
              "      <td>422.380005</td>\n",
              "      <td>413.029999</td>\n",
              "      <td>418.089996</td>\n",
              "      <td>420.029999</td>\n",
              "      <td>342900.0</td>\n",
              "      <td>420.029999</td>\n",
              "    </tr>\n",
              "    <tr>\n",
              "      <th>2021-03-02</th>\n",
              "      <td>429.559998</td>\n",
              "      <td>410.380005</td>\n",
              "      <td>420.000000</td>\n",
              "      <td>418.809998</td>\n",
              "      <td>726200.0</td>\n",
              "      <td>418.809998</td>\n",
              "    </tr>\n",
              "  </tbody>\n",
              "</table>\n",
              "<p>1551 rows × 6 columns</p>\n",
              "</div>"
            ],
            "text/plain": [
              "                  High         Low  ...     Volume   Adj Close\n",
              "Date                                ...                       \n",
              "2015-01-02   47.939999   46.930000  ...   477500.0   44.373196\n",
              "2015-01-05   47.590000   46.799999  ...   814100.0   43.954487\n",
              "2015-01-06   49.549999   47.540001  ...  1961000.0   45.229206\n",
              "2015-01-07   49.790001   48.439999  ...  1257700.0   46.262001\n",
              "2015-01-08   51.270000   49.680000  ...  1287600.0   47.657684\n",
              "...                ...         ...  ...        ...         ...\n",
              "2021-02-24  417.549988  405.450012  ...   480600.0  417.230011\n",
              "2021-02-25  420.489990  400.500000  ...   906400.0  406.299988\n",
              "2021-02-26  420.579987  409.440002  ...   662200.0  414.519989\n",
              "2021-03-01  422.380005  413.029999  ...   342900.0  420.029999\n",
              "2021-03-02  429.559998  410.380005  ...   726200.0  418.809998\n",
              "\n",
              "[1551 rows x 6 columns]"
            ]
          },
          "metadata": {
            "tags": []
          },
          "execution_count": 69
        }
      ]
    },
    {
      "cell_type": "code",
      "metadata": {
        "colab": {
          "base_uri": "https://localhost:8080/",
          "height": 431
        },
        "id": "QfEtotHsvGel",
        "outputId": "6182072d-bf8f-4576-fbb7-895c3411214e"
      },
      "source": [
        "df['pday_High'] = df['High'].shift(1)\r\n",
        "df['pday_Low'] = df['Low'].shift(1)\r\n",
        "df['pday_Volume'] = df['Volume'].shift(1)\r\n",
        "df"
      ],
      "execution_count": 70,
      "outputs": [
        {
          "output_type": "execute_result",
          "data": {
            "text/html": [
              "<div>\n",
              "<style scoped>\n",
              "    .dataframe tbody tr th:only-of-type {\n",
              "        vertical-align: middle;\n",
              "    }\n",
              "\n",
              "    .dataframe tbody tr th {\n",
              "        vertical-align: top;\n",
              "    }\n",
              "\n",
              "    .dataframe thead th {\n",
              "        text-align: right;\n",
              "    }\n",
              "</style>\n",
              "<table border=\"1\" class=\"dataframe\">\n",
              "  <thead>\n",
              "    <tr style=\"text-align: right;\">\n",
              "      <th></th>\n",
              "      <th>High</th>\n",
              "      <th>Low</th>\n",
              "      <th>Open</th>\n",
              "      <th>Close</th>\n",
              "      <th>Volume</th>\n",
              "      <th>Adj Close</th>\n",
              "      <th>pday_High</th>\n",
              "      <th>pday_Low</th>\n",
              "      <th>pday_Volume</th>\n",
              "    </tr>\n",
              "    <tr>\n",
              "      <th>Date</th>\n",
              "      <th></th>\n",
              "      <th></th>\n",
              "      <th></th>\n",
              "      <th></th>\n",
              "      <th></th>\n",
              "      <th></th>\n",
              "      <th></th>\n",
              "      <th></th>\n",
              "      <th></th>\n",
              "    </tr>\n",
              "  </thead>\n",
              "  <tbody>\n",
              "    <tr>\n",
              "      <th>2015-01-02</th>\n",
              "      <td>47.939999</td>\n",
              "      <td>46.930000</td>\n",
              "      <td>47.689999</td>\n",
              "      <td>47.689999</td>\n",
              "      <td>477500.0</td>\n",
              "      <td>44.373196</td>\n",
              "      <td>NaN</td>\n",
              "      <td>NaN</td>\n",
              "      <td>NaN</td>\n",
              "    </tr>\n",
              "    <tr>\n",
              "      <th>2015-01-05</th>\n",
              "      <td>47.590000</td>\n",
              "      <td>46.799999</td>\n",
              "      <td>47.430000</td>\n",
              "      <td>47.240002</td>\n",
              "      <td>814100.0</td>\n",
              "      <td>43.954487</td>\n",
              "      <td>47.939999</td>\n",
              "      <td>46.930000</td>\n",
              "      <td>477500.0</td>\n",
              "    </tr>\n",
              "    <tr>\n",
              "      <th>2015-01-06</th>\n",
              "      <td>49.549999</td>\n",
              "      <td>47.540001</td>\n",
              "      <td>47.599998</td>\n",
              "      <td>48.610001</td>\n",
              "      <td>1961000.0</td>\n",
              "      <td>45.229206</td>\n",
              "      <td>47.590000</td>\n",
              "      <td>46.799999</td>\n",
              "      <td>814100.0</td>\n",
              "    </tr>\n",
              "    <tr>\n",
              "      <th>2015-01-07</th>\n",
              "      <td>49.790001</td>\n",
              "      <td>48.439999</td>\n",
              "      <td>48.880001</td>\n",
              "      <td>49.720001</td>\n",
              "      <td>1257700.0</td>\n",
              "      <td>46.262001</td>\n",
              "      <td>49.549999</td>\n",
              "      <td>47.540001</td>\n",
              "      <td>1961000.0</td>\n",
              "    </tr>\n",
              "    <tr>\n",
              "      <th>2015-01-08</th>\n",
              "      <td>51.270000</td>\n",
              "      <td>49.680000</td>\n",
              "      <td>50.060001</td>\n",
              "      <td>51.220001</td>\n",
              "      <td>1287600.0</td>\n",
              "      <td>47.657684</td>\n",
              "      <td>49.790001</td>\n",
              "      <td>48.439999</td>\n",
              "      <td>1257700.0</td>\n",
              "    </tr>\n",
              "    <tr>\n",
              "      <th>...</th>\n",
              "      <td>...</td>\n",
              "      <td>...</td>\n",
              "      <td>...</td>\n",
              "      <td>...</td>\n",
              "      <td>...</td>\n",
              "      <td>...</td>\n",
              "      <td>...</td>\n",
              "      <td>...</td>\n",
              "      <td>...</td>\n",
              "    </tr>\n",
              "    <tr>\n",
              "      <th>2021-02-24</th>\n",
              "      <td>417.549988</td>\n",
              "      <td>405.450012</td>\n",
              "      <td>411.869995</td>\n",
              "      <td>417.230011</td>\n",
              "      <td>480600.0</td>\n",
              "      <td>417.230011</td>\n",
              "      <td>416.519989</td>\n",
              "      <td>404.670013</td>\n",
              "      <td>366100.0</td>\n",
              "    </tr>\n",
              "    <tr>\n",
              "      <th>2021-02-25</th>\n",
              "      <td>420.489990</td>\n",
              "      <td>400.500000</td>\n",
              "      <td>417.799988</td>\n",
              "      <td>406.299988</td>\n",
              "      <td>906400.0</td>\n",
              "      <td>406.299988</td>\n",
              "      <td>417.549988</td>\n",
              "      <td>405.450012</td>\n",
              "      <td>480600.0</td>\n",
              "    </tr>\n",
              "    <tr>\n",
              "      <th>2021-02-26</th>\n",
              "      <td>420.579987</td>\n",
              "      <td>409.440002</td>\n",
              "      <td>410.829987</td>\n",
              "      <td>414.519989</td>\n",
              "      <td>662200.0</td>\n",
              "      <td>414.519989</td>\n",
              "      <td>420.489990</td>\n",
              "      <td>400.500000</td>\n",
              "      <td>906400.0</td>\n",
              "    </tr>\n",
              "    <tr>\n",
              "      <th>2021-03-01</th>\n",
              "      <td>422.380005</td>\n",
              "      <td>413.029999</td>\n",
              "      <td>418.089996</td>\n",
              "      <td>420.029999</td>\n",
              "      <td>342900.0</td>\n",
              "      <td>420.029999</td>\n",
              "      <td>420.579987</td>\n",
              "      <td>409.440002</td>\n",
              "      <td>662200.0</td>\n",
              "    </tr>\n",
              "    <tr>\n",
              "      <th>2021-03-02</th>\n",
              "      <td>429.559998</td>\n",
              "      <td>410.380005</td>\n",
              "      <td>420.000000</td>\n",
              "      <td>418.809998</td>\n",
              "      <td>726200.0</td>\n",
              "      <td>418.809998</td>\n",
              "      <td>422.380005</td>\n",
              "      <td>413.029999</td>\n",
              "      <td>342900.0</td>\n",
              "    </tr>\n",
              "  </tbody>\n",
              "</table>\n",
              "<p>1551 rows × 9 columns</p>\n",
              "</div>"
            ],
            "text/plain": [
              "                  High         Low  ...    pday_Low  pday_Volume\n",
              "Date                                ...                         \n",
              "2015-01-02   47.939999   46.930000  ...         NaN          NaN\n",
              "2015-01-05   47.590000   46.799999  ...   46.930000     477500.0\n",
              "2015-01-06   49.549999   47.540001  ...   46.799999     814100.0\n",
              "2015-01-07   49.790001   48.439999  ...   47.540001    1961000.0\n",
              "2015-01-08   51.270000   49.680000  ...   48.439999    1257700.0\n",
              "...                ...         ...  ...         ...          ...\n",
              "2021-02-24  417.549988  405.450012  ...  404.670013     366100.0\n",
              "2021-02-25  420.489990  400.500000  ...  405.450012     480600.0\n",
              "2021-02-26  420.579987  409.440002  ...  400.500000     906400.0\n",
              "2021-03-01  422.380005  413.029999  ...  409.440002     662200.0\n",
              "2021-03-02  429.559998  410.380005  ...  413.029999     342900.0\n",
              "\n",
              "[1551 rows x 9 columns]"
            ]
          },
          "metadata": {
            "tags": []
          },
          "execution_count": 70
        }
      ]
    },
    {
      "cell_type": "code",
      "metadata": {
        "id": "rSxsmdx4N-in"
      },
      "source": [
        "X = df.drop(['Close', 'Adj Close', 'High', 'Low', 'Volume'], axis=1)\r\n",
        "Y = df['Close']\r\n",
        "X = X[1:]\r\n",
        "Y = Y[1:]"
      ],
      "execution_count": 71,
      "outputs": []
    },
    {
      "cell_type": "code",
      "metadata": {
        "colab": {
          "base_uri": "https://localhost:8080/"
        },
        "id": "UrYmT09GPjYj",
        "outputId": "7bf8a710-10d1-4cc5-e676-7061d8dc95bd"
      },
      "source": [
        "X.columns"
      ],
      "execution_count": 72,
      "outputs": [
        {
          "output_type": "execute_result",
          "data": {
            "text/plain": [
              "Index(['Open', 'pday_High', 'pday_Low', 'pday_Volume'], dtype='object')"
            ]
          },
          "metadata": {
            "tags": []
          },
          "execution_count": 72
        }
      ]
    },
    {
      "cell_type": "code",
      "metadata": {
        "id": "vuIY2JxgP9Pu"
      },
      "source": [
        "from sklearn.model_selection import train_test_split\r\n",
        "x_train, x_test, y_train, y_test = train_test_split(X, Y, test_size = 0.1 )"
      ],
      "execution_count": 73,
      "outputs": []
    },
    {
      "cell_type": "code",
      "metadata": {
        "colab": {
          "base_uri": "https://localhost:8080/"
        },
        "id": "T4i6QMRsRP0q",
        "outputId": "67b8e729-fead-47fe-d644-36d9e5721fa1"
      },
      "source": [
        "from sklearn.linear_model import LinearRegression\r\n",
        "l_model = LinearRegression(normalize = True).fit(x_train, y_train)\r\n",
        "print(\"Linear Regression Model Traininig Score:\", l_model.score(x_train, y_train))"
      ],
      "execution_count": 74,
      "outputs": [
        {
          "output_type": "stream",
          "text": [
            "Linear Regression Model Traininig Score: 0.9985132103944168\n"
          ],
          "name": "stdout"
        }
      ]
    },
    {
      "cell_type": "code",
      "metadata": {
        "colab": {
          "base_uri": "https://localhost:8080/"
        },
        "id": "_Nz_dAdRSnH7",
        "outputId": "a017d7fa-4e8d-429c-d679-aca566ab2f5d"
      },
      "source": [
        "predicators = x_train.columns\r\n",
        "weights = pd.Series(l_model.coef_, predicators)\r\n",
        "weights"
      ],
      "execution_count": 75,
      "outputs": [
        {
          "output_type": "execute_result",
          "data": {
            "text/plain": [
              "Open           9.432359e-01\n",
              "pday_High      7.617916e-02\n",
              "pday_Low      -2.226182e-02\n",
              "pday_Volume    1.780527e-07\n",
              "dtype: float64"
            ]
          },
          "metadata": {
            "tags": []
          },
          "execution_count": 75
        }
      ]
    },
    {
      "cell_type": "code",
      "metadata": {
        "id": "030M1_nJSp8y"
      },
      "source": [
        "y_predicate = l_model.predict(x_test)"
      ],
      "execution_count": 76,
      "outputs": []
    },
    {
      "cell_type": "code",
      "metadata": {
        "colab": {
          "base_uri": "https://localhost:8080/",
          "height": 669
        },
        "id": "77xrVOlSXygH",
        "outputId": "dc2af6ef-ab3d-4d49-9a66-907d17bcfc5d"
      },
      "source": [
        "pred_vs_actual = pd.DataFrame({'predicted': y_predicate, 'actual': y_test})\r\n",
        "pred_vs_actual.head(20)"
      ],
      "execution_count": 77,
      "outputs": [
        {
          "output_type": "execute_result",
          "data": {
            "text/html": [
              "<div>\n",
              "<style scoped>\n",
              "    .dataframe tbody tr th:only-of-type {\n",
              "        vertical-align: middle;\n",
              "    }\n",
              "\n",
              "    .dataframe tbody tr th {\n",
              "        vertical-align: top;\n",
              "    }\n",
              "\n",
              "    .dataframe thead th {\n",
              "        text-align: right;\n",
              "    }\n",
              "</style>\n",
              "<table border=\"1\" class=\"dataframe\">\n",
              "  <thead>\n",
              "    <tr style=\"text-align: right;\">\n",
              "      <th></th>\n",
              "      <th>predicted</th>\n",
              "      <th>actual</th>\n",
              "    </tr>\n",
              "    <tr>\n",
              "      <th>Date</th>\n",
              "      <th></th>\n",
              "      <th></th>\n",
              "    </tr>\n",
              "  </thead>\n",
              "  <tbody>\n",
              "    <tr>\n",
              "      <th>2018-04-04</th>\n",
              "      <td>148.291610</td>\n",
              "      <td>146.699997</td>\n",
              "    </tr>\n",
              "    <tr>\n",
              "      <th>2020-12-23</th>\n",
              "      <td>434.382830</td>\n",
              "      <td>428.630005</td>\n",
              "    </tr>\n",
              "    <tr>\n",
              "      <th>2016-09-07</th>\n",
              "      <td>88.728784</td>\n",
              "      <td>89.059998</td>\n",
              "    </tr>\n",
              "    <tr>\n",
              "      <th>2017-03-28</th>\n",
              "      <td>96.720509</td>\n",
              "      <td>96.610001</td>\n",
              "    </tr>\n",
              "    <tr>\n",
              "      <th>2016-02-02</th>\n",
              "      <td>67.232027</td>\n",
              "      <td>66.790001</td>\n",
              "    </tr>\n",
              "    <tr>\n",
              "      <th>2017-03-29</th>\n",
              "      <td>96.557378</td>\n",
              "      <td>96.400002</td>\n",
              "    </tr>\n",
              "    <tr>\n",
              "      <th>2016-11-08</th>\n",
              "      <td>80.870742</td>\n",
              "      <td>81.080002</td>\n",
              "    </tr>\n",
              "    <tr>\n",
              "      <th>2016-12-20</th>\n",
              "      <td>80.295062</td>\n",
              "      <td>80.739998</td>\n",
              "    </tr>\n",
              "    <tr>\n",
              "      <th>2015-03-24</th>\n",
              "      <td>60.348834</td>\n",
              "      <td>59.779999</td>\n",
              "    </tr>\n",
              "    <tr>\n",
              "      <th>2018-06-14</th>\n",
              "      <td>172.960322</td>\n",
              "      <td>172.350006</td>\n",
              "    </tr>\n",
              "    <tr>\n",
              "      <th>2018-01-09</th>\n",
              "      <td>133.520442</td>\n",
              "      <td>134.100006</td>\n",
              "    </tr>\n",
              "    <tr>\n",
              "      <th>2019-12-12</th>\n",
              "      <td>260.608559</td>\n",
              "      <td>259.859985</td>\n",
              "    </tr>\n",
              "    <tr>\n",
              "      <th>2020-06-09</th>\n",
              "      <td>329.167265</td>\n",
              "      <td>327.160004</td>\n",
              "    </tr>\n",
              "    <tr>\n",
              "      <th>2018-02-08</th>\n",
              "      <td>140.255023</td>\n",
              "      <td>133.809998</td>\n",
              "    </tr>\n",
              "    <tr>\n",
              "      <th>2018-04-05</th>\n",
              "      <td>148.109898</td>\n",
              "      <td>146.509995</td>\n",
              "    </tr>\n",
              "    <tr>\n",
              "      <th>2019-10-28</th>\n",
              "      <td>224.103653</td>\n",
              "      <td>225.029999</td>\n",
              "    </tr>\n",
              "    <tr>\n",
              "      <th>2018-11-02</th>\n",
              "      <td>147.811409</td>\n",
              "      <td>144.110001</td>\n",
              "    </tr>\n",
              "    <tr>\n",
              "      <th>2015-12-31</th>\n",
              "      <td>72.548425</td>\n",
              "      <td>72.129997</td>\n",
              "    </tr>\n",
              "    <tr>\n",
              "      <th>2017-04-18</th>\n",
              "      <td>97.913214</td>\n",
              "      <td>97.699997</td>\n",
              "    </tr>\n",
              "    <tr>\n",
              "      <th>2016-05-06</th>\n",
              "      <td>74.666545</td>\n",
              "      <td>75.379997</td>\n",
              "    </tr>\n",
              "  </tbody>\n",
              "</table>\n",
              "</div>"
            ],
            "text/plain": [
              "             predicted      actual\n",
              "Date                              \n",
              "2018-04-04  148.291610  146.699997\n",
              "2020-12-23  434.382830  428.630005\n",
              "2016-09-07   88.728784   89.059998\n",
              "2017-03-28   96.720509   96.610001\n",
              "2016-02-02   67.232027   66.790001\n",
              "2017-03-29   96.557378   96.400002\n",
              "2016-11-08   80.870742   81.080002\n",
              "2016-12-20   80.295062   80.739998\n",
              "2015-03-24   60.348834   59.779999\n",
              "2018-06-14  172.960322  172.350006\n",
              "2018-01-09  133.520442  134.100006\n",
              "2019-12-12  260.608559  259.859985\n",
              "2020-06-09  329.167265  327.160004\n",
              "2018-02-08  140.255023  133.809998\n",
              "2018-04-05  148.109898  146.509995\n",
              "2019-10-28  224.103653  225.029999\n",
              "2018-11-02  147.811409  144.110001\n",
              "2015-12-31   72.548425   72.129997\n",
              "2017-04-18   97.913214   97.699997\n",
              "2016-05-06   74.666545   75.379997"
            ]
          },
          "metadata": {
            "tags": []
          },
          "execution_count": 77
        }
      ]
    },
    {
      "cell_type": "code",
      "metadata": {
        "colab": {
          "base_uri": "https://localhost:8080/"
        },
        "id": "KWBAQrnHYJWX",
        "outputId": "f632f7c7-7333-4fb7-fcc7-a03b92eb1e19"
      },
      "source": [
        "from sklearn.metrics import r2_score\r\n",
        "print(\"R2 score for linear regression test is: \", r2_score(y_predicate, y_test))"
      ],
      "execution_count": 78,
      "outputs": [
        {
          "output_type": "stream",
          "text": [
            "R2 score for linear regression test is:  0.998971312685139\n"
          ],
          "name": "stdout"
        }
      ]
    },
    {
      "cell_type": "code",
      "metadata": {
        "colab": {
          "base_uri": "https://localhost:8080/",
          "height": 521
        },
        "id": "cKkl-y9DZK_K",
        "outputId": "9f569962-45cf-4050-ed4c-f5b3ce4c7121"
      },
      "source": [
        "import matplotlib.pyplot as plt\r\n",
        "%matplotlib inline\r\n",
        "plt.style.use('fivethirtyeight')\r\n",
        "plt.figure(figsize=(24.2,9))\r\n",
        "#plt.scatter(df.index, df['TS_buy'], color = 'green', label = 'TS buy', marker = '^', alpha = 1)\r\n",
        "#plt.scatter(df.index, df['TS_sell'], color = 'red', label = 'TS sell', marker = 'v', alpha = 1)\r\n",
        "plt.scatter(y_predicate, y_test)\r\n",
        "plt.show()"
      ],
      "execution_count": 79,
      "outputs": [
        {
          "output_type": "display_data",
          "data": {
            "image/png": "[encoded data removed]",
            "text/plain": [
              "<Figure size 1742.4x648 with 1 Axes>"
            ]
          },
          "metadata": {
            "tags": []
          }
        }
      ]
    },
    {
      "cell_type": "code",
      "metadata": {
        "colab": {
          "base_uri": "https://localhost:8080/",
          "height": 431
        },
        "id": "N6NHQGZhZlDh",
        "outputId": "a5a45f64-9fc8-44cc-a408-e528569a2733"
      },
      "source": [
        "# to compare predicted and actual\r\n",
        "pred_vs_actual.sort_index()"
      ],
      "execution_count": 80,
      "outputs": [
        {
          "output_type": "execute_result",
          "data": {
            "text/html": [
              "<div>\n",
              "<style scoped>\n",
              "    .dataframe tbody tr th:only-of-type {\n",
              "        vertical-align: middle;\n",
              "    }\n",
              "\n",
              "    .dataframe tbody tr th {\n",
              "        vertical-align: top;\n",
              "    }\n",
              "\n",
              "    .dataframe thead th {\n",
              "        text-align: right;\n",
              "    }\n",
              "</style>\n",
              "<table border=\"1\" class=\"dataframe\">\n",
              "  <thead>\n",
              "    <tr style=\"text-align: right;\">\n",
              "      <th></th>\n",
              "      <th>predicted</th>\n",
              "      <th>actual</th>\n",
              "    </tr>\n",
              "    <tr>\n",
              "      <th>Date</th>\n",
              "      <th></th>\n",
              "      <th></th>\n",
              "    </tr>\n",
              "  </thead>\n",
              "  <tbody>\n",
              "    <tr>\n",
              "      <th>2015-01-05</th>\n",
              "      <td>47.673063</td>\n",
              "      <td>47.240002</td>\n",
              "    </tr>\n",
              "    <tr>\n",
              "      <th>2015-01-13</th>\n",
              "      <td>52.887156</td>\n",
              "      <td>54.049999</td>\n",
              "    </tr>\n",
              "    <tr>\n",
              "      <th>2015-02-24</th>\n",
              "      <td>57.909569</td>\n",
              "      <td>57.650002</td>\n",
              "    </tr>\n",
              "    <tr>\n",
              "      <th>2015-03-13</th>\n",
              "      <td>57.337224</td>\n",
              "      <td>56.740002</td>\n",
              "    </tr>\n",
              "    <tr>\n",
              "      <th>2015-03-18</th>\n",
              "      <td>58.515571</td>\n",
              "      <td>58.700001</td>\n",
              "    </tr>\n",
              "    <tr>\n",
              "      <th>...</th>\n",
              "      <td>...</td>\n",
              "      <td>...</td>\n",
              "    </tr>\n",
              "    <tr>\n",
              "      <th>2020-11-30</th>\n",
              "      <td>400.231836</td>\n",
              "      <td>409.420013</td>\n",
              "    </tr>\n",
              "    <tr>\n",
              "      <th>2020-12-14</th>\n",
              "      <td>419.291397</td>\n",
              "      <td>423.899994</td>\n",
              "    </tr>\n",
              "    <tr>\n",
              "      <th>2020-12-18</th>\n",
              "      <td>436.483607</td>\n",
              "      <td>443.059998</td>\n",
              "    </tr>\n",
              "    <tr>\n",
              "      <th>2020-12-23</th>\n",
              "      <td>434.382830</td>\n",
              "      <td>428.630005</td>\n",
              "    </tr>\n",
              "    <tr>\n",
              "      <th>2021-01-06</th>\n",
              "      <td>430.480023</td>\n",
              "      <td>435.170013</td>\n",
              "    </tr>\n",
              "  </tbody>\n",
              "</table>\n",
              "<p>155 rows × 2 columns</p>\n",
              "</div>"
            ],
            "text/plain": [
              "             predicted      actual\n",
              "Date                              \n",
              "2015-01-05   47.673063   47.240002\n",
              "2015-01-13   52.887156   54.049999\n",
              "2015-02-24   57.909569   57.650002\n",
              "2015-03-13   57.337224   56.740002\n",
              "2015-03-18   58.515571   58.700001\n",
              "...                ...         ...\n",
              "2020-11-30  400.231836  409.420013\n",
              "2020-12-14  419.291397  423.899994\n",
              "2020-12-18  436.483607  443.059998\n",
              "2020-12-23  434.382830  428.630005\n",
              "2021-01-06  430.480023  435.170013\n",
              "\n",
              "[155 rows x 2 columns]"
            ]
          },
          "metadata": {
            "tags": []
          },
          "execution_count": 80
        }
      ]
    },
    {
      "cell_type": "code",
      "metadata": {
        "colab": {
          "base_uri": "https://localhost:8080/",
          "height": 402
        },
        "id": "jpgUeLZfaGfP",
        "outputId": "b0486707-d1eb-4a58-b81f-9be4803b9044"
      },
      "source": [
        "show_diff = pred_vs_actual.sort_index().reset_index(drop=True)\r\n",
        "show_diff"
      ],
      "execution_count": 81,
      "outputs": [
        {
          "output_type": "execute_result",
          "data": {
            "text/html": [
              "<div>\n",
              "<style scoped>\n",
              "    .dataframe tbody tr th:only-of-type {\n",
              "        vertical-align: middle;\n",
              "    }\n",
              "\n",
              "    .dataframe tbody tr th {\n",
              "        vertical-align: top;\n",
              "    }\n",
              "\n",
              "    .dataframe thead th {\n",
              "        text-align: right;\n",
              "    }\n",
              "</style>\n",
              "<table border=\"1\" class=\"dataframe\">\n",
              "  <thead>\n",
              "    <tr style=\"text-align: right;\">\n",
              "      <th></th>\n",
              "      <th>predicted</th>\n",
              "      <th>actual</th>\n",
              "    </tr>\n",
              "  </thead>\n",
              "  <tbody>\n",
              "    <tr>\n",
              "      <th>0</th>\n",
              "      <td>47.673063</td>\n",
              "      <td>47.240002</td>\n",
              "    </tr>\n",
              "    <tr>\n",
              "      <th>1</th>\n",
              "      <td>52.887156</td>\n",
              "      <td>54.049999</td>\n",
              "    </tr>\n",
              "    <tr>\n",
              "      <th>2</th>\n",
              "      <td>57.909569</td>\n",
              "      <td>57.650002</td>\n",
              "    </tr>\n",
              "    <tr>\n",
              "      <th>3</th>\n",
              "      <td>57.337224</td>\n",
              "      <td>56.740002</td>\n",
              "    </tr>\n",
              "    <tr>\n",
              "      <th>4</th>\n",
              "      <td>58.515571</td>\n",
              "      <td>58.700001</td>\n",
              "    </tr>\n",
              "    <tr>\n",
              "      <th>...</th>\n",
              "      <td>...</td>\n",
              "      <td>...</td>\n",
              "    </tr>\n",
              "    <tr>\n",
              "      <th>150</th>\n",
              "      <td>400.231836</td>\n",
              "      <td>409.420013</td>\n",
              "    </tr>\n",
              "    <tr>\n",
              "      <th>151</th>\n",
              "      <td>419.291397</td>\n",
              "      <td>423.899994</td>\n",
              "    </tr>\n",
              "    <tr>\n",
              "      <th>152</th>\n",
              "      <td>436.483607</td>\n",
              "      <td>443.059998</td>\n",
              "    </tr>\n",
              "    <tr>\n",
              "      <th>153</th>\n",
              "      <td>434.382830</td>\n",
              "      <td>428.630005</td>\n",
              "    </tr>\n",
              "    <tr>\n",
              "      <th>154</th>\n",
              "      <td>430.480023</td>\n",
              "      <td>435.170013</td>\n",
              "    </tr>\n",
              "  </tbody>\n",
              "</table>\n",
              "<p>155 rows × 2 columns</p>\n",
              "</div>"
            ],
            "text/plain": [
              "      predicted      actual\n",
              "0     47.673063   47.240002\n",
              "1     52.887156   54.049999\n",
              "2     57.909569   57.650002\n",
              "3     57.337224   56.740002\n",
              "4     58.515571   58.700001\n",
              "..          ...         ...\n",
              "150  400.231836  409.420013\n",
              "151  419.291397  423.899994\n",
              "152  436.483607  443.059998\n",
              "153  434.382830  428.630005\n",
              "154  430.480023  435.170013\n",
              "\n",
              "[155 rows x 2 columns]"
            ]
          },
          "metadata": {
            "tags": []
          },
          "execution_count": 81
        }
      ]
    },
    {
      "cell_type": "code",
      "metadata": {
        "colab": {
          "base_uri": "https://localhost:8080/",
          "height": 282
        },
        "id": "txjy-avvaJBv",
        "outputId": "f73cc413-fa4f-491a-c316-a9f5d9b2cc14"
      },
      "source": [
        "plt.plot(show_diff['predicted'], label='predicted', linewidth=0.5 )\r\n",
        "plt.plot(show_diff['actual'], label='actual', alpha=0.5)\r\n",
        "plt.show()"
      ],
      "execution_count": 142,
      "outputs": [
        {
          "output_type": "display_data",
          "data": {
            "image/png": "[encoded data removed]",
            "text/plain": [
              "<Figure size 432x288 with 1 Axes>"
            ]
          },
          "metadata": {
            "tags": []
          }
        }
      ]
    },
    {
      "cell_type": "code",
      "metadata": {
        "id": "joxZq4_dl9MK",
        "colab": {
          "base_uri": "https://localhost:8080/"
        },
        "outputId": "cd495c1d-439f-4e8e-a136-ddff5a2dafde"
      },
      "source": [
        "type(l_model)"
      ],
      "execution_count": 83,
      "outputs": [
        {
          "output_type": "execute_result",
          "data": {
            "text/plain": [
              "sklearn.linear_model._base.LinearRegression"
            ]
          },
          "metadata": {
            "tags": []
          },
          "execution_count": 83
        }
      ]
    },
    {
      "cell_type": "code",
      "metadata": {
        "id": "BuFEnP_PDb-O"
      },
      "source": [
        "#save the model so don't need to train again and again...\r\n",
        "# reference from https://scikit-learn.org/stable/modules/model_persistence.html\r\n",
        "import pickle\r\n",
        "linear_regression_model_MSCI_closePrice = pickle.dumps(l_model)\r\n",
        "#to save model to a file use joblib"
      ],
      "execution_count": 84,
      "outputs": []
    },
    {
      "cell_type": "code",
      "metadata": {
        "id": "NrIMue9sGzL-"
      },
      "source": [
        "saved_model = pickle.loads(linear_regression_model_MSCI_closePrice)"
      ],
      "execution_count": 85,
      "outputs": []
    },
    {
      "cell_type": "code",
      "metadata": {
        "colab": {
          "base_uri": "https://localhost:8080/",
          "height": 431
        },
        "id": "irxmo1_5GZW7",
        "outputId": "1a3e036a-2907-40a6-9260-ba027bae2eee"
      },
      "source": [
        "type(X.loc['2021-01-06'])\r\n",
        "x_test"
      ],
      "execution_count": 101,
      "outputs": [
        {
          "output_type": "execute_result",
          "data": {
            "text/html": [
              "<div>\n",
              "<style scoped>\n",
              "    .dataframe tbody tr th:only-of-type {\n",
              "        vertical-align: middle;\n",
              "    }\n",
              "\n",
              "    .dataframe tbody tr th {\n",
              "        vertical-align: top;\n",
              "    }\n",
              "\n",
              "    .dataframe thead th {\n",
              "        text-align: right;\n",
              "    }\n",
              "</style>\n",
              "<table border=\"1\" class=\"dataframe\">\n",
              "  <thead>\n",
              "    <tr style=\"text-align: right;\">\n",
              "      <th></th>\n",
              "      <th>Open</th>\n",
              "      <th>pday_High</th>\n",
              "      <th>pday_Low</th>\n",
              "      <th>pday_Volume</th>\n",
              "    </tr>\n",
              "    <tr>\n",
              "      <th>Date</th>\n",
              "      <th></th>\n",
              "      <th></th>\n",
              "      <th></th>\n",
              "      <th></th>\n",
              "    </tr>\n",
              "  </thead>\n",
              "  <tbody>\n",
              "    <tr>\n",
              "      <th>2018-04-04</th>\n",
              "      <td>144.250000</td>\n",
              "      <td>146.850006</td>\n",
              "      <td>142.830002</td>\n",
              "      <td>22350100.0</td>\n",
              "    </tr>\n",
              "    <tr>\n",
              "      <th>2020-12-23</th>\n",
              "      <td>435.000000</td>\n",
              "      <td>438.420013</td>\n",
              "      <td>431.450012</td>\n",
              "      <td>216400.0</td>\n",
              "    </tr>\n",
              "    <tr>\n",
              "      <th>2016-09-07</th>\n",
              "      <td>88.339996</td>\n",
              "      <td>90.190002</td>\n",
              "      <td>87.639999</td>\n",
              "      <td>1351700.0</td>\n",
              "    </tr>\n",
              "    <tr>\n",
              "      <th>2017-03-28</th>\n",
              "      <td>96.610001</td>\n",
              "      <td>97.239998</td>\n",
              "      <td>96.029999</td>\n",
              "      <td>458000.0</td>\n",
              "    </tr>\n",
              "    <tr>\n",
              "      <th>2016-02-02</th>\n",
              "      <td>66.940002</td>\n",
              "      <td>68.379997</td>\n",
              "      <td>67.269997</td>\n",
              "      <td>770300.0</td>\n",
              "    </tr>\n",
              "    <tr>\n",
              "      <th>...</th>\n",
              "      <td>...</td>\n",
              "      <td>...</td>\n",
              "      <td>...</td>\n",
              "      <td>...</td>\n",
              "    </tr>\n",
              "    <tr>\n",
              "      <th>2020-10-13</th>\n",
              "      <td>353.290009</td>\n",
              "      <td>355.859985</td>\n",
              "      <td>350.230011</td>\n",
              "      <td>254200.0</td>\n",
              "    </tr>\n",
              "    <tr>\n",
              "      <th>2015-01-13</th>\n",
              "      <td>52.700001</td>\n",
              "      <td>52.490002</td>\n",
              "      <td>51.759998</td>\n",
              "      <td>500800.0</td>\n",
              "    </tr>\n",
              "    <tr>\n",
              "      <th>2016-05-19</th>\n",
              "      <td>74.919998</td>\n",
              "      <td>75.570000</td>\n",
              "      <td>73.930000</td>\n",
              "      <td>621700.0</td>\n",
              "    </tr>\n",
              "    <tr>\n",
              "      <th>2017-05-18</th>\n",
              "      <td>96.940002</td>\n",
              "      <td>97.879997</td>\n",
              "      <td>96.320000</td>\n",
              "      <td>460700.0</td>\n",
              "    </tr>\n",
              "    <tr>\n",
              "      <th>2019-08-23</th>\n",
              "      <td>235.220001</td>\n",
              "      <td>237.360001</td>\n",
              "      <td>233.839996</td>\n",
              "      <td>582900.0</td>\n",
              "    </tr>\n",
              "  </tbody>\n",
              "</table>\n",
              "<p>155 rows × 4 columns</p>\n",
              "</div>"
            ],
            "text/plain": [
              "                  Open   pday_High    pday_Low  pday_Volume\n",
              "Date                                                       \n",
              "2018-04-04  144.250000  146.850006  142.830002   22350100.0\n",
              "2020-12-23  435.000000  438.420013  431.450012     216400.0\n",
              "2016-09-07   88.339996   90.190002   87.639999    1351700.0\n",
              "2017-03-28   96.610001   97.239998   96.029999     458000.0\n",
              "2016-02-02   66.940002   68.379997   67.269997     770300.0\n",
              "...                ...         ...         ...          ...\n",
              "2020-10-13  353.290009  355.859985  350.230011     254200.0\n",
              "2015-01-13   52.700001   52.490002   51.759998     500800.0\n",
              "2016-05-19   74.919998   75.570000   73.930000     621700.0\n",
              "2017-05-18   96.940002   97.879997   96.320000     460700.0\n",
              "2019-08-23  235.220001  237.360001  233.839996     582900.0\n",
              "\n",
              "[155 rows x 4 columns]"
            ]
          },
          "metadata": {
            "tags": []
          },
          "execution_count": 101
        }
      ]
    },
    {
      "cell_type": "code",
      "metadata": {
        "colab": {
          "base_uri": "https://localhost:8080/",
          "height": 136
        },
        "id": "md9N3IQgPX3W",
        "outputId": "3dd48770-e6a8-408d-99cc-96f1599c8ce1"
      },
      "source": [
        "XX = 430.59, 440.09, 426.45, 319400\r\n",
        "anotherTest = web.DataReader(\"MSCI\", data_source='yahoo', start='2021-03-01')\r\n",
        "anotherTest['pday_High'] = anotherTest['High'].shift(1)\r\n",
        "anotherTest['pday_Low'] = anotherTest['Low'].shift(1)\r\n",
        "anotherTest['pday_Volume'] = anotherTest['Volume'].shift(1)\r\n",
        "anotherTest.drop(['Close', 'Adj Close', 'High', 'Low', 'Volume'], axis=1, inplace=True)\r\n",
        "anotherTest.dropna(axis=0, inplace=True)\r\n",
        "anotherTest"
      ],
      "execution_count": 136,
      "outputs": [
        {
          "output_type": "execute_result",
          "data": {
            "text/html": [
              "<div>\n",
              "<style scoped>\n",
              "    .dataframe tbody tr th:only-of-type {\n",
              "        vertical-align: middle;\n",
              "    }\n",
              "\n",
              "    .dataframe tbody tr th {\n",
              "        vertical-align: top;\n",
              "    }\n",
              "\n",
              "    .dataframe thead th {\n",
              "        text-align: right;\n",
              "    }\n",
              "</style>\n",
              "<table border=\"1\" class=\"dataframe\">\n",
              "  <thead>\n",
              "    <tr style=\"text-align: right;\">\n",
              "      <th></th>\n",
              "      <th>Open</th>\n",
              "      <th>pday_High</th>\n",
              "      <th>pday_Low</th>\n",
              "      <th>pday_Volume</th>\n",
              "    </tr>\n",
              "    <tr>\n",
              "      <th>Date</th>\n",
              "      <th></th>\n",
              "      <th></th>\n",
              "      <th></th>\n",
              "      <th></th>\n",
              "    </tr>\n",
              "  </thead>\n",
              "  <tbody>\n",
              "    <tr>\n",
              "      <th>2021-03-02</th>\n",
              "      <td>420.0</td>\n",
              "      <td>422.380005</td>\n",
              "      <td>413.029999</td>\n",
              "      <td>342900.0</td>\n",
              "    </tr>\n",
              "    <tr>\n",
              "      <th>2021-03-03</th>\n",
              "      <td>420.0</td>\n",
              "      <td>429.559998</td>\n",
              "      <td>410.380005</td>\n",
              "      <td>726200.0</td>\n",
              "    </tr>\n",
              "  </tbody>\n",
              "</table>\n",
              "</div>"
            ],
            "text/plain": [
              "             Open   pday_High    pday_Low  pday_Volume\n",
              "Date                                                  \n",
              "2021-03-02  420.0  422.380005  413.029999     342900.0\n",
              "2021-03-03  420.0  429.559998  410.380005     726200.0"
            ]
          },
          "metadata": {
            "tags": []
          },
          "execution_count": 136
        }
      ]
    },
    {
      "cell_type": "code",
      "metadata": {
        "colab": {
          "base_uri": "https://localhost:8080/"
        },
        "id": "D7hgeDOKQ5ir",
        "outputId": "7bb7fac6-72f3-408f-9eb6-79a37e63102f"
      },
      "source": [
        "saved_model.predict(anotherTest)"
      ],
      "execution_count": 134,
      "outputs": [
        {
          "output_type": "execute_result",
          "data": {
            "text/plain": [
              "array([420.11917135])"
            ]
          },
          "metadata": {
            "tags": []
          },
          "execution_count": 134
        }
      ]
    },
    {
      "cell_type": "code",
      "metadata": {
        "colab": {
          "base_uri": "https://localhost:8080/",
          "height": 166
        },
        "id": "8PVcdF_1gZRO",
        "outputId": "f23867c2-56a8-41a6-eeaa-697e4f414793"
      },
      "source": [
        "web.DataReader(\"MSCI\", data_source='yahoo', start='2021-03-01')"
      ],
      "execution_count": 135,
      "outputs": [
        {
          "output_type": "execute_result",
          "data": {
            "text/html": [
              "<div>\n",
              "<style scoped>\n",
              "    .dataframe tbody tr th:only-of-type {\n",
              "        vertical-align: middle;\n",
              "    }\n",
              "\n",
              "    .dataframe tbody tr th {\n",
              "        vertical-align: top;\n",
              "    }\n",
              "\n",
              "    .dataframe thead th {\n",
              "        text-align: right;\n",
              "    }\n",
              "</style>\n",
              "<table border=\"1\" class=\"dataframe\">\n",
              "  <thead>\n",
              "    <tr style=\"text-align: right;\">\n",
              "      <th></th>\n",
              "      <th>High</th>\n",
              "      <th>Low</th>\n",
              "      <th>Open</th>\n",
              "      <th>Close</th>\n",
              "      <th>Volume</th>\n",
              "      <th>Adj Close</th>\n",
              "    </tr>\n",
              "    <tr>\n",
              "      <th>Date</th>\n",
              "      <th></th>\n",
              "      <th></th>\n",
              "      <th></th>\n",
              "      <th></th>\n",
              "      <th></th>\n",
              "      <th></th>\n",
              "    </tr>\n",
              "  </thead>\n",
              "  <tbody>\n",
              "    <tr>\n",
              "      <th>2021-03-01</th>\n",
              "      <td>422.380005</td>\n",
              "      <td>413.029999</td>\n",
              "      <td>418.089996</td>\n",
              "      <td>420.029999</td>\n",
              "      <td>342900</td>\n",
              "      <td>420.029999</td>\n",
              "    </tr>\n",
              "    <tr>\n",
              "      <th>2021-03-02</th>\n",
              "      <td>429.559998</td>\n",
              "      <td>410.380005</td>\n",
              "      <td>420.000000</td>\n",
              "      <td>418.809998</td>\n",
              "      <td>726200</td>\n",
              "      <td>418.809998</td>\n",
              "    </tr>\n",
              "    <tr>\n",
              "      <th>2021-03-03</th>\n",
              "      <td>422.589996</td>\n",
              "      <td>413.359985</td>\n",
              "      <td>420.000000</td>\n",
              "      <td>415.815002</td>\n",
              "      <td>80603</td>\n",
              "      <td>415.815002</td>\n",
              "    </tr>\n",
              "  </tbody>\n",
              "</table>\n",
              "</div>"
            ],
            "text/plain": [
              "                  High         Low        Open       Close  Volume   Adj Close\n",
              "Date                                                                          \n",
              "2021-03-01  422.380005  413.029999  418.089996  420.029999  342900  420.029999\n",
              "2021-03-02  429.559998  410.380005  420.000000  418.809998  726200  418.809998\n",
              "2021-03-03  422.589996  413.359985  420.000000  415.815002   80603  415.815002"
            ]
          },
          "metadata": {
            "tags": []
          },
          "execution_count": 135
        }
      ]
    },
    {
      "cell_type": "code",
      "metadata": {
        "colab": {
          "base_uri": "https://localhost:8080/",
          "height": 77
        },
        "id": "x0UDg5_bTFhr",
        "outputId": "151b9874-1731-4891-dda7-0b78ca86bd66"
      },
      "source": [
        "manualInput = {'Open': [420], 'pday_High': [422.38], 'pday_Low': [413.03], 'pday_Volume': [342900.0] }\r\n",
        "anotherTest2 = pd.DataFrame(manualInput)\r\n",
        "anotherTest2"
      ],
      "execution_count": 137,
      "outputs": [
        {
          "output_type": "execute_result",
          "data": {
            "text/html": [
              "<div>\n",
              "<style scoped>\n",
              "    .dataframe tbody tr th:only-of-type {\n",
              "        vertical-align: middle;\n",
              "    }\n",
              "\n",
              "    .dataframe tbody tr th {\n",
              "        vertical-align: top;\n",
              "    }\n",
              "\n",
              "    .dataframe thead th {\n",
              "        text-align: right;\n",
              "    }\n",
              "</style>\n",
              "<table border=\"1\" class=\"dataframe\">\n",
              "  <thead>\n",
              "    <tr style=\"text-align: right;\">\n",
              "      <th></th>\n",
              "      <th>Open</th>\n",
              "      <th>pday_High</th>\n",
              "      <th>pday_Low</th>\n",
              "      <th>pday_Volume</th>\n",
              "    </tr>\n",
              "  </thead>\n",
              "  <tbody>\n",
              "    <tr>\n",
              "      <th>0</th>\n",
              "      <td>420</td>\n",
              "      <td>422.38</td>\n",
              "      <td>413.03</td>\n",
              "      <td>342900.0</td>\n",
              "    </tr>\n",
              "  </tbody>\n",
              "</table>\n",
              "</div>"
            ],
            "text/plain": [
              "   Open  pday_High  pday_Low  pday_Volume\n",
              "0   420     422.38    413.03     342900.0"
            ]
          },
          "metadata": {
            "tags": []
          },
          "execution_count": 137
        }
      ]
    },
    {
      "cell_type": "code",
      "metadata": {
        "colab": {
          "base_uri": "https://localhost:8080/"
        },
        "id": "X9ke_9CvcX1s",
        "outputId": "c4ad6e18-7520-419b-dc14-8cc8b5d50a6c"
      },
      "source": [
        "saved_model.predict(anotherTest2)"
      ],
      "execution_count": 138,
      "outputs": [
        {
          "output_type": "execute_result",
          "data": {
            "text/plain": [
              "array([419.44496388])"
            ]
          },
          "metadata": {
            "tags": []
          },
          "execution_count": 138
        }
      ]
    },
    {
      "cell_type": "code",
      "metadata": {
        "id": "gVCyqxg8h2rP"
      },
      "source": [
        ""
      ],
      "execution_count": null,
      "outputs": []
    }
  ]
}
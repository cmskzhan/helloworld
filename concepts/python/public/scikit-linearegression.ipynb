{
  "nbformat": 4,
  "nbformat_minor": 0,
  "metadata": {
    "colab": {
      "name": "Copy of Untitled0.ipynb",
      "provenance": [],
      "collapsed_sections": [],
      "toc_visible": true,
      "authorship_tag": "ABX9TyNVaPWkXZuf4v8paYIQTs0K",
      "include_colab_link": true
    },
    "kernelspec": {
      "name": "python3",
      "display_name": "Python 3"
    }
  },
  "cells": [
    {
      "cell_type": "markdown",
      "metadata": {
        "id": "view-in-github",
        "colab_type": "text"
      },
      "source": [
        "<a href=\"https://colab.research.google.com/github/cmskzhan/helloworld/blob/master/concepts/python/public/scikit-linearegression.ipynb\" target=\"_parent\"><img src=\"https://colab.research.google.com/assets/colab-badge.svg\" alt=\"Open In Colab\"/></a>"
      ]
    },
    {
      "cell_type": "markdown",
      "metadata": {
        "id": "2UdU8b2AyJHq"
      },
      "source": [
        "# Scikit-Learn - Linear and Logic Regression"
      ]
    },
    {
      "cell_type": "markdown",
      "metadata": {
        "id": "HUuI21tCyVA4"
      },
      "source": [
        "## Linear Regression"
      ]
    },
    {
      "cell_type": "markdown",
      "metadata": {
        "id": "OWq_3auFy6Bk"
      },
      "source": [
        "$ Y = mX + c $"
      ]
    },
    {
      "cell_type": "code",
      "metadata": {
        "colab": {
          "base_uri": "https://localhost:8080/"
        },
        "id": "qYaElQeUMlwM",
        "outputId": "1c205830-5c21-4b0e-cc42-f55627ae6119"
      },
      "source": [
        "import sklearn\r\n",
        "print(sklearn.__version__)"
      ],
      "execution_count": 13,
      "outputs": [
        {
          "output_type": "stream",
          "text": [
            "0.22.2.post1\n"
          ],
          "name": "stdout"
        }
      ]
    },
    {
      "cell_type": "code",
      "metadata": {
        "id": "iNbkVDX-MrrX"
      },
      "source": [
        "import pandas as pd\r\n",
        "import numpy as np\r\n",
        "# from sklearn.datasets import load_breast_cancer\r\n",
        "from pandas_datareader import data as web"
      ],
      "execution_count": 14,
      "outputs": []
    },
    {
      "cell_type": "code",
      "metadata": {
        "id": "2e40iKzZM-YN",
        "colab": {
          "base_uri": "https://localhost:8080/",
          "height": 431
        },
        "outputId": "fb53e835-cb30-4576-d512-9604ec0569c8"
      },
      "source": [
        "df = web.DataReader(\"MSCI\", data_source='yahoo', start='01-01-2015')\r\n",
        "df"
      ],
      "execution_count": 15,
      "outputs": [
        {
          "output_type": "execute_result",
          "data": {
            "text/html": [
              "<div>\n",
              "<style scoped>\n",
              "    .dataframe tbody tr th:only-of-type {\n",
              "        vertical-align: middle;\n",
              "    }\n",
              "\n",
              "    .dataframe tbody tr th {\n",
              "        vertical-align: top;\n",
              "    }\n",
              "\n",
              "    .dataframe thead th {\n",
              "        text-align: right;\n",
              "    }\n",
              "</style>\n",
              "<table border=\"1\" class=\"dataframe\">\n",
              "  <thead>\n",
              "    <tr style=\"text-align: right;\">\n",
              "      <th></th>\n",
              "      <th>High</th>\n",
              "      <th>Low</th>\n",
              "      <th>Open</th>\n",
              "      <th>Close</th>\n",
              "      <th>Volume</th>\n",
              "      <th>Adj Close</th>\n",
              "    </tr>\n",
              "    <tr>\n",
              "      <th>Date</th>\n",
              "      <th></th>\n",
              "      <th></th>\n",
              "      <th></th>\n",
              "      <th></th>\n",
              "      <th></th>\n",
              "      <th></th>\n",
              "    </tr>\n",
              "  </thead>\n",
              "  <tbody>\n",
              "    <tr>\n",
              "      <th>2015-01-02</th>\n",
              "      <td>47.939999</td>\n",
              "      <td>46.930000</td>\n",
              "      <td>47.689999</td>\n",
              "      <td>47.689999</td>\n",
              "      <td>477500.0</td>\n",
              "      <td>44.373196</td>\n",
              "    </tr>\n",
              "    <tr>\n",
              "      <th>2015-01-05</th>\n",
              "      <td>47.590000</td>\n",
              "      <td>46.799999</td>\n",
              "      <td>47.430000</td>\n",
              "      <td>47.240002</td>\n",
              "      <td>814100.0</td>\n",
              "      <td>43.954487</td>\n",
              "    </tr>\n",
              "    <tr>\n",
              "      <th>2015-01-06</th>\n",
              "      <td>49.549999</td>\n",
              "      <td>47.540001</td>\n",
              "      <td>47.599998</td>\n",
              "      <td>48.610001</td>\n",
              "      <td>1961000.0</td>\n",
              "      <td>45.229206</td>\n",
              "    </tr>\n",
              "    <tr>\n",
              "      <th>2015-01-07</th>\n",
              "      <td>49.790001</td>\n",
              "      <td>48.439999</td>\n",
              "      <td>48.880001</td>\n",
              "      <td>49.720001</td>\n",
              "      <td>1257700.0</td>\n",
              "      <td>46.262001</td>\n",
              "    </tr>\n",
              "    <tr>\n",
              "      <th>2015-01-08</th>\n",
              "      <td>51.270000</td>\n",
              "      <td>49.680000</td>\n",
              "      <td>50.060001</td>\n",
              "      <td>51.220001</td>\n",
              "      <td>1287600.0</td>\n",
              "      <td>47.657684</td>\n",
              "    </tr>\n",
              "    <tr>\n",
              "      <th>...</th>\n",
              "      <td>...</td>\n",
              "      <td>...</td>\n",
              "      <td>...</td>\n",
              "      <td>...</td>\n",
              "      <td>...</td>\n",
              "      <td>...</td>\n",
              "    </tr>\n",
              "    <tr>\n",
              "      <th>2021-03-01</th>\n",
              "      <td>422.380005</td>\n",
              "      <td>413.029999</td>\n",
              "      <td>418.089996</td>\n",
              "      <td>420.029999</td>\n",
              "      <td>342900.0</td>\n",
              "      <td>420.029999</td>\n",
              "    </tr>\n",
              "    <tr>\n",
              "      <th>2021-03-02</th>\n",
              "      <td>429.559998</td>\n",
              "      <td>410.380005</td>\n",
              "      <td>420.000000</td>\n",
              "      <td>418.809998</td>\n",
              "      <td>726200.0</td>\n",
              "      <td>418.809998</td>\n",
              "    </tr>\n",
              "    <tr>\n",
              "      <th>2021-03-03</th>\n",
              "      <td>422.589996</td>\n",
              "      <td>409.429993</td>\n",
              "      <td>416.410004</td>\n",
              "      <td>409.720001</td>\n",
              "      <td>811200.0</td>\n",
              "      <td>409.720001</td>\n",
              "    </tr>\n",
              "    <tr>\n",
              "      <th>2021-03-04</th>\n",
              "      <td>414.869995</td>\n",
              "      <td>402.149994</td>\n",
              "      <td>407.399994</td>\n",
              "      <td>409.000000</td>\n",
              "      <td>789900.0</td>\n",
              "      <td>409.000000</td>\n",
              "    </tr>\n",
              "    <tr>\n",
              "      <th>2021-03-05</th>\n",
              "      <td>416.540009</td>\n",
              "      <td>400.010010</td>\n",
              "      <td>411.859985</td>\n",
              "      <td>414.720001</td>\n",
              "      <td>633900.0</td>\n",
              "      <td>414.720001</td>\n",
              "    </tr>\n",
              "  </tbody>\n",
              "</table>\n",
              "<p>1554 rows × 6 columns</p>\n",
              "</div>"
            ],
            "text/plain": [
              "                  High         Low  ...     Volume   Adj Close\n",
              "Date                                ...                       \n",
              "2015-01-02   47.939999   46.930000  ...   477500.0   44.373196\n",
              "2015-01-05   47.590000   46.799999  ...   814100.0   43.954487\n",
              "2015-01-06   49.549999   47.540001  ...  1961000.0   45.229206\n",
              "2015-01-07   49.790001   48.439999  ...  1257700.0   46.262001\n",
              "2015-01-08   51.270000   49.680000  ...  1287600.0   47.657684\n",
              "...                ...         ...  ...        ...         ...\n",
              "2021-03-01  422.380005  413.029999  ...   342900.0  420.029999\n",
              "2021-03-02  429.559998  410.380005  ...   726200.0  418.809998\n",
              "2021-03-03  422.589996  409.429993  ...   811200.0  409.720001\n",
              "2021-03-04  414.869995  402.149994  ...   789900.0  409.000000\n",
              "2021-03-05  416.540009  400.010010  ...   633900.0  414.720001\n",
              "\n",
              "[1554 rows x 6 columns]"
            ]
          },
          "metadata": {
            "tags": []
          },
          "execution_count": 15
        }
      ]
    },
    {
      "cell_type": "markdown",
      "metadata": {
        "id": "n4xyXbgRzhD8"
      },
      "source": [
        "Shift Data in the dateframe. Use Previous day's High, Low, Volume and today's Open to predict today's Close"
      ]
    },
    {
      "cell_type": "code",
      "metadata": {
        "colab": {
          "base_uri": "https://localhost:8080/",
          "height": 431
        },
        "id": "QfEtotHsvGel",
        "outputId": "c77bcb38-1917-469a-d457-d04159ff0a3c"
      },
      "source": [
        "df['pday_High'] = df['High'].shift(1)\r\n",
        "df['pday_Low'] = df['Low'].shift(1)\r\n",
        "df['pday_Volume'] = df['Volume'].shift(1)\r\n",
        "df"
      ],
      "execution_count": 16,
      "outputs": [
        {
          "output_type": "execute_result",
          "data": {
            "text/html": [
              "<div>\n",
              "<style scoped>\n",
              "    .dataframe tbody tr th:only-of-type {\n",
              "        vertical-align: middle;\n",
              "    }\n",
              "\n",
              "    .dataframe tbody tr th {\n",
              "        vertical-align: top;\n",
              "    }\n",
              "\n",
              "    .dataframe thead th {\n",
              "        text-align: right;\n",
              "    }\n",
              "</style>\n",
              "<table border=\"1\" class=\"dataframe\">\n",
              "  <thead>\n",
              "    <tr style=\"text-align: right;\">\n",
              "      <th></th>\n",
              "      <th>High</th>\n",
              "      <th>Low</th>\n",
              "      <th>Open</th>\n",
              "      <th>Close</th>\n",
              "      <th>Volume</th>\n",
              "      <th>Adj Close</th>\n",
              "      <th>pday_High</th>\n",
              "      <th>pday_Low</th>\n",
              "      <th>pday_Volume</th>\n",
              "    </tr>\n",
              "    <tr>\n",
              "      <th>Date</th>\n",
              "      <th></th>\n",
              "      <th></th>\n",
              "      <th></th>\n",
              "      <th></th>\n",
              "      <th></th>\n",
              "      <th></th>\n",
              "      <th></th>\n",
              "      <th></th>\n",
              "      <th></th>\n",
              "    </tr>\n",
              "  </thead>\n",
              "  <tbody>\n",
              "    <tr>\n",
              "      <th>2015-01-02</th>\n",
              "      <td>47.939999</td>\n",
              "      <td>46.930000</td>\n",
              "      <td>47.689999</td>\n",
              "      <td>47.689999</td>\n",
              "      <td>477500.0</td>\n",
              "      <td>44.373196</td>\n",
              "      <td>NaN</td>\n",
              "      <td>NaN</td>\n",
              "      <td>NaN</td>\n",
              "    </tr>\n",
              "    <tr>\n",
              "      <th>2015-01-05</th>\n",
              "      <td>47.590000</td>\n",
              "      <td>46.799999</td>\n",
              "      <td>47.430000</td>\n",
              "      <td>47.240002</td>\n",
              "      <td>814100.0</td>\n",
              "      <td>43.954487</td>\n",
              "      <td>47.939999</td>\n",
              "      <td>46.930000</td>\n",
              "      <td>477500.0</td>\n",
              "    </tr>\n",
              "    <tr>\n",
              "      <th>2015-01-06</th>\n",
              "      <td>49.549999</td>\n",
              "      <td>47.540001</td>\n",
              "      <td>47.599998</td>\n",
              "      <td>48.610001</td>\n",
              "      <td>1961000.0</td>\n",
              "      <td>45.229206</td>\n",
              "      <td>47.590000</td>\n",
              "      <td>46.799999</td>\n",
              "      <td>814100.0</td>\n",
              "    </tr>\n",
              "    <tr>\n",
              "      <th>2015-01-07</th>\n",
              "      <td>49.790001</td>\n",
              "      <td>48.439999</td>\n",
              "      <td>48.880001</td>\n",
              "      <td>49.720001</td>\n",
              "      <td>1257700.0</td>\n",
              "      <td>46.262001</td>\n",
              "      <td>49.549999</td>\n",
              "      <td>47.540001</td>\n",
              "      <td>1961000.0</td>\n",
              "    </tr>\n",
              "    <tr>\n",
              "      <th>2015-01-08</th>\n",
              "      <td>51.270000</td>\n",
              "      <td>49.680000</td>\n",
              "      <td>50.060001</td>\n",
              "      <td>51.220001</td>\n",
              "      <td>1287600.0</td>\n",
              "      <td>47.657684</td>\n",
              "      <td>49.790001</td>\n",
              "      <td>48.439999</td>\n",
              "      <td>1257700.0</td>\n",
              "    </tr>\n",
              "    <tr>\n",
              "      <th>...</th>\n",
              "      <td>...</td>\n",
              "      <td>...</td>\n",
              "      <td>...</td>\n",
              "      <td>...</td>\n",
              "      <td>...</td>\n",
              "      <td>...</td>\n",
              "      <td>...</td>\n",
              "      <td>...</td>\n",
              "      <td>...</td>\n",
              "    </tr>\n",
              "    <tr>\n",
              "      <th>2021-03-01</th>\n",
              "      <td>422.380005</td>\n",
              "      <td>413.029999</td>\n",
              "      <td>418.089996</td>\n",
              "      <td>420.029999</td>\n",
              "      <td>342900.0</td>\n",
              "      <td>420.029999</td>\n",
              "      <td>420.579987</td>\n",
              "      <td>409.440002</td>\n",
              "      <td>662200.0</td>\n",
              "    </tr>\n",
              "    <tr>\n",
              "      <th>2021-03-02</th>\n",
              "      <td>429.559998</td>\n",
              "      <td>410.380005</td>\n",
              "      <td>420.000000</td>\n",
              "      <td>418.809998</td>\n",
              "      <td>726200.0</td>\n",
              "      <td>418.809998</td>\n",
              "      <td>422.380005</td>\n",
              "      <td>413.029999</td>\n",
              "      <td>342900.0</td>\n",
              "    </tr>\n",
              "    <tr>\n",
              "      <th>2021-03-03</th>\n",
              "      <td>422.589996</td>\n",
              "      <td>409.429993</td>\n",
              "      <td>416.410004</td>\n",
              "      <td>409.720001</td>\n",
              "      <td>811200.0</td>\n",
              "      <td>409.720001</td>\n",
              "      <td>429.559998</td>\n",
              "      <td>410.380005</td>\n",
              "      <td>726200.0</td>\n",
              "    </tr>\n",
              "    <tr>\n",
              "      <th>2021-03-04</th>\n",
              "      <td>414.869995</td>\n",
              "      <td>402.149994</td>\n",
              "      <td>407.399994</td>\n",
              "      <td>409.000000</td>\n",
              "      <td>789900.0</td>\n",
              "      <td>409.000000</td>\n",
              "      <td>422.589996</td>\n",
              "      <td>409.429993</td>\n",
              "      <td>811200.0</td>\n",
              "    </tr>\n",
              "    <tr>\n",
              "      <th>2021-03-05</th>\n",
              "      <td>416.540009</td>\n",
              "      <td>400.010010</td>\n",
              "      <td>411.859985</td>\n",
              "      <td>414.720001</td>\n",
              "      <td>633900.0</td>\n",
              "      <td>414.720001</td>\n",
              "      <td>414.869995</td>\n",
              "      <td>402.149994</td>\n",
              "      <td>789900.0</td>\n",
              "    </tr>\n",
              "  </tbody>\n",
              "</table>\n",
              "<p>1554 rows × 9 columns</p>\n",
              "</div>"
            ],
            "text/plain": [
              "                  High         Low  ...    pday_Low  pday_Volume\n",
              "Date                                ...                         \n",
              "2015-01-02   47.939999   46.930000  ...         NaN          NaN\n",
              "2015-01-05   47.590000   46.799999  ...   46.930000     477500.0\n",
              "2015-01-06   49.549999   47.540001  ...   46.799999     814100.0\n",
              "2015-01-07   49.790001   48.439999  ...   47.540001    1961000.0\n",
              "2015-01-08   51.270000   49.680000  ...   48.439999    1257700.0\n",
              "...                ...         ...  ...         ...          ...\n",
              "2021-03-01  422.380005  413.029999  ...  409.440002     662200.0\n",
              "2021-03-02  429.559998  410.380005  ...  413.029999     342900.0\n",
              "2021-03-03  422.589996  409.429993  ...  410.380005     726200.0\n",
              "2021-03-04  414.869995  402.149994  ...  409.429993     811200.0\n",
              "2021-03-05  416.540009  400.010010  ...  402.149994     789900.0\n",
              "\n",
              "[1554 rows x 9 columns]"
            ]
          },
          "metadata": {
            "tags": []
          },
          "execution_count": 16
        }
      ]
    },
    {
      "cell_type": "markdown",
      "metadata": {
        "id": "x8l_In0tz4Md"
      },
      "source": [
        "Remove irrelevant data in X, and assign Close price to Y as this is what need to be predicted"
      ]
    },
    {
      "cell_type": "code",
      "metadata": {
        "id": "rSxsmdx4N-in"
      },
      "source": [
        "X = df.drop(['Close', 'Adj Close', 'High', 'Low', 'Volume'], axis=1)\r\n",
        "Y = df['Close']\r\n",
        "X = X[1:]\r\n",
        "Y = Y[1:]"
      ],
      "execution_count": 17,
      "outputs": []
    },
    {
      "cell_type": "code",
      "metadata": {
        "colab": {
          "base_uri": "https://localhost:8080/"
        },
        "id": "UrYmT09GPjYj",
        "outputId": "bf69057e-c92f-4dea-8bcc-51d9e4140952"
      },
      "source": [
        "X.columns # use previous day's High Low Volume and today's open to predict today's close"
      ],
      "execution_count": 18,
      "outputs": [
        {
          "output_type": "execute_result",
          "data": {
            "text/plain": [
              "Index(['Open', 'pday_High', 'pday_Low', 'pday_Volume'], dtype='object')"
            ]
          },
          "metadata": {
            "tags": []
          },
          "execution_count": 18
        }
      ]
    },
    {
      "cell_type": "code",
      "metadata": {
        "id": "vuIY2JxgP9Pu"
      },
      "source": [
        "# Mark the training data, we use 90% data for training, 10% of the data to verify results\r\n",
        "from sklearn.model_selection import train_test_split\r\n",
        "x_train, x_test, y_train, y_test = train_test_split(X, Y, test_size = 0.1 )"
      ],
      "execution_count": 19,
      "outputs": []
    },
    {
      "cell_type": "code",
      "metadata": {
        "colab": {
          "base_uri": "https://localhost:8080/"
        },
        "id": "T4i6QMRsRP0q",
        "outputId": "4762becf-cf13-4ddf-9fc4-b90e8a692ce3"
      },
      "source": [
        "# Use above data to do a linear model training\r\n",
        "from sklearn.linear_model import LinearRegression\r\n",
        "r_model = LinearRegression(normalize = True).fit(x_train, y_train)\r\n",
        "print(\"Linear Regression Model Traininig Score:\", r_model.score(x_train, y_train))\r\n",
        "# the result is too good to be true, in my opinion!"
      ],
      "execution_count": 20,
      "outputs": [
        {
          "output_type": "stream",
          "text": [
            "Linear Regression Model Traininig Score: 0.9985844374929254\n"
          ],
          "name": "stdout"
        }
      ]
    },
    {
      "cell_type": "code",
      "metadata": {
        "colab": {
          "base_uri": "https://localhost:8080/"
        },
        "id": "_Nz_dAdRSnH7",
        "outputId": "f750ef86-cf07-46dc-d2ab-91f2daae046f"
      },
      "source": [
        "# M\r\n",
        "predicators = x_train.columns\r\n",
        "weights = pd.Series(r_model.coef_, predicators)\r\n",
        "weights"
      ],
      "execution_count": 21,
      "outputs": [
        {
          "output_type": "execute_result",
          "data": {
            "text/plain": [
              "Open           9.538761e-01\n",
              "pday_High      1.042727e-01\n",
              "pday_Low      -6.207546e-02\n",
              "pday_Volume    9.344499e-08\n",
              "dtype: float64"
            ]
          },
          "metadata": {
            "tags": []
          },
          "execution_count": 21
        }
      ]
    },
    {
      "cell_type": "code",
      "metadata": {
        "id": "030M1_nJSp8y"
      },
      "source": [
        "y_predicate = r_model.predict(x_test)"
      ],
      "execution_count": 22,
      "outputs": []
    },
    {
      "cell_type": "code",
      "metadata": {
        "colab": {
          "base_uri": "https://localhost:8080/",
          "height": 669
        },
        "id": "77xrVOlSXygH",
        "outputId": "28542ffa-4e02-4926-abcb-963ae1908327"
      },
      "source": [
        "pred_vs_actual = pd.DataFrame({'predicted': y_predicate, 'actual': y_test})\r\n",
        "pred_vs_actual.head(20)"
      ],
      "execution_count": 23,
      "outputs": [
        {
          "output_type": "execute_result",
          "data": {
            "text/html": [
              "<div>\n",
              "<style scoped>\n",
              "    .dataframe tbody tr th:only-of-type {\n",
              "        vertical-align: middle;\n",
              "    }\n",
              "\n",
              "    .dataframe tbody tr th {\n",
              "        vertical-align: top;\n",
              "    }\n",
              "\n",
              "    .dataframe thead th {\n",
              "        text-align: right;\n",
              "    }\n",
              "</style>\n",
              "<table border=\"1\" class=\"dataframe\">\n",
              "  <thead>\n",
              "    <tr style=\"text-align: right;\">\n",
              "      <th></th>\n",
              "      <th>predicted</th>\n",
              "      <th>actual</th>\n",
              "    </tr>\n",
              "    <tr>\n",
              "      <th>Date</th>\n",
              "      <th></th>\n",
              "      <th></th>\n",
              "    </tr>\n",
              "  </thead>\n",
              "  <tbody>\n",
              "    <tr>\n",
              "      <th>2015-07-09</th>\n",
              "      <td>62.571889</td>\n",
              "      <td>62.230000</td>\n",
              "    </tr>\n",
              "    <tr>\n",
              "      <th>2015-04-02</th>\n",
              "      <td>61.344340</td>\n",
              "      <td>61.509998</td>\n",
              "    </tr>\n",
              "    <tr>\n",
              "      <th>2017-08-23</th>\n",
              "      <td>112.529967</td>\n",
              "      <td>112.220001</td>\n",
              "    </tr>\n",
              "    <tr>\n",
              "      <th>2018-01-17</th>\n",
              "      <td>135.164419</td>\n",
              "      <td>135.800003</td>\n",
              "    </tr>\n",
              "    <tr>\n",
              "      <th>2018-03-02</th>\n",
              "      <td>141.261203</td>\n",
              "      <td>143.320007</td>\n",
              "    </tr>\n",
              "    <tr>\n",
              "      <th>2018-09-11</th>\n",
              "      <td>177.420324</td>\n",
              "      <td>177.460007</td>\n",
              "    </tr>\n",
              "    <tr>\n",
              "      <th>2020-09-30</th>\n",
              "      <td>355.048435</td>\n",
              "      <td>356.779999</td>\n",
              "    </tr>\n",
              "    <tr>\n",
              "      <th>2020-04-03</th>\n",
              "      <td>283.853933</td>\n",
              "      <td>270.609985</td>\n",
              "    </tr>\n",
              "    <tr>\n",
              "      <th>2019-02-22</th>\n",
              "      <td>174.699419</td>\n",
              "      <td>177.160004</td>\n",
              "    </tr>\n",
              "    <tr>\n",
              "      <th>2018-05-21</th>\n",
              "      <td>156.736801</td>\n",
              "      <td>157.990005</td>\n",
              "    </tr>\n",
              "    <tr>\n",
              "      <th>2019-11-29</th>\n",
              "      <td>257.812461</td>\n",
              "      <td>259.190002</td>\n",
              "    </tr>\n",
              "    <tr>\n",
              "      <th>2017-05-11</th>\n",
              "      <td>98.111868</td>\n",
              "      <td>98.279999</td>\n",
              "    </tr>\n",
              "    <tr>\n",
              "      <th>2019-11-08</th>\n",
              "      <td>246.324297</td>\n",
              "      <td>245.000000</td>\n",
              "    </tr>\n",
              "    <tr>\n",
              "      <th>2018-10-16</th>\n",
              "      <td>153.444826</td>\n",
              "      <td>156.250000</td>\n",
              "    </tr>\n",
              "    <tr>\n",
              "      <th>2018-03-14</th>\n",
              "      <td>152.723762</td>\n",
              "      <td>154.429993</td>\n",
              "    </tr>\n",
              "    <tr>\n",
              "      <th>2018-05-01</th>\n",
              "      <td>149.799776</td>\n",
              "      <td>150.660004</td>\n",
              "    </tr>\n",
              "    <tr>\n",
              "      <th>2017-07-26</th>\n",
              "      <td>110.747040</td>\n",
              "      <td>110.349998</td>\n",
              "    </tr>\n",
              "    <tr>\n",
              "      <th>2016-10-20</th>\n",
              "      <td>82.874743</td>\n",
              "      <td>82.430000</td>\n",
              "    </tr>\n",
              "    <tr>\n",
              "      <th>2019-05-23</th>\n",
              "      <td>222.663536</td>\n",
              "      <td>217.669998</td>\n",
              "    </tr>\n",
              "    <tr>\n",
              "      <th>2015-03-27</th>\n",
              "      <td>59.416526</td>\n",
              "      <td>59.580002</td>\n",
              "    </tr>\n",
              "  </tbody>\n",
              "</table>\n",
              "</div>"
            ],
            "text/plain": [
              "             predicted      actual\n",
              "Date                              \n",
              "2015-07-09   62.571889   62.230000\n",
              "2015-04-02   61.344340   61.509998\n",
              "2017-08-23  112.529967  112.220001\n",
              "2018-01-17  135.164419  135.800003\n",
              "2018-03-02  141.261203  143.320007\n",
              "2018-09-11  177.420324  177.460007\n",
              "2020-09-30  355.048435  356.779999\n",
              "2020-04-03  283.853933  270.609985\n",
              "2019-02-22  174.699419  177.160004\n",
              "2018-05-21  156.736801  157.990005\n",
              "2019-11-29  257.812461  259.190002\n",
              "2017-05-11   98.111868   98.279999\n",
              "2019-11-08  246.324297  245.000000\n",
              "2018-10-16  153.444826  156.250000\n",
              "2018-03-14  152.723762  154.429993\n",
              "2018-05-01  149.799776  150.660004\n",
              "2017-07-26  110.747040  110.349998\n",
              "2016-10-20   82.874743   82.430000\n",
              "2019-05-23  222.663536  217.669998\n",
              "2015-03-27   59.416526   59.580002"
            ]
          },
          "metadata": {
            "tags": []
          },
          "execution_count": 23
        }
      ]
    },
    {
      "cell_type": "code",
      "metadata": {
        "colab": {
          "base_uri": "https://localhost:8080/"
        },
        "id": "KWBAQrnHYJWX",
        "outputId": "44c8a2cf-1bb0-4e6f-872e-e047dc9cb311"
      },
      "source": [
        "from sklearn.metrics import r2_score\r\n",
        "print(\"R2 score for linear regression test is: \", r2_score(y_predicate, y_test))\r\n",
        "# indeed, R^2 is very close to 1, almost perfect!"
      ],
      "execution_count": 24,
      "outputs": [
        {
          "output_type": "stream",
          "text": [
            "R2 score for linear regression test is:  0.998379561227507\n"
          ],
          "name": "stdout"
        }
      ]
    },
    {
      "cell_type": "code",
      "metadata": {
        "colab": {
          "base_uri": "https://localhost:8080/",
          "height": 414
        },
        "id": "cKkl-y9DZK_K",
        "outputId": "7d6bcb83-9126-4d15-cdc9-fd840a3d1b08"
      },
      "source": [
        "import matplotlib.pyplot as plt\r\n",
        "%matplotlib inline\r\n",
        "plt.style.use('fivethirtyeight')\r\n",
        "plt.figure(figsize=(24.2,9))\r\n",
        "#plt.scatter(df.index, df['TS_buy'], color = 'green', label = 'TS buy', marker = '^', alpha = 1)\r\n",
        "#plt.scatter(df.index, df['TS_sell'], color = 'red', label = 'TS sell', marker = 'v', alpha = 1)\r\n",
        "plt.scatter(y_predicate, y_test)\r\n",
        "plt.show()"
      ],
      "execution_count": 25,
      "outputs": [
        {
          "output_type": "display_data",
          "data": {
            "image/png": "[encoded data removed]",
            "text/plain": [
              "<Figure size 1742.4x648 with 1 Axes>"
            ]
          },
          "metadata": {
            "tags": []
          }
        }
      ]
    },
    {
      "cell_type": "code",
      "metadata": {
        "colab": {
          "base_uri": "https://localhost:8080/",
          "height": 431
        },
        "id": "N6NHQGZhZlDh",
        "outputId": "00eec926-9189-49df-edbf-39a973f99997"
      },
      "source": [
        "# to compare predicted and actual\r\n",
        "pred_vs_actual.sort_index()"
      ],
      "execution_count": 26,
      "outputs": [
        {
          "output_type": "execute_result",
          "data": {
            "text/html": [
              "<div>\n",
              "<style scoped>\n",
              "    .dataframe tbody tr th:only-of-type {\n",
              "        vertical-align: middle;\n",
              "    }\n",
              "\n",
              "    .dataframe tbody tr th {\n",
              "        vertical-align: top;\n",
              "    }\n",
              "\n",
              "    .dataframe thead th {\n",
              "        text-align: right;\n",
              "    }\n",
              "</style>\n",
              "<table border=\"1\" class=\"dataframe\">\n",
              "  <thead>\n",
              "    <tr style=\"text-align: right;\">\n",
              "      <th></th>\n",
              "      <th>predicted</th>\n",
              "      <th>actual</th>\n",
              "    </tr>\n",
              "    <tr>\n",
              "      <th>Date</th>\n",
              "      <th></th>\n",
              "      <th></th>\n",
              "    </tr>\n",
              "  </thead>\n",
              "  <tbody>\n",
              "    <tr>\n",
              "      <th>2015-01-27</th>\n",
              "      <td>54.333736</td>\n",
              "      <td>54.279999</td>\n",
              "    </tr>\n",
              "    <tr>\n",
              "      <th>2015-02-05</th>\n",
              "      <td>55.212909</td>\n",
              "      <td>55.500000</td>\n",
              "    </tr>\n",
              "    <tr>\n",
              "      <th>2015-03-03</th>\n",
              "      <td>57.772108</td>\n",
              "      <td>57.320000</td>\n",
              "    </tr>\n",
              "    <tr>\n",
              "      <th>2015-03-04</th>\n",
              "      <td>57.382550</td>\n",
              "      <td>56.779999</td>\n",
              "    </tr>\n",
              "    <tr>\n",
              "      <th>2015-03-24</th>\n",
              "      <td>60.356268</td>\n",
              "      <td>59.779999</td>\n",
              "    </tr>\n",
              "    <tr>\n",
              "      <th>...</th>\n",
              "      <td>...</td>\n",
              "      <td>...</td>\n",
              "    </tr>\n",
              "    <tr>\n",
              "      <th>2020-11-10</th>\n",
              "      <td>392.488277</td>\n",
              "      <td>379.820007</td>\n",
              "    </tr>\n",
              "    <tr>\n",
              "      <th>2020-11-18</th>\n",
              "      <td>403.490873</td>\n",
              "      <td>399.950012</td>\n",
              "    </tr>\n",
              "    <tr>\n",
              "      <th>2020-12-18</th>\n",
              "      <td>436.365649</td>\n",
              "      <td>443.059998</td>\n",
              "    </tr>\n",
              "    <tr>\n",
              "      <th>2021-01-08</th>\n",
              "      <td>443.072942</td>\n",
              "      <td>452.679993</td>\n",
              "    </tr>\n",
              "    <tr>\n",
              "      <th>2021-01-22</th>\n",
              "      <td>414.022028</td>\n",
              "      <td>411.880005</td>\n",
              "    </tr>\n",
              "  </tbody>\n",
              "</table>\n",
              "<p>156 rows × 2 columns</p>\n",
              "</div>"
            ],
            "text/plain": [
              "             predicted      actual\n",
              "Date                              \n",
              "2015-01-27   54.333736   54.279999\n",
              "2015-02-05   55.212909   55.500000\n",
              "2015-03-03   57.772108   57.320000\n",
              "2015-03-04   57.382550   56.779999\n",
              "2015-03-24   60.356268   59.779999\n",
              "...                ...         ...\n",
              "2020-11-10  392.488277  379.820007\n",
              "2020-11-18  403.490873  399.950012\n",
              "2020-12-18  436.365649  443.059998\n",
              "2021-01-08  443.072942  452.679993\n",
              "2021-01-22  414.022028  411.880005\n",
              "\n",
              "[156 rows x 2 columns]"
            ]
          },
          "metadata": {
            "tags": []
          },
          "execution_count": 26
        }
      ]
    },
    {
      "cell_type": "code",
      "metadata": {
        "colab": {
          "base_uri": "https://localhost:8080/",
          "height": 402
        },
        "id": "jpgUeLZfaGfP",
        "outputId": "6db1d8eb-40a1-431a-9d87-b192edeec47d"
      },
      "source": [
        "show_diff = pred_vs_actual.sort_index().reset_index(drop=True)\r\n",
        "show_diff"
      ],
      "execution_count": 27,
      "outputs": [
        {
          "output_type": "execute_result",
          "data": {
            "text/html": [
              "<div>\n",
              "<style scoped>\n",
              "    .dataframe tbody tr th:only-of-type {\n",
              "        vertical-align: middle;\n",
              "    }\n",
              "\n",
              "    .dataframe tbody tr th {\n",
              "        vertical-align: top;\n",
              "    }\n",
              "\n",
              "    .dataframe thead th {\n",
              "        text-align: right;\n",
              "    }\n",
              "</style>\n",
              "<table border=\"1\" class=\"dataframe\">\n",
              "  <thead>\n",
              "    <tr style=\"text-align: right;\">\n",
              "      <th></th>\n",
              "      <th>predicted</th>\n",
              "      <th>actual</th>\n",
              "    </tr>\n",
              "  </thead>\n",
              "  <tbody>\n",
              "    <tr>\n",
              "      <th>0</th>\n",
              "      <td>54.333736</td>\n",
              "      <td>54.279999</td>\n",
              "    </tr>\n",
              "    <tr>\n",
              "      <th>1</th>\n",
              "      <td>55.212909</td>\n",
              "      <td>55.500000</td>\n",
              "    </tr>\n",
              "    <tr>\n",
              "      <th>2</th>\n",
              "      <td>57.772108</td>\n",
              "      <td>57.320000</td>\n",
              "    </tr>\n",
              "    <tr>\n",
              "      <th>3</th>\n",
              "      <td>57.382550</td>\n",
              "      <td>56.779999</td>\n",
              "    </tr>\n",
              "    <tr>\n",
              "      <th>4</th>\n",
              "      <td>60.356268</td>\n",
              "      <td>59.779999</td>\n",
              "    </tr>\n",
              "    <tr>\n",
              "      <th>...</th>\n",
              "      <td>...</td>\n",
              "      <td>...</td>\n",
              "    </tr>\n",
              "    <tr>\n",
              "      <th>151</th>\n",
              "      <td>392.488277</td>\n",
              "      <td>379.820007</td>\n",
              "    </tr>\n",
              "    <tr>\n",
              "      <th>152</th>\n",
              "      <td>403.490873</td>\n",
              "      <td>399.950012</td>\n",
              "    </tr>\n",
              "    <tr>\n",
              "      <th>153</th>\n",
              "      <td>436.365649</td>\n",
              "      <td>443.059998</td>\n",
              "    </tr>\n",
              "    <tr>\n",
              "      <th>154</th>\n",
              "      <td>443.072942</td>\n",
              "      <td>452.679993</td>\n",
              "    </tr>\n",
              "    <tr>\n",
              "      <th>155</th>\n",
              "      <td>414.022028</td>\n",
              "      <td>411.880005</td>\n",
              "    </tr>\n",
              "  </tbody>\n",
              "</table>\n",
              "<p>156 rows × 2 columns</p>\n",
              "</div>"
            ],
            "text/plain": [
              "      predicted      actual\n",
              "0     54.333736   54.279999\n",
              "1     55.212909   55.500000\n",
              "2     57.772108   57.320000\n",
              "3     57.382550   56.779999\n",
              "4     60.356268   59.779999\n",
              "..          ...         ...\n",
              "151  392.488277  379.820007\n",
              "152  403.490873  399.950012\n",
              "153  436.365649  443.059998\n",
              "154  443.072942  452.679993\n",
              "155  414.022028  411.880005\n",
              "\n",
              "[156 rows x 2 columns]"
            ]
          },
          "metadata": {
            "tags": []
          },
          "execution_count": 27
        }
      ]
    },
    {
      "cell_type": "code",
      "metadata": {
        "colab": {
          "base_uri": "https://localhost:8080/",
          "height": 282
        },
        "id": "txjy-avvaJBv",
        "outputId": "00f7c79e-50f7-47e7-a1a2-115c1a3a160e"
      },
      "source": [
        "plt.plot(show_diff['predicted'], label='predicted', linewidth=0.5 )\r\n",
        "plt.plot(show_diff['actual'], label='actual', alpha=0.5)\r\n",
        "plt.show()"
      ],
      "execution_count": 28,
      "outputs": [
        {
          "output_type": "display_data",
          "data": {
            "image/png": "[encoded data removed]",
            "text/plain": [
              "<Figure size 432x288 with 1 Axes>"
            ]
          },
          "metadata": {
            "tags": []
          }
        }
      ]
    },
    {
      "cell_type": "code",
      "metadata": {
        "id": "joxZq4_dl9MK",
        "colab": {
          "base_uri": "https://localhost:8080/"
        },
        "outputId": "c198fcdb-e8e4-4b26-bc8c-0546ec263f34"
      },
      "source": [
        "type(r_model)"
      ],
      "execution_count": 29,
      "outputs": [
        {
          "output_type": "execute_result",
          "data": {
            "text/plain": [
              "sklearn.linear_model._base.LinearRegression"
            ]
          },
          "metadata": {
            "tags": []
          },
          "execution_count": 29
        }
      ]
    },
    {
      "cell_type": "code",
      "metadata": {
        "id": "BuFEnP_PDb-O"
      },
      "source": [
        "#save the model so don't need to train again and again...\r\n",
        "# reference from https://scikit-learn.org/stable/modules/model_persistence.html\r\n",
        "import pickle\r\n",
        "linear_regression_model_MSCI_closePrice = pickle.dumps(r_model)\r\n",
        "#to save model to a file use joblib"
      ],
      "execution_count": 30,
      "outputs": []
    },
    {
      "cell_type": "code",
      "metadata": {
        "id": "NrIMue9sGzL-"
      },
      "source": [
        "saved_model = pickle.loads(linear_regression_model_MSCI_closePrice)"
      ],
      "execution_count": 31,
      "outputs": []
    },
    {
      "cell_type": "code",
      "metadata": {
        "colab": {
          "base_uri": "https://localhost:8080/",
          "height": 431
        },
        "id": "irxmo1_5GZW7",
        "outputId": "44bb9d4b-f51a-45a9-e116-0c265537a952"
      },
      "source": [
        "x_test"
      ],
      "execution_count": 32,
      "outputs": [
        {
          "output_type": "execute_result",
          "data": {
            "text/html": [
              "<div>\n",
              "<style scoped>\n",
              "    .dataframe tbody tr th:only-of-type {\n",
              "        vertical-align: middle;\n",
              "    }\n",
              "\n",
              "    .dataframe tbody tr th {\n",
              "        vertical-align: top;\n",
              "    }\n",
              "\n",
              "    .dataframe thead th {\n",
              "        text-align: right;\n",
              "    }\n",
              "</style>\n",
              "<table border=\"1\" class=\"dataframe\">\n",
              "  <thead>\n",
              "    <tr style=\"text-align: right;\">\n",
              "      <th></th>\n",
              "      <th>Open</th>\n",
              "      <th>pday_High</th>\n",
              "      <th>pday_Low</th>\n",
              "      <th>pday_Volume</th>\n",
              "    </tr>\n",
              "    <tr>\n",
              "      <th>Date</th>\n",
              "      <th></th>\n",
              "      <th></th>\n",
              "      <th></th>\n",
              "      <th></th>\n",
              "    </tr>\n",
              "  </thead>\n",
              "  <tbody>\n",
              "    <tr>\n",
              "      <th>2015-07-09</th>\n",
              "      <td>62.360001</td>\n",
              "      <td>62.490002</td>\n",
              "      <td>61.529999</td>\n",
              "      <td>762600.0</td>\n",
              "    </tr>\n",
              "    <tr>\n",
              "      <th>2015-04-02</th>\n",
              "      <td>61.110001</td>\n",
              "      <td>61.509998</td>\n",
              "      <td>60.430000</td>\n",
              "      <td>748700.0</td>\n",
              "    </tr>\n",
              "    <tr>\n",
              "      <th>2017-08-23</th>\n",
              "      <td>112.400002</td>\n",
              "      <td>113.360001</td>\n",
              "      <td>110.550003</td>\n",
              "      <td>384900.0</td>\n",
              "    </tr>\n",
              "    <tr>\n",
              "      <th>2018-01-17</th>\n",
              "      <td>135.119995</td>\n",
              "      <td>136.770004</td>\n",
              "      <td>134.190002</td>\n",
              "      <td>265400.0</td>\n",
              "    </tr>\n",
              "    <tr>\n",
              "      <th>2018-03-02</th>\n",
              "      <td>141.160004</td>\n",
              "      <td>143.880005</td>\n",
              "      <td>141.089996</td>\n",
              "      <td>504100.0</td>\n",
              "    </tr>\n",
              "    <tr>\n",
              "      <th>...</th>\n",
              "      <td>...</td>\n",
              "      <td>...</td>\n",
              "      <td>...</td>\n",
              "      <td>...</td>\n",
              "    </tr>\n",
              "    <tr>\n",
              "      <th>2020-11-10</th>\n",
              "      <td>388.609985</td>\n",
              "      <td>437.350006</td>\n",
              "      <td>390.459991</td>\n",
              "      <td>1245800.0</td>\n",
              "    </tr>\n",
              "    <tr>\n",
              "      <th>2018-09-27</th>\n",
              "      <td>178.979996</td>\n",
              "      <td>180.479996</td>\n",
              "      <td>177.369995</td>\n",
              "      <td>363700.0</td>\n",
              "    </tr>\n",
              "    <tr>\n",
              "      <th>2021-01-08</th>\n",
              "      <td>443.649994</td>\n",
              "      <td>447.000000</td>\n",
              "      <td>436.260010</td>\n",
              "      <td>391200.0</td>\n",
              "    </tr>\n",
              "    <tr>\n",
              "      <th>2017-02-17</th>\n",
              "      <td>93.690002</td>\n",
              "      <td>95.500000</td>\n",
              "      <td>93.559998</td>\n",
              "      <td>481000.0</td>\n",
              "    </tr>\n",
              "    <tr>\n",
              "      <th>2020-03-12</th>\n",
              "      <td>244.169998</td>\n",
              "      <td>271.410004</td>\n",
              "      <td>257.149994</td>\n",
              "      <td>1233500.0</td>\n",
              "    </tr>\n",
              "  </tbody>\n",
              "</table>\n",
              "<p>156 rows × 4 columns</p>\n",
              "</div>"
            ],
            "text/plain": [
              "                  Open   pday_High    pday_Low  pday_Volume\n",
              "Date                                                       \n",
              "2015-07-09   62.360001   62.490002   61.529999     762600.0\n",
              "2015-04-02   61.110001   61.509998   60.430000     748700.0\n",
              "2017-08-23  112.400002  113.360001  110.550003     384900.0\n",
              "2018-01-17  135.119995  136.770004  134.190002     265400.0\n",
              "2018-03-02  141.160004  143.880005  141.089996     504100.0\n",
              "...                ...         ...         ...          ...\n",
              "2020-11-10  388.609985  437.350006  390.459991    1245800.0\n",
              "2018-09-27  178.979996  180.479996  177.369995     363700.0\n",
              "2021-01-08  443.649994  447.000000  436.260010     391200.0\n",
              "2017-02-17   93.690002   95.500000   93.559998     481000.0\n",
              "2020-03-12  244.169998  271.410004  257.149994    1233500.0\n",
              "\n",
              "[156 rows x 4 columns]"
            ]
          },
          "metadata": {
            "tags": []
          },
          "execution_count": 32
        }
      ]
    },
    {
      "cell_type": "markdown",
      "metadata": {
        "id": "6T3Bixu5Q5_V"
      },
      "source": [
        "Predict today's Closing Price"
      ]
    },
    {
      "cell_type": "code",
      "metadata": {
        "colab": {
          "base_uri": "https://localhost:8080/"
        },
        "id": "7MFMgAD83e5x",
        "outputId": "e8326c3e-877b-4f2f-fa8a-cc5ec024e52f"
      },
      "source": [
        "from datetime import date, timedelta\r\n",
        "test4today = web.DataReader(\"MSCI\", data_source='yahoo', start=date.today()-timedelta(3))\r\n",
        "test4today['pday_High'] = test4today['High'].shift(1)\r\n",
        "test4today['pday_Low'] = test4today['Low'].shift(1)\r\n",
        "test4today['pday_Volume'] = test4today['Volume'].shift(1)\r\n",
        "test4today.reset_index(drop=True, inplace=True)\r\n",
        "test4today.drop(['Close', 'Adj Close', 'High', 'Low', 'Volume'], axis=1, inplace=True)\r\n",
        "saved_model.predict(test4today.iloc[[-1]])"
      ],
      "execution_count": 62,
      "outputs": [
        {
          "output_type": "execute_result",
          "data": {
            "text/plain": [
              "array([411.55358253])"
            ]
          },
          "metadata": {
            "tags": []
          },
          "execution_count": 62
        }
      ]
    },
    {
      "cell_type": "code",
      "metadata": {
        "colab": {
          "base_uri": "https://localhost:8080/",
          "height": 77
        },
        "id": "x0UDg5_bTFhr",
        "outputId": "c1c0d1ee-719e-4772-8120-9057a2aa9641"
      },
      "source": [
        "manualInput = {'Open': [420], 'pday_High': [422.38], 'pday_Low': [413.03], 'pday_Volume': [342900.0] }\r\n",
        "anotherTest2 = pd.DataFrame(manualInput)\r\n",
        "anotherTest2"
      ],
      "execution_count": 64,
      "outputs": [
        {
          "output_type": "execute_result",
          "data": {
            "text/html": [
              "<div>\n",
              "<style scoped>\n",
              "    .dataframe tbody tr th:only-of-type {\n",
              "        vertical-align: middle;\n",
              "    }\n",
              "\n",
              "    .dataframe tbody tr th {\n",
              "        vertical-align: top;\n",
              "    }\n",
              "\n",
              "    .dataframe thead th {\n",
              "        text-align: right;\n",
              "    }\n",
              "</style>\n",
              "<table border=\"1\" class=\"dataframe\">\n",
              "  <thead>\n",
              "    <tr style=\"text-align: right;\">\n",
              "      <th></th>\n",
              "      <th>Open</th>\n",
              "      <th>pday_High</th>\n",
              "      <th>pday_Low</th>\n",
              "      <th>pday_Volume</th>\n",
              "    </tr>\n",
              "  </thead>\n",
              "  <tbody>\n",
              "    <tr>\n",
              "      <th>0</th>\n",
              "      <td>420</td>\n",
              "      <td>422.38</td>\n",
              "      <td>413.03</td>\n",
              "      <td>342900.0</td>\n",
              "    </tr>\n",
              "  </tbody>\n",
              "</table>\n",
              "</div>"
            ],
            "text/plain": [
              "   Open  pday_High  pday_Low  pday_Volume\n",
              "0   420     422.38    413.03     342900.0"
            ]
          },
          "metadata": {
            "tags": []
          },
          "execution_count": 64
        }
      ]
    },
    {
      "cell_type": "code",
      "metadata": {
        "colab": {
          "base_uri": "https://localhost:8080/"
        },
        "id": "X9ke_9CvcX1s",
        "outputId": "69812dee-cabd-4c1e-ae61-9a239224ce74"
      },
      "source": [
        "saved_model.predict(anotherTest2)"
      ],
      "execution_count": 65,
      "outputs": [
        {
          "output_type": "execute_result",
          "data": {
            "text/plain": [
              "array([419.38408494])"
            ]
          },
          "metadata": {
            "tags": []
          },
          "execution_count": 65
        }
      ]
    },
    {
      "cell_type": "markdown",
      "metadata": {
        "id": "O1IsaRS7RgsZ"
      },
      "source": [
        "## Logical Regression"
      ]
    },
    {
      "cell_type": "code",
      "metadata": {
        "id": "gVCyqxg8h2rP"
      },
      "source": [
        "import pandas as pd\r\n",
        "import numpy as np\r\n",
        "# from sklearn.datasets import load_breast_cancer\r\n",
        "from pandas_datareader import data as web\r\n",
        "import sklearn"
      ],
      "execution_count": null,
      "outputs": []
    },
    {
      "cell_type": "code",
      "metadata": {
        "colab": {
          "base_uri": "https://localhost:8080/",
          "height": 431
        },
        "id": "hwn5isbUR7_l",
        "outputId": "e093b201-6d86-43b1-c71a-3779b94ec8ed"
      },
      "source": [
        "df = web.DataReader(\"MSCI\", data_source='yahoo', start='01-01-2015')\r\n",
        "df['pday_High'] = df['High'].shift(1)\r\n",
        "df['pday_Low'] = df['Low'].shift(1)\r\n",
        "df['pday_Volume'] = df['Volume'].shift(1)\r\n",
        "df['pday_Close'] = df['Close'].shift(1)\r\n",
        "df"
      ],
      "execution_count": 82,
      "outputs": [
        {
          "output_type": "execute_result",
          "data": {
            "text/html": [
              "<div>\n",
              "<style scoped>\n",
              "    .dataframe tbody tr th:only-of-type {\n",
              "        vertical-align: middle;\n",
              "    }\n",
              "\n",
              "    .dataframe tbody tr th {\n",
              "        vertical-align: top;\n",
              "    }\n",
              "\n",
              "    .dataframe thead th {\n",
              "        text-align: right;\n",
              "    }\n",
              "</style>\n",
              "<table border=\"1\" class=\"dataframe\">\n",
              "  <thead>\n",
              "    <tr style=\"text-align: right;\">\n",
              "      <th></th>\n",
              "      <th>High</th>\n",
              "      <th>Low</th>\n",
              "      <th>Open</th>\n",
              "      <th>Close</th>\n",
              "      <th>Volume</th>\n",
              "      <th>Adj Close</th>\n",
              "      <th>pday_High</th>\n",
              "      <th>pday_Low</th>\n",
              "      <th>pday_Volume</th>\n",
              "      <th>pday_Close</th>\n",
              "    </tr>\n",
              "    <tr>\n",
              "      <th>Date</th>\n",
              "      <th></th>\n",
              "      <th></th>\n",
              "      <th></th>\n",
              "      <th></th>\n",
              "      <th></th>\n",
              "      <th></th>\n",
              "      <th></th>\n",
              "      <th></th>\n",
              "      <th></th>\n",
              "      <th></th>\n",
              "    </tr>\n",
              "  </thead>\n",
              "  <tbody>\n",
              "    <tr>\n",
              "      <th>2015-01-02</th>\n",
              "      <td>47.939999</td>\n",
              "      <td>46.930000</td>\n",
              "      <td>47.689999</td>\n",
              "      <td>47.689999</td>\n",
              "      <td>477500.0</td>\n",
              "      <td>44.373196</td>\n",
              "      <td>NaN</td>\n",
              "      <td>NaN</td>\n",
              "      <td>NaN</td>\n",
              "      <td>NaN</td>\n",
              "    </tr>\n",
              "    <tr>\n",
              "      <th>2015-01-05</th>\n",
              "      <td>47.590000</td>\n",
              "      <td>46.799999</td>\n",
              "      <td>47.430000</td>\n",
              "      <td>47.240002</td>\n",
              "      <td>814100.0</td>\n",
              "      <td>43.954487</td>\n",
              "      <td>47.939999</td>\n",
              "      <td>46.930000</td>\n",
              "      <td>477500.0</td>\n",
              "      <td>47.689999</td>\n",
              "    </tr>\n",
              "    <tr>\n",
              "      <th>2015-01-06</th>\n",
              "      <td>49.549999</td>\n",
              "      <td>47.540001</td>\n",
              "      <td>47.599998</td>\n",
              "      <td>48.610001</td>\n",
              "      <td>1961000.0</td>\n",
              "      <td>45.229206</td>\n",
              "      <td>47.590000</td>\n",
              "      <td>46.799999</td>\n",
              "      <td>814100.0</td>\n",
              "      <td>47.240002</td>\n",
              "    </tr>\n",
              "    <tr>\n",
              "      <th>2015-01-07</th>\n",
              "      <td>49.790001</td>\n",
              "      <td>48.439999</td>\n",
              "      <td>48.880001</td>\n",
              "      <td>49.720001</td>\n",
              "      <td>1257700.0</td>\n",
              "      <td>46.262001</td>\n",
              "      <td>49.549999</td>\n",
              "      <td>47.540001</td>\n",
              "      <td>1961000.0</td>\n",
              "      <td>48.610001</td>\n",
              "    </tr>\n",
              "    <tr>\n",
              "      <th>2015-01-08</th>\n",
              "      <td>51.270000</td>\n",
              "      <td>49.680000</td>\n",
              "      <td>50.060001</td>\n",
              "      <td>51.220001</td>\n",
              "      <td>1287600.0</td>\n",
              "      <td>47.657684</td>\n",
              "      <td>49.790001</td>\n",
              "      <td>48.439999</td>\n",
              "      <td>1257700.0</td>\n",
              "      <td>49.720001</td>\n",
              "    </tr>\n",
              "    <tr>\n",
              "      <th>...</th>\n",
              "      <td>...</td>\n",
              "      <td>...</td>\n",
              "      <td>...</td>\n",
              "      <td>...</td>\n",
              "      <td>...</td>\n",
              "      <td>...</td>\n",
              "      <td>...</td>\n",
              "      <td>...</td>\n",
              "      <td>...</td>\n",
              "      <td>...</td>\n",
              "    </tr>\n",
              "    <tr>\n",
              "      <th>2021-03-01</th>\n",
              "      <td>422.380005</td>\n",
              "      <td>413.029999</td>\n",
              "      <td>418.089996</td>\n",
              "      <td>420.029999</td>\n",
              "      <td>342900.0</td>\n",
              "      <td>420.029999</td>\n",
              "      <td>420.579987</td>\n",
              "      <td>409.440002</td>\n",
              "      <td>662200.0</td>\n",
              "      <td>414.519989</td>\n",
              "    </tr>\n",
              "    <tr>\n",
              "      <th>2021-03-02</th>\n",
              "      <td>429.559998</td>\n",
              "      <td>410.380005</td>\n",
              "      <td>420.000000</td>\n",
              "      <td>418.809998</td>\n",
              "      <td>726200.0</td>\n",
              "      <td>418.809998</td>\n",
              "      <td>422.380005</td>\n",
              "      <td>413.029999</td>\n",
              "      <td>342900.0</td>\n",
              "      <td>420.029999</td>\n",
              "    </tr>\n",
              "    <tr>\n",
              "      <th>2021-03-03</th>\n",
              "      <td>422.589996</td>\n",
              "      <td>409.429993</td>\n",
              "      <td>416.410004</td>\n",
              "      <td>409.720001</td>\n",
              "      <td>811200.0</td>\n",
              "      <td>409.720001</td>\n",
              "      <td>429.559998</td>\n",
              "      <td>410.380005</td>\n",
              "      <td>726200.0</td>\n",
              "      <td>418.809998</td>\n",
              "    </tr>\n",
              "    <tr>\n",
              "      <th>2021-03-04</th>\n",
              "      <td>414.869995</td>\n",
              "      <td>402.149994</td>\n",
              "      <td>407.399994</td>\n",
              "      <td>409.000000</td>\n",
              "      <td>789900.0</td>\n",
              "      <td>409.000000</td>\n",
              "      <td>422.589996</td>\n",
              "      <td>409.429993</td>\n",
              "      <td>811200.0</td>\n",
              "      <td>409.720001</td>\n",
              "    </tr>\n",
              "    <tr>\n",
              "      <th>2021-03-05</th>\n",
              "      <td>416.540009</td>\n",
              "      <td>400.010010</td>\n",
              "      <td>411.859985</td>\n",
              "      <td>414.720001</td>\n",
              "      <td>633900.0</td>\n",
              "      <td>414.720001</td>\n",
              "      <td>414.869995</td>\n",
              "      <td>402.149994</td>\n",
              "      <td>789900.0</td>\n",
              "      <td>409.000000</td>\n",
              "    </tr>\n",
              "  </tbody>\n",
              "</table>\n",
              "<p>1554 rows × 10 columns</p>\n",
              "</div>"
            ],
            "text/plain": [
              "                  High         Low  ...  pday_Volume  pday_Close\n",
              "Date                                ...                         \n",
              "2015-01-02   47.939999   46.930000  ...          NaN         NaN\n",
              "2015-01-05   47.590000   46.799999  ...     477500.0   47.689999\n",
              "2015-01-06   49.549999   47.540001  ...     814100.0   47.240002\n",
              "2015-01-07   49.790001   48.439999  ...    1961000.0   48.610001\n",
              "2015-01-08   51.270000   49.680000  ...    1257700.0   49.720001\n",
              "...                ...         ...  ...          ...         ...\n",
              "2021-03-01  422.380005  413.029999  ...     662200.0  414.519989\n",
              "2021-03-02  429.559998  410.380005  ...     342900.0  420.029999\n",
              "2021-03-03  422.589996  409.429993  ...     726200.0  418.809998\n",
              "2021-03-04  414.869995  402.149994  ...     811200.0  409.720001\n",
              "2021-03-05  416.540009  400.010010  ...     789900.0  409.000000\n",
              "\n",
              "[1554 rows x 10 columns]"
            ]
          },
          "metadata": {
            "tags": []
          },
          "execution_count": 82
        }
      ]
    },
    {
      "cell_type": "code",
      "metadata": {
        "colab": {
          "base_uri": "https://localhost:8080/",
          "height": 431
        },
        "id": "EdBP9rbEeZ2e",
        "outputId": "bce5eaf8-2dc8-4dea-968e-f077e281e7c0"
      },
      "source": [
        "X = df.drop(['Close', 'Adj Close', 'High', 'Low', 'Volume'], axis=1).dropna()\r\n",
        "X"
      ],
      "execution_count": 84,
      "outputs": [
        {
          "output_type": "execute_result",
          "data": {
            "text/html": [
              "<div>\n",
              "<style scoped>\n",
              "    .dataframe tbody tr th:only-of-type {\n",
              "        vertical-align: middle;\n",
              "    }\n",
              "\n",
              "    .dataframe tbody tr th {\n",
              "        vertical-align: top;\n",
              "    }\n",
              "\n",
              "    .dataframe thead th {\n",
              "        text-align: right;\n",
              "    }\n",
              "</style>\n",
              "<table border=\"1\" class=\"dataframe\">\n",
              "  <thead>\n",
              "    <tr style=\"text-align: right;\">\n",
              "      <th></th>\n",
              "      <th>Open</th>\n",
              "      <th>pday_High</th>\n",
              "      <th>pday_Low</th>\n",
              "      <th>pday_Volume</th>\n",
              "      <th>pday_Close</th>\n",
              "    </tr>\n",
              "    <tr>\n",
              "      <th>Date</th>\n",
              "      <th></th>\n",
              "      <th></th>\n",
              "      <th></th>\n",
              "      <th></th>\n",
              "      <th></th>\n",
              "    </tr>\n",
              "  </thead>\n",
              "  <tbody>\n",
              "    <tr>\n",
              "      <th>2015-01-05</th>\n",
              "      <td>47.430000</td>\n",
              "      <td>47.939999</td>\n",
              "      <td>46.930000</td>\n",
              "      <td>477500.0</td>\n",
              "      <td>47.689999</td>\n",
              "    </tr>\n",
              "    <tr>\n",
              "      <th>2015-01-06</th>\n",
              "      <td>47.599998</td>\n",
              "      <td>47.590000</td>\n",
              "      <td>46.799999</td>\n",
              "      <td>814100.0</td>\n",
              "      <td>47.240002</td>\n",
              "    </tr>\n",
              "    <tr>\n",
              "      <th>2015-01-07</th>\n",
              "      <td>48.880001</td>\n",
              "      <td>49.549999</td>\n",
              "      <td>47.540001</td>\n",
              "      <td>1961000.0</td>\n",
              "      <td>48.610001</td>\n",
              "    </tr>\n",
              "    <tr>\n",
              "      <th>2015-01-08</th>\n",
              "      <td>50.060001</td>\n",
              "      <td>49.790001</td>\n",
              "      <td>48.439999</td>\n",
              "      <td>1257700.0</td>\n",
              "      <td>49.720001</td>\n",
              "    </tr>\n",
              "    <tr>\n",
              "      <th>2015-01-09</th>\n",
              "      <td>51.340000</td>\n",
              "      <td>51.270000</td>\n",
              "      <td>49.680000</td>\n",
              "      <td>1287600.0</td>\n",
              "      <td>51.220001</td>\n",
              "    </tr>\n",
              "    <tr>\n",
              "      <th>...</th>\n",
              "      <td>...</td>\n",
              "      <td>...</td>\n",
              "      <td>...</td>\n",
              "      <td>...</td>\n",
              "      <td>...</td>\n",
              "    </tr>\n",
              "    <tr>\n",
              "      <th>2021-03-01</th>\n",
              "      <td>418.089996</td>\n",
              "      <td>420.579987</td>\n",
              "      <td>409.440002</td>\n",
              "      <td>662200.0</td>\n",
              "      <td>414.519989</td>\n",
              "    </tr>\n",
              "    <tr>\n",
              "      <th>2021-03-02</th>\n",
              "      <td>420.000000</td>\n",
              "      <td>422.380005</td>\n",
              "      <td>413.029999</td>\n",
              "      <td>342900.0</td>\n",
              "      <td>420.029999</td>\n",
              "    </tr>\n",
              "    <tr>\n",
              "      <th>2021-03-03</th>\n",
              "      <td>416.410004</td>\n",
              "      <td>429.559998</td>\n",
              "      <td>410.380005</td>\n",
              "      <td>726200.0</td>\n",
              "      <td>418.809998</td>\n",
              "    </tr>\n",
              "    <tr>\n",
              "      <th>2021-03-04</th>\n",
              "      <td>407.399994</td>\n",
              "      <td>422.589996</td>\n",
              "      <td>409.429993</td>\n",
              "      <td>811200.0</td>\n",
              "      <td>409.720001</td>\n",
              "    </tr>\n",
              "    <tr>\n",
              "      <th>2021-03-05</th>\n",
              "      <td>411.859985</td>\n",
              "      <td>414.869995</td>\n",
              "      <td>402.149994</td>\n",
              "      <td>789900.0</td>\n",
              "      <td>409.000000</td>\n",
              "    </tr>\n",
              "  </tbody>\n",
              "</table>\n",
              "<p>1553 rows × 5 columns</p>\n",
              "</div>"
            ],
            "text/plain": [
              "                  Open   pday_High    pday_Low  pday_Volume  pday_Close\n",
              "Date                                                                   \n",
              "2015-01-05   47.430000   47.939999   46.930000     477500.0   47.689999\n",
              "2015-01-06   47.599998   47.590000   46.799999     814100.0   47.240002\n",
              "2015-01-07   48.880001   49.549999   47.540001    1961000.0   48.610001\n",
              "2015-01-08   50.060001   49.790001   48.439999    1257700.0   49.720001\n",
              "2015-01-09   51.340000   51.270000   49.680000    1287600.0   51.220001\n",
              "...                ...         ...         ...          ...         ...\n",
              "2021-03-01  418.089996  420.579987  409.440002     662200.0  414.519989\n",
              "2021-03-02  420.000000  422.380005  413.029999     342900.0  420.029999\n",
              "2021-03-03  416.410004  429.559998  410.380005     726200.0  418.809998\n",
              "2021-03-04  407.399994  422.589996  409.429993     811200.0  409.720001\n",
              "2021-03-05  411.859985  414.869995  402.149994     789900.0  409.000000\n",
              "\n",
              "[1553 rows x 5 columns]"
            ]
          },
          "metadata": {
            "tags": []
          },
          "execution_count": 84
        }
      ]
    },
    {
      "cell_type": "code",
      "metadata": {
        "colab": {
          "base_uri": "https://localhost:8080/"
        },
        "id": "Cgljh1m8UhES",
        "outputId": "ab3217d2-220c-4340-d7a0-80eb4d55bfbf"
      },
      "source": [
        "adjClose=df['Adj Close']\r\n",
        "price_increase=adjClose.diff()\r\n",
        "price_increase"
      ],
      "execution_count": 79,
      "outputs": [
        {
          "output_type": "execute_result",
          "data": {
            "text/plain": [
              "Date\n",
              "2015-01-02         NaN\n",
              "2015-01-05   -0.418709\n",
              "2015-01-06    1.274719\n",
              "2015-01-07    1.032795\n",
              "2015-01-08    1.395683\n",
              "                ...   \n",
              "2021-03-01    5.510010\n",
              "2021-03-02   -1.220001\n",
              "2021-03-03   -9.089996\n",
              "2021-03-04   -0.720001\n",
              "2021-03-05    5.720001\n",
              "Name: Adj Close, Length: 1554, dtype: float64"
            ]
          },
          "metadata": {
            "tags": []
          },
          "execution_count": 79
        }
      ]
    },
    {
      "cell_type": "code",
      "metadata": {
        "colab": {
          "base_uri": "https://localhost:8080/"
        },
        "id": "VOsVr2c7U8yi",
        "outputId": "e89926d2-353f-4ece-c211-f2671c5f8e90"
      },
      "source": [
        "price_increase[price_increase>0] = True\r\n",
        "price_increase[price_increase<=0] = False\r\n",
        "Y = price_increase.dropna()\r\n",
        "Y = Y.astype('int') # OMG, this won't take boolean!\r\n",
        "Y.describe()"
      ],
      "execution_count": 143,
      "outputs": [
        {
          "output_type": "execute_result",
          "data": {
            "text/plain": [
              "count    1553.000000\n",
              "mean        0.562138\n",
              "std         0.496284\n",
              "min         0.000000\n",
              "25%         0.000000\n",
              "50%         1.000000\n",
              "75%         1.000000\n",
              "max         1.000000\n",
              "Name: Adj Close, dtype: float64"
            ]
          },
          "metadata": {
            "tags": []
          },
          "execution_count": 143
        }
      ]
    },
    {
      "cell_type": "code",
      "metadata": {
        "colab": {
          "base_uri": "https://localhost:8080/"
        },
        "id": "Z-1LYfoZbrC5",
        "outputId": "9cb0d90f-1411-46c7-b5ba-79339304677f"
      },
      "source": [
        "# Mark the training data, we use 90% data for training, 10% of the data to verify results\r\n",
        "from sklearn.model_selection import train_test_split\r\n",
        "x_train, x_test, y_train, y_test = train_test_split(X, Y, test_size = 0.1 )\r\n",
        "print(x_train.shape, y_train.shape)\r\n",
        "type(y_train)"
      ],
      "execution_count": 144,
      "outputs": [
        {
          "output_type": "stream",
          "text": [
            "(1397, 5) (1397,)\n"
          ],
          "name": "stdout"
        },
        {
          "output_type": "execute_result",
          "data": {
            "text/plain": [
              "pandas.core.series.Series"
            ]
          },
          "metadata": {
            "tags": []
          },
          "execution_count": 144
        }
      ]
    },
    {
      "cell_type": "code",
      "metadata": {
        "colab": {
          "base_uri": "https://localhost:8080/"
        },
        "id": "vKSQoPqCg9Sq",
        "outputId": "28ecd5b3-320e-437c-df48-9dd8e4ab32f0"
      },
      "source": [
        "# train Logical Regression Model\r\n",
        "from sklearn.linear_model import LogisticRegression\r\n",
        "l_model = LogisticRegression(solver='liblinear').fit(x_train, y_train) # liblinear is for binary prediction/classification with small dataset\r\n",
        "\r\n",
        "print(\"LogisticRegression Training score is: \", l_model.score(x_train, y_train))"
      ],
      "execution_count": 151,
      "outputs": [
        {
          "output_type": "stream",
          "text": [
            "LogisticRegression Training score is:  0.5669291338582677\n"
          ],
          "name": "stdout"
        }
      ]
    },
    {
      "cell_type": "code",
      "metadata": {
        "colab": {
          "base_uri": "https://localhost:8080/",
          "height": 431
        },
        "id": "1SKawR3drcAz",
        "outputId": "1e767278-0974-4468-be89-4802c83288d1"
      },
      "source": [
        "# compare in the test dataset\r\n",
        "y_predicate = l_model.predict(x_test)\r\n",
        "pred_vs_actual = pd.DataFrame({'predicted': y_predicate, 'actual': y_test})\r\n",
        "pred_vs_actual"
      ],
      "execution_count": 157,
      "outputs": [
        {
          "output_type": "execute_result",
          "data": {
            "text/html": [
              "<div>\n",
              "<style scoped>\n",
              "    .dataframe tbody tr th:only-of-type {\n",
              "        vertical-align: middle;\n",
              "    }\n",
              "\n",
              "    .dataframe tbody tr th {\n",
              "        vertical-align: top;\n",
              "    }\n",
              "\n",
              "    .dataframe thead th {\n",
              "        text-align: right;\n",
              "    }\n",
              "</style>\n",
              "<table border=\"1\" class=\"dataframe\">\n",
              "  <thead>\n",
              "    <tr style=\"text-align: right;\">\n",
              "      <th></th>\n",
              "      <th>predicted</th>\n",
              "      <th>actual</th>\n",
              "    </tr>\n",
              "    <tr>\n",
              "      <th>Date</th>\n",
              "      <th></th>\n",
              "      <th></th>\n",
              "    </tr>\n",
              "  </thead>\n",
              "  <tbody>\n",
              "    <tr>\n",
              "      <th>2016-04-26</th>\n",
              "      <td>1</td>\n",
              "      <td>1</td>\n",
              "    </tr>\n",
              "    <tr>\n",
              "      <th>2021-02-04</th>\n",
              "      <td>1</td>\n",
              "      <td>1</td>\n",
              "    </tr>\n",
              "    <tr>\n",
              "      <th>2020-11-11</th>\n",
              "      <td>1</td>\n",
              "      <td>1</td>\n",
              "    </tr>\n",
              "    <tr>\n",
              "      <th>2020-05-26</th>\n",
              "      <td>1</td>\n",
              "      <td>0</td>\n",
              "    </tr>\n",
              "    <tr>\n",
              "      <th>2017-04-26</th>\n",
              "      <td>1</td>\n",
              "      <td>1</td>\n",
              "    </tr>\n",
              "    <tr>\n",
              "      <th>...</th>\n",
              "      <td>...</td>\n",
              "      <td>...</td>\n",
              "    </tr>\n",
              "    <tr>\n",
              "      <th>2016-08-30</th>\n",
              "      <td>1</td>\n",
              "      <td>1</td>\n",
              "    </tr>\n",
              "    <tr>\n",
              "      <th>2019-01-16</th>\n",
              "      <td>1</td>\n",
              "      <td>1</td>\n",
              "    </tr>\n",
              "    <tr>\n",
              "      <th>2020-01-29</th>\n",
              "      <td>1</td>\n",
              "      <td>1</td>\n",
              "    </tr>\n",
              "    <tr>\n",
              "      <th>2016-03-24</th>\n",
              "      <td>1</td>\n",
              "      <td>0</td>\n",
              "    </tr>\n",
              "    <tr>\n",
              "      <th>2019-03-05</th>\n",
              "      <td>1</td>\n",
              "      <td>1</td>\n",
              "    </tr>\n",
              "  </tbody>\n",
              "</table>\n",
              "<p>156 rows × 2 columns</p>\n",
              "</div>"
            ],
            "text/plain": [
              "            predicted  actual\n",
              "Date                         \n",
              "2016-04-26          1       1\n",
              "2021-02-04          1       1\n",
              "2020-11-11          1       1\n",
              "2020-05-26          1       0\n",
              "2017-04-26          1       1\n",
              "...               ...     ...\n",
              "2016-08-30          1       1\n",
              "2019-01-16          1       1\n",
              "2020-01-29          1       1\n",
              "2016-03-24          1       0\n",
              "2019-03-05          1       1\n",
              "\n",
              "[156 rows x 2 columns]"
            ]
          },
          "metadata": {
            "tags": []
          },
          "execution_count": 157
        }
      ]
    },
    {
      "cell_type": "code",
      "metadata": {
        "colab": {
          "base_uri": "https://localhost:8080/"
        },
        "id": "nO3dSbQ7sQ5Y",
        "outputId": "47f4c818-d641-4f1e-cb83-73aa72562110"
      },
      "source": [
        "from sklearn.metrics import accuracy_score\r\n",
        "print(\"Testing prediction and actual data correct ratio: \", accuracy_score(y_test, y_predicate))"
      ],
      "execution_count": 154,
      "outputs": [
        {
          "output_type": "stream",
          "text": [
            "Testing prediction and actual data correct ratio:  0.5192307692307693\n"
          ],
          "name": "stdout"
        }
      ]
    },
    {
      "cell_type": "code",
      "metadata": {
        "id": "BFg09Jd1tCQ1"
      },
      "source": [
        ""
      ],
      "execution_count": null,
      "outputs": []
    }
  ]
}
{
 "cells": [
  {
   "cell_type": "markdown",
   "metadata": {},
   "source": [
    "Single day fluctuation analysis"
   ]
  },
  {
   "cell_type": "code",
   "execution_count": 31,
   "metadata": {},
   "outputs": [],
   "source": [
    "# get data and look for intersect between s&p500 and nasdaq100\n",
    "import pandas as pd\n",
    "\n",
    "SP500wikipedia_page = \"https://en.wikipedia.org/wiki/List_of_S%26P_500_companies\"\n",
    "ndaq100_url = \"https://en.wikipedia.org/wiki/Nasdaq-100#External_links\"\n",
    "sp500 = pd.read_html(SP500wikipedia_page)\n",
    "nasdaq100 = pd.read_html(ndaq100_url)\n",
    "df_sp500 = sp500[0]\n",
    "df_nasdaq100 = nasdaq100[3]"
   ]
  },
  {
   "cell_type": "code",
   "execution_count": 32,
   "metadata": {},
   "outputs": [],
   "source": [
    "intersct = list(set(df_sp500['Symbol']) & set(df_nasdaq100['Ticker']))"
   ]
  },
  {
   "cell_type": "code",
   "execution_count": 33,
   "metadata": {},
   "outputs": [
    {
     "data": {
      "text/html": [
       "<div>\n",
       "<style scoped>\n",
       "    .dataframe tbody tr th:only-of-type {\n",
       "        vertical-align: middle;\n",
       "    }\n",
       "\n",
       "    .dataframe tbody tr th {\n",
       "        vertical-align: top;\n",
       "    }\n",
       "\n",
       "    .dataframe thead th {\n",
       "        text-align: right;\n",
       "    }\n",
       "</style>\n",
       "<table border=\"1\" class=\"dataframe\">\n",
       "  <thead>\n",
       "    <tr style=\"text-align: right;\">\n",
       "      <th></th>\n",
       "      <th>Symbol</th>\n",
       "      <th>Security</th>\n",
       "      <th>SEC filings</th>\n",
       "      <th>GICS Sector</th>\n",
       "      <th>GICS Sub-Industry</th>\n",
       "      <th>Headquarters Location</th>\n",
       "      <th>Date first added</th>\n",
       "      <th>CIK</th>\n",
       "      <th>Founded</th>\n",
       "    </tr>\n",
       "  </thead>\n",
       "  <tbody>\n",
       "    <tr>\n",
       "      <th>6</th>\n",
       "      <td>ATVI</td>\n",
       "      <td>Activision Blizzard</td>\n",
       "      <td>reports</td>\n",
       "      <td>Communication Services</td>\n",
       "      <td>Interactive Home Entertainment</td>\n",
       "      <td>Santa Monica, California</td>\n",
       "      <td>2015-08-31</td>\n",
       "      <td>718877</td>\n",
       "      <td>2008</td>\n",
       "    </tr>\n",
       "    <tr>\n",
       "      <th>8</th>\n",
       "      <td>ADBE</td>\n",
       "      <td>Adobe</td>\n",
       "      <td>reports</td>\n",
       "      <td>Information Technology</td>\n",
       "      <td>Application Software</td>\n",
       "      <td>San Jose, California</td>\n",
       "      <td>1997-05-05</td>\n",
       "      <td>796343</td>\n",
       "      <td>1982</td>\n",
       "    </tr>\n",
       "    <tr>\n",
       "      <th>9</th>\n",
       "      <td>ADP</td>\n",
       "      <td>ADP</td>\n",
       "      <td>reports</td>\n",
       "      <td>Information Technology</td>\n",
       "      <td>Data Processing &amp; Outsourced Services</td>\n",
       "      <td>Roseland, New Jersey</td>\n",
       "      <td>1981-03-31</td>\n",
       "      <td>8670</td>\n",
       "      <td>1949</td>\n",
       "    </tr>\n",
       "    <tr>\n",
       "      <th>20</th>\n",
       "      <td>ALGN</td>\n",
       "      <td>Align</td>\n",
       "      <td>reports</td>\n",
       "      <td>Health Care</td>\n",
       "      <td>Health Care Supplies</td>\n",
       "      <td>San Jose, California</td>\n",
       "      <td>2017-06-19</td>\n",
       "      <td>1097149</td>\n",
       "      <td>1997</td>\n",
       "    </tr>\n",
       "    <tr>\n",
       "      <th>24</th>\n",
       "      <td>GOOGL</td>\n",
       "      <td>Alphabet (Class A)</td>\n",
       "      <td>reports</td>\n",
       "      <td>Communication Services</td>\n",
       "      <td>Interactive Media &amp; Services</td>\n",
       "      <td>Mountain View, California</td>\n",
       "      <td>2014-04-03</td>\n",
       "      <td>1652044</td>\n",
       "      <td>1998</td>\n",
       "    </tr>\n",
       "    <tr>\n",
       "      <th>...</th>\n",
       "      <td>...</td>\n",
       "      <td>...</td>\n",
       "      <td>...</td>\n",
       "      <td>...</td>\n",
       "      <td>...</td>\n",
       "      <td>...</td>\n",
       "      <td>...</td>\n",
       "      <td>...</td>\n",
       "      <td>...</td>\n",
       "    </tr>\n",
       "    <tr>\n",
       "      <th>473</th>\n",
       "      <td>VRSN</td>\n",
       "      <td>Verisign</td>\n",
       "      <td>reports</td>\n",
       "      <td>Information Technology</td>\n",
       "      <td>Internet Services &amp; Infrastructure</td>\n",
       "      <td>Dulles, Virginia</td>\n",
       "      <td>2006-02-01</td>\n",
       "      <td>1014473</td>\n",
       "      <td>1995</td>\n",
       "    </tr>\n",
       "    <tr>\n",
       "      <th>474</th>\n",
       "      <td>VRSK</td>\n",
       "      <td>Verisk</td>\n",
       "      <td>reports</td>\n",
       "      <td>Industrials</td>\n",
       "      <td>Research &amp; Consulting Services</td>\n",
       "      <td>Jersey City, New Jersey</td>\n",
       "      <td>2015-10-08</td>\n",
       "      <td>1442145</td>\n",
       "      <td>1971</td>\n",
       "    </tr>\n",
       "    <tr>\n",
       "      <th>476</th>\n",
       "      <td>VRTX</td>\n",
       "      <td>Vertex</td>\n",
       "      <td>reports</td>\n",
       "      <td>Health Care</td>\n",
       "      <td>Biotechnology</td>\n",
       "      <td>Cambridge, Massachusetts</td>\n",
       "      <td>2013-09-23</td>\n",
       "      <td>875320</td>\n",
       "      <td>1989</td>\n",
       "    </tr>\n",
       "    <tr>\n",
       "      <th>484</th>\n",
       "      <td>WBA</td>\n",
       "      <td>Walgreens Boots Alliance</td>\n",
       "      <td>reports</td>\n",
       "      <td>Consumer Staples</td>\n",
       "      <td>Drug Retail</td>\n",
       "      <td>Deerfield, Illinois</td>\n",
       "      <td>1979-12-31</td>\n",
       "      <td>1618921</td>\n",
       "      <td>2014</td>\n",
       "    </tr>\n",
       "    <tr>\n",
       "      <th>498</th>\n",
       "      <td>XEL</td>\n",
       "      <td>Xcel Energy</td>\n",
       "      <td>reports</td>\n",
       "      <td>Utilities</td>\n",
       "      <td>Multi-Utilities</td>\n",
       "      <td>Minneapolis, Minnesota</td>\n",
       "      <td>1957-03-04</td>\n",
       "      <td>72903</td>\n",
       "      <td>1909</td>\n",
       "    </tr>\n",
       "  </tbody>\n",
       "</table>\n",
       "<p>78 rows × 9 columns</p>\n",
       "</div>"
      ],
      "text/plain": [
       "    Symbol                  Security SEC filings             GICS Sector  \\\n",
       "6     ATVI       Activision Blizzard     reports  Communication Services   \n",
       "8     ADBE                     Adobe     reports  Information Technology   \n",
       "9      ADP                       ADP     reports  Information Technology   \n",
       "20    ALGN                     Align     reports             Health Care   \n",
       "24   GOOGL        Alphabet (Class A)     reports  Communication Services   \n",
       "..     ...                       ...         ...                     ...   \n",
       "473   VRSN                  Verisign     reports  Information Technology   \n",
       "474   VRSK                    Verisk     reports             Industrials   \n",
       "476   VRTX                    Vertex     reports             Health Care   \n",
       "484    WBA  Walgreens Boots Alliance     reports        Consumer Staples   \n",
       "498    XEL               Xcel Energy     reports               Utilities   \n",
       "\n",
       "                         GICS Sub-Industry      Headquarters Location  \\\n",
       "6           Interactive Home Entertainment   Santa Monica, California   \n",
       "8                     Application Software       San Jose, California   \n",
       "9    Data Processing & Outsourced Services       Roseland, New Jersey   \n",
       "20                    Health Care Supplies       San Jose, California   \n",
       "24            Interactive Media & Services  Mountain View, California   \n",
       "..                                     ...                        ...   \n",
       "473     Internet Services & Infrastructure           Dulles, Virginia   \n",
       "474         Research & Consulting Services    Jersey City, New Jersey   \n",
       "476                          Biotechnology   Cambridge, Massachusetts   \n",
       "484                            Drug Retail        Deerfield, Illinois   \n",
       "498                        Multi-Utilities     Minneapolis, Minnesota   \n",
       "\n",
       "    Date first added      CIK Founded  \n",
       "6         2015-08-31   718877    2008  \n",
       "8         1997-05-05   796343    1982  \n",
       "9         1981-03-31     8670    1949  \n",
       "20        2017-06-19  1097149    1997  \n",
       "24        2014-04-03  1652044    1998  \n",
       "..               ...      ...     ...  \n",
       "473       2006-02-01  1014473    1995  \n",
       "474       2015-10-08  1442145    1971  \n",
       "476       2013-09-23   875320    1989  \n",
       "484       1979-12-31  1618921    2014  \n",
       "498       1957-03-04    72903    1909  \n",
       "\n",
       "[78 rows x 9 columns]"
      ]
     },
     "execution_count": 33,
     "metadata": {},
     "output_type": "execute_result"
    }
   ],
   "source": [
    "# filter down data frame \n",
    "bool_sp500 = df_sp500.Symbol.isin(intersct)\n",
    "intersected_sp500 = df_sp500[bool_sp500]\n",
    "intersected_sp500"
   ]
  },
  {
   "cell_type": "code",
   "execution_count": 34,
   "metadata": {},
   "outputs": [
    {
     "data": {
      "text/html": [
       "<div>\n",
       "<style scoped>\n",
       "    .dataframe tbody tr th:only-of-type {\n",
       "        vertical-align: middle;\n",
       "    }\n",
       "\n",
       "    .dataframe tbody tr th {\n",
       "        vertical-align: top;\n",
       "    }\n",
       "\n",
       "    .dataframe thead th {\n",
       "        text-align: right;\n",
       "    }\n",
       "</style>\n",
       "<table border=\"1\" class=\"dataframe\">\n",
       "  <thead>\n",
       "    <tr style=\"text-align: right;\">\n",
       "      <th></th>\n",
       "      <th>Company</th>\n",
       "      <th>Ticker</th>\n",
       "      <th>GICS Sector</th>\n",
       "      <th>GICS Sub-Industry</th>\n",
       "    </tr>\n",
       "  </thead>\n",
       "  <tbody>\n",
       "    <tr>\n",
       "      <th>0</th>\n",
       "      <td>Activision Blizzard</td>\n",
       "      <td>ATVI</td>\n",
       "      <td>Communication Services</td>\n",
       "      <td>Interactive Home Entertainment</td>\n",
       "    </tr>\n",
       "    <tr>\n",
       "      <th>1</th>\n",
       "      <td>Adobe</td>\n",
       "      <td>ADBE</td>\n",
       "      <td>Information Technology</td>\n",
       "      <td>Application Software</td>\n",
       "    </tr>\n",
       "    <tr>\n",
       "      <th>2</th>\n",
       "      <td>ADP</td>\n",
       "      <td>ADP</td>\n",
       "      <td>Information Technology</td>\n",
       "      <td>Data Processing &amp; Outsourced Services</td>\n",
       "    </tr>\n",
       "    <tr>\n",
       "      <th>4</th>\n",
       "      <td>Align</td>\n",
       "      <td>ALGN</td>\n",
       "      <td>Health Care</td>\n",
       "      <td>Health Care Supplies</td>\n",
       "    </tr>\n",
       "    <tr>\n",
       "      <th>5</th>\n",
       "      <td>Alphabet (Class A)</td>\n",
       "      <td>GOOGL</td>\n",
       "      <td>Communication Services</td>\n",
       "      <td>Interactive Media &amp; Services</td>\n",
       "    </tr>\n",
       "    <tr>\n",
       "      <th>...</th>\n",
       "      <td>...</td>\n",
       "      <td>...</td>\n",
       "      <td>...</td>\n",
       "      <td>...</td>\n",
       "    </tr>\n",
       "    <tr>\n",
       "      <th>94</th>\n",
       "      <td>Verisign</td>\n",
       "      <td>VRSN</td>\n",
       "      <td>Information Technology</td>\n",
       "      <td>Internet Services &amp; Infrastructure</td>\n",
       "    </tr>\n",
       "    <tr>\n",
       "      <th>95</th>\n",
       "      <td>Verisk</td>\n",
       "      <td>VRSK</td>\n",
       "      <td>Industrials</td>\n",
       "      <td>Research &amp; Consulting Services</td>\n",
       "    </tr>\n",
       "    <tr>\n",
       "      <th>96</th>\n",
       "      <td>Vertex</td>\n",
       "      <td>VRTX</td>\n",
       "      <td>Health Care</td>\n",
       "      <td>Biotechnology</td>\n",
       "    </tr>\n",
       "    <tr>\n",
       "      <th>97</th>\n",
       "      <td>Walgreens Boots Alliance</td>\n",
       "      <td>WBA</td>\n",
       "      <td>Consumer Staples</td>\n",
       "      <td>Drug Retail</td>\n",
       "    </tr>\n",
       "    <tr>\n",
       "      <th>99</th>\n",
       "      <td>Xcel Energy</td>\n",
       "      <td>XEL</td>\n",
       "      <td>Utilities</td>\n",
       "      <td>Multi-Utilities</td>\n",
       "    </tr>\n",
       "  </tbody>\n",
       "</table>\n",
       "<p>78 rows × 4 columns</p>\n",
       "</div>"
      ],
      "text/plain": [
       "                     Company Ticker             GICS Sector  \\\n",
       "0        Activision Blizzard   ATVI  Communication Services   \n",
       "1                      Adobe   ADBE  Information Technology   \n",
       "2                        ADP    ADP  Information Technology   \n",
       "4                      Align   ALGN             Health Care   \n",
       "5         Alphabet (Class A)  GOOGL  Communication Services   \n",
       "..                       ...    ...                     ...   \n",
       "94                  Verisign   VRSN  Information Technology   \n",
       "95                    Verisk   VRSK             Industrials   \n",
       "96                    Vertex   VRTX             Health Care   \n",
       "97  Walgreens Boots Alliance    WBA        Consumer Staples   \n",
       "99               Xcel Energy    XEL               Utilities   \n",
       "\n",
       "                        GICS Sub-Industry  \n",
       "0          Interactive Home Entertainment  \n",
       "1                    Application Software  \n",
       "2   Data Processing & Outsourced Services  \n",
       "4                    Health Care Supplies  \n",
       "5            Interactive Media & Services  \n",
       "..                                    ...  \n",
       "94     Internet Services & Infrastructure  \n",
       "95         Research & Consulting Services  \n",
       "96                          Biotechnology  \n",
       "97                            Drug Retail  \n",
       "99                        Multi-Utilities  \n",
       "\n",
       "[78 rows x 4 columns]"
      ]
     },
     "execution_count": 34,
     "metadata": {},
     "output_type": "execute_result"
    }
   ],
   "source": [
    "# filter down data frame \n",
    "bool_ndaq100 = df_nasdaq100.Ticker.isin(intersct)\n",
    "intersected_ndaq100 = df_nasdaq100[bool_ndaq100]\n",
    "intersected_ndaq100"
   ]
  },
  {
   "cell_type": "code",
   "execution_count": 35,
   "metadata": {},
   "outputs": [
    {
     "name": "stdout",
     "output_type": "stream",
     "text": [
      "0.578816\n"
     ]
    }
   ],
   "source": [
    "from yahooquery import Ticker\n",
    "\n",
    "aapl = Ticker('ATVI')\n",
    "print(aapl.key_stats['ATVI']['beta'])"
   ]
  },
  {
   "cell_type": "code",
   "execution_count": 36,
   "metadata": {},
   "outputs": [
    {
     "data": {
      "text/plain": [
       "dict_keys(['maxAge', 'priceHint', 'enterpriseValue', 'forwardPE', 'profitMargins', 'floatShares', 'sharesOutstanding', 'sharesShort', 'sharesShortPriorMonth', 'sharesShortPreviousMonthDate', 'dateShortInterest', 'sharesPercentSharesOut', 'heldPercentInsiders', 'heldPercentInstitutions', 'shortRatio', 'shortPercentOfFloat', 'beta', 'impliedSharesOutstanding', 'category', 'bookValue', 'priceToBook', 'fundFamily', 'legalType', 'lastFiscalYearEnd', 'nextFiscalYearEnd', 'mostRecentQuarter', 'earningsQuarterlyGrowth', 'netIncomeToCommon', 'trailingEps', 'forwardEps', 'pegRatio', 'lastSplitFactor', 'lastSplitDate', 'enterpriseToRevenue', 'enterpriseToEbitda', '52WeekChange', 'SandP52WeekChange', 'lastDividendValue', 'lastDividendDate'])"
      ]
     },
     "execution_count": 36,
     "metadata": {},
     "output_type": "execute_result"
    }
   ],
   "source": [
    "Tickers = Ticker(intersct, asynchronous=True).key_stats\n",
    "Tickers['ADSK'].keys() #list dictionary keys"
   ]
  },
  {
   "cell_type": "code",
   "execution_count": 37,
   "metadata": {},
   "outputs": [
    {
     "name": "stdout",
     "output_type": "stream",
     "text": [
      "NXPI beta is  1.398806\n",
      "MSFT beta is  0.888612\n",
      "WBA beta is  0.552461\n",
      "PCAR beta is  0.938836\n",
      "FB beta is  1.28543\n",
      "CEG doesn't have beta in yahoo\n",
      "SNPS beta is  1.192938\n",
      "CTSH beta is  1.138736\n",
      "SWKS beta is  1.098458\n",
      "XEL beta is  0.354052\n",
      "MDLZ beta is  0.717056\n",
      "HON beta is  1.143212\n",
      "PEP beta is  0.647936\n",
      "CMCSA beta is  0.918448\n",
      "VRSN beta is  0.911486\n",
      "AAPL beta is  1.187468\n",
      "VRSK beta is  0.813028\n",
      "MCHP beta is  1.550969\n",
      "REGN beta is  0.193436\n",
      "EA beta is  0.838886\n",
      "CTAS beta is  1.487817\n",
      "TSLA beta is  2.006464\n",
      "ODFL beta is  1.079065\n",
      "ADBE beta is  1.01442\n",
      "CDNS beta is  1.154152\n",
      "NVDA beta is  1.383888\n",
      "AMD beta is  1.950273\n",
      "CHTR beta is  0.96718\n",
      "VRTX beta is  0.560914\n",
      "NFLX beta is  0.957732\n",
      "CSX beta is  1.231725\n",
      "KLAC beta is  1.228244\n",
      "PAYX beta is  0.974639\n",
      "INTU beta is  1.08901\n",
      "FAST beta is  1.254102\n",
      "FISV beta is  0.803083\n",
      "IDXX beta is  1.054699\n",
      "AMZN beta is  1.126802\n",
      "MNST beta is  1.137245\n",
      "ANSS beta is  1.287419\n",
      "PYPL beta is  1.17802\n",
      "DXCM beta is  0.860765\n",
      "TMUS beta is  0.551466\n",
      "FTNT beta is  1.23073\n",
      "SBUX beta is  0.886623\n",
      "BIIB beta is  0.436598\n",
      "AMGN beta is  0.616111\n",
      "GOOG beta is  1.069617\n",
      "ILMN beta is  0.910492\n",
      "COST beta is  0.684236\n",
      "GOOGL beta is  1.069617\n",
      "BKNG beta is  1.193436\n",
      "CPRT beta is  1.113873\n",
      "LRCX beta is  1.245151\n",
      "AVGO beta is  1.031327\n",
      "TXN beta is  0.918448\n",
      "EBAY beta is  1.139234\n",
      "DLTR beta is  0.762804\n",
      "INTC beta is  0.535554\n",
      "MRNA beta is  1.484572\n",
      "ISRG beta is  1.18896\n",
      "AEP beta is  0.346096\n",
      "KHC beta is  1.044256\n",
      "AMAT beta is  1.412729\n",
      "ADSK beta is  1.432123\n",
      "ORLY beta is  1.026852\n",
      "CSCO beta is  0.982098\n",
      "ADI beta is  1.112879\n",
      "ALGN beta is  1.673296\n",
      "ATVI beta is  0.578816\n",
      "ROST beta is  1.074092\n",
      "QCOM beta is  1.261064\n",
      "MAR beta is  1.722028\n",
      "MTCH doesn't have beta in yahoo\n",
      "GILD beta is  0.379413\n",
      "EXC doesn't have beta in yahoo\n",
      "ADP beta is  0.834908\n",
      "MU beta is  1.187966\n"
     ]
    }
   ],
   "source": [
    "beta = []\n",
    "\n",
    "for i in intersct:\n",
    "    try:\n",
    "        betar = Tickers[i]['beta']\n",
    "        print(f\"{i} beta is \", betar)\n",
    "        beta.append(betar)\n",
    "    except KeyError:\n",
    "        print(f\"{i} doesn't have beta in yahoo\")\n",
    "        beta.append(-1)\n",
    "        continue"
   ]
  },
  {
   "cell_type": "code",
   "execution_count": 38,
   "metadata": {},
   "outputs": [
    {
     "data": {
      "text/html": [
       "<div>\n",
       "<style scoped>\n",
       "    .dataframe tbody tr th:only-of-type {\n",
       "        vertical-align: middle;\n",
       "    }\n",
       "\n",
       "    .dataframe tbody tr th {\n",
       "        vertical-align: top;\n",
       "    }\n",
       "\n",
       "    .dataframe thead th {\n",
       "        text-align: right;\n",
       "    }\n",
       "</style>\n",
       "<table border=\"1\" class=\"dataframe\">\n",
       "  <thead>\n",
       "    <tr style=\"text-align: right;\">\n",
       "      <th></th>\n",
       "      <th>sym</th>\n",
       "      <th>beta</th>\n",
       "    </tr>\n",
       "  </thead>\n",
       "  <tbody>\n",
       "    <tr>\n",
       "      <th>0</th>\n",
       "      <td>NXPI</td>\n",
       "      <td>1.398806</td>\n",
       "    </tr>\n",
       "    <tr>\n",
       "      <th>1</th>\n",
       "      <td>MSFT</td>\n",
       "      <td>0.888612</td>\n",
       "    </tr>\n",
       "    <tr>\n",
       "      <th>2</th>\n",
       "      <td>WBA</td>\n",
       "      <td>0.552461</td>\n",
       "    </tr>\n",
       "    <tr>\n",
       "      <th>3</th>\n",
       "      <td>PCAR</td>\n",
       "      <td>0.938836</td>\n",
       "    </tr>\n",
       "    <tr>\n",
       "      <th>4</th>\n",
       "      <td>FB</td>\n",
       "      <td>1.285430</td>\n",
       "    </tr>\n",
       "    <tr>\n",
       "      <th>...</th>\n",
       "      <td>...</td>\n",
       "      <td>...</td>\n",
       "    </tr>\n",
       "    <tr>\n",
       "      <th>73</th>\n",
       "      <td>MTCH</td>\n",
       "      <td>-1.000000</td>\n",
       "    </tr>\n",
       "    <tr>\n",
       "      <th>74</th>\n",
       "      <td>GILD</td>\n",
       "      <td>0.379413</td>\n",
       "    </tr>\n",
       "    <tr>\n",
       "      <th>75</th>\n",
       "      <td>EXC</td>\n",
       "      <td>-1.000000</td>\n",
       "    </tr>\n",
       "    <tr>\n",
       "      <th>76</th>\n",
       "      <td>ADP</td>\n",
       "      <td>0.834908</td>\n",
       "    </tr>\n",
       "    <tr>\n",
       "      <th>77</th>\n",
       "      <td>MU</td>\n",
       "      <td>1.187966</td>\n",
       "    </tr>\n",
       "  </tbody>\n",
       "</table>\n",
       "<p>78 rows × 2 columns</p>\n",
       "</div>"
      ],
      "text/plain": [
       "     sym      beta\n",
       "0   NXPI  1.398806\n",
       "1   MSFT  0.888612\n",
       "2    WBA  0.552461\n",
       "3   PCAR  0.938836\n",
       "4     FB  1.285430\n",
       "..   ...       ...\n",
       "73  MTCH -1.000000\n",
       "74  GILD  0.379413\n",
       "75   EXC -1.000000\n",
       "76   ADP  0.834908\n",
       "77    MU  1.187966\n",
       "\n",
       "[78 rows x 2 columns]"
      ]
     },
     "execution_count": 38,
     "metadata": {},
     "output_type": "execute_result"
    }
   ],
   "source": [
    "df_beta = pd.DataFrame()\n",
    "df_beta['sym'] = intersct\n",
    "df_beta['beta'] = beta\n",
    "df_beta"
   ]
  },
  {
   "cell_type": "markdown",
   "metadata": {},
   "source": [
    "Getting daily PCT change = H-L / H"
   ]
  },
  {
   "cell_type": "code",
   "execution_count": 39,
   "metadata": {},
   "outputs": [
    {
     "data": {
      "text/html": [
       "<div>\n",
       "<style scoped>\n",
       "    .dataframe tbody tr th:only-of-type {\n",
       "        vertical-align: middle;\n",
       "    }\n",
       "\n",
       "    .dataframe tbody tr th {\n",
       "        vertical-align: top;\n",
       "    }\n",
       "\n",
       "    .dataframe thead th {\n",
       "        text-align: right;\n",
       "    }\n",
       "</style>\n",
       "<table border=\"1\" class=\"dataframe\">\n",
       "  <thead>\n",
       "    <tr style=\"text-align: right;\">\n",
       "      <th></th>\n",
       "      <th>Open</th>\n",
       "      <th>High</th>\n",
       "      <th>Low</th>\n",
       "      <th>Close</th>\n",
       "      <th>Volume</th>\n",
       "    </tr>\n",
       "    <tr>\n",
       "      <th>Date</th>\n",
       "      <th></th>\n",
       "      <th></th>\n",
       "      <th></th>\n",
       "      <th></th>\n",
       "      <th></th>\n",
       "    </tr>\n",
       "  </thead>\n",
       "  <tbody>\n",
       "    <tr>\n",
       "      <th>2022-02-25</th>\n",
       "      <td>163.840</td>\n",
       "      <td>165.1200</td>\n",
       "      <td>160.8738</td>\n",
       "      <td>164.850</td>\n",
       "      <td>91974222</td>\n",
       "    </tr>\n",
       "    <tr>\n",
       "      <th>2022-02-24</th>\n",
       "      <td>152.580</td>\n",
       "      <td>162.8500</td>\n",
       "      <td>152.0000</td>\n",
       "      <td>162.740</td>\n",
       "      <td>141147540</td>\n",
       "    </tr>\n",
       "    <tr>\n",
       "      <th>2022-02-23</th>\n",
       "      <td>165.540</td>\n",
       "      <td>166.1500</td>\n",
       "      <td>159.7500</td>\n",
       "      <td>160.070</td>\n",
       "      <td>90009247</td>\n",
       "    </tr>\n",
       "    <tr>\n",
       "      <th>2022-02-22</th>\n",
       "      <td>164.980</td>\n",
       "      <td>166.6900</td>\n",
       "      <td>162.1500</td>\n",
       "      <td>164.320</td>\n",
       "      <td>91162758</td>\n",
       "    </tr>\n",
       "    <tr>\n",
       "      <th>2022-02-18</th>\n",
       "      <td>169.820</td>\n",
       "      <td>170.5413</td>\n",
       "      <td>166.1900</td>\n",
       "      <td>167.300</td>\n",
       "      <td>82772674</td>\n",
       "    </tr>\n",
       "    <tr>\n",
       "      <th>...</th>\n",
       "      <td>...</td>\n",
       "      <td>...</td>\n",
       "      <td>...</td>\n",
       "      <td>...</td>\n",
       "      <td>...</td>\n",
       "    </tr>\n",
       "    <tr>\n",
       "      <th>2017-03-07</th>\n",
       "      <td>32.863</td>\n",
       "      <td>33.0810</td>\n",
       "      <td>32.7990</td>\n",
       "      <td>32.975</td>\n",
       "      <td>70607425</td>\n",
       "    </tr>\n",
       "    <tr>\n",
       "      <th>2017-03-06</th>\n",
       "      <td>32.936</td>\n",
       "      <td>33.0370</td>\n",
       "      <td>32.7530</td>\n",
       "      <td>32.931</td>\n",
       "      <td>80156960</td>\n",
       "    </tr>\n",
       "    <tr>\n",
       "      <th>2017-03-03</th>\n",
       "      <td>32.796</td>\n",
       "      <td>33.0490</td>\n",
       "      <td>32.7530</td>\n",
       "      <td>33.039</td>\n",
       "      <td>84540010</td>\n",
       "    </tr>\n",
       "    <tr>\n",
       "      <th>2017-03-02</th>\n",
       "      <td>33.087</td>\n",
       "      <td>33.1560</td>\n",
       "      <td>32.7910</td>\n",
       "      <td>32.839</td>\n",
       "      <td>108183339</td>\n",
       "    </tr>\n",
       "    <tr>\n",
       "      <th>2017-03-01</th>\n",
       "      <td>32.589</td>\n",
       "      <td>33.1240</td>\n",
       "      <td>32.5190</td>\n",
       "      <td>33.041</td>\n",
       "      <td>148093202</td>\n",
       "    </tr>\n",
       "  </tbody>\n",
       "</table>\n",
       "<p>1258 rows × 5 columns</p>\n",
       "</div>"
      ],
      "text/plain": [
       "               Open      High       Low    Close     Volume\n",
       "Date                                                       \n",
       "2022-02-25  163.840  165.1200  160.8738  164.850   91974222\n",
       "2022-02-24  152.580  162.8500  152.0000  162.740  141147540\n",
       "2022-02-23  165.540  166.1500  159.7500  160.070   90009247\n",
       "2022-02-22  164.980  166.6900  162.1500  164.320   91162758\n",
       "2022-02-18  169.820  170.5413  166.1900  167.300   82772674\n",
       "...             ...       ...       ...      ...        ...\n",
       "2017-03-07   32.863   33.0810   32.7990   32.975   70607425\n",
       "2017-03-06   32.936   33.0370   32.7530   32.931   80156960\n",
       "2017-03-03   32.796   33.0490   32.7530   33.039   84540010\n",
       "2017-03-02   33.087   33.1560   32.7910   32.839  108183339\n",
       "2017-03-01   32.589   33.1240   32.5190   33.041  148093202\n",
       "\n",
       "[1258 rows x 5 columns]"
      ]
     },
     "execution_count": 39,
     "metadata": {},
     "output_type": "execute_result"
    }
   ],
   "source": [
    "import pandas_datareader as web\n",
    "aapl = web.DataReader(\"AAPL\",\"stooq\")\n",
    "aapl"
   ]
  },
  {
   "cell_type": "code",
   "execution_count": 40,
   "metadata": {},
   "outputs": [
    {
     "data": {
      "text/html": [
       "<div>\n",
       "<style scoped>\n",
       "    .dataframe tbody tr th:only-of-type {\n",
       "        vertical-align: middle;\n",
       "    }\n",
       "\n",
       "    .dataframe tbody tr th {\n",
       "        vertical-align: top;\n",
       "    }\n",
       "\n",
       "    .dataframe thead th {\n",
       "        text-align: right;\n",
       "    }\n",
       "</style>\n",
       "<table border=\"1\" class=\"dataframe\">\n",
       "  <thead>\n",
       "    <tr style=\"text-align: right;\">\n",
       "      <th></th>\n",
       "      <th>Open</th>\n",
       "      <th>High</th>\n",
       "      <th>Low</th>\n",
       "      <th>Close</th>\n",
       "      <th>Volume</th>\n",
       "      <th>daily_change_pct</th>\n",
       "    </tr>\n",
       "    <tr>\n",
       "      <th>Date</th>\n",
       "      <th></th>\n",
       "      <th></th>\n",
       "      <th></th>\n",
       "      <th></th>\n",
       "      <th></th>\n",
       "      <th></th>\n",
       "    </tr>\n",
       "  </thead>\n",
       "  <tbody>\n",
       "    <tr>\n",
       "      <th>2022-02-25</th>\n",
       "      <td>163.840</td>\n",
       "      <td>165.1200</td>\n",
       "      <td>160.8738</td>\n",
       "      <td>164.850</td>\n",
       "      <td>91974222</td>\n",
       "      <td>2.571584</td>\n",
       "    </tr>\n",
       "    <tr>\n",
       "      <th>2022-02-24</th>\n",
       "      <td>152.580</td>\n",
       "      <td>162.8500</td>\n",
       "      <td>152.0000</td>\n",
       "      <td>162.740</td>\n",
       "      <td>141147540</td>\n",
       "      <td>6.662573</td>\n",
       "    </tr>\n",
       "    <tr>\n",
       "      <th>2022-02-23</th>\n",
       "      <td>165.540</td>\n",
       "      <td>166.1500</td>\n",
       "      <td>159.7500</td>\n",
       "      <td>160.070</td>\n",
       "      <td>90009247</td>\n",
       "      <td>3.851941</td>\n",
       "    </tr>\n",
       "    <tr>\n",
       "      <th>2022-02-22</th>\n",
       "      <td>164.980</td>\n",
       "      <td>166.6900</td>\n",
       "      <td>162.1500</td>\n",
       "      <td>164.320</td>\n",
       "      <td>91162758</td>\n",
       "      <td>2.723619</td>\n",
       "    </tr>\n",
       "    <tr>\n",
       "      <th>2022-02-18</th>\n",
       "      <td>169.820</td>\n",
       "      <td>170.5413</td>\n",
       "      <td>166.1900</td>\n",
       "      <td>167.300</td>\n",
       "      <td>82772674</td>\n",
       "      <td>2.551464</td>\n",
       "    </tr>\n",
       "    <tr>\n",
       "      <th>...</th>\n",
       "      <td>...</td>\n",
       "      <td>...</td>\n",
       "      <td>...</td>\n",
       "      <td>...</td>\n",
       "      <td>...</td>\n",
       "      <td>...</td>\n",
       "    </tr>\n",
       "    <tr>\n",
       "      <th>2017-03-07</th>\n",
       "      <td>32.863</td>\n",
       "      <td>33.0810</td>\n",
       "      <td>32.7990</td>\n",
       "      <td>32.975</td>\n",
       "      <td>70607425</td>\n",
       "      <td>0.852453</td>\n",
       "    </tr>\n",
       "    <tr>\n",
       "      <th>2017-03-06</th>\n",
       "      <td>32.936</td>\n",
       "      <td>33.0370</td>\n",
       "      <td>32.7530</td>\n",
       "      <td>32.931</td>\n",
       "      <td>80156960</td>\n",
       "      <td>0.859642</td>\n",
       "    </tr>\n",
       "    <tr>\n",
       "      <th>2017-03-03</th>\n",
       "      <td>32.796</td>\n",
       "      <td>33.0490</td>\n",
       "      <td>32.7530</td>\n",
       "      <td>33.039</td>\n",
       "      <td>84540010</td>\n",
       "      <td>0.895640</td>\n",
       "    </tr>\n",
       "    <tr>\n",
       "      <th>2017-03-02</th>\n",
       "      <td>33.087</td>\n",
       "      <td>33.1560</td>\n",
       "      <td>32.7910</td>\n",
       "      <td>32.839</td>\n",
       "      <td>108183339</td>\n",
       "      <td>1.100857</td>\n",
       "    </tr>\n",
       "    <tr>\n",
       "      <th>2017-03-01</th>\n",
       "      <td>32.589</td>\n",
       "      <td>33.1240</td>\n",
       "      <td>32.5190</td>\n",
       "      <td>33.041</td>\n",
       "      <td>148093202</td>\n",
       "      <td>1.826470</td>\n",
       "    </tr>\n",
       "  </tbody>\n",
       "</table>\n",
       "<p>1258 rows × 6 columns</p>\n",
       "</div>"
      ],
      "text/plain": [
       "               Open      High       Low    Close     Volume  daily_change_pct\n",
       "Date                                                                         \n",
       "2022-02-25  163.840  165.1200  160.8738  164.850   91974222          2.571584\n",
       "2022-02-24  152.580  162.8500  152.0000  162.740  141147540          6.662573\n",
       "2022-02-23  165.540  166.1500  159.7500  160.070   90009247          3.851941\n",
       "2022-02-22  164.980  166.6900  162.1500  164.320   91162758          2.723619\n",
       "2022-02-18  169.820  170.5413  166.1900  167.300   82772674          2.551464\n",
       "...             ...       ...       ...      ...        ...               ...\n",
       "2017-03-07   32.863   33.0810   32.7990   32.975   70607425          0.852453\n",
       "2017-03-06   32.936   33.0370   32.7530   32.931   80156960          0.859642\n",
       "2017-03-03   32.796   33.0490   32.7530   33.039   84540010          0.895640\n",
       "2017-03-02   33.087   33.1560   32.7910   32.839  108183339          1.100857\n",
       "2017-03-01   32.589   33.1240   32.5190   33.041  148093202          1.826470\n",
       "\n",
       "[1258 rows x 6 columns]"
      ]
     },
     "execution_count": 40,
     "metadata": {},
     "output_type": "execute_result"
    }
   ],
   "source": [
    "aapl['daily_change_pct'] = (aapl['High'] - aapl['Low']) / aapl['High'] * 100\n",
    "aapl"
   ]
  },
  {
   "cell_type": "code",
   "execution_count": 41,
   "metadata": {},
   "outputs": [
    {
     "data": {
      "application/vnd.plotly.v1+json": {
       "config": {
        "plotlyServerURL": "https://plot.ly"
       },
       "data": [
        {
         "alignmentgroup": "True",
         "hovertemplate": "daily_change_pct=%{y}<extra></extra>",
         "legendgroup": "",
         "marker": {
          "color": "#636efa"
         },
         "name": "",
         "notched": false,
         "offsetgroup": "",
         "orientation": "v",
         "showlegend": false,
         "type": "box",
         "x0": " ",
         "xaxis": "x",
         "y": [
          2.571584302325591,
          6.662572919864903,
          3.851941017153178,
          2.723618693382922,
          2.5514640735118173,
          2.0010470595078806,
          1.8980039229260368,
          1.5611448395489962,
          1.7808703856586923,
          2.9119482320314423,
          2.23957146113516,
          0.9906594961788848,
          2.2355289421157614,
          1.7222606122136912,
          1.9643882825962018,
          2.3376658747536747,
          1.449852171935401,
          1.4470372912377036,
          3.137142857142863,
          4.432051658350445,
          3.3935546875000013,
          3.99624306676708,
          3.5266650282624608,
          4.682686383240926,
          2.4228942463776835,
          3.241395568128241,
          3.004442366144502,
          1.8169699779761164,
          1.5479341696397733,
          2.7346846336768276,
          1.3319787786431954,
          2.4888685923050655,
          2.510144927536239,
          1.7859193752153355,
          2.0878494010268254,
          3.0693234167730488,
          2.088116322291458,
          2.826990376202968,
          1.0991463482675885,
          1.3734285872514758,
          1.378508553396451,
          1.5441460320961844,
          1.8567786276465992,
          0.8933564565204622,
          2.1096326623450516,
          2.35565819861431,
          1.8290538163911387,
          2.1790511327607085,
          5.735894887931979,
          4.005125348189416,
          3.1112861483065157,
          3.623785208367646,
          2.75009742247954,
          1.6011315417256082,
          2.98931575358037,
          1.8883319734234811,
          2.1443305601206526,
          3.1765276430649907,
          3.8976857490864667,
          3.3881385789782796,
          3.3832769453842575,
          1.4888640734536895,
          2.5490807105016984,
          1.5418773899099545,
          1.693386897404206,
          2.836451418225703,
          2.786734567134518,
          3.541942396168133,
          2.5870967741935424,
          1.4179340937896046,
          1.613115617592829,
          1.941489361702138,
          1.170447701264803,
          1.5186838073669495,
          0.9033335974852681,
          0.9302632447054143,
          1.4060446780551816,
          1.1760068326654098,
          1.416803953871503,
          1.9293029402048152,
          1.271073053251256,
          2.351055303232708,
          2.2492480711390073,
          0.829375961474136,
          1.214978090559031,
          1.166610794502185,
          1.0269405174713393,
          1.184580377459498,
          1.0966965360438587,
          1.7522658610271806,
          2.5097183386755826,
          0.9538291401714095,
          1.6496136980580334,
          1.551101352787023,
          1.5450223713646392,
          2.0746887966804977,
          1.1252344238383027,
          1.0347222222222285,
          2.656051852895597,
          2.0206998521439163,
          2.767605633802822,
          2.6627426249036588,
          2.150239300825411,
          1.677759290072113,
          2.1170610211706116,
          1.4682675814751194,
          1.297025668884963,
          0.9804589092394619,
          1.8670496512104977,
          1.260475102153884,
          2.4683675585977967,
          2.052489905787337,
          1.16974789915967,
          2.0506634499396883,
          2.7510772290354693,
          1.7658730158730078,
          4.360708534621584,
          1.3792661021298471,
          1.9514061603214097,
          1.8213080303126876,
          0.9909326424870474,
          1.4952424105120088,
          1.6995153473344076,
          0.9896447765106955,
          3.183923794610833,
          1.2859355012455373,
          1.0745466756212183,
          1.6788807461692083,
          1.1351566648964284,
          1.53364006134561,
          1.1532236309684434,
          2.361618622276363,
          3.0299003322259153,
          1.7100224481711366,
          3.119825130820698,
          0.7907257253903226,
          2.1501041456695673,
          0.8122312470138542,
          1.6272289646755749,
          0.8055157348624525,
          1.0074880871341172,
          1.1261872455902284,
          1.017984390906006,
          1.9308943089430857,
          1.1602511602511718,
          1.5215901302261814,
          1.3482069531891587,
          3.016241299303936,
          2.4534516367547257,
          1.4191043577213844,
          1.2071756137037983,
          1.6040609137055868,
          1.0295126973232671,
          2.815845094429669,
          1.6638819270398124,
          2.591749263327086,
          1.9390211286440262,
          1.2606450747669788,
          2.5981092294089594,
          1.5902392213311352,
          2.0589450488913434,
          2.353268815707022,
          1.5367575799529272,
          2.1509143137392233,
          1.6118633139909737,
          1.1393514460998935,
          1.1167883211678842,
          1.5724887941803327,
          1.394245031148024,
          0.8089887640449532,
          1.2663885578069256,
          0.806451612903214,
          1.8327348892878643,
          2.4163005605211314,
          0.9609517998779673,
          2.1867433414043482,
          1.8544061302681898,
          0.921588203671006,
          2.650787552823667,
          1.0467495671336364,
          1.7526015178781071,
          0.9578393656276978,
          1.7489069331667777,
          1.1750694720127066,
          1.8363939899833073,
          1.3737146529563045,
          0.9529911107551836,
          1.1281805088814296,
          0.9965717930319701,
          2.0037718057520126,
          0.7558459963782442,
          1.5554166015319641,
          1.5600501724678653,
          2.1783419526719956,
          2.049630909376472,
          1.6459253311922901,
          1.7453798767967206,
          1.390644753476616,
          1.5920319974903938,
          1.5026236285577996,
          1.9151846785225684,
          2.772041302621135,
          2.1059151440074317,
          1.3601283716665402,
          2.020905923344947,
          1.9098960338852444,
          3.636919315403416,
          1.6710378418883403,
          1.873025425003768,
          3.371445323951916,
          1.436118758836207,
          0.9571152990057813,
          1.1083835453395887,
          2.186036136515724,
          2.0444843855313333,
          1.832795012393899,
          2.7427724240178035,
          1.57223375852863,
          1.0295434198746611,
          1.004688546550565,
          2.47823174815808,
          2.021935387599797,
          1.6713302578839746,
          2.680863917837172,
          1.4407889667925036,
          2.16776625824693,
          1.1616880037932773,
          2.4526198439241904,
          1.3592233009708679,
          1.927612850752342,
          1.2849395077179744,
          1.5080731087615797,
          2.100736084691086,
          2.1801965480221326,
          2.3052399247935855,
          1.6901180656639199,
          2.91159772911598,
          1.4396822770147235,
          2.3162874153821087,
          2.8017241379310387,
          1.9742557055989893,
          2.8763571544320183,
          1.6500829187396309,
          1.5900195694716266,
          2.220394736842096,
          2.675117293604412,
          3.952503529021012,
          3.5840817335420683,
          4.031537023490213,
          3.0847918165108283,
          2.880112394630032,
          4.013194062671797,
          2.9291059789168754,
          4.679431159132438,
          2.6564250280044868,
          6.572583842067702,
          3.175340768277578,
          1.4604150653343626,
          1.9939717134245183,
          2.0819086695539917,
          2.371103560348654,
          1.3491475166790163,
          1.9225103123158407,
          1.8993839835728978,
          1.4646943088245945,
          1.4963691043790952,
          1.1332066091533932,
          2.0503807850029374,
          1.5933007262487073,
          1.2547977561263572,
          3.2924563359346015,
          4.775218894856898,
          3.7202380952380953,
          2.6915835715779832,
          2.029147200334702,
          5.88112906581593,
          3.453485862292259,
          4.351271522224618,
          2.9769137302551654,
          1.3680425265791119,
          2.480105076102919,
          1.705200092172977,
          2.2504592774035395,
          2.1799844840962,
          1.2907713711547393,
          1.8054923380367134,
          2.866534169087296,
          3.554975429975437,
          2.5127930955472437,
          5.120867535205963,
          2.2403106564110224,
          1.9088487718259723,
          3.204291721038124,
          2.7983297926891755,
          1.7717129071170044,
          1.2536088740313065,
          3.533463093277436,
          3.787641154328732,
          2.306912945210824,
          1.195745011258632,
          1.4030412290327576,
          2.950200613641728,
          1.476345840130496,
          1.7949348414064519,
          3.0051981806367793,
          3.930340309953668,
          1.5055148538764918,
          1.8578352180936972,
          1.097371222668089,
          1.276111517516059,
          2.014353286576414,
          2.803129074315513,
          3.4350827580470846,
          1.0705721137375814,
          1.361599448466057,
          2.8139656070870203,
          3.27658482333818,
          1.2453405625211902,
          1.884560128454326,
          1.528255940885051,
          1.4174935378971087,
          2.353430353430352,
          1.5133680847486104,
          1.6360601001669397,
          2.666105971404543,
          2.9351360602430194,
          4.8663807324315345,
          2.5744914324301487,
          2.291877317155387,
          2.7990931287059713,
          2.46813127203689,
          3.041340375159342,
          3.816038160381599,
          4.051025685226688,
          3.7548026545581537,
          2.345965455014182,
          3.14769975786925,
          1.9543410584572856,
          2.920331312441296,
          1.8935212702725566,
          2.820838627700126,
          3.958821560093743,
          2.247284186085088,
          2.519750519750521,
          2.777095109363469,
          4.573954983922839,
          4.702472018681056,
          1.7830993194935025,
          1.558576500129879,
          1.229937194696438,
          3.3330440065966402,
          2.661137031276999,
          2.7258430892888263,
          1.601164483260557,
          3.1113021057155055,
          1.512105585176112,
          2.202412165705293,
          4.248834707780574,
          4.771916994240788,
          4.755911175042709,
          3.2773709590998408,
          6.430074087624623,
          4.309090909090905,
          3.108156665468913,
          3.4147189156312505,
          4.385444058020189,
          2.6951834463571505,
          4.539490947257936,
          6.641017062562728,
          3.248730964467008,
          5.302388615957992,
          10.371517027863769,
          6.469529844324491,
          7.947987435166909,
          3.155376102886196,
          3.8088642659279794,
          1.4746911119968182,
          2.8542061986084755,
          1.5158730158730132,
          1.6909574039777715,
          3.74892384753854,
          4.496286729092665,
          2.2475736420909254,
          1.3333333333333308,
          1.720392736119562,
          1.8405973259246435,
          1.7002629272567904,
          1.8153391817944837,
          2.6247886822671083,
          2.9928315412186284,
          3.3218176986446983,
          2.978987498891745,
          4.033183302444628,
          1.3627217852570048,
          2.178073453021052,
          3.3556439942112952,
          5.256665717810045,
          2.628654112318086,
          1.5883619090031962,
          1.3765631841433608,
          1.5033034374900225,
          4.112951398316596,
          5.21930873802565,
          1.4016139172017184,
          2.528078456905672,
          2.47557737845068,
          1.3470113186367667,
          1.5424804080109462,
          2.7773821392964004,
          3.471832886895486,
          4.708128364932981,
          1.3286904561521535,
          1.7098049082198534,
          1.3466730188978788,
          1.6865259272692243,
          1.5703261033126235,
          1.8391932406650289,
          0.9378160868991694,
          1.6354908127793406,
          3.005464480874325,
          3.3676064123825387,
          2.0338607945114617,
          2.78501807030994,
          2.7169197396963227,
          2.3090406525989424,
          3.2010692885380054,
          1.195278307869859,
          1.212568895960006,
          2.3991126256446607,
          3.7913750598791958,
          3.903056484578212,
          4.439612526172885,
          2.4454108700106976,
          3.9370354788949653,
          1.8838456602540015,
          2.567598826379667,
          1.4859651951724653,
          1.1948392848298615,
          1.394802891999556,
          1.5937652704514484,
          1.4575866188769488,
          2.4162431477342285,
          1.7652351323609552,
          2.3891082572464297,
          1.217105263157899,
          1.5644862871455298,
          1.0365314119580245,
          1.7320518347576899,
          1.9486237127215664,
          2.50141007647205,
          2.664858804203276,
          4.0356394129979,
          2.7453507176066325,
          3.0930330322679236,
          1.9546602118632979,
          1.0510251476345318,
          1.4463334179142326,
          2.1702276519024806,
          2.5069637883008324,
          4.393996857560817,
          2.0996617440805228,
          1.9978190359020271,
          2.669311419665628,
          1.6154284087674424,
          2.127842250618884,
          2.43926980020122,
          2.050422617312752,
          4.2624674983201265,
          1.7166764913087897,
          3.5171411231704948,
          2.0291728731626466,
          1.9928151165421928,
          3.5363540569019962,
          2.879337131020194,
          1.9868642034548987,
          2.3007830841701966,
          4.672827545088695,
          5.216414234700164,
          2.7410130045656027,
          3.3683549740641645,
          3.8574266453903014,
          3.9943841026907028,
          2.39170747943512,
          3.4472934472934433,
          4.765557729941286,
          5.4024809070522375,
          5.406952029037641,
          6.9511892524192636,
          9.467065483082466,
          4.049010971410276,
          5.156158880321389,
          7.456257565515391,
          7.364044206149467,
          9.629908272808809,
          8.150470219435743,
          3.3308372454710238,
          5.961940847141321,
          5.426108230908157,
          3.2948057373624837,
          2.717464781115636,
          3.390328221145493,
          5.984226793136511,
          7.868821624816967,
          7.917321231163095,
          4.562317691370953,
          3.822833682264351,
          5.4188642874354125,
          4.912925387442081,
          3.103949447077413,
          1.984656645668319,
          1.4074489986898748,
          1.6084908050053144,
          0.9591015256174595,
          0.8789462576504306,
          1.7599009900990064,
          1.6029007251813085,
          2.393007380538542,
          1.6717591664996918,
          1.5202955714214432,
          1.7924327837706053,
          1.8783337566675125,
          3.5971875121395445,
          4.46088236404122,
          1.6471266095495738,
          1.9761769148857182,
          1.9493848409511012,
          2.2108799250019624,
          1.7953997589393238,
          1.2245934959349578,
          0.8372659461105149,
          0.9479939430185711,
          1.172964505406343,
          1.1392860816788342,
          1.8810874795743793,
          1.698815047743214,
          1.8717672965637362,
          1.4125650779637173,
          1.3535250500215736,
          2.3921594772985015,
          1.1359190556492393,
          2.3981269708083603,
          1.357282733472882,
          1.8014854827819085,
          1.4141162809985846,
          2.556065628337225,
          1.9899192156321237,
          1.818461796903425,
          0.6953448939171565,
          1.3667133186712859,
          1.4462780243296292,
          0.7897206381289209,
          0.9849663037843406,
          1.0559981559650065,
          1.3603966980381987,
          1.5880739626647766,
          1.9198403360092957,
          0.9598251051914488,
          1.563204569367212,
          2.175053589363064,
          1.3631325084634,
          1.1832603019985737,
          1.0005395822092054,
          1.25596308751076,
          1.787227602905565,
          0.7891428484876036,
          0.9997424905706055,
          1.7428432504710256,
          1.467249706702412,
          0.891521293168607,
          1.0717306065964523,
          2.132918344928592,
          0.9754472061919774,
          1.199149969641761,
          1.0371162364441762,
          1.0543576540542232,
          1.4043264292394204,
          0.7151904600080229,
          1.5960901976553616,
          1.3778913897375262,
          0.8575794430411282,
          0.8285895003162569,
          0.7301226858422445,
          0.9569226882263795,
          2.642548046328117,
          4.778011994051995,
          1.6665006805431144,
          2.8677165867814414,
          1.0127905647124122,
          1.564356435643565,
          1.2224735546537147,
          0.8335844129757918,
          1.0724671788061628,
          1.5189146265227178,
          1.3830097170571236,
          1.117260642424875,
          0.872334533370266,
          1.1650019702239196,
          1.449944430195775,
          2.2444189353573,
          1.3675394890278825,
          0.9437672040896556,
          1.637119954296327,
          1.7778722198611663,
          1.580454626812235,
          2.64404031470529,
          2.5240384615384537,
          1.764401548534418,
          1.6806265636897633,
          1.671180881838121,
          0.9674209478882556,
          1.9705157898606718,
          2.3737188872620734,
          0.9908691867464369,
          2.2778001390464424,
          1.5121187859378467,
          1.529325781107247,
          0.7817397396659159,
          1.163414408582258,
          1.7167302834172418,
          1.5788243333153515,
          2.669942669942668,
          2.3365451437801688,
          2.4813288936546374,
          0.8905852417302821,
          1.149337798751711,
          1.0359169711575862,
          1.3258842506983644,
          1.53628852814271,
          1.272076558002016,
          1.161870076402352,
          2.412978544794325,
          1.0336628215457844,
          5.209193371863061,
          1.7203402703934354,
          0.9642686993806578,
          1.4274536745482045,
          1.2689480937069297,
          1.5998742113642173,
          2.673520830438841,
          1.8658041102915035,
          5.328112704170739,
          1.436746866561885,
          1.7129201975983004,
          2.0241776778183915,
          2.873410203371083,
          2.0325622665648657,
          3.0592930913878984,
          2.31660231660232,
          5.181269448505972,
          4.558294101356966,
          1.355450974291151,
          1.0496905256213818,
          1.2374067073289514,
          1.205148739183945,
          0.9477283829995103,
          0.7727672894453743,
          1.7493343851691163,
          1.9991290922766283,
          1.058106525321093,
          0.8986749028594211,
          1.267102914931594,
          0.9092533402156112,
          0.8835373549976868,
          1.3097380523895243,
          1.0612474170963215,
          1.3365784403204521,
          1.4854498965055387,
          1.0701474691111978,
          0.8556064210463274,
          0.8652259648275578,
          1.8866793244728601,
          1.235276042200132,
          0.9935117599351216,
          1.8057589067838073,
          1.9997128617429323,
          0.9924038225925105,
          1.34307401151787,
          1.2835924288421234,
          1.2820774971884314,
          2.5305089588180114,
          1.427672955974852,
          1.6974917658981399,
          1.6240913811007194,
          1.3242685241183667,
          1.2323025917971622,
          1.916237814317386,
          3.2049234438552836,
          1.7893345085941048,
          2.083425389951831,
          2.954478307311191,
          4.298086421171124,
          1.676311196840277,
          1.4297767541559356,
          1.8663263678417668,
          1.4980764878931863,
          1.9386976618947276,
          1.5211535414355821,
          1.7011443661971746,
          1.7586191904699895,
          2.201529763884259,
          2.1751696675159073,
          1.8876738507272446,
          2.990259809458852,
          2.2538246067657823,
          3.490454104195869,
          3.0602597829661238,
          2.481894377085196,
          1.752247752247743,
          3.178904890014241,
          2.5539773285397227,
          0.7534087387666483,
          2.1185459597129084,
          2.8277439024390145,
          2.111823792811336,
          1.031790295593978,
          1.4069848894226016,
          1.2697973853627724,
          0.6868591446733909,
          1.8544485039992102,
          1.2652652652652752,
          0.7958519233088163,
          2.350117001533136,
          1.3936714276981959,
          0.9258308870322101,
          1.9698677872296784,
          1.2676573854821633,
          1.27332556666053,
          1.7818858460418272,
          1.94849099514414,
          0.5932679697745659,
          1.6421870756116446,
          1.7057791882411897,
          1.755422398514644,
          1.716646332327318,
          0.7943874797625518,
          1.077828759414764,
          1.6864864864864888,
          4.309537990300356,
          2.801701109140256,
          3.497156614503346,
          3.322675694313843,
          2.5223001645449017,
          1.6345757266589969,
          1.3872253315620995,
          1.907744874715267,
          0.8379390265644447,
          1.2959108305915543,
          1.8125463243716777,
          2.0914463737572815,
          2.0647149460708834,
          1.3806566939505038,
          0.8953828170660328,
          0.8414918414918349,
          2.139592854175321,
          1.2930125787636728,
          1.1353240599563739,
          1.2894755351323406,
          1.2146601759970004,
          1.1103335665966856,
          0.9438660563948188,
          1.1972484707114468,
          1.353942291760368,
          1.129618992915952,
          1.1302540084589812,
          1.0972162330506408,
          1.479543292102759,
          0.7533950765391815,
          1.1407208588957032,
          1.3293269230769336,
          2.072624772011275,
          1.5419639504318357,
          1.5580503189060675,
          2.539728263478803,
          1.799561082662764,
          2.6283067170547434,
          3.556106633601995,
          2.545861997081501,
          1.7132314180284622,
          2.407754846779236,
          1.7737117251680337,
          2.225468065329972,
          2.6081926697165625,
          1.2109507529295056,
          2.7963621158268874,
          1.8397610425312707,
          2.159896840747891,
          1.348443161077677,
          1.423592493297584,
          2.015308853441816,
          3.1703284982935154,
          2.176567970255379,
          1.9657244109748357,
          3.1980695087787394,
          2.547860758419807,
          2.9079118028534245,
          1.8227887374925624,
          2.490446356617356,
          4.2582273157396635,
          6.6776738213171765,
          3.26816933576227,
          5.3902667778241,
          4.188907528849565,
          4.9880650638580635,
          1.8742160021644325,
          3.331130528428414,
          2.2517363226513942,
          1.7525847042811817,
          1.6825655529456838,
          2.7823083565192452,
          3.9681193827369974,
          3.5354966699730763,
          2.4803131041637188,
          3.3502010572448317,
          2.011852776044913,
          1.8234581724287517,
          2.779531109107297,
          3.520374536942341,
          2.2163538621144907,
          2.6710005652911253,
          2.5547104661471676,
          2.0480936271372427,
          3.2966284481779953,
          2.9967806754099784,
          2.8232708522643195,
          2.640051513200266,
          4.39416089323926,
          2.9170845870946187,
          3.0348012535048685,
          1.8281096865811979,
          1.5962662273993022,
          2.8168736835889145,
          1.4723703344643706,
          3.0364945784107555,
          3.8454839271545005,
          2.488145048814507,
          1.7293120264085904,
          2.7460174100194124,
          6.188477536654678,
          3.412142494976621,
          2.0917767028369676,
          4.3329952982391475,
          3.826563686540354,
          1.971565033877592,
          1.7360267598527366,
          3.0616661334939037,
          1.476487630933812,
          2.7870493991989322,
          2.0614329381942924,
          2.7048587277145955,
          3.2645141845307557,
          4.543295579101208,
          2.217815297285498,
          2.0489994114184893,
          3.4374151506923725,
          2.420101074809594,
          1.5797116849077375,
          1.4651685393258385,
          1.34092711412299,
          0.7964407338240183,
          1.2782353048591124,
          1.7887831470017619,
          1.3991983372921575,
          2.0873432623848363,
          1.84168254324031,
          1.402660217654181,
          1.969311870469734,
          2.1265096168182467,
          2.54460477020661,
          1.9066715275246071,
          2.5438612373485925,
          2.2988716968650036,
          3.4560300812858276,
          2.422841807067238,
          2.069496936117125,
          2.6571366215626337,
          1.9947071849064704,
          1.1096075778078391,
          1.2646107708705994,
          2.57752499637734,
          1.8279032765351235,
          0.7274636268186555,
          1.1038654191475346,
          0.8311094166984367,
          1.1372078404480281,
          1.16954594098762,
          1.4658290500666344,
          1.8581750268822264,
          2.1912766320742207,
          1.0907192171575548,
          1.1418929524407486,
          1.0898593983190632,
          1.5367125328315474,
          1.1568580920740406,
          1.2263871031549747,
          1.5873015873015908,
          1.303279987323723,
          1.045012889153284,
          1.5623757652858419,
          3.8509019951415806,
          2.2087857847976413,
          1.4577574291637962,
          1.6214699024095447,
          2.6083074699205047,
          1.2005335704757676,
          1.2521561362039246,
          0.8313157500053675,
          1.2537016622354762,
          1.1623644087899796,
          1.4741379310344775,
          0.9799679833859644,
          1.4034253092293074,
          1.1459589867309936,
          0.48447097499783,
          1.1098105518706387,
          1.1434693252874986,
          0.5769939914535439,
          0.7332941662858831,
          1.7196204064557297,
          1.1463550361713981,
          2.342473616814589,
          2.0756263429546054,
          2.2852709741771,
          1.2968781335650794,
          1.745757454916028,
          2.131114719818489,
          2.275175013462565,
          0.7845759500724482,
          1.8086090672776094,
          0.7890420674675331,
          1.5410310655828976,
          1.0570175438596476,
          0.9971851884178157,
          0.7125221986399286,
          1.2585516974312656,
          0.7368466410996655,
          0.9142980654922768,
          1.1605039655955007,
          0.978507029013371,
          1.11381905250556,
          0.8258274320190042,
          1.0640580083236693,
          1.3193762948424315,
          1.1066043558768965,
          0.6489063500121484,
          1.0045722324804378,
          1.0545661401129094,
          1.3974029398193828,
          1.454985692273831,
          1.1203128089097931,
          1.243093922651934,
          0.8903716141575686,
          1.3573169928180846,
          1.3099379155475295,
          1.04691138959743,
          0.8801120938786257,
          1.3688461958301548,
          1.4266021924162549,
          1.1558637858984528,
          1.3688519090116125,
          1.5580956608589462,
          3.2826170506183123,
          1.7224790556872358,
          2.233157586408895,
          2.316535781984694,
          3.220022413149046,
          2.2583261519744466,
          1.430115364314966,
          1.8180444690655484,
          3.0701424886685174,
          1.689458973847074,
          3.376882466000044,
          1.5601994775587662,
          1.0924506766671964,
          1.4315309233956426,
          0.7683578419783508,
          1.1417201601250666,
          1.1162414318354943,
          1.2765855527878933,
          1.410136704254348,
          1.893647738209815,
          2.4896766559609733,
          1.226480503024358,
          4.2037969779155295,
          2.2880414661236568,
          2.6477984320299743,
          2.827900659681793,
          2.8346032290467296,
          4.710722183910766,
          3.8544824599393603,
          2.9171671610325243,
          2.36148298236727,
          2.2003901232218404,
          1.0414212336836157,
          2.1429409693697847,
          0.8325387781679426,
          1.1970512790885786,
          1.497461928934012,
          2.3310182032775,
          1.192107426692241,
          1.4532663781732351,
          1.1499929448285529,
          0.9048058930813091,
          1.1986541427169615,
          1.8137932650622195,
          2.178381571175438,
          3.9506001204875068,
          1.411341466226972,
          1.2807790829160217,
          1.7762195546680921,
          1.209333206867111,
          1.2883141762452028,
          1.7847316921457506,
          1.6278625041832109,
          1.7488682392184935,
          2.3628488931665044,
          2.781921241050119,
          1.8758216199817914,
          3.886135468293294,
          4.8410499934045665,
          3.683786662510065,
          2.659465547250933,
          5.92969189106332,
          4.801163918525704,
          4.009528585757281,
          1.1185238461347697,
          1.1792452830188715,
          1.5992003998001012,
          1.818762749772642,
          1.1234588916178203,
          2.5245642974969456,
          2.2977659298402973,
          1.4682918871046577,
          0.6563779231167446,
          1.2226647104031267,
          1.028701467583127,
          2.3400681256124307,
          1.8091108313516953,
          0.9527403075181669,
          0.57434284216296,
          0.7342531493701198,
          0.9389110543039413,
          0.9526077637532712,
          1.3163542709972806,
          0.8124397299903477,
          1.48327422601361,
          1.7623070200990367,
          0.8041580857114736,
          0.7934383138218913,
          0.619566548304151,
          1.0293436105080787,
          0.5411590816983428,
          1.1000237586124992,
          1.2372756096979651,
          0.7510908700731961,
          1.3147955811537981,
          0.9821578656676967,
          0.8647760761389537,
          0.9012699713232338,
          0.5361995341614995,
          2.3874026413816507,
          1.2888551933282815,
          0.8981374690191644,
          2.209170885142775,
          1.804437941965362,
          1.7250569365702457,
          1.8296991107321348,
          2.1308647374687064,
          3.335026240054168,
          1.719725417972193,
          0.986598504574656,
          0.49089695929843663,
          1.0970101097010185,
          1.6829585399913278,
          0.576262873957821,
          1.0151045606500668,
          0.9149976881707463,
          1.1222710640701203,
          1.325876283689304,
          0.618408437200373,
          0.6414383479981839,
          1.6874419048072988,
          1.0788282924505903,
          0.6878864867455995,
          1.8589589829695337,
          1.8111753371869037,
          1.9105741686386921,
          2.541493775933601,
          1.595942100705174,
          2.592148636499842,
          2.9863765810606115,
          0.6781193490054318,
          1.457151229388114,
          0.7865408201354495,
          1.4025656038750227,
          1.130740169211933,
          1.304045748490192,
          0.7025516466870337,
          1.020195167771221,
          1.4559668406831232,
          0.5630871050384247,
          1.0374993332266573,
          0.767461760616106,
          1.8435383185017997,
          0.7820660470846655,
          0.5965717370765383,
          0.9072498987444271,
          0.9003355796251283,
          0.7686270264418494,
          1.1195956411858992,
          1.3807565565510986,
          1.0202138368201976,
          0.770462005914107,
          1.4426748118250148,
          1.76093326698734,
          1.1054140478553405,
          1.9611012337697364,
          2.8135773004508082,
          0.8092272930296099,
          1.5585366491461952,
          1.8408907199290656,
          0.8032234277888963,
          1.272665249678552,
          3.1592421915002604,
          1.3314337521046389,
          1.609626504141259,
          1.153856104312726,
          1.5242410978655443,
          2.233694540993668,
          0.7914492938032827,
          0.6098183302714768,
          0.7709053656037954,
          1.9371269808602594,
          1.27995854385283,
          0.8077586657604368,
          1.3473640232916373,
          1.001726212271807,
          1.2277342007922465,
          1.767723756612348,
          1.7370706671930427,
          1.7838021363838175,
          1.4592319016503466,
          1.2655279503105517,
          0.9117346537766224,
          1.5931826602445451,
          3.352658779086541,
          1.3272717771855636,
          2.192365776180802,
          1.4289501590668119,
          1.076334038394586,
          1.3884793738440526,
          2.244790292798732,
          1.200628366247768,
          1.466012613875252,
          0.6844319775596067,
          4.345684417930055,
          0.5666575417465117,
          1.3338080631025466,
          1.664086687306512,
          1.036443597859877,
          1.0274923632324284,
          0.9767636009461502,
          0.9739804081174426,
          1.558006421890269,
          1.348758465011271,
          2.0489826035133563,
          0.933959816667162,
          1.0053735482752615,
          1.769834853909226,
          1.272234999563299,
          0.751769300795819,
          1.4232078931284504,
          1.5081643899184896,
          0.8081630279949961,
          1.9599872237869773,
          2.027338793401785,
          1.7498846863468613,
          1.9636260301221806,
          1.3973599060790869,
          1.1027828034806593,
          1.006750129810179,
          1.3254152680953502,
          2.116113471919151,
          1.595124227225021,
          1.5748950069995309,
          2.482715273412947,
          1.5575878822520768,
          2.4631536442560042,
          5.905672160525665,
          0.7395568077152388,
          0.9698246751492605,
          1.2873215058416245,
          0.6302349057375976,
          1.6588063099691057,
          0.730970046716126,
          1.150807752234643,
          0.7067041392671024,
          0.5928799759569376,
          0.8572442600125586,
          0.9676625755132143,
          1.0201583285725946,
          1.0795485524235342,
          0.8784893267651833,
          1.4371290393493164,
          3.1434023991275866,
          0.8721008721008733,
          1.019474930062419,
          1.1420875420875407,
          1.1378555798687195,
          1.201077396657865,
          0.9207398704953313,
          3.033806849465909,
          1.4881290469158266,
          0.9315430838676234,
          2.1916236374067783,
          0.8314998428436632,
          1.5318733114904701,
          0.7213441632701,
          0.5929143796413316,
          0.8544007490636751,
          0.72410873310171,
          0.5408424208576982,
          0.5782746656386026,
          1.2316073067472064,
          1.0934334405911015,
          0.6642044439149312,
          0.7246376811594265,
          0.9419665408730283,
          0.8095719983332296,
          2.2906396670307383,
          0.6793518218980726,
          0.6339330261497406,
          0.7436467970488283,
          1.1286616051429885,
          1.2030602114115487,
          0.7310842949000125,
          0.8681370248709509,
          0.6939767503147839,
          0.9048581217605126,
          2.370531386775555,
          1.8486337488015263,
          0.9731924293987717,
          0.6694960846434236,
          1.2849629452546012,
          2.1364228991347534,
          0.8911216769833492,
          0.7892209818749194,
          0.5340854536726007,
          1.2415078458486044,
          0.5998727542642481,
          0.4460898855946516,
          0.5161995566756801,
          1.2408914905942148,
          0.7112375533428149,
          0.8524530697379268,
          0.8596422193298391,
          0.895639807558472,
          1.1008565568826214,
          1.8264702330636515
         ],
         "y0": " ",
         "yaxis": "y"
        }
       ],
       "layout": {
        "boxmode": "group",
        "legend": {
         "tracegroupgap": 0
        },
        "margin": {
         "t": 60
        },
        "template": {
         "data": {
          "bar": [
           {
            "error_x": {
             "color": "#2a3f5f"
            },
            "error_y": {
             "color": "#2a3f5f"
            },
            "marker": {
             "line": {
              "color": "#E5ECF6",
              "width": 0.5
             }
            },
            "type": "bar"
           }
          ],
          "barpolar": [
           {
            "marker": {
             "line": {
              "color": "#E5ECF6",
              "width": 0.5
             }
            },
            "type": "barpolar"
           }
          ],
          "carpet": [
           {
            "aaxis": {
             "endlinecolor": "#2a3f5f",
             "gridcolor": "white",
             "linecolor": "white",
             "minorgridcolor": "white",
             "startlinecolor": "#2a3f5f"
            },
            "baxis": {
             "endlinecolor": "#2a3f5f",
             "gridcolor": "white",
             "linecolor": "white",
             "minorgridcolor": "white",
             "startlinecolor": "#2a3f5f"
            },
            "type": "carpet"
           }
          ],
          "choropleth": [
           {
            "colorbar": {
             "outlinewidth": 0,
             "ticks": ""
            },
            "type": "choropleth"
           }
          ],
          "contour": [
           {
            "colorbar": {
             "outlinewidth": 0,
             "ticks": ""
            },
            "colorscale": [
             [
              0,
              "#0d0887"
             ],
             [
              0.1111111111111111,
              "#46039f"
             ],
             [
              0.2222222222222222,
              "#7201a8"
             ],
             [
              0.3333333333333333,
              "#9c179e"
             ],
             [
              0.4444444444444444,
              "#bd3786"
             ],
             [
              0.5555555555555556,
              "#d8576b"
             ],
             [
              0.6666666666666666,
              "#ed7953"
             ],
             [
              0.7777777777777778,
              "#fb9f3a"
             ],
             [
              0.8888888888888888,
              "#fdca26"
             ],
             [
              1,
              "#f0f921"
             ]
            ],
            "type": "contour"
           }
          ],
          "contourcarpet": [
           {
            "colorbar": {
             "outlinewidth": 0,
             "ticks": ""
            },
            "type": "contourcarpet"
           }
          ],
          "heatmap": [
           {
            "colorbar": {
             "outlinewidth": 0,
             "ticks": ""
            },
            "colorscale": [
             [
              0,
              "#0d0887"
             ],
             [
              0.1111111111111111,
              "#46039f"
             ],
             [
              0.2222222222222222,
              "#7201a8"
             ],
             [
              0.3333333333333333,
              "#9c179e"
             ],
             [
              0.4444444444444444,
              "#bd3786"
             ],
             [
              0.5555555555555556,
              "#d8576b"
             ],
             [
              0.6666666666666666,
              "#ed7953"
             ],
             [
              0.7777777777777778,
              "#fb9f3a"
             ],
             [
              0.8888888888888888,
              "#fdca26"
             ],
             [
              1,
              "#f0f921"
             ]
            ],
            "type": "heatmap"
           }
          ],
          "heatmapgl": [
           {
            "colorbar": {
             "outlinewidth": 0,
             "ticks": ""
            },
            "colorscale": [
             [
              0,
              "#0d0887"
             ],
             [
              0.1111111111111111,
              "#46039f"
             ],
             [
              0.2222222222222222,
              "#7201a8"
             ],
             [
              0.3333333333333333,
              "#9c179e"
             ],
             [
              0.4444444444444444,
              "#bd3786"
             ],
             [
              0.5555555555555556,
              "#d8576b"
             ],
             [
              0.6666666666666666,
              "#ed7953"
             ],
             [
              0.7777777777777778,
              "#fb9f3a"
             ],
             [
              0.8888888888888888,
              "#fdca26"
             ],
             [
              1,
              "#f0f921"
             ]
            ],
            "type": "heatmapgl"
           }
          ],
          "histogram": [
           {
            "marker": {
             "colorbar": {
              "outlinewidth": 0,
              "ticks": ""
             }
            },
            "type": "histogram"
           }
          ],
          "histogram2d": [
           {
            "colorbar": {
             "outlinewidth": 0,
             "ticks": ""
            },
            "colorscale": [
             [
              0,
              "#0d0887"
             ],
             [
              0.1111111111111111,
              "#46039f"
             ],
             [
              0.2222222222222222,
              "#7201a8"
             ],
             [
              0.3333333333333333,
              "#9c179e"
             ],
             [
              0.4444444444444444,
              "#bd3786"
             ],
             [
              0.5555555555555556,
              "#d8576b"
             ],
             [
              0.6666666666666666,
              "#ed7953"
             ],
             [
              0.7777777777777778,
              "#fb9f3a"
             ],
             [
              0.8888888888888888,
              "#fdca26"
             ],
             [
              1,
              "#f0f921"
             ]
            ],
            "type": "histogram2d"
           }
          ],
          "histogram2dcontour": [
           {
            "colorbar": {
             "outlinewidth": 0,
             "ticks": ""
            },
            "colorscale": [
             [
              0,
              "#0d0887"
             ],
             [
              0.1111111111111111,
              "#46039f"
             ],
             [
              0.2222222222222222,
              "#7201a8"
             ],
             [
              0.3333333333333333,
              "#9c179e"
             ],
             [
              0.4444444444444444,
              "#bd3786"
             ],
             [
              0.5555555555555556,
              "#d8576b"
             ],
             [
              0.6666666666666666,
              "#ed7953"
             ],
             [
              0.7777777777777778,
              "#fb9f3a"
             ],
             [
              0.8888888888888888,
              "#fdca26"
             ],
             [
              1,
              "#f0f921"
             ]
            ],
            "type": "histogram2dcontour"
           }
          ],
          "mesh3d": [
           {
            "colorbar": {
             "outlinewidth": 0,
             "ticks": ""
            },
            "type": "mesh3d"
           }
          ],
          "parcoords": [
           {
            "line": {
             "colorbar": {
              "outlinewidth": 0,
              "ticks": ""
             }
            },
            "type": "parcoords"
           }
          ],
          "pie": [
           {
            "automargin": true,
            "type": "pie"
           }
          ],
          "scatter": [
           {
            "marker": {
             "colorbar": {
              "outlinewidth": 0,
              "ticks": ""
             }
            },
            "type": "scatter"
           }
          ],
          "scatter3d": [
           {
            "line": {
             "colorbar": {
              "outlinewidth": 0,
              "ticks": ""
             }
            },
            "marker": {
             "colorbar": {
              "outlinewidth": 0,
              "ticks": ""
             }
            },
            "type": "scatter3d"
           }
          ],
          "scattercarpet": [
           {
            "marker": {
             "colorbar": {
              "outlinewidth": 0,
              "ticks": ""
             }
            },
            "type": "scattercarpet"
           }
          ],
          "scattergeo": [
           {
            "marker": {
             "colorbar": {
              "outlinewidth": 0,
              "ticks": ""
             }
            },
            "type": "scattergeo"
           }
          ],
          "scattergl": [
           {
            "marker": {
             "colorbar": {
              "outlinewidth": 0,
              "ticks": ""
             }
            },
            "type": "scattergl"
           }
          ],
          "scattermapbox": [
           {
            "marker": {
             "colorbar": {
              "outlinewidth": 0,
              "ticks": ""
             }
            },
            "type": "scattermapbox"
           }
          ],
          "scatterpolar": [
           {
            "marker": {
             "colorbar": {
              "outlinewidth": 0,
              "ticks": ""
             }
            },
            "type": "scatterpolar"
           }
          ],
          "scatterpolargl": [
           {
            "marker": {
             "colorbar": {
              "outlinewidth": 0,
              "ticks": ""
             }
            },
            "type": "scatterpolargl"
           }
          ],
          "scatterternary": [
           {
            "marker": {
             "colorbar": {
              "outlinewidth": 0,
              "ticks": ""
             }
            },
            "type": "scatterternary"
           }
          ],
          "surface": [
           {
            "colorbar": {
             "outlinewidth": 0,
             "ticks": ""
            },
            "colorscale": [
             [
              0,
              "#0d0887"
             ],
             [
              0.1111111111111111,
              "#46039f"
             ],
             [
              0.2222222222222222,
              "#7201a8"
             ],
             [
              0.3333333333333333,
              "#9c179e"
             ],
             [
              0.4444444444444444,
              "#bd3786"
             ],
             [
              0.5555555555555556,
              "#d8576b"
             ],
             [
              0.6666666666666666,
              "#ed7953"
             ],
             [
              0.7777777777777778,
              "#fb9f3a"
             ],
             [
              0.8888888888888888,
              "#fdca26"
             ],
             [
              1,
              "#f0f921"
             ]
            ],
            "type": "surface"
           }
          ],
          "table": [
           {
            "cells": {
             "fill": {
              "color": "#EBF0F8"
             },
             "line": {
              "color": "white"
             }
            },
            "header": {
             "fill": {
              "color": "#C8D4E3"
             },
             "line": {
              "color": "white"
             }
            },
            "type": "table"
           }
          ]
         },
         "layout": {
          "annotationdefaults": {
           "arrowcolor": "#2a3f5f",
           "arrowhead": 0,
           "arrowwidth": 1
          },
          "autotypenumbers": "strict",
          "coloraxis": {
           "colorbar": {
            "outlinewidth": 0,
            "ticks": ""
           }
          },
          "colorscale": {
           "diverging": [
            [
             0,
             "#8e0152"
            ],
            [
             0.1,
             "#c51b7d"
            ],
            [
             0.2,
             "#de77ae"
            ],
            [
             0.3,
             "#f1b6da"
            ],
            [
             0.4,
             "#fde0ef"
            ],
            [
             0.5,
             "#f7f7f7"
            ],
            [
             0.6,
             "#e6f5d0"
            ],
            [
             0.7,
             "#b8e186"
            ],
            [
             0.8,
             "#7fbc41"
            ],
            [
             0.9,
             "#4d9221"
            ],
            [
             1,
             "#276419"
            ]
           ],
           "sequential": [
            [
             0,
             "#0d0887"
            ],
            [
             0.1111111111111111,
             "#46039f"
            ],
            [
             0.2222222222222222,
             "#7201a8"
            ],
            [
             0.3333333333333333,
             "#9c179e"
            ],
            [
             0.4444444444444444,
             "#bd3786"
            ],
            [
             0.5555555555555556,
             "#d8576b"
            ],
            [
             0.6666666666666666,
             "#ed7953"
            ],
            [
             0.7777777777777778,
             "#fb9f3a"
            ],
            [
             0.8888888888888888,
             "#fdca26"
            ],
            [
             1,
             "#f0f921"
            ]
           ],
           "sequentialminus": [
            [
             0,
             "#0d0887"
            ],
            [
             0.1111111111111111,
             "#46039f"
            ],
            [
             0.2222222222222222,
             "#7201a8"
            ],
            [
             0.3333333333333333,
             "#9c179e"
            ],
            [
             0.4444444444444444,
             "#bd3786"
            ],
            [
             0.5555555555555556,
             "#d8576b"
            ],
            [
             0.6666666666666666,
             "#ed7953"
            ],
            [
             0.7777777777777778,
             "#fb9f3a"
            ],
            [
             0.8888888888888888,
             "#fdca26"
            ],
            [
             1,
             "#f0f921"
            ]
           ]
          },
          "colorway": [
           "#636efa",
           "#EF553B",
           "#00cc96",
           "#ab63fa",
           "#FFA15A",
           "#19d3f3",
           "#FF6692",
           "#B6E880",
           "#FF97FF",
           "#FECB52"
          ],
          "font": {
           "color": "#2a3f5f"
          },
          "geo": {
           "bgcolor": "white",
           "lakecolor": "white",
           "landcolor": "#E5ECF6",
           "showlakes": true,
           "showland": true,
           "subunitcolor": "white"
          },
          "hoverlabel": {
           "align": "left"
          },
          "hovermode": "closest",
          "mapbox": {
           "style": "light"
          },
          "paper_bgcolor": "white",
          "plot_bgcolor": "#E5ECF6",
          "polar": {
           "angularaxis": {
            "gridcolor": "white",
            "linecolor": "white",
            "ticks": ""
           },
           "bgcolor": "#E5ECF6",
           "radialaxis": {
            "gridcolor": "white",
            "linecolor": "white",
            "ticks": ""
           }
          },
          "scene": {
           "xaxis": {
            "backgroundcolor": "#E5ECF6",
            "gridcolor": "white",
            "gridwidth": 2,
            "linecolor": "white",
            "showbackground": true,
            "ticks": "",
            "zerolinecolor": "white"
           },
           "yaxis": {
            "backgroundcolor": "#E5ECF6",
            "gridcolor": "white",
            "gridwidth": 2,
            "linecolor": "white",
            "showbackground": true,
            "ticks": "",
            "zerolinecolor": "white"
           },
           "zaxis": {
            "backgroundcolor": "#E5ECF6",
            "gridcolor": "white",
            "gridwidth": 2,
            "linecolor": "white",
            "showbackground": true,
            "ticks": "",
            "zerolinecolor": "white"
           }
          },
          "shapedefaults": {
           "line": {
            "color": "#2a3f5f"
           }
          },
          "ternary": {
           "aaxis": {
            "gridcolor": "white",
            "linecolor": "white",
            "ticks": ""
           },
           "baxis": {
            "gridcolor": "white",
            "linecolor": "white",
            "ticks": ""
           },
           "bgcolor": "#E5ECF6",
           "caxis": {
            "gridcolor": "white",
            "linecolor": "white",
            "ticks": ""
           }
          },
          "title": {
           "x": 0.05
          },
          "xaxis": {
           "automargin": true,
           "gridcolor": "white",
           "linecolor": "white",
           "ticks": "",
           "title": {
            "standoff": 15
           },
           "zerolinecolor": "white",
           "zerolinewidth": 2
          },
          "yaxis": {
           "automargin": true,
           "gridcolor": "white",
           "linecolor": "white",
           "ticks": "",
           "title": {
            "standoff": 15
           },
           "zerolinecolor": "white",
           "zerolinewidth": 2
          }
         }
        },
        "xaxis": {
         "anchor": "y",
         "domain": [
          0,
          1
         ]
        },
        "yaxis": {
         "anchor": "x",
         "domain": [
          0,
          1
         ],
         "title": {
          "text": "daily_change_pct"
         }
        }
       }
      },
      "text/html": [
       "<div>                            <div id=\"11910a5e-c0c5-482d-a990-59186fe0136a\" class=\"plotly-graph-div\" style=\"height:525px; width:100%;\"></div>            <script type=\"text/javascript\">                require([\"plotly\"], function(Plotly) {                    window.PLOTLYENV=window.PLOTLYENV || {};                                    if (document.getElementById(\"11910a5e-c0c5-482d-a990-59186fe0136a\")) {                    Plotly.newPlot(                        \"11910a5e-c0c5-482d-a990-59186fe0136a\",                        [{\"alignmentgroup\": \"True\", \"hovertemplate\": \"daily_change_pct=%{y}<extra></extra>\", \"legendgroup\": \"\", \"marker\": {\"color\": \"#636efa\"}, \"name\": \"\", \"notched\": false, \"offsetgroup\": \"\", \"orientation\": \"v\", \"showlegend\": false, \"type\": \"box\", \"x0\": \" \", \"xaxis\": \"x\", \"y\": [2.571584302325591, 6.662572919864903, 3.851941017153178, 2.723618693382922, 2.5514640735118173, 2.0010470595078806, 1.8980039229260368, 1.5611448395489962, 1.7808703856586923, 2.9119482320314423, 2.23957146113516, 0.9906594961788848, 2.2355289421157614, 1.7222606122136912, 1.9643882825962018, 2.3376658747536747, 1.449852171935401, 1.4470372912377036, 3.137142857142863, 4.432051658350445, 3.3935546875000013, 3.99624306676708, 3.5266650282624608, 4.682686383240926, 2.4228942463776835, 3.241395568128241, 3.004442366144502, 1.8169699779761164, 1.5479341696397733, 2.7346846336768276, 1.3319787786431954, 2.4888685923050655, 2.510144927536239, 1.7859193752153355, 2.0878494010268254, 3.0693234167730488, 2.088116322291458, 2.826990376202968, 1.0991463482675885, 1.3734285872514758, 1.378508553396451, 1.5441460320961844, 1.8567786276465992, 0.8933564565204622, 2.1096326623450516, 2.35565819861431, 1.8290538163911387, 2.1790511327607085, 5.735894887931979, 4.005125348189416, 3.1112861483065157, 3.623785208367646, 2.75009742247954, 1.6011315417256082, 2.98931575358037, 1.8883319734234811, 2.1443305601206526, 3.1765276430649907, 3.8976857490864667, 3.3881385789782796, 3.3832769453842575, 1.4888640734536895, 2.5490807105016984, 1.5418773899099545, 1.693386897404206, 2.836451418225703, 2.786734567134518, 3.541942396168133, 2.5870967741935424, 1.4179340937896046, 1.613115617592829, 1.941489361702138, 1.170447701264803, 1.5186838073669495, 0.9033335974852681, 0.9302632447054143, 1.4060446780551816, 1.1760068326654098, 1.416803953871503, 1.9293029402048152, 1.271073053251256, 2.351055303232708, 2.2492480711390073, 0.829375961474136, 1.214978090559031, 1.166610794502185, 1.0269405174713393, 1.184580377459498, 1.0966965360438587, 1.7522658610271806, 2.5097183386755826, 0.9538291401714095, 1.6496136980580334, 1.551101352787023, 1.5450223713646392, 2.0746887966804977, 1.1252344238383027, 1.0347222222222285, 2.656051852895597, 2.0206998521439163, 2.767605633802822, 2.6627426249036588, 2.150239300825411, 1.677759290072113, 2.1170610211706116, 1.4682675814751194, 1.297025668884963, 0.9804589092394619, 1.8670496512104977, 1.260475102153884, 2.4683675585977967, 2.052489905787337, 1.16974789915967, 2.0506634499396883, 2.7510772290354693, 1.7658730158730078, 4.360708534621584, 1.3792661021298471, 1.9514061603214097, 1.8213080303126876, 0.9909326424870474, 1.4952424105120088, 1.6995153473344076, 0.9896447765106955, 3.183923794610833, 1.2859355012455373, 1.0745466756212183, 1.6788807461692083, 1.1351566648964284, 1.53364006134561, 1.1532236309684434, 2.361618622276363, 3.0299003322259153, 1.7100224481711366, 3.119825130820698, 0.7907257253903226, 2.1501041456695673, 0.8122312470138542, 1.6272289646755749, 0.8055157348624525, 1.0074880871341172, 1.1261872455902284, 1.017984390906006, 1.9308943089430857, 1.1602511602511718, 1.5215901302261814, 1.3482069531891587, 3.016241299303936, 2.4534516367547257, 1.4191043577213844, 1.2071756137037983, 1.6040609137055868, 1.0295126973232671, 2.815845094429669, 1.6638819270398124, 2.591749263327086, 1.9390211286440262, 1.2606450747669788, 2.5981092294089594, 1.5902392213311352, 2.0589450488913434, 2.353268815707022, 1.5367575799529272, 2.1509143137392233, 1.6118633139909737, 1.1393514460998935, 1.1167883211678842, 1.5724887941803327, 1.394245031148024, 0.8089887640449532, 1.2663885578069256, 0.806451612903214, 1.8327348892878643, 2.4163005605211314, 0.9609517998779673, 2.1867433414043482, 1.8544061302681898, 0.921588203671006, 2.650787552823667, 1.0467495671336364, 1.7526015178781071, 0.9578393656276978, 1.7489069331667777, 1.1750694720127066, 1.8363939899833073, 1.3737146529563045, 0.9529911107551836, 1.1281805088814296, 0.9965717930319701, 2.0037718057520126, 0.7558459963782442, 1.5554166015319641, 1.5600501724678653, 2.1783419526719956, 2.049630909376472, 1.6459253311922901, 1.7453798767967206, 1.390644753476616, 1.5920319974903938, 1.5026236285577996, 1.9151846785225684, 2.772041302621135, 2.1059151440074317, 1.3601283716665402, 2.020905923344947, 1.9098960338852444, 3.636919315403416, 1.6710378418883403, 1.873025425003768, 3.371445323951916, 1.436118758836207, 0.9571152990057813, 1.1083835453395887, 2.186036136515724, 2.0444843855313333, 1.832795012393899, 2.7427724240178035, 1.57223375852863, 1.0295434198746611, 1.004688546550565, 2.47823174815808, 2.021935387599797, 1.6713302578839746, 2.680863917837172, 1.4407889667925036, 2.16776625824693, 1.1616880037932773, 2.4526198439241904, 1.3592233009708679, 1.927612850752342, 1.2849395077179744, 1.5080731087615797, 2.100736084691086, 2.1801965480221326, 2.3052399247935855, 1.6901180656639199, 2.91159772911598, 1.4396822770147235, 2.3162874153821087, 2.8017241379310387, 1.9742557055989893, 2.8763571544320183, 1.6500829187396309, 1.5900195694716266, 2.220394736842096, 2.675117293604412, 3.952503529021012, 3.5840817335420683, 4.031537023490213, 3.0847918165108283, 2.880112394630032, 4.013194062671797, 2.9291059789168754, 4.679431159132438, 2.6564250280044868, 6.572583842067702, 3.175340768277578, 1.4604150653343626, 1.9939717134245183, 2.0819086695539917, 2.371103560348654, 1.3491475166790163, 1.9225103123158407, 1.8993839835728978, 1.4646943088245945, 1.4963691043790952, 1.1332066091533932, 2.0503807850029374, 1.5933007262487073, 1.2547977561263572, 3.2924563359346015, 4.775218894856898, 3.7202380952380953, 2.6915835715779832, 2.029147200334702, 5.88112906581593, 3.453485862292259, 4.351271522224618, 2.9769137302551654, 1.3680425265791119, 2.480105076102919, 1.705200092172977, 2.2504592774035395, 2.1799844840962, 1.2907713711547393, 1.8054923380367134, 2.866534169087296, 3.554975429975437, 2.5127930955472437, 5.120867535205963, 2.2403106564110224, 1.9088487718259723, 3.204291721038124, 2.7983297926891755, 1.7717129071170044, 1.2536088740313065, 3.533463093277436, 3.787641154328732, 2.306912945210824, 1.195745011258632, 1.4030412290327576, 2.950200613641728, 1.476345840130496, 1.7949348414064519, 3.0051981806367793, 3.930340309953668, 1.5055148538764918, 1.8578352180936972, 1.097371222668089, 1.276111517516059, 2.014353286576414, 2.803129074315513, 3.4350827580470846, 1.0705721137375814, 1.361599448466057, 2.8139656070870203, 3.27658482333818, 1.2453405625211902, 1.884560128454326, 1.528255940885051, 1.4174935378971087, 2.353430353430352, 1.5133680847486104, 1.6360601001669397, 2.666105971404543, 2.9351360602430194, 4.8663807324315345, 2.5744914324301487, 2.291877317155387, 2.7990931287059713, 2.46813127203689, 3.041340375159342, 3.816038160381599, 4.051025685226688, 3.7548026545581537, 2.345965455014182, 3.14769975786925, 1.9543410584572856, 2.920331312441296, 1.8935212702725566, 2.820838627700126, 3.958821560093743, 2.247284186085088, 2.519750519750521, 2.777095109363469, 4.573954983922839, 4.702472018681056, 1.7830993194935025, 1.558576500129879, 1.229937194696438, 3.3330440065966402, 2.661137031276999, 2.7258430892888263, 1.601164483260557, 3.1113021057155055, 1.512105585176112, 2.202412165705293, 4.248834707780574, 4.771916994240788, 4.755911175042709, 3.2773709590998408, 6.430074087624623, 4.309090909090905, 3.108156665468913, 3.4147189156312505, 4.385444058020189, 2.6951834463571505, 4.539490947257936, 6.641017062562728, 3.248730964467008, 5.302388615957992, 10.371517027863769, 6.469529844324491, 7.947987435166909, 3.155376102886196, 3.8088642659279794, 1.4746911119968182, 2.8542061986084755, 1.5158730158730132, 1.6909574039777715, 3.74892384753854, 4.496286729092665, 2.2475736420909254, 1.3333333333333308, 1.720392736119562, 1.8405973259246435, 1.7002629272567904, 1.8153391817944837, 2.6247886822671083, 2.9928315412186284, 3.3218176986446983, 2.978987498891745, 4.033183302444628, 1.3627217852570048, 2.178073453021052, 3.3556439942112952, 5.256665717810045, 2.628654112318086, 1.5883619090031962, 1.3765631841433608, 1.5033034374900225, 4.112951398316596, 5.21930873802565, 1.4016139172017184, 2.528078456905672, 2.47557737845068, 1.3470113186367667, 1.5424804080109462, 2.7773821392964004, 3.471832886895486, 4.708128364932981, 1.3286904561521535, 1.7098049082198534, 1.3466730188978788, 1.6865259272692243, 1.5703261033126235, 1.8391932406650289, 0.9378160868991694, 1.6354908127793406, 3.005464480874325, 3.3676064123825387, 2.0338607945114617, 2.78501807030994, 2.7169197396963227, 2.3090406525989424, 3.2010692885380054, 1.195278307869859, 1.212568895960006, 2.3991126256446607, 3.7913750598791958, 3.903056484578212, 4.439612526172885, 2.4454108700106976, 3.9370354788949653, 1.8838456602540015, 2.567598826379667, 1.4859651951724653, 1.1948392848298615, 1.394802891999556, 1.5937652704514484, 1.4575866188769488, 2.4162431477342285, 1.7652351323609552, 2.3891082572464297, 1.217105263157899, 1.5644862871455298, 1.0365314119580245, 1.7320518347576899, 1.9486237127215664, 2.50141007647205, 2.664858804203276, 4.0356394129979, 2.7453507176066325, 3.0930330322679236, 1.9546602118632979, 1.0510251476345318, 1.4463334179142326, 2.1702276519024806, 2.5069637883008324, 4.393996857560817, 2.0996617440805228, 1.9978190359020271, 2.669311419665628, 1.6154284087674424, 2.127842250618884, 2.43926980020122, 2.050422617312752, 4.2624674983201265, 1.7166764913087897, 3.5171411231704948, 2.0291728731626466, 1.9928151165421928, 3.5363540569019962, 2.879337131020194, 1.9868642034548987, 2.3007830841701966, 4.672827545088695, 5.216414234700164, 2.7410130045656027, 3.3683549740641645, 3.8574266453903014, 3.9943841026907028, 2.39170747943512, 3.4472934472934433, 4.765557729941286, 5.4024809070522375, 5.406952029037641, 6.9511892524192636, 9.467065483082466, 4.049010971410276, 5.156158880321389, 7.456257565515391, 7.364044206149467, 9.629908272808809, 8.150470219435743, 3.3308372454710238, 5.961940847141321, 5.426108230908157, 3.2948057373624837, 2.717464781115636, 3.390328221145493, 5.984226793136511, 7.868821624816967, 7.917321231163095, 4.562317691370953, 3.822833682264351, 5.4188642874354125, 4.912925387442081, 3.103949447077413, 1.984656645668319, 1.4074489986898748, 1.6084908050053144, 0.9591015256174595, 0.8789462576504306, 1.7599009900990064, 1.6029007251813085, 2.393007380538542, 1.6717591664996918, 1.5202955714214432, 1.7924327837706053, 1.8783337566675125, 3.5971875121395445, 4.46088236404122, 1.6471266095495738, 1.9761769148857182, 1.9493848409511012, 2.2108799250019624, 1.7953997589393238, 1.2245934959349578, 0.8372659461105149, 0.9479939430185711, 1.172964505406343, 1.1392860816788342, 1.8810874795743793, 1.698815047743214, 1.8717672965637362, 1.4125650779637173, 1.3535250500215736, 2.3921594772985015, 1.1359190556492393, 2.3981269708083603, 1.357282733472882, 1.8014854827819085, 1.4141162809985846, 2.556065628337225, 1.9899192156321237, 1.818461796903425, 0.6953448939171565, 1.3667133186712859, 1.4462780243296292, 0.7897206381289209, 0.9849663037843406, 1.0559981559650065, 1.3603966980381987, 1.5880739626647766, 1.9198403360092957, 0.9598251051914488, 1.563204569367212, 2.175053589363064, 1.3631325084634, 1.1832603019985737, 1.0005395822092054, 1.25596308751076, 1.787227602905565, 0.7891428484876036, 0.9997424905706055, 1.7428432504710256, 1.467249706702412, 0.891521293168607, 1.0717306065964523, 2.132918344928592, 0.9754472061919774, 1.199149969641761, 1.0371162364441762, 1.0543576540542232, 1.4043264292394204, 0.7151904600080229, 1.5960901976553616, 1.3778913897375262, 0.8575794430411282, 0.8285895003162569, 0.7301226858422445, 0.9569226882263795, 2.642548046328117, 4.778011994051995, 1.6665006805431144, 2.8677165867814414, 1.0127905647124122, 1.564356435643565, 1.2224735546537147, 0.8335844129757918, 1.0724671788061628, 1.5189146265227178, 1.3830097170571236, 1.117260642424875, 0.872334533370266, 1.1650019702239196, 1.449944430195775, 2.2444189353573, 1.3675394890278825, 0.9437672040896556, 1.637119954296327, 1.7778722198611663, 1.580454626812235, 2.64404031470529, 2.5240384615384537, 1.764401548534418, 1.6806265636897633, 1.671180881838121, 0.9674209478882556, 1.9705157898606718, 2.3737188872620734, 0.9908691867464369, 2.2778001390464424, 1.5121187859378467, 1.529325781107247, 0.7817397396659159, 1.163414408582258, 1.7167302834172418, 1.5788243333153515, 2.669942669942668, 2.3365451437801688, 2.4813288936546374, 0.8905852417302821, 1.149337798751711, 1.0359169711575862, 1.3258842506983644, 1.53628852814271, 1.272076558002016, 1.161870076402352, 2.412978544794325, 1.0336628215457844, 5.209193371863061, 1.7203402703934354, 0.9642686993806578, 1.4274536745482045, 1.2689480937069297, 1.5998742113642173, 2.673520830438841, 1.8658041102915035, 5.328112704170739, 1.436746866561885, 1.7129201975983004, 2.0241776778183915, 2.873410203371083, 2.0325622665648657, 3.0592930913878984, 2.31660231660232, 5.181269448505972, 4.558294101356966, 1.355450974291151, 1.0496905256213818, 1.2374067073289514, 1.205148739183945, 0.9477283829995103, 0.7727672894453743, 1.7493343851691163, 1.9991290922766283, 1.058106525321093, 0.8986749028594211, 1.267102914931594, 0.9092533402156112, 0.8835373549976868, 1.3097380523895243, 1.0612474170963215, 1.3365784403204521, 1.4854498965055387, 1.0701474691111978, 0.8556064210463274, 0.8652259648275578, 1.8866793244728601, 1.235276042200132, 0.9935117599351216, 1.8057589067838073, 1.9997128617429323, 0.9924038225925105, 1.34307401151787, 1.2835924288421234, 1.2820774971884314, 2.5305089588180114, 1.427672955974852, 1.6974917658981399, 1.6240913811007194, 1.3242685241183667, 1.2323025917971622, 1.916237814317386, 3.2049234438552836, 1.7893345085941048, 2.083425389951831, 2.954478307311191, 4.298086421171124, 1.676311196840277, 1.4297767541559356, 1.8663263678417668, 1.4980764878931863, 1.9386976618947276, 1.5211535414355821, 1.7011443661971746, 1.7586191904699895, 2.201529763884259, 2.1751696675159073, 1.8876738507272446, 2.990259809458852, 2.2538246067657823, 3.490454104195869, 3.0602597829661238, 2.481894377085196, 1.752247752247743, 3.178904890014241, 2.5539773285397227, 0.7534087387666483, 2.1185459597129084, 2.8277439024390145, 2.111823792811336, 1.031790295593978, 1.4069848894226016, 1.2697973853627724, 0.6868591446733909, 1.8544485039992102, 1.2652652652652752, 0.7958519233088163, 2.350117001533136, 1.3936714276981959, 0.9258308870322101, 1.9698677872296784, 1.2676573854821633, 1.27332556666053, 1.7818858460418272, 1.94849099514414, 0.5932679697745659, 1.6421870756116446, 1.7057791882411897, 1.755422398514644, 1.716646332327318, 0.7943874797625518, 1.077828759414764, 1.6864864864864888, 4.309537990300356, 2.801701109140256, 3.497156614503346, 3.322675694313843, 2.5223001645449017, 1.6345757266589969, 1.3872253315620995, 1.907744874715267, 0.8379390265644447, 1.2959108305915543, 1.8125463243716777, 2.0914463737572815, 2.0647149460708834, 1.3806566939505038, 0.8953828170660328, 0.8414918414918349, 2.139592854175321, 1.2930125787636728, 1.1353240599563739, 1.2894755351323406, 1.2146601759970004, 1.1103335665966856, 0.9438660563948188, 1.1972484707114468, 1.353942291760368, 1.129618992915952, 1.1302540084589812, 1.0972162330506408, 1.479543292102759, 0.7533950765391815, 1.1407208588957032, 1.3293269230769336, 2.072624772011275, 1.5419639504318357, 1.5580503189060675, 2.539728263478803, 1.799561082662764, 2.6283067170547434, 3.556106633601995, 2.545861997081501, 1.7132314180284622, 2.407754846779236, 1.7737117251680337, 2.225468065329972, 2.6081926697165625, 1.2109507529295056, 2.7963621158268874, 1.8397610425312707, 2.159896840747891, 1.348443161077677, 1.423592493297584, 2.015308853441816, 3.1703284982935154, 2.176567970255379, 1.9657244109748357, 3.1980695087787394, 2.547860758419807, 2.9079118028534245, 1.8227887374925624, 2.490446356617356, 4.2582273157396635, 6.6776738213171765, 3.26816933576227, 5.3902667778241, 4.188907528849565, 4.9880650638580635, 1.8742160021644325, 3.331130528428414, 2.2517363226513942, 1.7525847042811817, 1.6825655529456838, 2.7823083565192452, 3.9681193827369974, 3.5354966699730763, 2.4803131041637188, 3.3502010572448317, 2.011852776044913, 1.8234581724287517, 2.779531109107297, 3.520374536942341, 2.2163538621144907, 2.6710005652911253, 2.5547104661471676, 2.0480936271372427, 3.2966284481779953, 2.9967806754099784, 2.8232708522643195, 2.640051513200266, 4.39416089323926, 2.9170845870946187, 3.0348012535048685, 1.8281096865811979, 1.5962662273993022, 2.8168736835889145, 1.4723703344643706, 3.0364945784107555, 3.8454839271545005, 2.488145048814507, 1.7293120264085904, 2.7460174100194124, 6.188477536654678, 3.412142494976621, 2.0917767028369676, 4.3329952982391475, 3.826563686540354, 1.971565033877592, 1.7360267598527366, 3.0616661334939037, 1.476487630933812, 2.7870493991989322, 2.0614329381942924, 2.7048587277145955, 3.2645141845307557, 4.543295579101208, 2.217815297285498, 2.0489994114184893, 3.4374151506923725, 2.420101074809594, 1.5797116849077375, 1.4651685393258385, 1.34092711412299, 0.7964407338240183, 1.2782353048591124, 1.7887831470017619, 1.3991983372921575, 2.0873432623848363, 1.84168254324031, 1.402660217654181, 1.969311870469734, 2.1265096168182467, 2.54460477020661, 1.9066715275246071, 2.5438612373485925, 2.2988716968650036, 3.4560300812858276, 2.422841807067238, 2.069496936117125, 2.6571366215626337, 1.9947071849064704, 1.1096075778078391, 1.2646107708705994, 2.57752499637734, 1.8279032765351235, 0.7274636268186555, 1.1038654191475346, 0.8311094166984367, 1.1372078404480281, 1.16954594098762, 1.4658290500666344, 1.8581750268822264, 2.1912766320742207, 1.0907192171575548, 1.1418929524407486, 1.0898593983190632, 1.5367125328315474, 1.1568580920740406, 1.2263871031549747, 1.5873015873015908, 1.303279987323723, 1.045012889153284, 1.5623757652858419, 3.8509019951415806, 2.2087857847976413, 1.4577574291637962, 1.6214699024095447, 2.6083074699205047, 1.2005335704757676, 1.2521561362039246, 0.8313157500053675, 1.2537016622354762, 1.1623644087899796, 1.4741379310344775, 0.9799679833859644, 1.4034253092293074, 1.1459589867309936, 0.48447097499783, 1.1098105518706387, 1.1434693252874986, 0.5769939914535439, 0.7332941662858831, 1.7196204064557297, 1.1463550361713981, 2.342473616814589, 2.0756263429546054, 2.2852709741771, 1.2968781335650794, 1.745757454916028, 2.131114719818489, 2.275175013462565, 0.7845759500724482, 1.8086090672776094, 0.7890420674675331, 1.5410310655828976, 1.0570175438596476, 0.9971851884178157, 0.7125221986399286, 1.2585516974312656, 0.7368466410996655, 0.9142980654922768, 1.1605039655955007, 0.978507029013371, 1.11381905250556, 0.8258274320190042, 1.0640580083236693, 1.3193762948424315, 1.1066043558768965, 0.6489063500121484, 1.0045722324804378, 1.0545661401129094, 1.3974029398193828, 1.454985692273831, 1.1203128089097931, 1.243093922651934, 0.8903716141575686, 1.3573169928180846, 1.3099379155475295, 1.04691138959743, 0.8801120938786257, 1.3688461958301548, 1.4266021924162549, 1.1558637858984528, 1.3688519090116125, 1.5580956608589462, 3.2826170506183123, 1.7224790556872358, 2.233157586408895, 2.316535781984694, 3.220022413149046, 2.2583261519744466, 1.430115364314966, 1.8180444690655484, 3.0701424886685174, 1.689458973847074, 3.376882466000044, 1.5601994775587662, 1.0924506766671964, 1.4315309233956426, 0.7683578419783508, 1.1417201601250666, 1.1162414318354943, 1.2765855527878933, 1.410136704254348, 1.893647738209815, 2.4896766559609733, 1.226480503024358, 4.2037969779155295, 2.2880414661236568, 2.6477984320299743, 2.827900659681793, 2.8346032290467296, 4.710722183910766, 3.8544824599393603, 2.9171671610325243, 2.36148298236727, 2.2003901232218404, 1.0414212336836157, 2.1429409693697847, 0.8325387781679426, 1.1970512790885786, 1.497461928934012, 2.3310182032775, 1.192107426692241, 1.4532663781732351, 1.1499929448285529, 0.9048058930813091, 1.1986541427169615, 1.8137932650622195, 2.178381571175438, 3.9506001204875068, 1.411341466226972, 1.2807790829160217, 1.7762195546680921, 1.209333206867111, 1.2883141762452028, 1.7847316921457506, 1.6278625041832109, 1.7488682392184935, 2.3628488931665044, 2.781921241050119, 1.8758216199817914, 3.886135468293294, 4.8410499934045665, 3.683786662510065, 2.659465547250933, 5.92969189106332, 4.801163918525704, 4.009528585757281, 1.1185238461347697, 1.1792452830188715, 1.5992003998001012, 1.818762749772642, 1.1234588916178203, 2.5245642974969456, 2.2977659298402973, 1.4682918871046577, 0.6563779231167446, 1.2226647104031267, 1.028701467583127, 2.3400681256124307, 1.8091108313516953, 0.9527403075181669, 0.57434284216296, 0.7342531493701198, 0.9389110543039413, 0.9526077637532712, 1.3163542709972806, 0.8124397299903477, 1.48327422601361, 1.7623070200990367, 0.8041580857114736, 0.7934383138218913, 0.619566548304151, 1.0293436105080787, 0.5411590816983428, 1.1000237586124992, 1.2372756096979651, 0.7510908700731961, 1.3147955811537981, 0.9821578656676967, 0.8647760761389537, 0.9012699713232338, 0.5361995341614995, 2.3874026413816507, 1.2888551933282815, 0.8981374690191644, 2.209170885142775, 1.804437941965362, 1.7250569365702457, 1.8296991107321348, 2.1308647374687064, 3.335026240054168, 1.719725417972193, 0.986598504574656, 0.49089695929843663, 1.0970101097010185, 1.6829585399913278, 0.576262873957821, 1.0151045606500668, 0.9149976881707463, 1.1222710640701203, 1.325876283689304, 0.618408437200373, 0.6414383479981839, 1.6874419048072988, 1.0788282924505903, 0.6878864867455995, 1.8589589829695337, 1.8111753371869037, 1.9105741686386921, 2.541493775933601, 1.595942100705174, 2.592148636499842, 2.9863765810606115, 0.6781193490054318, 1.457151229388114, 0.7865408201354495, 1.4025656038750227, 1.130740169211933, 1.304045748490192, 0.7025516466870337, 1.020195167771221, 1.4559668406831232, 0.5630871050384247, 1.0374993332266573, 0.767461760616106, 1.8435383185017997, 0.7820660470846655, 0.5965717370765383, 0.9072498987444271, 0.9003355796251283, 0.7686270264418494, 1.1195956411858992, 1.3807565565510986, 1.0202138368201976, 0.770462005914107, 1.4426748118250148, 1.76093326698734, 1.1054140478553405, 1.9611012337697364, 2.8135773004508082, 0.8092272930296099, 1.5585366491461952, 1.8408907199290656, 0.8032234277888963, 1.272665249678552, 3.1592421915002604, 1.3314337521046389, 1.609626504141259, 1.153856104312726, 1.5242410978655443, 2.233694540993668, 0.7914492938032827, 0.6098183302714768, 0.7709053656037954, 1.9371269808602594, 1.27995854385283, 0.8077586657604368, 1.3473640232916373, 1.001726212271807, 1.2277342007922465, 1.767723756612348, 1.7370706671930427, 1.7838021363838175, 1.4592319016503466, 1.2655279503105517, 0.9117346537766224, 1.5931826602445451, 3.352658779086541, 1.3272717771855636, 2.192365776180802, 1.4289501590668119, 1.076334038394586, 1.3884793738440526, 2.244790292798732, 1.200628366247768, 1.466012613875252, 0.6844319775596067, 4.345684417930055, 0.5666575417465117, 1.3338080631025466, 1.664086687306512, 1.036443597859877, 1.0274923632324284, 0.9767636009461502, 0.9739804081174426, 1.558006421890269, 1.348758465011271, 2.0489826035133563, 0.933959816667162, 1.0053735482752615, 1.769834853909226, 1.272234999563299, 0.751769300795819, 1.4232078931284504, 1.5081643899184896, 0.8081630279949961, 1.9599872237869773, 2.027338793401785, 1.7498846863468613, 1.9636260301221806, 1.3973599060790869, 1.1027828034806593, 1.006750129810179, 1.3254152680953502, 2.116113471919151, 1.595124227225021, 1.5748950069995309, 2.482715273412947, 1.5575878822520768, 2.4631536442560042, 5.905672160525665, 0.7395568077152388, 0.9698246751492605, 1.2873215058416245, 0.6302349057375976, 1.6588063099691057, 0.730970046716126, 1.150807752234643, 0.7067041392671024, 0.5928799759569376, 0.8572442600125586, 0.9676625755132143, 1.0201583285725946, 1.0795485524235342, 0.8784893267651833, 1.4371290393493164, 3.1434023991275866, 0.8721008721008733, 1.019474930062419, 1.1420875420875407, 1.1378555798687195, 1.201077396657865, 0.9207398704953313, 3.033806849465909, 1.4881290469158266, 0.9315430838676234, 2.1916236374067783, 0.8314998428436632, 1.5318733114904701, 0.7213441632701, 0.5929143796413316, 0.8544007490636751, 0.72410873310171, 0.5408424208576982, 0.5782746656386026, 1.2316073067472064, 1.0934334405911015, 0.6642044439149312, 0.7246376811594265, 0.9419665408730283, 0.8095719983332296, 2.2906396670307383, 0.6793518218980726, 0.6339330261497406, 0.7436467970488283, 1.1286616051429885, 1.2030602114115487, 0.7310842949000125, 0.8681370248709509, 0.6939767503147839, 0.9048581217605126, 2.370531386775555, 1.8486337488015263, 0.9731924293987717, 0.6694960846434236, 1.2849629452546012, 2.1364228991347534, 0.8911216769833492, 0.7892209818749194, 0.5340854536726007, 1.2415078458486044, 0.5998727542642481, 0.4460898855946516, 0.5161995566756801, 1.2408914905942148, 0.7112375533428149, 0.8524530697379268, 0.8596422193298391, 0.895639807558472, 1.1008565568826214, 1.8264702330636515], \"y0\": \" \", \"yaxis\": \"y\"}],                        {\"boxmode\": \"group\", \"legend\": {\"tracegroupgap\": 0}, \"margin\": {\"t\": 60}, \"template\": {\"data\": {\"bar\": [{\"error_x\": {\"color\": \"#2a3f5f\"}, \"error_y\": {\"color\": \"#2a3f5f\"}, \"marker\": {\"line\": {\"color\": \"#E5ECF6\", \"width\": 0.5}}, \"type\": \"bar\"}], \"barpolar\": [{\"marker\": {\"line\": {\"color\": \"#E5ECF6\", \"width\": 0.5}}, \"type\": \"barpolar\"}], \"carpet\": [{\"aaxis\": {\"endlinecolor\": \"#2a3f5f\", \"gridcolor\": \"white\", \"linecolor\": \"white\", \"minorgridcolor\": \"white\", \"startlinecolor\": \"#2a3f5f\"}, \"baxis\": {\"endlinecolor\": \"#2a3f5f\", \"gridcolor\": \"white\", \"linecolor\": \"white\", \"minorgridcolor\": \"white\", \"startlinecolor\": \"#2a3f5f\"}, \"type\": \"carpet\"}], \"choropleth\": [{\"colorbar\": {\"outlinewidth\": 0, \"ticks\": \"\"}, \"type\": \"choropleth\"}], \"contour\": [{\"colorbar\": {\"outlinewidth\": 0, \"ticks\": \"\"}, \"colorscale\": [[0.0, \"#0d0887\"], [0.1111111111111111, \"#46039f\"], [0.2222222222222222, \"#7201a8\"], [0.3333333333333333, \"#9c179e\"], [0.4444444444444444, \"#bd3786\"], [0.5555555555555556, \"#d8576b\"], [0.6666666666666666, \"#ed7953\"], [0.7777777777777778, \"#fb9f3a\"], [0.8888888888888888, \"#fdca26\"], [1.0, \"#f0f921\"]], \"type\": \"contour\"}], \"contourcarpet\": [{\"colorbar\": {\"outlinewidth\": 0, \"ticks\": \"\"}, \"type\": \"contourcarpet\"}], \"heatmap\": [{\"colorbar\": {\"outlinewidth\": 0, \"ticks\": \"\"}, \"colorscale\": [[0.0, \"#0d0887\"], [0.1111111111111111, \"#46039f\"], [0.2222222222222222, \"#7201a8\"], [0.3333333333333333, \"#9c179e\"], [0.4444444444444444, \"#bd3786\"], [0.5555555555555556, \"#d8576b\"], [0.6666666666666666, \"#ed7953\"], [0.7777777777777778, \"#fb9f3a\"], [0.8888888888888888, \"#fdca26\"], [1.0, \"#f0f921\"]], \"type\": \"heatmap\"}], \"heatmapgl\": [{\"colorbar\": {\"outlinewidth\": 0, \"ticks\": \"\"}, \"colorscale\": [[0.0, \"#0d0887\"], [0.1111111111111111, \"#46039f\"], [0.2222222222222222, \"#7201a8\"], [0.3333333333333333, \"#9c179e\"], [0.4444444444444444, \"#bd3786\"], [0.5555555555555556, \"#d8576b\"], [0.6666666666666666, \"#ed7953\"], [0.7777777777777778, \"#fb9f3a\"], [0.8888888888888888, \"#fdca26\"], [1.0, \"#f0f921\"]], \"type\": \"heatmapgl\"}], \"histogram\": [{\"marker\": {\"colorbar\": {\"outlinewidth\": 0, \"ticks\": \"\"}}, \"type\": \"histogram\"}], \"histogram2d\": [{\"colorbar\": {\"outlinewidth\": 0, \"ticks\": \"\"}, \"colorscale\": [[0.0, \"#0d0887\"], [0.1111111111111111, \"#46039f\"], [0.2222222222222222, \"#7201a8\"], [0.3333333333333333, \"#9c179e\"], [0.4444444444444444, \"#bd3786\"], [0.5555555555555556, \"#d8576b\"], [0.6666666666666666, \"#ed7953\"], [0.7777777777777778, \"#fb9f3a\"], [0.8888888888888888, \"#fdca26\"], [1.0, \"#f0f921\"]], \"type\": \"histogram2d\"}], \"histogram2dcontour\": [{\"colorbar\": {\"outlinewidth\": 0, \"ticks\": \"\"}, \"colorscale\": [[0.0, \"#0d0887\"], [0.1111111111111111, \"#46039f\"], [0.2222222222222222, \"#7201a8\"], [0.3333333333333333, \"#9c179e\"], [0.4444444444444444, \"#bd3786\"], [0.5555555555555556, \"#d8576b\"], [0.6666666666666666, \"#ed7953\"], [0.7777777777777778, \"#fb9f3a\"], [0.8888888888888888, \"#fdca26\"], [1.0, \"#f0f921\"]], \"type\": \"histogram2dcontour\"}], \"mesh3d\": [{\"colorbar\": {\"outlinewidth\": 0, \"ticks\": \"\"}, \"type\": \"mesh3d\"}], \"parcoords\": [{\"line\": {\"colorbar\": {\"outlinewidth\": 0, \"ticks\": \"\"}}, \"type\": \"parcoords\"}], \"pie\": [{\"automargin\": true, \"type\": \"pie\"}], \"scatter\": [{\"marker\": {\"colorbar\": {\"outlinewidth\": 0, \"ticks\": \"\"}}, \"type\": \"scatter\"}], \"scatter3d\": [{\"line\": {\"colorbar\": {\"outlinewidth\": 0, \"ticks\": \"\"}}, \"marker\": {\"colorbar\": {\"outlinewidth\": 0, \"ticks\": \"\"}}, \"type\": \"scatter3d\"}], \"scattercarpet\": [{\"marker\": {\"colorbar\": {\"outlinewidth\": 0, \"ticks\": \"\"}}, \"type\": \"scattercarpet\"}], \"scattergeo\": [{\"marker\": {\"colorbar\": {\"outlinewidth\": 0, \"ticks\": \"\"}}, \"type\": \"scattergeo\"}], \"scattergl\": [{\"marker\": {\"colorbar\": {\"outlinewidth\": 0, \"ticks\": \"\"}}, \"type\": \"scattergl\"}], \"scattermapbox\": [{\"marker\": {\"colorbar\": {\"outlinewidth\": 0, \"ticks\": \"\"}}, \"type\": \"scattermapbox\"}], \"scatterpolar\": [{\"marker\": {\"colorbar\": {\"outlinewidth\": 0, \"ticks\": \"\"}}, \"type\": \"scatterpolar\"}], \"scatterpolargl\": [{\"marker\": {\"colorbar\": {\"outlinewidth\": 0, \"ticks\": \"\"}}, \"type\": \"scatterpolargl\"}], \"scatterternary\": [{\"marker\": {\"colorbar\": {\"outlinewidth\": 0, \"ticks\": \"\"}}, \"type\": \"scatterternary\"}], \"surface\": [{\"colorbar\": {\"outlinewidth\": 0, \"ticks\": \"\"}, \"colorscale\": [[0.0, \"#0d0887\"], [0.1111111111111111, \"#46039f\"], [0.2222222222222222, \"#7201a8\"], [0.3333333333333333, \"#9c179e\"], [0.4444444444444444, \"#bd3786\"], [0.5555555555555556, \"#d8576b\"], [0.6666666666666666, \"#ed7953\"], [0.7777777777777778, \"#fb9f3a\"], [0.8888888888888888, \"#fdca26\"], [1.0, \"#f0f921\"]], \"type\": \"surface\"}], \"table\": [{\"cells\": {\"fill\": {\"color\": \"#EBF0F8\"}, \"line\": {\"color\": \"white\"}}, \"header\": {\"fill\": {\"color\": \"#C8D4E3\"}, \"line\": {\"color\": \"white\"}}, \"type\": \"table\"}]}, \"layout\": {\"annotationdefaults\": {\"arrowcolor\": \"#2a3f5f\", \"arrowhead\": 0, \"arrowwidth\": 1}, \"autotypenumbers\": \"strict\", \"coloraxis\": {\"colorbar\": {\"outlinewidth\": 0, \"ticks\": \"\"}}, \"colorscale\": {\"diverging\": [[0, \"#8e0152\"], [0.1, \"#c51b7d\"], [0.2, \"#de77ae\"], [0.3, \"#f1b6da\"], [0.4, \"#fde0ef\"], [0.5, \"#f7f7f7\"], [0.6, \"#e6f5d0\"], [0.7, \"#b8e186\"], [0.8, \"#7fbc41\"], [0.9, \"#4d9221\"], [1, \"#276419\"]], \"sequential\": [[0.0, \"#0d0887\"], [0.1111111111111111, \"#46039f\"], [0.2222222222222222, \"#7201a8\"], [0.3333333333333333, \"#9c179e\"], [0.4444444444444444, \"#bd3786\"], [0.5555555555555556, \"#d8576b\"], [0.6666666666666666, \"#ed7953\"], [0.7777777777777778, \"#fb9f3a\"], [0.8888888888888888, \"#fdca26\"], [1.0, \"#f0f921\"]], \"sequentialminus\": [[0.0, \"#0d0887\"], [0.1111111111111111, \"#46039f\"], [0.2222222222222222, \"#7201a8\"], [0.3333333333333333, \"#9c179e\"], [0.4444444444444444, \"#bd3786\"], [0.5555555555555556, \"#d8576b\"], [0.6666666666666666, \"#ed7953\"], [0.7777777777777778, \"#fb9f3a\"], [0.8888888888888888, \"#fdca26\"], [1.0, \"#f0f921\"]]}, \"colorway\": [\"#636efa\", \"#EF553B\", \"#00cc96\", \"#ab63fa\", \"#FFA15A\", \"#19d3f3\", \"#FF6692\", \"#B6E880\", \"#FF97FF\", \"#FECB52\"], \"font\": {\"color\": \"#2a3f5f\"}, \"geo\": {\"bgcolor\": \"white\", \"lakecolor\": \"white\", \"landcolor\": \"#E5ECF6\", \"showlakes\": true, \"showland\": true, \"subunitcolor\": \"white\"}, \"hoverlabel\": {\"align\": \"left\"}, \"hovermode\": \"closest\", \"mapbox\": {\"style\": \"light\"}, \"paper_bgcolor\": \"white\", \"plot_bgcolor\": \"#E5ECF6\", \"polar\": {\"angularaxis\": {\"gridcolor\": \"white\", \"linecolor\": \"white\", \"ticks\": \"\"}, \"bgcolor\": \"#E5ECF6\", \"radialaxis\": {\"gridcolor\": \"white\", \"linecolor\": \"white\", \"ticks\": \"\"}}, \"scene\": {\"xaxis\": {\"backgroundcolor\": \"#E5ECF6\", \"gridcolor\": \"white\", \"gridwidth\": 2, \"linecolor\": \"white\", \"showbackground\": true, \"ticks\": \"\", \"zerolinecolor\": \"white\"}, \"yaxis\": {\"backgroundcolor\": \"#E5ECF6\", \"gridcolor\": \"white\", \"gridwidth\": 2, \"linecolor\": \"white\", \"showbackground\": true, \"ticks\": \"\", \"zerolinecolor\": \"white\"}, \"zaxis\": {\"backgroundcolor\": \"#E5ECF6\", \"gridcolor\": \"white\", \"gridwidth\": 2, \"linecolor\": \"white\", \"showbackground\": true, \"ticks\": \"\", \"zerolinecolor\": \"white\"}}, \"shapedefaults\": {\"line\": {\"color\": \"#2a3f5f\"}}, \"ternary\": {\"aaxis\": {\"gridcolor\": \"white\", \"linecolor\": \"white\", \"ticks\": \"\"}, \"baxis\": {\"gridcolor\": \"white\", \"linecolor\": \"white\", \"ticks\": \"\"}, \"bgcolor\": \"#E5ECF6\", \"caxis\": {\"gridcolor\": \"white\", \"linecolor\": \"white\", \"ticks\": \"\"}}, \"title\": {\"x\": 0.05}, \"xaxis\": {\"automargin\": true, \"gridcolor\": \"white\", \"linecolor\": \"white\", \"ticks\": \"\", \"title\": {\"standoff\": 15}, \"zerolinecolor\": \"white\", \"zerolinewidth\": 2}, \"yaxis\": {\"automargin\": true, \"gridcolor\": \"white\", \"linecolor\": \"white\", \"ticks\": \"\", \"title\": {\"standoff\": 15}, \"zerolinecolor\": \"white\", \"zerolinewidth\": 2}}}, \"xaxis\": {\"anchor\": \"y\", \"domain\": [0.0, 1.0]}, \"yaxis\": {\"anchor\": \"x\", \"domain\": [0.0, 1.0], \"title\": {\"text\": \"daily_change_pct\"}}},                        {\"responsive\": true}                    ).then(function(){\n",
       "                            \n",
       "var gd = document.getElementById('11910a5e-c0c5-482d-a990-59186fe0136a');\n",
       "var x = new MutationObserver(function (mutations, observer) {{\n",
       "        var display = window.getComputedStyle(gd).display;\n",
       "        if (!display || display === 'none') {{\n",
       "            console.log([gd, 'removed!']);\n",
       "            Plotly.purge(gd);\n",
       "            observer.disconnect();\n",
       "        }}\n",
       "}});\n",
       "\n",
       "// Listen for the removal of the full notebook cells\n",
       "var notebookContainer = gd.closest('#notebook-container');\n",
       "if (notebookContainer) {{\n",
       "    x.observe(notebookContainer, {childList: true});\n",
       "}}\n",
       "\n",
       "// Listen for the clearing of the current output cell\n",
       "var outputEl = gd.closest('.output');\n",
       "if (outputEl) {{\n",
       "    x.observe(outputEl, {childList: true});\n",
       "}}\n",
       "\n",
       "                        })                };                });            </script>        </div>"
      ]
     },
     "metadata": {},
     "output_type": "display_data"
    }
   ],
   "source": [
    "import plotly.express as px\n",
    "fig = px.box(aapl, y='daily_change_pct') # orientation = 'h' won't work somehow\n",
    "fig.show()"
   ]
  },
  {
   "cell_type": "markdown",
   "metadata": {},
   "source": [
    "Calculate iqr, outliner and dates of outliers to check if there was news. <br>\n",
    "For how to draw above via matplotlib and the actual calculation, see https://towardsdatascience.com/create-and-customize-boxplots-with-pythons-matplotlib-to-get-lots-of-insights-from-your-data-d561c9883643"
   ]
  },
  {
   "cell_type": "code",
   "execution_count": 42,
   "metadata": {},
   "outputs": [
    {
     "name": "stdout",
     "output_type": "stream",
     "text": [
      "q75 is 2.5090297010818947, q25 is 1.201573100346286 therefore iqr is 1.3074566007356088, upperfence is 4.470214602185308\n"
     ]
    }
   ],
   "source": [
    "import numpy as np\n",
    "q75, q25 = np.percentile(aapl[\"daily_change_pct\"],[75,25])\n",
    "print(f\"q75 is {q75}, q25 is {q25} therefore iqr is {q75-q25}, upperfence is {1.5*(q75-q25)+q75}\")"
   ]
  },
  {
   "cell_type": "code",
   "execution_count": 43,
   "metadata": {},
   "outputs": [
    {
     "data": {
      "text/html": [
       "<div>\n",
       "<style scoped>\n",
       "    .dataframe tbody tr th:only-of-type {\n",
       "        vertical-align: middle;\n",
       "    }\n",
       "\n",
       "    .dataframe tbody tr th {\n",
       "        vertical-align: top;\n",
       "    }\n",
       "\n",
       "    .dataframe thead th {\n",
       "        text-align: right;\n",
       "    }\n",
       "</style>\n",
       "<table border=\"1\" class=\"dataframe\">\n",
       "  <thead>\n",
       "    <tr style=\"text-align: right;\">\n",
       "      <th></th>\n",
       "      <th>Open</th>\n",
       "      <th>High</th>\n",
       "      <th>Low</th>\n",
       "      <th>Close</th>\n",
       "      <th>Volume</th>\n",
       "      <th>daily_change_pct</th>\n",
       "    </tr>\n",
       "    <tr>\n",
       "      <th>Date</th>\n",
       "      <th></th>\n",
       "      <th></th>\n",
       "      <th></th>\n",
       "      <th></th>\n",
       "      <th></th>\n",
       "      <th></th>\n",
       "    </tr>\n",
       "  </thead>\n",
       "  <tbody>\n",
       "    <tr>\n",
       "      <th>2022-02-24</th>\n",
       "      <td>152.580</td>\n",
       "      <td>162.850</td>\n",
       "      <td>152.000</td>\n",
       "      <td>162.740</td>\n",
       "      <td>141147540</td>\n",
       "      <td>6.662573</td>\n",
       "    </tr>\n",
       "    <tr>\n",
       "      <th>2022-01-24</th>\n",
       "      <td>160.020</td>\n",
       "      <td>162.300</td>\n",
       "      <td>154.700</td>\n",
       "      <td>161.620</td>\n",
       "      <td>162706686</td>\n",
       "      <td>4.682686</td>\n",
       "    </tr>\n",
       "    <tr>\n",
       "      <th>2021-12-16</th>\n",
       "      <td>179.280</td>\n",
       "      <td>181.140</td>\n",
       "      <td>170.750</td>\n",
       "      <td>172.260</td>\n",
       "      <td>150185843</td>\n",
       "      <td>5.735895</td>\n",
       "    </tr>\n",
       "    <tr>\n",
       "      <th>2021-02-25</th>\n",
       "      <td>124.100</td>\n",
       "      <td>125.870</td>\n",
       "      <td>119.980</td>\n",
       "      <td>120.420</td>\n",
       "      <td>148890667</td>\n",
       "      <td>4.679431</td>\n",
       "    </tr>\n",
       "    <tr>\n",
       "      <th>2021-02-23</th>\n",
       "      <td>123.190</td>\n",
       "      <td>126.130</td>\n",
       "      <td>117.840</td>\n",
       "      <td>125.280</td>\n",
       "      <td>159011126</td>\n",
       "      <td>6.572584</td>\n",
       "    </tr>\n",
       "    <tr>\n",
       "      <th>2021-01-29</th>\n",
       "      <td>135.000</td>\n",
       "      <td>135.910</td>\n",
       "      <td>129.420</td>\n",
       "      <td>131.150</td>\n",
       "      <td>178618209</td>\n",
       "      <td>4.775219</td>\n",
       "    </tr>\n",
       "    <tr>\n",
       "      <th>2021-01-25</th>\n",
       "      <td>142.200</td>\n",
       "      <td>144.190</td>\n",
       "      <td>135.710</td>\n",
       "      <td>142.050</td>\n",
       "      <td>158583356</td>\n",
       "      <td>5.881129</td>\n",
       "    </tr>\n",
       "    <tr>\n",
       "      <th>2021-01-04</th>\n",
       "      <td>132.700</td>\n",
       "      <td>132.790</td>\n",
       "      <td>125.990</td>\n",
       "      <td>128.620</td>\n",
       "      <td>144185313</td>\n",
       "      <td>5.120868</td>\n",
       "    </tr>\n",
       "    <tr>\n",
       "      <th>2020-11-09</th>\n",
       "      <td>119.770</td>\n",
       "      <td>121.240</td>\n",
       "      <td>115.340</td>\n",
       "      <td>115.610</td>\n",
       "      <td>155467869</td>\n",
       "      <td>4.866381</td>\n",
       "    </tr>\n",
       "    <tr>\n",
       "      <th>2020-10-13</th>\n",
       "      <td>124.280</td>\n",
       "      <td>124.400</td>\n",
       "      <td>118.710</td>\n",
       "      <td>120.150</td>\n",
       "      <td>264403032</td>\n",
       "      <td>4.573955</td>\n",
       "    </tr>\n",
       "    <tr>\n",
       "      <th>2020-10-12</th>\n",
       "      <td>119.120</td>\n",
       "      <td>124.190</td>\n",
       "      <td>118.350</td>\n",
       "      <td>123.420</td>\n",
       "      <td>242124718</td>\n",
       "      <td>4.702472</td>\n",
       "    </tr>\n",
       "    <tr>\n",
       "      <th>2020-09-24</th>\n",
       "      <td>104.340</td>\n",
       "      <td>109.390</td>\n",
       "      <td>104.170</td>\n",
       "      <td>107.370</td>\n",
       "      <td>169068630</td>\n",
       "      <td>4.771917</td>\n",
       "    </tr>\n",
       "    <tr>\n",
       "      <th>2020-09-23</th>\n",
       "      <td>110.740</td>\n",
       "      <td>111.230</td>\n",
       "      <td>105.940</td>\n",
       "      <td>106.280</td>\n",
       "      <td>151909448</td>\n",
       "      <td>4.755911</td>\n",
       "    </tr>\n",
       "    <tr>\n",
       "      <th>2020-09-21</th>\n",
       "      <td>103.710</td>\n",
       "      <td>109.330</td>\n",
       "      <td>102.300</td>\n",
       "      <td>109.220</td>\n",
       "      <td>197260083</td>\n",
       "      <td>6.430074</td>\n",
       "    </tr>\n",
       "    <tr>\n",
       "      <th>2020-09-11</th>\n",
       "      <td>113.670</td>\n",
       "      <td>114.330</td>\n",
       "      <td>109.140</td>\n",
       "      <td>111.120</td>\n",
       "      <td>182289239</td>\n",
       "      <td>4.539491</td>\n",
       "    </tr>\n",
       "    <tr>\n",
       "      <th>2020-09-10</th>\n",
       "      <td>119.420</td>\n",
       "      <td>119.560</td>\n",
       "      <td>111.620</td>\n",
       "      <td>112.600</td>\n",
       "      <td>183714477</td>\n",
       "      <td>6.641017</td>\n",
       "    </tr>\n",
       "    <tr>\n",
       "      <th>2020-09-08</th>\n",
       "      <td>113.060</td>\n",
       "      <td>118.060</td>\n",
       "      <td>111.800</td>\n",
       "      <td>111.940</td>\n",
       "      <td>233194511</td>\n",
       "      <td>5.302389</td>\n",
       "    </tr>\n",
       "    <tr>\n",
       "      <th>2020-09-04</th>\n",
       "      <td>119.130</td>\n",
       "      <td>122.740</td>\n",
       "      <td>110.010</td>\n",
       "      <td>120.010</td>\n",
       "      <td>335234977</td>\n",
       "      <td>10.371517</td>\n",
       "    </tr>\n",
       "    <tr>\n",
       "      <th>2020-09-03</th>\n",
       "      <td>125.920</td>\n",
       "      <td>127.830</td>\n",
       "      <td>119.560</td>\n",
       "      <td>119.930</td>\n",
       "      <td>259634846</td>\n",
       "      <td>6.469530</td>\n",
       "    </tr>\n",
       "    <tr>\n",
       "      <th>2020-09-02</th>\n",
       "      <td>136.520</td>\n",
       "      <td>136.890</td>\n",
       "      <td>126.010</td>\n",
       "      <td>130.360</td>\n",
       "      <td>201700061</td>\n",
       "      <td>7.947987</td>\n",
       "    </tr>\n",
       "    <tr>\n",
       "      <th>2020-08-21</th>\n",
       "      <td>118.320</td>\n",
       "      <td>123.880</td>\n",
       "      <td>118.310</td>\n",
       "      <td>123.390</td>\n",
       "      <td>340725493</td>\n",
       "      <td>4.496287</td>\n",
       "    </tr>\n",
       "    <tr>\n",
       "      <th>2020-07-31</th>\n",
       "      <td>101.900</td>\n",
       "      <td>105.390</td>\n",
       "      <td>99.850</td>\n",
       "      <td>105.240</td>\n",
       "      <td>377932843</td>\n",
       "      <td>5.256666</td>\n",
       "    </tr>\n",
       "    <tr>\n",
       "      <th>2020-07-23</th>\n",
       "      <td>96.066</td>\n",
       "      <td>96.143</td>\n",
       "      <td>91.125</td>\n",
       "      <td>91.951</td>\n",
       "      <td>198918906</td>\n",
       "      <td>5.219309</td>\n",
       "    </tr>\n",
       "    <tr>\n",
       "      <th>2020-07-13</th>\n",
       "      <td>96.328</td>\n",
       "      <td>98.999</td>\n",
       "      <td>94.338</td>\n",
       "      <td>94.558</td>\n",
       "      <td>193511571</td>\n",
       "      <td>4.708128</td>\n",
       "    </tr>\n",
       "    <tr>\n",
       "      <th>2020-04-07</th>\n",
       "      <td>66.867</td>\n",
       "      <td>67.090</td>\n",
       "      <td>63.955</td>\n",
       "      <td>64.060</td>\n",
       "      <td>205413519</td>\n",
       "      <td>4.672828</td>\n",
       "    </tr>\n",
       "    <tr>\n",
       "      <th>2020-04-06</th>\n",
       "      <td>61.952</td>\n",
       "      <td>64.968</td>\n",
       "      <td>61.579</td>\n",
       "      <td>64.811</td>\n",
       "      <td>204333192</td>\n",
       "      <td>5.216414</td>\n",
       "    </tr>\n",
       "    <tr>\n",
       "      <th>2020-03-26</th>\n",
       "      <td>60.871</td>\n",
       "      <td>63.875</td>\n",
       "      <td>60.831</td>\n",
       "      <td>63.815</td>\n",
       "      <td>255705369</td>\n",
       "      <td>4.765558</td>\n",
       "    </tr>\n",
       "    <tr>\n",
       "      <th>2020-03-25</th>\n",
       "      <td>61.917</td>\n",
       "      <td>63.767</td>\n",
       "      <td>60.322</td>\n",
       "      <td>60.627</td>\n",
       "      <td>307382256</td>\n",
       "      <td>5.402481</td>\n",
       "    </tr>\n",
       "    <tr>\n",
       "      <th>2020-03-24</th>\n",
       "      <td>58.364</td>\n",
       "      <td>61.162</td>\n",
       "      <td>57.855</td>\n",
       "      <td>60.960</td>\n",
       "      <td>291111208</td>\n",
       "      <td>5.406952</td>\n",
       "    </tr>\n",
       "    <tr>\n",
       "      <th>2020-03-23</th>\n",
       "      <td>56.317</td>\n",
       "      <td>56.422</td>\n",
       "      <td>52.500</td>\n",
       "      <td>55.403</td>\n",
       "      <td>340945816</td>\n",
       "      <td>6.951189</td>\n",
       "    </tr>\n",
       "    <tr>\n",
       "      <th>2020-03-20</th>\n",
       "      <td>61.035</td>\n",
       "      <td>62.184</td>\n",
       "      <td>56.297</td>\n",
       "      <td>56.605</td>\n",
       "      <td>406694957</td>\n",
       "      <td>9.467065</td>\n",
       "    </tr>\n",
       "    <tr>\n",
       "      <th>2020-03-18</th>\n",
       "      <td>59.204</td>\n",
       "      <td>61.732</td>\n",
       "      <td>58.549</td>\n",
       "      <td>60.909</td>\n",
       "      <td>303971899</td>\n",
       "      <td>5.156159</td>\n",
       "    </tr>\n",
       "    <tr>\n",
       "      <th>2020-03-17</th>\n",
       "      <td>61.117</td>\n",
       "      <td>63.611</td>\n",
       "      <td>58.868</td>\n",
       "      <td>62.439</td>\n",
       "      <td>328090753</td>\n",
       "      <td>7.456258</td>\n",
       "    </tr>\n",
       "    <tr>\n",
       "      <th>2020-03-16</th>\n",
       "      <td>59.745</td>\n",
       "      <td>63.973</td>\n",
       "      <td>59.262</td>\n",
       "      <td>59.809</td>\n",
       "      <td>326438025</td>\n",
       "      <td>7.364044</td>\n",
       "    </tr>\n",
       "    <tr>\n",
       "      <th>2020-03-13</th>\n",
       "      <td>65.406</td>\n",
       "      <td>69.118</td>\n",
       "      <td>62.462</td>\n",
       "      <td>68.638</td>\n",
       "      <td>375348197</td>\n",
       "      <td>9.629908</td>\n",
       "    </tr>\n",
       "    <tr>\n",
       "      <th>2020-03-12</th>\n",
       "      <td>63.198</td>\n",
       "      <td>66.671</td>\n",
       "      <td>61.237</td>\n",
       "      <td>61.295</td>\n",
       "      <td>423684580</td>\n",
       "      <td>8.150470</td>\n",
       "    </tr>\n",
       "    <tr>\n",
       "      <th>2020-03-10</th>\n",
       "      <td>68.430</td>\n",
       "      <td>70.732</td>\n",
       "      <td>66.515</td>\n",
       "      <td>70.458</td>\n",
       "      <td>288842290</td>\n",
       "      <td>5.961941</td>\n",
       "    </tr>\n",
       "    <tr>\n",
       "      <th>2020-03-09</th>\n",
       "      <td>65.127</td>\n",
       "      <td>68.668</td>\n",
       "      <td>64.942</td>\n",
       "      <td>65.722</td>\n",
       "      <td>290315155</td>\n",
       "      <td>5.426108</td>\n",
       "    </tr>\n",
       "    <tr>\n",
       "      <th>2020-03-03</th>\n",
       "      <td>74.982</td>\n",
       "      <td>75.064</td>\n",
       "      <td>70.572</td>\n",
       "      <td>71.441</td>\n",
       "      <td>323453268</td>\n",
       "      <td>5.984227</td>\n",
       "    </tr>\n",
       "    <tr>\n",
       "      <th>2020-03-02</th>\n",
       "      <td>69.700</td>\n",
       "      <td>74.433</td>\n",
       "      <td>68.576</td>\n",
       "      <td>73.781</td>\n",
       "      <td>345648169</td>\n",
       "      <td>7.868822</td>\n",
       "    </tr>\n",
       "    <tr>\n",
       "      <th>2020-02-28</th>\n",
       "      <td>63.527</td>\n",
       "      <td>68.748</td>\n",
       "      <td>63.305</td>\n",
       "      <td>67.499</td>\n",
       "      <td>432200157</td>\n",
       "      <td>7.917321</td>\n",
       "    </tr>\n",
       "    <tr>\n",
       "      <th>2020-02-27</th>\n",
       "      <td>69.413</td>\n",
       "      <td>70.622</td>\n",
       "      <td>67.400</td>\n",
       "      <td>67.539</td>\n",
       "      <td>324597457</td>\n",
       "      <td>4.562318</td>\n",
       "    </tr>\n",
       "    <tr>\n",
       "      <th>2020-02-25</th>\n",
       "      <td>74.313</td>\n",
       "      <td>74.702</td>\n",
       "      <td>70.654</td>\n",
       "      <td>71.133</td>\n",
       "      <td>233545619</td>\n",
       "      <td>5.418864</td>\n",
       "    </tr>\n",
       "    <tr>\n",
       "      <th>2020-02-24</th>\n",
       "      <td>73.403</td>\n",
       "      <td>75.108</td>\n",
       "      <td>71.418</td>\n",
       "      <td>73.629</td>\n",
       "      <td>224961914</td>\n",
       "      <td>4.912925</td>\n",
       "    </tr>\n",
       "    <tr>\n",
       "      <th>2019-10-31</th>\n",
       "      <td>60.726</td>\n",
       "      <td>61.197</td>\n",
       "      <td>58.273</td>\n",
       "      <td>61.097</td>\n",
       "      <td>141653220</td>\n",
       "      <td>4.778012</td>\n",
       "    </tr>\n",
       "    <tr>\n",
       "      <th>2019-08-23</th>\n",
       "      <td>51.439</td>\n",
       "      <td>52.081</td>\n",
       "      <td>49.368</td>\n",
       "      <td>49.768</td>\n",
       "      <td>190888365</td>\n",
       "      <td>5.209193</td>\n",
       "    </tr>\n",
       "    <tr>\n",
       "      <th>2019-08-13</th>\n",
       "      <td>49.372</td>\n",
       "      <td>52.101</td>\n",
       "      <td>49.325</td>\n",
       "      <td>51.325</td>\n",
       "      <td>193563180</td>\n",
       "      <td>5.328113</td>\n",
       "    </tr>\n",
       "    <tr>\n",
       "      <th>2019-08-01</th>\n",
       "      <td>52.336</td>\n",
       "      <td>53.346</td>\n",
       "      <td>50.582</td>\n",
       "      <td>50.996</td>\n",
       "      <td>220775233</td>\n",
       "      <td>5.181269</td>\n",
       "    </tr>\n",
       "    <tr>\n",
       "      <th>2019-07-31</th>\n",
       "      <td>52.953</td>\n",
       "      <td>54.165</td>\n",
       "      <td>51.696</td>\n",
       "      <td>52.124</td>\n",
       "      <td>283158041</td>\n",
       "      <td>4.558294</td>\n",
       "    </tr>\n",
       "    <tr>\n",
       "      <th>2018-12-26</th>\n",
       "      <td>35.991</td>\n",
       "      <td>38.157</td>\n",
       "      <td>35.609</td>\n",
       "      <td>38.144</td>\n",
       "      <td>241384059</td>\n",
       "      <td>6.677674</td>\n",
       "    </tr>\n",
       "    <tr>\n",
       "      <th>2018-12-21</th>\n",
       "      <td>38.067</td>\n",
       "      <td>38.384</td>\n",
       "      <td>36.315</td>\n",
       "      <td>36.580</td>\n",
       "      <td>394506042</td>\n",
       "      <td>5.390267</td>\n",
       "    </tr>\n",
       "    <tr>\n",
       "      <th>2018-12-19</th>\n",
       "      <td>40.290</td>\n",
       "      <td>40.637</td>\n",
       "      <td>38.610</td>\n",
       "      <td>39.045</td>\n",
       "      <td>202094938</td>\n",
       "      <td>4.988065</td>\n",
       "    </tr>\n",
       "    <tr>\n",
       "      <th>2018-10-29</th>\n",
       "      <td>53.011</td>\n",
       "      <td>53.131</td>\n",
       "      <td>49.843</td>\n",
       "      <td>51.333</td>\n",
       "      <td>189933549</td>\n",
       "      <td>6.188478</td>\n",
       "    </tr>\n",
       "    <tr>\n",
       "      <th>2018-10-10</th>\n",
       "      <td>54.528</td>\n",
       "      <td>54.740</td>\n",
       "      <td>52.253</td>\n",
       "      <td>52.328</td>\n",
       "      <td>173621950</td>\n",
       "      <td>4.543296</td>\n",
       "    </tr>\n",
       "    <tr>\n",
       "      <th>2018-03-27</th>\n",
       "      <td>41.695</td>\n",
       "      <td>42.053</td>\n",
       "      <td>40.072</td>\n",
       "      <td>40.412</td>\n",
       "      <td>170454288</td>\n",
       "      <td>4.710722</td>\n",
       "    </tr>\n",
       "    <tr>\n",
       "      <th>2018-02-09</th>\n",
       "      <td>37.714</td>\n",
       "      <td>37.905</td>\n",
       "      <td>36.070</td>\n",
       "      <td>37.554</td>\n",
       "      <td>294070258</td>\n",
       "      <td>4.841050</td>\n",
       "    </tr>\n",
       "    <tr>\n",
       "      <th>2018-02-06</th>\n",
       "      <td>37.022</td>\n",
       "      <td>39.142</td>\n",
       "      <td>36.821</td>\n",
       "      <td>38.982</td>\n",
       "      <td>285414133</td>\n",
       "      <td>5.929692</td>\n",
       "    </tr>\n",
       "    <tr>\n",
       "      <th>2018-02-05</th>\n",
       "      <td>38.037</td>\n",
       "      <td>39.178</td>\n",
       "      <td>37.297</td>\n",
       "      <td>37.414</td>\n",
       "      <td>302146245</td>\n",
       "      <td>4.801164</td>\n",
       "    </tr>\n",
       "    <tr>\n",
       "      <th>2017-06-09</th>\n",
       "      <td>36.829</td>\n",
       "      <td>36.829</td>\n",
       "      <td>34.654</td>\n",
       "      <td>35.353</td>\n",
       "      <td>273005446</td>\n",
       "      <td>5.905672</td>\n",
       "    </tr>\n",
       "  </tbody>\n",
       "</table>\n",
       "</div>"
      ],
      "text/plain": [
       "               Open     High      Low    Close     Volume  daily_change_pct\n",
       "Date                                                                       \n",
       "2022-02-24  152.580  162.850  152.000  162.740  141147540          6.662573\n",
       "2022-01-24  160.020  162.300  154.700  161.620  162706686          4.682686\n",
       "2021-12-16  179.280  181.140  170.750  172.260  150185843          5.735895\n",
       "2021-02-25  124.100  125.870  119.980  120.420  148890667          4.679431\n",
       "2021-02-23  123.190  126.130  117.840  125.280  159011126          6.572584\n",
       "2021-01-29  135.000  135.910  129.420  131.150  178618209          4.775219\n",
       "2021-01-25  142.200  144.190  135.710  142.050  158583356          5.881129\n",
       "2021-01-04  132.700  132.790  125.990  128.620  144185313          5.120868\n",
       "2020-11-09  119.770  121.240  115.340  115.610  155467869          4.866381\n",
       "2020-10-13  124.280  124.400  118.710  120.150  264403032          4.573955\n",
       "2020-10-12  119.120  124.190  118.350  123.420  242124718          4.702472\n",
       "2020-09-24  104.340  109.390  104.170  107.370  169068630          4.771917\n",
       "2020-09-23  110.740  111.230  105.940  106.280  151909448          4.755911\n",
       "2020-09-21  103.710  109.330  102.300  109.220  197260083          6.430074\n",
       "2020-09-11  113.670  114.330  109.140  111.120  182289239          4.539491\n",
       "2020-09-10  119.420  119.560  111.620  112.600  183714477          6.641017\n",
       "2020-09-08  113.060  118.060  111.800  111.940  233194511          5.302389\n",
       "2020-09-04  119.130  122.740  110.010  120.010  335234977         10.371517\n",
       "2020-09-03  125.920  127.830  119.560  119.930  259634846          6.469530\n",
       "2020-09-02  136.520  136.890  126.010  130.360  201700061          7.947987\n",
       "2020-08-21  118.320  123.880  118.310  123.390  340725493          4.496287\n",
       "2020-07-31  101.900  105.390   99.850  105.240  377932843          5.256666\n",
       "2020-07-23   96.066   96.143   91.125   91.951  198918906          5.219309\n",
       "2020-07-13   96.328   98.999   94.338   94.558  193511571          4.708128\n",
       "2020-04-07   66.867   67.090   63.955   64.060  205413519          4.672828\n",
       "2020-04-06   61.952   64.968   61.579   64.811  204333192          5.216414\n",
       "2020-03-26   60.871   63.875   60.831   63.815  255705369          4.765558\n",
       "2020-03-25   61.917   63.767   60.322   60.627  307382256          5.402481\n",
       "2020-03-24   58.364   61.162   57.855   60.960  291111208          5.406952\n",
       "2020-03-23   56.317   56.422   52.500   55.403  340945816          6.951189\n",
       "2020-03-20   61.035   62.184   56.297   56.605  406694957          9.467065\n",
       "2020-03-18   59.204   61.732   58.549   60.909  303971899          5.156159\n",
       "2020-03-17   61.117   63.611   58.868   62.439  328090753          7.456258\n",
       "2020-03-16   59.745   63.973   59.262   59.809  326438025          7.364044\n",
       "2020-03-13   65.406   69.118   62.462   68.638  375348197          9.629908\n",
       "2020-03-12   63.198   66.671   61.237   61.295  423684580          8.150470\n",
       "2020-03-10   68.430   70.732   66.515   70.458  288842290          5.961941\n",
       "2020-03-09   65.127   68.668   64.942   65.722  290315155          5.426108\n",
       "2020-03-03   74.982   75.064   70.572   71.441  323453268          5.984227\n",
       "2020-03-02   69.700   74.433   68.576   73.781  345648169          7.868822\n",
       "2020-02-28   63.527   68.748   63.305   67.499  432200157          7.917321\n",
       "2020-02-27   69.413   70.622   67.400   67.539  324597457          4.562318\n",
       "2020-02-25   74.313   74.702   70.654   71.133  233545619          5.418864\n",
       "2020-02-24   73.403   75.108   71.418   73.629  224961914          4.912925\n",
       "2019-10-31   60.726   61.197   58.273   61.097  141653220          4.778012\n",
       "2019-08-23   51.439   52.081   49.368   49.768  190888365          5.209193\n",
       "2019-08-13   49.372   52.101   49.325   51.325  193563180          5.328113\n",
       "2019-08-01   52.336   53.346   50.582   50.996  220775233          5.181269\n",
       "2019-07-31   52.953   54.165   51.696   52.124  283158041          4.558294\n",
       "2018-12-26   35.991   38.157   35.609   38.144  241384059          6.677674\n",
       "2018-12-21   38.067   38.384   36.315   36.580  394506042          5.390267\n",
       "2018-12-19   40.290   40.637   38.610   39.045  202094938          4.988065\n",
       "2018-10-29   53.011   53.131   49.843   51.333  189933549          6.188478\n",
       "2018-10-10   54.528   54.740   52.253   52.328  173621950          4.543296\n",
       "2018-03-27   41.695   42.053   40.072   40.412  170454288          4.710722\n",
       "2018-02-09   37.714   37.905   36.070   37.554  294070258          4.841050\n",
       "2018-02-06   37.022   39.142   36.821   38.982  285414133          5.929692\n",
       "2018-02-05   38.037   39.178   37.297   37.414  302146245          4.801164\n",
       "2017-06-09   36.829   36.829   34.654   35.353  273005446          5.905672"
      ]
     },
     "execution_count": 43,
     "metadata": {},
     "output_type": "execute_result"
    }
   ],
   "source": [
    "df_outlier = aapl[aapl['daily_change_pct'] > 1.5*(q75-q25)+q75 ]\n",
    "df_outlier"
   ]
  },
  {
   "cell_type": "code",
   "execution_count": 44,
   "metadata": {},
   "outputs": [
    {
     "data": {
      "text/plain": [
       "0.04689984101748808"
      ]
     },
     "execution_count": 44,
     "metadata": {},
     "output_type": "execute_result"
    }
   ],
   "source": [
    "len(df_outlier)/len(aapl)"
   ]
  },
  {
   "cell_type": "markdown",
   "metadata": {},
   "source": [
    "Correlation between iqr q3 and beta"
   ]
  },
  {
   "cell_type": "code",
   "execution_count": 45,
   "metadata": {},
   "outputs": [
    {
     "data": {
      "text/html": [
       "<div>\n",
       "<style scoped>\n",
       "    .dataframe tbody tr th:only-of-type {\n",
       "        vertical-align: middle;\n",
       "    }\n",
       "\n",
       "    .dataframe tbody tr th {\n",
       "        vertical-align: top;\n",
       "    }\n",
       "\n",
       "    .dataframe thead th {\n",
       "        text-align: right;\n",
       "    }\n",
       "</style>\n",
       "<table border=\"1\" class=\"dataframe\">\n",
       "  <thead>\n",
       "    <tr style=\"text-align: right;\">\n",
       "      <th></th>\n",
       "      <th>sym</th>\n",
       "      <th>beta</th>\n",
       "    </tr>\n",
       "  </thead>\n",
       "  <tbody>\n",
       "    <tr>\n",
       "      <th>0</th>\n",
       "      <td>NXPI</td>\n",
       "      <td>1.398806</td>\n",
       "    </tr>\n",
       "    <tr>\n",
       "      <th>1</th>\n",
       "      <td>MSFT</td>\n",
       "      <td>0.888612</td>\n",
       "    </tr>\n",
       "    <tr>\n",
       "      <th>2</th>\n",
       "      <td>WBA</td>\n",
       "      <td>0.552461</td>\n",
       "    </tr>\n",
       "    <tr>\n",
       "      <th>3</th>\n",
       "      <td>PCAR</td>\n",
       "      <td>0.938836</td>\n",
       "    </tr>\n",
       "    <tr>\n",
       "      <th>4</th>\n",
       "      <td>FB</td>\n",
       "      <td>1.285430</td>\n",
       "    </tr>\n",
       "    <tr>\n",
       "      <th>...</th>\n",
       "      <td>...</td>\n",
       "      <td>...</td>\n",
       "    </tr>\n",
       "    <tr>\n",
       "      <th>71</th>\n",
       "      <td>QCOM</td>\n",
       "      <td>1.261064</td>\n",
       "    </tr>\n",
       "    <tr>\n",
       "      <th>72</th>\n",
       "      <td>MAR</td>\n",
       "      <td>1.722028</td>\n",
       "    </tr>\n",
       "    <tr>\n",
       "      <th>74</th>\n",
       "      <td>GILD</td>\n",
       "      <td>0.379413</td>\n",
       "    </tr>\n",
       "    <tr>\n",
       "      <th>76</th>\n",
       "      <td>ADP</td>\n",
       "      <td>0.834908</td>\n",
       "    </tr>\n",
       "    <tr>\n",
       "      <th>77</th>\n",
       "      <td>MU</td>\n",
       "      <td>1.187966</td>\n",
       "    </tr>\n",
       "  </tbody>\n",
       "</table>\n",
       "<p>75 rows × 2 columns</p>\n",
       "</div>"
      ],
      "text/plain": [
       "     sym      beta\n",
       "0   NXPI  1.398806\n",
       "1   MSFT  0.888612\n",
       "2    WBA  0.552461\n",
       "3   PCAR  0.938836\n",
       "4     FB  1.285430\n",
       "..   ...       ...\n",
       "71  QCOM  1.261064\n",
       "72   MAR  1.722028\n",
       "74  GILD  0.379413\n",
       "76   ADP  0.834908\n",
       "77    MU  1.187966\n",
       "\n",
       "[75 rows x 2 columns]"
      ]
     },
     "execution_count": 45,
     "metadata": {},
     "output_type": "execute_result"
    }
   ],
   "source": [
    "intersct_list_with_beta = df_beta[df_beta['beta']>0]\n",
    "intersct_list_with_beta"
   ]
  },
  {
   "cell_type": "code",
   "execution_count": 46,
   "metadata": {},
   "outputs": [
    {
     "data": {
      "text/plain": [
       "[3.2765851275645757,\n",
       " 2.2713201020821203,\n",
       " 2.770710605717947,\n",
       " 2.474721967671008,\n",
       " 2.9073033357867164,\n",
       " 2.73675504844077,\n",
       " 2.259361138473782,\n",
       " 3.294606505687133,\n",
       " 2.0867356932631447,\n",
       " 1.8380511786647793,\n",
       " 1.9752752512192764,\n",
       " 1.7104564624393241,\n",
       " 2.482940948037319,\n",
       " 2.3920310892670593,\n",
       " 2.5090297010818947,\n",
       " 2.063071507418327,\n",
       " 3.304852656192555,\n",
       " 3.2995189489837604,\n",
       " 3.0294265043629154,\n",
       " 2.285153258064245,\n",
       " 4.954699860593124,\n",
       " 2.9177616649538183,\n",
       " 2.8194209658233143,\n",
       " 2.812169235978823,\n",
       " 4.09089618629586,\n",
       " 5.024617722918201,\n",
       " 2.750392871436034,\n",
       " 3.0637021384904117,\n",
       " 3.6398878414373,\n",
       " 2.4203803493430054,\n",
       " 3.373257071706386,\n",
       " 2.126645006525572,\n",
       " 2.7425142950046544,\n",
       " 2.589579140780234,\n",
       " 2.4729014695640936,\n",
       " 2.9560818005358342,\n",
       " 2.6609233122947,\n",
       " 2.430988345377588,\n",
       " 2.9225665816466133,\n",
       " 3.2115154135075565,\n",
       " 4.200286311129742,\n",
       " 2.4949015324205344,\n",
       " 3.407160708073217,\n",
       " 2.146016760619085,\n",
       " 2.9955931729154996,\n",
       " 2.3280550178064066,\n",
       " 2.323943544476424,\n",
       " 3.1601003141734756,\n",
       " 1.9076703133360888,\n",
       " 2.345810074201234,\n",
       " 2.843450284462933,\n",
       " 2.598375393468446,\n",
       " 3.618201457767884,\n",
       " 2.8452548510759472,\n",
       " 2.521879534522316,\n",
       " 2.799284237696025,\n",
       " 2.6715784010959966,\n",
       " 2.655804870576214,\n",
       " 7.6867419309866065,\n",
       " 2.8286070400856653,\n",
       " 1.9689528407038126,\n",
       " 2.397739776742832,\n",
       " 3.537262094313031,\n",
       " 3.3156314897826826,\n",
       " 2.613208021898693,\n",
       " 2.1707697608546686,\n",
       " 2.7358572535340673,\n",
       " 4.034879996989107,\n",
       " 3.13781351197859,\n",
       " 2.8329289184683306,\n",
       " 2.9980868508212644,\n",
       " 3.0187229606964943,\n",
       " 2.3479161570630662,\n",
       " 2.1600367094426467,\n",
       " 3.9540493963585925]"
      ]
     },
     "execution_count": 46,
     "metadata": {},
     "output_type": "execute_result"
    }
   ],
   "source": [
    "q75 = []\n",
    "\n",
    "for i in intersct_list_with_beta['sym']:\n",
    "    sym_df = web.DataReader(i, \"stooq\")\n",
    "    sym_df['daily_change_pct'] = (sym_df['High'] - sym_df['Low']) / sym_df['High'] * 100\n",
    "    q75.append(np.percentile(sym_df['daily_change_pct'], 75))\n",
    "\n",
    "q75"
   ]
  },
  {
   "cell_type": "code",
   "execution_count": 47,
   "metadata": {},
   "outputs": [
    {
     "name": "stderr",
     "output_type": "stream",
     "text": [
      "<ipython-input-47-9d88ea704a7b>:1: SettingWithCopyWarning:\n",
      "\n",
      "\n",
      "A value is trying to be set on a copy of a slice from a DataFrame.\n",
      "Try using .loc[row_indexer,col_indexer] = value instead\n",
      "\n",
      "See the caveats in the documentation: https://pandas.pydata.org/pandas-docs/stable/user_guide/indexing.html#returning-a-view-versus-a-copy\n",
      "\n"
     ]
    },
    {
     "data": {
      "text/html": [
       "<div>\n",
       "<style scoped>\n",
       "    .dataframe tbody tr th:only-of-type {\n",
       "        vertical-align: middle;\n",
       "    }\n",
       "\n",
       "    .dataframe tbody tr th {\n",
       "        vertical-align: top;\n",
       "    }\n",
       "\n",
       "    .dataframe thead th {\n",
       "        text-align: right;\n",
       "    }\n",
       "</style>\n",
       "<table border=\"1\" class=\"dataframe\">\n",
       "  <thead>\n",
       "    <tr style=\"text-align: right;\">\n",
       "      <th></th>\n",
       "      <th>sym</th>\n",
       "      <th>beta</th>\n",
       "      <th>q75</th>\n",
       "    </tr>\n",
       "  </thead>\n",
       "  <tbody>\n",
       "    <tr>\n",
       "      <th>0</th>\n",
       "      <td>NXPI</td>\n",
       "      <td>1.398806</td>\n",
       "      <td>3.276585</td>\n",
       "    </tr>\n",
       "    <tr>\n",
       "      <th>1</th>\n",
       "      <td>MSFT</td>\n",
       "      <td>0.888612</td>\n",
       "      <td>2.271320</td>\n",
       "    </tr>\n",
       "    <tr>\n",
       "      <th>2</th>\n",
       "      <td>WBA</td>\n",
       "      <td>0.552461</td>\n",
       "      <td>2.770711</td>\n",
       "    </tr>\n",
       "    <tr>\n",
       "      <th>3</th>\n",
       "      <td>PCAR</td>\n",
       "      <td>0.938836</td>\n",
       "      <td>2.474722</td>\n",
       "    </tr>\n",
       "    <tr>\n",
       "      <th>4</th>\n",
       "      <td>FB</td>\n",
       "      <td>1.285430</td>\n",
       "      <td>2.907303</td>\n",
       "    </tr>\n",
       "    <tr>\n",
       "      <th>...</th>\n",
       "      <td>...</td>\n",
       "      <td>...</td>\n",
       "      <td>...</td>\n",
       "    </tr>\n",
       "    <tr>\n",
       "      <th>71</th>\n",
       "      <td>QCOM</td>\n",
       "      <td>1.261064</td>\n",
       "      <td>2.998087</td>\n",
       "    </tr>\n",
       "    <tr>\n",
       "      <th>72</th>\n",
       "      <td>MAR</td>\n",
       "      <td>1.722028</td>\n",
       "      <td>3.018723</td>\n",
       "    </tr>\n",
       "    <tr>\n",
       "      <th>74</th>\n",
       "      <td>GILD</td>\n",
       "      <td>0.379413</td>\n",
       "      <td>2.347916</td>\n",
       "    </tr>\n",
       "    <tr>\n",
       "      <th>76</th>\n",
       "      <td>ADP</td>\n",
       "      <td>0.834908</td>\n",
       "      <td>2.160037</td>\n",
       "    </tr>\n",
       "    <tr>\n",
       "      <th>77</th>\n",
       "      <td>MU</td>\n",
       "      <td>1.187966</td>\n",
       "      <td>3.954049</td>\n",
       "    </tr>\n",
       "  </tbody>\n",
       "</table>\n",
       "<p>75 rows × 3 columns</p>\n",
       "</div>"
      ],
      "text/plain": [
       "     sym      beta       q75\n",
       "0   NXPI  1.398806  3.276585\n",
       "1   MSFT  0.888612  2.271320\n",
       "2    WBA  0.552461  2.770711\n",
       "3   PCAR  0.938836  2.474722\n",
       "4     FB  1.285430  2.907303\n",
       "..   ...       ...       ...\n",
       "71  QCOM  1.261064  2.998087\n",
       "72   MAR  1.722028  3.018723\n",
       "74  GILD  0.379413  2.347916\n",
       "76   ADP  0.834908  2.160037\n",
       "77    MU  1.187966  3.954049\n",
       "\n",
       "[75 rows x 3 columns]"
      ]
     },
     "execution_count": 47,
     "metadata": {},
     "output_type": "execute_result"
    }
   ],
   "source": [
    "intersct_list_with_beta['q75'] = q75\n",
    "intersct_list_with_beta # the warning is due to index has gap. tested by reset index and result is identical"
   ]
  },
  {
   "cell_type": "code",
   "execution_count": 48,
   "metadata": {},
   "outputs": [
    {
     "data": {
      "text/plain": [
       "matrix([[1.398806  , 0.888612  , 0.552461  , 0.938836  , 1.28543   ,\n",
       "         1.192938  , 1.138736  , 1.098458  , 0.354052  , 0.717056  ,\n",
       "         1.143212  , 0.647936  , 0.918448  , 0.911486  , 1.187468  ,\n",
       "         0.813028  , 1.550969  , 0.193436  , 0.838886  , 1.487817  ,\n",
       "         2.006464  , 1.079065  , 1.01442   , 1.154152  , 1.383888  ,\n",
       "         1.950273  , 0.96718   , 0.560914  , 0.957732  , 1.231725  ,\n",
       "         1.228244  , 0.974639  , 1.08901   , 1.254102  , 0.803083  ,\n",
       "         1.054699  , 1.126802  , 1.137245  , 1.287419  , 1.17802   ,\n",
       "         0.860765  , 0.551466  , 1.23073   , 0.886623  , 0.436598  ,\n",
       "         0.616111  , 1.069617  , 0.910492  , 0.684236  , 1.069617  ,\n",
       "         1.193436  , 1.113873  , 1.245151  , 1.031327  , 0.918448  ,\n",
       "         1.139234  , 0.762804  , 0.535554  , 1.484572  , 1.18896   ,\n",
       "         0.346096  , 1.044256  , 1.412729  , 1.432123  , 1.026852  ,\n",
       "         0.982098  , 1.112879  , 1.673296  , 0.578816  , 1.074092  ,\n",
       "         1.261064  , 1.722028  , 0.379413  , 0.834908  , 1.187966  ],\n",
       "        [3.27658513, 2.2713201 , 2.77071061, 2.47472197, 2.90730334,\n",
       "         2.73675505, 2.25936114, 3.29460651, 2.08673569, 1.83805118,\n",
       "         1.97527525, 1.71045646, 2.48294095, 2.39203109, 2.5090297 ,\n",
       "         2.06307151, 3.30485266, 3.29951895, 3.0294265 , 2.28515326,\n",
       "         4.95469986, 2.91776166, 2.81942097, 2.81216924, 4.09089619,\n",
       "         5.02461772, 2.75039287, 3.06370214, 3.63988784, 2.42038035,\n",
       "         3.37325707, 2.12664501, 2.7425143 , 2.58957914, 2.47290147,\n",
       "         2.9560818 , 2.66092331, 2.43098835, 2.92256658, 3.21151541,\n",
       "         4.20028631, 2.49490153, 3.40716071, 2.14601676, 2.99559317,\n",
       "         2.32805502, 2.32394354, 3.16010031, 1.90767031, 2.34581007,\n",
       "         2.84345028, 2.59837539, 3.61820146, 2.84525485, 2.52187953,\n",
       "         2.79928424, 2.6715784 , 2.65580487, 7.68674193, 2.82860704,\n",
       "         1.96895284, 2.39773978, 3.53726209, 3.31563149, 2.61320802,\n",
       "         2.17076976, 2.73585725, 4.03488   , 3.13781351, 2.83292892,\n",
       "         2.99808685, 3.01872296, 2.34791616, 2.16003671, 3.9540494 ]])"
      ]
     },
     "execution_count": 48,
     "metadata": {},
     "output_type": "execute_result"
    }
   ],
   "source": [
    "import numpy as np\n",
    "my_covarnace_matrix = np.matrix([intersct_list_with_beta['beta'], intersct_list_with_beta['q75']])\n",
    "my_covarnace_matrix"
   ]
  },
  {
   "cell_type": "code",
   "execution_count": 49,
   "metadata": {},
   "outputs": [
    {
     "data": {
      "text/plain": [
       "0.5050708931744617"
      ]
     },
     "execution_count": 49,
     "metadata": {},
     "output_type": "execute_result"
    }
   ],
   "source": [
    "intersct_list_with_beta['beta'].corr(intersct_list_with_beta['q75']) # The values of R are between -1 and 1, inclusive"
   ]
  },
  {
   "cell_type": "code",
   "execution_count": 50,
   "metadata": {},
   "outputs": [
    {
     "data": {
      "application/vnd.plotly.v1+json": {
       "config": {
        "plotlyServerURL": "https://plot.ly"
       },
       "data": [
        {
         "hovertemplate": "variable=beta<br>sym=%{x}<br>value=%{y}<extra></extra>",
         "legendgroup": "beta",
         "line": {
          "color": "#636efa",
          "dash": "solid"
         },
         "mode": "lines",
         "name": "beta",
         "orientation": "v",
         "showlegend": true,
         "type": "scatter",
         "x": [
          "NXPI",
          "MSFT",
          "WBA",
          "PCAR",
          "FB",
          "SNPS",
          "CTSH",
          "SWKS",
          "XEL",
          "MDLZ",
          "HON",
          "PEP",
          "CMCSA",
          "VRSN",
          "AAPL",
          "VRSK",
          "MCHP",
          "REGN",
          "EA",
          "CTAS",
          "TSLA",
          "ODFL",
          "ADBE",
          "CDNS",
          "NVDA",
          "AMD",
          "CHTR",
          "VRTX",
          "NFLX",
          "CSX",
          "KLAC",
          "PAYX",
          "INTU",
          "FAST",
          "FISV",
          "IDXX",
          "AMZN",
          "MNST",
          "ANSS",
          "PYPL",
          "DXCM",
          "TMUS",
          "FTNT",
          "SBUX",
          "BIIB",
          "AMGN",
          "GOOG",
          "ILMN",
          "COST",
          "GOOGL",
          "BKNG",
          "CPRT",
          "LRCX",
          "AVGO",
          "TXN",
          "EBAY",
          "DLTR",
          "INTC",
          "MRNA",
          "ISRG",
          "AEP",
          "KHC",
          "AMAT",
          "ADSK",
          "ORLY",
          "CSCO",
          "ADI",
          "ALGN",
          "ATVI",
          "ROST",
          "QCOM",
          "MAR",
          "GILD",
          "ADP",
          "MU"
         ],
         "xaxis": "x",
         "y": [
          1.398806,
          0.888612,
          0.552461,
          0.938836,
          1.28543,
          1.192938,
          1.138736,
          1.098458,
          0.354052,
          0.717056,
          1.143212,
          0.647936,
          0.918448,
          0.911486,
          1.187468,
          0.813028,
          1.550969,
          0.193436,
          0.838886,
          1.487817,
          2.006464,
          1.079065,
          1.01442,
          1.154152,
          1.383888,
          1.950273,
          0.96718,
          0.560914,
          0.957732,
          1.231725,
          1.228244,
          0.974639,
          1.08901,
          1.254102,
          0.803083,
          1.054699,
          1.126802,
          1.137245,
          1.287419,
          1.17802,
          0.860765,
          0.551466,
          1.23073,
          0.886623,
          0.436598,
          0.616111,
          1.069617,
          0.910492,
          0.684236,
          1.069617,
          1.193436,
          1.113873,
          1.245151,
          1.031327,
          0.918448,
          1.139234,
          0.762804,
          0.535554,
          1.484572,
          1.18896,
          0.346096,
          1.044256,
          1.412729,
          1.432123,
          1.026852,
          0.982098,
          1.112879,
          1.673296,
          0.578816,
          1.074092,
          1.261064,
          1.722028,
          0.379413,
          0.834908,
          1.187966
         ],
         "yaxis": "y"
        },
        {
         "hovertemplate": "variable=q75<br>sym=%{x}<br>value=%{y}<extra></extra>",
         "legendgroup": "q75",
         "line": {
          "color": "#EF553B",
          "dash": "solid"
         },
         "mode": "lines",
         "name": "q75",
         "orientation": "v",
         "showlegend": true,
         "type": "scatter",
         "x": [
          "NXPI",
          "MSFT",
          "WBA",
          "PCAR",
          "FB",
          "SNPS",
          "CTSH",
          "SWKS",
          "XEL",
          "MDLZ",
          "HON",
          "PEP",
          "CMCSA",
          "VRSN",
          "AAPL",
          "VRSK",
          "MCHP",
          "REGN",
          "EA",
          "CTAS",
          "TSLA",
          "ODFL",
          "ADBE",
          "CDNS",
          "NVDA",
          "AMD",
          "CHTR",
          "VRTX",
          "NFLX",
          "CSX",
          "KLAC",
          "PAYX",
          "INTU",
          "FAST",
          "FISV",
          "IDXX",
          "AMZN",
          "MNST",
          "ANSS",
          "PYPL",
          "DXCM",
          "TMUS",
          "FTNT",
          "SBUX",
          "BIIB",
          "AMGN",
          "GOOG",
          "ILMN",
          "COST",
          "GOOGL",
          "BKNG",
          "CPRT",
          "LRCX",
          "AVGO",
          "TXN",
          "EBAY",
          "DLTR",
          "INTC",
          "MRNA",
          "ISRG",
          "AEP",
          "KHC",
          "AMAT",
          "ADSK",
          "ORLY",
          "CSCO",
          "ADI",
          "ALGN",
          "ATVI",
          "ROST",
          "QCOM",
          "MAR",
          "GILD",
          "ADP",
          "MU"
         ],
         "xaxis": "x",
         "y": [
          3.2765851275645757,
          2.2713201020821203,
          2.770710605717947,
          2.474721967671008,
          2.9073033357867164,
          2.73675504844077,
          2.259361138473782,
          3.294606505687133,
          2.0867356932631447,
          1.8380511786647793,
          1.9752752512192764,
          1.7104564624393241,
          2.482940948037319,
          2.3920310892670593,
          2.5090297010818947,
          2.063071507418327,
          3.304852656192555,
          3.2995189489837604,
          3.0294265043629154,
          2.285153258064245,
          4.954699860593124,
          2.9177616649538183,
          2.8194209658233143,
          2.812169235978823,
          4.09089618629586,
          5.024617722918201,
          2.750392871436034,
          3.0637021384904117,
          3.6398878414373,
          2.4203803493430054,
          3.373257071706386,
          2.126645006525572,
          2.7425142950046544,
          2.589579140780234,
          2.4729014695640936,
          2.9560818005358342,
          2.6609233122947,
          2.430988345377588,
          2.9225665816466133,
          3.2115154135075565,
          4.200286311129742,
          2.4949015324205344,
          3.407160708073217,
          2.146016760619085,
          2.9955931729154996,
          2.3280550178064066,
          2.323943544476424,
          3.1601003141734756,
          1.9076703133360888,
          2.345810074201234,
          2.843450284462933,
          2.598375393468446,
          3.618201457767884,
          2.8452548510759472,
          2.521879534522316,
          2.799284237696025,
          2.6715784010959966,
          2.655804870576214,
          7.6867419309866065,
          2.8286070400856653,
          1.9689528407038126,
          2.397739776742832,
          3.537262094313031,
          3.3156314897826826,
          2.613208021898693,
          2.1707697608546686,
          2.7358572535340673,
          4.034879996989107,
          3.13781351197859,
          2.8329289184683306,
          2.9980868508212644,
          3.0187229606964943,
          2.3479161570630662,
          2.1600367094426467,
          3.9540493963585925
         ],
         "yaxis": "y"
        }
       ],
       "layout": {
        "legend": {
         "title": {
          "text": "variable"
         },
         "tracegroupgap": 0
        },
        "margin": {
         "t": 60
        },
        "template": {
         "data": {
          "bar": [
           {
            "error_x": {
             "color": "#2a3f5f"
            },
            "error_y": {
             "color": "#2a3f5f"
            },
            "marker": {
             "line": {
              "color": "#E5ECF6",
              "width": 0.5
             }
            },
            "type": "bar"
           }
          ],
          "barpolar": [
           {
            "marker": {
             "line": {
              "color": "#E5ECF6",
              "width": 0.5
             }
            },
            "type": "barpolar"
           }
          ],
          "carpet": [
           {
            "aaxis": {
             "endlinecolor": "#2a3f5f",
             "gridcolor": "white",
             "linecolor": "white",
             "minorgridcolor": "white",
             "startlinecolor": "#2a3f5f"
            },
            "baxis": {
             "endlinecolor": "#2a3f5f",
             "gridcolor": "white",
             "linecolor": "white",
             "minorgridcolor": "white",
             "startlinecolor": "#2a3f5f"
            },
            "type": "carpet"
           }
          ],
          "choropleth": [
           {
            "colorbar": {
             "outlinewidth": 0,
             "ticks": ""
            },
            "type": "choropleth"
           }
          ],
          "contour": [
           {
            "colorbar": {
             "outlinewidth": 0,
             "ticks": ""
            },
            "colorscale": [
             [
              0,
              "#0d0887"
             ],
             [
              0.1111111111111111,
              "#46039f"
             ],
             [
              0.2222222222222222,
              "#7201a8"
             ],
             [
              0.3333333333333333,
              "#9c179e"
             ],
             [
              0.4444444444444444,
              "#bd3786"
             ],
             [
              0.5555555555555556,
              "#d8576b"
             ],
             [
              0.6666666666666666,
              "#ed7953"
             ],
             [
              0.7777777777777778,
              "#fb9f3a"
             ],
             [
              0.8888888888888888,
              "#fdca26"
             ],
             [
              1,
              "#f0f921"
             ]
            ],
            "type": "contour"
           }
          ],
          "contourcarpet": [
           {
            "colorbar": {
             "outlinewidth": 0,
             "ticks": ""
            },
            "type": "contourcarpet"
           }
          ],
          "heatmap": [
           {
            "colorbar": {
             "outlinewidth": 0,
             "ticks": ""
            },
            "colorscale": [
             [
              0,
              "#0d0887"
             ],
             [
              0.1111111111111111,
              "#46039f"
             ],
             [
              0.2222222222222222,
              "#7201a8"
             ],
             [
              0.3333333333333333,
              "#9c179e"
             ],
             [
              0.4444444444444444,
              "#bd3786"
             ],
             [
              0.5555555555555556,
              "#d8576b"
             ],
             [
              0.6666666666666666,
              "#ed7953"
             ],
             [
              0.7777777777777778,
              "#fb9f3a"
             ],
             [
              0.8888888888888888,
              "#fdca26"
             ],
             [
              1,
              "#f0f921"
             ]
            ],
            "type": "heatmap"
           }
          ],
          "heatmapgl": [
           {
            "colorbar": {
             "outlinewidth": 0,
             "ticks": ""
            },
            "colorscale": [
             [
              0,
              "#0d0887"
             ],
             [
              0.1111111111111111,
              "#46039f"
             ],
             [
              0.2222222222222222,
              "#7201a8"
             ],
             [
              0.3333333333333333,
              "#9c179e"
             ],
             [
              0.4444444444444444,
              "#bd3786"
             ],
             [
              0.5555555555555556,
              "#d8576b"
             ],
             [
              0.6666666666666666,
              "#ed7953"
             ],
             [
              0.7777777777777778,
              "#fb9f3a"
             ],
             [
              0.8888888888888888,
              "#fdca26"
             ],
             [
              1,
              "#f0f921"
             ]
            ],
            "type": "heatmapgl"
           }
          ],
          "histogram": [
           {
            "marker": {
             "colorbar": {
              "outlinewidth": 0,
              "ticks": ""
             }
            },
            "type": "histogram"
           }
          ],
          "histogram2d": [
           {
            "colorbar": {
             "outlinewidth": 0,
             "ticks": ""
            },
            "colorscale": [
             [
              0,
              "#0d0887"
             ],
             [
              0.1111111111111111,
              "#46039f"
             ],
             [
              0.2222222222222222,
              "#7201a8"
             ],
             [
              0.3333333333333333,
              "#9c179e"
             ],
             [
              0.4444444444444444,
              "#bd3786"
             ],
             [
              0.5555555555555556,
              "#d8576b"
             ],
             [
              0.6666666666666666,
              "#ed7953"
             ],
             [
              0.7777777777777778,
              "#fb9f3a"
             ],
             [
              0.8888888888888888,
              "#fdca26"
             ],
             [
              1,
              "#f0f921"
             ]
            ],
            "type": "histogram2d"
           }
          ],
          "histogram2dcontour": [
           {
            "colorbar": {
             "outlinewidth": 0,
             "ticks": ""
            },
            "colorscale": [
             [
              0,
              "#0d0887"
             ],
             [
              0.1111111111111111,
              "#46039f"
             ],
             [
              0.2222222222222222,
              "#7201a8"
             ],
             [
              0.3333333333333333,
              "#9c179e"
             ],
             [
              0.4444444444444444,
              "#bd3786"
             ],
             [
              0.5555555555555556,
              "#d8576b"
             ],
             [
              0.6666666666666666,
              "#ed7953"
             ],
             [
              0.7777777777777778,
              "#fb9f3a"
             ],
             [
              0.8888888888888888,
              "#fdca26"
             ],
             [
              1,
              "#f0f921"
             ]
            ],
            "type": "histogram2dcontour"
           }
          ],
          "mesh3d": [
           {
            "colorbar": {
             "outlinewidth": 0,
             "ticks": ""
            },
            "type": "mesh3d"
           }
          ],
          "parcoords": [
           {
            "line": {
             "colorbar": {
              "outlinewidth": 0,
              "ticks": ""
             }
            },
            "type": "parcoords"
           }
          ],
          "pie": [
           {
            "automargin": true,
            "type": "pie"
           }
          ],
          "scatter": [
           {
            "marker": {
             "colorbar": {
              "outlinewidth": 0,
              "ticks": ""
             }
            },
            "type": "scatter"
           }
          ],
          "scatter3d": [
           {
            "line": {
             "colorbar": {
              "outlinewidth": 0,
              "ticks": ""
             }
            },
            "marker": {
             "colorbar": {
              "outlinewidth": 0,
              "ticks": ""
             }
            },
            "type": "scatter3d"
           }
          ],
          "scattercarpet": [
           {
            "marker": {
             "colorbar": {
              "outlinewidth": 0,
              "ticks": ""
             }
            },
            "type": "scattercarpet"
           }
          ],
          "scattergeo": [
           {
            "marker": {
             "colorbar": {
              "outlinewidth": 0,
              "ticks": ""
             }
            },
            "type": "scattergeo"
           }
          ],
          "scattergl": [
           {
            "marker": {
             "colorbar": {
              "outlinewidth": 0,
              "ticks": ""
             }
            },
            "type": "scattergl"
           }
          ],
          "scattermapbox": [
           {
            "marker": {
             "colorbar": {
              "outlinewidth": 0,
              "ticks": ""
             }
            },
            "type": "scattermapbox"
           }
          ],
          "scatterpolar": [
           {
            "marker": {
             "colorbar": {
              "outlinewidth": 0,
              "ticks": ""
             }
            },
            "type": "scatterpolar"
           }
          ],
          "scatterpolargl": [
           {
            "marker": {
             "colorbar": {
              "outlinewidth": 0,
              "ticks": ""
             }
            },
            "type": "scatterpolargl"
           }
          ],
          "scatterternary": [
           {
            "marker": {
             "colorbar": {
              "outlinewidth": 0,
              "ticks": ""
             }
            },
            "type": "scatterternary"
           }
          ],
          "surface": [
           {
            "colorbar": {
             "outlinewidth": 0,
             "ticks": ""
            },
            "colorscale": [
             [
              0,
              "#0d0887"
             ],
             [
              0.1111111111111111,
              "#46039f"
             ],
             [
              0.2222222222222222,
              "#7201a8"
             ],
             [
              0.3333333333333333,
              "#9c179e"
             ],
             [
              0.4444444444444444,
              "#bd3786"
             ],
             [
              0.5555555555555556,
              "#d8576b"
             ],
             [
              0.6666666666666666,
              "#ed7953"
             ],
             [
              0.7777777777777778,
              "#fb9f3a"
             ],
             [
              0.8888888888888888,
              "#fdca26"
             ],
             [
              1,
              "#f0f921"
             ]
            ],
            "type": "surface"
           }
          ],
          "table": [
           {
            "cells": {
             "fill": {
              "color": "#EBF0F8"
             },
             "line": {
              "color": "white"
             }
            },
            "header": {
             "fill": {
              "color": "#C8D4E3"
             },
             "line": {
              "color": "white"
             }
            },
            "type": "table"
           }
          ]
         },
         "layout": {
          "annotationdefaults": {
           "arrowcolor": "#2a3f5f",
           "arrowhead": 0,
           "arrowwidth": 1
          },
          "autotypenumbers": "strict",
          "coloraxis": {
           "colorbar": {
            "outlinewidth": 0,
            "ticks": ""
           }
          },
          "colorscale": {
           "diverging": [
            [
             0,
             "#8e0152"
            ],
            [
             0.1,
             "#c51b7d"
            ],
            [
             0.2,
             "#de77ae"
            ],
            [
             0.3,
             "#f1b6da"
            ],
            [
             0.4,
             "#fde0ef"
            ],
            [
             0.5,
             "#f7f7f7"
            ],
            [
             0.6,
             "#e6f5d0"
            ],
            [
             0.7,
             "#b8e186"
            ],
            [
             0.8,
             "#7fbc41"
            ],
            [
             0.9,
             "#4d9221"
            ],
            [
             1,
             "#276419"
            ]
           ],
           "sequential": [
            [
             0,
             "#0d0887"
            ],
            [
             0.1111111111111111,
             "#46039f"
            ],
            [
             0.2222222222222222,
             "#7201a8"
            ],
            [
             0.3333333333333333,
             "#9c179e"
            ],
            [
             0.4444444444444444,
             "#bd3786"
            ],
            [
             0.5555555555555556,
             "#d8576b"
            ],
            [
             0.6666666666666666,
             "#ed7953"
            ],
            [
             0.7777777777777778,
             "#fb9f3a"
            ],
            [
             0.8888888888888888,
             "#fdca26"
            ],
            [
             1,
             "#f0f921"
            ]
           ],
           "sequentialminus": [
            [
             0,
             "#0d0887"
            ],
            [
             0.1111111111111111,
             "#46039f"
            ],
            [
             0.2222222222222222,
             "#7201a8"
            ],
            [
             0.3333333333333333,
             "#9c179e"
            ],
            [
             0.4444444444444444,
             "#bd3786"
            ],
            [
             0.5555555555555556,
             "#d8576b"
            ],
            [
             0.6666666666666666,
             "#ed7953"
            ],
            [
             0.7777777777777778,
             "#fb9f3a"
            ],
            [
             0.8888888888888888,
             "#fdca26"
            ],
            [
             1,
             "#f0f921"
            ]
           ]
          },
          "colorway": [
           "#636efa",
           "#EF553B",
           "#00cc96",
           "#ab63fa",
           "#FFA15A",
           "#19d3f3",
           "#FF6692",
           "#B6E880",
           "#FF97FF",
           "#FECB52"
          ],
          "font": {
           "color": "#2a3f5f"
          },
          "geo": {
           "bgcolor": "white",
           "lakecolor": "white",
           "landcolor": "#E5ECF6",
           "showlakes": true,
           "showland": true,
           "subunitcolor": "white"
          },
          "hoverlabel": {
           "align": "left"
          },
          "hovermode": "closest",
          "mapbox": {
           "style": "light"
          },
          "paper_bgcolor": "white",
          "plot_bgcolor": "#E5ECF6",
          "polar": {
           "angularaxis": {
            "gridcolor": "white",
            "linecolor": "white",
            "ticks": ""
           },
           "bgcolor": "#E5ECF6",
           "radialaxis": {
            "gridcolor": "white",
            "linecolor": "white",
            "ticks": ""
           }
          },
          "scene": {
           "xaxis": {
            "backgroundcolor": "#E5ECF6",
            "gridcolor": "white",
            "gridwidth": 2,
            "linecolor": "white",
            "showbackground": true,
            "ticks": "",
            "zerolinecolor": "white"
           },
           "yaxis": {
            "backgroundcolor": "#E5ECF6",
            "gridcolor": "white",
            "gridwidth": 2,
            "linecolor": "white",
            "showbackground": true,
            "ticks": "",
            "zerolinecolor": "white"
           },
           "zaxis": {
            "backgroundcolor": "#E5ECF6",
            "gridcolor": "white",
            "gridwidth": 2,
            "linecolor": "white",
            "showbackground": true,
            "ticks": "",
            "zerolinecolor": "white"
           }
          },
          "shapedefaults": {
           "line": {
            "color": "#2a3f5f"
           }
          },
          "ternary": {
           "aaxis": {
            "gridcolor": "white",
            "linecolor": "white",
            "ticks": ""
           },
           "baxis": {
            "gridcolor": "white",
            "linecolor": "white",
            "ticks": ""
           },
           "bgcolor": "#E5ECF6",
           "caxis": {
            "gridcolor": "white",
            "linecolor": "white",
            "ticks": ""
           }
          },
          "title": {
           "x": 0.05
          },
          "xaxis": {
           "automargin": true,
           "gridcolor": "white",
           "linecolor": "white",
           "ticks": "",
           "title": {
            "standoff": 15
           },
           "zerolinecolor": "white",
           "zerolinewidth": 2
          },
          "yaxis": {
           "automargin": true,
           "gridcolor": "white",
           "linecolor": "white",
           "ticks": "",
           "title": {
            "standoff": 15
           },
           "zerolinecolor": "white",
           "zerolinewidth": 2
          }
         }
        },
        "xaxis": {
         "anchor": "y",
         "domain": [
          0,
          1
         ],
         "title": {
          "text": "sym"
         }
        },
        "yaxis": {
         "anchor": "x",
         "domain": [
          0,
          1
         ],
         "title": {
          "text": "value"
         }
        }
       }
      },
      "text/html": [
       "<div>                            <div id=\"dce6d248-ca79-4b16-8165-34c870cdd47b\" class=\"plotly-graph-div\" style=\"height:525px; width:100%;\"></div>            <script type=\"text/javascript\">                require([\"plotly\"], function(Plotly) {                    window.PLOTLYENV=window.PLOTLYENV || {};                                    if (document.getElementById(\"dce6d248-ca79-4b16-8165-34c870cdd47b\")) {                    Plotly.newPlot(                        \"dce6d248-ca79-4b16-8165-34c870cdd47b\",                        [{\"hovertemplate\": \"variable=beta<br>sym=%{x}<br>value=%{y}<extra></extra>\", \"legendgroup\": \"beta\", \"line\": {\"color\": \"#636efa\", \"dash\": \"solid\"}, \"mode\": \"lines\", \"name\": \"beta\", \"orientation\": \"v\", \"showlegend\": true, \"type\": \"scatter\", \"x\": [\"NXPI\", \"MSFT\", \"WBA\", \"PCAR\", \"FB\", \"SNPS\", \"CTSH\", \"SWKS\", \"XEL\", \"MDLZ\", \"HON\", \"PEP\", \"CMCSA\", \"VRSN\", \"AAPL\", \"VRSK\", \"MCHP\", \"REGN\", \"EA\", \"CTAS\", \"TSLA\", \"ODFL\", \"ADBE\", \"CDNS\", \"NVDA\", \"AMD\", \"CHTR\", \"VRTX\", \"NFLX\", \"CSX\", \"KLAC\", \"PAYX\", \"INTU\", \"FAST\", \"FISV\", \"IDXX\", \"AMZN\", \"MNST\", \"ANSS\", \"PYPL\", \"DXCM\", \"TMUS\", \"FTNT\", \"SBUX\", \"BIIB\", \"AMGN\", \"GOOG\", \"ILMN\", \"COST\", \"GOOGL\", \"BKNG\", \"CPRT\", \"LRCX\", \"AVGO\", \"TXN\", \"EBAY\", \"DLTR\", \"INTC\", \"MRNA\", \"ISRG\", \"AEP\", \"KHC\", \"AMAT\", \"ADSK\", \"ORLY\", \"CSCO\", \"ADI\", \"ALGN\", \"ATVI\", \"ROST\", \"QCOM\", \"MAR\", \"GILD\", \"ADP\", \"MU\"], \"xaxis\": \"x\", \"y\": [1.398806, 0.888612, 0.552461, 0.938836, 1.28543, 1.192938, 1.138736, 1.098458, 0.354052, 0.717056, 1.143212, 0.647936, 0.918448, 0.911486, 1.187468, 0.813028, 1.550969, 0.193436, 0.838886, 1.487817, 2.006464, 1.079065, 1.01442, 1.154152, 1.383888, 1.950273, 0.96718, 0.560914, 0.957732, 1.231725, 1.228244, 0.974639, 1.08901, 1.254102, 0.803083, 1.054699, 1.126802, 1.137245, 1.287419, 1.17802, 0.860765, 0.551466, 1.23073, 0.886623, 0.436598, 0.616111, 1.069617, 0.910492, 0.684236, 1.069617, 1.193436, 1.113873, 1.245151, 1.031327, 0.918448, 1.139234, 0.762804, 0.535554, 1.484572, 1.18896, 0.346096, 1.044256, 1.412729, 1.432123, 1.026852, 0.982098, 1.112879, 1.673296, 0.578816, 1.074092, 1.261064, 1.722028, 0.379413, 0.834908, 1.187966], \"yaxis\": \"y\"}, {\"hovertemplate\": \"variable=q75<br>sym=%{x}<br>value=%{y}<extra></extra>\", \"legendgroup\": \"q75\", \"line\": {\"color\": \"#EF553B\", \"dash\": \"solid\"}, \"mode\": \"lines\", \"name\": \"q75\", \"orientation\": \"v\", \"showlegend\": true, \"type\": \"scatter\", \"x\": [\"NXPI\", \"MSFT\", \"WBA\", \"PCAR\", \"FB\", \"SNPS\", \"CTSH\", \"SWKS\", \"XEL\", \"MDLZ\", \"HON\", \"PEP\", \"CMCSA\", \"VRSN\", \"AAPL\", \"VRSK\", \"MCHP\", \"REGN\", \"EA\", \"CTAS\", \"TSLA\", \"ODFL\", \"ADBE\", \"CDNS\", \"NVDA\", \"AMD\", \"CHTR\", \"VRTX\", \"NFLX\", \"CSX\", \"KLAC\", \"PAYX\", \"INTU\", \"FAST\", \"FISV\", \"IDXX\", \"AMZN\", \"MNST\", \"ANSS\", \"PYPL\", \"DXCM\", \"TMUS\", \"FTNT\", \"SBUX\", \"BIIB\", \"AMGN\", \"GOOG\", \"ILMN\", \"COST\", \"GOOGL\", \"BKNG\", \"CPRT\", \"LRCX\", \"AVGO\", \"TXN\", \"EBAY\", \"DLTR\", \"INTC\", \"MRNA\", \"ISRG\", \"AEP\", \"KHC\", \"AMAT\", \"ADSK\", \"ORLY\", \"CSCO\", \"ADI\", \"ALGN\", \"ATVI\", \"ROST\", \"QCOM\", \"MAR\", \"GILD\", \"ADP\", \"MU\"], \"xaxis\": \"x\", \"y\": [3.2765851275645757, 2.2713201020821203, 2.770710605717947, 2.474721967671008, 2.9073033357867164, 2.73675504844077, 2.259361138473782, 3.294606505687133, 2.0867356932631447, 1.8380511786647793, 1.9752752512192764, 1.7104564624393241, 2.482940948037319, 2.3920310892670593, 2.5090297010818947, 2.063071507418327, 3.304852656192555, 3.2995189489837604, 3.0294265043629154, 2.285153258064245, 4.954699860593124, 2.9177616649538183, 2.8194209658233143, 2.812169235978823, 4.09089618629586, 5.024617722918201, 2.750392871436034, 3.0637021384904117, 3.6398878414373, 2.4203803493430054, 3.373257071706386, 2.126645006525572, 2.7425142950046544, 2.589579140780234, 2.4729014695640936, 2.9560818005358342, 2.6609233122947, 2.430988345377588, 2.9225665816466133, 3.2115154135075565, 4.200286311129742, 2.4949015324205344, 3.407160708073217, 2.146016760619085, 2.9955931729154996, 2.3280550178064066, 2.323943544476424, 3.1601003141734756, 1.9076703133360888, 2.345810074201234, 2.843450284462933, 2.598375393468446, 3.618201457767884, 2.8452548510759472, 2.521879534522316, 2.799284237696025, 2.6715784010959966, 2.655804870576214, 7.6867419309866065, 2.8286070400856653, 1.9689528407038126, 2.397739776742832, 3.537262094313031, 3.3156314897826826, 2.613208021898693, 2.1707697608546686, 2.7358572535340673, 4.034879996989107, 3.13781351197859, 2.8329289184683306, 2.9980868508212644, 3.0187229606964943, 2.3479161570630662, 2.1600367094426467, 3.9540493963585925], \"yaxis\": \"y\"}],                        {\"legend\": {\"title\": {\"text\": \"variable\"}, \"tracegroupgap\": 0}, \"margin\": {\"t\": 60}, \"template\": {\"data\": {\"bar\": [{\"error_x\": {\"color\": \"#2a3f5f\"}, \"error_y\": {\"color\": \"#2a3f5f\"}, \"marker\": {\"line\": {\"color\": \"#E5ECF6\", \"width\": 0.5}}, \"type\": \"bar\"}], \"barpolar\": [{\"marker\": {\"line\": {\"color\": \"#E5ECF6\", \"width\": 0.5}}, \"type\": \"barpolar\"}], \"carpet\": [{\"aaxis\": {\"endlinecolor\": \"#2a3f5f\", \"gridcolor\": \"white\", \"linecolor\": \"white\", \"minorgridcolor\": \"white\", \"startlinecolor\": \"#2a3f5f\"}, \"baxis\": {\"endlinecolor\": \"#2a3f5f\", \"gridcolor\": \"white\", \"linecolor\": \"white\", \"minorgridcolor\": \"white\", \"startlinecolor\": \"#2a3f5f\"}, \"type\": \"carpet\"}], \"choropleth\": [{\"colorbar\": {\"outlinewidth\": 0, \"ticks\": \"\"}, \"type\": \"choropleth\"}], \"contour\": [{\"colorbar\": {\"outlinewidth\": 0, \"ticks\": \"\"}, \"colorscale\": [[0.0, \"#0d0887\"], [0.1111111111111111, \"#46039f\"], [0.2222222222222222, \"#7201a8\"], [0.3333333333333333, \"#9c179e\"], [0.4444444444444444, \"#bd3786\"], [0.5555555555555556, \"#d8576b\"], [0.6666666666666666, \"#ed7953\"], [0.7777777777777778, \"#fb9f3a\"], [0.8888888888888888, \"#fdca26\"], [1.0, \"#f0f921\"]], \"type\": \"contour\"}], \"contourcarpet\": [{\"colorbar\": {\"outlinewidth\": 0, \"ticks\": \"\"}, \"type\": \"contourcarpet\"}], \"heatmap\": [{\"colorbar\": {\"outlinewidth\": 0, \"ticks\": \"\"}, \"colorscale\": [[0.0, \"#0d0887\"], [0.1111111111111111, \"#46039f\"], [0.2222222222222222, \"#7201a8\"], [0.3333333333333333, \"#9c179e\"], [0.4444444444444444, \"#bd3786\"], [0.5555555555555556, \"#d8576b\"], [0.6666666666666666, \"#ed7953\"], [0.7777777777777778, \"#fb9f3a\"], [0.8888888888888888, \"#fdca26\"], [1.0, \"#f0f921\"]], \"type\": \"heatmap\"}], \"heatmapgl\": [{\"colorbar\": {\"outlinewidth\": 0, \"ticks\": \"\"}, \"colorscale\": [[0.0, \"#0d0887\"], [0.1111111111111111, \"#46039f\"], [0.2222222222222222, \"#7201a8\"], [0.3333333333333333, \"#9c179e\"], [0.4444444444444444, \"#bd3786\"], [0.5555555555555556, \"#d8576b\"], [0.6666666666666666, \"#ed7953\"], [0.7777777777777778, \"#fb9f3a\"], [0.8888888888888888, \"#fdca26\"], [1.0, \"#f0f921\"]], \"type\": \"heatmapgl\"}], \"histogram\": [{\"marker\": {\"colorbar\": {\"outlinewidth\": 0, \"ticks\": \"\"}}, \"type\": \"histogram\"}], \"histogram2d\": [{\"colorbar\": {\"outlinewidth\": 0, \"ticks\": \"\"}, \"colorscale\": [[0.0, \"#0d0887\"], [0.1111111111111111, \"#46039f\"], [0.2222222222222222, \"#7201a8\"], [0.3333333333333333, \"#9c179e\"], [0.4444444444444444, \"#bd3786\"], [0.5555555555555556, \"#d8576b\"], [0.6666666666666666, \"#ed7953\"], [0.7777777777777778, \"#fb9f3a\"], [0.8888888888888888, \"#fdca26\"], [1.0, \"#f0f921\"]], \"type\": \"histogram2d\"}], \"histogram2dcontour\": [{\"colorbar\": {\"outlinewidth\": 0, \"ticks\": \"\"}, \"colorscale\": [[0.0, \"#0d0887\"], [0.1111111111111111, \"#46039f\"], [0.2222222222222222, \"#7201a8\"], [0.3333333333333333, \"#9c179e\"], [0.4444444444444444, \"#bd3786\"], [0.5555555555555556, \"#d8576b\"], [0.6666666666666666, \"#ed7953\"], [0.7777777777777778, \"#fb9f3a\"], [0.8888888888888888, \"#fdca26\"], [1.0, \"#f0f921\"]], \"type\": \"histogram2dcontour\"}], \"mesh3d\": [{\"colorbar\": {\"outlinewidth\": 0, \"ticks\": \"\"}, \"type\": \"mesh3d\"}], \"parcoords\": [{\"line\": {\"colorbar\": {\"outlinewidth\": 0, \"ticks\": \"\"}}, \"type\": \"parcoords\"}], \"pie\": [{\"automargin\": true, \"type\": \"pie\"}], \"scatter\": [{\"marker\": {\"colorbar\": {\"outlinewidth\": 0, \"ticks\": \"\"}}, \"type\": \"scatter\"}], \"scatter3d\": [{\"line\": {\"colorbar\": {\"outlinewidth\": 0, \"ticks\": \"\"}}, \"marker\": {\"colorbar\": {\"outlinewidth\": 0, \"ticks\": \"\"}}, \"type\": \"scatter3d\"}], \"scattercarpet\": [{\"marker\": {\"colorbar\": {\"outlinewidth\": 0, \"ticks\": \"\"}}, \"type\": \"scattercarpet\"}], \"scattergeo\": [{\"marker\": {\"colorbar\": {\"outlinewidth\": 0, \"ticks\": \"\"}}, \"type\": \"scattergeo\"}], \"scattergl\": [{\"marker\": {\"colorbar\": {\"outlinewidth\": 0, \"ticks\": \"\"}}, \"type\": \"scattergl\"}], \"scattermapbox\": [{\"marker\": {\"colorbar\": {\"outlinewidth\": 0, \"ticks\": \"\"}}, \"type\": \"scattermapbox\"}], \"scatterpolar\": [{\"marker\": {\"colorbar\": {\"outlinewidth\": 0, \"ticks\": \"\"}}, \"type\": \"scatterpolar\"}], \"scatterpolargl\": [{\"marker\": {\"colorbar\": {\"outlinewidth\": 0, \"ticks\": \"\"}}, \"type\": \"scatterpolargl\"}], \"scatterternary\": [{\"marker\": {\"colorbar\": {\"outlinewidth\": 0, \"ticks\": \"\"}}, \"type\": \"scatterternary\"}], \"surface\": [{\"colorbar\": {\"outlinewidth\": 0, \"ticks\": \"\"}, \"colorscale\": [[0.0, \"#0d0887\"], [0.1111111111111111, \"#46039f\"], [0.2222222222222222, \"#7201a8\"], [0.3333333333333333, \"#9c179e\"], [0.4444444444444444, \"#bd3786\"], [0.5555555555555556, \"#d8576b\"], [0.6666666666666666, \"#ed7953\"], [0.7777777777777778, \"#fb9f3a\"], [0.8888888888888888, \"#fdca26\"], [1.0, \"#f0f921\"]], \"type\": \"surface\"}], \"table\": [{\"cells\": {\"fill\": {\"color\": \"#EBF0F8\"}, \"line\": {\"color\": \"white\"}}, \"header\": {\"fill\": {\"color\": \"#C8D4E3\"}, \"line\": {\"color\": \"white\"}}, \"type\": \"table\"}]}, \"layout\": {\"annotationdefaults\": {\"arrowcolor\": \"#2a3f5f\", \"arrowhead\": 0, \"arrowwidth\": 1}, \"autotypenumbers\": \"strict\", \"coloraxis\": {\"colorbar\": {\"outlinewidth\": 0, \"ticks\": \"\"}}, \"colorscale\": {\"diverging\": [[0, \"#8e0152\"], [0.1, \"#c51b7d\"], [0.2, \"#de77ae\"], [0.3, \"#f1b6da\"], [0.4, \"#fde0ef\"], [0.5, \"#f7f7f7\"], [0.6, \"#e6f5d0\"], [0.7, \"#b8e186\"], [0.8, \"#7fbc41\"], [0.9, \"#4d9221\"], [1, \"#276419\"]], \"sequential\": [[0.0, \"#0d0887\"], [0.1111111111111111, \"#46039f\"], [0.2222222222222222, \"#7201a8\"], [0.3333333333333333, \"#9c179e\"], [0.4444444444444444, \"#bd3786\"], [0.5555555555555556, \"#d8576b\"], [0.6666666666666666, \"#ed7953\"], [0.7777777777777778, \"#fb9f3a\"], [0.8888888888888888, \"#fdca26\"], [1.0, \"#f0f921\"]], \"sequentialminus\": [[0.0, \"#0d0887\"], [0.1111111111111111, \"#46039f\"], [0.2222222222222222, \"#7201a8\"], [0.3333333333333333, \"#9c179e\"], [0.4444444444444444, \"#bd3786\"], [0.5555555555555556, \"#d8576b\"], [0.6666666666666666, \"#ed7953\"], [0.7777777777777778, \"#fb9f3a\"], [0.8888888888888888, \"#fdca26\"], [1.0, \"#f0f921\"]]}, \"colorway\": [\"#636efa\", \"#EF553B\", \"#00cc96\", \"#ab63fa\", \"#FFA15A\", \"#19d3f3\", \"#FF6692\", \"#B6E880\", \"#FF97FF\", \"#FECB52\"], \"font\": {\"color\": \"#2a3f5f\"}, \"geo\": {\"bgcolor\": \"white\", \"lakecolor\": \"white\", \"landcolor\": \"#E5ECF6\", \"showlakes\": true, \"showland\": true, \"subunitcolor\": \"white\"}, \"hoverlabel\": {\"align\": \"left\"}, \"hovermode\": \"closest\", \"mapbox\": {\"style\": \"light\"}, \"paper_bgcolor\": \"white\", \"plot_bgcolor\": \"#E5ECF6\", \"polar\": {\"angularaxis\": {\"gridcolor\": \"white\", \"linecolor\": \"white\", \"ticks\": \"\"}, \"bgcolor\": \"#E5ECF6\", \"radialaxis\": {\"gridcolor\": \"white\", \"linecolor\": \"white\", \"ticks\": \"\"}}, \"scene\": {\"xaxis\": {\"backgroundcolor\": \"#E5ECF6\", \"gridcolor\": \"white\", \"gridwidth\": 2, \"linecolor\": \"white\", \"showbackground\": true, \"ticks\": \"\", \"zerolinecolor\": \"white\"}, \"yaxis\": {\"backgroundcolor\": \"#E5ECF6\", \"gridcolor\": \"white\", \"gridwidth\": 2, \"linecolor\": \"white\", \"showbackground\": true, \"ticks\": \"\", \"zerolinecolor\": \"white\"}, \"zaxis\": {\"backgroundcolor\": \"#E5ECF6\", \"gridcolor\": \"white\", \"gridwidth\": 2, \"linecolor\": \"white\", \"showbackground\": true, \"ticks\": \"\", \"zerolinecolor\": \"white\"}}, \"shapedefaults\": {\"line\": {\"color\": \"#2a3f5f\"}}, \"ternary\": {\"aaxis\": {\"gridcolor\": \"white\", \"linecolor\": \"white\", \"ticks\": \"\"}, \"baxis\": {\"gridcolor\": \"white\", \"linecolor\": \"white\", \"ticks\": \"\"}, \"bgcolor\": \"#E5ECF6\", \"caxis\": {\"gridcolor\": \"white\", \"linecolor\": \"white\", \"ticks\": \"\"}}, \"title\": {\"x\": 0.05}, \"xaxis\": {\"automargin\": true, \"gridcolor\": \"white\", \"linecolor\": \"white\", \"ticks\": \"\", \"title\": {\"standoff\": 15}, \"zerolinecolor\": \"white\", \"zerolinewidth\": 2}, \"yaxis\": {\"automargin\": true, \"gridcolor\": \"white\", \"linecolor\": \"white\", \"ticks\": \"\", \"title\": {\"standoff\": 15}, \"zerolinecolor\": \"white\", \"zerolinewidth\": 2}}}, \"xaxis\": {\"anchor\": \"y\", \"domain\": [0.0, 1.0], \"title\": {\"text\": \"sym\"}}, \"yaxis\": {\"anchor\": \"x\", \"domain\": [0.0, 1.0], \"title\": {\"text\": \"value\"}}},                        {\"responsive\": true}                    ).then(function(){\n",
       "                            \n",
       "var gd = document.getElementById('dce6d248-ca79-4b16-8165-34c870cdd47b');\n",
       "var x = new MutationObserver(function (mutations, observer) {{\n",
       "        var display = window.getComputedStyle(gd).display;\n",
       "        if (!display || display === 'none') {{\n",
       "            console.log([gd, 'removed!']);\n",
       "            Plotly.purge(gd);\n",
       "            observer.disconnect();\n",
       "        }}\n",
       "}});\n",
       "\n",
       "// Listen for the removal of the full notebook cells\n",
       "var notebookContainer = gd.closest('#notebook-container');\n",
       "if (notebookContainer) {{\n",
       "    x.observe(notebookContainer, {childList: true});\n",
       "}}\n",
       "\n",
       "// Listen for the clearing of the current output cell\n",
       "var outputEl = gd.closest('.output');\n",
       "if (outputEl) {{\n",
       "    x.observe(outputEl, {childList: true});\n",
       "}}\n",
       "\n",
       "                        })                };                });            </script>        </div>"
      ]
     },
     "metadata": {},
     "output_type": "display_data"
    }
   ],
   "source": [
    "from plotly import express as px\n",
    "fig = px.line(intersct_list_with_beta, x='sym', y=['beta','q75'])\n",
    "fig.show()"
   ]
  },
  {
   "cell_type": "markdown",
   "metadata": {},
   "source": [
    "TODO: Add benchmark beta and change_pct, Sp500 + nasdaq100 + russell 2000"
   ]
  },
  {
   "cell_type": "code",
   "execution_count": null,
   "metadata": {},
   "outputs": [],
   "source": []
  }
 ],
 "metadata": {
  "interpreter": {
   "hash": "916dbcbb3f70747c44a77c7bcd40155683ae19c65e1c03b4aa3499c5328201f1"
  },
  "kernelspec": {
   "display_name": "Python 3.8.10 64-bit",
   "language": "python",
   "name": "python3"
  },
  "language_info": {
   "codemirror_mode": {
    "name": "ipython",
    "version": 3
   },
   "file_extension": ".py",
   "mimetype": "text/x-python",
   "name": "python",
   "nbconvert_exporter": "python",
   "pygments_lexer": "ipython3",
   "version": "3.8.10"
  },
  "orig_nbformat": 4
 },
 "nbformat": 4,
 "nbformat_minor": 2
}

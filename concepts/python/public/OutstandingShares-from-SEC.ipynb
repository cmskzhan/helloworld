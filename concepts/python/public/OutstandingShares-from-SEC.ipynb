{
  "nbformat": 4,
  "nbformat_minor": 0,
  "metadata": {
    "language_info": {
      "codemirror_mode": {
        "name": "ipython",
        "version": 3
      },
      "file_extension": ".py",
      "mimetype": "text/x-python",
      "name": "python",
      "nbconvert_exporter": "python",
      "pygments_lexer": "ipython3",
      "version": "3.8.2-final"
    },
    "orig_nbformat": 2,
    "kernelspec": {
      "name": "Python 3.8.2 64-bit",
      "display_name": "Python 3.8.2 64-bit",
      "metadata": {
        "interpreter": {
          "hash": "31f2aee4e71d21fbe5cf8b01ff0e069b9275f58929596ceb00d14d90e3e16cd6"
        }
      }
    },
    "colab": {
      "name": "fast-backtesting-quant.ipynb",
      "provenance": []
    }
  },
  "cells": [
    {
      "cell_type": "markdown",
      "metadata": {
        "id": "pWLawDdrSKyv"
      },
      "source": [
        "Caveat: this script pulls outstanding shares from SEC 10-Q/10-K report. Any Corp event after latest filing date is not accounted\n",
        "\n",
        "### 0. find company name\n",
        "\n",
        "### 1. get cik number\n",
        "https://www.sec.gov/Archives/edgar/cik-lookup-data.txt\n",
        "\n",
        "### 2. get accession-number number\n",
        "https://www.sec.gov/cgi-bin/browse-edgar?action=getcompany&CIK=0000789019&type=10-Q&count=1&output=atom\n",
        "\n",
        "###3. parse value from \n",
        "https://www.sec.gov/cgi-bin/viewer?action=view&cik=789019&accession_number=0001564590-20-019706&xbrl_type=v\n",
        "\n"
      ]
    },
    {
      "cell_type": "code",
      "metadata": {
        "id": "IKF9wl_eCBpx"
      },
      "source": [
        "import requests\n",
        "import re\n",
        "from bs4 import BeautifulSoup\n",
        "from requests.packages.urllib3.exceptions import InsecureRequestWarning\n",
        "requests.packages.urllib3.disable_warnings(InsecureRequestWarning)\n",
        "companyName=['microsoft corp', 'oracle corp', 'NASDAQ OMX GROUP, INC.'] # this requires exact match of company name in https://www.sec.gov/Archives/edgar/cik-lookup-data.txt"
      ],
      "execution_count": 2,
      "outputs": []
    },
    {
      "cell_type": "code",
      "metadata": {
        "tags": [],
        "id": "kS3NXB_xB7uG"
      },
      "source": [
        "# download the lookup page and read it into an array\n",
        "all_companies_page = requests.get(\"https://www.sec.gov/Archives/edgar/cik-lookup-data.txt\", verify=False)\n",
        "all_companies_content = all_companies_page.content.decode(\"latin1\")\n",
        "all_companies_array = all_companies_content.split(\"\\n\")\n",
        "\n",
        "# remove records that can't be converted to dictionary (has : in companyname)\n",
        "l=len(all_companies_array)-1\n",
        "for i in reversed(all_companies_array):\n",
        "    semicol = i.count(\":\")\n",
        "    if semicol != 2:\n",
        "        # print(all_companies_array[l],\"has\",semicol,\"delimiters! Deleting...\")\n",
        "        del all_companies_array[l]\n",
        "    l=l-1\n",
        "\n",
        "all_companies_arra = [i[:-1] for i in all_companies_array] #remove trailing :\n",
        "all_companies_cik_dict=dict(item.split(\":\") for item in all_companies_arra)"
      ],
      "execution_count": 5,
      "outputs": []
    },
    {
      "cell_type": "code",
      "metadata": {
        "tags": [],
        "id": "-w-BsRXXB7uK"
      },
      "source": [
        "# 1. get cik number\n",
        "cik=[]\n",
        "for i in companyName:\n",
        "    CompanyName = i.upper()\n",
        "    if CompanyName in all_companies_cik_dict.keys():\n",
        "        cik.append(all_companies_cik_dict[CompanyName])\n",
        "    else:\n",
        "        print(i, \"not found in SEC company name. \")"
      ],
      "execution_count": 6,
      "outputs": []
    },
    {
      "cell_type": "code",
      "metadata": {
        "tags": [],
        "id": "_IbVxWE0B7uN",
        "outputId": "0f4edbda-83b2-4c84-ba89-df69ee03c097",
        "colab": {
          "base_uri": "https://localhost:8080/",
          "height": 34
        }
      },
      "source": [
        "print(cik)"
      ],
      "execution_count": 7,
      "outputs": [
        {
          "output_type": "stream",
          "text": [
            "['0000789019', '0001341439', '0001120193']\n"
          ],
          "name": "stdout"
        }
      ]
    },
    {
      "cell_type": "code",
      "metadata": {
        "id": "6rKu-vNyB7uQ",
        "outputId": "6cda87a9-3ffc-4d44-f11c-33ae9808dafc",
        "colab": {
          "base_uri": "https://localhost:8080/",
          "height": 34
        }
      },
      "source": [
        "# 2. get accession-number number\n",
        "def accession_no(cikno):\n",
        "    url10k = 'https://www.sec.gov/cgi-bin/browse-edgar?action=getcompany&CIK=' + cikno + '&type=10-K&count=1&output=atom'\n",
        "    url10q = 'https://www.sec.gov/cgi-bin/browse-edgar?action=getcompany&CIK=' + cikno + '&type=10-Q&count=1&output=atom'\n",
        "    xml10k=requests.get(url10k, verify=False)\n",
        "    xml10q=requests.get(url10q, verify=False)\n",
        "    an10k = []\n",
        "    an10q = []\n",
        "    for line in xml10k.text.splitlines():\n",
        "        if re.search('<summary', line):\n",
        "            for word in line.split():\n",
        "                an10k.append(word)\n",
        "    for line in xml10q.text.splitlines():\n",
        "        if re.search('<summary', line):\n",
        "            for word in line.split():\n",
        "                an10q.append(word)\n",
        "    if an10k[3] > an10q[3]:\n",
        "        # print(an10k[5],\"has date:\", an10k[3], \"later than\", an10q[5],\"has date:\", an10q[3])\n",
        "        return an10k[5]\n",
        "    else: \n",
        "        # print(an10q[5],\"has date:\", an10q[3], \"later than\", an10k[5],\"has date:\", an10k[3])\n",
        "        return an10q[5]\n",
        "    \n",
        "acno=[]\n",
        "for i in cik:\n",
        "    acno.append(accession_no(i).replace('-',''))\n",
        "print(acno)"
      ],
      "execution_count": 8,
      "outputs": [
        {
          "output_type": "stream",
          "text": [
            "['000156459020034944', '000156459020043448', '000112019320000015']\n"
          ],
          "name": "stdout"
        }
      ]
    },
    {
      "cell_type": "code",
      "metadata": {
        "id": "5VXloaiPUqVt",
        "outputId": "3146544b-990d-4af3-bd44-5aa7b3026435",
        "colab": {
          "base_uri": "https://localhost:8080/",
          "height": 67
        }
      },
      "source": [
        "# 3. parse value from \n",
        "# https://www.sec.gov/cgi-bin/viewer?action=view&cik=789019&accession_number=0001564590-20-019706&xbrl_type=v\n",
        "# actually should be \n",
        "# https://www.sec.gov/Archives/edgar/data/789019/000156459020019706/R1.htm\n",
        "\n",
        "for i in range(len(cik)):\n",
        "    url = 'https://www.sec.gov/Archives/edgar/data/' + cik[i] + '/' + acno[i] + '/R1.htm'\n",
        "    html = requests.get(url, verify=False)\n",
        "    soup = BeautifulSoup(html.content, 'lxml')\n",
        "    td = str(soup.find('td', {'class':\"nump\"}))\n",
        "    outstanding_shares = int(''.join(filter(str.isdigit, td))) # extract digits out of string\n",
        "    print(companyName[i], 'has', outstanding_shares, 'outstanding shares on the market')"
      ],
      "execution_count": 11,
      "outputs": [
        {
          "output_type": "stream",
          "text": [
            "microsoft corp has 7567652935 outstanding shares on the market\n",
            "oracle corp has 3007161000 outstanding shares on the market\n",
            "NASDAQ OMX GROUP, INC. has 164258414 outstanding shares on the market\n"
          ],
          "name": "stdout"
        }
      ]
    }
  ]
}